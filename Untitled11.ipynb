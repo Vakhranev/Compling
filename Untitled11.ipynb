{
  "nbformat": 4,
  "nbformat_minor": 0,
  "metadata": {
    "colab": {
      "name": "Untitled11.ipynb",
      "provenance": [],
      "machine_shape": "hm",
      "authorship_tag": "ABX9TyMnDOTLPSQui3Koz2q4wQ/I",
      "include_colab_link": true
    },
    "kernelspec": {
      "display_name": "Python 3",
      "name": "python3"
    },
    "language_info": {
      "name": "python"
    }
  },
  "cells": [
    {
      "cell_type": "markdown",
      "metadata": {
        "id": "view-in-github",
        "colab_type": "text"
      },
      "source": [
        "<a href=\"https://colab.research.google.com/github/Vakhranev/Compling/blob/master/Untitled11.ipynb\" target=\"_parent\"><img src=\"https://colab.research.google.com/assets/colab-badge.svg\" alt=\"Open In Colab\"/></a>"
      ]
    },
    {
      "cell_type": "code",
      "metadata": {
        "id": "6Fjsy7qUP5Dr"
      },
      "source": [
        "import pandas as pd"
      ],
      "execution_count": null,
      "outputs": []
    },
    {
      "cell_type": "code",
      "metadata": {
        "id": "V15AjyLhP-XA"
      },
      "source": [
        "import numpy as np"
      ],
      "execution_count": null,
      "outputs": []
    },
    {
      "cell_type": "code",
      "metadata": {
        "id": "flVb34q-qV-F"
      },
      "source": [
        "from google.colab import drive"
      ],
      "execution_count": null,
      "outputs": []
    },
    {
      "cell_type": "code",
      "metadata": {
        "colab": {
          "base_uri": "https://localhost:8080/"
        },
        "id": "JjvEs1oPqcfy",
        "outputId": "5c742169-4e68-47b3-8794-53d7f77e0271"
      },
      "source": [
        "drive.mount('/content/drive')"
      ],
      "execution_count": null,
      "outputs": [
        {
          "output_type": "stream",
          "text": [
            "Mounted at /content/drive\n"
          ],
          "name": "stdout"
        }
      ]
    },
    {
      "cell_type": "code",
      "metadata": {
        "colab": {
          "base_uri": "https://localhost:8080/"
        },
        "id": "TFCc5ghEzQVA",
        "outputId": "3c9167b5-4497-45b6-fb3b-32d5a5214ab3"
      },
      "source": [
        "!pip install pynput"
      ],
      "execution_count": null,
      "outputs": [
        {
          "output_type": "stream",
          "text": [
            "Collecting pynput\n",
            "\u001b[?25l  Downloading https://files.pythonhosted.org/packages/fd/f7/cb6e7edb8bb46bb38ac8c4f8065e6e3abaaef3436ecd7fe139ca5ba93c3c/pynput-1.7.3-py2.py3-none-any.whl (99kB)\n",
            "\u001b[K     |████████████████████████████████| 102kB 4.4MB/s \n",
            "\u001b[?25hCollecting evdev>=1.3; \"linux\" in sys_platform\n",
            "  Downloading https://files.pythonhosted.org/packages/4d/ec/bb298d36ed67abd94293253e3e52bdf16732153b887bf08b8d6f269eacef/evdev-1.4.0.tar.gz\n",
            "Requirement already satisfied: six in /usr/local/lib/python3.7/dist-packages (from pynput) (1.15.0)\n",
            "Collecting python-xlib>=0.17; \"linux\" in sys_platform\n",
            "\u001b[?25l  Downloading https://files.pythonhosted.org/packages/54/c3/45ecfd3e6a541bb4b383fc320a32762703cfe28763c131d71f4183ace819/python_xlib-0.30-py2.py3-none-any.whl (178kB)\n",
            "\u001b[K     |████████████████████████████████| 184kB 8.0MB/s \n",
            "\u001b[?25hBuilding wheels for collected packages: evdev\n",
            "  Building wheel for evdev (setup.py) ... \u001b[?25l\u001b[?25hdone\n",
            "  Created wheel for evdev: filename=evdev-1.4.0-cp37-cp37m-linux_x86_64.whl size=97417 sha256=11d79117b0742dec3dc63a9a5dba9b2b36e5a0a0c2c3d1338a46ca9536b751d8\n",
            "  Stored in directory: /root/.cache/pip/wheels/66/35/1d/38b2de1421ede48ebf0107faea56163d07059110b116a794a3\n",
            "Successfully built evdev\n",
            "Installing collected packages: evdev, python-xlib, pynput\n",
            "Successfully installed evdev-1.4.0 pynput-1.7.3 python-xlib-0.30\n"
          ],
          "name": "stdout"
        }
      ]
    },
    {
      "cell_type": "code",
      "metadata": {
        "colab": {
          "base_uri": "https://localhost:8080/"
        },
        "id": "3I4pj-0Hm_JL",
        "outputId": "fdb599e4-3e51-476e-c333-ca00b8acf4f0"
      },
      "source": [
        "!pip install patool"
      ],
      "execution_count": null,
      "outputs": [
        {
          "output_type": "stream",
          "text": [
            "Collecting patool\n",
            "\u001b[?25l  Downloading https://files.pythonhosted.org/packages/43/94/52243ddff508780dd2d8110964320ab4851134a55ab102285b46e740f76a/patool-1.12-py2.py3-none-any.whl (77kB)\n",
            "\r\u001b[K     |████▎                           | 10kB 17.2MB/s eta 0:00:01\r\u001b[K     |████████▌                       | 20kB 22.6MB/s eta 0:00:01\r\u001b[K     |████████████▊                   | 30kB 11.3MB/s eta 0:00:01\r\u001b[K     |█████████████████               | 40kB 8.8MB/s eta 0:00:01\r\u001b[K     |█████████████████████▏          | 51kB 5.5MB/s eta 0:00:01\r\u001b[K     |█████████████████████████▍      | 61kB 6.5MB/s eta 0:00:01\r\u001b[K     |█████████████████████████████▋  | 71kB 6.6MB/s eta 0:00:01\r\u001b[K     |████████████████████████████████| 81kB 4.4MB/s \n",
            "\u001b[?25hInstalling collected packages: patool\n",
            "Successfully installed patool-1.12\n"
          ],
          "name": "stdout"
        }
      ]
    },
    {
      "cell_type": "code",
      "metadata": {
        "id": "-kQuffDZnHau"
      },
      "source": [
        "import patoolib"
      ],
      "execution_count": null,
      "outputs": []
    },
    {
      "cell_type": "code",
      "metadata": {
        "id": "NpYKO8Hfq8Py"
      },
      "source": [
        "archive = '/content/drive/My Drive/lenta-ru-news.rar'"
      ],
      "execution_count": null,
      "outputs": []
    },
    {
      "cell_type": "code",
      "metadata": {
        "colab": {
          "base_uri": "https://localhost:8080/",
          "height": 103
        },
        "id": "cKGXHhrmnLEn",
        "outputId": "9cd42732-7594-428a-b90e-c90526ff9e36"
      },
      "source": [
        "patoolib.extract_archive(archive)"
      ],
      "execution_count": null,
      "outputs": [
        {
          "output_type": "stream",
          "text": [
            "patool: Extracting /content/drive/My Drive/lenta-ru-news.rar ...\n",
            "patool: running /usr/bin/unrar x -- \"/content/drive/My Drive/lenta-ru-news.rar\"\n",
            "patool:     with cwd='./Unpack_ji7t4s0d'\n",
            "patool: ... /content/drive/My Drive/lenta-ru-news.rar extracted to `lenta-ru-news.csv'.\n"
          ],
          "name": "stdout"
        },
        {
          "output_type": "execute_result",
          "data": {
            "application/vnd.google.colaboratory.intrinsic+json": {
              "type": "string"
            },
            "text/plain": [
              "'lenta-ru-news.csv'"
            ]
          },
          "metadata": {
            "tags": []
          },
          "execution_count": 9
        }
      ]
    },
    {
      "cell_type": "code",
      "metadata": {
        "id": "IQfMeLOuSjVS"
      },
      "source": [
        "corpora = pd.read_csv('lenta-ru-news.csv',engine='python', error_bad_lines=False)"
      ],
      "execution_count": null,
      "outputs": []
    },
    {
      "cell_type": "code",
      "metadata": {
        "colab": {
          "base_uri": "https://localhost:8080/",
          "height": 289
        },
        "id": "P4L8CwAyTlAl",
        "outputId": "6011f3f6-4601-4f36-c8a6-f955547fc749"
      },
      "source": [
        "corpora.head()"
      ],
      "execution_count": null,
      "outputs": [
        {
          "output_type": "execute_result",
          "data": {
            "text/html": [
              "<div>\n",
              "<style scoped>\n",
              "    .dataframe tbody tr th:only-of-type {\n",
              "        vertical-align: middle;\n",
              "    }\n",
              "\n",
              "    .dataframe tbody tr th {\n",
              "        vertical-align: top;\n",
              "    }\n",
              "\n",
              "    .dataframe thead th {\n",
              "        text-align: right;\n",
              "    }\n",
              "</style>\n",
              "<table border=\"1\" class=\"dataframe\">\n",
              "  <thead>\n",
              "    <tr style=\"text-align: right;\">\n",
              "      <th></th>\n",
              "      <th>url</th>\n",
              "      <th>title</th>\n",
              "      <th>text</th>\n",
              "      <th>topic</th>\n",
              "      <th>tags</th>\n",
              "      <th>date</th>\n",
              "    </tr>\n",
              "  </thead>\n",
              "  <tbody>\n",
              "    <tr>\n",
              "      <th>0</th>\n",
              "      <td>https://lenta.ru/news/1914/09/16/hungarnn/</td>\n",
              "      <td>1914. Русские войска вступили в пределы Венгрии</td>\n",
              "      <td>Бои у Сопоцкина и Друскеник закончились отступ...</td>\n",
              "      <td>Библиотека</td>\n",
              "      <td>Первая мировая</td>\n",
              "      <td>1914/09/16</td>\n",
              "    </tr>\n",
              "    <tr>\n",
              "      <th>1</th>\n",
              "      <td>https://lenta.ru/news/1914/09/16/lermontov/</td>\n",
              "      <td>1914. Празднование столетия М.Ю. Лермонтова от...</td>\n",
              "      <td>Министерство народного просвещения, в виду про...</td>\n",
              "      <td>Библиотека</td>\n",
              "      <td>Первая мировая</td>\n",
              "      <td>1914/09/16</td>\n",
              "    </tr>\n",
              "    <tr>\n",
              "      <th>2</th>\n",
              "      <td>https://lenta.ru/news/1914/09/17/nesteroff/</td>\n",
              "      <td>1914. Das ist Nesteroff!</td>\n",
              "      <td>Штабс-капитан П. Н. Нестеров на днях, увидев в...</td>\n",
              "      <td>Библиотека</td>\n",
              "      <td>Первая мировая</td>\n",
              "      <td>1914/09/17</td>\n",
              "    </tr>\n",
              "    <tr>\n",
              "      <th>3</th>\n",
              "      <td>https://lenta.ru/news/1914/09/17/bulldogn/</td>\n",
              "      <td>1914. Бульдог-гонец под Льежем</td>\n",
              "      <td>Фотограф-корреспондент Daily Mirror рассказыва...</td>\n",
              "      <td>Библиотека</td>\n",
              "      <td>Первая мировая</td>\n",
              "      <td>1914/09/17</td>\n",
              "    </tr>\n",
              "    <tr>\n",
              "      <th>4</th>\n",
              "      <td>https://lenta.ru/news/1914/09/18/zver/</td>\n",
              "      <td>1914. Под Люблином пойман швабский зверь</td>\n",
              "      <td>Лица, приехавшие в Варшаву из Люблина, передаю...</td>\n",
              "      <td>Библиотека</td>\n",
              "      <td>Первая мировая</td>\n",
              "      <td>1914/09/18</td>\n",
              "    </tr>\n",
              "  </tbody>\n",
              "</table>\n",
              "</div>"
            ],
            "text/plain": [
              "                                           url  ...        date\n",
              "0   https://lenta.ru/news/1914/09/16/hungarnn/  ...  1914/09/16\n",
              "1  https://lenta.ru/news/1914/09/16/lermontov/  ...  1914/09/16\n",
              "2  https://lenta.ru/news/1914/09/17/nesteroff/  ...  1914/09/17\n",
              "3   https://lenta.ru/news/1914/09/17/bulldogn/  ...  1914/09/17\n",
              "4       https://lenta.ru/news/1914/09/18/zver/  ...  1914/09/18\n",
              "\n",
              "[5 rows x 6 columns]"
            ]
          },
          "metadata": {
            "tags": []
          },
          "execution_count": 11
        }
      ]
    },
    {
      "cell_type": "code",
      "metadata": {
        "colab": {
          "base_uri": "https://localhost:8080/"
        },
        "id": "1DQurJOoTv5H",
        "outputId": "ebe00c53-727c-49c8-e768-2d2be9ae7f8e"
      },
      "source": [
        "corpora['text'].head()"
      ],
      "execution_count": null,
      "outputs": [
        {
          "output_type": "execute_result",
          "data": {
            "text/plain": [
              "0    Бои у Сопоцкина и Друскеник закончились отступ...\n",
              "1    Министерство народного просвещения, в виду про...\n",
              "2    Штабс-капитан П. Н. Нестеров на днях, увидев в...\n",
              "3    Фотограф-корреспондент Daily Mirror рассказыва...\n",
              "4    Лица, приехавшие в Варшаву из Люблина, передаю...\n",
              "Name: text, dtype: object"
            ]
          },
          "metadata": {
            "tags": []
          },
          "execution_count": 12
        }
      ]
    },
    {
      "cell_type": "code",
      "metadata": {
        "id": "GVcrViOPWcU9"
      },
      "source": [
        "import re"
      ],
      "execution_count": 9,
      "outputs": []
    },
    {
      "cell_type": "code",
      "metadata": {
        "colab": {
          "base_uri": "https://localhost:8080/"
        },
        "id": "zhTN8bdSUk29",
        "outputId": "88985f61-064e-4789-d46e-4468e459d97e"
      },
      "source": [
        "new_corpora = []\n",
        "for text in corpora['text']:\n",
        "  split_regex = re.compile(r'[.|!|?|…]')\n",
        "  sentences = filter(lambda t: t, [t.strip() for t in split_regex.split(str(text))])\n",
        "  for sentence in sentences:\n",
        "    new_corpora.append(sentence)\n",
        "print(len(new_corpora))"
      ],
      "execution_count": null,
      "outputs": [
        {
          "output_type": "stream",
          "text": [
            "9233828\n"
          ],
          "name": "stdout"
        }
      ]
    },
    {
      "cell_type": "code",
      "metadata": {
        "colab": {
          "base_uri": "https://localhost:8080/"
        },
        "id": "qUQbnlBEYEuB",
        "outputId": "75260817-bbe9-424f-d51e-ee12b94be080"
      },
      "source": [
        "new_corpora[0:10]"
      ],
      "execution_count": null,
      "outputs": [
        {
          "output_type": "execute_result",
          "data": {
            "text/plain": [
              "['Бои у Сопоцкина и Друскеник закончились отступлением германцев',\n",
              " 'Неприятель, приблизившись с севера к Осовцу начал артиллерийскую борьбу с крепостью',\n",
              " 'В артиллерийском бою принимают участие тяжелые калибры',\n",
              " 'С раннего утра 14 сентября огонь достиг значительного напряжения',\n",
              " 'Попытка германской пехоты пробиться ближе к крепости отражена',\n",
              " 'В Галиции мы заняли Дембицу',\n",
              " 'Большая колонна, отступавшая по шоссе от Перемышля к Саноку, обстреливалась с высот нашей батареей и бежала, бросив парки, обоз и автомобили',\n",
              " 'Вылазки гарнизона Перемышля остаются безуспешными',\n",
              " 'При продолжающемся отступлении австрийцев обнаруживается полное перемешивание их частей, захватываются новые партии пленных, орудия и прочая материальная часть',\n",
              " 'На перевале Ужок мы разбили неприятельский отряд, взяли его артиллерию и много пленных и, продолжая преследовать, вступили в пределы Венгрии']"
            ]
          },
          "metadata": {
            "tags": []
          },
          "execution_count": 15
        }
      ]
    },
    {
      "cell_type": "code",
      "metadata": {
        "colab": {
          "base_uri": "https://localhost:8080/"
        },
        "id": "bZAeU9qnqZOC",
        "outputId": "a2b83682-e09b-4632-ef24-a0ccdcf491ec"
      },
      "source": [
        "!pip install ufal.udpipe"
      ],
      "execution_count": null,
      "outputs": [
        {
          "output_type": "stream",
          "text": [
            "Collecting ufal.udpipe\n",
            "\u001b[?25l  Downloading https://files.pythonhosted.org/packages/e5/72/2b8b9dc7c80017c790bb3308bbad34b57accfed2ac2f1f4ab252ff4e9cb2/ufal.udpipe-1.2.0.3.tar.gz (304kB)\n",
            "\r\u001b[K     |█                               | 10kB 14.3MB/s eta 0:00:01\r\u001b[K     |██▏                             | 20kB 14.5MB/s eta 0:00:01\r\u001b[K     |███▎                            | 30kB 10.2MB/s eta 0:00:01\r\u001b[K     |████▎                           | 40kB 8.8MB/s eta 0:00:01\r\u001b[K     |█████▍                          | 51kB 5.6MB/s eta 0:00:01\r\u001b[K     |██████▌                         | 61kB 6.1MB/s eta 0:00:01\r\u001b[K     |███████▌                        | 71kB 6.2MB/s eta 0:00:01\r\u001b[K     |████████▋                       | 81kB 6.9MB/s eta 0:00:01\r\u001b[K     |█████████▊                      | 92kB 6.3MB/s eta 0:00:01\r\u001b[K     |██████████▊                     | 102kB 5.4MB/s eta 0:00:01\r\u001b[K     |███████████▉                    | 112kB 5.4MB/s eta 0:00:01\r\u001b[K     |█████████████                   | 122kB 5.4MB/s eta 0:00:01\r\u001b[K     |██████████████                  | 133kB 5.4MB/s eta 0:00:01\r\u001b[K     |███████████████                 | 143kB 5.4MB/s eta 0:00:01\r\u001b[K     |████████████████▏               | 153kB 5.4MB/s eta 0:00:01\r\u001b[K     |█████████████████▎              | 163kB 5.4MB/s eta 0:00:01\r\u001b[K     |██████████████████▎             | 174kB 5.4MB/s eta 0:00:01\r\u001b[K     |███████████████████▍            | 184kB 5.4MB/s eta 0:00:01\r\u001b[K     |████████████████████▌           | 194kB 5.4MB/s eta 0:00:01\r\u001b[K     |█████████████████████▌          | 204kB 5.4MB/s eta 0:00:01\r\u001b[K     |██████████████████████▋         | 215kB 5.4MB/s eta 0:00:01\r\u001b[K     |███████████████████████▊        | 225kB 5.4MB/s eta 0:00:01\r\u001b[K     |████████████████████████▉       | 235kB 5.4MB/s eta 0:00:01\r\u001b[K     |█████████████████████████▉      | 245kB 5.4MB/s eta 0:00:01\r\u001b[K     |███████████████████████████     | 256kB 5.4MB/s eta 0:00:01\r\u001b[K     |████████████████████████████    | 266kB 5.4MB/s eta 0:00:01\r\u001b[K     |█████████████████████████████   | 276kB 5.4MB/s eta 0:00:01\r\u001b[K     |██████████████████████████████▏ | 286kB 5.4MB/s eta 0:00:01\r\u001b[K     |███████████████████████████████▎| 296kB 5.4MB/s eta 0:00:01\r\u001b[K     |████████████████████████████████| 307kB 5.4MB/s \n",
            "\u001b[?25hBuilding wheels for collected packages: ufal.udpipe\n",
            "  Building wheel for ufal.udpipe (setup.py) ... \u001b[?25l\u001b[?25hdone\n",
            "  Created wheel for ufal.udpipe: filename=ufal.udpipe-1.2.0.3-cp37-cp37m-linux_x86_64.whl size=5626592 sha256=a0300cbf720059dc2d357626a385da73c9b2abf4f4db86332c9707fa55989443\n",
            "  Stored in directory: /root/.cache/pip/wheels/0c/9d/db/6d3404c33da5b7adb6c6972853efb6a27649d3ba15f7e9bebb\n",
            "Successfully built ufal.udpipe\n",
            "Installing collected packages: ufal.udpipe\n",
            "Successfully installed ufal.udpipe-1.2.0.3\n"
          ],
          "name": "stdout"
        }
      ]
    },
    {
      "cell_type": "code",
      "metadata": {
        "colab": {
          "base_uri": "https://localhost:8080/"
        },
        "id": "x70ogR4Qxn7K",
        "outputId": "9e455223-55a5-4621-828e-f71c5565dce2"
      },
      "source": [
        "!pip install wget"
      ],
      "execution_count": null,
      "outputs": [
        {
          "output_type": "stream",
          "text": [
            "Collecting wget\n",
            "  Downloading https://files.pythonhosted.org/packages/47/6a/62e288da7bcda82b935ff0c6cfe542970f04e29c756b0e147251b2fb251f/wget-3.2.zip\n",
            "Building wheels for collected packages: wget\n",
            "  Building wheel for wget (setup.py) ... \u001b[?25l\u001b[?25hdone\n",
            "  Created wheel for wget: filename=wget-3.2-cp37-none-any.whl size=9681 sha256=42cd3ccdf51b5f9f75ad3f307f35f08ad26da582a06a120329a7bb35e46fcdf5\n",
            "  Stored in directory: /root/.cache/pip/wheels/40/15/30/7d8f7cea2902b4db79e3fea550d7d7b85ecb27ef992b618f3f\n",
            "Successfully built wget\n",
            "Installing collected packages: wget\n",
            "Successfully installed wget-3.2\n"
          ],
          "name": "stdout"
        }
      ]
    },
    {
      "cell_type": "code",
      "metadata": {
        "id": "Gh4aDZpixwka"
      },
      "source": [
        "import wget\n",
        "import sys\n",
        "udpipe_url = 'https://rusvectores.org/static/models/udpipe_syntagrus.model'\n",
        "modelfile = wget.download(udpipe_url)"
      ],
      "execution_count": null,
      "outputs": []
    },
    {
      "cell_type": "code",
      "metadata": {
        "id": "UYJ2SPs5yQ_N"
      },
      "source": [
        "def process(pipeline, text='Строка', keep_pos=True, keep_punct=False):\n",
        "   entities = {'PROPN'}\n",
        "   named = False  # переменная для запоминания того, что нам встретилось имя собственное\n",
        "   memory = []\n",
        "   mem_case = None\n",
        "   mem_number = None\n",
        "   tagged_propn = []\n",
        "# обрабатываем текст, получаем результат в формате conllu:\n",
        "   processed = pipeline.process(text)\n",
        "# пропускаем строки со служебной информацией:\n",
        "   content = [l for l in processed.split('\\n') if not l.startswith('#')]\n",
        "# извлекаем из обработанного текста леммы, тэги и морфологические характеристики\n",
        "   tagged = [w.split('\\t') for w in content if w]\n",
        "   for t in tagged:\n",
        "       if len(t) != 10: # если список короткий — строчка не содержит разбора, пропускаем\n",
        "           continue\n",
        "       (word_id,token,lemma,pos,xpos,feats,head,deprel,deps,misc) = t \n",
        "       if not lemma or not token: # если слово пустое — пропускаем\n",
        "           continue\n",
        "       if pos in entities: # здесь отдельно обрабатываем имена собственные — они требуют особого обращения\n",
        "           if '|' not in feats:\n",
        "               tagged_propn.append('%s_%s_%s_%s_%s_%s' % (word_id, token, lemma, pos, head, deprel))\n",
        "               continue\n",
        "           morph = {el.split('=')[0]: el.split('=')[1] for el in feats.split('|')}\n",
        "           if 'Case' not in morph or 'Number' not in morph:\n",
        "               tagged_propn.append('%s_%s_%s_%s_%s_%s' % (word_id, token, lemma, pos, head, deprel))\n",
        "               continue\n",
        "           if not named:\n",
        "               named = True\n",
        "               mem_case = morph['Case']\n",
        "               mem_number = morph['Number']\n",
        "           if morph['Case'] == mem_case and morph['Number'] == mem_number:\n",
        "               memory.append(lemma)\n",
        "               if 'SpacesAfter=\\\\n' in misc or 'SpacesAfter=\\s\\\\n' in misc:\n",
        "                   named = False\n",
        "                   past_lemma = '::'.join(memory)\n",
        "                   memory = []\n",
        "                   tagged_propn.append(past_lemma + '_PROPN ')\n",
        "           else:\n",
        "               named = False\n",
        "               past_lemma = '::'.join(memory)\n",
        "               memory = []\n",
        "               tagged_propn.append(past_lemma + '_PROPN ')\n",
        "               tagged_propn.append('%s_%s_%s_%s_%s_%s' % (word_id, token, lemma, pos, head, deprel))\n",
        "       else:\n",
        "           if not named:\n",
        "               tagged_propn.append('%s_%s_%s_%s_%s_%s' % (word_id, token, lemma, pos, head, deprel))\n",
        "           else:\n",
        "               named = False\n",
        "               past_lemma = '::'.join(memory)\n",
        "               memory = []\n",
        "               tagged_propn.append(past_lemma + '_PROPN ')\n",
        "               tagged_propn.append('%s_%s_%s_%s_%s_%s' % (word_id, token, lemma, pos, head, deprel))\n",
        "   if not keep_punct: # обрабатываем случай, когда пользователь попросил не сохранять пунктуацию (по умолчанию она сохраняется)\n",
        "       tagged_propn = [word for word in tagged_propn if word.split('_')[1] != 'PUNCT']\n",
        "   if not keep_pos:\n",
        "       tagged_propn = [word.split('_')[0] for word in tagged_propn]\n",
        "   return tagged_propn"
      ],
      "execution_count": null,
      "outputs": []
    },
    {
      "cell_type": "code",
      "metadata": {
        "id": "rhBa9_Xozs02",
        "colab": {
          "base_uri": "https://localhost:8080/",
          "height": 350
        },
        "outputId": "7b9797e5-d8c8-46fc-e438-b36dcd248cc8"
      },
      "source": [
        "from ufal.udpipe import Model, Pipeline\n",
        "import os\n",
        "import re\n",
        "def tag_ud(text='Текст нужно передать функции в виде строки!', modelfile='udpipe_syntagrus.model'):\n",
        "   udpipe_model_url = 'https://rusvectores.org/static/models/udpipe_syntagrus.model'\n",
        "   udpipe_filename = udpipe_model_url.split('/')[-1]\n",
        "   if not os.path.isfile(modelfile):\n",
        "       print('UDPipe model not found. Downloading...', file=sys.stderr)\n",
        "       wget.download(udpipe_model_url)\n",
        "   #print('\\nLoading the model...', file=sys.stderr)\n",
        "   model = Model.load(modelfile)\n",
        "   process_pipeline = Pipeline(model, 'tokenize', Pipeline.DEFAULT, Pipeline.DEFAULT, 'conllu')\n",
        "   #print('Processing input...', file=sys.stderr)\n",
        "   lines = text.split('\\n')\n",
        "   tagged = []\n",
        "   for line in lines:\n",
        "# line = unify_sym(line.strip()) # здесь могла бы быть ваша функция очистки текста\n",
        "       output = process(process_pipeline, text=line)\n",
        "       tagged_line = ' '.join(output)\n",
        "       tagged.append(tagged_line)\n",
        "   return '\\n'.join(tagged)\n",
        "text = new_corpora[38667:40000]\n",
        "for sentence in text:\n",
        "   processed_text = tag_ud(text=sentence, modelfile=modelfile)\n",
        "   #print(processed_text[:350])\n",
        "   with open('my_text.txt', 'a', encoding='utf-8') as out:\n",
        "       out.write(processed_text + '\\n')"
      ],
      "execution_count": null,
      "outputs": [
        {
          "output_type": "error",
          "ename": "KeyboardInterrupt",
          "evalue": "ignored",
          "traceback": [
            "\u001b[0;31m---------------------------------------------------------------------------\u001b[0m",
            "\u001b[0;31mKeyboardInterrupt\u001b[0m                         Traceback (most recent call last)",
            "\u001b[0;32m<ipython-input-22-25222b1f6744>\u001b[0m in \u001b[0;36m<module>\u001b[0;34m()\u001b[0m\n\u001b[1;32m     22\u001b[0m \u001b[0mtext\u001b[0m \u001b[0;34m=\u001b[0m \u001b[0mnew_corpora\u001b[0m\u001b[0;34m[\u001b[0m\u001b[0;36m33528\u001b[0m\u001b[0;34m:\u001b[0m\u001b[0;36m40000\u001b[0m\u001b[0;34m]\u001b[0m\u001b[0;34m\u001b[0m\u001b[0;34m\u001b[0m\u001b[0m\n\u001b[1;32m     23\u001b[0m \u001b[0;32mfor\u001b[0m \u001b[0msentence\u001b[0m \u001b[0;32min\u001b[0m \u001b[0mtext\u001b[0m\u001b[0;34m:\u001b[0m\u001b[0;34m\u001b[0m\u001b[0;34m\u001b[0m\u001b[0m\n\u001b[0;32m---> 24\u001b[0;31m    \u001b[0mprocessed_text\u001b[0m \u001b[0;34m=\u001b[0m \u001b[0mtag_ud\u001b[0m\u001b[0;34m(\u001b[0m\u001b[0mtext\u001b[0m\u001b[0;34m=\u001b[0m\u001b[0msentence\u001b[0m\u001b[0;34m,\u001b[0m \u001b[0mmodelfile\u001b[0m\u001b[0;34m=\u001b[0m\u001b[0mmodelfile\u001b[0m\u001b[0;34m)\u001b[0m\u001b[0;34m\u001b[0m\u001b[0;34m\u001b[0m\u001b[0m\n\u001b[0m\u001b[1;32m     25\u001b[0m    \u001b[0;31m#print(processed_text[:350])\u001b[0m\u001b[0;34m\u001b[0m\u001b[0;34m\u001b[0m\u001b[0;34m\u001b[0m\u001b[0m\n\u001b[1;32m     26\u001b[0m    \u001b[0;32mwith\u001b[0m \u001b[0mopen\u001b[0m\u001b[0;34m(\u001b[0m\u001b[0;34m'my_text.txt'\u001b[0m\u001b[0;34m,\u001b[0m \u001b[0;34m'a'\u001b[0m\u001b[0;34m,\u001b[0m \u001b[0mencoding\u001b[0m\u001b[0;34m=\u001b[0m\u001b[0;34m'utf-8'\u001b[0m\u001b[0;34m)\u001b[0m \u001b[0;32mas\u001b[0m \u001b[0mout\u001b[0m\u001b[0;34m:\u001b[0m\u001b[0;34m\u001b[0m\u001b[0;34m\u001b[0m\u001b[0m\n",
            "\u001b[0;32m<ipython-input-22-25222b1f6744>\u001b[0m in \u001b[0;36mtag_ud\u001b[0;34m(text, modelfile)\u001b[0m\n\u001b[1;32m      9\u001b[0m        \u001b[0mwget\u001b[0m\u001b[0;34m.\u001b[0m\u001b[0mdownload\u001b[0m\u001b[0;34m(\u001b[0m\u001b[0mudpipe_model_url\u001b[0m\u001b[0;34m)\u001b[0m\u001b[0;34m\u001b[0m\u001b[0;34m\u001b[0m\u001b[0m\n\u001b[1;32m     10\u001b[0m    \u001b[0;31m#print('\\nLoading the model...', file=sys.stderr)\u001b[0m\u001b[0;34m\u001b[0m\u001b[0;34m\u001b[0m\u001b[0;34m\u001b[0m\u001b[0m\n\u001b[0;32m---> 11\u001b[0;31m    \u001b[0mmodel\u001b[0m \u001b[0;34m=\u001b[0m \u001b[0mModel\u001b[0m\u001b[0;34m.\u001b[0m\u001b[0mload\u001b[0m\u001b[0;34m(\u001b[0m\u001b[0mmodelfile\u001b[0m\u001b[0;34m)\u001b[0m\u001b[0;34m\u001b[0m\u001b[0;34m\u001b[0m\u001b[0m\n\u001b[0m\u001b[1;32m     12\u001b[0m    \u001b[0mprocess_pipeline\u001b[0m \u001b[0;34m=\u001b[0m \u001b[0mPipeline\u001b[0m\u001b[0;34m(\u001b[0m\u001b[0mmodel\u001b[0m\u001b[0;34m,\u001b[0m \u001b[0;34m'tokenize'\u001b[0m\u001b[0;34m,\u001b[0m \u001b[0mPipeline\u001b[0m\u001b[0;34m.\u001b[0m\u001b[0mDEFAULT\u001b[0m\u001b[0;34m,\u001b[0m \u001b[0mPipeline\u001b[0m\u001b[0;34m.\u001b[0m\u001b[0mDEFAULT\u001b[0m\u001b[0;34m,\u001b[0m \u001b[0;34m'conllu'\u001b[0m\u001b[0;34m)\u001b[0m\u001b[0;34m\u001b[0m\u001b[0;34m\u001b[0m\u001b[0m\n\u001b[1;32m     13\u001b[0m    \u001b[0;31m#print('Processing input...', file=sys.stderr)\u001b[0m\u001b[0;34m\u001b[0m\u001b[0;34m\u001b[0m\u001b[0;34m\u001b[0m\u001b[0m\n",
            "\u001b[0;31mKeyboardInterrupt\u001b[0m: "
          ]
        }
      ]
    },
    {
      "cell_type": "code",
      "metadata": {
        "id": "NGbS5w8jaE_r"
      },
      "source": [
        "import nltk"
      ],
      "execution_count": 1,
      "outputs": []
    },
    {
      "cell_type": "code",
      "metadata": {
        "id": "di7f3w9ZatJw",
        "colab": {
          "base_uri": "https://localhost:8080/"
        },
        "outputId": "fdd5a709-97fe-40d7-ed24-7730900f7803"
      },
      "source": [
        "nltk.download('punkt')"
      ],
      "execution_count": 2,
      "outputs": [
        {
          "output_type": "stream",
          "text": [
            "[nltk_data] Downloading package punkt to /root/nltk_data...\n",
            "[nltk_data]   Unzipping tokenizers/punkt.zip.\n"
          ],
          "name": "stdout"
        },
        {
          "output_type": "execute_result",
          "data": {
            "text/plain": [
              "True"
            ]
          },
          "metadata": {
            "tags": []
          },
          "execution_count": 2
        }
      ]
    },
    {
      "cell_type": "code",
      "metadata": {
        "id": "EQO9mUQhkSre"
      },
      "source": [
        " new_corpora = open(\"my_text (9).txt\", encoding=\"UTF-8\", errors='ignore')"
      ],
      "execution_count": 399,
      "outputs": []
    },
    {
      "cell_type": "code",
      "metadata": {
        "id": "szLXqVvzaIg7"
      },
      "source": [
        "tokens=[]\n",
        "for sentence in new_corpora:\n",
        "  tokens.append(nltk.word_tokenize(sentence))"
      ],
      "execution_count": 400,
      "outputs": []
    },
    {
      "cell_type": "code",
      "metadata": {
        "id": "d0I63eV-eAeS",
        "colab": {
          "base_uri": "https://localhost:8080/"
        },
        "outputId": "af5d1ab8-4201-45e4-cb56-0d6a282a89f1"
      },
      "source": [
        "tokens[0:10]"
      ],
      "execution_count": 401,
      "outputs": [
        {
          "output_type": "execute_result",
          "data": {
            "text/plain": [
              "[['1_Бои_бой_NOUN_6_nsubj',\n",
              "  '2_у_в_ADP_3_case',\n",
              "  'Сопоцкин_PROPN',\n",
              "  '4_и_и_CCONJ_5_cc',\n",
              "  'Друскеник_PROPN',\n",
              "  '6_закончились_заканчиваться_VERB_0_root',\n",
              "  '7_отступлением_отступление_NOUN_6_obl',\n",
              "  '8_германцев_германец_NOUN_7_nmod'],\n",
              " ['1_Неприятель_неприятель_NOUN_8_nsubj',\n",
              "  '2_',\n",
              "  ',',\n",
              "  '_',\n",
              "  ',',\n",
              "  '_PUNCT_1_punct',\n",
              "  '3_приблизившись_приближаться_VERB_8_advcl',\n",
              "  '4_с_с_ADP_5_case',\n",
              "  '5_севера_север_NOUN_3_obl',\n",
              "  '6_к_к_ADP_7_case',\n",
              "  'Осовц_PROPN',\n",
              "  '8_начал_начинать_VERB_0_root',\n",
              "  '9_артиллерийскую_артиллерийский_ADJ_10_amod',\n",
              "  '10_борьбу_борьба_NOUN_8_obj',\n",
              "  '11_с_с_ADP_12_case',\n",
              "  '12_крепостью_крепость_NOUN_10_nmod'],\n",
              " ['1_В_в_ADP_3_case',\n",
              "  '2_артиллерийском_артиллерийский_ADJ_3_amod',\n",
              "  '3_бою_бой_NOUN_4_obl',\n",
              "  '4_принимают_принимать_VERB_0_root',\n",
              "  '5_участие_участие_NOUN_4_obj',\n",
              "  '6_тяжелые_тяжелый_ADJ_7_amod',\n",
              "  '7_калибры_калибр_NOUN_5_obj'],\n",
              " ['1_С_с_ADP_3_case',\n",
              "  '2_раннего_ранний_ADJ_3_amod',\n",
              "  '3_утра_утро_NOUN_7_obl',\n",
              "  '4_14_14_NUM_7_nummod',\n",
              "  '5_сентября_сентябрь_NOUN_4_flat',\n",
              "  '6_огонь_огонь_NOUN_7_nsubj',\n",
              "  '7_достиг_достигать_VERB_0_root',\n",
              "  '8_значительного_значительный_ADJ_9_amod',\n",
              "  '9_напряжения_напряжение_NOUN_7_obl'],\n",
              " ['попытка_PROPN',\n",
              "  '2_германской_германский_ADJ_3_amod',\n",
              "  '3_пехоты_пехота_NOUN_1_nmod',\n",
              "  '4_пробиться_пробиваться_VERB_1_obl',\n",
              "  '5_ближе_близко_ADJ_4_obl',\n",
              "  '6_к_к_ADP_7_case',\n",
              "  '7_крепости_крепость_NOUN_5_obl',\n",
              "  '8_отражена_отражать_VERB_0_root'],\n",
              " ['1_В_в_ADP_2_case',\n",
              "  'галиция_PROPN',\n",
              "  '3_мы_мы_PRON_4_nsubj',\n",
              "  '4_заняли_занимать_VERB_0_root',\n",
              "  'Дембиц_PROPN'],\n",
              " ['1_Большая_большой_ADJ_2_amod',\n",
              "  '2_колонна_колонна_NOUN_12_nsubj',\n",
              "  '3_',\n",
              "  ',',\n",
              "  '_',\n",
              "  ',',\n",
              "  '_PUNCT_2_punct',\n",
              "  '4_отступавшая_отступать_VERB_2_acl',\n",
              "  '5_по_по_ADP_6_case',\n",
              "  '6_шоссе_шоссе_NOUN_4_obl',\n",
              "  '7_от_от_ADP_8_case',\n",
              "  'перемышль_PROPN',\n",
              "  '9_к_к_ADP_10_case',\n",
              "  'Санок_PROPN',\n",
              "  '11_',\n",
              "  ',',\n",
              "  '_',\n",
              "  ',',\n",
              "  '_PUNCT_10_punct',\n",
              "  '12_обстреливалась_обстреливаться_VERB_0_root',\n",
              "  '13_с_с_ADP_14_case',\n",
              "  '14_высот_высота_NOUN_12_obl',\n",
              "  '15_нашей_наш_DET_16_det',\n",
              "  '16_батареей_батарея_NOUN_14_nmod',\n",
              "  '17_и_и_CCONJ_18_cc',\n",
              "  '18_бежала_бежать_VERB_12_conj',\n",
              "  '19_',\n",
              "  ',',\n",
              "  '_',\n",
              "  ',',\n",
              "  '_PUNCT_18_punct',\n",
              "  '20_бросив_бросить_VERB_18_advcl',\n",
              "  '21_парки_парк_NOUN_20_obj',\n",
              "  '22_',\n",
              "  ',',\n",
              "  '_',\n",
              "  ',',\n",
              "  '_PUNCT_21_punct',\n",
              "  '23_обоз_обоз_NOUN_21_conj',\n",
              "  '24_и_и_CCONJ_25_cc',\n",
              "  '25_автомобили_автомобиль_NOUN_21_conj'],\n",
              " ['1_Вылазки_вылазка_NOUN_4_nsubj',\n",
              "  '2_гарнизона_гарнизон_NOUN_1_nmod',\n",
              "  'перемышль_PROPN',\n",
              "  '4_остаются_оставаться_VERB_0_root',\n",
              "  '5_безуспешными_безуспешный_ADJ_4_obl'],\n",
              " ['1_При_при_ADP_3_case',\n",
              "  '2_продолжающемся_продолжающться_VERB_3_amod',\n",
              "  '3_отступлении_отступление_NOUN_5_obl',\n",
              "  '4_австрийцев_австриец_NOUN_3_nmod',\n",
              "  '5_обнаруживается_обнаруживать_VERB_0_root',\n",
              "  '6_полное_полный_ADJ_7_amod',\n",
              "  '7_перемешивание_перемешивание_NOUN_5_nsubj',\n",
              "  '8_их_они_PRON_9_nmod',\n",
              "  '9_частей_часть_NOUN_7_nmod',\n",
              "  '10_',\n",
              "  ',',\n",
              "  '_',\n",
              "  ',',\n",
              "  '_PUNCT_9_punct',\n",
              "  '11_захватываются_захватывать_VERB_5_conj',\n",
              "  '12_новые_новый_ADJ_13_amod',\n",
              "  '13_партии_партия_NOUN_11_nsubj',\n",
              "  ':',\n",
              "  'pass',\n",
              "  '14_пленных_пленный_NOUN_13_nmod',\n",
              "  '15_',\n",
              "  ',',\n",
              "  '_',\n",
              "  ',',\n",
              "  '_PUNCT_14_punct',\n",
              "  '16_орудия_орудие_NOUN_13_conj',\n",
              "  '17_и_и_CCONJ_20_cc',\n",
              "  '18_прочая_прочий_ADJ_20_amod',\n",
              "  '19_материальная_материальный_ADJ_20_amod',\n",
              "  '20_часть_часть_NOUN_13_conj'],\n",
              " ['1_На_на_ADP_2_case',\n",
              "  '2_перевале_перевал_NOUN_5_obl',\n",
              "  'Ужок_PROPN',\n",
              "  '4_мы_мы_PRON_5_nsubj',\n",
              "  '5_разбили_разбивать_VERB_0_root',\n",
              "  '6_неприятельский_неприятельский_ADJ_7_amod',\n",
              "  '7_отряд_отряд_NOUN_5_obj',\n",
              "  '8_',\n",
              "  ',',\n",
              "  '_',\n",
              "  ',',\n",
              "  '_PUNCT_7_punct',\n",
              "  '9_взяли_брать_VERB_5_conj',\n",
              "  '10_его_он_PRON_11_nmod',\n",
              "  '11_артиллерию_артиллерия_NOUN_9_obj',\n",
              "  '12_и_и_CCONJ_13_cc',\n",
              "  '13_много_много_ADV_5_conj',\n",
              "  '14_пленных_пленный_ADJ_13_obl',\n",
              "  '15_и_и_CCONJ_20_cc',\n",
              "  '16_',\n",
              "  ',',\n",
              "  '_',\n",
              "  ',',\n",
              "  '_PUNCT_15_punct',\n",
              "  '17_продолжая_продолжать_VERB_20_advcl',\n",
              "  '18_преследовать_преследовать_VERB_17_xcomp',\n",
              "  '19_',\n",
              "  ',',\n",
              "  '_',\n",
              "  ',',\n",
              "  '_PUNCT_18_punct',\n",
              "  '20_вступили_вступать_VERB_13_conj',\n",
              "  '21_в_в_ADP_22_case',\n",
              "  '22_пределы_предел_NOUN_20_obl',\n",
              "  'венгрия_PROPN']]"
            ]
          },
          "metadata": {
            "tags": []
          },
          "execution_count": 401
        }
      ]
    },
    {
      "cell_type": "code",
      "metadata": {
        "id": "-ml532Zfg9I1",
        "colab": {
          "base_uri": "https://localhost:8080/"
        },
        "outputId": "d98bc1a8-a3a0-44bf-e69a-3ef44cb59d2c"
      },
      "source": [
        "law_corpora=[]\n",
        "for sentence in tokens:\n",
        "  for token in sentence:\n",
        "    if \"_судья_\" in token:\n",
        "      if sentence not in law_corpora:\n",
        "        law_corpora.append(sentence)\n",
        "    elif \"_адвокат_\" in token:\n",
        "      if sentence not in law_corpora:\n",
        "        law_corpora.append(sentence)\n",
        "    elif \"_прокурор_\" in token:\n",
        "      if sentence not in law_corpora:\n",
        "        law_corpora.append(sentence)\n",
        "    else:\n",
        "      pass\n",
        "print(len(law_corpora))"
      ],
      "execution_count": 402,
      "outputs": [
        {
          "output_type": "stream",
          "text": [
            "2602\n"
          ],
          "name": "stdout"
        }
      ]
    },
    {
      "cell_type": "code",
      "metadata": {
        "id": "80Rh5PVLh4JQ",
        "colab": {
          "base_uri": "https://localhost:8080/"
        },
        "outputId": "eef05455-f41a-4689-e8e8-d55f2446a5bc"
      },
      "source": [
        "law_corpora[0:10]"
      ],
      "execution_count": 403,
      "outputs": [
        {
          "output_type": "execute_result",
          "data": {
            "text/plain": [
              "[['1_Швейцарский_швейцарский_ADJ_3_amod',\n",
              "  '2_федеральный_федеральный_ADJ_3_amod',\n",
              "  '3_прокурор_прокурор_NOUN_7_nsubj',\n",
              "  'карла_PROPN',\n",
              "  '5_дель_дель_PART_7_advmod',\n",
              "  '6_Понти_Понти_NUM_5_nummod',\n",
              "  '7_заявила_заявлять_VERB_0_root',\n",
              "  '8_',\n",
              "  ',',\n",
              "  '_',\n",
              "  ',',\n",
              "  '_PUNCT_7_punct',\n",
              "  '9_что_что_SCONJ_11_mark',\n",
              "  'Беллази_PROPN',\n",
              "  '11_работал_работать_VERB_7_ccomp',\n",
              "  '12_на_на_ADP_13_case',\n",
              "  '13_шефа_шеф_NOUN_11_obl',\n",
              "  '14_разведывательной_разведывательный_ADJ_15_amod',\n",
              "  '15_службы_служба_NOUN_13_nmod',\n",
              "  'питер',\n",
              "  ':',\n",
              "  ':Рейли_PROPN',\n",
              "  '18_и_и_CCONJ_19_cc',\n",
              "  '19_получил_получать_VERB_11_conj',\n",
              "  '20_5,8_5,8_NUM_21_nummod',\n",
              "  '21_миллионов_миллион_NOUN_19_obl',\n",
              "  '22_долларов_доллар_NOUN_21_nmod',\n",
              "  '23_от_от_ADP_24_case',\n",
              "  '24_министерства_министерство_NOUN_19_obl',\n",
              "  '25_обороны_оборона_NOUN_24_nmod',\n",
              "  '26_для_для_ADP_27_case',\n",
              "  '27_покупки_покупка_NOUN_24_nmod',\n",
              "  '28_огромного_огромный_ADJ_29_amod',\n",
              "  '29_количества_количество_NOUN_27_nmod',\n",
              "  '30_оружия_оружие_NOUN_29_nmod'],\n",
              " ['1_Адвокат_адвокат_NOUN_5_nsubj',\n",
              "  'Беллази',\n",
              "  ':',\n",
              "  ':андре_PROPN',\n",
              "  '4_Седу_Сед_PROPN_3_flat',\n",
              "  ':',\n",
              "  'name',\n",
              "  '5_заявил_заявлять_VERB_0_root',\n",
              "  '6_',\n",
              "  ',',\n",
              "  '_',\n",
              "  ',',\n",
              "  '_PUNCT_5_punct',\n",
              "  '7_что_что_SCONJ_10_mark',\n",
              "  '8_его_он_PRON_9_nmod',\n",
              "  '9_клиент_клиент_NOUN_10_nsubj',\n",
              "  '10_отверг_отвергать_VERB_5_ccomp',\n",
              "  '11_эти_этот_DET_12_det',\n",
              "  '12_обвинения_обвинение_NOUN_10_obj'],\n",
              " ['карла_PROPN',\n",
              "  '2_дель_дель_PART_3_advmod',\n",
              "  '3_Понти_Понти_NUM_1_nummod',\n",
              "  '4_',\n",
              "  ',',\n",
              "  '_',\n",
              "  ',',\n",
              "  '_PUNCT_3_punct',\n",
              "  '5_недавно_недавно_ADV_6_advmod',\n",
              "  '6_ставшая_становиться_VERB_1_acl',\n",
              "  '7_прокурором_прокурор_NOUN_6_obl',\n",
              "  '8_Международного_международный_ADJ_9_amod',\n",
              "  'трибунал',\n",
              "  ':',\n",
              "  ':оон_PROPN',\n",
              "  '11_по_по_ADP_13_case',\n",
              "  '12_военным_военный_ADJ_13_amod',\n",
              "  '13_преступлениям_преступление_NOUN_9_nmod',\n",
              "  '14_',\n",
              "  ',',\n",
              "  '_',\n",
              "  ',',\n",
              "  '_PUNCT_13_punct',\n",
              "  '15_заявила_заявлять_VERB_26_nsubj',\n",
              "  ':',\n",
              "  'pass',\n",
              "  '16_',\n",
              "  ',',\n",
              "  '_',\n",
              "  ',',\n",
              "  '_PUNCT_15_punct',\n",
              "  '17_что_что_SCONJ_20_mark',\n",
              "  '18_дело_дело_NOUN_20_nsubj',\n",
              "  '19_против_против_ADP_20_case',\n",
              "  'Рейли_PROPN',\n",
              "  '21_и_и_CCONJ_25_cc',\n",
              "  '22_еще_еще_ADV_23_advmod',\n",
              "  '23_троих_трое_NUM_25_nummod',\n",
              "  ':',\n",
              "  'gov',\n",
              "  '24_высокопоставленных_высокопоставленный_ADJ_25_amod',\n",
              "  '25_чиновников_чиновник_NOUN_20_conj',\n",
              "  '26_закрыто_закрывать_VERB_0_root'],\n",
              " ['1_Федеральный_федеральный_ADJ_2_amod',\n",
              "  '2_прокурор_прокурор_NOUN_3_nsubj',\n",
              "  '3_добавила_добавлять_VERB_0_root',\n",
              "  '4_',\n",
              "  ',',\n",
              "  '_',\n",
              "  ',',\n",
              "  '_PUNCT_3_punct',\n",
              "  '5_что_что_SCONJ_8_mark',\n",
              "  '6_расследование_расследование_NOUN_8_nsubj',\n",
              "  '7_будет_быть_AUX_8_aux',\n",
              "  ':',\n",
              "  'pass',\n",
              "  '8_продолжено_продолжить_VERB_3_ccomp',\n",
              "  '9_в_в_ADP_11_case',\n",
              "  '10_отношении_отношение_NOUN_9_fixed',\n",
              "  'Фред',\n",
              "  ':',\n",
              "  ':Шрайер_PROPN',\n",
              "  '13_',\n",
              "  ',',\n",
              "  '_',\n",
              "  ',',\n",
              "  '_PUNCT_12_punct',\n",
              "  '14_шефа_шеф_NOUN_11_conj',\n",
              "  '15_стратегической_стратегический_ADJ_17_amod',\n",
              "  '16_информационной_информационный_ADJ_17_amod',\n",
              "  '17_службы_служба_NOUN_14_nmod',\n",
              "  '18_',\n",
              "  ',',\n",
              "  '_',\n",
              "  ',',\n",
              "  '_PUNCT_17_punct',\n",
              "  '19_которая_который_PRON_20_nsubj',\n",
              "  '20_возникла_возникать_VERB_17_acl',\n",
              "  ':',\n",
              "  'relcl',\n",
              "  '21_в_в_ADP_22_case',\n",
              "  '22_документах_документ_NOUN_20_obl',\n",
              "  '23_по_по_ADP_24_case',\n",
              "  '24_делу_дело_NOUN_22_nmod',\n",
              "  'Беллази_PROPN'],\n",
              " ['1_Бывший_бывший_ADJ_3_amod',\n",
              "  '2_генеральный_генеральный_ADJ_3_amod',\n",
              "  '3_прокурор_прокурор_NOUN_7_nsubj',\n",
              "  'рф_PROPN',\n",
              "  '5_Юрий_юрий_PROPN_3_appos',\n",
              "  'Скуратов_PROPN',\n",
              "  '7_считает_считать_VERB_0_root',\n",
              "  '8_',\n",
              "  ',',\n",
              "  '_',\n",
              "  ',',\n",
              "  '_PUNCT_7_punct',\n",
              "  '9_что_что_SCONJ_15_mark',\n",
              "  '10_ближайшее_близкий_ADJ_11_amod',\n",
              "  '11_окружение_окружение_NOUN_15_nsubj',\n",
              "  '12_президента_президент_NOUN_11_nmod',\n",
              "  'борис',\n",
              "  ':',\n",
              "  ':ельцин_PROPN',\n",
              "  '15_попытается_пытаться_VERB_7_ccomp',\n",
              "  '16_воспрепятствовать_препятствовать_VERB_15_xcomp',\n",
              "  '17_серьезному_серьезный_ADJ_18_amod',\n",
              "  '18_расследованию_расследование_NOUN_16_iobj',\n",
              "  '19_ситуации_ситуация_NOUN_18_nmod',\n",
              "  '20_',\n",
              "  ',',\n",
              "  '_',\n",
              "  ',',\n",
              "  '_PUNCT_19_punct',\n",
              "  '21_связанной_связывать_VERB_19_acl',\n",
              "  '22_с_с_ADP_23_case',\n",
              "  '23_Bank_bank_PROPN_21_flat',\n",
              "  ':',\n",
              "  'foreign',\n",
              "  '24_of_of_X_23_flat',\n",
              "  ':',\n",
              "  'foreign',\n",
              "  '25_New_new_PROPN_24_flat',\n",
              "  ':',\n",
              "  'foreign',\n",
              "  '26_York_york_PROPN_25_flat',\n",
              "  ':',\n",
              "  'foreign',\n",
              "  '27_',\n",
              "  ',',\n",
              "  '_',\n",
              "  ',',\n",
              "  '_PUNCT_26_punct',\n",
              "  '28_через_через_ADP_29_case',\n",
              "  '29_который_который_PRON_30_obl',\n",
              "  '30_отмывались_отмываться_VERB_21_acl',\n",
              "  ':',\n",
              "  'relcl',\n",
              "  '31_деньги_деньги_NOUN_30_nsubj',\n",
              "  '32_',\n",
              "  ',',\n",
              "  '_',\n",
              "  ',',\n",
              "  '_PUNCT_31_punct',\n",
              "  '33_полученные_получать_VERB_31_acl',\n",
              "  '34_от_от_ADP_35_case',\n",
              "  'мвф_PROPN'],\n",
              " ['1_Мои_мой_DET_2_det',\n",
              "  '2_адвокаты_адвокат_NOUN_3_nsubj',\n",
              "  '3_изучают_изучать_VERB_0_root',\n",
              "  '4_документы_документ_NOUN_3_obj',\n",
              "  '5_',\n",
              "  ',',\n",
              "  '_',\n",
              "  ',',\n",
              "  '_PUNCT_4_punct',\n",
              "  '6_чтобы_чтобы_SCONJ_7_mark',\n",
              "  '7_обратиться_обращаться_VERB_3_advcl',\n",
              "  '8_в_в_ADP_9_case',\n",
              "  '9_суд_суд_NOUN_7_obl'],\n",
              " ['1_Сумма_сумма_NOUN_8_nsubj',\n",
              "  ':',\n",
              "  'pass',\n",
              "  '2_возмещения_возмещение_NOUN_1_nmod',\n",
              "  '3_ущерба_ущерб_NOUN_2_nmod',\n",
              "  '4_по_по_ADP_5_case',\n",
              "  '5_искам_иск_NOUN_3_nmod',\n",
              "  '6_в_в_ADP_7_case',\n",
              "  '7_настоящее_настоящий_ADJ_3_obl',\n",
              "  '8_времяопределяется_времяопределяться_VERB_0_root',\n",
              "  '9_адвокатами_адвокат_NOUN_8_obl',\n",
              "  '10_и_и_CCONJ_11_cc',\n",
              "  '11_юристами_юрист_NOUN_9_conj',\n",
              "  '12_',\n",
              "  ',',\n",
              "  '_',\n",
              "  ',',\n",
              "  '_PUNCT_11_punct',\n",
              "  '13_занимающимися_заниматься_VERB_15_amod',\n",
              "  '14_подготовкойисковых_подготовкойисковый_ADJ_15_amod',\n",
              "  '15_заявлений_заявление_NOUN_9_conj'],\n",
              " ['1_Но_но_CCONJ_6_cc',\n",
              "  '2_окружной_окружной_ADJ_3_amod',\n",
              "  '3_судья_судья_NOUN_6_nsubj',\n",
              "  'Нэнси',\n",
              "  ':',\n",
              "  ':Эдмунс_PROPN',\n",
              "  '6_решила_решать_VERB_0_root',\n",
              "  '7_дело_дело_NOUN_6_obj',\n",
              "  '8_в_в_ADP_9_case',\n",
              "  '9_пользу_польза_NOUN_6_obl',\n",
              "  '10_web_веб_NOUN_9_nmod',\n",
              "  '11_-издательства_-издательствый_NOUN_10_nmod',\n",
              "  '12_',\n",
              "  ':',\n",
              "  '_',\n",
              "  ':',\n",
              "  '_PUNCT_11_punct',\n",
              "  '13_она_она_PRON_14_nsubj',\n",
              "  '14_отвергла_отвергать_VERB_6_conj',\n",
              "  '15_требование_требование_NOUN_14_obj',\n",
              "  '16_в_в_ADP_18_case',\n",
              "  '17_судебном_судебный_ADJ_18_amod',\n",
              "  '18_порядке_порядок_NOUN_15_nmod',\n",
              "  '19_запретить_запрещать_VERB_15_obl',\n",
              "  'Лэйн_PROPN',\n",
              "  '21_публикацию_публикация_NOUN_19_obj',\n",
              "  '22_секретных_секретный_ADJ_23_amod',\n",
              "  '23_документов_документ_NOUN_21_nmod',\n",
              "  '24_',\n",
              "  ',',\n",
              "  '_',\n",
              "  ',',\n",
              "  '_PUNCT_23_punct',\n",
              "  '25_поскольку_поскольку_SCONJ_28_mark',\n",
              "  '26_такой_такой_DET_27_det',\n",
              "  '27_запрет_запрет_NOUN_28_nsubj',\n",
              "  '28_нарушал_нарушать_VERB_14_advcl',\n",
              "  '29_бы_бы_PART_28_aux',\n",
              "  '30_свободу_свобода_NOUN_28_obj',\n",
              "  '31_слова_слово_NOUN_30_nmod'],\n",
              " ['1_Однако_однако_ADV_5_advmod',\n",
              "  '2_судья_судья_NOUN_5_nsubj',\n",
              "  '3_все_все_PART_5_advmod',\n",
              "  '4_же_же_PART_3_fixed',\n",
              "  '5_вынесла_выносить_VERB_0_root',\n",
              "  '6_постановление_постановление_NOUN_5_advcl',\n",
              "  '7_',\n",
              "  ',',\n",
              "  '_',\n",
              "  ',',\n",
              "  '_PUNCT_6_punct',\n",
              "  '8_связанное_связывать_VERB_6_acl',\n",
              "  '9_с_с_ADP_10_case',\n",
              "  '10_тем_то_PRON_8_obl',\n",
              "  '11_',\n",
              "  ',',\n",
              "  '_',\n",
              "  ',',\n",
              "  '_PUNCT_10_punct',\n",
              "  '12_что_что_SCONJ_14_mark',\n",
              "  'Лэйн_PROPN',\n",
              "  '14_нарушил_нарушать_VERB_10_acl',\n",
              "  '15_копирайт_копирайт_NOUN_14_obj',\n",
              "  '16_компании_компания_NOUN_15_nmod',\n",
              "  'форд_PROPN'],\n",
              " ['1_При_при_ADP_2_case',\n",
              "  '2_этом_это_PRON_4_obl',\n",
              "  '3_судья_судья_NOUN_4_nsubj',\n",
              "  '4_добавила_добавлять_VERB_0_root',\n",
              "  '5_',\n",
              "  ',',\n",
              "  '_',\n",
              "  ',',\n",
              "  '_PUNCT_4_punct',\n",
              "  '6_что_что_SCONJ_10_mark',\n",
              "  '7_судебная_судебный_ADJ_8_amod',\n",
              "  '8_система_система_NOUN_10_nsubj',\n",
              "  '9_только_только_PART_10_advmod',\n",
              "  '10_начинает_начинать_VERB_4_ccomp',\n",
              "  '11_подходить_подходить_VERB_10_xcomp',\n",
              "  '12_к_к_ADP_15_case',\n",
              "  '13_такому_такой_DET_15_det',\n",
              "  '14_сложному_сложный_ADJ_15_amod',\n",
              "  '15_вопросу_вопрос_NOUN_11_obl',\n",
              "  '16_',\n",
              "  ',',\n",
              "  '_',\n",
              "  ',',\n",
              "  '_PUNCT_15_punct',\n",
              "  '17_как_как_SCONJ_18_mark',\n",
              "  '18_свобода_свобода_NOUN_13_obl',\n",
              "  '19_слова_слово_NOUN_18_nmod',\n",
              "  '20_и_и_CCONJ_21_cc',\n",
              "  '21_защита_защита_NOUN_19_conj',\n",
              "  '22_интеллектуальной_интеллектуальный_ADJ_23_amod',\n",
              "  '23_собственности_собственность_NOUN_21_nmod',\n",
              "  '24_в_в_ADP_25_case',\n",
              "  'интернет_PROPN']]"
            ]
          },
          "metadata": {
            "tags": []
          },
          "execution_count": 403
        }
      ]
    },
    {
      "cell_type": "code",
      "metadata": {
        "id": "C3LdUA18kKI9"
      },
      "source": [
        "with open(\"law_corpora.txt\", \"w\") as file:\n",
        "  print(law_corpora, file=file, sep=\"\\n\")\n",
        "file.close()"
      ],
      "execution_count": 404,
      "outputs": []
    },
    {
      "cell_type": "code",
      "metadata": {
        "id": "E7J2KSMJJ2Lo",
        "colab": {
          "base_uri": "https://localhost:8080/"
        },
        "outputId": "0393374e-9e28-44e5-86c1-1bfb2eb40491"
      },
      "source": [
        "count=0\n",
        "for sentence in tokens:\n",
        "  count += len(sentence)\n",
        "print(count)"
      ],
      "execution_count": 405,
      "outputs": [
        {
          "output_type": "stream",
          "text": [
            "5860022\n"
          ],
          "name": "stdout"
        }
      ]
    },
    {
      "cell_type": "code",
      "metadata": {
        "id": "EVDios2gKPKM",
        "colab": {
          "base_uri": "https://localhost:8080/"
        },
        "outputId": "dfd11152-c630-4684-b41d-a768373a671b"
      },
      "source": [
        "count=0\n",
        "for sentence in law_corpora:\n",
        "  count += len(sentence)\n",
        "print(count)"
      ],
      "execution_count": 406,
      "outputs": [
        {
          "output_type": "stream",
          "text": [
            "93703\n"
          ],
          "name": "stdout"
        }
      ]
    },
    {
      "cell_type": "code",
      "metadata": {
        "id": "TEd9vRdqlG2T",
        "colab": {
          "base_uri": "https://localhost:8080/"
        },
        "outputId": "7caf8bcf-a5ae-46df-c5db-07d1b360511b"
      },
      "source": [
        "len(tokens)"
      ],
      "execution_count": 407,
      "outputs": [
        {
          "output_type": "execute_result",
          "data": {
            "text/plain": [
              "201486"
            ]
          },
          "metadata": {
            "tags": []
          },
          "execution_count": 407
        }
      ]
    },
    {
      "cell_type": "code",
      "metadata": {
        "id": "afKqro1G2Phq"
      },
      "source": [
        "for sentence in law_corpora:\n",
        "  for i in sentence:\n",
        "    if re.match(r'[0-9]', i):\n",
        "      pass\n",
        "    else:\n",
        "      sentence.remove(i)"
      ],
      "execution_count": 408,
      "outputs": []
    },
    {
      "cell_type": "code",
      "metadata": {
        "id": "1rtLHcTvKqzc"
      },
      "source": [
        "for sentence in law_corpora:\n",
        "  for i in sentence:\n",
        "    if i.startswith('_'):\n",
        "      sentence.remove(i)"
      ],
      "execution_count": 409,
      "outputs": []
    },
    {
      "cell_type": "code",
      "metadata": {
        "id": "4J_ouJrDLARa"
      },
      "source": [
        "for sentence in law_corpora:\n",
        "  for i in sentence:\n",
        "    if re.match(r'_', i):\n",
        "      sentence.remove(i)"
      ],
      "execution_count": 410,
      "outputs": []
    },
    {
      "cell_type": "code",
      "metadata": {
        "id": "zMmjGq5VMUYo"
      },
      "source": [
        "for sentence in law_corpora:\n",
        "  for i in sentence:\n",
        "    if re.match(r':', i):\n",
        "      sentence.remove(i)"
      ],
      "execution_count": 411,
      "outputs": []
    },
    {
      "cell_type": "code",
      "metadata": {
        "id": "WTKvGt5yMxQ5"
      },
      "source": [
        "for sentence in law_corpora:\n",
        "  for i in sentence:\n",
        "    if re.match(r'[а-я]', i):\n",
        "      sentence.remove(i)"
      ],
      "execution_count": 412,
      "outputs": []
    },
    {
      "cell_type": "code",
      "metadata": {
        "id": "YehDGphFNOcq"
      },
      "source": [
        "for sentence in law_corpora:\n",
        "  for i in sentence:\n",
        "    if i=='':\n",
        "      print(sentence)"
      ],
      "execution_count": 413,
      "outputs": []
    },
    {
      "cell_type": "code",
      "metadata": {
        "id": "wGFBUxxCPMal"
      },
      "source": [
        "for sentence in law_corpora:\n",
        "  for i in sentence:\n",
        "    if re.match(r'_PUNCT_', i):\n",
        "      sentence.remove(i)"
      ],
      "execution_count": 414,
      "outputs": []
    },
    {
      "cell_type": "code",
      "metadata": {
        "colab": {
          "base_uri": "https://localhost:8080/"
        },
        "id": "3o3kvwyUSFbu",
        "outputId": "6545f403-bf61-4950-e739-7f44141e16c2"
      },
      "source": [
        "unlc=[]\n",
        "for sentence in law_corpora:\n",
        "  if sentence in unlc:\n",
        "    continue\n",
        "  else:\n",
        "    unlc.append(sentence)\n",
        "print(len(unlc))"
      ],
      "execution_count": 415,
      "outputs": [
        {
          "output_type": "stream",
          "text": [
            "2601\n"
          ],
          "name": "stdout"
        }
      ]
    },
    {
      "cell_type": "code",
      "metadata": {
        "id": "5yhAZ_ufTfNM"
      },
      "source": [
        "law_corpora = unlc"
      ],
      "execution_count": 416,
      "outputs": []
    },
    {
      "cell_type": "code",
      "metadata": {
        "id": "8v5prly3kyYD"
      },
      "source": [
        "diff={}\n",
        "spisok=[]\n",
        "for sentence in law_corpora:\n",
        "  for i in sentence:\n",
        "    w=[]\n",
        "    e=[]\n",
        "    r=[]\n",
        "    if \"_судья_\" in i:\n",
        "      w=i.split(sep=\"_\")\n",
        "      index=w[0]\n",
        "      if index == None:\n",
        "        pass\n",
        "      else:\n",
        "        if i not in sentence:\n",
        "          pass\n",
        "        else:\n",
        "          n = sentence.index(i)\n",
        "          if i == sentence[-1]:\n",
        "            p = sentence[n-1]\n",
        "            p += '_0'\n",
        "            spisok.append(p)\n",
        "          else:\n",
        "            m = sentence[n+1]\n",
        "            m += '_0'\n",
        "            spisok.append(m)\n",
        "            if i == sentence[-2]:\n",
        "              pass\n",
        "            else:\n",
        "              o = sentence[n+2]\n",
        "              o += '_1'\n",
        "              spisok.append(o)\n",
        "              if i == sentence[-1]:\n",
        "                pass\n",
        "          #print(spisok)\n",
        "          for m in spisok:\n",
        "            if re.match(r'_PUNCT_', m):\n",
        "              pass\n",
        "            else:\n",
        "              e=m.split(sep=\"_\")\n",
        "              if len(w)<4 or len(e)<4:\n",
        "                pass\n",
        "              else:\n",
        "                if e[2] == w[2]:\n",
        "                  pass\n",
        "                else:\n",
        "                  if e[3] == 'VERB':\n",
        "                    #print(e)\n",
        "                    small_diff=[]\n",
        "                    d = e[-1]\n",
        "                    #print(spisok)\n",
        "                    for i in spisok:\n",
        "                      w=i.split(sep=\"_\")\n",
        "                      if len(w)<4 or len(e)<4:\n",
        "                        pass\n",
        "                      else:\n",
        "                        if w[2] == e[2]:\n",
        "                          d = w[-1]\n",
        "                          small_diff.append(int(d))\n",
        "                        else:\n",
        "                          pass\n",
        "                    if len(w) >= 4:\n",
        "                      diff[w[2]]=small_diff\n",
        "                    else:\n",
        "                      pass           \n",
        "                  else:\n",
        "                    pass     \n",
        "print(diff)"
      ],
      "execution_count": null,
      "outputs": []
    },
    {
      "cell_type": "code",
      "metadata": {
        "colab": {
          "base_uri": "https://localhost:8080/"
        },
        "id": "y4VWo8iSOhVd",
        "outputId": "dfa4e4d2-7f44-41a9-b2c8-5534806a9d85"
      },
      "source": [
        "print(m)"
      ],
      "execution_count": 440,
      "outputs": [
        {
          "output_type": "stream",
          "text": [
            "5_Alan_Alan_PROPN_2_flat_1\n"
          ],
          "name": "stdout"
        }
      ]
    },
    {
      "cell_type": "code",
      "metadata": {
        "colab": {
          "base_uri": "https://localhost:8080/"
        },
        "id": "0O8Kd1N0KHn6",
        "outputId": "74f2bf9e-0f40-4e57-9771-d638e8bf7790"
      },
      "source": [
        "len(diff)"
      ],
      "execution_count": 441,
      "outputs": [
        {
          "output_type": "execute_result",
          "data": {
            "text/plain": [
              "343"
            ]
          },
          "metadata": {
            "tags": []
          },
          "execution_count": 441
        }
      ]
    },
    {
      "cell_type": "code",
      "metadata": {
        "id": "YQ-mP_9YeK7K"
      },
      "source": [
        "for word, lis in diff.items():\n",
        "  if lis ==[]:\n",
        "    print(word)"
      ],
      "execution_count": 442,
      "outputs": []
    },
    {
      "cell_type": "code",
      "metadata": {
        "colab": {
          "base_uri": "https://localhost:8080/"
        },
        "id": "m3pDa7J0W_Nf",
        "outputId": "a1e850d1-b1d9-40a4-ca24-301681591067"
      },
      "source": [
        "Mat_oj = diff.copy()\n",
        "for word, lis in Mat_oj.items():\n",
        "    new_l = (sum(lis))/len(lis)\n",
        "    Mat_oj[word] = new_l\n",
        "print(Mat_oj)"
      ],
      "execution_count": 448,
      "outputs": [
        {
          "output_type": "stream",
          "text": [
            "{'дело': 0.0, 'же': 1.0, 'конституционный': 0.0, 'снисхождение': 0.0, 'решение': 0.5, 'иск': 0.0, 'в': 0.0, 'от': 0.5, 'давний': 0.0, 'по': 0.0, 'город': 0.0, 'большой': 0.0, 'традиционно': 0.0, 'юрист': 0.0, 'этот': 0.0, 'секретарь': 0.0, 'кабинет': 0.0, 'суд': 0.0, 'месть': 0.0, 'запрос': 0.0, 'нью-йоркский': 0.0, 'юридический': 0.0, 'министр': 0.0, 'падать': 0.0, 'требовать': 0.0, 'рассматривать': 0.0, 'он': 1.0, 'антимонопольный': 0.0, 'назначить': 0.0, 'удовлетворять': 1.0, 'привлечение': 0.0, 'и': 0.4, 'основание': 0.0, 'прокурор': 0.0, 'оглашение': 0.0, '5': 0.0, 'сказать': 0.0, 'ход': 0.25, 'обеспокоить': 1.0, 'апелляционный': 1.0, 'жалоба': 0.0, 'рассмотрение': 0.0, 'федеральный': 0.0, '19': 0.0, 'чей': 0.0, 'процесс': 1.0, 'сообщать': 0.0, 'роль': 0.0, 'повторный': 0.5, 'заключение': 0.2857142857142857, 'обнародовать': 0.5, 'что': 0.5, 'окружной': 0.0, 'высокий': 1.0, 'вне': 0.0, 'надеяться': 0.0, 'с': 0.25, 'о': 0.0, 'отказ': 0.0, 'трибунал': 0.5, 'незаконность': 0.0, 'Л': 0.0, 'ущерб': 0.0, 'считать': 0.3333333333333333, 'подавать': 0.5, 'свой': 0.0, 'переговоры': 0.0, 'возглавлять': 0.0, 'корпорация': 0.0, 'к': 0.0, 'вероятно': 0.0, 'временный': 1.0, 'отбывать': 1.0, 'свободный': 0.0, 'посредничество': 0.0, 'слово': 0.0, 'наблюдать': 0.0, 'районный': 0.5, 'насамарский': 0.0, 'верховный': 0.4, 'анатолий': 0.0, 'против': 0.0, 'наказание': 0.0, 'но': 0.0, 'инициатор': 0.0, 'распорядиться': 0.0, 'заключительный': 1.0, 'большинство': 1.0, 'из': 0.0, 'то': 1.0, 'занимать': 0.0, '-': 0.3333333333333333, 'который': 0.0, 'представление': 0.3333333333333333, 'быть': 0.0, 'таможенник': 1.0, 'слушание': 0.0, 'раздел': 0.0, 'удалить': 0.0, 'уже': 0.75, 'они': 0.16666666666666666, 'вводить': 0.0, 'голосовать': 1.0, 'истец': 0.0, 'полномочияпредседатель': 0.0, 'должность': 0.0, 'на': 0.0, 'уважительный': 0.0, 'прикрывать': 0.0, 'претензия': 1.0, 'постановление': 0.5714285714285714, 'постановить': 0.0, '20': 1.0, 'бывший': 0.0, 'встречный': 0.0, 'запрещать': 0.0, 'заявление': 1.0, 'отмечать': 0.0, 'заявлять': 0.625, 'служить': 0.0, 'интерпретировать': 1.0, 'чтобы': 1.0, 'арбитражный': 1.0, 'метр': 1.0, 'компьютер': 1.0, 'разумно': 1.0, 'временно': 0.0, 'издавать': 0.3333333333333333, 'выдавать': 0.0, 'удалять': 0.0, 'жалеть': 0.0, 'решать': 0.0, 'первый': 1.0, 'борьба': 0.0, 'предлагать': 0.0, 'указание': 0.5, 'недавний': 0.0, 'более': 0.5, 'сша': 0.5, 'берег': 0.5, 'действие': 0.0, 'помощник': 0.0, 'пенальти': 0.0, 'неумолимый': 0.0, 'впредвзятости': 0.0, 'район': 0.0, 'статья': 0.0, 'принимать': 0.0, 'март': 0.5, 'подъезд': 0.5, 'российский': 0.6666666666666666, 'счесть': 0.6666666666666666, 'а': 1.0, 'одобрять': 1.0, 'весь': 0.2857142857142857, 'выносить': 0.0, 'давать': 0.25, 'должен': 0.0, 'подозреваемый': 0.0, '5,7': 0.0, 'схема': 0.0, 'официальный': 0.0, 'не': 0.0, 'применять': 0.0, 'понедельник': 0.0, 'резко': 0.0, 'передавать': 0.0, 'страна': 0.0, '22': 0.0, 'уйтинесколько': 0.0, 'препятствование': 0.0, 'футбольный': 0.0, 'под': 0.0, 'предложение': 0.0, 'такой': 0.2857142857142857, 'горсуд': 0.0, 'получать': 0.0, 'возвращение': 0.5, 'правомочный': 0.5, 'друг': 0.5, 'вызывать': 0.3333333333333333, 'связь': 0.0, 'подкуп': 0.3333333333333333, 'жить': 0.3333333333333333, 'главный': 0.3333333333333333, 'виновный': 0.0, 'запрет': 0.5, 'американский': 0.5, 'заканчивать': 0.5, '9': 1.0, 'шесть': 1.0, 'спешить': 1.0, 'изменять': 1.0, 'вердикт': 0.0, 'приходить': 0.0, 'инстанция': 0.0, 'председательствовать': 0.0, 'назначать': 0.0, 'шариатский': 0.25, 'правовой': 0.3333333333333333, 'честь': 0.3333333333333333, 'Ю': 0.6666666666666666, 'серьезный': 0.0, 'продление': 0.0, 'Беганская': 0.0, 'откладывать': 0.2, 'турецкий': 0.0, 'для': 0.0, 'прекращать': 0.25, 'государственный': 0.5, 'подчеркивать': 0.5, 'личность': 0.0, 'также': 0.6, 'Галиано': 1.0, 'военный': 1.0, 'прокурорский': 1.0, 'находить': 1.0, 'однако': 0.0, '16': 0.0, 'заседание': 0.0, 'округ': 0.4, 'генеральный': 0.0, 'выяснение': 0.0, 'распоряжаться': 0.0, 'отклонить': 0.25, 'исключать': 0.5, 'детский': 1.0, 'ходатайство': 0.4, 'необоснованно': 1.0, 'ведущий': 0.0, 'апелляция': 0.0, 'начинать': 1.0, 'двое': 0.2857142857142857, 'некоторый': 0.2857142857142857, 'египтолог': 0.2857142857142857, 'речь': 0.2857142857142857, 'сюжет': 0.0, 'деталь': 0.0, 'уходить': 0.0, '49-летний': 0.0, 'показание': 0.0, 'международный': 0.0, 'палата': 0.25, 'лишать': 0.25, 'как': 0.5, 'интересовать': 0.0, 'являться': 0.0, 'один': 1.0, 'уличение': 1.0, 'ты': 1.0, 'лишь': 0.0, 'дача': 0.0, 'соглашаться': 0.5714285714285714, 'огласить': 0.6, 'областной': 0.0, 'ограничивать': 0.0, 'зачитывать': 1.0, 'ориентация': 1.0, 'при': 0.0, 'назначение': 0.0, 'либеральный': 0.0, 'возможный': 0.5, 'тогда': 0.3333333333333333, 'даже': 0.3333333333333333, 'спид': 0.4, 'конвоир': 0.4, 'Солс': 0.4, 'отвергать': 0.4, 'приостановить': 0.25, 'вопрос': 0.5, 'матч': 0.2857142857142857, 'девять': 0.5, 'оттягиваний': 0.2, 'МакВя': 0.25, 'политический': 0.2, 'рекомендация': 0.0, 'прием': 0.0, 'коллегия': 0.0, 'ребенок': 0.0, 'выбирать': 0.0, 'за': 0.0, 'голый': 0.0, 'дата': 0.0, 'сумма': 0.0, 'тоталитарный': 0.0, 'председательствующий': 0.3333333333333333, 'она': 1.0, 'три': 1.0, 'коридор': 0.0, 'отправлять': 0.0, 'судебный': 0.0, 'проезд': 1.0, 'задерживать': 0.0, 'распоряжение': 0.0, '6900': 0.3333333333333333, 'состав': 0.3333333333333333, 'убеждать': 0.3333333333333333, 'перед': 0.0, 'выслушивать': 0.0, 'отказывать': 0.5, 'объяснять': 0.0, 'собираться': 0.5, 'отсмеяться': 1.0, 'жаловаться': 0.2, 'палец': 1.0, 'известный': 1.0, 'подсудимый': 0.3333333333333333, 'пятилетний': 0.0, 'необходимость': 0.0, 'новый': 0.0, 'теперь': 0.0, 'представлять': 0.42857142857142855, 'королевский': 1.0, 'сменить': 1.0, 'ведение': 0.0, 'быстро': 0.0, 'так': 0.0, 'разозлиться': 0.0, 'Кунцевский': 1.0, 'компания': 0.0, 'относиться': 0.0, 'обвиняемый': 0.5, 'еще': 0.4, 'обмен': 0.4, 'игрок': 0.4, 'свисток': 0.2, 'приступать': 0.2, 'адвокат': 0.3333333333333333, 'допрашивать': 0.5, 'данные': 1.0, 'мировой': 1.0, '70': 1.0, 'разрешать': 0.0, 'приказывать': 0.5, 'допрос': 0.0, 'иметь': 0.6666666666666666, 'боковой': 1.0, 'заниматься': 0.375, 'Baltasar': 1.0, 'Joel': 0.16666666666666666, 'пытаться': 0.16666666666666666, 'опасный': 0.0, 'Alan': 0.0}\n"
          ],
          "name": "stdout"
        }
      ]
    },
    {
      "cell_type": "code",
      "metadata": {
        "colab": {
          "base_uri": "https://localhost:8080/"
        },
        "id": "iRYJ39b9dvev",
        "outputId": "da8b6dc3-301d-4c96-d255-a3e72aba7b60"
      },
      "source": [
        "print(Mat_oj)"
      ],
      "execution_count": 449,
      "outputs": [
        {
          "output_type": "stream",
          "text": [
            "{'дело': 0.0, 'же': 1.0, 'конституционный': 0.0, 'снисхождение': 0.0, 'решение': 0.5, 'иск': 0.0, 'в': 0.0, 'от': 0.5, 'давний': 0.0, 'по': 0.0, 'город': 0.0, 'большой': 0.0, 'традиционно': 0.0, 'юрист': 0.0, 'этот': 0.0, 'секретарь': 0.0, 'кабинет': 0.0, 'суд': 0.0, 'месть': 0.0, 'запрос': 0.0, 'нью-йоркский': 0.0, 'юридический': 0.0, 'министр': 0.0, 'падать': 0.0, 'требовать': 0.0, 'рассматривать': 0.0, 'он': 1.0, 'антимонопольный': 0.0, 'назначить': 0.0, 'удовлетворять': 1.0, 'привлечение': 0.0, 'и': 0.4, 'основание': 0.0, 'прокурор': 0.0, 'оглашение': 0.0, '5': 0.0, 'сказать': 0.0, 'ход': 0.25, 'обеспокоить': 1.0, 'апелляционный': 1.0, 'жалоба': 0.0, 'рассмотрение': 0.0, 'федеральный': 0.0, '19': 0.0, 'чей': 0.0, 'процесс': 1.0, 'сообщать': 0.0, 'роль': 0.0, 'повторный': 0.5, 'заключение': 0.2857142857142857, 'обнародовать': 0.5, 'что': 0.5, 'окружной': 0.0, 'высокий': 1.0, 'вне': 0.0, 'надеяться': 0.0, 'с': 0.25, 'о': 0.0, 'отказ': 0.0, 'трибунал': 0.5, 'незаконность': 0.0, 'Л': 0.0, 'ущерб': 0.0, 'считать': 0.3333333333333333, 'подавать': 0.5, 'свой': 0.0, 'переговоры': 0.0, 'возглавлять': 0.0, 'корпорация': 0.0, 'к': 0.0, 'вероятно': 0.0, 'временный': 1.0, 'отбывать': 1.0, 'свободный': 0.0, 'посредничество': 0.0, 'слово': 0.0, 'наблюдать': 0.0, 'районный': 0.5, 'насамарский': 0.0, 'верховный': 0.4, 'анатолий': 0.0, 'против': 0.0, 'наказание': 0.0, 'но': 0.0, 'инициатор': 0.0, 'распорядиться': 0.0, 'заключительный': 1.0, 'большинство': 1.0, 'из': 0.0, 'то': 1.0, 'занимать': 0.0, '-': 0.3333333333333333, 'который': 0.0, 'представление': 0.3333333333333333, 'быть': 0.0, 'таможенник': 1.0, 'слушание': 0.0, 'раздел': 0.0, 'удалить': 0.0, 'уже': 0.75, 'они': 0.16666666666666666, 'вводить': 0.0, 'голосовать': 1.0, 'истец': 0.0, 'полномочияпредседатель': 0.0, 'должность': 0.0, 'на': 0.0, 'уважительный': 0.0, 'прикрывать': 0.0, 'претензия': 1.0, 'постановление': 0.5714285714285714, 'постановить': 0.0, '20': 1.0, 'бывший': 0.0, 'встречный': 0.0, 'запрещать': 0.0, 'заявление': 1.0, 'отмечать': 0.0, 'заявлять': 0.625, 'служить': 0.0, 'интерпретировать': 1.0, 'чтобы': 1.0, 'арбитражный': 1.0, 'метр': 1.0, 'компьютер': 1.0, 'разумно': 1.0, 'временно': 0.0, 'издавать': 0.3333333333333333, 'выдавать': 0.0, 'удалять': 0.0, 'жалеть': 0.0, 'решать': 0.0, 'первый': 1.0, 'борьба': 0.0, 'предлагать': 0.0, 'указание': 0.5, 'недавний': 0.0, 'более': 0.5, 'сша': 0.5, 'берег': 0.5, 'действие': 0.0, 'помощник': 0.0, 'пенальти': 0.0, 'неумолимый': 0.0, 'впредвзятости': 0.0, 'район': 0.0, 'статья': 0.0, 'принимать': 0.0, 'март': 0.5, 'подъезд': 0.5, 'российский': 0.6666666666666666, 'счесть': 0.6666666666666666, 'а': 1.0, 'одобрять': 1.0, 'весь': 0.2857142857142857, 'выносить': 0.0, 'давать': 0.25, 'должен': 0.0, 'подозреваемый': 0.0, '5,7': 0.0, 'схема': 0.0, 'официальный': 0.0, 'не': 0.0, 'применять': 0.0, 'понедельник': 0.0, 'резко': 0.0, 'передавать': 0.0, 'страна': 0.0, '22': 0.0, 'уйтинесколько': 0.0, 'препятствование': 0.0, 'футбольный': 0.0, 'под': 0.0, 'предложение': 0.0, 'такой': 0.2857142857142857, 'горсуд': 0.0, 'получать': 0.0, 'возвращение': 0.5, 'правомочный': 0.5, 'друг': 0.5, 'вызывать': 0.3333333333333333, 'связь': 0.0, 'подкуп': 0.3333333333333333, 'жить': 0.3333333333333333, 'главный': 0.3333333333333333, 'виновный': 0.0, 'запрет': 0.5, 'американский': 0.5, 'заканчивать': 0.5, '9': 1.0, 'шесть': 1.0, 'спешить': 1.0, 'изменять': 1.0, 'вердикт': 0.0, 'приходить': 0.0, 'инстанция': 0.0, 'председательствовать': 0.0, 'назначать': 0.0, 'шариатский': 0.25, 'правовой': 0.3333333333333333, 'честь': 0.3333333333333333, 'Ю': 0.6666666666666666, 'серьезный': 0.0, 'продление': 0.0, 'Беганская': 0.0, 'откладывать': 0.2, 'турецкий': 0.0, 'для': 0.0, 'прекращать': 0.25, 'государственный': 0.5, 'подчеркивать': 0.5, 'личность': 0.0, 'также': 0.6, 'Галиано': 1.0, 'военный': 1.0, 'прокурорский': 1.0, 'находить': 1.0, 'однако': 0.0, '16': 0.0, 'заседание': 0.0, 'округ': 0.4, 'генеральный': 0.0, 'выяснение': 0.0, 'распоряжаться': 0.0, 'отклонить': 0.25, 'исключать': 0.5, 'детский': 1.0, 'ходатайство': 0.4, 'необоснованно': 1.0, 'ведущий': 0.0, 'апелляция': 0.0, 'начинать': 1.0, 'двое': 0.2857142857142857, 'некоторый': 0.2857142857142857, 'египтолог': 0.2857142857142857, 'речь': 0.2857142857142857, 'сюжет': 0.0, 'деталь': 0.0, 'уходить': 0.0, '49-летний': 0.0, 'показание': 0.0, 'международный': 0.0, 'палата': 0.25, 'лишать': 0.25, 'как': 0.5, 'интересовать': 0.0, 'являться': 0.0, 'один': 1.0, 'уличение': 1.0, 'ты': 1.0, 'лишь': 0.0, 'дача': 0.0, 'соглашаться': 0.5714285714285714, 'огласить': 0.6, 'областной': 0.0, 'ограничивать': 0.0, 'зачитывать': 1.0, 'ориентация': 1.0, 'при': 0.0, 'назначение': 0.0, 'либеральный': 0.0, 'возможный': 0.5, 'тогда': 0.3333333333333333, 'даже': 0.3333333333333333, 'спид': 0.4, 'конвоир': 0.4, 'Солс': 0.4, 'отвергать': 0.4, 'приостановить': 0.25, 'вопрос': 0.5, 'матч': 0.2857142857142857, 'девять': 0.5, 'оттягиваний': 0.2, 'МакВя': 0.25, 'политический': 0.2, 'рекомендация': 0.0, 'прием': 0.0, 'коллегия': 0.0, 'ребенок': 0.0, 'выбирать': 0.0, 'за': 0.0, 'голый': 0.0, 'дата': 0.0, 'сумма': 0.0, 'тоталитарный': 0.0, 'председательствующий': 0.3333333333333333, 'она': 1.0, 'три': 1.0, 'коридор': 0.0, 'отправлять': 0.0, 'судебный': 0.0, 'проезд': 1.0, 'задерживать': 0.0, 'распоряжение': 0.0, '6900': 0.3333333333333333, 'состав': 0.3333333333333333, 'убеждать': 0.3333333333333333, 'перед': 0.0, 'выслушивать': 0.0, 'отказывать': 0.5, 'объяснять': 0.0, 'собираться': 0.5, 'отсмеяться': 1.0, 'жаловаться': 0.2, 'палец': 1.0, 'известный': 1.0, 'подсудимый': 0.3333333333333333, 'пятилетний': 0.0, 'необходимость': 0.0, 'новый': 0.0, 'теперь': 0.0, 'представлять': 0.42857142857142855, 'королевский': 1.0, 'сменить': 1.0, 'ведение': 0.0, 'быстро': 0.0, 'так': 0.0, 'разозлиться': 0.0, 'Кунцевский': 1.0, 'компания': 0.0, 'относиться': 0.0, 'обвиняемый': 0.5, 'еще': 0.4, 'обмен': 0.4, 'игрок': 0.4, 'свисток': 0.2, 'приступать': 0.2, 'адвокат': 0.3333333333333333, 'допрашивать': 0.5, 'данные': 1.0, 'мировой': 1.0, '70': 1.0, 'разрешать': 0.0, 'приказывать': 0.5, 'допрос': 0.0, 'иметь': 0.6666666666666666, 'боковой': 1.0, 'заниматься': 0.375, 'Baltasar': 1.0, 'Joel': 0.16666666666666666, 'пытаться': 0.16666666666666666, 'опасный': 0.0, 'Alan': 0.0}\n"
          ],
          "name": "stdout"
        }
      ]
    },
    {
      "cell_type": "code",
      "metadata": {
        "colab": {
          "base_uri": "https://localhost:8080/"
        },
        "id": "Is2M7ygZdTjH",
        "outputId": "4fd6fbdf-d458-47e1-ad5b-091ee345fb59"
      },
      "source": [
        "print(diff)"
      ],
      "execution_count": 450,
      "outputs": [
        {
          "output_type": "stream",
          "text": [
            "{'дело': [0], 'же': [1], 'конституционный': [0, 0], 'снисхождение': [0], 'решение': [0, 0, 0, 1, 1, 0, 1, 1], 'иск': [0], 'в': [0], 'от': [0, 1, 1, 0, 1, 0], 'давний': [0], 'по': [0], 'город': [0], 'большой': [0], 'традиционно': [0, 0], 'юрист': [0, 0], 'этот': [0], 'секретарь': [0], 'кабинет': [0], 'суд': [0], 'месть': [0], 'запрос': [0, 0], 'нью-йоркский': [0], 'юридический': [0], 'министр': [0], 'падать': [0], 'требовать': [0, 0], 'рассматривать': [0, 0], 'он': [1], 'антимонопольный': [0], 'назначить': [0], 'удовлетворять': [1], 'привлечение': [0], 'и': [0, 0, 0, 1, 1], 'основание': [0], 'прокурор': [0, 0, 0], 'оглашение': [0], '5': [0], 'сказать': [0], 'ход': [0, 1, 0, 0], 'обеспокоить': [1], 'апелляционный': [1], 'жалоба': [0, 0], 'рассмотрение': [0], 'федеральный': [0, 0, 0, 0], '19': [0], 'чей': [0], 'процесс': [1, 1, 1], 'сообщать': [0, 0], 'роль': [0, 0], 'повторный': [1, 0], 'заключение': [0, 0, 0, 1, 0, 0, 0, 1, 0, 0, 0, 1, 1, 0], 'обнародовать': [1, 0], 'что': [0, 1], 'окружной': [0, 0, 0, 0, 0, 0, 0, 0, 0, 0], 'высокий': [1], 'вне': [0], 'надеяться': [0], 'с': [0, 1, 0, 0], 'о': [0, 0, 0], 'отказ': [0, 0], 'трибунал': [0, 0, 1, 1, 0, 1], 'незаконность': [0], 'Л': [0], 'ущерб': [0], 'считать': [0, 1, 0], 'подавать': [0, 1], 'свой': [0], 'переговоры': [0], 'возглавлять': [0], 'корпорация': [0, 0, 0], 'к': [0], 'вероятно': [0], 'временный': [1, 1], 'отбывать': [1, 1], 'свободный': [0], 'посредничество': [0], 'слово': [0], 'наблюдать': [0], 'районный': [0, 1], 'насамарский': [0], 'верховный': [0, 0, 0, 1, 1], 'анатолий': [0], 'против': [0], 'наказание': [0], 'но': [0], 'инициатор': [0], 'распорядиться': [0], 'заключительный': [1], 'большинство': [1], 'из': [0], 'то': [1], 'занимать': [0, 0], '-': [0, 1, 0], 'который': [0], 'представление': [0, 1, 0], 'быть': [0, 0, 0, 0, 0, 0, 0], 'таможенник': [1], 'слушание': [0, 0, 0], 'раздел': [0, 0], 'удалить': [0, 0], 'уже': [1, 1, 0, 1], 'они': [0, 1, 0, 0, 0, 0], 'вводить': [0], 'голосовать': [1], 'истец': [0], 'полномочияпредседатель': [0], 'должность': [0], 'на': [0], 'уважительный': [0], 'прикрывать': [0], 'претензия': [1], 'постановление': [0, 1, 1, 0, 1, 0, 1], 'постановить': [0], '20': [1], 'бывший': [0], 'встречный': [0], 'запрещать': [0], 'заявление': [1], 'отмечать': [0, 0, 0], 'заявлять': [0, 0, 1, 1, 0, 1, 1, 1], 'служить': [0, 0], 'интерпретировать': [1], 'чтобы': [1], 'арбитражный': [1], 'метр': [1], 'компьютер': [1], 'разумно': [1], 'временно': [0, 0], 'издавать': [0, 1, 0], 'выдавать': [0, 0, 0, 0], 'удалять': [0], 'жалеть': [0], 'решать': [0, 0, 0, 0], 'первый': [1], 'борьба': [0, 0], 'предлагать': [0], 'указание': [1, 0], 'недавний': [0, 0, 0], 'более': [1, 0], 'сша': [1, 0], 'берег': [1, 0], 'действие': [0], 'помощник': [0, 0], 'пенальти': [0, 0, 0], 'неумолимый': [0, 0, 0], 'впредвзятости': [0, 0, 0], 'район': [0], 'статья': [0], 'принимать': [0, 0, 0, 0, 0], 'март': [0, 1], 'подъезд': [0, 1], 'российский': [0, 1, 1], 'счесть': [0, 1, 1], 'а': [1, 1, 1], 'одобрять': [1], 'весь': [0, 0, 0, 1, 0, 0, 0, 1, 0, 0, 0, 1, 1, 0], 'выносить': [0], 'давать': [0, 0, 0, 1], 'должен': [0], 'подозреваемый': [0], '5,7': [0], 'схема': [0, 0], 'официальный': [0, 0], 'не': [0], 'применять': [0, 0, 0], 'понедельник': [0], 'резко': [0, 0, 0], 'передавать': [0, 0, 0], 'страна': [0, 0, 0, 0], '22': [0, 0, 0, 0], 'уйтинесколько': [0, 0, 0, 0], 'препятствование': [0, 0, 0, 0], 'футбольный': [0, 0, 0, 0], 'под': [0, 0, 0, 0], 'предложение': [0], 'такой': [0, 0, 0, 1, 1, 0, 0], 'горсуд': [0, 0], 'получать': [0, 0], 'возвращение': [0, 1], 'правомочный': [0, 1], 'друг': [0, 1], 'вызывать': [0, 1, 0], 'связь': [0], 'подкуп': [0, 0, 1], 'жить': [0, 0, 1], 'главный': [0, 0, 1], 'виновный': [0, 0, 0, 0, 0, 0, 0], 'запрет': [1, 0], 'американский': [1, 0], 'заканчивать': [1, 0], '9': [1], 'шесть': [1], 'спешить': [1], 'изменять': [1], 'вердикт': [0], 'приходить': [0], 'инстанция': [0], 'председательствовать': [0], 'назначать': [0], 'шариатский': [0, 0, 0, 1], 'правовой': [0, 1, 0], 'честь': [0, 1, 0], 'Ю': [1, 0, 1], 'серьезный': [0], 'продление': [0, 0, 0, 0, 0], 'Беганская': [0, 0, 0, 0, 0], 'откладывать': [0, 1, 0, 0, 0], 'турецкий': [0], 'для': [0], 'прекращать': [0, 1, 0, 0], 'государственный': [0, 1], 'подчеркивать': [0, 1], 'личность': [0], 'также': [1, 1, 0, 1, 0], 'Галиано': [1, 1], 'военный': [1], 'прокурорский': [1], 'находить': [1], 'однако': [0, 0], '16': [0], 'заседание': [0], 'округ': [0, 0, 0, 1, 1], 'генеральный': [0], 'выяснение': [0], 'распоряжаться': [0], 'отклонить': [0, 0, 0, 1, 1, 0, 0, 0], 'исключать': [1, 0, 1, 0], 'детский': [1], 'ходатайство': [0, 0, 1, 1, 0], 'необоснованно': [1], 'ведущий': [0, 0, 0], 'апелляция': [0, 0, 0], 'начинать': [1], 'двое': [0, 0, 0, 1, 0, 0, 0, 1, 0, 0, 0, 1, 1, 0], 'некоторый': [0, 0, 0, 1, 0, 0, 0, 1, 0, 0, 0, 1, 1, 0], 'египтолог': [0, 0, 0, 1, 0, 0, 0, 1, 0, 0, 0, 1, 1, 0], 'речь': [0, 0, 0, 1, 0, 0, 0, 1, 0, 0, 0, 1, 1, 0], 'сюжет': [0, 0, 0, 0, 0], 'деталь': [0], 'уходить': [0], '49-летний': [0, 0, 0, 0, 0, 0], 'показание': [0], 'международный': [0], 'палата': [0, 1, 0, 0], 'лишать': [0, 1, 0, 0], 'как': [0, 1], 'интересовать': [0, 0, 0, 0, 0, 0, 0], 'являться': [0, 0], 'один': [1], 'уличение': [1], 'ты': [1, 1], 'лишь': [0], 'дача': [0], 'соглашаться': [0, 0, 1, 1, 0, 1, 1], 'огласить': [0, 1, 1, 0, 1], 'областной': [0, 0, 0, 0, 0, 0, 0, 0], 'ограничивать': [0, 0, 0, 0, 0, 0, 0, 0], 'зачитывать': [1], 'ориентация': [1], 'при': [0], 'назначение': [0], 'либеральный': [0], 'возможный': [0, 1, 1, 0, 1, 0], 'тогда': [0, 1, 0], 'даже': [0, 1, 0], 'спид': [0, 0, 0, 1, 1], 'конвоир': [0, 0, 0, 1, 1], 'Солс': [0, 0, 0, 1, 1], 'отвергать': [0, 0, 0, 1, 1], 'приостановить': [0, 0, 0, 1], 'вопрос': [0, 1], 'матч': [0, 1, 0, 0, 0, 0, 1], 'девять': [0, 0, 1, 1, 0, 1], 'оттягиваний': [0, 1, 0, 0, 0], 'МакВя': [0, 1, 0, 0], 'политический': [0, 0, 0, 1, 1, 0, 0, 0, 0, 0], 'рекомендация': [0], 'прием': [0], 'коллегия': [0], 'ребенок': [0], 'выбирать': [0, 0, 0], 'за': [0], 'голый': [0], 'дата': [0, 0, 0, 0], 'сумма': [0], 'тоталитарный': [0], 'председательствующий': [0, 0, 0, 1, 0, 0, 0, 1, 0, 0, 0, 1, 1, 0, 0, 0, 1, 1], 'она': [1, 1, 1], 'три': [1, 1, 1], 'коридор': [0], 'отправлять': [0], 'судебный': [0], 'проезд': [1], 'задерживать': [0], 'распоряжение': [0, 0], '6900': [0, 0, 0, 1, 1, 0], 'состав': [0, 0, 0, 1, 1, 0], 'убеждать': [0, 0, 0, 1, 1, 0], 'перед': [0], 'выслушивать': [0, 0], 'отказывать': [0, 1], 'объяснять': [0], 'собираться': [0, 1], 'отсмеяться': [1], 'жаловаться': [0, 1, 0, 0, 0], 'палец': [1], 'известный': [1], 'подсудимый': [1, 0, 1, 0, 0, 0], 'пятилетний': [0], 'необходимость': [0], 'новый': [0], 'теперь': [0], 'представлять': [0, 0, 0, 1, 1, 0, 1], 'королевский': [1], 'сменить': [1], 'ведение': [0], 'быстро': [0], 'так': [0], 'разозлиться': [0], 'Кунцевский': [1], 'компания': [0], 'относиться': [0, 0, 0, 0, 0, 0, 0, 0], 'обвиняемый': [0, 1], 'еще': [0, 0, 0, 1, 1], 'обмен': [0, 0, 0, 1, 1], 'игрок': [0, 0, 0, 1, 1], 'свисток': [0, 1, 0, 0, 0], 'приступать': [0, 1, 0, 0, 0], 'адвокат': [0, 1, 0], 'допрашивать': [0, 1, 1, 0, 0, 1], 'данные': [1], 'мировой': [1], '70': [1], 'разрешать': [0], 'приказывать': [0, 1], 'допрос': [0, 0], 'иметь': [1, 1, 0, 1, 0, 1], 'боковой': [1], 'заниматься': [0, 1, 0, 0, 0, 0, 1, 1], 'Baltasar': [1], 'Joel': [0, 1, 0, 0, 0, 0], 'пытаться': [0, 1, 0, 0, 0, 0], 'опасный': [0, 0, 0, 0, 0, 0, 0, 0, 0], 'Alan': [0, 0, 0, 0, 0, 0, 0, 0, 0]}\n"
          ],
          "name": "stdout"
        }
      ]
    },
    {
      "cell_type": "code",
      "metadata": {
        "colab": {
          "base_uri": "https://localhost:8080/"
        },
        "id": "8noqKyMhaHHU",
        "outputId": "68a22869-0fb0-40b2-bfa9-68f9457dac1e"
      },
      "source": [
        "result = {}\n",
        "for word, lis in diff.items():\n",
        "  #print(type(lis))\n",
        "  for w, l in Mat_oj.items():\n",
        "    if word == w:\n",
        "      d=0\n",
        "      if len(lis) == 1:\n",
        "        pass\n",
        "      else:\n",
        "        for i in lis:\n",
        "          x = (i-l)**2\n",
        "          d += x\n",
        "        #print(d)\n",
        "        res = d/(len(lis)-1)\n",
        "        result[word] = res\n",
        "\n",
        "sorted_dict = {}\n",
        "sorted_keys = sorted(result, key=result.get)  # [1, 3, 2]\n",
        "\n",
        "for w in sorted_keys:\n",
        "    sorted_dict[w] = result[w]\n",
        "\n",
        "print(sorted_dict)\n",
        "#print(result)"
      ],
      "execution_count": 451,
      "outputs": [
        {
          "output_type": "stream",
          "text": [
            "{'конституционный': 0.0, 'традиционно': 0.0, 'юрист': 0.0, 'запрос': 0.0, 'требовать': 0.0, 'рассматривать': 0.0, 'прокурор': 0.0, 'жалоба': 0.0, 'федеральный': 0.0, 'процесс': 0.0, 'сообщать': 0.0, 'роль': 0.0, 'окружной': 0.0, 'о': 0.0, 'отказ': 0.0, 'корпорация': 0.0, 'временный': 0.0, 'отбывать': 0.0, 'занимать': 0.0, 'быть': 0.0, 'слушание': 0.0, 'раздел': 0.0, 'удалить': 0.0, 'отмечать': 0.0, 'служить': 0.0, 'временно': 0.0, 'выдавать': 0.0, 'решать': 0.0, 'борьба': 0.0, 'недавний': 0.0, 'помощник': 0.0, 'пенальти': 0.0, 'неумолимый': 0.0, 'впредвзятости': 0.0, 'принимать': 0.0, 'а': 0.0, 'схема': 0.0, 'официальный': 0.0, 'применять': 0.0, 'резко': 0.0, 'передавать': 0.0, 'страна': 0.0, '22': 0.0, 'уйтинесколько': 0.0, 'препятствование': 0.0, 'футбольный': 0.0, 'под': 0.0, 'горсуд': 0.0, 'получать': 0.0, 'виновный': 0.0, 'продление': 0.0, 'Беганская': 0.0, 'Галиано': 0.0, 'однако': 0.0, 'ведущий': 0.0, 'апелляция': 0.0, 'сюжет': 0.0, '49-летний': 0.0, 'интересовать': 0.0, 'являться': 0.0, 'ты': 0.0, 'областной': 0.0, 'ограничивать': 0.0, 'выбирать': 0.0, 'дата': 0.0, 'она': 0.0, 'три': 0.0, 'распоряжение': 0.0, 'выслушивать': 0.0, 'относиться': 0.0, 'допрос': 0.0, 'опасный': 0.0, 'Alan': 0.0, 'они': 0.16666666666666669, 'Joel': 0.16666666666666669, 'пытаться': 0.16666666666666669, 'политический': 0.17777777777777784, 'откладывать': 0.20000000000000007, 'оттягиваний': 0.20000000000000007, 'жаловаться': 0.20000000000000007, 'свисток': 0.20000000000000007, 'приступать': 0.20000000000000007, 'отклонить': 0.21428571428571427, 'заключение': 0.21978021978021978, 'весь': 0.21978021978021978, 'двое': 0.21978021978021978, 'некоторый': 0.21978021978021978, 'египтолог': 0.21978021978021978, 'речь': 0.21978021978021978, 'председательствующий': 0.23529411764705888, 'матч': 0.23809523809523805, 'такой': 0.23809523809523814, 'ход': 0.25, 'с': 0.25, 'уже': 0.25, 'давать': 0.25, 'шариатский': 0.25, 'прекращать': 0.25, 'палата': 0.25, 'лишать': 0.25, 'приостановить': 0.25, 'МакВя': 0.25, '6900': 0.2666666666666667, 'состав': 0.2666666666666667, 'убеждать': 0.2666666666666667, 'подсудимый': 0.2666666666666667, 'иметь': 0.2666666666666667, 'заявлять': 0.26785714285714285, 'заниматься': 0.26785714285714285, 'представлять': 0.28571428571428564, 'решение': 0.2857142857142857, 'постановление': 0.2857142857142857, 'соглашаться': 0.2857142857142857, 'от': 0.3, 'трибунал': 0.3, 'возможный': 0.3, 'девять': 0.3, 'допрашивать': 0.3, 'и': 0.30000000000000004, 'верховный': 0.30000000000000004, 'также': 0.30000000000000004, 'округ': 0.30000000000000004, 'ходатайство': 0.30000000000000004, 'огласить': 0.30000000000000004, 'спид': 0.30000000000000004, 'конвоир': 0.30000000000000004, 'Солс': 0.30000000000000004, 'отвергать': 0.30000000000000004, 'еще': 0.30000000000000004, 'обмен': 0.30000000000000004, 'игрок': 0.30000000000000004, 'исключать': 0.3333333333333333, 'считать': 0.33333333333333337, '-': 0.33333333333333337, 'представление': 0.33333333333333337, 'издавать': 0.33333333333333337, 'российский': 0.33333333333333337, 'счесть': 0.33333333333333337, 'вызывать': 0.33333333333333337, 'подкуп': 0.33333333333333337, 'жить': 0.33333333333333337, 'главный': 0.33333333333333337, 'правовой': 0.33333333333333337, 'честь': 0.33333333333333337, 'Ю': 0.33333333333333337, 'тогда': 0.33333333333333337, 'даже': 0.33333333333333337, 'адвокат': 0.33333333333333337, 'повторный': 0.5, 'обнародовать': 0.5, 'что': 0.5, 'подавать': 0.5, 'районный': 0.5, 'указание': 0.5, 'более': 0.5, 'сша': 0.5, 'берег': 0.5, 'март': 0.5, 'подъезд': 0.5, 'возвращение': 0.5, 'правомочный': 0.5, 'друг': 0.5, 'запрет': 0.5, 'американский': 0.5, 'заканчивать': 0.5, 'государственный': 0.5, 'подчеркивать': 0.5, 'как': 0.5, 'вопрос': 0.5, 'отказывать': 0.5, 'собираться': 0.5, 'обвиняемый': 0.5, 'приказывать': 0.5}\n"
          ],
          "name": "stdout"
        }
      ]
    },
    {
      "cell_type": "code",
      "metadata": {
        "id": "L21xbCd9oGlW"
      },
      "source": [
        "for sentence in law_corpora:\n",
        "  for i in sentence:\n",
        "    if 'конституционный_VERB' in i:\n",
        "      print(sentence)"
      ],
      "execution_count": 453,
      "outputs": []
    },
    {
      "cell_type": "markdown",
      "metadata": {
        "id": "TGhtut_Hnhi1"
      },
      "source": [
        "Результаты дисперсии первого эксперимента"
      ]
    },
    {
      "cell_type": "code",
      "metadata": {
        "colab": {
          "base_uri": "https://localhost:8080/"
        },
        "id": "jTdNnfisnaXA",
        "outputId": "d4f24832-5bb8-4430-e46a-9385f6b2dcdc"
      },
      "source": [
        "parsed_unlc=[]\n",
        "for sentence in unlc:\n",
        "  p_sent=[]\n",
        "  for i in sentence:\n",
        "    w=[]\n",
        "    w=i.split(sep=\"_\")\n",
        "    if re.match(r'_PUNCT_', m):\n",
        "      pass\n",
        "    else:\n",
        "      if len(w)<3:\n",
        "        if i not in sentence:\n",
        "          pass\n",
        "        else:\n",
        "          sentence.remove(i)\n",
        "      else:\n",
        "        p_sent.append(w[2])\n",
        "  parsed_unlc.append(p_sent)\n",
        "print(parsed_unlc[:10])"
      ],
      "execution_count": 207,
      "outputs": [
        {
          "output_type": "stream",
          "text": [
            "[['швейцарский', 'федеральный', 'прокурор', 'дель', 'Понти', 'заявлять', 'что', 'работать', 'на', 'шеф', 'разведывательный', 'служба', 'и', 'получать', '5,8', 'миллион', 'доллар', 'от', 'министерство', 'оборона', 'для', 'покупка', 'огромный', 'количество', 'оружие'], ['адвокат', 'Сед', 'заявлять', 'что', 'он', 'клиент', 'отвергать', 'этот', 'обвинение'], ['дель', 'Понти', 'недавно', 'становиться', 'прокурор', 'международный', 'по', 'военный', 'преступление', 'заявлять', 'дело', 'против', 'и', 'еще', 'трое', 'высокопоставленный', 'чиновник', 'закрывать'], ['федеральный', 'прокурор', 'добавлять', 'что', 'расследование', 'быть', 'продолжить', 'в', 'отношение', 'шеф', 'стратегический', 'информационный', 'служба', 'который', 'возникать', 'в', 'документ', 'по', 'дело'], ['бывший', 'генеральный', 'прокурор', 'юрий', 'считать', 'что', 'близкий', 'окружение', 'президент', 'пытаться', 'препятствовать', 'серьезный', 'расследование', 'ситуация', 'связывать', 'с', 'bank', 'of', 'new', 'york', 'который', 'отмываться', 'деньги', 'получать', 'от'], ['мой', 'адвокат', 'изучать', 'документ', 'чтобы', 'обращаться', 'в', 'суд'], ['сумма', 'возмещение', 'ущерб', 'по', 'иск', 'в', 'настоящий', 'времяопределяться', 'адвокат', 'и', 'юрист', 'заниматься', 'подготовкойисковый', 'заявление'], ['но', 'окружной', 'судья', 'решать', 'дело', 'в', 'польза', 'веб', '-издательствый', 'она', 'отвергать', 'требование', 'в', 'судебный', 'порядок', 'запрещать', 'публикация', 'секретный', 'документ', 'поскольку', 'такой', 'запрет', 'нарушать', 'бы', 'свобода', 'слово'], ['однако', 'судья', 'все', 'же', 'выносить', 'постановление', 'связывать', 'с', 'то', 'что', 'нарушать', 'копирайт', 'компания'], ['при', 'это', 'судья', 'добавлять', 'что', 'судебный', 'система', 'только', 'начинать', 'подходить', 'к', 'такой', 'сложный', 'вопрос', 'как', 'свобода', 'слово', 'и', 'защита', 'интеллектуальный', 'собственность', 'в']]\n"
          ],
          "name": "stdout"
        }
      ]
    },
    {
      "cell_type": "code",
      "metadata": {
        "colab": {
          "base_uri": "https://localhost:8080/"
        },
        "id": "XmlwN3_ayk_j",
        "outputId": "20624386-8c1a-4340-e259-78152951c6e4"
      },
      "source": [
        "print(parsed_unlc[:10])"
      ],
      "execution_count": 208,
      "outputs": [
        {
          "output_type": "stream",
          "text": [
            "[['швейцарский', 'федеральный', 'прокурор', 'дель', 'Понти', 'заявлять', 'что', 'работать', 'на', 'шеф', 'разведывательный', 'служба', 'и', 'получать', '5,8', 'миллион', 'доллар', 'от', 'министерство', 'оборона', 'для', 'покупка', 'огромный', 'количество', 'оружие'], ['адвокат', 'Сед', 'заявлять', 'что', 'он', 'клиент', 'отвергать', 'этот', 'обвинение'], ['дель', 'Понти', 'недавно', 'становиться', 'прокурор', 'международный', 'по', 'военный', 'преступление', 'заявлять', 'дело', 'против', 'и', 'еще', 'трое', 'высокопоставленный', 'чиновник', 'закрывать'], ['федеральный', 'прокурор', 'добавлять', 'что', 'расследование', 'быть', 'продолжить', 'в', 'отношение', 'шеф', 'стратегический', 'информационный', 'служба', 'который', 'возникать', 'в', 'документ', 'по', 'дело'], ['бывший', 'генеральный', 'прокурор', 'юрий', 'считать', 'что', 'близкий', 'окружение', 'президент', 'пытаться', 'препятствовать', 'серьезный', 'расследование', 'ситуация', 'связывать', 'с', 'bank', 'of', 'new', 'york', 'который', 'отмываться', 'деньги', 'получать', 'от'], ['мой', 'адвокат', 'изучать', 'документ', 'чтобы', 'обращаться', 'в', 'суд'], ['сумма', 'возмещение', 'ущерб', 'по', 'иск', 'в', 'настоящий', 'времяопределяться', 'адвокат', 'и', 'юрист', 'заниматься', 'подготовкойисковый', 'заявление'], ['но', 'окружной', 'судья', 'решать', 'дело', 'в', 'польза', 'веб', '-издательствый', 'она', 'отвергать', 'требование', 'в', 'судебный', 'порядок', 'запрещать', 'публикация', 'секретный', 'документ', 'поскольку', 'такой', 'запрет', 'нарушать', 'бы', 'свобода', 'слово'], ['однако', 'судья', 'все', 'же', 'выносить', 'постановление', 'связывать', 'с', 'то', 'что', 'нарушать', 'копирайт', 'компания'], ['при', 'это', 'судья', 'добавлять', 'что', 'судебный', 'система', 'только', 'начинать', 'подходить', 'к', 'такой', 'сложный', 'вопрос', 'как', 'свобода', 'слово', 'и', 'защита', 'интеллектуальный', 'собственность', 'в']]\n"
          ],
          "name": "stdout"
        }
      ]
    },
    {
      "cell_type": "code",
      "metadata": {
        "colab": {
          "base_uri": "https://localhost:8080/"
        },
        "id": "s91gN2nkzCFU",
        "outputId": "4ad4652a-bbfc-4ad0-a1f3-ac99fd67186f"
      },
      "source": [
        "print(p_sent)"
      ],
      "execution_count": 209,
      "outputs": [
        {
          "output_type": "stream",
          "text": [
            "['адвокат', 'ан', 'надеяться', 'получать', 'искомый', 'сумма', 'с', 'заморозить', 'на', 'территория', 'счет', 'кубинский', 'правительство']\n"
          ],
          "name": "stdout"
        }
      ]
    },
    {
      "cell_type": "code",
      "metadata": {
        "id": "ymQf7PnqjrYd"
      },
      "source": [
        "import math"
      ],
      "execution_count": 210,
      "outputs": []
    },
    {
      "cell_type": "code",
      "metadata": {
        "colab": {
          "base_uri": "https://localhost:8080/"
        },
        "id": "kViGL9RSL1iq",
        "outputId": "9bd51277-10bd-4872-fdbd-dd7940c407d3"
      },
      "source": [
        "spisok = []\n",
        "diff = {}\n",
        "b = {}\n",
        "for sentence in parsed_unlc:\n",
        "  for i in sentence:\n",
        "    if i == 'судья':\n",
        "      if i not in sentence:\n",
        "        pass\n",
        "      else:\n",
        "        n = sentence.index(i)\n",
        "      #print(n)\n",
        "        if i == sentence[-1]:\n",
        "          pass\n",
        "        else:\n",
        "          m = sentence[n+1]\n",
        "          spisok.append(i+' '+m)\n",
        "print(spisok)\n",
        "for i in spisok:\n",
        "  freq_b = 0\n",
        "  big = i.split(' ')[1]\n",
        "  for sentence in parsed_unlc:\n",
        "    for i in sentence:\n",
        "      if i == big:\n",
        "      #print(sentence)\n",
        "        freq_b += 1\n",
        "  b[big] = freq_b\n",
        "for i in spisok:\n",
        "  if i in diff.keys():\n",
        "    for w, l in diff.items():\n",
        "      diff[i] = l+1\n",
        "  else:\n",
        "    diff[i] = 1\n",
        "print(diff)\n",
        "freq_a=0\n",
        "for sentence in parsed_unlc:\n",
        "  for i in sentence:\n",
        "    if i == 'судья':\n",
        "      #print(sentence)\n",
        "      freq_a += 1\n",
        "print(freq_a)\n",
        "  #print(big, freq_b)"
      ],
      "execution_count": 211,
      "outputs": [
        {
          "output_type": "stream",
          "text": [
            "['судья решать', 'судья все', 'судья добавлять', 'судья конституционный', 'судья отклонять', 'судья считать', 'судья направлять', 'судья получать', 'судья Каспер-Анзерма', 'судья с', 'судья признавать', 'судья Дево', 'судья независимо', 'судья проводить', 'судья от', 'судья шотландский', 'судья постановить', 'судья вызывать', 'судья вызывать', 'судья традиционно', 'судья юрист', 'судья удовлетворять', 'судья и', 'судья областной', 'судья Кужанкуй', 'судья удовлетворять', 'судья запрещать', 'судья и', 'судья министр', 'судья в', 'судья они', 'судья мочь', 'судья быть', 'судья судебный', 'судья он', 'судья по', 'судья гласить', 'судья объявлять', 'судья отказываться', 'судья добиваться', 'судья Руссо', 'судья на', 'судья по', 'судья прокурор', 'судья комментировать', 'судья по', 'судья оглашение', 'судья от', 'судья и', 'судья все', 'судья все', 'судья обеспокоить', 'судья еще', 'судья федеральный', 'судья вынести', 'судья отклонять', 'судья отмечать', 'судья рассмотрение', 'судья американский', 'судья 19', 'судья чей', 'судья на', 'судья назначать', 'судья назначать', 'судья назначить', 'судья быть', 'судья проект', 'судья обнародовать', 'судья что', 'судья более', 'судья должен', 'судья договориться', 'судья городской', 'судья и', 'судья проходить', 'судья должен', 'судья шариатский', 'судья и', 'судья соглашаться', 'судья объявлять', 'судья за', 'судья выносить', 'судья международный', 'судья о', 'судья решение', 'судья Л', 'судья наносить', 'судья не', 'судья истец', 'судья по', 'судья в', 'судья вести', 'судья возглавлять', 'судья объявлять', 'судья приходить', 'судья вероятно', 'судья рассматривать', 'судья вынесение', 'судья отбывать', 'судья делить', 'судья судебный', 'судья слово', 'судья Печерский', 'судья в', 'судья верховный', 'судья анатолий', 'судья но', 'судья инициатор', 'судья быть', 'судья Дево', 'судья брайан', 'судья в', 'судья подавлять', 'судья закрывать', 'судья конституционный', 'судья один', 'судья поступать', 'судья рассматривать', 'судья связывать', 'судья удовлетворять', 'судья не', 'судья признавать', 'судья занимать', 'судья тверской', 'судья современность', 'судья который', 'судья который', 'судья с', 'судья вынужденный', 'судья таможенник', 'судья назначать', 'судья конституционный', 'судья о', 'судья даже', 'судья Санджованниприступит', 'судья рассматривать', 'судья и', 'судья быть', 'судья и', 'судья заявлять', 'судья выносить', 'судья дело', 'судья приостановить', 'судья не', 'судья просить', 'судья прекращать', 'судья который', 'судья от', 'судья жалоба', 'судья по', 'судья приходиться', 'судья претензия', 'судья издавать', 'судья Мэрили', 'судья из', 'судья приговаривать', 'судья Альдижер', 'судья апелляционный', 'судья бывший', 'судья парижский', 'судья выносить', 'судья отвергать', 'судья постановлять', 'судья игнорировать', 'судья служить', 'судья неверно', 'судья чтобы', 'судья от', 'судья один', 'судья метр', 'судья компьютер', 'судья вполне', 'судья который', 'судья постановлять', 'судья запрещать', 'судья верховный', 'судья верховный', 'судья Дево', 'судья разрешать', 'судья отказывать', 'судья обнаруживать', 'судья выгонять', 'судья он', 'судья Мтбя', 'судья указывать', 'судья требовать', 'судья и', 'судья считать', 'судья направлять', 'судья -', 'судья для', 'судья который', 'судья принимать', 'судья давать', 'судья конституционный', 'судья молчать', 'судья отклонять', 'судья Пфильцер', 'судья предлагать', 'судья новый', 'судья и', 'судья восточный', 'судья соглашаться', 'судья назначать', 'судья быть', 'судья крикнуть', 'судья констатировать', 'судья называть', 'судья который', 'судья быть', 'судья парижский', 'судья центральный', 'судья нарушеныположение', 'судья сказать', 'судья принимать', 'судья в', 'судья в', 'судья в', 'судья окружной', 'судья что', 'судья принимать', 'судья в', 'судья готовый', 'судья не', 'судья а', 'судья весь', 'судья выносить', 'судья уже', 'судья мочь', 'судья направлять', 'судья -докладчикий', 'судья Салониуспредоставлять', 'судья орт', 'судья против', 'судья признавать', 'судья заслушать', 'судья -', 'судья отвергать', 'судья официальный', 'судья который', 'судья не', 'судья предстоять', 'судья мочь', 'судья в', 'судья соглашаться', 'судья отнюдь', 'судья апелляционный', 'судья быть', 'судья акция', 'судья который', 'судья передавать', 'судья и', 'судья постановлять', 'судья который', 'судья который', 'судья слушание', 'судья заявлять', 'судья другой', 'судья мочь', 'судья или', 'судья и', 'судья под', 'судья обязать', 'судья лояльность', 'судья этот', 'судья по', 'судья выносить', 'судья один', 'судья выносить', 'судья приходить', 'судья Белорецкий', 'судья Дево', 'судья получать', 'судья фрунзенский', 'судья о', 'судья о', 'судья друг', 'судья приходить', 'судья быть', 'судья решать', 'судья Каспер-Анзерма', 'судья -', 'судья в', 'судья в', 'судья жить', 'судья два', 'судья главный', 'судья добавлять', 'судья не', 'судья верховный', 'судья признавать', 'судья удалить', 'судья запрет', 'судья этот', 'судья и', 'судья заканчивать', 'судья 9', 'судья шесть', 'судья не', 'судья не', 'судья разделяться', 'судья Дево', 'судья опубликовывать', 'судья первый', 'судья подчеркивать', 'судья председательствовать', 'судья совместно', 'судья верховный', 'судья давать', 'судья гражданин', 'судья по', 'судья этот', 'судья сказать', 'судья который', 'судья Ю', 'судья быть', 'судья совершать', 'судья лишать', 'судья разрешать', 'судья обнаруживать', 'судья заявлять', 'судья продление', 'судья -', 'судья принимать', 'судья отмечать', 'судья ходатайство', 'судья постановить', 'судья отдавать', 'судья решать', 'судья государственный', 'судья постоянно', 'судья учесть', 'судья рассматривать', 'судья заявлять', 'судья в', 'судья пока', 'судья решать', 'судья в', 'судья проводить', 'судья откладывать', 'судья другой', 'судья мочь', 'судья или', 'судья эксперт', 'судья руководство', 'судья этот', 'судья выносить', 'судья один', 'судья выносить', 'судья Белорецкий', 'судья Дево', 'судья бывший', 'судья о', 'судья о', 'судья убить', 'судья примененыненадлежащий', 'судья приходить', 'судья быть', 'судья Каспер-Анзерма', 'судья сотрудник', 'судья в', 'судья Корреа', 'судья Галиано', 'судья известный', 'судья прокурорский', 'судья находить', 'судья подтверждать', 'судья подтверждать', 'судья быть', 'судья однако', 'судья и', 'судья и', 'судья в', 'судья в', 'судья из', 'судья по', 'судья поддерживать', 'судья до', 'судья также', 'судья в', 'судья выносить', 'судья процесс', 'судья округ', 'судья свой', 'судья -', 'судья округ', 'судья отказываться', 'судья сказать', 'судья быть', 'судья не', 'судья по', 'судья по', 'судья необоснованно', 'судья ведущий', 'судья отвергать', 'судья верховный', 'судья верховный', 'судья ведущий', 'судья решать', 'судья отклонять', 'судья уносить', 'судья быть', 'судья двое', 'судья который', 'судья который', 'судья залог', 'судья за', 'судья о', 'судья Инть', 'судья верховный', 'судья речь', 'судья признавать', 'судья обсуждать', 'судья сохранять', 'судья уходить', 'судья быть', 'судья на', 'судья признавать', 'судья выслушивать', 'судья европейский', 'судья давать', 'судья с', 'судья быть', 'судья должен', 'судья уголовный', 'судья некий', 'судья некий', 'судья лишать', 'судья как', 'судья заявлять', 'судья интересовать', 'судья высокий', 'судья высокий', 'судья обязать', 'судья верховный', 'судья один', 'судья уличение', 'судья немедленно', 'судья -', 'судья оставаться', 'судья для', 'судья устанавливать', 'судья не', 'судья не', 'судья и', 'судья он', 'судья заявлять', 'судья курский', 'судья который', 'судья ограничивать', 'судья пресненский', 'судья консервативный', 'судья пойти', 'судья -', 'судья считать', 'судья верховный', 'судья который', 'судья а', 'судья справка', 'судья Эрв', 'судья прекращать', 'судья -', 'судья даже', 'судья верховный', 'судья удовлетворять', 'судья определение', 'судья заявлять', 'судья нина', 'судья спид', 'судья и', 'судья и', 'судья флоридский', 'судья в', 'судья округ', 'судья штат', 'судья который', 'судья штат', 'судья предстоять', 'судья матч', 'судья выносить', 'судья еще', 'судья отказываться', 'судья международный', 'судья из', 'судья верховный', 'судья прекращать', 'судья МакВя', 'судья и', 'судья выносить', 'судья о', 'судья руководствоваться', 'судья прием', 'судья в', 'судья ставить', 'судья по', 'судья Гом', 'судья предстоять', 'судья беседовать', 'судья по', 'судья который', 'судья предстать', 'судья выпускать', 'судья объявлять', 'судья некий', 'судья некий', 'судья постановлять', 'судья а', 'судья уменьшать', 'судья демонстрировать', 'судья демонстрировать', 'судья признавать', 'судья не', 'судья принимать', 'судья отказываться', 'судья и', 'судья в', 'судья объяснять', 'судья в', 'судья отправлять', 'судья и', 'судья информировать', 'судья заявлять', 'судья отдавать', 'судья быть', 'судья отмечать', 'судья 6900', 'судья национальный', 'судья документ', 'судья верховный', 'судья следовать', 'судья уменьшать', 'судья долждать', 'судья отказывать', 'судья относиться', 'судья и', 'судья уже', 'судья отсмеяться', 'судья прекращать', 'судья муж', 'судья свой', 'судья известный', 'судья сказать', 'судья напоминать', 'судья пятилетний', 'судья конституционный', 'судья о', 'судья Похорелска', 'судья который', 'судья Похорелска', 'судья Похорелска', 'судья должен', 'судья Похорелска', 'судья израильский', 'судья представлять', 'судья Ньюпортский', 'судья от', 'судья быть', 'судья Похорелска', 'судья постановлять', 'судья пообещать', 'судья окончательный', 'судья окончательный', 'судья из', 'судья который', 'судья так', 'судья Кунцевский', 'судья обязать', 'судья также', 'судья признавать', 'судья неприязненно', 'судья обвиняемый', 'судья Похорелска', 'судья любезно', 'судья все', 'судья график', 'судья матч', 'судья давать', 'судья не', 'судья отказывать', 'судья палата', 'судья отказываться', 'судья допрашивать', 'судья какой-то', 'судья быть', 'судья -', 'судья в', 'судья верховный', 'судья Погорелска', 'судья заявлять', 'судья Погорелска', 'судья мочь', 'судья оставлять', 'судья не', 'судья снова', 'судья отказываться', 'судья заявлять', 'судья проводить', 'судья однако', 'судья рассматривать', 'судья и', 'судья Похорелска', 'судья предстоять', 'судья заниматься', 'судья Черемушкинский', 'судья Baltasar', 'судья вставать', 'судья порекомендовать', 'судья Похорелска', 'судья давать', 'судья Joel', 'судья просто', 'судья Бетти', 'судья признавать', 'судья Alan']\n",
            "{'судья решать': 4, 'судья все': 2, 'судья добавлять': 2, 'судья конституционный': 2, 'судья отклонять': 4, 'судья считать': 2, 'судья направлять': 2, 'судья получать': 2, 'судья Каспер-Анзерма': 2, 'судья с': 2, 'судья признавать': 2, 'судья Дево': 2, 'судья независимо': 1, 'судья проводить': 2, 'судья от': 2, 'судья шотландский': 1, 'судья постановить': 2, 'судья вызывать': 3, 'судья традиционно': 1, 'судья юрист': 1, 'судья удовлетворять': 2, 'судья и': 2, 'судья областной': 1, 'судья Кужанкуй': 1, 'судья запрещать': 2, 'судья министр': 1, 'судья в': 2, 'судья они': 1, 'судья мочь': 4, 'судья быть': 2, 'судья судебный': 2, 'судья он': 2, 'судья по': 2, 'судья гласить': 1, 'судья объявлять': 2, 'судья отказываться': 2, 'судья добиваться': 1, 'судья Руссо': 1, 'судья на': 2, 'судья прокурор': 1, 'судья комментировать': 1, 'судья оглашение': 1, 'судья обеспокоить': 1, 'судья еще': 2, 'судья федеральный': 1, 'судья вынести': 1, 'судья отмечать': 2, 'судья рассмотрение': 1, 'судья американский': 1, 'судья 19': 1, 'судья чей': 1, 'судья назначать': 2, 'судья назначить': 1, 'судья проект': 1, 'судья обнародовать': 1, 'судья что': 2, 'судья более': 1, 'судья должен': 4, 'судья договориться': 1, 'судья городской': 1, 'судья проходить': 1, 'судья шариатский': 1, 'судья соглашаться': 2, 'судья за': 2, 'судья выносить': 2, 'судья международный': 2, 'судья о': 2, 'судья решение': 1, 'судья Л': 1, 'судья наносить': 1, 'судья не': 2, 'судья истец': 1, 'судья вести': 1, 'судья возглавлять': 1, 'судья приходить': 2, 'судья вероятно': 1, 'судья рассматривать': 2, 'судья вынесение': 1, 'судья отбывать': 1, 'судья делить': 1, 'судья слово': 1, 'судья Печерский': 1, 'судья верховный': 2, 'судья анатолий': 1, 'судья но': 1, 'судья инициатор': 1, 'судья брайан': 1, 'судья подавлять': 1, 'судья закрывать': 1, 'судья один': 4, 'судья поступать': 1, 'судья связывать': 1, 'судья занимать': 1, 'судья тверской': 1, 'судья современность': 1, 'судья который': 4, 'судья вынужденный': 1, 'судья таможенник': 1, 'судья даже': 2, 'судья Санджованниприступит': 1, 'судья заявлять': 2, 'судья дело': 1, 'судья приостановить': 1, 'судья просить': 1, 'судья прекращать': 2, 'судья жалоба': 1, 'судья приходиться': 1, 'судья претензия': 1, 'судья издавать': 1, 'судья Мэрили': 1, 'судья из': 4, 'судья приговаривать': 1, 'судья Альдижер': 1, 'судья апелляционный': 2, 'судья бывший': 2, 'судья парижский': 2, 'судья отвергать': 2, 'судья постановлять': 2, 'судья игнорировать': 1, 'судья служить': 1, 'судья неверно': 1, 'судья чтобы': 1, 'судья метр': 1, 'судья компьютер': 1, 'судья вполне': 1, 'судья разрешать': 2, 'судья отказывать': 2, 'судья обнаруживать': 2, 'судья выгонять': 1, 'судья Мтбя': 1, 'судья указывать': 1, 'судья требовать': 1, 'судья -': 2, 'судья для': 2, 'судья принимать': 4, 'судья давать': 2, 'судья молчать': 1, 'судья Пфильцер': 1, 'судья предлагать': 1, 'судья новый': 1, 'судья восточный': 1, 'судья крикнуть': 1, 'судья констатировать': 1, 'судья называть': 1, 'судья центральный': 1, 'судья нарушеныположение': 1, 'судья сказать': 2, 'судья окружной': 1, 'судья готовый': 1, 'судья а': 2, 'судья весь': 1, 'судья уже': 2, 'судья -докладчикий': 1, 'судья Салониуспредоставлять': 1, 'судья орт': 1, 'судья против': 1, 'судья заслушать': 1, 'судья официальный': 1, 'судья предстоять': 2, 'судья отнюдь': 1, 'судья акция': 1, 'судья передавать': 1, 'судья слушание': 1, 'судья другой': 2, 'судья или': 2, 'судья под': 1, 'судья обязать': 2, 'судья лояльность': 1, 'судья этот': 2, 'судья Белорецкий': 2, 'судья фрунзенский': 1, 'судья друг': 1, 'судья жить': 1, 'судья два': 1, 'судья главный': 1, 'судья удалить': 1, 'судья запрет': 1, 'судья заканчивать': 1, 'судья 9': 1, 'судья шесть': 1, 'судья разделяться': 1, 'судья опубликовывать': 1, 'судья первый': 1, 'судья подчеркивать': 1, 'судья председательствовать': 1, 'судья совместно': 1, 'судья гражданин': 1, 'судья Ю': 1, 'судья совершать': 1, 'судья лишать': 4, 'судья продление': 1, 'судья ходатайство': 1, 'судья отдавать': 2, 'судья государственный': 1, 'судья постоянно': 1, 'судья учесть': 1, 'судья пока': 1, 'судья откладывать': 1, 'судья эксперт': 1, 'судья руководство': 1, 'судья убить': 1, 'судья примененыненадлежащий': 1, 'судья сотрудник': 1, 'судья Корреа': 1, 'судья Галиано': 1, 'судья известный': 2, 'судья прокурорский': 1, 'судья находить': 1, 'судья подтверждать': 3, 'судья однако': 2, 'судья поддерживать': 1, 'судья до': 1, 'судья также': 2, 'судья процесс': 1, 'судья округ': 2, 'судья свой': 2, 'судья необоснованно': 1, 'судья ведущий': 3, 'судья уносить': 1, 'судья двое': 1, 'судья залог': 1, 'судья Инть': 1, 'судья речь': 1, 'судья обсуждать': 1, 'судья сохранять': 1, 'судья уходить': 1, 'судья выслушивать': 1, 'судья европейский': 1, 'судья уголовный': 1, 'судья некий': 2, 'судья как': 1, 'судья интересовать': 1, 'судья высокий': 3, 'судья уличение': 1, 'судья немедленно': 1, 'судья оставаться': 1, 'судья устанавливать': 1, 'судья курский': 1, 'судья ограничивать': 1, 'судья пресненский': 1, 'судья консервативный': 1, 'судья пойти': 1, 'судья справка': 1, 'судья Эрв': 1, 'судья определение': 1, 'судья нина': 1, 'судья спид': 1, 'судья флоридский': 1, 'судья штат': 3, 'судья матч': 2, 'судья МакВя': 1, 'судья руководствоваться': 1, 'судья прием': 1, 'судья ставить': 1, 'судья Гом': 1, 'судья беседовать': 1, 'судья предстать': 1, 'судья выпускать': 1, 'судья уменьшать': 2, 'судья демонстрировать': 3, 'судья объяснять': 1, 'судья отправлять': 1, 'судья информировать': 1, 'судья 6900': 1, 'судья национальный': 1, 'судья документ': 1, 'судья следовать': 1, 'судья долждать': 1, 'судья относиться': 1, 'судья отсмеяться': 1, 'судья муж': 1, 'судья напоминать': 1, 'судья пятилетний': 1, 'судья Похорелска': 2, 'судья израильский': 1, 'судья представлять': 1, 'судья Ньюпортский': 1, 'судья пообещать': 1, 'судья окончательный': 3, 'судья так': 1, 'судья Кунцевский': 1, 'судья неприязненно': 1, 'судья обвиняемый': 1, 'судья любезно': 1, 'судья график': 1, 'судья палата': 1, 'судья допрашивать': 1, 'судья какой-то': 1, 'судья Погорелска': 3, 'судья оставлять': 1, 'судья снова': 1, 'судья заниматься': 1, 'судья Черемушкинский': 1, 'судья Baltasar': 1, 'судья вставать': 1, 'судья порекомендовать': 1, 'судья Joel': 1, 'судья просто': 1, 'судья Бетти': 1, 'судья Alan': 1}\n",
            "689\n"
          ],
          "name": "stdout"
        }
      ]
    },
    {
      "cell_type": "code",
      "metadata": {
        "colab": {
          "base_uri": "https://localhost:8080/"
        },
        "id": "yeywR0BjoWno",
        "outputId": "27727a1d-abd2-44f2-bfb6-21dcaa83efea"
      },
      "source": [
        "for w, l in list(diff.items()):\n",
        "  #print(w)\n",
        "  big = w.split(' ')[1]\n",
        "  diff[big] = l\n",
        "pmi_list=[]\n",
        "for word, lis in diff.items():\n",
        "  #print(type(lis))\n",
        "  for w, l in b.items():\n",
        "    ind = []\n",
        "    if word == w:\n",
        "      pmi = math.log(lis*48796/(freq_a * l))\n",
        "      ind.append(pmi)\n",
        "      ind.append(word)\n",
        "      pmi_list.append(ind)\n",
        "print(sorted(pmi_list))"
      ],
      "execution_count": 212,
      "outputs": [
        {
          "output_type": "stream",
          "text": [
            "[[-2.814377746371993, 'в'], [-2.5071807750104225, 'прокурор'], [-2.0258357442538952, 'и'], [-1.7644951642087763, 'что'], [-1.7572135786375134, 'по'], [-1.7237739304322208, 'дело'], [-1.6600746875646446, 'на'], [-1.6397350033275218, 'как'], [-1.474795741869681, 'быть'], [-1.4519189272159265, 'он'], [-1.4045327356931847, 'о'], [-1.3923268300136808, 'не'], [-1.338259608743405, 'с'], [-1.3157867528913465, 'решение'], [-1.182255360266824, 'слово'], [-1.0677138185346113, 'они'], [-0.8902348862164449, '-'], [-0.6814800723543347, 'заявлять'], [-0.6264202951713072, 'этот'], [-0.5761195566965084, 'уголовный'], [-0.4672254684573709, 'свой'], [-0.39379799990255376, 'весь'], [-0.31454862824841323, 'под'], [-0.2724371428982863, 'до'], [-0.2724371428982863, 'передавать'], [-0.2616262267940707, 'от'], [-0.15867825754162826, 'который'], [-0.14655689700928343, 'для'], [-0.14655689700928343, 'против'], [-0.12186428441891203, 'документ'], [-0.0836430715987142, 'федеральный'], [-0.07057099003136151, 'за'], [-0.002517526786345787, 'ходатайство'], [0.011667108205610626, 'жалоба'], [0.04065464507886285, 'представлять'], [0.0554697308640036, 'главный'], [0.06296040259316112, 'также'], [0.07811220761376339, 'судебный'], [0.09349712645324278, 'однако'], [0.10127926689529786, 'американский'], [0.11702762386343693, 'бывший'], [0.11702762386343693, 'но'], [0.11702762386343693, 'процесс'], [0.133027965209878, 'требовать'], [0.1575189852181739, 'а'], [0.16581778803286903, 'новый'], [0.19971933970855035, 'так'], [0.21711108242041954, 'обвиняемый'], [0.2528291650224987, 'рассмотрение'], [0.28987043670284784, 'первый'], [0.28987043670284784, 'слушание'], [0.28987043670284784, 'чтобы'], [0.32833671753064386, 'из'], [0.4100147485449111, 'два'], [0.4315209537658746, 'государственный'], [0.49896223456140715, 'более'], [0.5224927319716013, 'верховный'], [0.5465902835506619, 'просить'], [0.5465902835506619, 'считать'], [0.5588603761424762, 'отмечать'], [0.5712828961410333, 'истец'], [0.5902109060265521, 'мочь'], [0.5966007041253232, 'окружной'], [0.5966007041253232, 'сотрудник'], [0.6225761905285838, 'получать'], [0.7192030262176556, 'уже'], [0.7636547887884894, 'проходить'], [0.7944264474552432, 'министр'], [0.7944264474552432, 'пока'], [0.7944264474552432, 'предлагать'], [0.8589649685928143, 'называть'], [0.8757720869091955, 'сказать'], [0.8928665202684957, 'выносить'], [0.8928665202684957, 'подчеркивать'], [0.9102582629803648, 'еще'], [0.9279578400797658, 'удовлетворять'], [0.9643254842506405, 'занимать'], [0.9643254842506405, 'напоминать'], [0.9643254842506405, 'округ'], [0.9643254842506405, 'совершать'], [1.0020658122334876, 'добиваться'], [1.0020658122334876, 'один'], [1.0020658122334876, 'связывать'], [1.0214838980905891, 'проводить'], [1.041286525386769, 'вести'], [1.0614892327042884, 'все'], [1.0614892327042884, 'другой'], [1.0614892327042884, 'признавать'], [1.1031619291048564, 'или'], [1.1031619291048564, 'отказываться'], [1.12466813432582, 'давать'], [1.12466813432582, 'направлять'], [1.12466813432582, 'оставаться'], [1.12466813432582, 'рассматривать'], [1.1355972048580103, 'принимать'], [1.1691198968966539, 'городской'], [1.1691198968966539, 'известный'], [1.1691198968966539, 'назначать'], [1.2038054548845438, 'должен'], [1.2156399125315467, 'гражданин'], [1.2156399125315467, 'заниматься'], [1.2156399125315467, 'находить'], [1.2156399125315467, 'палата'], [1.3157233710885292, 'областной'], [1.3157233710885292, 'указывать'], [1.3157233710885292, 'устанавливать'], [1.369790592358805, 'залог'], [1.369790592358805, 'откладывать'], [1.369790592358805, 'руководство'], [1.369790592358805, 'ставить'], [1.369790592358805, 'штат'], [1.4269490061987535, 'официальный'], [1.4269490061987535, 'речь'], [1.4875736280151886, 'даже'], [1.4875736280151886, 'национальный'], [1.5521121491527596, 'комментировать'], [1.586013700828441, 'международный'], [1.621105020639711, 'вынесение'], [1.621105020639711, 'приходиться'], [1.621105020639711, 'юрист'], [1.6574726648105857, 'объявлять'], [1.695212992793433, 'поддерживать'], [1.695212992793433, 'тверской'], [1.7752557004669693, 'претензия'], [1.8034265774336657, 'подтверждать'], [1.8178153148857652, 'апелляционный'], [1.8178153148857652, 'запрещать'], [1.862267077456599, '19'], [1.862267077456599, 'возглавлять'], [1.862267077456599, 'выпускать'], [1.862267077456599, 'европейский'], [1.862267077456599, 'конституционный'], [1.862267077456599, 'муж'], [1.862267077456599, 'объяснять'], [1.862267077456599, 'оставлять'], [1.862267077456599, 'проект'], [1.862267077456599, 'эксперт'], [1.9575772572609238, 'акция'], [1.9575772572609238, 'оглашение'], [1.9575772572609238, 'поступать'], [1.9575772572609238, 'просто'], [1.9914788089366053, 'вызывать'], [2.0088705516484744, 'прекращать'], [2.0088705516484744, 'приходить'], [2.0088705516484744, 'решать'], [2.0088705516484744, 'соглашаться'], [2.06293777291875, 'анатолий'], [2.06293777291875, 'вынести'], [2.06293777291875, 'готовый'], [2.06293777291875, 'запрет'], [2.06293777291875, 'опубликовывать'], [2.06293777291875, 'отклонять'], [2.06293777291875, 'центральный'], [2.120096186758699, 'добавлять'], [2.1398988140548787, 'окончательный'], [2.180720808575134, 'вполне'], [2.180720808575134, 'продление'], [2.180720808575134, 'уходить'], [2.245259329712705, 'отвергать'], [2.245259329712705, 'разрешать'], [2.3142522011996562, 'вероятно'], [2.3142522011996562, 'друг'], [2.3142522011996562, 'какой-то'], [2.3142522011996562, 'отказывать'], [2.3142522011996562, 'служить'], [2.3142522011996562, 'чей'], [2.4684028810269147, '9'], [2.4684028810269147, 'двое'], [2.4684028810269147, 'жить'], [2.4684028810269147, 'независимо'], [2.4684028810269147, 'немедленно'], [2.4684028810269147, 'обсуждать'], [2.4684028810269147, 'обязать'], [2.4684028810269147, 'ограничивать'], [2.4684028810269147, 'определение'], [2.4684028810269147, 'отправлять'], [2.4684028810269147, 'прием'], [2.4684028810269147, 'приостановить'], [2.4684028810269147, 'шесть'], [2.650724437820869, 'Дево'], [2.650724437820869, 'выслушивать'], [2.650724437820869, 'допрашивать'], [2.650724437820869, 'закрывать'], [2.650724437820869, 'интересовать'], [2.650724437820869, 'информировать'], [2.650724437820869, 'компьютер'], [2.650724437820869, 'матч'], [2.650724437820869, 'назначить'], [2.650724437820869, 'относиться'], [2.650724437820869, 'пойти'], [2.650724437820869, 'пообещать'], [2.650724437820869, 'постановлять'], [2.650724437820869, 'председательствовать'], [2.650724437820869, 'предстоять'], [2.650724437820869, 'руководствоваться'], [2.650724437820869, 'следовать'], [2.650724437820869, 'сохранять'], [2.873867989135079, 'Похорелска'], [2.873867989135079, 'ведущий'], [2.873867989135079, 'заслушать'], [2.873867989135079, 'израильский'], [2.873867989135079, 'курский'], [2.873867989135079, 'наносить'], [2.873867989135079, 'обнародовать'], [2.873867989135079, 'постоянно'], [2.873867989135079, 'приговаривать'], [2.873867989135079, 'фрунзенский'], [2.873867989135079, 'шариатский'], [3.0073993817596016, 'обнаруживать'], [3.056189545929034, 'высокий'], [3.1615500615868597, 'восточный'], [3.1615500615868597, 'вынужденный'], [3.1615500615868597, 'график'], [3.1615500615868597, 'инициатор'], [3.1615500615868597, 'консервативный'], [3.1615500615868597, 'обеспокоить'], [3.1615500615868597, 'парижский'], [3.1615500615868597, 'предстать'], [3.1615500615868597, 'пресненский'], [3.1615500615868597, 'прокурорский'], [3.1615500615868597, 'снова'], [3.1615500615868597, 'совместно'], [3.3438716183808146, 'некий'], [3.5670151696950243, 'Бетти'], [3.5670151696950243, 'МакВя'], [3.5670151696950243, 'беседовать'], [3.5670151696950243, 'вставать'], [3.5670151696950243, 'демонстрировать'], [3.5670151696950243, 'договориться'], [3.5670151696950243, 'заканчивать'], [3.5670151696950243, 'игнорировать'], [3.5670151696950243, 'издавать'], [3.5670151696950243, 'молчать'], [3.5670151696950243, 'неверно'], [3.5670151696950243, 'необоснованно'], [3.5670151696950243, 'отбывать'], [3.5670151696950243, 'отдавать'], [3.5670151696950243, 'постановить'], [3.5670151696950243, 'примененыненадлежащий'], [3.5670151696950243, 'спид'], [3.5670151696950243, 'справка'], [3.5670151696950243, 'убить'], [3.5670151696950243, 'удалить'], [3.5670151696950243, 'шотландский'], [3.700546562319547, 'лишать'], [3.854697242146805, 'Каспер-Анзерма'], [4.26016235025497, '-докладчикий'], [4.26016235025497, '6900'], [4.26016235025497, 'Alan'], [4.26016235025497, 'Baltasar'], [4.26016235025497, 'Joel'], [4.26016235025497, 'Альдижер'], [4.26016235025497, 'Белорецкий'], [4.26016235025497, 'Галиано'], [4.26016235025497, 'Гом'], [4.26016235025497, 'Инть'], [4.26016235025497, 'Корреа'], [4.26016235025497, 'Кужанкуй'], [4.26016235025497, 'Кунцевский'], [4.26016235025497, 'Л'], [4.26016235025497, 'Мтбя'], [4.26016235025497, 'Мэрили'], [4.26016235025497, 'Ньюпортский'], [4.26016235025497, 'Печерский'], [4.26016235025497, 'Пфильцер'], [4.26016235025497, 'Руссо'], [4.26016235025497, 'Салониуспредоставлять'], [4.26016235025497, 'Санджованниприступит'], [4.26016235025497, 'Черемушкинский'], [4.26016235025497, 'Эрв'], [4.26016235025497, 'Ю'], [4.26016235025497, 'брайан'], [4.26016235025497, 'выгонять'], [4.26016235025497, 'гласить'], [4.26016235025497, 'делить'], [4.26016235025497, 'долждать'], [4.26016235025497, 'констатировать'], [4.26016235025497, 'крикнуть'], [4.26016235025497, 'лояльность'], [4.26016235025497, 'любезно'], [4.26016235025497, 'метр'], [4.26016235025497, 'нарушеныположение'], [4.26016235025497, 'неприязненно'], [4.26016235025497, 'нина'], [4.26016235025497, 'орт'], [4.26016235025497, 'отнюдь'], [4.26016235025497, 'отсмеяться'], [4.26016235025497, 'подавлять'], [4.26016235025497, 'порекомендовать'], [4.26016235025497, 'пятилетний'], [4.26016235025497, 'разделяться'], [4.26016235025497, 'современность'], [4.26016235025497, 'таможенник'], [4.26016235025497, 'традиционно'], [4.26016235025497, 'уличение'], [4.26016235025497, 'уменьшать'], [4.26016235025497, 'уносить'], [4.26016235025497, 'учесть'], [4.26016235025497, 'флоридский'], [4.665627458363134, 'Погорелска']]\n"
          ],
          "name": "stdout"
        }
      ]
    },
    {
      "cell_type": "markdown",
      "metadata": {
        "id": "o_gb8PYuu5bT"
      },
      "source": [
        "Результаты PMI"
      ]
    },
    {
      "cell_type": "code",
      "metadata": {
        "colab": {
          "base_uri": "https://localhost:8080/"
        },
        "id": "DBb2DwbBulm5",
        "outputId": "403c1f43-d5ae-4c21-8cd5-d248df4edf3f"
      },
      "source": [
        "len(pmi_list)"
      ],
      "execution_count": 213,
      "outputs": [
        {
          "output_type": "execute_result",
          "data": {
            "text/plain": [
              "300"
            ]
          },
          "metadata": {
            "tags": []
          },
          "execution_count": 213
        }
      ]
    },
    {
      "cell_type": "code",
      "metadata": {
        "id": "hTFUAHrcu-Ta",
        "colab": {
          "base_uri": "https://localhost:8080/"
        },
        "outputId": "a725cc24-665e-4082-fab6-ea86c8fa73ec"
      },
      "source": [
        "unlc=[]\n",
        "for sentence in tokens:\n",
        "  if sentence in unlc:\n",
        "    continue\n",
        "  else:\n",
        "    unlc.append(sentence)\n",
        "print(len(unlc))"
      ],
      "execution_count": 214,
      "outputs": [
        {
          "output_type": "stream",
          "text": [
            "188541\n"
          ],
          "name": "stdout"
        }
      ]
    },
    {
      "cell_type": "code",
      "metadata": {
        "id": "ZbjtEcmixtD8"
      },
      "source": [
        "for sentence in unlc:\n",
        "  for i in sentence:\n",
        "    if re.match(r'[0-9]', i):\n",
        "      pass\n",
        "    else:\n",
        "      sentence.remove(i)"
      ],
      "execution_count": 215,
      "outputs": []
    },
    {
      "cell_type": "code",
      "metadata": {
        "id": "aEh19lEvxtEb"
      },
      "source": [
        "for sentence in unlc:\n",
        "  for i in sentence:\n",
        "    if i.startswith('_'):\n",
        "      sentence.remove(i)"
      ],
      "execution_count": 216,
      "outputs": []
    },
    {
      "cell_type": "code",
      "metadata": {
        "id": "qN6JC9dIxtEd"
      },
      "source": [
        "for sentence in unlc:\n",
        "  for i in sentence:\n",
        "    if re.match(r'_', i):\n",
        "      sentence.remove(i)"
      ],
      "execution_count": 217,
      "outputs": []
    },
    {
      "cell_type": "code",
      "metadata": {
        "id": "suWRI2_TxtEe"
      },
      "source": [
        "for sentence in unlc:\n",
        "  for i in sentence:\n",
        "    if re.match(r':', i):\n",
        "      sentence.remove(i)"
      ],
      "execution_count": 218,
      "outputs": []
    },
    {
      "cell_type": "code",
      "metadata": {
        "id": "98pgim3cxtEf"
      },
      "source": [
        "for sentence in unlc:\n",
        "  for i in sentence:\n",
        "    if re.match(r'[а-я]', i):\n",
        "      sentence.remove(i)"
      ],
      "execution_count": 219,
      "outputs": []
    },
    {
      "cell_type": "code",
      "metadata": {
        "id": "-2vKz4JExtEg"
      },
      "source": [
        "for sentence in unlc:\n",
        "  for i in sentence:\n",
        "    if i=='':\n",
        "      print(sentence)"
      ],
      "execution_count": 220,
      "outputs": []
    },
    {
      "cell_type": "code",
      "metadata": {
        "id": "D0etbQDfxtEh"
      },
      "source": [
        "for sentence in unlc:\n",
        "  for i in sentence:\n",
        "    if re.match(r'_PUNCT_', i):\n",
        "      sentence.remove(i)"
      ],
      "execution_count": 221,
      "outputs": []
    },
    {
      "cell_type": "code",
      "metadata": {
        "id": "NU2ziQa_yJ1q",
        "colab": {
          "base_uri": "https://localhost:8080/"
        },
        "outputId": "1d292859-f073-407d-c4f5-0a4b50062d0e"
      },
      "source": [
        "len(unlc)"
      ],
      "execution_count": 222,
      "outputs": [
        {
          "output_type": "execute_result",
          "data": {
            "text/plain": [
              "188541"
            ]
          },
          "metadata": {
            "tags": []
          },
          "execution_count": 222
        }
      ]
    },
    {
      "cell_type": "code",
      "metadata": {
        "colab": {
          "base_uri": "https://localhost:8080/"
        },
        "id": "g_Qv_0GM4aBT",
        "outputId": "499c4f0b-2b82-4da9-d600-266a2ad605dc"
      },
      "source": [
        "parsed_unlc=[]\n",
        "for sentence in unlc:\n",
        "  p_sent=[]\n",
        "  for i in sentence:\n",
        "    w=[]\n",
        "    w=i.split(sep=\"_\")\n",
        "    if re.match(r'_PUNCT_', m):\n",
        "      pass\n",
        "    else:\n",
        "      if len(w)<3:\n",
        "        if i not in sentence:\n",
        "          pass\n",
        "        else:\n",
        "          sentence.remove(i)\n",
        "      else:\n",
        "        p_sent.append(w[2])\n",
        "  parsed_unlc.append(p_sent)\n",
        "print(parsed_unlc[:10])"
      ],
      "execution_count": 223,
      "outputs": [
        {
          "output_type": "stream",
          "text": [
            "[['бой', 'в', 'и', 'заканчиваться', 'отступление', 'германец'], ['неприятель', 'с', 'север', 'к', 'начинать', 'артиллерийский', 'борьба', 'с', 'крепость'], ['в', 'артиллерийский', 'бой', 'принимать', 'участие', 'тяжелый', 'калибр'], ['с', 'ранний', 'утро', '14', 'сентябрь', 'огонь', 'достигать', 'значительный', 'напряжение'], ['германский', 'пехота', 'пробиваться', 'близко', 'к', 'крепость', 'отражать'], ['в', 'мы', 'занимать'], ['большой', 'колонна', 'по', 'шоссе', 'от', 'к', 'с', 'высота', 'наш', 'батарея', 'и', 'бежать', 'парк', 'и', 'автомобиль'], ['вылазка', 'гарнизон', 'оставаться', 'безуспешный'], ['при', 'продолжающться', 'отступление', 'австриец', 'обнаруживать', 'полный', 'перемешивание', 'они', 'часть', 'новый', 'партия', 'и', 'прочий', 'материальный', 'часть'], ['на', 'перевал', 'мы', 'разбивать', 'неприятельский', 'отряд', 'он', 'артиллерия', 'и', 'много', 'пленный', 'и', 'преследовать', 'в', 'предел']]\n"
          ],
          "name": "stdout"
        }
      ]
    },
    {
      "cell_type": "code",
      "metadata": {
        "id": "wr3lSl_CY02h"
      },
      "source": [
        "count=0\n",
        "for sentence in tokens:\n",
        "  count += len(sentence)\n",
        "print(count)"
      ],
      "execution_count": null,
      "outputs": []
    },
    {
      "cell_type": "code",
      "metadata": {
        "colab": {
          "base_uri": "https://localhost:8080/"
        },
        "id": "dg8nXCPZ4oyC",
        "outputId": "1bad2ffc-5e5c-4d50-a3d8-3d7798f4453a"
      },
      "source": [
        "spisok = []\n",
        "diff = {}\n",
        "b = {}\n",
        "for sentence in parsed_unlc:\n",
        "  for i in sentence:\n",
        "    if i == 'судья':\n",
        "      if i not in sentence:\n",
        "        pass\n",
        "      else:\n",
        "        n = sentence.index(i)\n",
        "      #print(n)\n",
        "        if i == sentence[-1]:\n",
        "          pass\n",
        "        else:\n",
        "          m = sentence[n+1]\n",
        "          spisok.append(i+' '+m)\n",
        "print(spisok)\n",
        "for i in spisok:\n",
        "  freq_b = 0\n",
        "  big = i.split(' ')[1]\n",
        "  for sentence in parsed_unlc:\n",
        "    for i in sentence:\n",
        "      if i == big:\n",
        "      #print(sentence)\n",
        "        freq_b += 1\n",
        "  b[big] = freq_b\n",
        "for i in spisok:\n",
        "  if i in diff.keys():\n",
        "    for w, l in diff.items():\n",
        "      diff[i] = l+1\n",
        "  else:\n",
        "    diff[i] = 1\n",
        "print(diff)\n",
        "freq_a=0\n",
        "for sentence in parsed_unlc:\n",
        "  for i in sentence:\n",
        "    if i == 'судья':\n",
        "      #print(sentence)\n",
        "      freq_a += 1\n",
        "print(freq_a)\n",
        "  #print(big, freq_b)"
      ],
      "execution_count": 224,
      "outputs": [
        {
          "output_type": "stream",
          "text": [
            "['судья решать', 'судья все', 'судья добавлять', 'судья конституционный', 'судья подпереть', 'судья отклонять', 'судья считать', 'судья направлять', 'судья получать', 'судья Каспер-Анзерма', 'судья с', 'судья признавать', 'судья Дево', 'судья независимо', 'судья проводить', 'судья от', 'судья шотландский', 'судья постановить', 'судья вызывать', 'судья вызывать', 'судья традиционно', 'судья юрист', 'судья удовлетворять', 'судья и', 'судья областной', 'судья Кужанкуй', 'судья удовлетворять', 'судья запрещать', 'судья и', 'судья министр', 'судья в', 'судья они', 'судья мочь', 'судья быть', 'судья возглавлять', 'судья он', 'судья по', 'судья гласить', 'судья объявлять', 'судья отказываться', 'судья добиваться', 'судья Руссо', 'судья на', 'судья по', 'судья прокурор', 'судья комментировать', 'судья по', 'судья оглашение', 'судья от', 'судья и', 'судья все', 'судья все', 'судья обеспокоить', 'судья еще', 'судья федеральный', 'судья вынести', 'судья отклонять', 'судья отмечать', 'судья рассмотрение', 'судья американский', 'судья 19', 'судья чей', 'судья на', 'судья назначать', 'судья назначать', 'судья назначить', 'судья быть', 'судья проект', 'судья обнародовать', 'судья что', 'судья более', 'судья должен', 'судья договориться', 'судья городской', 'судья и', 'судья проходить', 'судья должен', 'судья шариатский', 'судья и', 'судья соглашаться', 'судья объявлять', 'судья за', 'судья выносить', 'судья международный', 'судья о', 'судья решение', 'судья Л', 'судья наносить', 'судья не', 'судья истец', 'судья по', 'судья в', 'судья вести', 'судья возглавлять', 'судья объявлять', 'судья приходить', 'судья вероятно', 'судья рассматривать', 'судья вынесение', 'судья отбывать', 'судья делить', 'судья возглавлять', 'судья слово', 'судья Печерский', 'судья в', 'судья верховный', 'судья анатолий', 'судья но', 'судья инициатор', 'судья быть', 'судья Дево', 'судья брайан', 'судья в', 'судья подавлять', 'судья закрывать', 'судья конституционный', 'судья один', 'судья поступать', 'судья рассматривать', 'судья связывать', 'судья удовлетворять', 'судья не', 'судья признавать', 'судья занимать', 'судья тверской', 'судья современность', 'судья который', 'судья который', 'судья с', 'судья вынужденный', 'судья таможенник', 'судья назначать', 'судья конституционный', 'судья о', 'судья даже', 'судья Санджованниприступит', 'судья рассматривать', 'судья и', 'судья быть', 'судья и', 'судья заявлять', 'судья выносить', 'судья ведущий', 'судья приостановить', 'судья не', 'судья просить', 'судья прекращать', 'судья который', 'судья от', 'судья жалоба', 'судья по', 'судья приходиться', 'судья претензия', 'судья издавать', 'судья Мэрили', 'судья из', 'судья приговаривать', 'судья Альдижер', 'судья апелляционный', 'судья бывший', 'судья парижский', 'судья выносить', 'судья отвергать', 'судья постановлять', 'судья игнорировать', 'судья служить', 'судья неверно', 'судья чтобы', 'судья от', 'судья один', 'судья метр', 'судья компьютер', 'судья вполне', 'судья который', 'судья постановлять', 'судья запрещать', 'судья верховный', 'судья верховный', 'судья Дево', 'судья разрешать', 'судья отказывать', 'судья обнаруживать', 'судья выгонять', 'судья он', 'судья Мтбя', 'судья указывать', 'судья требовать', 'судья и', 'судья считать', 'судья направлять', 'судья -', 'судья для', 'судья который', 'судья принимать', 'судья давать', 'судья конституционный', 'судья молчать', 'судья отклонять', 'судья Пфильцер', 'судья предлагать', 'судья новый', 'судья и', 'судья восточный', 'судья соглашаться', 'судья назначать', 'судья быть', 'судья крикнуть', 'судья констатировать', 'судья называть', 'судья который', 'судья быть', 'судья парижский', 'судья центральный', 'судья нарушеныположение', 'судья сказать', 'судья принимать', 'судья в', 'судья в', 'судья в', 'судья окружной', 'судья что', 'судья принимать', 'судья в', 'судья готовый', 'судья не', 'судья а', 'судья весь', 'судья выносить', 'судья уже', 'судья мочь', 'судья направлять', 'судья -докладчикий', 'судья Салониуспредоставлять', 'судья орт', 'судья против', 'судья признавать', 'судья заслушать', 'судья -', 'судья отвергать', 'судья официальный', 'судья который', 'судья не', 'судья предстоять', 'судья мочь', 'судья в', 'судья соглашаться', 'судья отнюдь', 'судья апелляционный', 'судья быть', 'судья акция', 'судья который', 'судья передавать', 'судья и', 'судья постановлять', 'судья который', 'судья который', 'судья слушание', 'судья заявлять', 'судья другой', 'судья мочь', 'судья или', 'судья и', 'судья под', 'судья обязать', 'судья лояльность', 'судья этот', 'судья по', 'судья выносить', 'судья один', 'судья выносить', 'судья приходить', 'судья Белорецкий', 'судья Дево', 'судья получать', 'судья фрунзенский', 'судья о', 'судья о', 'судья друг', 'судья примененыненадлежащий', 'судья приходить', 'судья быть', 'судья решать', 'судья Каспер-Анзерма', 'судья -', 'судья в', 'судья в', 'судья жить', 'судья два', 'судья главный', 'судья добавлять', 'судья не', 'судья верховный', 'судья признавать', 'судья удалить', 'судья запрет', 'судья этот', 'судья и', 'судья заканчивать', 'судья 9', 'судья шесть', 'судья не', 'судья не', 'судья разделяться', 'судья Дево', 'судья опубликовывать', 'судья первый', 'судья -', 'судья председательствовать', 'судья совместно', 'судья верховный', 'судья давать', 'судья каждый', 'судья по', 'судья этот', 'судья сказать', 'судья который', 'судья Ю', 'судья быть', 'судья совершать', 'судья лишать', 'судья заявлять', 'судья продление', 'судья -', 'судья принимать', 'судья отмечать', 'судья ходатайство', 'судья постановить', 'судья отдавать', 'судья решать', 'судья государственный', 'судья постоянно', 'судья учесть', 'судья рассматривать', 'судья заявлять', 'судья в', 'судья пока', 'судья решать', 'судья заявлять', 'судья другой', 'судья и', 'судья Белорецкий', 'судья Каспер-Анзерма', 'судья -', 'судья Корреа', 'судья Галиано', 'судья известный', 'судья прокурорский', 'судья находить', 'судья подтверждать', 'судья подтверждать', 'судья который', 'судья однако', 'судья и', 'судья и', 'судья в', 'судья в', 'судья из', 'судья по', 'судья поддерживать', 'судья до', 'судья также', 'судья в', 'судья выносить', 'судья процесс', 'судья округ', 'судья свой', 'судья -', 'судья округ', 'судья отказываться', 'судья сказать', 'судья быть', 'судья не', 'судья по', 'судья по', 'судья необоснованно', 'судья ведущий', 'судья отвергать', 'судья верховный', 'судья верховный', 'судья ведущий', 'судья решать', 'судья отклонять', 'судья уносить', 'судья быть', 'судья двое', 'судья который', 'судья который', 'судья залог', 'судья за', 'судья о', 'судья Инть', 'судья верховный', 'судья речь', 'судья признавать', 'судья обсуждать', 'судья сохранять', 'судья уходить', 'судья быть', 'судья на', 'судья признавать', 'судья выслушивать', 'судья европейский', 'судья давать', 'судья с', 'судья быть', 'судья должен', 'судья уголовный', 'судья некий', 'судья некий', 'судья лишать', 'судья как', 'судья заявлять', 'судья интересовать', 'судья высокий', 'судья высокий', 'судья обязать', 'судья верховный', 'судья один', 'судья уличение', 'судья немедленно', 'судья -', 'судья оставаться', 'судья для', 'судья устанавливать', 'судья не', 'судья не', 'судья и', 'судья суд', 'судья он', 'судья заявлять', 'судья курский', 'судья который', 'судья ограничивать', 'судья пресненский', 'судья консервативный', 'судья пойти', 'судья -', 'судья считать', 'судья верховный', 'судья который', 'судья а', 'судья справка', 'судья Эрв', 'судья прекращать', 'судья -', 'судья даже', 'судья верховный', 'судья удовлетворять', 'судья определение', 'судья заявлять', 'судья нина', 'судья спид', 'судья и', 'судья и', 'судья флоридский', 'судья в', 'судья округ', 'судья штат', 'судья который', 'судья штат', 'судья предстоять', 'судья матч', 'судья выносить', 'судья еще', 'судья отказываться', 'судья международный', 'судья из', 'судья верховный', 'судья прекращать', 'судья МакВя', 'судья и', 'судья выносить', 'судья о', 'судья руководствоваться', 'судья прием', 'судья в', 'судья ставить', 'судья по', 'судья Гом', 'судья предстоять', 'судья беседовать', 'судья по', 'судья который', 'судья предстать', 'судья выпускать', 'судья объявлять', 'судья некий', 'судья некий', 'судья постановлять', 'судья а', 'судья уменьшать', 'судья демонстрировать', 'судья демонстрировать', 'судья признавать', 'судья не', 'судья принимать', 'судья отказываться', 'судья и', 'судья в', 'судья объяснять', 'судья в', 'судья отправлять', 'судья и', 'судья информировать', 'судья заявлять', 'судья отдавать', 'судья быть', 'судья отмечать', 'судья 6900', 'судья национальный', 'судья документ', 'судья верховный', 'судья следовать', 'судья уменьшать', 'судья долждать', 'судья отказывать', 'судья относиться', 'судья и', 'судья уже', 'судья отсмеяться', 'судья прекращать', 'судья муж', 'судья свой', 'судья известный', 'судья сказать', 'судья напоминать', 'судья пятилетний', 'судья конституционный', 'судья о', 'судья Похорелска', 'судья который', 'судья Похорелска', 'судья Похорелска', 'судья должен', 'судья Похорелска', 'судья израильский', 'судья представлять', 'судья Ньюпортский', 'судья от', 'судья быть', 'судья Похорелска', 'судья постановлять', 'судья пообещать', 'судья окончательный', 'судья окончательный', 'судья из', 'судья который', 'судья так', 'судья Кунцевский', 'судья обязать', 'судья также', 'судья признавать', 'судья неприязненно', 'судья обвиняемый', 'судья Похорелска', 'судья любезно', 'судья все', 'судья график', 'судья матч', 'судья давать', 'судья не', 'судья отказывать', 'судья палата', 'судья отказываться', 'судья допрашивать', 'судья какой-то', 'судья быть', 'судья -', 'судья в', 'судья верховный', 'судья Погорелска', 'судья заявлять', 'судья Погорелска', 'судья мочь', 'судья оставлять', 'судья не', 'судья снова', 'судья отказываться', 'судья заявлять', 'судья проводить', 'судья однако', 'судья рассматривать', 'судья не', 'судья и', 'судья Похорелска', 'судья предстоять', 'судья заниматься', 'судья Черемушкинский', 'судья Baltasar', 'судья вставать', 'судья Бориспольский', 'судья порекомендовать', 'судья Похорелска', 'судья давать', 'судья Joel', 'судья просто', 'судья Бетти', 'судья признавать', 'судья Alan']\n",
            "{'судья решать': 2, 'судья все': 2, 'судья добавлять': 2, 'судья конституционный': 2, 'судья подпереть': 1, 'судья отклонять': 2, 'судья считать': 2, 'судья направлять': 2, 'судья получать': 2, 'судья Каспер-Анзерма': 2, 'судья с': 2, 'судья признавать': 2, 'судья Дево': 2, 'судья независимо': 1, 'судья проводить': 2, 'судья от': 2, 'судья шотландский': 1, 'судья постановить': 2, 'судья вызывать': 3, 'судья традиционно': 1, 'судья юрист': 1, 'судья удовлетворять': 2, 'судья и': 2, 'судья областной': 1, 'судья Кужанкуй': 1, 'судья запрещать': 2, 'судья министр': 1, 'судья в': 2, 'судья они': 1, 'судья мочь': 4, 'судья быть': 2, 'судья возглавлять': 2, 'судья он': 2, 'судья по': 2, 'судья гласить': 1, 'судья объявлять': 2, 'судья отказываться': 2, 'судья добиваться': 1, 'судья Руссо': 1, 'судья на': 2, 'судья прокурор': 1, 'судья комментировать': 1, 'судья оглашение': 1, 'судья обеспокоить': 1, 'судья еще': 2, 'судья федеральный': 1, 'судья вынести': 1, 'судья отмечать': 2, 'судья рассмотрение': 1, 'судья американский': 1, 'судья 19': 1, 'судья чей': 1, 'судья назначать': 2, 'судья назначить': 1, 'судья проект': 1, 'судья обнародовать': 1, 'судья что': 2, 'судья более': 1, 'судья должен': 4, 'судья договориться': 1, 'судья городской': 1, 'судья проходить': 1, 'судья шариатский': 1, 'судья соглашаться': 2, 'судья за': 2, 'судья выносить': 2, 'судья международный': 2, 'судья о': 2, 'судья решение': 1, 'судья Л': 1, 'судья наносить': 1, 'судья не': 2, 'судья истец': 1, 'судья вести': 1, 'судья приходить': 2, 'судья вероятно': 1, 'судья рассматривать': 2, 'судья вынесение': 1, 'судья отбывать': 1, 'судья делить': 1, 'судья слово': 1, 'судья Печерский': 1, 'судья верховный': 2, 'судья анатолий': 1, 'судья но': 1, 'судья инициатор': 1, 'судья брайан': 1, 'судья подавлять': 1, 'судья закрывать': 1, 'судья один': 4, 'судья поступать': 1, 'судья связывать': 1, 'судья занимать': 1, 'судья тверской': 1, 'судья современность': 1, 'судья который': 4, 'судья вынужденный': 1, 'судья таможенник': 1, 'судья даже': 2, 'судья Санджованниприступит': 1, 'судья заявлять': 2, 'судья ведущий': 2, 'судья приостановить': 1, 'судья просить': 1, 'судья прекращать': 2, 'судья жалоба': 1, 'судья приходиться': 1, 'судья претензия': 1, 'судья издавать': 1, 'судья Мэрили': 1, 'судья из': 4, 'судья приговаривать': 1, 'судья Альдижер': 1, 'судья апелляционный': 2, 'судья бывший': 1, 'судья парижский': 2, 'судья отвергать': 2, 'судья постановлять': 2, 'судья игнорировать': 1, 'судья служить': 1, 'судья неверно': 1, 'судья чтобы': 1, 'судья метр': 1, 'судья компьютер': 1, 'судья вполне': 1, 'судья разрешать': 1, 'судья отказывать': 2, 'судья обнаруживать': 1, 'судья выгонять': 1, 'судья Мтбя': 1, 'судья указывать': 1, 'судья требовать': 1, 'судья -': 2, 'судья для': 2, 'судья принимать': 4, 'судья давать': 2, 'судья молчать': 1, 'судья Пфильцер': 1, 'судья предлагать': 1, 'судья новый': 1, 'судья восточный': 1, 'судья крикнуть': 1, 'судья констатировать': 1, 'судья называть': 1, 'судья центральный': 1, 'судья нарушеныположение': 1, 'судья сказать': 2, 'судья окружной': 1, 'судья готовый': 1, 'судья а': 2, 'судья весь': 1, 'судья уже': 2, 'судья -докладчикий': 1, 'судья Салониуспредоставлять': 1, 'судья орт': 1, 'судья против': 1, 'судья заслушать': 1, 'судья официальный': 1, 'судья предстоять': 2, 'судья отнюдь': 1, 'судья акция': 1, 'судья передавать': 1, 'судья слушание': 1, 'судья другой': 2, 'судья или': 1, 'судья под': 1, 'судья обязать': 2, 'судья лояльность': 1, 'судья этот': 2, 'судья Белорецкий': 2, 'судья фрунзенский': 1, 'судья друг': 1, 'судья примененыненадлежащий': 1, 'судья жить': 1, 'судья два': 1, 'судья главный': 1, 'судья удалить': 1, 'судья запрет': 1, 'судья заканчивать': 1, 'судья 9': 1, 'судья шесть': 1, 'судья разделяться': 1, 'судья опубликовывать': 1, 'судья первый': 1, 'судья председательствовать': 1, 'судья совместно': 1, 'судья каждый': 1, 'судья Ю': 1, 'судья совершать': 1, 'судья лишать': 4, 'судья продление': 1, 'судья ходатайство': 1, 'судья отдавать': 2, 'судья государственный': 1, 'судья постоянно': 1, 'судья учесть': 1, 'судья пока': 1, 'судья Корреа': 1, 'судья Галиано': 1, 'судья известный': 2, 'судья прокурорский': 1, 'судья находить': 1, 'судья подтверждать': 3, 'судья однако': 2, 'судья поддерживать': 1, 'судья до': 1, 'судья также': 2, 'судья процесс': 1, 'судья округ': 2, 'судья свой': 2, 'судья необоснованно': 1, 'судья уносить': 1, 'судья двое': 1, 'судья залог': 1, 'судья Инть': 1, 'судья речь': 1, 'судья обсуждать': 1, 'судья сохранять': 1, 'судья уходить': 1, 'судья выслушивать': 1, 'судья европейский': 1, 'судья уголовный': 1, 'судья некий': 2, 'судья как': 1, 'судья интересовать': 1, 'судья высокий': 3, 'судья уличение': 1, 'судья немедленно': 1, 'судья оставаться': 1, 'судья устанавливать': 1, 'судья суд': 1, 'судья курский': 1, 'судья ограничивать': 1, 'судья пресненский': 1, 'судья консервативный': 1, 'судья пойти': 1, 'судья справка': 1, 'судья Эрв': 1, 'судья определение': 1, 'судья нина': 1, 'судья спид': 1, 'судья флоридский': 1, 'судья штат': 3, 'судья матч': 2, 'судья МакВя': 1, 'судья руководствоваться': 1, 'судья прием': 1, 'судья ставить': 1, 'судья Гом': 1, 'судья беседовать': 1, 'судья предстать': 1, 'судья выпускать': 1, 'судья уменьшать': 2, 'судья демонстрировать': 3, 'судья объяснять': 1, 'судья отправлять': 1, 'судья информировать': 1, 'судья 6900': 1, 'судья национальный': 1, 'судья документ': 1, 'судья следовать': 1, 'судья долждать': 1, 'судья относиться': 1, 'судья отсмеяться': 1, 'судья муж': 1, 'судья напоминать': 1, 'судья пятилетний': 1, 'судья Похорелска': 2, 'судья израильский': 1, 'судья представлять': 1, 'судья Ньюпортский': 1, 'судья пообещать': 1, 'судья окончательный': 3, 'судья так': 1, 'судья Кунцевский': 1, 'судья неприязненно': 1, 'судья обвиняемый': 1, 'судья любезно': 1, 'судья график': 1, 'судья палата': 1, 'судья допрашивать': 1, 'судья какой-то': 1, 'судья Погорелска': 3, 'судья оставлять': 1, 'судья снова': 1, 'судья заниматься': 1, 'судья Черемушкинский': 1, 'судья Baltasar': 1, 'судья вставать': 1, 'судья Бориспольский': 1, 'судья порекомендовать': 1, 'судья Joel': 1, 'судья просто': 1, 'судья Бетти': 1, 'судья Alan': 1}\n",
            "673\n"
          ],
          "name": "stdout"
        }
      ]
    },
    {
      "cell_type": "code",
      "metadata": {
        "colab": {
          "base_uri": "https://localhost:8080/"
        },
        "id": "7evsz-0gZSWh",
        "outputId": "02bfd7c8-8098-4cc9-d582-54066139e357"
      },
      "source": [
        "count=0\n",
        "for sentence in tokens:\n",
        "  count += len(sentence)\n",
        "print(count)"
      ],
      "execution_count": 231,
      "outputs": [
        {
          "output_type": "stream",
          "text": [
            "3187388\n"
          ],
          "name": "stdout"
        }
      ]
    },
    {
      "cell_type": "code",
      "metadata": {
        "colab": {
          "base_uri": "https://localhost:8080/"
        },
        "id": "Y8q6M5ge55BA",
        "outputId": "1433435c-2a8d-4e60-9565-ee8d1ff4b46c"
      },
      "source": [
        "for w, l in list(diff.items()):\n",
        "  #print(w)\n",
        "  big = w.split(' ')[1]\n",
        "  diff[big] = l\n",
        "pmi_list=[]\n",
        "for word, lis in diff.items():\n",
        "  #print(type(lis))\n",
        "  for w, l in b.items():\n",
        "    ind = []\n",
        "    if word == w:\n",
        "      pmi = math.log(3187388*lis/(freq_a * l))\n",
        "      ind.append(pmi)\n",
        "      ind.append(word)\n",
        "      pmi_list.append(ind)\n",
        "print(sorted(pmi_list))"
      ],
      "execution_count": 265,
      "outputs": [
        {
          "output_type": "stream",
          "text": [
            "[[1.4046388634703497, 'в'], [1.729565109094502, 'прокурор'], [2.1900899943856937, 'и'], [2.268561609827189, 'суд'], [2.3980196770640756, 'что'], [2.4828162137241523, 'по'], [2.557605152877291, 'на'], [2.590849211456445, 'как'], [2.7675527759461764, 'он'], [2.7709197824940808, 'быть'], [2.8104778206632104, 'о'], [2.8299647083367074, 'не'], [2.862694902645325, 'с'], [2.913890916036641, 'решение'], [3.07389527111536, 'слово'], [3.1254289212305433, '-'], [3.1448470070876446, 'они'], [3.5001223706719538, 'заявлять'], [3.626685093980383, 'этот'], [3.642685435326824, 'уголовный'], [3.6671764553351203, 'бывший'], [3.776216827951347, 'свой'], [3.8779995222612893, 'весь'], [3.8779995222612893, 'передавать'], [3.9090901093313204, 'под'], [3.9196722186618573, 'до'], [3.968728375651051, 'от'], [4.008619704678353, 'который'], [4.056247753667608, 'для'], [4.13223366064553, 'документ'], [4.13223366064553, 'против'], [4.138834344676882, 'за'], [4.186300881915806, 'федеральный'], [4.214471758882502, 'жалоба'], [4.214471758882502, 'представлять'], [4.214471758882502, 'ходатайство'], [4.243459295755755, 'а'], [4.258274381540895, 'но'], [4.258274381540895, 'однако'], [4.296301777130134, 'также'], [4.304083917572189, 'американский'], [4.304083917572189, 'главный'], [4.319832274540328, 'процесс'], [4.385429557026142, 'новый'], [4.385429557026142, 'требовать'], [4.437615310196712, 'обвиняемый'], [4.437615310196712, 'чтобы'], [4.473982954367587, 'первый'], [4.473982954367587, 'так'], [4.531141368207535, 'рассмотрение'], [4.531141368207535, 'слушание'], [4.550943995503715, 'из'], [4.59176599002397, 'другой'], [4.612819399221802, 'два'], [4.656304511161541, 'или'], [4.701766885238299, 'отмечать'], [4.725297382648493, 'более'], [4.725297382648493, 'верховный'], [4.749394934227554, 'просить'], [4.749394934227554, 'считать'], [4.774087546817925, 'государственный'], [4.831981525236827, 'мочь'], [4.852049088287637, 'истец'], [4.879448062475751, 'окружной'], [4.922007676894547, 'получать'], [4.922007676894547, 'уже'], [4.966459439465381, 'пока'], [4.997231098132135, 'проходить'], [5.0289797964467144, 'министр'], [5.0289797964467144, 'предлагать'], [5.095671170945387, 'сказать'], [5.130762490756657, 'выносить'], [5.130762490756657, 'еще'], [5.130762490756657, 'называть'], [5.130762490756657, 'удовлетворять'], [5.185822267939685, 'один'], [5.204870462910379, 'добиваться'], [5.204870462910379, 'напоминать'], [5.204870462910379, 'связывать'], [5.224288548767481, 'проводить'], [5.244091176063661, 'вести'], [5.244091176063661, 'занимать'], [5.244091176063661, 'округ'], [5.244091176063661, 'совершать'], [5.305966579781748, 'все'], [5.327472785002711, 'давать'], [5.327472785002711, 'направлять'], [5.327472785002711, 'отказываться'], [5.327472785002711, 'признавать'], [5.327472785002711, 'рассматривать'], [5.338401855534902, 'принимать'], [5.3494516917214865, 'известный'], [5.3719245475735455, 'городской'], [5.3719245475735455, 'заниматься'], [5.3719245475735455, 'назначать'], [5.3719245475735455, 'оставаться'], [5.3719245475735455, 'палата'], [5.406610105561435, 'должен'], [5.418444563208438, 'находить'], [5.5185280217654205, 'областной'], [5.5185280217654205, 'решать'], [5.5185280217654205, 'устанавливать'], [5.545196268847582, 'отклонять'], [5.572595243035696, 'залог'], [5.572595243035696, 'речь'], [5.572595243035696, 'ставить'], [5.572595243035696, 'указывать'], [5.629753656875645, 'национальный'], [5.629753656875645, 'официальный'], [5.629753656875645, 'штат'], [5.72212697700666, 'даже'], [5.754916799829651, 'каждый'], [5.823909671316603, 'комментировать'], [5.823909671316603, 'международный'], [5.823909671316603, 'приходиться'], [5.823909671316603, 'юрист'], [5.860277315487477, 'объявлять'], [5.898017643470324, 'вынесение'], [5.898017643470324, 'поддерживать'], [5.898017643470324, 'тверской'], [5.978060351143861, 'запрещать'], [5.978060351143861, 'подтверждать'], [5.978060351143861, 'разрешать'], [6.065071728133491, 'выпускать'], [6.065071728133491, 'европейский'], [6.065071728133491, 'муж'], [6.065071728133491, 'объяснять'], [6.065071728133491, 'оставлять'], [6.065071728133491, 'претензия'], [6.1115917437683835, 'апелляционный'], [6.1115917437683835, 'конституционный'], [6.160381907937816, 'вызывать'], [6.160381907937816, 'вынести'], [6.160381907937816, 'оглашение'], [6.160381907937816, 'опубликовывать'], [6.160381907937816, 'поступать'], [6.160381907937816, 'проект'], [6.160381907937816, 'просто'], [6.160381907937816, 'соглашаться'], [6.211675202325366, 'прекращать'], [6.265742423595642, '19'], [6.265742423595642, 'акция'], [6.265742423595642, 'анатолий'], [6.265742423595642, 'готовый'], [6.32290083743559, 'добавлять'], [6.32290083743559, 'приходить'], [6.34270346473177, 'окончательный'], [6.383525459252025, 'вполне'], [6.383525459252025, 'запрет'], [6.383525459252025, 'продление'], [6.383525459252025, 'служить'], [6.383525459252025, 'уходить'], [6.383525459252025, 'центральный'], [6.4480639803895965, 'отвергать'], [6.517056851876548, 'вероятно'], [6.517056851876548, 'друг'], [6.517056851876548, 'какой-то'], [6.517056851876548, 'чей'], [6.59116482403027, 'ведущий'], [6.59116482403027, 'возглавлять'], [6.59116482403027, 'отказывать'], [6.671207531703806, '9'], [6.671207531703806, 'жить'], [6.671207531703806, 'обнаруживать'], [6.671207531703806, 'обсуждать'], [6.671207531703806, 'определение'], [6.671207531703806, 'отправлять'], [6.671207531703806, 'председательствовать'], [6.671207531703806, 'приостановить'], [6.671207531703806, 'шесть'], [6.758218908693436, 'обязать'], [6.853529088497761, 'выслушивать'], [6.853529088497761, 'двое'], [6.853529088497761, 'допрашивать'], [6.853529088497761, 'закрывать'], [6.853529088497761, 'интересовать'], [6.853529088497761, 'информировать'], [6.853529088497761, 'компьютер'], [6.853529088497761, 'назначить'], [6.853529088497761, 'независимо'], [6.853529088497761, 'немедленно'], [6.853529088497761, 'ограничивать'], [6.853529088497761, 'относиться'], [6.853529088497761, 'пойти'], [6.853529088497761, 'пообещать'], [6.853529088497761, 'постановлять'], [6.853529088497761, 'предстоять'], [6.853529088497761, 'прием'], [6.853529088497761, 'следовать'], [6.853529088497761, 'сохранять'], [6.958889604155587, 'Дево'], [6.958889604155587, 'матч'], [7.076672639811971, 'Похорелска'], [7.076672639811971, 'израильский'], [7.076672639811971, 'курский'], [7.076672639811971, 'наносить'], [7.076672639811971, 'обнародовать'], [7.076672639811971, 'постоянно'], [7.076672639811971, 'приговаривать'], [7.076672639811971, 'руководствоваться'], [7.076672639811971, 'шариатский'], [7.258994196605925, 'высокий'], [7.364354712263752, 'восточный'], [7.364354712263752, 'вынужденный'], [7.364354712263752, 'график'], [7.364354712263752, 'заслушать'], [7.364354712263752, 'инициатор'], [7.364354712263752, 'консервативный'], [7.364354712263752, 'обеспокоить'], [7.364354712263752, 'парижский'], [7.364354712263752, 'предстать'], [7.364354712263752, 'пресненский'], [7.364354712263752, 'прокурорский'], [7.364354712263752, 'снова'], [7.364354712263752, 'фрунзенский'], [7.546676269057706, 'некий'], [7.769819820371915, 'Бетти'], [7.769819820371915, 'МакВя'], [7.769819820371915, 'беседовать'], [7.769819820371915, 'вставать'], [7.769819820371915, 'демонстрировать'], [7.769819820371915, 'договориться'], [7.769819820371915, 'заканчивать'], [7.769819820371915, 'игнорировать'], [7.769819820371915, 'издавать'], [7.769819820371915, 'молчать'], [7.769819820371915, 'неверно'], [7.769819820371915, 'необоснованно'], [7.769819820371915, 'отбывать'], [7.769819820371915, 'отдавать'], [7.769819820371915, 'постановить'], [7.769819820371915, 'совместно'], [7.769819820371915, 'спид'], [7.769819820371915, 'справка'], [7.769819820371915, 'удалить'], [7.769819820371915, 'шотландский'], [7.903351212996438, 'лишать'], [8.462967000931862, '-докладчикий'], [8.462967000931862, '6900'], [8.462967000931862, 'Alan'], [8.462967000931862, 'Baltasar'], [8.462967000931862, 'Joel'], [8.462967000931862, 'Альдижер'], [8.462967000931862, 'Белорецкий'], [8.462967000931862, 'Бориспольский'], [8.462967000931862, 'Галиано'], [8.462967000931862, 'Гом'], [8.462967000931862, 'Инть'], [8.462967000931862, 'Каспер-Анзерма'], [8.462967000931862, 'Корреа'], [8.462967000931862, 'Кужанкуй'], [8.462967000931862, 'Кунцевский'], [8.462967000931862, 'Л'], [8.462967000931862, 'Мтбя'], [8.462967000931862, 'Мэрили'], [8.462967000931862, 'Ньюпортский'], [8.462967000931862, 'Печерский'], [8.462967000931862, 'Пфильцер'], [8.462967000931862, 'Руссо'], [8.462967000931862, 'Салониуспредоставлять'], [8.462967000931862, 'Санджованниприступит'], [8.462967000931862, 'Черемушкинский'], [8.462967000931862, 'Эрв'], [8.462967000931862, 'Ю'], [8.462967000931862, 'брайан'], [8.462967000931862, 'выгонять'], [8.462967000931862, 'гласить'], [8.462967000931862, 'делить'], [8.462967000931862, 'долждать'], [8.462967000931862, 'констатировать'], [8.462967000931862, 'крикнуть'], [8.462967000931862, 'лояльность'], [8.462967000931862, 'любезно'], [8.462967000931862, 'метр'], [8.462967000931862, 'нарушеныположение'], [8.462967000931862, 'неприязненно'], [8.462967000931862, 'нина'], [8.462967000931862, 'орт'], [8.462967000931862, 'отнюдь'], [8.462967000931862, 'отсмеяться'], [8.462967000931862, 'подавлять'], [8.462967000931862, 'подпереть'], [8.462967000931862, 'порекомендовать'], [8.462967000931862, 'примененыненадлежащий'], [8.462967000931862, 'пятилетний'], [8.462967000931862, 'разделяться'], [8.462967000931862, 'современность'], [8.462967000931862, 'таможенник'], [8.462967000931862, 'традиционно'], [8.462967000931862, 'уличение'], [8.462967000931862, 'уменьшать'], [8.462967000931862, 'уносить'], [8.462967000931862, 'учесть'], [8.462967000931862, 'флоридский'], [8.868432109040025, 'Погорелска']]\n"
          ],
          "name": "stdout"
        }
      ]
    },
    {
      "cell_type": "markdown",
      "metadata": {
        "id": "e6Z2b-TDarvn"
      },
      "source": [
        "PMI для общего корпуса"
      ]
    },
    {
      "cell_type": "code",
      "metadata": {
        "colab": {
          "base_uri": "https://localhost:8080/"
        },
        "id": "2auk9NabXEt9",
        "outputId": "89df9ac6-44d0-4759-8ff4-a52baffaa941"
      },
      "source": [
        "unlc=[]\n",
        "for sentence in law_corpora:\n",
        "  if sentence in unlc:\n",
        "    continue\n",
        "  else:\n",
        "    unlc.append(sentence)\n",
        "print(len(unlc))"
      ],
      "execution_count": 367,
      "outputs": [
        {
          "output_type": "stream",
          "text": [
            "2601\n"
          ],
          "name": "stdout"
        }
      ]
    },
    {
      "cell_type": "code",
      "metadata": {
        "id": "LZnXrklOXZwL"
      },
      "source": [
        "for sentence in unlc:\n",
        "  for i in sentence:\n",
        "    if re.match(r'[0-9]', i):\n",
        "      pass\n",
        "    else:\n",
        "      sentence.remove(i)"
      ],
      "execution_count": 368,
      "outputs": []
    },
    {
      "cell_type": "code",
      "metadata": {
        "id": "-_g6FBZwXZwN"
      },
      "source": [
        "for sentence in unlc:\n",
        "  for i in sentence:\n",
        "    if i.startswith('_'):\n",
        "      sentence.remove(i)"
      ],
      "execution_count": 369,
      "outputs": []
    },
    {
      "cell_type": "code",
      "metadata": {
        "id": "FcTXpFvMXZwP"
      },
      "source": [
        "for sentence in unlc:\n",
        "  for i in sentence:\n",
        "    if re.match(r'_', i):\n",
        "      sentence.remove(i)"
      ],
      "execution_count": 370,
      "outputs": []
    },
    {
      "cell_type": "code",
      "metadata": {
        "id": "Zk9XFdpvXZwQ"
      },
      "source": [
        "for sentence in unlc:\n",
        "  for i in sentence:\n",
        "    if re.match(r':', i):\n",
        "      sentence.remove(i)"
      ],
      "execution_count": 371,
      "outputs": []
    },
    {
      "cell_type": "code",
      "metadata": {
        "id": "I4hSA9YIXZwR"
      },
      "source": [
        "for sentence in unlc:\n",
        "  for i in sentence:\n",
        "    if re.match(r'[а-я]', i):\n",
        "      sentence.remove(i)"
      ],
      "execution_count": 372,
      "outputs": []
    },
    {
      "cell_type": "code",
      "metadata": {
        "id": "qx8gVsfGXZwS"
      },
      "source": [
        "for sentence in unlc:\n",
        "  for i in sentence:\n",
        "    if i=='':\n",
        "      print(sentence)"
      ],
      "execution_count": 373,
      "outputs": []
    },
    {
      "cell_type": "code",
      "metadata": {
        "id": "aKPYfPcQXZwT"
      },
      "source": [
        "for sentence in unlc:\n",
        "  for i in sentence:\n",
        "    if re.match(r'_PUNCT_', i):\n",
        "      sentence.remove(i)"
      ],
      "execution_count": 376,
      "outputs": []
    },
    {
      "cell_type": "code",
      "metadata": {
        "colab": {
          "base_uri": "https://localhost:8080/"
        },
        "id": "yEs8ruuDMwve",
        "outputId": "4f579293-d7f7-436d-8fea-53088def0706"
      },
      "source": [
        "parsed_unlc=[]\n",
        "for sentence in unlc:\n",
        "  p_sent=[]\n",
        "  for i in sentence:\n",
        "    w=[]\n",
        "    w=i.split(sep=\"_\")\n",
        "    if re.match(r'_PUNCT_', i):\n",
        "      pass\n",
        "    else:\n",
        "      if len(w)<3:\n",
        "        if i not in sentence:\n",
        "          pass\n",
        "        else:\n",
        "          sentence.remove(i)\n",
        "      else:\n",
        "        p_sent.append(w[2])\n",
        "  parsed_unlc.append(p_sent)\n",
        "print(parsed_unlc[:10])"
      ],
      "execution_count": 377,
      "outputs": [
        {
          "output_type": "stream",
          "text": [
            "[['швейцарский', 'федеральный', 'прокурор', 'дель', 'Понти', 'заявлять', 'что', 'работать', 'на', 'шеф', 'разведывательный', 'служба', 'и', 'получать', '5,8', 'миллион', 'доллар', 'от', 'министерство', 'оборона', 'для', 'покупка', 'огромный', 'количество', 'оружие'], ['адвокат', 'Сед', 'заявлять', 'что', 'он', 'клиент', 'отвергать', 'этот', 'обвинение'], ['дель', 'Понти', 'недавно', 'становиться', 'прокурор', 'международный', 'по', 'военный', 'преступление', 'заявлять', 'что', 'дело', 'против', 'и', 'еще', 'трое', 'высокопоставленный', 'чиновник', 'закрывать'], ['федеральный', 'прокурор', 'добавлять', 'что', 'расследование', 'быть', 'продолжить', 'в', 'отношение', 'шеф', 'стратегический', 'информационный', 'служба', 'который', 'возникать', 'в', 'документ', 'по', 'дело'], ['бывший', 'генеральный', 'прокурор', 'юрий', 'считать', 'что', 'близкий', 'окружение', 'президент', 'пытаться', 'препятствовать', 'серьезный', 'расследование', 'ситуация', 'связывать', 'с', 'bank', 'of', 'new', 'york', 'через', 'который', 'отмываться', 'деньги', 'получать', 'от'], ['мой', 'адвокат', 'изучать', 'документ', 'чтобы', 'обращаться', 'в', 'суд'], ['сумма', 'возмещение', 'ущерб', 'по', 'иск', 'в', 'настоящий', 'времяопределяться', 'адвокат', 'и', 'юрист', 'заниматься', 'подготовкойисковый', 'заявление'], ['но', 'окружной', 'судья', 'решать', 'дело', 'в', 'польза', 'веб', '-издательствый', 'она', 'отвергать', 'требование', 'в', 'судебный', 'порядок', 'запрещать', 'публикация', 'секретный', 'документ', 'поскольку', 'такой', 'запрет', 'нарушать', 'бы', 'свобода', 'слово'], ['однако', 'судья', 'все', 'же', 'выносить', 'постановление', 'связывать', 'с', 'то', 'что', 'нарушать', 'копирайт', 'компания'], ['при', 'это', 'судья', 'добавлять', 'что', 'судебный', 'система', 'только', 'начинать', 'подходить', 'к', 'такой', 'сложный', 'вопрос', 'как', 'свобода', 'слово', 'и', 'защита', 'интеллектуальный', 'собственность', 'в']]\n"
          ],
          "name": "stdout"
        }
      ]
    },
    {
      "cell_type": "code",
      "metadata": {
        "colab": {
          "base_uri": "https://localhost:8080/"
        },
        "id": "aLV3J43cEhzl",
        "outputId": "7737f5a8-1a30-43df-fb10-2d7e9e6155e3"
      },
      "source": [
        "spisok = []\n",
        "diff = {}\n",
        "b = {}\n",
        "for sentence in parsed_unlc:\n",
        "  for i in sentence:\n",
        "    if i == 'судья':\n",
        "      if i not in sentence:\n",
        "        pass\n",
        "      else:\n",
        "        n = sentence.index(i)\n",
        "      #print(n)\n",
        "        if i == sentence[-1]:\n",
        "          pass\n",
        "        else:\n",
        "          m = sentence[n+1]\n",
        "          spisok.append(i+' '+m)\n",
        "print(spisok)\n",
        "for i in spisok:\n",
        "  if i in diff.keys():\n",
        "    for w, l in diff.items():\n",
        "      diff[i] = l+1\n",
        "  else:\n",
        "    diff[i] = 1\n",
        "print(diff)"
      ],
      "execution_count": 378,
      "outputs": [
        {
          "output_type": "stream",
          "text": [
            "['судья решать', 'судья все', 'судья добавлять', 'судья конституционный', 'судья подпереть', 'судья отклонять', 'судья считать', 'судья направлять', 'судья получать', 'судья Каспер-Анзерма', 'судья с', 'судья признавать', 'судья Дево', 'судья независимо', 'судья проводить', 'судья от', 'судья шотландский', 'судья постановить', 'судья вызывать', 'судья вызывать', 'судья традиционно', 'судья юрист', 'судья удовлетворять', 'судья и', 'судья областной', 'судья Кужанкуй', 'судья удовлетворять', 'судья запрещать', 'судья и', 'судья министр', 'судья в', 'судья они', 'судья мочь', 'судья быть', 'судья возглавлять', 'судья он', 'судья по', 'судья гласить', 'судья объявлять', 'судья отказываться', 'судья добиваться', 'судья Руссо', 'судья на', 'судья по', 'судья прокурор', 'судья комментировать', 'судья по', 'судья оглашение', 'судья от', 'судья и', 'судья все', 'судья все', 'судья обеспокоить', 'судья еще', 'судья федеральный', 'судья вынести', 'судья отклонять', 'судья отмечать', 'судья рассмотрение', 'судья американский', 'судья 19', 'судья чей', 'судья на', 'судья назначать', 'судья назначать', 'судья назначить', 'судья быть', 'судья проект', 'судья обнародовать', 'судья что', 'судья более', 'судья должен', 'судья договориться', 'судья городской', 'судья и', 'судья проходить', 'судья должен', 'судья шариатский', 'судья и', 'судья соглашаться', 'судья объявлять', 'судья за', 'судья выносить', 'судья международный', 'судья о', 'судья решение', 'судья Л', 'судья наносить', 'судья не', 'судья истец', 'судья по', 'судья в', 'судья вести', 'судья возглавлять', 'судья объявлять', 'судья приходить', 'судья вероятно', 'судья рассматривать', 'судья вынесение', 'судья отбывать', 'судья делить', 'судья возглавлять', 'судья слово', 'судья Печерский', 'судья в', 'судья верховный', 'судья анатолий', 'судья но', 'судья инициатор', 'судья быть', 'судья Дево', 'судья брайан', 'судья в', 'судья подавлять', 'судья закрывать', 'судья конституционный', 'судья один', 'судья поступать', 'судья рассматривать', 'судья связывать', 'судья удовлетворять', 'судья не', 'судья признавать', 'судья занимать', 'судья тверской', 'судья современность', 'судья который', 'судья который', 'судья с', 'судья вынужденный', 'судья таможенник', 'судья назначать', 'судья конституционный', 'судья о', 'судья даже', 'судья Санджованниприступит', 'судья рассматривать', 'судья и', 'судья быть', 'судья и', 'судья заявлять', 'судья выносить', 'судья ведущий', 'судья приостановить', 'судья не', 'судья просить', 'судья прекращать', 'судья который', 'судья от', 'судья жалоба', 'судья по', 'судья приходиться', 'судья претензия', 'судья издавать', 'судья Мэрили', 'судья из', 'судья приговаривать', 'судья Альдижер', 'судья апелляционный', 'судья бывший', 'судья парижский', 'судья выносить', 'судья отвергать', 'судья постановлять', 'судья игнорировать', 'судья служить', 'судья неверно', 'судья чтобы', 'судья от', 'судья один', 'судья метр', 'судья компьютер', 'судья вполне', 'судья который', 'судья постановлять', 'судья запрещать', 'судья верховный', 'судья верховный', 'судья Дево', 'судья разрешать', 'судья отказывать', 'судья обнаруживать', 'судья выгонять', 'судья он', 'судья Мтбя', 'судья указывать', 'судья требовать', 'судья и', 'судья считать', 'судья направлять', 'судья -', 'судья для', 'судья который', 'судья принимать', 'судья давать', 'судья конституционный', 'судья молчать', 'судья отклонять', 'судья Пфильцер', 'судья предлагать', 'судья новый', 'судья и', 'судья восточный', 'судья соглашаться', 'судья назначать', 'судья быть', 'судья крикнуть', 'судья констатировать', 'судья называть', 'судья который', 'судья быть', 'судья парижский', 'судья центральный', 'судья нарушеныположение', 'судья сказать', 'судья принимать', 'судья в', 'судья в', 'судья в', 'судья окружной', 'судья что', 'судья принимать', 'судья в', 'судья готовый', 'судья не', 'судья а', 'судья весь', 'судья выносить', 'судья уже', 'судья мочь', 'судья направлять', 'судья -докладчикий', 'судья Салониуспредоставлять', 'судья орт', 'судья против', 'судья признавать', 'судья заслушать', 'судья -', 'судья отвергать', 'судья официальный', 'судья который', 'судья не', 'судья предстоять', 'судья мочь', 'судья в', 'судья соглашаться', 'судья отнюдь', 'судья апелляционный', 'судья быть', 'судья акция', 'судья который', 'судья передавать', 'судья и', 'судья постановлять', 'судья который', 'судья который', 'судья слушание', 'судья заявлять', 'судья другой', 'судья мочь', 'судья или', 'судья и', 'судья под', 'судья обязать', 'судья лояльность', 'судья этот', 'судья по', 'судья выносить', 'судья один', 'судья выносить', 'судья приходить', 'судья Белорецкий', 'судья Дево', 'судья получать', 'судья фрунзенский', 'судья о', 'судья о', 'судья друг', 'судья примененыненадлежащий', 'судья приходить', 'судья быть', 'судья решать', 'судья Каспер-Анзерма', 'судья -', 'судья в', 'судья в', 'судья жить', 'судья два', 'судья главный', 'судья добавлять', 'судья не', 'судья верховный', 'судья признавать', 'судья удалить', 'судья запрет', 'судья этот', 'судья и', 'судья заканчивать', 'судья 9', 'судья шесть', 'судья не', 'судья не', 'судья разделяться', 'судья Дево', 'судья опубликовывать', 'судья первый', 'судья -', 'судья председательствовать', 'судья совместно', 'судья верховный', 'судья давать', 'судья каждый', 'судья по', 'судья этот', 'судья сказать', 'судья который', 'судья Ю', 'судья быть', 'судья совершать', 'судья лишать', 'судья заявлять', 'судья продление', 'судья -', 'судья принимать', 'судья отмечать', 'судья ходатайство', 'судья постановить', 'судья отдавать', 'судья решать', 'судья государственный', 'судья постоянно', 'судья учесть', 'судья рассматривать', 'судья заявлять', 'судья в', 'судья пока', 'судья решать', 'судья Корреа', 'судья Галиано', 'судья известный', 'судья прокурорский', 'судья находить', 'судья подтверждать', 'судья подтверждать', 'судья который', 'судья однако', 'судья и', 'судья и', 'судья в', 'судья в', 'судья из', 'судья по', 'судья поддерживать', 'судья до', 'судья также', 'судья в', 'судья выносить', 'судья процесс', 'судья округ', 'судья свой', 'судья -', 'судья округ', 'судья отказываться', 'судья сказать', 'судья быть', 'судья не', 'судья по', 'судья по', 'судья необоснованно', 'судья ведущий', 'судья отвергать', 'судья верховный', 'судья верховный', 'судья ведущий', 'судья решать', 'судья отклонять', 'судья уносить', 'судья быть', 'судья двое', 'судья который', 'судья который', 'судья залог', 'судья за', 'судья о', 'судья Инть', 'судья верховный', 'судья речь', 'судья признавать', 'судья обсуждать', 'судья сохранять', 'судья уходить', 'судья быть', 'судья на', 'судья признавать', 'судья выслушивать', 'судья европейский', 'судья давать', 'судья с', 'судья быть', 'судья должен', 'судья уголовный', 'судья некий', 'судья некий', 'судья лишать', 'судья как', 'судья заявлять', 'судья интересовать', 'судья высокий', 'судья высокий', 'судья обязать', 'судья верховный', 'судья один', 'судья уличение', 'судья немедленно', 'судья -', 'судья оставаться', 'судья для', 'судья устанавливать', 'судья не', 'судья не', 'судья и', 'судья суд', 'судья он', 'судья заявлять', 'судья курский', 'судья который', 'судья ограничивать', 'судья пресненский', 'судья консервативный', 'судья пойти', 'судья -', 'судья считать', 'судья верховный', 'судья который', 'судья а', 'судья справка', 'судья Эрв', 'судья прекращать', 'судья -', 'судья даже', 'судья верховный', 'судья удовлетворять', 'судья определение', 'судья заявлять', 'судья нина', 'судья спид', 'судья и', 'судья и', 'судья флоридский', 'судья в', 'судья округ', 'судья штат', 'судья который', 'судья штат', 'судья предстоять', 'судья матч', 'судья выносить', 'судья еще', 'судья отказываться', 'судья международный', 'судья из', 'судья верховный', 'судья прекращать', 'судья МакВя', 'судья и', 'судья выносить', 'судья о', 'судья руководствоваться', 'судья прием', 'судья в', 'судья ставить', 'судья по', 'судья Гом', 'судья предстоять', 'судья беседовать', 'судья по', 'судья который', 'судья предстать', 'судья выпускать', 'судья объявлять', 'судья некий', 'судья некий', 'судья постановлять', 'судья а', 'судья уменьшать', 'судья демонстрировать', 'судья демонстрировать', 'судья признавать', 'судья не', 'судья принимать', 'судья отказываться', 'судья и', 'судья в', 'судья объяснять', 'судья в', 'судья отправлять', 'судья и', 'судья информировать', 'судья заявлять', 'судья отдавать', 'судья быть', 'судья отмечать', 'судья 6900', 'судья национальный', 'судья документ', 'судья верховный', 'судья следовать', 'судья уменьшать', 'судья долждать', 'судья отказывать', 'судья относиться', 'судья и', 'судья уже', 'судья отсмеяться', 'судья прекращать', 'судья муж', 'судья свой', 'судья известный', 'судья сказать', 'судья напоминать', 'судья пятилетний', 'судья конституционный', 'судья о', 'судья Похорелска', 'судья который', 'судья Похорелска', 'судья Похорелска', 'судья должен', 'судья Похорелска', 'судья израильский', 'судья представлять', 'судья Ньюпортский', 'судья от', 'судья быть', 'судья Похорелска', 'судья постановлять', 'судья пообещать', 'судья окончательный', 'судья окончательный', 'судья из', 'судья который', 'судья так', 'судья Кунцевский', 'судья обязать', 'судья также', 'судья признавать', 'судья неприязненно', 'судья обвиняемый', 'судья Похорелска', 'судья любезно', 'судья все', 'судья график', 'судья матч', 'судья давать', 'судья не', 'судья отказывать', 'судья палата', 'судья отказываться', 'судья допрашивать', 'судья какой-то', 'судья быть', 'судья -', 'судья в', 'судья верховный', 'судья Погорелска', 'судья заявлять', 'судья Погорелска', 'судья мочь', 'судья оставлять', 'судья не', 'судья снова', 'судья отказываться', 'судья заявлять', 'судья проводить', 'судья однако', 'судья рассматривать', 'судья не', 'судья и', 'судья Похорелска', 'судья предстоять', 'судья заниматься', 'судья Черемушкинский', 'судья Baltasar', 'судья вставать', 'судья Бориспольский', 'судья порекомендовать', 'судья Похорелска', 'судья давать', 'судья Joel', 'судья просто', 'судья Бетти', 'судья признавать', 'судья Alan']\n",
            "{'судья решать': 2, 'судья все': 2, 'судья добавлять': 2, 'судья конституционный': 2, 'судья подпереть': 1, 'судья отклонять': 2, 'судья считать': 2, 'судья направлять': 2, 'судья получать': 2, 'судья Каспер-Анзерма': 2, 'судья с': 2, 'судья признавать': 2, 'судья Дево': 2, 'судья независимо': 1, 'судья проводить': 2, 'судья от': 2, 'судья шотландский': 1, 'судья постановить': 2, 'судья вызывать': 3, 'судья традиционно': 1, 'судья юрист': 1, 'судья удовлетворять': 2, 'судья и': 2, 'судья областной': 1, 'судья Кужанкуй': 1, 'судья запрещать': 2, 'судья министр': 1, 'судья в': 2, 'судья они': 1, 'судья мочь': 4, 'судья быть': 2, 'судья возглавлять': 2, 'судья он': 2, 'судья по': 2, 'судья гласить': 1, 'судья объявлять': 2, 'судья отказываться': 2, 'судья добиваться': 1, 'судья Руссо': 1, 'судья на': 2, 'судья прокурор': 1, 'судья комментировать': 1, 'судья оглашение': 1, 'судья обеспокоить': 1, 'судья еще': 2, 'судья федеральный': 1, 'судья вынести': 1, 'судья отмечать': 2, 'судья рассмотрение': 1, 'судья американский': 1, 'судья 19': 1, 'судья чей': 1, 'судья назначать': 2, 'судья назначить': 1, 'судья проект': 1, 'судья обнародовать': 1, 'судья что': 2, 'судья более': 1, 'судья должен': 4, 'судья договориться': 1, 'судья городской': 1, 'судья проходить': 1, 'судья шариатский': 1, 'судья соглашаться': 2, 'судья за': 2, 'судья выносить': 2, 'судья международный': 2, 'судья о': 2, 'судья решение': 1, 'судья Л': 1, 'судья наносить': 1, 'судья не': 2, 'судья истец': 1, 'судья вести': 1, 'судья приходить': 2, 'судья вероятно': 1, 'судья рассматривать': 2, 'судья вынесение': 1, 'судья отбывать': 1, 'судья делить': 1, 'судья слово': 1, 'судья Печерский': 1, 'судья верховный': 2, 'судья анатолий': 1, 'судья но': 1, 'судья инициатор': 1, 'судья брайан': 1, 'судья подавлять': 1, 'судья закрывать': 1, 'судья один': 4, 'судья поступать': 1, 'судья связывать': 1, 'судья занимать': 1, 'судья тверской': 1, 'судья современность': 1, 'судья который': 4, 'судья вынужденный': 1, 'судья таможенник': 1, 'судья даже': 2, 'судья Санджованниприступит': 1, 'судья заявлять': 2, 'судья ведущий': 2, 'судья приостановить': 1, 'судья просить': 1, 'судья прекращать': 2, 'судья жалоба': 1, 'судья приходиться': 1, 'судья претензия': 1, 'судья издавать': 1, 'судья Мэрили': 1, 'судья из': 4, 'судья приговаривать': 1, 'судья Альдижер': 1, 'судья апелляционный': 2, 'судья бывший': 1, 'судья парижский': 2, 'судья отвергать': 2, 'судья постановлять': 2, 'судья игнорировать': 1, 'судья служить': 1, 'судья неверно': 1, 'судья чтобы': 1, 'судья метр': 1, 'судья компьютер': 1, 'судья вполне': 1, 'судья разрешать': 1, 'судья отказывать': 2, 'судья обнаруживать': 1, 'судья выгонять': 1, 'судья Мтбя': 1, 'судья указывать': 1, 'судья требовать': 1, 'судья -': 2, 'судья для': 2, 'судья принимать': 4, 'судья давать': 2, 'судья молчать': 1, 'судья Пфильцер': 1, 'судья предлагать': 1, 'судья новый': 1, 'судья восточный': 1, 'судья крикнуть': 1, 'судья констатировать': 1, 'судья называть': 1, 'судья центральный': 1, 'судья нарушеныположение': 1, 'судья сказать': 2, 'судья окружной': 1, 'судья готовый': 1, 'судья а': 2, 'судья весь': 1, 'судья уже': 2, 'судья -докладчикий': 1, 'судья Салониуспредоставлять': 1, 'судья орт': 1, 'судья против': 1, 'судья заслушать': 1, 'судья официальный': 1, 'судья предстоять': 2, 'судья отнюдь': 1, 'судья акция': 1, 'судья передавать': 1, 'судья слушание': 1, 'судья другой': 1, 'судья или': 1, 'судья под': 1, 'судья обязать': 2, 'судья лояльность': 1, 'судья этот': 2, 'судья Белорецкий': 1, 'судья фрунзенский': 1, 'судья друг': 1, 'судья примененыненадлежащий': 1, 'судья жить': 1, 'судья два': 1, 'судья главный': 1, 'судья удалить': 1, 'судья запрет': 1, 'судья заканчивать': 1, 'судья 9': 1, 'судья шесть': 1, 'судья разделяться': 1, 'судья опубликовывать': 1, 'судья первый': 1, 'судья председательствовать': 1, 'судья совместно': 1, 'судья каждый': 1, 'судья Ю': 1, 'судья совершать': 1, 'судья лишать': 4, 'судья продление': 1, 'судья ходатайство': 1, 'судья отдавать': 2, 'судья государственный': 1, 'судья постоянно': 1, 'судья учесть': 1, 'судья пока': 1, 'судья Корреа': 1, 'судья Галиано': 1, 'судья известный': 2, 'судья прокурорский': 1, 'судья находить': 1, 'судья подтверждать': 3, 'судья однако': 2, 'судья поддерживать': 1, 'судья до': 1, 'судья также': 2, 'судья процесс': 1, 'судья округ': 2, 'судья свой': 2, 'судья необоснованно': 1, 'судья уносить': 1, 'судья двое': 1, 'судья залог': 1, 'судья Инть': 1, 'судья речь': 1, 'судья обсуждать': 1, 'судья сохранять': 1, 'судья уходить': 1, 'судья выслушивать': 1, 'судья европейский': 1, 'судья уголовный': 1, 'судья некий': 2, 'судья как': 1, 'судья интересовать': 1, 'судья высокий': 3, 'судья уличение': 1, 'судья немедленно': 1, 'судья оставаться': 1, 'судья устанавливать': 1, 'судья суд': 1, 'судья курский': 1, 'судья ограничивать': 1, 'судья пресненский': 1, 'судья консервативный': 1, 'судья пойти': 1, 'судья справка': 1, 'судья Эрв': 1, 'судья определение': 1, 'судья нина': 1, 'судья спид': 1, 'судья флоридский': 1, 'судья штат': 3, 'судья матч': 2, 'судья МакВя': 1, 'судья руководствоваться': 1, 'судья прием': 1, 'судья ставить': 1, 'судья Гом': 1, 'судья беседовать': 1, 'судья предстать': 1, 'судья выпускать': 1, 'судья уменьшать': 2, 'судья демонстрировать': 3, 'судья объяснять': 1, 'судья отправлять': 1, 'судья информировать': 1, 'судья 6900': 1, 'судья национальный': 1, 'судья документ': 1, 'судья следовать': 1, 'судья долждать': 1, 'судья относиться': 1, 'судья отсмеяться': 1, 'судья муж': 1, 'судья напоминать': 1, 'судья пятилетний': 1, 'судья Похорелска': 2, 'судья израильский': 1, 'судья представлять': 1, 'судья Ньюпортский': 1, 'судья пообещать': 1, 'судья окончательный': 3, 'судья так': 1, 'судья Кунцевский': 1, 'судья неприязненно': 1, 'судья обвиняемый': 1, 'судья любезно': 1, 'судья график': 1, 'судья палата': 1, 'судья допрашивать': 1, 'судья какой-то': 1, 'судья Погорелска': 3, 'судья оставлять': 1, 'судья снова': 1, 'судья заниматься': 1, 'судья Черемушкинский': 1, 'судья Baltasar': 1, 'судья вставать': 1, 'судья Бориспольский': 1, 'судья порекомендовать': 1, 'судья Joel': 1, 'судья просто': 1, 'судья Бетти': 1, 'судья Alan': 1}\n"
          ],
          "name": "stdout"
        }
      ]
    },
    {
      "cell_type": "code",
      "metadata": {
        "colab": {
          "base_uri": "https://localhost:8080/"
        },
        "id": "q5IjupsbPArp",
        "outputId": "7ba630c2-249f-481e-805a-fdfe437ebcdf"
      },
      "source": [
        "diff2=diff.copy()\n",
        "for w,l in diff.items():\n",
        "  summa=sum(diff.values())\n",
        "  diff2[w] = summa-l\n",
        "print(diff2)"
      ],
      "execution_count": 379,
      "outputs": [
        {
          "output_type": "stream",
          "text": [
            "{'судья решать': 395, 'судья все': 395, 'судья добавлять': 395, 'судья конституционный': 395, 'судья подпереть': 396, 'судья отклонять': 395, 'судья считать': 395, 'судья направлять': 395, 'судья получать': 395, 'судья Каспер-Анзерма': 395, 'судья с': 395, 'судья признавать': 395, 'судья Дево': 395, 'судья независимо': 396, 'судья проводить': 395, 'судья от': 395, 'судья шотландский': 396, 'судья постановить': 395, 'судья вызывать': 394, 'судья традиционно': 396, 'судья юрист': 396, 'судья удовлетворять': 395, 'судья и': 395, 'судья областной': 396, 'судья Кужанкуй': 396, 'судья запрещать': 395, 'судья министр': 396, 'судья в': 395, 'судья они': 396, 'судья мочь': 393, 'судья быть': 395, 'судья возглавлять': 395, 'судья он': 395, 'судья по': 395, 'судья гласить': 396, 'судья объявлять': 395, 'судья отказываться': 395, 'судья добиваться': 396, 'судья Руссо': 396, 'судья на': 395, 'судья прокурор': 396, 'судья комментировать': 396, 'судья оглашение': 396, 'судья обеспокоить': 396, 'судья еще': 395, 'судья федеральный': 396, 'судья вынести': 396, 'судья отмечать': 395, 'судья рассмотрение': 396, 'судья американский': 396, 'судья 19': 396, 'судья чей': 396, 'судья назначать': 395, 'судья назначить': 396, 'судья проект': 396, 'судья обнародовать': 396, 'судья что': 395, 'судья более': 396, 'судья должен': 393, 'судья договориться': 396, 'судья городской': 396, 'судья проходить': 396, 'судья шариатский': 396, 'судья соглашаться': 395, 'судья за': 395, 'судья выносить': 395, 'судья международный': 395, 'судья о': 395, 'судья решение': 396, 'судья Л': 396, 'судья наносить': 396, 'судья не': 395, 'судья истец': 396, 'судья вести': 396, 'судья приходить': 395, 'судья вероятно': 396, 'судья рассматривать': 395, 'судья вынесение': 396, 'судья отбывать': 396, 'судья делить': 396, 'судья слово': 396, 'судья Печерский': 396, 'судья верховный': 395, 'судья анатолий': 396, 'судья но': 396, 'судья инициатор': 396, 'судья брайан': 396, 'судья подавлять': 396, 'судья закрывать': 396, 'судья один': 393, 'судья поступать': 396, 'судья связывать': 396, 'судья занимать': 396, 'судья тверской': 396, 'судья современность': 396, 'судья который': 393, 'судья вынужденный': 396, 'судья таможенник': 396, 'судья даже': 395, 'судья Санджованниприступит': 396, 'судья заявлять': 395, 'судья ведущий': 395, 'судья приостановить': 396, 'судья просить': 396, 'судья прекращать': 395, 'судья жалоба': 396, 'судья приходиться': 396, 'судья претензия': 396, 'судья издавать': 396, 'судья Мэрили': 396, 'судья из': 393, 'судья приговаривать': 396, 'судья Альдижер': 396, 'судья апелляционный': 395, 'судья бывший': 396, 'судья парижский': 395, 'судья отвергать': 395, 'судья постановлять': 395, 'судья игнорировать': 396, 'судья служить': 396, 'судья неверно': 396, 'судья чтобы': 396, 'судья метр': 396, 'судья компьютер': 396, 'судья вполне': 396, 'судья разрешать': 396, 'судья отказывать': 395, 'судья обнаруживать': 396, 'судья выгонять': 396, 'судья Мтбя': 396, 'судья указывать': 396, 'судья требовать': 396, 'судья -': 395, 'судья для': 395, 'судья принимать': 393, 'судья давать': 395, 'судья молчать': 396, 'судья Пфильцер': 396, 'судья предлагать': 396, 'судья новый': 396, 'судья восточный': 396, 'судья крикнуть': 396, 'судья констатировать': 396, 'судья называть': 396, 'судья центральный': 396, 'судья нарушеныположение': 396, 'судья сказать': 395, 'судья окружной': 396, 'судья готовый': 396, 'судья а': 395, 'судья весь': 396, 'судья уже': 395, 'судья -докладчикий': 396, 'судья Салониуспредоставлять': 396, 'судья орт': 396, 'судья против': 396, 'судья заслушать': 396, 'судья официальный': 396, 'судья предстоять': 395, 'судья отнюдь': 396, 'судья акция': 396, 'судья передавать': 396, 'судья слушание': 396, 'судья другой': 396, 'судья или': 396, 'судья под': 396, 'судья обязать': 395, 'судья лояльность': 396, 'судья этот': 395, 'судья Белорецкий': 396, 'судья фрунзенский': 396, 'судья друг': 396, 'судья примененыненадлежащий': 396, 'судья жить': 396, 'судья два': 396, 'судья главный': 396, 'судья удалить': 396, 'судья запрет': 396, 'судья заканчивать': 396, 'судья 9': 396, 'судья шесть': 396, 'судья разделяться': 396, 'судья опубликовывать': 396, 'судья первый': 396, 'судья председательствовать': 396, 'судья совместно': 396, 'судья каждый': 396, 'судья Ю': 396, 'судья совершать': 396, 'судья лишать': 393, 'судья продление': 396, 'судья ходатайство': 396, 'судья отдавать': 395, 'судья государственный': 396, 'судья постоянно': 396, 'судья учесть': 396, 'судья пока': 396, 'судья Корреа': 396, 'судья Галиано': 396, 'судья известный': 395, 'судья прокурорский': 396, 'судья находить': 396, 'судья подтверждать': 394, 'судья однако': 395, 'судья поддерживать': 396, 'судья до': 396, 'судья также': 395, 'судья процесс': 396, 'судья округ': 395, 'судья свой': 395, 'судья необоснованно': 396, 'судья уносить': 396, 'судья двое': 396, 'судья залог': 396, 'судья Инть': 396, 'судья речь': 396, 'судья обсуждать': 396, 'судья сохранять': 396, 'судья уходить': 396, 'судья выслушивать': 396, 'судья европейский': 396, 'судья уголовный': 396, 'судья некий': 395, 'судья как': 396, 'судья интересовать': 396, 'судья высокий': 394, 'судья уличение': 396, 'судья немедленно': 396, 'судья оставаться': 396, 'судья устанавливать': 396, 'судья суд': 396, 'судья курский': 396, 'судья ограничивать': 396, 'судья пресненский': 396, 'судья консервативный': 396, 'судья пойти': 396, 'судья справка': 396, 'судья Эрв': 396, 'судья определение': 396, 'судья нина': 396, 'судья спид': 396, 'судья флоридский': 396, 'судья штат': 394, 'судья матч': 395, 'судья МакВя': 396, 'судья руководствоваться': 396, 'судья прием': 396, 'судья ставить': 396, 'судья Гом': 396, 'судья беседовать': 396, 'судья предстать': 396, 'судья выпускать': 396, 'судья уменьшать': 395, 'судья демонстрировать': 394, 'судья объяснять': 396, 'судья отправлять': 396, 'судья информировать': 396, 'судья 6900': 396, 'судья национальный': 396, 'судья документ': 396, 'судья следовать': 396, 'судья долждать': 396, 'судья относиться': 396, 'судья отсмеяться': 396, 'судья муж': 396, 'судья напоминать': 396, 'судья пятилетний': 396, 'судья Похорелска': 395, 'судья израильский': 396, 'судья представлять': 396, 'судья Ньюпортский': 396, 'судья пообещать': 396, 'судья окончательный': 394, 'судья так': 396, 'судья Кунцевский': 396, 'судья неприязненно': 396, 'судья обвиняемый': 396, 'судья любезно': 396, 'судья график': 396, 'судья палата': 396, 'судья допрашивать': 396, 'судья какой-то': 396, 'судья Погорелска': 394, 'судья оставлять': 396, 'судья снова': 396, 'судья заниматься': 396, 'судья Черемушкинский': 396, 'судья Baltasar': 396, 'судья вставать': 396, 'судья Бориспольский': 396, 'судья порекомендовать': 396, 'судья Joel': 396, 'судья просто': 396, 'судья Бетти': 396, 'судья Alan': 396}\n"
          ],
          "name": "stdout"
        }
      ]
    },
    {
      "cell_type": "code",
      "metadata": {
        "colab": {
          "base_uri": "https://localhost:8080/"
        },
        "id": "tvYrv2zeTiJg",
        "outputId": "905dfde0-454a-4ebc-e79e-113f95a03b03"
      },
      "source": [
        "b={}\n",
        "diff3={}\n",
        "print(spisok)\n",
        "for i in spisok:\n",
        "  big = i.split(' ')[1]\n",
        "  freq_b = 1\n",
        "  for sentence in parsed_unlc:\n",
        "    for ip in sentence:\n",
        "      #print(i)\n",
        "      #print(\"___\"+big)\n",
        "      if ip == big:\n",
        "        #print(sentence)\n",
        "        freq_b += 1\n",
        "  b[big] = freq_b\n",
        "print(b)\n",
        "for w,l in diff.items():\n",
        "  big = w.split(' ')[1]\n",
        "  for wor, lis in list(b.items()):\n",
        "    if wor==big:\n",
        "      diff3[\"судья \"+wor] = lis - l\n",
        "      #print(lis)\n",
        "      #print(l)\n",
        "print(diff3)"
      ],
      "execution_count": 380,
      "outputs": [
        {
          "output_type": "stream",
          "text": [
            "['судья решать', 'судья все', 'судья добавлять', 'судья конституционный', 'судья подпереть', 'судья отклонять', 'судья считать', 'судья направлять', 'судья получать', 'судья Каспер-Анзерма', 'судья с', 'судья признавать', 'судья Дево', 'судья независимо', 'судья проводить', 'судья от', 'судья шотландский', 'судья постановить', 'судья вызывать', 'судья вызывать', 'судья традиционно', 'судья юрист', 'судья удовлетворять', 'судья и', 'судья областной', 'судья Кужанкуй', 'судья удовлетворять', 'судья запрещать', 'судья и', 'судья министр', 'судья в', 'судья они', 'судья мочь', 'судья быть', 'судья возглавлять', 'судья он', 'судья по', 'судья гласить', 'судья объявлять', 'судья отказываться', 'судья добиваться', 'судья Руссо', 'судья на', 'судья по', 'судья прокурор', 'судья комментировать', 'судья по', 'судья оглашение', 'судья от', 'судья и', 'судья все', 'судья все', 'судья обеспокоить', 'судья еще', 'судья федеральный', 'судья вынести', 'судья отклонять', 'судья отмечать', 'судья рассмотрение', 'судья американский', 'судья 19', 'судья чей', 'судья на', 'судья назначать', 'судья назначать', 'судья назначить', 'судья быть', 'судья проект', 'судья обнародовать', 'судья что', 'судья более', 'судья должен', 'судья договориться', 'судья городской', 'судья и', 'судья проходить', 'судья должен', 'судья шариатский', 'судья и', 'судья соглашаться', 'судья объявлять', 'судья за', 'судья выносить', 'судья международный', 'судья о', 'судья решение', 'судья Л', 'судья наносить', 'судья не', 'судья истец', 'судья по', 'судья в', 'судья вести', 'судья возглавлять', 'судья объявлять', 'судья приходить', 'судья вероятно', 'судья рассматривать', 'судья вынесение', 'судья отбывать', 'судья делить', 'судья возглавлять', 'судья слово', 'судья Печерский', 'судья в', 'судья верховный', 'судья анатолий', 'судья но', 'судья инициатор', 'судья быть', 'судья Дево', 'судья брайан', 'судья в', 'судья подавлять', 'судья закрывать', 'судья конституционный', 'судья один', 'судья поступать', 'судья рассматривать', 'судья связывать', 'судья удовлетворять', 'судья не', 'судья признавать', 'судья занимать', 'судья тверской', 'судья современность', 'судья который', 'судья который', 'судья с', 'судья вынужденный', 'судья таможенник', 'судья назначать', 'судья конституционный', 'судья о', 'судья даже', 'судья Санджованниприступит', 'судья рассматривать', 'судья и', 'судья быть', 'судья и', 'судья заявлять', 'судья выносить', 'судья ведущий', 'судья приостановить', 'судья не', 'судья просить', 'судья прекращать', 'судья который', 'судья от', 'судья жалоба', 'судья по', 'судья приходиться', 'судья претензия', 'судья издавать', 'судья Мэрили', 'судья из', 'судья приговаривать', 'судья Альдижер', 'судья апелляционный', 'судья бывший', 'судья парижский', 'судья выносить', 'судья отвергать', 'судья постановлять', 'судья игнорировать', 'судья служить', 'судья неверно', 'судья чтобы', 'судья от', 'судья один', 'судья метр', 'судья компьютер', 'судья вполне', 'судья который', 'судья постановлять', 'судья запрещать', 'судья верховный', 'судья верховный', 'судья Дево', 'судья разрешать', 'судья отказывать', 'судья обнаруживать', 'судья выгонять', 'судья он', 'судья Мтбя', 'судья указывать', 'судья требовать', 'судья и', 'судья считать', 'судья направлять', 'судья -', 'судья для', 'судья который', 'судья принимать', 'судья давать', 'судья конституционный', 'судья молчать', 'судья отклонять', 'судья Пфильцер', 'судья предлагать', 'судья новый', 'судья и', 'судья восточный', 'судья соглашаться', 'судья назначать', 'судья быть', 'судья крикнуть', 'судья констатировать', 'судья называть', 'судья который', 'судья быть', 'судья парижский', 'судья центральный', 'судья нарушеныположение', 'судья сказать', 'судья принимать', 'судья в', 'судья в', 'судья в', 'судья окружной', 'судья что', 'судья принимать', 'судья в', 'судья готовый', 'судья не', 'судья а', 'судья весь', 'судья выносить', 'судья уже', 'судья мочь', 'судья направлять', 'судья -докладчикий', 'судья Салониуспредоставлять', 'судья орт', 'судья против', 'судья признавать', 'судья заслушать', 'судья -', 'судья отвергать', 'судья официальный', 'судья который', 'судья не', 'судья предстоять', 'судья мочь', 'судья в', 'судья соглашаться', 'судья отнюдь', 'судья апелляционный', 'судья быть', 'судья акция', 'судья который', 'судья передавать', 'судья и', 'судья постановлять', 'судья который', 'судья который', 'судья слушание', 'судья заявлять', 'судья другой', 'судья мочь', 'судья или', 'судья и', 'судья под', 'судья обязать', 'судья лояльность', 'судья этот', 'судья по', 'судья выносить', 'судья один', 'судья выносить', 'судья приходить', 'судья Белорецкий', 'судья Дево', 'судья получать', 'судья фрунзенский', 'судья о', 'судья о', 'судья друг', 'судья примененыненадлежащий', 'судья приходить', 'судья быть', 'судья решать', 'судья Каспер-Анзерма', 'судья -', 'судья в', 'судья в', 'судья жить', 'судья два', 'судья главный', 'судья добавлять', 'судья не', 'судья верховный', 'судья признавать', 'судья удалить', 'судья запрет', 'судья этот', 'судья и', 'судья заканчивать', 'судья 9', 'судья шесть', 'судья не', 'судья не', 'судья разделяться', 'судья Дево', 'судья опубликовывать', 'судья первый', 'судья -', 'судья председательствовать', 'судья совместно', 'судья верховный', 'судья давать', 'судья каждый', 'судья по', 'судья этот', 'судья сказать', 'судья который', 'судья Ю', 'судья быть', 'судья совершать', 'судья лишать', 'судья заявлять', 'судья продление', 'судья -', 'судья принимать', 'судья отмечать', 'судья ходатайство', 'судья постановить', 'судья отдавать', 'судья решать', 'судья государственный', 'судья постоянно', 'судья учесть', 'судья рассматривать', 'судья заявлять', 'судья в', 'судья пока', 'судья решать', 'судья Корреа', 'судья Галиано', 'судья известный', 'судья прокурорский', 'судья находить', 'судья подтверждать', 'судья подтверждать', 'судья который', 'судья однако', 'судья и', 'судья и', 'судья в', 'судья в', 'судья из', 'судья по', 'судья поддерживать', 'судья до', 'судья также', 'судья в', 'судья выносить', 'судья процесс', 'судья округ', 'судья свой', 'судья -', 'судья округ', 'судья отказываться', 'судья сказать', 'судья быть', 'судья не', 'судья по', 'судья по', 'судья необоснованно', 'судья ведущий', 'судья отвергать', 'судья верховный', 'судья верховный', 'судья ведущий', 'судья решать', 'судья отклонять', 'судья уносить', 'судья быть', 'судья двое', 'судья который', 'судья который', 'судья залог', 'судья за', 'судья о', 'судья Инть', 'судья верховный', 'судья речь', 'судья признавать', 'судья обсуждать', 'судья сохранять', 'судья уходить', 'судья быть', 'судья на', 'судья признавать', 'судья выслушивать', 'судья европейский', 'судья давать', 'судья с', 'судья быть', 'судья должен', 'судья уголовный', 'судья некий', 'судья некий', 'судья лишать', 'судья как', 'судья заявлять', 'судья интересовать', 'судья высокий', 'судья высокий', 'судья обязать', 'судья верховный', 'судья один', 'судья уличение', 'судья немедленно', 'судья -', 'судья оставаться', 'судья для', 'судья устанавливать', 'судья не', 'судья не', 'судья и', 'судья суд', 'судья он', 'судья заявлять', 'судья курский', 'судья который', 'судья ограничивать', 'судья пресненский', 'судья консервативный', 'судья пойти', 'судья -', 'судья считать', 'судья верховный', 'судья который', 'судья а', 'судья справка', 'судья Эрв', 'судья прекращать', 'судья -', 'судья даже', 'судья верховный', 'судья удовлетворять', 'судья определение', 'судья заявлять', 'судья нина', 'судья спид', 'судья и', 'судья и', 'судья флоридский', 'судья в', 'судья округ', 'судья штат', 'судья который', 'судья штат', 'судья предстоять', 'судья матч', 'судья выносить', 'судья еще', 'судья отказываться', 'судья международный', 'судья из', 'судья верховный', 'судья прекращать', 'судья МакВя', 'судья и', 'судья выносить', 'судья о', 'судья руководствоваться', 'судья прием', 'судья в', 'судья ставить', 'судья по', 'судья Гом', 'судья предстоять', 'судья беседовать', 'судья по', 'судья который', 'судья предстать', 'судья выпускать', 'судья объявлять', 'судья некий', 'судья некий', 'судья постановлять', 'судья а', 'судья уменьшать', 'судья демонстрировать', 'судья демонстрировать', 'судья признавать', 'судья не', 'судья принимать', 'судья отказываться', 'судья и', 'судья в', 'судья объяснять', 'судья в', 'судья отправлять', 'судья и', 'судья информировать', 'судья заявлять', 'судья отдавать', 'судья быть', 'судья отмечать', 'судья 6900', 'судья национальный', 'судья документ', 'судья верховный', 'судья следовать', 'судья уменьшать', 'судья долждать', 'судья отказывать', 'судья относиться', 'судья и', 'судья уже', 'судья отсмеяться', 'судья прекращать', 'судья муж', 'судья свой', 'судья известный', 'судья сказать', 'судья напоминать', 'судья пятилетний', 'судья конституционный', 'судья о', 'судья Похорелска', 'судья который', 'судья Похорелска', 'судья Похорелска', 'судья должен', 'судья Похорелска', 'судья израильский', 'судья представлять', 'судья Ньюпортский', 'судья от', 'судья быть', 'судья Похорелска', 'судья постановлять', 'судья пообещать', 'судья окончательный', 'судья окончательный', 'судья из', 'судья который', 'судья так', 'судья Кунцевский', 'судья обязать', 'судья также', 'судья признавать', 'судья неприязненно', 'судья обвиняемый', 'судья Похорелска', 'судья любезно', 'судья все', 'судья график', 'судья матч', 'судья давать', 'судья не', 'судья отказывать', 'судья палата', 'судья отказываться', 'судья допрашивать', 'судья какой-то', 'судья быть', 'судья -', 'судья в', 'судья верховный', 'судья Погорелска', 'судья заявлять', 'судья Погорелска', 'судья мочь', 'судья оставлять', 'судья не', 'судья снова', 'судья отказываться', 'судья заявлять', 'судья проводить', 'судья однако', 'судья рассматривать', 'судья не', 'судья и', 'судья Похорелска', 'судья предстоять', 'судья заниматься', 'судья Черемушкинский', 'судья Baltasar', 'судья вставать', 'судья Бориспольский', 'судья порекомендовать', 'судья Похорелска', 'судья давать', 'судья Joel', 'судья просто', 'судья Бетти', 'судья признавать', 'судья Alan']\n",
            "{'решать': 39, 'все': 48, 'добавлять': 18, 'конституционный': 22, 'подпереть': 2, 'отклонять': 38, 'считать': 83, 'направлять': 47, 'получать': 70, 'Каспер-Анзерма': 3, 'с': 542, 'признавать': 47, 'Дево': 10, 'независимо': 6, 'проводить': 52, 'от': 180, 'шотландский': 3, 'постановить': 5, 'вызывать': 31, 'традиционно': 2, 'юрист': 15, 'удовлетворять': 57, 'и': 1061, 'областной': 20, 'Кужанкуй': 2, 'запрещать': 25, 'министр': 32, 'в': 2326, 'они': 205, 'мочь': 152, 'быть': 594, 'возглавлять': 14, 'он': 596, 'по': 792, 'гласить': 2, 'объявлять': 28, 'отказываться': 47, 'добиваться': 27, 'Руссо': 2, 'на': 735, 'прокурор': 841, 'комментировать': 15, 'оглашение': 11, 'обеспокоить': 4, 'еще': 57, 'федеральный': 73, 'вынести': 11, 'отмечать': 87, 'рассмотрение': 52, 'американский': 65, '19': 10, 'чей': 8, 'назначать': 45, 'назначить': 6, 'проект': 11, 'обнародовать': 5, 'что': 862, 'более': 43, 'должен': 86, 'договориться': 3, 'городской': 23, 'проходить': 33, 'шариатский': 5, 'соглашаться': 21, 'за': 152, 'выносить': 57, 'международный': 29, 'о': 571, 'решение': 258, 'Л': 2, 'наносить': 5, 'не': 560, 'истец': 38, 'вести': 26, 'приходить': 18, 'вероятно': 8, 'рассматривать': 47, 'вынесение': 14, 'отбывать': 3, 'делить': 2, 'слово': 220, 'Печерский': 2, 'верховный': 85, 'анатолий': 10, 'но': 68, 'инициатор': 4, 'брайан': 2, 'подавлять': 2, 'закрывать': 6, 'один': 107, 'поступать': 11, 'связывать': 27, 'занимать': 26, 'тверской': 14, 'современность': 2, 'который': 345, 'вынужденный': 4, 'таможенник': 2, 'даже': 32, 'Санджованниприступит': 2, 'заявлять': 287, 'ведущий': 14, 'приостановить': 7, 'просить': 42, 'прекращать': 20, 'жалоба': 71, 'приходиться': 15, 'претензия': 12, 'издавать': 3, 'Мэрили': 2, 'из': 201, 'приговаривать': 5, 'Альдижер': 2, 'апелляционный': 22, 'бывший': 122, 'парижский': 7, 'отвергать': 16, 'постановлять': 11, 'игнорировать': 3, 'служить': 9, 'неверно': 3, 'чтобы': 57, 'метр': 2, 'компьютер': 6, 'вполне': 9, 'разрешать': 13, 'отказывать': 14, 'обнаруживать': 7, 'выгонять': 2, 'Мтбя': 2, 'указывать': 19, 'требовать': 60, '-': 417, 'для': 165, 'принимать': 92, 'давать': 47, 'молчать': 3, 'Пфильцер': 2, 'предлагать': 32, 'новый': 60, 'восточный': 4, 'крикнуть': 2, 'констатировать': 2, 'называть': 29, 'центральный': 9, 'нарушеныположение': 2, 'сказать': 59, 'окружной': 37, 'готовый': 10, 'а': 137, 'весь': 99, 'уже': 70, '-докладчикий': 2, 'Салониуспредоставлять': 2, 'орт': 2, 'против': 77, 'заслушать': 4, 'официальный': 18, 'предстоять': 11, 'отнюдь': 2, 'акция': 10, 'передавать': 99, 'слушание': 52, 'другой': 49, 'или': 46, 'под': 96, 'обязать': 12, 'лояльность': 2, 'этот': 253, 'Белорецкий': 2, 'фрунзенский': 4, 'друг': 8, 'примененыненадлежащий': 2, 'жить': 7, 'два': 48, 'главный': 65, 'удалить': 3, 'запрет': 9, 'заканчивать': 3, '9': 7, 'шесть': 7, 'разделяться': 2, 'опубликовывать': 11, 'первый': 55, 'председательствовать': 7, 'совместно': 3, 'каждый': 16, 'Ю': 2, 'совершать': 26, 'лишать': 8, 'продление': 9, 'ходатайство': 71, 'отдавать': 5, 'государственный': 41, 'постоянно': 5, 'учесть': 2, 'пока': 34, 'Корреа': 2, 'Галиано': 2, 'известный': 46, 'прокурорский': 4, 'находить': 22, 'подтверждать': 37, 'однако': 135, 'поддерживать': 14, 'до': 95, 'также': 130, 'процесс': 64, 'округ': 51, 'свой': 218, 'необоснованно': 3, 'уносить': 2, 'двое': 6, 'залог': 19, 'Инть': 2, 'речь': 19, 'обсуждать': 7, 'сохранять': 6, 'уходить': 9, 'выслушивать': 6, 'европейский': 12, 'уголовный': 125, 'некий': 6, 'как': 356, 'интересовать': 6, 'высокий': 11, 'уличение': 2, 'немедленно': 6, 'оставаться': 23, 'устанавливать': 20, 'суд': 491, 'курский': 5, 'ограничивать': 6, 'пресненский': 4, 'консервативный': 4, 'пойти': 6, 'справка': 3, 'Эрв': 2, 'определение': 7, 'нина': 2, 'спид': 3, 'флоридский': 2, 'штат': 52, 'матч': 10, 'МакВя': 3, 'руководствоваться': 5, 'прием': 6, 'ставить': 19, 'Гом': 2, 'беседовать': 3, 'предстать': 4, 'выпускать': 12, 'уменьшать': 3, 'демонстрировать': 7, 'объяснять': 12, 'отправлять': 7, 'информировать': 6, '6900': 2, 'национальный': 18, 'документ': 77, 'следовать': 6, 'долждать': 2, 'относиться': 6, 'отсмеяться': 2, 'муж': 12, 'напоминать': 27, 'пятилетний': 2, 'Похорелска': 9, 'израильский': 5, 'представлять': 71, 'Ньюпортский': 2, 'пообещать': 6, 'окончательный': 26, 'так': 55, 'Кунцевский': 2, 'неприязненно': 2, 'обвиняемый': 57, 'любезно': 2, 'график': 4, 'палата': 23, 'допрашивать': 6, 'какой-то': 8, 'Погорелска': 3, 'оставлять': 12, 'снова': 4, 'заниматься': 23, 'Черемушкинский': 2, 'Baltasar': 2, 'вставать': 3, 'Бориспольский': 2, 'порекомендовать': 2, 'Joel': 2, 'просто': 11, 'Бетти': 3, 'Alan': 2}\n",
            "{'судья решать': 37, 'судья все': 46, 'судья добавлять': 16, 'судья конституционный': 20, 'судья подпереть': 1, 'судья отклонять': 36, 'судья считать': 81, 'судья направлять': 45, 'судья получать': 68, 'судья Каспер-Анзерма': 1, 'судья с': 540, 'судья признавать': 45, 'судья Дево': 8, 'судья независимо': 5, 'судья проводить': 50, 'судья от': 178, 'судья шотландский': 2, 'судья постановить': 3, 'судья вызывать': 28, 'судья традиционно': 1, 'судья юрист': 14, 'судья удовлетворять': 55, 'судья и': 1059, 'судья областной': 19, 'судья Кужанкуй': 1, 'судья запрещать': 23, 'судья министр': 31, 'судья в': 2324, 'судья они': 204, 'судья мочь': 148, 'судья быть': 592, 'судья возглавлять': 12, 'судья он': 594, 'судья по': 790, 'судья гласить': 1, 'судья объявлять': 26, 'судья отказываться': 45, 'судья добиваться': 26, 'судья Руссо': 1, 'судья на': 733, 'судья прокурор': 840, 'судья комментировать': 14, 'судья оглашение': 10, 'судья обеспокоить': 3, 'судья еще': 55, 'судья федеральный': 72, 'судья вынести': 10, 'судья отмечать': 85, 'судья рассмотрение': 51, 'судья американский': 64, 'судья 19': 9, 'судья чей': 7, 'судья назначать': 43, 'судья назначить': 5, 'судья проект': 10, 'судья обнародовать': 4, 'судья что': 860, 'судья более': 42, 'судья должен': 82, 'судья договориться': 2, 'судья городской': 22, 'судья проходить': 32, 'судья шариатский': 4, 'судья соглашаться': 19, 'судья за': 150, 'судья выносить': 55, 'судья международный': 27, 'судья о': 569, 'судья решение': 257, 'судья Л': 1, 'судья наносить': 4, 'судья не': 558, 'судья истец': 37, 'судья вести': 25, 'судья приходить': 16, 'судья вероятно': 7, 'судья рассматривать': 45, 'судья вынесение': 13, 'судья отбывать': 2, 'судья делить': 1, 'судья слово': 219, 'судья Печерский': 1, 'судья верховный': 83, 'судья анатолий': 9, 'судья но': 67, 'судья инициатор': 3, 'судья брайан': 1, 'судья подавлять': 1, 'судья закрывать': 5, 'судья один': 103, 'судья поступать': 10, 'судья связывать': 26, 'судья занимать': 25, 'судья тверской': 13, 'судья современность': 1, 'судья который': 341, 'судья вынужденный': 3, 'судья таможенник': 1, 'судья даже': 30, 'судья Санджованниприступит': 1, 'судья заявлять': 285, 'судья ведущий': 12, 'судья приостановить': 6, 'судья просить': 41, 'судья прекращать': 18, 'судья жалоба': 70, 'судья приходиться': 14, 'судья претензия': 11, 'судья издавать': 2, 'судья Мэрили': 1, 'судья из': 197, 'судья приговаривать': 4, 'судья Альдижер': 1, 'судья апелляционный': 20, 'судья бывший': 121, 'судья парижский': 5, 'судья отвергать': 14, 'судья постановлять': 9, 'судья игнорировать': 2, 'судья служить': 8, 'судья неверно': 2, 'судья чтобы': 56, 'судья метр': 1, 'судья компьютер': 5, 'судья вполне': 8, 'судья разрешать': 12, 'судья отказывать': 12, 'судья обнаруживать': 6, 'судья выгонять': 1, 'судья Мтбя': 1, 'судья указывать': 18, 'судья требовать': 59, 'судья -': 415, 'судья для': 163, 'судья принимать': 88, 'судья давать': 45, 'судья молчать': 2, 'судья Пфильцер': 1, 'судья предлагать': 31, 'судья новый': 59, 'судья восточный': 3, 'судья крикнуть': 1, 'судья констатировать': 1, 'судья называть': 28, 'судья центральный': 8, 'судья нарушеныположение': 1, 'судья сказать': 57, 'судья окружной': 36, 'судья готовый': 9, 'судья а': 135, 'судья весь': 98, 'судья уже': 68, 'судья -докладчикий': 1, 'судья Салониуспредоставлять': 1, 'судья орт': 1, 'судья против': 76, 'судья заслушать': 3, 'судья официальный': 17, 'судья предстоять': 9, 'судья отнюдь': 1, 'судья акция': 9, 'судья передавать': 98, 'судья слушание': 51, 'судья другой': 48, 'судья или': 45, 'судья под': 95, 'судья обязать': 10, 'судья лояльность': 1, 'судья этот': 251, 'судья Белорецкий': 1, 'судья фрунзенский': 3, 'судья друг': 7, 'судья примененыненадлежащий': 1, 'судья жить': 6, 'судья два': 47, 'судья главный': 64, 'судья удалить': 2, 'судья запрет': 8, 'судья заканчивать': 2, 'судья 9': 6, 'судья шесть': 6, 'судья разделяться': 1, 'судья опубликовывать': 10, 'судья первый': 54, 'судья председательствовать': 6, 'судья совместно': 2, 'судья каждый': 15, 'судья Ю': 1, 'судья совершать': 25, 'судья лишать': 4, 'судья продление': 8, 'судья ходатайство': 70, 'судья отдавать': 3, 'судья государственный': 40, 'судья постоянно': 4, 'судья учесть': 1, 'судья пока': 33, 'судья Корреа': 1, 'судья Галиано': 1, 'судья известный': 44, 'судья прокурорский': 3, 'судья находить': 21, 'судья подтверждать': 34, 'судья однако': 133, 'судья поддерживать': 13, 'судья до': 94, 'судья также': 128, 'судья процесс': 63, 'судья округ': 49, 'судья свой': 216, 'судья необоснованно': 2, 'судья уносить': 1, 'судья двое': 5, 'судья залог': 18, 'судья Инть': 1, 'судья речь': 18, 'судья обсуждать': 6, 'судья сохранять': 5, 'судья уходить': 8, 'судья выслушивать': 5, 'судья европейский': 11, 'судья уголовный': 124, 'судья некий': 4, 'судья как': 355, 'судья интересовать': 5, 'судья высокий': 8, 'судья уличение': 1, 'судья немедленно': 5, 'судья оставаться': 22, 'судья устанавливать': 19, 'судья суд': 490, 'судья курский': 4, 'судья ограничивать': 5, 'судья пресненский': 3, 'судья консервативный': 3, 'судья пойти': 5, 'судья справка': 2, 'судья Эрв': 1, 'судья определение': 6, 'судья нина': 1, 'судья спид': 2, 'судья флоридский': 1, 'судья штат': 49, 'судья матч': 8, 'судья МакВя': 2, 'судья руководствоваться': 4, 'судья прием': 5, 'судья ставить': 18, 'судья Гом': 1, 'судья беседовать': 2, 'судья предстать': 3, 'судья выпускать': 11, 'судья уменьшать': 1, 'судья демонстрировать': 4, 'судья объяснять': 11, 'судья отправлять': 6, 'судья информировать': 5, 'судья 6900': 1, 'судья национальный': 17, 'судья документ': 76, 'судья следовать': 5, 'судья долждать': 1, 'судья относиться': 5, 'судья отсмеяться': 1, 'судья муж': 11, 'судья напоминать': 26, 'судья пятилетний': 1, 'судья Похорелска': 7, 'судья израильский': 4, 'судья представлять': 70, 'судья Ньюпортский': 1, 'судья пообещать': 5, 'судья окончательный': 23, 'судья так': 54, 'судья Кунцевский': 1, 'судья неприязненно': 1, 'судья обвиняемый': 56, 'судья любезно': 1, 'судья график': 3, 'судья палата': 22, 'судья допрашивать': 5, 'судья какой-то': 7, 'судья Погорелска': 0, 'судья оставлять': 11, 'судья снова': 3, 'судья заниматься': 22, 'судья Черемушкинский': 1, 'судья Baltasar': 1, 'судья вставать': 2, 'судья Бориспольский': 1, 'судья порекомендовать': 1, 'судья Joel': 1, 'судья просто': 10, 'судья Бетти': 2, 'судья Alan': 1}\n"
          ],
          "name": "stdout"
        }
      ]
    },
    {
      "cell_type": "code",
      "metadata": {
        "colab": {
          "base_uri": "https://localhost:8080/"
        },
        "id": "aJcqYDkve8AJ",
        "outputId": "870fedb7-33fd-4ef6-93a8-7a40790d366f"
      },
      "source": [
        "count=0\n",
        "for sentence in unlc:\n",
        "  count += len(sentence)\n",
        "print(count)"
      ],
      "execution_count": 381,
      "outputs": [
        {
          "output_type": "stream",
          "text": [
            "47843\n"
          ],
          "name": "stdout"
        }
      ]
    },
    {
      "cell_type": "code",
      "metadata": {
        "colab": {
          "base_uri": "https://localhost:8080/"
        },
        "id": "ily0zp04fGX8",
        "outputId": "ade00b15-8a91-4e8f-c5d2-a4fc8e95e273"
      },
      "source": [
        "diff4=diff.copy()\n",
        "for w,l in diff4.items():\n",
        "  for wo,li in diff2.items():\n",
        "    for wor,lis in diff3.items():\n",
        "      if w==wor==wo:\n",
        "        diff4[w]=count-l-li-lis\n",
        "print(diff4)"
      ],
      "execution_count": 382,
      "outputs": [
        {
          "output_type": "stream",
          "text": [
            "{'судья решать': 47409, 'судья все': 47400, 'судья добавлять': 47430, 'судья конституционный': 47426, 'судья подпереть': 47445, 'судья отклонять': 47410, 'судья считать': 47365, 'судья направлять': 47401, 'судья получать': 47378, 'судья Каспер-Анзерма': 47445, 'судья с': 46906, 'судья признавать': 47401, 'судья Дево': 47438, 'судья независимо': 47441, 'судья проводить': 47396, 'судья от': 47268, 'судья шотландский': 47444, 'судья постановить': 47443, 'судья вызывать': 47418, 'судья традиционно': 47445, 'судья юрист': 47432, 'судья удовлетворять': 47391, 'судья и': 46387, 'судья областной': 47427, 'судья Кужанкуй': 47445, 'судья запрещать': 47423, 'судья министр': 47415, 'судья в': 45122, 'судья они': 47242, 'судья мочь': 47298, 'судья быть': 46854, 'судья возглавлять': 47434, 'судья он': 46852, 'судья по': 46656, 'судья гласить': 47445, 'судья объявлять': 47420, 'судья отказываться': 47401, 'судья добиваться': 47420, 'судья Руссо': 47445, 'судья на': 46713, 'судья прокурор': 46606, 'судья комментировать': 47432, 'судья оглашение': 47436, 'судья обеспокоить': 47443, 'судья еще': 47391, 'судья федеральный': 47374, 'судья вынести': 47436, 'судья отмечать': 47361, 'судья рассмотрение': 47395, 'судья американский': 47382, 'судья 19': 47437, 'судья чей': 47439, 'судья назначать': 47403, 'судья назначить': 47441, 'судья проект': 47436, 'судья обнародовать': 47442, 'судья что': 46586, 'судья более': 47404, 'судья должен': 47364, 'судья договориться': 47444, 'судья городской': 47424, 'судья проходить': 47414, 'судья шариатский': 47442, 'судья соглашаться': 47427, 'судья за': 47296, 'судья выносить': 47391, 'судья международный': 47419, 'судья о': 46877, 'судья решение': 47189, 'судья Л': 47445, 'судья наносить': 47442, 'судья не': 46888, 'судья истец': 47409, 'судья вести': 47421, 'судья приходить': 47430, 'судья вероятно': 47439, 'судья рассматривать': 47401, 'судья вынесение': 47433, 'судья отбывать': 47444, 'судья делить': 47445, 'судья слово': 47227, 'судья Печерский': 47445, 'судья верховный': 47363, 'судья анатолий': 47437, 'судья но': 47379, 'судья инициатор': 47443, 'судья брайан': 47445, 'судья подавлять': 47445, 'судья закрывать': 47441, 'судья один': 47343, 'судья поступать': 47436, 'судья связывать': 47420, 'судья занимать': 47421, 'судья тверской': 47433, 'судья современность': 47445, 'судья который': 47105, 'судья вынужденный': 47443, 'судья таможенник': 47445, 'судья даже': 47416, 'судья Санджованниприступит': 47445, 'судья заявлять': 47161, 'судья ведущий': 47434, 'судья приостановить': 47440, 'судья просить': 47405, 'судья прекращать': 47428, 'судья жалоба': 47376, 'судья приходиться': 47432, 'судья претензия': 47435, 'судья издавать': 47444, 'судья Мэрили': 47445, 'судья из': 47249, 'судья приговаривать': 47442, 'судья Альдижер': 47445, 'судья апелляционный': 47426, 'судья бывший': 47325, 'судья парижский': 47441, 'судья отвергать': 47432, 'судья постановлять': 47437, 'судья игнорировать': 47444, 'судья служить': 47438, 'судья неверно': 47444, 'судья чтобы': 47390, 'судья метр': 47445, 'судья компьютер': 47441, 'судья вполне': 47438, 'судья разрешать': 47434, 'судья отказывать': 47434, 'судья обнаруживать': 47440, 'судья выгонять': 47445, 'судья Мтбя': 47445, 'судья указывать': 47428, 'судья требовать': 47387, 'судья -': 47031, 'судья для': 47283, 'судья принимать': 47358, 'судья давать': 47401, 'судья молчать': 47444, 'судья Пфильцер': 47445, 'судья предлагать': 47415, 'судья новый': 47387, 'судья восточный': 47443, 'судья крикнуть': 47445, 'судья констатировать': 47445, 'судья называть': 47418, 'судья центральный': 47438, 'судья нарушеныположение': 47445, 'судья сказать': 47389, 'судья окружной': 47410, 'судья готовый': 47437, 'судья а': 47311, 'судья весь': 47348, 'судья уже': 47378, 'судья -докладчикий': 47445, 'судья Салониуспредоставлять': 47445, 'судья орт': 47445, 'судья против': 47370, 'судья заслушать': 47443, 'судья официальный': 47429, 'судья предстоять': 47437, 'судья отнюдь': 47445, 'судья акция': 47437, 'судья передавать': 47348, 'судья слушание': 47395, 'судья другой': 47398, 'судья или': 47401, 'судья под': 47351, 'судья обязать': 47436, 'судья лояльность': 47445, 'судья этот': 47195, 'судья Белорецкий': 47445, 'судья фрунзенский': 47443, 'судья друг': 47439, 'судья примененыненадлежащий': 47445, 'судья жить': 47440, 'судья два': 47399, 'судья главный': 47382, 'судья удалить': 47444, 'судья запрет': 47438, 'судья заканчивать': 47444, 'судья 9': 47440, 'судья шесть': 47440, 'судья разделяться': 47445, 'судья опубликовывать': 47436, 'судья первый': 47392, 'судья председательствовать': 47440, 'судья совместно': 47444, 'судья каждый': 47431, 'судья Ю': 47445, 'судья совершать': 47421, 'судья лишать': 47442, 'судья продление': 47438, 'судья ходатайство': 47376, 'судья отдавать': 47443, 'судья государственный': 47406, 'судья постоянно': 47442, 'судья учесть': 47445, 'судья пока': 47413, 'судья Корреа': 47445, 'судья Галиано': 47445, 'судья известный': 47402, 'судья прокурорский': 47443, 'судья находить': 47425, 'судья подтверждать': 47412, 'судья однако': 47313, 'судья поддерживать': 47433, 'судья до': 47352, 'судья также': 47318, 'судья процесс': 47383, 'судья округ': 47397, 'судья свой': 47230, 'судья необоснованно': 47444, 'судья уносить': 47445, 'судья двое': 47441, 'судья залог': 47428, 'судья Инть': 47445, 'судья речь': 47428, 'судья обсуждать': 47440, 'судья сохранять': 47441, 'судья уходить': 47438, 'судья выслушивать': 47441, 'судья европейский': 47435, 'судья уголовный': 47322, 'судья некий': 47442, 'судья как': 47091, 'судья интересовать': 47441, 'судья высокий': 47438, 'судья уличение': 47445, 'судья немедленно': 47441, 'судья оставаться': 47424, 'судья устанавливать': 47427, 'судья суд': 46956, 'судья курский': 47442, 'судья ограничивать': 47441, 'судья пресненский': 47443, 'судья консервативный': 47443, 'судья пойти': 47441, 'судья справка': 47444, 'судья Эрв': 47445, 'судья определение': 47440, 'судья нина': 47445, 'судья спид': 47444, 'судья флоридский': 47445, 'судья штат': 47397, 'судья матч': 47438, 'судья МакВя': 47444, 'судья руководствоваться': 47442, 'судья прием': 47441, 'судья ставить': 47428, 'судья Гом': 47445, 'судья беседовать': 47444, 'судья предстать': 47443, 'судья выпускать': 47435, 'судья уменьшать': 47445, 'судья демонстрировать': 47442, 'судья объяснять': 47435, 'судья отправлять': 47440, 'судья информировать': 47441, 'судья 6900': 47445, 'судья национальный': 47429, 'судья документ': 47370, 'судья следовать': 47441, 'судья долждать': 47445, 'судья относиться': 47441, 'судья отсмеяться': 47445, 'судья муж': 47435, 'судья напоминать': 47420, 'судья пятилетний': 47445, 'судья Похорелска': 47439, 'судья израильский': 47442, 'судья представлять': 47376, 'судья Ньюпортский': 47445, 'судья пообещать': 47441, 'судья окончательный': 47423, 'судья так': 47392, 'судья Кунцевский': 47445, 'судья неприязненно': 47445, 'судья обвиняемый': 47390, 'судья любезно': 47445, 'судья график': 47443, 'судья палата': 47424, 'судья допрашивать': 47441, 'судья какой-то': 47439, 'судья Погорелска': 47446, 'судья оставлять': 47435, 'судья снова': 47443, 'судья заниматься': 47424, 'судья Черемушкинский': 47445, 'судья Baltasar': 47445, 'судья вставать': 47444, 'судья Бориспольский': 47445, 'судья порекомендовать': 47445, 'судья Joel': 47445, 'судья просто': 47436, 'судья Бетти': 47444, 'судья Alan': 47445}\n"
          ],
          "name": "stdout"
        }
      ]
    },
    {
      "cell_type": "code",
      "metadata": {
        "colab": {
          "base_uri": "https://localhost:8080/"
        },
        "id": "F_U3wLFQBrEe",
        "outputId": "6d3364fd-be96-43f5-9ceb-943002b76840"
      },
      "source": [
        "list1={}\n",
        "for w,l in diff.items():\n",
        "  for wo,li in diff2.items():\n",
        "    if w==wo:\n",
        "      list1[w]=[l,li]\n",
        "print(list1)"
      ],
      "execution_count": 383,
      "outputs": [
        {
          "output_type": "stream",
          "text": [
            "{'судья решать': [2, 395], 'судья все': [2, 395], 'судья добавлять': [2, 395], 'судья конституционный': [2, 395], 'судья подпереть': [1, 396], 'судья отклонять': [2, 395], 'судья считать': [2, 395], 'судья направлять': [2, 395], 'судья получать': [2, 395], 'судья Каспер-Анзерма': [2, 395], 'судья с': [2, 395], 'судья признавать': [2, 395], 'судья Дево': [2, 395], 'судья независимо': [1, 396], 'судья проводить': [2, 395], 'судья от': [2, 395], 'судья шотландский': [1, 396], 'судья постановить': [2, 395], 'судья вызывать': [3, 394], 'судья традиционно': [1, 396], 'судья юрист': [1, 396], 'судья удовлетворять': [2, 395], 'судья и': [2, 395], 'судья областной': [1, 396], 'судья Кужанкуй': [1, 396], 'судья запрещать': [2, 395], 'судья министр': [1, 396], 'судья в': [2, 395], 'судья они': [1, 396], 'судья мочь': [4, 393], 'судья быть': [2, 395], 'судья возглавлять': [2, 395], 'судья он': [2, 395], 'судья по': [2, 395], 'судья гласить': [1, 396], 'судья объявлять': [2, 395], 'судья отказываться': [2, 395], 'судья добиваться': [1, 396], 'судья Руссо': [1, 396], 'судья на': [2, 395], 'судья прокурор': [1, 396], 'судья комментировать': [1, 396], 'судья оглашение': [1, 396], 'судья обеспокоить': [1, 396], 'судья еще': [2, 395], 'судья федеральный': [1, 396], 'судья вынести': [1, 396], 'судья отмечать': [2, 395], 'судья рассмотрение': [1, 396], 'судья американский': [1, 396], 'судья 19': [1, 396], 'судья чей': [1, 396], 'судья назначать': [2, 395], 'судья назначить': [1, 396], 'судья проект': [1, 396], 'судья обнародовать': [1, 396], 'судья что': [2, 395], 'судья более': [1, 396], 'судья должен': [4, 393], 'судья договориться': [1, 396], 'судья городской': [1, 396], 'судья проходить': [1, 396], 'судья шариатский': [1, 396], 'судья соглашаться': [2, 395], 'судья за': [2, 395], 'судья выносить': [2, 395], 'судья международный': [2, 395], 'судья о': [2, 395], 'судья решение': [1, 396], 'судья Л': [1, 396], 'судья наносить': [1, 396], 'судья не': [2, 395], 'судья истец': [1, 396], 'судья вести': [1, 396], 'судья приходить': [2, 395], 'судья вероятно': [1, 396], 'судья рассматривать': [2, 395], 'судья вынесение': [1, 396], 'судья отбывать': [1, 396], 'судья делить': [1, 396], 'судья слово': [1, 396], 'судья Печерский': [1, 396], 'судья верховный': [2, 395], 'судья анатолий': [1, 396], 'судья но': [1, 396], 'судья инициатор': [1, 396], 'судья брайан': [1, 396], 'судья подавлять': [1, 396], 'судья закрывать': [1, 396], 'судья один': [4, 393], 'судья поступать': [1, 396], 'судья связывать': [1, 396], 'судья занимать': [1, 396], 'судья тверской': [1, 396], 'судья современность': [1, 396], 'судья который': [4, 393], 'судья вынужденный': [1, 396], 'судья таможенник': [1, 396], 'судья даже': [2, 395], 'судья Санджованниприступит': [1, 396], 'судья заявлять': [2, 395], 'судья ведущий': [2, 395], 'судья приостановить': [1, 396], 'судья просить': [1, 396], 'судья прекращать': [2, 395], 'судья жалоба': [1, 396], 'судья приходиться': [1, 396], 'судья претензия': [1, 396], 'судья издавать': [1, 396], 'судья Мэрили': [1, 396], 'судья из': [4, 393], 'судья приговаривать': [1, 396], 'судья Альдижер': [1, 396], 'судья апелляционный': [2, 395], 'судья бывший': [1, 396], 'судья парижский': [2, 395], 'судья отвергать': [2, 395], 'судья постановлять': [2, 395], 'судья игнорировать': [1, 396], 'судья служить': [1, 396], 'судья неверно': [1, 396], 'судья чтобы': [1, 396], 'судья метр': [1, 396], 'судья компьютер': [1, 396], 'судья вполне': [1, 396], 'судья разрешать': [1, 396], 'судья отказывать': [2, 395], 'судья обнаруживать': [1, 396], 'судья выгонять': [1, 396], 'судья Мтбя': [1, 396], 'судья указывать': [1, 396], 'судья требовать': [1, 396], 'судья -': [2, 395], 'судья для': [2, 395], 'судья принимать': [4, 393], 'судья давать': [2, 395], 'судья молчать': [1, 396], 'судья Пфильцер': [1, 396], 'судья предлагать': [1, 396], 'судья новый': [1, 396], 'судья восточный': [1, 396], 'судья крикнуть': [1, 396], 'судья констатировать': [1, 396], 'судья называть': [1, 396], 'судья центральный': [1, 396], 'судья нарушеныположение': [1, 396], 'судья сказать': [2, 395], 'судья окружной': [1, 396], 'судья готовый': [1, 396], 'судья а': [2, 395], 'судья весь': [1, 396], 'судья уже': [2, 395], 'судья -докладчикий': [1, 396], 'судья Салониуспредоставлять': [1, 396], 'судья орт': [1, 396], 'судья против': [1, 396], 'судья заслушать': [1, 396], 'судья официальный': [1, 396], 'судья предстоять': [2, 395], 'судья отнюдь': [1, 396], 'судья акция': [1, 396], 'судья передавать': [1, 396], 'судья слушание': [1, 396], 'судья другой': [1, 396], 'судья или': [1, 396], 'судья под': [1, 396], 'судья обязать': [2, 395], 'судья лояльность': [1, 396], 'судья этот': [2, 395], 'судья Белорецкий': [1, 396], 'судья фрунзенский': [1, 396], 'судья друг': [1, 396], 'судья примененыненадлежащий': [1, 396], 'судья жить': [1, 396], 'судья два': [1, 396], 'судья главный': [1, 396], 'судья удалить': [1, 396], 'судья запрет': [1, 396], 'судья заканчивать': [1, 396], 'судья 9': [1, 396], 'судья шесть': [1, 396], 'судья разделяться': [1, 396], 'судья опубликовывать': [1, 396], 'судья первый': [1, 396], 'судья председательствовать': [1, 396], 'судья совместно': [1, 396], 'судья каждый': [1, 396], 'судья Ю': [1, 396], 'судья совершать': [1, 396], 'судья лишать': [4, 393], 'судья продление': [1, 396], 'судья ходатайство': [1, 396], 'судья отдавать': [2, 395], 'судья государственный': [1, 396], 'судья постоянно': [1, 396], 'судья учесть': [1, 396], 'судья пока': [1, 396], 'судья Корреа': [1, 396], 'судья Галиано': [1, 396], 'судья известный': [2, 395], 'судья прокурорский': [1, 396], 'судья находить': [1, 396], 'судья подтверждать': [3, 394], 'судья однако': [2, 395], 'судья поддерживать': [1, 396], 'судья до': [1, 396], 'судья также': [2, 395], 'судья процесс': [1, 396], 'судья округ': [2, 395], 'судья свой': [2, 395], 'судья необоснованно': [1, 396], 'судья уносить': [1, 396], 'судья двое': [1, 396], 'судья залог': [1, 396], 'судья Инть': [1, 396], 'судья речь': [1, 396], 'судья обсуждать': [1, 396], 'судья сохранять': [1, 396], 'судья уходить': [1, 396], 'судья выслушивать': [1, 396], 'судья европейский': [1, 396], 'судья уголовный': [1, 396], 'судья некий': [2, 395], 'судья как': [1, 396], 'судья интересовать': [1, 396], 'судья высокий': [3, 394], 'судья уличение': [1, 396], 'судья немедленно': [1, 396], 'судья оставаться': [1, 396], 'судья устанавливать': [1, 396], 'судья суд': [1, 396], 'судья курский': [1, 396], 'судья ограничивать': [1, 396], 'судья пресненский': [1, 396], 'судья консервативный': [1, 396], 'судья пойти': [1, 396], 'судья справка': [1, 396], 'судья Эрв': [1, 396], 'судья определение': [1, 396], 'судья нина': [1, 396], 'судья спид': [1, 396], 'судья флоридский': [1, 396], 'судья штат': [3, 394], 'судья матч': [2, 395], 'судья МакВя': [1, 396], 'судья руководствоваться': [1, 396], 'судья прием': [1, 396], 'судья ставить': [1, 396], 'судья Гом': [1, 396], 'судья беседовать': [1, 396], 'судья предстать': [1, 396], 'судья выпускать': [1, 396], 'судья уменьшать': [2, 395], 'судья демонстрировать': [3, 394], 'судья объяснять': [1, 396], 'судья отправлять': [1, 396], 'судья информировать': [1, 396], 'судья 6900': [1, 396], 'судья национальный': [1, 396], 'судья документ': [1, 396], 'судья следовать': [1, 396], 'судья долждать': [1, 396], 'судья относиться': [1, 396], 'судья отсмеяться': [1, 396], 'судья муж': [1, 396], 'судья напоминать': [1, 396], 'судья пятилетний': [1, 396], 'судья Похорелска': [2, 395], 'судья израильский': [1, 396], 'судья представлять': [1, 396], 'судья Ньюпортский': [1, 396], 'судья пообещать': [1, 396], 'судья окончательный': [3, 394], 'судья так': [1, 396], 'судья Кунцевский': [1, 396], 'судья неприязненно': [1, 396], 'судья обвиняемый': [1, 396], 'судья любезно': [1, 396], 'судья график': [1, 396], 'судья палата': [1, 396], 'судья допрашивать': [1, 396], 'судья какой-то': [1, 396], 'судья Погорелска': [3, 394], 'судья оставлять': [1, 396], 'судья снова': [1, 396], 'судья заниматься': [1, 396], 'судья Черемушкинский': [1, 396], 'судья Baltasar': [1, 396], 'судья вставать': [1, 396], 'судья Бориспольский': [1, 396], 'судья порекомендовать': [1, 396], 'судья Joel': [1, 396], 'судья просто': [1, 396], 'судья Бетти': [1, 396], 'судья Alan': [1, 396]}\n"
          ],
          "name": "stdout"
        }
      ]
    },
    {
      "cell_type": "code",
      "metadata": {
        "colab": {
          "base_uri": "https://localhost:8080/"
        },
        "id": "q7o96Hj6CNGS",
        "outputId": "01bee51f-4311-44e9-f414-7bb96716b299"
      },
      "source": [
        "list2={}\n",
        "for w,l in list1.items():\n",
        "  for wo,li in diff3.items():\n",
        "    if w==wo:\n",
        "      l.append(li)\n",
        "      list2[w]=l\n",
        "print(list2)"
      ],
      "execution_count": 384,
      "outputs": [
        {
          "output_type": "stream",
          "text": [
            "{'судья решать': [2, 395, 37], 'судья все': [2, 395, 46], 'судья добавлять': [2, 395, 16], 'судья конституционный': [2, 395, 20], 'судья подпереть': [1, 396, 1], 'судья отклонять': [2, 395, 36], 'судья считать': [2, 395, 81], 'судья направлять': [2, 395, 45], 'судья получать': [2, 395, 68], 'судья Каспер-Анзерма': [2, 395, 1], 'судья с': [2, 395, 540], 'судья признавать': [2, 395, 45], 'судья Дево': [2, 395, 8], 'судья независимо': [1, 396, 5], 'судья проводить': [2, 395, 50], 'судья от': [2, 395, 178], 'судья шотландский': [1, 396, 2], 'судья постановить': [2, 395, 3], 'судья вызывать': [3, 394, 28], 'судья традиционно': [1, 396, 1], 'судья юрист': [1, 396, 14], 'судья удовлетворять': [2, 395, 55], 'судья и': [2, 395, 1059], 'судья областной': [1, 396, 19], 'судья Кужанкуй': [1, 396, 1], 'судья запрещать': [2, 395, 23], 'судья министр': [1, 396, 31], 'судья в': [2, 395, 2324], 'судья они': [1, 396, 204], 'судья мочь': [4, 393, 148], 'судья быть': [2, 395, 592], 'судья возглавлять': [2, 395, 12], 'судья он': [2, 395, 594], 'судья по': [2, 395, 790], 'судья гласить': [1, 396, 1], 'судья объявлять': [2, 395, 26], 'судья отказываться': [2, 395, 45], 'судья добиваться': [1, 396, 26], 'судья Руссо': [1, 396, 1], 'судья на': [2, 395, 733], 'судья прокурор': [1, 396, 840], 'судья комментировать': [1, 396, 14], 'судья оглашение': [1, 396, 10], 'судья обеспокоить': [1, 396, 3], 'судья еще': [2, 395, 55], 'судья федеральный': [1, 396, 72], 'судья вынести': [1, 396, 10], 'судья отмечать': [2, 395, 85], 'судья рассмотрение': [1, 396, 51], 'судья американский': [1, 396, 64], 'судья 19': [1, 396, 9], 'судья чей': [1, 396, 7], 'судья назначать': [2, 395, 43], 'судья назначить': [1, 396, 5], 'судья проект': [1, 396, 10], 'судья обнародовать': [1, 396, 4], 'судья что': [2, 395, 860], 'судья более': [1, 396, 42], 'судья должен': [4, 393, 82], 'судья договориться': [1, 396, 2], 'судья городской': [1, 396, 22], 'судья проходить': [1, 396, 32], 'судья шариатский': [1, 396, 4], 'судья соглашаться': [2, 395, 19], 'судья за': [2, 395, 150], 'судья выносить': [2, 395, 55], 'судья международный': [2, 395, 27], 'судья о': [2, 395, 569], 'судья решение': [1, 396, 257], 'судья Л': [1, 396, 1], 'судья наносить': [1, 396, 4], 'судья не': [2, 395, 558], 'судья истец': [1, 396, 37], 'судья вести': [1, 396, 25], 'судья приходить': [2, 395, 16], 'судья вероятно': [1, 396, 7], 'судья рассматривать': [2, 395, 45], 'судья вынесение': [1, 396, 13], 'судья отбывать': [1, 396, 2], 'судья делить': [1, 396, 1], 'судья слово': [1, 396, 219], 'судья Печерский': [1, 396, 1], 'судья верховный': [2, 395, 83], 'судья анатолий': [1, 396, 9], 'судья но': [1, 396, 67], 'судья инициатор': [1, 396, 3], 'судья брайан': [1, 396, 1], 'судья подавлять': [1, 396, 1], 'судья закрывать': [1, 396, 5], 'судья один': [4, 393, 103], 'судья поступать': [1, 396, 10], 'судья связывать': [1, 396, 26], 'судья занимать': [1, 396, 25], 'судья тверской': [1, 396, 13], 'судья современность': [1, 396, 1], 'судья который': [4, 393, 341], 'судья вынужденный': [1, 396, 3], 'судья таможенник': [1, 396, 1], 'судья даже': [2, 395, 30], 'судья Санджованниприступит': [1, 396, 1], 'судья заявлять': [2, 395, 285], 'судья ведущий': [2, 395, 12], 'судья приостановить': [1, 396, 6], 'судья просить': [1, 396, 41], 'судья прекращать': [2, 395, 18], 'судья жалоба': [1, 396, 70], 'судья приходиться': [1, 396, 14], 'судья претензия': [1, 396, 11], 'судья издавать': [1, 396, 2], 'судья Мэрили': [1, 396, 1], 'судья из': [4, 393, 197], 'судья приговаривать': [1, 396, 4], 'судья Альдижер': [1, 396, 1], 'судья апелляционный': [2, 395, 20], 'судья бывший': [1, 396, 121], 'судья парижский': [2, 395, 5], 'судья отвергать': [2, 395, 14], 'судья постановлять': [2, 395, 9], 'судья игнорировать': [1, 396, 2], 'судья служить': [1, 396, 8], 'судья неверно': [1, 396, 2], 'судья чтобы': [1, 396, 56], 'судья метр': [1, 396, 1], 'судья компьютер': [1, 396, 5], 'судья вполне': [1, 396, 8], 'судья разрешать': [1, 396, 12], 'судья отказывать': [2, 395, 12], 'судья обнаруживать': [1, 396, 6], 'судья выгонять': [1, 396, 1], 'судья Мтбя': [1, 396, 1], 'судья указывать': [1, 396, 18], 'судья требовать': [1, 396, 59], 'судья -': [2, 395, 415], 'судья для': [2, 395, 163], 'судья принимать': [4, 393, 88], 'судья давать': [2, 395, 45], 'судья молчать': [1, 396, 2], 'судья Пфильцер': [1, 396, 1], 'судья предлагать': [1, 396, 31], 'судья новый': [1, 396, 59], 'судья восточный': [1, 396, 3], 'судья крикнуть': [1, 396, 1], 'судья констатировать': [1, 396, 1], 'судья называть': [1, 396, 28], 'судья центральный': [1, 396, 8], 'судья нарушеныположение': [1, 396, 1], 'судья сказать': [2, 395, 57], 'судья окружной': [1, 396, 36], 'судья готовый': [1, 396, 9], 'судья а': [2, 395, 135], 'судья весь': [1, 396, 98], 'судья уже': [2, 395, 68], 'судья -докладчикий': [1, 396, 1], 'судья Салониуспредоставлять': [1, 396, 1], 'судья орт': [1, 396, 1], 'судья против': [1, 396, 76], 'судья заслушать': [1, 396, 3], 'судья официальный': [1, 396, 17], 'судья предстоять': [2, 395, 9], 'судья отнюдь': [1, 396, 1], 'судья акция': [1, 396, 9], 'судья передавать': [1, 396, 98], 'судья слушание': [1, 396, 51], 'судья другой': [1, 396, 48], 'судья или': [1, 396, 45], 'судья под': [1, 396, 95], 'судья обязать': [2, 395, 10], 'судья лояльность': [1, 396, 1], 'судья этот': [2, 395, 251], 'судья Белорецкий': [1, 396, 1], 'судья фрунзенский': [1, 396, 3], 'судья друг': [1, 396, 7], 'судья примененыненадлежащий': [1, 396, 1], 'судья жить': [1, 396, 6], 'судья два': [1, 396, 47], 'судья главный': [1, 396, 64], 'судья удалить': [1, 396, 2], 'судья запрет': [1, 396, 8], 'судья заканчивать': [1, 396, 2], 'судья 9': [1, 396, 6], 'судья шесть': [1, 396, 6], 'судья разделяться': [1, 396, 1], 'судья опубликовывать': [1, 396, 10], 'судья первый': [1, 396, 54], 'судья председательствовать': [1, 396, 6], 'судья совместно': [1, 396, 2], 'судья каждый': [1, 396, 15], 'судья Ю': [1, 396, 1], 'судья совершать': [1, 396, 25], 'судья лишать': [4, 393, 4], 'судья продление': [1, 396, 8], 'судья ходатайство': [1, 396, 70], 'судья отдавать': [2, 395, 3], 'судья государственный': [1, 396, 40], 'судья постоянно': [1, 396, 4], 'судья учесть': [1, 396, 1], 'судья пока': [1, 396, 33], 'судья Корреа': [1, 396, 1], 'судья Галиано': [1, 396, 1], 'судья известный': [2, 395, 44], 'судья прокурорский': [1, 396, 3], 'судья находить': [1, 396, 21], 'судья подтверждать': [3, 394, 34], 'судья однако': [2, 395, 133], 'судья поддерживать': [1, 396, 13], 'судья до': [1, 396, 94], 'судья также': [2, 395, 128], 'судья процесс': [1, 396, 63], 'судья округ': [2, 395, 49], 'судья свой': [2, 395, 216], 'судья необоснованно': [1, 396, 2], 'судья уносить': [1, 396, 1], 'судья двое': [1, 396, 5], 'судья залог': [1, 396, 18], 'судья Инть': [1, 396, 1], 'судья речь': [1, 396, 18], 'судья обсуждать': [1, 396, 6], 'судья сохранять': [1, 396, 5], 'судья уходить': [1, 396, 8], 'судья выслушивать': [1, 396, 5], 'судья европейский': [1, 396, 11], 'судья уголовный': [1, 396, 124], 'судья некий': [2, 395, 4], 'судья как': [1, 396, 355], 'судья интересовать': [1, 396, 5], 'судья высокий': [3, 394, 8], 'судья уличение': [1, 396, 1], 'судья немедленно': [1, 396, 5], 'судья оставаться': [1, 396, 22], 'судья устанавливать': [1, 396, 19], 'судья суд': [1, 396, 490], 'судья курский': [1, 396, 4], 'судья ограничивать': [1, 396, 5], 'судья пресненский': [1, 396, 3], 'судья консервативный': [1, 396, 3], 'судья пойти': [1, 396, 5], 'судья справка': [1, 396, 2], 'судья Эрв': [1, 396, 1], 'судья определение': [1, 396, 6], 'судья нина': [1, 396, 1], 'судья спид': [1, 396, 2], 'судья флоридский': [1, 396, 1], 'судья штат': [3, 394, 49], 'судья матч': [2, 395, 8], 'судья МакВя': [1, 396, 2], 'судья руководствоваться': [1, 396, 4], 'судья прием': [1, 396, 5], 'судья ставить': [1, 396, 18], 'судья Гом': [1, 396, 1], 'судья беседовать': [1, 396, 2], 'судья предстать': [1, 396, 3], 'судья выпускать': [1, 396, 11], 'судья уменьшать': [2, 395, 1], 'судья демонстрировать': [3, 394, 4], 'судья объяснять': [1, 396, 11], 'судья отправлять': [1, 396, 6], 'судья информировать': [1, 396, 5], 'судья 6900': [1, 396, 1], 'судья национальный': [1, 396, 17], 'судья документ': [1, 396, 76], 'судья следовать': [1, 396, 5], 'судья долждать': [1, 396, 1], 'судья относиться': [1, 396, 5], 'судья отсмеяться': [1, 396, 1], 'судья муж': [1, 396, 11], 'судья напоминать': [1, 396, 26], 'судья пятилетний': [1, 396, 1], 'судья Похорелска': [2, 395, 7], 'судья израильский': [1, 396, 4], 'судья представлять': [1, 396, 70], 'судья Ньюпортский': [1, 396, 1], 'судья пообещать': [1, 396, 5], 'судья окончательный': [3, 394, 23], 'судья так': [1, 396, 54], 'судья Кунцевский': [1, 396, 1], 'судья неприязненно': [1, 396, 1], 'судья обвиняемый': [1, 396, 56], 'судья любезно': [1, 396, 1], 'судья график': [1, 396, 3], 'судья палата': [1, 396, 22], 'судья допрашивать': [1, 396, 5], 'судья какой-то': [1, 396, 7], 'судья Погорелска': [3, 394, 0], 'судья оставлять': [1, 396, 11], 'судья снова': [1, 396, 3], 'судья заниматься': [1, 396, 22], 'судья Черемушкинский': [1, 396, 1], 'судья Baltasar': [1, 396, 1], 'судья вставать': [1, 396, 2], 'судья Бориспольский': [1, 396, 1], 'судья порекомендовать': [1, 396, 1], 'судья Joel': [1, 396, 1], 'судья просто': [1, 396, 10], 'судья Бетти': [1, 396, 2], 'судья Alan': [1, 396, 1]}\n"
          ],
          "name": "stdout"
        }
      ]
    },
    {
      "cell_type": "code",
      "metadata": {
        "id": "O1Ls3MPXC2Ma"
      },
      "source": [
        "log_list={}\n",
        "for w,l in list2.items():\n",
        "  for wo,li in diff4.items():\n",
        "    if w==wo:\n",
        "      l.append(li)\n",
        "      log_list[w]=l"
      ],
      "execution_count": 385,
      "outputs": []
    },
    {
      "cell_type": "code",
      "metadata": {
        "colab": {
          "base_uri": "https://localhost:8080/"
        },
        "id": "GFeKXgWse7z6",
        "outputId": "f21a9853-2520-4b4b-8de9-4454348d341e"
      },
      "source": [
        "log_like_list={}\n",
        "ind=[]\n",
        "for w,l in log_list.items():\n",
        "  #print(w,l)\n",
        "  if l[2] == 0:\n",
        "    pass\n",
        "  else:\n",
        "    log_likelihood=math.log((l[0]*l[3])/(l[1]*l[2]))-3.29*(1/(1/l[0]+1/l[2]+1/l[3]+1/l[1]))\n",
        "    log_like_list[w] = log_likelihood\n",
        "\n",
        "sorted_dict = {}\n",
        "sorted_keys = sorted(log_like_list, key=log_like_list.get)  # [1, 3, 2]\n",
        "\n",
        "for w in sorted_keys:\n",
        "    sorted_dict[w] = log_like_list[w]\n",
        "\n",
        "print(sorted_dict)\n",
        "#print(result)"
      ],
      "execution_count": 386,
      "outputs": [
        {
          "output_type": "stream",
          "text": [
            "{'судья который': -12.53606081122374, 'судья из': -11.8771974671452, 'судья мочь': -11.507413030527658, 'судья один': -11.001184588665097, 'судья принимать': -10.7648214055601, 'судья должен': -10.654929291945718, 'судья в': -8.86062071611623, 'судья и': -8.040337151126016, 'судья что': -7.825075101887775, 'судья по': -7.737338908033893, 'судья на': -7.659955466365092, 'судья он': -7.44258512385548, 'судья быть': -7.439096170144308, 'судья о': -7.398095948429927, 'судья не': -7.377891769560979, 'судья с': -7.343945670573231, 'судья штат': -7.237019191647983, 'судья -': -7.0707895615190575, 'судья заявлять': -6.678089766076021, 'судья подтверждать': -6.643659652906342, 'судья этот': -6.544232878795055, 'судья свой': -6.385049967458203, 'судья вызывать': -6.296630461714594, 'судья от': -6.1781347824330375, 'судья для': -6.083204340234852, 'судья за': -5.993061490489636, 'судья окончательный': -5.918625473850597, 'судья а': -5.877999248266169, 'судья однако': -5.86162245975787, 'судья также': -5.819486086150404, 'судья отмечать': -5.3596627438953695, 'судья верховный': -5.332285950411611, 'судья считать': -5.304158505612998, 'судья прокурор': -5.243081975532986, 'судья получать': -5.099787503028873, 'судья уже': -5.099787503028873, 'судья сказать': -4.888392299416098, 'судья удовлетворять': -4.844882270545965, 'судья еще': -4.844882270545965, 'судья выносить': -4.844882270545965, 'судья проводить': -4.727483632645961, 'судья округ': -4.702345885227727, 'судья суд': -4.69382981659207, 'судья все': -4.6231331190900375, 'судья направлять': -4.595356427456406, 'судья признавать': -4.595356427456406, 'судья отказываться': -4.595356427456406, 'судья рассматривать': -4.595356427456406, 'судья давать': -4.595356427456406, 'судья известный': -4.566834571049844, 'судья назначать': -4.537528085110253, 'судья как': -4.366143405693975, 'судья решать': -4.342562142645812, 'судья отклонять': -4.3063475298392175, 'судья даже': -4.059585636039067, 'судья решение': -4.037530315624031, 'судья международный': -3.91202172930351, 'судья слово': -3.8745295880806805, 'судья объявлять': -3.8582062034885007, 'судья они': -3.8021715998802375, 'судья запрещать': -3.679669182565523, 'судья конституционный': -3.468727836547486, 'судья апелляционный': -3.468727836547486, 'судья соглашаться': -3.389190577861036, 'судья высокий': -3.328325540043768, 'судья прекращать': -3.3040556699403743, 'судья уголовный': -3.2924218674744052, 'судья бывший': -3.267223502281881, 'судья добавлять': -3.1137825490110216, 'судья приходить': -3.1137825490110216, 'судья весь': -3.0496809707471244, 'судья передавать': -3.0496809707471244, 'судья под': -3.0174937341114436, 'судья до': -3.006531573039638, 'судья отвергать': -2.8896375834462176, 'судья против': -2.7855349945981844, 'судья документ': -2.7855349945981844, 'судья федеральный': -2.7290538404347293, 'судья жалоба': -2.6995775665679096, 'судья ходатайство': -2.6995775665679096, 'судья представлять': -2.6995775665679096, 'судья но': -2.653677524991429, 'судья возглавлять': -2.6189769929257207, 'судья ведущий': -2.6189769929257207, 'судья отказывать': -2.6189769929257207, 'судья американский': -2.6055828034433186, 'судья главный': -2.6055828034433186, 'судья процесс': -2.5890264280086006, 'судья требовать': -2.5199347599768673, 'судья новый': -2.5199347599768673, 'судья чтобы': -2.464814131545836, 'судья обвиняемый': -2.464814131545836, 'судья первый': -2.4263158633214688, 'судья так': -2.4263158633214688, 'судья рассмотрение': -2.3656602869025436, 'судья слушание': -2.3656602869025436, 'судья другой': -2.301118011191022, 'судья обязать': -2.281290046907537, 'судья два': -2.278651646962394, 'судья или': -2.2321590694750615, 'судья более': -2.158137773435497, 'судья просить': -2.132206448168632, 'судья государственный': -2.1055916334378635, 'судья постановлять': -2.0770468165608356, 'судья предстоять': -2.0770468165608356, 'судья истец': -2.0212630978772403, 'судья окружной': -1.991514616635714, 'судья пока': -1.896632865987534, 'судья проходить': -1.8629222875701146, 'судья Дево': -1.8405886315548132, 'судья матч': -1.8405886315548132, 'судья министр': -1.8280522910886472, 'судья предлагать': -1.8280522910886472, 'судья лишать': -1.7529553869645502, 'судья называть': -1.7156227474680663, 'судья добиваться': -1.6331101396957584, 'судья связывать': -1.6331101396957584, 'судья напоминать': -1.6331101396957584, 'судья вести': -1.589204612573613, 'судья занимать': -1.589204612573613, 'судья совершать': -1.589204612573613, 'судья Похорелска': -1.561984721035159, 'судья городской': -1.4448832839649248, 'судья оставаться': -1.4448832839649248, 'судья палата': -1.4448832839649248, 'судья заниматься': -1.4448832839649248, 'судья находить': -1.3918717321998044, 'судья областной': -1.2768638207425311, 'судья устанавливать': -1.2768638207425311, 'судья указывать': -1.2141592993836123, 'судья залог': -1.2141592993836123, 'судья речь': -1.2141592993836123, 'судья ставить': -1.2141592993836123, 'судья официальный': -1.1474060933796026, 'судья национальный': -1.1474060933796026, 'судья демонстрировать': -1.1121345489346393, 'судья каждый': -0.9994626564678772, 'судья юрист': -0.9168054406459172, 'судья комментировать': -0.9168054406459172, 'судья приходиться': -0.9168054406459172, 'судья вынесение': -0.827083733409316, 'судья тверской': -0.827083733409316, 'судья поддерживать': -0.827083733409316, 'судья парижский': -0.8108569403612846, 'судья разрешать': -0.7290279524910952, 'судья претензия': -0.6210042024584546, 'судья европейский': -0.6210042024584546, 'судья выпускать': -0.6210042024584546, 'судья объяснять': -0.6210042024584546, 'судья муж': -0.6210042024584546, 'судья оставлять': -0.6210042024584546, 'судья оглашение': -0.5008641699226279, 'судья вынести': -0.5008641699226279, 'судья проект': -0.5008641699226279, 'судья поступать': -0.5008641699226279, 'судья опубликовывать': -0.5008641699226279, 'судья просто': -0.5008641699226279, 'судья 19': -0.36571078685492786, 'судья анатолий': -0.36571078685492786, 'судья готовый': -0.36571078685492786, 'судья акция': -0.36571078685492786, 'судья некий': -0.2765564680278496, 'судья служить': -0.21151706373868295, 'судья вполне': -0.21151706373868295, 'судья центральный': -0.21151706373868295, 'судья запрет': -0.21151706373868295, 'судья продление': -0.21151706373868295, 'судья уходить': -0.21151706373868295, 'судья чей': -0.03247469277745818, 'судья вероятно': -0.03247469277745818, 'судья друг': -0.03247469277745818, 'судья какой-то': -0.03247469277745818, 'судья приостановить': 0.180188796739837, 'судья обнаруживать': 0.180188796739837, 'судья жить': 0.180188796739837, 'судья 9': 0.180188796739837, 'судья шесть': 0.180188796739837, 'судья председательствовать': 0.180188796739837, 'судья обсуждать': 0.180188796739837, 'судья определение': 0.180188796739837, 'судья отправлять': 0.180188796739837, 'судья независимо': 0.44052866354556963, 'судья назначить': 0.44052866354556963, 'судья закрывать': 0.44052866354556963, 'судья компьютер': 0.44052866354556963, 'судья двое': 0.44052866354556963, 'судья сохранять': 0.44052866354556963, 'судья выслушивать': 0.44052866354556963, 'судья интересовать': 0.44052866354556963, 'судья немедленно': 0.44052866354556963, 'судья ограничивать': 0.44052866354556963, 'судья пойти': 0.44052866354556963, 'судья прием': 0.44052866354556963, 'судья информировать': 0.44052866354556963, 'судья следовать': 0.44052866354556963, 'судья относиться': 0.44052866354556963, 'судья пообещать': 0.44052866354556963, 'судья допрашивать': 0.44052866354556963, 'судья постановить': 0.4469902459019801, 'судья отдавать': 0.4469902459019801, 'судья обнародовать': 0.7729052736264443, 'судья шариатский': 0.7729052736264443, 'судья наносить': 0.7729052736264443, 'судья приговаривать': 0.7729052736264443, 'судья постоянно': 0.7729052736264443, 'судья курский': 0.7729052736264443, 'судья руководствоваться': 0.7729052736264443, 'судья израильский': 0.7729052736264443, 'судья обеспокоить': 1.2244610901568773, 'судья инициатор': 1.2244610901568773, 'судья вынужденный': 1.2244610901568773, 'судья восточный': 1.2244610901568773, 'судья заслушать': 1.2244610901568773, 'судья фрунзенский': 1.2244610901568773, 'судья прокурорский': 1.2244610901568773, 'судья пресненский': 1.2244610901568773, 'судья консервативный': 1.2244610901568773, 'судья предстать': 1.2244610901568773, 'судья график': 1.2244610901568773, 'судья снова': 1.2244610901568773, 'судья шотландский': 1.9031276125317174, 'судья договориться': 1.9031276125317174, 'судья отбывать': 1.9031276125317174, 'судья издавать': 1.9031276125317174, 'судья игнорировать': 1.9031276125317174, 'судья неверно': 1.9031276125317174, 'судья молчать': 1.9031276125317174, 'судья удалить': 1.9031276125317174, 'судья заканчивать': 1.9031276125317174, 'судья совместно': 1.9031276125317174, 'судья необоснованно': 1.9031276125317174, 'судья справка': 1.9031276125317174, 'судья спид': 1.9031276125317174, 'судья МакВя': 1.9031276125317174, 'судья беседовать': 1.9031276125317174, 'судья вставать': 1.9031276125317174, 'судья Бетти': 1.9031276125317174, 'судья подпереть': 3.143003906148123, 'судья традиционно': 3.143003906148123, 'судья Кужанкуй': 3.143003906148123, 'судья гласить': 3.143003906148123, 'судья Руссо': 3.143003906148123, 'судья Л': 3.143003906148123, 'судья делить': 3.143003906148123, 'судья Печерский': 3.143003906148123, 'судья брайан': 3.143003906148123, 'судья подавлять': 3.143003906148123, 'судья современность': 3.143003906148123, 'судья таможенник': 3.143003906148123, 'судья Санджованниприступит': 3.143003906148123, 'судья Мэрили': 3.143003906148123, 'судья Альдижер': 3.143003906148123, 'судья метр': 3.143003906148123, 'судья выгонять': 3.143003906148123, 'судья Мтбя': 3.143003906148123, 'судья Пфильцер': 3.143003906148123, 'судья крикнуть': 3.143003906148123, 'судья констатировать': 3.143003906148123, 'судья нарушеныположение': 3.143003906148123, 'судья -докладчикий': 3.143003906148123, 'судья Салониуспредоставлять': 3.143003906148123, 'судья орт': 3.143003906148123, 'судья отнюдь': 3.143003906148123, 'судья лояльность': 3.143003906148123, 'судья Белорецкий': 3.143003906148123, 'судья примененыненадлежащий': 3.143003906148123, 'судья разделяться': 3.143003906148123, 'судья Ю': 3.143003906148123, 'судья учесть': 3.143003906148123, 'судья Корреа': 3.143003906148123, 'судья Галиано': 3.143003906148123, 'судья уносить': 3.143003906148123, 'судья Инть': 3.143003906148123, 'судья уличение': 3.143003906148123, 'судья Эрв': 3.143003906148123, 'судья нина': 3.143003906148123, 'судья флоридский': 3.143003906148123, 'судья Гом': 3.143003906148123, 'судья 6900': 3.143003906148123, 'судья долждать': 3.143003906148123, 'судья отсмеяться': 3.143003906148123, 'судья пятилетний': 3.143003906148123, 'судья Ньюпортский': 3.143003906148123, 'судья Кунцевский': 3.143003906148123, 'судья неприязненно': 3.143003906148123, 'судья любезно': 3.143003906148123, 'судья Черемушкинский': 3.143003906148123, 'судья Baltasar': 3.143003906148123, 'судья Бориспольский': 3.143003906148123, 'судья порекомендовать': 3.143003906148123, 'судья Joel': 3.143003906148123, 'судья Alan': 3.143003906148123, 'судья Каспер-Анзерма': 3.2919808129711736, 'судья уменьшать': 3.2919808129711736}\n"
          ],
          "name": "stdout"
        }
      ]
    },
    {
      "cell_type": "markdown",
      "metadata": {
        "id": "Vi1j-JB8qXMH"
      },
      "source": [
        "Результаты LL"
      ]
    },
    {
      "cell_type": "code",
      "metadata": {
        "colab": {
          "base_uri": "https://localhost:8080/"
        },
        "id": "SsSYm7M4qZ_K",
        "outputId": "6fe7428d-f0a7-44a7-832d-fc4c5abd22aa"
      },
      "source": [
        "unlc=[]\n",
        "for sentence in tokens:\n",
        "  if sentence in unlc:\n",
        "    continue\n",
        "  else:\n",
        "    unlc.append(sentence)\n",
        "print(len(unlc))"
      ],
      "execution_count": 348,
      "outputs": [
        {
          "output_type": "stream",
          "text": [
            "197175\n"
          ],
          "name": "stdout"
        }
      ]
    },
    {
      "cell_type": "code",
      "metadata": {
        "id": "RvZ-YL7gqZ_P"
      },
      "source": [
        "for sentence in unlc:\n",
        "  for i in sentence:\n",
        "    if re.match(r'[0-9]', i):\n",
        "      pass\n",
        "    else:\n",
        "      sentence.remove(i)"
      ],
      "execution_count": 349,
      "outputs": []
    },
    {
      "cell_type": "code",
      "metadata": {
        "id": "MKOX-NjxqZ_Q"
      },
      "source": [
        "for sentence in unlc:\n",
        "  for i in sentence:\n",
        "    if i.startswith('_'):\n",
        "      sentence.remove(i)"
      ],
      "execution_count": 350,
      "outputs": []
    },
    {
      "cell_type": "code",
      "metadata": {
        "id": "-y2wY5PsqZ_R"
      },
      "source": [
        "for sentence in unlc:\n",
        "  for i in sentence:\n",
        "    if re.match(r'_', i):\n",
        "      sentence.remove(i)"
      ],
      "execution_count": 351,
      "outputs": []
    },
    {
      "cell_type": "code",
      "metadata": {
        "id": "cJn6wX7gqZ_T"
      },
      "source": [
        "for sentence in unlc:\n",
        "  for i in sentence:\n",
        "    if re.match(r':', i):\n",
        "      sentence.remove(i)"
      ],
      "execution_count": 352,
      "outputs": []
    },
    {
      "cell_type": "code",
      "metadata": {
        "id": "9XJIV-sUqZ_U"
      },
      "source": [
        "for sentence in unlc:\n",
        "  for i in sentence:\n",
        "    if re.match(r'[а-я]', i):\n",
        "      sentence.remove(i)"
      ],
      "execution_count": 353,
      "outputs": []
    },
    {
      "cell_type": "code",
      "metadata": {
        "id": "M4YJTFJRqZ_U"
      },
      "source": [
        "for sentence in unlc:\n",
        "  for i in sentence:\n",
        "    if i=='':\n",
        "      print(sentence)"
      ],
      "execution_count": 354,
      "outputs": []
    },
    {
      "cell_type": "code",
      "metadata": {
        "id": "_QIuV0GnqZ_Y"
      },
      "source": [
        "for sentence in unlc:\n",
        "  for i in sentence:\n",
        "    if re.match(r'_PUNCT_', i):\n",
        "      sentence.remove(i)"
      ],
      "execution_count": 355,
      "outputs": []
    },
    {
      "cell_type": "code",
      "metadata": {
        "colab": {
          "base_uri": "https://localhost:8080/"
        },
        "id": "Wt-AfphFqZ_Z",
        "outputId": "fb743e28-4ea5-4be1-aae1-22f0e5a057cd"
      },
      "source": [
        "parsed_unlc=[]\n",
        "for sentence in unlc:\n",
        "  p_sent=[]\n",
        "  for i in sentence:\n",
        "    w=[]\n",
        "    w=i.split(sep=\"_\")\n",
        "    if re.match(r'_PUNCT_', i):\n",
        "      pass\n",
        "    else:\n",
        "      if len(w)<3:\n",
        "        if i not in sentence:\n",
        "          pass\n",
        "        else:\n",
        "          sentence.remove(i)\n",
        "      else:\n",
        "        p_sent.append(w[2])\n",
        "  parsed_unlc.append(p_sent)\n",
        "print(parsed_unlc[:10])"
      ],
      "execution_count": 356,
      "outputs": [
        {
          "output_type": "stream",
          "text": [
            "[['бой', 'в', 'и', 'заканчиваться', 'отступление', 'германец'], ['неприятель', 'приближаться', 'с', 'север', 'к', 'начинать', 'артиллерийский', 'борьба', 'с', 'крепость'], ['в', 'артиллерийский', 'бой', 'принимать', 'участие', 'тяжелый', 'калибр'], ['с', 'ранний', 'утро', '14', 'сентябрь', 'огонь', 'достигать', 'значительный', 'напряжение'], ['германский', 'пехота', 'пробиваться', 'близко', 'к', 'крепость', 'отражать'], ['в', 'мы', 'занимать'], ['большой', 'колонна', 'отступать', 'по', 'шоссе', 'от', 'к', 'обстреливаться', 'с', 'высота', 'наш', 'батарея', 'и', 'бежать', 'бросить', 'парк', 'обоз', 'и', 'автомобиль'], ['вылазка', 'гарнизон', 'оставаться', 'безуспешный'], ['при', 'продолжающться', 'отступление', 'австриец', 'обнаруживать', 'полный', 'перемешивание', 'они', 'часть', 'захватывать', 'новый', 'партия', 'пленный', 'орудие', 'и', 'прочий', 'материальный', 'часть'], ['на', 'перевал', 'мы', 'разбивать', 'неприятельский', 'отряд', 'брать', 'он', 'артиллерия', 'и', 'много', 'пленный', 'и', 'продолжать', 'преследовать', 'вступать', 'в', 'предел']]\n"
          ],
          "name": "stdout"
        }
      ]
    },
    {
      "cell_type": "code",
      "metadata": {
        "colab": {
          "base_uri": "https://localhost:8080/"
        },
        "id": "72wTnNcDqZ_b",
        "outputId": "d1edbc5b-d341-4fcd-f735-edf781d0fb65"
      },
      "source": [
        "spisok = []\n",
        "diff = {}\n",
        "b = {}\n",
        "for sentence in parsed_unlc:\n",
        "  for i in sentence:\n",
        "    if i == 'судья':\n",
        "      if i not in sentence:\n",
        "        pass\n",
        "      else:\n",
        "        n = sentence.index(i)\n",
        "      #print(n)\n",
        "        if i == sentence[-1]:\n",
        "          pass\n",
        "        else:\n",
        "          m = sentence[n+1]\n",
        "          spisok.append(i+' '+m)\n",
        "print(spisok)\n",
        "for i in spisok:\n",
        "  if i in diff.keys():\n",
        "    for w, l in diff.items():\n",
        "      diff[i] = l+1\n",
        "  else:\n",
        "    diff[i] = 1\n",
        "print(diff)"
      ],
      "execution_count": 357,
      "outputs": [
        {
          "output_type": "stream",
          "text": [
            "['судья решать', 'судья все', 'судья добавлять', 'судья конституционный', 'судья подпереть', 'судья отклонять', 'судья считать', 'судья направлять', 'судья получать', 'судья Каспер-Анзерма', 'судья с', 'судья признавать', 'судья Дево', 'судья независимо', 'судья проводить', 'судья от', 'судья шотландский', 'судья постановить', 'судья вызывать', 'судья вызывать', 'судья традиционно', 'судья юрист', 'судья удовлетворять', 'судья и', 'судья областной', 'судья Кужанкуй', 'судья удовлетворять', 'судья запрещать', 'судья и', 'судья министр', 'судья в', 'судья они', 'судья мочь', 'судья быть', 'судья возглавлять', 'судья он', 'судья по', 'судья гласить', 'судья объявлять', 'судья отказываться', 'судья добиваться', 'судья Руссо', 'судья на', 'судья по', 'судья прокурор', 'судья комментировать', 'судья по', 'судья оглашение', 'судья от', 'судья и', 'судья все', 'судья все', 'судья обеспокоить', 'судья еще', 'судья федеральный', 'судья вынести', 'судья отклонять', 'судья отмечать', 'судья рассмотрение', 'судья американский', 'судья 19', 'судья чей', 'судья на', 'судья назначать', 'судья назначать', 'судья назначить', 'судья быть', 'судья проект', 'судья обнародовать', 'судья что', 'судья более', 'судья должен', 'судья договориться', 'судья городской', 'судья и', 'судья проходить', 'судья должен', 'судья шариатский', 'судья и', 'судья соглашаться', 'судья объявлять', 'судья за', 'судья выносить', 'судья международный', 'судья о', 'судья решение', 'судья Л', 'судья наносить', 'судья не', 'судья истец', 'судья по', 'судья в', 'судья вести', 'судья возглавлять', 'судья объявлять', 'судья приходить', 'судья вероятно', 'судья рассматривать', 'судья вынесение', 'судья отбывать', 'судья делить', 'судья возглавлять', 'судья слово', 'судья Печерский', 'судья в', 'судья верховный', 'судья анатолий', 'судья но', 'судья инициатор', 'судья быть', 'судья Дево', 'судья брайан', 'судья в', 'судья подавлять', 'судья закрывать', 'судья конституционный', 'судья один', 'судья поступать', 'судья рассматривать', 'судья связывать', 'судья удовлетворять', 'судья не', 'судья признавать', 'судья занимать', 'судья тверской', 'судья современность', 'судья который', 'судья который', 'судья с', 'судья вынужденный', 'судья таможенник', 'судья назначать', 'судья конституционный', 'судья о', 'судья даже', 'судья Санджованниприступит', 'судья рассматривать', 'судья и', 'судья быть', 'судья и', 'судья заявлять', 'судья выносить', 'судья ведущий', 'судья приостановить', 'судья не', 'судья просить', 'судья прекращать', 'судья который', 'судья от', 'судья жалоба', 'судья по', 'судья приходиться', 'судья претензия', 'судья издавать', 'судья Мэрили', 'судья из', 'судья приговаривать', 'судья Альдижер', 'судья апелляционный', 'судья бывший', 'судья парижский', 'судья выносить', 'судья отвергать', 'судья постановлять', 'судья игнорировать', 'судья служить', 'судья неверно', 'судья чтобы', 'судья от', 'судья один', 'судья метр', 'судья компьютер', 'судья вполне', 'судья который', 'судья постановлять', 'судья запрещать', 'судья верховный', 'судья верховный', 'судья Дево', 'судья разрешать', 'судья отказывать', 'судья обнаруживать', 'судья выгонять', 'судья он', 'судья Мтбя', 'судья указывать', 'судья требовать', 'судья и', 'судья считать', 'судья направлять', 'судья -', 'судья для', 'судья который', 'судья принимать', 'судья давать', 'судья конституционный', 'судья молчать', 'судья отклонять', 'судья Пфильцер', 'судья предлагать', 'судья новый', 'судья и', 'судья восточный', 'судья соглашаться', 'судья назначать', 'судья быть', 'судья крикнуть', 'судья констатировать', 'судья называть', 'судья который', 'судья быть', 'судья парижский', 'судья центральный', 'судья нарушеныположение', 'судья сказать', 'судья принимать', 'судья в', 'судья в', 'судья в', 'судья окружной', 'судья что', 'судья принимать', 'судья в', 'судья готовый', 'судья не', 'судья а', 'судья весь', 'судья выносить', 'судья уже', 'судья мочь', 'судья направлять', 'судья -докладчикий', 'судья Салониуспредоставлять', 'судья орт', 'судья против', 'судья признавать', 'судья заслушать', 'судья -', 'судья отвергать', 'судья официальный', 'судья который', 'судья не', 'судья предстоять', 'судья мочь', 'судья в', 'судья соглашаться', 'судья отнюдь', 'судья апелляционный', 'судья быть', 'судья акция', 'судья который', 'судья передавать', 'судья и', 'судья постановлять', 'судья который', 'судья который', 'судья слушание', 'судья заявлять', 'судья другой', 'судья мочь', 'судья или', 'судья и', 'судья под', 'судья обязать', 'судья лояльность', 'судья этот', 'судья по', 'судья выносить', 'судья один', 'судья выносить', 'судья приходить', 'судья Белорецкий', 'судья Дево', 'судья получать', 'судья фрунзенский', 'судья о', 'судья о', 'судья друг', 'судья примененыненадлежащий', 'судья приходить', 'судья быть', 'судья решать', 'судья Каспер-Анзерма', 'судья -', 'судья в', 'судья в', 'судья жить', 'судья два', 'судья главный', 'судья добавлять', 'судья не', 'судья верховный', 'судья признавать', 'судья удалить', 'судья запрет', 'судья этот', 'судья и', 'судья заканчивать', 'судья 9', 'судья шесть', 'судья не', 'судья не', 'судья разделяться', 'судья Дево', 'судья опубликовывать', 'судья первый', 'судья -', 'судья председательствовать', 'судья совместно', 'судья верховный', 'судья давать', 'судья каждый', 'судья по', 'судья этот', 'судья сказать', 'судья который', 'судья Ю', 'судья быть', 'судья совершать', 'судья лишать', 'судья заявлять', 'судья продление', 'судья -', 'судья принимать', 'судья отмечать', 'судья ходатайство', 'судья постановить', 'судья отдавать', 'судья решать', 'судья государственный', 'судья постоянно', 'судья учесть', 'судья рассматривать', 'судья заявлять', 'судья в', 'судья пока', 'судья решать', 'судья Корреа', 'судья Галиано', 'судья известный', 'судья прокурорский', 'судья находить', 'судья подтверждать', 'судья подтверждать', 'судья который', 'судья однако', 'судья и', 'судья и', 'судья в', 'судья в', 'судья из', 'судья по', 'судья поддерживать', 'судья до', 'судья также', 'судья в', 'судья выносить', 'судья процесс', 'судья округ', 'судья свой', 'судья -', 'судья округ', 'судья отказываться', 'судья сказать', 'судья быть', 'судья не', 'судья по', 'судья по', 'судья необоснованно', 'судья ведущий', 'судья отвергать', 'судья верховный', 'судья верховный', 'судья ведущий', 'судья решать', 'судья отклонять', 'судья уносить', 'судья быть', 'судья двое', 'судья который', 'судья который', 'судья залог', 'судья за', 'судья о', 'судья Инть', 'судья верховный', 'судья речь', 'судья признавать', 'судья обсуждать', 'судья сохранять', 'судья уходить', 'судья быть', 'судья на', 'судья признавать', 'судья выслушивать', 'судья европейский', 'судья давать', 'судья с', 'судья быть', 'судья должен', 'судья уголовный', 'судья некий', 'судья некий', 'судья лишать', 'судья как', 'судья заявлять', 'судья интересовать', 'судья высокий', 'судья высокий', 'судья обязать', 'судья верховный', 'судья один', 'судья уличение', 'судья немедленно', 'судья -', 'судья оставаться', 'судья для', 'судья устанавливать', 'судья не', 'судья не', 'судья и', 'судья суд', 'судья он', 'судья заявлять', 'судья курский', 'судья который', 'судья ограничивать', 'судья пресненский', 'судья консервативный', 'судья пойти', 'судья -', 'судья считать', 'судья верховный', 'судья который', 'судья а', 'судья справка', 'судья Эрв', 'судья прекращать', 'судья -', 'судья даже', 'судья верховный', 'судья удовлетворять', 'судья определение', 'судья заявлять', 'судья нина', 'судья спид', 'судья и', 'судья и', 'судья флоридский', 'судья в', 'судья округ', 'судья штат', 'судья который', 'судья штат', 'судья предстоять', 'судья матч', 'судья выносить', 'судья еще', 'судья отказываться', 'судья международный', 'судья из', 'судья верховный', 'судья прекращать', 'судья МакВя', 'судья и', 'судья выносить', 'судья о', 'судья руководствоваться', 'судья прием', 'судья в', 'судья ставить', 'судья по', 'судья Гом', 'судья предстоять', 'судья беседовать', 'судья по', 'судья который', 'судья предстать', 'судья выпускать', 'судья объявлять', 'судья некий', 'судья некий', 'судья постановлять', 'судья а', 'судья уменьшать', 'судья демонстрировать', 'судья демонстрировать', 'судья признавать', 'судья не', 'судья принимать', 'судья отказываться', 'судья и', 'судья в', 'судья объяснять', 'судья в', 'судья отправлять', 'судья и', 'судья информировать', 'судья заявлять', 'судья отдавать', 'судья быть', 'судья отмечать', 'судья 6900', 'судья национальный', 'судья документ', 'судья верховный', 'судья следовать', 'судья уменьшать', 'судья долждать', 'судья отказывать', 'судья относиться', 'судья и', 'судья уже', 'судья отсмеяться', 'судья прекращать', 'судья муж', 'судья свой', 'судья известный', 'судья сказать', 'судья напоминать', 'судья пятилетний', 'судья конституционный', 'судья о', 'судья Похорелска', 'судья который', 'судья Похорелска', 'судья Похорелска', 'судья должен', 'судья Похорелска', 'судья израильский', 'судья представлять', 'судья Ньюпортский', 'судья от', 'судья быть', 'судья Похорелска', 'судья постановлять', 'судья пообещать', 'судья окончательный', 'судья окончательный', 'судья из', 'судья который', 'судья так', 'судья Кунцевский', 'судья обязать', 'судья также', 'судья признавать', 'судья неприязненно', 'судья обвиняемый', 'судья Похорелска', 'судья любезно', 'судья все', 'судья график', 'судья матч', 'судья давать', 'судья не', 'судья отказывать', 'судья палата', 'судья отказываться', 'судья допрашивать', 'судья какой-то', 'судья быть', 'судья -', 'судья в', 'судья верховный', 'судья Погорелска', 'судья заявлять', 'судья Погорелска', 'судья мочь', 'судья оставлять', 'судья не', 'судья снова', 'судья отказываться', 'судья заявлять', 'судья проводить', 'судья однако', 'судья рассматривать', 'судья не', 'судья и', 'судья Похорелска', 'судья предстоять', 'судья заниматься', 'судья Черемушкинский', 'судья Baltasar', 'судья вставать', 'судья Бориспольский', 'судья порекомендовать', 'судья Похорелска', 'судья давать', 'судья Joel', 'судья просто', 'судья Бетти', 'судья признавать', 'судья Alan']\n",
            "{'судья решать': 2, 'судья все': 2, 'судья добавлять': 2, 'судья конституционный': 2, 'судья подпереть': 1, 'судья отклонять': 2, 'судья считать': 2, 'судья направлять': 2, 'судья получать': 2, 'судья Каспер-Анзерма': 2, 'судья с': 2, 'судья признавать': 2, 'судья Дево': 2, 'судья независимо': 1, 'судья проводить': 2, 'судья от': 2, 'судья шотландский': 1, 'судья постановить': 2, 'судья вызывать': 3, 'судья традиционно': 1, 'судья юрист': 1, 'судья удовлетворять': 2, 'судья и': 2, 'судья областной': 1, 'судья Кужанкуй': 1, 'судья запрещать': 2, 'судья министр': 1, 'судья в': 2, 'судья они': 1, 'судья мочь': 4, 'судья быть': 2, 'судья возглавлять': 2, 'судья он': 2, 'судья по': 2, 'судья гласить': 1, 'судья объявлять': 2, 'судья отказываться': 2, 'судья добиваться': 1, 'судья Руссо': 1, 'судья на': 2, 'судья прокурор': 1, 'судья комментировать': 1, 'судья оглашение': 1, 'судья обеспокоить': 1, 'судья еще': 2, 'судья федеральный': 1, 'судья вынести': 1, 'судья отмечать': 2, 'судья рассмотрение': 1, 'судья американский': 1, 'судья 19': 1, 'судья чей': 1, 'судья назначать': 2, 'судья назначить': 1, 'судья проект': 1, 'судья обнародовать': 1, 'судья что': 2, 'судья более': 1, 'судья должен': 4, 'судья договориться': 1, 'судья городской': 1, 'судья проходить': 1, 'судья шариатский': 1, 'судья соглашаться': 2, 'судья за': 2, 'судья выносить': 2, 'судья международный': 2, 'судья о': 2, 'судья решение': 1, 'судья Л': 1, 'судья наносить': 1, 'судья не': 2, 'судья истец': 1, 'судья вести': 1, 'судья приходить': 2, 'судья вероятно': 1, 'судья рассматривать': 2, 'судья вынесение': 1, 'судья отбывать': 1, 'судья делить': 1, 'судья слово': 1, 'судья Печерский': 1, 'судья верховный': 2, 'судья анатолий': 1, 'судья но': 1, 'судья инициатор': 1, 'судья брайан': 1, 'судья подавлять': 1, 'судья закрывать': 1, 'судья один': 4, 'судья поступать': 1, 'судья связывать': 1, 'судья занимать': 1, 'судья тверской': 1, 'судья современность': 1, 'судья который': 4, 'судья вынужденный': 1, 'судья таможенник': 1, 'судья даже': 2, 'судья Санджованниприступит': 1, 'судья заявлять': 2, 'судья ведущий': 2, 'судья приостановить': 1, 'судья просить': 1, 'судья прекращать': 2, 'судья жалоба': 1, 'судья приходиться': 1, 'судья претензия': 1, 'судья издавать': 1, 'судья Мэрили': 1, 'судья из': 4, 'судья приговаривать': 1, 'судья Альдижер': 1, 'судья апелляционный': 2, 'судья бывший': 1, 'судья парижский': 2, 'судья отвергать': 2, 'судья постановлять': 2, 'судья игнорировать': 1, 'судья служить': 1, 'судья неверно': 1, 'судья чтобы': 1, 'судья метр': 1, 'судья компьютер': 1, 'судья вполне': 1, 'судья разрешать': 1, 'судья отказывать': 2, 'судья обнаруживать': 1, 'судья выгонять': 1, 'судья Мтбя': 1, 'судья указывать': 1, 'судья требовать': 1, 'судья -': 2, 'судья для': 2, 'судья принимать': 4, 'судья давать': 2, 'судья молчать': 1, 'судья Пфильцер': 1, 'судья предлагать': 1, 'судья новый': 1, 'судья восточный': 1, 'судья крикнуть': 1, 'судья констатировать': 1, 'судья называть': 1, 'судья центральный': 1, 'судья нарушеныположение': 1, 'судья сказать': 2, 'судья окружной': 1, 'судья готовый': 1, 'судья а': 2, 'судья весь': 1, 'судья уже': 2, 'судья -докладчикий': 1, 'судья Салониуспредоставлять': 1, 'судья орт': 1, 'судья против': 1, 'судья заслушать': 1, 'судья официальный': 1, 'судья предстоять': 2, 'судья отнюдь': 1, 'судья акция': 1, 'судья передавать': 1, 'судья слушание': 1, 'судья другой': 1, 'судья или': 1, 'судья под': 1, 'судья обязать': 2, 'судья лояльность': 1, 'судья этот': 2, 'судья Белорецкий': 1, 'судья фрунзенский': 1, 'судья друг': 1, 'судья примененыненадлежащий': 1, 'судья жить': 1, 'судья два': 1, 'судья главный': 1, 'судья удалить': 1, 'судья запрет': 1, 'судья заканчивать': 1, 'судья 9': 1, 'судья шесть': 1, 'судья разделяться': 1, 'судья опубликовывать': 1, 'судья первый': 1, 'судья председательствовать': 1, 'судья совместно': 1, 'судья каждый': 1, 'судья Ю': 1, 'судья совершать': 1, 'судья лишать': 4, 'судья продление': 1, 'судья ходатайство': 1, 'судья отдавать': 2, 'судья государственный': 1, 'судья постоянно': 1, 'судья учесть': 1, 'судья пока': 1, 'судья Корреа': 1, 'судья Галиано': 1, 'судья известный': 2, 'судья прокурорский': 1, 'судья находить': 1, 'судья подтверждать': 3, 'судья однако': 2, 'судья поддерживать': 1, 'судья до': 1, 'судья также': 2, 'судья процесс': 1, 'судья округ': 2, 'судья свой': 2, 'судья необоснованно': 1, 'судья уносить': 1, 'судья двое': 1, 'судья залог': 1, 'судья Инть': 1, 'судья речь': 1, 'судья обсуждать': 1, 'судья сохранять': 1, 'судья уходить': 1, 'судья выслушивать': 1, 'судья европейский': 1, 'судья уголовный': 1, 'судья некий': 2, 'судья как': 1, 'судья интересовать': 1, 'судья высокий': 3, 'судья уличение': 1, 'судья немедленно': 1, 'судья оставаться': 1, 'судья устанавливать': 1, 'судья суд': 1, 'судья курский': 1, 'судья ограничивать': 1, 'судья пресненский': 1, 'судья консервативный': 1, 'судья пойти': 1, 'судья справка': 1, 'судья Эрв': 1, 'судья определение': 1, 'судья нина': 1, 'судья спид': 1, 'судья флоридский': 1, 'судья штат': 3, 'судья матч': 2, 'судья МакВя': 1, 'судья руководствоваться': 1, 'судья прием': 1, 'судья ставить': 1, 'судья Гом': 1, 'судья беседовать': 1, 'судья предстать': 1, 'судья выпускать': 1, 'судья уменьшать': 2, 'судья демонстрировать': 3, 'судья объяснять': 1, 'судья отправлять': 1, 'судья информировать': 1, 'судья 6900': 1, 'судья национальный': 1, 'судья документ': 1, 'судья следовать': 1, 'судья долждать': 1, 'судья относиться': 1, 'судья отсмеяться': 1, 'судья муж': 1, 'судья напоминать': 1, 'судья пятилетний': 1, 'судья Похорелска': 2, 'судья израильский': 1, 'судья представлять': 1, 'судья Ньюпортский': 1, 'судья пообещать': 1, 'судья окончательный': 3, 'судья так': 1, 'судья Кунцевский': 1, 'судья неприязненно': 1, 'судья обвиняемый': 1, 'судья любезно': 1, 'судья график': 1, 'судья палата': 1, 'судья допрашивать': 1, 'судья какой-то': 1, 'судья Погорелска': 3, 'судья оставлять': 1, 'судья снова': 1, 'судья заниматься': 1, 'судья Черемушкинский': 1, 'судья Baltasar': 1, 'судья вставать': 1, 'судья Бориспольский': 1, 'судья порекомендовать': 1, 'судья Joel': 1, 'судья просто': 1, 'судья Бетти': 1, 'судья Alan': 1}\n"
          ],
          "name": "stdout"
        }
      ]
    },
    {
      "cell_type": "code",
      "metadata": {
        "colab": {
          "base_uri": "https://localhost:8080/"
        },
        "id": "3BVr9uujqZ_d",
        "outputId": "a74d0b8f-a73b-49b9-996d-abc412901b10"
      },
      "source": [
        "diff2=diff.copy()\n",
        "for w,l in diff.items():\n",
        "  summa=sum(diff.values())\n",
        "  diff2[w] = summa-l\n",
        "print(diff2)"
      ],
      "execution_count": 358,
      "outputs": [
        {
          "output_type": "stream",
          "text": [
            "{'судья решать': 395, 'судья все': 395, 'судья добавлять': 395, 'судья конституционный': 395, 'судья подпереть': 396, 'судья отклонять': 395, 'судья считать': 395, 'судья направлять': 395, 'судья получать': 395, 'судья Каспер-Анзерма': 395, 'судья с': 395, 'судья признавать': 395, 'судья Дево': 395, 'судья независимо': 396, 'судья проводить': 395, 'судья от': 395, 'судья шотландский': 396, 'судья постановить': 395, 'судья вызывать': 394, 'судья традиционно': 396, 'судья юрист': 396, 'судья удовлетворять': 395, 'судья и': 395, 'судья областной': 396, 'судья Кужанкуй': 396, 'судья запрещать': 395, 'судья министр': 396, 'судья в': 395, 'судья они': 396, 'судья мочь': 393, 'судья быть': 395, 'судья возглавлять': 395, 'судья он': 395, 'судья по': 395, 'судья гласить': 396, 'судья объявлять': 395, 'судья отказываться': 395, 'судья добиваться': 396, 'судья Руссо': 396, 'судья на': 395, 'судья прокурор': 396, 'судья комментировать': 396, 'судья оглашение': 396, 'судья обеспокоить': 396, 'судья еще': 395, 'судья федеральный': 396, 'судья вынести': 396, 'судья отмечать': 395, 'судья рассмотрение': 396, 'судья американский': 396, 'судья 19': 396, 'судья чей': 396, 'судья назначать': 395, 'судья назначить': 396, 'судья проект': 396, 'судья обнародовать': 396, 'судья что': 395, 'судья более': 396, 'судья должен': 393, 'судья договориться': 396, 'судья городской': 396, 'судья проходить': 396, 'судья шариатский': 396, 'судья соглашаться': 395, 'судья за': 395, 'судья выносить': 395, 'судья международный': 395, 'судья о': 395, 'судья решение': 396, 'судья Л': 396, 'судья наносить': 396, 'судья не': 395, 'судья истец': 396, 'судья вести': 396, 'судья приходить': 395, 'судья вероятно': 396, 'судья рассматривать': 395, 'судья вынесение': 396, 'судья отбывать': 396, 'судья делить': 396, 'судья слово': 396, 'судья Печерский': 396, 'судья верховный': 395, 'судья анатолий': 396, 'судья но': 396, 'судья инициатор': 396, 'судья брайан': 396, 'судья подавлять': 396, 'судья закрывать': 396, 'судья один': 393, 'судья поступать': 396, 'судья связывать': 396, 'судья занимать': 396, 'судья тверской': 396, 'судья современность': 396, 'судья который': 393, 'судья вынужденный': 396, 'судья таможенник': 396, 'судья даже': 395, 'судья Санджованниприступит': 396, 'судья заявлять': 395, 'судья ведущий': 395, 'судья приостановить': 396, 'судья просить': 396, 'судья прекращать': 395, 'судья жалоба': 396, 'судья приходиться': 396, 'судья претензия': 396, 'судья издавать': 396, 'судья Мэрили': 396, 'судья из': 393, 'судья приговаривать': 396, 'судья Альдижер': 396, 'судья апелляционный': 395, 'судья бывший': 396, 'судья парижский': 395, 'судья отвергать': 395, 'судья постановлять': 395, 'судья игнорировать': 396, 'судья служить': 396, 'судья неверно': 396, 'судья чтобы': 396, 'судья метр': 396, 'судья компьютер': 396, 'судья вполне': 396, 'судья разрешать': 396, 'судья отказывать': 395, 'судья обнаруживать': 396, 'судья выгонять': 396, 'судья Мтбя': 396, 'судья указывать': 396, 'судья требовать': 396, 'судья -': 395, 'судья для': 395, 'судья принимать': 393, 'судья давать': 395, 'судья молчать': 396, 'судья Пфильцер': 396, 'судья предлагать': 396, 'судья новый': 396, 'судья восточный': 396, 'судья крикнуть': 396, 'судья констатировать': 396, 'судья называть': 396, 'судья центральный': 396, 'судья нарушеныположение': 396, 'судья сказать': 395, 'судья окружной': 396, 'судья готовый': 396, 'судья а': 395, 'судья весь': 396, 'судья уже': 395, 'судья -докладчикий': 396, 'судья Салониуспредоставлять': 396, 'судья орт': 396, 'судья против': 396, 'судья заслушать': 396, 'судья официальный': 396, 'судья предстоять': 395, 'судья отнюдь': 396, 'судья акция': 396, 'судья передавать': 396, 'судья слушание': 396, 'судья другой': 396, 'судья или': 396, 'судья под': 396, 'судья обязать': 395, 'судья лояльность': 396, 'судья этот': 395, 'судья Белорецкий': 396, 'судья фрунзенский': 396, 'судья друг': 396, 'судья примененыненадлежащий': 396, 'судья жить': 396, 'судья два': 396, 'судья главный': 396, 'судья удалить': 396, 'судья запрет': 396, 'судья заканчивать': 396, 'судья 9': 396, 'судья шесть': 396, 'судья разделяться': 396, 'судья опубликовывать': 396, 'судья первый': 396, 'судья председательствовать': 396, 'судья совместно': 396, 'судья каждый': 396, 'судья Ю': 396, 'судья совершать': 396, 'судья лишать': 393, 'судья продление': 396, 'судья ходатайство': 396, 'судья отдавать': 395, 'судья государственный': 396, 'судья постоянно': 396, 'судья учесть': 396, 'судья пока': 396, 'судья Корреа': 396, 'судья Галиано': 396, 'судья известный': 395, 'судья прокурорский': 396, 'судья находить': 396, 'судья подтверждать': 394, 'судья однако': 395, 'судья поддерживать': 396, 'судья до': 396, 'судья также': 395, 'судья процесс': 396, 'судья округ': 395, 'судья свой': 395, 'судья необоснованно': 396, 'судья уносить': 396, 'судья двое': 396, 'судья залог': 396, 'судья Инть': 396, 'судья речь': 396, 'судья обсуждать': 396, 'судья сохранять': 396, 'судья уходить': 396, 'судья выслушивать': 396, 'судья европейский': 396, 'судья уголовный': 396, 'судья некий': 395, 'судья как': 396, 'судья интересовать': 396, 'судья высокий': 394, 'судья уличение': 396, 'судья немедленно': 396, 'судья оставаться': 396, 'судья устанавливать': 396, 'судья суд': 396, 'судья курский': 396, 'судья ограничивать': 396, 'судья пресненский': 396, 'судья консервативный': 396, 'судья пойти': 396, 'судья справка': 396, 'судья Эрв': 396, 'судья определение': 396, 'судья нина': 396, 'судья спид': 396, 'судья флоридский': 396, 'судья штат': 394, 'судья матч': 395, 'судья МакВя': 396, 'судья руководствоваться': 396, 'судья прием': 396, 'судья ставить': 396, 'судья Гом': 396, 'судья беседовать': 396, 'судья предстать': 396, 'судья выпускать': 396, 'судья уменьшать': 395, 'судья демонстрировать': 394, 'судья объяснять': 396, 'судья отправлять': 396, 'судья информировать': 396, 'судья 6900': 396, 'судья национальный': 396, 'судья документ': 396, 'судья следовать': 396, 'судья долждать': 396, 'судья относиться': 396, 'судья отсмеяться': 396, 'судья муж': 396, 'судья напоминать': 396, 'судья пятилетний': 396, 'судья Похорелска': 395, 'судья израильский': 396, 'судья представлять': 396, 'судья Ньюпортский': 396, 'судья пообещать': 396, 'судья окончательный': 394, 'судья так': 396, 'судья Кунцевский': 396, 'судья неприязненно': 396, 'судья обвиняемый': 396, 'судья любезно': 396, 'судья график': 396, 'судья палата': 396, 'судья допрашивать': 396, 'судья какой-то': 396, 'судья Погорелска': 394, 'судья оставлять': 396, 'судья снова': 396, 'судья заниматься': 396, 'судья Черемушкинский': 396, 'судья Baltasar': 396, 'судья вставать': 396, 'судья Бориспольский': 396, 'судья порекомендовать': 396, 'судья Joel': 396, 'судья просто': 396, 'судья Бетти': 396, 'судья Alan': 396}\n"
          ],
          "name": "stdout"
        }
      ]
    },
    {
      "cell_type": "code",
      "metadata": {
        "colab": {
          "base_uri": "https://localhost:8080/"
        },
        "id": "JPH3_c0sqZ_e",
        "outputId": "bf1bc7f7-a44b-48db-f896-469d17b2b59f"
      },
      "source": [
        "b={}\n",
        "diff3={}\n",
        "print(spisok)\n",
        "for i in spisok:\n",
        "  big = i.split(' ')[1]\n",
        "  freq_b = 1\n",
        "  for sentence in parsed_unlc:\n",
        "    for ip in sentence:\n",
        "      #print(i)\n",
        "      #print(\"___\"+big)\n",
        "      if ip == big:\n",
        "        #print(sentence)\n",
        "        freq_b += 1\n",
        "  b[big] = freq_b\n",
        "print(b)\n",
        "for w,l in diff.items():\n",
        "  big = w.split(' ')[1]\n",
        "  for wor, lis in list(b.items()):\n",
        "    if wor==big:\n",
        "      diff3[\"судья \"+wor] = lis - l\n",
        "      #print(lis)\n",
        "      #print(l)\n",
        "print(diff3)"
      ],
      "execution_count": 359,
      "outputs": [
        {
          "output_type": "stream",
          "text": [
            "['судья решать', 'судья все', 'судья добавлять', 'судья конституционный', 'судья подпереть', 'судья отклонять', 'судья считать', 'судья направлять', 'судья получать', 'судья Каспер-Анзерма', 'судья с', 'судья признавать', 'судья Дево', 'судья независимо', 'судья проводить', 'судья от', 'судья шотландский', 'судья постановить', 'судья вызывать', 'судья вызывать', 'судья традиционно', 'судья юрист', 'судья удовлетворять', 'судья и', 'судья областной', 'судья Кужанкуй', 'судья удовлетворять', 'судья запрещать', 'судья и', 'судья министр', 'судья в', 'судья они', 'судья мочь', 'судья быть', 'судья возглавлять', 'судья он', 'судья по', 'судья гласить', 'судья объявлять', 'судья отказываться', 'судья добиваться', 'судья Руссо', 'судья на', 'судья по', 'судья прокурор', 'судья комментировать', 'судья по', 'судья оглашение', 'судья от', 'судья и', 'судья все', 'судья все', 'судья обеспокоить', 'судья еще', 'судья федеральный', 'судья вынести', 'судья отклонять', 'судья отмечать', 'судья рассмотрение', 'судья американский', 'судья 19', 'судья чей', 'судья на', 'судья назначать', 'судья назначать', 'судья назначить', 'судья быть', 'судья проект', 'судья обнародовать', 'судья что', 'судья более', 'судья должен', 'судья договориться', 'судья городской', 'судья и', 'судья проходить', 'судья должен', 'судья шариатский', 'судья и', 'судья соглашаться', 'судья объявлять', 'судья за', 'судья выносить', 'судья международный', 'судья о', 'судья решение', 'судья Л', 'судья наносить', 'судья не', 'судья истец', 'судья по', 'судья в', 'судья вести', 'судья возглавлять', 'судья объявлять', 'судья приходить', 'судья вероятно', 'судья рассматривать', 'судья вынесение', 'судья отбывать', 'судья делить', 'судья возглавлять', 'судья слово', 'судья Печерский', 'судья в', 'судья верховный', 'судья анатолий', 'судья но', 'судья инициатор', 'судья быть', 'судья Дево', 'судья брайан', 'судья в', 'судья подавлять', 'судья закрывать', 'судья конституционный', 'судья один', 'судья поступать', 'судья рассматривать', 'судья связывать', 'судья удовлетворять', 'судья не', 'судья признавать', 'судья занимать', 'судья тверской', 'судья современность', 'судья который', 'судья который', 'судья с', 'судья вынужденный', 'судья таможенник', 'судья назначать', 'судья конституционный', 'судья о', 'судья даже', 'судья Санджованниприступит', 'судья рассматривать', 'судья и', 'судья быть', 'судья и', 'судья заявлять', 'судья выносить', 'судья ведущий', 'судья приостановить', 'судья не', 'судья просить', 'судья прекращать', 'судья который', 'судья от', 'судья жалоба', 'судья по', 'судья приходиться', 'судья претензия', 'судья издавать', 'судья Мэрили', 'судья из', 'судья приговаривать', 'судья Альдижер', 'судья апелляционный', 'судья бывший', 'судья парижский', 'судья выносить', 'судья отвергать', 'судья постановлять', 'судья игнорировать', 'судья служить', 'судья неверно', 'судья чтобы', 'судья от', 'судья один', 'судья метр', 'судья компьютер', 'судья вполне', 'судья который', 'судья постановлять', 'судья запрещать', 'судья верховный', 'судья верховный', 'судья Дево', 'судья разрешать', 'судья отказывать', 'судья обнаруживать', 'судья выгонять', 'судья он', 'судья Мтбя', 'судья указывать', 'судья требовать', 'судья и', 'судья считать', 'судья направлять', 'судья -', 'судья для', 'судья который', 'судья принимать', 'судья давать', 'судья конституционный', 'судья молчать', 'судья отклонять', 'судья Пфильцер', 'судья предлагать', 'судья новый', 'судья и', 'судья восточный', 'судья соглашаться', 'судья назначать', 'судья быть', 'судья крикнуть', 'судья констатировать', 'судья называть', 'судья который', 'судья быть', 'судья парижский', 'судья центральный', 'судья нарушеныположение', 'судья сказать', 'судья принимать', 'судья в', 'судья в', 'судья в', 'судья окружной', 'судья что', 'судья принимать', 'судья в', 'судья готовый', 'судья не', 'судья а', 'судья весь', 'судья выносить', 'судья уже', 'судья мочь', 'судья направлять', 'судья -докладчикий', 'судья Салониуспредоставлять', 'судья орт', 'судья против', 'судья признавать', 'судья заслушать', 'судья -', 'судья отвергать', 'судья официальный', 'судья который', 'судья не', 'судья предстоять', 'судья мочь', 'судья в', 'судья соглашаться', 'судья отнюдь', 'судья апелляционный', 'судья быть', 'судья акция', 'судья который', 'судья передавать', 'судья и', 'судья постановлять', 'судья который', 'судья который', 'судья слушание', 'судья заявлять', 'судья другой', 'судья мочь', 'судья или', 'судья и', 'судья под', 'судья обязать', 'судья лояльность', 'судья этот', 'судья по', 'судья выносить', 'судья один', 'судья выносить', 'судья приходить', 'судья Белорецкий', 'судья Дево', 'судья получать', 'судья фрунзенский', 'судья о', 'судья о', 'судья друг', 'судья примененыненадлежащий', 'судья приходить', 'судья быть', 'судья решать', 'судья Каспер-Анзерма', 'судья -', 'судья в', 'судья в', 'судья жить', 'судья два', 'судья главный', 'судья добавлять', 'судья не', 'судья верховный', 'судья признавать', 'судья удалить', 'судья запрет', 'судья этот', 'судья и', 'судья заканчивать', 'судья 9', 'судья шесть', 'судья не', 'судья не', 'судья разделяться', 'судья Дево', 'судья опубликовывать', 'судья первый', 'судья -', 'судья председательствовать', 'судья совместно', 'судья верховный', 'судья давать', 'судья каждый', 'судья по', 'судья этот', 'судья сказать', 'судья который', 'судья Ю', 'судья быть', 'судья совершать', 'судья лишать', 'судья заявлять', 'судья продление', 'судья -', 'судья принимать', 'судья отмечать', 'судья ходатайство', 'судья постановить', 'судья отдавать', 'судья решать', 'судья государственный', 'судья постоянно', 'судья учесть', 'судья рассматривать', 'судья заявлять', 'судья в', 'судья пока', 'судья решать', 'судья Корреа', 'судья Галиано', 'судья известный', 'судья прокурорский', 'судья находить', 'судья подтверждать', 'судья подтверждать', 'судья который', 'судья однако', 'судья и', 'судья и', 'судья в', 'судья в', 'судья из', 'судья по', 'судья поддерживать', 'судья до', 'судья также', 'судья в', 'судья выносить', 'судья процесс', 'судья округ', 'судья свой', 'судья -', 'судья округ', 'судья отказываться', 'судья сказать', 'судья быть', 'судья не', 'судья по', 'судья по', 'судья необоснованно', 'судья ведущий', 'судья отвергать', 'судья верховный', 'судья верховный', 'судья ведущий', 'судья решать', 'судья отклонять', 'судья уносить', 'судья быть', 'судья двое', 'судья который', 'судья который', 'судья залог', 'судья за', 'судья о', 'судья Инть', 'судья верховный', 'судья речь', 'судья признавать', 'судья обсуждать', 'судья сохранять', 'судья уходить', 'судья быть', 'судья на', 'судья признавать', 'судья выслушивать', 'судья европейский', 'судья давать', 'судья с', 'судья быть', 'судья должен', 'судья уголовный', 'судья некий', 'судья некий', 'судья лишать', 'судья как', 'судья заявлять', 'судья интересовать', 'судья высокий', 'судья высокий', 'судья обязать', 'судья верховный', 'судья один', 'судья уличение', 'судья немедленно', 'судья -', 'судья оставаться', 'судья для', 'судья устанавливать', 'судья не', 'судья не', 'судья и', 'судья суд', 'судья он', 'судья заявлять', 'судья курский', 'судья который', 'судья ограничивать', 'судья пресненский', 'судья консервативный', 'судья пойти', 'судья -', 'судья считать', 'судья верховный', 'судья который', 'судья а', 'судья справка', 'судья Эрв', 'судья прекращать', 'судья -', 'судья даже', 'судья верховный', 'судья удовлетворять', 'судья определение', 'судья заявлять', 'судья нина', 'судья спид', 'судья и', 'судья и', 'судья флоридский', 'судья в', 'судья округ', 'судья штат', 'судья который', 'судья штат', 'судья предстоять', 'судья матч', 'судья выносить', 'судья еще', 'судья отказываться', 'судья международный', 'судья из', 'судья верховный', 'судья прекращать', 'судья МакВя', 'судья и', 'судья выносить', 'судья о', 'судья руководствоваться', 'судья прием', 'судья в', 'судья ставить', 'судья по', 'судья Гом', 'судья предстоять', 'судья беседовать', 'судья по', 'судья который', 'судья предстать', 'судья выпускать', 'судья объявлять', 'судья некий', 'судья некий', 'судья постановлять', 'судья а', 'судья уменьшать', 'судья демонстрировать', 'судья демонстрировать', 'судья признавать', 'судья не', 'судья принимать', 'судья отказываться', 'судья и', 'судья в', 'судья объяснять', 'судья в', 'судья отправлять', 'судья и', 'судья информировать', 'судья заявлять', 'судья отдавать', 'судья быть', 'судья отмечать', 'судья 6900', 'судья национальный', 'судья документ', 'судья верховный', 'судья следовать', 'судья уменьшать', 'судья долждать', 'судья отказывать', 'судья относиться', 'судья и', 'судья уже', 'судья отсмеяться', 'судья прекращать', 'судья муж', 'судья свой', 'судья известный', 'судья сказать', 'судья напоминать', 'судья пятилетний', 'судья конституционный', 'судья о', 'судья Похорелска', 'судья который', 'судья Похорелска', 'судья Похорелска', 'судья должен', 'судья Похорелска', 'судья израильский', 'судья представлять', 'судья Ньюпортский', 'судья от', 'судья быть', 'судья Похорелска', 'судья постановлять', 'судья пообещать', 'судья окончательный', 'судья окончательный', 'судья из', 'судья который', 'судья так', 'судья Кунцевский', 'судья обязать', 'судья также', 'судья признавать', 'судья неприязненно', 'судья обвиняемый', 'судья Похорелска', 'судья любезно', 'судья все', 'судья график', 'судья матч', 'судья давать', 'судья не', 'судья отказывать', 'судья палата', 'судья отказываться', 'судья допрашивать', 'судья какой-то', 'судья быть', 'судья -', 'судья в', 'судья верховный', 'судья Погорелска', 'судья заявлять', 'судья Погорелска', 'судья мочь', 'судья оставлять', 'судья не', 'судья снова', 'судья отказываться', 'судья заявлять', 'судья проводить', 'судья однако', 'судья рассматривать', 'судья не', 'судья и', 'судья Похорелска', 'судья предстоять', 'судья заниматься', 'судья Черемушкинский', 'судья Baltasar', 'судья вставать', 'судья Бориспольский', 'судья порекомендовать', 'судья Похорелска', 'судья давать', 'судья Joel', 'судья просто', 'судья Бетти', 'судья признавать', 'судья Alan']\n",
            "{'решать': 1684, 'все': 3262, 'добавлять': 728, 'конституционный': 297, 'подпереть': 2, 'отклонять': 231, 'считать': 3392, 'направлять': 1586, 'получать': 5193, 'Каспер-Анзерма': 3, 'с': 38923, 'признавать': 1537, 'Дево': 16, 'независимо': 89, 'проводить': 4058, 'от': 9847, 'шотландский': 49, 'постановить': 19, 'вызывать': 1456, 'традиционно': 56, 'юрист': 196, 'удовлетворять': 289, 'и': 72363, 'областной': 413, 'Кужанкуй': 2, 'запрещать': 757, 'министр': 3149, 'в': 168460, 'они': 13065, 'мочь': 7466, 'быть': 36752, 'возглавлять': 735, 'он': 26847, 'по': 41181, 'гласить': 48, 'объявлять': 1638, 'отказываться': 1261, 'добиваться': 507, 'Руссо': 7, 'на': 61907, 'прокурор': 841, 'комментировать': 561, 'оглашение': 50, 'обеспокоить': 85, 'еще': 4166, 'федеральный': 3953, 'вынести': 113, 'отмечать': 4928, 'рассмотрение': 582, 'американский': 3277, '19': 909, 'чей': 222, 'назначать': 753, 'назначить': 79, 'проект': 2163, 'обнародовать': 168, 'что': 36638, 'более': 4040, 'должен': 4032, 'договориться': 13, 'городской': 1141, 'проходить': 2928, 'шариатский': 40, 'соглашаться': 439, 'за': 13111, 'выносить': 409, 'международный': 2527, 'о': 21564, 'решение': 4472, 'Л': 23, 'наносить': 655, 'не': 27246, 'истец': 202, 'вести': 1761, 'приходить': 943, 'вероятно': 237, 'рассматривать': 1066, 'вынесение': 83, 'отбывать': 102, 'делить': 62, 'слово': 7262, 'Печерский': 4, 'верховный': 800, 'анатолий': 107, 'но': 4377, 'инициатор': 116, 'брайан': 4, 'подавлять': 39, 'закрывать': 597, 'один': 8747, 'поступать': 1193, 'связывать': 1444, 'занимать': 1310, 'тверской': 132, 'современность': 14, 'который': 18716, 'вынужденный': 276, 'таможенник': 86, 'даже': 1247, 'Санджованниприступит': 2, 'заявлять': 8530, 'ведущий': 452, 'приостановить': 66, 'просить': 573, 'прекращать': 634, 'жалоба': 456, 'приходиться': 1014, 'претензия': 247, 'издавать': 104, 'Мэрили': 2, 'из': 17696, 'приговаривать': 218, 'Альдижер': 2, 'апелляционный': 126, 'бывший': 2410, 'парижский': 244, 'отвергать': 202, 'постановлять': 139, 'игнорировать': 63, 'служить': 411, 'неверно': 11, 'чтобы': 2399, 'метр': 1034, 'компьютер': 988, 'вполне': 326, 'разрешать': 346, 'отказывать': 209, 'обнаруживать': 2426, 'выгонять': 20, 'Мтбя': 3, 'указывать': 742, 'требовать': 1242, '-': 35998, 'для': 10578, 'принимать': 4937, 'давать': 1790, 'молчать': 15, 'Пфильцер': 3, 'предлагать': 1634, 'новый': 5638, 'восточный': 446, 'крикнуть': 3, 'констатировать': 82, 'называть': 2228, 'центральный': 1010, 'нарушеныположение': 2, 'сказать': 2817, 'окружной': 244, 'готовый': 914, 'а': 9185, 'весь': 7752, 'уже': 5701, '-докладчикий': 2, 'Салониуспредоставлять': 2, 'орт': 34, 'против': 2600, 'заслушать': 20, 'официальный': 1745, 'предстоять': 652, 'отнюдь': 34, 'акция': 2580, 'передавать': 4939, 'слушание': 395, 'другой': 4411, 'или': 2514, 'под': 3563, 'обязать': 100, 'лояльность': 11, 'этот': 16510, 'Белорецкий': 5, 'фрунзенский': 30, 'друг': 694, 'примененыненадлежащий': 2, 'жить': 566, 'два': 6141, 'главный': 2388, 'удалить': 31, 'запрет': 354, 'заканчивать': 189, '9': 738, 'шесть': 984, 'разделяться': 21, 'опубликовывать': 758, 'первый': 5856, 'председательствовать': 35, 'совместно': 308, 'каждый': 1214, 'Ю': 18, 'совершать': 1330, 'лишать': 288, 'продление': 135, 'ходатайство': 210, 'отдавать': 369, 'государственный': 2672, 'постоянно': 247, 'учесть': 15, 'пока': 2792, 'Корреа': 2, 'Галиано': 3, 'известный': 2897, 'прокурорский': 25, 'находить': 1552, 'подтверждать': 1216, 'однако': 5335, 'поддерживать': 1004, 'до': 7475, 'также': 8904, 'процесс': 1019, 'округ': 1170, 'свой': 10651, 'необоснованно': 21, 'уносить': 52, 'двое': 1091, 'залог': 159, 'Инть': 2, 'речь': 740, 'обсуждать': 924, 'сохранять': 321, 'уходить': 635, 'выслушивать': 37, 'европейский': 1046, 'уголовный': 1974, 'некий': 275, 'как': 16077, 'интересовать': 87, 'высокий': 840, 'уличение': 3, 'немедленно': 253, 'оставаться': 2058, 'устанавливать': 1965, 'суд': 4814, 'курский': 104, 'ограничивать': 236, 'пресненский': 21, 'консервативный': 60, 'пойти': 498, 'справка': 60, 'Эрв': 2, 'определение': 157, 'нина': 2, 'спид': 82, 'флоридский': 13, 'штат': 1119, 'матч': 1801, 'МакВя': 5, 'руководствоваться': 51, 'прием': 226, 'ставить': 897, 'Гом': 2, 'беседовать': 53, 'предстать': 71, 'выпускать': 546, 'уменьшать': 67, 'демонстрировать': 225, 'объяснять': 542, 'отправлять': 455, 'информировать': 249, '6900': 2, 'национальный': 1315, 'документ': 2399, 'следовать': 797, 'долждать': 2, 'относиться': 397, 'отсмеяться': 2, 'муж': 278, 'напоминать': 2827, 'пятилетний': 42, 'Похорелска': 9, 'израильский': 1180, 'представлять': 1776, 'Ньюпортский': 2, 'пообещать': 307, 'окончательный': 476, 'так': 3468, 'Кунцевский': 11, 'неприязненно': 2, 'обвиняемый': 268, 'любезно': 3, 'график': 153, 'палата': 954, 'допрашивать': 91, 'какой-то': 249, 'Погорелска': 3, 'оставлять': 558, 'снова': 286, 'заниматься': 1173, 'Черемушкинский': 6, 'Baltasar': 2, 'вставать': 88, 'Бориспольский': 3, 'порекомендовать': 9, 'Joel': 2, 'просто': 598, 'Бетти': 9, 'Alan': 3}\n",
            "{'судья решать': 1682, 'судья все': 3260, 'судья добавлять': 726, 'судья конституционный': 295, 'судья подпереть': 1, 'судья отклонять': 229, 'судья считать': 3390, 'судья направлять': 1584, 'судья получать': 5191, 'судья Каспер-Анзерма': 1, 'судья с': 38921, 'судья признавать': 1535, 'судья Дево': 14, 'судья независимо': 88, 'судья проводить': 4056, 'судья от': 9845, 'судья шотландский': 48, 'судья постановить': 17, 'судья вызывать': 1453, 'судья традиционно': 55, 'судья юрист': 195, 'судья удовлетворять': 287, 'судья и': 72361, 'судья областной': 412, 'судья Кужанкуй': 1, 'судья запрещать': 755, 'судья министр': 3148, 'судья в': 168458, 'судья они': 13064, 'судья мочь': 7462, 'судья быть': 36750, 'судья возглавлять': 733, 'судья он': 26845, 'судья по': 41179, 'судья гласить': 47, 'судья объявлять': 1636, 'судья отказываться': 1259, 'судья добиваться': 506, 'судья Руссо': 6, 'судья на': 61905, 'судья прокурор': 840, 'судья комментировать': 560, 'судья оглашение': 49, 'судья обеспокоить': 84, 'судья еще': 4164, 'судья федеральный': 3952, 'судья вынести': 112, 'судья отмечать': 4926, 'судья рассмотрение': 581, 'судья американский': 3276, 'судья 19': 908, 'судья чей': 221, 'судья назначать': 751, 'судья назначить': 78, 'судья проект': 2162, 'судья обнародовать': 167, 'судья что': 36636, 'судья более': 4039, 'судья должен': 4028, 'судья договориться': 12, 'судья городской': 1140, 'судья проходить': 2927, 'судья шариатский': 39, 'судья соглашаться': 437, 'судья за': 13109, 'судья выносить': 407, 'судья международный': 2525, 'судья о': 21562, 'судья решение': 4471, 'судья Л': 22, 'судья наносить': 654, 'судья не': 27244, 'судья истец': 201, 'судья вести': 1760, 'судья приходить': 941, 'судья вероятно': 236, 'судья рассматривать': 1064, 'судья вынесение': 82, 'судья отбывать': 101, 'судья делить': 61, 'судья слово': 7261, 'судья Печерский': 3, 'судья верховный': 798, 'судья анатолий': 106, 'судья но': 4376, 'судья инициатор': 115, 'судья брайан': 3, 'судья подавлять': 38, 'судья закрывать': 596, 'судья один': 8743, 'судья поступать': 1192, 'судья связывать': 1443, 'судья занимать': 1309, 'судья тверской': 131, 'судья современность': 13, 'судья который': 18712, 'судья вынужденный': 275, 'судья таможенник': 85, 'судья даже': 1245, 'судья Санджованниприступит': 1, 'судья заявлять': 8528, 'судья ведущий': 450, 'судья приостановить': 65, 'судья просить': 572, 'судья прекращать': 632, 'судья жалоба': 455, 'судья приходиться': 1013, 'судья претензия': 246, 'судья издавать': 103, 'судья Мэрили': 1, 'судья из': 17692, 'судья приговаривать': 217, 'судья Альдижер': 1, 'судья апелляционный': 124, 'судья бывший': 2409, 'судья парижский': 242, 'судья отвергать': 200, 'судья постановлять': 137, 'судья игнорировать': 62, 'судья служить': 410, 'судья неверно': 10, 'судья чтобы': 2398, 'судья метр': 1033, 'судья компьютер': 987, 'судья вполне': 325, 'судья разрешать': 345, 'судья отказывать': 207, 'судья обнаруживать': 2425, 'судья выгонять': 19, 'судья Мтбя': 2, 'судья указывать': 741, 'судья требовать': 1241, 'судья -': 35996, 'судья для': 10576, 'судья принимать': 4933, 'судья давать': 1788, 'судья молчать': 14, 'судья Пфильцер': 2, 'судья предлагать': 1633, 'судья новый': 5637, 'судья восточный': 445, 'судья крикнуть': 2, 'судья констатировать': 81, 'судья называть': 2227, 'судья центральный': 1009, 'судья нарушеныположение': 1, 'судья сказать': 2815, 'судья окружной': 243, 'судья готовый': 913, 'судья а': 9183, 'судья весь': 7751, 'судья уже': 5699, 'судья -докладчикий': 1, 'судья Салониуспредоставлять': 1, 'судья орт': 33, 'судья против': 2599, 'судья заслушать': 19, 'судья официальный': 1744, 'судья предстоять': 650, 'судья отнюдь': 33, 'судья акция': 2579, 'судья передавать': 4938, 'судья слушание': 394, 'судья другой': 4410, 'судья или': 2513, 'судья под': 3562, 'судья обязать': 98, 'судья лояльность': 10, 'судья этот': 16508, 'судья Белорецкий': 4, 'судья фрунзенский': 29, 'судья друг': 693, 'судья примененыненадлежащий': 1, 'судья жить': 565, 'судья два': 6140, 'судья главный': 2387, 'судья удалить': 30, 'судья запрет': 353, 'судья заканчивать': 188, 'судья 9': 737, 'судья шесть': 983, 'судья разделяться': 20, 'судья опубликовывать': 757, 'судья первый': 5855, 'судья председательствовать': 34, 'судья совместно': 307, 'судья каждый': 1213, 'судья Ю': 17, 'судья совершать': 1329, 'судья лишать': 284, 'судья продление': 134, 'судья ходатайство': 209, 'судья отдавать': 367, 'судья государственный': 2671, 'судья постоянно': 246, 'судья учесть': 14, 'судья пока': 2791, 'судья Корреа': 1, 'судья Галиано': 2, 'судья известный': 2895, 'судья прокурорский': 24, 'судья находить': 1551, 'судья подтверждать': 1213, 'судья однако': 5333, 'судья поддерживать': 1003, 'судья до': 7474, 'судья также': 8902, 'судья процесс': 1018, 'судья округ': 1168, 'судья свой': 10649, 'судья необоснованно': 20, 'судья уносить': 51, 'судья двое': 1090, 'судья залог': 158, 'судья Инть': 1, 'судья речь': 739, 'судья обсуждать': 923, 'судья сохранять': 320, 'судья уходить': 634, 'судья выслушивать': 36, 'судья европейский': 1045, 'судья уголовный': 1973, 'судья некий': 273, 'судья как': 16076, 'судья интересовать': 86, 'судья высокий': 837, 'судья уличение': 2, 'судья немедленно': 252, 'судья оставаться': 2057, 'судья устанавливать': 1964, 'судья суд': 4813, 'судья курский': 103, 'судья ограничивать': 235, 'судья пресненский': 20, 'судья консервативный': 59, 'судья пойти': 497, 'судья справка': 59, 'судья Эрв': 1, 'судья определение': 156, 'судья нина': 1, 'судья спид': 81, 'судья флоридский': 12, 'судья штат': 1116, 'судья матч': 1799, 'судья МакВя': 4, 'судья руководствоваться': 50, 'судья прием': 225, 'судья ставить': 896, 'судья Гом': 1, 'судья беседовать': 52, 'судья предстать': 70, 'судья выпускать': 545, 'судья уменьшать': 65, 'судья демонстрировать': 222, 'судья объяснять': 541, 'судья отправлять': 454, 'судья информировать': 248, 'судья 6900': 1, 'судья национальный': 1314, 'судья документ': 2398, 'судья следовать': 796, 'судья долждать': 1, 'судья относиться': 396, 'судья отсмеяться': 1, 'судья муж': 277, 'судья напоминать': 2826, 'судья пятилетний': 41, 'судья Похорелска': 7, 'судья израильский': 1179, 'судья представлять': 1775, 'судья Ньюпортский': 1, 'судья пообещать': 306, 'судья окончательный': 473, 'судья так': 3467, 'судья Кунцевский': 10, 'судья неприязненно': 1, 'судья обвиняемый': 267, 'судья любезно': 2, 'судья график': 152, 'судья палата': 953, 'судья допрашивать': 90, 'судья какой-то': 248, 'судья Погорелска': 0, 'судья оставлять': 557, 'судья снова': 285, 'судья заниматься': 1172, 'судья Черемушкинский': 5, 'судья Baltasar': 1, 'судья вставать': 87, 'судья Бориспольский': 2, 'судья порекомендовать': 8, 'судья Joel': 1, 'судья просто': 597, 'судья Бетти': 8, 'судья Alan': 2}\n"
          ],
          "name": "stdout"
        }
      ]
    },
    {
      "cell_type": "code",
      "metadata": {
        "colab": {
          "base_uri": "https://localhost:8080/"
        },
        "id": "ra8GOy7UqZ_f",
        "outputId": "f901258b-c624-4d54-c7bb-dd877a0ce87c"
      },
      "source": [
        "count=0\n",
        "for sentence in unlc:\n",
        "  count += len(sentence)\n",
        "print(count)"
      ],
      "execution_count": 360,
      "outputs": [
        {
          "output_type": "stream",
          "text": [
            "3040543\n"
          ],
          "name": "stdout"
        }
      ]
    },
    {
      "cell_type": "code",
      "metadata": {
        "colab": {
          "base_uri": "https://localhost:8080/"
        },
        "id": "eOji3c_mqZ_h",
        "outputId": "4911117d-e2bb-4069-9588-0a900da5dac7"
      },
      "source": [
        "diff4=diff.copy()\n",
        "for w,l in diff4.items():\n",
        "  for wo,li in diff2.items():\n",
        "    for wor,lis in diff3.items():\n",
        "      if w==wor==wo:\n",
        "        diff4[w]=count-l-li-lis\n",
        "print(diff4)"
      ],
      "execution_count": 361,
      "outputs": [
        {
          "output_type": "stream",
          "text": [
            "{'судья решать': 3038464, 'судья все': 3036886, 'судья добавлять': 3039420, 'судья конституционный': 3039851, 'судья подпереть': 3040145, 'судья отклонять': 3039917, 'судья считать': 3036756, 'судья направлять': 3038562, 'судья получать': 3034955, 'судья Каспер-Анзерма': 3040145, 'судья с': 3001225, 'судья признавать': 3038611, 'судья Дево': 3040132, 'судья независимо': 3040058, 'судья проводить': 3036090, 'судья от': 3030301, 'судья шотландский': 3040098, 'судья постановить': 3040129, 'судья вызывать': 3038693, 'судья традиционно': 3040091, 'судья юрист': 3039951, 'судья удовлетворять': 3039859, 'судья и': 2967785, 'судья областной': 3039734, 'судья Кужанкуй': 3040145, 'судья запрещать': 3039391, 'судья министр': 3036998, 'судья в': 2871688, 'судья они': 3027082, 'судья мочь': 3032684, 'судья быть': 3003396, 'судья возглавлять': 3039413, 'судья он': 3013301, 'судья по': 2998967, 'судья гласить': 3040099, 'судья объявлять': 3038510, 'судья отказываться': 3038887, 'судья добиваться': 3039640, 'судья Руссо': 3040140, 'судья на': 2978241, 'судья прокурор': 3039306, 'судья комментировать': 3039586, 'судья оглашение': 3040097, 'судья обеспокоить': 3040062, 'судья еще': 3035982, 'судья федеральный': 3036194, 'судья вынести': 3040034, 'судья отмечать': 3035220, 'судья рассмотрение': 3039565, 'судья американский': 3036870, 'судья 19': 3039238, 'судья чей': 3039925, 'судья назначать': 3039395, 'судья назначить': 3040068, 'судья проект': 3037984, 'судья обнародовать': 3039979, 'судья что': 3003510, 'судья более': 3036107, 'судья должен': 3036118, 'судья договориться': 3040134, 'судья городской': 3039006, 'судья проходить': 3037219, 'судья шариатский': 3040107, 'судья соглашаться': 3039709, 'судья за': 3027037, 'судья выносить': 3039739, 'судья международный': 3037621, 'судья о': 3018584, 'судья решение': 3035675, 'судья Л': 3040124, 'судья наносить': 3039492, 'судья не': 3012902, 'судья истец': 3039945, 'судья вести': 3038386, 'судья приходить': 3039205, 'судья вероятно': 3039910, 'судья рассматривать': 3039082, 'судья вынесение': 3040064, 'судья отбывать': 3040045, 'судья делить': 3040085, 'судья слово': 3032885, 'судья Печерский': 3040143, 'судья верховный': 3039348, 'судья анатолий': 3040040, 'судья но': 3035770, 'судья инициатор': 3040031, 'судья брайан': 3040143, 'судья подавлять': 3040108, 'судья закрывать': 3039550, 'судья один': 3031403, 'судья поступать': 3038954, 'судья связывать': 3038703, 'судья занимать': 3038837, 'судья тверской': 3040015, 'судья современность': 3040133, 'судья который': 3021434, 'судья вынужденный': 3039871, 'судья таможенник': 3040061, 'судья даже': 3038901, 'судья Санджованниприступит': 3040145, 'судья заявлять': 3031618, 'судья ведущий': 3039696, 'судья приостановить': 3040081, 'судья просить': 3039574, 'судья прекращать': 3039514, 'судья жалоба': 3039691, 'судья приходиться': 3039133, 'судья претензия': 3039900, 'судья издавать': 3040043, 'судья Мэрили': 3040145, 'судья из': 3022454, 'судья приговаривать': 3039929, 'судья Альдижер': 3040145, 'судья апелляционный': 3040022, 'судья бывший': 3037737, 'судья парижский': 3039904, 'судья отвергать': 3039946, 'судья постановлять': 3040009, 'судья игнорировать': 3040084, 'судья служить': 3039736, 'судья неверно': 3040136, 'судья чтобы': 3037748, 'судья метр': 3039113, 'судья компьютер': 3039159, 'судья вполне': 3039821, 'судья разрешать': 3039801, 'судья отказывать': 3039939, 'судья обнаруживать': 3037721, 'судья выгонять': 3040127, 'судья Мтбя': 3040144, 'судья указывать': 3039405, 'судья требовать': 3038905, 'судья -': 3004150, 'судья для': 3029570, 'судья принимать': 3035213, 'судья давать': 3038358, 'судья молчать': 3040132, 'судья Пфильцер': 3040144, 'судья предлагать': 3038513, 'судья новый': 3034509, 'судья восточный': 3039701, 'судья крикнуть': 3040144, 'судья констатировать': 3040065, 'судья называть': 3037919, 'судья центральный': 3039137, 'судья нарушеныположение': 3040145, 'судья сказать': 3037331, 'судья окружной': 3039903, 'судья готовый': 3039233, 'судья а': 3030963, 'судья весь': 3032395, 'судья уже': 3034447, 'судья -докладчикий': 3040145, 'судья Салониуспредоставлять': 3040145, 'судья орт': 3040113, 'судья против': 3037547, 'судья заслушать': 3040127, 'судья официальный': 3038402, 'судья предстоять': 3039496, 'судья отнюдь': 3040113, 'судья акция': 3037567, 'судья передавать': 3035208, 'судья слушание': 3039752, 'судья другой': 3035736, 'судья или': 3037633, 'судья под': 3036584, 'судья обязать': 3040048, 'судья лояльность': 3040136, 'судья этот': 3023638, 'судья Белорецкий': 3040142, 'судья фрунзенский': 3040117, 'судья друг': 3039453, 'судья примененыненадлежащий': 3040145, 'судья жить': 3039581, 'судья два': 3034006, 'судья главный': 3037759, 'судья удалить': 3040116, 'судья запрет': 3039793, 'судья заканчивать': 3039958, 'судья 9': 3039409, 'судья шесть': 3039163, 'судья разделяться': 3040126, 'судья опубликовывать': 3039389, 'судья первый': 3034291, 'судья председательствовать': 3040112, 'судья совместно': 3039839, 'судья каждый': 3038933, 'судья Ю': 3040129, 'судья совершать': 3038817, 'судья лишать': 3039862, 'судья продление': 3040012, 'судья ходатайство': 3039937, 'судья отдавать': 3039779, 'судья государственный': 3037475, 'судья постоянно': 3039900, 'судья учесть': 3040132, 'судья пока': 3037355, 'судья Корреа': 3040145, 'судья Галиано': 3040144, 'судья известный': 3037251, 'судья прокурорский': 3040122, 'судья находить': 3038595, 'судья подтверждать': 3038933, 'судья однако': 3034813, 'судья поддерживать': 3039143, 'судья до': 3032672, 'судья также': 3031244, 'судья процесс': 3039128, 'судья округ': 3038978, 'судья свой': 3029497, 'судья необоснованно': 3040126, 'судья уносить': 3040095, 'судья двое': 3039056, 'судья залог': 3039988, 'судья Инть': 3040145, 'судья речь': 3039407, 'судья обсуждать': 3039223, 'судья сохранять': 3039826, 'судья уходить': 3039512, 'судья выслушивать': 3040110, 'судья европейский': 3039101, 'судья уголовный': 3038173, 'судья некий': 3039873, 'судья как': 3024070, 'судья интересовать': 3040060, 'судья высокий': 3039309, 'судья уличение': 3040144, 'судья немедленно': 3039894, 'судья оставаться': 3038089, 'судья устанавливать': 3038182, 'судья суд': 3035333, 'судья курский': 3040043, 'судья ограничивать': 3039911, 'судья пресненский': 3040126, 'судья консервативный': 3040087, 'судья пойти': 3039649, 'судья справка': 3040087, 'судья Эрв': 3040145, 'судья определение': 3039990, 'судья нина': 3040145, 'судья спид': 3040065, 'судья флоридский': 3040134, 'судья штат': 3039030, 'судья матч': 3038347, 'судья МакВя': 3040142, 'судья руководствоваться': 3040096, 'судья прием': 3039921, 'судья ставить': 3039250, 'судья Гом': 3040145, 'судья беседовать': 3040094, 'судья предстать': 3040076, 'судья выпускать': 3039601, 'судья уменьшать': 3040081, 'судья демонстрировать': 3039924, 'судья объяснять': 3039605, 'судья отправлять': 3039692, 'судья информировать': 3039898, 'судья 6900': 3040145, 'судья национальный': 3038832, 'судья документ': 3037748, 'судья следовать': 3039350, 'судья долждать': 3040145, 'судья относиться': 3039750, 'судья отсмеяться': 3040145, 'судья муж': 3039869, 'судья напоминать': 3037320, 'судья пятилетний': 3040105, 'судья Похорелска': 3040139, 'судья израильский': 3038967, 'судья представлять': 3038371, 'судья Ньюпортский': 3040145, 'судья пообещать': 3039840, 'судья окончательный': 3039673, 'судья так': 3036679, 'судья Кунцевский': 3040136, 'судья неприязненно': 3040145, 'судья обвиняемый': 3039879, 'судья любезно': 3040144, 'судья график': 3039994, 'судья палата': 3039193, 'судья допрашивать': 3040056, 'судья какой-то': 3039898, 'судья Погорелска': 3040146, 'судья оставлять': 3039589, 'судья снова': 3039861, 'судья заниматься': 3038974, 'судья Черемушкинский': 3040141, 'судья Baltasar': 3040145, 'судья вставать': 3040059, 'судья Бориспольский': 3040144, 'судья порекомендовать': 3040138, 'судья Joel': 3040145, 'судья просто': 3039549, 'судья Бетти': 3040138, 'судья Alan': 3040144}\n"
          ],
          "name": "stdout"
        }
      ]
    },
    {
      "cell_type": "code",
      "metadata": {
        "colab": {
          "base_uri": "https://localhost:8080/"
        },
        "id": "K_66Fo54qZ_i",
        "outputId": "177d9dee-a815-4152-b620-9200226804ab"
      },
      "source": [
        "list1={}\n",
        "for w,l in diff.items():\n",
        "  for wo,li in diff2.items():\n",
        "    if w==wo:\n",
        "      list1[w]=[l,li]\n",
        "print(list1)"
      ],
      "execution_count": 362,
      "outputs": [
        {
          "output_type": "stream",
          "text": [
            "{'судья решать': [2, 395], 'судья все': [2, 395], 'судья добавлять': [2, 395], 'судья конституционный': [2, 395], 'судья подпереть': [1, 396], 'судья отклонять': [2, 395], 'судья считать': [2, 395], 'судья направлять': [2, 395], 'судья получать': [2, 395], 'судья Каспер-Анзерма': [2, 395], 'судья с': [2, 395], 'судья признавать': [2, 395], 'судья Дево': [2, 395], 'судья независимо': [1, 396], 'судья проводить': [2, 395], 'судья от': [2, 395], 'судья шотландский': [1, 396], 'судья постановить': [2, 395], 'судья вызывать': [3, 394], 'судья традиционно': [1, 396], 'судья юрист': [1, 396], 'судья удовлетворять': [2, 395], 'судья и': [2, 395], 'судья областной': [1, 396], 'судья Кужанкуй': [1, 396], 'судья запрещать': [2, 395], 'судья министр': [1, 396], 'судья в': [2, 395], 'судья они': [1, 396], 'судья мочь': [4, 393], 'судья быть': [2, 395], 'судья возглавлять': [2, 395], 'судья он': [2, 395], 'судья по': [2, 395], 'судья гласить': [1, 396], 'судья объявлять': [2, 395], 'судья отказываться': [2, 395], 'судья добиваться': [1, 396], 'судья Руссо': [1, 396], 'судья на': [2, 395], 'судья прокурор': [1, 396], 'судья комментировать': [1, 396], 'судья оглашение': [1, 396], 'судья обеспокоить': [1, 396], 'судья еще': [2, 395], 'судья федеральный': [1, 396], 'судья вынести': [1, 396], 'судья отмечать': [2, 395], 'судья рассмотрение': [1, 396], 'судья американский': [1, 396], 'судья 19': [1, 396], 'судья чей': [1, 396], 'судья назначать': [2, 395], 'судья назначить': [1, 396], 'судья проект': [1, 396], 'судья обнародовать': [1, 396], 'судья что': [2, 395], 'судья более': [1, 396], 'судья должен': [4, 393], 'судья договориться': [1, 396], 'судья городской': [1, 396], 'судья проходить': [1, 396], 'судья шариатский': [1, 396], 'судья соглашаться': [2, 395], 'судья за': [2, 395], 'судья выносить': [2, 395], 'судья международный': [2, 395], 'судья о': [2, 395], 'судья решение': [1, 396], 'судья Л': [1, 396], 'судья наносить': [1, 396], 'судья не': [2, 395], 'судья истец': [1, 396], 'судья вести': [1, 396], 'судья приходить': [2, 395], 'судья вероятно': [1, 396], 'судья рассматривать': [2, 395], 'судья вынесение': [1, 396], 'судья отбывать': [1, 396], 'судья делить': [1, 396], 'судья слово': [1, 396], 'судья Печерский': [1, 396], 'судья верховный': [2, 395], 'судья анатолий': [1, 396], 'судья но': [1, 396], 'судья инициатор': [1, 396], 'судья брайан': [1, 396], 'судья подавлять': [1, 396], 'судья закрывать': [1, 396], 'судья один': [4, 393], 'судья поступать': [1, 396], 'судья связывать': [1, 396], 'судья занимать': [1, 396], 'судья тверской': [1, 396], 'судья современность': [1, 396], 'судья который': [4, 393], 'судья вынужденный': [1, 396], 'судья таможенник': [1, 396], 'судья даже': [2, 395], 'судья Санджованниприступит': [1, 396], 'судья заявлять': [2, 395], 'судья ведущий': [2, 395], 'судья приостановить': [1, 396], 'судья просить': [1, 396], 'судья прекращать': [2, 395], 'судья жалоба': [1, 396], 'судья приходиться': [1, 396], 'судья претензия': [1, 396], 'судья издавать': [1, 396], 'судья Мэрили': [1, 396], 'судья из': [4, 393], 'судья приговаривать': [1, 396], 'судья Альдижер': [1, 396], 'судья апелляционный': [2, 395], 'судья бывший': [1, 396], 'судья парижский': [2, 395], 'судья отвергать': [2, 395], 'судья постановлять': [2, 395], 'судья игнорировать': [1, 396], 'судья служить': [1, 396], 'судья неверно': [1, 396], 'судья чтобы': [1, 396], 'судья метр': [1, 396], 'судья компьютер': [1, 396], 'судья вполне': [1, 396], 'судья разрешать': [1, 396], 'судья отказывать': [2, 395], 'судья обнаруживать': [1, 396], 'судья выгонять': [1, 396], 'судья Мтбя': [1, 396], 'судья указывать': [1, 396], 'судья требовать': [1, 396], 'судья -': [2, 395], 'судья для': [2, 395], 'судья принимать': [4, 393], 'судья давать': [2, 395], 'судья молчать': [1, 396], 'судья Пфильцер': [1, 396], 'судья предлагать': [1, 396], 'судья новый': [1, 396], 'судья восточный': [1, 396], 'судья крикнуть': [1, 396], 'судья констатировать': [1, 396], 'судья называть': [1, 396], 'судья центральный': [1, 396], 'судья нарушеныположение': [1, 396], 'судья сказать': [2, 395], 'судья окружной': [1, 396], 'судья готовый': [1, 396], 'судья а': [2, 395], 'судья весь': [1, 396], 'судья уже': [2, 395], 'судья -докладчикий': [1, 396], 'судья Салониуспредоставлять': [1, 396], 'судья орт': [1, 396], 'судья против': [1, 396], 'судья заслушать': [1, 396], 'судья официальный': [1, 396], 'судья предстоять': [2, 395], 'судья отнюдь': [1, 396], 'судья акция': [1, 396], 'судья передавать': [1, 396], 'судья слушание': [1, 396], 'судья другой': [1, 396], 'судья или': [1, 396], 'судья под': [1, 396], 'судья обязать': [2, 395], 'судья лояльность': [1, 396], 'судья этот': [2, 395], 'судья Белорецкий': [1, 396], 'судья фрунзенский': [1, 396], 'судья друг': [1, 396], 'судья примененыненадлежащий': [1, 396], 'судья жить': [1, 396], 'судья два': [1, 396], 'судья главный': [1, 396], 'судья удалить': [1, 396], 'судья запрет': [1, 396], 'судья заканчивать': [1, 396], 'судья 9': [1, 396], 'судья шесть': [1, 396], 'судья разделяться': [1, 396], 'судья опубликовывать': [1, 396], 'судья первый': [1, 396], 'судья председательствовать': [1, 396], 'судья совместно': [1, 396], 'судья каждый': [1, 396], 'судья Ю': [1, 396], 'судья совершать': [1, 396], 'судья лишать': [4, 393], 'судья продление': [1, 396], 'судья ходатайство': [1, 396], 'судья отдавать': [2, 395], 'судья государственный': [1, 396], 'судья постоянно': [1, 396], 'судья учесть': [1, 396], 'судья пока': [1, 396], 'судья Корреа': [1, 396], 'судья Галиано': [1, 396], 'судья известный': [2, 395], 'судья прокурорский': [1, 396], 'судья находить': [1, 396], 'судья подтверждать': [3, 394], 'судья однако': [2, 395], 'судья поддерживать': [1, 396], 'судья до': [1, 396], 'судья также': [2, 395], 'судья процесс': [1, 396], 'судья округ': [2, 395], 'судья свой': [2, 395], 'судья необоснованно': [1, 396], 'судья уносить': [1, 396], 'судья двое': [1, 396], 'судья залог': [1, 396], 'судья Инть': [1, 396], 'судья речь': [1, 396], 'судья обсуждать': [1, 396], 'судья сохранять': [1, 396], 'судья уходить': [1, 396], 'судья выслушивать': [1, 396], 'судья европейский': [1, 396], 'судья уголовный': [1, 396], 'судья некий': [2, 395], 'судья как': [1, 396], 'судья интересовать': [1, 396], 'судья высокий': [3, 394], 'судья уличение': [1, 396], 'судья немедленно': [1, 396], 'судья оставаться': [1, 396], 'судья устанавливать': [1, 396], 'судья суд': [1, 396], 'судья курский': [1, 396], 'судья ограничивать': [1, 396], 'судья пресненский': [1, 396], 'судья консервативный': [1, 396], 'судья пойти': [1, 396], 'судья справка': [1, 396], 'судья Эрв': [1, 396], 'судья определение': [1, 396], 'судья нина': [1, 396], 'судья спид': [1, 396], 'судья флоридский': [1, 396], 'судья штат': [3, 394], 'судья матч': [2, 395], 'судья МакВя': [1, 396], 'судья руководствоваться': [1, 396], 'судья прием': [1, 396], 'судья ставить': [1, 396], 'судья Гом': [1, 396], 'судья беседовать': [1, 396], 'судья предстать': [1, 396], 'судья выпускать': [1, 396], 'судья уменьшать': [2, 395], 'судья демонстрировать': [3, 394], 'судья объяснять': [1, 396], 'судья отправлять': [1, 396], 'судья информировать': [1, 396], 'судья 6900': [1, 396], 'судья национальный': [1, 396], 'судья документ': [1, 396], 'судья следовать': [1, 396], 'судья долждать': [1, 396], 'судья относиться': [1, 396], 'судья отсмеяться': [1, 396], 'судья муж': [1, 396], 'судья напоминать': [1, 396], 'судья пятилетний': [1, 396], 'судья Похорелска': [2, 395], 'судья израильский': [1, 396], 'судья представлять': [1, 396], 'судья Ньюпортский': [1, 396], 'судья пообещать': [1, 396], 'судья окончательный': [3, 394], 'судья так': [1, 396], 'судья Кунцевский': [1, 396], 'судья неприязненно': [1, 396], 'судья обвиняемый': [1, 396], 'судья любезно': [1, 396], 'судья график': [1, 396], 'судья палата': [1, 396], 'судья допрашивать': [1, 396], 'судья какой-то': [1, 396], 'судья Погорелска': [3, 394], 'судья оставлять': [1, 396], 'судья снова': [1, 396], 'судья заниматься': [1, 396], 'судья Черемушкинский': [1, 396], 'судья Baltasar': [1, 396], 'судья вставать': [1, 396], 'судья Бориспольский': [1, 396], 'судья порекомендовать': [1, 396], 'судья Joel': [1, 396], 'судья просто': [1, 396], 'судья Бетти': [1, 396], 'судья Alan': [1, 396]}\n"
          ],
          "name": "stdout"
        }
      ]
    },
    {
      "cell_type": "code",
      "metadata": {
        "colab": {
          "base_uri": "https://localhost:8080/"
        },
        "id": "mk7JCEkKqZ_j",
        "outputId": "daac317e-9d07-4849-de9f-0b6e50d7e8e9"
      },
      "source": [
        "list2={}\n",
        "for w,l in list1.items():\n",
        "  for wo,li in diff3.items():\n",
        "    if w==wo:\n",
        "      l.append(li)\n",
        "      list2[w]=l\n",
        "print(list2)"
      ],
      "execution_count": 363,
      "outputs": [
        {
          "output_type": "stream",
          "text": [
            "{'судья решать': [2, 395, 1682], 'судья все': [2, 395, 3260], 'судья добавлять': [2, 395, 726], 'судья конституционный': [2, 395, 295], 'судья подпереть': [1, 396, 1], 'судья отклонять': [2, 395, 229], 'судья считать': [2, 395, 3390], 'судья направлять': [2, 395, 1584], 'судья получать': [2, 395, 5191], 'судья Каспер-Анзерма': [2, 395, 1], 'судья с': [2, 395, 38921], 'судья признавать': [2, 395, 1535], 'судья Дево': [2, 395, 14], 'судья независимо': [1, 396, 88], 'судья проводить': [2, 395, 4056], 'судья от': [2, 395, 9845], 'судья шотландский': [1, 396, 48], 'судья постановить': [2, 395, 17], 'судья вызывать': [3, 394, 1453], 'судья традиционно': [1, 396, 55], 'судья юрист': [1, 396, 195], 'судья удовлетворять': [2, 395, 287], 'судья и': [2, 395, 72361], 'судья областной': [1, 396, 412], 'судья Кужанкуй': [1, 396, 1], 'судья запрещать': [2, 395, 755], 'судья министр': [1, 396, 3148], 'судья в': [2, 395, 168458], 'судья они': [1, 396, 13064], 'судья мочь': [4, 393, 7462], 'судья быть': [2, 395, 36750], 'судья возглавлять': [2, 395, 733], 'судья он': [2, 395, 26845], 'судья по': [2, 395, 41179], 'судья гласить': [1, 396, 47], 'судья объявлять': [2, 395, 1636], 'судья отказываться': [2, 395, 1259], 'судья добиваться': [1, 396, 506], 'судья Руссо': [1, 396, 6], 'судья на': [2, 395, 61905], 'судья прокурор': [1, 396, 840], 'судья комментировать': [1, 396, 560], 'судья оглашение': [1, 396, 49], 'судья обеспокоить': [1, 396, 84], 'судья еще': [2, 395, 4164], 'судья федеральный': [1, 396, 3952], 'судья вынести': [1, 396, 112], 'судья отмечать': [2, 395, 4926], 'судья рассмотрение': [1, 396, 581], 'судья американский': [1, 396, 3276], 'судья 19': [1, 396, 908], 'судья чей': [1, 396, 221], 'судья назначать': [2, 395, 751], 'судья назначить': [1, 396, 78], 'судья проект': [1, 396, 2162], 'судья обнародовать': [1, 396, 167], 'судья что': [2, 395, 36636], 'судья более': [1, 396, 4039], 'судья должен': [4, 393, 4028], 'судья договориться': [1, 396, 12], 'судья городской': [1, 396, 1140], 'судья проходить': [1, 396, 2927], 'судья шариатский': [1, 396, 39], 'судья соглашаться': [2, 395, 437], 'судья за': [2, 395, 13109], 'судья выносить': [2, 395, 407], 'судья международный': [2, 395, 2525], 'судья о': [2, 395, 21562], 'судья решение': [1, 396, 4471], 'судья Л': [1, 396, 22], 'судья наносить': [1, 396, 654], 'судья не': [2, 395, 27244], 'судья истец': [1, 396, 201], 'судья вести': [1, 396, 1760], 'судья приходить': [2, 395, 941], 'судья вероятно': [1, 396, 236], 'судья рассматривать': [2, 395, 1064], 'судья вынесение': [1, 396, 82], 'судья отбывать': [1, 396, 101], 'судья делить': [1, 396, 61], 'судья слово': [1, 396, 7261], 'судья Печерский': [1, 396, 3], 'судья верховный': [2, 395, 798], 'судья анатолий': [1, 396, 106], 'судья но': [1, 396, 4376], 'судья инициатор': [1, 396, 115], 'судья брайан': [1, 396, 3], 'судья подавлять': [1, 396, 38], 'судья закрывать': [1, 396, 596], 'судья один': [4, 393, 8743], 'судья поступать': [1, 396, 1192], 'судья связывать': [1, 396, 1443], 'судья занимать': [1, 396, 1309], 'судья тверской': [1, 396, 131], 'судья современность': [1, 396, 13], 'судья который': [4, 393, 18712], 'судья вынужденный': [1, 396, 275], 'судья таможенник': [1, 396, 85], 'судья даже': [2, 395, 1245], 'судья Санджованниприступит': [1, 396, 1], 'судья заявлять': [2, 395, 8528], 'судья ведущий': [2, 395, 450], 'судья приостановить': [1, 396, 65], 'судья просить': [1, 396, 572], 'судья прекращать': [2, 395, 632], 'судья жалоба': [1, 396, 455], 'судья приходиться': [1, 396, 1013], 'судья претензия': [1, 396, 246], 'судья издавать': [1, 396, 103], 'судья Мэрили': [1, 396, 1], 'судья из': [4, 393, 17692], 'судья приговаривать': [1, 396, 217], 'судья Альдижер': [1, 396, 1], 'судья апелляционный': [2, 395, 124], 'судья бывший': [1, 396, 2409], 'судья парижский': [2, 395, 242], 'судья отвергать': [2, 395, 200], 'судья постановлять': [2, 395, 137], 'судья игнорировать': [1, 396, 62], 'судья служить': [1, 396, 410], 'судья неверно': [1, 396, 10], 'судья чтобы': [1, 396, 2398], 'судья метр': [1, 396, 1033], 'судья компьютер': [1, 396, 987], 'судья вполне': [1, 396, 325], 'судья разрешать': [1, 396, 345], 'судья отказывать': [2, 395, 207], 'судья обнаруживать': [1, 396, 2425], 'судья выгонять': [1, 396, 19], 'судья Мтбя': [1, 396, 2], 'судья указывать': [1, 396, 741], 'судья требовать': [1, 396, 1241], 'судья -': [2, 395, 35996], 'судья для': [2, 395, 10576], 'судья принимать': [4, 393, 4933], 'судья давать': [2, 395, 1788], 'судья молчать': [1, 396, 14], 'судья Пфильцер': [1, 396, 2], 'судья предлагать': [1, 396, 1633], 'судья новый': [1, 396, 5637], 'судья восточный': [1, 396, 445], 'судья крикнуть': [1, 396, 2], 'судья констатировать': [1, 396, 81], 'судья называть': [1, 396, 2227], 'судья центральный': [1, 396, 1009], 'судья нарушеныположение': [1, 396, 1], 'судья сказать': [2, 395, 2815], 'судья окружной': [1, 396, 243], 'судья готовый': [1, 396, 913], 'судья а': [2, 395, 9183], 'судья весь': [1, 396, 7751], 'судья уже': [2, 395, 5699], 'судья -докладчикий': [1, 396, 1], 'судья Салониуспредоставлять': [1, 396, 1], 'судья орт': [1, 396, 33], 'судья против': [1, 396, 2599], 'судья заслушать': [1, 396, 19], 'судья официальный': [1, 396, 1744], 'судья предстоять': [2, 395, 650], 'судья отнюдь': [1, 396, 33], 'судья акция': [1, 396, 2579], 'судья передавать': [1, 396, 4938], 'судья слушание': [1, 396, 394], 'судья другой': [1, 396, 4410], 'судья или': [1, 396, 2513], 'судья под': [1, 396, 3562], 'судья обязать': [2, 395, 98], 'судья лояльность': [1, 396, 10], 'судья этот': [2, 395, 16508], 'судья Белорецкий': [1, 396, 4], 'судья фрунзенский': [1, 396, 29], 'судья друг': [1, 396, 693], 'судья примененыненадлежащий': [1, 396, 1], 'судья жить': [1, 396, 565], 'судья два': [1, 396, 6140], 'судья главный': [1, 396, 2387], 'судья удалить': [1, 396, 30], 'судья запрет': [1, 396, 353], 'судья заканчивать': [1, 396, 188], 'судья 9': [1, 396, 737], 'судья шесть': [1, 396, 983], 'судья разделяться': [1, 396, 20], 'судья опубликовывать': [1, 396, 757], 'судья первый': [1, 396, 5855], 'судья председательствовать': [1, 396, 34], 'судья совместно': [1, 396, 307], 'судья каждый': [1, 396, 1213], 'судья Ю': [1, 396, 17], 'судья совершать': [1, 396, 1329], 'судья лишать': [4, 393, 284], 'судья продление': [1, 396, 134], 'судья ходатайство': [1, 396, 209], 'судья отдавать': [2, 395, 367], 'судья государственный': [1, 396, 2671], 'судья постоянно': [1, 396, 246], 'судья учесть': [1, 396, 14], 'судья пока': [1, 396, 2791], 'судья Корреа': [1, 396, 1], 'судья Галиано': [1, 396, 2], 'судья известный': [2, 395, 2895], 'судья прокурорский': [1, 396, 24], 'судья находить': [1, 396, 1551], 'судья подтверждать': [3, 394, 1213], 'судья однако': [2, 395, 5333], 'судья поддерживать': [1, 396, 1003], 'судья до': [1, 396, 7474], 'судья также': [2, 395, 8902], 'судья процесс': [1, 396, 1018], 'судья округ': [2, 395, 1168], 'судья свой': [2, 395, 10649], 'судья необоснованно': [1, 396, 20], 'судья уносить': [1, 396, 51], 'судья двое': [1, 396, 1090], 'судья залог': [1, 396, 158], 'судья Инть': [1, 396, 1], 'судья речь': [1, 396, 739], 'судья обсуждать': [1, 396, 923], 'судья сохранять': [1, 396, 320], 'судья уходить': [1, 396, 634], 'судья выслушивать': [1, 396, 36], 'судья европейский': [1, 396, 1045], 'судья уголовный': [1, 396, 1973], 'судья некий': [2, 395, 273], 'судья как': [1, 396, 16076], 'судья интересовать': [1, 396, 86], 'судья высокий': [3, 394, 837], 'судья уличение': [1, 396, 2], 'судья немедленно': [1, 396, 252], 'судья оставаться': [1, 396, 2057], 'судья устанавливать': [1, 396, 1964], 'судья суд': [1, 396, 4813], 'судья курский': [1, 396, 103], 'судья ограничивать': [1, 396, 235], 'судья пресненский': [1, 396, 20], 'судья консервативный': [1, 396, 59], 'судья пойти': [1, 396, 497], 'судья справка': [1, 396, 59], 'судья Эрв': [1, 396, 1], 'судья определение': [1, 396, 156], 'судья нина': [1, 396, 1], 'судья спид': [1, 396, 81], 'судья флоридский': [1, 396, 12], 'судья штат': [3, 394, 1116], 'судья матч': [2, 395, 1799], 'судья МакВя': [1, 396, 4], 'судья руководствоваться': [1, 396, 50], 'судья прием': [1, 396, 225], 'судья ставить': [1, 396, 896], 'судья Гом': [1, 396, 1], 'судья беседовать': [1, 396, 52], 'судья предстать': [1, 396, 70], 'судья выпускать': [1, 396, 545], 'судья уменьшать': [2, 395, 65], 'судья демонстрировать': [3, 394, 222], 'судья объяснять': [1, 396, 541], 'судья отправлять': [1, 396, 454], 'судья информировать': [1, 396, 248], 'судья 6900': [1, 396, 1], 'судья национальный': [1, 396, 1314], 'судья документ': [1, 396, 2398], 'судья следовать': [1, 396, 796], 'судья долждать': [1, 396, 1], 'судья относиться': [1, 396, 396], 'судья отсмеяться': [1, 396, 1], 'судья муж': [1, 396, 277], 'судья напоминать': [1, 396, 2826], 'судья пятилетний': [1, 396, 41], 'судья Похорелска': [2, 395, 7], 'судья израильский': [1, 396, 1179], 'судья представлять': [1, 396, 1775], 'судья Ньюпортский': [1, 396, 1], 'судья пообещать': [1, 396, 306], 'судья окончательный': [3, 394, 473], 'судья так': [1, 396, 3467], 'судья Кунцевский': [1, 396, 10], 'судья неприязненно': [1, 396, 1], 'судья обвиняемый': [1, 396, 267], 'судья любезно': [1, 396, 2], 'судья график': [1, 396, 152], 'судья палата': [1, 396, 953], 'судья допрашивать': [1, 396, 90], 'судья какой-то': [1, 396, 248], 'судья Погорелска': [3, 394, 0], 'судья оставлять': [1, 396, 557], 'судья снова': [1, 396, 285], 'судья заниматься': [1, 396, 1172], 'судья Черемушкинский': [1, 396, 5], 'судья Baltasar': [1, 396, 1], 'судья вставать': [1, 396, 87], 'судья Бориспольский': [1, 396, 2], 'судья порекомендовать': [1, 396, 8], 'судья Joel': [1, 396, 1], 'судья просто': [1, 396, 597], 'судья Бетти': [1, 396, 8], 'судья Alan': [1, 396, 2]}\n"
          ],
          "name": "stdout"
        }
      ]
    },
    {
      "cell_type": "code",
      "metadata": {
        "id": "On4a2lFLqZ_l"
      },
      "source": [
        "log_list={}\n",
        "for w,l in list2.items():\n",
        "  for wo,li in diff4.items():\n",
        "    if w==wo:\n",
        "      l.append(li)\n",
        "      log_list[w]=l"
      ],
      "execution_count": 364,
      "outputs": []
    },
    {
      "cell_type": "code",
      "metadata": {
        "colab": {
          "base_uri": "https://localhost:8080/"
        },
        "id": "cFytE946qZ_m",
        "outputId": "1c6597c0-b6d1-4b82-add9-8df90760ff6c"
      },
      "source": [
        "log_like_list={}\n",
        "ind=[]\n",
        "for w,l in log_list.items():\n",
        "  #print(w,l)\n",
        "  if l[2] == 0:\n",
        "    pass\n",
        "  else:\n",
        "    log_likelihood=math.log((l[0]*l[3])/(l[1]*l[2]))-3.29*(1/(1/l[0]+1/l[2]+1/l[3]+1/l[1]))\n",
        "    log_like_list[w] = log_likelihood\n",
        "\n",
        "sorted_dict = {}\n",
        "sorted_keys = sorted(log_like_list, key=log_like_list.get)  # [1, 3, 2]\n",
        "\n",
        "for w in sorted_keys:\n",
        "    sorted_dict[w] = log_like_list[w]\n",
        "\n",
        "print(sorted_dict)\n",
        "#print(result)"
      ],
      "execution_count": 366,
      "outputs": [
        {
          "output_type": "stream",
          "text": [
            "{'судья который': -12.527825742010759, 'судья из': -12.47127688075276, 'судья один': -11.760478912912257, 'судья мочь': -11.600614656233299, 'судья принимать': -11.182365609298708, 'судья должен': -10.977044880986583, 'судья в': -8.996539270296342, 'судья лишать': -8.15741762521488, 'судья и': -8.118501864984369, 'судья на': -7.958887970289476, 'судья по': -7.544174515491395, 'судья с': -7.487009056932496, 'судья быть': -7.428870453652345, 'судья что': -7.425724532423823, 'судья -': -7.407881607884573, 'судья не': -7.1262817943328205, 'судья он': -7.1113885374137205, 'судья вызывать': -7.007561637819897, 'судья о': -6.890370891285637, 'судья подтверждать': -6.822995420345325, 'судья штат': -6.737538642864751, 'судья этот': -6.621425670671739, 'судья высокий': -6.441107831250365, 'судья за': -6.389551501858202, 'судья свой': -6.180676635718834, 'судья для': -6.1737653906951815, 'судья от': -6.101809133449159, 'судья а': -6.031885579456639, 'судья также': -6.000670134100664, 'судья заявлять': -5.957561505868242, 'судья окончательный': -5.843707436200649, 'судья уже': -5.552806749516272, 'судья однако': -5.48615258202313, 'судья получать': -5.459051444433987, 'судья отмечать': -5.406430170816631, 'судья еще': -5.237644458432895, 'судья проводить': -5.211246774644377, 'судья считать': -5.031029750258793, 'судья демонстрировать': -5.01884754604576, 'судья все': -4.991731151933236, 'судья известный': -4.872365696689428, 'судья сказать': -4.844188797725186, 'судья международный': -4.734841390308679, 'судья матч': -4.393514095018805, 'судья давать': -4.387332743614406, 'судья решать': -4.325725616593621, 'судья объявлять': -4.297763896255306, 'судья направлять': -4.265185066495058, 'судья признавать': -4.233484153838118, 'судья отказываться': -4.033325483421752, 'судья как': -4.025890956113522, 'судья даже': -4.022022660975956, 'судья округ': -3.9574671121585903, 'судья рассматривать': -3.863089055256226, 'судья они': -3.8173813829902645, 'судья приходить': -3.738606960903718, 'судья верховный': -3.571255845911366, 'судья запрещать': -3.514925806209595, 'судья назначать': -3.509520970991908, 'судья возглавлять': -3.4848313872280374, 'судья добавлять': -3.4750629617096465, 'судья предстоять': -3.3623742980492652, 'судья прекращать': -3.3337181008079027, 'судья весь': -3.293417558999463, 'судья до': -3.256919032050922, 'судья слово': -3.227923184328183, 'судья два': -3.0597785356760507, 'судья первый': -3.012129917473804, 'судья ведущий': -2.9857421608104655, 'судья новый': -2.974092472704768, 'судья соглашаться': -2.9555699472506274, 'судья выносить': -2.882263247946159, 'судья передавать': -2.841388360042891, 'судья суд': -2.815690167412337, 'судья отдавать': -2.7753457135313724, 'судья решение': -2.741817005402938, 'судья другой': -2.728049380753845, 'судья но': -2.7202927919483804, 'судья более': -2.6399814753510245, 'судья федеральный': -2.6181596313012454, 'судья конституционный': -2.54837610763895, 'судья удовлетворять': -2.519666012781804, 'судья под': -2.5140409527883767, 'судья так': -2.486951982827744, 'судья некий': -2.467355910847667, 'судья американский': -2.430167571206055, 'судья министр': -2.3902289842593403, 'судья парижский': -2.340792406025362, 'судья проходить': -2.317288433840687, 'судья отклонять': -2.282567390047908, 'судья напоминать': -2.282099514838465, 'судья пока': -2.2696111463734017, 'судья государственный': -2.22557196425271, 'судья против': -2.1981881565170065, 'судья акция': -2.1904467836840276, 'судья отказывать': -2.1756198641736813, 'судья или': -2.1644672784451062, 'судья отвергать': -2.139055847611255, 'судья обнаруживать': -2.1287453432205403, 'судья бывший': -2.122111317233286, 'судья чтобы': -2.117524801061374, 'судья документ': -2.117524801061374, 'судья главный': -2.112917185304058, 'судья называть': -2.0433841161747894, 'судья проект': -2.013696899423831, 'судья оставаться': -1.9638000155863138, 'судья уголовный': -1.9220112983474245, 'судья устанавливать': -1.9174287237458718, 'судья представлять': -1.8160064493903523, 'судья вести': -1.8074991988373277, 'судья официальный': -1.798344405344232, 'судья предлагать': -1.7324179292332993, 'судья постановлять': -1.731464158988925, 'судья находить': -1.6807661664656266, 'судья апелляционный': -1.6220890472330183, 'судья связывать': -1.6083972692960002, 'судья совершать': -1.525867945129183, 'судья национальный': -1.5144840742996495, 'судья занимать': -1.5106604945742945, 'судья требовать': -1.4571553256289658, 'судья каждый': -1.434264446645225, 'судья поступать': -1.416746010751435, 'судья израильский': -1.4057455566155945, 'судья заниматься': -1.3997717679712123, 'судья городской': -1.3719995434116463, 'судья обязать': -1.3598789463366918, 'судья двое': -1.327001042578446, 'судья европейский': -1.2846963434190457, 'судья метр': -1.2731063804304146, 'судья процесс': -1.258427570886417, 'судья приходиться': -1.2534863924611233, 'судья центральный': -1.2495158071955448, 'судья поддерживать': -1.2435302317368215, 'судья компьютер': -1.2273914182732701, 'судья шесть': -1.223315714462554, 'судья палата': -1.192207014045446, 'судья обсуждать': -1.1601000680070115, 'судья готовый': -1.1491646633099553, 'судья 19': -1.1436518161188993, 'судья ставить': -1.1302957259716249, 'судья прокурор': -1.065495778973966, 'судья следовать': -1.0114637111599416, 'судья опубликовывать': -0.9610036250826841, 'судья указывать': -0.9395426102161308, 'судья речь': -0.936827324385757, 'судья 9': -0.9341046495188174, 'судья уменьшать': -0.8851053685486345, 'судья друг': -0.872251061002042, 'судья наносить': -0.8140347336442155, 'судья уходить': -0.7828123498622368, 'судья просто': -0.7223493765473581, 'судья закрывать': -0.7206634319890233, 'судья рассмотрение': -0.695027267177998, 'судья просить': -0.6793241974542186, 'судья жить': -0.6669379804268094, 'судья комментировать': -0.6579958415035034, 'судья оставлять': -0.6525919393861086, 'судья выпускать': -0.6306796134539123, 'судья объяснять': -0.62326753536744, 'судья добиваться': -0.5559564747043049, 'судья пойти': -0.5378901857776248, 'судья жалоба': -0.4489783303322463, 'судья отправлять': -0.446762003111282, 'судья восточный': -0.4265909466544682, 'судья областной': -0.348942696622744, 'судья служить': -0.3440372791298092, 'судья относиться': -0.309008854558531, 'судья слушание': -0.30390314499913496, 'судья запрет': -0.1930469747734116, 'судья разрешать': -0.16990689615389654, 'судья вполне': -0.10960065486268888, 'судья сохранять': -0.09393841544396597, 'судья совместно': -0.05203046366165509, 'судья пообещать': -0.048732869386753475, 'судья снова': 0.023152898297906788, 'судья муж': 0.05195658002607839, 'судья вынужденный': 0.05928897396255417, 'судья обвиняемый': 0.08916809045389273, 'судья немедленно': 0.14771678039358793, 'судья информировать': 0.16392628938405096, 'судья какой-то': 0.16392628938405096, 'судья претензия': 0.1721306079797027, 'судья постоянно': 0.1721306079797027, 'судья окружной': 0.18456463519147004, 'судья вероятно': 0.2141928304618803, 'судья ограничивать': 0.2184979769781128, 'судья прием': 0.2626001320134992, 'судья чей': 0.28080013218222843, 'судья приговаривать': 0.29933735713257326, 'судья ходатайство': 0.33747513429474996, 'судья истец': 0.37712446475725114, 'судья юрист': 0.40792787717621515, 'судья заканчивать': 0.4451063564744193, 'судья обнародовать': 0.5657264526374326, 'судья залог': 0.6222311391205939, 'судья определение': 0.635233094862063, 'судья график': 0.6617550118890563, 'судья продление': 0.7906544289065933, 'судья тверской': 0.8138489982138224, 'судья инициатор': 0.947540122817796, 'судья постановить': 0.9476449280217185, 'судья вынести': 0.9747235859320309, 'судья анатолий': 1.0314098150491806, 'судья издавать': 1.0610034385253106, 'судья курский': 1.0610034385253106, 'судья отбывать': 1.0812297632293255, 'судья допрашивать': 1.2004237556612054, 'судья независимо': 1.2237056723349449, 'судья вставать': 1.2355526785593014, 'судья интересовать': 1.2475414204084418, 'судья таможенник': 1.2596753238761802, 'судья Дево': 1.2705142646941212, 'судья обеспокоить': 1.2719579404683774, 'судья вынесение': 1.296984184173486, 'судья констатировать': 1.3097355995859266, 'судья спид': 1.3097355995859266, 'судья назначить': 1.3489929607215596, 'судья предстать': 1.4618783371035335, 'судья приостановить': 1.5394810029553474, 'судья игнорировать': 1.5890968517331436, 'судья делить': 1.606195824517879, 'судья консервативный': 1.6412929644277368, 'судья справка': 1.6412929644277368, 'судья традиционно': 1.7153958354446432, 'судья беседовать': 1.7747953326677153, 'судья уносить': 1.795401613435288, 'судья руководствоваться': 1.816439020922338, 'судья оглашение': 1.8379258889687944, 'судья шотландский': 1.8598817408922335, 'судья гласить': 1.8823273942239354, 'судья пятилетний': 2.0286483927221743, 'судья шариатский': 2.0825569080311244, 'судья подавлять': 2.110631352902744, 'судья выслушивать': 2.1692368325848888, 'судья председательствовать': 2.2314521250843775, 'судья орт': 2.264056612657328, 'судья отнюдь': 2.264056612657328, 'судья удалить': 2.36868643118224, 'судья фрунзенский': 2.4061087261870817, 'судья Похорелска': 2.5980652230883976, 'судья прокурорский': 2.617179365483738, 'судья Л': 2.7155796888039467, 'судья разделяться': 2.8244482729952067, 'судья необоснованно': 2.8244482729952067, 'судья пресненский': 2.8244482729952067, 'судья выгонять': 2.8835377286621897, 'судья заслушать': 2.8835377286621897, 'судья Ю': 3.0129546608566513, 'судья молчать': 3.2434944683288096, 'судья учесть': 3.2434944683288096, 'судья современность': 3.333196024281875, 'судья договориться': 3.431231743017417, 'судья флоридский': 3.431231743017417, 'судья неверно': 3.659355760347278, 'судья лояльность': 3.659355760347278, 'судья Кунцевский': 3.659355760347278, 'судья порекомендовать': 3.9486638285483906, 'судья Бетти': 3.9486638285483906, 'судья Руссо': 4.340331948859237, 'судья Черемушкинский': 4.600653796748116, 'судья Белорецкий': 4.933013351865472, 'судья МакВя': 4.933013351865472, 'судья Печерский': 5.384553679504995, 'судья брайан': 5.384553679504995, 'судья Мтбя': 6.063207469399567, 'судья Пфильцер': 6.063207469399567, 'судья крикнуть': 6.063207469399567, 'судья Галиано': 6.063207469399567, 'судья уличение': 6.063207469399567, 'судья любезно': 6.063207469399567, 'судья Бориспольский': 6.063207469399567, 'судья Alan': 6.063207469399567, 'судья подпереть': 7.303076229232046, 'судья Кужанкуй': 7.303076229232046, 'судья Санджованниприступит': 7.303076229232046, 'судья Мэрили': 7.303076229232046, 'судья Альдижер': 7.303076229232046, 'судья нарушеныположение': 7.303076229232046, 'судья -докладчикий': 7.303076229232046, 'судья Салониуспредоставлять': 7.303076229232046, 'судья примененыненадлежащий': 7.303076229232046, 'судья Корреа': 7.303076229232046, 'судья Инть': 7.303076229232046, 'судья Эрв': 7.303076229232046, 'судья нина': 7.303076229232046, 'судья Гом': 7.303076229232046, 'судья 6900': 7.303076229232046, 'судья долждать': 7.303076229232046, 'судья отсмеяться': 7.303076229232046, 'судья Ньюпортский': 7.303076229232046, 'судья неприязненно': 7.303076229232046, 'судья Baltasar': 7.303076229232046, 'судья Joel': 7.303076229232046, 'судья Каспер-Анзерма': 7.452039922416596}\n"
          ],
          "name": "stdout"
        }
      ]
    },
    {
      "cell_type": "markdown",
      "metadata": {
        "id": "xmW4bLe4ukkG"
      },
      "source": [
        "LL для общего корпуса"
      ]
    }
  ]
}