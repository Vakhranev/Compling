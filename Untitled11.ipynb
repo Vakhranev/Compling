{
  "nbformat": 4,
  "nbformat_minor": 0,
  "metadata": {
    "colab": {
      "name": "Untitled11.ipynb",
      "provenance": [],
      "machine_shape": "hm",
      "authorship_tag": "ABX9TyPFLUFDT3Mt2MGEuWKJtEDX",
      "include_colab_link": true
    },
    "kernelspec": {
      "display_name": "Python 3",
      "name": "python3"
    },
    "language_info": {
      "name": "python"
    }
  },
  "cells": [
    {
      "cell_type": "markdown",
      "metadata": {
        "id": "view-in-github",
        "colab_type": "text"
      },
      "source": [
        "<a href=\"https://colab.research.google.com/github/Vakhranev/Compling/blob/master/Untitled11.ipynb\" target=\"_parent\"><img src=\"https://colab.research.google.com/assets/colab-badge.svg\" alt=\"Open In Colab\"/></a>"
      ]
    },
    {
      "cell_type": "code",
      "metadata": {
        "id": "6Fjsy7qUP5Dr"
      },
      "source": [
        "import pandas as pd"
      ],
      "execution_count": null,
      "outputs": []
    },
    {
      "cell_type": "code",
      "metadata": {
        "id": "V15AjyLhP-XA"
      },
      "source": [
        "import numpy as np"
      ],
      "execution_count": null,
      "outputs": []
    },
    {
      "cell_type": "code",
      "metadata": {
        "id": "flVb34q-qV-F"
      },
      "source": [
        "from google.colab import drive"
      ],
      "execution_count": null,
      "outputs": []
    },
    {
      "cell_type": "code",
      "metadata": {
        "colab": {
          "base_uri": "https://localhost:8080/"
        },
        "id": "JjvEs1oPqcfy",
        "outputId": "5c742169-4e68-47b3-8794-53d7f77e0271"
      },
      "source": [
        "drive.mount('/content/drive')"
      ],
      "execution_count": null,
      "outputs": [
        {
          "output_type": "stream",
          "text": [
            "Mounted at /content/drive\n"
          ],
          "name": "stdout"
        }
      ]
    },
    {
      "cell_type": "code",
      "metadata": {
        "colab": {
          "base_uri": "https://localhost:8080/"
        },
        "id": "TFCc5ghEzQVA",
        "outputId": "3c9167b5-4497-45b6-fb3b-32d5a5214ab3"
      },
      "source": [
        "!pip install pynput"
      ],
      "execution_count": null,
      "outputs": [
        {
          "output_type": "stream",
          "text": [
            "Collecting pynput\n",
            "\u001b[?25l  Downloading https://files.pythonhosted.org/packages/fd/f7/cb6e7edb8bb46bb38ac8c4f8065e6e3abaaef3436ecd7fe139ca5ba93c3c/pynput-1.7.3-py2.py3-none-any.whl (99kB)\n",
            "\u001b[K     |████████████████████████████████| 102kB 4.4MB/s \n",
            "\u001b[?25hCollecting evdev>=1.3; \"linux\" in sys_platform\n",
            "  Downloading https://files.pythonhosted.org/packages/4d/ec/bb298d36ed67abd94293253e3e52bdf16732153b887bf08b8d6f269eacef/evdev-1.4.0.tar.gz\n",
            "Requirement already satisfied: six in /usr/local/lib/python3.7/dist-packages (from pynput) (1.15.0)\n",
            "Collecting python-xlib>=0.17; \"linux\" in sys_platform\n",
            "\u001b[?25l  Downloading https://files.pythonhosted.org/packages/54/c3/45ecfd3e6a541bb4b383fc320a32762703cfe28763c131d71f4183ace819/python_xlib-0.30-py2.py3-none-any.whl (178kB)\n",
            "\u001b[K     |████████████████████████████████| 184kB 8.0MB/s \n",
            "\u001b[?25hBuilding wheels for collected packages: evdev\n",
            "  Building wheel for evdev (setup.py) ... \u001b[?25l\u001b[?25hdone\n",
            "  Created wheel for evdev: filename=evdev-1.4.0-cp37-cp37m-linux_x86_64.whl size=97417 sha256=11d79117b0742dec3dc63a9a5dba9b2b36e5a0a0c2c3d1338a46ca9536b751d8\n",
            "  Stored in directory: /root/.cache/pip/wheels/66/35/1d/38b2de1421ede48ebf0107faea56163d07059110b116a794a3\n",
            "Successfully built evdev\n",
            "Installing collected packages: evdev, python-xlib, pynput\n",
            "Successfully installed evdev-1.4.0 pynput-1.7.3 python-xlib-0.30\n"
          ],
          "name": "stdout"
        }
      ]
    },
    {
      "cell_type": "code",
      "metadata": {
        "colab": {
          "base_uri": "https://localhost:8080/"
        },
        "id": "3I4pj-0Hm_JL",
        "outputId": "fdb599e4-3e51-476e-c333-ca00b8acf4f0"
      },
      "source": [
        "!pip install patool"
      ],
      "execution_count": null,
      "outputs": [
        {
          "output_type": "stream",
          "text": [
            "Collecting patool\n",
            "\u001b[?25l  Downloading https://files.pythonhosted.org/packages/43/94/52243ddff508780dd2d8110964320ab4851134a55ab102285b46e740f76a/patool-1.12-py2.py3-none-any.whl (77kB)\n",
            "\r\u001b[K     |████▎                           | 10kB 17.2MB/s eta 0:00:01\r\u001b[K     |████████▌                       | 20kB 22.6MB/s eta 0:00:01\r\u001b[K     |████████████▊                   | 30kB 11.3MB/s eta 0:00:01\r\u001b[K     |█████████████████               | 40kB 8.8MB/s eta 0:00:01\r\u001b[K     |█████████████████████▏          | 51kB 5.5MB/s eta 0:00:01\r\u001b[K     |█████████████████████████▍      | 61kB 6.5MB/s eta 0:00:01\r\u001b[K     |█████████████████████████████▋  | 71kB 6.6MB/s eta 0:00:01\r\u001b[K     |████████████████████████████████| 81kB 4.4MB/s \n",
            "\u001b[?25hInstalling collected packages: patool\n",
            "Successfully installed patool-1.12\n"
          ],
          "name": "stdout"
        }
      ]
    },
    {
      "cell_type": "code",
      "metadata": {
        "id": "-kQuffDZnHau"
      },
      "source": [
        "import patoolib"
      ],
      "execution_count": null,
      "outputs": []
    },
    {
      "cell_type": "code",
      "metadata": {
        "id": "NpYKO8Hfq8Py"
      },
      "source": [
        "archive = '/content/drive/My Drive/lenta-ru-news.rar'"
      ],
      "execution_count": null,
      "outputs": []
    },
    {
      "cell_type": "code",
      "metadata": {
        "colab": {
          "base_uri": "https://localhost:8080/",
          "height": 103
        },
        "id": "cKGXHhrmnLEn",
        "outputId": "9cd42732-7594-428a-b90e-c90526ff9e36"
      },
      "source": [
        "patoolib.extract_archive(archive)"
      ],
      "execution_count": null,
      "outputs": [
        {
          "output_type": "stream",
          "text": [
            "patool: Extracting /content/drive/My Drive/lenta-ru-news.rar ...\n",
            "patool: running /usr/bin/unrar x -- \"/content/drive/My Drive/lenta-ru-news.rar\"\n",
            "patool:     with cwd='./Unpack_ji7t4s0d'\n",
            "patool: ... /content/drive/My Drive/lenta-ru-news.rar extracted to `lenta-ru-news.csv'.\n"
          ],
          "name": "stdout"
        },
        {
          "output_type": "execute_result",
          "data": {
            "application/vnd.google.colaboratory.intrinsic+json": {
              "type": "string"
            },
            "text/plain": [
              "'lenta-ru-news.csv'"
            ]
          },
          "metadata": {
            "tags": []
          },
          "execution_count": 9
        }
      ]
    },
    {
      "cell_type": "code",
      "metadata": {
        "id": "IQfMeLOuSjVS"
      },
      "source": [
        "corpora = pd.read_csv('lenta-ru-news.csv',engine='python', error_bad_lines=False)"
      ],
      "execution_count": null,
      "outputs": []
    },
    {
      "cell_type": "code",
      "metadata": {
        "colab": {
          "base_uri": "https://localhost:8080/",
          "height": 289
        },
        "id": "P4L8CwAyTlAl",
        "outputId": "6011f3f6-4601-4f36-c8a6-f955547fc749"
      },
      "source": [
        "corpora.head()"
      ],
      "execution_count": null,
      "outputs": [
        {
          "output_type": "execute_result",
          "data": {
            "text/html": [
              "<div>\n",
              "<style scoped>\n",
              "    .dataframe tbody tr th:only-of-type {\n",
              "        vertical-align: middle;\n",
              "    }\n",
              "\n",
              "    .dataframe tbody tr th {\n",
              "        vertical-align: top;\n",
              "    }\n",
              "\n",
              "    .dataframe thead th {\n",
              "        text-align: right;\n",
              "    }\n",
              "</style>\n",
              "<table border=\"1\" class=\"dataframe\">\n",
              "  <thead>\n",
              "    <tr style=\"text-align: right;\">\n",
              "      <th></th>\n",
              "      <th>url</th>\n",
              "      <th>title</th>\n",
              "      <th>text</th>\n",
              "      <th>topic</th>\n",
              "      <th>tags</th>\n",
              "      <th>date</th>\n",
              "    </tr>\n",
              "  </thead>\n",
              "  <tbody>\n",
              "    <tr>\n",
              "      <th>0</th>\n",
              "      <td>https://lenta.ru/news/1914/09/16/hungarnn/</td>\n",
              "      <td>1914. Русские войска вступили в пределы Венгрии</td>\n",
              "      <td>Бои у Сопоцкина и Друскеник закончились отступ...</td>\n",
              "      <td>Библиотека</td>\n",
              "      <td>Первая мировая</td>\n",
              "      <td>1914/09/16</td>\n",
              "    </tr>\n",
              "    <tr>\n",
              "      <th>1</th>\n",
              "      <td>https://lenta.ru/news/1914/09/16/lermontov/</td>\n",
              "      <td>1914. Празднование столетия М.Ю. Лермонтова от...</td>\n",
              "      <td>Министерство народного просвещения, в виду про...</td>\n",
              "      <td>Библиотека</td>\n",
              "      <td>Первая мировая</td>\n",
              "      <td>1914/09/16</td>\n",
              "    </tr>\n",
              "    <tr>\n",
              "      <th>2</th>\n",
              "      <td>https://lenta.ru/news/1914/09/17/nesteroff/</td>\n",
              "      <td>1914. Das ist Nesteroff!</td>\n",
              "      <td>Штабс-капитан П. Н. Нестеров на днях, увидев в...</td>\n",
              "      <td>Библиотека</td>\n",
              "      <td>Первая мировая</td>\n",
              "      <td>1914/09/17</td>\n",
              "    </tr>\n",
              "    <tr>\n",
              "      <th>3</th>\n",
              "      <td>https://lenta.ru/news/1914/09/17/bulldogn/</td>\n",
              "      <td>1914. Бульдог-гонец под Льежем</td>\n",
              "      <td>Фотограф-корреспондент Daily Mirror рассказыва...</td>\n",
              "      <td>Библиотека</td>\n",
              "      <td>Первая мировая</td>\n",
              "      <td>1914/09/17</td>\n",
              "    </tr>\n",
              "    <tr>\n",
              "      <th>4</th>\n",
              "      <td>https://lenta.ru/news/1914/09/18/zver/</td>\n",
              "      <td>1914. Под Люблином пойман швабский зверь</td>\n",
              "      <td>Лица, приехавшие в Варшаву из Люблина, передаю...</td>\n",
              "      <td>Библиотека</td>\n",
              "      <td>Первая мировая</td>\n",
              "      <td>1914/09/18</td>\n",
              "    </tr>\n",
              "  </tbody>\n",
              "</table>\n",
              "</div>"
            ],
            "text/plain": [
              "                                           url  ...        date\n",
              "0   https://lenta.ru/news/1914/09/16/hungarnn/  ...  1914/09/16\n",
              "1  https://lenta.ru/news/1914/09/16/lermontov/  ...  1914/09/16\n",
              "2  https://lenta.ru/news/1914/09/17/nesteroff/  ...  1914/09/17\n",
              "3   https://lenta.ru/news/1914/09/17/bulldogn/  ...  1914/09/17\n",
              "4       https://lenta.ru/news/1914/09/18/zver/  ...  1914/09/18\n",
              "\n",
              "[5 rows x 6 columns]"
            ]
          },
          "metadata": {
            "tags": []
          },
          "execution_count": 11
        }
      ]
    },
    {
      "cell_type": "code",
      "metadata": {
        "colab": {
          "base_uri": "https://localhost:8080/"
        },
        "id": "1DQurJOoTv5H",
        "outputId": "ebe00c53-727c-49c8-e768-2d2be9ae7f8e"
      },
      "source": [
        "corpora['text'].head()"
      ],
      "execution_count": null,
      "outputs": [
        {
          "output_type": "execute_result",
          "data": {
            "text/plain": [
              "0    Бои у Сопоцкина и Друскеник закончились отступ...\n",
              "1    Министерство народного просвещения, в виду про...\n",
              "2    Штабс-капитан П. Н. Нестеров на днях, увидев в...\n",
              "3    Фотограф-корреспондент Daily Mirror рассказыва...\n",
              "4    Лица, приехавшие в Варшаву из Люблина, передаю...\n",
              "Name: text, dtype: object"
            ]
          },
          "metadata": {
            "tags": []
          },
          "execution_count": 12
        }
      ]
    },
    {
      "cell_type": "code",
      "metadata": {
        "id": "GVcrViOPWcU9"
      },
      "source": [
        "import re"
      ],
      "execution_count": 12,
      "outputs": []
    },
    {
      "cell_type": "code",
      "metadata": {
        "colab": {
          "base_uri": "https://localhost:8080/"
        },
        "id": "zhTN8bdSUk29",
        "outputId": "88985f61-064e-4789-d46e-4468e459d97e"
      },
      "source": [
        "new_corpora = []\n",
        "for text in corpora['text']:\n",
        "  split_regex = re.compile(r'[.|!|?|…]')\n",
        "  sentences = filter(lambda t: t, [t.strip() for t in split_regex.split(str(text))])\n",
        "  for sentence in sentences:\n",
        "    new_corpora.append(sentence)\n",
        "print(len(new_corpora))"
      ],
      "execution_count": null,
      "outputs": [
        {
          "output_type": "stream",
          "text": [
            "9233828\n"
          ],
          "name": "stdout"
        }
      ]
    },
    {
      "cell_type": "code",
      "metadata": {
        "colab": {
          "base_uri": "https://localhost:8080/"
        },
        "id": "qUQbnlBEYEuB",
        "outputId": "75260817-bbe9-424f-d51e-ee12b94be080"
      },
      "source": [
        "new_corpora[0:10]"
      ],
      "execution_count": null,
      "outputs": [
        {
          "output_type": "execute_result",
          "data": {
            "text/plain": [
              "['Бои у Сопоцкина и Друскеник закончились отступлением германцев',\n",
              " 'Неприятель, приблизившись с севера к Осовцу начал артиллерийскую борьбу с крепостью',\n",
              " 'В артиллерийском бою принимают участие тяжелые калибры',\n",
              " 'С раннего утра 14 сентября огонь достиг значительного напряжения',\n",
              " 'Попытка германской пехоты пробиться ближе к крепости отражена',\n",
              " 'В Галиции мы заняли Дембицу',\n",
              " 'Большая колонна, отступавшая по шоссе от Перемышля к Саноку, обстреливалась с высот нашей батареей и бежала, бросив парки, обоз и автомобили',\n",
              " 'Вылазки гарнизона Перемышля остаются безуспешными',\n",
              " 'При продолжающемся отступлении австрийцев обнаруживается полное перемешивание их частей, захватываются новые партии пленных, орудия и прочая материальная часть',\n",
              " 'На перевале Ужок мы разбили неприятельский отряд, взяли его артиллерию и много пленных и, продолжая преследовать, вступили в пределы Венгрии']"
            ]
          },
          "metadata": {
            "tags": []
          },
          "execution_count": 15
        }
      ]
    },
    {
      "cell_type": "code",
      "metadata": {
        "colab": {
          "base_uri": "https://localhost:8080/"
        },
        "id": "bZAeU9qnqZOC",
        "outputId": "a2b83682-e09b-4632-ef24-a0ccdcf491ec"
      },
      "source": [
        "!pip install ufal.udpipe"
      ],
      "execution_count": null,
      "outputs": [
        {
          "output_type": "stream",
          "text": [
            "Collecting ufal.udpipe\n",
            "\u001b[?25l  Downloading https://files.pythonhosted.org/packages/e5/72/2b8b9dc7c80017c790bb3308bbad34b57accfed2ac2f1f4ab252ff4e9cb2/ufal.udpipe-1.2.0.3.tar.gz (304kB)\n",
            "\r\u001b[K     |█                               | 10kB 14.3MB/s eta 0:00:01\r\u001b[K     |██▏                             | 20kB 14.5MB/s eta 0:00:01\r\u001b[K     |███▎                            | 30kB 10.2MB/s eta 0:00:01\r\u001b[K     |████▎                           | 40kB 8.8MB/s eta 0:00:01\r\u001b[K     |█████▍                          | 51kB 5.6MB/s eta 0:00:01\r\u001b[K     |██████▌                         | 61kB 6.1MB/s eta 0:00:01\r\u001b[K     |███████▌                        | 71kB 6.2MB/s eta 0:00:01\r\u001b[K     |████████▋                       | 81kB 6.9MB/s eta 0:00:01\r\u001b[K     |█████████▊                      | 92kB 6.3MB/s eta 0:00:01\r\u001b[K     |██████████▊                     | 102kB 5.4MB/s eta 0:00:01\r\u001b[K     |███████████▉                    | 112kB 5.4MB/s eta 0:00:01\r\u001b[K     |█████████████                   | 122kB 5.4MB/s eta 0:00:01\r\u001b[K     |██████████████                  | 133kB 5.4MB/s eta 0:00:01\r\u001b[K     |███████████████                 | 143kB 5.4MB/s eta 0:00:01\r\u001b[K     |████████████████▏               | 153kB 5.4MB/s eta 0:00:01\r\u001b[K     |█████████████████▎              | 163kB 5.4MB/s eta 0:00:01\r\u001b[K     |██████████████████▎             | 174kB 5.4MB/s eta 0:00:01\r\u001b[K     |███████████████████▍            | 184kB 5.4MB/s eta 0:00:01\r\u001b[K     |████████████████████▌           | 194kB 5.4MB/s eta 0:00:01\r\u001b[K     |█████████████████████▌          | 204kB 5.4MB/s eta 0:00:01\r\u001b[K     |██████████████████████▋         | 215kB 5.4MB/s eta 0:00:01\r\u001b[K     |███████████████████████▊        | 225kB 5.4MB/s eta 0:00:01\r\u001b[K     |████████████████████████▉       | 235kB 5.4MB/s eta 0:00:01\r\u001b[K     |█████████████████████████▉      | 245kB 5.4MB/s eta 0:00:01\r\u001b[K     |███████████████████████████     | 256kB 5.4MB/s eta 0:00:01\r\u001b[K     |████████████████████████████    | 266kB 5.4MB/s eta 0:00:01\r\u001b[K     |█████████████████████████████   | 276kB 5.4MB/s eta 0:00:01\r\u001b[K     |██████████████████████████████▏ | 286kB 5.4MB/s eta 0:00:01\r\u001b[K     |███████████████████████████████▎| 296kB 5.4MB/s eta 0:00:01\r\u001b[K     |████████████████████████████████| 307kB 5.4MB/s \n",
            "\u001b[?25hBuilding wheels for collected packages: ufal.udpipe\n",
            "  Building wheel for ufal.udpipe (setup.py) ... \u001b[?25l\u001b[?25hdone\n",
            "  Created wheel for ufal.udpipe: filename=ufal.udpipe-1.2.0.3-cp37-cp37m-linux_x86_64.whl size=5626592 sha256=a0300cbf720059dc2d357626a385da73c9b2abf4f4db86332c9707fa55989443\n",
            "  Stored in directory: /root/.cache/pip/wheels/0c/9d/db/6d3404c33da5b7adb6c6972853efb6a27649d3ba15f7e9bebb\n",
            "Successfully built ufal.udpipe\n",
            "Installing collected packages: ufal.udpipe\n",
            "Successfully installed ufal.udpipe-1.2.0.3\n"
          ],
          "name": "stdout"
        }
      ]
    },
    {
      "cell_type": "code",
      "metadata": {
        "colab": {
          "base_uri": "https://localhost:8080/"
        },
        "id": "x70ogR4Qxn7K",
        "outputId": "9e455223-55a5-4621-828e-f71c5565dce2"
      },
      "source": [
        "!pip install wget"
      ],
      "execution_count": null,
      "outputs": [
        {
          "output_type": "stream",
          "text": [
            "Collecting wget\n",
            "  Downloading https://files.pythonhosted.org/packages/47/6a/62e288da7bcda82b935ff0c6cfe542970f04e29c756b0e147251b2fb251f/wget-3.2.zip\n",
            "Building wheels for collected packages: wget\n",
            "  Building wheel for wget (setup.py) ... \u001b[?25l\u001b[?25hdone\n",
            "  Created wheel for wget: filename=wget-3.2-cp37-none-any.whl size=9681 sha256=42cd3ccdf51b5f9f75ad3f307f35f08ad26da582a06a120329a7bb35e46fcdf5\n",
            "  Stored in directory: /root/.cache/pip/wheels/40/15/30/7d8f7cea2902b4db79e3fea550d7d7b85ecb27ef992b618f3f\n",
            "Successfully built wget\n",
            "Installing collected packages: wget\n",
            "Successfully installed wget-3.2\n"
          ],
          "name": "stdout"
        }
      ]
    },
    {
      "cell_type": "code",
      "metadata": {
        "id": "Gh4aDZpixwka"
      },
      "source": [
        "import wget\n",
        "import sys\n",
        "udpipe_url = 'https://rusvectores.org/static/models/udpipe_syntagrus.model'\n",
        "modelfile = wget.download(udpipe_url)"
      ],
      "execution_count": null,
      "outputs": []
    },
    {
      "cell_type": "code",
      "metadata": {
        "id": "UYJ2SPs5yQ_N"
      },
      "source": [
        "def process(pipeline, text='Строка', keep_pos=True, keep_punct=False):\n",
        "   entities = {'PROPN'}\n",
        "   named = False  # переменная для запоминания того, что нам встретилось имя собственное\n",
        "   memory = []\n",
        "   mem_case = None\n",
        "   mem_number = None\n",
        "   tagged_propn = []\n",
        "# обрабатываем текст, получаем результат в формате conllu:\n",
        "   processed = pipeline.process(text)\n",
        "# пропускаем строки со служебной информацией:\n",
        "   content = [l for l in processed.split('\\n') if not l.startswith('#')]\n",
        "# извлекаем из обработанного текста леммы, тэги и морфологические характеристики\n",
        "   tagged = [w.split('\\t') for w in content if w]\n",
        "   for t in tagged:\n",
        "       if len(t) != 10: # если список короткий — строчка не содержит разбора, пропускаем\n",
        "           continue\n",
        "       (word_id,token,lemma,pos,xpos,feats,head,deprel,deps,misc) = t \n",
        "       if not lemma or not token: # если слово пустое — пропускаем\n",
        "           continue\n",
        "       if pos in entities: # здесь отдельно обрабатываем имена собственные — они требуют особого обращения\n",
        "           if '|' not in feats:\n",
        "               tagged_propn.append('%s_%s_%s_%s_%s_%s' % (word_id, token, lemma, pos, head, deprel))\n",
        "               continue\n",
        "           morph = {el.split('=')[0]: el.split('=')[1] for el in feats.split('|')}\n",
        "           if 'Case' not in morph or 'Number' not in morph:\n",
        "               tagged_propn.append('%s_%s_%s_%s_%s_%s' % (word_id, token, lemma, pos, head, deprel))\n",
        "               continue\n",
        "           if not named:\n",
        "               named = True\n",
        "               mem_case = morph['Case']\n",
        "               mem_number = morph['Number']\n",
        "           if morph['Case'] == mem_case and morph['Number'] == mem_number:\n",
        "               memory.append(lemma)\n",
        "               if 'SpacesAfter=\\\\n' in misc or 'SpacesAfter=\\s\\\\n' in misc:\n",
        "                   named = False\n",
        "                   past_lemma = '::'.join(memory)\n",
        "                   memory = []\n",
        "                   tagged_propn.append(past_lemma + '_PROPN ')\n",
        "           else:\n",
        "               named = False\n",
        "               past_lemma = '::'.join(memory)\n",
        "               memory = []\n",
        "               tagged_propn.append(past_lemma + '_PROPN ')\n",
        "               tagged_propn.append('%s_%s_%s_%s_%s_%s' % (word_id, token, lemma, pos, head, deprel))\n",
        "       else:\n",
        "           if not named:\n",
        "               tagged_propn.append('%s_%s_%s_%s_%s_%s' % (word_id, token, lemma, pos, head, deprel))\n",
        "           else:\n",
        "               named = False\n",
        "               past_lemma = '::'.join(memory)\n",
        "               memory = []\n",
        "               tagged_propn.append(past_lemma + '_PROPN ')\n",
        "               tagged_propn.append('%s_%s_%s_%s_%s_%s' % (word_id, token, lemma, pos, head, deprel))\n",
        "   if not keep_punct: # обрабатываем случай, когда пользователь попросил не сохранять пунктуацию (по умолчанию она сохраняется)\n",
        "       tagged_propn = [word for word in tagged_propn if word.split('_')[1] != 'PUNCT']\n",
        "   if not keep_pos:\n",
        "       tagged_propn = [word.split('_')[0] for word in tagged_propn]\n",
        "   return tagged_propn"
      ],
      "execution_count": null,
      "outputs": []
    },
    {
      "cell_type": "code",
      "metadata": {
        "id": "rhBa9_Xozs02",
        "colab": {
          "base_uri": "https://localhost:8080/",
          "height": 350
        },
        "outputId": "7b9797e5-d8c8-46fc-e438-b36dcd248cc8"
      },
      "source": [
        "from ufal.udpipe import Model, Pipeline\n",
        "import os\n",
        "import re\n",
        "def tag_ud(text='Текст нужно передать функции в виде строки!', modelfile='udpipe_syntagrus.model'):\n",
        "   udpipe_model_url = 'https://rusvectores.org/static/models/udpipe_syntagrus.model'\n",
        "   udpipe_filename = udpipe_model_url.split('/')[-1]\n",
        "   if not os.path.isfile(modelfile):\n",
        "       print('UDPipe model not found. Downloading...', file=sys.stderr)\n",
        "       wget.download(udpipe_model_url)\n",
        "   #print('\\nLoading the model...', file=sys.stderr)\n",
        "   model = Model.load(modelfile)\n",
        "   process_pipeline = Pipeline(model, 'tokenize', Pipeline.DEFAULT, Pipeline.DEFAULT, 'conllu')\n",
        "   #print('Processing input...', file=sys.stderr)\n",
        "   lines = text.split('\\n')\n",
        "   tagged = []\n",
        "   for line in lines:\n",
        "# line = unify_sym(line.strip()) # здесь могла бы быть ваша функция очистки текста\n",
        "       output = process(process_pipeline, text=line)\n",
        "       tagged_line = ' '.join(output)\n",
        "       tagged.append(tagged_line)\n",
        "   return '\\n'.join(tagged)\n",
        "text = new_corpora[38667:40000]\n",
        "for sentence in text:\n",
        "   processed_text = tag_ud(text=sentence, modelfile=modelfile)\n",
        "   #print(processed_text[:350])\n",
        "   with open('my_text.txt', 'a', encoding='utf-8') as out:\n",
        "       out.write(processed_text + '\\n')"
      ],
      "execution_count": null,
      "outputs": [
        {
          "output_type": "error",
          "ename": "KeyboardInterrupt",
          "evalue": "ignored",
          "traceback": [
            "\u001b[0;31m---------------------------------------------------------------------------\u001b[0m",
            "\u001b[0;31mKeyboardInterrupt\u001b[0m                         Traceback (most recent call last)",
            "\u001b[0;32m<ipython-input-22-25222b1f6744>\u001b[0m in \u001b[0;36m<module>\u001b[0;34m()\u001b[0m\n\u001b[1;32m     22\u001b[0m \u001b[0mtext\u001b[0m \u001b[0;34m=\u001b[0m \u001b[0mnew_corpora\u001b[0m\u001b[0;34m[\u001b[0m\u001b[0;36m33528\u001b[0m\u001b[0;34m:\u001b[0m\u001b[0;36m40000\u001b[0m\u001b[0;34m]\u001b[0m\u001b[0;34m\u001b[0m\u001b[0;34m\u001b[0m\u001b[0m\n\u001b[1;32m     23\u001b[0m \u001b[0;32mfor\u001b[0m \u001b[0msentence\u001b[0m \u001b[0;32min\u001b[0m \u001b[0mtext\u001b[0m\u001b[0;34m:\u001b[0m\u001b[0;34m\u001b[0m\u001b[0;34m\u001b[0m\u001b[0m\n\u001b[0;32m---> 24\u001b[0;31m    \u001b[0mprocessed_text\u001b[0m \u001b[0;34m=\u001b[0m \u001b[0mtag_ud\u001b[0m\u001b[0;34m(\u001b[0m\u001b[0mtext\u001b[0m\u001b[0;34m=\u001b[0m\u001b[0msentence\u001b[0m\u001b[0;34m,\u001b[0m \u001b[0mmodelfile\u001b[0m\u001b[0;34m=\u001b[0m\u001b[0mmodelfile\u001b[0m\u001b[0;34m)\u001b[0m\u001b[0;34m\u001b[0m\u001b[0;34m\u001b[0m\u001b[0m\n\u001b[0m\u001b[1;32m     25\u001b[0m    \u001b[0;31m#print(processed_text[:350])\u001b[0m\u001b[0;34m\u001b[0m\u001b[0;34m\u001b[0m\u001b[0;34m\u001b[0m\u001b[0m\n\u001b[1;32m     26\u001b[0m    \u001b[0;32mwith\u001b[0m \u001b[0mopen\u001b[0m\u001b[0;34m(\u001b[0m\u001b[0;34m'my_text.txt'\u001b[0m\u001b[0;34m,\u001b[0m \u001b[0;34m'a'\u001b[0m\u001b[0;34m,\u001b[0m \u001b[0mencoding\u001b[0m\u001b[0;34m=\u001b[0m\u001b[0;34m'utf-8'\u001b[0m\u001b[0;34m)\u001b[0m \u001b[0;32mas\u001b[0m \u001b[0mout\u001b[0m\u001b[0;34m:\u001b[0m\u001b[0;34m\u001b[0m\u001b[0;34m\u001b[0m\u001b[0m\n",
            "\u001b[0;32m<ipython-input-22-25222b1f6744>\u001b[0m in \u001b[0;36mtag_ud\u001b[0;34m(text, modelfile)\u001b[0m\n\u001b[1;32m      9\u001b[0m        \u001b[0mwget\u001b[0m\u001b[0;34m.\u001b[0m\u001b[0mdownload\u001b[0m\u001b[0;34m(\u001b[0m\u001b[0mudpipe_model_url\u001b[0m\u001b[0;34m)\u001b[0m\u001b[0;34m\u001b[0m\u001b[0;34m\u001b[0m\u001b[0m\n\u001b[1;32m     10\u001b[0m    \u001b[0;31m#print('\\nLoading the model...', file=sys.stderr)\u001b[0m\u001b[0;34m\u001b[0m\u001b[0;34m\u001b[0m\u001b[0;34m\u001b[0m\u001b[0m\n\u001b[0;32m---> 11\u001b[0;31m    \u001b[0mmodel\u001b[0m \u001b[0;34m=\u001b[0m \u001b[0mModel\u001b[0m\u001b[0;34m.\u001b[0m\u001b[0mload\u001b[0m\u001b[0;34m(\u001b[0m\u001b[0mmodelfile\u001b[0m\u001b[0;34m)\u001b[0m\u001b[0;34m\u001b[0m\u001b[0;34m\u001b[0m\u001b[0m\n\u001b[0m\u001b[1;32m     12\u001b[0m    \u001b[0mprocess_pipeline\u001b[0m \u001b[0;34m=\u001b[0m \u001b[0mPipeline\u001b[0m\u001b[0;34m(\u001b[0m\u001b[0mmodel\u001b[0m\u001b[0;34m,\u001b[0m \u001b[0;34m'tokenize'\u001b[0m\u001b[0;34m,\u001b[0m \u001b[0mPipeline\u001b[0m\u001b[0;34m.\u001b[0m\u001b[0mDEFAULT\u001b[0m\u001b[0;34m,\u001b[0m \u001b[0mPipeline\u001b[0m\u001b[0;34m.\u001b[0m\u001b[0mDEFAULT\u001b[0m\u001b[0;34m,\u001b[0m \u001b[0;34m'conllu'\u001b[0m\u001b[0;34m)\u001b[0m\u001b[0;34m\u001b[0m\u001b[0;34m\u001b[0m\u001b[0m\n\u001b[1;32m     13\u001b[0m    \u001b[0;31m#print('Processing input...', file=sys.stderr)\u001b[0m\u001b[0;34m\u001b[0m\u001b[0;34m\u001b[0m\u001b[0;34m\u001b[0m\u001b[0m\n",
            "\u001b[0;31mKeyboardInterrupt\u001b[0m: "
          ]
        }
      ]
    },
    {
      "cell_type": "code",
      "metadata": {
        "id": "NGbS5w8jaE_r"
      },
      "source": [
        "import nltk"
      ],
      "execution_count": 1,
      "outputs": []
    },
    {
      "cell_type": "code",
      "metadata": {
        "id": "di7f3w9ZatJw",
        "colab": {
          "base_uri": "https://localhost:8080/"
        },
        "outputId": "10af2150-8b12-42fa-e30a-ceb7c6a9bc56"
      },
      "source": [
        "nltk.download('punkt')"
      ],
      "execution_count": 2,
      "outputs": [
        {
          "output_type": "stream",
          "text": [
            "[nltk_data] Downloading package punkt to /root/nltk_data...\n",
            "[nltk_data]   Unzipping tokenizers/punkt.zip.\n"
          ],
          "name": "stdout"
        },
        {
          "output_type": "execute_result",
          "data": {
            "text/plain": [
              "True"
            ]
          },
          "metadata": {
            "tags": []
          },
          "execution_count": 2
        }
      ]
    },
    {
      "cell_type": "code",
      "metadata": {
        "id": "EQO9mUQhkSre"
      },
      "source": [
        " new_corpora = open(\"my_text (9).txt\", encoding=\"UTF-8\", errors='ignore')"
      ],
      "execution_count": 4,
      "outputs": []
    },
    {
      "cell_type": "code",
      "metadata": {
        "id": "szLXqVvzaIg7"
      },
      "source": [
        "tokens=[]\n",
        "for sentence in new_corpora:\n",
        "  tokens.append(nltk.word_tokenize(sentence))"
      ],
      "execution_count": 5,
      "outputs": []
    },
    {
      "cell_type": "code",
      "metadata": {
        "id": "d0I63eV-eAeS",
        "colab": {
          "base_uri": "https://localhost:8080/"
        },
        "outputId": "c991dd42-fc37-4043-bbee-00fc609155a9"
      },
      "source": [
        "tokens[0:10]"
      ],
      "execution_count": 6,
      "outputs": [
        {
          "output_type": "execute_result",
          "data": {
            "text/plain": [
              "[['1_Бои_бой_NOUN_6_nsubj',\n",
              "  '2_у_в_ADP_3_case',\n",
              "  'Сопоцкин_PROPN',\n",
              "  '4_и_и_CCONJ_5_cc',\n",
              "  'Друскеник_PROPN',\n",
              "  '6_закончились_заканчиваться_VERB_0_root',\n",
              "  '7_отступлением_отступление_NOUN_6_obl',\n",
              "  '8_германцев_германец_NOUN_7_nmod'],\n",
              " ['1_Неприятель_неприятель_NOUN_8_nsubj',\n",
              "  '2_',\n",
              "  ',',\n",
              "  '_',\n",
              "  ',',\n",
              "  '_PUNCT_1_punct',\n",
              "  '3_приблизившись_приближаться_VERB_8_advcl',\n",
              "  '4_с_с_ADP_5_case',\n",
              "  '5_севера_север_NOUN_3_obl',\n",
              "  '6_к_к_ADP_7_case',\n",
              "  'Осовц_PROPN',\n",
              "  '8_начал_начинать_VERB_0_root',\n",
              "  '9_артиллерийскую_артиллерийский_ADJ_10_amod',\n",
              "  '10_борьбу_борьба_NOUN_8_obj',\n",
              "  '11_с_с_ADP_12_case',\n",
              "  '12_крепостью_крепость_NOUN_10_nmod'],\n",
              " ['1_В_в_ADP_3_case',\n",
              "  '2_артиллерийском_артиллерийский_ADJ_3_amod',\n",
              "  '3_бою_бой_NOUN_4_obl',\n",
              "  '4_принимают_принимать_VERB_0_root',\n",
              "  '5_участие_участие_NOUN_4_obj',\n",
              "  '6_тяжелые_тяжелый_ADJ_7_amod',\n",
              "  '7_калибры_калибр_NOUN_5_obj'],\n",
              " ['1_С_с_ADP_3_case',\n",
              "  '2_раннего_ранний_ADJ_3_amod',\n",
              "  '3_утра_утро_NOUN_7_obl',\n",
              "  '4_14_14_NUM_7_nummod',\n",
              "  '5_сентября_сентябрь_NOUN_4_flat',\n",
              "  '6_огонь_огонь_NOUN_7_nsubj',\n",
              "  '7_достиг_достигать_VERB_0_root',\n",
              "  '8_значительного_значительный_ADJ_9_amod',\n",
              "  '9_напряжения_напряжение_NOUN_7_obl'],\n",
              " ['попытка_PROPN',\n",
              "  '2_германской_германский_ADJ_3_amod',\n",
              "  '3_пехоты_пехота_NOUN_1_nmod',\n",
              "  '4_пробиться_пробиваться_VERB_1_obl',\n",
              "  '5_ближе_близко_ADJ_4_obl',\n",
              "  '6_к_к_ADP_7_case',\n",
              "  '7_крепости_крепость_NOUN_5_obl',\n",
              "  '8_отражена_отражать_VERB_0_root'],\n",
              " ['1_В_в_ADP_2_case',\n",
              "  'галиция_PROPN',\n",
              "  '3_мы_мы_PRON_4_nsubj',\n",
              "  '4_заняли_занимать_VERB_0_root',\n",
              "  'Дембиц_PROPN'],\n",
              " ['1_Большая_большой_ADJ_2_amod',\n",
              "  '2_колонна_колонна_NOUN_12_nsubj',\n",
              "  '3_',\n",
              "  ',',\n",
              "  '_',\n",
              "  ',',\n",
              "  '_PUNCT_2_punct',\n",
              "  '4_отступавшая_отступать_VERB_2_acl',\n",
              "  '5_по_по_ADP_6_case',\n",
              "  '6_шоссе_шоссе_NOUN_4_obl',\n",
              "  '7_от_от_ADP_8_case',\n",
              "  'перемышль_PROPN',\n",
              "  '9_к_к_ADP_10_case',\n",
              "  'Санок_PROPN',\n",
              "  '11_',\n",
              "  ',',\n",
              "  '_',\n",
              "  ',',\n",
              "  '_PUNCT_10_punct',\n",
              "  '12_обстреливалась_обстреливаться_VERB_0_root',\n",
              "  '13_с_с_ADP_14_case',\n",
              "  '14_высот_высота_NOUN_12_obl',\n",
              "  '15_нашей_наш_DET_16_det',\n",
              "  '16_батареей_батарея_NOUN_14_nmod',\n",
              "  '17_и_и_CCONJ_18_cc',\n",
              "  '18_бежала_бежать_VERB_12_conj',\n",
              "  '19_',\n",
              "  ',',\n",
              "  '_',\n",
              "  ',',\n",
              "  '_PUNCT_18_punct',\n",
              "  '20_бросив_бросить_VERB_18_advcl',\n",
              "  '21_парки_парк_NOUN_20_obj',\n",
              "  '22_',\n",
              "  ',',\n",
              "  '_',\n",
              "  ',',\n",
              "  '_PUNCT_21_punct',\n",
              "  '23_обоз_обоз_NOUN_21_conj',\n",
              "  '24_и_и_CCONJ_25_cc',\n",
              "  '25_автомобили_автомобиль_NOUN_21_conj'],\n",
              " ['1_Вылазки_вылазка_NOUN_4_nsubj',\n",
              "  '2_гарнизона_гарнизон_NOUN_1_nmod',\n",
              "  'перемышль_PROPN',\n",
              "  '4_остаются_оставаться_VERB_0_root',\n",
              "  '5_безуспешными_безуспешный_ADJ_4_obl'],\n",
              " ['1_При_при_ADP_3_case',\n",
              "  '2_продолжающемся_продолжающться_VERB_3_amod',\n",
              "  '3_отступлении_отступление_NOUN_5_obl',\n",
              "  '4_австрийцев_австриец_NOUN_3_nmod',\n",
              "  '5_обнаруживается_обнаруживать_VERB_0_root',\n",
              "  '6_полное_полный_ADJ_7_amod',\n",
              "  '7_перемешивание_перемешивание_NOUN_5_nsubj',\n",
              "  '8_их_они_PRON_9_nmod',\n",
              "  '9_частей_часть_NOUN_7_nmod',\n",
              "  '10_',\n",
              "  ',',\n",
              "  '_',\n",
              "  ',',\n",
              "  '_PUNCT_9_punct',\n",
              "  '11_захватываются_захватывать_VERB_5_conj',\n",
              "  '12_новые_новый_ADJ_13_amod',\n",
              "  '13_партии_партия_NOUN_11_nsubj',\n",
              "  ':',\n",
              "  'pass',\n",
              "  '14_пленных_пленный_NOUN_13_nmod',\n",
              "  '15_',\n",
              "  ',',\n",
              "  '_',\n",
              "  ',',\n",
              "  '_PUNCT_14_punct',\n",
              "  '16_орудия_орудие_NOUN_13_conj',\n",
              "  '17_и_и_CCONJ_20_cc',\n",
              "  '18_прочая_прочий_ADJ_20_amod',\n",
              "  '19_материальная_материальный_ADJ_20_amod',\n",
              "  '20_часть_часть_NOUN_13_conj'],\n",
              " ['1_На_на_ADP_2_case',\n",
              "  '2_перевале_перевал_NOUN_5_obl',\n",
              "  'Ужок_PROPN',\n",
              "  '4_мы_мы_PRON_5_nsubj',\n",
              "  '5_разбили_разбивать_VERB_0_root',\n",
              "  '6_неприятельский_неприятельский_ADJ_7_amod',\n",
              "  '7_отряд_отряд_NOUN_5_obj',\n",
              "  '8_',\n",
              "  ',',\n",
              "  '_',\n",
              "  ',',\n",
              "  '_PUNCT_7_punct',\n",
              "  '9_взяли_брать_VERB_5_conj',\n",
              "  '10_его_он_PRON_11_nmod',\n",
              "  '11_артиллерию_артиллерия_NOUN_9_obj',\n",
              "  '12_и_и_CCONJ_13_cc',\n",
              "  '13_много_много_ADV_5_conj',\n",
              "  '14_пленных_пленный_ADJ_13_obl',\n",
              "  '15_и_и_CCONJ_20_cc',\n",
              "  '16_',\n",
              "  ',',\n",
              "  '_',\n",
              "  ',',\n",
              "  '_PUNCT_15_punct',\n",
              "  '17_продолжая_продолжать_VERB_20_advcl',\n",
              "  '18_преследовать_преследовать_VERB_17_xcomp',\n",
              "  '19_',\n",
              "  ',',\n",
              "  '_',\n",
              "  ',',\n",
              "  '_PUNCT_18_punct',\n",
              "  '20_вступили_вступать_VERB_13_conj',\n",
              "  '21_в_в_ADP_22_case',\n",
              "  '22_пределы_предел_NOUN_20_obl',\n",
              "  'венгрия_PROPN']]"
            ]
          },
          "metadata": {
            "tags": []
          },
          "execution_count": 6
        }
      ]
    },
    {
      "cell_type": "code",
      "metadata": {
        "id": "-ml532Zfg9I1",
        "colab": {
          "base_uri": "https://localhost:8080/"
        },
        "outputId": "a70cab36-c002-4d7e-82b0-b4269e3e7430"
      },
      "source": [
        "law_corpora=[]\n",
        "for sentence in tokens:\n",
        "  for token in sentence:\n",
        "    if \"_судья_\" in token:\n",
        "      if sentence not in law_corpora:\n",
        "        law_corpora.append(sentence)\n",
        "    elif \"_адвокат_\" in token:\n",
        "      if sentence not in law_corpora:\n",
        "        law_corpora.append(sentence)\n",
        "    elif \"_прокурор_\" in token:\n",
        "      if sentence not in law_corpora:\n",
        "        law_corpora.append(sentence)\n",
        "    else:\n",
        "      pass\n",
        "print(len(law_corpora))"
      ],
      "execution_count": 8,
      "outputs": [
        {
          "output_type": "stream",
          "text": [
            "2602\n"
          ],
          "name": "stdout"
        }
      ]
    },
    {
      "cell_type": "code",
      "metadata": {
        "id": "80Rh5PVLh4JQ",
        "colab": {
          "base_uri": "https://localhost:8080/"
        },
        "outputId": "334d01a5-77bf-4520-c5d7-299f0c5a6674"
      },
      "source": [
        "law_corpora[0:10]"
      ],
      "execution_count": 26,
      "outputs": [
        {
          "output_type": "execute_result",
          "data": {
            "text/plain": [
              "[['1_Швейцарский_швейцарский_ADJ_3_amod',\n",
              "  '2_федеральный_федеральный_ADJ_3_amod',\n",
              "  '3_прокурор_прокурор_NOUN_7_nsubj',\n",
              "  '5_дель_дель_PART_7_advmod',\n",
              "  '6_Понти_Понти_NUM_5_nummod',\n",
              "  '7_заявила_заявлять_VERB_0_root',\n",
              "  '9_что_что_SCONJ_11_mark',\n",
              "  '11_работал_работать_VERB_7_ccomp',\n",
              "  '12_на_на_ADP_13_case',\n",
              "  '13_шефа_шеф_NOUN_11_obl',\n",
              "  '14_разведывательной_разведывательный_ADJ_15_amod',\n",
              "  '15_службы_служба_NOUN_13_nmod',\n",
              "  '18_и_и_CCONJ_19_cc',\n",
              "  '19_получил_получать_VERB_11_conj',\n",
              "  '20_5,8_5,8_NUM_21_nummod',\n",
              "  '21_миллионов_миллион_NOUN_19_obl',\n",
              "  '22_долларов_доллар_NOUN_21_nmod',\n",
              "  '23_от_от_ADP_24_case',\n",
              "  '24_министерства_министерство_NOUN_19_obl',\n",
              "  '25_обороны_оборона_NOUN_24_nmod',\n",
              "  '26_для_для_ADP_27_case',\n",
              "  '27_покупки_покупка_NOUN_24_nmod',\n",
              "  '28_огромного_огромный_ADJ_29_amod',\n",
              "  '29_количества_количество_NOUN_27_nmod',\n",
              "  '30_оружия_оружие_NOUN_29_nmod'],\n",
              " ['1_Адвокат_адвокат_NOUN_5_nsubj',\n",
              "  '4_Седу_Сед_PROPN_3_flat',\n",
              "  'name',\n",
              "  '5_заявил_заявлять_VERB_0_root',\n",
              "  '7_что_что_SCONJ_10_mark',\n",
              "  '8_его_он_PRON_9_nmod',\n",
              "  '9_клиент_клиент_NOUN_10_nsubj',\n",
              "  '10_отверг_отвергать_VERB_5_ccomp',\n",
              "  '11_эти_этот_DET_12_det',\n",
              "  '12_обвинения_обвинение_NOUN_10_obj'],\n",
              " ['2_дель_дель_PART_3_advmod',\n",
              "  '3_Понти_Понти_NUM_1_nummod',\n",
              "  '5_недавно_недавно_ADV_6_advmod',\n",
              "  '6_ставшая_становиться_VERB_1_acl',\n",
              "  '7_прокурором_прокурор_NOUN_6_obl',\n",
              "  '8_Международного_международный_ADJ_9_amod',\n",
              "  '11_по_по_ADP_13_case',\n",
              "  '12_военным_военный_ADJ_13_amod',\n",
              "  '13_преступлениям_преступление_NOUN_9_nmod',\n",
              "  '15_заявила_заявлять_VERB_26_nsubj',\n",
              "  '16_',\n",
              "  '17_что_что_SCONJ_20_mark',\n",
              "  '18_дело_дело_NOUN_20_nsubj',\n",
              "  '19_против_против_ADP_20_case',\n",
              "  '21_и_и_CCONJ_25_cc',\n",
              "  '22_еще_еще_ADV_23_advmod',\n",
              "  '23_троих_трое_NUM_25_nummod',\n",
              "  'gov',\n",
              "  '24_высокопоставленных_высокопоставленный_ADJ_25_amod',\n",
              "  '25_чиновников_чиновник_NOUN_20_conj',\n",
              "  '26_закрыто_закрывать_VERB_0_root'],\n",
              " ['1_Федеральный_федеральный_ADJ_2_amod',\n",
              "  '2_прокурор_прокурор_NOUN_3_nsubj',\n",
              "  '3_добавила_добавлять_VERB_0_root',\n",
              "  '5_что_что_SCONJ_8_mark',\n",
              "  '6_расследование_расследование_NOUN_8_nsubj',\n",
              "  '7_будет_быть_AUX_8_aux',\n",
              "  '8_продолжено_продолжить_VERB_3_ccomp',\n",
              "  '9_в_в_ADP_11_case',\n",
              "  '10_отношении_отношение_NOUN_9_fixed',\n",
              "  '14_шефа_шеф_NOUN_11_conj',\n",
              "  '15_стратегической_стратегический_ADJ_17_amod',\n",
              "  '16_информационной_информационный_ADJ_17_amod',\n",
              "  '17_службы_служба_NOUN_14_nmod',\n",
              "  '19_которая_который_PRON_20_nsubj',\n",
              "  '20_возникла_возникать_VERB_17_acl',\n",
              "  'relcl',\n",
              "  '21_в_в_ADP_22_case',\n",
              "  '22_документах_документ_NOUN_20_obl',\n",
              "  '23_по_по_ADP_24_case',\n",
              "  '24_делу_дело_NOUN_22_nmod'],\n",
              " ['1_Бывший_бывший_ADJ_3_amod',\n",
              "  '2_генеральный_генеральный_ADJ_3_amod',\n",
              "  '3_прокурор_прокурор_NOUN_7_nsubj',\n",
              "  '5_Юрий_юрий_PROPN_3_appos',\n",
              "  '7_считает_считать_VERB_0_root',\n",
              "  '9_что_что_SCONJ_15_mark',\n",
              "  '10_ближайшее_близкий_ADJ_11_amod',\n",
              "  '11_окружение_окружение_NOUN_15_nsubj',\n",
              "  '12_президента_президент_NOUN_11_nmod',\n",
              "  '15_попытается_пытаться_VERB_7_ccomp',\n",
              "  '16_воспрепятствовать_препятствовать_VERB_15_xcomp',\n",
              "  '17_серьезному_серьезный_ADJ_18_amod',\n",
              "  '18_расследованию_расследование_NOUN_16_iobj',\n",
              "  '19_ситуации_ситуация_NOUN_18_nmod',\n",
              "  '21_связанной_связывать_VERB_19_acl',\n",
              "  '22_с_с_ADP_23_case',\n",
              "  '23_Bank_bank_PROPN_21_flat',\n",
              "  '24_of_of_X_23_flat',\n",
              "  '25_New_new_PROPN_24_flat',\n",
              "  '26_York_york_PROPN_25_flat',\n",
              "  '27_',\n",
              "  '28_через_через_ADP_29_case',\n",
              "  '29_который_который_PRON_30_obl',\n",
              "  '30_отмывались_отмываться_VERB_21_acl',\n",
              "  'relcl',\n",
              "  '31_деньги_деньги_NOUN_30_nsubj',\n",
              "  '33_полученные_получать_VERB_31_acl',\n",
              "  '34_от_от_ADP_35_case'],\n",
              " ['1_Мои_мой_DET_2_det',\n",
              "  '2_адвокаты_адвокат_NOUN_3_nsubj',\n",
              "  '3_изучают_изучать_VERB_0_root',\n",
              "  '4_документы_документ_NOUN_3_obj',\n",
              "  '6_чтобы_чтобы_SCONJ_7_mark',\n",
              "  '7_обратиться_обращаться_VERB_3_advcl',\n",
              "  '8_в_в_ADP_9_case',\n",
              "  '9_суд_суд_NOUN_7_obl'],\n",
              " ['1_Сумма_сумма_NOUN_8_nsubj',\n",
              "  '2_возмещения_возмещение_NOUN_1_nmod',\n",
              "  '3_ущерба_ущерб_NOUN_2_nmod',\n",
              "  '4_по_по_ADP_5_case',\n",
              "  '5_искам_иск_NOUN_3_nmod',\n",
              "  '6_в_в_ADP_7_case',\n",
              "  '7_настоящее_настоящий_ADJ_3_obl',\n",
              "  '8_времяопределяется_времяопределяться_VERB_0_root',\n",
              "  '9_адвокатами_адвокат_NOUN_8_obl',\n",
              "  '10_и_и_CCONJ_11_cc',\n",
              "  '11_юристами_юрист_NOUN_9_conj',\n",
              "  '13_занимающимися_заниматься_VERB_15_amod',\n",
              "  '14_подготовкойисковых_подготовкойисковый_ADJ_15_amod',\n",
              "  '15_заявлений_заявление_NOUN_9_conj'],\n",
              " ['1_Но_но_CCONJ_6_cc',\n",
              "  '2_окружной_окружной_ADJ_3_amod',\n",
              "  '3_судья_судья_NOUN_6_nsubj',\n",
              "  '6_решила_решать_VERB_0_root',\n",
              "  '7_дело_дело_NOUN_6_obj',\n",
              "  '8_в_в_ADP_9_case',\n",
              "  '9_пользу_польза_NOUN_6_obl',\n",
              "  '10_web_веб_NOUN_9_nmod',\n",
              "  '11_-издательства_-издательствый_NOUN_10_nmod',\n",
              "  '13_она_она_PRON_14_nsubj',\n",
              "  '14_отвергла_отвергать_VERB_6_conj',\n",
              "  '15_требование_требование_NOUN_14_obj',\n",
              "  '16_в_в_ADP_18_case',\n",
              "  '17_судебном_судебный_ADJ_18_amod',\n",
              "  '18_порядке_порядок_NOUN_15_nmod',\n",
              "  '19_запретить_запрещать_VERB_15_obl',\n",
              "  '21_публикацию_публикация_NOUN_19_obj',\n",
              "  '22_секретных_секретный_ADJ_23_amod',\n",
              "  '23_документов_документ_NOUN_21_nmod',\n",
              "  '25_поскольку_поскольку_SCONJ_28_mark',\n",
              "  '26_такой_такой_DET_27_det',\n",
              "  '27_запрет_запрет_NOUN_28_nsubj',\n",
              "  '28_нарушал_нарушать_VERB_14_advcl',\n",
              "  '29_бы_бы_PART_28_aux',\n",
              "  '30_свободу_свобода_NOUN_28_obj',\n",
              "  '31_слова_слово_NOUN_30_nmod'],\n",
              " ['1_Однако_однако_ADV_5_advmod',\n",
              "  '2_судья_судья_NOUN_5_nsubj',\n",
              "  '3_все_все_PART_5_advmod',\n",
              "  '4_же_же_PART_3_fixed',\n",
              "  '5_вынесла_выносить_VERB_0_root',\n",
              "  '6_постановление_постановление_NOUN_5_advcl',\n",
              "  '8_связанное_связывать_VERB_6_acl',\n",
              "  '9_с_с_ADP_10_case',\n",
              "  '10_тем_то_PRON_8_obl',\n",
              "  '12_что_что_SCONJ_14_mark',\n",
              "  '14_нарушил_нарушать_VERB_10_acl',\n",
              "  '15_копирайт_копирайт_NOUN_14_obj',\n",
              "  '16_компании_компания_NOUN_15_nmod'],\n",
              " ['1_При_при_ADP_2_case',\n",
              "  '2_этом_это_PRON_4_obl',\n",
              "  '3_судья_судья_NOUN_4_nsubj',\n",
              "  '4_добавила_добавлять_VERB_0_root',\n",
              "  '6_что_что_SCONJ_10_mark',\n",
              "  '7_судебная_судебный_ADJ_8_amod',\n",
              "  '8_система_система_NOUN_10_nsubj',\n",
              "  '9_только_только_PART_10_advmod',\n",
              "  '10_начинает_начинать_VERB_4_ccomp',\n",
              "  '11_подходить_подходить_VERB_10_xcomp',\n",
              "  '12_к_к_ADP_15_case',\n",
              "  '13_такому_такой_DET_15_det',\n",
              "  '14_сложному_сложный_ADJ_15_amod',\n",
              "  '15_вопросу_вопрос_NOUN_11_obl',\n",
              "  '17_как_как_SCONJ_18_mark',\n",
              "  '18_свобода_свобода_NOUN_13_obl',\n",
              "  '19_слова_слово_NOUN_18_nmod',\n",
              "  '20_и_и_CCONJ_21_cc',\n",
              "  '21_защита_защита_NOUN_19_conj',\n",
              "  '22_интеллектуальной_интеллектуальный_ADJ_23_amod',\n",
              "  '23_собственности_собственность_NOUN_21_nmod',\n",
              "  '24_в_в_ADP_25_case']]"
            ]
          },
          "metadata": {
            "tags": []
          },
          "execution_count": 26
        }
      ]
    },
    {
      "cell_type": "code",
      "metadata": {
        "id": "C3LdUA18kKI9"
      },
      "source": [
        "with open(\"law_corpora.txt\", \"w\") as file:\n",
        "  print(law_corpora, file=file, sep=\"\\n\")\n",
        "file.close()"
      ],
      "execution_count": 9,
      "outputs": []
    },
    {
      "cell_type": "code",
      "metadata": {
        "id": "E7J2KSMJJ2Lo",
        "colab": {
          "base_uri": "https://localhost:8080/"
        },
        "outputId": "0e0eed5c-41f4-4526-a6d9-fa9f4359a342"
      },
      "source": [
        "count=0\n",
        "for sentence in tokens:\n",
        "  count += len(sentence)\n",
        "print(count)"
      ],
      "execution_count": null,
      "outputs": [
        {
          "output_type": "stream",
          "text": [
            "5860022\n"
          ],
          "name": "stdout"
        }
      ]
    },
    {
      "cell_type": "code",
      "metadata": {
        "id": "EVDios2gKPKM",
        "colab": {
          "base_uri": "https://localhost:8080/"
        },
        "outputId": "4c7cda28-f466-4217-dffa-245005d139e6"
      },
      "source": [
        "count=0\n",
        "for sentence in law_corpora:\n",
        "  count += len(sentence)\n",
        "print(count)"
      ],
      "execution_count": null,
      "outputs": [
        {
          "output_type": "stream",
          "text": [
            "93703\n"
          ],
          "name": "stdout"
        }
      ]
    },
    {
      "cell_type": "code",
      "metadata": {
        "id": "TEd9vRdqlG2T",
        "colab": {
          "base_uri": "https://localhost:8080/"
        },
        "outputId": "5314e918-0de4-4bfd-dcc4-32facd7fdc2e"
      },
      "source": [
        "len(tokens)"
      ],
      "execution_count": null,
      "outputs": [
        {
          "output_type": "execute_result",
          "data": {
            "text/plain": [
              "201486"
            ]
          },
          "metadata": {
            "tags": []
          },
          "execution_count": 11
        }
      ]
    },
    {
      "cell_type": "code",
      "metadata": {
        "id": "afKqro1G2Phq"
      },
      "source": [
        "for sentence in law_corpora:\n",
        "  for i in sentence:\n",
        "    if re.match(r'[0-9]', i):\n",
        "      pass\n",
        "    else:\n",
        "      sentence.remove(i)"
      ],
      "execution_count": 13,
      "outputs": []
    },
    {
      "cell_type": "code",
      "metadata": {
        "id": "1rtLHcTvKqzc"
      },
      "source": [
        "for sentence in law_corpora:\n",
        "  for i in sentence:\n",
        "    if i.startswith('_'):\n",
        "      sentence.remove(i)"
      ],
      "execution_count": 15,
      "outputs": []
    },
    {
      "cell_type": "code",
      "metadata": {
        "id": "4J_ouJrDLARa"
      },
      "source": [
        "for sentence in law_corpora:\n",
        "  for i in sentence:\n",
        "    if re.match(r'_', i):\n",
        "      sentence.remove(i)"
      ],
      "execution_count": 20,
      "outputs": []
    },
    {
      "cell_type": "code",
      "metadata": {
        "id": "zMmjGq5VMUYo"
      },
      "source": [
        "for sentence in law_corpora:\n",
        "  for i in sentence:\n",
        "    if re.match(r':', i):\n",
        "      sentence.remove(i)"
      ],
      "execution_count": 22,
      "outputs": []
    },
    {
      "cell_type": "code",
      "metadata": {
        "id": "WTKvGt5yMxQ5"
      },
      "source": [
        "for sentence in law_corpora:\n",
        "  for i in sentence:\n",
        "    if re.match(r'[а-я]', i):\n",
        "      sentence.remove(i)"
      ],
      "execution_count": 28,
      "outputs": []
    },
    {
      "cell_type": "code",
      "metadata": {
        "id": "YehDGphFNOcq"
      },
      "source": [
        "for sentence in law_corpora:\n",
        "  for i in sentence:\n",
        "    if i=='':\n",
        "      print(sentence)"
      ],
      "execution_count": 34,
      "outputs": []
    },
    {
      "cell_type": "code",
      "metadata": {
        "id": "wGFBUxxCPMal"
      },
      "source": [
        "for sentence in law_corpora:\n",
        "  for i in sentence:\n",
        "    if re.match(r'_PUNCT_', i):\n",
        "      sentence.remove(i)"
      ],
      "execution_count": 44,
      "outputs": []
    },
    {
      "cell_type": "code",
      "metadata": {
        "colab": {
          "base_uri": "https://localhost:8080/"
        },
        "id": "3o3kvwyUSFbu",
        "outputId": "b8c26882-e322-4cd1-fabc-887a054856d3"
      },
      "source": [
        "unlc=[]\n",
        "for sentence in law_corpora:\n",
        "  if sentence in unlc:\n",
        "    continue\n",
        "  else:\n",
        "    unlc.append(sentence)\n",
        "print(len(unlc))"
      ],
      "execution_count": 53,
      "outputs": [
        {
          "output_type": "stream",
          "text": [
            "2601\n"
          ],
          "name": "stdout"
        }
      ]
    },
    {
      "cell_type": "code",
      "metadata": {
        "id": "5yhAZ_ufTfNM"
      },
      "source": [
        "law_corpora = unlc"
      ],
      "execution_count": 54,
      "outputs": []
    },
    {
      "cell_type": "code",
      "metadata": {
        "colab": {
          "base_uri": "https://localhost:8080/"
        },
        "id": "8v5prly3kyYD",
        "outputId": "4bea7ef4-0a77-4c64-9bf8-5d6b9ac6a158"
      },
      "source": [
        "diff={}\n",
        "for sentence in law_corpora:\n",
        "  for i in sentence:\n",
        "    w=[]\n",
        "    e=[]\n",
        "    r=[]\n",
        "    if \"_судья_\" in i:\n",
        "      w=i.split(sep=\"_\")\n",
        "      index=w[0]\n",
        "      if index == None:\n",
        "        pass\n",
        "      else:\n",
        "        for m in sentence:\n",
        "          if re.match(r'_PUNCT_', m):\n",
        "            pass\n",
        "          else:\n",
        "            e=m.split(sep=\"_\")\n",
        "            if len(w)<3 or len(e)<3:\n",
        "              pass\n",
        "            else:\n",
        "              if e[2] == w[2]:\n",
        "                pass\n",
        "              else:\n",
        "                small_diff=[]\n",
        "                index2=e[0]\n",
        "                if index2 == None:\n",
        "                  pass\n",
        "                else:\n",
        "                  d = abs(int(index2)-int(index))-1\n",
        "                  for sentence in law_corpora:\n",
        "                    if i in sentence:\n",
        "                      #print(sentence)\n",
        "                      for q in sentence:\n",
        "                        #print(q)\n",
        "                        r=q.split(sep=\"_\")\n",
        "                        if len(r)<3 or len(e)<3:\n",
        "                          pass\n",
        "                        else:\n",
        "                          if r[2] == e[2]:\n",
        "                            index=w[0]\n",
        "                            if index == None:\n",
        "                              pass\n",
        "                            else:\n",
        "                              index2=r[0]\n",
        "                              if index == None:\n",
        "                                pass\n",
        "                              else:\n",
        "                                d = abs(int(index2)-int(index))-1\n",
        "                                small_diff.append(d)\n",
        "                                if len(r) >= 3:\n",
        "                                  diff[r[2]]=small_diff\n",
        "                          else:\n",
        "                            pass\n",
        "print(diff)"
      ],
      "execution_count": 58,
      "outputs": [
        {
          "output_type": "stream",
          "text": [
            "{'но': [1], 'окружной': [21], 'решать': [1], 'дело': [28], 'в': [8, 12, 1, 1, 38, 22, 8, 7, 9, 15, 3, 21, 15, 20], 'польза': [10, 3], 'веб': [23], '-издательствый': [7], 'она': [5], 'отвергать': [2], 'требование': [12], 'судебный': [13], 'порядок': [16], 'запрещать': [16], 'публикация': [5], 'секретный': [17], 'документ': [2], 'поскольку': [22], 'такой': [24], 'запрет': [1], 'нарушать': [4], 'бы': [15], 'свобода': [13], 'слово': [13], 'однако': [1], 'все': [21], 'же': [0], 'выносить': [11], 'постановление': [0], 'связывать': [13], 'с': [7], 'то': [2], 'что': [2, 2, 2, 2, 2, 2, 2, 16], 'копирайт': [12], 'компания': [29, 2], 'при': [26], 'это': [4], 'добавлять': [8], 'система': [38, 32], 'только': [5], 'начинать': [5], 'подходить': [7], 'к': [8, 9], 'сложный': [10], 'вопрос': [6], 'как': [23], 'и': [10], 'защита': [4], 'интеллектуальный': [18], 'собственность': [16], 'между': [18], 'заявлять': [1], 'эфир': [4], 'москва': [12], 'конституционный': [0], 'суд': [1], 'повторный': [12], 'перерегистрация': [6], 'иногородний': [7], 'не': [17], 'предусматривать': [6], 'закон': [12], 'отмечаться': [16], 'распространять': [10], 'впонедельник': [13], 'заявление': [3], 'прокуратура': [1], 'восточный': [0], 'округ': [16, 0], 'на': [21], 'обвиняемый': [3], 'рассчитывать': [12], 'снисхождение': [0], 'сообщать': [3], 'Wired': [2], 'news': [14], 'подпереть': [4], 'рука': [27], 'подбородок': [6], 'молча': [8], 'выслушивать': [3], 'довод': [6], 'оба': [10], 'сторона': [2], 'задавать': [2], 'ни': [14, 11], 'один': [11], 'наблюдатель': [5], 'полагать': [3], 'независимо': [2], 'от': [6], 'чей': [1], 'быть': [21], 'решение': [3, 0, 0, 0], 'противный': [3], 'непременно': [2], 'обжаловать': [1], 'по': [1, 1, 1, 1, 1, 1, 1, 1, 23, 1, 1, 1], 'сообщение': [14], 'Прайм': [12], 'вторник': [4], 'поздно': [7], 'вечер': [6], 'челябинский': [5], 'областной': [1], 'арбитражный': [33], 'под': [4], 'председательство': [1], 'отклонять': [6], 'иск': [3, 13], 'губернатор': [15], 'красноярский': [5], 'край': [21], 'о': [10, 16], 'продление': [1], 'внешний': [11], 'управление': [6], 'оао': [14], 'Ачинский': [16], 'глиноземный': [17], 'комбинат': [18], '7,5': [24], 'год': [19, 11], 'прекращать': [0], 'он': [7, 7, 6, 8], 'банкротство': [31], 'адвокат': [13], 'призывать': [10], 'вовсе': [6], 'ограничиваться': [3], 'штраф': [9], 'считать': [2], 'проступок': [3, 33], 'футбольный': [0], 'фанат': [5], 'заслуживать': [2], 'хотя': [9], 'условный': [15], 'наказание': [0], '1': [7], 'который': [15], 'мочь': [26], 'вступать': [19], 'сила': [10], 'если': [4], 'течение': [9], 'совершать': [3], 'какой-либо': [5], 'уголовно': [2], 'наказуемый': [13], 'пять': [6], 'день': [5], 'назад': [7], 'мадридский': [0], 'направлять': [1], 'указание': [2], 'противоположный': [13], 'содержание': [30], 'вскоре': [4], 'становиться': [21], 'известный': [2], 'получать': [11], 'свой': [6], 'английский': [12], 'коллега': [22], 'запрос': [17], '-': [3], 'или': [11], 'исполнительный': [15], 'власть': [23], 'они': [8], 'должен': [7, 9, 4], 'выполнять': [7], 'данный': [35], 'случай': [28], 'швейцарский': [15], 'делегация': [20], 'помимо': [21], 'недавно': [10], 'назначить': [1], 'новый': [12], 'генпрокурор': [14], 'сменять': [10], 'этот': [9], 'пост': [15], 'дель': [17], 'Понти': [4], 'входить': [3], 'женевский': [0], 'Каспер-Анзерма': [1], 'несколько': [2], 'высокопоставленный': [58], 'чиновник': [10], 'федеральный': [0], 'служба': [15], 'полиция': [5], 'давний': [2], 'пора': [13], 'заниматься': [3], 'счетам': [6], 'бывший': [19], 'премьер-министр': [11], 'признавать': [0, 0, 0], 'демонстрировать': [3], 'чрезвычайно': [6], 'глубокий': [7], 'познание': [8], 'компьютер': [50], 'доскональной': [12], 'понимание': [36], 'функционировать': [17], 'телефонный': [15], 'сеть': [19], 'точка': [7], 'зрение': [6], 'высказывать': [6], 'Дево': [1], 'расследование': [28], 'повод': [3], 'отмывание': [10], 'деньги': [11], 'через': [1], 'банк': [30], 'указывать': [8], 'вести': [8], 'строительный': [6], 'фирма': [8], 'Mabetex': [8], 'скандал': [12], 'кредитный': [14], 'карточка': [5], 'якобы': [2], 'принадлежать': [8], 'семья': [19], 'отношение': [17], 'казахский': [1], 'проводить': [2], 'просьба': [7], 'правительство': [18], 'подозревать': [23], 'страна': [3], 'обвинять': [15], 'коррупция': [5], 'хранить': [21], 'счет': [15], 'имя': [7], 'выненосить': [7], 'работать': [9], 'орган': [19], 'июнь': [6], '1998': [17], 'шотландский': [0], 'город': [1, 5], 'Гринок': [2], 'оправдательный': [8], 'приговор': [18], 'три': [4], 'женщина': [17], '-пацифистка': [8], 'совершить': [10], 'выразиться': [13], 'русский': [9], 'би-би-си': [4], 'акт': [15], 'вандализм': [20], 'база': [2], 'атомный': [23], 'подводный': [10], 'лодка': [11], 'теперь': [5], 'выпускать': [19], 'постановить': [6], 'вправе': [7], 'пытаться': [1], 'разоружить': [9], 'Trident': [12], 'тот': [28, 16], 'являться': [16], 'часть': [13], 'британский': [18], 'ядерный': [9], 'программа': [19], 'незаконный': [8], 'международный': [0], 'право': [5, 6, 12], 'вызывать': [4], 'большой': [10], 'резонанс': [2], 'время': [6], 'намерен': [1], 'пересматривать': [1], 'я': [18], 'просто': [0], 'понимать': [15], 'общество': [4], 'негативный': [3], 'реакция': [4], 'участвовать': [19], 'работа': [5], 'палата': [0], 'сохранить': [22], 'лорд': [21], 'титул': [19], 'присваивать': [19], 'монарх': [16], 'знак': [4], 'признание': [9], 'личный': [19], 'заслуга': [10], 'предложение': [6], 'а': [1], 'также': [0, 0], 'епископ': [2], 'высший': [10], 'традиционно': [1], 'член': [5], 'верхний': [5], 'собеседование': [1], 'присутствовать': [1], 'юрист': [5], 'представитель': [19], 'обвинение': [13], 'директор': [11], 'издательство': [12], 'Маргиний': [15], 'представлять': [16], 'мнтерес': [21], 'довереность': [25], 'отвечик': [29], 'помощник': [0, 0], 'удовлетворять': [4], 'пятеро': [2], 'секретарь': [11], 'ранение': [4], '00': [34], 'московский': [32], 'здание': [8], 'городской': [0], 'заходить': [10], 'неизвестный': [6], 'мужчина': [5], 'бросать': [4], 'взрывпакть': [2], 'кабинет': [1], 'затем': [12], 'два': [10], 'граната': [2], 'результат': [0], 'взрыв': [10], 'страдать': [26], 'Кужанкуй': [0], 'исключать': [5], 'месть': [0], 'музей': [8], 'предписание': [8], 'понедельник': [1], 'нью-йоркский': [18], 'мэр': [4], 'администрация': [11], 'предпринимать': [6], 'против': [8], 'шаг': [4], 'чтобы': [15], 'успокаивать': [18], 'общественный': [3], 'мнение': [7], 'авторитетный': [6], 'весь': [10], 'ветвь': [11], 'израильский': [0], 'руководитель': [5], 'спецслужба': [18], 'министр': [13], 'верховный': [12, 5], 'юридический': [29, 32], 'советник': [9], 'приходиться': [15], 'делать': [7], 'ряд': [8], 'после': [17], 'лично': [4], 'ознакомляться': [15], 'легкий': [17], 'поверить': [16], 'заверение': [14], 'чем': [3], 'допускать': [7], 'существование': [10], 'общий': [5], 'заговор': [8], 'выгораживание': [6], 'равный': [1], 'замешать': [0], 'генеральный': [5], 'выплата': [5], 'компенсация': [7], 'утвердить': [24], 'агентство': [11], 'ясно': [12], 'использовать': [5], 'огромный': [10], 'мощь': [29], 'колоссальный': [27], 'доход': [18], 'для': [3, 3, 3], 'удушение': [24], 'любой': [12], 'появляться': [19], 'рынок': [13], 'продукт': [33], 'конкурируть': [13], 'из': [20], 'основной': [10], 'сказать': [0], 'заключение': [0], 'оглашение': [11], 'падать': [4], 'до': [26], '88,75': [3], 'доллар': [11], 'требовать': [7], 'микрософт': [4], 'расформирование': [5], 'корпорация': [14], 'более': [13], 'мелкий': [9], 'конкурировать': [13], 'друг': [3], 'применять': [2], 'мягкий': [21], 'препятствовать': [24], 'развитие': [22], 'технология': [33], 'угроза': [5], 'операционный': [7], 'windows': [33], 'предполагаться': [6], 'сам': [21], 'задерживать': [18], 'заседание': [13], 'допустить': [7], 'коллегия': [20], 'рассматривать': [27], 'суть': [13], 'выдвигать': [10], 'лишь': [10], 'процессуальный': [6], 'каждый': [2], 'реализация': [8], 'прежде': [11], 'одобрение': [1], 'возглавлять': [4], 'процесс': [14], 'антимонопольный': [7], 'разочаровывать': [1], 'еще': [5], 'уверенный': [6], 'американский': [36], 'юриспруденция': [14], 'конец': [1], 'осознавать': [18], 'инновация': [21], 'поведение': [8], 'абсолютно': [7], 'честный': [6], 'приносить': [2], 'миллион': [10], 'потребитель': [17], 'долгий': [17], 'путь': [13], 'вероятно': [1], 'действительно': [8], 'предстоять': [0], 'подавать': [6], 'апелляция': [4, 2], 'окончательный': [0], 'риск': [9], 'затягиваться': [7], 'четыре': [3], 'месяц': [5], 'тюремный': [12], 'поначалу': [9], 'отменять': [4], 'гласить': [0], 'хранение': [3], 'жесткий': [9], 'диск': [2], 'распечатка': [8], 'порнографический': [9], 'материал': [23], 'деяние': [14], 'правда': [6], 'объявлять': [0, 0], 'ранее': [7], 'принцип': [16], 'неверный': [6], 'чрезмерный': [8], 'сокращать': [10], '12': [22], 'отстранение': [2], 'преподавание': [18], 'отказываться': [0, 5], 'ходатайство': [5], 'усмотреть': [7], 'действие': [5], 'ответчик': [17], 'недобросовестный': [11], 'пользование': [12], 'затягивание': [10], 'пятница': [16], '19': [13], 'ноябрь': [8], 'итальянский': [7], 'добиваться': [14], 'привлечение': [12], 'кардинал': [16], 'Микель': [4], 'наиболее': [9], 'влиятельный': [10], 'иеррарх': [13], 'преступный': [6], 'связь': [8], 'соучастие': [24], 'мошенничество': [10], 'ссуд': [28], 'официальный': [23], 'Руссо': [1], 'фигурировать': [9], '20': [4], 'человек': [14], 'основание': [7], 'подслушанный': [2], 'разговор': [22], 'неаполитанский': [9], 'епархия': [12], 'средства': [9], 'переходить': [12], 'родственник': [15], 'житель': [18], 'первый': [27], 'крупный': [5], 'серия': [18], 'неизбежный': [6], 'претензия': [8], 'мотив': [24], 'засекречивание': [21], 'подлежать': [19], 'лицо': [30, 33], 'занимать': [9], 'ключевой': [15], 'государство': [8], 'президент': [3], 'парламент': [3], 'депутат': [7], 'местный': [13], 'совет': [8], 'прокурор': [3], 'кандидат': [0], 'должность': [1], 'ссылаться': [20], 'замечание': [0], 'комментировать': [11], 'цена': [5, 23], 'отмечать': [14], 'нет': [18], 'назначение': [11], '49': [25], 'прибыль': [12], 'защищать': [2], 'интерес': [23, 9], 'истец': [6], 'вышеперечисленный': [6], 'базироваться': [2], 'оглашать': [14], '5': [23], 'юстиция': [6], 'посредничество': [0], 'договориться': [2], 'внесудебный': [15], 'урегулирование': [6], 'разногласие': [7], 'назначать': [2], 'февраль': [8], '2000': [12], 'вообще': [10], 'вне': [9, 8], 'никакой': [2], 'вердикт': [12], 'кроме': [2], 'предварительный': [28], 'оставаться': [4], 'монопольный': [9], 'положение': [3], 'пользоваться': [15], 'вред': [16], 'тезис': [19], 'нельзя': [20, 14], 'можно': [17], 'вывод': [23], 'годный': [33], 'использование': [35], 'разбор': [37], 'другой': [26], 'касаться': [3], 'придерживаться': [9], 'иной': [2], 'монополия': [3], 'ход': [2], 'разбирательство': [0], 'зависимость': [15], 'неть': [32], 'обеспокоить': [21], 'обстоятельство': [11], 'сей': [12], 'единый': [14], 'фронт': [15], 'выступать': [3], 'намечаться': [21], 'раскол': [3], 'new': [12], 'york': [13], 'post': [27], 'согласно': [14], 'стенограмма': [7], 'опубликовывать': [1], 'четверг': [8], 'во': [7], 'встреча': [8], 'офис': [9], 'беспокойство': [7], 'апелляционный': [5], 'посредник': [2], 'частично': [7], 'объяснять': [1], 'опасение': [14], 'штат': [0], 'двигаться': [25], 'параллельный': [26], 'курс': [27], 'первоначально': [0], 'вынести': [9], '22': [9], 'председатель': [10], 'откладывать': [5], '24': [18], 'вот': [2], 'опять': [18], 'отсрочка': [8], 'Присутствовать': [9], 'обоснованный': [7], 'жалоба': [4], 'заявитель': [4], 'находить': [2], 'таковой': [1], 'буквальный': [5], 'цитирование': [6], 'ответственность': [16], 'лежать': [16], 'рассмотрение': [27], 'продолжительный': [7], 'встречаться': [4], 'заинтересованный': [24], 'напоминать': [3], 'никогда': [4], 'отличаться': [5], 'предсказуемость': [6], 'порой': [8], 'соответствовать': [15], 'существовать': [5], 'традиция': [15], 'всегда': [15], 'логичный': [20], 'изящный': [22], 'даже': [22], 'телеведущий': [19], 'явиться': [12], 'журналист': [14], 'председательствовать': [3], 'расписываться': [8], 'повестка': [3], 'явка': [11], 'ли': [4, 19], 'приступать': [1], 'завтра': [9], 'утро': [8], 'существо': [5], '2': [7], 'декабрь': [11], 'состояться': [7], 'роль': [2], 'противник': [9], 'рамка': [9], 'CNet': [1], 'седьмой': [10], 'переговоры': [16], 'трижды': [35], 'оканчиваться': [36], 'ничто': [19], 'раунд': [5], '6': [7], 'письменный': [11], 'устный': [25], 'утверждение': [3], 'за': [21], 'принятие': [0], 'предоставлять': [5], 'материальный': [9], 'вознаграждение': [14], 'соответствующий': [4], 'обеспечение': [12], 'вице-премьер': [8], 'российский': [22], 'проект': [64], 'этап': [25], 'состоять': [2], 'иллюстрировать': [16], 'нарушение': [9], 'законодательство': [8], 'обосновывать': [8], 'значимость': [6], 'факт': [5], 'отражать': [3], 'обнародовать': [2], 'пункт': [21], 'у': [6, 5], 'сильный': [8], 'поддержка': [0], 'со': [14], 'второй': [18], 'гораздо': [8, 12], 'менее': [5], 'ясный': [6], 'четко': [18], 'сформулировать': [15], 'серьезно': [18], 'влиять': [9], 'начинаться': [8], 'прошлый': [12], 'неделя': [11], 'вынесение': [12], 'слушание': [3], 'проходить': [11], 'среда': [1, 1], '8': [4], 'присутствие': [11], 'высокий': [8], 'ранг': [2], 'позволять': [27], 'широкий': [4], 'спектр': [14], 'статья': [13], 'вслед': [21], 'прения': [26], 'поправка': [7], 'специальный': [10], 'юрисдикция': [11], 'совершение': [10], 'преступление': [4], 'ведение': [3], 'война': [20], 'похищение': [24], 'самолет': [13], '30': [5], 'увенчаться': [11], 'успех': [10], 'очередь': [9], 'проживать': [6], 'лидер': [4], 'организация': [21], 'аль': [4], 'шариатский': [14], 'шейх': [3], 'бин': [10], 'мусульманин': [21], 'террор': [24], 'вооруженный': [27], 'россия': [23], 'посольство': [32], 'рубеж': [34], 'военный': [22], 'аэродром': [39], 'объект': [41], 'инфраструктура': [42], 'учитывать': [22], 'reuters': [27], 'возобновить': [22], 'вряд': [16], 'принимать': [12], 'micro': [11], 'Leader': [10], 'business': [9], 'убежденный': [2], 'надеяться': [7], 'инстанция': [22, 30], 'сегодняшний': [16], 'вернуться': [5], 'камера': [23], 'соглашаться': [6], 'краевой': [3], 'избирательный': [4], 'комиссия': [11], 'присяжный': [11], 'идти': [20], 'речь': [2], 'выезжать': [24], 'предел': [17], 'цель': [29], 'секс': [31], 'несовершеннолетний': [33], 'соблазнять': [37], 'несовершеннолетняя': [38], 'содержаться': [17], 'частный': [13], 'определение': [10], 'отказ': [1], 'заключительный': [1], 'трудный': [5], 'тянущться': [12], 'сражение': [17], 'термин': [21], 'playboy': [23], 'продвигать': [27], 'веб-сайт': [29], 'дата': [6], 'появление': [51], 'перед': [0], 'трибунал': [1], 'пока': [10], 'заместитель': [6], 'начальник': [11], 'государственный': [22], 'правовой': [4], 'мэрия': [4], 'постоянно': [0], 'незаконность': [1], 'региональный': [4], 'милиция': [12], 'без': [9], 'консультация': [8], 'глава': [7], 'субъект': [5], '10': [10], 'кассационный': [9], 'Л': [1], 'наносить': [2], 'ущерб': [5], 'художник': [12], 'графический': [14], 'дизайнер': [15], 'фотограф': [11], 'помещать': [19], 'com': [14], 'стоять': [13], 'ссылка': [12], 'оригинальный': [10], 'страница': [9], 'позаимствовать': [5], 'изображение': [1, 6], 'ситуация': [1], 'автор': [5], 'большинство': [23], 'групповой': [20], 'предъявлять': [12], 'последний': [3], 'когда': [7], 'монополист': [3], 'действовать': [12], 'настоящий': [9], 'параллельно': [9], 'продолжаться': [6], 'уже': [15], 'отослать': [0], 'вариант': [32], 'январь': [1], 'виновный': [4], 'злоупотребление': [11], 'лавина': [19], 'мы': [10], 'наблюдать': [0], 'сейчас': [16], 'казаться': [31], 'ручеек': [32], 'сравнение': [34], 'приходить': [1, 6], 'во-первых': [7], 'выгода': [11], 'занятие': [14], 'себя': [16], 'пиратский': [24], 'файл': [25], 'ограничивать': [1], 'сайт': [9], 'руководство': [16], 'летчик': [10], 'участвоваать': [12], 'бомбардировка': [14], 'dvd': [28], 'Copyright': [8], 'Control': [5], 'Association': [6], 'хакер': [15, 28], 'программный': [14], 'взлом': [27], 'digital': [6], 'video': [19], 'disc': [20], 'накладывать': [28], 'временный': [5], 'распространение': [2], 'associated': [22], 'press': [23], '29': [6], 'потребовать': [1], 'публиковать': [10], 'называться': [14], 'the': [13], 'Brethren': [12], 'герой': [3], 'трое': [1], 'отбывать': [1], 'срок': [15], 'колония': [15], 'режим': [17], 'решетка': [2], 'делить': [0], 'свободный': [9], 'изучение': [4], 'солагерник': [10], 'серьезный': [12], 'эксперт': [7], 'соглашение': [4], 'флотский': [3], 'контрразведка': [4], 'презумпция': [8], 'невиновность': [20], 'Печерский': [0], 'районный': [1], 'возбуждать': [4], 'уголовный': [21], 'неправомочный': [16], 'спикер': [12], 'вице-спикер': [14], 'рад': [16], 'александр': [18], 'частность': [1], '21': [9], 'руководить': [22], 'систематически': [20], 'чинить': [21], 'препятствие': [15], 'народный': [24], 'избранник': [25], 'число': [18], 'попадать': [20], 'рабочий': [35], 'место': [9], 'сессионный': [39], 'зал': [18], 'подосадовать': [2], 'брать': [14], 'переложить': [11], 'насамарский': [13], 'впервые': [17], 'освобождать': [3], 'республика': [2], 'новость': [7], 'полномочие': [9], 'лишать': [4], 'анатолий': [2], 'чилийский': [0], 'диктатор': [14], 'Аугусто': [2], 'выявлять': [13], 'дисфункция': [11], 'мозг': [11], 'отвечать': [3], 'смысл': [5], 'Мадридский': [0], 'инициатор': [3], 'экс-диктатор': [7], 'медицинский': [10], 'оздоровий': [12], 'министерство': [5], 'иностранный': [16], 'отправлять': [3], 'газета': [12], 'выдача': [9], 'ордер': [8], 'арест': [6], 'брайан': [1], 'распорядиться': [3], 'досье': [7], 'видеть': [16], 'подавлять': [0], 'переизбирать': [2], 'нынешний': [21], 'голосовать': [1], '18': [4], 'передавать': [16], 'тогда': [0], 'закрывать': [2], 'оно': [2], 'выходить': [3], '31': [8], 'гарантия': [29, 0], 'прекратить': [25], 'исполнение': [9], 'обязанность': [5], '7': [14], 'деятельность': [19], 'предоставление': [4], 'социальный': [1], 'незаконно': [7], 'устанавливать': [19], 'привилегия': [10], 'кучка': [12], 'должностной': [17], 'оказываться': [56], 'отставка': [18], 'чадо': [26], 'домочадец': [28], 'собственный': [6], 'квартира': [1], 'убивать': [0, 0], 'выясняться': [12], 'убийство': [14], 'происходить': [4], 'около': [6], 'исчезновение': [0], 'поступать': [9], 'отпуск': [13], 'гражданский': [8], 'следствие': [29], 'профессиональный': [3], 'норма': [26], 'обязанный': [9], '65-й': [8], 'минута': [22], 'забивать': [5], 'гол': [2], 'из-за': [12], 'офсайд': [4], 'называть': [20], 'исторический': [3], 'так': [19], 'давно': [2], 'табачный': [8], 'изделие': [9], 'опасный': [2], 'здоровье': [16], 'Рэй': [4], 'независимый': [6], 'октябрь': [5], 'тверской': [4], 'лучший': [13], 'современность': [0], 'итальянец': [2], 'обслуживать': [5], 'ответный': [6], 'полуфинальный': [10], 'матч': [17], 'турецкий': [4], 'мексиканский': [20], 'высылать': [18], 'главарь': [15], 'мафия': [13, 5], 'разыскивать': [9], '1990': [3], 'подготовка': [6], 'покушение': [6], 'кульминация': [9], 'конфликт': [8], 'обращение': [1], 'квалификационный': [1], 'представление': [6], 'прекращение': [7], 'судно': [19], 'приморский': [20], 'складываться': [10], 'вынужденный': [0], 'пойти': [2], 'крайний': [4], 'мера': [8], 'голодовка': [6], 'протест': [3], 'политика': [26], 'останавливать': [6], 'таможенник': [1], 'обращаться': [9], 'разъяснение': [4], 'поддерживать': [2], 'позиция': [13], 'май': [6], 'соответствие': [8], 'церемония': [6], 'инаугурация': [5], 'информация': [3, 15], 'возможный': [1], 'раздел': [13], 'акция': [33], 'стремительно': [8], 'bbc': [13], 'страсть': [3], 'накалиться': [2], 'удалить': [0], 'скамейка': [3], 'запасной': [4], 'участие': [1], 'игра': [19], 'латать': [10], 'слишком': [4, 11], 'шумно': [15], 'выражать': [21], 'недовольство': [18], 'ближайший': [2], 'римский': [0], 'Санджованниприступит': [1], 'наследник': [5], 'Щукинадокументов': [6], 'заключать': [10], 'Mondadori': [12], 'Эрмитаж': [14], 'удаваться': [20], 'сша': [18], 'настаивать': [24], 'рассматриваться': [14], 'сразу': [19], 'миновать': [20], 'промежуточный': [21], 'разделение': [9], 'снятие': [5], 'ограничение': [8], 'вступить': [3], 'основывать': [3], 'покупатель': [22], 'производитель': [22], 'приобретать': [32], 'непосредственно': [11], 'политический': [23], 'интрига': [61], 'организовывать': [3], 'опасность': [4], 'помеха': [45], 'план': [41], 'построение': [40], 'самый': [11], 'возврат': [26], 'тоталитарный': [19], 'прошлое': [21, 18], 'ГУЛАГ': [8], 'диктатура': [4], 'курировавший': [3], 'французский': [12], 'аукцион': [5], 'Yahoo': [18], 'оскорблять': [8], 'коллективный': [9], 'память': [10], 'обязать': [15, 2], 'июль': [31], 'отчет': [20], 'предотвращение': [28], 'француз': [15], 'несоблюдение': [4], 'некоторый': [1], 'формальность': [1], 'переоформление': [5], '3': [1], 'ведущий': [1], 'основываться': [8], 'изменять': [8], 'обычный': [14], 'одновременно': [0, 0, 12], 'приостановить': [2], 'вводить': [3], 'возвращение': [1], 'рассмотреть': [8], 'просить': [6], 'разделять': [2], 'полномочияпредседатель': [2], 'секретариат': [3], 'отстранить': [1], 'поступок': [24], 'позорять': [11], 'честь': [0], 'достоинство': [28], 'вице-губернатор': [9], 'Отстраненный': [4], 'приезжать': [13], 'справедливость': [9], 'регламент': [6], 'отсутствие': [0], 'уважительный': [1], 'причина': [2], 'пояснять': [15], '14': [0], 'статус': [17], 'конфликтовать': [1], 'прикрывать': [3], 'Саварес': [4], 'чемпион': [8], 'мир': [7], 'тяжелый': [20], 'вес': [28], 'оттащить': [14], 'ринг': [18], 'боксер': [19], 'настоятель': [7], 'Покровский': [8], 'приход': [9], 'целое': [15], 'беспочвять': [16], 'долгосрочный': [25], 'аренда': [26], 'парковый': [27], 'территория': [6], 'издавать': [5], 'владелец': [7], 'GeoCities': [11], 'требуемый': [17], 'персональный': [18], 'данные': [2], 'аноним': [20], 'третейский': [0], 'Мэрили': [0], 'создание': [14], 'фан-клуб': [13], 'намереваться': [2], 'продавать': [17], 'держатель': [19], 'торговый': [22], 'марка': [23], 'приговаривать': [6], 'тюрьма': [12, 21], 'дипломатический': [16], 'миссия': [15], 'разморожать': [12], 'парижский': [0, 0], 'правосудие': [10], 'Альдижер': [1], 'Noga': [6], 'возмещать': [8], 'диппредставительство': [10], 'затрата': [14], 'размер': [4], 'тысяча': [0], 'франк': [9], 'сотрудник': [2], 'Go': [3], 'network': [4], 'разрабатывать': [5], 'бюро': [7], 'очень': [11], 'эффективный': [12], 'бороться': [8], 'сексуальный': [16], 'преступность': [4], 'письмо': [17], 'разоблачать': [11], 'тайный': [10], 'сотрудничество': [9], 'поручать': [9], 'специалист': [12, 11], 'подробно': [14, 13], 'изучать': [14], 'технический': [4], 'антифашист': [5], 'встречный': [1], 'аргумент': [9], 'оспаривать': [5], 'регулировать': [10], 'постановлять': [0], 'игнорировать': [0], 'компьютерный': [4], 'код': [11, 26], 'настолько': [15], 'форма': [14], 'самовыражение': [13], 'насколько': [16], 'выражение': [6], 'взгляд': [0], 'ставить': [0], 'приводить': [20], 'прямой': [34], 'автоматический': [33], 'загрузка': [32], 'Decss': [3], 'функционально': [18], 'пользователь': [6], 'хакерский': [5], 'служить': [4], 'millennium': [7], 'Act': [9], 'нелегальный': [11], 'неверно': [0], 'интерпретировать': [1], 'грозить': [10], 'уничтожать': [11], 'преимущество': [6], 'каков': [7], 'вероятность': [8], 'преступник': [8], 'оставлять': [0], 'досрочный': [19], 'лишение': [18], 'судейский': [9], 'квалификация': [12], 'свидетель': [2], 'предприниматель': [11], 'муж': [0], 'Локтионовый': [2], 'взятка': [0], 'гласящий': [7], 'запись': [11], 'согласие': [3], 'собеседник': [20], 'применимый': [23], 'электронный': [22], 'почта': [26], 'чат': [28], 'приватный': [32], 'беседа': [0], 'помощь': [6], 'записывать': [6], 'метр': [1], 'устройство': [7], 'автоматически': [17], 'вполне': [0], 'разумно': [1], 'учет': [5], 'ежедневно': [8], 'количество': [11], 'странно': [18], 'разрешение': [11], 'сохранение': [25], 'испанский': [0], 'Мид': [7], 'говорить': [2], 'обоснование': [11], 'осматривать': [17], 'врач': [3], 'версия': [27], 'правоохранительный': [17], 'теракт': [5], 'оказывать': [15], 'давление': [13], 'временно': [4], 'взламывать': [11], 'цифровой': [13], 'завершаться': [8], 'хоть': [2], 'настраивать': [16], 'правозащитный': [16], 'Electronic': [13], 'Frontier': [13], 'Foundation': [12], 'обещать': [7], 'похоже': [10], 'смехотворность': [8], 'желание': [26], 'распоряжение': [1], 'вещественный': [22], 'доказательство': [22], 'футболка': [24], 'спина': [30], 'сторонник': [13], 'идеология': [34], 'open-source': [35], 'раздавать': [36], 'выдавать': [4], 'хищение': [13], 'госбюджет': [16], 'продажа': [20], 'нефть': [21], 'le': [28], 'Monde': [29], 'разрешать': [1], 'удалять': [1], 'матка': [2], '28-летний': [3], 'Telegraph': [3], 'отказывать': [2], 'обнаруживать': [0], 'осуждать': [6], 'восемь': [5], 'раз': [8], 'злоупотребеление': [15], 'наркотик': [16], '1976': [18], 'спустя': [7], 'выгонять': [0], 'поле': [2, 14], 'бить': [6], 'сбивать': [2], 'жалеть': [1], 'желтый': [4], 'штрафной': [8], 'вновь': [29], 'хладнокровно': [15], 'реализовать': [19], 'суровыйприговор': [4], 'когда-либо': [11], 'Мтбя': [0], 'генерал': [3], 'нести': [3], 'личной': [4], 'командир': [6], 'человечность': [13], 'нарушенияЖеневский': [16], 'конвенция': [17], 'попрание': [19], 'обычай': [22], 'двое': [0], 'пиночет': [13, 13], 'санкционирование': [9], 'пытка': [10], 'правление': [4], 'нация': [8], 'пообещать': [0], 'свалить': [5], 'бомбардир': [14], 'команда': [6], 'пенальти': [3], 'столичный': [4, 4], 'прошение': [7, 7], 'семь': [0], 'парламентский': [14, 14], 'неприкосновенность': [2], 'корреспондент': [5], 'Сантьяго': [2], 'над': [7], 'процедура': [11], 'главный': [5, 22], 'задача': [13], 'чешский': [12, 4], 'филиал': [11], 'борьба': [8], 'грязный': [7], 'протяжение': [7], 'предлагать': [0], 'Micorsoft': [6], 'владеть': [10], 'давать': [1], 'низший': [3], 'пожизненный': [29], 'ускорять': [7], 'подготавливать': [4], 'изменение': [4], 'пресечение': [10], '175': [3], '448': [8], 'свисток': [1], 'молчать': [0], 'пара': [16], 'точный': [7], 'удар': [7], 'надежда': [5], 'недавний': [3], 'меньший': [12], 'разный': [16], 'структура': [17], 'сценарий': [21], 'событие': [23], 'экстремальный': [25], 'проблема': [19], 'намек': [10], 'Пфильцер': [1], '1989': [7], 'надзирать': [13], 'Хоуля': [2], 'проявлять': [25], 'малейший': [33], 'гибкость': [34], 'трактование': [36], 'поднадзорному': [42], 'область': [16], 'ознакомлять': [4], 'поступить': [7], 'обсуждать': [0], 'активист': [17], 'антитабачный': [16], 'кампания': [8], 'расти': [3], 'расхождение': [3], 'берег': [1], 'вы': [4], 'достаточно': [7], 'глупый': [8], 'курить': [11], 'рак': [14], 'легкое': [16], 'изъятие': [8], 'лицензия': [12], 'оружие': [16], 'детективный': [30], 'охранный': [32], 'инцидент': [19], 'повздорить': [4], 'подраться': [2], 'возникать': [12], 'словесный': [11], 'перепалка': [10], 'умудряться': [5], 'железный': [3], 'ударять': [1], 'вносить': [30], 'включение': [27], 'состав': [0], 'создавать': [7], 'именно': [10], 'сессия': [9], 'кандидатура': [2], '117-й': [13], 'чемпионат': [8], 'футбол': [5], 'сборная': [13], 'ворота': [5], 'португалец': [6], 'неумолимый': [1], 'безупречный': [6], 'столь': [5], 'дикий': [17], 'проиграть': [12], 'полуфинал': [10], 'Риадя': [3], 'впредвзятости': [0], 'выбегать': [11], 'корт': [9], 'мать': [15], 'рождать': [11], 'момент': [7], 'крикнуть': [0], 'balls': [4], 'please': [5], 'констатировать': [0], 'оплата': [3], 'агитационный': [4], 'наличные': [6], 'выборы': [14], 'подсудимый': [1], 'циничный': [4], 'суверенитет': [7], 'снимать': [8], 'признать': [13], 'правило': [3], 'предвыборный': [22], 'агитация': [20], 'получение': [10], 'отстраненный': [14], 'август': [5], 'местусодержание': [11], 'подследственный': [10], 'стража': [0], 'железнодорожный': [5], 'районаКрасноярск': [4], 'центральный': [0], 'район': [1], 'нарушеныположение': [1], '94-й': [3], 'кодекс': [4], 'поручитель': [11], 'подписка': [11], 'поручительство': [26], 'отменоймера': [30], 'быстрый': [3], 'завершение': [4], 'способствовать': [7], 'расизм': [10], 'помогать': [12], 'репутация': [14], 'освобождение': [20], 'бесспорно': [10], 'руководствоваться': [1], 'возобновлять': [8], 'сбор': [8], 'дополнительный': [11], 'март': [23], 'текущий': [3], 'дальнейший': [7], 'разбойный': [2], 'нападение': [1], 'подъезд': [1], 'дом': [14], 'где': [3], 'похищать': [12], 'минувший': [4], 'залог': [17], 'физика': [10], 'небрежный': [18], 'стратегический': [21], 'секрет': [22], 'приговорить': [7], 'уплачивать': [16], 'Коннектикут': [20], 'конкуренция': [23], 'закрытие': [3], 'доказать': [0], 'клиент': [11], 'утверждать': [27], 'любопытный': [5], 'башкирия': [14], 'мировой': [0], 'universal': [11], '45': [7], 'готовый': [0], '150': [5], 'группа': [10], 'нижний': [22], 'президиум': [17], 'счесть': [1], 'функция': [5], 'подразделение': [4], 'охрана': [3], 'силовой': [4], 'пристав': [2], 'исполнитель': [11], 'проведение': [9], 'имущество': [11], 'взыскание': [23], 'денежный': [4], 'средство': [25], 'дожны': [2], 'одобрять': [2], 'сумма': [2], 'взыскать': [8], 'ожидать': [8], 'финальный': [1], '-докладчикий': [0], 'определять': [14], 'неконституционный': [8], 'практика': [17], 'продавец': [17], 'авторский': [18], 'облагать': [24], 'налог': [25], 'стоимость': [28], 'несколькосблизиться': [4], 'Салониуспредоставлять': [1], 'компромиссной': [6], 'орт': [2], 'инструкция': [6], 'заработный': [18], 'плата': [19], 'высказываться': [1], '15': [13], 'особый': [23], 'ua': [11], 'today': [12], 'радиостанция': [18], 'вторжение': [11], 'жизнь': [8], 'сотрудница': [16], 'белый': [17], 'заслушать': [0], 'подозреваемый': [1], 'практически': [8], 'безукоризненно': [7], 'выполнить': [6], 'элемент': [6], 'оценка': [4], '5,7': [1], '5,8': [3], 'балл': [4], 'схема': [3], 'Demon': [6], 'избрать': [9], 'невинный': [12], 'воскресный': [8], 'выпуск': [21], 'ежедневный': [6], 'times': [2], 'достигать': [14], 'познер': [22], 'противоречие': [16], 'сближение': [5], 'длиться': [15], 'почти': [8], 'сорвать': [4], 'следующий': [25], 'вплоть': [8], 'разукрупнение': [5], 'огласить': [1], 'девятнадцать': [15], '23': [2], '26': [30], 'отнюдь': [0], 'неожиданный': [3], 'качество': [11], 'апрель': [6], 'окончательно': [7], 'тупик': [2], 'вынуждать': [1], 'окончание': [20], 'ожидание': [5], 'резко': [3], 'скончаться': [20], 'постель': [8], 'почет': [5], 'уважение': [2], 'среди': [19], 'сравнивать': [3], 'писать': [6], 'ansa': [9], 'сойти': [15], 'преисподняя': [17], 'выйти': [21], 'оттуда': [22], 'свет': [24], 'вина': [14], 'ожидатьэтого': [19], 'амбиция': [24], 'совесть': [28], 'находиться': [8], 'отозвать': [5], 'нью-йорксий': [0], 'Mpaa': [6], 'законно': [7], 'потому': [10, 7], '2600': [14], 'альтернативный': [17], 'готовность': [22], 'немного': [19], 'маркетинговый': [25], 'прислать': [0], 'очередной': [4], 'исправление': [26], 'косметический': [30], 'фактически': [3], 'никак': [35], 'расклад': [7], 'конкурентный': [41], 'болезнь': [0], 'старший': [7], 'брат': [12], 'республиканский': [17], 'глазнойклиник': [18], 'готовить': [2], 'операция': [22], 'аналогичный': [1], 'обязывать': [2], 'оператор': [5], 'сто': [11], 'официально': [8], 'протокол': [1], 'подписать': [1], 'подписание': [13], 'уйтинесколько': [1], '17': [7], 'символ': [6], 'невыполнение': [6], 'парламентарий': [4], 'препятствование': [1], 'уполномоченный': [3], 'армеец': [10], 'уступать': [8], 'опротестовывать': [2, 1], 'обоснованность': [4], 'арбитр': [2], 'спортивный': [17], 'больше': [6], 'формулировка': [6], 'склонный': [4], 'лояльность': [0], 'хвалить': [4], 'передать': [13], 'иметь': [2], 'возможность': [4], '90': [30], 'очевидный': [5], 'сперва': [6], 'реальный': [6], 'ждать': [7], '50': [18], 'том': [2], 'доказывать': [2], 'полностью': [12], 'содеять': [14], 'квалифицировать': [22], 'правильно': [16], 'Белорецкий': [0], 'горсуд': [1], 'какой': [1], 'выплачивать': [9], 'доставлять': [3], 'накануне': [7, 0], 'больший': [6], 'управляющий': [3], 'павел': [7], 'ныне': [11], 'белорусский': [16], 'союз': [17], 'ознакомить': [7], 'фрунзенский': [0], 'датировать': [5], 'изъятый': [2], 'улика': [5], 'выполнимый': [13], 'ибо': [15], 'правомочный': [18], 'следователь': [15], 'изъять': [30], 'необходимый': [5], 'убить': [4], 'одноклассник': [7], 'насильник': [8], 'вон': [10], 'хорошо': [6], 'подчеркивать': [4], 'Генпрокуратура': [4], 'судебномрешение': [2], 'примененыненадлежащий': [0], '-процессуальный': [3], 'томчисло': [8], 'признанный': [10], '218': [16], 'обжалование': [19], 'исключительный': [16], 'аналитический': [11], 'Thomas': [9], 'Weisel': [8], 'тоже': [7], 'приведение': [2], 'существенно': [2], 'неразделенный': [14], 'расследуть': [3], 'об': [5], 'bank': [10], 'of': [11], 'банкир': [1], 'кто': [14], 'допросить': [7], 'управлять': [6], 'коммерческий': [7], 'показание': [19], 'интересовать': [1], 'окружение': [14], 'бизнесмен': [7, 8], 'черный': [8], 'требоваться': [3], '18,3': [11], 'вымогательство': [14], '36': [13], 'подкуп': [0], 'история': [5], 'любовь': [1], 'пожилой': [0], 'жить': [7, 21], 'консервативнойфранцузский': [3], 'провинция': [20], 'польский': [7], 'проститутка': [8], 'двадцать': [0], 'половина': [2], 'час': [5], 'заслушивать': [4], 'список': [15], 'Aegis': [20], 'архиепископ': [18], 'тут': [15], 'лауреат': [13], 'нобелевский': [12], 'премия': [11], 'переживать': [6], 'холокост': [5], 'Эли': [3], 'шесть': [6], 'спасать': [11], 'спартак': [13], 'соображение': [4], 'полный': [4], 'объем': [15], 'бандит': [10], 'поддельный': [7], 'мелкомхулиганство': [6], 'сутки': [12], '4': [4], 'игрок': [1], 'лечебный': [6], 'эффект': [7], 'распространяться': [5], 'Хамди': [14], 'отец': [9], 'девочка': [14], 'благодарный': [0], 'армия': [7], 'восстанавливать': [8], 'заканчивать': [1], 'четырехчасовое': [2], 'совещание': [3], 'разъезжаться': [5], 'обнародовывать': [12], '11': [6], '9': [16], 'el': [27], 'Mostrador': [6], 'спешить': [1], 'неуверенность': [6], 'никто': [15], 'сообщаться': [12], 'свидетельствовать': [12], 'источник': [5], 'разделяться': [0], 'голосование': [6], 'минимальный': [5], 'отрицать': [7], 'подтверждать': [2], 'следственный': [4], 'поручение': [0], 'сегодня': [8], 'Соотвутствующий': [4], 'Клаудета': [2], 'Терезинья': [3], 'некомпетентность': [0], 'генконсул': [21], 'арестовывать': [9], 'допрос': [1], 'заблаговременно': [13], 'разослать': [14], 'совместно': [0], 'Ахмад': [8], 'боевик': [5], 'включая': [7], 'степень': [14], 'развязывание': [17], 'чеченский': [0], 'гражданин': [5], 'дисквалифицировать': [12], 'мучительно': [6], 'да': [4], 'прерывать': [15], 'надзирающий': [9], 'законность': [19], 'приказ': [0], 'оперативный': [13], 'розыскной': [11], 'мероприятие': [10], '25': [10], 'сентябрь': [11], 'годаВерховный': [4], 'Ю': [1], 'буквально': [7], 'покоренный': [2], 'великолепный': [9], 'акробатический': [10], 'ошибка': [10], 'олимпийский': [18], 'соотечественник': [2], 'марафонец': [4], 'золотой': [7], 'медаль': [8], 'соломинка': [7], 'переломить': [9], 'хребет': [10], 'верблюдо': [11], 'объяснение': [15], 'Omega': [17], 'почему': [22], 'дочерний': [14], 'торговать': [26], 'новогодний': [27], 'елка': [28], \"Sporty's\": [31], 'farm': [32], 'гружеть': [0], 'Беганская': [2], 'Nsi': [6], 'рассудить': [5], 'домять': [11], 'законодатель': [3], 'урегулировать': [5], 'бездействуть': [9], 'домен': [10], 'подпадать': [16], 'переносезаседания': [2], 'улучшение': [4], 'самочувствие': [5], 'заболевание': [9], 'несмотря': [12], 'вничью': [5], 'победа': [0], 'отдавать': [0], 'борец': [2], 'врачебный': [2], 'состояние': [15], 'неутешительный': [1], 'экс-президент': [7], '500': [21], 'обвинитель': [1], 'отдел': [7], 'Рашидхан': [10], 'Napster': [3], 'любить': [15], 'невозможный': [2], 'исполнить': [21], 'учесть': [2], 'личность': [3], 'ответ': [8], 'защитник': [8], 'аргументировать': [19], 'психический': [11], 'расстройство': [10], 'голова': [5], '1996': [3], 'альтернатива': [10], 'трактовать': [9], 'по-разному': [10], 'странный': [14], 'радикальный': [4], 'лингвист': [14], 'подписывать': [9], 'Корреа': [1], 'було': [2], 'аргентинский': [17, 0], 'причастность': [17], 'столица': [2], 'главнокомандующий': [14], 'жена': [25], 'Галиано': [2], 'котляковский': [15], 'кладбище': [16], 'премьер': [15], 'указ': [8], 'повышение': [5], 'служащий': [1], 'прокурорский': [1], 'работник': [2], 'персонал': [5], 'солдат': [7], 'легко': [12], 'покидать': [10], 'введение': [7], '13': [38], 'отрицательный': [9], '41': [1], '16': [1], 'талиб': [4], 'иметься': [5], 'террористический': [14], 'означать': [10], 'голос': [24], 'подсчитывать': [16], 'штаб': [3], 'ручной': [7], 'перестать': [8], 'продолжать': [5], 'ввиду': [35], 'взаимоисключающий': [33], 'приостанавливать': [13], 'узнавать': [1], 'разрешить': [5], 'прием': [1], 'пересчет': [19], 'выяснение': [3], 'невыезд': [13], 'распоряжаться': [1], 'сдавать': [5], 'паспорт': [5], 'белизский': [13], 'огнестрельный': [15], 'надевать': [18], 'нога': [6], 'браслет': [23], 'следить': [29], 'перемещение': [32], 'оправдывать': [6], 'хулиган': [5], 'охватывать': [9], 'взаимность': [17], 'становить': [3], 'вернуть': [8], 'истица': [5], 'дискета': [12], 'конфиденциальный': [14], 'оплачивать': [4], 'издержка': [21], 'сведение': [26], 'составлять': [32], 'фунт': [35], 'стерлинг': [36], 'переносить': [9], 'хотеть': [2], 'информировать': [0], 'несостоявшийся': [7], 'убийца': [4], 'отклонить': [0], 'располагать': [0], 'административный': [5], 'центр': [6], 'госсекретарь': [11], 'объявление': [0], 'уоррен': [5], 'демократ': [10], 'опротестовать': [14], 'итог': [16], 'опыт': [15], 'наш': [14], 'пращур': [13], 'выбирать': [3], 'предводитель': [8], 'хан': [6], 'беков': [4], 'полководец': [1], 'достойный': [4], 'высоконравственный': [6], 'согражданин': [7], 'достаточный': [3], 'избирать': [5], 'вид': [15], 'домашний': [15], 'детский': [1], 'направление': [13], 'приют': [6], 'приемный': [21], 'предлог': [5], 'родитель': [9], 'затребовать': [6], 'копия': [9], 'возбуждение': [12], 'преследование': [22], 'медиа': [4], 'магнат': [11], 'отмена': [34], 'необоснованно': [1], 'подзащитный': [2], 'перевод': [15], 'вилла': [19], 'полицейский': [27], 'надзор': [27], 'четверо': [31], 'Бальтасара': [3], 'хосе': [9], 'Аснар': [7], 'Асебес': [2], 'холдинг': [8], 'экстрадиция': [16], 'Остальский': [19], 'уносить': [0], 'прервать': [7], '1:0': [10], 'хозяин': [13], 'daily': [4], '1987': [7], 'биржевой': [14], 'спекулянт': [15], 'привилегированная': [24], 'приватизация': [17], 'Marceau': [3], 'Investissements': [4], 'Societe': [18], 'Generale': [19], 'условие': [8], 'скрываться': [15], 'договариваться': [3], 'сокамерником': [1], 'платить': [1], 'полтора': [7], 'предполагать': [5], 'снисходительный': [14], 'сокамерник': [4], '-магнат': [5], 'Pais': [28], 'гробница': [1], 'египетский': [0], 'Инть': [0], 'египтолог': [1], 'открытие': [4], 'вынесший': [3], 'сюжет': [1], 'Нвтор': [8], 'калининградский': [13], 'показать': [16], 'ночной': [6], 'клевета': [3], 'экс-губернатор': [7], 'телекомпания': [21], 'деталь': [1], 'воспитание': [2], 'животное': [3], 'воля': [5], 'конкретный': [15], 'сохранять': [2], 'миллиард': [7], 'посить': [16], 'евро': [20], 'уходить': [16], 'гвардия': [9], 'Женевский': [0], 'выдать': [1], 'Столповский': [6], 'подозрение': [8], 'группировка': [4], 'Эфэ': [20], 'короткий': [20], 'избежать': [14], 'фаворит': [12], 'Бережная': [10], 'выводить': [0], 'единогласный': [1], '49-летний': [1], 'ливиец': [2], '1988': [10], 'погибать': [12], '270': [19], 'Afp': [5], '84': [0], '230': [2], 'бумага': [8, 16, 35], 'прочитывать': [7], 'вменяемый': [5], 'особенно': [4], 'европейский': [10], 'совершенно': [8], 'юридически': [10], 'бессмысленный': [11], 'значить': [15], 'бояться': [19], 'проверка': [11], 'ценность': [30], 'подчеркнуть': [41], 'собака': [27], 'напасть': [23], 'удивительный': [17], 'собачий': [12], 'лай': [11], 'удивлять': [9], 'судьба': [5], 'телеканал': [8], 'предшествовать': [1], 'сопровождение': [26], 'агент': [7], 'военизированный': [11], 'формальный': [5], 'согласный': [10], 'добровольный': [14], 'национальный': [18], 'выдвижение': [17], 'Эшкрофт': [11], 'мешать': [4], 'некий': [0], 'воздушный': [15], 'морской': [17], 'транспорт': [18], 'передвигать': [21], 'дискредитировать': [13], 'обыск': [4], 'положенный': [3], 'подобный': [7], 'переходный': [22], 'период': [23], 'организовать': [7], 'планировать': [4], 'мотивировать': [15], 'кто-то': [15], 'звонить': [22], 'строго': [16], 'аукционный': [8], 'наказывать': [11], 'вор': [15], 'уличение': [1], 'сговор': [3], 'хороший': [6], 'урок': [7], 'импульс': [10], 'взаимоконтроль': [12], 'немедленно': [0], 'собираться': [1], 'представительство': [31], 'лозунг': [24], 'гласивший': [22], 'несправедливый': [9], 'ты': [1], 'покончить': [12], 'твой': [9], 'дача': [1], 'статуя': [10], 'скульптура': [13], 'церетели': [19], 'дарить': [21], 'Юрий': [25], 'вертолет': [6], 'производить': [7], 'подход': [4], 'обязательный': [16], 'должный': [24], 'нужный': [6], 'заменять': [8], 'переводчик': [10], 'Шерил': [18], 'Джун': [23], 'Эдмонд': [12], 'Поуп': [11], 'излагать': [3], '40': [21], 'лист': [5], 'законный': [5], 'кемеровский': [8], '25-й': [17], 'заключенный': [18], 'возраст': [13], '80': [22], 'курский': [0], 'суббота': [21], 'регистрация': [7], 'приставить': [18], 'безопасность': [8], 'угрожать': [1], 'Руцкий': [1], 'пол': [3], 'субботний': [12], 'информационный': [12], 'зачитывать': [0], 'пресненский': [0], 'собирать': [22], 'предупредить': [18], 'разглашение': [26], 'восьмилетный': [10], 'пребывание': [9], 'консервативный': [0], 'ориентация': [1], 'либерал': [5], 'будущий': [6], 'зависеть': [5], 'конкретно': [0], 'консерватор': [3], 'старый': [6], 'расстановка': [9], 'аналогично': [20], 'сместить': [15], 'влево': [11], 'каденция': [4], 'либеральный': [0], 'досрочно': [2], 'приписывать': [8], 'баскский': [9], 'сепаратист': [12], 'взрываться': [1], 'машина': [2], 'слушанье': [7], 'посвящать': [9], 'гореть': [3], 'шофер': [5], 'телохранитель': [7], 'конвой': [10], 'американец': [6], 'сизо': [4], 'справка': [0], 'дежурный': [2], 'лефортовский': [4], 'приступ': [14], 'остеохандроз': [15], 'тазобедренный': [16], 'сустав': [17], 'двусторонний': [19], 'радикулит': [20], 'отразить': [4], 'Эрв': [0], 'катастрофа': [12], 'алкоголь': [14], 'превышение': [18], 'скорость': [19], 'девять': [1], 'мотоциклист': [9], 'преследовать': [11], 'спутник': [15], 'подвергнуться': [9], 'суровый': [8], 'критика': [7], 'громкий': [17], 'Bertelsmann': [7], 'Music': [6], 'group': [5], 'лето': [0], 'сервис': [9], 'мощный': [5], 'полковник': [11], 'Поповских': [13], 'Оксана': [15], 'аккредитация': [19], 'сми': [20], 'по-прежнему': [15], 'открытый': [7], 'пресса': [12], 'телевизионный': [7], 'репортаж': [8], 'разглашаться': [39], 'упоминаться': [13], 'установление': [25], 'истина': [26], 'нина': [1], 'смягчать': [10], 'наличие': [19], 'награда': [14], 'заражать': [0], 'спид': [6], 'пригрозить': [0], 'конвоир': [1], 'заразить': [4], 'дубина': [7], 'склонить': [9], 'флоридский': [0], 'аннулирование': [17], 'открепительный': [20], 'бюллетень': [21], 'флорида': [9], 'Солс': [2], 'cnn': [5], 'United': [13], 'Refining': [14], 'блокировка': [8], 'сделка': [3], 'покупка': [26], 'Getty': [4, 27, 38], 'нефтяной': [14], 'наибольший': [16], 'акционер': [20], 'выгодный': [35], 'нежели': [40], 'изложить': [6], 'продолжение': [11], 'полгода': [62], 'заморозить': [61], 'снова': [2], 'немецкий': [50], 'партнер': [49], 'заплатить': [47], 'неустойка': [43], 'пригласить': [34], 'съемка': [32], 'рено': [30], 'невыполнимый': [18], 'голубой': [6], 'бездна': [5], 'сыграть': [0], 'смерть': [23], 'взятие': [5], '03мскать': [10], 'совещательный': [5], 'комната': [6], 'истечение': [2], 'тендерный': [1], 'Габриэль': [9], '450': [14], 'сходиться': [2], 'исправлять': [3], 'Тимоти': [15], 'МакВя': [1], 'ответственный': [12], '1995': [3], 'оттягиваний': [1], 'смертный': [3], 'казнь': [4], 'оговаривать': [11], 'обратиться': [1], 'подать': [9], '120': [26], 'впрочем': [9], 'авдокать': [7], 'понравиться': [0], 'психологический': [25], 'экспертиза': [7], 'осужденный': [5], 'километр': [22], 'север': [24], 'характер': [2], 'подвергаться': [7], 'Efe': [10], 'рекомендация': [2], 'указать': [6], 'бегство': [10], 'помилование': [9], 'формирование': [5], 'избрание': [0], 'госслужба': [3], 'следовать': [6], 'третий': [15], 'прыжок': [6], 'образ': [1], 'встречать': [12], 'дочь': [15], 'приемная': [18], 'ребенок': [32], 'Гом': [1], 'вместо': [2], 'вырабатывать': [12], 'способ': [13], 'свастика': [17], 'желать': [9], 'заявка': [12], 'беседовать': [0], 'дверь': [3], 'зритель': [5], 'прислушиваться': [8], 'россиянка': [10], 'мэтр': [9], 'воспроизводить': [2], 'прежний': [1], 'хрупкий': [9], 'поэтому': [4], 'Маша': [3], 'надо': [14], 'предстать': [0], 'голый': [1], 'примерно': [6], 'пяить': [8], 'северный': [17], 'нигерия': [18], 'причинять': [17], 'Кайрон': [15], 'Хенн-ли': [14], 'разводиться': [13], 'Маккой': [8], '1994': [6], 'оформление': [1], 'развод': [0], '66': [15], 'ликвидация': [9], 'общенациональный': [8], 'телевидение': [7], 'присуждать': [10], '900': [5], 'уменьшать': [0], '480': [3], 'ядовитый': [6], 'враждебность': [7], 'ненависть': [10], 'наручник': [7], 'сомнение': [3], 'расправа': [11], 'убитый': [14], 'беременный': [16], 'ожжеть': [19], 'заживо': [20], 'комсомолец': [9], 'председательствующий': [0], 'вызвать': [8], 'редактор': [23], 'экс-дипломат': [5], 'возмущать': [4], 'доверенность': [3], 'неожиданно': [3], 'замена': [2], 'одиннадцать': [7], 'эстрада': [9], 'постоянный': [12], 'круг': [16], 'близкий': [18], 'бесстыдный': [7], 'офицер': [1], 'коридор': [1], 'прострелить': [3], 'палец': [1], 'больница': [17], 'пакет': [19], 'законопроект': [6], 'льготный': [15], 'проезд': [0], 'таможня': [6], 'налоговый': [4], 'впоследствии': [12], 'внимание': [2], 'проконсультироваться': [15], 'высокопоставлать': [22], 'арестованный': [5], 'лекарство': [8], 'побоище': [1], 'четверть': [18], 'кремлевский': [12], 'дополнительно': [2], '6900': [1], 'аппарат': [3], '1,5': [6], 'рубль': [8], 'финансирование': [12], 'киргизия': [10], 'повторно': [6], 'Болтон': [27], 'уверять': [26], 'соавтор': [18], 'слышать': [2], 'песня': [13], 'Айсли': [11], 'убеждать': [0], 'василий': [2], 'Бальтасар': [4], 'необходимость': [1], 'граница': [10], 'Медиа': [4], 'певец': [11], 'стать': [5], 'искусство': [1], 'Мухамед': [3], 'прецедент': [8], 'обращать': [1], 'утешаться': [3], 'втрое': [3], 'долждать': [0], 'усмотрение': [9], 'срочный': [7], 'ночь': [17], 'мистер': [7], 'как-то': [5], 'расплакаться': [2], 'относиться': [1], 'снисходительно': [3], 'потом': [2], 'рано': [20], 'вдруг': [9], 'раздаться': [10], 'блеяние': [11], 'молодой': [17], 'спрятать': [17], 'одежда': [19], 'ягенка': [20], 'неудачный': [26], 'отсмеяться': [1], 'роженица': [5], 'середина': [6], 'Макво': [1], 'жаловаться': [1], 'грязь': [10], 'душа': [22, 24], 'свидетельство': [28], 'терять': [24], 'хозяйство': [20], 'переставать': [18], 'убирать': [17], 'запускать': [15], 'потеря': [10], 'совместный': [7], 'уйгура': [19], 'Мемет': [17], 'пособничество': [13], 'казнить': [9], 'показывать': [0], 'ноготь': [7], 'дисциплинарный': [12], 'публика': [5], 'прямо': [6], 'косвенно': [8], 'эксплуатировать': [10], 'уязвимый': [12], 'заключять': [6], 'мост': [17], 'спор': [26], 'пятилетний': [1], 'водитель': [7], 'предупреждение': [10], 'телефон': [24], 'вождение': [27], 'укрепление': [4], 'Похорелска': [1], 'подача': [4], 'относительно': [14], 'график': [0], 'обмен': [23], 'отделение': [6], 'текст': [4], 'послание': [3], 'адрес': [0], 'надлежащий': [11], 'заверенный': [13], 'доктор': [3], 'насчитывать': [5], 'признак': [8], 'стоить': [12], 'Ньюпортский': [0], 'королевский': [1], 'замечать': [4], 'психиатрический': [32], 'лечебница': [33], 'гражданка': [19], 'разлучить': [6], 'сменить': [0], 'отстранять': [0], 'отказать': [10], 'каникулы': [17], 'обследование': [11], 'проведений': [6], 'наконец': [22], 'Бэрри': [4], 'возможно': [16], 'обычно': [6], 'быстро': [13], 'томиться': [19], 'обидеться': [3], 'официант': [9], 'чипсы': [14], 'приказывать': [3], 'кафе': [9], 'много': [7], 'посетитель': [6], 'заказ': [0], 'обслужить': [6], 'разозлиться': [1], 'Кунцевский': [1], 'литература': [15], 'знакомиться': [17], '1999': [12], 'комплексный': [8], 'учение': [6], 'иегова': [3], 'господствовать': [7], 'конкурент': [16], 'неприязненно': [1], 'строить': [14], 'комиссовать': [5], 'травма': [19], 'головной': [10], 'Сергеева': [1], 'ранний': [14], 'стремиться': [9], 'любезно': [0], 'переносый': [7], 'изменяться': [1], 'избиение': [25], 'казанский': [2], 'баскетбол': [16], '56': [14], '52': [12], 'щит': [3], 'игровой': [3], 'площадка': [2], 'избить': [0], 'выполнение': [1], 'происхождение': [7], 'явствовать': [14], 'замгенпрокурор': [18], 'содействовать': [27], 'авиакомпания': [18], 'дискриминационный': [10], 'толстый': [6], 'узаконивать': [16], 'взимание': [18], 'двойной': [19], 'тариф': [20], 'авиаперевозка': [22], 'пассажир': [24], 'повышать': [27], 'допрашивать': [3], 'прибывать': [9], 'какой-то': [1], 'визит': [3], 'вежливость': [4], 'тишина': [8], 'компетенция': [1], 'предельный': [1], '70': [2], 'увеличивать': [6], 'гость': [22], 'начало': [11], 'благословение': [6], 'близкие': [4], 'убедительный': [8], 'Погорелска': [0], 'недостаточно': [4], 'компетентный': [5], 'вместе': [9], 'звезда': [16], 'wwf': [15], 'Rock': [12], 'Джонсон': [11], 'Sting': [8], 'возобновление': [10], '85-летний': [10], 'вначале': [4], 'резиденция': [5], 'мотивировывать': [3], 'неправомерный': [9], 'собрание': [19], 'общегражданский': [23], 'футболист': [5], 'обязываться': [4], 'боковой': [1], 'Ananova': [5], '-Мост': [11], 'Черемушкинский': [0], 'внеочередной': [18], 'Baltasar': [3], 'Garzon': [4], 'вставать': [0], 'Бориспольский': [0], 'порекомендовать': [1], 'отслеживать': [4], 'Riaa': [7], 'свежий': [8], 'релиз': [9], 'популярный': [10], 'музыка': [13], 'спрос': [17], 'пират': [19], 'блокировать': [22], 'попадание': [29], 'соперник': [6], 'часто': [5], 'норвежский': [0], 'играть': [3], 'Joel': [3], 'Lazarus': [4], 'смягчение': [17], 'жестокость': [24], 'пострадавшая': [26], 'Tiffany': [30], 'Eunick': [31], 'пропадать': [10], 'Бетти': [0], 'Betty': [4], 'Adams': [5], 'green': [6], 'мальчик': [10], 'посещать': [13], 'обед': [18], 'специально': [13], 'рекомендовать': [18], 'Alan': [3], 'Postman': [4], 'супруга': [20], 'изнасилование': [24]}\n"
          ],
          "name": "stdout"
        }
      ]
    },
    {
      "cell_type": "code",
      "metadata": {
        "colab": {
          "base_uri": "https://localhost:8080/"
        },
        "id": "y4VWo8iSOhVd",
        "outputId": "3fa260d4-201a-4cfa-807e-b9636ef325cf"
      },
      "source": [
        "print(m)"
      ],
      "execution_count": 49,
      "outputs": [
        {
          "output_type": "stream",
          "text": [
            "_PUNCT_46_punct\n"
          ],
          "name": "stdout"
        }
      ]
    },
    {
      "cell_type": "code",
      "metadata": {
        "colab": {
          "base_uri": "https://localhost:8080/"
        },
        "id": "0O8Kd1N0KHn6",
        "outputId": "95204fab-1f7d-4985-dd4b-d453d1ce6946"
      },
      "source": [
        "len(diff)"
      ],
      "execution_count": 59,
      "outputs": [
        {
          "output_type": "execute_result",
          "data": {
            "text/plain": [
              "2817"
            ]
          },
          "metadata": {
            "tags": []
          },
          "execution_count": 59
        }
      ]
    },
    {
      "cell_type": "code",
      "metadata": {
        "id": "YQ-mP_9YeK7K"
      },
      "source": [
        "for word, lis in diff.items():\n",
        "  if lis ==[]:\n",
        "    print(word)"
      ],
      "execution_count": 60,
      "outputs": []
    },
    {
      "cell_type": "code",
      "metadata": {
        "id": "m3pDa7J0W_Nf",
        "outputId": "a0d5c5be-673f-405a-b86a-f722e06086b2",
        "colab": {
          "base_uri": "https://localhost:8080/"
        }
      },
      "source": [
        "Mat_oj = diff\n",
        "for word, lis in Mat_oj.items():\n",
        "  new_l = (sum(lis))/len(lis)\n",
        "  Mat_oj[word] = new_l\n",
        "print(Mat_oj)"
      ],
      "execution_count": 62,
      "outputs": [
        {
          "output_type": "stream",
          "text": [
            "{'но': 1.0, 'окружной': 21.0, 'решать': 1.0, 'дело': 28.0, 'в': 12.857142857142858, 'польза': 6.5, 'веб': 23.0, '-издательствый': 7.0, 'она': 5.0, 'отвергать': 2.0, 'требование': 12.0, 'судебный': 13.0, 'порядок': 16.0, 'запрещать': 16.0, 'публикация': 5.0, 'секретный': 17.0, 'документ': 2.0, 'поскольку': 22.0, 'такой': 24.0, 'запрет': 1.0, 'нарушать': 4.0, 'бы': 15.0, 'свобода': 13.0, 'слово': 13.0, 'однако': 1.0, 'все': 21.0, 'же': 0.0, 'выносить': 11.0, 'постановление': 0.0, 'связывать': 13.0, 'с': 7.0, 'то': 2.0, 'что': 3.75, 'копирайт': 12.0, 'компания': 15.5, 'при': 26.0, 'это': 4.0, 'добавлять': 8.0, 'система': 35.0, 'только': 5.0, 'начинать': 5.0, 'подходить': 7.0, 'к': 8.5, 'сложный': 10.0, 'вопрос': 6.0, 'как': 23.0, 'и': 10.0, 'защита': 4.0, 'интеллектуальный': 18.0, 'собственность': 16.0, 'между': 18.0, 'заявлять': 1.0, 'эфир': 4.0, 'москва': 12.0, 'конституционный': 0.0, 'суд': 1.0, 'повторный': 12.0, 'перерегистрация': 6.0, 'иногородний': 7.0, 'не': 17.0, 'предусматривать': 6.0, 'закон': 12.0, 'отмечаться': 16.0, 'распространять': 10.0, 'впонедельник': 13.0, 'заявление': 3.0, 'прокуратура': 1.0, 'восточный': 0.0, 'округ': 8.0, 'на': 21.0, 'обвиняемый': 3.0, 'рассчитывать': 12.0, 'снисхождение': 0.0, 'сообщать': 3.0, 'Wired': 2.0, 'news': 14.0, 'подпереть': 4.0, 'рука': 27.0, 'подбородок': 6.0, 'молча': 8.0, 'выслушивать': 3.0, 'довод': 6.0, 'оба': 10.0, 'сторона': 2.0, 'задавать': 2.0, 'ни': 12.5, 'один': 11.0, 'наблюдатель': 5.0, 'полагать': 3.0, 'независимо': 2.0, 'от': 6.0, 'чей': 1.0, 'быть': 21.0, 'решение': 0.75, 'противный': 3.0, 'непременно': 2.0, 'обжаловать': 1.0, 'по': 2.8333333333333335, 'сообщение': 14.0, 'Прайм': 12.0, 'вторник': 4.0, 'поздно': 7.0, 'вечер': 6.0, 'челябинский': 5.0, 'областной': 1.0, 'арбитражный': 33.0, 'под': 4.0, 'председательство': 1.0, 'отклонять': 6.0, 'иск': 8.0, 'губернатор': 15.0, 'красноярский': 5.0, 'край': 21.0, 'о': 13.0, 'продление': 1.0, 'внешний': 11.0, 'управление': 6.0, 'оао': 14.0, 'Ачинский': 16.0, 'глиноземный': 17.0, 'комбинат': 18.0, '7,5': 24.0, 'год': 15.0, 'прекращать': 0.0, 'он': 7.0, 'банкротство': 31.0, 'адвокат': 13.0, 'призывать': 10.0, 'вовсе': 6.0, 'ограничиваться': 3.0, 'штраф': 9.0, 'считать': 2.0, 'проступок': 18.0, 'футбольный': 0.0, 'фанат': 5.0, 'заслуживать': 2.0, 'хотя': 9.0, 'условный': 15.0, 'наказание': 0.0, '1': 7.0, 'который': 15.0, 'мочь': 26.0, 'вступать': 19.0, 'сила': 10.0, 'если': 4.0, 'течение': 9.0, 'совершать': 3.0, 'какой-либо': 5.0, 'уголовно': 2.0, 'наказуемый': 13.0, 'пять': 6.0, 'день': 5.0, 'назад': 7.0, 'мадридский': 0.0, 'направлять': 1.0, 'указание': 2.0, 'противоположный': 13.0, 'содержание': 30.0, 'вскоре': 4.0, 'становиться': 21.0, 'известный': 2.0, 'получать': 11.0, 'свой': 6.0, 'английский': 12.0, 'коллега': 22.0, 'запрос': 17.0, '-': 3.0, 'или': 11.0, 'исполнительный': 15.0, 'власть': 23.0, 'они': 8.0, 'должен': 6.666666666666667, 'выполнять': 7.0, 'данный': 35.0, 'случай': 28.0, 'швейцарский': 15.0, 'делегация': 20.0, 'помимо': 21.0, 'недавно': 10.0, 'назначить': 1.0, 'новый': 12.0, 'генпрокурор': 14.0, 'сменять': 10.0, 'этот': 9.0, 'пост': 15.0, 'дель': 17.0, 'Понти': 4.0, 'входить': 3.0, 'женевский': 0.0, 'Каспер-Анзерма': 1.0, 'несколько': 2.0, 'высокопоставленный': 58.0, 'чиновник': 10.0, 'федеральный': 0.0, 'служба': 15.0, 'полиция': 5.0, 'давний': 2.0, 'пора': 13.0, 'заниматься': 3.0, 'счетам': 6.0, 'бывший': 19.0, 'премьер-министр': 11.0, 'признавать': 0.0, 'демонстрировать': 3.0, 'чрезвычайно': 6.0, 'глубокий': 7.0, 'познание': 8.0, 'компьютер': 50.0, 'доскональной': 12.0, 'понимание': 36.0, 'функционировать': 17.0, 'телефонный': 15.0, 'сеть': 19.0, 'точка': 7.0, 'зрение': 6.0, 'высказывать': 6.0, 'Дево': 1.0, 'расследование': 28.0, 'повод': 3.0, 'отмывание': 10.0, 'деньги': 11.0, 'через': 1.0, 'банк': 30.0, 'указывать': 8.0, 'вести': 8.0, 'строительный': 6.0, 'фирма': 8.0, 'Mabetex': 8.0, 'скандал': 12.0, 'кредитный': 14.0, 'карточка': 5.0, 'якобы': 2.0, 'принадлежать': 8.0, 'семья': 19.0, 'отношение': 17.0, 'казахский': 1.0, 'проводить': 2.0, 'просьба': 7.0, 'правительство': 18.0, 'подозревать': 23.0, 'страна': 3.0, 'обвинять': 15.0, 'коррупция': 5.0, 'хранить': 21.0, 'счет': 15.0, 'имя': 7.0, 'выненосить': 7.0, 'работать': 9.0, 'орган': 19.0, 'июнь': 6.0, '1998': 17.0, 'шотландский': 0.0, 'город': 3.0, 'Гринок': 2.0, 'оправдательный': 8.0, 'приговор': 18.0, 'три': 4.0, 'женщина': 17.0, '-пацифистка': 8.0, 'совершить': 10.0, 'выразиться': 13.0, 'русский': 9.0, 'би-би-си': 4.0, 'акт': 15.0, 'вандализм': 20.0, 'база': 2.0, 'атомный': 23.0, 'подводный': 10.0, 'лодка': 11.0, 'теперь': 5.0, 'выпускать': 19.0, 'постановить': 6.0, 'вправе': 7.0, 'пытаться': 1.0, 'разоружить': 9.0, 'Trident': 12.0, 'тот': 22.0, 'являться': 16.0, 'часть': 13.0, 'британский': 18.0, 'ядерный': 9.0, 'программа': 19.0, 'незаконный': 8.0, 'международный': 0.0, 'право': 7.666666666666667, 'вызывать': 4.0, 'большой': 10.0, 'резонанс': 2.0, 'время': 6.0, 'намерен': 1.0, 'пересматривать': 1.0, 'я': 18.0, 'просто': 0.0, 'понимать': 15.0, 'общество': 4.0, 'негативный': 3.0, 'реакция': 4.0, 'участвовать': 19.0, 'работа': 5.0, 'палата': 0.0, 'сохранить': 22.0, 'лорд': 21.0, 'титул': 19.0, 'присваивать': 19.0, 'монарх': 16.0, 'знак': 4.0, 'признание': 9.0, 'личный': 19.0, 'заслуга': 10.0, 'предложение': 6.0, 'а': 1.0, 'также': 0.0, 'епископ': 2.0, 'высший': 10.0, 'традиционно': 1.0, 'член': 5.0, 'верхний': 5.0, 'собеседование': 1.0, 'присутствовать': 1.0, 'юрист': 5.0, 'представитель': 19.0, 'обвинение': 13.0, 'директор': 11.0, 'издательство': 12.0, 'Маргиний': 15.0, 'представлять': 16.0, 'мнтерес': 21.0, 'довереность': 25.0, 'отвечик': 29.0, 'помощник': 0.0, 'удовлетворять': 4.0, 'пятеро': 2.0, 'секретарь': 11.0, 'ранение': 4.0, '00': 34.0, 'московский': 32.0, 'здание': 8.0, 'городской': 0.0, 'заходить': 10.0, 'неизвестный': 6.0, 'мужчина': 5.0, 'бросать': 4.0, 'взрывпакть': 2.0, 'кабинет': 1.0, 'затем': 12.0, 'два': 10.0, 'граната': 2.0, 'результат': 0.0, 'взрыв': 10.0, 'страдать': 26.0, 'Кужанкуй': 0.0, 'исключать': 5.0, 'месть': 0.0, 'музей': 8.0, 'предписание': 8.0, 'понедельник': 1.0, 'нью-йоркский': 18.0, 'мэр': 4.0, 'администрация': 11.0, 'предпринимать': 6.0, 'против': 8.0, 'шаг': 4.0, 'чтобы': 15.0, 'успокаивать': 18.0, 'общественный': 3.0, 'мнение': 7.0, 'авторитетный': 6.0, 'весь': 10.0, 'ветвь': 11.0, 'израильский': 0.0, 'руководитель': 5.0, 'спецслужба': 18.0, 'министр': 13.0, 'верховный': 8.5, 'юридический': 30.5, 'советник': 9.0, 'приходиться': 15.0, 'делать': 7.0, 'ряд': 8.0, 'после': 17.0, 'лично': 4.0, 'ознакомляться': 15.0, 'легкий': 17.0, 'поверить': 16.0, 'заверение': 14.0, 'чем': 3.0, 'допускать': 7.0, 'существование': 10.0, 'общий': 5.0, 'заговор': 8.0, 'выгораживание': 6.0, 'равный': 1.0, 'замешать': 0.0, 'генеральный': 5.0, 'выплата': 5.0, 'компенсация': 7.0, 'утвердить': 24.0, 'агентство': 11.0, 'ясно': 12.0, 'использовать': 5.0, 'огромный': 10.0, 'мощь': 29.0, 'колоссальный': 27.0, 'доход': 18.0, 'для': 3.0, 'удушение': 24.0, 'любой': 12.0, 'появляться': 19.0, 'рынок': 13.0, 'продукт': 33.0, 'конкурируть': 13.0, 'из': 20.0, 'основной': 10.0, 'сказать': 0.0, 'заключение': 0.0, 'оглашение': 11.0, 'падать': 4.0, 'до': 26.0, '88,75': 3.0, 'доллар': 11.0, 'требовать': 7.0, 'микрософт': 4.0, 'расформирование': 5.0, 'корпорация': 14.0, 'более': 13.0, 'мелкий': 9.0, 'конкурировать': 13.0, 'друг': 3.0, 'применять': 2.0, 'мягкий': 21.0, 'препятствовать': 24.0, 'развитие': 22.0, 'технология': 33.0, 'угроза': 5.0, 'операционный': 7.0, 'windows': 33.0, 'предполагаться': 6.0, 'сам': 21.0, 'задерживать': 18.0, 'заседание': 13.0, 'допустить': 7.0, 'коллегия': 20.0, 'рассматривать': 27.0, 'суть': 13.0, 'выдвигать': 10.0, 'лишь': 10.0, 'процессуальный': 6.0, 'каждый': 2.0, 'реализация': 8.0, 'прежде': 11.0, 'одобрение': 1.0, 'возглавлять': 4.0, 'процесс': 14.0, 'антимонопольный': 7.0, 'разочаровывать': 1.0, 'еще': 5.0, 'уверенный': 6.0, 'американский': 36.0, 'юриспруденция': 14.0, 'конец': 1.0, 'осознавать': 18.0, 'инновация': 21.0, 'поведение': 8.0, 'абсолютно': 7.0, 'честный': 6.0, 'приносить': 2.0, 'миллион': 10.0, 'потребитель': 17.0, 'долгий': 17.0, 'путь': 13.0, 'вероятно': 1.0, 'действительно': 8.0, 'предстоять': 0.0, 'подавать': 6.0, 'апелляция': 3.0, 'окончательный': 0.0, 'риск': 9.0, 'затягиваться': 7.0, 'четыре': 3.0, 'месяц': 5.0, 'тюремный': 12.0, 'поначалу': 9.0, 'отменять': 4.0, 'гласить': 0.0, 'хранение': 3.0, 'жесткий': 9.0, 'диск': 2.0, 'распечатка': 8.0, 'порнографический': 9.0, 'материал': 23.0, 'деяние': 14.0, 'правда': 6.0, 'объявлять': 0.0, 'ранее': 7.0, 'принцип': 16.0, 'неверный': 6.0, 'чрезмерный': 8.0, 'сокращать': 10.0, '12': 22.0, 'отстранение': 2.0, 'преподавание': 18.0, 'отказываться': 2.5, 'ходатайство': 5.0, 'усмотреть': 7.0, 'действие': 5.0, 'ответчик': 17.0, 'недобросовестный': 11.0, 'пользование': 12.0, 'затягивание': 10.0, 'пятница': 16.0, '19': 13.0, 'ноябрь': 8.0, 'итальянский': 7.0, 'добиваться': 14.0, 'привлечение': 12.0, 'кардинал': 16.0, 'Микель': 4.0, 'наиболее': 9.0, 'влиятельный': 10.0, 'иеррарх': 13.0, 'преступный': 6.0, 'связь': 8.0, 'соучастие': 24.0, 'мошенничество': 10.0, 'ссуд': 28.0, 'официальный': 23.0, 'Руссо': 1.0, 'фигурировать': 9.0, '20': 4.0, 'человек': 14.0, 'основание': 7.0, 'подслушанный': 2.0, 'разговор': 22.0, 'неаполитанский': 9.0, 'епархия': 12.0, 'средства': 9.0, 'переходить': 12.0, 'родственник': 15.0, 'житель': 18.0, 'первый': 27.0, 'крупный': 5.0, 'серия': 18.0, 'неизбежный': 6.0, 'претензия': 8.0, 'мотив': 24.0, 'засекречивание': 21.0, 'подлежать': 19.0, 'лицо': 31.5, 'занимать': 9.0, 'ключевой': 15.0, 'государство': 8.0, 'президент': 3.0, 'парламент': 3.0, 'депутат': 7.0, 'местный': 13.0, 'совет': 8.0, 'прокурор': 3.0, 'кандидат': 0.0, 'должность': 1.0, 'ссылаться': 20.0, 'замечание': 0.0, 'комментировать': 11.0, 'цена': 14.0, 'отмечать': 14.0, 'нет': 18.0, 'назначение': 11.0, '49': 25.0, 'прибыль': 12.0, 'защищать': 2.0, 'интерес': 16.0, 'истец': 6.0, 'вышеперечисленный': 6.0, 'базироваться': 2.0, 'оглашать': 14.0, '5': 23.0, 'юстиция': 6.0, 'посредничество': 0.0, 'договориться': 2.0, 'внесудебный': 15.0, 'урегулирование': 6.0, 'разногласие': 7.0, 'назначать': 2.0, 'февраль': 8.0, '2000': 12.0, 'вообще': 10.0, 'вне': 8.5, 'никакой': 2.0, 'вердикт': 12.0, 'кроме': 2.0, 'предварительный': 28.0, 'оставаться': 4.0, 'монопольный': 9.0, 'положение': 3.0, 'пользоваться': 15.0, 'вред': 16.0, 'тезис': 19.0, 'нельзя': 17.0, 'можно': 17.0, 'вывод': 23.0, 'годный': 33.0, 'использование': 35.0, 'разбор': 37.0, 'другой': 26.0, 'касаться': 3.0, 'придерживаться': 9.0, 'иной': 2.0, 'монополия': 3.0, 'ход': 2.0, 'разбирательство': 0.0, 'зависимость': 15.0, 'неть': 32.0, 'обеспокоить': 21.0, 'обстоятельство': 11.0, 'сей': 12.0, 'единый': 14.0, 'фронт': 15.0, 'выступать': 3.0, 'намечаться': 21.0, 'раскол': 3.0, 'new': 12.0, 'york': 13.0, 'post': 27.0, 'согласно': 14.0, 'стенограмма': 7.0, 'опубликовывать': 1.0, 'четверг': 8.0, 'во': 7.0, 'встреча': 8.0, 'офис': 9.0, 'беспокойство': 7.0, 'апелляционный': 5.0, 'посредник': 2.0, 'частично': 7.0, 'объяснять': 1.0, 'опасение': 14.0, 'штат': 0.0, 'двигаться': 25.0, 'параллельный': 26.0, 'курс': 27.0, 'первоначально': 0.0, 'вынести': 9.0, '22': 9.0, 'председатель': 10.0, 'откладывать': 5.0, '24': 18.0, 'вот': 2.0, 'опять': 18.0, 'отсрочка': 8.0, 'Присутствовать': 9.0, 'обоснованный': 7.0, 'жалоба': 4.0, 'заявитель': 4.0, 'находить': 2.0, 'таковой': 1.0, 'буквальный': 5.0, 'цитирование': 6.0, 'ответственность': 16.0, 'лежать': 16.0, 'рассмотрение': 27.0, 'продолжительный': 7.0, 'встречаться': 4.0, 'заинтересованный': 24.0, 'напоминать': 3.0, 'никогда': 4.0, 'отличаться': 5.0, 'предсказуемость': 6.0, 'порой': 8.0, 'соответствовать': 15.0, 'существовать': 5.0, 'традиция': 15.0, 'всегда': 15.0, 'логичный': 20.0, 'изящный': 22.0, 'даже': 22.0, 'телеведущий': 19.0, 'явиться': 12.0, 'журналист': 14.0, 'председательствовать': 3.0, 'расписываться': 8.0, 'повестка': 3.0, 'явка': 11.0, 'ли': 11.5, 'приступать': 1.0, 'завтра': 9.0, 'утро': 8.0, 'существо': 5.0, '2': 7.0, 'декабрь': 11.0, 'состояться': 7.0, 'роль': 2.0, 'противник': 9.0, 'рамка': 9.0, 'CNet': 1.0, 'седьмой': 10.0, 'переговоры': 16.0, 'трижды': 35.0, 'оканчиваться': 36.0, 'ничто': 19.0, 'раунд': 5.0, '6': 7.0, 'письменный': 11.0, 'устный': 25.0, 'утверждение': 3.0, 'за': 21.0, 'принятие': 0.0, 'предоставлять': 5.0, 'материальный': 9.0, 'вознаграждение': 14.0, 'соответствующий': 4.0, 'обеспечение': 12.0, 'вице-премьер': 8.0, 'российский': 22.0, 'проект': 64.0, 'этап': 25.0, 'состоять': 2.0, 'иллюстрировать': 16.0, 'нарушение': 9.0, 'законодательство': 8.0, 'обосновывать': 8.0, 'значимость': 6.0, 'факт': 5.0, 'отражать': 3.0, 'обнародовать': 2.0, 'пункт': 21.0, 'у': 5.5, 'сильный': 8.0, 'поддержка': 0.0, 'со': 14.0, 'второй': 18.0, 'гораздо': 10.0, 'менее': 5.0, 'ясный': 6.0, 'четко': 18.0, 'сформулировать': 15.0, 'серьезно': 18.0, 'влиять': 9.0, 'начинаться': 8.0, 'прошлый': 12.0, 'неделя': 11.0, 'вынесение': 12.0, 'слушание': 3.0, 'проходить': 11.0, 'среда': 1.0, '8': 4.0, 'присутствие': 11.0, 'высокий': 8.0, 'ранг': 2.0, 'позволять': 27.0, 'широкий': 4.0, 'спектр': 14.0, 'статья': 13.0, 'вслед': 21.0, 'прения': 26.0, 'поправка': 7.0, 'специальный': 10.0, 'юрисдикция': 11.0, 'совершение': 10.0, 'преступление': 4.0, 'ведение': 3.0, 'война': 20.0, 'похищение': 24.0, 'самолет': 13.0, '30': 5.0, 'увенчаться': 11.0, 'успех': 10.0, 'очередь': 9.0, 'проживать': 6.0, 'лидер': 4.0, 'организация': 21.0, 'аль': 4.0, 'шариатский': 14.0, 'шейх': 3.0, 'бин': 10.0, 'мусульманин': 21.0, 'террор': 24.0, 'вооруженный': 27.0, 'россия': 23.0, 'посольство': 32.0, 'рубеж': 34.0, 'военный': 22.0, 'аэродром': 39.0, 'объект': 41.0, 'инфраструктура': 42.0, 'учитывать': 22.0, 'reuters': 27.0, 'возобновить': 22.0, 'вряд': 16.0, 'принимать': 12.0, 'micro': 11.0, 'Leader': 10.0, 'business': 9.0, 'убежденный': 2.0, 'надеяться': 7.0, 'инстанция': 26.0, 'сегодняшний': 16.0, 'вернуться': 5.0, 'камера': 23.0, 'соглашаться': 6.0, 'краевой': 3.0, 'избирательный': 4.0, 'комиссия': 11.0, 'присяжный': 11.0, 'идти': 20.0, 'речь': 2.0, 'выезжать': 24.0, 'предел': 17.0, 'цель': 29.0, 'секс': 31.0, 'несовершеннолетний': 33.0, 'соблазнять': 37.0, 'несовершеннолетняя': 38.0, 'содержаться': 17.0, 'частный': 13.0, 'определение': 10.0, 'отказ': 1.0, 'заключительный': 1.0, 'трудный': 5.0, 'тянущться': 12.0, 'сражение': 17.0, 'термин': 21.0, 'playboy': 23.0, 'продвигать': 27.0, 'веб-сайт': 29.0, 'дата': 6.0, 'появление': 51.0, 'перед': 0.0, 'трибунал': 1.0, 'пока': 10.0, 'заместитель': 6.0, 'начальник': 11.0, 'государственный': 22.0, 'правовой': 4.0, 'мэрия': 4.0, 'постоянно': 0.0, 'незаконность': 1.0, 'региональный': 4.0, 'милиция': 12.0, 'без': 9.0, 'консультация': 8.0, 'глава': 7.0, 'субъект': 5.0, '10': 10.0, 'кассационный': 9.0, 'Л': 1.0, 'наносить': 2.0, 'ущерб': 5.0, 'художник': 12.0, 'графический': 14.0, 'дизайнер': 15.0, 'фотограф': 11.0, 'помещать': 19.0, 'com': 14.0, 'стоять': 13.0, 'ссылка': 12.0, 'оригинальный': 10.0, 'страница': 9.0, 'позаимствовать': 5.0, 'изображение': 3.5, 'ситуация': 1.0, 'автор': 5.0, 'большинство': 23.0, 'групповой': 20.0, 'предъявлять': 12.0, 'последний': 3.0, 'когда': 7.0, 'монополист': 3.0, 'действовать': 12.0, 'настоящий': 9.0, 'параллельно': 9.0, 'продолжаться': 6.0, 'уже': 15.0, 'отослать': 0.0, 'вариант': 32.0, 'январь': 1.0, 'виновный': 4.0, 'злоупотребление': 11.0, 'лавина': 19.0, 'мы': 10.0, 'наблюдать': 0.0, 'сейчас': 16.0, 'казаться': 31.0, 'ручеек': 32.0, 'сравнение': 34.0, 'приходить': 3.5, 'во-первых': 7.0, 'выгода': 11.0, 'занятие': 14.0, 'себя': 16.0, 'пиратский': 24.0, 'файл': 25.0, 'ограничивать': 1.0, 'сайт': 9.0, 'руководство': 16.0, 'летчик': 10.0, 'участвоваать': 12.0, 'бомбардировка': 14.0, 'dvd': 28.0, 'Copyright': 8.0, 'Control': 5.0, 'Association': 6.0, 'хакер': 21.5, 'программный': 14.0, 'взлом': 27.0, 'digital': 6.0, 'video': 19.0, 'disc': 20.0, 'накладывать': 28.0, 'временный': 5.0, 'распространение': 2.0, 'associated': 22.0, 'press': 23.0, '29': 6.0, 'потребовать': 1.0, 'публиковать': 10.0, 'называться': 14.0, 'the': 13.0, 'Brethren': 12.0, 'герой': 3.0, 'трое': 1.0, 'отбывать': 1.0, 'срок': 15.0, 'колония': 15.0, 'режим': 17.0, 'решетка': 2.0, 'делить': 0.0, 'свободный': 9.0, 'изучение': 4.0, 'солагерник': 10.0, 'серьезный': 12.0, 'эксперт': 7.0, 'соглашение': 4.0, 'флотский': 3.0, 'контрразведка': 4.0, 'презумпция': 8.0, 'невиновность': 20.0, 'Печерский': 0.0, 'районный': 1.0, 'возбуждать': 4.0, 'уголовный': 21.0, 'неправомочный': 16.0, 'спикер': 12.0, 'вице-спикер': 14.0, 'рад': 16.0, 'александр': 18.0, 'частность': 1.0, '21': 9.0, 'руководить': 22.0, 'систематически': 20.0, 'чинить': 21.0, 'препятствие': 15.0, 'народный': 24.0, 'избранник': 25.0, 'число': 18.0, 'попадать': 20.0, 'рабочий': 35.0, 'место': 9.0, 'сессионный': 39.0, 'зал': 18.0, 'подосадовать': 2.0, 'брать': 14.0, 'переложить': 11.0, 'насамарский': 13.0, 'впервые': 17.0, 'освобождать': 3.0, 'республика': 2.0, 'новость': 7.0, 'полномочие': 9.0, 'лишать': 4.0, 'анатолий': 2.0, 'чилийский': 0.0, 'диктатор': 14.0, 'Аугусто': 2.0, 'выявлять': 13.0, 'дисфункция': 11.0, 'мозг': 11.0, 'отвечать': 3.0, 'смысл': 5.0, 'Мадридский': 0.0, 'инициатор': 3.0, 'экс-диктатор': 7.0, 'медицинский': 10.0, 'оздоровий': 12.0, 'министерство': 5.0, 'иностранный': 16.0, 'отправлять': 3.0, 'газета': 12.0, 'выдача': 9.0, 'ордер': 8.0, 'арест': 6.0, 'брайан': 1.0, 'распорядиться': 3.0, 'досье': 7.0, 'видеть': 16.0, 'подавлять': 0.0, 'переизбирать': 2.0, 'нынешний': 21.0, 'голосовать': 1.0, '18': 4.0, 'передавать': 16.0, 'тогда': 0.0, 'закрывать': 2.0, 'оно': 2.0, 'выходить': 3.0, '31': 8.0, 'гарантия': 14.5, 'прекратить': 25.0, 'исполнение': 9.0, 'обязанность': 5.0, '7': 14.0, 'деятельность': 19.0, 'предоставление': 4.0, 'социальный': 1.0, 'незаконно': 7.0, 'устанавливать': 19.0, 'привилегия': 10.0, 'кучка': 12.0, 'должностной': 17.0, 'оказываться': 56.0, 'отставка': 18.0, 'чадо': 26.0, 'домочадец': 28.0, 'собственный': 6.0, 'квартира': 1.0, 'убивать': 0.0, 'выясняться': 12.0, 'убийство': 14.0, 'происходить': 4.0, 'около': 6.0, 'исчезновение': 0.0, 'поступать': 9.0, 'отпуск': 13.0, 'гражданский': 8.0, 'следствие': 29.0, 'профессиональный': 3.0, 'норма': 26.0, 'обязанный': 9.0, '65-й': 8.0, 'минута': 22.0, 'забивать': 5.0, 'гол': 2.0, 'из-за': 12.0, 'офсайд': 4.0, 'называть': 20.0, 'исторический': 3.0, 'так': 19.0, 'давно': 2.0, 'табачный': 8.0, 'изделие': 9.0, 'опасный': 2.0, 'здоровье': 16.0, 'Рэй': 4.0, 'независимый': 6.0, 'октябрь': 5.0, 'тверской': 4.0, 'лучший': 13.0, 'современность': 0.0, 'итальянец': 2.0, 'обслуживать': 5.0, 'ответный': 6.0, 'полуфинальный': 10.0, 'матч': 17.0, 'турецкий': 4.0, 'мексиканский': 20.0, 'высылать': 18.0, 'главарь': 15.0, 'мафия': 9.0, 'разыскивать': 9.0, '1990': 3.0, 'подготовка': 6.0, 'покушение': 6.0, 'кульминация': 9.0, 'конфликт': 8.0, 'обращение': 1.0, 'квалификационный': 1.0, 'представление': 6.0, 'прекращение': 7.0, 'судно': 19.0, 'приморский': 20.0, 'складываться': 10.0, 'вынужденный': 0.0, 'пойти': 2.0, 'крайний': 4.0, 'мера': 8.0, 'голодовка': 6.0, 'протест': 3.0, 'политика': 26.0, 'останавливать': 6.0, 'таможенник': 1.0, 'обращаться': 9.0, 'разъяснение': 4.0, 'поддерживать': 2.0, 'позиция': 13.0, 'май': 6.0, 'соответствие': 8.0, 'церемония': 6.0, 'инаугурация': 5.0, 'информация': 9.0, 'возможный': 1.0, 'раздел': 13.0, 'акция': 33.0, 'стремительно': 8.0, 'bbc': 13.0, 'страсть': 3.0, 'накалиться': 2.0, 'удалить': 0.0, 'скамейка': 3.0, 'запасной': 4.0, 'участие': 1.0, 'игра': 19.0, 'латать': 10.0, 'слишком': 7.5, 'шумно': 15.0, 'выражать': 21.0, 'недовольство': 18.0, 'ближайший': 2.0, 'римский': 0.0, 'Санджованниприступит': 1.0, 'наследник': 5.0, 'Щукинадокументов': 6.0, 'заключать': 10.0, 'Mondadori': 12.0, 'Эрмитаж': 14.0, 'удаваться': 20.0, 'сша': 18.0, 'настаивать': 24.0, 'рассматриваться': 14.0, 'сразу': 19.0, 'миновать': 20.0, 'промежуточный': 21.0, 'разделение': 9.0, 'снятие': 5.0, 'ограничение': 8.0, 'вступить': 3.0, 'основывать': 3.0, 'покупатель': 22.0, 'производитель': 22.0, 'приобретать': 32.0, 'непосредственно': 11.0, 'политический': 23.0, 'интрига': 61.0, 'организовывать': 3.0, 'опасность': 4.0, 'помеха': 45.0, 'план': 41.0, 'построение': 40.0, 'самый': 11.0, 'возврат': 26.0, 'тоталитарный': 19.0, 'прошлое': 19.5, 'ГУЛАГ': 8.0, 'диктатура': 4.0, 'курировавший': 3.0, 'французский': 12.0, 'аукцион': 5.0, 'Yahoo': 18.0, 'оскорблять': 8.0, 'коллективный': 9.0, 'память': 10.0, 'обязать': 8.5, 'июль': 31.0, 'отчет': 20.0, 'предотвращение': 28.0, 'француз': 15.0, 'несоблюдение': 4.0, 'некоторый': 1.0, 'формальность': 1.0, 'переоформление': 5.0, '3': 1.0, 'ведущий': 1.0, 'основываться': 8.0, 'изменять': 8.0, 'обычный': 14.0, 'одновременно': 4.0, 'приостановить': 2.0, 'вводить': 3.0, 'возвращение': 1.0, 'рассмотреть': 8.0, 'просить': 6.0, 'разделять': 2.0, 'полномочияпредседатель': 2.0, 'секретариат': 3.0, 'отстранить': 1.0, 'поступок': 24.0, 'позорять': 11.0, 'честь': 0.0, 'достоинство': 28.0, 'вице-губернатор': 9.0, 'Отстраненный': 4.0, 'приезжать': 13.0, 'справедливость': 9.0, 'регламент': 6.0, 'отсутствие': 0.0, 'уважительный': 1.0, 'причина': 2.0, 'пояснять': 15.0, '14': 0.0, 'статус': 17.0, 'конфликтовать': 1.0, 'прикрывать': 3.0, 'Саварес': 4.0, 'чемпион': 8.0, 'мир': 7.0, 'тяжелый': 20.0, 'вес': 28.0, 'оттащить': 14.0, 'ринг': 18.0, 'боксер': 19.0, 'настоятель': 7.0, 'Покровский': 8.0, 'приход': 9.0, 'целое': 15.0, 'беспочвять': 16.0, 'долгосрочный': 25.0, 'аренда': 26.0, 'парковый': 27.0, 'территория': 6.0, 'издавать': 5.0, 'владелец': 7.0, 'GeoCities': 11.0, 'требуемый': 17.0, 'персональный': 18.0, 'данные': 2.0, 'аноним': 20.0, 'третейский': 0.0, 'Мэрили': 0.0, 'создание': 14.0, 'фан-клуб': 13.0, 'намереваться': 2.0, 'продавать': 17.0, 'держатель': 19.0, 'торговый': 22.0, 'марка': 23.0, 'приговаривать': 6.0, 'тюрьма': 16.5, 'дипломатический': 16.0, 'миссия': 15.0, 'разморожать': 12.0, 'парижский': 0.0, 'правосудие': 10.0, 'Альдижер': 1.0, 'Noga': 6.0, 'возмещать': 8.0, 'диппредставительство': 10.0, 'затрата': 14.0, 'размер': 4.0, 'тысяча': 0.0, 'франк': 9.0, 'сотрудник': 2.0, 'Go': 3.0, 'network': 4.0, 'разрабатывать': 5.0, 'бюро': 7.0, 'очень': 11.0, 'эффективный': 12.0, 'бороться': 8.0, 'сексуальный': 16.0, 'преступность': 4.0, 'письмо': 17.0, 'разоблачать': 11.0, 'тайный': 10.0, 'сотрудничество': 9.0, 'поручать': 9.0, 'специалист': 11.5, 'подробно': 13.5, 'изучать': 14.0, 'технический': 4.0, 'антифашист': 5.0, 'встречный': 1.0, 'аргумент': 9.0, 'оспаривать': 5.0, 'регулировать': 10.0, 'постановлять': 0.0, 'игнорировать': 0.0, 'компьютерный': 4.0, 'код': 18.5, 'настолько': 15.0, 'форма': 14.0, 'самовыражение': 13.0, 'насколько': 16.0, 'выражение': 6.0, 'взгляд': 0.0, 'ставить': 0.0, 'приводить': 20.0, 'прямой': 34.0, 'автоматический': 33.0, 'загрузка': 32.0, 'Decss': 3.0, 'функционально': 18.0, 'пользователь': 6.0, 'хакерский': 5.0, 'служить': 4.0, 'millennium': 7.0, 'Act': 9.0, 'нелегальный': 11.0, 'неверно': 0.0, 'интерпретировать': 1.0, 'грозить': 10.0, 'уничтожать': 11.0, 'преимущество': 6.0, 'каков': 7.0, 'вероятность': 8.0, 'преступник': 8.0, 'оставлять': 0.0, 'досрочный': 19.0, 'лишение': 18.0, 'судейский': 9.0, 'квалификация': 12.0, 'свидетель': 2.0, 'предприниматель': 11.0, 'муж': 0.0, 'Локтионовый': 2.0, 'взятка': 0.0, 'гласящий': 7.0, 'запись': 11.0, 'согласие': 3.0, 'собеседник': 20.0, 'применимый': 23.0, 'электронный': 22.0, 'почта': 26.0, 'чат': 28.0, 'приватный': 32.0, 'беседа': 0.0, 'помощь': 6.0, 'записывать': 6.0, 'метр': 1.0, 'устройство': 7.0, 'автоматически': 17.0, 'вполне': 0.0, 'разумно': 1.0, 'учет': 5.0, 'ежедневно': 8.0, 'количество': 11.0, 'странно': 18.0, 'разрешение': 11.0, 'сохранение': 25.0, 'испанский': 0.0, 'Мид': 7.0, 'говорить': 2.0, 'обоснование': 11.0, 'осматривать': 17.0, 'врач': 3.0, 'версия': 27.0, 'правоохранительный': 17.0, 'теракт': 5.0, 'оказывать': 15.0, 'давление': 13.0, 'временно': 4.0, 'взламывать': 11.0, 'цифровой': 13.0, 'завершаться': 8.0, 'хоть': 2.0, 'настраивать': 16.0, 'правозащитный': 16.0, 'Electronic': 13.0, 'Frontier': 13.0, 'Foundation': 12.0, 'обещать': 7.0, 'похоже': 10.0, 'смехотворность': 8.0, 'желание': 26.0, 'распоряжение': 1.0, 'вещественный': 22.0, 'доказательство': 22.0, 'футболка': 24.0, 'спина': 30.0, 'сторонник': 13.0, 'идеология': 34.0, 'open-source': 35.0, 'раздавать': 36.0, 'выдавать': 4.0, 'хищение': 13.0, 'госбюджет': 16.0, 'продажа': 20.0, 'нефть': 21.0, 'le': 28.0, 'Monde': 29.0, 'разрешать': 1.0, 'удалять': 1.0, 'матка': 2.0, '28-летний': 3.0, 'Telegraph': 3.0, 'отказывать': 2.0, 'обнаруживать': 0.0, 'осуждать': 6.0, 'восемь': 5.0, 'раз': 8.0, 'злоупотребеление': 15.0, 'наркотик': 16.0, '1976': 18.0, 'спустя': 7.0, 'выгонять': 0.0, 'поле': 8.0, 'бить': 6.0, 'сбивать': 2.0, 'жалеть': 1.0, 'желтый': 4.0, 'штрафной': 8.0, 'вновь': 29.0, 'хладнокровно': 15.0, 'реализовать': 19.0, 'суровыйприговор': 4.0, 'когда-либо': 11.0, 'Мтбя': 0.0, 'генерал': 3.0, 'нести': 3.0, 'личной': 4.0, 'командир': 6.0, 'человечность': 13.0, 'нарушенияЖеневский': 16.0, 'конвенция': 17.0, 'попрание': 19.0, 'обычай': 22.0, 'двое': 0.0, 'пиночет': 13.0, 'санкционирование': 9.0, 'пытка': 10.0, 'правление': 4.0, 'нация': 8.0, 'пообещать': 0.0, 'свалить': 5.0, 'бомбардир': 14.0, 'команда': 6.0, 'пенальти': 3.0, 'столичный': 4.0, 'прошение': 7.0, 'семь': 0.0, 'парламентский': 14.0, 'неприкосновенность': 2.0, 'корреспондент': 5.0, 'Сантьяго': 2.0, 'над': 7.0, 'процедура': 11.0, 'главный': 13.5, 'задача': 13.0, 'чешский': 8.0, 'филиал': 11.0, 'борьба': 8.0, 'грязный': 7.0, 'протяжение': 7.0, 'предлагать': 0.0, 'Micorsoft': 6.0, 'владеть': 10.0, 'давать': 1.0, 'низший': 3.0, 'пожизненный': 29.0, 'ускорять': 7.0, 'подготавливать': 4.0, 'изменение': 4.0, 'пресечение': 10.0, '175': 3.0, '448': 8.0, 'свисток': 1.0, 'молчать': 0.0, 'пара': 16.0, 'точный': 7.0, 'удар': 7.0, 'надежда': 5.0, 'недавний': 3.0, 'меньший': 12.0, 'разный': 16.0, 'структура': 17.0, 'сценарий': 21.0, 'событие': 23.0, 'экстремальный': 25.0, 'проблема': 19.0, 'намек': 10.0, 'Пфильцер': 1.0, '1989': 7.0, 'надзирать': 13.0, 'Хоуля': 2.0, 'проявлять': 25.0, 'малейший': 33.0, 'гибкость': 34.0, 'трактование': 36.0, 'поднадзорному': 42.0, 'область': 16.0, 'ознакомлять': 4.0, 'поступить': 7.0, 'обсуждать': 0.0, 'активист': 17.0, 'антитабачный': 16.0, 'кампания': 8.0, 'расти': 3.0, 'расхождение': 3.0, 'берег': 1.0, 'вы': 4.0, 'достаточно': 7.0, 'глупый': 8.0, 'курить': 11.0, 'рак': 14.0, 'легкое': 16.0, 'изъятие': 8.0, 'лицензия': 12.0, 'оружие': 16.0, 'детективный': 30.0, 'охранный': 32.0, 'инцидент': 19.0, 'повздорить': 4.0, 'подраться': 2.0, 'возникать': 12.0, 'словесный': 11.0, 'перепалка': 10.0, 'умудряться': 5.0, 'железный': 3.0, 'ударять': 1.0, 'вносить': 30.0, 'включение': 27.0, 'состав': 0.0, 'создавать': 7.0, 'именно': 10.0, 'сессия': 9.0, 'кандидатура': 2.0, '117-й': 13.0, 'чемпионат': 8.0, 'футбол': 5.0, 'сборная': 13.0, 'ворота': 5.0, 'португалец': 6.0, 'неумолимый': 1.0, 'безупречный': 6.0, 'столь': 5.0, 'дикий': 17.0, 'проиграть': 12.0, 'полуфинал': 10.0, 'Риадя': 3.0, 'впредвзятости': 0.0, 'выбегать': 11.0, 'корт': 9.0, 'мать': 15.0, 'рождать': 11.0, 'момент': 7.0, 'крикнуть': 0.0, 'balls': 4.0, 'please': 5.0, 'констатировать': 0.0, 'оплата': 3.0, 'агитационный': 4.0, 'наличные': 6.0, 'выборы': 14.0, 'подсудимый': 1.0, 'циничный': 4.0, 'суверенитет': 7.0, 'снимать': 8.0, 'признать': 13.0, 'правило': 3.0, 'предвыборный': 22.0, 'агитация': 20.0, 'получение': 10.0, 'отстраненный': 14.0, 'август': 5.0, 'местусодержание': 11.0, 'подследственный': 10.0, 'стража': 0.0, 'железнодорожный': 5.0, 'районаКрасноярск': 4.0, 'центральный': 0.0, 'район': 1.0, 'нарушеныположение': 1.0, '94-й': 3.0, 'кодекс': 4.0, 'поручитель': 11.0, 'подписка': 11.0, 'поручительство': 26.0, 'отменоймера': 30.0, 'быстрый': 3.0, 'завершение': 4.0, 'способствовать': 7.0, 'расизм': 10.0, 'помогать': 12.0, 'репутация': 14.0, 'освобождение': 20.0, 'бесспорно': 10.0, 'руководствоваться': 1.0, 'возобновлять': 8.0, 'сбор': 8.0, 'дополнительный': 11.0, 'март': 23.0, 'текущий': 3.0, 'дальнейший': 7.0, 'разбойный': 2.0, 'нападение': 1.0, 'подъезд': 1.0, 'дом': 14.0, 'где': 3.0, 'похищать': 12.0, 'минувший': 4.0, 'залог': 17.0, 'физика': 10.0, 'небрежный': 18.0, 'стратегический': 21.0, 'секрет': 22.0, 'приговорить': 7.0, 'уплачивать': 16.0, 'Коннектикут': 20.0, 'конкуренция': 23.0, 'закрытие': 3.0, 'доказать': 0.0, 'клиент': 11.0, 'утверждать': 27.0, 'любопытный': 5.0, 'башкирия': 14.0, 'мировой': 0.0, 'universal': 11.0, '45': 7.0, 'готовый': 0.0, '150': 5.0, 'группа': 10.0, 'нижний': 22.0, 'президиум': 17.0, 'счесть': 1.0, 'функция': 5.0, 'подразделение': 4.0, 'охрана': 3.0, 'силовой': 4.0, 'пристав': 2.0, 'исполнитель': 11.0, 'проведение': 9.0, 'имущество': 11.0, 'взыскание': 23.0, 'денежный': 4.0, 'средство': 25.0, 'дожны': 2.0, 'одобрять': 2.0, 'сумма': 2.0, 'взыскать': 8.0, 'ожидать': 8.0, 'финальный': 1.0, '-докладчикий': 0.0, 'определять': 14.0, 'неконституционный': 8.0, 'практика': 17.0, 'продавец': 17.0, 'авторский': 18.0, 'облагать': 24.0, 'налог': 25.0, 'стоимость': 28.0, 'несколькосблизиться': 4.0, 'Салониуспредоставлять': 1.0, 'компромиссной': 6.0, 'орт': 2.0, 'инструкция': 6.0, 'заработный': 18.0, 'плата': 19.0, 'высказываться': 1.0, '15': 13.0, 'особый': 23.0, 'ua': 11.0, 'today': 12.0, 'радиостанция': 18.0, 'вторжение': 11.0, 'жизнь': 8.0, 'сотрудница': 16.0, 'белый': 17.0, 'заслушать': 0.0, 'подозреваемый': 1.0, 'практически': 8.0, 'безукоризненно': 7.0, 'выполнить': 6.0, 'элемент': 6.0, 'оценка': 4.0, '5,7': 1.0, '5,8': 3.0, 'балл': 4.0, 'схема': 3.0, 'Demon': 6.0, 'избрать': 9.0, 'невинный': 12.0, 'воскресный': 8.0, 'выпуск': 21.0, 'ежедневный': 6.0, 'times': 2.0, 'достигать': 14.0, 'познер': 22.0, 'противоречие': 16.0, 'сближение': 5.0, 'длиться': 15.0, 'почти': 8.0, 'сорвать': 4.0, 'следующий': 25.0, 'вплоть': 8.0, 'разукрупнение': 5.0, 'огласить': 1.0, 'девятнадцать': 15.0, '23': 2.0, '26': 30.0, 'отнюдь': 0.0, 'неожиданный': 3.0, 'качество': 11.0, 'апрель': 6.0, 'окончательно': 7.0, 'тупик': 2.0, 'вынуждать': 1.0, 'окончание': 20.0, 'ожидание': 5.0, 'резко': 3.0, 'скончаться': 20.0, 'постель': 8.0, 'почет': 5.0, 'уважение': 2.0, 'среди': 19.0, 'сравнивать': 3.0, 'писать': 6.0, 'ansa': 9.0, 'сойти': 15.0, 'преисподняя': 17.0, 'выйти': 21.0, 'оттуда': 22.0, 'свет': 24.0, 'вина': 14.0, 'ожидатьэтого': 19.0, 'амбиция': 24.0, 'совесть': 28.0, 'находиться': 8.0, 'отозвать': 5.0, 'нью-йорксий': 0.0, 'Mpaa': 6.0, 'законно': 7.0, 'потому': 8.5, '2600': 14.0, 'альтернативный': 17.0, 'готовность': 22.0, 'немного': 19.0, 'маркетинговый': 25.0, 'прислать': 0.0, 'очередной': 4.0, 'исправление': 26.0, 'косметический': 30.0, 'фактически': 3.0, 'никак': 35.0, 'расклад': 7.0, 'конкурентный': 41.0, 'болезнь': 0.0, 'старший': 7.0, 'брат': 12.0, 'республиканский': 17.0, 'глазнойклиник': 18.0, 'готовить': 2.0, 'операция': 22.0, 'аналогичный': 1.0, 'обязывать': 2.0, 'оператор': 5.0, 'сто': 11.0, 'официально': 8.0, 'протокол': 1.0, 'подписать': 1.0, 'подписание': 13.0, 'уйтинесколько': 1.0, '17': 7.0, 'символ': 6.0, 'невыполнение': 6.0, 'парламентарий': 4.0, 'препятствование': 1.0, 'уполномоченный': 3.0, 'армеец': 10.0, 'уступать': 8.0, 'опротестовывать': 1.5, 'обоснованность': 4.0, 'арбитр': 2.0, 'спортивный': 17.0, 'больше': 6.0, 'формулировка': 6.0, 'склонный': 4.0, 'лояльность': 0.0, 'хвалить': 4.0, 'передать': 13.0, 'иметь': 2.0, 'возможность': 4.0, '90': 30.0, 'очевидный': 5.0, 'сперва': 6.0, 'реальный': 6.0, 'ждать': 7.0, '50': 18.0, 'том': 2.0, 'доказывать': 2.0, 'полностью': 12.0, 'содеять': 14.0, 'квалифицировать': 22.0, 'правильно': 16.0, 'Белорецкий': 0.0, 'горсуд': 1.0, 'какой': 1.0, 'выплачивать': 9.0, 'доставлять': 3.0, 'накануне': 3.5, 'больший': 6.0, 'управляющий': 3.0, 'павел': 7.0, 'ныне': 11.0, 'белорусский': 16.0, 'союз': 17.0, 'ознакомить': 7.0, 'фрунзенский': 0.0, 'датировать': 5.0, 'изъятый': 2.0, 'улика': 5.0, 'выполнимый': 13.0, 'ибо': 15.0, 'правомочный': 18.0, 'следователь': 15.0, 'изъять': 30.0, 'необходимый': 5.0, 'убить': 4.0, 'одноклассник': 7.0, 'насильник': 8.0, 'вон': 10.0, 'хорошо': 6.0, 'подчеркивать': 4.0, 'Генпрокуратура': 4.0, 'судебномрешение': 2.0, 'примененыненадлежащий': 0.0, '-процессуальный': 3.0, 'томчисло': 8.0, 'признанный': 10.0, '218': 16.0, 'обжалование': 19.0, 'исключительный': 16.0, 'аналитический': 11.0, 'Thomas': 9.0, 'Weisel': 8.0, 'тоже': 7.0, 'приведение': 2.0, 'существенно': 2.0, 'неразделенный': 14.0, 'расследуть': 3.0, 'об': 5.0, 'bank': 10.0, 'of': 11.0, 'банкир': 1.0, 'кто': 14.0, 'допросить': 7.0, 'управлять': 6.0, 'коммерческий': 7.0, 'показание': 19.0, 'интересовать': 1.0, 'окружение': 14.0, 'бизнесмен': 7.5, 'черный': 8.0, 'требоваться': 3.0, '18,3': 11.0, 'вымогательство': 14.0, '36': 13.0, 'подкуп': 0.0, 'история': 5.0, 'любовь': 1.0, 'пожилой': 0.0, 'жить': 14.0, 'консервативнойфранцузский': 3.0, 'провинция': 20.0, 'польский': 7.0, 'проститутка': 8.0, 'двадцать': 0.0, 'половина': 2.0, 'час': 5.0, 'заслушивать': 4.0, 'список': 15.0, 'Aegis': 20.0, 'архиепископ': 18.0, 'тут': 15.0, 'лауреат': 13.0, 'нобелевский': 12.0, 'премия': 11.0, 'переживать': 6.0, 'холокост': 5.0, 'Эли': 3.0, 'шесть': 6.0, 'спасать': 11.0, 'спартак': 13.0, 'соображение': 4.0, 'полный': 4.0, 'объем': 15.0, 'бандит': 10.0, 'поддельный': 7.0, 'мелкомхулиганство': 6.0, 'сутки': 12.0, '4': 4.0, 'игрок': 1.0, 'лечебный': 6.0, 'эффект': 7.0, 'распространяться': 5.0, 'Хамди': 14.0, 'отец': 9.0, 'девочка': 14.0, 'благодарный': 0.0, 'армия': 7.0, 'восстанавливать': 8.0, 'заканчивать': 1.0, 'четырехчасовое': 2.0, 'совещание': 3.0, 'разъезжаться': 5.0, 'обнародовывать': 12.0, '11': 6.0, '9': 16.0, 'el': 27.0, 'Mostrador': 6.0, 'спешить': 1.0, 'неуверенность': 6.0, 'никто': 15.0, 'сообщаться': 12.0, 'свидетельствовать': 12.0, 'источник': 5.0, 'разделяться': 0.0, 'голосование': 6.0, 'минимальный': 5.0, 'отрицать': 7.0, 'подтверждать': 2.0, 'следственный': 4.0, 'поручение': 0.0, 'сегодня': 8.0, 'Соотвутствующий': 4.0, 'Клаудета': 2.0, 'Терезинья': 3.0, 'некомпетентность': 0.0, 'генконсул': 21.0, 'арестовывать': 9.0, 'допрос': 1.0, 'заблаговременно': 13.0, 'разослать': 14.0, 'совместно': 0.0, 'Ахмад': 8.0, 'боевик': 5.0, 'включая': 7.0, 'степень': 14.0, 'развязывание': 17.0, 'чеченский': 0.0, 'гражданин': 5.0, 'дисквалифицировать': 12.0, 'мучительно': 6.0, 'да': 4.0, 'прерывать': 15.0, 'надзирающий': 9.0, 'законность': 19.0, 'приказ': 0.0, 'оперативный': 13.0, 'розыскной': 11.0, 'мероприятие': 10.0, '25': 10.0, 'сентябрь': 11.0, 'годаВерховный': 4.0, 'Ю': 1.0, 'буквально': 7.0, 'покоренный': 2.0, 'великолепный': 9.0, 'акробатический': 10.0, 'ошибка': 10.0, 'олимпийский': 18.0, 'соотечественник': 2.0, 'марафонец': 4.0, 'золотой': 7.0, 'медаль': 8.0, 'соломинка': 7.0, 'переломить': 9.0, 'хребет': 10.0, 'верблюдо': 11.0, 'объяснение': 15.0, 'Omega': 17.0, 'почему': 22.0, 'дочерний': 14.0, 'торговать': 26.0, 'новогодний': 27.0, 'елка': 28.0, \"Sporty's\": 31.0, 'farm': 32.0, 'гружеть': 0.0, 'Беганская': 2.0, 'Nsi': 6.0, 'рассудить': 5.0, 'домять': 11.0, 'законодатель': 3.0, 'урегулировать': 5.0, 'бездействуть': 9.0, 'домен': 10.0, 'подпадать': 16.0, 'переносезаседания': 2.0, 'улучшение': 4.0, 'самочувствие': 5.0, 'заболевание': 9.0, 'несмотря': 12.0, 'вничью': 5.0, 'победа': 0.0, 'отдавать': 0.0, 'борец': 2.0, 'врачебный': 2.0, 'состояние': 15.0, 'неутешительный': 1.0, 'экс-президент': 7.0, '500': 21.0, 'обвинитель': 1.0, 'отдел': 7.0, 'Рашидхан': 10.0, 'Napster': 3.0, 'любить': 15.0, 'невозможный': 2.0, 'исполнить': 21.0, 'учесть': 2.0, 'личность': 3.0, 'ответ': 8.0, 'защитник': 8.0, 'аргументировать': 19.0, 'психический': 11.0, 'расстройство': 10.0, 'голова': 5.0, '1996': 3.0, 'альтернатива': 10.0, 'трактовать': 9.0, 'по-разному': 10.0, 'странный': 14.0, 'радикальный': 4.0, 'лингвист': 14.0, 'подписывать': 9.0, 'Корреа': 1.0, 'було': 2.0, 'аргентинский': 8.5, 'причастность': 17.0, 'столица': 2.0, 'главнокомандующий': 14.0, 'жена': 25.0, 'Галиано': 2.0, 'котляковский': 15.0, 'кладбище': 16.0, 'премьер': 15.0, 'указ': 8.0, 'повышение': 5.0, 'служащий': 1.0, 'прокурорский': 1.0, 'работник': 2.0, 'персонал': 5.0, 'солдат': 7.0, 'легко': 12.0, 'покидать': 10.0, 'введение': 7.0, '13': 38.0, 'отрицательный': 9.0, '41': 1.0, '16': 1.0, 'талиб': 4.0, 'иметься': 5.0, 'террористический': 14.0, 'означать': 10.0, 'голос': 24.0, 'подсчитывать': 16.0, 'штаб': 3.0, 'ручной': 7.0, 'перестать': 8.0, 'продолжать': 5.0, 'ввиду': 35.0, 'взаимоисключающий': 33.0, 'приостанавливать': 13.0, 'узнавать': 1.0, 'разрешить': 5.0, 'прием': 1.0, 'пересчет': 19.0, 'выяснение': 3.0, 'невыезд': 13.0, 'распоряжаться': 1.0, 'сдавать': 5.0, 'паспорт': 5.0, 'белизский': 13.0, 'огнестрельный': 15.0, 'надевать': 18.0, 'нога': 6.0, 'браслет': 23.0, 'следить': 29.0, 'перемещение': 32.0, 'оправдывать': 6.0, 'хулиган': 5.0, 'охватывать': 9.0, 'взаимность': 17.0, 'становить': 3.0, 'вернуть': 8.0, 'истица': 5.0, 'дискета': 12.0, 'конфиденциальный': 14.0, 'оплачивать': 4.0, 'издержка': 21.0, 'сведение': 26.0, 'составлять': 32.0, 'фунт': 35.0, 'стерлинг': 36.0, 'переносить': 9.0, 'хотеть': 2.0, 'информировать': 0.0, 'несостоявшийся': 7.0, 'убийца': 4.0, 'отклонить': 0.0, 'располагать': 0.0, 'административный': 5.0, 'центр': 6.0, 'госсекретарь': 11.0, 'объявление': 0.0, 'уоррен': 5.0, 'демократ': 10.0, 'опротестовать': 14.0, 'итог': 16.0, 'опыт': 15.0, 'наш': 14.0, 'пращур': 13.0, 'выбирать': 3.0, 'предводитель': 8.0, 'хан': 6.0, 'беков': 4.0, 'полководец': 1.0, 'достойный': 4.0, 'высоконравственный': 6.0, 'согражданин': 7.0, 'достаточный': 3.0, 'избирать': 5.0, 'вид': 15.0, 'домашний': 15.0, 'детский': 1.0, 'направление': 13.0, 'приют': 6.0, 'приемный': 21.0, 'предлог': 5.0, 'родитель': 9.0, 'затребовать': 6.0, 'копия': 9.0, 'возбуждение': 12.0, 'преследование': 22.0, 'медиа': 4.0, 'магнат': 11.0, 'отмена': 34.0, 'необоснованно': 1.0, 'подзащитный': 2.0, 'перевод': 15.0, 'вилла': 19.0, 'полицейский': 27.0, 'надзор': 27.0, 'четверо': 31.0, 'Бальтасара': 3.0, 'хосе': 9.0, 'Аснар': 7.0, 'Асебес': 2.0, 'холдинг': 8.0, 'экстрадиция': 16.0, 'Остальский': 19.0, 'уносить': 0.0, 'прервать': 7.0, '1:0': 10.0, 'хозяин': 13.0, 'daily': 4.0, '1987': 7.0, 'биржевой': 14.0, 'спекулянт': 15.0, 'привилегированная': 24.0, 'приватизация': 17.0, 'Marceau': 3.0, 'Investissements': 4.0, 'Societe': 18.0, 'Generale': 19.0, 'условие': 8.0, 'скрываться': 15.0, 'договариваться': 3.0, 'сокамерником': 1.0, 'платить': 1.0, 'полтора': 7.0, 'предполагать': 5.0, 'снисходительный': 14.0, 'сокамерник': 4.0, '-магнат': 5.0, 'Pais': 28.0, 'гробница': 1.0, 'египетский': 0.0, 'Инть': 0.0, 'египтолог': 1.0, 'открытие': 4.0, 'вынесший': 3.0, 'сюжет': 1.0, 'Нвтор': 8.0, 'калининградский': 13.0, 'показать': 16.0, 'ночной': 6.0, 'клевета': 3.0, 'экс-губернатор': 7.0, 'телекомпания': 21.0, 'деталь': 1.0, 'воспитание': 2.0, 'животное': 3.0, 'воля': 5.0, 'конкретный': 15.0, 'сохранять': 2.0, 'миллиард': 7.0, 'посить': 16.0, 'евро': 20.0, 'уходить': 16.0, 'гвардия': 9.0, 'Женевский': 0.0, 'выдать': 1.0, 'Столповский': 6.0, 'подозрение': 8.0, 'группировка': 4.0, 'Эфэ': 20.0, 'короткий': 20.0, 'избежать': 14.0, 'фаворит': 12.0, 'Бережная': 10.0, 'выводить': 0.0, 'единогласный': 1.0, '49-летний': 1.0, 'ливиец': 2.0, '1988': 10.0, 'погибать': 12.0, '270': 19.0, 'Afp': 5.0, '84': 0.0, '230': 2.0, 'бумага': 19.666666666666668, 'прочитывать': 7.0, 'вменяемый': 5.0, 'особенно': 4.0, 'европейский': 10.0, 'совершенно': 8.0, 'юридически': 10.0, 'бессмысленный': 11.0, 'значить': 15.0, 'бояться': 19.0, 'проверка': 11.0, 'ценность': 30.0, 'подчеркнуть': 41.0, 'собака': 27.0, 'напасть': 23.0, 'удивительный': 17.0, 'собачий': 12.0, 'лай': 11.0, 'удивлять': 9.0, 'судьба': 5.0, 'телеканал': 8.0, 'предшествовать': 1.0, 'сопровождение': 26.0, 'агент': 7.0, 'военизированный': 11.0, 'формальный': 5.0, 'согласный': 10.0, 'добровольный': 14.0, 'национальный': 18.0, 'выдвижение': 17.0, 'Эшкрофт': 11.0, 'мешать': 4.0, 'некий': 0.0, 'воздушный': 15.0, 'морской': 17.0, 'транспорт': 18.0, 'передвигать': 21.0, 'дискредитировать': 13.0, 'обыск': 4.0, 'положенный': 3.0, 'подобный': 7.0, 'переходный': 22.0, 'период': 23.0, 'организовать': 7.0, 'планировать': 4.0, 'мотивировать': 15.0, 'кто-то': 15.0, 'звонить': 22.0, 'строго': 16.0, 'аукционный': 8.0, 'наказывать': 11.0, 'вор': 15.0, 'уличение': 1.0, 'сговор': 3.0, 'хороший': 6.0, 'урок': 7.0, 'импульс': 10.0, 'взаимоконтроль': 12.0, 'немедленно': 0.0, 'собираться': 1.0, 'представительство': 31.0, 'лозунг': 24.0, 'гласивший': 22.0, 'несправедливый': 9.0, 'ты': 1.0, 'покончить': 12.0, 'твой': 9.0, 'дача': 1.0, 'статуя': 10.0, 'скульптура': 13.0, 'церетели': 19.0, 'дарить': 21.0, 'Юрий': 25.0, 'вертолет': 6.0, 'производить': 7.0, 'подход': 4.0, 'обязательный': 16.0, 'должный': 24.0, 'нужный': 6.0, 'заменять': 8.0, 'переводчик': 10.0, 'Шерил': 18.0, 'Джун': 23.0, 'Эдмонд': 12.0, 'Поуп': 11.0, 'излагать': 3.0, '40': 21.0, 'лист': 5.0, 'законный': 5.0, 'кемеровский': 8.0, '25-й': 17.0, 'заключенный': 18.0, 'возраст': 13.0, '80': 22.0, 'курский': 0.0, 'суббота': 21.0, 'регистрация': 7.0, 'приставить': 18.0, 'безопасность': 8.0, 'угрожать': 1.0, 'Руцкий': 1.0, 'пол': 3.0, 'субботний': 12.0, 'информационный': 12.0, 'зачитывать': 0.0, 'пресненский': 0.0, 'собирать': 22.0, 'предупредить': 18.0, 'разглашение': 26.0, 'восьмилетный': 10.0, 'пребывание': 9.0, 'консервативный': 0.0, 'ориентация': 1.0, 'либерал': 5.0, 'будущий': 6.0, 'зависеть': 5.0, 'конкретно': 0.0, 'консерватор': 3.0, 'старый': 6.0, 'расстановка': 9.0, 'аналогично': 20.0, 'сместить': 15.0, 'влево': 11.0, 'каденция': 4.0, 'либеральный': 0.0, 'досрочно': 2.0, 'приписывать': 8.0, 'баскский': 9.0, 'сепаратист': 12.0, 'взрываться': 1.0, 'машина': 2.0, 'слушанье': 7.0, 'посвящать': 9.0, 'гореть': 3.0, 'шофер': 5.0, 'телохранитель': 7.0, 'конвой': 10.0, 'американец': 6.0, 'сизо': 4.0, 'справка': 0.0, 'дежурный': 2.0, 'лефортовский': 4.0, 'приступ': 14.0, 'остеохандроз': 15.0, 'тазобедренный': 16.0, 'сустав': 17.0, 'двусторонний': 19.0, 'радикулит': 20.0, 'отразить': 4.0, 'Эрв': 0.0, 'катастрофа': 12.0, 'алкоголь': 14.0, 'превышение': 18.0, 'скорость': 19.0, 'девять': 1.0, 'мотоциклист': 9.0, 'преследовать': 11.0, 'спутник': 15.0, 'подвергнуться': 9.0, 'суровый': 8.0, 'критика': 7.0, 'громкий': 17.0, 'Bertelsmann': 7.0, 'Music': 6.0, 'group': 5.0, 'лето': 0.0, 'сервис': 9.0, 'мощный': 5.0, 'полковник': 11.0, 'Поповских': 13.0, 'Оксана': 15.0, 'аккредитация': 19.0, 'сми': 20.0, 'по-прежнему': 15.0, 'открытый': 7.0, 'пресса': 12.0, 'телевизионный': 7.0, 'репортаж': 8.0, 'разглашаться': 39.0, 'упоминаться': 13.0, 'установление': 25.0, 'истина': 26.0, 'нина': 1.0, 'смягчать': 10.0, 'наличие': 19.0, 'награда': 14.0, 'заражать': 0.0, 'спид': 6.0, 'пригрозить': 0.0, 'конвоир': 1.0, 'заразить': 4.0, 'дубина': 7.0, 'склонить': 9.0, 'флоридский': 0.0, 'аннулирование': 17.0, 'открепительный': 20.0, 'бюллетень': 21.0, 'флорида': 9.0, 'Солс': 2.0, 'cnn': 5.0, 'United': 13.0, 'Refining': 14.0, 'блокировка': 8.0, 'сделка': 3.0, 'покупка': 26.0, 'Getty': 23.0, 'нефтяной': 14.0, 'наибольший': 16.0, 'акционер': 20.0, 'выгодный': 35.0, 'нежели': 40.0, 'изложить': 6.0, 'продолжение': 11.0, 'полгода': 62.0, 'заморозить': 61.0, 'снова': 2.0, 'немецкий': 50.0, 'партнер': 49.0, 'заплатить': 47.0, 'неустойка': 43.0, 'пригласить': 34.0, 'съемка': 32.0, 'рено': 30.0, 'невыполнимый': 18.0, 'голубой': 6.0, 'бездна': 5.0, 'сыграть': 0.0, 'смерть': 23.0, 'взятие': 5.0, '03мскать': 10.0, 'совещательный': 5.0, 'комната': 6.0, 'истечение': 2.0, 'тендерный': 1.0, 'Габриэль': 9.0, '450': 14.0, 'сходиться': 2.0, 'исправлять': 3.0, 'Тимоти': 15.0, 'МакВя': 1.0, 'ответственный': 12.0, '1995': 3.0, 'оттягиваний': 1.0, 'смертный': 3.0, 'казнь': 4.0, 'оговаривать': 11.0, 'обратиться': 1.0, 'подать': 9.0, '120': 26.0, 'впрочем': 9.0, 'авдокать': 7.0, 'понравиться': 0.0, 'психологический': 25.0, 'экспертиза': 7.0, 'осужденный': 5.0, 'километр': 22.0, 'север': 24.0, 'характер': 2.0, 'подвергаться': 7.0, 'Efe': 10.0, 'рекомендация': 2.0, 'указать': 6.0, 'бегство': 10.0, 'помилование': 9.0, 'формирование': 5.0, 'избрание': 0.0, 'госслужба': 3.0, 'следовать': 6.0, 'третий': 15.0, 'прыжок': 6.0, 'образ': 1.0, 'встречать': 12.0, 'дочь': 15.0, 'приемная': 18.0, 'ребенок': 32.0, 'Гом': 1.0, 'вместо': 2.0, 'вырабатывать': 12.0, 'способ': 13.0, 'свастика': 17.0, 'желать': 9.0, 'заявка': 12.0, 'беседовать': 0.0, 'дверь': 3.0, 'зритель': 5.0, 'прислушиваться': 8.0, 'россиянка': 10.0, 'мэтр': 9.0, 'воспроизводить': 2.0, 'прежний': 1.0, 'хрупкий': 9.0, 'поэтому': 4.0, 'Маша': 3.0, 'надо': 14.0, 'предстать': 0.0, 'голый': 1.0, 'примерно': 6.0, 'пяить': 8.0, 'северный': 17.0, 'нигерия': 18.0, 'причинять': 17.0, 'Кайрон': 15.0, 'Хенн-ли': 14.0, 'разводиться': 13.0, 'Маккой': 8.0, '1994': 6.0, 'оформление': 1.0, 'развод': 0.0, '66': 15.0, 'ликвидация': 9.0, 'общенациональный': 8.0, 'телевидение': 7.0, 'присуждать': 10.0, '900': 5.0, 'уменьшать': 0.0, '480': 3.0, 'ядовитый': 6.0, 'враждебность': 7.0, 'ненависть': 10.0, 'наручник': 7.0, 'сомнение': 3.0, 'расправа': 11.0, 'убитый': 14.0, 'беременный': 16.0, 'ожжеть': 19.0, 'заживо': 20.0, 'комсомолец': 9.0, 'председательствующий': 0.0, 'вызвать': 8.0, 'редактор': 23.0, 'экс-дипломат': 5.0, 'возмущать': 4.0, 'доверенность': 3.0, 'неожиданно': 3.0, 'замена': 2.0, 'одиннадцать': 7.0, 'эстрада': 9.0, 'постоянный': 12.0, 'круг': 16.0, 'близкий': 18.0, 'бесстыдный': 7.0, 'офицер': 1.0, 'коридор': 1.0, 'прострелить': 3.0, 'палец': 1.0, 'больница': 17.0, 'пакет': 19.0, 'законопроект': 6.0, 'льготный': 15.0, 'проезд': 0.0, 'таможня': 6.0, 'налоговый': 4.0, 'впоследствии': 12.0, 'внимание': 2.0, 'проконсультироваться': 15.0, 'высокопоставлать': 22.0, 'арестованный': 5.0, 'лекарство': 8.0, 'побоище': 1.0, 'четверть': 18.0, 'кремлевский': 12.0, 'дополнительно': 2.0, '6900': 1.0, 'аппарат': 3.0, '1,5': 6.0, 'рубль': 8.0, 'финансирование': 12.0, 'киргизия': 10.0, 'повторно': 6.0, 'Болтон': 27.0, 'уверять': 26.0, 'соавтор': 18.0, 'слышать': 2.0, 'песня': 13.0, 'Айсли': 11.0, 'убеждать': 0.0, 'василий': 2.0, 'Бальтасар': 4.0, 'необходимость': 1.0, 'граница': 10.0, 'Медиа': 4.0, 'певец': 11.0, 'стать': 5.0, 'искусство': 1.0, 'Мухамед': 3.0, 'прецедент': 8.0, 'обращать': 1.0, 'утешаться': 3.0, 'втрое': 3.0, 'долждать': 0.0, 'усмотрение': 9.0, 'срочный': 7.0, 'ночь': 17.0, 'мистер': 7.0, 'как-то': 5.0, 'расплакаться': 2.0, 'относиться': 1.0, 'снисходительно': 3.0, 'потом': 2.0, 'рано': 20.0, 'вдруг': 9.0, 'раздаться': 10.0, 'блеяние': 11.0, 'молодой': 17.0, 'спрятать': 17.0, 'одежда': 19.0, 'ягенка': 20.0, 'неудачный': 26.0, 'отсмеяться': 1.0, 'роженица': 5.0, 'середина': 6.0, 'Макво': 1.0, 'жаловаться': 1.0, 'грязь': 10.0, 'душа': 23.0, 'свидетельство': 28.0, 'терять': 24.0, 'хозяйство': 20.0, 'переставать': 18.0, 'убирать': 17.0, 'запускать': 15.0, 'потеря': 10.0, 'совместный': 7.0, 'уйгура': 19.0, 'Мемет': 17.0, 'пособничество': 13.0, 'казнить': 9.0, 'показывать': 0.0, 'ноготь': 7.0, 'дисциплинарный': 12.0, 'публика': 5.0, 'прямо': 6.0, 'косвенно': 8.0, 'эксплуатировать': 10.0, 'уязвимый': 12.0, 'заключять': 6.0, 'мост': 17.0, 'спор': 26.0, 'пятилетний': 1.0, 'водитель': 7.0, 'предупреждение': 10.0, 'телефон': 24.0, 'вождение': 27.0, 'укрепление': 4.0, 'Похорелска': 1.0, 'подача': 4.0, 'относительно': 14.0, 'график': 0.0, 'обмен': 23.0, 'отделение': 6.0, 'текст': 4.0, 'послание': 3.0, 'адрес': 0.0, 'надлежащий': 11.0, 'заверенный': 13.0, 'доктор': 3.0, 'насчитывать': 5.0, 'признак': 8.0, 'стоить': 12.0, 'Ньюпортский': 0.0, 'королевский': 1.0, 'замечать': 4.0, 'психиатрический': 32.0, 'лечебница': 33.0, 'гражданка': 19.0, 'разлучить': 6.0, 'сменить': 0.0, 'отстранять': 0.0, 'отказать': 10.0, 'каникулы': 17.0, 'обследование': 11.0, 'проведений': 6.0, 'наконец': 22.0, 'Бэрри': 4.0, 'возможно': 16.0, 'обычно': 6.0, 'быстро': 13.0, 'томиться': 19.0, 'обидеться': 3.0, 'официант': 9.0, 'чипсы': 14.0, 'приказывать': 3.0, 'кафе': 9.0, 'много': 7.0, 'посетитель': 6.0, 'заказ': 0.0, 'обслужить': 6.0, 'разозлиться': 1.0, 'Кунцевский': 1.0, 'литература': 15.0, 'знакомиться': 17.0, '1999': 12.0, 'комплексный': 8.0, 'учение': 6.0, 'иегова': 3.0, 'господствовать': 7.0, 'конкурент': 16.0, 'неприязненно': 1.0, 'строить': 14.0, 'комиссовать': 5.0, 'травма': 19.0, 'головной': 10.0, 'Сергеева': 1.0, 'ранний': 14.0, 'стремиться': 9.0, 'любезно': 0.0, 'переносый': 7.0, 'изменяться': 1.0, 'избиение': 25.0, 'казанский': 2.0, 'баскетбол': 16.0, '56': 14.0, '52': 12.0, 'щит': 3.0, 'игровой': 3.0, 'площадка': 2.0, 'избить': 0.0, 'выполнение': 1.0, 'происхождение': 7.0, 'явствовать': 14.0, 'замгенпрокурор': 18.0, 'содействовать': 27.0, 'авиакомпания': 18.0, 'дискриминационный': 10.0, 'толстый': 6.0, 'узаконивать': 16.0, 'взимание': 18.0, 'двойной': 19.0, 'тариф': 20.0, 'авиаперевозка': 22.0, 'пассажир': 24.0, 'повышать': 27.0, 'допрашивать': 3.0, 'прибывать': 9.0, 'какой-то': 1.0, 'визит': 3.0, 'вежливость': 4.0, 'тишина': 8.0, 'компетенция': 1.0, 'предельный': 1.0, '70': 2.0, 'увеличивать': 6.0, 'гость': 22.0, 'начало': 11.0, 'благословение': 6.0, 'близкие': 4.0, 'убедительный': 8.0, 'Погорелска': 0.0, 'недостаточно': 4.0, 'компетентный': 5.0, 'вместе': 9.0, 'звезда': 16.0, 'wwf': 15.0, 'Rock': 12.0, 'Джонсон': 11.0, 'Sting': 8.0, 'возобновление': 10.0, '85-летний': 10.0, 'вначале': 4.0, 'резиденция': 5.0, 'мотивировывать': 3.0, 'неправомерный': 9.0, 'собрание': 19.0, 'общегражданский': 23.0, 'футболист': 5.0, 'обязываться': 4.0, 'боковой': 1.0, 'Ananova': 5.0, '-Мост': 11.0, 'Черемушкинский': 0.0, 'внеочередной': 18.0, 'Baltasar': 3.0, 'Garzon': 4.0, 'вставать': 0.0, 'Бориспольский': 0.0, 'порекомендовать': 1.0, 'отслеживать': 4.0, 'Riaa': 7.0, 'свежий': 8.0, 'релиз': 9.0, 'популярный': 10.0, 'музыка': 13.0, 'спрос': 17.0, 'пират': 19.0, 'блокировать': 22.0, 'попадание': 29.0, 'соперник': 6.0, 'часто': 5.0, 'норвежский': 0.0, 'играть': 3.0, 'Joel': 3.0, 'Lazarus': 4.0, 'смягчение': 17.0, 'жестокость': 24.0, 'пострадавшая': 26.0, 'Tiffany': 30.0, 'Eunick': 31.0, 'пропадать': 10.0, 'Бетти': 0.0, 'Betty': 4.0, 'Adams': 5.0, 'green': 6.0, 'мальчик': 10.0, 'посещать': 13.0, 'обед': 18.0, 'специально': 13.0, 'рекомендовать': 18.0, 'Alan': 3.0, 'Postman': 4.0, 'супруга': 20.0, 'изнасилование': 24.0}\n"
          ],
          "name": "stdout"
        }
      ]
    }
  ]
}