{
  "nbformat": 4,
  "nbformat_minor": 0,
  "metadata": {
    "colab": {
      "name": "Untitled11.ipynb",
      "provenance": [],
      "machine_shape": "hm",
      "authorship_tag": "ABX9TyNK+KWMgTnXQTBTkKnzJZPo",
      "include_colab_link": true
    },
    "kernelspec": {
      "display_name": "Python 3",
      "name": "python3"
    },
    "language_info": {
      "name": "python"
    }
  },
  "cells": [
    {
      "cell_type": "markdown",
      "metadata": {
        "id": "view-in-github",
        "colab_type": "text"
      },
      "source": [
        "<a href=\"https://colab.research.google.com/github/Vakhranev/Compling/blob/master/Untitled11.ipynb\" target=\"_parent\"><img src=\"https://colab.research.google.com/assets/colab-badge.svg\" alt=\"Open In Colab\"/></a>"
      ]
    },
    {
      "cell_type": "code",
      "metadata": {
        "id": "6Fjsy7qUP5Dr"
      },
      "source": [
        "import pandas as pd"
      ],
      "execution_count": 104,
      "outputs": []
    },
    {
      "cell_type": "code",
      "metadata": {
        "id": "V15AjyLhP-XA"
      },
      "source": [
        "import numpy as np"
      ],
      "execution_count": null,
      "outputs": []
    },
    {
      "cell_type": "code",
      "metadata": {
        "id": "flVb34q-qV-F"
      },
      "source": [
        "from google.colab import drive"
      ],
      "execution_count": null,
      "outputs": []
    },
    {
      "cell_type": "code",
      "metadata": {
        "colab": {
          "base_uri": "https://localhost:8080/"
        },
        "id": "JjvEs1oPqcfy",
        "outputId": "5c742169-4e68-47b3-8794-53d7f77e0271"
      },
      "source": [
        "drive.mount('/content/drive')"
      ],
      "execution_count": null,
      "outputs": [
        {
          "output_type": "stream",
          "text": [
            "Mounted at /content/drive\n"
          ],
          "name": "stdout"
        }
      ]
    },
    {
      "cell_type": "code",
      "metadata": {
        "colab": {
          "base_uri": "https://localhost:8080/"
        },
        "id": "TFCc5ghEzQVA",
        "outputId": "3c9167b5-4497-45b6-fb3b-32d5a5214ab3"
      },
      "source": [
        "!pip install pynput"
      ],
      "execution_count": null,
      "outputs": [
        {
          "output_type": "stream",
          "text": [
            "Collecting pynput\n",
            "\u001b[?25l  Downloading https://files.pythonhosted.org/packages/fd/f7/cb6e7edb8bb46bb38ac8c4f8065e6e3abaaef3436ecd7fe139ca5ba93c3c/pynput-1.7.3-py2.py3-none-any.whl (99kB)\n",
            "\u001b[K     |████████████████████████████████| 102kB 4.4MB/s \n",
            "\u001b[?25hCollecting evdev>=1.3; \"linux\" in sys_platform\n",
            "  Downloading https://files.pythonhosted.org/packages/4d/ec/bb298d36ed67abd94293253e3e52bdf16732153b887bf08b8d6f269eacef/evdev-1.4.0.tar.gz\n",
            "Requirement already satisfied: six in /usr/local/lib/python3.7/dist-packages (from pynput) (1.15.0)\n",
            "Collecting python-xlib>=0.17; \"linux\" in sys_platform\n",
            "\u001b[?25l  Downloading https://files.pythonhosted.org/packages/54/c3/45ecfd3e6a541bb4b383fc320a32762703cfe28763c131d71f4183ace819/python_xlib-0.30-py2.py3-none-any.whl (178kB)\n",
            "\u001b[K     |████████████████████████████████| 184kB 8.0MB/s \n",
            "\u001b[?25hBuilding wheels for collected packages: evdev\n",
            "  Building wheel for evdev (setup.py) ... \u001b[?25l\u001b[?25hdone\n",
            "  Created wheel for evdev: filename=evdev-1.4.0-cp37-cp37m-linux_x86_64.whl size=97417 sha256=11d79117b0742dec3dc63a9a5dba9b2b36e5a0a0c2c3d1338a46ca9536b751d8\n",
            "  Stored in directory: /root/.cache/pip/wheels/66/35/1d/38b2de1421ede48ebf0107faea56163d07059110b116a794a3\n",
            "Successfully built evdev\n",
            "Installing collected packages: evdev, python-xlib, pynput\n",
            "Successfully installed evdev-1.4.0 pynput-1.7.3 python-xlib-0.30\n"
          ],
          "name": "stdout"
        }
      ]
    },
    {
      "cell_type": "code",
      "metadata": {
        "colab": {
          "base_uri": "https://localhost:8080/"
        },
        "id": "3I4pj-0Hm_JL",
        "outputId": "fdb599e4-3e51-476e-c333-ca00b8acf4f0"
      },
      "source": [
        "!pip install patool"
      ],
      "execution_count": null,
      "outputs": [
        {
          "output_type": "stream",
          "text": [
            "Collecting patool\n",
            "\u001b[?25l  Downloading https://files.pythonhosted.org/packages/43/94/52243ddff508780dd2d8110964320ab4851134a55ab102285b46e740f76a/patool-1.12-py2.py3-none-any.whl (77kB)\n",
            "\r\u001b[K     |████▎                           | 10kB 17.2MB/s eta 0:00:01\r\u001b[K     |████████▌                       | 20kB 22.6MB/s eta 0:00:01\r\u001b[K     |████████████▊                   | 30kB 11.3MB/s eta 0:00:01\r\u001b[K     |█████████████████               | 40kB 8.8MB/s eta 0:00:01\r\u001b[K     |█████████████████████▏          | 51kB 5.5MB/s eta 0:00:01\r\u001b[K     |█████████████████████████▍      | 61kB 6.5MB/s eta 0:00:01\r\u001b[K     |█████████████████████████████▋  | 71kB 6.6MB/s eta 0:00:01\r\u001b[K     |████████████████████████████████| 81kB 4.4MB/s \n",
            "\u001b[?25hInstalling collected packages: patool\n",
            "Successfully installed patool-1.12\n"
          ],
          "name": "stdout"
        }
      ]
    },
    {
      "cell_type": "code",
      "metadata": {
        "id": "-kQuffDZnHau"
      },
      "source": [
        "import patoolib"
      ],
      "execution_count": null,
      "outputs": []
    },
    {
      "cell_type": "code",
      "metadata": {
        "id": "NpYKO8Hfq8Py"
      },
      "source": [
        "archive = '/content/drive/My Drive/lenta-ru-news.rar'"
      ],
      "execution_count": null,
      "outputs": []
    },
    {
      "cell_type": "code",
      "metadata": {
        "colab": {
          "base_uri": "https://localhost:8080/",
          "height": 103
        },
        "id": "cKGXHhrmnLEn",
        "outputId": "9cd42732-7594-428a-b90e-c90526ff9e36"
      },
      "source": [
        "patoolib.extract_archive(archive)"
      ],
      "execution_count": null,
      "outputs": [
        {
          "output_type": "stream",
          "text": [
            "patool: Extracting /content/drive/My Drive/lenta-ru-news.rar ...\n",
            "patool: running /usr/bin/unrar x -- \"/content/drive/My Drive/lenta-ru-news.rar\"\n",
            "patool:     with cwd='./Unpack_ji7t4s0d'\n",
            "patool: ... /content/drive/My Drive/lenta-ru-news.rar extracted to `lenta-ru-news.csv'.\n"
          ],
          "name": "stdout"
        },
        {
          "output_type": "execute_result",
          "data": {
            "application/vnd.google.colaboratory.intrinsic+json": {
              "type": "string"
            },
            "text/plain": [
              "'lenta-ru-news.csv'"
            ]
          },
          "metadata": {
            "tags": []
          },
          "execution_count": 9
        }
      ]
    },
    {
      "cell_type": "code",
      "metadata": {
        "id": "IQfMeLOuSjVS"
      },
      "source": [
        "corpora = pd.read_csv('lenta-ru-news.csv',engine='python', error_bad_lines=False)"
      ],
      "execution_count": null,
      "outputs": []
    },
    {
      "cell_type": "code",
      "metadata": {
        "colab": {
          "base_uri": "https://localhost:8080/",
          "height": 289
        },
        "id": "P4L8CwAyTlAl",
        "outputId": "6011f3f6-4601-4f36-c8a6-f955547fc749"
      },
      "source": [
        "corpora.head()"
      ],
      "execution_count": null,
      "outputs": [
        {
          "output_type": "execute_result",
          "data": {
            "text/html": [
              "<div>\n",
              "<style scoped>\n",
              "    .dataframe tbody tr th:only-of-type {\n",
              "        vertical-align: middle;\n",
              "    }\n",
              "\n",
              "    .dataframe tbody tr th {\n",
              "        vertical-align: top;\n",
              "    }\n",
              "\n",
              "    .dataframe thead th {\n",
              "        text-align: right;\n",
              "    }\n",
              "</style>\n",
              "<table border=\"1\" class=\"dataframe\">\n",
              "  <thead>\n",
              "    <tr style=\"text-align: right;\">\n",
              "      <th></th>\n",
              "      <th>url</th>\n",
              "      <th>title</th>\n",
              "      <th>text</th>\n",
              "      <th>topic</th>\n",
              "      <th>tags</th>\n",
              "      <th>date</th>\n",
              "    </tr>\n",
              "  </thead>\n",
              "  <tbody>\n",
              "    <tr>\n",
              "      <th>0</th>\n",
              "      <td>https://lenta.ru/news/1914/09/16/hungarnn/</td>\n",
              "      <td>1914. Русские войска вступили в пределы Венгрии</td>\n",
              "      <td>Бои у Сопоцкина и Друскеник закончились отступ...</td>\n",
              "      <td>Библиотека</td>\n",
              "      <td>Первая мировая</td>\n",
              "      <td>1914/09/16</td>\n",
              "    </tr>\n",
              "    <tr>\n",
              "      <th>1</th>\n",
              "      <td>https://lenta.ru/news/1914/09/16/lermontov/</td>\n",
              "      <td>1914. Празднование столетия М.Ю. Лермонтова от...</td>\n",
              "      <td>Министерство народного просвещения, в виду про...</td>\n",
              "      <td>Библиотека</td>\n",
              "      <td>Первая мировая</td>\n",
              "      <td>1914/09/16</td>\n",
              "    </tr>\n",
              "    <tr>\n",
              "      <th>2</th>\n",
              "      <td>https://lenta.ru/news/1914/09/17/nesteroff/</td>\n",
              "      <td>1914. Das ist Nesteroff!</td>\n",
              "      <td>Штабс-капитан П. Н. Нестеров на днях, увидев в...</td>\n",
              "      <td>Библиотека</td>\n",
              "      <td>Первая мировая</td>\n",
              "      <td>1914/09/17</td>\n",
              "    </tr>\n",
              "    <tr>\n",
              "      <th>3</th>\n",
              "      <td>https://lenta.ru/news/1914/09/17/bulldogn/</td>\n",
              "      <td>1914. Бульдог-гонец под Льежем</td>\n",
              "      <td>Фотограф-корреспондент Daily Mirror рассказыва...</td>\n",
              "      <td>Библиотека</td>\n",
              "      <td>Первая мировая</td>\n",
              "      <td>1914/09/17</td>\n",
              "    </tr>\n",
              "    <tr>\n",
              "      <th>4</th>\n",
              "      <td>https://lenta.ru/news/1914/09/18/zver/</td>\n",
              "      <td>1914. Под Люблином пойман швабский зверь</td>\n",
              "      <td>Лица, приехавшие в Варшаву из Люблина, передаю...</td>\n",
              "      <td>Библиотека</td>\n",
              "      <td>Первая мировая</td>\n",
              "      <td>1914/09/18</td>\n",
              "    </tr>\n",
              "  </tbody>\n",
              "</table>\n",
              "</div>"
            ],
            "text/plain": [
              "                                           url  ...        date\n",
              "0   https://lenta.ru/news/1914/09/16/hungarnn/  ...  1914/09/16\n",
              "1  https://lenta.ru/news/1914/09/16/lermontov/  ...  1914/09/16\n",
              "2  https://lenta.ru/news/1914/09/17/nesteroff/  ...  1914/09/17\n",
              "3   https://lenta.ru/news/1914/09/17/bulldogn/  ...  1914/09/17\n",
              "4       https://lenta.ru/news/1914/09/18/zver/  ...  1914/09/18\n",
              "\n",
              "[5 rows x 6 columns]"
            ]
          },
          "metadata": {
            "tags": []
          },
          "execution_count": 11
        }
      ]
    },
    {
      "cell_type": "code",
      "metadata": {
        "colab": {
          "base_uri": "https://localhost:8080/"
        },
        "id": "1DQurJOoTv5H",
        "outputId": "ebe00c53-727c-49c8-e768-2d2be9ae7f8e"
      },
      "source": [
        "corpora['text'].head()"
      ],
      "execution_count": null,
      "outputs": [
        {
          "output_type": "execute_result",
          "data": {
            "text/plain": [
              "0    Бои у Сопоцкина и Друскеник закончились отступ...\n",
              "1    Министерство народного просвещения, в виду про...\n",
              "2    Штабс-капитан П. Н. Нестеров на днях, увидев в...\n",
              "3    Фотограф-корреспондент Daily Mirror рассказыва...\n",
              "4    Лица, приехавшие в Варшаву из Люблина, передаю...\n",
              "Name: text, dtype: object"
            ]
          },
          "metadata": {
            "tags": []
          },
          "execution_count": 12
        }
      ]
    },
    {
      "cell_type": "code",
      "metadata": {
        "id": "GVcrViOPWcU9"
      },
      "source": [
        "import re"
      ],
      "execution_count": 12,
      "outputs": []
    },
    {
      "cell_type": "code",
      "metadata": {
        "colab": {
          "base_uri": "https://localhost:8080/"
        },
        "id": "zhTN8bdSUk29",
        "outputId": "88985f61-064e-4789-d46e-4468e459d97e"
      },
      "source": [
        "new_corpora = []\n",
        "for text in corpora['text']:\n",
        "  split_regex = re.compile(r'[.|!|?|…]')\n",
        "  sentences = filter(lambda t: t, [t.strip() for t in split_regex.split(str(text))])\n",
        "  for sentence in sentences:\n",
        "    new_corpora.append(sentence)\n",
        "print(len(new_corpora))"
      ],
      "execution_count": null,
      "outputs": [
        {
          "output_type": "stream",
          "text": [
            "9233828\n"
          ],
          "name": "stdout"
        }
      ]
    },
    {
      "cell_type": "code",
      "metadata": {
        "colab": {
          "base_uri": "https://localhost:8080/"
        },
        "id": "qUQbnlBEYEuB",
        "outputId": "75260817-bbe9-424f-d51e-ee12b94be080"
      },
      "source": [
        "new_corpora[0:10]"
      ],
      "execution_count": null,
      "outputs": [
        {
          "output_type": "execute_result",
          "data": {
            "text/plain": [
              "['Бои у Сопоцкина и Друскеник закончились отступлением германцев',\n",
              " 'Неприятель, приблизившись с севера к Осовцу начал артиллерийскую борьбу с крепостью',\n",
              " 'В артиллерийском бою принимают участие тяжелые калибры',\n",
              " 'С раннего утра 14 сентября огонь достиг значительного напряжения',\n",
              " 'Попытка германской пехоты пробиться ближе к крепости отражена',\n",
              " 'В Галиции мы заняли Дембицу',\n",
              " 'Большая колонна, отступавшая по шоссе от Перемышля к Саноку, обстреливалась с высот нашей батареей и бежала, бросив парки, обоз и автомобили',\n",
              " 'Вылазки гарнизона Перемышля остаются безуспешными',\n",
              " 'При продолжающемся отступлении австрийцев обнаруживается полное перемешивание их частей, захватываются новые партии пленных, орудия и прочая материальная часть',\n",
              " 'На перевале Ужок мы разбили неприятельский отряд, взяли его артиллерию и много пленных и, продолжая преследовать, вступили в пределы Венгрии']"
            ]
          },
          "metadata": {
            "tags": []
          },
          "execution_count": 15
        }
      ]
    },
    {
      "cell_type": "code",
      "metadata": {
        "colab": {
          "base_uri": "https://localhost:8080/"
        },
        "id": "bZAeU9qnqZOC",
        "outputId": "a2b83682-e09b-4632-ef24-a0ccdcf491ec"
      },
      "source": [
        "!pip install ufal.udpipe"
      ],
      "execution_count": null,
      "outputs": [
        {
          "output_type": "stream",
          "text": [
            "Collecting ufal.udpipe\n",
            "\u001b[?25l  Downloading https://files.pythonhosted.org/packages/e5/72/2b8b9dc7c80017c790bb3308bbad34b57accfed2ac2f1f4ab252ff4e9cb2/ufal.udpipe-1.2.0.3.tar.gz (304kB)\n",
            "\r\u001b[K     |█                               | 10kB 14.3MB/s eta 0:00:01\r\u001b[K     |██▏                             | 20kB 14.5MB/s eta 0:00:01\r\u001b[K     |███▎                            | 30kB 10.2MB/s eta 0:00:01\r\u001b[K     |████▎                           | 40kB 8.8MB/s eta 0:00:01\r\u001b[K     |█████▍                          | 51kB 5.6MB/s eta 0:00:01\r\u001b[K     |██████▌                         | 61kB 6.1MB/s eta 0:00:01\r\u001b[K     |███████▌                        | 71kB 6.2MB/s eta 0:00:01\r\u001b[K     |████████▋                       | 81kB 6.9MB/s eta 0:00:01\r\u001b[K     |█████████▊                      | 92kB 6.3MB/s eta 0:00:01\r\u001b[K     |██████████▊                     | 102kB 5.4MB/s eta 0:00:01\r\u001b[K     |███████████▉                    | 112kB 5.4MB/s eta 0:00:01\r\u001b[K     |█████████████                   | 122kB 5.4MB/s eta 0:00:01\r\u001b[K     |██████████████                  | 133kB 5.4MB/s eta 0:00:01\r\u001b[K     |███████████████                 | 143kB 5.4MB/s eta 0:00:01\r\u001b[K     |████████████████▏               | 153kB 5.4MB/s eta 0:00:01\r\u001b[K     |█████████████████▎              | 163kB 5.4MB/s eta 0:00:01\r\u001b[K     |██████████████████▎             | 174kB 5.4MB/s eta 0:00:01\r\u001b[K     |███████████████████▍            | 184kB 5.4MB/s eta 0:00:01\r\u001b[K     |████████████████████▌           | 194kB 5.4MB/s eta 0:00:01\r\u001b[K     |█████████████████████▌          | 204kB 5.4MB/s eta 0:00:01\r\u001b[K     |██████████████████████▋         | 215kB 5.4MB/s eta 0:00:01\r\u001b[K     |███████████████████████▊        | 225kB 5.4MB/s eta 0:00:01\r\u001b[K     |████████████████████████▉       | 235kB 5.4MB/s eta 0:00:01\r\u001b[K     |█████████████████████████▉      | 245kB 5.4MB/s eta 0:00:01\r\u001b[K     |███████████████████████████     | 256kB 5.4MB/s eta 0:00:01\r\u001b[K     |████████████████████████████    | 266kB 5.4MB/s eta 0:00:01\r\u001b[K     |█████████████████████████████   | 276kB 5.4MB/s eta 0:00:01\r\u001b[K     |██████████████████████████████▏ | 286kB 5.4MB/s eta 0:00:01\r\u001b[K     |███████████████████████████████▎| 296kB 5.4MB/s eta 0:00:01\r\u001b[K     |████████████████████████████████| 307kB 5.4MB/s \n",
            "\u001b[?25hBuilding wheels for collected packages: ufal.udpipe\n",
            "  Building wheel for ufal.udpipe (setup.py) ... \u001b[?25l\u001b[?25hdone\n",
            "  Created wheel for ufal.udpipe: filename=ufal.udpipe-1.2.0.3-cp37-cp37m-linux_x86_64.whl size=5626592 sha256=a0300cbf720059dc2d357626a385da73c9b2abf4f4db86332c9707fa55989443\n",
            "  Stored in directory: /root/.cache/pip/wheels/0c/9d/db/6d3404c33da5b7adb6c6972853efb6a27649d3ba15f7e9bebb\n",
            "Successfully built ufal.udpipe\n",
            "Installing collected packages: ufal.udpipe\n",
            "Successfully installed ufal.udpipe-1.2.0.3\n"
          ],
          "name": "stdout"
        }
      ]
    },
    {
      "cell_type": "code",
      "metadata": {
        "colab": {
          "base_uri": "https://localhost:8080/"
        },
        "id": "x70ogR4Qxn7K",
        "outputId": "9e455223-55a5-4621-828e-f71c5565dce2"
      },
      "source": [
        "!pip install wget"
      ],
      "execution_count": null,
      "outputs": [
        {
          "output_type": "stream",
          "text": [
            "Collecting wget\n",
            "  Downloading https://files.pythonhosted.org/packages/47/6a/62e288da7bcda82b935ff0c6cfe542970f04e29c756b0e147251b2fb251f/wget-3.2.zip\n",
            "Building wheels for collected packages: wget\n",
            "  Building wheel for wget (setup.py) ... \u001b[?25l\u001b[?25hdone\n",
            "  Created wheel for wget: filename=wget-3.2-cp37-none-any.whl size=9681 sha256=42cd3ccdf51b5f9f75ad3f307f35f08ad26da582a06a120329a7bb35e46fcdf5\n",
            "  Stored in directory: /root/.cache/pip/wheels/40/15/30/7d8f7cea2902b4db79e3fea550d7d7b85ecb27ef992b618f3f\n",
            "Successfully built wget\n",
            "Installing collected packages: wget\n",
            "Successfully installed wget-3.2\n"
          ],
          "name": "stdout"
        }
      ]
    },
    {
      "cell_type": "code",
      "metadata": {
        "id": "Gh4aDZpixwka"
      },
      "source": [
        "import wget\n",
        "import sys\n",
        "udpipe_url = 'https://rusvectores.org/static/models/udpipe_syntagrus.model'\n",
        "modelfile = wget.download(udpipe_url)"
      ],
      "execution_count": null,
      "outputs": []
    },
    {
      "cell_type": "code",
      "metadata": {
        "id": "UYJ2SPs5yQ_N"
      },
      "source": [
        "def process(pipeline, text='Строка', keep_pos=True, keep_punct=False):\n",
        "   entities = {'PROPN'}\n",
        "   named = False  # переменная для запоминания того, что нам встретилось имя собственное\n",
        "   memory = []\n",
        "   mem_case = None\n",
        "   mem_number = None\n",
        "   tagged_propn = []\n",
        "# обрабатываем текст, получаем результат в формате conllu:\n",
        "   processed = pipeline.process(text)\n",
        "# пропускаем строки со служебной информацией:\n",
        "   content = [l for l in processed.split('\\n') if not l.startswith('#')]\n",
        "# извлекаем из обработанного текста леммы, тэги и морфологические характеристики\n",
        "   tagged = [w.split('\\t') for w in content if w]\n",
        "   for t in tagged:\n",
        "       if len(t) != 10: # если список короткий — строчка не содержит разбора, пропускаем\n",
        "           continue\n",
        "       (word_id,token,lemma,pos,xpos,feats,head,deprel,deps,misc) = t \n",
        "       if not lemma or not token: # если слово пустое — пропускаем\n",
        "           continue\n",
        "       if pos in entities: # здесь отдельно обрабатываем имена собственные — они требуют особого обращения\n",
        "           if '|' not in feats:\n",
        "               tagged_propn.append('%s_%s_%s_%s_%s_%s' % (word_id, token, lemma, pos, head, deprel))\n",
        "               continue\n",
        "           morph = {el.split('=')[0]: el.split('=')[1] for el in feats.split('|')}\n",
        "           if 'Case' not in morph or 'Number' not in morph:\n",
        "               tagged_propn.append('%s_%s_%s_%s_%s_%s' % (word_id, token, lemma, pos, head, deprel))\n",
        "               continue\n",
        "           if not named:\n",
        "               named = True\n",
        "               mem_case = morph['Case']\n",
        "               mem_number = morph['Number']\n",
        "           if morph['Case'] == mem_case and morph['Number'] == mem_number:\n",
        "               memory.append(lemma)\n",
        "               if 'SpacesAfter=\\\\n' in misc or 'SpacesAfter=\\s\\\\n' in misc:\n",
        "                   named = False\n",
        "                   past_lemma = '::'.join(memory)\n",
        "                   memory = []\n",
        "                   tagged_propn.append(past_lemma + '_PROPN ')\n",
        "           else:\n",
        "               named = False\n",
        "               past_lemma = '::'.join(memory)\n",
        "               memory = []\n",
        "               tagged_propn.append(past_lemma + '_PROPN ')\n",
        "               tagged_propn.append('%s_%s_%s_%s_%s_%s' % (word_id, token, lemma, pos, head, deprel))\n",
        "       else:\n",
        "           if not named:\n",
        "               tagged_propn.append('%s_%s_%s_%s_%s_%s' % (word_id, token, lemma, pos, head, deprel))\n",
        "           else:\n",
        "               named = False\n",
        "               past_lemma = '::'.join(memory)\n",
        "               memory = []\n",
        "               tagged_propn.append(past_lemma + '_PROPN ')\n",
        "               tagged_propn.append('%s_%s_%s_%s_%s_%s' % (word_id, token, lemma, pos, head, deprel))\n",
        "   if not keep_punct: # обрабатываем случай, когда пользователь попросил не сохранять пунктуацию (по умолчанию она сохраняется)\n",
        "       tagged_propn = [word for word in tagged_propn if word.split('_')[1] != 'PUNCT']\n",
        "   if not keep_pos:\n",
        "       tagged_propn = [word.split('_')[0] for word in tagged_propn]\n",
        "   return tagged_propn"
      ],
      "execution_count": null,
      "outputs": []
    },
    {
      "cell_type": "code",
      "metadata": {
        "id": "rhBa9_Xozs02",
        "colab": {
          "base_uri": "https://localhost:8080/",
          "height": 350
        },
        "outputId": "7b9797e5-d8c8-46fc-e438-b36dcd248cc8"
      },
      "source": [
        "from ufal.udpipe import Model, Pipeline\n",
        "import os\n",
        "import re\n",
        "def tag_ud(text='Текст нужно передать функции в виде строки!', modelfile='udpipe_syntagrus.model'):\n",
        "   udpipe_model_url = 'https://rusvectores.org/static/models/udpipe_syntagrus.model'\n",
        "   udpipe_filename = udpipe_model_url.split('/')[-1]\n",
        "   if not os.path.isfile(modelfile):\n",
        "       print('UDPipe model not found. Downloading...', file=sys.stderr)\n",
        "       wget.download(udpipe_model_url)\n",
        "   #print('\\nLoading the model...', file=sys.stderr)\n",
        "   model = Model.load(modelfile)\n",
        "   process_pipeline = Pipeline(model, 'tokenize', Pipeline.DEFAULT, Pipeline.DEFAULT, 'conllu')\n",
        "   #print('Processing input...', file=sys.stderr)\n",
        "   lines = text.split('\\n')\n",
        "   tagged = []\n",
        "   for line in lines:\n",
        "# line = unify_sym(line.strip()) # здесь могла бы быть ваша функция очистки текста\n",
        "       output = process(process_pipeline, text=line)\n",
        "       tagged_line = ' '.join(output)\n",
        "       tagged.append(tagged_line)\n",
        "   return '\\n'.join(tagged)\n",
        "text = new_corpora[38667:40000]\n",
        "for sentence in text:\n",
        "   processed_text = tag_ud(text=sentence, modelfile=modelfile)\n",
        "   #print(processed_text[:350])\n",
        "   with open('my_text.txt', 'a', encoding='utf-8') as out:\n",
        "       out.write(processed_text + '\\n')"
      ],
      "execution_count": null,
      "outputs": [
        {
          "output_type": "error",
          "ename": "KeyboardInterrupt",
          "evalue": "ignored",
          "traceback": [
            "\u001b[0;31m---------------------------------------------------------------------------\u001b[0m",
            "\u001b[0;31mKeyboardInterrupt\u001b[0m                         Traceback (most recent call last)",
            "\u001b[0;32m<ipython-input-22-25222b1f6744>\u001b[0m in \u001b[0;36m<module>\u001b[0;34m()\u001b[0m\n\u001b[1;32m     22\u001b[0m \u001b[0mtext\u001b[0m \u001b[0;34m=\u001b[0m \u001b[0mnew_corpora\u001b[0m\u001b[0;34m[\u001b[0m\u001b[0;36m33528\u001b[0m\u001b[0;34m:\u001b[0m\u001b[0;36m40000\u001b[0m\u001b[0;34m]\u001b[0m\u001b[0;34m\u001b[0m\u001b[0;34m\u001b[0m\u001b[0m\n\u001b[1;32m     23\u001b[0m \u001b[0;32mfor\u001b[0m \u001b[0msentence\u001b[0m \u001b[0;32min\u001b[0m \u001b[0mtext\u001b[0m\u001b[0;34m:\u001b[0m\u001b[0;34m\u001b[0m\u001b[0;34m\u001b[0m\u001b[0m\n\u001b[0;32m---> 24\u001b[0;31m    \u001b[0mprocessed_text\u001b[0m \u001b[0;34m=\u001b[0m \u001b[0mtag_ud\u001b[0m\u001b[0;34m(\u001b[0m\u001b[0mtext\u001b[0m\u001b[0;34m=\u001b[0m\u001b[0msentence\u001b[0m\u001b[0;34m,\u001b[0m \u001b[0mmodelfile\u001b[0m\u001b[0;34m=\u001b[0m\u001b[0mmodelfile\u001b[0m\u001b[0;34m)\u001b[0m\u001b[0;34m\u001b[0m\u001b[0;34m\u001b[0m\u001b[0m\n\u001b[0m\u001b[1;32m     25\u001b[0m    \u001b[0;31m#print(processed_text[:350])\u001b[0m\u001b[0;34m\u001b[0m\u001b[0;34m\u001b[0m\u001b[0;34m\u001b[0m\u001b[0m\n\u001b[1;32m     26\u001b[0m    \u001b[0;32mwith\u001b[0m \u001b[0mopen\u001b[0m\u001b[0;34m(\u001b[0m\u001b[0;34m'my_text.txt'\u001b[0m\u001b[0;34m,\u001b[0m \u001b[0;34m'a'\u001b[0m\u001b[0;34m,\u001b[0m \u001b[0mencoding\u001b[0m\u001b[0;34m=\u001b[0m\u001b[0;34m'utf-8'\u001b[0m\u001b[0;34m)\u001b[0m \u001b[0;32mas\u001b[0m \u001b[0mout\u001b[0m\u001b[0;34m:\u001b[0m\u001b[0;34m\u001b[0m\u001b[0;34m\u001b[0m\u001b[0m\n",
            "\u001b[0;32m<ipython-input-22-25222b1f6744>\u001b[0m in \u001b[0;36mtag_ud\u001b[0;34m(text, modelfile)\u001b[0m\n\u001b[1;32m      9\u001b[0m        \u001b[0mwget\u001b[0m\u001b[0;34m.\u001b[0m\u001b[0mdownload\u001b[0m\u001b[0;34m(\u001b[0m\u001b[0mudpipe_model_url\u001b[0m\u001b[0;34m)\u001b[0m\u001b[0;34m\u001b[0m\u001b[0;34m\u001b[0m\u001b[0m\n\u001b[1;32m     10\u001b[0m    \u001b[0;31m#print('\\nLoading the model...', file=sys.stderr)\u001b[0m\u001b[0;34m\u001b[0m\u001b[0;34m\u001b[0m\u001b[0;34m\u001b[0m\u001b[0m\n\u001b[0;32m---> 11\u001b[0;31m    \u001b[0mmodel\u001b[0m \u001b[0;34m=\u001b[0m \u001b[0mModel\u001b[0m\u001b[0;34m.\u001b[0m\u001b[0mload\u001b[0m\u001b[0;34m(\u001b[0m\u001b[0mmodelfile\u001b[0m\u001b[0;34m)\u001b[0m\u001b[0;34m\u001b[0m\u001b[0;34m\u001b[0m\u001b[0m\n\u001b[0m\u001b[1;32m     12\u001b[0m    \u001b[0mprocess_pipeline\u001b[0m \u001b[0;34m=\u001b[0m \u001b[0mPipeline\u001b[0m\u001b[0;34m(\u001b[0m\u001b[0mmodel\u001b[0m\u001b[0;34m,\u001b[0m \u001b[0;34m'tokenize'\u001b[0m\u001b[0;34m,\u001b[0m \u001b[0mPipeline\u001b[0m\u001b[0;34m.\u001b[0m\u001b[0mDEFAULT\u001b[0m\u001b[0;34m,\u001b[0m \u001b[0mPipeline\u001b[0m\u001b[0;34m.\u001b[0m\u001b[0mDEFAULT\u001b[0m\u001b[0;34m,\u001b[0m \u001b[0;34m'conllu'\u001b[0m\u001b[0;34m)\u001b[0m\u001b[0;34m\u001b[0m\u001b[0;34m\u001b[0m\u001b[0m\n\u001b[1;32m     13\u001b[0m    \u001b[0;31m#print('Processing input...', file=sys.stderr)\u001b[0m\u001b[0;34m\u001b[0m\u001b[0;34m\u001b[0m\u001b[0;34m\u001b[0m\u001b[0m\n",
            "\u001b[0;31mKeyboardInterrupt\u001b[0m: "
          ]
        }
      ]
    },
    {
      "cell_type": "code",
      "metadata": {
        "id": "NGbS5w8jaE_r"
      },
      "source": [
        "import nltk"
      ],
      "execution_count": 1,
      "outputs": []
    },
    {
      "cell_type": "code",
      "metadata": {
        "id": "di7f3w9ZatJw",
        "colab": {
          "base_uri": "https://localhost:8080/"
        },
        "outputId": "10af2150-8b12-42fa-e30a-ceb7c6a9bc56"
      },
      "source": [
        "nltk.download('punkt')"
      ],
      "execution_count": 2,
      "outputs": [
        {
          "output_type": "stream",
          "text": [
            "[nltk_data] Downloading package punkt to /root/nltk_data...\n",
            "[nltk_data]   Unzipping tokenizers/punkt.zip.\n"
          ],
          "name": "stdout"
        },
        {
          "output_type": "execute_result",
          "data": {
            "text/plain": [
              "True"
            ]
          },
          "metadata": {
            "tags": []
          },
          "execution_count": 2
        }
      ]
    },
    {
      "cell_type": "code",
      "metadata": {
        "id": "EQO9mUQhkSre"
      },
      "source": [
        " new_corpora = open(\"my_text (9).txt\", encoding=\"UTF-8\", errors='ignore')"
      ],
      "execution_count": 4,
      "outputs": []
    },
    {
      "cell_type": "code",
      "metadata": {
        "id": "szLXqVvzaIg7"
      },
      "source": [
        "tokens=[]\n",
        "for sentence in new_corpora:\n",
        "  tokens.append(nltk.word_tokenize(sentence))"
      ],
      "execution_count": 5,
      "outputs": []
    },
    {
      "cell_type": "code",
      "metadata": {
        "id": "d0I63eV-eAeS",
        "colab": {
          "base_uri": "https://localhost:8080/"
        },
        "outputId": "c991dd42-fc37-4043-bbee-00fc609155a9"
      },
      "source": [
        "tokens[0:10]"
      ],
      "execution_count": 6,
      "outputs": [
        {
          "output_type": "execute_result",
          "data": {
            "text/plain": [
              "[['1_Бои_бой_NOUN_6_nsubj',\n",
              "  '2_у_в_ADP_3_case',\n",
              "  'Сопоцкин_PROPN',\n",
              "  '4_и_и_CCONJ_5_cc',\n",
              "  'Друскеник_PROPN',\n",
              "  '6_закончились_заканчиваться_VERB_0_root',\n",
              "  '7_отступлением_отступление_NOUN_6_obl',\n",
              "  '8_германцев_германец_NOUN_7_nmod'],\n",
              " ['1_Неприятель_неприятель_NOUN_8_nsubj',\n",
              "  '2_',\n",
              "  ',',\n",
              "  '_',\n",
              "  ',',\n",
              "  '_PUNCT_1_punct',\n",
              "  '3_приблизившись_приближаться_VERB_8_advcl',\n",
              "  '4_с_с_ADP_5_case',\n",
              "  '5_севера_север_NOUN_3_obl',\n",
              "  '6_к_к_ADP_7_case',\n",
              "  'Осовц_PROPN',\n",
              "  '8_начал_начинать_VERB_0_root',\n",
              "  '9_артиллерийскую_артиллерийский_ADJ_10_amod',\n",
              "  '10_борьбу_борьба_NOUN_8_obj',\n",
              "  '11_с_с_ADP_12_case',\n",
              "  '12_крепостью_крепость_NOUN_10_nmod'],\n",
              " ['1_В_в_ADP_3_case',\n",
              "  '2_артиллерийском_артиллерийский_ADJ_3_amod',\n",
              "  '3_бою_бой_NOUN_4_obl',\n",
              "  '4_принимают_принимать_VERB_0_root',\n",
              "  '5_участие_участие_NOUN_4_obj',\n",
              "  '6_тяжелые_тяжелый_ADJ_7_amod',\n",
              "  '7_калибры_калибр_NOUN_5_obj'],\n",
              " ['1_С_с_ADP_3_case',\n",
              "  '2_раннего_ранний_ADJ_3_amod',\n",
              "  '3_утра_утро_NOUN_7_obl',\n",
              "  '4_14_14_NUM_7_nummod',\n",
              "  '5_сентября_сентябрь_NOUN_4_flat',\n",
              "  '6_огонь_огонь_NOUN_7_nsubj',\n",
              "  '7_достиг_достигать_VERB_0_root',\n",
              "  '8_значительного_значительный_ADJ_9_amod',\n",
              "  '9_напряжения_напряжение_NOUN_7_obl'],\n",
              " ['попытка_PROPN',\n",
              "  '2_германской_германский_ADJ_3_amod',\n",
              "  '3_пехоты_пехота_NOUN_1_nmod',\n",
              "  '4_пробиться_пробиваться_VERB_1_obl',\n",
              "  '5_ближе_близко_ADJ_4_obl',\n",
              "  '6_к_к_ADP_7_case',\n",
              "  '7_крепости_крепость_NOUN_5_obl',\n",
              "  '8_отражена_отражать_VERB_0_root'],\n",
              " ['1_В_в_ADP_2_case',\n",
              "  'галиция_PROPN',\n",
              "  '3_мы_мы_PRON_4_nsubj',\n",
              "  '4_заняли_занимать_VERB_0_root',\n",
              "  'Дембиц_PROPN'],\n",
              " ['1_Большая_большой_ADJ_2_amod',\n",
              "  '2_колонна_колонна_NOUN_12_nsubj',\n",
              "  '3_',\n",
              "  ',',\n",
              "  '_',\n",
              "  ',',\n",
              "  '_PUNCT_2_punct',\n",
              "  '4_отступавшая_отступать_VERB_2_acl',\n",
              "  '5_по_по_ADP_6_case',\n",
              "  '6_шоссе_шоссе_NOUN_4_obl',\n",
              "  '7_от_от_ADP_8_case',\n",
              "  'перемышль_PROPN',\n",
              "  '9_к_к_ADP_10_case',\n",
              "  'Санок_PROPN',\n",
              "  '11_',\n",
              "  ',',\n",
              "  '_',\n",
              "  ',',\n",
              "  '_PUNCT_10_punct',\n",
              "  '12_обстреливалась_обстреливаться_VERB_0_root',\n",
              "  '13_с_с_ADP_14_case',\n",
              "  '14_высот_высота_NOUN_12_obl',\n",
              "  '15_нашей_наш_DET_16_det',\n",
              "  '16_батареей_батарея_NOUN_14_nmod',\n",
              "  '17_и_и_CCONJ_18_cc',\n",
              "  '18_бежала_бежать_VERB_12_conj',\n",
              "  '19_',\n",
              "  ',',\n",
              "  '_',\n",
              "  ',',\n",
              "  '_PUNCT_18_punct',\n",
              "  '20_бросив_бросить_VERB_18_advcl',\n",
              "  '21_парки_парк_NOUN_20_obj',\n",
              "  '22_',\n",
              "  ',',\n",
              "  '_',\n",
              "  ',',\n",
              "  '_PUNCT_21_punct',\n",
              "  '23_обоз_обоз_NOUN_21_conj',\n",
              "  '24_и_и_CCONJ_25_cc',\n",
              "  '25_автомобили_автомобиль_NOUN_21_conj'],\n",
              " ['1_Вылазки_вылазка_NOUN_4_nsubj',\n",
              "  '2_гарнизона_гарнизон_NOUN_1_nmod',\n",
              "  'перемышль_PROPN',\n",
              "  '4_остаются_оставаться_VERB_0_root',\n",
              "  '5_безуспешными_безуспешный_ADJ_4_obl'],\n",
              " ['1_При_при_ADP_3_case',\n",
              "  '2_продолжающемся_продолжающться_VERB_3_amod',\n",
              "  '3_отступлении_отступление_NOUN_5_obl',\n",
              "  '4_австрийцев_австриец_NOUN_3_nmod',\n",
              "  '5_обнаруживается_обнаруживать_VERB_0_root',\n",
              "  '6_полное_полный_ADJ_7_amod',\n",
              "  '7_перемешивание_перемешивание_NOUN_5_nsubj',\n",
              "  '8_их_они_PRON_9_nmod',\n",
              "  '9_частей_часть_NOUN_7_nmod',\n",
              "  '10_',\n",
              "  ',',\n",
              "  '_',\n",
              "  ',',\n",
              "  '_PUNCT_9_punct',\n",
              "  '11_захватываются_захватывать_VERB_5_conj',\n",
              "  '12_новые_новый_ADJ_13_amod',\n",
              "  '13_партии_партия_NOUN_11_nsubj',\n",
              "  ':',\n",
              "  'pass',\n",
              "  '14_пленных_пленный_NOUN_13_nmod',\n",
              "  '15_',\n",
              "  ',',\n",
              "  '_',\n",
              "  ',',\n",
              "  '_PUNCT_14_punct',\n",
              "  '16_орудия_орудие_NOUN_13_conj',\n",
              "  '17_и_и_CCONJ_20_cc',\n",
              "  '18_прочая_прочий_ADJ_20_amod',\n",
              "  '19_материальная_материальный_ADJ_20_amod',\n",
              "  '20_часть_часть_NOUN_13_conj'],\n",
              " ['1_На_на_ADP_2_case',\n",
              "  '2_перевале_перевал_NOUN_5_obl',\n",
              "  'Ужок_PROPN',\n",
              "  '4_мы_мы_PRON_5_nsubj',\n",
              "  '5_разбили_разбивать_VERB_0_root',\n",
              "  '6_неприятельский_неприятельский_ADJ_7_amod',\n",
              "  '7_отряд_отряд_NOUN_5_obj',\n",
              "  '8_',\n",
              "  ',',\n",
              "  '_',\n",
              "  ',',\n",
              "  '_PUNCT_7_punct',\n",
              "  '9_взяли_брать_VERB_5_conj',\n",
              "  '10_его_он_PRON_11_nmod',\n",
              "  '11_артиллерию_артиллерия_NOUN_9_obj',\n",
              "  '12_и_и_CCONJ_13_cc',\n",
              "  '13_много_много_ADV_5_conj',\n",
              "  '14_пленных_пленный_ADJ_13_obl',\n",
              "  '15_и_и_CCONJ_20_cc',\n",
              "  '16_',\n",
              "  ',',\n",
              "  '_',\n",
              "  ',',\n",
              "  '_PUNCT_15_punct',\n",
              "  '17_продолжая_продолжать_VERB_20_advcl',\n",
              "  '18_преследовать_преследовать_VERB_17_xcomp',\n",
              "  '19_',\n",
              "  ',',\n",
              "  '_',\n",
              "  ',',\n",
              "  '_PUNCT_18_punct',\n",
              "  '20_вступили_вступать_VERB_13_conj',\n",
              "  '21_в_в_ADP_22_case',\n",
              "  '22_пределы_предел_NOUN_20_obl',\n",
              "  'венгрия_PROPN']]"
            ]
          },
          "metadata": {
            "tags": []
          },
          "execution_count": 6
        }
      ]
    },
    {
      "cell_type": "code",
      "metadata": {
        "id": "-ml532Zfg9I1",
        "colab": {
          "base_uri": "https://localhost:8080/"
        },
        "outputId": "a70cab36-c002-4d7e-82b0-b4269e3e7430"
      },
      "source": [
        "law_corpora=[]\n",
        "for sentence in tokens:\n",
        "  for token in sentence:\n",
        "    if \"_судья_\" in token:\n",
        "      if sentence not in law_corpora:\n",
        "        law_corpora.append(sentence)\n",
        "    elif \"_адвокат_\" in token:\n",
        "      if sentence not in law_corpora:\n",
        "        law_corpora.append(sentence)\n",
        "    elif \"_прокурор_\" in token:\n",
        "      if sentence not in law_corpora:\n",
        "        law_corpora.append(sentence)\n",
        "    else:\n",
        "      pass\n",
        "print(len(law_corpora))"
      ],
      "execution_count": 8,
      "outputs": [
        {
          "output_type": "stream",
          "text": [
            "2602\n"
          ],
          "name": "stdout"
        }
      ]
    },
    {
      "cell_type": "code",
      "metadata": {
        "id": "80Rh5PVLh4JQ",
        "colab": {
          "base_uri": "https://localhost:8080/"
        },
        "outputId": "334d01a5-77bf-4520-c5d7-299f0c5a6674"
      },
      "source": [
        "law_corpora[0:10]"
      ],
      "execution_count": 26,
      "outputs": [
        {
          "output_type": "execute_result",
          "data": {
            "text/plain": [
              "[['1_Швейцарский_швейцарский_ADJ_3_amod',\n",
              "  '2_федеральный_федеральный_ADJ_3_amod',\n",
              "  '3_прокурор_прокурор_NOUN_7_nsubj',\n",
              "  '5_дель_дель_PART_7_advmod',\n",
              "  '6_Понти_Понти_NUM_5_nummod',\n",
              "  '7_заявила_заявлять_VERB_0_root',\n",
              "  '9_что_что_SCONJ_11_mark',\n",
              "  '11_работал_работать_VERB_7_ccomp',\n",
              "  '12_на_на_ADP_13_case',\n",
              "  '13_шефа_шеф_NOUN_11_obl',\n",
              "  '14_разведывательной_разведывательный_ADJ_15_amod',\n",
              "  '15_службы_служба_NOUN_13_nmod',\n",
              "  '18_и_и_CCONJ_19_cc',\n",
              "  '19_получил_получать_VERB_11_conj',\n",
              "  '20_5,8_5,8_NUM_21_nummod',\n",
              "  '21_миллионов_миллион_NOUN_19_obl',\n",
              "  '22_долларов_доллар_NOUN_21_nmod',\n",
              "  '23_от_от_ADP_24_case',\n",
              "  '24_министерства_министерство_NOUN_19_obl',\n",
              "  '25_обороны_оборона_NOUN_24_nmod',\n",
              "  '26_для_для_ADP_27_case',\n",
              "  '27_покупки_покупка_NOUN_24_nmod',\n",
              "  '28_огромного_огромный_ADJ_29_amod',\n",
              "  '29_количества_количество_NOUN_27_nmod',\n",
              "  '30_оружия_оружие_NOUN_29_nmod'],\n",
              " ['1_Адвокат_адвокат_NOUN_5_nsubj',\n",
              "  '4_Седу_Сед_PROPN_3_flat',\n",
              "  'name',\n",
              "  '5_заявил_заявлять_VERB_0_root',\n",
              "  '7_что_что_SCONJ_10_mark',\n",
              "  '8_его_он_PRON_9_nmod',\n",
              "  '9_клиент_клиент_NOUN_10_nsubj',\n",
              "  '10_отверг_отвергать_VERB_5_ccomp',\n",
              "  '11_эти_этот_DET_12_det',\n",
              "  '12_обвинения_обвинение_NOUN_10_obj'],\n",
              " ['2_дель_дель_PART_3_advmod',\n",
              "  '3_Понти_Понти_NUM_1_nummod',\n",
              "  '5_недавно_недавно_ADV_6_advmod',\n",
              "  '6_ставшая_становиться_VERB_1_acl',\n",
              "  '7_прокурором_прокурор_NOUN_6_obl',\n",
              "  '8_Международного_международный_ADJ_9_amod',\n",
              "  '11_по_по_ADP_13_case',\n",
              "  '12_военным_военный_ADJ_13_amod',\n",
              "  '13_преступлениям_преступление_NOUN_9_nmod',\n",
              "  '15_заявила_заявлять_VERB_26_nsubj',\n",
              "  '16_',\n",
              "  '17_что_что_SCONJ_20_mark',\n",
              "  '18_дело_дело_NOUN_20_nsubj',\n",
              "  '19_против_против_ADP_20_case',\n",
              "  '21_и_и_CCONJ_25_cc',\n",
              "  '22_еще_еще_ADV_23_advmod',\n",
              "  '23_троих_трое_NUM_25_nummod',\n",
              "  'gov',\n",
              "  '24_высокопоставленных_высокопоставленный_ADJ_25_amod',\n",
              "  '25_чиновников_чиновник_NOUN_20_conj',\n",
              "  '26_закрыто_закрывать_VERB_0_root'],\n",
              " ['1_Федеральный_федеральный_ADJ_2_amod',\n",
              "  '2_прокурор_прокурор_NOUN_3_nsubj',\n",
              "  '3_добавила_добавлять_VERB_0_root',\n",
              "  '5_что_что_SCONJ_8_mark',\n",
              "  '6_расследование_расследование_NOUN_8_nsubj',\n",
              "  '7_будет_быть_AUX_8_aux',\n",
              "  '8_продолжено_продолжить_VERB_3_ccomp',\n",
              "  '9_в_в_ADP_11_case',\n",
              "  '10_отношении_отношение_NOUN_9_fixed',\n",
              "  '14_шефа_шеф_NOUN_11_conj',\n",
              "  '15_стратегической_стратегический_ADJ_17_amod',\n",
              "  '16_информационной_информационный_ADJ_17_amod',\n",
              "  '17_службы_служба_NOUN_14_nmod',\n",
              "  '19_которая_который_PRON_20_nsubj',\n",
              "  '20_возникла_возникать_VERB_17_acl',\n",
              "  'relcl',\n",
              "  '21_в_в_ADP_22_case',\n",
              "  '22_документах_документ_NOUN_20_obl',\n",
              "  '23_по_по_ADP_24_case',\n",
              "  '24_делу_дело_NOUN_22_nmod'],\n",
              " ['1_Бывший_бывший_ADJ_3_amod',\n",
              "  '2_генеральный_генеральный_ADJ_3_amod',\n",
              "  '3_прокурор_прокурор_NOUN_7_nsubj',\n",
              "  '5_Юрий_юрий_PROPN_3_appos',\n",
              "  '7_считает_считать_VERB_0_root',\n",
              "  '9_что_что_SCONJ_15_mark',\n",
              "  '10_ближайшее_близкий_ADJ_11_amod',\n",
              "  '11_окружение_окружение_NOUN_15_nsubj',\n",
              "  '12_президента_президент_NOUN_11_nmod',\n",
              "  '15_попытается_пытаться_VERB_7_ccomp',\n",
              "  '16_воспрепятствовать_препятствовать_VERB_15_xcomp',\n",
              "  '17_серьезному_серьезный_ADJ_18_amod',\n",
              "  '18_расследованию_расследование_NOUN_16_iobj',\n",
              "  '19_ситуации_ситуация_NOUN_18_nmod',\n",
              "  '21_связанной_связывать_VERB_19_acl',\n",
              "  '22_с_с_ADP_23_case',\n",
              "  '23_Bank_bank_PROPN_21_flat',\n",
              "  '24_of_of_X_23_flat',\n",
              "  '25_New_new_PROPN_24_flat',\n",
              "  '26_York_york_PROPN_25_flat',\n",
              "  '27_',\n",
              "  '28_через_через_ADP_29_case',\n",
              "  '29_который_который_PRON_30_obl',\n",
              "  '30_отмывались_отмываться_VERB_21_acl',\n",
              "  'relcl',\n",
              "  '31_деньги_деньги_NOUN_30_nsubj',\n",
              "  '33_полученные_получать_VERB_31_acl',\n",
              "  '34_от_от_ADP_35_case'],\n",
              " ['1_Мои_мой_DET_2_det',\n",
              "  '2_адвокаты_адвокат_NOUN_3_nsubj',\n",
              "  '3_изучают_изучать_VERB_0_root',\n",
              "  '4_документы_документ_NOUN_3_obj',\n",
              "  '6_чтобы_чтобы_SCONJ_7_mark',\n",
              "  '7_обратиться_обращаться_VERB_3_advcl',\n",
              "  '8_в_в_ADP_9_case',\n",
              "  '9_суд_суд_NOUN_7_obl'],\n",
              " ['1_Сумма_сумма_NOUN_8_nsubj',\n",
              "  '2_возмещения_возмещение_NOUN_1_nmod',\n",
              "  '3_ущерба_ущерб_NOUN_2_nmod',\n",
              "  '4_по_по_ADP_5_case',\n",
              "  '5_искам_иск_NOUN_3_nmod',\n",
              "  '6_в_в_ADP_7_case',\n",
              "  '7_настоящее_настоящий_ADJ_3_obl',\n",
              "  '8_времяопределяется_времяопределяться_VERB_0_root',\n",
              "  '9_адвокатами_адвокат_NOUN_8_obl',\n",
              "  '10_и_и_CCONJ_11_cc',\n",
              "  '11_юристами_юрист_NOUN_9_conj',\n",
              "  '13_занимающимися_заниматься_VERB_15_amod',\n",
              "  '14_подготовкойисковых_подготовкойисковый_ADJ_15_amod',\n",
              "  '15_заявлений_заявление_NOUN_9_conj'],\n",
              " ['1_Но_но_CCONJ_6_cc',\n",
              "  '2_окружной_окружной_ADJ_3_amod',\n",
              "  '3_судья_судья_NOUN_6_nsubj',\n",
              "  '6_решила_решать_VERB_0_root',\n",
              "  '7_дело_дело_NOUN_6_obj',\n",
              "  '8_в_в_ADP_9_case',\n",
              "  '9_пользу_польза_NOUN_6_obl',\n",
              "  '10_web_веб_NOUN_9_nmod',\n",
              "  '11_-издательства_-издательствый_NOUN_10_nmod',\n",
              "  '13_она_она_PRON_14_nsubj',\n",
              "  '14_отвергла_отвергать_VERB_6_conj',\n",
              "  '15_требование_требование_NOUN_14_obj',\n",
              "  '16_в_в_ADP_18_case',\n",
              "  '17_судебном_судебный_ADJ_18_amod',\n",
              "  '18_порядке_порядок_NOUN_15_nmod',\n",
              "  '19_запретить_запрещать_VERB_15_obl',\n",
              "  '21_публикацию_публикация_NOUN_19_obj',\n",
              "  '22_секретных_секретный_ADJ_23_amod',\n",
              "  '23_документов_документ_NOUN_21_nmod',\n",
              "  '25_поскольку_поскольку_SCONJ_28_mark',\n",
              "  '26_такой_такой_DET_27_det',\n",
              "  '27_запрет_запрет_NOUN_28_nsubj',\n",
              "  '28_нарушал_нарушать_VERB_14_advcl',\n",
              "  '29_бы_бы_PART_28_aux',\n",
              "  '30_свободу_свобода_NOUN_28_obj',\n",
              "  '31_слова_слово_NOUN_30_nmod'],\n",
              " ['1_Однако_однако_ADV_5_advmod',\n",
              "  '2_судья_судья_NOUN_5_nsubj',\n",
              "  '3_все_все_PART_5_advmod',\n",
              "  '4_же_же_PART_3_fixed',\n",
              "  '5_вынесла_выносить_VERB_0_root',\n",
              "  '6_постановление_постановление_NOUN_5_advcl',\n",
              "  '8_связанное_связывать_VERB_6_acl',\n",
              "  '9_с_с_ADP_10_case',\n",
              "  '10_тем_то_PRON_8_obl',\n",
              "  '12_что_что_SCONJ_14_mark',\n",
              "  '14_нарушил_нарушать_VERB_10_acl',\n",
              "  '15_копирайт_копирайт_NOUN_14_obj',\n",
              "  '16_компании_компания_NOUN_15_nmod'],\n",
              " ['1_При_при_ADP_2_case',\n",
              "  '2_этом_это_PRON_4_obl',\n",
              "  '3_судья_судья_NOUN_4_nsubj',\n",
              "  '4_добавила_добавлять_VERB_0_root',\n",
              "  '6_что_что_SCONJ_10_mark',\n",
              "  '7_судебная_судебный_ADJ_8_amod',\n",
              "  '8_система_система_NOUN_10_nsubj',\n",
              "  '9_только_только_PART_10_advmod',\n",
              "  '10_начинает_начинать_VERB_4_ccomp',\n",
              "  '11_подходить_подходить_VERB_10_xcomp',\n",
              "  '12_к_к_ADP_15_case',\n",
              "  '13_такому_такой_DET_15_det',\n",
              "  '14_сложному_сложный_ADJ_15_amod',\n",
              "  '15_вопросу_вопрос_NOUN_11_obl',\n",
              "  '17_как_как_SCONJ_18_mark',\n",
              "  '18_свобода_свобода_NOUN_13_obl',\n",
              "  '19_слова_слово_NOUN_18_nmod',\n",
              "  '20_и_и_CCONJ_21_cc',\n",
              "  '21_защита_защита_NOUN_19_conj',\n",
              "  '22_интеллектуальной_интеллектуальный_ADJ_23_amod',\n",
              "  '23_собственности_собственность_NOUN_21_nmod',\n",
              "  '24_в_в_ADP_25_case']]"
            ]
          },
          "metadata": {
            "tags": []
          },
          "execution_count": 26
        }
      ]
    },
    {
      "cell_type": "code",
      "metadata": {
        "id": "C3LdUA18kKI9"
      },
      "source": [
        "with open(\"law_corpora.txt\", \"w\") as file:\n",
        "  print(law_corpora, file=file, sep=\"\\n\")\n",
        "file.close()"
      ],
      "execution_count": 9,
      "outputs": []
    },
    {
      "cell_type": "code",
      "metadata": {
        "id": "E7J2KSMJJ2Lo",
        "colab": {
          "base_uri": "https://localhost:8080/"
        },
        "outputId": "0e0eed5c-41f4-4526-a6d9-fa9f4359a342"
      },
      "source": [
        "count=0\n",
        "for sentence in tokens:\n",
        "  count += len(sentence)\n",
        "print(count)"
      ],
      "execution_count": null,
      "outputs": [
        {
          "output_type": "stream",
          "text": [
            "5860022\n"
          ],
          "name": "stdout"
        }
      ]
    },
    {
      "cell_type": "code",
      "metadata": {
        "id": "EVDios2gKPKM",
        "colab": {
          "base_uri": "https://localhost:8080/"
        },
        "outputId": "4c7cda28-f466-4217-dffa-245005d139e6"
      },
      "source": [
        "count=0\n",
        "for sentence in law_corpora:\n",
        "  count += len(sentence)\n",
        "print(count)"
      ],
      "execution_count": null,
      "outputs": [
        {
          "output_type": "stream",
          "text": [
            "93703\n"
          ],
          "name": "stdout"
        }
      ]
    },
    {
      "cell_type": "code",
      "metadata": {
        "id": "TEd9vRdqlG2T",
        "colab": {
          "base_uri": "https://localhost:8080/"
        },
        "outputId": "5314e918-0de4-4bfd-dcc4-32facd7fdc2e"
      },
      "source": [
        "len(tokens)"
      ],
      "execution_count": null,
      "outputs": [
        {
          "output_type": "execute_result",
          "data": {
            "text/plain": [
              "201486"
            ]
          },
          "metadata": {
            "tags": []
          },
          "execution_count": 11
        }
      ]
    },
    {
      "cell_type": "code",
      "metadata": {
        "id": "afKqro1G2Phq"
      },
      "source": [
        "for sentence in law_corpora:\n",
        "  for i in sentence:\n",
        "    if re.match(r'[0-9]', i):\n",
        "      pass\n",
        "    else:\n",
        "      sentence.remove(i)"
      ],
      "execution_count": 13,
      "outputs": []
    },
    {
      "cell_type": "code",
      "metadata": {
        "id": "1rtLHcTvKqzc"
      },
      "source": [
        "for sentence in law_corpora:\n",
        "  for i in sentence:\n",
        "    if i.startswith('_'):\n",
        "      sentence.remove(i)"
      ],
      "execution_count": 15,
      "outputs": []
    },
    {
      "cell_type": "code",
      "metadata": {
        "id": "4J_ouJrDLARa"
      },
      "source": [
        "for sentence in law_corpora:\n",
        "  for i in sentence:\n",
        "    if re.match(r'_', i):\n",
        "      sentence.remove(i)"
      ],
      "execution_count": 20,
      "outputs": []
    },
    {
      "cell_type": "code",
      "metadata": {
        "id": "zMmjGq5VMUYo"
      },
      "source": [
        "for sentence in law_corpora:\n",
        "  for i in sentence:\n",
        "    if re.match(r':', i):\n",
        "      sentence.remove(i)"
      ],
      "execution_count": 22,
      "outputs": []
    },
    {
      "cell_type": "code",
      "metadata": {
        "id": "WTKvGt5yMxQ5"
      },
      "source": [
        "for sentence in law_corpora:\n",
        "  for i in sentence:\n",
        "    if re.match(r'[а-я]', i):\n",
        "      sentence.remove(i)"
      ],
      "execution_count": 28,
      "outputs": []
    },
    {
      "cell_type": "code",
      "metadata": {
        "id": "YehDGphFNOcq"
      },
      "source": [
        "for sentence in law_corpora:\n",
        "  for i in sentence:\n",
        "    if i=='':\n",
        "      print(sentence)"
      ],
      "execution_count": 34,
      "outputs": []
    },
    {
      "cell_type": "code",
      "metadata": {
        "id": "wGFBUxxCPMal"
      },
      "source": [
        "for sentence in law_corpora:\n",
        "  for i in sentence:\n",
        "    if re.match(r'_PUNCT_', i):\n",
        "      sentence.remove(i)"
      ],
      "execution_count": 44,
      "outputs": []
    },
    {
      "cell_type": "code",
      "metadata": {
        "colab": {
          "base_uri": "https://localhost:8080/"
        },
        "id": "3o3kvwyUSFbu",
        "outputId": "5ec7cb90-3e38-4201-9747-5751202fa832"
      },
      "source": [
        "unlc=[]\n",
        "for sentence in law_corpora:\n",
        "  if sentence in unlc:\n",
        "    continue\n",
        "  else:\n",
        "    unlc.append(sentence)\n",
        "print(len(unlc))"
      ],
      "execution_count": 87,
      "outputs": [
        {
          "output_type": "stream",
          "text": [
            "2601\n"
          ],
          "name": "stdout"
        }
      ]
    },
    {
      "cell_type": "code",
      "metadata": {
        "id": "5yhAZ_ufTfNM"
      },
      "source": [
        "law_corpora = unlc"
      ],
      "execution_count": 67,
      "outputs": []
    },
    {
      "cell_type": "code",
      "metadata": {
        "colab": {
          "base_uri": "https://localhost:8080/"
        },
        "id": "8v5prly3kyYD",
        "outputId": "ba8dd1a9-161e-49ec-d922-c2b54d142ed7"
      },
      "source": [
        "diff={}\n",
        "for sentence in law_corpora:\n",
        "  for i in sentence:\n",
        "    w=[]\n",
        "    e=[]\n",
        "    r=[]\n",
        "    if \"_судья_\" in i:\n",
        "      w=i.split(sep=\"_\")\n",
        "      index=w[0]\n",
        "      if index == None:\n",
        "        pass\n",
        "      else:\n",
        "        for m in sentence:\n",
        "          if re.match(r'_PUNCT_', m):\n",
        "            pass\n",
        "          else:\n",
        "            e=m.split(sep=\"_\")\n",
        "            if len(w)<3 or len(e)<3:\n",
        "              pass\n",
        "            else:\n",
        "              if e[2] == w[2]:\n",
        "                pass\n",
        "              else:\n",
        "                small_diff=[]\n",
        "                index2=e[0]\n",
        "                if index2 == None:\n",
        "                  pass\n",
        "                else:\n",
        "                  d = abs(int(index2)-int(index))-1\n",
        "                  for sentence in law_corpora:\n",
        "                    if i in sentence:\n",
        "                      #print(sentence)\n",
        "                      for q in sentence:\n",
        "                        #print(q)\n",
        "                        r=q.split(sep=\"_\")\n",
        "                        if len(r)<3 or len(e)<3:\n",
        "                          pass\n",
        "                        else:\n",
        "                          if r[2] == e[2]:\n",
        "                            index=w[0]\n",
        "                            if index == None:\n",
        "                              pass\n",
        "                            else:\n",
        "                              index2=r[0]\n",
        "                              if index == None:\n",
        "                                pass\n",
        "                              else:\n",
        "                                d = abs(int(index2)-int(index))-1\n",
        "                                small_diff.append(d)\n",
        "                                if len(r) >= 3:\n",
        "                                  diff[r[2]]=small_diff\n",
        "                          else:\n",
        "                            pass\n",
        "print(diff)"
      ],
      "execution_count": 68,
      "outputs": [
        {
          "output_type": "stream",
          "text": [
            "{'но': [1], 'окружной': [21], 'решать': [1], 'дело': [28], 'в': [8, 12, 1, 1, 38, 22, 8, 7, 9, 15, 3, 21, 15, 20], 'польза': [10, 3], 'веб': [23], '-издательствый': [7], 'она': [5], 'отвергать': [2], 'требование': [12], 'судебный': [13], 'порядок': [16], 'запрещать': [16], 'публикация': [5], 'секретный': [17], 'документ': [2], 'поскольку': [22], 'такой': [24], 'запрет': [1], 'нарушать': [4], 'бы': [15], 'свобода': [13], 'слово': [13], 'однако': [1], 'все': [21], 'же': [0], 'выносить': [11], 'постановление': [0], 'связывать': [13], 'с': [7], 'то': [2], 'что': [2, 2, 2, 2, 2, 2, 2, 16], 'копирайт': [12], 'компания': [29, 2], 'при': [26], 'это': [4], 'добавлять': [8], 'система': [38, 32], 'только': [5], 'начинать': [5], 'подходить': [7], 'к': [8, 9], 'сложный': [10], 'вопрос': [6], 'как': [23], 'и': [10], 'защита': [4], 'интеллектуальный': [18], 'собственность': [16], 'между': [18], 'заявлять': [1], 'эфир': [4], 'москва': [12], 'конституционный': [0], 'суд': [1], 'повторный': [12], 'перерегистрация': [6], 'иногородний': [7], 'не': [17], 'предусматривать': [6], 'закон': [12], 'отмечаться': [16], 'распространять': [10], 'впонедельник': [13], 'заявление': [3], 'прокуратура': [1], 'восточный': [0], 'округ': [16, 0], 'на': [21], 'обвиняемый': [3], 'рассчитывать': [12], 'снисхождение': [0], 'сообщать': [3], 'Wired': [2], 'news': [14], 'подпереть': [4], 'рука': [27], 'подбородок': [6], 'молча': [8], 'выслушивать': [3], 'довод': [6], 'оба': [10], 'сторона': [2], 'задавать': [2], 'ни': [14, 11], 'один': [11], 'наблюдатель': [5], 'полагать': [3], 'независимо': [2], 'от': [6], 'чей': [1], 'быть': [21], 'решение': [3, 0, 0, 0], 'противный': [3], 'непременно': [2], 'обжаловать': [1], 'по': [1, 1, 1, 1, 1, 1, 1, 1, 23, 1, 1, 1], 'сообщение': [14], 'Прайм': [12], 'вторник': [4], 'поздно': [7], 'вечер': [6], 'челябинский': [5], 'областной': [1], 'арбитражный': [33], 'под': [4], 'председательство': [1], 'отклонять': [6], 'иск': [3, 13], 'губернатор': [15], 'красноярский': [5], 'край': [21], 'о': [10, 16], 'продление': [1], 'внешний': [11], 'управление': [6], 'оао': [14], 'Ачинский': [16], 'глиноземный': [17], 'комбинат': [18], '7,5': [24], 'год': [19, 11], 'прекращать': [0], 'он': [7, 7, 6, 8], 'банкротство': [31], 'адвокат': [13], 'призывать': [10], 'вовсе': [6], 'ограничиваться': [3], 'штраф': [9], 'считать': [2], 'проступок': [3, 33], 'футбольный': [0], 'фанат': [5], 'заслуживать': [2], 'хотя': [9], 'условный': [15], 'наказание': [0], '1': [7], 'который': [15], 'мочь': [26], 'вступать': [19], 'сила': [10], 'если': [4], 'течение': [9], 'совершать': [3], 'какой-либо': [5], 'уголовно': [2], 'наказуемый': [13], 'пять': [6], 'день': [5], 'назад': [7], 'мадридский': [0], 'направлять': [1], 'указание': [2], 'противоположный': [13], 'содержание': [30], 'вскоре': [4], 'становиться': [21], 'известный': [2], 'получать': [11], 'свой': [6], 'английский': [12], 'коллега': [22], 'запрос': [17], '-': [3], 'или': [11], 'исполнительный': [15], 'власть': [23], 'они': [8], 'должен': [7, 9, 4], 'выполнять': [7], 'данный': [35], 'случай': [28], 'швейцарский': [15], 'делегация': [20], 'помимо': [21], 'недавно': [10], 'назначить': [1], 'новый': [12], 'генпрокурор': [14], 'сменять': [10], 'этот': [9], 'пост': [15], 'дель': [17], 'Понти': [4], 'входить': [3], 'женевский': [0], 'Каспер-Анзерма': [1], 'несколько': [2], 'высокопоставленный': [58], 'чиновник': [10], 'федеральный': [0], 'служба': [15], 'полиция': [5], 'давний': [2], 'пора': [13], 'заниматься': [3], 'счетам': [6], 'бывший': [19], 'премьер-министр': [11], 'признавать': [0, 0, 0], 'демонстрировать': [3], 'чрезвычайно': [6], 'глубокий': [7], 'познание': [8], 'компьютер': [50], 'доскональной': [12], 'понимание': [36], 'функционировать': [17], 'телефонный': [15], 'сеть': [19], 'точка': [7], 'зрение': [6], 'высказывать': [6], 'Дево': [1], 'расследование': [28], 'повод': [3], 'отмывание': [10], 'деньги': [11], 'через': [1], 'банк': [30], 'указывать': [8], 'вести': [8], 'строительный': [6], 'фирма': [8], 'Mabetex': [8], 'скандал': [12], 'кредитный': [14], 'карточка': [5], 'якобы': [2], 'принадлежать': [8], 'семья': [19], 'отношение': [17], 'казахский': [1], 'проводить': [2], 'просьба': [7], 'правительство': [18], 'подозревать': [23], 'страна': [3], 'обвинять': [15], 'коррупция': [5], 'хранить': [21], 'счет': [15], 'имя': [7], 'выненосить': [7], 'работать': [9], 'орган': [19], 'июнь': [6], '1998': [17], 'шотландский': [0], 'город': [1, 5], 'Гринок': [2], 'оправдательный': [8], 'приговор': [18], 'три': [4], 'женщина': [17], '-пацифистка': [8], 'совершить': [10], 'выразиться': [13], 'русский': [9], 'би-би-си': [4], 'акт': [15], 'вандализм': [20], 'база': [2], 'атомный': [23], 'подводный': [10], 'лодка': [11], 'теперь': [5], 'выпускать': [19], 'постановить': [6], 'вправе': [7], 'пытаться': [1], 'разоружить': [9], 'Trident': [12], 'тот': [28, 16], 'являться': [16], 'часть': [13], 'британский': [18], 'ядерный': [9], 'программа': [19], 'незаконный': [8], 'международный': [0], 'право': [5, 6, 12], 'вызывать': [4], 'большой': [10], 'резонанс': [2], 'время': [6], 'намерен': [1], 'пересматривать': [1], 'я': [18], 'просто': [0], 'понимать': [15], 'общество': [4], 'негативный': [3], 'реакция': [4], 'участвовать': [19], 'работа': [5], 'палата': [0], 'сохранить': [22], 'лорд': [21], 'титул': [19], 'присваивать': [19], 'монарх': [16], 'знак': [4], 'признание': [9], 'личный': [19], 'заслуга': [10], 'предложение': [6], 'а': [1], 'также': [0, 0], 'епископ': [2], 'высший': [10], 'традиционно': [1], 'член': [5], 'верхний': [5], 'собеседование': [1], 'присутствовать': [1], 'юрист': [5], 'представитель': [19], 'обвинение': [13], 'директор': [11], 'издательство': [12], 'Маргиний': [15], 'представлять': [16], 'мнтерес': [21], 'довереность': [25], 'отвечик': [29], 'помощник': [0, 0], 'удовлетворять': [4], 'пятеро': [2], 'секретарь': [11], 'ранение': [4], '00': [34], 'московский': [32], 'здание': [8], 'городской': [0], 'заходить': [10], 'неизвестный': [6], 'мужчина': [5], 'бросать': [4], 'взрывпакть': [2], 'кабинет': [1], 'затем': [12], 'два': [10], 'граната': [2], 'результат': [0], 'взрыв': [10], 'страдать': [26], 'Кужанкуй': [0], 'исключать': [5], 'месть': [0], 'музей': [8], 'предписание': [8], 'понедельник': [1], 'нью-йоркский': [18], 'мэр': [4], 'администрация': [11], 'предпринимать': [6], 'против': [8], 'шаг': [4], 'чтобы': [15], 'успокаивать': [18], 'общественный': [3], 'мнение': [7], 'авторитетный': [6], 'весь': [10], 'ветвь': [11], 'израильский': [0], 'руководитель': [5], 'спецслужба': [18], 'министр': [13], 'верховный': [12, 5], 'юридический': [29, 32], 'советник': [9], 'приходиться': [15], 'делать': [7], 'ряд': [8], 'после': [17], 'лично': [4], 'ознакомляться': [15], 'легкий': [17], 'поверить': [16], 'заверение': [14], 'чем': [3], 'допускать': [7], 'существование': [10], 'общий': [5], 'заговор': [8], 'выгораживание': [6], 'равный': [1], 'замешать': [0], 'генеральный': [5], 'выплата': [5], 'компенсация': [7], 'утвердить': [24], 'агентство': [11], 'ясно': [12], 'использовать': [5], 'огромный': [10], 'мощь': [29], 'колоссальный': [27], 'доход': [18], 'для': [3, 3, 3], 'удушение': [24], 'любой': [12], 'появляться': [19], 'рынок': [13], 'продукт': [33], 'конкурируть': [13], 'из': [20], 'основной': [10], 'сказать': [0], 'заключение': [0], 'оглашение': [11], 'падать': [4], 'до': [26], '88,75': [3], 'доллар': [11], 'требовать': [7], 'микрософт': [4], 'расформирование': [5], 'корпорация': [14], 'более': [13], 'мелкий': [9], 'конкурировать': [13], 'друг': [3], 'применять': [2], 'мягкий': [21], 'препятствовать': [24], 'развитие': [22], 'технология': [33], 'угроза': [5], 'операционный': [7], 'windows': [33], 'предполагаться': [6], 'сам': [21], 'задерживать': [18], 'заседание': [13], 'допустить': [7], 'коллегия': [20], 'рассматривать': [27], 'суть': [13], 'выдвигать': [10], 'лишь': [10], 'процессуальный': [6], 'каждый': [2], 'реализация': [8], 'прежде': [11], 'одобрение': [1], 'возглавлять': [4], 'процесс': [14], 'антимонопольный': [7], 'разочаровывать': [1], 'еще': [5], 'уверенный': [6], 'американский': [36], 'юриспруденция': [14], 'конец': [1], 'осознавать': [18], 'инновация': [21], 'поведение': [8], 'абсолютно': [7], 'честный': [6], 'приносить': [2], 'миллион': [10], 'потребитель': [17], 'долгий': [17], 'путь': [13], 'вероятно': [1], 'действительно': [8], 'предстоять': [0], 'подавать': [6], 'апелляция': [4, 2], 'окончательный': [0], 'риск': [9], 'затягиваться': [7], 'четыре': [3], 'месяц': [5], 'тюремный': [12], 'поначалу': [9], 'отменять': [4], 'гласить': [0], 'хранение': [3], 'жесткий': [9], 'диск': [2], 'распечатка': [8], 'порнографический': [9], 'материал': [23], 'деяние': [14], 'правда': [6], 'объявлять': [0, 0], 'ранее': [7], 'принцип': [16], 'неверный': [6], 'чрезмерный': [8], 'сокращать': [10], '12': [22], 'отстранение': [2], 'преподавание': [18], 'отказываться': [0, 5], 'ходатайство': [5], 'усмотреть': [7], 'действие': [5], 'ответчик': [17], 'недобросовестный': [11], 'пользование': [12], 'затягивание': [10], 'пятница': [16], '19': [13], 'ноябрь': [8], 'итальянский': [7], 'добиваться': [14], 'привлечение': [12], 'кардинал': [16], 'Микель': [4], 'наиболее': [9], 'влиятельный': [10], 'иеррарх': [13], 'преступный': [6], 'связь': [8], 'соучастие': [24], 'мошенничество': [10], 'ссуд': [28], 'официальный': [23], 'Руссо': [1], 'фигурировать': [9], '20': [4], 'человек': [14], 'основание': [7], 'подслушанный': [2], 'разговор': [22], 'неаполитанский': [9], 'епархия': [12], 'средства': [9], 'переходить': [12], 'родственник': [15], 'житель': [18], 'первый': [27], 'крупный': [5], 'серия': [18], 'неизбежный': [6], 'претензия': [8], 'мотив': [24], 'засекречивание': [21], 'подлежать': [19], 'лицо': [30, 33], 'занимать': [9], 'ключевой': [15], 'государство': [8], 'президент': [3], 'парламент': [3], 'депутат': [7], 'местный': [13], 'совет': [8], 'прокурор': [3], 'кандидат': [0], 'должность': [1], 'ссылаться': [20], 'замечание': [0], 'комментировать': [11], 'цена': [5, 23], 'отмечать': [14], 'нет': [18], 'назначение': [11], '49': [25], 'прибыль': [12], 'защищать': [2], 'интерес': [23, 9], 'истец': [6], 'вышеперечисленный': [6], 'базироваться': [2], 'оглашать': [14], '5': [23], 'юстиция': [6], 'посредничество': [0], 'договориться': [2], 'внесудебный': [15], 'урегулирование': [6], 'разногласие': [7], 'назначать': [2], 'февраль': [8], '2000': [12], 'вообще': [10], 'вне': [9, 8], 'никакой': [2], 'вердикт': [12], 'кроме': [2], 'предварительный': [28], 'оставаться': [4], 'монопольный': [9], 'положение': [3], 'пользоваться': [15], 'вред': [16], 'тезис': [19], 'нельзя': [20, 14], 'можно': [17], 'вывод': [23], 'годный': [33], 'использование': [35], 'разбор': [37], 'другой': [26], 'касаться': [3], 'придерживаться': [9], 'иной': [2], 'монополия': [3], 'ход': [2], 'разбирательство': [0], 'зависимость': [15], 'неть': [32], 'обеспокоить': [21], 'обстоятельство': [11], 'сей': [12], 'единый': [14], 'фронт': [15], 'выступать': [3], 'намечаться': [21], 'раскол': [3], 'new': [12], 'york': [13], 'post': [27], 'согласно': [14], 'стенограмма': [7], 'опубликовывать': [1], 'четверг': [8], 'во': [7], 'встреча': [8], 'офис': [9], 'беспокойство': [7], 'апелляционный': [5], 'посредник': [2], 'частично': [7], 'объяснять': [1], 'опасение': [14], 'штат': [0], 'двигаться': [25], 'параллельный': [26], 'курс': [27], 'первоначально': [0], 'вынести': [9], '22': [9], 'председатель': [10], 'откладывать': [5], '24': [18], 'вот': [2], 'опять': [18], 'отсрочка': [8], 'Присутствовать': [9], 'обоснованный': [7], 'жалоба': [4], 'заявитель': [4], 'находить': [2], 'таковой': [1], 'буквальный': [5], 'цитирование': [6], 'ответственность': [16], 'лежать': [16], 'рассмотрение': [27], 'продолжительный': [7], 'встречаться': [4], 'заинтересованный': [24], 'напоминать': [3], 'никогда': [4], 'отличаться': [5], 'предсказуемость': [6], 'порой': [8], 'соответствовать': [15], 'существовать': [5], 'традиция': [15], 'всегда': [15], 'логичный': [20], 'изящный': [22], 'даже': [22], 'телеведущий': [19], 'явиться': [12], 'журналист': [14], 'председательствовать': [3], 'расписываться': [8], 'повестка': [3], 'явка': [11], 'ли': [4, 19], 'приступать': [1], 'завтра': [9], 'утро': [8], 'существо': [5], '2': [7], 'декабрь': [11], 'состояться': [7], 'роль': [2], 'противник': [9], 'рамка': [9], 'CNet': [1], 'седьмой': [10], 'переговоры': [16], 'трижды': [35], 'оканчиваться': [36], 'ничто': [19], 'раунд': [5], '6': [7], 'письменный': [11], 'устный': [25], 'утверждение': [3], 'за': [21], 'принятие': [0], 'предоставлять': [5], 'материальный': [9], 'вознаграждение': [14], 'соответствующий': [4], 'обеспечение': [12], 'вице-премьер': [8], 'российский': [22], 'проект': [64], 'этап': [25], 'состоять': [2], 'иллюстрировать': [16], 'нарушение': [9], 'законодательство': [8], 'обосновывать': [8], 'значимость': [6], 'факт': [5], 'отражать': [3], 'обнародовать': [2], 'пункт': [21], 'у': [6, 5], 'сильный': [8], 'поддержка': [0], 'со': [14], 'второй': [18], 'гораздо': [8, 12], 'менее': [5], 'ясный': [6], 'четко': [18], 'сформулировать': [15], 'серьезно': [18], 'влиять': [9], 'начинаться': [8], 'прошлый': [12], 'неделя': [11], 'вынесение': [12], 'слушание': [3], 'проходить': [11], 'среда': [1, 1], '8': [4], 'присутствие': [11], 'высокий': [8], 'ранг': [2], 'позволять': [27], 'широкий': [4], 'спектр': [14], 'статья': [13], 'вслед': [21], 'прения': [26], 'поправка': [7], 'специальный': [10], 'юрисдикция': [11], 'совершение': [10], 'преступление': [4], 'ведение': [3], 'война': [20], 'похищение': [24], 'самолет': [13], '30': [5], 'увенчаться': [11], 'успех': [10], 'очередь': [9], 'проживать': [6], 'лидер': [4], 'организация': [21], 'аль': [4], 'шариатский': [14], 'шейх': [3], 'бин': [10], 'мусульманин': [21], 'террор': [24], 'вооруженный': [27], 'россия': [23], 'посольство': [32], 'рубеж': [34], 'военный': [22], 'аэродром': [39], 'объект': [41], 'инфраструктура': [42], 'учитывать': [22], 'reuters': [27], 'возобновить': [22], 'вряд': [16], 'принимать': [12], 'micro': [11], 'Leader': [10], 'business': [9], 'убежденный': [2], 'надеяться': [7], 'инстанция': [22, 30], 'сегодняшний': [16], 'вернуться': [5], 'камера': [23], 'соглашаться': [6], 'краевой': [3], 'избирательный': [4], 'комиссия': [11], 'присяжный': [11], 'идти': [20], 'речь': [2], 'выезжать': [24], 'предел': [17], 'цель': [29], 'секс': [31], 'несовершеннолетний': [33], 'соблазнять': [37], 'несовершеннолетняя': [38], 'содержаться': [17], 'частный': [13], 'определение': [10], 'отказ': [1], 'заключительный': [1], 'трудный': [5], 'тянущться': [12], 'сражение': [17], 'термин': [21], 'playboy': [23], 'продвигать': [27], 'веб-сайт': [29], 'дата': [6], 'появление': [51], 'перед': [0], 'трибунал': [1], 'пока': [10], 'заместитель': [6], 'начальник': [11], 'государственный': [22], 'правовой': [4], 'мэрия': [4], 'постоянно': [0], 'незаконность': [1], 'региональный': [4], 'милиция': [12], 'без': [9], 'консультация': [8], 'глава': [7], 'субъект': [5], '10': [10], 'кассационный': [9], 'Л': [1], 'наносить': [2], 'ущерб': [5], 'художник': [12], 'графический': [14], 'дизайнер': [15], 'фотограф': [11], 'помещать': [19], 'com': [14], 'стоять': [13], 'ссылка': [12], 'оригинальный': [10], 'страница': [9], 'позаимствовать': [5], 'изображение': [1, 6], 'ситуация': [1], 'автор': [5], 'большинство': [23], 'групповой': [20], 'предъявлять': [12], 'последний': [3], 'когда': [7], 'монополист': [3], 'действовать': [12], 'настоящий': [9], 'параллельно': [9], 'продолжаться': [6], 'уже': [15], 'отослать': [0], 'вариант': [32], 'январь': [1], 'виновный': [4], 'злоупотребление': [11], 'лавина': [19], 'мы': [10], 'наблюдать': [0], 'сейчас': [16], 'казаться': [31], 'ручеек': [32], 'сравнение': [34], 'приходить': [1, 6], 'во-первых': [7], 'выгода': [11], 'занятие': [14], 'себя': [16], 'пиратский': [24], 'файл': [25], 'ограничивать': [1], 'сайт': [9], 'руководство': [16], 'летчик': [10], 'участвоваать': [12], 'бомбардировка': [14], 'dvd': [28], 'Copyright': [8], 'Control': [5], 'Association': [6], 'хакер': [15, 28], 'программный': [14], 'взлом': [27], 'digital': [6], 'video': [19], 'disc': [20], 'накладывать': [28], 'временный': [5], 'распространение': [2], 'associated': [22], 'press': [23], '29': [6], 'потребовать': [1], 'публиковать': [10], 'называться': [14], 'the': [13], 'Brethren': [12], 'герой': [3], 'трое': [1], 'отбывать': [1], 'срок': [15], 'колония': [15], 'режим': [17], 'решетка': [2], 'делить': [0], 'свободный': [9], 'изучение': [4], 'солагерник': [10], 'серьезный': [12], 'эксперт': [7], 'соглашение': [4], 'флотский': [3], 'контрразведка': [4], 'презумпция': [8], 'невиновность': [20], 'Печерский': [0], 'районный': [1], 'возбуждать': [4], 'уголовный': [21], 'неправомочный': [16], 'спикер': [12], 'вице-спикер': [14], 'рад': [16], 'александр': [18], 'частность': [1], '21': [9], 'руководить': [22], 'систематически': [20], 'чинить': [21], 'препятствие': [15], 'народный': [24], 'избранник': [25], 'число': [18], 'попадать': [20], 'рабочий': [35], 'место': [9], 'сессионный': [39], 'зал': [18], 'подосадовать': [2], 'брать': [14], 'переложить': [11], 'насамарский': [13], 'впервые': [17], 'освобождать': [3], 'республика': [2], 'новость': [7], 'полномочие': [9], 'лишать': [4], 'анатолий': [2], 'чилийский': [0], 'диктатор': [14], 'Аугусто': [2], 'выявлять': [13], 'дисфункция': [11], 'мозг': [11], 'отвечать': [3], 'смысл': [5], 'Мадридский': [0], 'инициатор': [3], 'экс-диктатор': [7], 'медицинский': [10], 'оздоровий': [12], 'министерство': [5], 'иностранный': [16], 'отправлять': [3], 'газета': [12], 'выдача': [9], 'ордер': [8], 'арест': [6], 'брайан': [1], 'распорядиться': [3], 'досье': [7], 'видеть': [16], 'подавлять': [0], 'переизбирать': [2], 'нынешний': [21], 'голосовать': [1], '18': [4], 'передавать': [16], 'тогда': [0], 'закрывать': [2], 'оно': [2], 'выходить': [3], '31': [8], 'гарантия': [29, 0], 'прекратить': [25], 'исполнение': [9], 'обязанность': [5], '7': [14], 'деятельность': [19], 'предоставление': [4], 'социальный': [1], 'незаконно': [7], 'устанавливать': [19], 'привилегия': [10], 'кучка': [12], 'должностной': [17], 'оказываться': [56], 'отставка': [18], 'чадо': [26], 'домочадец': [28], 'собственный': [6], 'квартира': [1], 'убивать': [0, 0], 'выясняться': [12], 'убийство': [14], 'происходить': [4], 'около': [6], 'исчезновение': [0], 'поступать': [9], 'отпуск': [13], 'гражданский': [8], 'следствие': [29], 'профессиональный': [3], 'норма': [26], 'обязанный': [9], '65-й': [8], 'минута': [22], 'забивать': [5], 'гол': [2], 'из-за': [12], 'офсайд': [4], 'называть': [20], 'исторический': [3], 'так': [19], 'давно': [2], 'табачный': [8], 'изделие': [9], 'опасный': [2], 'здоровье': [16], 'Рэй': [4], 'независимый': [6], 'октябрь': [5], 'тверской': [4], 'лучший': [13], 'современность': [0], 'итальянец': [2], 'обслуживать': [5], 'ответный': [6], 'полуфинальный': [10], 'матч': [17], 'турецкий': [4], 'мексиканский': [20], 'высылать': [18], 'главарь': [15], 'мафия': [13, 5], 'разыскивать': [9], '1990': [3], 'подготовка': [6], 'покушение': [6], 'кульминация': [9], 'конфликт': [8], 'обращение': [1], 'квалификационный': [1], 'представление': [6], 'прекращение': [7], 'судно': [19], 'приморский': [20], 'складываться': [10], 'вынужденный': [0], 'пойти': [2], 'крайний': [4], 'мера': [8], 'голодовка': [6], 'протест': [3], 'политика': [26], 'останавливать': [6], 'таможенник': [1], 'обращаться': [9], 'разъяснение': [4], 'поддерживать': [2], 'позиция': [13], 'май': [6], 'соответствие': [8], 'церемония': [6], 'инаугурация': [5], 'информация': [3, 15], 'возможный': [1], 'раздел': [13], 'акция': [33], 'стремительно': [8], 'bbc': [13], 'страсть': [3], 'накалиться': [2], 'удалить': [0], 'скамейка': [3], 'запасной': [4], 'участие': [1], 'игра': [19], 'латать': [10], 'слишком': [4, 11], 'шумно': [15], 'выражать': [21], 'недовольство': [18], 'ближайший': [2], 'римский': [0], 'Санджованниприступит': [1], 'наследник': [5], 'Щукинадокументов': [6], 'заключать': [10], 'Mondadori': [12], 'Эрмитаж': [14], 'удаваться': [20], 'сша': [18], 'настаивать': [24], 'рассматриваться': [14], 'сразу': [19], 'миновать': [20], 'промежуточный': [21], 'разделение': [9], 'снятие': [5], 'ограничение': [8], 'вступить': [3], 'основывать': [3], 'покупатель': [22], 'производитель': [22], 'приобретать': [32], 'непосредственно': [11], 'политический': [23], 'интрига': [61], 'организовывать': [3], 'опасность': [4], 'помеха': [45], 'план': [41], 'построение': [40], 'самый': [11], 'возврат': [26], 'тоталитарный': [19], 'прошлое': [21, 18], 'ГУЛАГ': [8], 'диктатура': [4], 'курировавший': [3], 'французский': [12], 'аукцион': [5], 'Yahoo': [18], 'оскорблять': [8], 'коллективный': [9], 'память': [10], 'обязать': [15, 2], 'июль': [31], 'отчет': [20], 'предотвращение': [28], 'француз': [15], 'несоблюдение': [4], 'некоторый': [1], 'формальность': [1], 'переоформление': [5], '3': [1], 'ведущий': [1], 'основываться': [8], 'изменять': [8], 'обычный': [14], 'одновременно': [0, 0, 12], 'приостановить': [2], 'вводить': [3], 'возвращение': [1], 'рассмотреть': [8], 'просить': [6], 'разделять': [2], 'полномочияпредседатель': [2], 'секретариат': [3], 'отстранить': [1], 'поступок': [24], 'позорять': [11], 'честь': [0], 'достоинство': [28], 'вице-губернатор': [9], 'Отстраненный': [4], 'приезжать': [13], 'справедливость': [9], 'регламент': [6], 'отсутствие': [0], 'уважительный': [1], 'причина': [2], 'пояснять': [15], '14': [0], 'статус': [17], 'конфликтовать': [1], 'прикрывать': [3], 'Саварес': [4], 'чемпион': [8], 'мир': [7], 'тяжелый': [20], 'вес': [28], 'оттащить': [14], 'ринг': [18], 'боксер': [19], 'настоятель': [7], 'Покровский': [8], 'приход': [9], 'целое': [15], 'беспочвять': [16], 'долгосрочный': [25], 'аренда': [26], 'парковый': [27], 'территория': [6], 'издавать': [5], 'владелец': [7], 'GeoCities': [11], 'требуемый': [17], 'персональный': [18], 'данные': [2], 'аноним': [20], 'третейский': [0], 'Мэрили': [0], 'создание': [14], 'фан-клуб': [13], 'намереваться': [2], 'продавать': [17], 'держатель': [19], 'торговый': [22], 'марка': [23], 'приговаривать': [6], 'тюрьма': [12, 21], 'дипломатический': [16], 'миссия': [15], 'разморожать': [12], 'парижский': [0, 0], 'правосудие': [10], 'Альдижер': [1], 'Noga': [6], 'возмещать': [8], 'диппредставительство': [10], 'затрата': [14], 'размер': [4], 'тысяча': [0], 'франк': [9], 'сотрудник': [2], 'Go': [3], 'network': [4], 'разрабатывать': [5], 'бюро': [7], 'очень': [11], 'эффективный': [12], 'бороться': [8], 'сексуальный': [16], 'преступность': [4], 'письмо': [17], 'разоблачать': [11], 'тайный': [10], 'сотрудничество': [9], 'поручать': [9], 'специалист': [12, 11], 'подробно': [14, 13], 'изучать': [14], 'технический': [4], 'антифашист': [5], 'встречный': [1], 'аргумент': [9], 'оспаривать': [5], 'регулировать': [10], 'постановлять': [0], 'игнорировать': [0], 'компьютерный': [4], 'код': [11, 26], 'настолько': [15], 'форма': [14], 'самовыражение': [13], 'насколько': [16], 'выражение': [6], 'взгляд': [0], 'ставить': [0], 'приводить': [20], 'прямой': [34], 'автоматический': [33], 'загрузка': [32], 'Decss': [3], 'функционально': [18], 'пользователь': [6], 'хакерский': [5], 'служить': [4], 'millennium': [7], 'Act': [9], 'нелегальный': [11], 'неверно': [0], 'интерпретировать': [1], 'грозить': [10], 'уничтожать': [11], 'преимущество': [6], 'каков': [7], 'вероятность': [8], 'преступник': [8], 'оставлять': [0], 'досрочный': [19], 'лишение': [18], 'судейский': [9], 'квалификация': [12], 'свидетель': [2], 'предприниматель': [11], 'муж': [0], 'Локтионовый': [2], 'взятка': [0], 'гласящий': [7], 'запись': [11], 'согласие': [3], 'собеседник': [20], 'применимый': [23], 'электронный': [22], 'почта': [26], 'чат': [28], 'приватный': [32], 'беседа': [0], 'помощь': [6], 'записывать': [6], 'метр': [1], 'устройство': [7], 'автоматически': [17], 'вполне': [0], 'разумно': [1], 'учет': [5], 'ежедневно': [8], 'количество': [11], 'странно': [18], 'разрешение': [11], 'сохранение': [25], 'испанский': [0], 'Мид': [7], 'говорить': [2], 'обоснование': [11], 'осматривать': [17], 'врач': [3], 'версия': [27], 'правоохранительный': [17], 'теракт': [5], 'оказывать': [15], 'давление': [13], 'временно': [4], 'взламывать': [11], 'цифровой': [13], 'завершаться': [8], 'хоть': [2], 'настраивать': [16], 'правозащитный': [16], 'Electronic': [13], 'Frontier': [13], 'Foundation': [12], 'обещать': [7], 'похоже': [10], 'смехотворность': [8], 'желание': [26], 'распоряжение': [1], 'вещественный': [22], 'доказательство': [22], 'футболка': [24], 'спина': [30], 'сторонник': [13], 'идеология': [34], 'open-source': [35], 'раздавать': [36], 'выдавать': [4], 'хищение': [13], 'госбюджет': [16], 'продажа': [20], 'нефть': [21], 'le': [28], 'Monde': [29], 'разрешать': [1], 'удалять': [1], 'матка': [2], '28-летний': [3], 'Telegraph': [3], 'отказывать': [2], 'обнаруживать': [0], 'осуждать': [6], 'восемь': [5], 'раз': [8], 'злоупотребеление': [15], 'наркотик': [16], '1976': [18], 'спустя': [7], 'выгонять': [0], 'поле': [2, 14], 'бить': [6], 'сбивать': [2], 'жалеть': [1], 'желтый': [4], 'штрафной': [8], 'вновь': [29], 'хладнокровно': [15], 'реализовать': [19], 'суровыйприговор': [4], 'когда-либо': [11], 'Мтбя': [0], 'генерал': [3], 'нести': [3], 'личной': [4], 'командир': [6], 'человечность': [13], 'нарушенияЖеневский': [16], 'конвенция': [17], 'попрание': [19], 'обычай': [22], 'двое': [0], 'пиночет': [13, 13], 'санкционирование': [9], 'пытка': [10], 'правление': [4], 'нация': [8], 'пообещать': [0], 'свалить': [5], 'бомбардир': [14], 'команда': [6], 'пенальти': [3], 'столичный': [4, 4], 'прошение': [7, 7], 'семь': [0], 'парламентский': [14, 14], 'неприкосновенность': [2], 'корреспондент': [5], 'Сантьяго': [2], 'над': [7], 'процедура': [11], 'главный': [5, 22], 'задача': [13], 'чешский': [12, 4], 'филиал': [11], 'борьба': [8], 'грязный': [7], 'протяжение': [7], 'предлагать': [0], 'Micorsoft': [6], 'владеть': [10], 'давать': [1], 'низший': [3], 'пожизненный': [29], 'ускорять': [7], 'подготавливать': [4], 'изменение': [4], 'пресечение': [10], '175': [3], '448': [8], 'свисток': [1], 'молчать': [0], 'пара': [16], 'точный': [7], 'удар': [7], 'надежда': [5], 'недавний': [3], 'меньший': [12], 'разный': [16], 'структура': [17], 'сценарий': [21], 'событие': [23], 'экстремальный': [25], 'проблема': [19], 'намек': [10], 'Пфильцер': [1], '1989': [7], 'надзирать': [13], 'Хоуля': [2], 'проявлять': [25], 'малейший': [33], 'гибкость': [34], 'трактование': [36], 'поднадзорному': [42], 'область': [16], 'ознакомлять': [4], 'поступить': [7], 'обсуждать': [0], 'активист': [17], 'антитабачный': [16], 'кампания': [8], 'расти': [3], 'расхождение': [3], 'берег': [1], 'вы': [4], 'достаточно': [7], 'глупый': [8], 'курить': [11], 'рак': [14], 'легкое': [16], 'изъятие': [8], 'лицензия': [12], 'оружие': [16], 'детективный': [30], 'охранный': [32], 'инцидент': [19], 'повздорить': [4], 'подраться': [2], 'возникать': [12], 'словесный': [11], 'перепалка': [10], 'умудряться': [5], 'железный': [3], 'ударять': [1], 'вносить': [30], 'включение': [27], 'состав': [0], 'создавать': [7], 'именно': [10], 'сессия': [9], 'кандидатура': [2], '117-й': [13], 'чемпионат': [8], 'футбол': [5], 'сборная': [13], 'ворота': [5], 'португалец': [6], 'неумолимый': [1], 'безупречный': [6], 'столь': [5], 'дикий': [17], 'проиграть': [12], 'полуфинал': [10], 'Риадя': [3], 'впредвзятости': [0], 'выбегать': [11], 'корт': [9], 'мать': [15], 'рождать': [11], 'момент': [7], 'крикнуть': [0], 'balls': [4], 'please': [5], 'констатировать': [0], 'оплата': [3], 'агитационный': [4], 'наличные': [6], 'выборы': [14], 'подсудимый': [1], 'циничный': [4], 'суверенитет': [7], 'снимать': [8], 'признать': [13], 'правило': [3], 'предвыборный': [22], 'агитация': [20], 'получение': [10], 'отстраненный': [14], 'август': [5], 'местусодержание': [11], 'подследственный': [10], 'стража': [0], 'железнодорожный': [5], 'районаКрасноярск': [4], 'центральный': [0], 'район': [1], 'нарушеныположение': [1], '94-й': [3], 'кодекс': [4], 'поручитель': [11], 'подписка': [11], 'поручительство': [26], 'отменоймера': [30], 'быстрый': [3], 'завершение': [4], 'способствовать': [7], 'расизм': [10], 'помогать': [12], 'репутация': [14], 'освобождение': [20], 'бесспорно': [10], 'руководствоваться': [1], 'возобновлять': [8], 'сбор': [8], 'дополнительный': [11], 'март': [23], 'текущий': [3], 'дальнейший': [7], 'разбойный': [2], 'нападение': [1], 'подъезд': [1], 'дом': [14], 'где': [3], 'похищать': [12], 'минувший': [4], 'залог': [17], 'физика': [10], 'небрежный': [18], 'стратегический': [21], 'секрет': [22], 'приговорить': [7], 'уплачивать': [16], 'Коннектикут': [20], 'конкуренция': [23], 'закрытие': [3], 'доказать': [0], 'клиент': [11], 'утверждать': [27], 'любопытный': [5], 'башкирия': [14], 'мировой': [0], 'universal': [11], '45': [7], 'готовый': [0], '150': [5], 'группа': [10], 'нижний': [22], 'президиум': [17], 'счесть': [1], 'функция': [5], 'подразделение': [4], 'охрана': [3], 'силовой': [4], 'пристав': [2], 'исполнитель': [11], 'проведение': [9], 'имущество': [11], 'взыскание': [23], 'денежный': [4], 'средство': [25], 'дожны': [2], 'одобрять': [2], 'сумма': [2], 'взыскать': [8], 'ожидать': [8], 'финальный': [1], '-докладчикий': [0], 'определять': [14], 'неконституционный': [8], 'практика': [17], 'продавец': [17], 'авторский': [18], 'облагать': [24], 'налог': [25], 'стоимость': [28], 'несколькосблизиться': [4], 'Салониуспредоставлять': [1], 'компромиссной': [6], 'орт': [2], 'инструкция': [6], 'заработный': [18], 'плата': [19], 'высказываться': [1], '15': [13], 'особый': [23], 'ua': [11], 'today': [12], 'радиостанция': [18], 'вторжение': [11], 'жизнь': [8], 'сотрудница': [16], 'белый': [17], 'заслушать': [0], 'подозреваемый': [1], 'практически': [8], 'безукоризненно': [7], 'выполнить': [6], 'элемент': [6], 'оценка': [4], '5,7': [1], '5,8': [3], 'балл': [4], 'схема': [3], 'Demon': [6], 'избрать': [9], 'невинный': [12], 'воскресный': [8], 'выпуск': [21], 'ежедневный': [6], 'times': [2], 'достигать': [14], 'познер': [22], 'противоречие': [16], 'сближение': [5], 'длиться': [15], 'почти': [8], 'сорвать': [4], 'следующий': [25], 'вплоть': [8], 'разукрупнение': [5], 'огласить': [1], 'девятнадцать': [15], '23': [2], '26': [30], 'отнюдь': [0], 'неожиданный': [3], 'качество': [11], 'апрель': [6], 'окончательно': [7], 'тупик': [2], 'вынуждать': [1], 'окончание': [20], 'ожидание': [5], 'резко': [3], 'скончаться': [20], 'постель': [8], 'почет': [5], 'уважение': [2], 'среди': [19], 'сравнивать': [3], 'писать': [6], 'ansa': [9], 'сойти': [15], 'преисподняя': [17], 'выйти': [21], 'оттуда': [22], 'свет': [24], 'вина': [14], 'ожидатьэтого': [19], 'амбиция': [24], 'совесть': [28], 'находиться': [8], 'отозвать': [5], 'нью-йорксий': [0], 'Mpaa': [6], 'законно': [7], 'потому': [10, 7], '2600': [14], 'альтернативный': [17], 'готовность': [22], 'немного': [19], 'маркетинговый': [25], 'прислать': [0], 'очередной': [4], 'исправление': [26], 'косметический': [30], 'фактически': [3], 'никак': [35], 'расклад': [7], 'конкурентный': [41], 'болезнь': [0], 'старший': [7], 'брат': [12], 'республиканский': [17], 'глазнойклиник': [18], 'готовить': [2], 'операция': [22], 'аналогичный': [1], 'обязывать': [2], 'оператор': [5], 'сто': [11], 'официально': [8], 'протокол': [1], 'подписать': [1], 'подписание': [13], 'уйтинесколько': [1], '17': [7], 'символ': [6], 'невыполнение': [6], 'парламентарий': [4], 'препятствование': [1], 'уполномоченный': [3], 'армеец': [10], 'уступать': [8], 'опротестовывать': [2, 1], 'обоснованность': [4], 'арбитр': [2], 'спортивный': [17], 'больше': [6], 'формулировка': [6], 'склонный': [4], 'лояльность': [0], 'хвалить': [4], 'передать': [13], 'иметь': [2], 'возможность': [4], '90': [30], 'очевидный': [5], 'сперва': [6], 'реальный': [6], 'ждать': [7], '50': [18], 'том': [2], 'доказывать': [2], 'полностью': [12], 'содеять': [14], 'квалифицировать': [22], 'правильно': [16], 'Белорецкий': [0], 'горсуд': [1], 'какой': [1], 'выплачивать': [9], 'доставлять': [3], 'накануне': [7, 0], 'больший': [6], 'управляющий': [3], 'павел': [7], 'ныне': [11], 'белорусский': [16], 'союз': [17], 'ознакомить': [7], 'фрунзенский': [0], 'датировать': [5], 'изъятый': [2], 'улика': [5], 'выполнимый': [13], 'ибо': [15], 'правомочный': [18], 'следователь': [15], 'изъять': [30], 'необходимый': [5], 'убить': [4], 'одноклассник': [7], 'насильник': [8], 'вон': [10], 'хорошо': [6], 'подчеркивать': [4], 'Генпрокуратура': [4], 'судебномрешение': [2], 'примененыненадлежащий': [0], '-процессуальный': [3], 'томчисло': [8], 'признанный': [10], '218': [16], 'обжалование': [19], 'исключительный': [16], 'аналитический': [11], 'Thomas': [9], 'Weisel': [8], 'тоже': [7], 'приведение': [2], 'существенно': [2], 'неразделенный': [14], 'расследуть': [3], 'об': [5], 'bank': [10], 'of': [11], 'банкир': [1], 'кто': [14], 'допросить': [7], 'управлять': [6], 'коммерческий': [7], 'показание': [19], 'интересовать': [1], 'окружение': [14], 'бизнесмен': [7, 8], 'черный': [8], 'требоваться': [3], '18,3': [11], 'вымогательство': [14], '36': [13], 'подкуп': [0], 'история': [5], 'любовь': [1], 'пожилой': [0], 'жить': [7, 21], 'консервативнойфранцузский': [3], 'провинция': [20], 'польский': [7], 'проститутка': [8], 'двадцать': [0], 'половина': [2], 'час': [5], 'заслушивать': [4], 'список': [15], 'Aegis': [20], 'архиепископ': [18], 'тут': [15], 'лауреат': [13], 'нобелевский': [12], 'премия': [11], 'переживать': [6], 'холокост': [5], 'Эли': [3], 'шесть': [6], 'спасать': [11], 'спартак': [13], 'соображение': [4], 'полный': [4], 'объем': [15], 'бандит': [10], 'поддельный': [7], 'мелкомхулиганство': [6], 'сутки': [12], '4': [4], 'игрок': [1], 'лечебный': [6], 'эффект': [7], 'распространяться': [5], 'Хамди': [14], 'отец': [9], 'девочка': [14], 'благодарный': [0], 'армия': [7], 'восстанавливать': [8], 'заканчивать': [1], 'четырехчасовое': [2], 'совещание': [3], 'разъезжаться': [5], 'обнародовывать': [12], '11': [6], '9': [16], 'el': [27], 'Mostrador': [6], 'спешить': [1], 'неуверенность': [6], 'никто': [15], 'сообщаться': [12], 'свидетельствовать': [12], 'источник': [5], 'разделяться': [0], 'голосование': [6], 'минимальный': [5], 'отрицать': [7], 'подтверждать': [2], 'следственный': [4], 'поручение': [0], 'сегодня': [8], 'Соотвутствующий': [4], 'Клаудета': [2], 'Терезинья': [3], 'некомпетентность': [0], 'генконсул': [21], 'арестовывать': [9], 'допрос': [1], 'заблаговременно': [13], 'разослать': [14], 'совместно': [0], 'Ахмад': [8], 'боевик': [5], 'включая': [7], 'степень': [14], 'развязывание': [17], 'чеченский': [0], 'гражданин': [5], 'дисквалифицировать': [12], 'мучительно': [6], 'да': [4], 'прерывать': [15], 'надзирающий': [9], 'законность': [19], 'приказ': [0], 'оперативный': [13], 'розыскной': [11], 'мероприятие': [10], '25': [10], 'сентябрь': [11], 'годаВерховный': [4], 'Ю': [1], 'буквально': [7], 'покоренный': [2], 'великолепный': [9], 'акробатический': [10], 'ошибка': [10], 'олимпийский': [18], 'соотечественник': [2], 'марафонец': [4], 'золотой': [7], 'медаль': [8], 'соломинка': [7], 'переломить': [9], 'хребет': [10], 'верблюдо': [11], 'объяснение': [15], 'Omega': [17], 'почему': [22], 'дочерний': [14], 'торговать': [26], 'новогодний': [27], 'елка': [28], \"Sporty's\": [31], 'farm': [32], 'гружеть': [0], 'Беганская': [2], 'Nsi': [6], 'рассудить': [5], 'домять': [11], 'законодатель': [3], 'урегулировать': [5], 'бездействуть': [9], 'домен': [10], 'подпадать': [16], 'переносезаседания': [2], 'улучшение': [4], 'самочувствие': [5], 'заболевание': [9], 'несмотря': [12], 'вничью': [5], 'победа': [0], 'отдавать': [0], 'борец': [2], 'врачебный': [2], 'состояние': [15], 'неутешительный': [1], 'экс-президент': [7], '500': [21], 'обвинитель': [1], 'отдел': [7], 'Рашидхан': [10], 'Napster': [3], 'любить': [15], 'невозможный': [2], 'исполнить': [21], 'учесть': [2], 'личность': [3], 'ответ': [8], 'защитник': [8], 'аргументировать': [19], 'психический': [11], 'расстройство': [10], 'голова': [5], '1996': [3], 'альтернатива': [10], 'трактовать': [9], 'по-разному': [10], 'странный': [14], 'радикальный': [4], 'лингвист': [14], 'подписывать': [9], 'Корреа': [1], 'було': [2], 'аргентинский': [17, 0], 'причастность': [17], 'столица': [2], 'главнокомандующий': [14], 'жена': [25], 'Галиано': [2], 'котляковский': [15], 'кладбище': [16], 'премьер': [15], 'указ': [8], 'повышение': [5], 'служащий': [1], 'прокурорский': [1], 'работник': [2], 'персонал': [5], 'солдат': [7], 'легко': [12], 'покидать': [10], 'введение': [7], '13': [38], 'отрицательный': [9], '41': [1], '16': [1], 'талиб': [4], 'иметься': [5], 'террористический': [14], 'означать': [10], 'голос': [24], 'подсчитывать': [16], 'штаб': [3], 'ручной': [7], 'перестать': [8], 'продолжать': [5], 'ввиду': [35], 'взаимоисключающий': [33], 'приостанавливать': [13], 'узнавать': [1], 'разрешить': [5], 'прием': [1], 'пересчет': [19], 'выяснение': [3], 'невыезд': [13], 'распоряжаться': [1], 'сдавать': [5], 'паспорт': [5], 'белизский': [13], 'огнестрельный': [15], 'надевать': [18], 'нога': [6], 'браслет': [23], 'следить': [29], 'перемещение': [32], 'оправдывать': [6], 'хулиган': [5], 'охватывать': [9], 'взаимность': [17], 'становить': [3], 'вернуть': [8], 'истица': [5], 'дискета': [12], 'конфиденциальный': [14], 'оплачивать': [4], 'издержка': [21], 'сведение': [26], 'составлять': [32], 'фунт': [35], 'стерлинг': [36], 'переносить': [9], 'хотеть': [2], 'информировать': [0], 'несостоявшийся': [7], 'убийца': [4], 'отклонить': [0], 'располагать': [0], 'административный': [5], 'центр': [6], 'госсекретарь': [11], 'объявление': [0], 'уоррен': [5], 'демократ': [10], 'опротестовать': [14], 'итог': [16], 'опыт': [15], 'наш': [14], 'пращур': [13], 'выбирать': [3], 'предводитель': [8], 'хан': [6], 'беков': [4], 'полководец': [1], 'достойный': [4], 'высоконравственный': [6], 'согражданин': [7], 'достаточный': [3], 'избирать': [5], 'вид': [15], 'домашний': [15], 'детский': [1], 'направление': [13], 'приют': [6], 'приемный': [21], 'предлог': [5], 'родитель': [9], 'затребовать': [6], 'копия': [9], 'возбуждение': [12], 'преследование': [22], 'медиа': [4], 'магнат': [11], 'отмена': [34], 'необоснованно': [1], 'подзащитный': [2], 'перевод': [15], 'вилла': [19], 'полицейский': [27], 'надзор': [27], 'четверо': [31], 'Бальтасара': [3], 'хосе': [9], 'Аснар': [7], 'Асебес': [2], 'холдинг': [8], 'экстрадиция': [16], 'Остальский': [19], 'уносить': [0], 'прервать': [7], '1:0': [10], 'хозяин': [13], 'daily': [4], '1987': [7], 'биржевой': [14], 'спекулянт': [15], 'привилегированная': [24], 'приватизация': [17], 'Marceau': [3], 'Investissements': [4], 'Societe': [18], 'Generale': [19], 'условие': [8], 'скрываться': [15], 'договариваться': [3], 'сокамерником': [1], 'платить': [1], 'полтора': [7], 'предполагать': [5], 'снисходительный': [14], 'сокамерник': [4], '-магнат': [5], 'Pais': [28], 'гробница': [1], 'египетский': [0], 'Инть': [0], 'египтолог': [1], 'открытие': [4], 'вынесший': [3], 'сюжет': [1], 'Нвтор': [8], 'калининградский': [13], 'показать': [16], 'ночной': [6], 'клевета': [3], 'экс-губернатор': [7], 'телекомпания': [21], 'деталь': [1], 'воспитание': [2], 'животное': [3], 'воля': [5], 'конкретный': [15], 'сохранять': [2], 'миллиард': [7], 'посить': [16], 'евро': [20], 'уходить': [16], 'гвардия': [9], 'Женевский': [0], 'выдать': [1], 'Столповский': [6], 'подозрение': [8], 'группировка': [4], 'Эфэ': [20], 'короткий': [20], 'избежать': [14], 'фаворит': [12], 'Бережная': [10], 'выводить': [0], 'единогласный': [1], '49-летний': [1], 'ливиец': [2], '1988': [10], 'погибать': [12], '270': [19], 'Afp': [5], '84': [0], '230': [2], 'бумага': [8, 16, 35], 'прочитывать': [7], 'вменяемый': [5], 'особенно': [4], 'европейский': [10], 'совершенно': [8], 'юридически': [10], 'бессмысленный': [11], 'значить': [15], 'бояться': [19], 'проверка': [11], 'ценность': [30], 'подчеркнуть': [41], 'собака': [27], 'напасть': [23], 'удивительный': [17], 'собачий': [12], 'лай': [11], 'удивлять': [9], 'судьба': [5], 'телеканал': [8], 'предшествовать': [1], 'сопровождение': [26], 'агент': [7], 'военизированный': [11], 'формальный': [5], 'согласный': [10], 'добровольный': [14], 'национальный': [18], 'выдвижение': [17], 'Эшкрофт': [11], 'мешать': [4], 'некий': [0], 'воздушный': [15], 'морской': [17], 'транспорт': [18], 'передвигать': [21], 'дискредитировать': [13], 'обыск': [4], 'положенный': [3], 'подобный': [7], 'переходный': [22], 'период': [23], 'организовать': [7], 'планировать': [4], 'мотивировать': [15], 'кто-то': [15], 'звонить': [22], 'строго': [16], 'аукционный': [8], 'наказывать': [11], 'вор': [15], 'уличение': [1], 'сговор': [3], 'хороший': [6], 'урок': [7], 'импульс': [10], 'взаимоконтроль': [12], 'немедленно': [0], 'собираться': [1], 'представительство': [31], 'лозунг': [24], 'гласивший': [22], 'несправедливый': [9], 'ты': [1], 'покончить': [12], 'твой': [9], 'дача': [1], 'статуя': [10], 'скульптура': [13], 'церетели': [19], 'дарить': [21], 'Юрий': [25], 'вертолет': [6], 'производить': [7], 'подход': [4], 'обязательный': [16], 'должный': [24], 'нужный': [6], 'заменять': [8], 'переводчик': [10], 'Шерил': [18], 'Джун': [23], 'Эдмонд': [12], 'Поуп': [11], 'излагать': [3], '40': [21], 'лист': [5], 'законный': [5], 'кемеровский': [8], '25-й': [17], 'заключенный': [18], 'возраст': [13], '80': [22], 'курский': [0], 'суббота': [21], 'регистрация': [7], 'приставить': [18], 'безопасность': [8], 'угрожать': [1], 'Руцкий': [1], 'пол': [3], 'субботний': [12], 'информационный': [12], 'зачитывать': [0], 'пресненский': [0], 'собирать': [22], 'предупредить': [18], 'разглашение': [26], 'восьмилетный': [10], 'пребывание': [9], 'консервативный': [0], 'ориентация': [1], 'либерал': [5], 'будущий': [6], 'зависеть': [5], 'конкретно': [0], 'консерватор': [3], 'старый': [6], 'расстановка': [9], 'аналогично': [20], 'сместить': [15], 'влево': [11], 'каденция': [4], 'либеральный': [0], 'досрочно': [2], 'приписывать': [8], 'баскский': [9], 'сепаратист': [12], 'взрываться': [1], 'машина': [2], 'слушанье': [7], 'посвящать': [9], 'гореть': [3], 'шофер': [5], 'телохранитель': [7], 'конвой': [10], 'американец': [6], 'сизо': [4], 'справка': [0], 'дежурный': [2], 'лефортовский': [4], 'приступ': [14], 'остеохандроз': [15], 'тазобедренный': [16], 'сустав': [17], 'двусторонний': [19], 'радикулит': [20], 'отразить': [4], 'Эрв': [0], 'катастрофа': [12], 'алкоголь': [14], 'превышение': [18], 'скорость': [19], 'девять': [1], 'мотоциклист': [9], 'преследовать': [11], 'спутник': [15], 'подвергнуться': [9], 'суровый': [8], 'критика': [7], 'громкий': [17], 'Bertelsmann': [7], 'Music': [6], 'group': [5], 'лето': [0], 'сервис': [9], 'мощный': [5], 'полковник': [11], 'Поповских': [13], 'Оксана': [15], 'аккредитация': [19], 'сми': [20], 'по-прежнему': [15], 'открытый': [7], 'пресса': [12], 'телевизионный': [7], 'репортаж': [8], 'разглашаться': [39], 'упоминаться': [13], 'установление': [25], 'истина': [26], 'нина': [1], 'смягчать': [10], 'наличие': [19], 'награда': [14], 'заражать': [0], 'спид': [6], 'пригрозить': [0], 'конвоир': [1], 'заразить': [4], 'дубина': [7], 'склонить': [9], 'флоридский': [0], 'аннулирование': [17], 'открепительный': [20], 'бюллетень': [21], 'флорида': [9], 'Солс': [2], 'cnn': [5], 'United': [13], 'Refining': [14], 'блокировка': [8], 'сделка': [3], 'покупка': [26], 'Getty': [4, 27, 38], 'нефтяной': [14], 'наибольший': [16], 'акционер': [20], 'выгодный': [35], 'нежели': [40], 'изложить': [6], 'продолжение': [11], 'полгода': [62], 'заморозить': [61], 'снова': [2], 'немецкий': [50], 'партнер': [49], 'заплатить': [47], 'неустойка': [43], 'пригласить': [34], 'съемка': [32], 'рено': [30], 'невыполнимый': [18], 'голубой': [6], 'бездна': [5], 'сыграть': [0], 'смерть': [23], 'взятие': [5], '03мскать': [10], 'совещательный': [5], 'комната': [6], 'истечение': [2], 'тендерный': [1], 'Габриэль': [9], '450': [14], 'сходиться': [2], 'исправлять': [3], 'Тимоти': [15], 'МакВя': [1], 'ответственный': [12], '1995': [3], 'оттягиваний': [1], 'смертный': [3], 'казнь': [4], 'оговаривать': [11], 'обратиться': [1], 'подать': [9], '120': [26], 'впрочем': [9], 'авдокать': [7], 'понравиться': [0], 'психологический': [25], 'экспертиза': [7], 'осужденный': [5], 'километр': [22], 'север': [24], 'характер': [2], 'подвергаться': [7], 'Efe': [10], 'рекомендация': [2], 'указать': [6], 'бегство': [10], 'помилование': [9], 'формирование': [5], 'избрание': [0], 'госслужба': [3], 'следовать': [6], 'третий': [15], 'прыжок': [6], 'образ': [1], 'встречать': [12], 'дочь': [15], 'приемная': [18], 'ребенок': [32], 'Гом': [1], 'вместо': [2], 'вырабатывать': [12], 'способ': [13], 'свастика': [17], 'желать': [9], 'заявка': [12], 'беседовать': [0], 'дверь': [3], 'зритель': [5], 'прислушиваться': [8], 'россиянка': [10], 'мэтр': [9], 'воспроизводить': [2], 'прежний': [1], 'хрупкий': [9], 'поэтому': [4], 'Маша': [3], 'надо': [14], 'предстать': [0], 'голый': [1], 'примерно': [6], 'пяить': [8], 'северный': [17], 'нигерия': [18], 'причинять': [17], 'Кайрон': [15], 'Хенн-ли': [14], 'разводиться': [13], 'Маккой': [8], '1994': [6], 'оформление': [1], 'развод': [0], '66': [15], 'ликвидация': [9], 'общенациональный': [8], 'телевидение': [7], 'присуждать': [10], '900': [5], 'уменьшать': [0], '480': [3], 'ядовитый': [6], 'враждебность': [7], 'ненависть': [10], 'наручник': [7], 'сомнение': [3], 'расправа': [11], 'убитый': [14], 'беременный': [16], 'ожжеть': [19], 'заживо': [20], 'комсомолец': [9], 'председательствующий': [0], 'вызвать': [8], 'редактор': [23], 'экс-дипломат': [5], 'возмущать': [4], 'доверенность': [3], 'неожиданно': [3], 'замена': [2], 'одиннадцать': [7], 'эстрада': [9], 'постоянный': [12], 'круг': [16], 'близкий': [18], 'бесстыдный': [7], 'офицер': [1], 'коридор': [1], 'прострелить': [3], 'палец': [1], 'больница': [17], 'пакет': [19], 'законопроект': [6], 'льготный': [15], 'проезд': [0], 'таможня': [6], 'налоговый': [4], 'впоследствии': [12], 'внимание': [2], 'проконсультироваться': [15], 'высокопоставлать': [22], 'арестованный': [5], 'лекарство': [8], 'побоище': [1], 'четверть': [18], 'кремлевский': [12], 'дополнительно': [2], '6900': [1], 'аппарат': [3], '1,5': [6], 'рубль': [8], 'финансирование': [12], 'киргизия': [10], 'повторно': [6], 'Болтон': [27], 'уверять': [26], 'соавтор': [18], 'слышать': [2], 'песня': [13], 'Айсли': [11], 'убеждать': [0], 'василий': [2], 'Бальтасар': [4], 'необходимость': [1], 'граница': [10], 'Медиа': [4], 'певец': [11], 'стать': [5], 'искусство': [1], 'Мухамед': [3], 'прецедент': [8], 'обращать': [1], 'утешаться': [3], 'втрое': [3], 'долждать': [0], 'усмотрение': [9], 'срочный': [7], 'ночь': [17], 'мистер': [7], 'как-то': [5], 'расплакаться': [2], 'относиться': [1], 'снисходительно': [3], 'потом': [2], 'рано': [20], 'вдруг': [9], 'раздаться': [10], 'блеяние': [11], 'молодой': [17], 'спрятать': [17], 'одежда': [19], 'ягенка': [20], 'неудачный': [26], 'отсмеяться': [1], 'роженица': [5], 'середина': [6], 'Макво': [1], 'жаловаться': [1], 'грязь': [10], 'душа': [22, 24], 'свидетельство': [28], 'терять': [24], 'хозяйство': [20], 'переставать': [18], 'убирать': [17], 'запускать': [15], 'потеря': [10], 'совместный': [7], 'уйгура': [19], 'Мемет': [17], 'пособничество': [13], 'казнить': [9], 'показывать': [0], 'ноготь': [7], 'дисциплинарный': [12], 'публика': [5], 'прямо': [6], 'косвенно': [8], 'эксплуатировать': [10], 'уязвимый': [12], 'заключять': [6], 'мост': [17], 'спор': [26], 'пятилетний': [1], 'водитель': [7], 'предупреждение': [10], 'телефон': [24], 'вождение': [27], 'укрепление': [4], 'Похорелска': [1], 'подача': [4], 'относительно': [14], 'график': [0], 'обмен': [23], 'отделение': [6], 'текст': [4], 'послание': [3], 'адрес': [0], 'надлежащий': [11], 'заверенный': [13], 'доктор': [3], 'насчитывать': [5], 'признак': [8], 'стоить': [12], 'Ньюпортский': [0], 'королевский': [1], 'замечать': [4], 'психиатрический': [32], 'лечебница': [33], 'гражданка': [19], 'разлучить': [6], 'сменить': [0], 'отстранять': [0], 'отказать': [10], 'каникулы': [17], 'обследование': [11], 'проведений': [6], 'наконец': [22], 'Бэрри': [4], 'возможно': [16], 'обычно': [6], 'быстро': [13], 'томиться': [19], 'обидеться': [3], 'официант': [9], 'чипсы': [14], 'приказывать': [3], 'кафе': [9], 'много': [7], 'посетитель': [6], 'заказ': [0], 'обслужить': [6], 'разозлиться': [1], 'Кунцевский': [1], 'литература': [15], 'знакомиться': [17], '1999': [12], 'комплексный': [8], 'учение': [6], 'иегова': [3], 'господствовать': [7], 'конкурент': [16], 'неприязненно': [1], 'строить': [14], 'комиссовать': [5], 'травма': [19], 'головной': [10], 'Сергеева': [1], 'ранний': [14], 'стремиться': [9], 'любезно': [0], 'переносый': [7], 'изменяться': [1], 'избиение': [25], 'казанский': [2], 'баскетбол': [16], '56': [14], '52': [12], 'щит': [3], 'игровой': [3], 'площадка': [2], 'избить': [0], 'выполнение': [1], 'происхождение': [7], 'явствовать': [14], 'замгенпрокурор': [18], 'содействовать': [27], 'авиакомпания': [18], 'дискриминационный': [10], 'толстый': [6], 'узаконивать': [16], 'взимание': [18], 'двойной': [19], 'тариф': [20], 'авиаперевозка': [22], 'пассажир': [24], 'повышать': [27], 'допрашивать': [3], 'прибывать': [9], 'какой-то': [1], 'визит': [3], 'вежливость': [4], 'тишина': [8], 'компетенция': [1], 'предельный': [1], '70': [2], 'увеличивать': [6], 'гость': [22], 'начало': [11], 'благословение': [6], 'близкие': [4], 'убедительный': [8], 'Погорелска': [0], 'недостаточно': [4], 'компетентный': [5], 'вместе': [9], 'звезда': [16], 'wwf': [15], 'Rock': [12], 'Джонсон': [11], 'Sting': [8], 'возобновление': [10], '85-летний': [10], 'вначале': [4], 'резиденция': [5], 'мотивировывать': [3], 'неправомерный': [9], 'собрание': [19], 'общегражданский': [23], 'футболист': [5], 'обязываться': [4], 'боковой': [1], 'Ananova': [5], '-Мост': [11], 'Черемушкинский': [0], 'внеочередной': [18], 'Baltasar': [3], 'Garzon': [4], 'вставать': [0], 'Бориспольский': [0], 'порекомендовать': [1], 'отслеживать': [4], 'Riaa': [7], 'свежий': [8], 'релиз': [9], 'популярный': [10], 'музыка': [13], 'спрос': [17], 'пират': [19], 'блокировать': [22], 'попадание': [29], 'соперник': [6], 'часто': [5], 'норвежский': [0], 'играть': [3], 'Joel': [3], 'Lazarus': [4], 'смягчение': [17], 'жестокость': [24], 'пострадавшая': [26], 'Tiffany': [30], 'Eunick': [31], 'пропадать': [10], 'Бетти': [0], 'Betty': [4], 'Adams': [5], 'green': [6], 'мальчик': [10], 'посещать': [13], 'обед': [18], 'специально': [13], 'рекомендовать': [18], 'Alan': [3], 'Postman': [4], 'супруга': [20], 'изнасилование': [24]}\n"
          ],
          "name": "stdout"
        }
      ]
    },
    {
      "cell_type": "code",
      "metadata": {
        "colab": {
          "base_uri": "https://localhost:8080/"
        },
        "id": "y4VWo8iSOhVd",
        "outputId": "3fa260d4-201a-4cfa-807e-b9636ef325cf"
      },
      "source": [
        "print(m)"
      ],
      "execution_count": 49,
      "outputs": [
        {
          "output_type": "stream",
          "text": [
            "_PUNCT_46_punct\n"
          ],
          "name": "stdout"
        }
      ]
    },
    {
      "cell_type": "code",
      "metadata": {
        "colab": {
          "base_uri": "https://localhost:8080/"
        },
        "id": "0O8Kd1N0KHn6",
        "outputId": "95204fab-1f7d-4985-dd4b-d453d1ce6946"
      },
      "source": [
        "len(diff)"
      ],
      "execution_count": 59,
      "outputs": [
        {
          "output_type": "execute_result",
          "data": {
            "text/plain": [
              "2817"
            ]
          },
          "metadata": {
            "tags": []
          },
          "execution_count": 59
        }
      ]
    },
    {
      "cell_type": "code",
      "metadata": {
        "id": "YQ-mP_9YeK7K"
      },
      "source": [
        "for word, lis in diff.items():\n",
        "  if lis ==[]:\n",
        "    print(word)"
      ],
      "execution_count": 60,
      "outputs": []
    },
    {
      "cell_type": "code",
      "metadata": {
        "colab": {
          "base_uri": "https://localhost:8080/"
        },
        "id": "m3pDa7J0W_Nf",
        "outputId": "a0d5c5be-673f-405a-b86a-f722e06086b2"
      },
      "source": [
        "Mat_oj = diff\n",
        "for word, lis in Mat_oj.items():\n",
        "  new_l = (sum(lis))/len(lis)\n",
        "  Mat_oj[word] = new_l\n",
        "print(Mat_oj)"
      ],
      "execution_count": 62,
      "outputs": [
        {
          "output_type": "stream",
          "text": [
            "{'но': 1.0, 'окружной': 21.0, 'решать': 1.0, 'дело': 28.0, 'в': 12.857142857142858, 'польза': 6.5, 'веб': 23.0, '-издательствый': 7.0, 'она': 5.0, 'отвергать': 2.0, 'требование': 12.0, 'судебный': 13.0, 'порядок': 16.0, 'запрещать': 16.0, 'публикация': 5.0, 'секретный': 17.0, 'документ': 2.0, 'поскольку': 22.0, 'такой': 24.0, 'запрет': 1.0, 'нарушать': 4.0, 'бы': 15.0, 'свобода': 13.0, 'слово': 13.0, 'однако': 1.0, 'все': 21.0, 'же': 0.0, 'выносить': 11.0, 'постановление': 0.0, 'связывать': 13.0, 'с': 7.0, 'то': 2.0, 'что': 3.75, 'копирайт': 12.0, 'компания': 15.5, 'при': 26.0, 'это': 4.0, 'добавлять': 8.0, 'система': 35.0, 'только': 5.0, 'начинать': 5.0, 'подходить': 7.0, 'к': 8.5, 'сложный': 10.0, 'вопрос': 6.0, 'как': 23.0, 'и': 10.0, 'защита': 4.0, 'интеллектуальный': 18.0, 'собственность': 16.0, 'между': 18.0, 'заявлять': 1.0, 'эфир': 4.0, 'москва': 12.0, 'конституционный': 0.0, 'суд': 1.0, 'повторный': 12.0, 'перерегистрация': 6.0, 'иногородний': 7.0, 'не': 17.0, 'предусматривать': 6.0, 'закон': 12.0, 'отмечаться': 16.0, 'распространять': 10.0, 'впонедельник': 13.0, 'заявление': 3.0, 'прокуратура': 1.0, 'восточный': 0.0, 'округ': 8.0, 'на': 21.0, 'обвиняемый': 3.0, 'рассчитывать': 12.0, 'снисхождение': 0.0, 'сообщать': 3.0, 'Wired': 2.0, 'news': 14.0, 'подпереть': 4.0, 'рука': 27.0, 'подбородок': 6.0, 'молча': 8.0, 'выслушивать': 3.0, 'довод': 6.0, 'оба': 10.0, 'сторона': 2.0, 'задавать': 2.0, 'ни': 12.5, 'один': 11.0, 'наблюдатель': 5.0, 'полагать': 3.0, 'независимо': 2.0, 'от': 6.0, 'чей': 1.0, 'быть': 21.0, 'решение': 0.75, 'противный': 3.0, 'непременно': 2.0, 'обжаловать': 1.0, 'по': 2.8333333333333335, 'сообщение': 14.0, 'Прайм': 12.0, 'вторник': 4.0, 'поздно': 7.0, 'вечер': 6.0, 'челябинский': 5.0, 'областной': 1.0, 'арбитражный': 33.0, 'под': 4.0, 'председательство': 1.0, 'отклонять': 6.0, 'иск': 8.0, 'губернатор': 15.0, 'красноярский': 5.0, 'край': 21.0, 'о': 13.0, 'продление': 1.0, 'внешний': 11.0, 'управление': 6.0, 'оао': 14.0, 'Ачинский': 16.0, 'глиноземный': 17.0, 'комбинат': 18.0, '7,5': 24.0, 'год': 15.0, 'прекращать': 0.0, 'он': 7.0, 'банкротство': 31.0, 'адвокат': 13.0, 'призывать': 10.0, 'вовсе': 6.0, 'ограничиваться': 3.0, 'штраф': 9.0, 'считать': 2.0, 'проступок': 18.0, 'футбольный': 0.0, 'фанат': 5.0, 'заслуживать': 2.0, 'хотя': 9.0, 'условный': 15.0, 'наказание': 0.0, '1': 7.0, 'который': 15.0, 'мочь': 26.0, 'вступать': 19.0, 'сила': 10.0, 'если': 4.0, 'течение': 9.0, 'совершать': 3.0, 'какой-либо': 5.0, 'уголовно': 2.0, 'наказуемый': 13.0, 'пять': 6.0, 'день': 5.0, 'назад': 7.0, 'мадридский': 0.0, 'направлять': 1.0, 'указание': 2.0, 'противоположный': 13.0, 'содержание': 30.0, 'вскоре': 4.0, 'становиться': 21.0, 'известный': 2.0, 'получать': 11.0, 'свой': 6.0, 'английский': 12.0, 'коллега': 22.0, 'запрос': 17.0, '-': 3.0, 'или': 11.0, 'исполнительный': 15.0, 'власть': 23.0, 'они': 8.0, 'должен': 6.666666666666667, 'выполнять': 7.0, 'данный': 35.0, 'случай': 28.0, 'швейцарский': 15.0, 'делегация': 20.0, 'помимо': 21.0, 'недавно': 10.0, 'назначить': 1.0, 'новый': 12.0, 'генпрокурор': 14.0, 'сменять': 10.0, 'этот': 9.0, 'пост': 15.0, 'дель': 17.0, 'Понти': 4.0, 'входить': 3.0, 'женевский': 0.0, 'Каспер-Анзерма': 1.0, 'несколько': 2.0, 'высокопоставленный': 58.0, 'чиновник': 10.0, 'федеральный': 0.0, 'служба': 15.0, 'полиция': 5.0, 'давний': 2.0, 'пора': 13.0, 'заниматься': 3.0, 'счетам': 6.0, 'бывший': 19.0, 'премьер-министр': 11.0, 'признавать': 0.0, 'демонстрировать': 3.0, 'чрезвычайно': 6.0, 'глубокий': 7.0, 'познание': 8.0, 'компьютер': 50.0, 'доскональной': 12.0, 'понимание': 36.0, 'функционировать': 17.0, 'телефонный': 15.0, 'сеть': 19.0, 'точка': 7.0, 'зрение': 6.0, 'высказывать': 6.0, 'Дево': 1.0, 'расследование': 28.0, 'повод': 3.0, 'отмывание': 10.0, 'деньги': 11.0, 'через': 1.0, 'банк': 30.0, 'указывать': 8.0, 'вести': 8.0, 'строительный': 6.0, 'фирма': 8.0, 'Mabetex': 8.0, 'скандал': 12.0, 'кредитный': 14.0, 'карточка': 5.0, 'якобы': 2.0, 'принадлежать': 8.0, 'семья': 19.0, 'отношение': 17.0, 'казахский': 1.0, 'проводить': 2.0, 'просьба': 7.0, 'правительство': 18.0, 'подозревать': 23.0, 'страна': 3.0, 'обвинять': 15.0, 'коррупция': 5.0, 'хранить': 21.0, 'счет': 15.0, 'имя': 7.0, 'выненосить': 7.0, 'работать': 9.0, 'орган': 19.0, 'июнь': 6.0, '1998': 17.0, 'шотландский': 0.0, 'город': 3.0, 'Гринок': 2.0, 'оправдательный': 8.0, 'приговор': 18.0, 'три': 4.0, 'женщина': 17.0, '-пацифистка': 8.0, 'совершить': 10.0, 'выразиться': 13.0, 'русский': 9.0, 'би-би-си': 4.0, 'акт': 15.0, 'вандализм': 20.0, 'база': 2.0, 'атомный': 23.0, 'подводный': 10.0, 'лодка': 11.0, 'теперь': 5.0, 'выпускать': 19.0, 'постановить': 6.0, 'вправе': 7.0, 'пытаться': 1.0, 'разоружить': 9.0, 'Trident': 12.0, 'тот': 22.0, 'являться': 16.0, 'часть': 13.0, 'британский': 18.0, 'ядерный': 9.0, 'программа': 19.0, 'незаконный': 8.0, 'международный': 0.0, 'право': 7.666666666666667, 'вызывать': 4.0, 'большой': 10.0, 'резонанс': 2.0, 'время': 6.0, 'намерен': 1.0, 'пересматривать': 1.0, 'я': 18.0, 'просто': 0.0, 'понимать': 15.0, 'общество': 4.0, 'негативный': 3.0, 'реакция': 4.0, 'участвовать': 19.0, 'работа': 5.0, 'палата': 0.0, 'сохранить': 22.0, 'лорд': 21.0, 'титул': 19.0, 'присваивать': 19.0, 'монарх': 16.0, 'знак': 4.0, 'признание': 9.0, 'личный': 19.0, 'заслуга': 10.0, 'предложение': 6.0, 'а': 1.0, 'также': 0.0, 'епископ': 2.0, 'высший': 10.0, 'традиционно': 1.0, 'член': 5.0, 'верхний': 5.0, 'собеседование': 1.0, 'присутствовать': 1.0, 'юрист': 5.0, 'представитель': 19.0, 'обвинение': 13.0, 'директор': 11.0, 'издательство': 12.0, 'Маргиний': 15.0, 'представлять': 16.0, 'мнтерес': 21.0, 'довереность': 25.0, 'отвечик': 29.0, 'помощник': 0.0, 'удовлетворять': 4.0, 'пятеро': 2.0, 'секретарь': 11.0, 'ранение': 4.0, '00': 34.0, 'московский': 32.0, 'здание': 8.0, 'городской': 0.0, 'заходить': 10.0, 'неизвестный': 6.0, 'мужчина': 5.0, 'бросать': 4.0, 'взрывпакть': 2.0, 'кабинет': 1.0, 'затем': 12.0, 'два': 10.0, 'граната': 2.0, 'результат': 0.0, 'взрыв': 10.0, 'страдать': 26.0, 'Кужанкуй': 0.0, 'исключать': 5.0, 'месть': 0.0, 'музей': 8.0, 'предписание': 8.0, 'понедельник': 1.0, 'нью-йоркский': 18.0, 'мэр': 4.0, 'администрация': 11.0, 'предпринимать': 6.0, 'против': 8.0, 'шаг': 4.0, 'чтобы': 15.0, 'успокаивать': 18.0, 'общественный': 3.0, 'мнение': 7.0, 'авторитетный': 6.0, 'весь': 10.0, 'ветвь': 11.0, 'израильский': 0.0, 'руководитель': 5.0, 'спецслужба': 18.0, 'министр': 13.0, 'верховный': 8.5, 'юридический': 30.5, 'советник': 9.0, 'приходиться': 15.0, 'делать': 7.0, 'ряд': 8.0, 'после': 17.0, 'лично': 4.0, 'ознакомляться': 15.0, 'легкий': 17.0, 'поверить': 16.0, 'заверение': 14.0, 'чем': 3.0, 'допускать': 7.0, 'существование': 10.0, 'общий': 5.0, 'заговор': 8.0, 'выгораживание': 6.0, 'равный': 1.0, 'замешать': 0.0, 'генеральный': 5.0, 'выплата': 5.0, 'компенсация': 7.0, 'утвердить': 24.0, 'агентство': 11.0, 'ясно': 12.0, 'использовать': 5.0, 'огромный': 10.0, 'мощь': 29.0, 'колоссальный': 27.0, 'доход': 18.0, 'для': 3.0, 'удушение': 24.0, 'любой': 12.0, 'появляться': 19.0, 'рынок': 13.0, 'продукт': 33.0, 'конкурируть': 13.0, 'из': 20.0, 'основной': 10.0, 'сказать': 0.0, 'заключение': 0.0, 'оглашение': 11.0, 'падать': 4.0, 'до': 26.0, '88,75': 3.0, 'доллар': 11.0, 'требовать': 7.0, 'микрософт': 4.0, 'расформирование': 5.0, 'корпорация': 14.0, 'более': 13.0, 'мелкий': 9.0, 'конкурировать': 13.0, 'друг': 3.0, 'применять': 2.0, 'мягкий': 21.0, 'препятствовать': 24.0, 'развитие': 22.0, 'технология': 33.0, 'угроза': 5.0, 'операционный': 7.0, 'windows': 33.0, 'предполагаться': 6.0, 'сам': 21.0, 'задерживать': 18.0, 'заседание': 13.0, 'допустить': 7.0, 'коллегия': 20.0, 'рассматривать': 27.0, 'суть': 13.0, 'выдвигать': 10.0, 'лишь': 10.0, 'процессуальный': 6.0, 'каждый': 2.0, 'реализация': 8.0, 'прежде': 11.0, 'одобрение': 1.0, 'возглавлять': 4.0, 'процесс': 14.0, 'антимонопольный': 7.0, 'разочаровывать': 1.0, 'еще': 5.0, 'уверенный': 6.0, 'американский': 36.0, 'юриспруденция': 14.0, 'конец': 1.0, 'осознавать': 18.0, 'инновация': 21.0, 'поведение': 8.0, 'абсолютно': 7.0, 'честный': 6.0, 'приносить': 2.0, 'миллион': 10.0, 'потребитель': 17.0, 'долгий': 17.0, 'путь': 13.0, 'вероятно': 1.0, 'действительно': 8.0, 'предстоять': 0.0, 'подавать': 6.0, 'апелляция': 3.0, 'окончательный': 0.0, 'риск': 9.0, 'затягиваться': 7.0, 'четыре': 3.0, 'месяц': 5.0, 'тюремный': 12.0, 'поначалу': 9.0, 'отменять': 4.0, 'гласить': 0.0, 'хранение': 3.0, 'жесткий': 9.0, 'диск': 2.0, 'распечатка': 8.0, 'порнографический': 9.0, 'материал': 23.0, 'деяние': 14.0, 'правда': 6.0, 'объявлять': 0.0, 'ранее': 7.0, 'принцип': 16.0, 'неверный': 6.0, 'чрезмерный': 8.0, 'сокращать': 10.0, '12': 22.0, 'отстранение': 2.0, 'преподавание': 18.0, 'отказываться': 2.5, 'ходатайство': 5.0, 'усмотреть': 7.0, 'действие': 5.0, 'ответчик': 17.0, 'недобросовестный': 11.0, 'пользование': 12.0, 'затягивание': 10.0, 'пятница': 16.0, '19': 13.0, 'ноябрь': 8.0, 'итальянский': 7.0, 'добиваться': 14.0, 'привлечение': 12.0, 'кардинал': 16.0, 'Микель': 4.0, 'наиболее': 9.0, 'влиятельный': 10.0, 'иеррарх': 13.0, 'преступный': 6.0, 'связь': 8.0, 'соучастие': 24.0, 'мошенничество': 10.0, 'ссуд': 28.0, 'официальный': 23.0, 'Руссо': 1.0, 'фигурировать': 9.0, '20': 4.0, 'человек': 14.0, 'основание': 7.0, 'подслушанный': 2.0, 'разговор': 22.0, 'неаполитанский': 9.0, 'епархия': 12.0, 'средства': 9.0, 'переходить': 12.0, 'родственник': 15.0, 'житель': 18.0, 'первый': 27.0, 'крупный': 5.0, 'серия': 18.0, 'неизбежный': 6.0, 'претензия': 8.0, 'мотив': 24.0, 'засекречивание': 21.0, 'подлежать': 19.0, 'лицо': 31.5, 'занимать': 9.0, 'ключевой': 15.0, 'государство': 8.0, 'президент': 3.0, 'парламент': 3.0, 'депутат': 7.0, 'местный': 13.0, 'совет': 8.0, 'прокурор': 3.0, 'кандидат': 0.0, 'должность': 1.0, 'ссылаться': 20.0, 'замечание': 0.0, 'комментировать': 11.0, 'цена': 14.0, 'отмечать': 14.0, 'нет': 18.0, 'назначение': 11.0, '49': 25.0, 'прибыль': 12.0, 'защищать': 2.0, 'интерес': 16.0, 'истец': 6.0, 'вышеперечисленный': 6.0, 'базироваться': 2.0, 'оглашать': 14.0, '5': 23.0, 'юстиция': 6.0, 'посредничество': 0.0, 'договориться': 2.0, 'внесудебный': 15.0, 'урегулирование': 6.0, 'разногласие': 7.0, 'назначать': 2.0, 'февраль': 8.0, '2000': 12.0, 'вообще': 10.0, 'вне': 8.5, 'никакой': 2.0, 'вердикт': 12.0, 'кроме': 2.0, 'предварительный': 28.0, 'оставаться': 4.0, 'монопольный': 9.0, 'положение': 3.0, 'пользоваться': 15.0, 'вред': 16.0, 'тезис': 19.0, 'нельзя': 17.0, 'можно': 17.0, 'вывод': 23.0, 'годный': 33.0, 'использование': 35.0, 'разбор': 37.0, 'другой': 26.0, 'касаться': 3.0, 'придерживаться': 9.0, 'иной': 2.0, 'монополия': 3.0, 'ход': 2.0, 'разбирательство': 0.0, 'зависимость': 15.0, 'неть': 32.0, 'обеспокоить': 21.0, 'обстоятельство': 11.0, 'сей': 12.0, 'единый': 14.0, 'фронт': 15.0, 'выступать': 3.0, 'намечаться': 21.0, 'раскол': 3.0, 'new': 12.0, 'york': 13.0, 'post': 27.0, 'согласно': 14.0, 'стенограмма': 7.0, 'опубликовывать': 1.0, 'четверг': 8.0, 'во': 7.0, 'встреча': 8.0, 'офис': 9.0, 'беспокойство': 7.0, 'апелляционный': 5.0, 'посредник': 2.0, 'частично': 7.0, 'объяснять': 1.0, 'опасение': 14.0, 'штат': 0.0, 'двигаться': 25.0, 'параллельный': 26.0, 'курс': 27.0, 'первоначально': 0.0, 'вынести': 9.0, '22': 9.0, 'председатель': 10.0, 'откладывать': 5.0, '24': 18.0, 'вот': 2.0, 'опять': 18.0, 'отсрочка': 8.0, 'Присутствовать': 9.0, 'обоснованный': 7.0, 'жалоба': 4.0, 'заявитель': 4.0, 'находить': 2.0, 'таковой': 1.0, 'буквальный': 5.0, 'цитирование': 6.0, 'ответственность': 16.0, 'лежать': 16.0, 'рассмотрение': 27.0, 'продолжительный': 7.0, 'встречаться': 4.0, 'заинтересованный': 24.0, 'напоминать': 3.0, 'никогда': 4.0, 'отличаться': 5.0, 'предсказуемость': 6.0, 'порой': 8.0, 'соответствовать': 15.0, 'существовать': 5.0, 'традиция': 15.0, 'всегда': 15.0, 'логичный': 20.0, 'изящный': 22.0, 'даже': 22.0, 'телеведущий': 19.0, 'явиться': 12.0, 'журналист': 14.0, 'председательствовать': 3.0, 'расписываться': 8.0, 'повестка': 3.0, 'явка': 11.0, 'ли': 11.5, 'приступать': 1.0, 'завтра': 9.0, 'утро': 8.0, 'существо': 5.0, '2': 7.0, 'декабрь': 11.0, 'состояться': 7.0, 'роль': 2.0, 'противник': 9.0, 'рамка': 9.0, 'CNet': 1.0, 'седьмой': 10.0, 'переговоры': 16.0, 'трижды': 35.0, 'оканчиваться': 36.0, 'ничто': 19.0, 'раунд': 5.0, '6': 7.0, 'письменный': 11.0, 'устный': 25.0, 'утверждение': 3.0, 'за': 21.0, 'принятие': 0.0, 'предоставлять': 5.0, 'материальный': 9.0, 'вознаграждение': 14.0, 'соответствующий': 4.0, 'обеспечение': 12.0, 'вице-премьер': 8.0, 'российский': 22.0, 'проект': 64.0, 'этап': 25.0, 'состоять': 2.0, 'иллюстрировать': 16.0, 'нарушение': 9.0, 'законодательство': 8.0, 'обосновывать': 8.0, 'значимость': 6.0, 'факт': 5.0, 'отражать': 3.0, 'обнародовать': 2.0, 'пункт': 21.0, 'у': 5.5, 'сильный': 8.0, 'поддержка': 0.0, 'со': 14.0, 'второй': 18.0, 'гораздо': 10.0, 'менее': 5.0, 'ясный': 6.0, 'четко': 18.0, 'сформулировать': 15.0, 'серьезно': 18.0, 'влиять': 9.0, 'начинаться': 8.0, 'прошлый': 12.0, 'неделя': 11.0, 'вынесение': 12.0, 'слушание': 3.0, 'проходить': 11.0, 'среда': 1.0, '8': 4.0, 'присутствие': 11.0, 'высокий': 8.0, 'ранг': 2.0, 'позволять': 27.0, 'широкий': 4.0, 'спектр': 14.0, 'статья': 13.0, 'вслед': 21.0, 'прения': 26.0, 'поправка': 7.0, 'специальный': 10.0, 'юрисдикция': 11.0, 'совершение': 10.0, 'преступление': 4.0, 'ведение': 3.0, 'война': 20.0, 'похищение': 24.0, 'самолет': 13.0, '30': 5.0, 'увенчаться': 11.0, 'успех': 10.0, 'очередь': 9.0, 'проживать': 6.0, 'лидер': 4.0, 'организация': 21.0, 'аль': 4.0, 'шариатский': 14.0, 'шейх': 3.0, 'бин': 10.0, 'мусульманин': 21.0, 'террор': 24.0, 'вооруженный': 27.0, 'россия': 23.0, 'посольство': 32.0, 'рубеж': 34.0, 'военный': 22.0, 'аэродром': 39.0, 'объект': 41.0, 'инфраструктура': 42.0, 'учитывать': 22.0, 'reuters': 27.0, 'возобновить': 22.0, 'вряд': 16.0, 'принимать': 12.0, 'micro': 11.0, 'Leader': 10.0, 'business': 9.0, 'убежденный': 2.0, 'надеяться': 7.0, 'инстанция': 26.0, 'сегодняшний': 16.0, 'вернуться': 5.0, 'камера': 23.0, 'соглашаться': 6.0, 'краевой': 3.0, 'избирательный': 4.0, 'комиссия': 11.0, 'присяжный': 11.0, 'идти': 20.0, 'речь': 2.0, 'выезжать': 24.0, 'предел': 17.0, 'цель': 29.0, 'секс': 31.0, 'несовершеннолетний': 33.0, 'соблазнять': 37.0, 'несовершеннолетняя': 38.0, 'содержаться': 17.0, 'частный': 13.0, 'определение': 10.0, 'отказ': 1.0, 'заключительный': 1.0, 'трудный': 5.0, 'тянущться': 12.0, 'сражение': 17.0, 'термин': 21.0, 'playboy': 23.0, 'продвигать': 27.0, 'веб-сайт': 29.0, 'дата': 6.0, 'появление': 51.0, 'перед': 0.0, 'трибунал': 1.0, 'пока': 10.0, 'заместитель': 6.0, 'начальник': 11.0, 'государственный': 22.0, 'правовой': 4.0, 'мэрия': 4.0, 'постоянно': 0.0, 'незаконность': 1.0, 'региональный': 4.0, 'милиция': 12.0, 'без': 9.0, 'консультация': 8.0, 'глава': 7.0, 'субъект': 5.0, '10': 10.0, 'кассационный': 9.0, 'Л': 1.0, 'наносить': 2.0, 'ущерб': 5.0, 'художник': 12.0, 'графический': 14.0, 'дизайнер': 15.0, 'фотограф': 11.0, 'помещать': 19.0, 'com': 14.0, 'стоять': 13.0, 'ссылка': 12.0, 'оригинальный': 10.0, 'страница': 9.0, 'позаимствовать': 5.0, 'изображение': 3.5, 'ситуация': 1.0, 'автор': 5.0, 'большинство': 23.0, 'групповой': 20.0, 'предъявлять': 12.0, 'последний': 3.0, 'когда': 7.0, 'монополист': 3.0, 'действовать': 12.0, 'настоящий': 9.0, 'параллельно': 9.0, 'продолжаться': 6.0, 'уже': 15.0, 'отослать': 0.0, 'вариант': 32.0, 'январь': 1.0, 'виновный': 4.0, 'злоупотребление': 11.0, 'лавина': 19.0, 'мы': 10.0, 'наблюдать': 0.0, 'сейчас': 16.0, 'казаться': 31.0, 'ручеек': 32.0, 'сравнение': 34.0, 'приходить': 3.5, 'во-первых': 7.0, 'выгода': 11.0, 'занятие': 14.0, 'себя': 16.0, 'пиратский': 24.0, 'файл': 25.0, 'ограничивать': 1.0, 'сайт': 9.0, 'руководство': 16.0, 'летчик': 10.0, 'участвоваать': 12.0, 'бомбардировка': 14.0, 'dvd': 28.0, 'Copyright': 8.0, 'Control': 5.0, 'Association': 6.0, 'хакер': 21.5, 'программный': 14.0, 'взлом': 27.0, 'digital': 6.0, 'video': 19.0, 'disc': 20.0, 'накладывать': 28.0, 'временный': 5.0, 'распространение': 2.0, 'associated': 22.0, 'press': 23.0, '29': 6.0, 'потребовать': 1.0, 'публиковать': 10.0, 'называться': 14.0, 'the': 13.0, 'Brethren': 12.0, 'герой': 3.0, 'трое': 1.0, 'отбывать': 1.0, 'срок': 15.0, 'колония': 15.0, 'режим': 17.0, 'решетка': 2.0, 'делить': 0.0, 'свободный': 9.0, 'изучение': 4.0, 'солагерник': 10.0, 'серьезный': 12.0, 'эксперт': 7.0, 'соглашение': 4.0, 'флотский': 3.0, 'контрразведка': 4.0, 'презумпция': 8.0, 'невиновность': 20.0, 'Печерский': 0.0, 'районный': 1.0, 'возбуждать': 4.0, 'уголовный': 21.0, 'неправомочный': 16.0, 'спикер': 12.0, 'вице-спикер': 14.0, 'рад': 16.0, 'александр': 18.0, 'частность': 1.0, '21': 9.0, 'руководить': 22.0, 'систематически': 20.0, 'чинить': 21.0, 'препятствие': 15.0, 'народный': 24.0, 'избранник': 25.0, 'число': 18.0, 'попадать': 20.0, 'рабочий': 35.0, 'место': 9.0, 'сессионный': 39.0, 'зал': 18.0, 'подосадовать': 2.0, 'брать': 14.0, 'переложить': 11.0, 'насамарский': 13.0, 'впервые': 17.0, 'освобождать': 3.0, 'республика': 2.0, 'новость': 7.0, 'полномочие': 9.0, 'лишать': 4.0, 'анатолий': 2.0, 'чилийский': 0.0, 'диктатор': 14.0, 'Аугусто': 2.0, 'выявлять': 13.0, 'дисфункция': 11.0, 'мозг': 11.0, 'отвечать': 3.0, 'смысл': 5.0, 'Мадридский': 0.0, 'инициатор': 3.0, 'экс-диктатор': 7.0, 'медицинский': 10.0, 'оздоровий': 12.0, 'министерство': 5.0, 'иностранный': 16.0, 'отправлять': 3.0, 'газета': 12.0, 'выдача': 9.0, 'ордер': 8.0, 'арест': 6.0, 'брайан': 1.0, 'распорядиться': 3.0, 'досье': 7.0, 'видеть': 16.0, 'подавлять': 0.0, 'переизбирать': 2.0, 'нынешний': 21.0, 'голосовать': 1.0, '18': 4.0, 'передавать': 16.0, 'тогда': 0.0, 'закрывать': 2.0, 'оно': 2.0, 'выходить': 3.0, '31': 8.0, 'гарантия': 14.5, 'прекратить': 25.0, 'исполнение': 9.0, 'обязанность': 5.0, '7': 14.0, 'деятельность': 19.0, 'предоставление': 4.0, 'социальный': 1.0, 'незаконно': 7.0, 'устанавливать': 19.0, 'привилегия': 10.0, 'кучка': 12.0, 'должностной': 17.0, 'оказываться': 56.0, 'отставка': 18.0, 'чадо': 26.0, 'домочадец': 28.0, 'собственный': 6.0, 'квартира': 1.0, 'убивать': 0.0, 'выясняться': 12.0, 'убийство': 14.0, 'происходить': 4.0, 'около': 6.0, 'исчезновение': 0.0, 'поступать': 9.0, 'отпуск': 13.0, 'гражданский': 8.0, 'следствие': 29.0, 'профессиональный': 3.0, 'норма': 26.0, 'обязанный': 9.0, '65-й': 8.0, 'минута': 22.0, 'забивать': 5.0, 'гол': 2.0, 'из-за': 12.0, 'офсайд': 4.0, 'называть': 20.0, 'исторический': 3.0, 'так': 19.0, 'давно': 2.0, 'табачный': 8.0, 'изделие': 9.0, 'опасный': 2.0, 'здоровье': 16.0, 'Рэй': 4.0, 'независимый': 6.0, 'октябрь': 5.0, 'тверской': 4.0, 'лучший': 13.0, 'современность': 0.0, 'итальянец': 2.0, 'обслуживать': 5.0, 'ответный': 6.0, 'полуфинальный': 10.0, 'матч': 17.0, 'турецкий': 4.0, 'мексиканский': 20.0, 'высылать': 18.0, 'главарь': 15.0, 'мафия': 9.0, 'разыскивать': 9.0, '1990': 3.0, 'подготовка': 6.0, 'покушение': 6.0, 'кульминация': 9.0, 'конфликт': 8.0, 'обращение': 1.0, 'квалификационный': 1.0, 'представление': 6.0, 'прекращение': 7.0, 'судно': 19.0, 'приморский': 20.0, 'складываться': 10.0, 'вынужденный': 0.0, 'пойти': 2.0, 'крайний': 4.0, 'мера': 8.0, 'голодовка': 6.0, 'протест': 3.0, 'политика': 26.0, 'останавливать': 6.0, 'таможенник': 1.0, 'обращаться': 9.0, 'разъяснение': 4.0, 'поддерживать': 2.0, 'позиция': 13.0, 'май': 6.0, 'соответствие': 8.0, 'церемония': 6.0, 'инаугурация': 5.0, 'информация': 9.0, 'возможный': 1.0, 'раздел': 13.0, 'акция': 33.0, 'стремительно': 8.0, 'bbc': 13.0, 'страсть': 3.0, 'накалиться': 2.0, 'удалить': 0.0, 'скамейка': 3.0, 'запасной': 4.0, 'участие': 1.0, 'игра': 19.0, 'латать': 10.0, 'слишком': 7.5, 'шумно': 15.0, 'выражать': 21.0, 'недовольство': 18.0, 'ближайший': 2.0, 'римский': 0.0, 'Санджованниприступит': 1.0, 'наследник': 5.0, 'Щукинадокументов': 6.0, 'заключать': 10.0, 'Mondadori': 12.0, 'Эрмитаж': 14.0, 'удаваться': 20.0, 'сша': 18.0, 'настаивать': 24.0, 'рассматриваться': 14.0, 'сразу': 19.0, 'миновать': 20.0, 'промежуточный': 21.0, 'разделение': 9.0, 'снятие': 5.0, 'ограничение': 8.0, 'вступить': 3.0, 'основывать': 3.0, 'покупатель': 22.0, 'производитель': 22.0, 'приобретать': 32.0, 'непосредственно': 11.0, 'политический': 23.0, 'интрига': 61.0, 'организовывать': 3.0, 'опасность': 4.0, 'помеха': 45.0, 'план': 41.0, 'построение': 40.0, 'самый': 11.0, 'возврат': 26.0, 'тоталитарный': 19.0, 'прошлое': 19.5, 'ГУЛАГ': 8.0, 'диктатура': 4.0, 'курировавший': 3.0, 'французский': 12.0, 'аукцион': 5.0, 'Yahoo': 18.0, 'оскорблять': 8.0, 'коллективный': 9.0, 'память': 10.0, 'обязать': 8.5, 'июль': 31.0, 'отчет': 20.0, 'предотвращение': 28.0, 'француз': 15.0, 'несоблюдение': 4.0, 'некоторый': 1.0, 'формальность': 1.0, 'переоформление': 5.0, '3': 1.0, 'ведущий': 1.0, 'основываться': 8.0, 'изменять': 8.0, 'обычный': 14.0, 'одновременно': 4.0, 'приостановить': 2.0, 'вводить': 3.0, 'возвращение': 1.0, 'рассмотреть': 8.0, 'просить': 6.0, 'разделять': 2.0, 'полномочияпредседатель': 2.0, 'секретариат': 3.0, 'отстранить': 1.0, 'поступок': 24.0, 'позорять': 11.0, 'честь': 0.0, 'достоинство': 28.0, 'вице-губернатор': 9.0, 'Отстраненный': 4.0, 'приезжать': 13.0, 'справедливость': 9.0, 'регламент': 6.0, 'отсутствие': 0.0, 'уважительный': 1.0, 'причина': 2.0, 'пояснять': 15.0, '14': 0.0, 'статус': 17.0, 'конфликтовать': 1.0, 'прикрывать': 3.0, 'Саварес': 4.0, 'чемпион': 8.0, 'мир': 7.0, 'тяжелый': 20.0, 'вес': 28.0, 'оттащить': 14.0, 'ринг': 18.0, 'боксер': 19.0, 'настоятель': 7.0, 'Покровский': 8.0, 'приход': 9.0, 'целое': 15.0, 'беспочвять': 16.0, 'долгосрочный': 25.0, 'аренда': 26.0, 'парковый': 27.0, 'территория': 6.0, 'издавать': 5.0, 'владелец': 7.0, 'GeoCities': 11.0, 'требуемый': 17.0, 'персональный': 18.0, 'данные': 2.0, 'аноним': 20.0, 'третейский': 0.0, 'Мэрили': 0.0, 'создание': 14.0, 'фан-клуб': 13.0, 'намереваться': 2.0, 'продавать': 17.0, 'держатель': 19.0, 'торговый': 22.0, 'марка': 23.0, 'приговаривать': 6.0, 'тюрьма': 16.5, 'дипломатический': 16.0, 'миссия': 15.0, 'разморожать': 12.0, 'парижский': 0.0, 'правосудие': 10.0, 'Альдижер': 1.0, 'Noga': 6.0, 'возмещать': 8.0, 'диппредставительство': 10.0, 'затрата': 14.0, 'размер': 4.0, 'тысяча': 0.0, 'франк': 9.0, 'сотрудник': 2.0, 'Go': 3.0, 'network': 4.0, 'разрабатывать': 5.0, 'бюро': 7.0, 'очень': 11.0, 'эффективный': 12.0, 'бороться': 8.0, 'сексуальный': 16.0, 'преступность': 4.0, 'письмо': 17.0, 'разоблачать': 11.0, 'тайный': 10.0, 'сотрудничество': 9.0, 'поручать': 9.0, 'специалист': 11.5, 'подробно': 13.5, 'изучать': 14.0, 'технический': 4.0, 'антифашист': 5.0, 'встречный': 1.0, 'аргумент': 9.0, 'оспаривать': 5.0, 'регулировать': 10.0, 'постановлять': 0.0, 'игнорировать': 0.0, 'компьютерный': 4.0, 'код': 18.5, 'настолько': 15.0, 'форма': 14.0, 'самовыражение': 13.0, 'насколько': 16.0, 'выражение': 6.0, 'взгляд': 0.0, 'ставить': 0.0, 'приводить': 20.0, 'прямой': 34.0, 'автоматический': 33.0, 'загрузка': 32.0, 'Decss': 3.0, 'функционально': 18.0, 'пользователь': 6.0, 'хакерский': 5.0, 'служить': 4.0, 'millennium': 7.0, 'Act': 9.0, 'нелегальный': 11.0, 'неверно': 0.0, 'интерпретировать': 1.0, 'грозить': 10.0, 'уничтожать': 11.0, 'преимущество': 6.0, 'каков': 7.0, 'вероятность': 8.0, 'преступник': 8.0, 'оставлять': 0.0, 'досрочный': 19.0, 'лишение': 18.0, 'судейский': 9.0, 'квалификация': 12.0, 'свидетель': 2.0, 'предприниматель': 11.0, 'муж': 0.0, 'Локтионовый': 2.0, 'взятка': 0.0, 'гласящий': 7.0, 'запись': 11.0, 'согласие': 3.0, 'собеседник': 20.0, 'применимый': 23.0, 'электронный': 22.0, 'почта': 26.0, 'чат': 28.0, 'приватный': 32.0, 'беседа': 0.0, 'помощь': 6.0, 'записывать': 6.0, 'метр': 1.0, 'устройство': 7.0, 'автоматически': 17.0, 'вполне': 0.0, 'разумно': 1.0, 'учет': 5.0, 'ежедневно': 8.0, 'количество': 11.0, 'странно': 18.0, 'разрешение': 11.0, 'сохранение': 25.0, 'испанский': 0.0, 'Мид': 7.0, 'говорить': 2.0, 'обоснование': 11.0, 'осматривать': 17.0, 'врач': 3.0, 'версия': 27.0, 'правоохранительный': 17.0, 'теракт': 5.0, 'оказывать': 15.0, 'давление': 13.0, 'временно': 4.0, 'взламывать': 11.0, 'цифровой': 13.0, 'завершаться': 8.0, 'хоть': 2.0, 'настраивать': 16.0, 'правозащитный': 16.0, 'Electronic': 13.0, 'Frontier': 13.0, 'Foundation': 12.0, 'обещать': 7.0, 'похоже': 10.0, 'смехотворность': 8.0, 'желание': 26.0, 'распоряжение': 1.0, 'вещественный': 22.0, 'доказательство': 22.0, 'футболка': 24.0, 'спина': 30.0, 'сторонник': 13.0, 'идеология': 34.0, 'open-source': 35.0, 'раздавать': 36.0, 'выдавать': 4.0, 'хищение': 13.0, 'госбюджет': 16.0, 'продажа': 20.0, 'нефть': 21.0, 'le': 28.0, 'Monde': 29.0, 'разрешать': 1.0, 'удалять': 1.0, 'матка': 2.0, '28-летний': 3.0, 'Telegraph': 3.0, 'отказывать': 2.0, 'обнаруживать': 0.0, 'осуждать': 6.0, 'восемь': 5.0, 'раз': 8.0, 'злоупотребеление': 15.0, 'наркотик': 16.0, '1976': 18.0, 'спустя': 7.0, 'выгонять': 0.0, 'поле': 8.0, 'бить': 6.0, 'сбивать': 2.0, 'жалеть': 1.0, 'желтый': 4.0, 'штрафной': 8.0, 'вновь': 29.0, 'хладнокровно': 15.0, 'реализовать': 19.0, 'суровыйприговор': 4.0, 'когда-либо': 11.0, 'Мтбя': 0.0, 'генерал': 3.0, 'нести': 3.0, 'личной': 4.0, 'командир': 6.0, 'человечность': 13.0, 'нарушенияЖеневский': 16.0, 'конвенция': 17.0, 'попрание': 19.0, 'обычай': 22.0, 'двое': 0.0, 'пиночет': 13.0, 'санкционирование': 9.0, 'пытка': 10.0, 'правление': 4.0, 'нация': 8.0, 'пообещать': 0.0, 'свалить': 5.0, 'бомбардир': 14.0, 'команда': 6.0, 'пенальти': 3.0, 'столичный': 4.0, 'прошение': 7.0, 'семь': 0.0, 'парламентский': 14.0, 'неприкосновенность': 2.0, 'корреспондент': 5.0, 'Сантьяго': 2.0, 'над': 7.0, 'процедура': 11.0, 'главный': 13.5, 'задача': 13.0, 'чешский': 8.0, 'филиал': 11.0, 'борьба': 8.0, 'грязный': 7.0, 'протяжение': 7.0, 'предлагать': 0.0, 'Micorsoft': 6.0, 'владеть': 10.0, 'давать': 1.0, 'низший': 3.0, 'пожизненный': 29.0, 'ускорять': 7.0, 'подготавливать': 4.0, 'изменение': 4.0, 'пресечение': 10.0, '175': 3.0, '448': 8.0, 'свисток': 1.0, 'молчать': 0.0, 'пара': 16.0, 'точный': 7.0, 'удар': 7.0, 'надежда': 5.0, 'недавний': 3.0, 'меньший': 12.0, 'разный': 16.0, 'структура': 17.0, 'сценарий': 21.0, 'событие': 23.0, 'экстремальный': 25.0, 'проблема': 19.0, 'намек': 10.0, 'Пфильцер': 1.0, '1989': 7.0, 'надзирать': 13.0, 'Хоуля': 2.0, 'проявлять': 25.0, 'малейший': 33.0, 'гибкость': 34.0, 'трактование': 36.0, 'поднадзорному': 42.0, 'область': 16.0, 'ознакомлять': 4.0, 'поступить': 7.0, 'обсуждать': 0.0, 'активист': 17.0, 'антитабачный': 16.0, 'кампания': 8.0, 'расти': 3.0, 'расхождение': 3.0, 'берег': 1.0, 'вы': 4.0, 'достаточно': 7.0, 'глупый': 8.0, 'курить': 11.0, 'рак': 14.0, 'легкое': 16.0, 'изъятие': 8.0, 'лицензия': 12.0, 'оружие': 16.0, 'детективный': 30.0, 'охранный': 32.0, 'инцидент': 19.0, 'повздорить': 4.0, 'подраться': 2.0, 'возникать': 12.0, 'словесный': 11.0, 'перепалка': 10.0, 'умудряться': 5.0, 'железный': 3.0, 'ударять': 1.0, 'вносить': 30.0, 'включение': 27.0, 'состав': 0.0, 'создавать': 7.0, 'именно': 10.0, 'сессия': 9.0, 'кандидатура': 2.0, '117-й': 13.0, 'чемпионат': 8.0, 'футбол': 5.0, 'сборная': 13.0, 'ворота': 5.0, 'португалец': 6.0, 'неумолимый': 1.0, 'безупречный': 6.0, 'столь': 5.0, 'дикий': 17.0, 'проиграть': 12.0, 'полуфинал': 10.0, 'Риадя': 3.0, 'впредвзятости': 0.0, 'выбегать': 11.0, 'корт': 9.0, 'мать': 15.0, 'рождать': 11.0, 'момент': 7.0, 'крикнуть': 0.0, 'balls': 4.0, 'please': 5.0, 'констатировать': 0.0, 'оплата': 3.0, 'агитационный': 4.0, 'наличные': 6.0, 'выборы': 14.0, 'подсудимый': 1.0, 'циничный': 4.0, 'суверенитет': 7.0, 'снимать': 8.0, 'признать': 13.0, 'правило': 3.0, 'предвыборный': 22.0, 'агитация': 20.0, 'получение': 10.0, 'отстраненный': 14.0, 'август': 5.0, 'местусодержание': 11.0, 'подследственный': 10.0, 'стража': 0.0, 'железнодорожный': 5.0, 'районаКрасноярск': 4.0, 'центральный': 0.0, 'район': 1.0, 'нарушеныположение': 1.0, '94-й': 3.0, 'кодекс': 4.0, 'поручитель': 11.0, 'подписка': 11.0, 'поручительство': 26.0, 'отменоймера': 30.0, 'быстрый': 3.0, 'завершение': 4.0, 'способствовать': 7.0, 'расизм': 10.0, 'помогать': 12.0, 'репутация': 14.0, 'освобождение': 20.0, 'бесспорно': 10.0, 'руководствоваться': 1.0, 'возобновлять': 8.0, 'сбор': 8.0, 'дополнительный': 11.0, 'март': 23.0, 'текущий': 3.0, 'дальнейший': 7.0, 'разбойный': 2.0, 'нападение': 1.0, 'подъезд': 1.0, 'дом': 14.0, 'где': 3.0, 'похищать': 12.0, 'минувший': 4.0, 'залог': 17.0, 'физика': 10.0, 'небрежный': 18.0, 'стратегический': 21.0, 'секрет': 22.0, 'приговорить': 7.0, 'уплачивать': 16.0, 'Коннектикут': 20.0, 'конкуренция': 23.0, 'закрытие': 3.0, 'доказать': 0.0, 'клиент': 11.0, 'утверждать': 27.0, 'любопытный': 5.0, 'башкирия': 14.0, 'мировой': 0.0, 'universal': 11.0, '45': 7.0, 'готовый': 0.0, '150': 5.0, 'группа': 10.0, 'нижний': 22.0, 'президиум': 17.0, 'счесть': 1.0, 'функция': 5.0, 'подразделение': 4.0, 'охрана': 3.0, 'силовой': 4.0, 'пристав': 2.0, 'исполнитель': 11.0, 'проведение': 9.0, 'имущество': 11.0, 'взыскание': 23.0, 'денежный': 4.0, 'средство': 25.0, 'дожны': 2.0, 'одобрять': 2.0, 'сумма': 2.0, 'взыскать': 8.0, 'ожидать': 8.0, 'финальный': 1.0, '-докладчикий': 0.0, 'определять': 14.0, 'неконституционный': 8.0, 'практика': 17.0, 'продавец': 17.0, 'авторский': 18.0, 'облагать': 24.0, 'налог': 25.0, 'стоимость': 28.0, 'несколькосблизиться': 4.0, 'Салониуспредоставлять': 1.0, 'компромиссной': 6.0, 'орт': 2.0, 'инструкция': 6.0, 'заработный': 18.0, 'плата': 19.0, 'высказываться': 1.0, '15': 13.0, 'особый': 23.0, 'ua': 11.0, 'today': 12.0, 'радиостанция': 18.0, 'вторжение': 11.0, 'жизнь': 8.0, 'сотрудница': 16.0, 'белый': 17.0, 'заслушать': 0.0, 'подозреваемый': 1.0, 'практически': 8.0, 'безукоризненно': 7.0, 'выполнить': 6.0, 'элемент': 6.0, 'оценка': 4.0, '5,7': 1.0, '5,8': 3.0, 'балл': 4.0, 'схема': 3.0, 'Demon': 6.0, 'избрать': 9.0, 'невинный': 12.0, 'воскресный': 8.0, 'выпуск': 21.0, 'ежедневный': 6.0, 'times': 2.0, 'достигать': 14.0, 'познер': 22.0, 'противоречие': 16.0, 'сближение': 5.0, 'длиться': 15.0, 'почти': 8.0, 'сорвать': 4.0, 'следующий': 25.0, 'вплоть': 8.0, 'разукрупнение': 5.0, 'огласить': 1.0, 'девятнадцать': 15.0, '23': 2.0, '26': 30.0, 'отнюдь': 0.0, 'неожиданный': 3.0, 'качество': 11.0, 'апрель': 6.0, 'окончательно': 7.0, 'тупик': 2.0, 'вынуждать': 1.0, 'окончание': 20.0, 'ожидание': 5.0, 'резко': 3.0, 'скончаться': 20.0, 'постель': 8.0, 'почет': 5.0, 'уважение': 2.0, 'среди': 19.0, 'сравнивать': 3.0, 'писать': 6.0, 'ansa': 9.0, 'сойти': 15.0, 'преисподняя': 17.0, 'выйти': 21.0, 'оттуда': 22.0, 'свет': 24.0, 'вина': 14.0, 'ожидатьэтого': 19.0, 'амбиция': 24.0, 'совесть': 28.0, 'находиться': 8.0, 'отозвать': 5.0, 'нью-йорксий': 0.0, 'Mpaa': 6.0, 'законно': 7.0, 'потому': 8.5, '2600': 14.0, 'альтернативный': 17.0, 'готовность': 22.0, 'немного': 19.0, 'маркетинговый': 25.0, 'прислать': 0.0, 'очередной': 4.0, 'исправление': 26.0, 'косметический': 30.0, 'фактически': 3.0, 'никак': 35.0, 'расклад': 7.0, 'конкурентный': 41.0, 'болезнь': 0.0, 'старший': 7.0, 'брат': 12.0, 'республиканский': 17.0, 'глазнойклиник': 18.0, 'готовить': 2.0, 'операция': 22.0, 'аналогичный': 1.0, 'обязывать': 2.0, 'оператор': 5.0, 'сто': 11.0, 'официально': 8.0, 'протокол': 1.0, 'подписать': 1.0, 'подписание': 13.0, 'уйтинесколько': 1.0, '17': 7.0, 'символ': 6.0, 'невыполнение': 6.0, 'парламентарий': 4.0, 'препятствование': 1.0, 'уполномоченный': 3.0, 'армеец': 10.0, 'уступать': 8.0, 'опротестовывать': 1.5, 'обоснованность': 4.0, 'арбитр': 2.0, 'спортивный': 17.0, 'больше': 6.0, 'формулировка': 6.0, 'склонный': 4.0, 'лояльность': 0.0, 'хвалить': 4.0, 'передать': 13.0, 'иметь': 2.0, 'возможность': 4.0, '90': 30.0, 'очевидный': 5.0, 'сперва': 6.0, 'реальный': 6.0, 'ждать': 7.0, '50': 18.0, 'том': 2.0, 'доказывать': 2.0, 'полностью': 12.0, 'содеять': 14.0, 'квалифицировать': 22.0, 'правильно': 16.0, 'Белорецкий': 0.0, 'горсуд': 1.0, 'какой': 1.0, 'выплачивать': 9.0, 'доставлять': 3.0, 'накануне': 3.5, 'больший': 6.0, 'управляющий': 3.0, 'павел': 7.0, 'ныне': 11.0, 'белорусский': 16.0, 'союз': 17.0, 'ознакомить': 7.0, 'фрунзенский': 0.0, 'датировать': 5.0, 'изъятый': 2.0, 'улика': 5.0, 'выполнимый': 13.0, 'ибо': 15.0, 'правомочный': 18.0, 'следователь': 15.0, 'изъять': 30.0, 'необходимый': 5.0, 'убить': 4.0, 'одноклассник': 7.0, 'насильник': 8.0, 'вон': 10.0, 'хорошо': 6.0, 'подчеркивать': 4.0, 'Генпрокуратура': 4.0, 'судебномрешение': 2.0, 'примененыненадлежащий': 0.0, '-процессуальный': 3.0, 'томчисло': 8.0, 'признанный': 10.0, '218': 16.0, 'обжалование': 19.0, 'исключительный': 16.0, 'аналитический': 11.0, 'Thomas': 9.0, 'Weisel': 8.0, 'тоже': 7.0, 'приведение': 2.0, 'существенно': 2.0, 'неразделенный': 14.0, 'расследуть': 3.0, 'об': 5.0, 'bank': 10.0, 'of': 11.0, 'банкир': 1.0, 'кто': 14.0, 'допросить': 7.0, 'управлять': 6.0, 'коммерческий': 7.0, 'показание': 19.0, 'интересовать': 1.0, 'окружение': 14.0, 'бизнесмен': 7.5, 'черный': 8.0, 'требоваться': 3.0, '18,3': 11.0, 'вымогательство': 14.0, '36': 13.0, 'подкуп': 0.0, 'история': 5.0, 'любовь': 1.0, 'пожилой': 0.0, 'жить': 14.0, 'консервативнойфранцузский': 3.0, 'провинция': 20.0, 'польский': 7.0, 'проститутка': 8.0, 'двадцать': 0.0, 'половина': 2.0, 'час': 5.0, 'заслушивать': 4.0, 'список': 15.0, 'Aegis': 20.0, 'архиепископ': 18.0, 'тут': 15.0, 'лауреат': 13.0, 'нобелевский': 12.0, 'премия': 11.0, 'переживать': 6.0, 'холокост': 5.0, 'Эли': 3.0, 'шесть': 6.0, 'спасать': 11.0, 'спартак': 13.0, 'соображение': 4.0, 'полный': 4.0, 'объем': 15.0, 'бандит': 10.0, 'поддельный': 7.0, 'мелкомхулиганство': 6.0, 'сутки': 12.0, '4': 4.0, 'игрок': 1.0, 'лечебный': 6.0, 'эффект': 7.0, 'распространяться': 5.0, 'Хамди': 14.0, 'отец': 9.0, 'девочка': 14.0, 'благодарный': 0.0, 'армия': 7.0, 'восстанавливать': 8.0, 'заканчивать': 1.0, 'четырехчасовое': 2.0, 'совещание': 3.0, 'разъезжаться': 5.0, 'обнародовывать': 12.0, '11': 6.0, '9': 16.0, 'el': 27.0, 'Mostrador': 6.0, 'спешить': 1.0, 'неуверенность': 6.0, 'никто': 15.0, 'сообщаться': 12.0, 'свидетельствовать': 12.0, 'источник': 5.0, 'разделяться': 0.0, 'голосование': 6.0, 'минимальный': 5.0, 'отрицать': 7.0, 'подтверждать': 2.0, 'следственный': 4.0, 'поручение': 0.0, 'сегодня': 8.0, 'Соотвутствующий': 4.0, 'Клаудета': 2.0, 'Терезинья': 3.0, 'некомпетентность': 0.0, 'генконсул': 21.0, 'арестовывать': 9.0, 'допрос': 1.0, 'заблаговременно': 13.0, 'разослать': 14.0, 'совместно': 0.0, 'Ахмад': 8.0, 'боевик': 5.0, 'включая': 7.0, 'степень': 14.0, 'развязывание': 17.0, 'чеченский': 0.0, 'гражданин': 5.0, 'дисквалифицировать': 12.0, 'мучительно': 6.0, 'да': 4.0, 'прерывать': 15.0, 'надзирающий': 9.0, 'законность': 19.0, 'приказ': 0.0, 'оперативный': 13.0, 'розыскной': 11.0, 'мероприятие': 10.0, '25': 10.0, 'сентябрь': 11.0, 'годаВерховный': 4.0, 'Ю': 1.0, 'буквально': 7.0, 'покоренный': 2.0, 'великолепный': 9.0, 'акробатический': 10.0, 'ошибка': 10.0, 'олимпийский': 18.0, 'соотечественник': 2.0, 'марафонец': 4.0, 'золотой': 7.0, 'медаль': 8.0, 'соломинка': 7.0, 'переломить': 9.0, 'хребет': 10.0, 'верблюдо': 11.0, 'объяснение': 15.0, 'Omega': 17.0, 'почему': 22.0, 'дочерний': 14.0, 'торговать': 26.0, 'новогодний': 27.0, 'елка': 28.0, \"Sporty's\": 31.0, 'farm': 32.0, 'гружеть': 0.0, 'Беганская': 2.0, 'Nsi': 6.0, 'рассудить': 5.0, 'домять': 11.0, 'законодатель': 3.0, 'урегулировать': 5.0, 'бездействуть': 9.0, 'домен': 10.0, 'подпадать': 16.0, 'переносезаседания': 2.0, 'улучшение': 4.0, 'самочувствие': 5.0, 'заболевание': 9.0, 'несмотря': 12.0, 'вничью': 5.0, 'победа': 0.0, 'отдавать': 0.0, 'борец': 2.0, 'врачебный': 2.0, 'состояние': 15.0, 'неутешительный': 1.0, 'экс-президент': 7.0, '500': 21.0, 'обвинитель': 1.0, 'отдел': 7.0, 'Рашидхан': 10.0, 'Napster': 3.0, 'любить': 15.0, 'невозможный': 2.0, 'исполнить': 21.0, 'учесть': 2.0, 'личность': 3.0, 'ответ': 8.0, 'защитник': 8.0, 'аргументировать': 19.0, 'психический': 11.0, 'расстройство': 10.0, 'голова': 5.0, '1996': 3.0, 'альтернатива': 10.0, 'трактовать': 9.0, 'по-разному': 10.0, 'странный': 14.0, 'радикальный': 4.0, 'лингвист': 14.0, 'подписывать': 9.0, 'Корреа': 1.0, 'було': 2.0, 'аргентинский': 8.5, 'причастность': 17.0, 'столица': 2.0, 'главнокомандующий': 14.0, 'жена': 25.0, 'Галиано': 2.0, 'котляковский': 15.0, 'кладбище': 16.0, 'премьер': 15.0, 'указ': 8.0, 'повышение': 5.0, 'служащий': 1.0, 'прокурорский': 1.0, 'работник': 2.0, 'персонал': 5.0, 'солдат': 7.0, 'легко': 12.0, 'покидать': 10.0, 'введение': 7.0, '13': 38.0, 'отрицательный': 9.0, '41': 1.0, '16': 1.0, 'талиб': 4.0, 'иметься': 5.0, 'террористический': 14.0, 'означать': 10.0, 'голос': 24.0, 'подсчитывать': 16.0, 'штаб': 3.0, 'ручной': 7.0, 'перестать': 8.0, 'продолжать': 5.0, 'ввиду': 35.0, 'взаимоисключающий': 33.0, 'приостанавливать': 13.0, 'узнавать': 1.0, 'разрешить': 5.0, 'прием': 1.0, 'пересчет': 19.0, 'выяснение': 3.0, 'невыезд': 13.0, 'распоряжаться': 1.0, 'сдавать': 5.0, 'паспорт': 5.0, 'белизский': 13.0, 'огнестрельный': 15.0, 'надевать': 18.0, 'нога': 6.0, 'браслет': 23.0, 'следить': 29.0, 'перемещение': 32.0, 'оправдывать': 6.0, 'хулиган': 5.0, 'охватывать': 9.0, 'взаимность': 17.0, 'становить': 3.0, 'вернуть': 8.0, 'истица': 5.0, 'дискета': 12.0, 'конфиденциальный': 14.0, 'оплачивать': 4.0, 'издержка': 21.0, 'сведение': 26.0, 'составлять': 32.0, 'фунт': 35.0, 'стерлинг': 36.0, 'переносить': 9.0, 'хотеть': 2.0, 'информировать': 0.0, 'несостоявшийся': 7.0, 'убийца': 4.0, 'отклонить': 0.0, 'располагать': 0.0, 'административный': 5.0, 'центр': 6.0, 'госсекретарь': 11.0, 'объявление': 0.0, 'уоррен': 5.0, 'демократ': 10.0, 'опротестовать': 14.0, 'итог': 16.0, 'опыт': 15.0, 'наш': 14.0, 'пращур': 13.0, 'выбирать': 3.0, 'предводитель': 8.0, 'хан': 6.0, 'беков': 4.0, 'полководец': 1.0, 'достойный': 4.0, 'высоконравственный': 6.0, 'согражданин': 7.0, 'достаточный': 3.0, 'избирать': 5.0, 'вид': 15.0, 'домашний': 15.0, 'детский': 1.0, 'направление': 13.0, 'приют': 6.0, 'приемный': 21.0, 'предлог': 5.0, 'родитель': 9.0, 'затребовать': 6.0, 'копия': 9.0, 'возбуждение': 12.0, 'преследование': 22.0, 'медиа': 4.0, 'магнат': 11.0, 'отмена': 34.0, 'необоснованно': 1.0, 'подзащитный': 2.0, 'перевод': 15.0, 'вилла': 19.0, 'полицейский': 27.0, 'надзор': 27.0, 'четверо': 31.0, 'Бальтасара': 3.0, 'хосе': 9.0, 'Аснар': 7.0, 'Асебес': 2.0, 'холдинг': 8.0, 'экстрадиция': 16.0, 'Остальский': 19.0, 'уносить': 0.0, 'прервать': 7.0, '1:0': 10.0, 'хозяин': 13.0, 'daily': 4.0, '1987': 7.0, 'биржевой': 14.0, 'спекулянт': 15.0, 'привилегированная': 24.0, 'приватизация': 17.0, 'Marceau': 3.0, 'Investissements': 4.0, 'Societe': 18.0, 'Generale': 19.0, 'условие': 8.0, 'скрываться': 15.0, 'договариваться': 3.0, 'сокамерником': 1.0, 'платить': 1.0, 'полтора': 7.0, 'предполагать': 5.0, 'снисходительный': 14.0, 'сокамерник': 4.0, '-магнат': 5.0, 'Pais': 28.0, 'гробница': 1.0, 'египетский': 0.0, 'Инть': 0.0, 'египтолог': 1.0, 'открытие': 4.0, 'вынесший': 3.0, 'сюжет': 1.0, 'Нвтор': 8.0, 'калининградский': 13.0, 'показать': 16.0, 'ночной': 6.0, 'клевета': 3.0, 'экс-губернатор': 7.0, 'телекомпания': 21.0, 'деталь': 1.0, 'воспитание': 2.0, 'животное': 3.0, 'воля': 5.0, 'конкретный': 15.0, 'сохранять': 2.0, 'миллиард': 7.0, 'посить': 16.0, 'евро': 20.0, 'уходить': 16.0, 'гвардия': 9.0, 'Женевский': 0.0, 'выдать': 1.0, 'Столповский': 6.0, 'подозрение': 8.0, 'группировка': 4.0, 'Эфэ': 20.0, 'короткий': 20.0, 'избежать': 14.0, 'фаворит': 12.0, 'Бережная': 10.0, 'выводить': 0.0, 'единогласный': 1.0, '49-летний': 1.0, 'ливиец': 2.0, '1988': 10.0, 'погибать': 12.0, '270': 19.0, 'Afp': 5.0, '84': 0.0, '230': 2.0, 'бумага': 19.666666666666668, 'прочитывать': 7.0, 'вменяемый': 5.0, 'особенно': 4.0, 'европейский': 10.0, 'совершенно': 8.0, 'юридически': 10.0, 'бессмысленный': 11.0, 'значить': 15.0, 'бояться': 19.0, 'проверка': 11.0, 'ценность': 30.0, 'подчеркнуть': 41.0, 'собака': 27.0, 'напасть': 23.0, 'удивительный': 17.0, 'собачий': 12.0, 'лай': 11.0, 'удивлять': 9.0, 'судьба': 5.0, 'телеканал': 8.0, 'предшествовать': 1.0, 'сопровождение': 26.0, 'агент': 7.0, 'военизированный': 11.0, 'формальный': 5.0, 'согласный': 10.0, 'добровольный': 14.0, 'национальный': 18.0, 'выдвижение': 17.0, 'Эшкрофт': 11.0, 'мешать': 4.0, 'некий': 0.0, 'воздушный': 15.0, 'морской': 17.0, 'транспорт': 18.0, 'передвигать': 21.0, 'дискредитировать': 13.0, 'обыск': 4.0, 'положенный': 3.0, 'подобный': 7.0, 'переходный': 22.0, 'период': 23.0, 'организовать': 7.0, 'планировать': 4.0, 'мотивировать': 15.0, 'кто-то': 15.0, 'звонить': 22.0, 'строго': 16.0, 'аукционный': 8.0, 'наказывать': 11.0, 'вор': 15.0, 'уличение': 1.0, 'сговор': 3.0, 'хороший': 6.0, 'урок': 7.0, 'импульс': 10.0, 'взаимоконтроль': 12.0, 'немедленно': 0.0, 'собираться': 1.0, 'представительство': 31.0, 'лозунг': 24.0, 'гласивший': 22.0, 'несправедливый': 9.0, 'ты': 1.0, 'покончить': 12.0, 'твой': 9.0, 'дача': 1.0, 'статуя': 10.0, 'скульптура': 13.0, 'церетели': 19.0, 'дарить': 21.0, 'Юрий': 25.0, 'вертолет': 6.0, 'производить': 7.0, 'подход': 4.0, 'обязательный': 16.0, 'должный': 24.0, 'нужный': 6.0, 'заменять': 8.0, 'переводчик': 10.0, 'Шерил': 18.0, 'Джун': 23.0, 'Эдмонд': 12.0, 'Поуп': 11.0, 'излагать': 3.0, '40': 21.0, 'лист': 5.0, 'законный': 5.0, 'кемеровский': 8.0, '25-й': 17.0, 'заключенный': 18.0, 'возраст': 13.0, '80': 22.0, 'курский': 0.0, 'суббота': 21.0, 'регистрация': 7.0, 'приставить': 18.0, 'безопасность': 8.0, 'угрожать': 1.0, 'Руцкий': 1.0, 'пол': 3.0, 'субботний': 12.0, 'информационный': 12.0, 'зачитывать': 0.0, 'пресненский': 0.0, 'собирать': 22.0, 'предупредить': 18.0, 'разглашение': 26.0, 'восьмилетный': 10.0, 'пребывание': 9.0, 'консервативный': 0.0, 'ориентация': 1.0, 'либерал': 5.0, 'будущий': 6.0, 'зависеть': 5.0, 'конкретно': 0.0, 'консерватор': 3.0, 'старый': 6.0, 'расстановка': 9.0, 'аналогично': 20.0, 'сместить': 15.0, 'влево': 11.0, 'каденция': 4.0, 'либеральный': 0.0, 'досрочно': 2.0, 'приписывать': 8.0, 'баскский': 9.0, 'сепаратист': 12.0, 'взрываться': 1.0, 'машина': 2.0, 'слушанье': 7.0, 'посвящать': 9.0, 'гореть': 3.0, 'шофер': 5.0, 'телохранитель': 7.0, 'конвой': 10.0, 'американец': 6.0, 'сизо': 4.0, 'справка': 0.0, 'дежурный': 2.0, 'лефортовский': 4.0, 'приступ': 14.0, 'остеохандроз': 15.0, 'тазобедренный': 16.0, 'сустав': 17.0, 'двусторонний': 19.0, 'радикулит': 20.0, 'отразить': 4.0, 'Эрв': 0.0, 'катастрофа': 12.0, 'алкоголь': 14.0, 'превышение': 18.0, 'скорость': 19.0, 'девять': 1.0, 'мотоциклист': 9.0, 'преследовать': 11.0, 'спутник': 15.0, 'подвергнуться': 9.0, 'суровый': 8.0, 'критика': 7.0, 'громкий': 17.0, 'Bertelsmann': 7.0, 'Music': 6.0, 'group': 5.0, 'лето': 0.0, 'сервис': 9.0, 'мощный': 5.0, 'полковник': 11.0, 'Поповских': 13.0, 'Оксана': 15.0, 'аккредитация': 19.0, 'сми': 20.0, 'по-прежнему': 15.0, 'открытый': 7.0, 'пресса': 12.0, 'телевизионный': 7.0, 'репортаж': 8.0, 'разглашаться': 39.0, 'упоминаться': 13.0, 'установление': 25.0, 'истина': 26.0, 'нина': 1.0, 'смягчать': 10.0, 'наличие': 19.0, 'награда': 14.0, 'заражать': 0.0, 'спид': 6.0, 'пригрозить': 0.0, 'конвоир': 1.0, 'заразить': 4.0, 'дубина': 7.0, 'склонить': 9.0, 'флоридский': 0.0, 'аннулирование': 17.0, 'открепительный': 20.0, 'бюллетень': 21.0, 'флорида': 9.0, 'Солс': 2.0, 'cnn': 5.0, 'United': 13.0, 'Refining': 14.0, 'блокировка': 8.0, 'сделка': 3.0, 'покупка': 26.0, 'Getty': 23.0, 'нефтяной': 14.0, 'наибольший': 16.0, 'акционер': 20.0, 'выгодный': 35.0, 'нежели': 40.0, 'изложить': 6.0, 'продолжение': 11.0, 'полгода': 62.0, 'заморозить': 61.0, 'снова': 2.0, 'немецкий': 50.0, 'партнер': 49.0, 'заплатить': 47.0, 'неустойка': 43.0, 'пригласить': 34.0, 'съемка': 32.0, 'рено': 30.0, 'невыполнимый': 18.0, 'голубой': 6.0, 'бездна': 5.0, 'сыграть': 0.0, 'смерть': 23.0, 'взятие': 5.0, '03мскать': 10.0, 'совещательный': 5.0, 'комната': 6.0, 'истечение': 2.0, 'тендерный': 1.0, 'Габриэль': 9.0, '450': 14.0, 'сходиться': 2.0, 'исправлять': 3.0, 'Тимоти': 15.0, 'МакВя': 1.0, 'ответственный': 12.0, '1995': 3.0, 'оттягиваний': 1.0, 'смертный': 3.0, 'казнь': 4.0, 'оговаривать': 11.0, 'обратиться': 1.0, 'подать': 9.0, '120': 26.0, 'впрочем': 9.0, 'авдокать': 7.0, 'понравиться': 0.0, 'психологический': 25.0, 'экспертиза': 7.0, 'осужденный': 5.0, 'километр': 22.0, 'север': 24.0, 'характер': 2.0, 'подвергаться': 7.0, 'Efe': 10.0, 'рекомендация': 2.0, 'указать': 6.0, 'бегство': 10.0, 'помилование': 9.0, 'формирование': 5.0, 'избрание': 0.0, 'госслужба': 3.0, 'следовать': 6.0, 'третий': 15.0, 'прыжок': 6.0, 'образ': 1.0, 'встречать': 12.0, 'дочь': 15.0, 'приемная': 18.0, 'ребенок': 32.0, 'Гом': 1.0, 'вместо': 2.0, 'вырабатывать': 12.0, 'способ': 13.0, 'свастика': 17.0, 'желать': 9.0, 'заявка': 12.0, 'беседовать': 0.0, 'дверь': 3.0, 'зритель': 5.0, 'прислушиваться': 8.0, 'россиянка': 10.0, 'мэтр': 9.0, 'воспроизводить': 2.0, 'прежний': 1.0, 'хрупкий': 9.0, 'поэтому': 4.0, 'Маша': 3.0, 'надо': 14.0, 'предстать': 0.0, 'голый': 1.0, 'примерно': 6.0, 'пяить': 8.0, 'северный': 17.0, 'нигерия': 18.0, 'причинять': 17.0, 'Кайрон': 15.0, 'Хенн-ли': 14.0, 'разводиться': 13.0, 'Маккой': 8.0, '1994': 6.0, 'оформление': 1.0, 'развод': 0.0, '66': 15.0, 'ликвидация': 9.0, 'общенациональный': 8.0, 'телевидение': 7.0, 'присуждать': 10.0, '900': 5.0, 'уменьшать': 0.0, '480': 3.0, 'ядовитый': 6.0, 'враждебность': 7.0, 'ненависть': 10.0, 'наручник': 7.0, 'сомнение': 3.0, 'расправа': 11.0, 'убитый': 14.0, 'беременный': 16.0, 'ожжеть': 19.0, 'заживо': 20.0, 'комсомолец': 9.0, 'председательствующий': 0.0, 'вызвать': 8.0, 'редактор': 23.0, 'экс-дипломат': 5.0, 'возмущать': 4.0, 'доверенность': 3.0, 'неожиданно': 3.0, 'замена': 2.0, 'одиннадцать': 7.0, 'эстрада': 9.0, 'постоянный': 12.0, 'круг': 16.0, 'близкий': 18.0, 'бесстыдный': 7.0, 'офицер': 1.0, 'коридор': 1.0, 'прострелить': 3.0, 'палец': 1.0, 'больница': 17.0, 'пакет': 19.0, 'законопроект': 6.0, 'льготный': 15.0, 'проезд': 0.0, 'таможня': 6.0, 'налоговый': 4.0, 'впоследствии': 12.0, 'внимание': 2.0, 'проконсультироваться': 15.0, 'высокопоставлать': 22.0, 'арестованный': 5.0, 'лекарство': 8.0, 'побоище': 1.0, 'четверть': 18.0, 'кремлевский': 12.0, 'дополнительно': 2.0, '6900': 1.0, 'аппарат': 3.0, '1,5': 6.0, 'рубль': 8.0, 'финансирование': 12.0, 'киргизия': 10.0, 'повторно': 6.0, 'Болтон': 27.0, 'уверять': 26.0, 'соавтор': 18.0, 'слышать': 2.0, 'песня': 13.0, 'Айсли': 11.0, 'убеждать': 0.0, 'василий': 2.0, 'Бальтасар': 4.0, 'необходимость': 1.0, 'граница': 10.0, 'Медиа': 4.0, 'певец': 11.0, 'стать': 5.0, 'искусство': 1.0, 'Мухамед': 3.0, 'прецедент': 8.0, 'обращать': 1.0, 'утешаться': 3.0, 'втрое': 3.0, 'долждать': 0.0, 'усмотрение': 9.0, 'срочный': 7.0, 'ночь': 17.0, 'мистер': 7.0, 'как-то': 5.0, 'расплакаться': 2.0, 'относиться': 1.0, 'снисходительно': 3.0, 'потом': 2.0, 'рано': 20.0, 'вдруг': 9.0, 'раздаться': 10.0, 'блеяние': 11.0, 'молодой': 17.0, 'спрятать': 17.0, 'одежда': 19.0, 'ягенка': 20.0, 'неудачный': 26.0, 'отсмеяться': 1.0, 'роженица': 5.0, 'середина': 6.0, 'Макво': 1.0, 'жаловаться': 1.0, 'грязь': 10.0, 'душа': 23.0, 'свидетельство': 28.0, 'терять': 24.0, 'хозяйство': 20.0, 'переставать': 18.0, 'убирать': 17.0, 'запускать': 15.0, 'потеря': 10.0, 'совместный': 7.0, 'уйгура': 19.0, 'Мемет': 17.0, 'пособничество': 13.0, 'казнить': 9.0, 'показывать': 0.0, 'ноготь': 7.0, 'дисциплинарный': 12.0, 'публика': 5.0, 'прямо': 6.0, 'косвенно': 8.0, 'эксплуатировать': 10.0, 'уязвимый': 12.0, 'заключять': 6.0, 'мост': 17.0, 'спор': 26.0, 'пятилетний': 1.0, 'водитель': 7.0, 'предупреждение': 10.0, 'телефон': 24.0, 'вождение': 27.0, 'укрепление': 4.0, 'Похорелска': 1.0, 'подача': 4.0, 'относительно': 14.0, 'график': 0.0, 'обмен': 23.0, 'отделение': 6.0, 'текст': 4.0, 'послание': 3.0, 'адрес': 0.0, 'надлежащий': 11.0, 'заверенный': 13.0, 'доктор': 3.0, 'насчитывать': 5.0, 'признак': 8.0, 'стоить': 12.0, 'Ньюпортский': 0.0, 'королевский': 1.0, 'замечать': 4.0, 'психиатрический': 32.0, 'лечебница': 33.0, 'гражданка': 19.0, 'разлучить': 6.0, 'сменить': 0.0, 'отстранять': 0.0, 'отказать': 10.0, 'каникулы': 17.0, 'обследование': 11.0, 'проведений': 6.0, 'наконец': 22.0, 'Бэрри': 4.0, 'возможно': 16.0, 'обычно': 6.0, 'быстро': 13.0, 'томиться': 19.0, 'обидеться': 3.0, 'официант': 9.0, 'чипсы': 14.0, 'приказывать': 3.0, 'кафе': 9.0, 'много': 7.0, 'посетитель': 6.0, 'заказ': 0.0, 'обслужить': 6.0, 'разозлиться': 1.0, 'Кунцевский': 1.0, 'литература': 15.0, 'знакомиться': 17.0, '1999': 12.0, 'комплексный': 8.0, 'учение': 6.0, 'иегова': 3.0, 'господствовать': 7.0, 'конкурент': 16.0, 'неприязненно': 1.0, 'строить': 14.0, 'комиссовать': 5.0, 'травма': 19.0, 'головной': 10.0, 'Сергеева': 1.0, 'ранний': 14.0, 'стремиться': 9.0, 'любезно': 0.0, 'переносый': 7.0, 'изменяться': 1.0, 'избиение': 25.0, 'казанский': 2.0, 'баскетбол': 16.0, '56': 14.0, '52': 12.0, 'щит': 3.0, 'игровой': 3.0, 'площадка': 2.0, 'избить': 0.0, 'выполнение': 1.0, 'происхождение': 7.0, 'явствовать': 14.0, 'замгенпрокурор': 18.0, 'содействовать': 27.0, 'авиакомпания': 18.0, 'дискриминационный': 10.0, 'толстый': 6.0, 'узаконивать': 16.0, 'взимание': 18.0, 'двойной': 19.0, 'тариф': 20.0, 'авиаперевозка': 22.0, 'пассажир': 24.0, 'повышать': 27.0, 'допрашивать': 3.0, 'прибывать': 9.0, 'какой-то': 1.0, 'визит': 3.0, 'вежливость': 4.0, 'тишина': 8.0, 'компетенция': 1.0, 'предельный': 1.0, '70': 2.0, 'увеличивать': 6.0, 'гость': 22.0, 'начало': 11.0, 'благословение': 6.0, 'близкие': 4.0, 'убедительный': 8.0, 'Погорелска': 0.0, 'недостаточно': 4.0, 'компетентный': 5.0, 'вместе': 9.0, 'звезда': 16.0, 'wwf': 15.0, 'Rock': 12.0, 'Джонсон': 11.0, 'Sting': 8.0, 'возобновление': 10.0, '85-летний': 10.0, 'вначале': 4.0, 'резиденция': 5.0, 'мотивировывать': 3.0, 'неправомерный': 9.0, 'собрание': 19.0, 'общегражданский': 23.0, 'футболист': 5.0, 'обязываться': 4.0, 'боковой': 1.0, 'Ananova': 5.0, '-Мост': 11.0, 'Черемушкинский': 0.0, 'внеочередной': 18.0, 'Baltasar': 3.0, 'Garzon': 4.0, 'вставать': 0.0, 'Бориспольский': 0.0, 'порекомендовать': 1.0, 'отслеживать': 4.0, 'Riaa': 7.0, 'свежий': 8.0, 'релиз': 9.0, 'популярный': 10.0, 'музыка': 13.0, 'спрос': 17.0, 'пират': 19.0, 'блокировать': 22.0, 'попадание': 29.0, 'соперник': 6.0, 'часто': 5.0, 'норвежский': 0.0, 'играть': 3.0, 'Joel': 3.0, 'Lazarus': 4.0, 'смягчение': 17.0, 'жестокость': 24.0, 'пострадавшая': 26.0, 'Tiffany': 30.0, 'Eunick': 31.0, 'пропадать': 10.0, 'Бетти': 0.0, 'Betty': 4.0, 'Adams': 5.0, 'green': 6.0, 'мальчик': 10.0, 'посещать': 13.0, 'обед': 18.0, 'специально': 13.0, 'рекомендовать': 18.0, 'Alan': 3.0, 'Postman': 4.0, 'супруга': 20.0, 'изнасилование': 24.0}\n"
          ],
          "name": "stdout"
        }
      ]
    },
    {
      "cell_type": "code",
      "metadata": {
        "colab": {
          "base_uri": "https://localhost:8080/"
        },
        "id": "iRYJ39b9dvev",
        "outputId": "2b31bddc-1e2d-4f97-91dd-742e41848df2"
      },
      "source": [
        "print(Mat_oj)"
      ],
      "execution_count": 69,
      "outputs": [
        {
          "output_type": "stream",
          "text": [
            "{'но': 1.0, 'окружной': 21.0, 'решать': 1.0, 'дело': 28.0, 'в': 12.857142857142858, 'польза': 6.5, 'веб': 23.0, '-издательствый': 7.0, 'она': 5.0, 'отвергать': 2.0, 'требование': 12.0, 'судебный': 13.0, 'порядок': 16.0, 'запрещать': 16.0, 'публикация': 5.0, 'секретный': 17.0, 'документ': 2.0, 'поскольку': 22.0, 'такой': 24.0, 'запрет': 1.0, 'нарушать': 4.0, 'бы': 15.0, 'свобода': 13.0, 'слово': 13.0, 'однако': 1.0, 'все': 21.0, 'же': 0.0, 'выносить': 11.0, 'постановление': 0.0, 'связывать': 13.0, 'с': 7.0, 'то': 2.0, 'что': 3.75, 'копирайт': 12.0, 'компания': 15.5, 'при': 26.0, 'это': 4.0, 'добавлять': 8.0, 'система': 35.0, 'только': 5.0, 'начинать': 5.0, 'подходить': 7.0, 'к': 8.5, 'сложный': 10.0, 'вопрос': 6.0, 'как': 23.0, 'и': 10.0, 'защита': 4.0, 'интеллектуальный': 18.0, 'собственность': 16.0, 'между': 18.0, 'заявлять': 1.0, 'эфир': 4.0, 'москва': 12.0, 'конституционный': 0.0, 'суд': 1.0, 'повторный': 12.0, 'перерегистрация': 6.0, 'иногородний': 7.0, 'не': 17.0, 'предусматривать': 6.0, 'закон': 12.0, 'отмечаться': 16.0, 'распространять': 10.0, 'впонедельник': 13.0, 'заявление': 3.0, 'прокуратура': 1.0, 'восточный': 0.0, 'округ': 8.0, 'на': 21.0, 'обвиняемый': 3.0, 'рассчитывать': 12.0, 'снисхождение': 0.0, 'сообщать': 3.0, 'Wired': 2.0, 'news': 14.0, 'подпереть': 4.0, 'рука': 27.0, 'подбородок': 6.0, 'молча': 8.0, 'выслушивать': 3.0, 'довод': 6.0, 'оба': 10.0, 'сторона': 2.0, 'задавать': 2.0, 'ни': 12.5, 'один': 11.0, 'наблюдатель': 5.0, 'полагать': 3.0, 'независимо': 2.0, 'от': 6.0, 'чей': 1.0, 'быть': 21.0, 'решение': 0.75, 'противный': 3.0, 'непременно': 2.0, 'обжаловать': 1.0, 'по': 2.8333333333333335, 'сообщение': 14.0, 'Прайм': 12.0, 'вторник': 4.0, 'поздно': 7.0, 'вечер': 6.0, 'челябинский': 5.0, 'областной': 1.0, 'арбитражный': 33.0, 'под': 4.0, 'председательство': 1.0, 'отклонять': 6.0, 'иск': 8.0, 'губернатор': 15.0, 'красноярский': 5.0, 'край': 21.0, 'о': 13.0, 'продление': 1.0, 'внешний': 11.0, 'управление': 6.0, 'оао': 14.0, 'Ачинский': 16.0, 'глиноземный': 17.0, 'комбинат': 18.0, '7,5': 24.0, 'год': 15.0, 'прекращать': 0.0, 'он': 7.0, 'банкротство': 31.0, 'адвокат': 13.0, 'призывать': 10.0, 'вовсе': 6.0, 'ограничиваться': 3.0, 'штраф': 9.0, 'считать': 2.0, 'проступок': 18.0, 'футбольный': 0.0, 'фанат': 5.0, 'заслуживать': 2.0, 'хотя': 9.0, 'условный': 15.0, 'наказание': 0.0, '1': 7.0, 'который': 15.0, 'мочь': 26.0, 'вступать': 19.0, 'сила': 10.0, 'если': 4.0, 'течение': 9.0, 'совершать': 3.0, 'какой-либо': 5.0, 'уголовно': 2.0, 'наказуемый': 13.0, 'пять': 6.0, 'день': 5.0, 'назад': 7.0, 'мадридский': 0.0, 'направлять': 1.0, 'указание': 2.0, 'противоположный': 13.0, 'содержание': 30.0, 'вскоре': 4.0, 'становиться': 21.0, 'известный': 2.0, 'получать': 11.0, 'свой': 6.0, 'английский': 12.0, 'коллега': 22.0, 'запрос': 17.0, '-': 3.0, 'или': 11.0, 'исполнительный': 15.0, 'власть': 23.0, 'они': 8.0, 'должен': 6.666666666666667, 'выполнять': 7.0, 'данный': 35.0, 'случай': 28.0, 'швейцарский': 15.0, 'делегация': 20.0, 'помимо': 21.0, 'недавно': 10.0, 'назначить': 1.0, 'новый': 12.0, 'генпрокурор': 14.0, 'сменять': 10.0, 'этот': 9.0, 'пост': 15.0, 'дель': 17.0, 'Понти': 4.0, 'входить': 3.0, 'женевский': 0.0, 'Каспер-Анзерма': 1.0, 'несколько': 2.0, 'высокопоставленный': 58.0, 'чиновник': 10.0, 'федеральный': 0.0, 'служба': 15.0, 'полиция': 5.0, 'давний': 2.0, 'пора': 13.0, 'заниматься': 3.0, 'счетам': 6.0, 'бывший': 19.0, 'премьер-министр': 11.0, 'признавать': 0.0, 'демонстрировать': 3.0, 'чрезвычайно': 6.0, 'глубокий': 7.0, 'познание': 8.0, 'компьютер': 50.0, 'доскональной': 12.0, 'понимание': 36.0, 'функционировать': 17.0, 'телефонный': 15.0, 'сеть': 19.0, 'точка': 7.0, 'зрение': 6.0, 'высказывать': 6.0, 'Дево': 1.0, 'расследование': 28.0, 'повод': 3.0, 'отмывание': 10.0, 'деньги': 11.0, 'через': 1.0, 'банк': 30.0, 'указывать': 8.0, 'вести': 8.0, 'строительный': 6.0, 'фирма': 8.0, 'Mabetex': 8.0, 'скандал': 12.0, 'кредитный': 14.0, 'карточка': 5.0, 'якобы': 2.0, 'принадлежать': 8.0, 'семья': 19.0, 'отношение': 17.0, 'казахский': 1.0, 'проводить': 2.0, 'просьба': 7.0, 'правительство': 18.0, 'подозревать': 23.0, 'страна': 3.0, 'обвинять': 15.0, 'коррупция': 5.0, 'хранить': 21.0, 'счет': 15.0, 'имя': 7.0, 'выненосить': 7.0, 'работать': 9.0, 'орган': 19.0, 'июнь': 6.0, '1998': 17.0, 'шотландский': 0.0, 'город': 3.0, 'Гринок': 2.0, 'оправдательный': 8.0, 'приговор': 18.0, 'три': 4.0, 'женщина': 17.0, '-пацифистка': 8.0, 'совершить': 10.0, 'выразиться': 13.0, 'русский': 9.0, 'би-би-си': 4.0, 'акт': 15.0, 'вандализм': 20.0, 'база': 2.0, 'атомный': 23.0, 'подводный': 10.0, 'лодка': 11.0, 'теперь': 5.0, 'выпускать': 19.0, 'постановить': 6.0, 'вправе': 7.0, 'пытаться': 1.0, 'разоружить': 9.0, 'Trident': 12.0, 'тот': 22.0, 'являться': 16.0, 'часть': 13.0, 'британский': 18.0, 'ядерный': 9.0, 'программа': 19.0, 'незаконный': 8.0, 'международный': 0.0, 'право': 7.666666666666667, 'вызывать': 4.0, 'большой': 10.0, 'резонанс': 2.0, 'время': 6.0, 'намерен': 1.0, 'пересматривать': 1.0, 'я': 18.0, 'просто': 0.0, 'понимать': 15.0, 'общество': 4.0, 'негативный': 3.0, 'реакция': 4.0, 'участвовать': 19.0, 'работа': 5.0, 'палата': 0.0, 'сохранить': 22.0, 'лорд': 21.0, 'титул': 19.0, 'присваивать': 19.0, 'монарх': 16.0, 'знак': 4.0, 'признание': 9.0, 'личный': 19.0, 'заслуга': 10.0, 'предложение': 6.0, 'а': 1.0, 'также': 0.0, 'епископ': 2.0, 'высший': 10.0, 'традиционно': 1.0, 'член': 5.0, 'верхний': 5.0, 'собеседование': 1.0, 'присутствовать': 1.0, 'юрист': 5.0, 'представитель': 19.0, 'обвинение': 13.0, 'директор': 11.0, 'издательство': 12.0, 'Маргиний': 15.0, 'представлять': 16.0, 'мнтерес': 21.0, 'довереность': 25.0, 'отвечик': 29.0, 'помощник': 0.0, 'удовлетворять': 4.0, 'пятеро': 2.0, 'секретарь': 11.0, 'ранение': 4.0, '00': 34.0, 'московский': 32.0, 'здание': 8.0, 'городской': 0.0, 'заходить': 10.0, 'неизвестный': 6.0, 'мужчина': 5.0, 'бросать': 4.0, 'взрывпакть': 2.0, 'кабинет': 1.0, 'затем': 12.0, 'два': 10.0, 'граната': 2.0, 'результат': 0.0, 'взрыв': 10.0, 'страдать': 26.0, 'Кужанкуй': 0.0, 'исключать': 5.0, 'месть': 0.0, 'музей': 8.0, 'предписание': 8.0, 'понедельник': 1.0, 'нью-йоркский': 18.0, 'мэр': 4.0, 'администрация': 11.0, 'предпринимать': 6.0, 'против': 8.0, 'шаг': 4.0, 'чтобы': 15.0, 'успокаивать': 18.0, 'общественный': 3.0, 'мнение': 7.0, 'авторитетный': 6.0, 'весь': 10.0, 'ветвь': 11.0, 'израильский': 0.0, 'руководитель': 5.0, 'спецслужба': 18.0, 'министр': 13.0, 'верховный': 8.5, 'юридический': 30.5, 'советник': 9.0, 'приходиться': 15.0, 'делать': 7.0, 'ряд': 8.0, 'после': 17.0, 'лично': 4.0, 'ознакомляться': 15.0, 'легкий': 17.0, 'поверить': 16.0, 'заверение': 14.0, 'чем': 3.0, 'допускать': 7.0, 'существование': 10.0, 'общий': 5.0, 'заговор': 8.0, 'выгораживание': 6.0, 'равный': 1.0, 'замешать': 0.0, 'генеральный': 5.0, 'выплата': 5.0, 'компенсация': 7.0, 'утвердить': 24.0, 'агентство': 11.0, 'ясно': 12.0, 'использовать': 5.0, 'огромный': 10.0, 'мощь': 29.0, 'колоссальный': 27.0, 'доход': 18.0, 'для': 3.0, 'удушение': 24.0, 'любой': 12.0, 'появляться': 19.0, 'рынок': 13.0, 'продукт': 33.0, 'конкурируть': 13.0, 'из': 20.0, 'основной': 10.0, 'сказать': 0.0, 'заключение': 0.0, 'оглашение': 11.0, 'падать': 4.0, 'до': 26.0, '88,75': 3.0, 'доллар': 11.0, 'требовать': 7.0, 'микрософт': 4.0, 'расформирование': 5.0, 'корпорация': 14.0, 'более': 13.0, 'мелкий': 9.0, 'конкурировать': 13.0, 'друг': 3.0, 'применять': 2.0, 'мягкий': 21.0, 'препятствовать': 24.0, 'развитие': 22.0, 'технология': 33.0, 'угроза': 5.0, 'операционный': 7.0, 'windows': 33.0, 'предполагаться': 6.0, 'сам': 21.0, 'задерживать': 18.0, 'заседание': 13.0, 'допустить': 7.0, 'коллегия': 20.0, 'рассматривать': 27.0, 'суть': 13.0, 'выдвигать': 10.0, 'лишь': 10.0, 'процессуальный': 6.0, 'каждый': 2.0, 'реализация': 8.0, 'прежде': 11.0, 'одобрение': 1.0, 'возглавлять': 4.0, 'процесс': 14.0, 'антимонопольный': 7.0, 'разочаровывать': 1.0, 'еще': 5.0, 'уверенный': 6.0, 'американский': 36.0, 'юриспруденция': 14.0, 'конец': 1.0, 'осознавать': 18.0, 'инновация': 21.0, 'поведение': 8.0, 'абсолютно': 7.0, 'честный': 6.0, 'приносить': 2.0, 'миллион': 10.0, 'потребитель': 17.0, 'долгий': 17.0, 'путь': 13.0, 'вероятно': 1.0, 'действительно': 8.0, 'предстоять': 0.0, 'подавать': 6.0, 'апелляция': 3.0, 'окончательный': 0.0, 'риск': 9.0, 'затягиваться': 7.0, 'четыре': 3.0, 'месяц': 5.0, 'тюремный': 12.0, 'поначалу': 9.0, 'отменять': 4.0, 'гласить': 0.0, 'хранение': 3.0, 'жесткий': 9.0, 'диск': 2.0, 'распечатка': 8.0, 'порнографический': 9.0, 'материал': 23.0, 'деяние': 14.0, 'правда': 6.0, 'объявлять': 0.0, 'ранее': 7.0, 'принцип': 16.0, 'неверный': 6.0, 'чрезмерный': 8.0, 'сокращать': 10.0, '12': 22.0, 'отстранение': 2.0, 'преподавание': 18.0, 'отказываться': 2.5, 'ходатайство': 5.0, 'усмотреть': 7.0, 'действие': 5.0, 'ответчик': 17.0, 'недобросовестный': 11.0, 'пользование': 12.0, 'затягивание': 10.0, 'пятница': 16.0, '19': 13.0, 'ноябрь': 8.0, 'итальянский': 7.0, 'добиваться': 14.0, 'привлечение': 12.0, 'кардинал': 16.0, 'Микель': 4.0, 'наиболее': 9.0, 'влиятельный': 10.0, 'иеррарх': 13.0, 'преступный': 6.0, 'связь': 8.0, 'соучастие': 24.0, 'мошенничество': 10.0, 'ссуд': 28.0, 'официальный': 23.0, 'Руссо': 1.0, 'фигурировать': 9.0, '20': 4.0, 'человек': 14.0, 'основание': 7.0, 'подслушанный': 2.0, 'разговор': 22.0, 'неаполитанский': 9.0, 'епархия': 12.0, 'средства': 9.0, 'переходить': 12.0, 'родственник': 15.0, 'житель': 18.0, 'первый': 27.0, 'крупный': 5.0, 'серия': 18.0, 'неизбежный': 6.0, 'претензия': 8.0, 'мотив': 24.0, 'засекречивание': 21.0, 'подлежать': 19.0, 'лицо': 31.5, 'занимать': 9.0, 'ключевой': 15.0, 'государство': 8.0, 'президент': 3.0, 'парламент': 3.0, 'депутат': 7.0, 'местный': 13.0, 'совет': 8.0, 'прокурор': 3.0, 'кандидат': 0.0, 'должность': 1.0, 'ссылаться': 20.0, 'замечание': 0.0, 'комментировать': 11.0, 'цена': 14.0, 'отмечать': 14.0, 'нет': 18.0, 'назначение': 11.0, '49': 25.0, 'прибыль': 12.0, 'защищать': 2.0, 'интерес': 16.0, 'истец': 6.0, 'вышеперечисленный': 6.0, 'базироваться': 2.0, 'оглашать': 14.0, '5': 23.0, 'юстиция': 6.0, 'посредничество': 0.0, 'договориться': 2.0, 'внесудебный': 15.0, 'урегулирование': 6.0, 'разногласие': 7.0, 'назначать': 2.0, 'февраль': 8.0, '2000': 12.0, 'вообще': 10.0, 'вне': 8.5, 'никакой': 2.0, 'вердикт': 12.0, 'кроме': 2.0, 'предварительный': 28.0, 'оставаться': 4.0, 'монопольный': 9.0, 'положение': 3.0, 'пользоваться': 15.0, 'вред': 16.0, 'тезис': 19.0, 'нельзя': 17.0, 'можно': 17.0, 'вывод': 23.0, 'годный': 33.0, 'использование': 35.0, 'разбор': 37.0, 'другой': 26.0, 'касаться': 3.0, 'придерживаться': 9.0, 'иной': 2.0, 'монополия': 3.0, 'ход': 2.0, 'разбирательство': 0.0, 'зависимость': 15.0, 'неть': 32.0, 'обеспокоить': 21.0, 'обстоятельство': 11.0, 'сей': 12.0, 'единый': 14.0, 'фронт': 15.0, 'выступать': 3.0, 'намечаться': 21.0, 'раскол': 3.0, 'new': 12.0, 'york': 13.0, 'post': 27.0, 'согласно': 14.0, 'стенограмма': 7.0, 'опубликовывать': 1.0, 'четверг': 8.0, 'во': 7.0, 'встреча': 8.0, 'офис': 9.0, 'беспокойство': 7.0, 'апелляционный': 5.0, 'посредник': 2.0, 'частично': 7.0, 'объяснять': 1.0, 'опасение': 14.0, 'штат': 0.0, 'двигаться': 25.0, 'параллельный': 26.0, 'курс': 27.0, 'первоначально': 0.0, 'вынести': 9.0, '22': 9.0, 'председатель': 10.0, 'откладывать': 5.0, '24': 18.0, 'вот': 2.0, 'опять': 18.0, 'отсрочка': 8.0, 'Присутствовать': 9.0, 'обоснованный': 7.0, 'жалоба': 4.0, 'заявитель': 4.0, 'находить': 2.0, 'таковой': 1.0, 'буквальный': 5.0, 'цитирование': 6.0, 'ответственность': 16.0, 'лежать': 16.0, 'рассмотрение': 27.0, 'продолжительный': 7.0, 'встречаться': 4.0, 'заинтересованный': 24.0, 'напоминать': 3.0, 'никогда': 4.0, 'отличаться': 5.0, 'предсказуемость': 6.0, 'порой': 8.0, 'соответствовать': 15.0, 'существовать': 5.0, 'традиция': 15.0, 'всегда': 15.0, 'логичный': 20.0, 'изящный': 22.0, 'даже': 22.0, 'телеведущий': 19.0, 'явиться': 12.0, 'журналист': 14.0, 'председательствовать': 3.0, 'расписываться': 8.0, 'повестка': 3.0, 'явка': 11.0, 'ли': 11.5, 'приступать': 1.0, 'завтра': 9.0, 'утро': 8.0, 'существо': 5.0, '2': 7.0, 'декабрь': 11.0, 'состояться': 7.0, 'роль': 2.0, 'противник': 9.0, 'рамка': 9.0, 'CNet': 1.0, 'седьмой': 10.0, 'переговоры': 16.0, 'трижды': 35.0, 'оканчиваться': 36.0, 'ничто': 19.0, 'раунд': 5.0, '6': 7.0, 'письменный': 11.0, 'устный': 25.0, 'утверждение': 3.0, 'за': 21.0, 'принятие': 0.0, 'предоставлять': 5.0, 'материальный': 9.0, 'вознаграждение': 14.0, 'соответствующий': 4.0, 'обеспечение': 12.0, 'вице-премьер': 8.0, 'российский': 22.0, 'проект': 64.0, 'этап': 25.0, 'состоять': 2.0, 'иллюстрировать': 16.0, 'нарушение': 9.0, 'законодательство': 8.0, 'обосновывать': 8.0, 'значимость': 6.0, 'факт': 5.0, 'отражать': 3.0, 'обнародовать': 2.0, 'пункт': 21.0, 'у': 5.5, 'сильный': 8.0, 'поддержка': 0.0, 'со': 14.0, 'второй': 18.0, 'гораздо': 10.0, 'менее': 5.0, 'ясный': 6.0, 'четко': 18.0, 'сформулировать': 15.0, 'серьезно': 18.0, 'влиять': 9.0, 'начинаться': 8.0, 'прошлый': 12.0, 'неделя': 11.0, 'вынесение': 12.0, 'слушание': 3.0, 'проходить': 11.0, 'среда': 1.0, '8': 4.0, 'присутствие': 11.0, 'высокий': 8.0, 'ранг': 2.0, 'позволять': 27.0, 'широкий': 4.0, 'спектр': 14.0, 'статья': 13.0, 'вслед': 21.0, 'прения': 26.0, 'поправка': 7.0, 'специальный': 10.0, 'юрисдикция': 11.0, 'совершение': 10.0, 'преступление': 4.0, 'ведение': 3.0, 'война': 20.0, 'похищение': 24.0, 'самолет': 13.0, '30': 5.0, 'увенчаться': 11.0, 'успех': 10.0, 'очередь': 9.0, 'проживать': 6.0, 'лидер': 4.0, 'организация': 21.0, 'аль': 4.0, 'шариатский': 14.0, 'шейх': 3.0, 'бин': 10.0, 'мусульманин': 21.0, 'террор': 24.0, 'вооруженный': 27.0, 'россия': 23.0, 'посольство': 32.0, 'рубеж': 34.0, 'военный': 22.0, 'аэродром': 39.0, 'объект': 41.0, 'инфраструктура': 42.0, 'учитывать': 22.0, 'reuters': 27.0, 'возобновить': 22.0, 'вряд': 16.0, 'принимать': 12.0, 'micro': 11.0, 'Leader': 10.0, 'business': 9.0, 'убежденный': 2.0, 'надеяться': 7.0, 'инстанция': 26.0, 'сегодняшний': 16.0, 'вернуться': 5.0, 'камера': 23.0, 'соглашаться': 6.0, 'краевой': 3.0, 'избирательный': 4.0, 'комиссия': 11.0, 'присяжный': 11.0, 'идти': 20.0, 'речь': 2.0, 'выезжать': 24.0, 'предел': 17.0, 'цель': 29.0, 'секс': 31.0, 'несовершеннолетний': 33.0, 'соблазнять': 37.0, 'несовершеннолетняя': 38.0, 'содержаться': 17.0, 'частный': 13.0, 'определение': 10.0, 'отказ': 1.0, 'заключительный': 1.0, 'трудный': 5.0, 'тянущться': 12.0, 'сражение': 17.0, 'термин': 21.0, 'playboy': 23.0, 'продвигать': 27.0, 'веб-сайт': 29.0, 'дата': 6.0, 'появление': 51.0, 'перед': 0.0, 'трибунал': 1.0, 'пока': 10.0, 'заместитель': 6.0, 'начальник': 11.0, 'государственный': 22.0, 'правовой': 4.0, 'мэрия': 4.0, 'постоянно': 0.0, 'незаконность': 1.0, 'региональный': 4.0, 'милиция': 12.0, 'без': 9.0, 'консультация': 8.0, 'глава': 7.0, 'субъект': 5.0, '10': 10.0, 'кассационный': 9.0, 'Л': 1.0, 'наносить': 2.0, 'ущерб': 5.0, 'художник': 12.0, 'графический': 14.0, 'дизайнер': 15.0, 'фотограф': 11.0, 'помещать': 19.0, 'com': 14.0, 'стоять': 13.0, 'ссылка': 12.0, 'оригинальный': 10.0, 'страница': 9.0, 'позаимствовать': 5.0, 'изображение': 3.5, 'ситуация': 1.0, 'автор': 5.0, 'большинство': 23.0, 'групповой': 20.0, 'предъявлять': 12.0, 'последний': 3.0, 'когда': 7.0, 'монополист': 3.0, 'действовать': 12.0, 'настоящий': 9.0, 'параллельно': 9.0, 'продолжаться': 6.0, 'уже': 15.0, 'отослать': 0.0, 'вариант': 32.0, 'январь': 1.0, 'виновный': 4.0, 'злоупотребление': 11.0, 'лавина': 19.0, 'мы': 10.0, 'наблюдать': 0.0, 'сейчас': 16.0, 'казаться': 31.0, 'ручеек': 32.0, 'сравнение': 34.0, 'приходить': 3.5, 'во-первых': 7.0, 'выгода': 11.0, 'занятие': 14.0, 'себя': 16.0, 'пиратский': 24.0, 'файл': 25.0, 'ограничивать': 1.0, 'сайт': 9.0, 'руководство': 16.0, 'летчик': 10.0, 'участвоваать': 12.0, 'бомбардировка': 14.0, 'dvd': 28.0, 'Copyright': 8.0, 'Control': 5.0, 'Association': 6.0, 'хакер': 21.5, 'программный': 14.0, 'взлом': 27.0, 'digital': 6.0, 'video': 19.0, 'disc': 20.0, 'накладывать': 28.0, 'временный': 5.0, 'распространение': 2.0, 'associated': 22.0, 'press': 23.0, '29': 6.0, 'потребовать': 1.0, 'публиковать': 10.0, 'называться': 14.0, 'the': 13.0, 'Brethren': 12.0, 'герой': 3.0, 'трое': 1.0, 'отбывать': 1.0, 'срок': 15.0, 'колония': 15.0, 'режим': 17.0, 'решетка': 2.0, 'делить': 0.0, 'свободный': 9.0, 'изучение': 4.0, 'солагерник': 10.0, 'серьезный': 12.0, 'эксперт': 7.0, 'соглашение': 4.0, 'флотский': 3.0, 'контрразведка': 4.0, 'презумпция': 8.0, 'невиновность': 20.0, 'Печерский': 0.0, 'районный': 1.0, 'возбуждать': 4.0, 'уголовный': 21.0, 'неправомочный': 16.0, 'спикер': 12.0, 'вице-спикер': 14.0, 'рад': 16.0, 'александр': 18.0, 'частность': 1.0, '21': 9.0, 'руководить': 22.0, 'систематически': 20.0, 'чинить': 21.0, 'препятствие': 15.0, 'народный': 24.0, 'избранник': 25.0, 'число': 18.0, 'попадать': 20.0, 'рабочий': 35.0, 'место': 9.0, 'сессионный': 39.0, 'зал': 18.0, 'подосадовать': 2.0, 'брать': 14.0, 'переложить': 11.0, 'насамарский': 13.0, 'впервые': 17.0, 'освобождать': 3.0, 'республика': 2.0, 'новость': 7.0, 'полномочие': 9.0, 'лишать': 4.0, 'анатолий': 2.0, 'чилийский': 0.0, 'диктатор': 14.0, 'Аугусто': 2.0, 'выявлять': 13.0, 'дисфункция': 11.0, 'мозг': 11.0, 'отвечать': 3.0, 'смысл': 5.0, 'Мадридский': 0.0, 'инициатор': 3.0, 'экс-диктатор': 7.0, 'медицинский': 10.0, 'оздоровий': 12.0, 'министерство': 5.0, 'иностранный': 16.0, 'отправлять': 3.0, 'газета': 12.0, 'выдача': 9.0, 'ордер': 8.0, 'арест': 6.0, 'брайан': 1.0, 'распорядиться': 3.0, 'досье': 7.0, 'видеть': 16.0, 'подавлять': 0.0, 'переизбирать': 2.0, 'нынешний': 21.0, 'голосовать': 1.0, '18': 4.0, 'передавать': 16.0, 'тогда': 0.0, 'закрывать': 2.0, 'оно': 2.0, 'выходить': 3.0, '31': 8.0, 'гарантия': 14.5, 'прекратить': 25.0, 'исполнение': 9.0, 'обязанность': 5.0, '7': 14.0, 'деятельность': 19.0, 'предоставление': 4.0, 'социальный': 1.0, 'незаконно': 7.0, 'устанавливать': 19.0, 'привилегия': 10.0, 'кучка': 12.0, 'должностной': 17.0, 'оказываться': 56.0, 'отставка': 18.0, 'чадо': 26.0, 'домочадец': 28.0, 'собственный': 6.0, 'квартира': 1.0, 'убивать': 0.0, 'выясняться': 12.0, 'убийство': 14.0, 'происходить': 4.0, 'около': 6.0, 'исчезновение': 0.0, 'поступать': 9.0, 'отпуск': 13.0, 'гражданский': 8.0, 'следствие': 29.0, 'профессиональный': 3.0, 'норма': 26.0, 'обязанный': 9.0, '65-й': 8.0, 'минута': 22.0, 'забивать': 5.0, 'гол': 2.0, 'из-за': 12.0, 'офсайд': 4.0, 'называть': 20.0, 'исторический': 3.0, 'так': 19.0, 'давно': 2.0, 'табачный': 8.0, 'изделие': 9.0, 'опасный': 2.0, 'здоровье': 16.0, 'Рэй': 4.0, 'независимый': 6.0, 'октябрь': 5.0, 'тверской': 4.0, 'лучший': 13.0, 'современность': 0.0, 'итальянец': 2.0, 'обслуживать': 5.0, 'ответный': 6.0, 'полуфинальный': 10.0, 'матч': 17.0, 'турецкий': 4.0, 'мексиканский': 20.0, 'высылать': 18.0, 'главарь': 15.0, 'мафия': 9.0, 'разыскивать': 9.0, '1990': 3.0, 'подготовка': 6.0, 'покушение': 6.0, 'кульминация': 9.0, 'конфликт': 8.0, 'обращение': 1.0, 'квалификационный': 1.0, 'представление': 6.0, 'прекращение': 7.0, 'судно': 19.0, 'приморский': 20.0, 'складываться': 10.0, 'вынужденный': 0.0, 'пойти': 2.0, 'крайний': 4.0, 'мера': 8.0, 'голодовка': 6.0, 'протест': 3.0, 'политика': 26.0, 'останавливать': 6.0, 'таможенник': 1.0, 'обращаться': 9.0, 'разъяснение': 4.0, 'поддерживать': 2.0, 'позиция': 13.0, 'май': 6.0, 'соответствие': 8.0, 'церемония': 6.0, 'инаугурация': 5.0, 'информация': 9.0, 'возможный': 1.0, 'раздел': 13.0, 'акция': 33.0, 'стремительно': 8.0, 'bbc': 13.0, 'страсть': 3.0, 'накалиться': 2.0, 'удалить': 0.0, 'скамейка': 3.0, 'запасной': 4.0, 'участие': 1.0, 'игра': 19.0, 'латать': 10.0, 'слишком': 7.5, 'шумно': 15.0, 'выражать': 21.0, 'недовольство': 18.0, 'ближайший': 2.0, 'римский': 0.0, 'Санджованниприступит': 1.0, 'наследник': 5.0, 'Щукинадокументов': 6.0, 'заключать': 10.0, 'Mondadori': 12.0, 'Эрмитаж': 14.0, 'удаваться': 20.0, 'сша': 18.0, 'настаивать': 24.0, 'рассматриваться': 14.0, 'сразу': 19.0, 'миновать': 20.0, 'промежуточный': 21.0, 'разделение': 9.0, 'снятие': 5.0, 'ограничение': 8.0, 'вступить': 3.0, 'основывать': 3.0, 'покупатель': 22.0, 'производитель': 22.0, 'приобретать': 32.0, 'непосредственно': 11.0, 'политический': 23.0, 'интрига': 61.0, 'организовывать': 3.0, 'опасность': 4.0, 'помеха': 45.0, 'план': 41.0, 'построение': 40.0, 'самый': 11.0, 'возврат': 26.0, 'тоталитарный': 19.0, 'прошлое': 19.5, 'ГУЛАГ': 8.0, 'диктатура': 4.0, 'курировавший': 3.0, 'французский': 12.0, 'аукцион': 5.0, 'Yahoo': 18.0, 'оскорблять': 8.0, 'коллективный': 9.0, 'память': 10.0, 'обязать': 8.5, 'июль': 31.0, 'отчет': 20.0, 'предотвращение': 28.0, 'француз': 15.0, 'несоблюдение': 4.0, 'некоторый': 1.0, 'формальность': 1.0, 'переоформление': 5.0, '3': 1.0, 'ведущий': 1.0, 'основываться': 8.0, 'изменять': 8.0, 'обычный': 14.0, 'одновременно': 4.0, 'приостановить': 2.0, 'вводить': 3.0, 'возвращение': 1.0, 'рассмотреть': 8.0, 'просить': 6.0, 'разделять': 2.0, 'полномочияпредседатель': 2.0, 'секретариат': 3.0, 'отстранить': 1.0, 'поступок': 24.0, 'позорять': 11.0, 'честь': 0.0, 'достоинство': 28.0, 'вице-губернатор': 9.0, 'Отстраненный': 4.0, 'приезжать': 13.0, 'справедливость': 9.0, 'регламент': 6.0, 'отсутствие': 0.0, 'уважительный': 1.0, 'причина': 2.0, 'пояснять': 15.0, '14': 0.0, 'статус': 17.0, 'конфликтовать': 1.0, 'прикрывать': 3.0, 'Саварес': 4.0, 'чемпион': 8.0, 'мир': 7.0, 'тяжелый': 20.0, 'вес': 28.0, 'оттащить': 14.0, 'ринг': 18.0, 'боксер': 19.0, 'настоятель': 7.0, 'Покровский': 8.0, 'приход': 9.0, 'целое': 15.0, 'беспочвять': 16.0, 'долгосрочный': 25.0, 'аренда': 26.0, 'парковый': 27.0, 'территория': 6.0, 'издавать': 5.0, 'владелец': 7.0, 'GeoCities': 11.0, 'требуемый': 17.0, 'персональный': 18.0, 'данные': 2.0, 'аноним': 20.0, 'третейский': 0.0, 'Мэрили': 0.0, 'создание': 14.0, 'фан-клуб': 13.0, 'намереваться': 2.0, 'продавать': 17.0, 'держатель': 19.0, 'торговый': 22.0, 'марка': 23.0, 'приговаривать': 6.0, 'тюрьма': 16.5, 'дипломатический': 16.0, 'миссия': 15.0, 'разморожать': 12.0, 'парижский': 0.0, 'правосудие': 10.0, 'Альдижер': 1.0, 'Noga': 6.0, 'возмещать': 8.0, 'диппредставительство': 10.0, 'затрата': 14.0, 'размер': 4.0, 'тысяча': 0.0, 'франк': 9.0, 'сотрудник': 2.0, 'Go': 3.0, 'network': 4.0, 'разрабатывать': 5.0, 'бюро': 7.0, 'очень': 11.0, 'эффективный': 12.0, 'бороться': 8.0, 'сексуальный': 16.0, 'преступность': 4.0, 'письмо': 17.0, 'разоблачать': 11.0, 'тайный': 10.0, 'сотрудничество': 9.0, 'поручать': 9.0, 'специалист': 11.5, 'подробно': 13.5, 'изучать': 14.0, 'технический': 4.0, 'антифашист': 5.0, 'встречный': 1.0, 'аргумент': 9.0, 'оспаривать': 5.0, 'регулировать': 10.0, 'постановлять': 0.0, 'игнорировать': 0.0, 'компьютерный': 4.0, 'код': 18.5, 'настолько': 15.0, 'форма': 14.0, 'самовыражение': 13.0, 'насколько': 16.0, 'выражение': 6.0, 'взгляд': 0.0, 'ставить': 0.0, 'приводить': 20.0, 'прямой': 34.0, 'автоматический': 33.0, 'загрузка': 32.0, 'Decss': 3.0, 'функционально': 18.0, 'пользователь': 6.0, 'хакерский': 5.0, 'служить': 4.0, 'millennium': 7.0, 'Act': 9.0, 'нелегальный': 11.0, 'неверно': 0.0, 'интерпретировать': 1.0, 'грозить': 10.0, 'уничтожать': 11.0, 'преимущество': 6.0, 'каков': 7.0, 'вероятность': 8.0, 'преступник': 8.0, 'оставлять': 0.0, 'досрочный': 19.0, 'лишение': 18.0, 'судейский': 9.0, 'квалификация': 12.0, 'свидетель': 2.0, 'предприниматель': 11.0, 'муж': 0.0, 'Локтионовый': 2.0, 'взятка': 0.0, 'гласящий': 7.0, 'запись': 11.0, 'согласие': 3.0, 'собеседник': 20.0, 'применимый': 23.0, 'электронный': 22.0, 'почта': 26.0, 'чат': 28.0, 'приватный': 32.0, 'беседа': 0.0, 'помощь': 6.0, 'записывать': 6.0, 'метр': 1.0, 'устройство': 7.0, 'автоматически': 17.0, 'вполне': 0.0, 'разумно': 1.0, 'учет': 5.0, 'ежедневно': 8.0, 'количество': 11.0, 'странно': 18.0, 'разрешение': 11.0, 'сохранение': 25.0, 'испанский': 0.0, 'Мид': 7.0, 'говорить': 2.0, 'обоснование': 11.0, 'осматривать': 17.0, 'врач': 3.0, 'версия': 27.0, 'правоохранительный': 17.0, 'теракт': 5.0, 'оказывать': 15.0, 'давление': 13.0, 'временно': 4.0, 'взламывать': 11.0, 'цифровой': 13.0, 'завершаться': 8.0, 'хоть': 2.0, 'настраивать': 16.0, 'правозащитный': 16.0, 'Electronic': 13.0, 'Frontier': 13.0, 'Foundation': 12.0, 'обещать': 7.0, 'похоже': 10.0, 'смехотворность': 8.0, 'желание': 26.0, 'распоряжение': 1.0, 'вещественный': 22.0, 'доказательство': 22.0, 'футболка': 24.0, 'спина': 30.0, 'сторонник': 13.0, 'идеология': 34.0, 'open-source': 35.0, 'раздавать': 36.0, 'выдавать': 4.0, 'хищение': 13.0, 'госбюджет': 16.0, 'продажа': 20.0, 'нефть': 21.0, 'le': 28.0, 'Monde': 29.0, 'разрешать': 1.0, 'удалять': 1.0, 'матка': 2.0, '28-летний': 3.0, 'Telegraph': 3.0, 'отказывать': 2.0, 'обнаруживать': 0.0, 'осуждать': 6.0, 'восемь': 5.0, 'раз': 8.0, 'злоупотребеление': 15.0, 'наркотик': 16.0, '1976': 18.0, 'спустя': 7.0, 'выгонять': 0.0, 'поле': 8.0, 'бить': 6.0, 'сбивать': 2.0, 'жалеть': 1.0, 'желтый': 4.0, 'штрафной': 8.0, 'вновь': 29.0, 'хладнокровно': 15.0, 'реализовать': 19.0, 'суровыйприговор': 4.0, 'когда-либо': 11.0, 'Мтбя': 0.0, 'генерал': 3.0, 'нести': 3.0, 'личной': 4.0, 'командир': 6.0, 'человечность': 13.0, 'нарушенияЖеневский': 16.0, 'конвенция': 17.0, 'попрание': 19.0, 'обычай': 22.0, 'двое': 0.0, 'пиночет': 13.0, 'санкционирование': 9.0, 'пытка': 10.0, 'правление': 4.0, 'нация': 8.0, 'пообещать': 0.0, 'свалить': 5.0, 'бомбардир': 14.0, 'команда': 6.0, 'пенальти': 3.0, 'столичный': 4.0, 'прошение': 7.0, 'семь': 0.0, 'парламентский': 14.0, 'неприкосновенность': 2.0, 'корреспондент': 5.0, 'Сантьяго': 2.0, 'над': 7.0, 'процедура': 11.0, 'главный': 13.5, 'задача': 13.0, 'чешский': 8.0, 'филиал': 11.0, 'борьба': 8.0, 'грязный': 7.0, 'протяжение': 7.0, 'предлагать': 0.0, 'Micorsoft': 6.0, 'владеть': 10.0, 'давать': 1.0, 'низший': 3.0, 'пожизненный': 29.0, 'ускорять': 7.0, 'подготавливать': 4.0, 'изменение': 4.0, 'пресечение': 10.0, '175': 3.0, '448': 8.0, 'свисток': 1.0, 'молчать': 0.0, 'пара': 16.0, 'точный': 7.0, 'удар': 7.0, 'надежда': 5.0, 'недавний': 3.0, 'меньший': 12.0, 'разный': 16.0, 'структура': 17.0, 'сценарий': 21.0, 'событие': 23.0, 'экстремальный': 25.0, 'проблема': 19.0, 'намек': 10.0, 'Пфильцер': 1.0, '1989': 7.0, 'надзирать': 13.0, 'Хоуля': 2.0, 'проявлять': 25.0, 'малейший': 33.0, 'гибкость': 34.0, 'трактование': 36.0, 'поднадзорному': 42.0, 'область': 16.0, 'ознакомлять': 4.0, 'поступить': 7.0, 'обсуждать': 0.0, 'активист': 17.0, 'антитабачный': 16.0, 'кампания': 8.0, 'расти': 3.0, 'расхождение': 3.0, 'берег': 1.0, 'вы': 4.0, 'достаточно': 7.0, 'глупый': 8.0, 'курить': 11.0, 'рак': 14.0, 'легкое': 16.0, 'изъятие': 8.0, 'лицензия': 12.0, 'оружие': 16.0, 'детективный': 30.0, 'охранный': 32.0, 'инцидент': 19.0, 'повздорить': 4.0, 'подраться': 2.0, 'возникать': 12.0, 'словесный': 11.0, 'перепалка': 10.0, 'умудряться': 5.0, 'железный': 3.0, 'ударять': 1.0, 'вносить': 30.0, 'включение': 27.0, 'состав': 0.0, 'создавать': 7.0, 'именно': 10.0, 'сессия': 9.0, 'кандидатура': 2.0, '117-й': 13.0, 'чемпионат': 8.0, 'футбол': 5.0, 'сборная': 13.0, 'ворота': 5.0, 'португалец': 6.0, 'неумолимый': 1.0, 'безупречный': 6.0, 'столь': 5.0, 'дикий': 17.0, 'проиграть': 12.0, 'полуфинал': 10.0, 'Риадя': 3.0, 'впредвзятости': 0.0, 'выбегать': 11.0, 'корт': 9.0, 'мать': 15.0, 'рождать': 11.0, 'момент': 7.0, 'крикнуть': 0.0, 'balls': 4.0, 'please': 5.0, 'констатировать': 0.0, 'оплата': 3.0, 'агитационный': 4.0, 'наличные': 6.0, 'выборы': 14.0, 'подсудимый': 1.0, 'циничный': 4.0, 'суверенитет': 7.0, 'снимать': 8.0, 'признать': 13.0, 'правило': 3.0, 'предвыборный': 22.0, 'агитация': 20.0, 'получение': 10.0, 'отстраненный': 14.0, 'август': 5.0, 'местусодержание': 11.0, 'подследственный': 10.0, 'стража': 0.0, 'железнодорожный': 5.0, 'районаКрасноярск': 4.0, 'центральный': 0.0, 'район': 1.0, 'нарушеныположение': 1.0, '94-й': 3.0, 'кодекс': 4.0, 'поручитель': 11.0, 'подписка': 11.0, 'поручительство': 26.0, 'отменоймера': 30.0, 'быстрый': 3.0, 'завершение': 4.0, 'способствовать': 7.0, 'расизм': 10.0, 'помогать': 12.0, 'репутация': 14.0, 'освобождение': 20.0, 'бесспорно': 10.0, 'руководствоваться': 1.0, 'возобновлять': 8.0, 'сбор': 8.0, 'дополнительный': 11.0, 'март': 23.0, 'текущий': 3.0, 'дальнейший': 7.0, 'разбойный': 2.0, 'нападение': 1.0, 'подъезд': 1.0, 'дом': 14.0, 'где': 3.0, 'похищать': 12.0, 'минувший': 4.0, 'залог': 17.0, 'физика': 10.0, 'небрежный': 18.0, 'стратегический': 21.0, 'секрет': 22.0, 'приговорить': 7.0, 'уплачивать': 16.0, 'Коннектикут': 20.0, 'конкуренция': 23.0, 'закрытие': 3.0, 'доказать': 0.0, 'клиент': 11.0, 'утверждать': 27.0, 'любопытный': 5.0, 'башкирия': 14.0, 'мировой': 0.0, 'universal': 11.0, '45': 7.0, 'готовый': 0.0, '150': 5.0, 'группа': 10.0, 'нижний': 22.0, 'президиум': 17.0, 'счесть': 1.0, 'функция': 5.0, 'подразделение': 4.0, 'охрана': 3.0, 'силовой': 4.0, 'пристав': 2.0, 'исполнитель': 11.0, 'проведение': 9.0, 'имущество': 11.0, 'взыскание': 23.0, 'денежный': 4.0, 'средство': 25.0, 'дожны': 2.0, 'одобрять': 2.0, 'сумма': 2.0, 'взыскать': 8.0, 'ожидать': 8.0, 'финальный': 1.0, '-докладчикий': 0.0, 'определять': 14.0, 'неконституционный': 8.0, 'практика': 17.0, 'продавец': 17.0, 'авторский': 18.0, 'облагать': 24.0, 'налог': 25.0, 'стоимость': 28.0, 'несколькосблизиться': 4.0, 'Салониуспредоставлять': 1.0, 'компромиссной': 6.0, 'орт': 2.0, 'инструкция': 6.0, 'заработный': 18.0, 'плата': 19.0, 'высказываться': 1.0, '15': 13.0, 'особый': 23.0, 'ua': 11.0, 'today': 12.0, 'радиостанция': 18.0, 'вторжение': 11.0, 'жизнь': 8.0, 'сотрудница': 16.0, 'белый': 17.0, 'заслушать': 0.0, 'подозреваемый': 1.0, 'практически': 8.0, 'безукоризненно': 7.0, 'выполнить': 6.0, 'элемент': 6.0, 'оценка': 4.0, '5,7': 1.0, '5,8': 3.0, 'балл': 4.0, 'схема': 3.0, 'Demon': 6.0, 'избрать': 9.0, 'невинный': 12.0, 'воскресный': 8.0, 'выпуск': 21.0, 'ежедневный': 6.0, 'times': 2.0, 'достигать': 14.0, 'познер': 22.0, 'противоречие': 16.0, 'сближение': 5.0, 'длиться': 15.0, 'почти': 8.0, 'сорвать': 4.0, 'следующий': 25.0, 'вплоть': 8.0, 'разукрупнение': 5.0, 'огласить': 1.0, 'девятнадцать': 15.0, '23': 2.0, '26': 30.0, 'отнюдь': 0.0, 'неожиданный': 3.0, 'качество': 11.0, 'апрель': 6.0, 'окончательно': 7.0, 'тупик': 2.0, 'вынуждать': 1.0, 'окончание': 20.0, 'ожидание': 5.0, 'резко': 3.0, 'скончаться': 20.0, 'постель': 8.0, 'почет': 5.0, 'уважение': 2.0, 'среди': 19.0, 'сравнивать': 3.0, 'писать': 6.0, 'ansa': 9.0, 'сойти': 15.0, 'преисподняя': 17.0, 'выйти': 21.0, 'оттуда': 22.0, 'свет': 24.0, 'вина': 14.0, 'ожидатьэтого': 19.0, 'амбиция': 24.0, 'совесть': 28.0, 'находиться': 8.0, 'отозвать': 5.0, 'нью-йорксий': 0.0, 'Mpaa': 6.0, 'законно': 7.0, 'потому': 8.5, '2600': 14.0, 'альтернативный': 17.0, 'готовность': 22.0, 'немного': 19.0, 'маркетинговый': 25.0, 'прислать': 0.0, 'очередной': 4.0, 'исправление': 26.0, 'косметический': 30.0, 'фактически': 3.0, 'никак': 35.0, 'расклад': 7.0, 'конкурентный': 41.0, 'болезнь': 0.0, 'старший': 7.0, 'брат': 12.0, 'республиканский': 17.0, 'глазнойклиник': 18.0, 'готовить': 2.0, 'операция': 22.0, 'аналогичный': 1.0, 'обязывать': 2.0, 'оператор': 5.0, 'сто': 11.0, 'официально': 8.0, 'протокол': 1.0, 'подписать': 1.0, 'подписание': 13.0, 'уйтинесколько': 1.0, '17': 7.0, 'символ': 6.0, 'невыполнение': 6.0, 'парламентарий': 4.0, 'препятствование': 1.0, 'уполномоченный': 3.0, 'армеец': 10.0, 'уступать': 8.0, 'опротестовывать': 1.5, 'обоснованность': 4.0, 'арбитр': 2.0, 'спортивный': 17.0, 'больше': 6.0, 'формулировка': 6.0, 'склонный': 4.0, 'лояльность': 0.0, 'хвалить': 4.0, 'передать': 13.0, 'иметь': 2.0, 'возможность': 4.0, '90': 30.0, 'очевидный': 5.0, 'сперва': 6.0, 'реальный': 6.0, 'ждать': 7.0, '50': 18.0, 'том': 2.0, 'доказывать': 2.0, 'полностью': 12.0, 'содеять': 14.0, 'квалифицировать': 22.0, 'правильно': 16.0, 'Белорецкий': 0.0, 'горсуд': 1.0, 'какой': 1.0, 'выплачивать': 9.0, 'доставлять': 3.0, 'накануне': 3.5, 'больший': 6.0, 'управляющий': 3.0, 'павел': 7.0, 'ныне': 11.0, 'белорусский': 16.0, 'союз': 17.0, 'ознакомить': 7.0, 'фрунзенский': 0.0, 'датировать': 5.0, 'изъятый': 2.0, 'улика': 5.0, 'выполнимый': 13.0, 'ибо': 15.0, 'правомочный': 18.0, 'следователь': 15.0, 'изъять': 30.0, 'необходимый': 5.0, 'убить': 4.0, 'одноклассник': 7.0, 'насильник': 8.0, 'вон': 10.0, 'хорошо': 6.0, 'подчеркивать': 4.0, 'Генпрокуратура': 4.0, 'судебномрешение': 2.0, 'примененыненадлежащий': 0.0, '-процессуальный': 3.0, 'томчисло': 8.0, 'признанный': 10.0, '218': 16.0, 'обжалование': 19.0, 'исключительный': 16.0, 'аналитический': 11.0, 'Thomas': 9.0, 'Weisel': 8.0, 'тоже': 7.0, 'приведение': 2.0, 'существенно': 2.0, 'неразделенный': 14.0, 'расследуть': 3.0, 'об': 5.0, 'bank': 10.0, 'of': 11.0, 'банкир': 1.0, 'кто': 14.0, 'допросить': 7.0, 'управлять': 6.0, 'коммерческий': 7.0, 'показание': 19.0, 'интересовать': 1.0, 'окружение': 14.0, 'бизнесмен': 7.5, 'черный': 8.0, 'требоваться': 3.0, '18,3': 11.0, 'вымогательство': 14.0, '36': 13.0, 'подкуп': 0.0, 'история': 5.0, 'любовь': 1.0, 'пожилой': 0.0, 'жить': 14.0, 'консервативнойфранцузский': 3.0, 'провинция': 20.0, 'польский': 7.0, 'проститутка': 8.0, 'двадцать': 0.0, 'половина': 2.0, 'час': 5.0, 'заслушивать': 4.0, 'список': 15.0, 'Aegis': 20.0, 'архиепископ': 18.0, 'тут': 15.0, 'лауреат': 13.0, 'нобелевский': 12.0, 'премия': 11.0, 'переживать': 6.0, 'холокост': 5.0, 'Эли': 3.0, 'шесть': 6.0, 'спасать': 11.0, 'спартак': 13.0, 'соображение': 4.0, 'полный': 4.0, 'объем': 15.0, 'бандит': 10.0, 'поддельный': 7.0, 'мелкомхулиганство': 6.0, 'сутки': 12.0, '4': 4.0, 'игрок': 1.0, 'лечебный': 6.0, 'эффект': 7.0, 'распространяться': 5.0, 'Хамди': 14.0, 'отец': 9.0, 'девочка': 14.0, 'благодарный': 0.0, 'армия': 7.0, 'восстанавливать': 8.0, 'заканчивать': 1.0, 'четырехчасовое': 2.0, 'совещание': 3.0, 'разъезжаться': 5.0, 'обнародовывать': 12.0, '11': 6.0, '9': 16.0, 'el': 27.0, 'Mostrador': 6.0, 'спешить': 1.0, 'неуверенность': 6.0, 'никто': 15.0, 'сообщаться': 12.0, 'свидетельствовать': 12.0, 'источник': 5.0, 'разделяться': 0.0, 'голосование': 6.0, 'минимальный': 5.0, 'отрицать': 7.0, 'подтверждать': 2.0, 'следственный': 4.0, 'поручение': 0.0, 'сегодня': 8.0, 'Соотвутствующий': 4.0, 'Клаудета': 2.0, 'Терезинья': 3.0, 'некомпетентность': 0.0, 'генконсул': 21.0, 'арестовывать': 9.0, 'допрос': 1.0, 'заблаговременно': 13.0, 'разослать': 14.0, 'совместно': 0.0, 'Ахмад': 8.0, 'боевик': 5.0, 'включая': 7.0, 'степень': 14.0, 'развязывание': 17.0, 'чеченский': 0.0, 'гражданин': 5.0, 'дисквалифицировать': 12.0, 'мучительно': 6.0, 'да': 4.0, 'прерывать': 15.0, 'надзирающий': 9.0, 'законность': 19.0, 'приказ': 0.0, 'оперативный': 13.0, 'розыскной': 11.0, 'мероприятие': 10.0, '25': 10.0, 'сентябрь': 11.0, 'годаВерховный': 4.0, 'Ю': 1.0, 'буквально': 7.0, 'покоренный': 2.0, 'великолепный': 9.0, 'акробатический': 10.0, 'ошибка': 10.0, 'олимпийский': 18.0, 'соотечественник': 2.0, 'марафонец': 4.0, 'золотой': 7.0, 'медаль': 8.0, 'соломинка': 7.0, 'переломить': 9.0, 'хребет': 10.0, 'верблюдо': 11.0, 'объяснение': 15.0, 'Omega': 17.0, 'почему': 22.0, 'дочерний': 14.0, 'торговать': 26.0, 'новогодний': 27.0, 'елка': 28.0, \"Sporty's\": 31.0, 'farm': 32.0, 'гружеть': 0.0, 'Беганская': 2.0, 'Nsi': 6.0, 'рассудить': 5.0, 'домять': 11.0, 'законодатель': 3.0, 'урегулировать': 5.0, 'бездействуть': 9.0, 'домен': 10.0, 'подпадать': 16.0, 'переносезаседания': 2.0, 'улучшение': 4.0, 'самочувствие': 5.0, 'заболевание': 9.0, 'несмотря': 12.0, 'вничью': 5.0, 'победа': 0.0, 'отдавать': 0.0, 'борец': 2.0, 'врачебный': 2.0, 'состояние': 15.0, 'неутешительный': 1.0, 'экс-президент': 7.0, '500': 21.0, 'обвинитель': 1.0, 'отдел': 7.0, 'Рашидхан': 10.0, 'Napster': 3.0, 'любить': 15.0, 'невозможный': 2.0, 'исполнить': 21.0, 'учесть': 2.0, 'личность': 3.0, 'ответ': 8.0, 'защитник': 8.0, 'аргументировать': 19.0, 'психический': 11.0, 'расстройство': 10.0, 'голова': 5.0, '1996': 3.0, 'альтернатива': 10.0, 'трактовать': 9.0, 'по-разному': 10.0, 'странный': 14.0, 'радикальный': 4.0, 'лингвист': 14.0, 'подписывать': 9.0, 'Корреа': 1.0, 'було': 2.0, 'аргентинский': 8.5, 'причастность': 17.0, 'столица': 2.0, 'главнокомандующий': 14.0, 'жена': 25.0, 'Галиано': 2.0, 'котляковский': 15.0, 'кладбище': 16.0, 'премьер': 15.0, 'указ': 8.0, 'повышение': 5.0, 'служащий': 1.0, 'прокурорский': 1.0, 'работник': 2.0, 'персонал': 5.0, 'солдат': 7.0, 'легко': 12.0, 'покидать': 10.0, 'введение': 7.0, '13': 38.0, 'отрицательный': 9.0, '41': 1.0, '16': 1.0, 'талиб': 4.0, 'иметься': 5.0, 'террористический': 14.0, 'означать': 10.0, 'голос': 24.0, 'подсчитывать': 16.0, 'штаб': 3.0, 'ручной': 7.0, 'перестать': 8.0, 'продолжать': 5.0, 'ввиду': 35.0, 'взаимоисключающий': 33.0, 'приостанавливать': 13.0, 'узнавать': 1.0, 'разрешить': 5.0, 'прием': 1.0, 'пересчет': 19.0, 'выяснение': 3.0, 'невыезд': 13.0, 'распоряжаться': 1.0, 'сдавать': 5.0, 'паспорт': 5.0, 'белизский': 13.0, 'огнестрельный': 15.0, 'надевать': 18.0, 'нога': 6.0, 'браслет': 23.0, 'следить': 29.0, 'перемещение': 32.0, 'оправдывать': 6.0, 'хулиган': 5.0, 'охватывать': 9.0, 'взаимность': 17.0, 'становить': 3.0, 'вернуть': 8.0, 'истица': 5.0, 'дискета': 12.0, 'конфиденциальный': 14.0, 'оплачивать': 4.0, 'издержка': 21.0, 'сведение': 26.0, 'составлять': 32.0, 'фунт': 35.0, 'стерлинг': 36.0, 'переносить': 9.0, 'хотеть': 2.0, 'информировать': 0.0, 'несостоявшийся': 7.0, 'убийца': 4.0, 'отклонить': 0.0, 'располагать': 0.0, 'административный': 5.0, 'центр': 6.0, 'госсекретарь': 11.0, 'объявление': 0.0, 'уоррен': 5.0, 'демократ': 10.0, 'опротестовать': 14.0, 'итог': 16.0, 'опыт': 15.0, 'наш': 14.0, 'пращур': 13.0, 'выбирать': 3.0, 'предводитель': 8.0, 'хан': 6.0, 'беков': 4.0, 'полководец': 1.0, 'достойный': 4.0, 'высоконравственный': 6.0, 'согражданин': 7.0, 'достаточный': 3.0, 'избирать': 5.0, 'вид': 15.0, 'домашний': 15.0, 'детский': 1.0, 'направление': 13.0, 'приют': 6.0, 'приемный': 21.0, 'предлог': 5.0, 'родитель': 9.0, 'затребовать': 6.0, 'копия': 9.0, 'возбуждение': 12.0, 'преследование': 22.0, 'медиа': 4.0, 'магнат': 11.0, 'отмена': 34.0, 'необоснованно': 1.0, 'подзащитный': 2.0, 'перевод': 15.0, 'вилла': 19.0, 'полицейский': 27.0, 'надзор': 27.0, 'четверо': 31.0, 'Бальтасара': 3.0, 'хосе': 9.0, 'Аснар': 7.0, 'Асебес': 2.0, 'холдинг': 8.0, 'экстрадиция': 16.0, 'Остальский': 19.0, 'уносить': 0.0, 'прервать': 7.0, '1:0': 10.0, 'хозяин': 13.0, 'daily': 4.0, '1987': 7.0, 'биржевой': 14.0, 'спекулянт': 15.0, 'привилегированная': 24.0, 'приватизация': 17.0, 'Marceau': 3.0, 'Investissements': 4.0, 'Societe': 18.0, 'Generale': 19.0, 'условие': 8.0, 'скрываться': 15.0, 'договариваться': 3.0, 'сокамерником': 1.0, 'платить': 1.0, 'полтора': 7.0, 'предполагать': 5.0, 'снисходительный': 14.0, 'сокамерник': 4.0, '-магнат': 5.0, 'Pais': 28.0, 'гробница': 1.0, 'египетский': 0.0, 'Инть': 0.0, 'египтолог': 1.0, 'открытие': 4.0, 'вынесший': 3.0, 'сюжет': 1.0, 'Нвтор': 8.0, 'калининградский': 13.0, 'показать': 16.0, 'ночной': 6.0, 'клевета': 3.0, 'экс-губернатор': 7.0, 'телекомпания': 21.0, 'деталь': 1.0, 'воспитание': 2.0, 'животное': 3.0, 'воля': 5.0, 'конкретный': 15.0, 'сохранять': 2.0, 'миллиард': 7.0, 'посить': 16.0, 'евро': 20.0, 'уходить': 16.0, 'гвардия': 9.0, 'Женевский': 0.0, 'выдать': 1.0, 'Столповский': 6.0, 'подозрение': 8.0, 'группировка': 4.0, 'Эфэ': 20.0, 'короткий': 20.0, 'избежать': 14.0, 'фаворит': 12.0, 'Бережная': 10.0, 'выводить': 0.0, 'единогласный': 1.0, '49-летний': 1.0, 'ливиец': 2.0, '1988': 10.0, 'погибать': 12.0, '270': 19.0, 'Afp': 5.0, '84': 0.0, '230': 2.0, 'бумага': 19.666666666666668, 'прочитывать': 7.0, 'вменяемый': 5.0, 'особенно': 4.0, 'европейский': 10.0, 'совершенно': 8.0, 'юридически': 10.0, 'бессмысленный': 11.0, 'значить': 15.0, 'бояться': 19.0, 'проверка': 11.0, 'ценность': 30.0, 'подчеркнуть': 41.0, 'собака': 27.0, 'напасть': 23.0, 'удивительный': 17.0, 'собачий': 12.0, 'лай': 11.0, 'удивлять': 9.0, 'судьба': 5.0, 'телеканал': 8.0, 'предшествовать': 1.0, 'сопровождение': 26.0, 'агент': 7.0, 'военизированный': 11.0, 'формальный': 5.0, 'согласный': 10.0, 'добровольный': 14.0, 'национальный': 18.0, 'выдвижение': 17.0, 'Эшкрофт': 11.0, 'мешать': 4.0, 'некий': 0.0, 'воздушный': 15.0, 'морской': 17.0, 'транспорт': 18.0, 'передвигать': 21.0, 'дискредитировать': 13.0, 'обыск': 4.0, 'положенный': 3.0, 'подобный': 7.0, 'переходный': 22.0, 'период': 23.0, 'организовать': 7.0, 'планировать': 4.0, 'мотивировать': 15.0, 'кто-то': 15.0, 'звонить': 22.0, 'строго': 16.0, 'аукционный': 8.0, 'наказывать': 11.0, 'вор': 15.0, 'уличение': 1.0, 'сговор': 3.0, 'хороший': 6.0, 'урок': 7.0, 'импульс': 10.0, 'взаимоконтроль': 12.0, 'немедленно': 0.0, 'собираться': 1.0, 'представительство': 31.0, 'лозунг': 24.0, 'гласивший': 22.0, 'несправедливый': 9.0, 'ты': 1.0, 'покончить': 12.0, 'твой': 9.0, 'дача': 1.0, 'статуя': 10.0, 'скульптура': 13.0, 'церетели': 19.0, 'дарить': 21.0, 'Юрий': 25.0, 'вертолет': 6.0, 'производить': 7.0, 'подход': 4.0, 'обязательный': 16.0, 'должный': 24.0, 'нужный': 6.0, 'заменять': 8.0, 'переводчик': 10.0, 'Шерил': 18.0, 'Джун': 23.0, 'Эдмонд': 12.0, 'Поуп': 11.0, 'излагать': 3.0, '40': 21.0, 'лист': 5.0, 'законный': 5.0, 'кемеровский': 8.0, '25-й': 17.0, 'заключенный': 18.0, 'возраст': 13.0, '80': 22.0, 'курский': 0.0, 'суббота': 21.0, 'регистрация': 7.0, 'приставить': 18.0, 'безопасность': 8.0, 'угрожать': 1.0, 'Руцкий': 1.0, 'пол': 3.0, 'субботний': 12.0, 'информационный': 12.0, 'зачитывать': 0.0, 'пресненский': 0.0, 'собирать': 22.0, 'предупредить': 18.0, 'разглашение': 26.0, 'восьмилетный': 10.0, 'пребывание': 9.0, 'консервативный': 0.0, 'ориентация': 1.0, 'либерал': 5.0, 'будущий': 6.0, 'зависеть': 5.0, 'конкретно': 0.0, 'консерватор': 3.0, 'старый': 6.0, 'расстановка': 9.0, 'аналогично': 20.0, 'сместить': 15.0, 'влево': 11.0, 'каденция': 4.0, 'либеральный': 0.0, 'досрочно': 2.0, 'приписывать': 8.0, 'баскский': 9.0, 'сепаратист': 12.0, 'взрываться': 1.0, 'машина': 2.0, 'слушанье': 7.0, 'посвящать': 9.0, 'гореть': 3.0, 'шофер': 5.0, 'телохранитель': 7.0, 'конвой': 10.0, 'американец': 6.0, 'сизо': 4.0, 'справка': 0.0, 'дежурный': 2.0, 'лефортовский': 4.0, 'приступ': 14.0, 'остеохандроз': 15.0, 'тазобедренный': 16.0, 'сустав': 17.0, 'двусторонний': 19.0, 'радикулит': 20.0, 'отразить': 4.0, 'Эрв': 0.0, 'катастрофа': 12.0, 'алкоголь': 14.0, 'превышение': 18.0, 'скорость': 19.0, 'девять': 1.0, 'мотоциклист': 9.0, 'преследовать': 11.0, 'спутник': 15.0, 'подвергнуться': 9.0, 'суровый': 8.0, 'критика': 7.0, 'громкий': 17.0, 'Bertelsmann': 7.0, 'Music': 6.0, 'group': 5.0, 'лето': 0.0, 'сервис': 9.0, 'мощный': 5.0, 'полковник': 11.0, 'Поповских': 13.0, 'Оксана': 15.0, 'аккредитация': 19.0, 'сми': 20.0, 'по-прежнему': 15.0, 'открытый': 7.0, 'пресса': 12.0, 'телевизионный': 7.0, 'репортаж': 8.0, 'разглашаться': 39.0, 'упоминаться': 13.0, 'установление': 25.0, 'истина': 26.0, 'нина': 1.0, 'смягчать': 10.0, 'наличие': 19.0, 'награда': 14.0, 'заражать': 0.0, 'спид': 6.0, 'пригрозить': 0.0, 'конвоир': 1.0, 'заразить': 4.0, 'дубина': 7.0, 'склонить': 9.0, 'флоридский': 0.0, 'аннулирование': 17.0, 'открепительный': 20.0, 'бюллетень': 21.0, 'флорида': 9.0, 'Солс': 2.0, 'cnn': 5.0, 'United': 13.0, 'Refining': 14.0, 'блокировка': 8.0, 'сделка': 3.0, 'покупка': 26.0, 'Getty': 23.0, 'нефтяной': 14.0, 'наибольший': 16.0, 'акционер': 20.0, 'выгодный': 35.0, 'нежели': 40.0, 'изложить': 6.0, 'продолжение': 11.0, 'полгода': 62.0, 'заморозить': 61.0, 'снова': 2.0, 'немецкий': 50.0, 'партнер': 49.0, 'заплатить': 47.0, 'неустойка': 43.0, 'пригласить': 34.0, 'съемка': 32.0, 'рено': 30.0, 'невыполнимый': 18.0, 'голубой': 6.0, 'бездна': 5.0, 'сыграть': 0.0, 'смерть': 23.0, 'взятие': 5.0, '03мскать': 10.0, 'совещательный': 5.0, 'комната': 6.0, 'истечение': 2.0, 'тендерный': 1.0, 'Габриэль': 9.0, '450': 14.0, 'сходиться': 2.0, 'исправлять': 3.0, 'Тимоти': 15.0, 'МакВя': 1.0, 'ответственный': 12.0, '1995': 3.0, 'оттягиваний': 1.0, 'смертный': 3.0, 'казнь': 4.0, 'оговаривать': 11.0, 'обратиться': 1.0, 'подать': 9.0, '120': 26.0, 'впрочем': 9.0, 'авдокать': 7.0, 'понравиться': 0.0, 'психологический': 25.0, 'экспертиза': 7.0, 'осужденный': 5.0, 'километр': 22.0, 'север': 24.0, 'характер': 2.0, 'подвергаться': 7.0, 'Efe': 10.0, 'рекомендация': 2.0, 'указать': 6.0, 'бегство': 10.0, 'помилование': 9.0, 'формирование': 5.0, 'избрание': 0.0, 'госслужба': 3.0, 'следовать': 6.0, 'третий': 15.0, 'прыжок': 6.0, 'образ': 1.0, 'встречать': 12.0, 'дочь': 15.0, 'приемная': 18.0, 'ребенок': 32.0, 'Гом': 1.0, 'вместо': 2.0, 'вырабатывать': 12.0, 'способ': 13.0, 'свастика': 17.0, 'желать': 9.0, 'заявка': 12.0, 'беседовать': 0.0, 'дверь': 3.0, 'зритель': 5.0, 'прислушиваться': 8.0, 'россиянка': 10.0, 'мэтр': 9.0, 'воспроизводить': 2.0, 'прежний': 1.0, 'хрупкий': 9.0, 'поэтому': 4.0, 'Маша': 3.0, 'надо': 14.0, 'предстать': 0.0, 'голый': 1.0, 'примерно': 6.0, 'пяить': 8.0, 'северный': 17.0, 'нигерия': 18.0, 'причинять': 17.0, 'Кайрон': 15.0, 'Хенн-ли': 14.0, 'разводиться': 13.0, 'Маккой': 8.0, '1994': 6.0, 'оформление': 1.0, 'развод': 0.0, '66': 15.0, 'ликвидация': 9.0, 'общенациональный': 8.0, 'телевидение': 7.0, 'присуждать': 10.0, '900': 5.0, 'уменьшать': 0.0, '480': 3.0, 'ядовитый': 6.0, 'враждебность': 7.0, 'ненависть': 10.0, 'наручник': 7.0, 'сомнение': 3.0, 'расправа': 11.0, 'убитый': 14.0, 'беременный': 16.0, 'ожжеть': 19.0, 'заживо': 20.0, 'комсомолец': 9.0, 'председательствующий': 0.0, 'вызвать': 8.0, 'редактор': 23.0, 'экс-дипломат': 5.0, 'возмущать': 4.0, 'доверенность': 3.0, 'неожиданно': 3.0, 'замена': 2.0, 'одиннадцать': 7.0, 'эстрада': 9.0, 'постоянный': 12.0, 'круг': 16.0, 'близкий': 18.0, 'бесстыдный': 7.0, 'офицер': 1.0, 'коридор': 1.0, 'прострелить': 3.0, 'палец': 1.0, 'больница': 17.0, 'пакет': 19.0, 'законопроект': 6.0, 'льготный': 15.0, 'проезд': 0.0, 'таможня': 6.0, 'налоговый': 4.0, 'впоследствии': 12.0, 'внимание': 2.0, 'проконсультироваться': 15.0, 'высокопоставлать': 22.0, 'арестованный': 5.0, 'лекарство': 8.0, 'побоище': 1.0, 'четверть': 18.0, 'кремлевский': 12.0, 'дополнительно': 2.0, '6900': 1.0, 'аппарат': 3.0, '1,5': 6.0, 'рубль': 8.0, 'финансирование': 12.0, 'киргизия': 10.0, 'повторно': 6.0, 'Болтон': 27.0, 'уверять': 26.0, 'соавтор': 18.0, 'слышать': 2.0, 'песня': 13.0, 'Айсли': 11.0, 'убеждать': 0.0, 'василий': 2.0, 'Бальтасар': 4.0, 'необходимость': 1.0, 'граница': 10.0, 'Медиа': 4.0, 'певец': 11.0, 'стать': 5.0, 'искусство': 1.0, 'Мухамед': 3.0, 'прецедент': 8.0, 'обращать': 1.0, 'утешаться': 3.0, 'втрое': 3.0, 'долждать': 0.0, 'усмотрение': 9.0, 'срочный': 7.0, 'ночь': 17.0, 'мистер': 7.0, 'как-то': 5.0, 'расплакаться': 2.0, 'относиться': 1.0, 'снисходительно': 3.0, 'потом': 2.0, 'рано': 20.0, 'вдруг': 9.0, 'раздаться': 10.0, 'блеяние': 11.0, 'молодой': 17.0, 'спрятать': 17.0, 'одежда': 19.0, 'ягенка': 20.0, 'неудачный': 26.0, 'отсмеяться': 1.0, 'роженица': 5.0, 'середина': 6.0, 'Макво': 1.0, 'жаловаться': 1.0, 'грязь': 10.0, 'душа': 23.0, 'свидетельство': 28.0, 'терять': 24.0, 'хозяйство': 20.0, 'переставать': 18.0, 'убирать': 17.0, 'запускать': 15.0, 'потеря': 10.0, 'совместный': 7.0, 'уйгура': 19.0, 'Мемет': 17.0, 'пособничество': 13.0, 'казнить': 9.0, 'показывать': 0.0, 'ноготь': 7.0, 'дисциплинарный': 12.0, 'публика': 5.0, 'прямо': 6.0, 'косвенно': 8.0, 'эксплуатировать': 10.0, 'уязвимый': 12.0, 'заключять': 6.0, 'мост': 17.0, 'спор': 26.0, 'пятилетний': 1.0, 'водитель': 7.0, 'предупреждение': 10.0, 'телефон': 24.0, 'вождение': 27.0, 'укрепление': 4.0, 'Похорелска': 1.0, 'подача': 4.0, 'относительно': 14.0, 'график': 0.0, 'обмен': 23.0, 'отделение': 6.0, 'текст': 4.0, 'послание': 3.0, 'адрес': 0.0, 'надлежащий': 11.0, 'заверенный': 13.0, 'доктор': 3.0, 'насчитывать': 5.0, 'признак': 8.0, 'стоить': 12.0, 'Ньюпортский': 0.0, 'королевский': 1.0, 'замечать': 4.0, 'психиатрический': 32.0, 'лечебница': 33.0, 'гражданка': 19.0, 'разлучить': 6.0, 'сменить': 0.0, 'отстранять': 0.0, 'отказать': 10.0, 'каникулы': 17.0, 'обследование': 11.0, 'проведений': 6.0, 'наконец': 22.0, 'Бэрри': 4.0, 'возможно': 16.0, 'обычно': 6.0, 'быстро': 13.0, 'томиться': 19.0, 'обидеться': 3.0, 'официант': 9.0, 'чипсы': 14.0, 'приказывать': 3.0, 'кафе': 9.0, 'много': 7.0, 'посетитель': 6.0, 'заказ': 0.0, 'обслужить': 6.0, 'разозлиться': 1.0, 'Кунцевский': 1.0, 'литература': 15.0, 'знакомиться': 17.0, '1999': 12.0, 'комплексный': 8.0, 'учение': 6.0, 'иегова': 3.0, 'господствовать': 7.0, 'конкурент': 16.0, 'неприязненно': 1.0, 'строить': 14.0, 'комиссовать': 5.0, 'травма': 19.0, 'головной': 10.0, 'Сергеева': 1.0, 'ранний': 14.0, 'стремиться': 9.0, 'любезно': 0.0, 'переносый': 7.0, 'изменяться': 1.0, 'избиение': 25.0, 'казанский': 2.0, 'баскетбол': 16.0, '56': 14.0, '52': 12.0, 'щит': 3.0, 'игровой': 3.0, 'площадка': 2.0, 'избить': 0.0, 'выполнение': 1.0, 'происхождение': 7.0, 'явствовать': 14.0, 'замгенпрокурор': 18.0, 'содействовать': 27.0, 'авиакомпания': 18.0, 'дискриминационный': 10.0, 'толстый': 6.0, 'узаконивать': 16.0, 'взимание': 18.0, 'двойной': 19.0, 'тариф': 20.0, 'авиаперевозка': 22.0, 'пассажир': 24.0, 'повышать': 27.0, 'допрашивать': 3.0, 'прибывать': 9.0, 'какой-то': 1.0, 'визит': 3.0, 'вежливость': 4.0, 'тишина': 8.0, 'компетенция': 1.0, 'предельный': 1.0, '70': 2.0, 'увеличивать': 6.0, 'гость': 22.0, 'начало': 11.0, 'благословение': 6.0, 'близкие': 4.0, 'убедительный': 8.0, 'Погорелска': 0.0, 'недостаточно': 4.0, 'компетентный': 5.0, 'вместе': 9.0, 'звезда': 16.0, 'wwf': 15.0, 'Rock': 12.0, 'Джонсон': 11.0, 'Sting': 8.0, 'возобновление': 10.0, '85-летний': 10.0, 'вначале': 4.0, 'резиденция': 5.0, 'мотивировывать': 3.0, 'неправомерный': 9.0, 'собрание': 19.0, 'общегражданский': 23.0, 'футболист': 5.0, 'обязываться': 4.0, 'боковой': 1.0, 'Ananova': 5.0, '-Мост': 11.0, 'Черемушкинский': 0.0, 'внеочередной': 18.0, 'Baltasar': 3.0, 'Garzon': 4.0, 'вставать': 0.0, 'Бориспольский': 0.0, 'порекомендовать': 1.0, 'отслеживать': 4.0, 'Riaa': 7.0, 'свежий': 8.0, 'релиз': 9.0, 'популярный': 10.0, 'музыка': 13.0, 'спрос': 17.0, 'пират': 19.0, 'блокировать': 22.0, 'попадание': 29.0, 'соперник': 6.0, 'часто': 5.0, 'норвежский': 0.0, 'играть': 3.0, 'Joel': 3.0, 'Lazarus': 4.0, 'смягчение': 17.0, 'жестокость': 24.0, 'пострадавшая': 26.0, 'Tiffany': 30.0, 'Eunick': 31.0, 'пропадать': 10.0, 'Бетти': 0.0, 'Betty': 4.0, 'Adams': 5.0, 'green': 6.0, 'мальчик': 10.0, 'посещать': 13.0, 'обед': 18.0, 'специально': 13.0, 'рекомендовать': 18.0, 'Alan': 3.0, 'Postman': 4.0, 'супруга': 20.0, 'изнасилование': 24.0}\n"
          ],
          "name": "stdout"
        }
      ]
    },
    {
      "cell_type": "code",
      "metadata": {
        "colab": {
          "base_uri": "https://localhost:8080/"
        },
        "id": "Is2M7ygZdTjH",
        "outputId": "edbaf2a3-b3ed-4107-c41d-d0d014607c73"
      },
      "source": [
        "print(diff)"
      ],
      "execution_count": 70,
      "outputs": [
        {
          "output_type": "stream",
          "text": [
            "{'но': [1], 'окружной': [21], 'решать': [1], 'дело': [28], 'в': [8, 12, 1, 1, 38, 22, 8, 7, 9, 15, 3, 21, 15, 20], 'польза': [10, 3], 'веб': [23], '-издательствый': [7], 'она': [5], 'отвергать': [2], 'требование': [12], 'судебный': [13], 'порядок': [16], 'запрещать': [16], 'публикация': [5], 'секретный': [17], 'документ': [2], 'поскольку': [22], 'такой': [24], 'запрет': [1], 'нарушать': [4], 'бы': [15], 'свобода': [13], 'слово': [13], 'однако': [1], 'все': [21], 'же': [0], 'выносить': [11], 'постановление': [0], 'связывать': [13], 'с': [7], 'то': [2], 'что': [2, 2, 2, 2, 2, 2, 2, 16], 'копирайт': [12], 'компания': [29, 2], 'при': [26], 'это': [4], 'добавлять': [8], 'система': [38, 32], 'только': [5], 'начинать': [5], 'подходить': [7], 'к': [8, 9], 'сложный': [10], 'вопрос': [6], 'как': [23], 'и': [10], 'защита': [4], 'интеллектуальный': [18], 'собственность': [16], 'между': [18], 'заявлять': [1], 'эфир': [4], 'москва': [12], 'конституционный': [0], 'суд': [1], 'повторный': [12], 'перерегистрация': [6], 'иногородний': [7], 'не': [17], 'предусматривать': [6], 'закон': [12], 'отмечаться': [16], 'распространять': [10], 'впонедельник': [13], 'заявление': [3], 'прокуратура': [1], 'восточный': [0], 'округ': [16, 0], 'на': [21], 'обвиняемый': [3], 'рассчитывать': [12], 'снисхождение': [0], 'сообщать': [3], 'Wired': [2], 'news': [14], 'подпереть': [4], 'рука': [27], 'подбородок': [6], 'молча': [8], 'выслушивать': [3], 'довод': [6], 'оба': [10], 'сторона': [2], 'задавать': [2], 'ни': [14, 11], 'один': [11], 'наблюдатель': [5], 'полагать': [3], 'независимо': [2], 'от': [6], 'чей': [1], 'быть': [21], 'решение': [3, 0, 0, 0], 'противный': [3], 'непременно': [2], 'обжаловать': [1], 'по': [1, 1, 1, 1, 1, 1, 1, 1, 23, 1, 1, 1], 'сообщение': [14], 'Прайм': [12], 'вторник': [4], 'поздно': [7], 'вечер': [6], 'челябинский': [5], 'областной': [1], 'арбитражный': [33], 'под': [4], 'председательство': [1], 'отклонять': [6], 'иск': [3, 13], 'губернатор': [15], 'красноярский': [5], 'край': [21], 'о': [10, 16], 'продление': [1], 'внешний': [11], 'управление': [6], 'оао': [14], 'Ачинский': [16], 'глиноземный': [17], 'комбинат': [18], '7,5': [24], 'год': [19, 11], 'прекращать': [0], 'он': [7, 7, 6, 8], 'банкротство': [31], 'адвокат': [13], 'призывать': [10], 'вовсе': [6], 'ограничиваться': [3], 'штраф': [9], 'считать': [2], 'проступок': [3, 33], 'футбольный': [0], 'фанат': [5], 'заслуживать': [2], 'хотя': [9], 'условный': [15], 'наказание': [0], '1': [7], 'который': [15], 'мочь': [26], 'вступать': [19], 'сила': [10], 'если': [4], 'течение': [9], 'совершать': [3], 'какой-либо': [5], 'уголовно': [2], 'наказуемый': [13], 'пять': [6], 'день': [5], 'назад': [7], 'мадридский': [0], 'направлять': [1], 'указание': [2], 'противоположный': [13], 'содержание': [30], 'вскоре': [4], 'становиться': [21], 'известный': [2], 'получать': [11], 'свой': [6], 'английский': [12], 'коллега': [22], 'запрос': [17], '-': [3], 'или': [11], 'исполнительный': [15], 'власть': [23], 'они': [8], 'должен': [7, 9, 4], 'выполнять': [7], 'данный': [35], 'случай': [28], 'швейцарский': [15], 'делегация': [20], 'помимо': [21], 'недавно': [10], 'назначить': [1], 'новый': [12], 'генпрокурор': [14], 'сменять': [10], 'этот': [9], 'пост': [15], 'дель': [17], 'Понти': [4], 'входить': [3], 'женевский': [0], 'Каспер-Анзерма': [1], 'несколько': [2], 'высокопоставленный': [58], 'чиновник': [10], 'федеральный': [0], 'служба': [15], 'полиция': [5], 'давний': [2], 'пора': [13], 'заниматься': [3], 'счетам': [6], 'бывший': [19], 'премьер-министр': [11], 'признавать': [0, 0, 0], 'демонстрировать': [3], 'чрезвычайно': [6], 'глубокий': [7], 'познание': [8], 'компьютер': [50], 'доскональной': [12], 'понимание': [36], 'функционировать': [17], 'телефонный': [15], 'сеть': [19], 'точка': [7], 'зрение': [6], 'высказывать': [6], 'Дево': [1], 'расследование': [28], 'повод': [3], 'отмывание': [10], 'деньги': [11], 'через': [1], 'банк': [30], 'указывать': [8], 'вести': [8], 'строительный': [6], 'фирма': [8], 'Mabetex': [8], 'скандал': [12], 'кредитный': [14], 'карточка': [5], 'якобы': [2], 'принадлежать': [8], 'семья': [19], 'отношение': [17], 'казахский': [1], 'проводить': [2], 'просьба': [7], 'правительство': [18], 'подозревать': [23], 'страна': [3], 'обвинять': [15], 'коррупция': [5], 'хранить': [21], 'счет': [15], 'имя': [7], 'выненосить': [7], 'работать': [9], 'орган': [19], 'июнь': [6], '1998': [17], 'шотландский': [0], 'город': [1, 5], 'Гринок': [2], 'оправдательный': [8], 'приговор': [18], 'три': [4], 'женщина': [17], '-пацифистка': [8], 'совершить': [10], 'выразиться': [13], 'русский': [9], 'би-би-си': [4], 'акт': [15], 'вандализм': [20], 'база': [2], 'атомный': [23], 'подводный': [10], 'лодка': [11], 'теперь': [5], 'выпускать': [19], 'постановить': [6], 'вправе': [7], 'пытаться': [1], 'разоружить': [9], 'Trident': [12], 'тот': [28, 16], 'являться': [16], 'часть': [13], 'британский': [18], 'ядерный': [9], 'программа': [19], 'незаконный': [8], 'международный': [0], 'право': [5, 6, 12], 'вызывать': [4], 'большой': [10], 'резонанс': [2], 'время': [6], 'намерен': [1], 'пересматривать': [1], 'я': [18], 'просто': [0], 'понимать': [15], 'общество': [4], 'негативный': [3], 'реакция': [4], 'участвовать': [19], 'работа': [5], 'палата': [0], 'сохранить': [22], 'лорд': [21], 'титул': [19], 'присваивать': [19], 'монарх': [16], 'знак': [4], 'признание': [9], 'личный': [19], 'заслуга': [10], 'предложение': [6], 'а': [1], 'также': [0, 0], 'епископ': [2], 'высший': [10], 'традиционно': [1], 'член': [5], 'верхний': [5], 'собеседование': [1], 'присутствовать': [1], 'юрист': [5], 'представитель': [19], 'обвинение': [13], 'директор': [11], 'издательство': [12], 'Маргиний': [15], 'представлять': [16], 'мнтерес': [21], 'довереность': [25], 'отвечик': [29], 'помощник': [0, 0], 'удовлетворять': [4], 'пятеро': [2], 'секретарь': [11], 'ранение': [4], '00': [34], 'московский': [32], 'здание': [8], 'городской': [0], 'заходить': [10], 'неизвестный': [6], 'мужчина': [5], 'бросать': [4], 'взрывпакть': [2], 'кабинет': [1], 'затем': [12], 'два': [10], 'граната': [2], 'результат': [0], 'взрыв': [10], 'страдать': [26], 'Кужанкуй': [0], 'исключать': [5], 'месть': [0], 'музей': [8], 'предписание': [8], 'понедельник': [1], 'нью-йоркский': [18], 'мэр': [4], 'администрация': [11], 'предпринимать': [6], 'против': [8], 'шаг': [4], 'чтобы': [15], 'успокаивать': [18], 'общественный': [3], 'мнение': [7], 'авторитетный': [6], 'весь': [10], 'ветвь': [11], 'израильский': [0], 'руководитель': [5], 'спецслужба': [18], 'министр': [13], 'верховный': [12, 5], 'юридический': [29, 32], 'советник': [9], 'приходиться': [15], 'делать': [7], 'ряд': [8], 'после': [17], 'лично': [4], 'ознакомляться': [15], 'легкий': [17], 'поверить': [16], 'заверение': [14], 'чем': [3], 'допускать': [7], 'существование': [10], 'общий': [5], 'заговор': [8], 'выгораживание': [6], 'равный': [1], 'замешать': [0], 'генеральный': [5], 'выплата': [5], 'компенсация': [7], 'утвердить': [24], 'агентство': [11], 'ясно': [12], 'использовать': [5], 'огромный': [10], 'мощь': [29], 'колоссальный': [27], 'доход': [18], 'для': [3, 3, 3], 'удушение': [24], 'любой': [12], 'появляться': [19], 'рынок': [13], 'продукт': [33], 'конкурируть': [13], 'из': [20], 'основной': [10], 'сказать': [0], 'заключение': [0], 'оглашение': [11], 'падать': [4], 'до': [26], '88,75': [3], 'доллар': [11], 'требовать': [7], 'микрософт': [4], 'расформирование': [5], 'корпорация': [14], 'более': [13], 'мелкий': [9], 'конкурировать': [13], 'друг': [3], 'применять': [2], 'мягкий': [21], 'препятствовать': [24], 'развитие': [22], 'технология': [33], 'угроза': [5], 'операционный': [7], 'windows': [33], 'предполагаться': [6], 'сам': [21], 'задерживать': [18], 'заседание': [13], 'допустить': [7], 'коллегия': [20], 'рассматривать': [27], 'суть': [13], 'выдвигать': [10], 'лишь': [10], 'процессуальный': [6], 'каждый': [2], 'реализация': [8], 'прежде': [11], 'одобрение': [1], 'возглавлять': [4], 'процесс': [14], 'антимонопольный': [7], 'разочаровывать': [1], 'еще': [5], 'уверенный': [6], 'американский': [36], 'юриспруденция': [14], 'конец': [1], 'осознавать': [18], 'инновация': [21], 'поведение': [8], 'абсолютно': [7], 'честный': [6], 'приносить': [2], 'миллион': [10], 'потребитель': [17], 'долгий': [17], 'путь': [13], 'вероятно': [1], 'действительно': [8], 'предстоять': [0], 'подавать': [6], 'апелляция': [4, 2], 'окончательный': [0], 'риск': [9], 'затягиваться': [7], 'четыре': [3], 'месяц': [5], 'тюремный': [12], 'поначалу': [9], 'отменять': [4], 'гласить': [0], 'хранение': [3], 'жесткий': [9], 'диск': [2], 'распечатка': [8], 'порнографический': [9], 'материал': [23], 'деяние': [14], 'правда': [6], 'объявлять': [0, 0], 'ранее': [7], 'принцип': [16], 'неверный': [6], 'чрезмерный': [8], 'сокращать': [10], '12': [22], 'отстранение': [2], 'преподавание': [18], 'отказываться': [0, 5], 'ходатайство': [5], 'усмотреть': [7], 'действие': [5], 'ответчик': [17], 'недобросовестный': [11], 'пользование': [12], 'затягивание': [10], 'пятница': [16], '19': [13], 'ноябрь': [8], 'итальянский': [7], 'добиваться': [14], 'привлечение': [12], 'кардинал': [16], 'Микель': [4], 'наиболее': [9], 'влиятельный': [10], 'иеррарх': [13], 'преступный': [6], 'связь': [8], 'соучастие': [24], 'мошенничество': [10], 'ссуд': [28], 'официальный': [23], 'Руссо': [1], 'фигурировать': [9], '20': [4], 'человек': [14], 'основание': [7], 'подслушанный': [2], 'разговор': [22], 'неаполитанский': [9], 'епархия': [12], 'средства': [9], 'переходить': [12], 'родственник': [15], 'житель': [18], 'первый': [27], 'крупный': [5], 'серия': [18], 'неизбежный': [6], 'претензия': [8], 'мотив': [24], 'засекречивание': [21], 'подлежать': [19], 'лицо': [30, 33], 'занимать': [9], 'ключевой': [15], 'государство': [8], 'президент': [3], 'парламент': [3], 'депутат': [7], 'местный': [13], 'совет': [8], 'прокурор': [3], 'кандидат': [0], 'должность': [1], 'ссылаться': [20], 'замечание': [0], 'комментировать': [11], 'цена': [5, 23], 'отмечать': [14], 'нет': [18], 'назначение': [11], '49': [25], 'прибыль': [12], 'защищать': [2], 'интерес': [23, 9], 'истец': [6], 'вышеперечисленный': [6], 'базироваться': [2], 'оглашать': [14], '5': [23], 'юстиция': [6], 'посредничество': [0], 'договориться': [2], 'внесудебный': [15], 'урегулирование': [6], 'разногласие': [7], 'назначать': [2], 'февраль': [8], '2000': [12], 'вообще': [10], 'вне': [9, 8], 'никакой': [2], 'вердикт': [12], 'кроме': [2], 'предварительный': [28], 'оставаться': [4], 'монопольный': [9], 'положение': [3], 'пользоваться': [15], 'вред': [16], 'тезис': [19], 'нельзя': [20, 14], 'можно': [17], 'вывод': [23], 'годный': [33], 'использование': [35], 'разбор': [37], 'другой': [26], 'касаться': [3], 'придерживаться': [9], 'иной': [2], 'монополия': [3], 'ход': [2], 'разбирательство': [0], 'зависимость': [15], 'неть': [32], 'обеспокоить': [21], 'обстоятельство': [11], 'сей': [12], 'единый': [14], 'фронт': [15], 'выступать': [3], 'намечаться': [21], 'раскол': [3], 'new': [12], 'york': [13], 'post': [27], 'согласно': [14], 'стенограмма': [7], 'опубликовывать': [1], 'четверг': [8], 'во': [7], 'встреча': [8], 'офис': [9], 'беспокойство': [7], 'апелляционный': [5], 'посредник': [2], 'частично': [7], 'объяснять': [1], 'опасение': [14], 'штат': [0], 'двигаться': [25], 'параллельный': [26], 'курс': [27], 'первоначально': [0], 'вынести': [9], '22': [9], 'председатель': [10], 'откладывать': [5], '24': [18], 'вот': [2], 'опять': [18], 'отсрочка': [8], 'Присутствовать': [9], 'обоснованный': [7], 'жалоба': [4], 'заявитель': [4], 'находить': [2], 'таковой': [1], 'буквальный': [5], 'цитирование': [6], 'ответственность': [16], 'лежать': [16], 'рассмотрение': [27], 'продолжительный': [7], 'встречаться': [4], 'заинтересованный': [24], 'напоминать': [3], 'никогда': [4], 'отличаться': [5], 'предсказуемость': [6], 'порой': [8], 'соответствовать': [15], 'существовать': [5], 'традиция': [15], 'всегда': [15], 'логичный': [20], 'изящный': [22], 'даже': [22], 'телеведущий': [19], 'явиться': [12], 'журналист': [14], 'председательствовать': [3], 'расписываться': [8], 'повестка': [3], 'явка': [11], 'ли': [4, 19], 'приступать': [1], 'завтра': [9], 'утро': [8], 'существо': [5], '2': [7], 'декабрь': [11], 'состояться': [7], 'роль': [2], 'противник': [9], 'рамка': [9], 'CNet': [1], 'седьмой': [10], 'переговоры': [16], 'трижды': [35], 'оканчиваться': [36], 'ничто': [19], 'раунд': [5], '6': [7], 'письменный': [11], 'устный': [25], 'утверждение': [3], 'за': [21], 'принятие': [0], 'предоставлять': [5], 'материальный': [9], 'вознаграждение': [14], 'соответствующий': [4], 'обеспечение': [12], 'вице-премьер': [8], 'российский': [22], 'проект': [64], 'этап': [25], 'состоять': [2], 'иллюстрировать': [16], 'нарушение': [9], 'законодательство': [8], 'обосновывать': [8], 'значимость': [6], 'факт': [5], 'отражать': [3], 'обнародовать': [2], 'пункт': [21], 'у': [6, 5], 'сильный': [8], 'поддержка': [0], 'со': [14], 'второй': [18], 'гораздо': [8, 12], 'менее': [5], 'ясный': [6], 'четко': [18], 'сформулировать': [15], 'серьезно': [18], 'влиять': [9], 'начинаться': [8], 'прошлый': [12], 'неделя': [11], 'вынесение': [12], 'слушание': [3], 'проходить': [11], 'среда': [1, 1], '8': [4], 'присутствие': [11], 'высокий': [8], 'ранг': [2], 'позволять': [27], 'широкий': [4], 'спектр': [14], 'статья': [13], 'вслед': [21], 'прения': [26], 'поправка': [7], 'специальный': [10], 'юрисдикция': [11], 'совершение': [10], 'преступление': [4], 'ведение': [3], 'война': [20], 'похищение': [24], 'самолет': [13], '30': [5], 'увенчаться': [11], 'успех': [10], 'очередь': [9], 'проживать': [6], 'лидер': [4], 'организация': [21], 'аль': [4], 'шариатский': [14], 'шейх': [3], 'бин': [10], 'мусульманин': [21], 'террор': [24], 'вооруженный': [27], 'россия': [23], 'посольство': [32], 'рубеж': [34], 'военный': [22], 'аэродром': [39], 'объект': [41], 'инфраструктура': [42], 'учитывать': [22], 'reuters': [27], 'возобновить': [22], 'вряд': [16], 'принимать': [12], 'micro': [11], 'Leader': [10], 'business': [9], 'убежденный': [2], 'надеяться': [7], 'инстанция': [22, 30], 'сегодняшний': [16], 'вернуться': [5], 'камера': [23], 'соглашаться': [6], 'краевой': [3], 'избирательный': [4], 'комиссия': [11], 'присяжный': [11], 'идти': [20], 'речь': [2], 'выезжать': [24], 'предел': [17], 'цель': [29], 'секс': [31], 'несовершеннолетний': [33], 'соблазнять': [37], 'несовершеннолетняя': [38], 'содержаться': [17], 'частный': [13], 'определение': [10], 'отказ': [1], 'заключительный': [1], 'трудный': [5], 'тянущться': [12], 'сражение': [17], 'термин': [21], 'playboy': [23], 'продвигать': [27], 'веб-сайт': [29], 'дата': [6], 'появление': [51], 'перед': [0], 'трибунал': [1], 'пока': [10], 'заместитель': [6], 'начальник': [11], 'государственный': [22], 'правовой': [4], 'мэрия': [4], 'постоянно': [0], 'незаконность': [1], 'региональный': [4], 'милиция': [12], 'без': [9], 'консультация': [8], 'глава': [7], 'субъект': [5], '10': [10], 'кассационный': [9], 'Л': [1], 'наносить': [2], 'ущерб': [5], 'художник': [12], 'графический': [14], 'дизайнер': [15], 'фотограф': [11], 'помещать': [19], 'com': [14], 'стоять': [13], 'ссылка': [12], 'оригинальный': [10], 'страница': [9], 'позаимствовать': [5], 'изображение': [1, 6], 'ситуация': [1], 'автор': [5], 'большинство': [23], 'групповой': [20], 'предъявлять': [12], 'последний': [3], 'когда': [7], 'монополист': [3], 'действовать': [12], 'настоящий': [9], 'параллельно': [9], 'продолжаться': [6], 'уже': [15], 'отослать': [0], 'вариант': [32], 'январь': [1], 'виновный': [4], 'злоупотребление': [11], 'лавина': [19], 'мы': [10], 'наблюдать': [0], 'сейчас': [16], 'казаться': [31], 'ручеек': [32], 'сравнение': [34], 'приходить': [1, 6], 'во-первых': [7], 'выгода': [11], 'занятие': [14], 'себя': [16], 'пиратский': [24], 'файл': [25], 'ограничивать': [1], 'сайт': [9], 'руководство': [16], 'летчик': [10], 'участвоваать': [12], 'бомбардировка': [14], 'dvd': [28], 'Copyright': [8], 'Control': [5], 'Association': [6], 'хакер': [15, 28], 'программный': [14], 'взлом': [27], 'digital': [6], 'video': [19], 'disc': [20], 'накладывать': [28], 'временный': [5], 'распространение': [2], 'associated': [22], 'press': [23], '29': [6], 'потребовать': [1], 'публиковать': [10], 'называться': [14], 'the': [13], 'Brethren': [12], 'герой': [3], 'трое': [1], 'отбывать': [1], 'срок': [15], 'колония': [15], 'режим': [17], 'решетка': [2], 'делить': [0], 'свободный': [9], 'изучение': [4], 'солагерник': [10], 'серьезный': [12], 'эксперт': [7], 'соглашение': [4], 'флотский': [3], 'контрразведка': [4], 'презумпция': [8], 'невиновность': [20], 'Печерский': [0], 'районный': [1], 'возбуждать': [4], 'уголовный': [21], 'неправомочный': [16], 'спикер': [12], 'вице-спикер': [14], 'рад': [16], 'александр': [18], 'частность': [1], '21': [9], 'руководить': [22], 'систематически': [20], 'чинить': [21], 'препятствие': [15], 'народный': [24], 'избранник': [25], 'число': [18], 'попадать': [20], 'рабочий': [35], 'место': [9], 'сессионный': [39], 'зал': [18], 'подосадовать': [2], 'брать': [14], 'переложить': [11], 'насамарский': [13], 'впервые': [17], 'освобождать': [3], 'республика': [2], 'новость': [7], 'полномочие': [9], 'лишать': [4], 'анатолий': [2], 'чилийский': [0], 'диктатор': [14], 'Аугусто': [2], 'выявлять': [13], 'дисфункция': [11], 'мозг': [11], 'отвечать': [3], 'смысл': [5], 'Мадридский': [0], 'инициатор': [3], 'экс-диктатор': [7], 'медицинский': [10], 'оздоровий': [12], 'министерство': [5], 'иностранный': [16], 'отправлять': [3], 'газета': [12], 'выдача': [9], 'ордер': [8], 'арест': [6], 'брайан': [1], 'распорядиться': [3], 'досье': [7], 'видеть': [16], 'подавлять': [0], 'переизбирать': [2], 'нынешний': [21], 'голосовать': [1], '18': [4], 'передавать': [16], 'тогда': [0], 'закрывать': [2], 'оно': [2], 'выходить': [3], '31': [8], 'гарантия': [29, 0], 'прекратить': [25], 'исполнение': [9], 'обязанность': [5], '7': [14], 'деятельность': [19], 'предоставление': [4], 'социальный': [1], 'незаконно': [7], 'устанавливать': [19], 'привилегия': [10], 'кучка': [12], 'должностной': [17], 'оказываться': [56], 'отставка': [18], 'чадо': [26], 'домочадец': [28], 'собственный': [6], 'квартира': [1], 'убивать': [0, 0], 'выясняться': [12], 'убийство': [14], 'происходить': [4], 'около': [6], 'исчезновение': [0], 'поступать': [9], 'отпуск': [13], 'гражданский': [8], 'следствие': [29], 'профессиональный': [3], 'норма': [26], 'обязанный': [9], '65-й': [8], 'минута': [22], 'забивать': [5], 'гол': [2], 'из-за': [12], 'офсайд': [4], 'называть': [20], 'исторический': [3], 'так': [19], 'давно': [2], 'табачный': [8], 'изделие': [9], 'опасный': [2], 'здоровье': [16], 'Рэй': [4], 'независимый': [6], 'октябрь': [5], 'тверской': [4], 'лучший': [13], 'современность': [0], 'итальянец': [2], 'обслуживать': [5], 'ответный': [6], 'полуфинальный': [10], 'матч': [17], 'турецкий': [4], 'мексиканский': [20], 'высылать': [18], 'главарь': [15], 'мафия': [13, 5], 'разыскивать': [9], '1990': [3], 'подготовка': [6], 'покушение': [6], 'кульминация': [9], 'конфликт': [8], 'обращение': [1], 'квалификационный': [1], 'представление': [6], 'прекращение': [7], 'судно': [19], 'приморский': [20], 'складываться': [10], 'вынужденный': [0], 'пойти': [2], 'крайний': [4], 'мера': [8], 'голодовка': [6], 'протест': [3], 'политика': [26], 'останавливать': [6], 'таможенник': [1], 'обращаться': [9], 'разъяснение': [4], 'поддерживать': [2], 'позиция': [13], 'май': [6], 'соответствие': [8], 'церемония': [6], 'инаугурация': [5], 'информация': [3, 15], 'возможный': [1], 'раздел': [13], 'акция': [33], 'стремительно': [8], 'bbc': [13], 'страсть': [3], 'накалиться': [2], 'удалить': [0], 'скамейка': [3], 'запасной': [4], 'участие': [1], 'игра': [19], 'латать': [10], 'слишком': [4, 11], 'шумно': [15], 'выражать': [21], 'недовольство': [18], 'ближайший': [2], 'римский': [0], 'Санджованниприступит': [1], 'наследник': [5], 'Щукинадокументов': [6], 'заключать': [10], 'Mondadori': [12], 'Эрмитаж': [14], 'удаваться': [20], 'сша': [18], 'настаивать': [24], 'рассматриваться': [14], 'сразу': [19], 'миновать': [20], 'промежуточный': [21], 'разделение': [9], 'снятие': [5], 'ограничение': [8], 'вступить': [3], 'основывать': [3], 'покупатель': [22], 'производитель': [22], 'приобретать': [32], 'непосредственно': [11], 'политический': [23], 'интрига': [61], 'организовывать': [3], 'опасность': [4], 'помеха': [45], 'план': [41], 'построение': [40], 'самый': [11], 'возврат': [26], 'тоталитарный': [19], 'прошлое': [21, 18], 'ГУЛАГ': [8], 'диктатура': [4], 'курировавший': [3], 'французский': [12], 'аукцион': [5], 'Yahoo': [18], 'оскорблять': [8], 'коллективный': [9], 'память': [10], 'обязать': [15, 2], 'июль': [31], 'отчет': [20], 'предотвращение': [28], 'француз': [15], 'несоблюдение': [4], 'некоторый': [1], 'формальность': [1], 'переоформление': [5], '3': [1], 'ведущий': [1], 'основываться': [8], 'изменять': [8], 'обычный': [14], 'одновременно': [0, 0, 12], 'приостановить': [2], 'вводить': [3], 'возвращение': [1], 'рассмотреть': [8], 'просить': [6], 'разделять': [2], 'полномочияпредседатель': [2], 'секретариат': [3], 'отстранить': [1], 'поступок': [24], 'позорять': [11], 'честь': [0], 'достоинство': [28], 'вице-губернатор': [9], 'Отстраненный': [4], 'приезжать': [13], 'справедливость': [9], 'регламент': [6], 'отсутствие': [0], 'уважительный': [1], 'причина': [2], 'пояснять': [15], '14': [0], 'статус': [17], 'конфликтовать': [1], 'прикрывать': [3], 'Саварес': [4], 'чемпион': [8], 'мир': [7], 'тяжелый': [20], 'вес': [28], 'оттащить': [14], 'ринг': [18], 'боксер': [19], 'настоятель': [7], 'Покровский': [8], 'приход': [9], 'целое': [15], 'беспочвять': [16], 'долгосрочный': [25], 'аренда': [26], 'парковый': [27], 'территория': [6], 'издавать': [5], 'владелец': [7], 'GeoCities': [11], 'требуемый': [17], 'персональный': [18], 'данные': [2], 'аноним': [20], 'третейский': [0], 'Мэрили': [0], 'создание': [14], 'фан-клуб': [13], 'намереваться': [2], 'продавать': [17], 'держатель': [19], 'торговый': [22], 'марка': [23], 'приговаривать': [6], 'тюрьма': [12, 21], 'дипломатический': [16], 'миссия': [15], 'разморожать': [12], 'парижский': [0, 0], 'правосудие': [10], 'Альдижер': [1], 'Noga': [6], 'возмещать': [8], 'диппредставительство': [10], 'затрата': [14], 'размер': [4], 'тысяча': [0], 'франк': [9], 'сотрудник': [2], 'Go': [3], 'network': [4], 'разрабатывать': [5], 'бюро': [7], 'очень': [11], 'эффективный': [12], 'бороться': [8], 'сексуальный': [16], 'преступность': [4], 'письмо': [17], 'разоблачать': [11], 'тайный': [10], 'сотрудничество': [9], 'поручать': [9], 'специалист': [12, 11], 'подробно': [14, 13], 'изучать': [14], 'технический': [4], 'антифашист': [5], 'встречный': [1], 'аргумент': [9], 'оспаривать': [5], 'регулировать': [10], 'постановлять': [0], 'игнорировать': [0], 'компьютерный': [4], 'код': [11, 26], 'настолько': [15], 'форма': [14], 'самовыражение': [13], 'насколько': [16], 'выражение': [6], 'взгляд': [0], 'ставить': [0], 'приводить': [20], 'прямой': [34], 'автоматический': [33], 'загрузка': [32], 'Decss': [3], 'функционально': [18], 'пользователь': [6], 'хакерский': [5], 'служить': [4], 'millennium': [7], 'Act': [9], 'нелегальный': [11], 'неверно': [0], 'интерпретировать': [1], 'грозить': [10], 'уничтожать': [11], 'преимущество': [6], 'каков': [7], 'вероятность': [8], 'преступник': [8], 'оставлять': [0], 'досрочный': [19], 'лишение': [18], 'судейский': [9], 'квалификация': [12], 'свидетель': [2], 'предприниматель': [11], 'муж': [0], 'Локтионовый': [2], 'взятка': [0], 'гласящий': [7], 'запись': [11], 'согласие': [3], 'собеседник': [20], 'применимый': [23], 'электронный': [22], 'почта': [26], 'чат': [28], 'приватный': [32], 'беседа': [0], 'помощь': [6], 'записывать': [6], 'метр': [1], 'устройство': [7], 'автоматически': [17], 'вполне': [0], 'разумно': [1], 'учет': [5], 'ежедневно': [8], 'количество': [11], 'странно': [18], 'разрешение': [11], 'сохранение': [25], 'испанский': [0], 'Мид': [7], 'говорить': [2], 'обоснование': [11], 'осматривать': [17], 'врач': [3], 'версия': [27], 'правоохранительный': [17], 'теракт': [5], 'оказывать': [15], 'давление': [13], 'временно': [4], 'взламывать': [11], 'цифровой': [13], 'завершаться': [8], 'хоть': [2], 'настраивать': [16], 'правозащитный': [16], 'Electronic': [13], 'Frontier': [13], 'Foundation': [12], 'обещать': [7], 'похоже': [10], 'смехотворность': [8], 'желание': [26], 'распоряжение': [1], 'вещественный': [22], 'доказательство': [22], 'футболка': [24], 'спина': [30], 'сторонник': [13], 'идеология': [34], 'open-source': [35], 'раздавать': [36], 'выдавать': [4], 'хищение': [13], 'госбюджет': [16], 'продажа': [20], 'нефть': [21], 'le': [28], 'Monde': [29], 'разрешать': [1], 'удалять': [1], 'матка': [2], '28-летний': [3], 'Telegraph': [3], 'отказывать': [2], 'обнаруживать': [0], 'осуждать': [6], 'восемь': [5], 'раз': [8], 'злоупотребеление': [15], 'наркотик': [16], '1976': [18], 'спустя': [7], 'выгонять': [0], 'поле': [2, 14], 'бить': [6], 'сбивать': [2], 'жалеть': [1], 'желтый': [4], 'штрафной': [8], 'вновь': [29], 'хладнокровно': [15], 'реализовать': [19], 'суровыйприговор': [4], 'когда-либо': [11], 'Мтбя': [0], 'генерал': [3], 'нести': [3], 'личной': [4], 'командир': [6], 'человечность': [13], 'нарушенияЖеневский': [16], 'конвенция': [17], 'попрание': [19], 'обычай': [22], 'двое': [0], 'пиночет': [13, 13], 'санкционирование': [9], 'пытка': [10], 'правление': [4], 'нация': [8], 'пообещать': [0], 'свалить': [5], 'бомбардир': [14], 'команда': [6], 'пенальти': [3], 'столичный': [4, 4], 'прошение': [7, 7], 'семь': [0], 'парламентский': [14, 14], 'неприкосновенность': [2], 'корреспондент': [5], 'Сантьяго': [2], 'над': [7], 'процедура': [11], 'главный': [5, 22], 'задача': [13], 'чешский': [12, 4], 'филиал': [11], 'борьба': [8], 'грязный': [7], 'протяжение': [7], 'предлагать': [0], 'Micorsoft': [6], 'владеть': [10], 'давать': [1], 'низший': [3], 'пожизненный': [29], 'ускорять': [7], 'подготавливать': [4], 'изменение': [4], 'пресечение': [10], '175': [3], '448': [8], 'свисток': [1], 'молчать': [0], 'пара': [16], 'точный': [7], 'удар': [7], 'надежда': [5], 'недавний': [3], 'меньший': [12], 'разный': [16], 'структура': [17], 'сценарий': [21], 'событие': [23], 'экстремальный': [25], 'проблема': [19], 'намек': [10], 'Пфильцер': [1], '1989': [7], 'надзирать': [13], 'Хоуля': [2], 'проявлять': [25], 'малейший': [33], 'гибкость': [34], 'трактование': [36], 'поднадзорному': [42], 'область': [16], 'ознакомлять': [4], 'поступить': [7], 'обсуждать': [0], 'активист': [17], 'антитабачный': [16], 'кампания': [8], 'расти': [3], 'расхождение': [3], 'берег': [1], 'вы': [4], 'достаточно': [7], 'глупый': [8], 'курить': [11], 'рак': [14], 'легкое': [16], 'изъятие': [8], 'лицензия': [12], 'оружие': [16], 'детективный': [30], 'охранный': [32], 'инцидент': [19], 'повздорить': [4], 'подраться': [2], 'возникать': [12], 'словесный': [11], 'перепалка': [10], 'умудряться': [5], 'железный': [3], 'ударять': [1], 'вносить': [30], 'включение': [27], 'состав': [0], 'создавать': [7], 'именно': [10], 'сессия': [9], 'кандидатура': [2], '117-й': [13], 'чемпионат': [8], 'футбол': [5], 'сборная': [13], 'ворота': [5], 'португалец': [6], 'неумолимый': [1], 'безупречный': [6], 'столь': [5], 'дикий': [17], 'проиграть': [12], 'полуфинал': [10], 'Риадя': [3], 'впредвзятости': [0], 'выбегать': [11], 'корт': [9], 'мать': [15], 'рождать': [11], 'момент': [7], 'крикнуть': [0], 'balls': [4], 'please': [5], 'констатировать': [0], 'оплата': [3], 'агитационный': [4], 'наличные': [6], 'выборы': [14], 'подсудимый': [1], 'циничный': [4], 'суверенитет': [7], 'снимать': [8], 'признать': [13], 'правило': [3], 'предвыборный': [22], 'агитация': [20], 'получение': [10], 'отстраненный': [14], 'август': [5], 'местусодержание': [11], 'подследственный': [10], 'стража': [0], 'железнодорожный': [5], 'районаКрасноярск': [4], 'центральный': [0], 'район': [1], 'нарушеныположение': [1], '94-й': [3], 'кодекс': [4], 'поручитель': [11], 'подписка': [11], 'поручительство': [26], 'отменоймера': [30], 'быстрый': [3], 'завершение': [4], 'способствовать': [7], 'расизм': [10], 'помогать': [12], 'репутация': [14], 'освобождение': [20], 'бесспорно': [10], 'руководствоваться': [1], 'возобновлять': [8], 'сбор': [8], 'дополнительный': [11], 'март': [23], 'текущий': [3], 'дальнейший': [7], 'разбойный': [2], 'нападение': [1], 'подъезд': [1], 'дом': [14], 'где': [3], 'похищать': [12], 'минувший': [4], 'залог': [17], 'физика': [10], 'небрежный': [18], 'стратегический': [21], 'секрет': [22], 'приговорить': [7], 'уплачивать': [16], 'Коннектикут': [20], 'конкуренция': [23], 'закрытие': [3], 'доказать': [0], 'клиент': [11], 'утверждать': [27], 'любопытный': [5], 'башкирия': [14], 'мировой': [0], 'universal': [11], '45': [7], 'готовый': [0], '150': [5], 'группа': [10], 'нижний': [22], 'президиум': [17], 'счесть': [1], 'функция': [5], 'подразделение': [4], 'охрана': [3], 'силовой': [4], 'пристав': [2], 'исполнитель': [11], 'проведение': [9], 'имущество': [11], 'взыскание': [23], 'денежный': [4], 'средство': [25], 'дожны': [2], 'одобрять': [2], 'сумма': [2], 'взыскать': [8], 'ожидать': [8], 'финальный': [1], '-докладчикий': [0], 'определять': [14], 'неконституционный': [8], 'практика': [17], 'продавец': [17], 'авторский': [18], 'облагать': [24], 'налог': [25], 'стоимость': [28], 'несколькосблизиться': [4], 'Салониуспредоставлять': [1], 'компромиссной': [6], 'орт': [2], 'инструкция': [6], 'заработный': [18], 'плата': [19], 'высказываться': [1], '15': [13], 'особый': [23], 'ua': [11], 'today': [12], 'радиостанция': [18], 'вторжение': [11], 'жизнь': [8], 'сотрудница': [16], 'белый': [17], 'заслушать': [0], 'подозреваемый': [1], 'практически': [8], 'безукоризненно': [7], 'выполнить': [6], 'элемент': [6], 'оценка': [4], '5,7': [1], '5,8': [3], 'балл': [4], 'схема': [3], 'Demon': [6], 'избрать': [9], 'невинный': [12], 'воскресный': [8], 'выпуск': [21], 'ежедневный': [6], 'times': [2], 'достигать': [14], 'познер': [22], 'противоречие': [16], 'сближение': [5], 'длиться': [15], 'почти': [8], 'сорвать': [4], 'следующий': [25], 'вплоть': [8], 'разукрупнение': [5], 'огласить': [1], 'девятнадцать': [15], '23': [2], '26': [30], 'отнюдь': [0], 'неожиданный': [3], 'качество': [11], 'апрель': [6], 'окончательно': [7], 'тупик': [2], 'вынуждать': [1], 'окончание': [20], 'ожидание': [5], 'резко': [3], 'скончаться': [20], 'постель': [8], 'почет': [5], 'уважение': [2], 'среди': [19], 'сравнивать': [3], 'писать': [6], 'ansa': [9], 'сойти': [15], 'преисподняя': [17], 'выйти': [21], 'оттуда': [22], 'свет': [24], 'вина': [14], 'ожидатьэтого': [19], 'амбиция': [24], 'совесть': [28], 'находиться': [8], 'отозвать': [5], 'нью-йорксий': [0], 'Mpaa': [6], 'законно': [7], 'потому': [10, 7], '2600': [14], 'альтернативный': [17], 'готовность': [22], 'немного': [19], 'маркетинговый': [25], 'прислать': [0], 'очередной': [4], 'исправление': [26], 'косметический': [30], 'фактически': [3], 'никак': [35], 'расклад': [7], 'конкурентный': [41], 'болезнь': [0], 'старший': [7], 'брат': [12], 'республиканский': [17], 'глазнойклиник': [18], 'готовить': [2], 'операция': [22], 'аналогичный': [1], 'обязывать': [2], 'оператор': [5], 'сто': [11], 'официально': [8], 'протокол': [1], 'подписать': [1], 'подписание': [13], 'уйтинесколько': [1], '17': [7], 'символ': [6], 'невыполнение': [6], 'парламентарий': [4], 'препятствование': [1], 'уполномоченный': [3], 'армеец': [10], 'уступать': [8], 'опротестовывать': [2, 1], 'обоснованность': [4], 'арбитр': [2], 'спортивный': [17], 'больше': [6], 'формулировка': [6], 'склонный': [4], 'лояльность': [0], 'хвалить': [4], 'передать': [13], 'иметь': [2], 'возможность': [4], '90': [30], 'очевидный': [5], 'сперва': [6], 'реальный': [6], 'ждать': [7], '50': [18], 'том': [2], 'доказывать': [2], 'полностью': [12], 'содеять': [14], 'квалифицировать': [22], 'правильно': [16], 'Белорецкий': [0], 'горсуд': [1], 'какой': [1], 'выплачивать': [9], 'доставлять': [3], 'накануне': [7, 0], 'больший': [6], 'управляющий': [3], 'павел': [7], 'ныне': [11], 'белорусский': [16], 'союз': [17], 'ознакомить': [7], 'фрунзенский': [0], 'датировать': [5], 'изъятый': [2], 'улика': [5], 'выполнимый': [13], 'ибо': [15], 'правомочный': [18], 'следователь': [15], 'изъять': [30], 'необходимый': [5], 'убить': [4], 'одноклассник': [7], 'насильник': [8], 'вон': [10], 'хорошо': [6], 'подчеркивать': [4], 'Генпрокуратура': [4], 'судебномрешение': [2], 'примененыненадлежащий': [0], '-процессуальный': [3], 'томчисло': [8], 'признанный': [10], '218': [16], 'обжалование': [19], 'исключительный': [16], 'аналитический': [11], 'Thomas': [9], 'Weisel': [8], 'тоже': [7], 'приведение': [2], 'существенно': [2], 'неразделенный': [14], 'расследуть': [3], 'об': [5], 'bank': [10], 'of': [11], 'банкир': [1], 'кто': [14], 'допросить': [7], 'управлять': [6], 'коммерческий': [7], 'показание': [19], 'интересовать': [1], 'окружение': [14], 'бизнесмен': [7, 8], 'черный': [8], 'требоваться': [3], '18,3': [11], 'вымогательство': [14], '36': [13], 'подкуп': [0], 'история': [5], 'любовь': [1], 'пожилой': [0], 'жить': [7, 21], 'консервативнойфранцузский': [3], 'провинция': [20], 'польский': [7], 'проститутка': [8], 'двадцать': [0], 'половина': [2], 'час': [5], 'заслушивать': [4], 'список': [15], 'Aegis': [20], 'архиепископ': [18], 'тут': [15], 'лауреат': [13], 'нобелевский': [12], 'премия': [11], 'переживать': [6], 'холокост': [5], 'Эли': [3], 'шесть': [6], 'спасать': [11], 'спартак': [13], 'соображение': [4], 'полный': [4], 'объем': [15], 'бандит': [10], 'поддельный': [7], 'мелкомхулиганство': [6], 'сутки': [12], '4': [4], 'игрок': [1], 'лечебный': [6], 'эффект': [7], 'распространяться': [5], 'Хамди': [14], 'отец': [9], 'девочка': [14], 'благодарный': [0], 'армия': [7], 'восстанавливать': [8], 'заканчивать': [1], 'четырехчасовое': [2], 'совещание': [3], 'разъезжаться': [5], 'обнародовывать': [12], '11': [6], '9': [16], 'el': [27], 'Mostrador': [6], 'спешить': [1], 'неуверенность': [6], 'никто': [15], 'сообщаться': [12], 'свидетельствовать': [12], 'источник': [5], 'разделяться': [0], 'голосование': [6], 'минимальный': [5], 'отрицать': [7], 'подтверждать': [2], 'следственный': [4], 'поручение': [0], 'сегодня': [8], 'Соотвутствующий': [4], 'Клаудета': [2], 'Терезинья': [3], 'некомпетентность': [0], 'генконсул': [21], 'арестовывать': [9], 'допрос': [1], 'заблаговременно': [13], 'разослать': [14], 'совместно': [0], 'Ахмад': [8], 'боевик': [5], 'включая': [7], 'степень': [14], 'развязывание': [17], 'чеченский': [0], 'гражданин': [5], 'дисквалифицировать': [12], 'мучительно': [6], 'да': [4], 'прерывать': [15], 'надзирающий': [9], 'законность': [19], 'приказ': [0], 'оперативный': [13], 'розыскной': [11], 'мероприятие': [10], '25': [10], 'сентябрь': [11], 'годаВерховный': [4], 'Ю': [1], 'буквально': [7], 'покоренный': [2], 'великолепный': [9], 'акробатический': [10], 'ошибка': [10], 'олимпийский': [18], 'соотечественник': [2], 'марафонец': [4], 'золотой': [7], 'медаль': [8], 'соломинка': [7], 'переломить': [9], 'хребет': [10], 'верблюдо': [11], 'объяснение': [15], 'Omega': [17], 'почему': [22], 'дочерний': [14], 'торговать': [26], 'новогодний': [27], 'елка': [28], \"Sporty's\": [31], 'farm': [32], 'гружеть': [0], 'Беганская': [2], 'Nsi': [6], 'рассудить': [5], 'домять': [11], 'законодатель': [3], 'урегулировать': [5], 'бездействуть': [9], 'домен': [10], 'подпадать': [16], 'переносезаседания': [2], 'улучшение': [4], 'самочувствие': [5], 'заболевание': [9], 'несмотря': [12], 'вничью': [5], 'победа': [0], 'отдавать': [0], 'борец': [2], 'врачебный': [2], 'состояние': [15], 'неутешительный': [1], 'экс-президент': [7], '500': [21], 'обвинитель': [1], 'отдел': [7], 'Рашидхан': [10], 'Napster': [3], 'любить': [15], 'невозможный': [2], 'исполнить': [21], 'учесть': [2], 'личность': [3], 'ответ': [8], 'защитник': [8], 'аргументировать': [19], 'психический': [11], 'расстройство': [10], 'голова': [5], '1996': [3], 'альтернатива': [10], 'трактовать': [9], 'по-разному': [10], 'странный': [14], 'радикальный': [4], 'лингвист': [14], 'подписывать': [9], 'Корреа': [1], 'було': [2], 'аргентинский': [17, 0], 'причастность': [17], 'столица': [2], 'главнокомандующий': [14], 'жена': [25], 'Галиано': [2], 'котляковский': [15], 'кладбище': [16], 'премьер': [15], 'указ': [8], 'повышение': [5], 'служащий': [1], 'прокурорский': [1], 'работник': [2], 'персонал': [5], 'солдат': [7], 'легко': [12], 'покидать': [10], 'введение': [7], '13': [38], 'отрицательный': [9], '41': [1], '16': [1], 'талиб': [4], 'иметься': [5], 'террористический': [14], 'означать': [10], 'голос': [24], 'подсчитывать': [16], 'штаб': [3], 'ручной': [7], 'перестать': [8], 'продолжать': [5], 'ввиду': [35], 'взаимоисключающий': [33], 'приостанавливать': [13], 'узнавать': [1], 'разрешить': [5], 'прием': [1], 'пересчет': [19], 'выяснение': [3], 'невыезд': [13], 'распоряжаться': [1], 'сдавать': [5], 'паспорт': [5], 'белизский': [13], 'огнестрельный': [15], 'надевать': [18], 'нога': [6], 'браслет': [23], 'следить': [29], 'перемещение': [32], 'оправдывать': [6], 'хулиган': [5], 'охватывать': [9], 'взаимность': [17], 'становить': [3], 'вернуть': [8], 'истица': [5], 'дискета': [12], 'конфиденциальный': [14], 'оплачивать': [4], 'издержка': [21], 'сведение': [26], 'составлять': [32], 'фунт': [35], 'стерлинг': [36], 'переносить': [9], 'хотеть': [2], 'информировать': [0], 'несостоявшийся': [7], 'убийца': [4], 'отклонить': [0], 'располагать': [0], 'административный': [5], 'центр': [6], 'госсекретарь': [11], 'объявление': [0], 'уоррен': [5], 'демократ': [10], 'опротестовать': [14], 'итог': [16], 'опыт': [15], 'наш': [14], 'пращур': [13], 'выбирать': [3], 'предводитель': [8], 'хан': [6], 'беков': [4], 'полководец': [1], 'достойный': [4], 'высоконравственный': [6], 'согражданин': [7], 'достаточный': [3], 'избирать': [5], 'вид': [15], 'домашний': [15], 'детский': [1], 'направление': [13], 'приют': [6], 'приемный': [21], 'предлог': [5], 'родитель': [9], 'затребовать': [6], 'копия': [9], 'возбуждение': [12], 'преследование': [22], 'медиа': [4], 'магнат': [11], 'отмена': [34], 'необоснованно': [1], 'подзащитный': [2], 'перевод': [15], 'вилла': [19], 'полицейский': [27], 'надзор': [27], 'четверо': [31], 'Бальтасара': [3], 'хосе': [9], 'Аснар': [7], 'Асебес': [2], 'холдинг': [8], 'экстрадиция': [16], 'Остальский': [19], 'уносить': [0], 'прервать': [7], '1:0': [10], 'хозяин': [13], 'daily': [4], '1987': [7], 'биржевой': [14], 'спекулянт': [15], 'привилегированная': [24], 'приватизация': [17], 'Marceau': [3], 'Investissements': [4], 'Societe': [18], 'Generale': [19], 'условие': [8], 'скрываться': [15], 'договариваться': [3], 'сокамерником': [1], 'платить': [1], 'полтора': [7], 'предполагать': [5], 'снисходительный': [14], 'сокамерник': [4], '-магнат': [5], 'Pais': [28], 'гробница': [1], 'египетский': [0], 'Инть': [0], 'египтолог': [1], 'открытие': [4], 'вынесший': [3], 'сюжет': [1], 'Нвтор': [8], 'калининградский': [13], 'показать': [16], 'ночной': [6], 'клевета': [3], 'экс-губернатор': [7], 'телекомпания': [21], 'деталь': [1], 'воспитание': [2], 'животное': [3], 'воля': [5], 'конкретный': [15], 'сохранять': [2], 'миллиард': [7], 'посить': [16], 'евро': [20], 'уходить': [16], 'гвардия': [9], 'Женевский': [0], 'выдать': [1], 'Столповский': [6], 'подозрение': [8], 'группировка': [4], 'Эфэ': [20], 'короткий': [20], 'избежать': [14], 'фаворит': [12], 'Бережная': [10], 'выводить': [0], 'единогласный': [1], '49-летний': [1], 'ливиец': [2], '1988': [10], 'погибать': [12], '270': [19], 'Afp': [5], '84': [0], '230': [2], 'бумага': [8, 16, 35], 'прочитывать': [7], 'вменяемый': [5], 'особенно': [4], 'европейский': [10], 'совершенно': [8], 'юридически': [10], 'бессмысленный': [11], 'значить': [15], 'бояться': [19], 'проверка': [11], 'ценность': [30], 'подчеркнуть': [41], 'собака': [27], 'напасть': [23], 'удивительный': [17], 'собачий': [12], 'лай': [11], 'удивлять': [9], 'судьба': [5], 'телеканал': [8], 'предшествовать': [1], 'сопровождение': [26], 'агент': [7], 'военизированный': [11], 'формальный': [5], 'согласный': [10], 'добровольный': [14], 'национальный': [18], 'выдвижение': [17], 'Эшкрофт': [11], 'мешать': [4], 'некий': [0], 'воздушный': [15], 'морской': [17], 'транспорт': [18], 'передвигать': [21], 'дискредитировать': [13], 'обыск': [4], 'положенный': [3], 'подобный': [7], 'переходный': [22], 'период': [23], 'организовать': [7], 'планировать': [4], 'мотивировать': [15], 'кто-то': [15], 'звонить': [22], 'строго': [16], 'аукционный': [8], 'наказывать': [11], 'вор': [15], 'уличение': [1], 'сговор': [3], 'хороший': [6], 'урок': [7], 'импульс': [10], 'взаимоконтроль': [12], 'немедленно': [0], 'собираться': [1], 'представительство': [31], 'лозунг': [24], 'гласивший': [22], 'несправедливый': [9], 'ты': [1], 'покончить': [12], 'твой': [9], 'дача': [1], 'статуя': [10], 'скульптура': [13], 'церетели': [19], 'дарить': [21], 'Юрий': [25], 'вертолет': [6], 'производить': [7], 'подход': [4], 'обязательный': [16], 'должный': [24], 'нужный': [6], 'заменять': [8], 'переводчик': [10], 'Шерил': [18], 'Джун': [23], 'Эдмонд': [12], 'Поуп': [11], 'излагать': [3], '40': [21], 'лист': [5], 'законный': [5], 'кемеровский': [8], '25-й': [17], 'заключенный': [18], 'возраст': [13], '80': [22], 'курский': [0], 'суббота': [21], 'регистрация': [7], 'приставить': [18], 'безопасность': [8], 'угрожать': [1], 'Руцкий': [1], 'пол': [3], 'субботний': [12], 'информационный': [12], 'зачитывать': [0], 'пресненский': [0], 'собирать': [22], 'предупредить': [18], 'разглашение': [26], 'восьмилетный': [10], 'пребывание': [9], 'консервативный': [0], 'ориентация': [1], 'либерал': [5], 'будущий': [6], 'зависеть': [5], 'конкретно': [0], 'консерватор': [3], 'старый': [6], 'расстановка': [9], 'аналогично': [20], 'сместить': [15], 'влево': [11], 'каденция': [4], 'либеральный': [0], 'досрочно': [2], 'приписывать': [8], 'баскский': [9], 'сепаратист': [12], 'взрываться': [1], 'машина': [2], 'слушанье': [7], 'посвящать': [9], 'гореть': [3], 'шофер': [5], 'телохранитель': [7], 'конвой': [10], 'американец': [6], 'сизо': [4], 'справка': [0], 'дежурный': [2], 'лефортовский': [4], 'приступ': [14], 'остеохандроз': [15], 'тазобедренный': [16], 'сустав': [17], 'двусторонний': [19], 'радикулит': [20], 'отразить': [4], 'Эрв': [0], 'катастрофа': [12], 'алкоголь': [14], 'превышение': [18], 'скорость': [19], 'девять': [1], 'мотоциклист': [9], 'преследовать': [11], 'спутник': [15], 'подвергнуться': [9], 'суровый': [8], 'критика': [7], 'громкий': [17], 'Bertelsmann': [7], 'Music': [6], 'group': [5], 'лето': [0], 'сервис': [9], 'мощный': [5], 'полковник': [11], 'Поповских': [13], 'Оксана': [15], 'аккредитация': [19], 'сми': [20], 'по-прежнему': [15], 'открытый': [7], 'пресса': [12], 'телевизионный': [7], 'репортаж': [8], 'разглашаться': [39], 'упоминаться': [13], 'установление': [25], 'истина': [26], 'нина': [1], 'смягчать': [10], 'наличие': [19], 'награда': [14], 'заражать': [0], 'спид': [6], 'пригрозить': [0], 'конвоир': [1], 'заразить': [4], 'дубина': [7], 'склонить': [9], 'флоридский': [0], 'аннулирование': [17], 'открепительный': [20], 'бюллетень': [21], 'флорида': [9], 'Солс': [2], 'cnn': [5], 'United': [13], 'Refining': [14], 'блокировка': [8], 'сделка': [3], 'покупка': [26], 'Getty': [4, 27, 38], 'нефтяной': [14], 'наибольший': [16], 'акционер': [20], 'выгодный': [35], 'нежели': [40], 'изложить': [6], 'продолжение': [11], 'полгода': [62], 'заморозить': [61], 'снова': [2], 'немецкий': [50], 'партнер': [49], 'заплатить': [47], 'неустойка': [43], 'пригласить': [34], 'съемка': [32], 'рено': [30], 'невыполнимый': [18], 'голубой': [6], 'бездна': [5], 'сыграть': [0], 'смерть': [23], 'взятие': [5], '03мскать': [10], 'совещательный': [5], 'комната': [6], 'истечение': [2], 'тендерный': [1], 'Габриэль': [9], '450': [14], 'сходиться': [2], 'исправлять': [3], 'Тимоти': [15], 'МакВя': [1], 'ответственный': [12], '1995': [3], 'оттягиваний': [1], 'смертный': [3], 'казнь': [4], 'оговаривать': [11], 'обратиться': [1], 'подать': [9], '120': [26], 'впрочем': [9], 'авдокать': [7], 'понравиться': [0], 'психологический': [25], 'экспертиза': [7], 'осужденный': [5], 'километр': [22], 'север': [24], 'характер': [2], 'подвергаться': [7], 'Efe': [10], 'рекомендация': [2], 'указать': [6], 'бегство': [10], 'помилование': [9], 'формирование': [5], 'избрание': [0], 'госслужба': [3], 'следовать': [6], 'третий': [15], 'прыжок': [6], 'образ': [1], 'встречать': [12], 'дочь': [15], 'приемная': [18], 'ребенок': [32], 'Гом': [1], 'вместо': [2], 'вырабатывать': [12], 'способ': [13], 'свастика': [17], 'желать': [9], 'заявка': [12], 'беседовать': [0], 'дверь': [3], 'зритель': [5], 'прислушиваться': [8], 'россиянка': [10], 'мэтр': [9], 'воспроизводить': [2], 'прежний': [1], 'хрупкий': [9], 'поэтому': [4], 'Маша': [3], 'надо': [14], 'предстать': [0], 'голый': [1], 'примерно': [6], 'пяить': [8], 'северный': [17], 'нигерия': [18], 'причинять': [17], 'Кайрон': [15], 'Хенн-ли': [14], 'разводиться': [13], 'Маккой': [8], '1994': [6], 'оформление': [1], 'развод': [0], '66': [15], 'ликвидация': [9], 'общенациональный': [8], 'телевидение': [7], 'присуждать': [10], '900': [5], 'уменьшать': [0], '480': [3], 'ядовитый': [6], 'враждебность': [7], 'ненависть': [10], 'наручник': [7], 'сомнение': [3], 'расправа': [11], 'убитый': [14], 'беременный': [16], 'ожжеть': [19], 'заживо': [20], 'комсомолец': [9], 'председательствующий': [0], 'вызвать': [8], 'редактор': [23], 'экс-дипломат': [5], 'возмущать': [4], 'доверенность': [3], 'неожиданно': [3], 'замена': [2], 'одиннадцать': [7], 'эстрада': [9], 'постоянный': [12], 'круг': [16], 'близкий': [18], 'бесстыдный': [7], 'офицер': [1], 'коридор': [1], 'прострелить': [3], 'палец': [1], 'больница': [17], 'пакет': [19], 'законопроект': [6], 'льготный': [15], 'проезд': [0], 'таможня': [6], 'налоговый': [4], 'впоследствии': [12], 'внимание': [2], 'проконсультироваться': [15], 'высокопоставлать': [22], 'арестованный': [5], 'лекарство': [8], 'побоище': [1], 'четверть': [18], 'кремлевский': [12], 'дополнительно': [2], '6900': [1], 'аппарат': [3], '1,5': [6], 'рубль': [8], 'финансирование': [12], 'киргизия': [10], 'повторно': [6], 'Болтон': [27], 'уверять': [26], 'соавтор': [18], 'слышать': [2], 'песня': [13], 'Айсли': [11], 'убеждать': [0], 'василий': [2], 'Бальтасар': [4], 'необходимость': [1], 'граница': [10], 'Медиа': [4], 'певец': [11], 'стать': [5], 'искусство': [1], 'Мухамед': [3], 'прецедент': [8], 'обращать': [1], 'утешаться': [3], 'втрое': [3], 'долждать': [0], 'усмотрение': [9], 'срочный': [7], 'ночь': [17], 'мистер': [7], 'как-то': [5], 'расплакаться': [2], 'относиться': [1], 'снисходительно': [3], 'потом': [2], 'рано': [20], 'вдруг': [9], 'раздаться': [10], 'блеяние': [11], 'молодой': [17], 'спрятать': [17], 'одежда': [19], 'ягенка': [20], 'неудачный': [26], 'отсмеяться': [1], 'роженица': [5], 'середина': [6], 'Макво': [1], 'жаловаться': [1], 'грязь': [10], 'душа': [22, 24], 'свидетельство': [28], 'терять': [24], 'хозяйство': [20], 'переставать': [18], 'убирать': [17], 'запускать': [15], 'потеря': [10], 'совместный': [7], 'уйгура': [19], 'Мемет': [17], 'пособничество': [13], 'казнить': [9], 'показывать': [0], 'ноготь': [7], 'дисциплинарный': [12], 'публика': [5], 'прямо': [6], 'косвенно': [8], 'эксплуатировать': [10], 'уязвимый': [12], 'заключять': [6], 'мост': [17], 'спор': [26], 'пятилетний': [1], 'водитель': [7], 'предупреждение': [10], 'телефон': [24], 'вождение': [27], 'укрепление': [4], 'Похорелска': [1], 'подача': [4], 'относительно': [14], 'график': [0], 'обмен': [23], 'отделение': [6], 'текст': [4], 'послание': [3], 'адрес': [0], 'надлежащий': [11], 'заверенный': [13], 'доктор': [3], 'насчитывать': [5], 'признак': [8], 'стоить': [12], 'Ньюпортский': [0], 'королевский': [1], 'замечать': [4], 'психиатрический': [32], 'лечебница': [33], 'гражданка': [19], 'разлучить': [6], 'сменить': [0], 'отстранять': [0], 'отказать': [10], 'каникулы': [17], 'обследование': [11], 'проведений': [6], 'наконец': [22], 'Бэрри': [4], 'возможно': [16], 'обычно': [6], 'быстро': [13], 'томиться': [19], 'обидеться': [3], 'официант': [9], 'чипсы': [14], 'приказывать': [3], 'кафе': [9], 'много': [7], 'посетитель': [6], 'заказ': [0], 'обслужить': [6], 'разозлиться': [1], 'Кунцевский': [1], 'литература': [15], 'знакомиться': [17], '1999': [12], 'комплексный': [8], 'учение': [6], 'иегова': [3], 'господствовать': [7], 'конкурент': [16], 'неприязненно': [1], 'строить': [14], 'комиссовать': [5], 'травма': [19], 'головной': [10], 'Сергеева': [1], 'ранний': [14], 'стремиться': [9], 'любезно': [0], 'переносый': [7], 'изменяться': [1], 'избиение': [25], 'казанский': [2], 'баскетбол': [16], '56': [14], '52': [12], 'щит': [3], 'игровой': [3], 'площадка': [2], 'избить': [0], 'выполнение': [1], 'происхождение': [7], 'явствовать': [14], 'замгенпрокурор': [18], 'содействовать': [27], 'авиакомпания': [18], 'дискриминационный': [10], 'толстый': [6], 'узаконивать': [16], 'взимание': [18], 'двойной': [19], 'тариф': [20], 'авиаперевозка': [22], 'пассажир': [24], 'повышать': [27], 'допрашивать': [3], 'прибывать': [9], 'какой-то': [1], 'визит': [3], 'вежливость': [4], 'тишина': [8], 'компетенция': [1], 'предельный': [1], '70': [2], 'увеличивать': [6], 'гость': [22], 'начало': [11], 'благословение': [6], 'близкие': [4], 'убедительный': [8], 'Погорелска': [0], 'недостаточно': [4], 'компетентный': [5], 'вместе': [9], 'звезда': [16], 'wwf': [15], 'Rock': [12], 'Джонсон': [11], 'Sting': [8], 'возобновление': [10], '85-летний': [10], 'вначале': [4], 'резиденция': [5], 'мотивировывать': [3], 'неправомерный': [9], 'собрание': [19], 'общегражданский': [23], 'футболист': [5], 'обязываться': [4], 'боковой': [1], 'Ananova': [5], '-Мост': [11], 'Черемушкинский': [0], 'внеочередной': [18], 'Baltasar': [3], 'Garzon': [4], 'вставать': [0], 'Бориспольский': [0], 'порекомендовать': [1], 'отслеживать': [4], 'Riaa': [7], 'свежий': [8], 'релиз': [9], 'популярный': [10], 'музыка': [13], 'спрос': [17], 'пират': [19], 'блокировать': [22], 'попадание': [29], 'соперник': [6], 'часто': [5], 'норвежский': [0], 'играть': [3], 'Joel': [3], 'Lazarus': [4], 'смягчение': [17], 'жестокость': [24], 'пострадавшая': [26], 'Tiffany': [30], 'Eunick': [31], 'пропадать': [10], 'Бетти': [0], 'Betty': [4], 'Adams': [5], 'green': [6], 'мальчик': [10], 'посещать': [13], 'обед': [18], 'специально': [13], 'рекомендовать': [18], 'Alan': [3], 'Postman': [4], 'супруга': [20], 'изнасилование': [24]}\n"
          ],
          "name": "stdout"
        }
      ]
    },
    {
      "cell_type": "code",
      "metadata": {
        "colab": {
          "base_uri": "https://localhost:8080/"
        },
        "id": "8noqKyMhaHHU",
        "outputId": "d0cb5dd5-deb8-4b09-d653-e7e4cfb73d5a"
      },
      "source": [
        "result = {}\n",
        "for word, lis in diff.items():\n",
        "  #print(type(lis))\n",
        "  for w, l in Mat_oj.items():\n",
        "    if word == w:\n",
        "      d=0\n",
        "      for i in lis:\n",
        "        x = i-l\n",
        "        d += x\n",
        "        res = d/len(lis)-1\n",
        "        result[word] = res\n",
        "\n",
        "sorted_dict = {}\n",
        "sorted_keys = sorted(result, key=result.get)  # [1, 3, 2]\n",
        "\n",
        "for w in sorted_keys:\n",
        "    sorted_dict[w] = result[w]\n",
        "\n",
        "print(sorted_dict)\n",
        "#print(result)"
      ],
      "execution_count": 75,
      "outputs": [
        {
          "output_type": "stream",
          "text": [
            "{'бумага': -1.000000000000001, 'в': -1.0000000000000004, 'по': -1.0000000000000002, 'должен': -1.0000000000000002, 'право': -1.0000000000000002, 'но': -1.0, 'окружной': -1.0, 'решать': -1.0, 'дело': -1.0, 'польза': -1.0, 'веб': -1.0, '-издательствый': -1.0, 'она': -1.0, 'отвергать': -1.0, 'требование': -1.0, 'судебный': -1.0, 'порядок': -1.0, 'запрещать': -1.0, 'публикация': -1.0, 'секретный': -1.0, 'документ': -1.0, 'поскольку': -1.0, 'такой': -1.0, 'запрет': -1.0, 'нарушать': -1.0, 'бы': -1.0, 'свобода': -1.0, 'слово': -1.0, 'однако': -1.0, 'все': -1.0, 'же': -1.0, 'выносить': -1.0, 'постановление': -1.0, 'связывать': -1.0, 'с': -1.0, 'то': -1.0, 'что': -1.0, 'копирайт': -1.0, 'компания': -1.0, 'при': -1.0, 'это': -1.0, 'добавлять': -1.0, 'система': -1.0, 'только': -1.0, 'начинать': -1.0, 'подходить': -1.0, 'к': -1.0, 'сложный': -1.0, 'вопрос': -1.0, 'как': -1.0, 'и': -1.0, 'защита': -1.0, 'интеллектуальный': -1.0, 'собственность': -1.0, 'между': -1.0, 'заявлять': -1.0, 'эфир': -1.0, 'москва': -1.0, 'конституционный': -1.0, 'суд': -1.0, 'повторный': -1.0, 'перерегистрация': -1.0, 'иногородний': -1.0, 'не': -1.0, 'предусматривать': -1.0, 'закон': -1.0, 'отмечаться': -1.0, 'распространять': -1.0, 'впонедельник': -1.0, 'заявление': -1.0, 'прокуратура': -1.0, 'восточный': -1.0, 'округ': -1.0, 'на': -1.0, 'обвиняемый': -1.0, 'рассчитывать': -1.0, 'снисхождение': -1.0, 'сообщать': -1.0, 'Wired': -1.0, 'news': -1.0, 'подпереть': -1.0, 'рука': -1.0, 'подбородок': -1.0, 'молча': -1.0, 'выслушивать': -1.0, 'довод': -1.0, 'оба': -1.0, 'сторона': -1.0, 'задавать': -1.0, 'ни': -1.0, 'один': -1.0, 'наблюдатель': -1.0, 'полагать': -1.0, 'независимо': -1.0, 'от': -1.0, 'чей': -1.0, 'быть': -1.0, 'решение': -1.0, 'противный': -1.0, 'непременно': -1.0, 'обжаловать': -1.0, 'сообщение': -1.0, 'Прайм': -1.0, 'вторник': -1.0, 'поздно': -1.0, 'вечер': -1.0, 'челябинский': -1.0, 'областной': -1.0, 'арбитражный': -1.0, 'под': -1.0, 'председательство': -1.0, 'отклонять': -1.0, 'иск': -1.0, 'губернатор': -1.0, 'красноярский': -1.0, 'край': -1.0, 'о': -1.0, 'продление': -1.0, 'внешний': -1.0, 'управление': -1.0, 'оао': -1.0, 'Ачинский': -1.0, 'глиноземный': -1.0, 'комбинат': -1.0, '7,5': -1.0, 'год': -1.0, 'прекращать': -1.0, 'он': -1.0, 'банкротство': -1.0, 'адвокат': -1.0, 'призывать': -1.0, 'вовсе': -1.0, 'ограничиваться': -1.0, 'штраф': -1.0, 'считать': -1.0, 'проступок': -1.0, 'футбольный': -1.0, 'фанат': -1.0, 'заслуживать': -1.0, 'хотя': -1.0, 'условный': -1.0, 'наказание': -1.0, '1': -1.0, 'который': -1.0, 'мочь': -1.0, 'вступать': -1.0, 'сила': -1.0, 'если': -1.0, 'течение': -1.0, 'совершать': -1.0, 'какой-либо': -1.0, 'уголовно': -1.0, 'наказуемый': -1.0, 'пять': -1.0, 'день': -1.0, 'назад': -1.0, 'мадридский': -1.0, 'направлять': -1.0, 'указание': -1.0, 'противоположный': -1.0, 'содержание': -1.0, 'вскоре': -1.0, 'становиться': -1.0, 'известный': -1.0, 'получать': -1.0, 'свой': -1.0, 'английский': -1.0, 'коллега': -1.0, 'запрос': -1.0, '-': -1.0, 'или': -1.0, 'исполнительный': -1.0, 'власть': -1.0, 'они': -1.0, 'выполнять': -1.0, 'данный': -1.0, 'случай': -1.0, 'швейцарский': -1.0, 'делегация': -1.0, 'помимо': -1.0, 'недавно': -1.0, 'назначить': -1.0, 'новый': -1.0, 'генпрокурор': -1.0, 'сменять': -1.0, 'этот': -1.0, 'пост': -1.0, 'дель': -1.0, 'Понти': -1.0, 'входить': -1.0, 'женевский': -1.0, 'Каспер-Анзерма': -1.0, 'несколько': -1.0, 'высокопоставленный': -1.0, 'чиновник': -1.0, 'федеральный': -1.0, 'служба': -1.0, 'полиция': -1.0, 'давний': -1.0, 'пора': -1.0, 'заниматься': -1.0, 'счетам': -1.0, 'бывший': -1.0, 'премьер-министр': -1.0, 'признавать': -1.0, 'демонстрировать': -1.0, 'чрезвычайно': -1.0, 'глубокий': -1.0, 'познание': -1.0, 'компьютер': -1.0, 'доскональной': -1.0, 'понимание': -1.0, 'функционировать': -1.0, 'телефонный': -1.0, 'сеть': -1.0, 'точка': -1.0, 'зрение': -1.0, 'высказывать': -1.0, 'Дево': -1.0, 'расследование': -1.0, 'повод': -1.0, 'отмывание': -1.0, 'деньги': -1.0, 'через': -1.0, 'банк': -1.0, 'указывать': -1.0, 'вести': -1.0, 'строительный': -1.0, 'фирма': -1.0, 'Mabetex': -1.0, 'скандал': -1.0, 'кредитный': -1.0, 'карточка': -1.0, 'якобы': -1.0, 'принадлежать': -1.0, 'семья': -1.0, 'отношение': -1.0, 'казахский': -1.0, 'проводить': -1.0, 'просьба': -1.0, 'правительство': -1.0, 'подозревать': -1.0, 'страна': -1.0, 'обвинять': -1.0, 'коррупция': -1.0, 'хранить': -1.0, 'счет': -1.0, 'имя': -1.0, 'выненосить': -1.0, 'работать': -1.0, 'орган': -1.0, 'июнь': -1.0, '1998': -1.0, 'шотландский': -1.0, 'город': -1.0, 'Гринок': -1.0, 'оправдательный': -1.0, 'приговор': -1.0, 'три': -1.0, 'женщина': -1.0, '-пацифистка': -1.0, 'совершить': -1.0, 'выразиться': -1.0, 'русский': -1.0, 'би-би-си': -1.0, 'акт': -1.0, 'вандализм': -1.0, 'база': -1.0, 'атомный': -1.0, 'подводный': -1.0, 'лодка': -1.0, 'теперь': -1.0, 'выпускать': -1.0, 'постановить': -1.0, 'вправе': -1.0, 'пытаться': -1.0, 'разоружить': -1.0, 'Trident': -1.0, 'тот': -1.0, 'являться': -1.0, 'часть': -1.0, 'британский': -1.0, 'ядерный': -1.0, 'программа': -1.0, 'незаконный': -1.0, 'международный': -1.0, 'вызывать': -1.0, 'большой': -1.0, 'резонанс': -1.0, 'время': -1.0, 'намерен': -1.0, 'пересматривать': -1.0, 'я': -1.0, 'просто': -1.0, 'понимать': -1.0, 'общество': -1.0, 'негативный': -1.0, 'реакция': -1.0, 'участвовать': -1.0, 'работа': -1.0, 'палата': -1.0, 'сохранить': -1.0, 'лорд': -1.0, 'титул': -1.0, 'присваивать': -1.0, 'монарх': -1.0, 'знак': -1.0, 'признание': -1.0, 'личный': -1.0, 'заслуга': -1.0, 'предложение': -1.0, 'а': -1.0, 'также': -1.0, 'епископ': -1.0, 'высший': -1.0, 'традиционно': -1.0, 'член': -1.0, 'верхний': -1.0, 'собеседование': -1.0, 'присутствовать': -1.0, 'юрист': -1.0, 'представитель': -1.0, 'обвинение': -1.0, 'директор': -1.0, 'издательство': -1.0, 'Маргиний': -1.0, 'представлять': -1.0, 'мнтерес': -1.0, 'довереность': -1.0, 'отвечик': -1.0, 'помощник': -1.0, 'удовлетворять': -1.0, 'пятеро': -1.0, 'секретарь': -1.0, 'ранение': -1.0, '00': -1.0, 'московский': -1.0, 'здание': -1.0, 'городской': -1.0, 'заходить': -1.0, 'неизвестный': -1.0, 'мужчина': -1.0, 'бросать': -1.0, 'взрывпакть': -1.0, 'кабинет': -1.0, 'затем': -1.0, 'два': -1.0, 'граната': -1.0, 'результат': -1.0, 'взрыв': -1.0, 'страдать': -1.0, 'Кужанкуй': -1.0, 'исключать': -1.0, 'месть': -1.0, 'музей': -1.0, 'предписание': -1.0, 'понедельник': -1.0, 'нью-йоркский': -1.0, 'мэр': -1.0, 'администрация': -1.0, 'предпринимать': -1.0, 'против': -1.0, 'шаг': -1.0, 'чтобы': -1.0, 'успокаивать': -1.0, 'общественный': -1.0, 'мнение': -1.0, 'авторитетный': -1.0, 'весь': -1.0, 'ветвь': -1.0, 'израильский': -1.0, 'руководитель': -1.0, 'спецслужба': -1.0, 'министр': -1.0, 'верховный': -1.0, 'юридический': -1.0, 'советник': -1.0, 'приходиться': -1.0, 'делать': -1.0, 'ряд': -1.0, 'после': -1.0, 'лично': -1.0, 'ознакомляться': -1.0, 'легкий': -1.0, 'поверить': -1.0, 'заверение': -1.0, 'чем': -1.0, 'допускать': -1.0, 'существование': -1.0, 'общий': -1.0, 'заговор': -1.0, 'выгораживание': -1.0, 'равный': -1.0, 'замешать': -1.0, 'генеральный': -1.0, 'выплата': -1.0, 'компенсация': -1.0, 'утвердить': -1.0, 'агентство': -1.0, 'ясно': -1.0, 'использовать': -1.0, 'огромный': -1.0, 'мощь': -1.0, 'колоссальный': -1.0, 'доход': -1.0, 'для': -1.0, 'удушение': -1.0, 'любой': -1.0, 'появляться': -1.0, 'рынок': -1.0, 'продукт': -1.0, 'конкурируть': -1.0, 'из': -1.0, 'основной': -1.0, 'сказать': -1.0, 'заключение': -1.0, 'оглашение': -1.0, 'падать': -1.0, 'до': -1.0, '88,75': -1.0, 'доллар': -1.0, 'требовать': -1.0, 'микрософт': -1.0, 'расформирование': -1.0, 'корпорация': -1.0, 'более': -1.0, 'мелкий': -1.0, 'конкурировать': -1.0, 'друг': -1.0, 'применять': -1.0, 'мягкий': -1.0, 'препятствовать': -1.0, 'развитие': -1.0, 'технология': -1.0, 'угроза': -1.0, 'операционный': -1.0, 'windows': -1.0, 'предполагаться': -1.0, 'сам': -1.0, 'задерживать': -1.0, 'заседание': -1.0, 'допустить': -1.0, 'коллегия': -1.0, 'рассматривать': -1.0, 'суть': -1.0, 'выдвигать': -1.0, 'лишь': -1.0, 'процессуальный': -1.0, 'каждый': -1.0, 'реализация': -1.0, 'прежде': -1.0, 'одобрение': -1.0, 'возглавлять': -1.0, 'процесс': -1.0, 'антимонопольный': -1.0, 'разочаровывать': -1.0, 'еще': -1.0, 'уверенный': -1.0, 'американский': -1.0, 'юриспруденция': -1.0, 'конец': -1.0, 'осознавать': -1.0, 'инновация': -1.0, 'поведение': -1.0, 'абсолютно': -1.0, 'честный': -1.0, 'приносить': -1.0, 'миллион': -1.0, 'потребитель': -1.0, 'долгий': -1.0, 'путь': -1.0, 'вероятно': -1.0, 'действительно': -1.0, 'предстоять': -1.0, 'подавать': -1.0, 'апелляция': -1.0, 'окончательный': -1.0, 'риск': -1.0, 'затягиваться': -1.0, 'четыре': -1.0, 'месяц': -1.0, 'тюремный': -1.0, 'поначалу': -1.0, 'отменять': -1.0, 'гласить': -1.0, 'хранение': -1.0, 'жесткий': -1.0, 'диск': -1.0, 'распечатка': -1.0, 'порнографический': -1.0, 'материал': -1.0, 'деяние': -1.0, 'правда': -1.0, 'объявлять': -1.0, 'ранее': -1.0, 'принцип': -1.0, 'неверный': -1.0, 'чрезмерный': -1.0, 'сокращать': -1.0, '12': -1.0, 'отстранение': -1.0, 'преподавание': -1.0, 'отказываться': -1.0, 'ходатайство': -1.0, 'усмотреть': -1.0, 'действие': -1.0, 'ответчик': -1.0, 'недобросовестный': -1.0, 'пользование': -1.0, 'затягивание': -1.0, 'пятница': -1.0, '19': -1.0, 'ноябрь': -1.0, 'итальянский': -1.0, 'добиваться': -1.0, 'привлечение': -1.0, 'кардинал': -1.0, 'Микель': -1.0, 'наиболее': -1.0, 'влиятельный': -1.0, 'иеррарх': -1.0, 'преступный': -1.0, 'связь': -1.0, 'соучастие': -1.0, 'мошенничество': -1.0, 'ссуд': -1.0, 'официальный': -1.0, 'Руссо': -1.0, 'фигурировать': -1.0, '20': -1.0, 'человек': -1.0, 'основание': -1.0, 'подслушанный': -1.0, 'разговор': -1.0, 'неаполитанский': -1.0, 'епархия': -1.0, 'средства': -1.0, 'переходить': -1.0, 'родственник': -1.0, 'житель': -1.0, 'первый': -1.0, 'крупный': -1.0, 'серия': -1.0, 'неизбежный': -1.0, 'претензия': -1.0, 'мотив': -1.0, 'засекречивание': -1.0, 'подлежать': -1.0, 'лицо': -1.0, 'занимать': -1.0, 'ключевой': -1.0, 'государство': -1.0, 'президент': -1.0, 'парламент': -1.0, 'депутат': -1.0, 'местный': -1.0, 'совет': -1.0, 'прокурор': -1.0, 'кандидат': -1.0, 'должность': -1.0, 'ссылаться': -1.0, 'замечание': -1.0, 'комментировать': -1.0, 'цена': -1.0, 'отмечать': -1.0, 'нет': -1.0, 'назначение': -1.0, '49': -1.0, 'прибыль': -1.0, 'защищать': -1.0, 'интерес': -1.0, 'истец': -1.0, 'вышеперечисленный': -1.0, 'базироваться': -1.0, 'оглашать': -1.0, '5': -1.0, 'юстиция': -1.0, 'посредничество': -1.0, 'договориться': -1.0, 'внесудебный': -1.0, 'урегулирование': -1.0, 'разногласие': -1.0, 'назначать': -1.0, 'февраль': -1.0, '2000': -1.0, 'вообще': -1.0, 'вне': -1.0, 'никакой': -1.0, 'вердикт': -1.0, 'кроме': -1.0, 'предварительный': -1.0, 'оставаться': -1.0, 'монопольный': -1.0, 'положение': -1.0, 'пользоваться': -1.0, 'вред': -1.0, 'тезис': -1.0, 'нельзя': -1.0, 'можно': -1.0, 'вывод': -1.0, 'годный': -1.0, 'использование': -1.0, 'разбор': -1.0, 'другой': -1.0, 'касаться': -1.0, 'придерживаться': -1.0, 'иной': -1.0, 'монополия': -1.0, 'ход': -1.0, 'разбирательство': -1.0, 'зависимость': -1.0, 'неть': -1.0, 'обеспокоить': -1.0, 'обстоятельство': -1.0, 'сей': -1.0, 'единый': -1.0, 'фронт': -1.0, 'выступать': -1.0, 'намечаться': -1.0, 'раскол': -1.0, 'new': -1.0, 'york': -1.0, 'post': -1.0, 'согласно': -1.0, 'стенограмма': -1.0, 'опубликовывать': -1.0, 'четверг': -1.0, 'во': -1.0, 'встреча': -1.0, 'офис': -1.0, 'беспокойство': -1.0, 'апелляционный': -1.0, 'посредник': -1.0, 'частично': -1.0, 'объяснять': -1.0, 'опасение': -1.0, 'штат': -1.0, 'двигаться': -1.0, 'параллельный': -1.0, 'курс': -1.0, 'первоначально': -1.0, 'вынести': -1.0, '22': -1.0, 'председатель': -1.0, 'откладывать': -1.0, '24': -1.0, 'вот': -1.0, 'опять': -1.0, 'отсрочка': -1.0, 'Присутствовать': -1.0, 'обоснованный': -1.0, 'жалоба': -1.0, 'заявитель': -1.0, 'находить': -1.0, 'таковой': -1.0, 'буквальный': -1.0, 'цитирование': -1.0, 'ответственность': -1.0, 'лежать': -1.0, 'рассмотрение': -1.0, 'продолжительный': -1.0, 'встречаться': -1.0, 'заинтересованный': -1.0, 'напоминать': -1.0, 'никогда': -1.0, 'отличаться': -1.0, 'предсказуемость': -1.0, 'порой': -1.0, 'соответствовать': -1.0, 'существовать': -1.0, 'традиция': -1.0, 'всегда': -1.0, 'логичный': -1.0, 'изящный': -1.0, 'даже': -1.0, 'телеведущий': -1.0, 'явиться': -1.0, 'журналист': -1.0, 'председательствовать': -1.0, 'расписываться': -1.0, 'повестка': -1.0, 'явка': -1.0, 'ли': -1.0, 'приступать': -1.0, 'завтра': -1.0, 'утро': -1.0, 'существо': -1.0, '2': -1.0, 'декабрь': -1.0, 'состояться': -1.0, 'роль': -1.0, 'противник': -1.0, 'рамка': -1.0, 'CNet': -1.0, 'седьмой': -1.0, 'переговоры': -1.0, 'трижды': -1.0, 'оканчиваться': -1.0, 'ничто': -1.0, 'раунд': -1.0, '6': -1.0, 'письменный': -1.0, 'устный': -1.0, 'утверждение': -1.0, 'за': -1.0, 'принятие': -1.0, 'предоставлять': -1.0, 'материальный': -1.0, 'вознаграждение': -1.0, 'соответствующий': -1.0, 'обеспечение': -1.0, 'вице-премьер': -1.0, 'российский': -1.0, 'проект': -1.0, 'этап': -1.0, 'состоять': -1.0, 'иллюстрировать': -1.0, 'нарушение': -1.0, 'законодательство': -1.0, 'обосновывать': -1.0, 'значимость': -1.0, 'факт': -1.0, 'отражать': -1.0, 'обнародовать': -1.0, 'пункт': -1.0, 'у': -1.0, 'сильный': -1.0, 'поддержка': -1.0, 'со': -1.0, 'второй': -1.0, 'гораздо': -1.0, 'менее': -1.0, 'ясный': -1.0, 'четко': -1.0, 'сформулировать': -1.0, 'серьезно': -1.0, 'влиять': -1.0, 'начинаться': -1.0, 'прошлый': -1.0, 'неделя': -1.0, 'вынесение': -1.0, 'слушание': -1.0, 'проходить': -1.0, 'среда': -1.0, '8': -1.0, 'присутствие': -1.0, 'высокий': -1.0, 'ранг': -1.0, 'позволять': -1.0, 'широкий': -1.0, 'спектр': -1.0, 'статья': -1.0, 'вслед': -1.0, 'прения': -1.0, 'поправка': -1.0, 'специальный': -1.0, 'юрисдикция': -1.0, 'совершение': -1.0, 'преступление': -1.0, 'ведение': -1.0, 'война': -1.0, 'похищение': -1.0, 'самолет': -1.0, '30': -1.0, 'увенчаться': -1.0, 'успех': -1.0, 'очередь': -1.0, 'проживать': -1.0, 'лидер': -1.0, 'организация': -1.0, 'аль': -1.0, 'шариатский': -1.0, 'шейх': -1.0, 'бин': -1.0, 'мусульманин': -1.0, 'террор': -1.0, 'вооруженный': -1.0, 'россия': -1.0, 'посольство': -1.0, 'рубеж': -1.0, 'военный': -1.0, 'аэродром': -1.0, 'объект': -1.0, 'инфраструктура': -1.0, 'учитывать': -1.0, 'reuters': -1.0, 'возобновить': -1.0, 'вряд': -1.0, 'принимать': -1.0, 'micro': -1.0, 'Leader': -1.0, 'business': -1.0, 'убежденный': -1.0, 'надеяться': -1.0, 'инстанция': -1.0, 'сегодняшний': -1.0, 'вернуться': -1.0, 'камера': -1.0, 'соглашаться': -1.0, 'краевой': -1.0, 'избирательный': -1.0, 'комиссия': -1.0, 'присяжный': -1.0, 'идти': -1.0, 'речь': -1.0, 'выезжать': -1.0, 'предел': -1.0, 'цель': -1.0, 'секс': -1.0, 'несовершеннолетний': -1.0, 'соблазнять': -1.0, 'несовершеннолетняя': -1.0, 'содержаться': -1.0, 'частный': -1.0, 'определение': -1.0, 'отказ': -1.0, 'заключительный': -1.0, 'трудный': -1.0, 'тянущться': -1.0, 'сражение': -1.0, 'термин': -1.0, 'playboy': -1.0, 'продвигать': -1.0, 'веб-сайт': -1.0, 'дата': -1.0, 'появление': -1.0, 'перед': -1.0, 'трибунал': -1.0, 'пока': -1.0, 'заместитель': -1.0, 'начальник': -1.0, 'государственный': -1.0, 'правовой': -1.0, 'мэрия': -1.0, 'постоянно': -1.0, 'незаконность': -1.0, 'региональный': -1.0, 'милиция': -1.0, 'без': -1.0, 'консультация': -1.0, 'глава': -1.0, 'субъект': -1.0, '10': -1.0, 'кассационный': -1.0, 'Л': -1.0, 'наносить': -1.0, 'ущерб': -1.0, 'художник': -1.0, 'графический': -1.0, 'дизайнер': -1.0, 'фотограф': -1.0, 'помещать': -1.0, 'com': -1.0, 'стоять': -1.0, 'ссылка': -1.0, 'оригинальный': -1.0, 'страница': -1.0, 'позаимствовать': -1.0, 'изображение': -1.0, 'ситуация': -1.0, 'автор': -1.0, 'большинство': -1.0, 'групповой': -1.0, 'предъявлять': -1.0, 'последний': -1.0, 'когда': -1.0, 'монополист': -1.0, 'действовать': -1.0, 'настоящий': -1.0, 'параллельно': -1.0, 'продолжаться': -1.0, 'уже': -1.0, 'отослать': -1.0, 'вариант': -1.0, 'январь': -1.0, 'виновный': -1.0, 'злоупотребление': -1.0, 'лавина': -1.0, 'мы': -1.0, 'наблюдать': -1.0, 'сейчас': -1.0, 'казаться': -1.0, 'ручеек': -1.0, 'сравнение': -1.0, 'приходить': -1.0, 'во-первых': -1.0, 'выгода': -1.0, 'занятие': -1.0, 'себя': -1.0, 'пиратский': -1.0, 'файл': -1.0, 'ограничивать': -1.0, 'сайт': -1.0, 'руководство': -1.0, 'летчик': -1.0, 'участвоваать': -1.0, 'бомбардировка': -1.0, 'dvd': -1.0, 'Copyright': -1.0, 'Control': -1.0, 'Association': -1.0, 'хакер': -1.0, 'программный': -1.0, 'взлом': -1.0, 'digital': -1.0, 'video': -1.0, 'disc': -1.0, 'накладывать': -1.0, 'временный': -1.0, 'распространение': -1.0, 'associated': -1.0, 'press': -1.0, '29': -1.0, 'потребовать': -1.0, 'публиковать': -1.0, 'называться': -1.0, 'the': -1.0, 'Brethren': -1.0, 'герой': -1.0, 'трое': -1.0, 'отбывать': -1.0, 'срок': -1.0, 'колония': -1.0, 'режим': -1.0, 'решетка': -1.0, 'делить': -1.0, 'свободный': -1.0, 'изучение': -1.0, 'солагерник': -1.0, 'серьезный': -1.0, 'эксперт': -1.0, 'соглашение': -1.0, 'флотский': -1.0, 'контрразведка': -1.0, 'презумпция': -1.0, 'невиновность': -1.0, 'Печерский': -1.0, 'районный': -1.0, 'возбуждать': -1.0, 'уголовный': -1.0, 'неправомочный': -1.0, 'спикер': -1.0, 'вице-спикер': -1.0, 'рад': -1.0, 'александр': -1.0, 'частность': -1.0, '21': -1.0, 'руководить': -1.0, 'систематически': -1.0, 'чинить': -1.0, 'препятствие': -1.0, 'народный': -1.0, 'избранник': -1.0, 'число': -1.0, 'попадать': -1.0, 'рабочий': -1.0, 'место': -1.0, 'сессионный': -1.0, 'зал': -1.0, 'подосадовать': -1.0, 'брать': -1.0, 'переложить': -1.0, 'насамарский': -1.0, 'впервые': -1.0, 'освобождать': -1.0, 'республика': -1.0, 'новость': -1.0, 'полномочие': -1.0, 'лишать': -1.0, 'анатолий': -1.0, 'чилийский': -1.0, 'диктатор': -1.0, 'Аугусто': -1.0, 'выявлять': -1.0, 'дисфункция': -1.0, 'мозг': -1.0, 'отвечать': -1.0, 'смысл': -1.0, 'Мадридский': -1.0, 'инициатор': -1.0, 'экс-диктатор': -1.0, 'медицинский': -1.0, 'оздоровий': -1.0, 'министерство': -1.0, 'иностранный': -1.0, 'отправлять': -1.0, 'газета': -1.0, 'выдача': -1.0, 'ордер': -1.0, 'арест': -1.0, 'брайан': -1.0, 'распорядиться': -1.0, 'досье': -1.0, 'видеть': -1.0, 'подавлять': -1.0, 'переизбирать': -1.0, 'нынешний': -1.0, 'голосовать': -1.0, '18': -1.0, 'передавать': -1.0, 'тогда': -1.0, 'закрывать': -1.0, 'оно': -1.0, 'выходить': -1.0, '31': -1.0, 'гарантия': -1.0, 'прекратить': -1.0, 'исполнение': -1.0, 'обязанность': -1.0, '7': -1.0, 'деятельность': -1.0, 'предоставление': -1.0, 'социальный': -1.0, 'незаконно': -1.0, 'устанавливать': -1.0, 'привилегия': -1.0, 'кучка': -1.0, 'должностной': -1.0, 'оказываться': -1.0, 'отставка': -1.0, 'чадо': -1.0, 'домочадец': -1.0, 'собственный': -1.0, 'квартира': -1.0, 'убивать': -1.0, 'выясняться': -1.0, 'убийство': -1.0, 'происходить': -1.0, 'около': -1.0, 'исчезновение': -1.0, 'поступать': -1.0, 'отпуск': -1.0, 'гражданский': -1.0, 'следствие': -1.0, 'профессиональный': -1.0, 'норма': -1.0, 'обязанный': -1.0, '65-й': -1.0, 'минута': -1.0, 'забивать': -1.0, 'гол': -1.0, 'из-за': -1.0, 'офсайд': -1.0, 'называть': -1.0, 'исторический': -1.0, 'так': -1.0, 'давно': -1.0, 'табачный': -1.0, 'изделие': -1.0, 'опасный': -1.0, 'здоровье': -1.0, 'Рэй': -1.0, 'независимый': -1.0, 'октябрь': -1.0, 'тверской': -1.0, 'лучший': -1.0, 'современность': -1.0, 'итальянец': -1.0, 'обслуживать': -1.0, 'ответный': -1.0, 'полуфинальный': -1.0, 'матч': -1.0, 'турецкий': -1.0, 'мексиканский': -1.0, 'высылать': -1.0, 'главарь': -1.0, 'мафия': -1.0, 'разыскивать': -1.0, '1990': -1.0, 'подготовка': -1.0, 'покушение': -1.0, 'кульминация': -1.0, 'конфликт': -1.0, 'обращение': -1.0, 'квалификационный': -1.0, 'представление': -1.0, 'прекращение': -1.0, 'судно': -1.0, 'приморский': -1.0, 'складываться': -1.0, 'вынужденный': -1.0, 'пойти': -1.0, 'крайний': -1.0, 'мера': -1.0, 'голодовка': -1.0, 'протест': -1.0, 'политика': -1.0, 'останавливать': -1.0, 'таможенник': -1.0, 'обращаться': -1.0, 'разъяснение': -1.0, 'поддерживать': -1.0, 'позиция': -1.0, 'май': -1.0, 'соответствие': -1.0, 'церемония': -1.0, 'инаугурация': -1.0, 'информация': -1.0, 'возможный': -1.0, 'раздел': -1.0, 'акция': -1.0, 'стремительно': -1.0, 'bbc': -1.0, 'страсть': -1.0, 'накалиться': -1.0, 'удалить': -1.0, 'скамейка': -1.0, 'запасной': -1.0, 'участие': -1.0, 'игра': -1.0, 'латать': -1.0, 'слишком': -1.0, 'шумно': -1.0, 'выражать': -1.0, 'недовольство': -1.0, 'ближайший': -1.0, 'римский': -1.0, 'Санджованниприступит': -1.0, 'наследник': -1.0, 'Щукинадокументов': -1.0, 'заключать': -1.0, 'Mondadori': -1.0, 'Эрмитаж': -1.0, 'удаваться': -1.0, 'сша': -1.0, 'настаивать': -1.0, 'рассматриваться': -1.0, 'сразу': -1.0, 'миновать': -1.0, 'промежуточный': -1.0, 'разделение': -1.0, 'снятие': -1.0, 'ограничение': -1.0, 'вступить': -1.0, 'основывать': -1.0, 'покупатель': -1.0, 'производитель': -1.0, 'приобретать': -1.0, 'непосредственно': -1.0, 'политический': -1.0, 'интрига': -1.0, 'организовывать': -1.0, 'опасность': -1.0, 'помеха': -1.0, 'план': -1.0, 'построение': -1.0, 'самый': -1.0, 'возврат': -1.0, 'тоталитарный': -1.0, 'прошлое': -1.0, 'ГУЛАГ': -1.0, 'диктатура': -1.0, 'курировавший': -1.0, 'французский': -1.0, 'аукцион': -1.0, 'Yahoo': -1.0, 'оскорблять': -1.0, 'коллективный': -1.0, 'память': -1.0, 'обязать': -1.0, 'июль': -1.0, 'отчет': -1.0, 'предотвращение': -1.0, 'француз': -1.0, 'несоблюдение': -1.0, 'некоторый': -1.0, 'формальность': -1.0, 'переоформление': -1.0, '3': -1.0, 'ведущий': -1.0, 'основываться': -1.0, 'изменять': -1.0, 'обычный': -1.0, 'одновременно': -1.0, 'приостановить': -1.0, 'вводить': -1.0, 'возвращение': -1.0, 'рассмотреть': -1.0, 'просить': -1.0, 'разделять': -1.0, 'полномочияпредседатель': -1.0, 'секретариат': -1.0, 'отстранить': -1.0, 'поступок': -1.0, 'позорять': -1.0, 'честь': -1.0, 'достоинство': -1.0, 'вице-губернатор': -1.0, 'Отстраненный': -1.0, 'приезжать': -1.0, 'справедливость': -1.0, 'регламент': -1.0, 'отсутствие': -1.0, 'уважительный': -1.0, 'причина': -1.0, 'пояснять': -1.0, '14': -1.0, 'статус': -1.0, 'конфликтовать': -1.0, 'прикрывать': -1.0, 'Саварес': -1.0, 'чемпион': -1.0, 'мир': -1.0, 'тяжелый': -1.0, 'вес': -1.0, 'оттащить': -1.0, 'ринг': -1.0, 'боксер': -1.0, 'настоятель': -1.0, 'Покровский': -1.0, 'приход': -1.0, 'целое': -1.0, 'беспочвять': -1.0, 'долгосрочный': -1.0, 'аренда': -1.0, 'парковый': -1.0, 'территория': -1.0, 'издавать': -1.0, 'владелец': -1.0, 'GeoCities': -1.0, 'требуемый': -1.0, 'персональный': -1.0, 'данные': -1.0, 'аноним': -1.0, 'третейский': -1.0, 'Мэрили': -1.0, 'создание': -1.0, 'фан-клуб': -1.0, 'намереваться': -1.0, 'продавать': -1.0, 'держатель': -1.0, 'торговый': -1.0, 'марка': -1.0, 'приговаривать': -1.0, 'тюрьма': -1.0, 'дипломатический': -1.0, 'миссия': -1.0, 'разморожать': -1.0, 'парижский': -1.0, 'правосудие': -1.0, 'Альдижер': -1.0, 'Noga': -1.0, 'возмещать': -1.0, 'диппредставительство': -1.0, 'затрата': -1.0, 'размер': -1.0, 'тысяча': -1.0, 'франк': -1.0, 'сотрудник': -1.0, 'Go': -1.0, 'network': -1.0, 'разрабатывать': -1.0, 'бюро': -1.0, 'очень': -1.0, 'эффективный': -1.0, 'бороться': -1.0, 'сексуальный': -1.0, 'преступность': -1.0, 'письмо': -1.0, 'разоблачать': -1.0, 'тайный': -1.0, 'сотрудничество': -1.0, 'поручать': -1.0, 'специалист': -1.0, 'подробно': -1.0, 'изучать': -1.0, 'технический': -1.0, 'антифашист': -1.0, 'встречный': -1.0, 'аргумент': -1.0, 'оспаривать': -1.0, 'регулировать': -1.0, 'постановлять': -1.0, 'игнорировать': -1.0, 'компьютерный': -1.0, 'код': -1.0, 'настолько': -1.0, 'форма': -1.0, 'самовыражение': -1.0, 'насколько': -1.0, 'выражение': -1.0, 'взгляд': -1.0, 'ставить': -1.0, 'приводить': -1.0, 'прямой': -1.0, 'автоматический': -1.0, 'загрузка': -1.0, 'Decss': -1.0, 'функционально': -1.0, 'пользователь': -1.0, 'хакерский': -1.0, 'служить': -1.0, 'millennium': -1.0, 'Act': -1.0, 'нелегальный': -1.0, 'неверно': -1.0, 'интерпретировать': -1.0, 'грозить': -1.0, 'уничтожать': -1.0, 'преимущество': -1.0, 'каков': -1.0, 'вероятность': -1.0, 'преступник': -1.0, 'оставлять': -1.0, 'досрочный': -1.0, 'лишение': -1.0, 'судейский': -1.0, 'квалификация': -1.0, 'свидетель': -1.0, 'предприниматель': -1.0, 'муж': -1.0, 'Локтионовый': -1.0, 'взятка': -1.0, 'гласящий': -1.0, 'запись': -1.0, 'согласие': -1.0, 'собеседник': -1.0, 'применимый': -1.0, 'электронный': -1.0, 'почта': -1.0, 'чат': -1.0, 'приватный': -1.0, 'беседа': -1.0, 'помощь': -1.0, 'записывать': -1.0, 'метр': -1.0, 'устройство': -1.0, 'автоматически': -1.0, 'вполне': -1.0, 'разумно': -1.0, 'учет': -1.0, 'ежедневно': -1.0, 'количество': -1.0, 'странно': -1.0, 'разрешение': -1.0, 'сохранение': -1.0, 'испанский': -1.0, 'Мид': -1.0, 'говорить': -1.0, 'обоснование': -1.0, 'осматривать': -1.0, 'врач': -1.0, 'версия': -1.0, 'правоохранительный': -1.0, 'теракт': -1.0, 'оказывать': -1.0, 'давление': -1.0, 'временно': -1.0, 'взламывать': -1.0, 'цифровой': -1.0, 'завершаться': -1.0, 'хоть': -1.0, 'настраивать': -1.0, 'правозащитный': -1.0, 'Electronic': -1.0, 'Frontier': -1.0, 'Foundation': -1.0, 'обещать': -1.0, 'похоже': -1.0, 'смехотворность': -1.0, 'желание': -1.0, 'распоряжение': -1.0, 'вещественный': -1.0, 'доказательство': -1.0, 'футболка': -1.0, 'спина': -1.0, 'сторонник': -1.0, 'идеология': -1.0, 'open-source': -1.0, 'раздавать': -1.0, 'выдавать': -1.0, 'хищение': -1.0, 'госбюджет': -1.0, 'продажа': -1.0, 'нефть': -1.0, 'le': -1.0, 'Monde': -1.0, 'разрешать': -1.0, 'удалять': -1.0, 'матка': -1.0, '28-летний': -1.0, 'Telegraph': -1.0, 'отказывать': -1.0, 'обнаруживать': -1.0, 'осуждать': -1.0, 'восемь': -1.0, 'раз': -1.0, 'злоупотребеление': -1.0, 'наркотик': -1.0, '1976': -1.0, 'спустя': -1.0, 'выгонять': -1.0, 'поле': -1.0, 'бить': -1.0, 'сбивать': -1.0, 'жалеть': -1.0, 'желтый': -1.0, 'штрафной': -1.0, 'вновь': -1.0, 'хладнокровно': -1.0, 'реализовать': -1.0, 'суровыйприговор': -1.0, 'когда-либо': -1.0, 'Мтбя': -1.0, 'генерал': -1.0, 'нести': -1.0, 'личной': -1.0, 'командир': -1.0, 'человечность': -1.0, 'нарушенияЖеневский': -1.0, 'конвенция': -1.0, 'попрание': -1.0, 'обычай': -1.0, 'двое': -1.0, 'пиночет': -1.0, 'санкционирование': -1.0, 'пытка': -1.0, 'правление': -1.0, 'нация': -1.0, 'пообещать': -1.0, 'свалить': -1.0, 'бомбардир': -1.0, 'команда': -1.0, 'пенальти': -1.0, 'столичный': -1.0, 'прошение': -1.0, 'семь': -1.0, 'парламентский': -1.0, 'неприкосновенность': -1.0, 'корреспондент': -1.0, 'Сантьяго': -1.0, 'над': -1.0, 'процедура': -1.0, 'главный': -1.0, 'задача': -1.0, 'чешский': -1.0, 'филиал': -1.0, 'борьба': -1.0, 'грязный': -1.0, 'протяжение': -1.0, 'предлагать': -1.0, 'Micorsoft': -1.0, 'владеть': -1.0, 'давать': -1.0, 'низший': -1.0, 'пожизненный': -1.0, 'ускорять': -1.0, 'подготавливать': -1.0, 'изменение': -1.0, 'пресечение': -1.0, '175': -1.0, '448': -1.0, 'свисток': -1.0, 'молчать': -1.0, 'пара': -1.0, 'точный': -1.0, 'удар': -1.0, 'надежда': -1.0, 'недавний': -1.0, 'меньший': -1.0, 'разный': -1.0, 'структура': -1.0, 'сценарий': -1.0, 'событие': -1.0, 'экстремальный': -1.0, 'проблема': -1.0, 'намек': -1.0, 'Пфильцер': -1.0, '1989': -1.0, 'надзирать': -1.0, 'Хоуля': -1.0, 'проявлять': -1.0, 'малейший': -1.0, 'гибкость': -1.0, 'трактование': -1.0, 'поднадзорному': -1.0, 'область': -1.0, 'ознакомлять': -1.0, 'поступить': -1.0, 'обсуждать': -1.0, 'активист': -1.0, 'антитабачный': -1.0, 'кампания': -1.0, 'расти': -1.0, 'расхождение': -1.0, 'берег': -1.0, 'вы': -1.0, 'достаточно': -1.0, 'глупый': -1.0, 'курить': -1.0, 'рак': -1.0, 'легкое': -1.0, 'изъятие': -1.0, 'лицензия': -1.0, 'оружие': -1.0, 'детективный': -1.0, 'охранный': -1.0, 'инцидент': -1.0, 'повздорить': -1.0, 'подраться': -1.0, 'возникать': -1.0, 'словесный': -1.0, 'перепалка': -1.0, 'умудряться': -1.0, 'железный': -1.0, 'ударять': -1.0, 'вносить': -1.0, 'включение': -1.0, 'состав': -1.0, 'создавать': -1.0, 'именно': -1.0, 'сессия': -1.0, 'кандидатура': -1.0, '117-й': -1.0, 'чемпионат': -1.0, 'футбол': -1.0, 'сборная': -1.0, 'ворота': -1.0, 'португалец': -1.0, 'неумолимый': -1.0, 'безупречный': -1.0, 'столь': -1.0, 'дикий': -1.0, 'проиграть': -1.0, 'полуфинал': -1.0, 'Риадя': -1.0, 'впредвзятости': -1.0, 'выбегать': -1.0, 'корт': -1.0, 'мать': -1.0, 'рождать': -1.0, 'момент': -1.0, 'крикнуть': -1.0, 'balls': -1.0, 'please': -1.0, 'констатировать': -1.0, 'оплата': -1.0, 'агитационный': -1.0, 'наличные': -1.0, 'выборы': -1.0, 'подсудимый': -1.0, 'циничный': -1.0, 'суверенитет': -1.0, 'снимать': -1.0, 'признать': -1.0, 'правило': -1.0, 'предвыборный': -1.0, 'агитация': -1.0, 'получение': -1.0, 'отстраненный': -1.0, 'август': -1.0, 'местусодержание': -1.0, 'подследственный': -1.0, 'стража': -1.0, 'железнодорожный': -1.0, 'районаКрасноярск': -1.0, 'центральный': -1.0, 'район': -1.0, 'нарушеныположение': -1.0, '94-й': -1.0, 'кодекс': -1.0, 'поручитель': -1.0, 'подписка': -1.0, 'поручительство': -1.0, 'отменоймера': -1.0, 'быстрый': -1.0, 'завершение': -1.0, 'способствовать': -1.0, 'расизм': -1.0, 'помогать': -1.0, 'репутация': -1.0, 'освобождение': -1.0, 'бесспорно': -1.0, 'руководствоваться': -1.0, 'возобновлять': -1.0, 'сбор': -1.0, 'дополнительный': -1.0, 'март': -1.0, 'текущий': -1.0, 'дальнейший': -1.0, 'разбойный': -1.0, 'нападение': -1.0, 'подъезд': -1.0, 'дом': -1.0, 'где': -1.0, 'похищать': -1.0, 'минувший': -1.0, 'залог': -1.0, 'физика': -1.0, 'небрежный': -1.0, 'стратегический': -1.0, 'секрет': -1.0, 'приговорить': -1.0, 'уплачивать': -1.0, 'Коннектикут': -1.0, 'конкуренция': -1.0, 'закрытие': -1.0, 'доказать': -1.0, 'клиент': -1.0, 'утверждать': -1.0, 'любопытный': -1.0, 'башкирия': -1.0, 'мировой': -1.0, 'universal': -1.0, '45': -1.0, 'готовый': -1.0, '150': -1.0, 'группа': -1.0, 'нижний': -1.0, 'президиум': -1.0, 'счесть': -1.0, 'функция': -1.0, 'подразделение': -1.0, 'охрана': -1.0, 'силовой': -1.0, 'пристав': -1.0, 'исполнитель': -1.0, 'проведение': -1.0, 'имущество': -1.0, 'взыскание': -1.0, 'денежный': -1.0, 'средство': -1.0, 'дожны': -1.0, 'одобрять': -1.0, 'сумма': -1.0, 'взыскать': -1.0, 'ожидать': -1.0, 'финальный': -1.0, '-докладчикий': -1.0, 'определять': -1.0, 'неконституционный': -1.0, 'практика': -1.0, 'продавец': -1.0, 'авторский': -1.0, 'облагать': -1.0, 'налог': -1.0, 'стоимость': -1.0, 'несколькосблизиться': -1.0, 'Салониуспредоставлять': -1.0, 'компромиссной': -1.0, 'орт': -1.0, 'инструкция': -1.0, 'заработный': -1.0, 'плата': -1.0, 'высказываться': -1.0, '15': -1.0, 'особый': -1.0, 'ua': -1.0, 'today': -1.0, 'радиостанция': -1.0, 'вторжение': -1.0, 'жизнь': -1.0, 'сотрудница': -1.0, 'белый': -1.0, 'заслушать': -1.0, 'подозреваемый': -1.0, 'практически': -1.0, 'безукоризненно': -1.0, 'выполнить': -1.0, 'элемент': -1.0, 'оценка': -1.0, '5,7': -1.0, '5,8': -1.0, 'балл': -1.0, 'схема': -1.0, 'Demon': -1.0, 'избрать': -1.0, 'невинный': -1.0, 'воскресный': -1.0, 'выпуск': -1.0, 'ежедневный': -1.0, 'times': -1.0, 'достигать': -1.0, 'познер': -1.0, 'противоречие': -1.0, 'сближение': -1.0, 'длиться': -1.0, 'почти': -1.0, 'сорвать': -1.0, 'следующий': -1.0, 'вплоть': -1.0, 'разукрупнение': -1.0, 'огласить': -1.0, 'девятнадцать': -1.0, '23': -1.0, '26': -1.0, 'отнюдь': -1.0, 'неожиданный': -1.0, 'качество': -1.0, 'апрель': -1.0, 'окончательно': -1.0, 'тупик': -1.0, 'вынуждать': -1.0, 'окончание': -1.0, 'ожидание': -1.0, 'резко': -1.0, 'скончаться': -1.0, 'постель': -1.0, 'почет': -1.0, 'уважение': -1.0, 'среди': -1.0, 'сравнивать': -1.0, 'писать': -1.0, 'ansa': -1.0, 'сойти': -1.0, 'преисподняя': -1.0, 'выйти': -1.0, 'оттуда': -1.0, 'свет': -1.0, 'вина': -1.0, 'ожидатьэтого': -1.0, 'амбиция': -1.0, 'совесть': -1.0, 'находиться': -1.0, 'отозвать': -1.0, 'нью-йорксий': -1.0, 'Mpaa': -1.0, 'законно': -1.0, 'потому': -1.0, '2600': -1.0, 'альтернативный': -1.0, 'готовность': -1.0, 'немного': -1.0, 'маркетинговый': -1.0, 'прислать': -1.0, 'очередной': -1.0, 'исправление': -1.0, 'косметический': -1.0, 'фактически': -1.0, 'никак': -1.0, 'расклад': -1.0, 'конкурентный': -1.0, 'болезнь': -1.0, 'старший': -1.0, 'брат': -1.0, 'республиканский': -1.0, 'глазнойклиник': -1.0, 'готовить': -1.0, 'операция': -1.0, 'аналогичный': -1.0, 'обязывать': -1.0, 'оператор': -1.0, 'сто': -1.0, 'официально': -1.0, 'протокол': -1.0, 'подписать': -1.0, 'подписание': -1.0, 'уйтинесколько': -1.0, '17': -1.0, 'символ': -1.0, 'невыполнение': -1.0, 'парламентарий': -1.0, 'препятствование': -1.0, 'уполномоченный': -1.0, 'армеец': -1.0, 'уступать': -1.0, 'опротестовывать': -1.0, 'обоснованность': -1.0, 'арбитр': -1.0, 'спортивный': -1.0, 'больше': -1.0, 'формулировка': -1.0, 'склонный': -1.0, 'лояльность': -1.0, 'хвалить': -1.0, 'передать': -1.0, 'иметь': -1.0, 'возможность': -1.0, '90': -1.0, 'очевидный': -1.0, 'сперва': -1.0, 'реальный': -1.0, 'ждать': -1.0, '50': -1.0, 'том': -1.0, 'доказывать': -1.0, 'полностью': -1.0, 'содеять': -1.0, 'квалифицировать': -1.0, 'правильно': -1.0, 'Белорецкий': -1.0, 'горсуд': -1.0, 'какой': -1.0, 'выплачивать': -1.0, 'доставлять': -1.0, 'накануне': -1.0, 'больший': -1.0, 'управляющий': -1.0, 'павел': -1.0, 'ныне': -1.0, 'белорусский': -1.0, 'союз': -1.0, 'ознакомить': -1.0, 'фрунзенский': -1.0, 'датировать': -1.0, 'изъятый': -1.0, 'улика': -1.0, 'выполнимый': -1.0, 'ибо': -1.0, 'правомочный': -1.0, 'следователь': -1.0, 'изъять': -1.0, 'необходимый': -1.0, 'убить': -1.0, 'одноклассник': -1.0, 'насильник': -1.0, 'вон': -1.0, 'хорошо': -1.0, 'подчеркивать': -1.0, 'Генпрокуратура': -1.0, 'судебномрешение': -1.0, 'примененыненадлежащий': -1.0, '-процессуальный': -1.0, 'томчисло': -1.0, 'признанный': -1.0, '218': -1.0, 'обжалование': -1.0, 'исключительный': -1.0, 'аналитический': -1.0, 'Thomas': -1.0, 'Weisel': -1.0, 'тоже': -1.0, 'приведение': -1.0, 'существенно': -1.0, 'неразделенный': -1.0, 'расследуть': -1.0, 'об': -1.0, 'bank': -1.0, 'of': -1.0, 'банкир': -1.0, 'кто': -1.0, 'допросить': -1.0, 'управлять': -1.0, 'коммерческий': -1.0, 'показание': -1.0, 'интересовать': -1.0, 'окружение': -1.0, 'бизнесмен': -1.0, 'черный': -1.0, 'требоваться': -1.0, '18,3': -1.0, 'вымогательство': -1.0, '36': -1.0, 'подкуп': -1.0, 'история': -1.0, 'любовь': -1.0, 'пожилой': -1.0, 'жить': -1.0, 'консервативнойфранцузский': -1.0, 'провинция': -1.0, 'польский': -1.0, 'проститутка': -1.0, 'двадцать': -1.0, 'половина': -1.0, 'час': -1.0, 'заслушивать': -1.0, 'список': -1.0, 'Aegis': -1.0, 'архиепископ': -1.0, 'тут': -1.0, 'лауреат': -1.0, 'нобелевский': -1.0, 'премия': -1.0, 'переживать': -1.0, 'холокост': -1.0, 'Эли': -1.0, 'шесть': -1.0, 'спасать': -1.0, 'спартак': -1.0, 'соображение': -1.0, 'полный': -1.0, 'объем': -1.0, 'бандит': -1.0, 'поддельный': -1.0, 'мелкомхулиганство': -1.0, 'сутки': -1.0, '4': -1.0, 'игрок': -1.0, 'лечебный': -1.0, 'эффект': -1.0, 'распространяться': -1.0, 'Хамди': -1.0, 'отец': -1.0, 'девочка': -1.0, 'благодарный': -1.0, 'армия': -1.0, 'восстанавливать': -1.0, 'заканчивать': -1.0, 'четырехчасовое': -1.0, 'совещание': -1.0, 'разъезжаться': -1.0, 'обнародовывать': -1.0, '11': -1.0, '9': -1.0, 'el': -1.0, 'Mostrador': -1.0, 'спешить': -1.0, 'неуверенность': -1.0, 'никто': -1.0, 'сообщаться': -1.0, 'свидетельствовать': -1.0, 'источник': -1.0, 'разделяться': -1.0, 'голосование': -1.0, 'минимальный': -1.0, 'отрицать': -1.0, 'подтверждать': -1.0, 'следственный': -1.0, 'поручение': -1.0, 'сегодня': -1.0, 'Соотвутствующий': -1.0, 'Клаудета': -1.0, 'Терезинья': -1.0, 'некомпетентность': -1.0, 'генконсул': -1.0, 'арестовывать': -1.0, 'допрос': -1.0, 'заблаговременно': -1.0, 'разослать': -1.0, 'совместно': -1.0, 'Ахмад': -1.0, 'боевик': -1.0, 'включая': -1.0, 'степень': -1.0, 'развязывание': -1.0, 'чеченский': -1.0, 'гражданин': -1.0, 'дисквалифицировать': -1.0, 'мучительно': -1.0, 'да': -1.0, 'прерывать': -1.0, 'надзирающий': -1.0, 'законность': -1.0, 'приказ': -1.0, 'оперативный': -1.0, 'розыскной': -1.0, 'мероприятие': -1.0, '25': -1.0, 'сентябрь': -1.0, 'годаВерховный': -1.0, 'Ю': -1.0, 'буквально': -1.0, 'покоренный': -1.0, 'великолепный': -1.0, 'акробатический': -1.0, 'ошибка': -1.0, 'олимпийский': -1.0, 'соотечественник': -1.0, 'марафонец': -1.0, 'золотой': -1.0, 'медаль': -1.0, 'соломинка': -1.0, 'переломить': -1.0, 'хребет': -1.0, 'верблюдо': -1.0, 'объяснение': -1.0, 'Omega': -1.0, 'почему': -1.0, 'дочерний': -1.0, 'торговать': -1.0, 'новогодний': -1.0, 'елка': -1.0, \"Sporty's\": -1.0, 'farm': -1.0, 'гружеть': -1.0, 'Беганская': -1.0, 'Nsi': -1.0, 'рассудить': -1.0, 'домять': -1.0, 'законодатель': -1.0, 'урегулировать': -1.0, 'бездействуть': -1.0, 'домен': -1.0, 'подпадать': -1.0, 'переносезаседания': -1.0, 'улучшение': -1.0, 'самочувствие': -1.0, 'заболевание': -1.0, 'несмотря': -1.0, 'вничью': -1.0, 'победа': -1.0, 'отдавать': -1.0, 'борец': -1.0, 'врачебный': -1.0, 'состояние': -1.0, 'неутешительный': -1.0, 'экс-президент': -1.0, '500': -1.0, 'обвинитель': -1.0, 'отдел': -1.0, 'Рашидхан': -1.0, 'Napster': -1.0, 'любить': -1.0, 'невозможный': -1.0, 'исполнить': -1.0, 'учесть': -1.0, 'личность': -1.0, 'ответ': -1.0, 'защитник': -1.0, 'аргументировать': -1.0, 'психический': -1.0, 'расстройство': -1.0, 'голова': -1.0, '1996': -1.0, 'альтернатива': -1.0, 'трактовать': -1.0, 'по-разному': -1.0, 'странный': -1.0, 'радикальный': -1.0, 'лингвист': -1.0, 'подписывать': -1.0, 'Корреа': -1.0, 'було': -1.0, 'аргентинский': -1.0, 'причастность': -1.0, 'столица': -1.0, 'главнокомандующий': -1.0, 'жена': -1.0, 'Галиано': -1.0, 'котляковский': -1.0, 'кладбище': -1.0, 'премьер': -1.0, 'указ': -1.0, 'повышение': -1.0, 'служащий': -1.0, 'прокурорский': -1.0, 'работник': -1.0, 'персонал': -1.0, 'солдат': -1.0, 'легко': -1.0, 'покидать': -1.0, 'введение': -1.0, '13': -1.0, 'отрицательный': -1.0, '41': -1.0, '16': -1.0, 'талиб': -1.0, 'иметься': -1.0, 'террористический': -1.0, 'означать': -1.0, 'голос': -1.0, 'подсчитывать': -1.0, 'штаб': -1.0, 'ручной': -1.0, 'перестать': -1.0, 'продолжать': -1.0, 'ввиду': -1.0, 'взаимоисключающий': -1.0, 'приостанавливать': -1.0, 'узнавать': -1.0, 'разрешить': -1.0, 'прием': -1.0, 'пересчет': -1.0, 'выяснение': -1.0, 'невыезд': -1.0, 'распоряжаться': -1.0, 'сдавать': -1.0, 'паспорт': -1.0, 'белизский': -1.0, 'огнестрельный': -1.0, 'надевать': -1.0, 'нога': -1.0, 'браслет': -1.0, 'следить': -1.0, 'перемещение': -1.0, 'оправдывать': -1.0, 'хулиган': -1.0, 'охватывать': -1.0, 'взаимность': -1.0, 'становить': -1.0, 'вернуть': -1.0, 'истица': -1.0, 'дискета': -1.0, 'конфиденциальный': -1.0, 'оплачивать': -1.0, 'издержка': -1.0, 'сведение': -1.0, 'составлять': -1.0, 'фунт': -1.0, 'стерлинг': -1.0, 'переносить': -1.0, 'хотеть': -1.0, 'информировать': -1.0, 'несостоявшийся': -1.0, 'убийца': -1.0, 'отклонить': -1.0, 'располагать': -1.0, 'административный': -1.0, 'центр': -1.0, 'госсекретарь': -1.0, 'объявление': -1.0, 'уоррен': -1.0, 'демократ': -1.0, 'опротестовать': -1.0, 'итог': -1.0, 'опыт': -1.0, 'наш': -1.0, 'пращур': -1.0, 'выбирать': -1.0, 'предводитель': -1.0, 'хан': -1.0, 'беков': -1.0, 'полководец': -1.0, 'достойный': -1.0, 'высоконравственный': -1.0, 'согражданин': -1.0, 'достаточный': -1.0, 'избирать': -1.0, 'вид': -1.0, 'домашний': -1.0, 'детский': -1.0, 'направление': -1.0, 'приют': -1.0, 'приемный': -1.0, 'предлог': -1.0, 'родитель': -1.0, 'затребовать': -1.0, 'копия': -1.0, 'возбуждение': -1.0, 'преследование': -1.0, 'медиа': -1.0, 'магнат': -1.0, 'отмена': -1.0, 'необоснованно': -1.0, 'подзащитный': -1.0, 'перевод': -1.0, 'вилла': -1.0, 'полицейский': -1.0, 'надзор': -1.0, 'четверо': -1.0, 'Бальтасара': -1.0, 'хосе': -1.0, 'Аснар': -1.0, 'Асебес': -1.0, 'холдинг': -1.0, 'экстрадиция': -1.0, 'Остальский': -1.0, 'уносить': -1.0, 'прервать': -1.0, '1:0': -1.0, 'хозяин': -1.0, 'daily': -1.0, '1987': -1.0, 'биржевой': -1.0, 'спекулянт': -1.0, 'привилегированная': -1.0, 'приватизация': -1.0, 'Marceau': -1.0, 'Investissements': -1.0, 'Societe': -1.0, 'Generale': -1.0, 'условие': -1.0, 'скрываться': -1.0, 'договариваться': -1.0, 'сокамерником': -1.0, 'платить': -1.0, 'полтора': -1.0, 'предполагать': -1.0, 'снисходительный': -1.0, 'сокамерник': -1.0, '-магнат': -1.0, 'Pais': -1.0, 'гробница': -1.0, 'египетский': -1.0, 'Инть': -1.0, 'египтолог': -1.0, 'открытие': -1.0, 'вынесший': -1.0, 'сюжет': -1.0, 'Нвтор': -1.0, 'калининградский': -1.0, 'показать': -1.0, 'ночной': -1.0, 'клевета': -1.0, 'экс-губернатор': -1.0, 'телекомпания': -1.0, 'деталь': -1.0, 'воспитание': -1.0, 'животное': -1.0, 'воля': -1.0, 'конкретный': -1.0, 'сохранять': -1.0, 'миллиард': -1.0, 'посить': -1.0, 'евро': -1.0, 'уходить': -1.0, 'гвардия': -1.0, 'Женевский': -1.0, 'выдать': -1.0, 'Столповский': -1.0, 'подозрение': -1.0, 'группировка': -1.0, 'Эфэ': -1.0, 'короткий': -1.0, 'избежать': -1.0, 'фаворит': -1.0, 'Бережная': -1.0, 'выводить': -1.0, 'единогласный': -1.0, '49-летний': -1.0, 'ливиец': -1.0, '1988': -1.0, 'погибать': -1.0, '270': -1.0, 'Afp': -1.0, '84': -1.0, '230': -1.0, 'прочитывать': -1.0, 'вменяемый': -1.0, 'особенно': -1.0, 'европейский': -1.0, 'совершенно': -1.0, 'юридически': -1.0, 'бессмысленный': -1.0, 'значить': -1.0, 'бояться': -1.0, 'проверка': -1.0, 'ценность': -1.0, 'подчеркнуть': -1.0, 'собака': -1.0, 'напасть': -1.0, 'удивительный': -1.0, 'собачий': -1.0, 'лай': -1.0, 'удивлять': -1.0, 'судьба': -1.0, 'телеканал': -1.0, 'предшествовать': -1.0, 'сопровождение': -1.0, 'агент': -1.0, 'военизированный': -1.0, 'формальный': -1.0, 'согласный': -1.0, 'добровольный': -1.0, 'национальный': -1.0, 'выдвижение': -1.0, 'Эшкрофт': -1.0, 'мешать': -1.0, 'некий': -1.0, 'воздушный': -1.0, 'морской': -1.0, 'транспорт': -1.0, 'передвигать': -1.0, 'дискредитировать': -1.0, 'обыск': -1.0, 'положенный': -1.0, 'подобный': -1.0, 'переходный': -1.0, 'период': -1.0, 'организовать': -1.0, 'планировать': -1.0, 'мотивировать': -1.0, 'кто-то': -1.0, 'звонить': -1.0, 'строго': -1.0, 'аукционный': -1.0, 'наказывать': -1.0, 'вор': -1.0, 'уличение': -1.0, 'сговор': -1.0, 'хороший': -1.0, 'урок': -1.0, 'импульс': -1.0, 'взаимоконтроль': -1.0, 'немедленно': -1.0, 'собираться': -1.0, 'представительство': -1.0, 'лозунг': -1.0, 'гласивший': -1.0, 'несправедливый': -1.0, 'ты': -1.0, 'покончить': -1.0, 'твой': -1.0, 'дача': -1.0, 'статуя': -1.0, 'скульптура': -1.0, 'церетели': -1.0, 'дарить': -1.0, 'Юрий': -1.0, 'вертолет': -1.0, 'производить': -1.0, 'подход': -1.0, 'обязательный': -1.0, 'должный': -1.0, 'нужный': -1.0, 'заменять': -1.0, 'переводчик': -1.0, 'Шерил': -1.0, 'Джун': -1.0, 'Эдмонд': -1.0, 'Поуп': -1.0, 'излагать': -1.0, '40': -1.0, 'лист': -1.0, 'законный': -1.0, 'кемеровский': -1.0, '25-й': -1.0, 'заключенный': -1.0, 'возраст': -1.0, '80': -1.0, 'курский': -1.0, 'суббота': -1.0, 'регистрация': -1.0, 'приставить': -1.0, 'безопасность': -1.0, 'угрожать': -1.0, 'Руцкий': -1.0, 'пол': -1.0, 'субботний': -1.0, 'информационный': -1.0, 'зачитывать': -1.0, 'пресненский': -1.0, 'собирать': -1.0, 'предупредить': -1.0, 'разглашение': -1.0, 'восьмилетный': -1.0, 'пребывание': -1.0, 'консервативный': -1.0, 'ориентация': -1.0, 'либерал': -1.0, 'будущий': -1.0, 'зависеть': -1.0, 'конкретно': -1.0, 'консерватор': -1.0, 'старый': -1.0, 'расстановка': -1.0, 'аналогично': -1.0, 'сместить': -1.0, 'влево': -1.0, 'каденция': -1.0, 'либеральный': -1.0, 'досрочно': -1.0, 'приписывать': -1.0, 'баскский': -1.0, 'сепаратист': -1.0, 'взрываться': -1.0, 'машина': -1.0, 'слушанье': -1.0, 'посвящать': -1.0, 'гореть': -1.0, 'шофер': -1.0, 'телохранитель': -1.0, 'конвой': -1.0, 'американец': -1.0, 'сизо': -1.0, 'справка': -1.0, 'дежурный': -1.0, 'лефортовский': -1.0, 'приступ': -1.0, 'остеохандроз': -1.0, 'тазобедренный': -1.0, 'сустав': -1.0, 'двусторонний': -1.0, 'радикулит': -1.0, 'отразить': -1.0, 'Эрв': -1.0, 'катастрофа': -1.0, 'алкоголь': -1.0, 'превышение': -1.0, 'скорость': -1.0, 'девять': -1.0, 'мотоциклист': -1.0, 'преследовать': -1.0, 'спутник': -1.0, 'подвергнуться': -1.0, 'суровый': -1.0, 'критика': -1.0, 'громкий': -1.0, 'Bertelsmann': -1.0, 'Music': -1.0, 'group': -1.0, 'лето': -1.0, 'сервис': -1.0, 'мощный': -1.0, 'полковник': -1.0, 'Поповских': -1.0, 'Оксана': -1.0, 'аккредитация': -1.0, 'сми': -1.0, 'по-прежнему': -1.0, 'открытый': -1.0, 'пресса': -1.0, 'телевизионный': -1.0, 'репортаж': -1.0, 'разглашаться': -1.0, 'упоминаться': -1.0, 'установление': -1.0, 'истина': -1.0, 'нина': -1.0, 'смягчать': -1.0, 'наличие': -1.0, 'награда': -1.0, 'заражать': -1.0, 'спид': -1.0, 'пригрозить': -1.0, 'конвоир': -1.0, 'заразить': -1.0, 'дубина': -1.0, 'склонить': -1.0, 'флоридский': -1.0, 'аннулирование': -1.0, 'открепительный': -1.0, 'бюллетень': -1.0, 'флорида': -1.0, 'Солс': -1.0, 'cnn': -1.0, 'United': -1.0, 'Refining': -1.0, 'блокировка': -1.0, 'сделка': -1.0, 'покупка': -1.0, 'Getty': -1.0, 'нефтяной': -1.0, 'наибольший': -1.0, 'акционер': -1.0, 'выгодный': -1.0, 'нежели': -1.0, 'изложить': -1.0, 'продолжение': -1.0, 'полгода': -1.0, 'заморозить': -1.0, 'снова': -1.0, 'немецкий': -1.0, 'партнер': -1.0, 'заплатить': -1.0, 'неустойка': -1.0, 'пригласить': -1.0, 'съемка': -1.0, 'рено': -1.0, 'невыполнимый': -1.0, 'голубой': -1.0, 'бездна': -1.0, 'сыграть': -1.0, 'смерть': -1.0, 'взятие': -1.0, '03мскать': -1.0, 'совещательный': -1.0, 'комната': -1.0, 'истечение': -1.0, 'тендерный': -1.0, 'Габриэль': -1.0, '450': -1.0, 'сходиться': -1.0, 'исправлять': -1.0, 'Тимоти': -1.0, 'МакВя': -1.0, 'ответственный': -1.0, '1995': -1.0, 'оттягиваний': -1.0, 'смертный': -1.0, 'казнь': -1.0, 'оговаривать': -1.0, 'обратиться': -1.0, 'подать': -1.0, '120': -1.0, 'впрочем': -1.0, 'авдокать': -1.0, 'понравиться': -1.0, 'психологический': -1.0, 'экспертиза': -1.0, 'осужденный': -1.0, 'километр': -1.0, 'север': -1.0, 'характер': -1.0, 'подвергаться': -1.0, 'Efe': -1.0, 'рекомендация': -1.0, 'указать': -1.0, 'бегство': -1.0, 'помилование': -1.0, 'формирование': -1.0, 'избрание': -1.0, 'госслужба': -1.0, 'следовать': -1.0, 'третий': -1.0, 'прыжок': -1.0, 'образ': -1.0, 'встречать': -1.0, 'дочь': -1.0, 'приемная': -1.0, 'ребенок': -1.0, 'Гом': -1.0, 'вместо': -1.0, 'вырабатывать': -1.0, 'способ': -1.0, 'свастика': -1.0, 'желать': -1.0, 'заявка': -1.0, 'беседовать': -1.0, 'дверь': -1.0, 'зритель': -1.0, 'прислушиваться': -1.0, 'россиянка': -1.0, 'мэтр': -1.0, 'воспроизводить': -1.0, 'прежний': -1.0, 'хрупкий': -1.0, 'поэтому': -1.0, 'Маша': -1.0, 'надо': -1.0, 'предстать': -1.0, 'голый': -1.0, 'примерно': -1.0, 'пяить': -1.0, 'северный': -1.0, 'нигерия': -1.0, 'причинять': -1.0, 'Кайрон': -1.0, 'Хенн-ли': -1.0, 'разводиться': -1.0, 'Маккой': -1.0, '1994': -1.0, 'оформление': -1.0, 'развод': -1.0, '66': -1.0, 'ликвидация': -1.0, 'общенациональный': -1.0, 'телевидение': -1.0, 'присуждать': -1.0, '900': -1.0, 'уменьшать': -1.0, '480': -1.0, 'ядовитый': -1.0, 'враждебность': -1.0, 'ненависть': -1.0, 'наручник': -1.0, 'сомнение': -1.0, 'расправа': -1.0, 'убитый': -1.0, 'беременный': -1.0, 'ожжеть': -1.0, 'заживо': -1.0, 'комсомолец': -1.0, 'председательствующий': -1.0, 'вызвать': -1.0, 'редактор': -1.0, 'экс-дипломат': -1.0, 'возмущать': -1.0, 'доверенность': -1.0, 'неожиданно': -1.0, 'замена': -1.0, 'одиннадцать': -1.0, 'эстрада': -1.0, 'постоянный': -1.0, 'круг': -1.0, 'близкий': -1.0, 'бесстыдный': -1.0, 'офицер': -1.0, 'коридор': -1.0, 'прострелить': -1.0, 'палец': -1.0, 'больница': -1.0, 'пакет': -1.0, 'законопроект': -1.0, 'льготный': -1.0, 'проезд': -1.0, 'таможня': -1.0, 'налоговый': -1.0, 'впоследствии': -1.0, 'внимание': -1.0, 'проконсультироваться': -1.0, 'высокопоставлать': -1.0, 'арестованный': -1.0, 'лекарство': -1.0, 'побоище': -1.0, 'четверть': -1.0, 'кремлевский': -1.0, 'дополнительно': -1.0, '6900': -1.0, 'аппарат': -1.0, '1,5': -1.0, 'рубль': -1.0, 'финансирование': -1.0, 'киргизия': -1.0, 'повторно': -1.0, 'Болтон': -1.0, 'уверять': -1.0, 'соавтор': -1.0, 'слышать': -1.0, 'песня': -1.0, 'Айсли': -1.0, 'убеждать': -1.0, 'василий': -1.0, 'Бальтасар': -1.0, 'необходимость': -1.0, 'граница': -1.0, 'Медиа': -1.0, 'певец': -1.0, 'стать': -1.0, 'искусство': -1.0, 'Мухамед': -1.0, 'прецедент': -1.0, 'обращать': -1.0, 'утешаться': -1.0, 'втрое': -1.0, 'долждать': -1.0, 'усмотрение': -1.0, 'срочный': -1.0, 'ночь': -1.0, 'мистер': -1.0, 'как-то': -1.0, 'расплакаться': -1.0, 'относиться': -1.0, 'снисходительно': -1.0, 'потом': -1.0, 'рано': -1.0, 'вдруг': -1.0, 'раздаться': -1.0, 'блеяние': -1.0, 'молодой': -1.0, 'спрятать': -1.0, 'одежда': -1.0, 'ягенка': -1.0, 'неудачный': -1.0, 'отсмеяться': -1.0, 'роженица': -1.0, 'середина': -1.0, 'Макво': -1.0, 'жаловаться': -1.0, 'грязь': -1.0, 'душа': -1.0, 'свидетельство': -1.0, 'терять': -1.0, 'хозяйство': -1.0, 'переставать': -1.0, 'убирать': -1.0, 'запускать': -1.0, 'потеря': -1.0, 'совместный': -1.0, 'уйгура': -1.0, 'Мемет': -1.0, 'пособничество': -1.0, 'казнить': -1.0, 'показывать': -1.0, 'ноготь': -1.0, 'дисциплинарный': -1.0, 'публика': -1.0, 'прямо': -1.0, 'косвенно': -1.0, 'эксплуатировать': -1.0, 'уязвимый': -1.0, 'заключять': -1.0, 'мост': -1.0, 'спор': -1.0, 'пятилетний': -1.0, 'водитель': -1.0, 'предупреждение': -1.0, 'телефон': -1.0, 'вождение': -1.0, 'укрепление': -1.0, 'Похорелска': -1.0, 'подача': -1.0, 'относительно': -1.0, 'график': -1.0, 'обмен': -1.0, 'отделение': -1.0, 'текст': -1.0, 'послание': -1.0, 'адрес': -1.0, 'надлежащий': -1.0, 'заверенный': -1.0, 'доктор': -1.0, 'насчитывать': -1.0, 'признак': -1.0, 'стоить': -1.0, 'Ньюпортский': -1.0, 'королевский': -1.0, 'замечать': -1.0, 'психиатрический': -1.0, 'лечебница': -1.0, 'гражданка': -1.0, 'разлучить': -1.0, 'сменить': -1.0, 'отстранять': -1.0, 'отказать': -1.0, 'каникулы': -1.0, 'обследование': -1.0, 'проведений': -1.0, 'наконец': -1.0, 'Бэрри': -1.0, 'возможно': -1.0, 'обычно': -1.0, 'быстро': -1.0, 'томиться': -1.0, 'обидеться': -1.0, 'официант': -1.0, 'чипсы': -1.0, 'приказывать': -1.0, 'кафе': -1.0, 'много': -1.0, 'посетитель': -1.0, 'заказ': -1.0, 'обслужить': -1.0, 'разозлиться': -1.0, 'Кунцевский': -1.0, 'литература': -1.0, 'знакомиться': -1.0, '1999': -1.0, 'комплексный': -1.0, 'учение': -1.0, 'иегова': -1.0, 'господствовать': -1.0, 'конкурент': -1.0, 'неприязненно': -1.0, 'строить': -1.0, 'комиссовать': -1.0, 'травма': -1.0, 'головной': -1.0, 'Сергеева': -1.0, 'ранний': -1.0, 'стремиться': -1.0, 'любезно': -1.0, 'переносый': -1.0, 'изменяться': -1.0, 'избиение': -1.0, 'казанский': -1.0, 'баскетбол': -1.0, '56': -1.0, '52': -1.0, 'щит': -1.0, 'игровой': -1.0, 'площадка': -1.0, 'избить': -1.0, 'выполнение': -1.0, 'происхождение': -1.0, 'явствовать': -1.0, 'замгенпрокурор': -1.0, 'содействовать': -1.0, 'авиакомпания': -1.0, 'дискриминационный': -1.0, 'толстый': -1.0, 'узаконивать': -1.0, 'взимание': -1.0, 'двойной': -1.0, 'тариф': -1.0, 'авиаперевозка': -1.0, 'пассажир': -1.0, 'повышать': -1.0, 'допрашивать': -1.0, 'прибывать': -1.0, 'какой-то': -1.0, 'визит': -1.0, 'вежливость': -1.0, 'тишина': -1.0, 'компетенция': -1.0, 'предельный': -1.0, '70': -1.0, 'увеличивать': -1.0, 'гость': -1.0, 'начало': -1.0, 'благословение': -1.0, 'близкие': -1.0, 'убедительный': -1.0, 'Погорелска': -1.0, 'недостаточно': -1.0, 'компетентный': -1.0, 'вместе': -1.0, 'звезда': -1.0, 'wwf': -1.0, 'Rock': -1.0, 'Джонсон': -1.0, 'Sting': -1.0, 'возобновление': -1.0, '85-летний': -1.0, 'вначале': -1.0, 'резиденция': -1.0, 'мотивировывать': -1.0, 'неправомерный': -1.0, 'собрание': -1.0, 'общегражданский': -1.0, 'футболист': -1.0, 'обязываться': -1.0, 'боковой': -1.0, 'Ananova': -1.0, '-Мост': -1.0, 'Черемушкинский': -1.0, 'внеочередной': -1.0, 'Baltasar': -1.0, 'Garzon': -1.0, 'вставать': -1.0, 'Бориспольский': -1.0, 'порекомендовать': -1.0, 'отслеживать': -1.0, 'Riaa': -1.0, 'свежий': -1.0, 'релиз': -1.0, 'популярный': -1.0, 'музыка': -1.0, 'спрос': -1.0, 'пират': -1.0, 'блокировать': -1.0, 'попадание': -1.0, 'соперник': -1.0, 'часто': -1.0, 'норвежский': -1.0, 'играть': -1.0, 'Joel': -1.0, 'Lazarus': -1.0, 'смягчение': -1.0, 'жестокость': -1.0, 'пострадавшая': -1.0, 'Tiffany': -1.0, 'Eunick': -1.0, 'пропадать': -1.0, 'Бетти': -1.0, 'Betty': -1.0, 'Adams': -1.0, 'green': -1.0, 'мальчик': -1.0, 'посещать': -1.0, 'обед': -1.0, 'специально': -1.0, 'рекомендовать': -1.0, 'Alan': -1.0, 'Postman': -1.0, 'супруга': -1.0, 'изнасилование': -1.0}\n"
          ],
          "name": "stdout"
        }
      ]
    },
    {
      "cell_type": "markdown",
      "metadata": {
        "id": "TGhtut_Hnhi1"
      },
      "source": [
        "Результаты дисперсии первого эксперимента"
      ]
    },
    {
      "cell_type": "code",
      "metadata": {
        "colab": {
          "base_uri": "https://localhost:8080/"
        },
        "id": "jTdNnfisnaXA",
        "outputId": "2268300c-e861-4e83-bd7d-d1a3570bb861"
      },
      "source": [
        "parsed_unlc=[]\n",
        "for sentence in unlc:\n",
        "  p_sent=[]\n",
        "  for i in sentence:\n",
        "    w=[]\n",
        "    w=i.split(sep=\"_\")\n",
        "    if re.match(r'_PUNCT_', m):\n",
        "      pass\n",
        "    else:\n",
        "      if len(w)<3:\n",
        "        if i not in sentence:\n",
        "          pass\n",
        "        else:\n",
        "          sentence.remove(i)\n",
        "      else:\n",
        "        p_sent.append(w[2])\n",
        "  parsed_unlc.append(p_sent)\n",
        "print(parsed_unlc[:10])"
      ],
      "execution_count": 97,
      "outputs": [
        {
          "output_type": "stream",
          "text": [
            "[['швейцарский', 'федеральный', 'прокурор', 'дель', 'Понти', 'заявлять', 'что', 'работать', 'на', 'шеф', 'разведывательный', 'служба', 'и', 'получать', '5,8', 'миллион', 'доллар', 'от', 'министерство', 'оборона', 'для', 'покупка', 'огромный', 'количество', 'оружие'], ['адвокат', 'Сед', 'заявлять', 'что', 'он', 'клиент', 'отвергать', 'этот', 'обвинение'], ['дель', 'Понти', 'недавно', 'становиться', 'прокурор', 'международный', 'по', 'военный', 'преступление', 'заявлять', 'что', 'дело', 'против', 'и', 'еще', 'трое', 'высокопоставленный', 'чиновник', 'закрывать'], ['федеральный', 'прокурор', 'добавлять', 'что', 'расследование', 'быть', 'продолжить', 'в', 'отношение', 'шеф', 'стратегический', 'информационный', 'служба', 'который', 'возникать', 'в', 'документ', 'по', 'дело'], ['бывший', 'генеральный', 'прокурор', 'юрий', 'считать', 'что', 'близкий', 'окружение', 'президент', 'пытаться', 'препятствовать', 'серьезный', 'расследование', 'ситуация', 'связывать', 'с', 'bank', 'of', 'new', 'york', 'через', 'который', 'отмываться', 'деньги', 'получать', 'от'], ['мой', 'адвокат', 'изучать', 'документ', 'чтобы', 'обращаться', 'в', 'суд'], ['сумма', 'возмещение', 'ущерб', 'по', 'иск', 'в', 'настоящий', 'времяопределяться', 'адвокат', 'и', 'юрист', 'заниматься', 'подготовкойисковый', 'заявление'], ['но', 'окружной', 'судья', 'решать', 'дело', 'в', 'польза', 'веб', '-издательствый', 'она', 'отвергать', 'требование', 'в', 'судебный', 'порядок', 'запрещать', 'публикация', 'секретный', 'документ', 'поскольку', 'такой', 'запрет', 'нарушать', 'бы', 'свобода', 'слово'], ['однако', 'судья', 'все', 'же', 'выносить', 'постановление', 'связывать', 'с', 'то', 'что', 'нарушать', 'копирайт', 'компания'], ['при', 'это', 'судья', 'добавлять', 'что', 'судебный', 'система', 'только', 'начинать', 'подходить', 'к', 'такой', 'сложный', 'вопрос', 'как', 'свобода', 'слово', 'и', 'защита', 'интеллектуальный', 'собственность', 'в']]\n"
          ],
          "name": "stdout"
        }
      ]
    },
    {
      "cell_type": "code",
      "metadata": {
        "colab": {
          "base_uri": "https://localhost:8080/"
        },
        "id": "XmlwN3_ayk_j",
        "outputId": "ea6d7a0e-316e-4120-c807-8e2c0f21b4ac"
      },
      "source": [
        "print(parsed_unlc[:10])"
      ],
      "execution_count": 93,
      "outputs": [
        {
          "output_type": "stream",
          "text": [
            "[['швейцарский', 'федеральный', 'прокурор', 'дель', 'Понти', 'заявлять', 'что', 'работать', 'на', 'шеф', 'разведывательный', 'служба', 'и', 'получать', '5,8', 'миллион', 'доллар', 'от', 'министерство', 'оборона', 'для', 'покупка', 'огромный', 'количество', 'оружие'], ['адвокат', 'Сед', 'заявлять', 'что', 'он', 'клиент', 'отвергать', 'этот', 'обвинение'], ['дель', 'Понти', 'недавно', 'становиться', 'прокурор', 'международный', 'по', 'военный', 'преступление', 'заявлять', 'что', 'дело', 'против', 'и', 'еще', 'трое', 'высокопоставленный', 'чиновник', 'закрывать'], ['федеральный', 'прокурор', 'добавлять', 'что', 'расследование', 'быть', 'продолжить', 'в', 'отношение', 'шеф', 'стратегический', 'информационный', 'служба', 'который', 'возникать', 'в', 'документ', 'по', 'дело'], ['бывший', 'генеральный', 'прокурор', 'юрий', 'считать', 'что', 'близкий', 'окружение', 'президент', 'пытаться', 'препятствовать', 'серьезный', 'расследование', 'ситуация', 'связывать', 'с', 'bank', 'of', 'new', 'york', 'через', 'который', 'отмываться', 'деньги', 'получать', 'от'], ['мой', 'адвокат', 'изучать', 'документ', 'чтобы', 'обращаться', 'в', 'суд'], ['сумма', 'возмещение', 'ущерб', 'по', 'иск', 'в', 'настоящий', 'времяопределяться', 'адвокат', 'и', 'юрист', 'заниматься', 'подготовкойисковый', 'заявление'], ['но', 'окружной', 'судья', 'решать', 'дело', 'в', 'польза', 'веб', '-издательствый', 'она', 'отвергать', 'требование', 'в', 'судебный', 'порядок', 'запрещать', 'публикация', 'секретный', 'документ', 'поскольку', 'такой', 'запрет', 'нарушать', 'бы', 'свобода', 'слово'], ['однако', 'судья', 'все', 'же', 'выносить', 'постановление', 'связывать', 'с', 'то', 'что', 'нарушать', 'копирайт', 'компания'], ['при', 'это', 'судья', 'добавлять', 'что', 'судебный', 'система', 'только', 'начинать', 'подходить', 'к', 'такой', 'сложный', 'вопрос', 'как', 'свобода', 'слово', 'и', 'защита', 'интеллектуальный', 'собственность', 'в']]\n"
          ],
          "name": "stdout"
        }
      ]
    },
    {
      "cell_type": "code",
      "metadata": {
        "colab": {
          "base_uri": "https://localhost:8080/"
        },
        "id": "s91gN2nkzCFU",
        "outputId": "cf7e7350-1403-46bb-d534-376a2349d053"
      },
      "source": [
        "print(p_sent)"
      ],
      "execution_count": 98,
      "outputs": [
        {
          "output_type": "stream",
          "text": [
            "['адвокат', 'ан', 'надеяться', 'получать', 'искомый', 'сумма', 'с', 'заморозить', 'на', 'территория', 'счет', 'кубинский', 'правительство']\n"
          ],
          "name": "stdout"
        }
      ]
    },
    {
      "cell_type": "code",
      "metadata": {
        "colab": {
          "base_uri": "https://localhost:8080/"
        },
        "id": "kViGL9RSL1iq",
        "outputId": "faf7a757-6ee7-4c89-875c-9b3a8417f62d"
      },
      "source": [
        "spisok = []\n",
        "diff = {}\n",
        "b = {}\n",
        "for sentence in parsed_unlc:\n",
        "  for i in sentence:\n",
        "    if i == 'судья':\n",
        "      if i not in sentence:\n",
        "        pass\n",
        "      else:\n",
        "        n = sentence.index(i)\n",
        "      #print(n)\n",
        "        if i == sentence[-1]:\n",
        "          pass\n",
        "        else:\n",
        "          m = sentence[n+1]\n",
        "          spisok.append(i+' '+m)\n",
        "print(spisok)\n",
        "for i in spisok:\n",
        "  if i in diff.keys():\n",
        "    for w, l in diff.items():\n",
        "      diff[i] = l+1\n",
        "  else:\n",
        "    diff[i] = 1\n",
        "print(diff)\n",
        "freq_a=0\n",
        "for sentence in parsed_unlc:\n",
        "  for i in sentence:\n",
        "    if i == 'судья':\n",
        "      #print(sentence)\n",
        "      freq_a += 1\n",
        "print(freq_a)"
      ],
      "execution_count": 186,
      "outputs": [
        {
          "output_type": "stream",
          "text": [
            "['судья решать', 'судья все', 'судья добавлять', 'судья конституционный', 'судья подпереть', 'судья отклонять', 'судья считать', 'судья направлять', 'судья получать', 'судья Каспер-Анзерма', 'судья с', 'судья признавать', 'судья Дево', 'судья независимо', 'судья проводить', 'судья от', 'судья шотландский', 'судья постановить', 'судья вызывать', 'судья вызывать', 'судья традиционно', 'судья юрист', 'судья удовлетворять', 'судья и', 'судья областной', 'судья Кужанкуй', 'судья удовлетворять', 'судья запрещать', 'судья и', 'судья министр', 'судья в', 'судья они', 'судья мочь', 'судья быть', 'судья возглавлять', 'судья он', 'судья по', 'судья гласить', 'судья объявлять', 'судья отказываться', 'судья добиваться', 'судья Руссо', 'судья на', 'судья по', 'судья прокурор', 'судья комментировать', 'судья по', 'судья оглашение', 'судья от', 'судья и', 'судья все', 'судья все', 'судья обеспокоить', 'судья еще', 'судья федеральный', 'судья вынести', 'судья отклонять', 'судья отмечать', 'судья рассмотрение', 'судья американский', 'судья 19', 'судья чей', 'судья на', 'судья назначать', 'судья назначать', 'судья назначить', 'судья быть', 'судья проект', 'судья обнародовать', 'судья что', 'судья более', 'судья должен', 'судья договориться', 'судья городской', 'судья и', 'судья проходить', 'судья должен', 'судья шариатский', 'судья и', 'судья соглашаться', 'судья объявлять', 'судья за', 'судья выносить', 'судья международный', 'судья о', 'судья решение', 'судья Л', 'судья наносить', 'судья не', 'судья истец', 'судья по', 'судья в', 'судья вести', 'судья возглавлять', 'судья объявлять', 'судья приходить', 'судья вероятно', 'судья рассматривать', 'судья вынесение', 'судья отбывать', 'судья делить', 'судья возглавлять', 'судья слово', 'судья Печерский', 'судья в', 'судья верховный', 'судья анатолий', 'судья но', 'судья инициатор', 'судья быть', 'судья Дево', 'судья брайан', 'судья в', 'судья подавлять', 'судья закрывать', 'судья конституционный', 'судья один', 'судья поступать', 'судья рассматривать', 'судья связывать', 'судья удовлетворять', 'судья не', 'судья признавать', 'судья занимать', 'судья тверской', 'судья современность', 'судья который', 'судья который', 'судья с', 'судья вынужденный', 'судья таможенник', 'судья назначать', 'судья конституционный', 'судья о', 'судья даже', 'судья Санджованниприступит', 'судья рассматривать', 'судья и', 'судья быть', 'судья и', 'судья заявлять', 'судья выносить', 'судья ведущий', 'судья приостановить', 'судья не', 'судья просить', 'судья прекращать', 'судья который', 'судья от', 'судья жалоба', 'судья по', 'судья приходиться', 'судья претензия', 'судья издавать', 'судья Мэрили', 'судья из', 'судья приговаривать', 'судья Альдижер', 'судья апелляционный', 'судья бывший', 'судья парижский', 'судья выносить', 'судья отвергать', 'судья постановлять', 'судья игнорировать', 'судья служить', 'судья неверно', 'судья чтобы', 'судья от', 'судья один', 'судья метр', 'судья компьютер', 'судья вполне', 'судья который', 'судья постановлять', 'судья запрещать', 'судья верховный', 'судья верховный', 'судья Дево', 'судья разрешать', 'судья отказывать', 'судья обнаруживать', 'судья выгонять', 'судья он', 'судья Мтбя', 'судья указывать', 'судья требовать', 'судья и', 'судья считать', 'судья направлять', 'судья -', 'судья для', 'судья который', 'судья принимать', 'судья давать', 'судья конституционный', 'судья молчать', 'судья отклонять', 'судья Пфильцер', 'судья предлагать', 'судья новый', 'судья и', 'судья восточный', 'судья соглашаться', 'судья назначать', 'судья быть', 'судья крикнуть', 'судья констатировать', 'судья называть', 'судья который', 'судья быть', 'судья парижский', 'судья центральный', 'судья нарушеныположение', 'судья сказать', 'судья принимать', 'судья в', 'судья в', 'судья в', 'судья окружной', 'судья что', 'судья принимать', 'судья в', 'судья готовый', 'судья не', 'судья а', 'судья весь', 'судья выносить', 'судья уже', 'судья мочь', 'судья направлять', 'судья -докладчикий', 'судья Салониуспредоставлять', 'судья орт', 'судья против', 'судья признавать', 'судья заслушать', 'судья -', 'судья отвергать', 'судья официальный', 'судья который', 'судья не', 'судья предстоять', 'судья мочь', 'судья в', 'судья соглашаться', 'судья отнюдь', 'судья апелляционный', 'судья быть', 'судья акция', 'судья который', 'судья передавать', 'судья и', 'судья постановлять', 'судья который', 'судья который', 'судья слушание', 'судья заявлять', 'судья другой', 'судья мочь', 'судья или', 'судья и', 'судья под', 'судья обязать', 'судья лояльность', 'судья этот', 'судья по', 'судья выносить', 'судья один', 'судья выносить', 'судья приходить', 'судья Белорецкий', 'судья Дево', 'судья получать', 'судья фрунзенский', 'судья о', 'судья о', 'судья друг', 'судья примененыненадлежащий', 'судья приходить', 'судья быть', 'судья решать', 'судья Каспер-Анзерма', 'судья -', 'судья в', 'судья в', 'судья жить', 'судья два', 'судья главный', 'судья добавлять', 'судья не', 'судья верховный', 'судья признавать', 'судья удалить', 'судья запрет', 'судья этот', 'судья и', 'судья заканчивать', 'судья 9', 'судья шесть', 'судья не', 'судья не', 'судья разделяться', 'судья Дево', 'судья опубликовывать', 'судья первый', 'судья -', 'судья председательствовать', 'судья совместно', 'судья верховный', 'судья давать', 'судья каждый', 'судья по', 'судья этот', 'судья сказать', 'судья который', 'судья Ю', 'судья быть', 'судья совершать', 'судья лишать', 'судья заявлять', 'судья продление', 'судья -', 'судья принимать', 'судья отмечать', 'судья ходатайство', 'судья постановить', 'судья отдавать', 'судья решать', 'судья государственный', 'судья постоянно', 'судья учесть', 'судья рассматривать', 'судья заявлять', 'судья в', 'судья пока', 'судья решать', 'судья Корреа', 'судья Галиано', 'судья известный', 'судья прокурорский', 'судья находить', 'судья подтверждать', 'судья подтверждать', 'судья который', 'судья однако', 'судья и', 'судья и', 'судья в', 'судья в', 'судья из', 'судья по', 'судья поддерживать', 'судья до', 'судья также', 'судья в', 'судья выносить', 'судья процесс', 'судья округ', 'судья свой', 'судья -', 'судья округ', 'судья отказываться', 'судья сказать', 'судья быть', 'судья не', 'судья по', 'судья по', 'судья необоснованно', 'судья ведущий', 'судья отвергать', 'судья верховный', 'судья верховный', 'судья ведущий', 'судья решать', 'судья отклонять', 'судья уносить', 'судья быть', 'судья двое', 'судья который', 'судья который', 'судья залог', 'судья за', 'судья о', 'судья Инть', 'судья верховный', 'судья речь', 'судья признавать', 'судья обсуждать', 'судья сохранять', 'судья уходить', 'судья быть', 'судья на', 'судья признавать', 'судья выслушивать', 'судья европейский', 'судья давать', 'судья с', 'судья быть', 'судья должен', 'судья уголовный', 'судья некий', 'судья некий', 'судья лишать', 'судья как', 'судья заявлять', 'судья интересовать', 'судья высокий', 'судья высокий', 'судья обязать', 'судья верховный', 'судья один', 'судья уличение', 'судья немедленно', 'судья -', 'судья оставаться', 'судья для', 'судья устанавливать', 'судья не', 'судья не', 'судья и', 'судья суд', 'судья он', 'судья заявлять', 'судья курский', 'судья который', 'судья ограничивать', 'судья пресненский', 'судья консервативный', 'судья пойти', 'судья -', 'судья считать', 'судья верховный', 'судья который', 'судья а', 'судья справка', 'судья Эрв', 'судья прекращать', 'судья -', 'судья даже', 'судья верховный', 'судья удовлетворять', 'судья определение', 'судья заявлять', 'судья нина', 'судья спид', 'судья и', 'судья и', 'судья флоридский', 'судья в', 'судья округ', 'судья штат', 'судья который', 'судья штат', 'судья предстоять', 'судья матч', 'судья выносить', 'судья еще', 'судья отказываться', 'судья международный', 'судья из', 'судья верховный', 'судья прекращать', 'судья МакВя', 'судья и', 'судья выносить', 'судья о', 'судья руководствоваться', 'судья прием', 'судья в', 'судья ставить', 'судья по', 'судья Гом', 'судья предстоять', 'судья беседовать', 'судья по', 'судья который', 'судья предстать', 'судья выпускать', 'судья объявлять', 'судья некий', 'судья некий', 'судья постановлять', 'судья а', 'судья уменьшать', 'судья демонстрировать', 'судья демонстрировать', 'судья признавать', 'судья не', 'судья принимать', 'судья отказываться', 'судья и', 'судья в', 'судья объяснять', 'судья в', 'судья отправлять', 'судья и', 'судья информировать', 'судья заявлять', 'судья отдавать', 'судья быть', 'судья отмечать', 'судья 6900', 'судья национальный', 'судья документ', 'судья верховный', 'судья следовать', 'судья уменьшать', 'судья долждать', 'судья отказывать', 'судья относиться', 'судья и', 'судья уже', 'судья отсмеяться', 'судья прекращать', 'судья муж', 'судья свой', 'судья известный', 'судья сказать', 'судья напоминать', 'судья пятилетний', 'судья конституционный', 'судья о', 'судья Похорелска', 'судья который', 'судья Похорелска', 'судья Похорелска', 'судья должен', 'судья Похорелска', 'судья израильский', 'судья представлять', 'судья Ньюпортский', 'судья от', 'судья быть', 'судья Похорелска', 'судья постановлять', 'судья пообещать', 'судья окончательный', 'судья окончательный', 'судья из', 'судья который', 'судья так', 'судья Кунцевский', 'судья обязать', 'судья также', 'судья признавать', 'судья неприязненно', 'судья обвиняемый', 'судья Похорелска', 'судья любезно', 'судья все', 'судья график', 'судья матч', 'судья давать', 'судья не', 'судья отказывать', 'судья палата', 'судья отказываться', 'судья допрашивать', 'судья какой-то', 'судья быть', 'судья -', 'судья в', 'судья верховный', 'судья Погорелска', 'судья заявлять', 'судья Погорелска', 'судья мочь', 'судья оставлять', 'судья не', 'судья снова', 'судья отказываться', 'судья заявлять', 'судья проводить', 'судья однако', 'судья рассматривать', 'судья не', 'судья и', 'судья Похорелска', 'судья предстоять', 'судья заниматься', 'судья Черемушкинский', 'судья Baltasar', 'судья вставать', 'судья Бориспольский', 'судья порекомендовать', 'судья Похорелска', 'судья давать', 'судья Joel', 'судья просто', 'судья Бетти', 'судья признавать', 'судья Alan']\n",
            "{'судья решать': 2, 'судья все': 2, 'судья добавлять': 2, 'судья конституционный': 2, 'судья подпереть': 1, 'судья отклонять': 2, 'судья считать': 2, 'судья направлять': 2, 'судья получать': 2, 'судья Каспер-Анзерма': 2, 'судья с': 2, 'судья признавать': 2, 'судья Дево': 2, 'судья независимо': 1, 'судья проводить': 2, 'судья от': 2, 'судья шотландский': 1, 'судья постановить': 2, 'судья вызывать': 3, 'судья традиционно': 1, 'судья юрист': 1, 'судья удовлетворять': 2, 'судья и': 2, 'судья областной': 1, 'судья Кужанкуй': 1, 'судья запрещать': 2, 'судья министр': 1, 'судья в': 2, 'судья они': 1, 'судья мочь': 4, 'судья быть': 2, 'судья возглавлять': 2, 'судья он': 2, 'судья по': 2, 'судья гласить': 1, 'судья объявлять': 2, 'судья отказываться': 2, 'судья добиваться': 1, 'судья Руссо': 1, 'судья на': 2, 'судья прокурор': 1, 'судья комментировать': 1, 'судья оглашение': 1, 'судья обеспокоить': 1, 'судья еще': 2, 'судья федеральный': 1, 'судья вынести': 1, 'судья отмечать': 2, 'судья рассмотрение': 1, 'судья американский': 1, 'судья 19': 1, 'судья чей': 1, 'судья назначать': 2, 'судья назначить': 1, 'судья проект': 1, 'судья обнародовать': 1, 'судья что': 2, 'судья более': 1, 'судья должен': 4, 'судья договориться': 1, 'судья городской': 1, 'судья проходить': 1, 'судья шариатский': 1, 'судья соглашаться': 2, 'судья за': 2, 'судья выносить': 2, 'судья международный': 2, 'судья о': 2, 'судья решение': 1, 'судья Л': 1, 'судья наносить': 1, 'судья не': 2, 'судья истец': 1, 'судья вести': 1, 'судья приходить': 2, 'судья вероятно': 1, 'судья рассматривать': 2, 'судья вынесение': 1, 'судья отбывать': 1, 'судья делить': 1, 'судья слово': 1, 'судья Печерский': 1, 'судья верховный': 2, 'судья анатолий': 1, 'судья но': 1, 'судья инициатор': 1, 'судья брайан': 1, 'судья подавлять': 1, 'судья закрывать': 1, 'судья один': 4, 'судья поступать': 1, 'судья связывать': 1, 'судья занимать': 1, 'судья тверской': 1, 'судья современность': 1, 'судья который': 4, 'судья вынужденный': 1, 'судья таможенник': 1, 'судья даже': 2, 'судья Санджованниприступит': 1, 'судья заявлять': 2, 'судья ведущий': 2, 'судья приостановить': 1, 'судья просить': 1, 'судья прекращать': 2, 'судья жалоба': 1, 'судья приходиться': 1, 'судья претензия': 1, 'судья издавать': 1, 'судья Мэрили': 1, 'судья из': 4, 'судья приговаривать': 1, 'судья Альдижер': 1, 'судья апелляционный': 2, 'судья бывший': 1, 'судья парижский': 2, 'судья отвергать': 2, 'судья постановлять': 2, 'судья игнорировать': 1, 'судья служить': 1, 'судья неверно': 1, 'судья чтобы': 1, 'судья метр': 1, 'судья компьютер': 1, 'судья вполне': 1, 'судья разрешать': 1, 'судья отказывать': 2, 'судья обнаруживать': 1, 'судья выгонять': 1, 'судья Мтбя': 1, 'судья указывать': 1, 'судья требовать': 1, 'судья -': 2, 'судья для': 2, 'судья принимать': 4, 'судья давать': 2, 'судья молчать': 1, 'судья Пфильцер': 1, 'судья предлагать': 1, 'судья новый': 1, 'судья восточный': 1, 'судья крикнуть': 1, 'судья констатировать': 1, 'судья называть': 1, 'судья центральный': 1, 'судья нарушеныположение': 1, 'судья сказать': 2, 'судья окружной': 1, 'судья готовый': 1, 'судья а': 2, 'судья весь': 1, 'судья уже': 2, 'судья -докладчикий': 1, 'судья Салониуспредоставлять': 1, 'судья орт': 1, 'судья против': 1, 'судья заслушать': 1, 'судья официальный': 1, 'судья предстоять': 2, 'судья отнюдь': 1, 'судья акция': 1, 'судья передавать': 1, 'судья слушание': 1, 'судья другой': 1, 'судья или': 1, 'судья под': 1, 'судья обязать': 2, 'судья лояльность': 1, 'судья этот': 2, 'судья Белорецкий': 1, 'судья фрунзенский': 1, 'судья друг': 1, 'судья примененыненадлежащий': 1, 'судья жить': 1, 'судья два': 1, 'судья главный': 1, 'судья удалить': 1, 'судья запрет': 1, 'судья заканчивать': 1, 'судья 9': 1, 'судья шесть': 1, 'судья разделяться': 1, 'судья опубликовывать': 1, 'судья первый': 1, 'судья председательствовать': 1, 'судья совместно': 1, 'судья каждый': 1, 'судья Ю': 1, 'судья совершать': 1, 'судья лишать': 4, 'судья продление': 1, 'судья ходатайство': 1, 'судья отдавать': 2, 'судья государственный': 1, 'судья постоянно': 1, 'судья учесть': 1, 'судья пока': 1, 'судья Корреа': 1, 'судья Галиано': 1, 'судья известный': 2, 'судья прокурорский': 1, 'судья находить': 1, 'судья подтверждать': 3, 'судья однако': 2, 'судья поддерживать': 1, 'судья до': 1, 'судья также': 2, 'судья процесс': 1, 'судья округ': 2, 'судья свой': 2, 'судья необоснованно': 1, 'судья уносить': 1, 'судья двое': 1, 'судья залог': 1, 'судья Инть': 1, 'судья речь': 1, 'судья обсуждать': 1, 'судья сохранять': 1, 'судья уходить': 1, 'судья выслушивать': 1, 'судья европейский': 1, 'судья уголовный': 1, 'судья некий': 2, 'судья как': 1, 'судья интересовать': 1, 'судья высокий': 3, 'судья уличение': 1, 'судья немедленно': 1, 'судья оставаться': 1, 'судья устанавливать': 1, 'судья суд': 1, 'судья курский': 1, 'судья ограничивать': 1, 'судья пресненский': 1, 'судья консервативный': 1, 'судья пойти': 1, 'судья справка': 1, 'судья Эрв': 1, 'судья определение': 1, 'судья нина': 1, 'судья спид': 1, 'судья флоридский': 1, 'судья штат': 3, 'судья матч': 2, 'судья МакВя': 1, 'судья руководствоваться': 1, 'судья прием': 1, 'судья ставить': 1, 'судья Гом': 1, 'судья беседовать': 1, 'судья предстать': 1, 'судья выпускать': 1, 'судья уменьшать': 2, 'судья демонстрировать': 3, 'судья объяснять': 1, 'судья отправлять': 1, 'судья информировать': 1, 'судья 6900': 1, 'судья национальный': 1, 'судья документ': 1, 'судья следовать': 1, 'судья долждать': 1, 'судья относиться': 1, 'судья отсмеяться': 1, 'судья муж': 1, 'судья напоминать': 1, 'судья пятилетний': 1, 'судья Похорелска': 2, 'судья израильский': 1, 'судья представлять': 1, 'судья Ньюпортский': 1, 'судья пообещать': 1, 'судья окончательный': 3, 'судья так': 1, 'судья Кунцевский': 1, 'судья неприязненно': 1, 'судья обвиняемый': 1, 'судья любезно': 1, 'судья график': 1, 'судья палата': 1, 'судья допрашивать': 1, 'судья какой-то': 1, 'судья Погорелска': 3, 'судья оставлять': 1, 'судья снова': 1, 'судья заниматься': 1, 'судья Черемушкинский': 1, 'судья Baltasar': 1, 'судья вставать': 1, 'судья Бориспольский': 1, 'судья порекомендовать': 1, 'судья Joel': 1, 'судья просто': 1, 'судья Бетти': 1, 'судья Alan': 1}\n",
            "['но', 'окружной', 'судья', 'решать', 'дело', 'в', 'польза', 'веб', '-издательствый', 'она', 'отвергать', 'требование', 'в', 'судебный', 'порядок', 'запрещать', 'публикация', 'секретный', 'документ', 'поскольку', 'такой', 'запрет', 'нарушать', 'бы', 'свобода', 'слово']\n",
            "['однако', 'судья', 'все', 'же', 'выносить', 'постановление', 'связывать', 'с', 'то', 'что', 'нарушать', 'копирайт', 'компания']\n",
            "['при', 'это', 'судья', 'добавлять', 'что', 'судебный', 'система', 'только', 'начинать', 'подходить', 'к', 'такой', 'сложный', 'вопрос', 'как', 'свобода', 'слово', 'и', 'защита', 'интеллектуальный', 'собственность', 'в']\n",
            "['между', 'то', 'как', 'заявлять', 'в', 'эфир', 'москва', 'судья', 'конституционный', 'суд', 'повторный', 'перерегистрация', 'иногородний', 'в', 'не', 'предусматривать', 'закон']\n",
            "['как', 'отмечаться', 'в', 'распространять', 'впонедельник', 'заявление', 'прокуратура', 'восточный', 'округ', 'на', 'это', 'обвиняемый', 'рассчитывать', 'на', 'снисхождение', 'судья']\n",
            "['как', 'сообщать', 'Wired', 'news', 'судья', 'подпереть', 'рука', 'подбородок', 'молча', 'выслушивать', 'довод', 'оба', 'сторона', 'не', 'задавать', 'ни', 'один', 'вопрос']\n",
            "['наблюдатель', 'полагать', 'что', 'независимо', 'от', 'то', 'в', 'чей', 'польза', 'быть', 'выносить', 'решение', 'противный', 'сторона', 'непременно', 'обжаловать', 'решение', 'судья']\n",
            "['по', 'сообщение', 'Прайм', 'в', 'вторник', 'поздно', 'вечер', 'челябинский', 'областной', 'арбитражный', 'суд', 'под', 'председательство', 'судья', 'отклонять', 'иск', 'губернатор', 'красноярский', 'край', 'о', 'продление', 'внешний', 'управление', 'в', 'оао', 'Ачинский', 'глиноземный', 'комбинат', 'на', '7,5', 'год', 'и', 'прекращать', 'дело', 'о', 'он', 'банкротство']\n",
            "['адвокат', 'призывать', 'и', 'вовсе', 'ограничиваться', 'штраф', 'но', 'судья', 'считать', 'что', 'проступок', 'футбольный', 'фанат', 'все', 'же', 'заслуживать', 'хотя', 'бы', 'условный', 'наказание', 'на', '1', 'год', 'который', 'мочь', 'вступать', 'в', 'сила', 'если', 'в', 'течение', 'год', 'совершать', 'какой-либо', 'уголовно', 'наказуемый', 'проступок']\n",
            "['пять', 'день', 'назад', 'мадридский', 'судья', 'направлять', 'в', 'указание', 'противоположный', 'содержание']\n",
            "['однако', 'вскоре', 'становиться', 'известный', 'что', 'судья', 'получать', 'от', 'свой', 'английский', 'коллега', 'запрос', 'о', 'то', 'чей', 'указание', '-', 'судебный', 'или', 'исполнительный', 'власть', '-', 'они', 'должен', 'выполнять', 'в', 'данный', 'случай']\n",
            "['в', 'швейцарский', 'делегация', 'помимо', 'недавно', 'назначить', 'новый', 'генпрокурор', 'сменять', 'на', 'этот', 'пост', 'дель', 'Понти', 'входить', 'женевский', 'судья', 'Каспер-Анзерма', 'и', 'несколько', 'высокопоставленный', 'чиновник', 'федеральный', 'служба', 'полиция']\n",
            "['судья', 'с', 'давний', 'пора', 'заниматься', 'швейцарский', 'счетам', 'бывший', 'премьер-министр']\n",
            "['судья', 'признавать', 'что', 'обвиняемый', 'демонстрировать', 'чрезвычайно', 'глубокий', 'познание', 'в', 'компьютер', 'и', 'доскональной', 'понимание', 'то', 'как', 'функционировать', 'телефонный', 'сеть']\n",
            "['такой', 'точка', 'зрение', 'высказывать', 'женевский', 'судья', 'Дево', 'заниматься', 'расследование', 'по', 'повод', 'отмывание', 'деньги', 'через', 'швейцарский', 'банк']\n",
            "['указывать', 'что', 'расследование', 'вести', 'судья', 'независимо', 'от', 'расследование', 'по', 'дело', 'строительный', 'фирма', 'Mabetex', 'известный', 'по', 'скандал', 'с', 'кредитный', 'карточка', 'якобы', 'принадлежать', 'семья']\n",
            "['расследование', 'по', 'отношение', 'к', 'казахский', 'деньги', 'судья', 'проводить', 'по', 'просьба', 'правительство', 'подозревать', 'что', 'бывший', 'премьер-министр', 'страна', 'обвинять', 'в', 'коррупция', 'мочь', 'хранить', 'свой', 'деньги', 'на', 'счет', 'в', 'какой-либо', 'швейцарский', 'банк']\n",
            "['судья', 'от', 'чей', 'имя', 'якобы', 'быть', 'выненосить', 'решение', 'не', 'работать', 'в', 'судебный', 'орган', 'с', 'июнь', '1998', 'год']\n",
            "['судья', 'шотландский', 'город', 'Гринок', 'выносить', 'оправдательный', 'приговор', 'три', 'женщина', '-пацифистка', 'совершить', 'как', 'выразиться', 'русский', 'служба', 'би-би-си', 'акт', 'вандализм', 'на', 'база', 'атомный', 'подводный', 'лодка']\n",
            "['теперь', 'же', 'они', 'быть', 'выпускать', 'судья', 'постановить', 'что', 'женщина', 'быть', 'вправе', 'пытаться', 'разоружить', 'подводный', 'лодка', 'Trident', 'поскольку', 'тот', 'являться', 'часть', 'британский', 'ядерный', 'программа', 'незаконный', 'с', 'точка', 'зрение', 'международный', 'право']\n",
            "['судья', 'вызывать', 'большой', 'резонанс', 'в']\n",
            "['тот', 'время', 'намерен', 'пересматривать', 'решение', 'судья']\n",
            "['я', 'просто', 'не', 'понимать', 'решение', 'судья']\n",
            "['этот', 'решение', 'судья', 'вызывать', 'в', 'общество', 'негативный', 'реакция']\n",
            "['между', 'то', 'право', 'участвовать', 'в', 'работа', 'палата', 'сохранить', 'лорд', 'титул', 'который', 'присваивать', 'монарх', 'в', 'знак', 'признание', 'они', 'личный', 'заслуга', 'и', 'по', 'предложение', 'правительство', 'а', 'также', 'епископ', 'и', 'высший', 'судья', 'традиционно', 'являться', 'член', 'верхний', 'палата']\n",
            "['на', 'собеседование', 'присутствовать', 'судья', 'юрист', 'представитель', 'обвинение', 'директор', 'издательство', 'Маргиний', 'представлять', 'мнтерес', 'по', 'довереность', 'и', 'адвокат', 'отвечик', 'с', 'помощник']\n",
            "['судья', 'удовлетворять', 'этот', 'требование']\n",
            "['пятеро', 'судья', 'и', 'секретарь', 'суд', 'получать', 'ранение']\n",
            "['00', 'по', 'московский', 'время', 'в', 'здание', 'городской', 'суд', 'заходить', 'неизвестный', 'мужчина', 'и', 'бросать', 'взрывпакть', 'в', 'кабинет', 'судья']\n",
            "['затем', 'этот', 'же', 'мужчина', 'бросать', 'два', 'граната', 'в', 'кабинет', 'судья', 'областной', 'суд']\n",
            "['в', 'результат', 'взрыв', 'страдать', 'судья', 'Кужанкуй', 'и']\n",
            "['областной', 'суд', 'не', 'исключать', 'что', 'взрыв', 'становиться', 'акт', 'месть', 'судья']\n",
            "['судья', 'удовлетворять', 'запрос', 'музей', 'и', 'направлять', 'такой', 'предписание', 'власть', 'в', 'понедельник']\n",
            "['судья', 'запрещать', 'нью-йоркский', 'мэр', 'и', 'городской', 'администрация', 'предпринимать', 'против', 'музей', 'какой-либо', 'шаг']\n",
            "['чтобы', 'успокаивать', 'общественный', 'мнение', 'авторитетный', 'представитель', 'весь', 'ветвь', 'израильский', 'власть', '-', 'руководитель', 'прокуратура', 'и', 'спецслужба', 'министр', 'верховный', 'судья', 'и', 'юридический', 'советник', 'правительство', '-', 'приходиться', 'делать', 'ряд', 'заявление', 'после', 'то', 'как', 'они', 'лично', 'ознакомляться', 'с', 'секретный', 'документ', 'по', 'дело']\n",
            "['быть', 'легкий', 'поверить', 'этот', 'заверение', 'чем', 'допускать', 'существование', 'общий', 'заговор', 'по', 'выгораживание', 'в', 'который', 'равный', 'замешать', 'судья', 'министр', 'генеральный', 'прокуратура', 'спецслужба', 'и', 'юридический', 'советник', 'правительство']\n",
            "['о', 'выплата', 'компенсация', 'должен', 'быть', 'утвердить', 'федеральный', 'судья', 'в', 'сообщать', 'агентство']\n",
            "['ясно', 'демонстрировать', 'что', 'использовать', 'свой', 'огромный', 'мощь', 'и', 'колоссальный', 'доход', 'для', 'удушение', 'любой', 'компания', 'который', 'появляться', 'на', 'рынок', 'с', 'продукт', 'конкурируть', 'с', 'один', 'из', 'основной', 'продукт', '-', 'сказать', 'в', 'заключение', 'окружной', 'судья']\n",
            "['после', 'оглашение', 'решение', 'судья', 'они', 'падать', 'до', '88,75', 'доллар']\n",
            "['судья', 'мочь', 'требовать', 'от', 'микрософт', 'расформирование', 'корпорация', 'на', 'более', 'мелкий', 'который', 'быть', 'конкурировать', 'друг', 'с', 'друг', 'или', 'же', 'применять', 'к', 'она', 'более', 'мягкий', 'наказание', 'просто', 'запрещать', 'компания', 'препятствовать', 'развитие', 'новый', 'технология', 'являться', 'угроза', 'операционный', 'система', 'windows']\n",
            "['предполагаться', 'что', 'сам', 'задерживать', 'на', 'этот', 'заседание', 'допустить', 'не', 'быть', 'поскольку', 'коллегия', 'из', 'три', 'судья', 'быть', 'рассматривать', 'не', 'суть', 'выдвигать', 'обвинение', 'а', 'лишь', 'процессуальный', 'сторона', 'дело']\n",
            "['в', 'любой', 'случай', 'каждый', 'из', 'они', 'для', 'реализация', 'должен', 'прежде', 'получать', 'одобрение', 'окружной', 'судья', 'возглавлять', 'судебный', 'процесс', 'по', 'антимонопольный', 'иск', 'против', 'корпорация']\n",
            "['сказать', 'также', 'что', 'хотя', 'компания', 'и', 'быть', 'разочаровывать', 'решение', 'судья', 'он', 'все', 'еще', 'уверенный', 'в', 'то', 'что', 'американский', 'юриспруденция', 'в', 'конец', 'конец', 'осознавать', 'что', 'инновация', 'и', 'поведение', 'быть', 'абсолютно', 'честный', 'и', 'приносить', 'огромный', 'доход', 'миллион', 'потребитель']\n",
            "['долгий', 'путь', 'корпорация', 'вероятно', 'действительно', 'еще', 'предстоять', 'если', 'подавать', 'апелляция', 'после', 'оглашение', 'окончательный', 'решение', 'судья', 'по', 'антимонопольный', 'риск', 'дело', 'мочь', 'затягиваться', 'на', 'год']\n",
            "['приговор', 'четыре', 'месяц', 'тюремный', 'заключение', 'поначалу', 'быть', 'отменять', 'в', 'результат', 'апелляция', 'но', 'окончательный', 'решение', 'судья', 'гласить', 'что', 'хранение', 'на', 'жесткий', 'диск', 'или', 'распечатка', 'порнографический', 'материал', 'являться', 'уголовно', 'наказуемый', 'деяние']\n",
            "['правда', 'судья', 'объявлять', 'назначить', 'ранее', 'наказание', 'в', 'принцип', 'неверный', 'и', 'чрезмерный', 'и', 'сокращать', 'он', 'до', '12', 'месяц', 'условный', 'отстранение', 'от', 'преподавание']\n",
            "['однако', 'судья', 'отказываться', 'удовлетворять', 'это', 'ходатайство', 'усмотреть', 'в', 'действие', 'ответчик', 'недобросовестный', 'пользование', 'свой', 'право', 'направлять', 'на', 'затягивание', 'дело']\n",
            "['в', 'пятница', '19', 'ноябрь', 'становиться', 'известный', 'что', 'итальянский', 'судья', 'добиваться', 'привлечение', 'кардинал', 'Микель', 'один', 'из', 'наиболее', 'влиятельный', 'и', 'известный', 'иеррарх', 'к', 'суд', 'по', 'обвинение', 'в', 'преступный', 'связь', 'и', 'соучастие', 'в', 'мошенничество', 'с', 'ссуд']\n",
            "['в', 'официальный', 'запрос', 'судья', 'Руссо', 'и', 'по', 'этот', 'же', 'дело', 'фигурировать', 'еще', '20', 'человек']\n",
            "['судья', 'на', 'основание', 'подслушанный', 'телефонный', 'разговор', 'подозревать', 'что', 'принадлежать', 'неаполитанский', 'епархия', 'средства', 'переходить', 'в', 'рука', 'родственник', 'кардинал']\n",
            "['иск', 'житель', 'против', 'корпорация', '-', 'первый', 'крупный', 'иск', 'в', 'серия', 'неизбежный', 'претензия', 'к', 'корпорация', 'по', 'мотив', 'решение', 'судья', 'по', 'антимонопольный', 'иск', 'против']\n",
            "['засекречивание', 'не', 'подлежать', 'лицо', 'занимать', 'ключевой', 'пост', 'в', 'государство', '-', 'президент', 'член', 'правительство', 'и', 'парламент', 'депутат', 'местный', 'совет', 'судья', 'прокурор', 'и', 'кандидат', 'на', 'этот', 'должность']\n",
            "['адвокат', 'вести', 'этот', 'дело', 'ссылаться', 'на', 'замечание', 'судья', 'комментировать', 'цена', 'на', 'операционный', 'система', 'он', 'отмечать', 'что', 'в', 'компания', 'нет', 'основание', 'считать', 'что', 'назначение', 'цена', 'в', '49', 'доллар', 'не', 'приносить', 'прибыль']\n",
            "['адвокат', 'защищать', 'интерес', 'истец', 'по', 'вышеперечисленный', 'иск', 'намерен', 'базироваться', 'на', 'заключение', 'судья', 'по', 'антимонопольный', 'иск', 'против', 'корпорация', 'оглашать', '5', 'ноябрь']\n",
            "['если', 'юстиция', 'и', 'корпорация', 'при', 'посредничество', 'договориться', 'о', 'внесудебный', 'урегулирование', 'разногласие', 'окончательный', 'решение', 'судья', 'оглашение', 'который', 'назначать', 'на', 'февраль', '2000', 'год', 'мочь', 'вообще', 'не', 'быть', 'выносить']\n",
            "['то', 'быть', 'если', 'дело', 'решать', 'вне', 'суд', 'никакой', 'судебный', 'вердикт', 'кроме', 'предварительный', 'заключение', 'судья', 'от', '5', 'ноябрь', 'по', 'данный', 'антимонопольный', 'иск', 'не', 'оставаться']\n",
            "['хотя', 'в', 'заключение', 'судья', 'и', 'сказать', 'что', 'занимать', 'монопольный', 'положение', 'на', 'рынок', 'и', 'пользоваться', 'они', 'в', 'вред', 'потребитель', 'этот', 'тезис', 'нельзя', 'рассматривать', 'как', 'судебный', 'решение', 'на', 'база', 'который', 'можно', 'делать', 'вывод', 'годный', 'для', 'использование', 'в', 'разбор', 'другой', 'дело', 'касаться', 'корпорация']\n",
            "['другой', 'же', 'часть', 'придерживаться', 'иной', 'точка', 'зрение', 'по', 'они', 'мнение', 'поскольку', 'судья', 'все', 'же', 'объявлять', 'монополия', 'он', 'заключение', 'мочь', 'быть', 'использовать', 'судья', 'в', 'ход', 'судебный', 'разбирательство', 'по', 'иск', 'против', 'корпорация', 'вне', 'зависимость', 'от', 'то', 'выносить', 'она', 'окончательный', 'приговор', 'или', 'неть']\n",
            "['другой', 'же', 'часть', 'придерживаться', 'иной', 'точка', 'зрение', 'по', 'они', 'мнение', 'поскольку', 'судья', 'все', 'же', 'объявлять', 'монополия', 'он', 'заключение', 'мочь', 'быть', 'использовать', 'судья', 'в', 'ход', 'судебный', 'разбирательство', 'по', 'иск', 'против', 'корпорация', 'вне', 'зависимость', 'от', 'то', 'выносить', 'она', 'окончательный', 'приговор', 'или', 'неть']\n",
            "['окружной', 'судья', 'обеспокоить', 'тот', 'обстоятельство', 'чтобы', 'между', 'истец', 'до', 'сей', 'пора', 'единый', 'фронт', 'выступать', 'против', 'корпорация', 'намечаться', 'раскол', 'сообщать', 'new', 'york', 'post']\n",
            "['согласно', 'стенограмма', 'судебный', 'заседание', 'опубликовывать', 'в', 'понедельник', 'судья', 'еще', 'в', 'четверг', 'во', 'время', 'встреча', 'в', 'он', 'офис', 'сообщать', 'юрист', 'что', 'они', 'получать', 'вызывать', 'беспокойство', 'сообщение', 'о', 'раскол', 'между', 'истец', 'по', 'антимонопольный', 'дело']\n",
            "['добавлять', 'также', 'что', 'он', 'решение', 'назначать', 'судья', 'федеральный', 'апелляционный', 'суд', 'посредник', 'в', 'внесудебный', 'решение', 'антимонопольный', 'дело', 'частично', 'объяснять', 'опасение', 'что', 'юстиция', 'и', 'прокурор', 'штат', 'быть', 'двигаться', 'параллельный', 'курс']\n",
            "['первоначально', 'предполагаться', 'что', 'судья', 'вынести', 'решение', '22', 'ноябрь', 'однако', 'председатель', 'суд', 'откладывать', 'оглашение', 'приговор', '24', 'ноябрь', 'и', 'вот', 'опять', 'отсрочка']\n",
            "['Присутствовать', 'на', 'процесс', 'прокурор', 'признавать', 'решение', 'обоснованный', 'и', 'призывать', 'судья', 'отклонять', 'жалоба', 'заявитель']\n",
            "['не', 'находить', 'таковой', 'судья', 'отмечать', 'что', 'поскольку', 'нет', 'буквальный', 'цитирование', 'ответственность', 'лежать', 'на']\n",
            "['по', 'слово', 'судья', 'рассмотрение', 'иск', 'мочь', 'занимать', 'продолжительный', 'время']\n",
            "['судья', 'американский', 'федеральный', 'апелляционный', 'суд', 'назначать', 'посредник', 'в', 'внесудебный', 'урегулирование', 'разногласие', 'между', 'корпорация', 'и', 'юстиция', 'по', 'антимонопольный', 'иск', 'встречаться', 'с', 'заинтересованный', 'сторона', 'в', 'вторник', 'в']\n",
            "['напоминать', 'что', 'посредник', 'быть', 'назначать', 'судья', '19', 'ноябрь']\n",
            "['он', 'известный', 'как', 'судья', 'чей', 'решение', 'никогда', 'не', 'отличаться', 'предсказуемость', 'порой', 'не', 'соответствовать', 'существовать', 'в', 'американский', 'юриспруденция', 'традиция', 'но', 'всегда', 'быть', 'логичный', 'и', 'изящный']\n",
            "['это', 'быть', 'делать', 'даже', 'если', 'представитель', 'телеведущий', 'или', 'сам', 'ответчик', 'не', 'явиться', 'в', 'суд', 'сообщать', 'журналист', 'председательствовать', 'в', 'процесс', 'судья']\n",
            "['он', 'отказываться', 'расписываться', 'в', 'повестка', 'о', 'явка', 'в', 'суд', 'сообщать', 'судья']\n",
            "['независимо', 'от', 'то', 'являться', 'ли', 'или', 'он', 'представитель', 'в', 'суд', 'или', 'нет', 'суд', 'намерен', 'приступать', 'завтра', 'утро', 'к', 'рассмотрение', 'иск', 'по', 'существо', 'сообщать', 'судья']\n",
            "['2', 'декабрь', 'в', 'состояться', 'первый', 'встреча', 'представитель', 'корпорация', '19', 'американский', 'штат', 'и', 'юстиция', 'с', 'который', 'быть', 'назначать', 'судья', 'на', 'роль', 'посредник', 'в', 'внесудебный', 'урегулирование', 'разногласие', 'между', 'противник', 'в', 'рамка', 'антимонопольный', 'иск', 'сообщать', 'CNet', 'news']\n",
            "['напоминать', 'что', 'окружной', 'судья', 'назначать', '-', 'судья', 'апелляционный', 'суд', 'седьмой', 'округ', '-', 'посредник', 'в', 'внесудебный', 'урегулирование', 'разногласие', 'между', 'корпорация', 'и', 'после', 'то', 'как', 'переговоры', 'рассчитывать', 'на', 'этот', 'урегулирование', 'трижды', 'оканчиваться', 'ничто']\n",
            "['напоминать', 'что', 'окружной', 'судья', 'назначать', '-', 'судья', 'апелляционный', 'суд', 'седьмой', 'округ', '-', 'посредник', 'в', 'внесудебный', 'урегулирование', 'разногласие', 'между', 'корпорация', 'и', 'после', 'то', 'как', 'переговоры', 'рассчитывать', 'на', 'этот', 'урегулирование', 'трижды', 'оканчиваться', 'ничто']\n",
            "['на', 'тот', 'случай', 'если', 'и', 'этот', 'раунд', 'переговоры', 'не', 'приносить', 'результат', 'судья', 'назначить', 'повторный', 'рассмотрение', 'дело', 'с', '6', 'декабрь', 'быть', 'рассматривать', 'письменный', 'заявление', 'сторона', 'а', '22', 'февраль', '-', 'устный']\n",
            "['по', 'утверждение', 'за', 'принятие', 'этот', 'решение', 'судья', 'быть', 'предоставлять', 'материальный', 'вознаграждение', 'соответствующий', 'обеспечение', 'вице-премьер', 'российский', 'правительство']\n",
            "['6', 'декабрь', 'правительство', 'представлять', 'окружной', 'судья', 'проект', 'заключение', 'по', 'антимонопольный', 'иск', 'против', 'корпорация']\n",
            "['правительство', 'на', 'данный', 'этап', 'состоять', 'в', 'то', 'чтобы', 'представлять', 'материал', 'иллюстрировать', 'нарушение', 'корпорация', 'антимонопольный', 'законодательство', 'и', 'обосновывать', 'юридический', 'значимость', 'факт', 'отражать', 'в', 'предварительный', 'заключение', 'судья', 'обнародовать', '5', 'ноябрь']\n",
            "['по', 'первый', 'пункт', 'у', 'правительство', 'быть', 'сильный', 'поддержка', 'со', 'сторона', 'судья', 'что', 'касаться', 'второй', 'то', 'он', 'гораздо', 'менее', 'ясный', 'и', 'гораздо', 'менее', 'четко', 'сформулировать', 'в', 'предварительный', 'заключение']\n",
            "['проект', 'заключение', 'который', 'быть', 'подавать', 'правительство', 'мочь', 'серьезно', 'влиять', 'на', 'переговоры', 'о', 'внесудебный', 'урегулирование', 'разногласие', 'сторона', 'начинаться', 'на', 'прошлый', 'неделя', 'в', 'при', 'посредничество', 'окружной', 'судья']\n",
            "['вынесение', 'приговор', 'должен', 'быть', 'состояться', 'еще', 'в', 'конец', 'прошлый', 'неделя', 'но', 'быть', 'откладывать', 'теперь', 'этот', 'слушание', 'проходить', 'в', 'среда', '8', 'декабрь', 'в', 'присутствие', 'судья', 'более', 'высокий', 'ранг', 'и', 'по', 'новый', 'закон', 'позволять', 'обвинять', 'по', 'более', 'широкий', 'спектр', 'статья']\n",
            "['вслед', 'за', 'то', 'с', '22', 'февраль', 'начинаться', 'устный', 'прения', 'после', 'который', 'окружной', 'судья', 'должен', 'выносить', 'окончательный', 'решение', 'по', 'иск']\n",
            "['в', 'случай', 'если', 'и', 'при', 'посредничество', 'окружной', 'судья', 'договориться', 'вне', 'суд', 'окончательный', 'судебный', 'решение', 'выносить', 'не', 'быть']\n",
            "['этот', 'поправка', 'предусматривать', 'что', 'председатель', 'специальный', 'суд', 'быть', 'судья', 'городской', 'суд', 'и', 'в', 'они', 'юрисдикция', 'быть', 'входить', 'рассмотрение', 'дело', 'по', 'обвинение', 'в', 'совершение', 'такой', 'преступление', 'как', 'ведение', 'война', 'против', 'государство', 'и', 'похищение', 'самолет']\n",
            "['по', 'он', 'слово', 'это', 'вызывать', 'то', 'что', 'судья', 'и', 'прокурор', 'отказываться', 'применять', 'закон', 'сообщать']\n",
            "['переговоры', 'представитель', 'юстиция', 'и', 'корпорация', 'при', 'посредничество', 'окружной', 'судья', 'проходить', 'в', 'с', '30', 'ноябрь']\n",
            "['вслед', 'за', 'то', 'если', 'проходить', 'в', 'переговоры', 'не', 'увенчаться', 'успех', '22', 'февраль', 'начинаться', 'устный', 'прения', 'после', 'который', 'окружной', 'судья', 'должен', 'выносить', 'окончательный', 'решение', 'по', 'иск']\n",
            "['в', 'свой', 'очередь', 'проживать', 'в', 'лидер', 'организация', 'аль', 'верховный', 'судья', 'шариатский', 'суд', 'шейх', 'известный', 'как', 'представитель', 'бин', 'на', 'на', 'день', 'призывать', 'весь', 'мусульманин', 'совершать', 'акт', 'террор', 'в', 'отношение', 'вооруженный', 'россия', 'российский', 'посольство', 'за', 'рубеж', 'военный', 'база', 'аэродром', 'и', 'объект', 'инфраструктура']\n",
            "['учитывать', 'этот', 'обстоятельство', 'комментировать', 'reuters', 'в', 'случай', 'если', 'быть', 'возобновить', 'расследование', 'вряд', 'ли', 'принимать', 'какой-либо', 'решение', 'по', 'иск', 'micro', 'Leader', 'business', 'до', 'то', 'как', 'свой', 'окончательный', 'решение', 'оглашать', 'окружной', 'судья']\n",
            "['он', 'убежденный', 'что', 'решение', 'судья', 'и', 'надеяться', 'что', 'более', 'высокий', 'инстанция', '-', 'военный', 'суд', 'московский', 'военный', 'округ', '-', 'отменять', 'сегодняшний', 'решение', 'и', 'вернуться', 'в', 'камера']\n",
            "['судья', 'соглашаться', 'с', 'довод', 'краевой', 'избирательный', 'комиссия']\n",
            "['в', 'четверг', 'окружной', 'судья', 'объявлять', 'о', 'то', 'что', 'присяжный', 'не', 'соглашаться', 'с', 'пункт', 'обвинение', 'в', 'который', 'идти', 'речь', 'о', 'то', 'что', 'выезжать', 'за', 'предел', 'штат', 'с', 'цель', 'заниматься', 'секс', 'с', 'несовершеннолетний', 'а', 'также', 'соблазнять', 'несовершеннолетняя', 'в']\n",
            "['кроме', 'то', 'в', 'жалоба', 'содержаться', 'просьба', 'выносить', 'частный', 'определение', 'в', 'отношение', 'судья', 'за', 'отказ', 'в', 'судебный', 'защита']\n",
            "['федеральный', 'судья', 'выносить', 'решение', 'в', 'польза', 'на', 'заключительный', 'судебный', 'разбирательство', 'в', 'она', 'трудный', 'тянущться', 'не', 'первый', 'год', 'юридический', 'сражение', 'за', 'право', 'использовать', 'термин', 'playboy', 'чтобы', 'продвигать', 'свой', 'веб-сайт']\n",
            "['дата', 'первый', 'появление', 'перед', 'судья', 'международный', 'трибунал', 'пока', 'не', 'объявлять']\n",
            "['как', 'сообщать', 'представитель', 'в', 'суд', 'заместитель', 'начальник', 'государственный', '-', 'правовой', 'управление', 'московский', 'мэрия', 'постоянно', 'напоминать', 'судья', 'о', 'незаконность', 'отстранение', 'начальник', 'региональный', 'милиция', 'без', 'консультация', 'с', 'глава', 'субъект']\n",
            "['по', 'слово', 'судья', 'решение', 'суд', 'мочь', 'быть', 'обжаловать', 'в', 'течение', '10', 'день', 'в', 'кассационный', 'инстанция', 'верховный', 'суд']\n",
            "['судья', 'Л']\n",
            "['по', 'он', 'мнение', 'решение', 'судья', 'наносить', 'ущерб', 'не', 'только', 'он', 'как', 'истец', 'но', 'и', 'весь', 'художник', 'графический', 'дизайнер', 'и', 'фотограф', 'помещать', 'свой', 'работа', 'на', 'веб']\n",
            "['com', 'стоять', 'ссылка', 'на', 'оригинальный', 'страница', 'с', 'который', 'позаимствовать', 'тот', 'или', 'иной', 'изображение', 'судья', 'не', 'считать', 'ситуация', 'нарушение', 'право', 'автор', 'изображение']\n",
            "['после', 'вынесение', 'решение', 'судья', 'истец', 'подавать', 'апелляция']\n",
            "['большинство', 'групповой', 'иск', 'быть', 'предъявлять', 'за', 'последний', 'два', 'месяц', 'после', '5', 'ноябрь', 'когда', 'быть', 'объявлять', 'предварительный', 'решение', 'судья', 'по', 'антимонопольный', 'иск', 'юстиция', 'против']\n",
            "['судья', 'в', 'свой', 'заключение', 'указывать', 'что', 'корпорация', 'действительно', 'являться', 'монополист', 'действовать', 'на', 'рынок', 'в', 'вред', 'потребитель']\n",
            "['в', 'настоящий', 'время', 'представитель', 'юстиция', 'и', 'корпорация', 'при', 'посредничество', 'окружной', 'судья', 'вести', 'переговоры', 'о', 'внесудебный', 'урегулирование', 'разногласие']\n",
            "['однако', 'параллельно', 'с', 'переговоры', 'продолжаться', 'судебный', 'разбирательство', 'уже', 'отослать', 'судья', 'возглавлять', 'этот', 'разбирательство', 'свой', 'вариант', 'окончательный', 'судебный', 'решение', 'корпорация', 'должен', 'делать', 'то', 'же', 'в', 'январь', 'а', 'в', 'конец', 'февраль', 'начинаться', 'устный', 'прения']\n",
            "['если', 'после', 'они', 'судья', 'объявлять', 'корпорация', 'виновный', 'в', 'нарушение', 'антимонопольный', 'законодательство', 'и', 'в', 'злоупотребление', 'монопольный', 'положение', 'на', 'рынок', 'тот', 'лавина', 'групповой', 'иск', 'против', 'корпорация', 'который', 'мы', 'наблюдать', 'сейчас', 'мочь', 'казаться', 'ручеек', 'в', 'сравнение', 'с', 'то', 'что', 'она', 'предстоять']\n",
            "['однако', 'судья', 'приходить', 'к', 'вывод', 'что', 'обвиняемый', 'во-первых', 'не', 'получать', 'выгода', 'от', 'этот', 'занятие', 'и', 'к', 'тот', 'же', 'не', 'хранить', 'в', 'себя', 'пиратский', 'файл', 'ограничивать', 'лишь', 'ссылка', 'на', 'они', 'с', 'свой', 'сайт']\n",
            "['судья', 'вероятно', 'предстоять', 'рассматривать', 'обвинение', 'против', 'руководство', 'и', 'летчик', 'участвоваать', 'в', 'бомбардировка']\n",
            "['в', 'среда', 'судья', 'рассматривать', 'иск', 'dvd', 'Copyright', 'Control', 'Association', 'против', 'хакер', 'распространять', 'программный', 'продукт', 'для', 'взлом', 'защита', 'dvd', 'digital', 'video', 'disc', 'на', 'предварительный', 'судебный', 'заседание', 'отказываться', 'накладывать', 'временный', 'запрет', 'на', 'распространение', 'ответчик', 'этот', 'продукт', 'сообщать', 'associated', 'press']\n",
            "['во', 'время', 'судебный', 'заседание', 'состояться', '29', 'декабрь', 'адвокат', 'истец', 'потребовать', 'от', 'судья', 'вынесение', 'временный', 'решение', 'согласно', 'который', 'ответчик', 'быть', 'бы', 'запрещать', 'публиковать', 'до', 'окончательный', 'решение', 'суд']\n",
            "['называться', 'the', 'Brethren', 'и', 'он', 'герой', 'являться', 'трое', 'бывший', 'судья', 'отбывать', 'срок', 'в', 'колония', 'общий', 'режим']\n",
            "['за', 'решетка', 'судья', 'делить', 'свободный', 'время', 'между', 'изучение', 'право', 'юридический', 'консультация', 'для', 'солагерник', 'и']\n",
            "['этот', 'обстоятельство', 'вызывать', 'серьезный', 'беспокойство', 'в', 'эксперт', 'а', 'также', 'в', 'окружной', 'судья', 'возглавлять', 'судебный', 'разбирательство', 'по', 'антимонопольный', 'иск']\n",
            "['в', 'настоящий', 'время', 'сторона', 'пытаться', 'приходить', 'к', 'внесудебный', 'соглашение', 'при', 'посредничество', 'судья']\n",
            "['по', 'мнение', 'судья', 'слово', 'начальник', 'флотский', 'контрразведка', 'нарушать', 'положение', 'о', 'презумпция', 'невиновность']\n",
            "['за', 'это', 'быть', 'наблюдать', 'судья']\n",
            "['судья', 'Печерский', 'районный', 'суд', 'возбуждать', 'уголовный', 'дело', 'по', 'факт', 'неправомочный', 'действие', 'бывший', 'спикер', 'и', 'вице-спикер', 'верховный', 'рад', 'александр', 'и']\n",
            "['в', 'постановление', 'судья', 'в', 'частность', 'указывать', 'что', 'начинать', 'с', '21', 'январь', 'и', 'руководить', 'они', 'депутат', 'систематически', 'чинить', 'препятствие', 'народный', 'избранник', 'из', 'число', 'большинство', 'который', 'пытаться', 'попадать', 'на', 'свой', 'рабочий', 'место', '-', 'в', 'сессионный', 'зал', 'парламент']\n",
            "['подосадовать', 'что', 'судья', 'верховный', 'суд', 'не', 'брать', 'на', 'себя', 'ответственность', 'а', 'переложить', 'она', 'насамарский', 'судья']\n",
            "['подосадовать', 'что', 'судья', 'верховный', 'суд', 'не', 'брать', 'на', 'себя', 'ответственность', 'а', 'переложить', 'она', 'насамарский', 'судья']\n",
            "['в', 'впервые', 'освобождать', 'от', 'занимать', 'должность', 'судья', 'верховный', 'суд', 'республика', 'сообщать', 'федеральный', 'агентство', 'новость', 'с', 'ссылка', 'на', 'председатель', 'верховный', 'суд']\n",
            "['свой', 'полномочие', 'лишать', 'судья', 'анатолий']\n",
            "['коллегия', 'судья', 'выступать', 'против', 'наказание', 'судья']\n",
            "['коллегия', 'судья', 'выступать', 'против', 'наказание', 'судья']\n",
            "['в', 'бывший', 'чилийский', 'диктатор', 'Аугусто', 'выявлять', 'серьезный', 'дисфункция', 'мозг', 'он', 'быть', 'бы', 'трудный', 'не', 'только', 'отвечать', 'на', 'вопрос', 'судья', 'но', 'даже', 'понимать', 'они', 'смысл']\n",
            "['Мадридский', 'судья', 'инициатор', 'дело', 'по', 'обвинение', 'экс-диктатор', 'получать', 'медицинский', 'заключение', 'оздоровий', 'от', 'министерство', 'иностранный', 'дело', 'в', 'среда']\n",
            "['судья', 'быть', 'отправлять', 'в']\n",
            "['как', 'сообщать', 'газета', 'этот', 'документ', 'являться', 'один', 'из', 'основание', 'выдача', 'в', 'прошлый', 'год', 'швейцарский', 'судья', 'Дево', 'международный', 'ордер', 'на', 'арест']\n",
            "['федеральный', 'судья', 'брайан', 'распорядиться', 'опубликовывать', 'документ', 'из', 'досье', 'на']\n",
            "['однако', 'судья', 'в', 'заключительный', 'речь', 'заявлять', 'что', 'не', 'видеть', 'в', 'этот', 'дело', 'никакой', 'угроза']\n",
            "['конституционный', 'судья', 'подавлять', 'большинство', 'переизбирать', 'нынешний', 'председатель', 'суд', 'на', 'второй', 'срок', '-', 'за', 'он', 'голосовать', '18', 'из', '19', 'член', 'передавать']\n",
            "['тогда', 'судья', 'закрывать', 'дело', 'заявлять', 'что', 'оно', 'выходить', 'за', 'рамка', 'он', 'юрисдикция']\n",
            "['президент', 'от', '31', 'декабрь', 'прошлый', 'год', 'о', 'гарантия', 'президент', 'прекратить', 'исполнение', 'свой', 'обязанность', 'и', 'член', 'он', 'семья', 'и', 'от', '7', 'февраль', 'о', 'обеспечение', 'деятельность', 'конституционный', 'суд', 'и', 'о', 'предоставление', 'государственный', 'социальный', 'гарантия', 'судья', 'конституционный', 'суд', 'и', 'член', 'они', 'семья', 'незаконно', 'устанавливать', 'материальный', 'привилегия', 'кучка', 'высший', 'должностной', 'лицо', 'и', 'лицо', 'оказываться', 'в', 'отставка', 'а', 'также', 'они', 'чадо', 'и', 'домочадец']\n",
            "['в', 'в', 'собственный', 'квартира', 'убивать', 'судья', 'один', 'из', 'районный', 'суд', 'город', 'передавать']\n",
            "['выясняться', 'также', 'что', 'убийство', 'происходить', 'около', 'месяц', 'назад', 'заявление', 'о', 'исчезновение', 'судья', 'поступать', 'в', 'милиция', 'лишь', 'тогда', 'когда', 'она', 'не', 'выходить', 'на', 'работа', 'после', 'отпуск']\n",
            "['судья', 'рассматривать', 'и', 'гражданский', 'и', 'уголовный', 'дело']\n",
            "['то', 'не', 'менее', 'следствие', 'не', 'исключать', 'что', 'убийство', 'судья', 'связывать', 'с', 'она', 'профессиональный', 'деятельность']\n",
            "['в', 'связь', 'с', 'это', 'по', 'мнение', 'районный', 'прокуратура', 'судья', 'удовлетворять', 'иск', 'нарушать', 'правовой', 'норма', 'поскольку', 'быть', 'обязанный', 'также', 'откладывать', 'рассмотрение', 'он', 'жалоба']\n",
            "['на', '65-й', 'минута', 'быть', 'забивать', 'и', 'второй', 'гол', 'но', 'судья', 'не', 'считать', 'он', 'из-за', 'офсайд']\n",
            "['по', 'мнение', 'адвокат', 'истец', 'этот', 'решение', 'можно', 'называть', 'исторический', 'так', 'как', 'судья', 'признавать', 'то', 'что', 'все', 'давно', 'известный', '-', 'табачный', 'изделие', 'опасный', 'для', 'здоровье', 'человек']\n",
            "['Рэй', 'бывший', 'первый', 'помощник', 'судья', 'занимать', 'пост', 'независимый', 'прокурор', 'в', 'октябрь', 'прошлый', 'год', 'после', 'разбирательство', 'по', 'дело']\n",
            "['как', 'решать', 'судья', 'тверской', 'суд', 'жалоба', 'должен', 'рассматривать', 'который', 'вести', 'следствие', 'по', 'дело']\n",
            "['один', 'из', 'лучший', 'футбольный', 'судья', 'современность', '-', 'итальянец', 'оказываться', 'обслуживать', 'ответный', 'полуфинальный', 'матч', 'между', 'английский', 'и', 'турецкий']\n",
            "['мексиканский', 'власть', 'высылать', 'в', 'главарь', 'итальянский', 'мафия', 'разыскивать', 'в', 'связь', 'с', 'убийство', 'в', '1990', 'год', 'один', 'из', 'судья', 'который', 'заниматься', 'расследование', 'деятельность', 'мафия']\n",
            "['обвинять', 'в', 'подготовка', 'покушение', 'на', 'судья', 'который', 'быть', 'убивать', 'во', 'время', 'расследование', 'деятельность', 'этот', 'организация']\n",
            "['кульминация', 'конфликт', 'являться', 'обращение', 'губернатор', 'в', 'высший', 'квалификационный', 'коллегия', 'судья', 'с', 'представление', 'о', 'прекращение', 'полномочие', 'председатель', 'арбитражный', 'судно', 'приморский', 'край']\n",
            "['в', 'связь', 'с', 'складываться', 'ситуация', 'судья', 'вынужденный', 'быть', 'пойти', 'на', 'крайний', 'мера', 'и', 'объявлять', 'голодовка', 'в', 'знак', 'протест', 'против', 'проводить', 'губернатор', 'край', 'политика']\n",
            "['пытаться', 'останавливать', 'судья', 'таможенник', 'обращаться', 'за', 'разъяснение', 'в', 'россия', 'который', 'поддерживать', 'они', 'позиция']\n",
            "['судья', 'назначать', 'слушание', 'на', '1', 'май']\n",
            "['в', 'соответствие', 'с', 'в', 'церемония', 'инаугурация', 'быть', 'участвовать', 'член', 'депутат', 'судья', 'конституционный', 'и', 'другой', 'представитель', 'государственный', 'власть']\n",
            "['после', 'появление', 'информация', 'о', 'возможный', 'решение', 'федеральный', 'судья', 'о', 'раздел', 'акция', 'компания', 'начинать', 'стремительно', 'падать', 'сообщать', 'bbc']\n",
            "['страсть', 'накалиться', 'и', 'судья', 'даже', 'удалить', 'с', 'скамейка', 'запасной', 'не', 'принимать', 'участие', 'в', 'игра', 'латать', 'который', 'становиться', 'слишком', 'шумно', 'выражать', 'свой', 'недовольство']\n",
            "['в', 'ближайший', 'четверг', 'римский', 'судья', 'Санджованниприступит', 'к', 'рассмотрение', 'представлять', 'наследник', 'Щукинадокументов', 'и', 'соглашение', 'заключать', 'между', 'Mondadori', 'и', 'Эрмитаж']\n",
            "['корпорация', 'удаваться', 'добиваться', 'это', 'прежде', 'чем', 'судья', 'рассматривать', 'обращение', 'сша', 'настаивать', 'на', 'то', 'что', 'апелляция', 'рассматриваться', 'сразу', 'в', 'верховный', 'суд', 'миновать', 'промежуточный', 'инстанция']\n",
            "['помимо', 'просьба', 'отменять', 'решение', 'о', 'разделение', 'компания', 'в', 'свой', 'обращение', 'в', 'суд', 'настаивать', 'на', 'снятие', 'ограничение', 'также', 'предусматривать', 'приговор', 'судья', 'и', 'уже', 'вступить', 'в', 'сила']\n",
            "['судья', 'быть', 'основывать', 'на', 'существовать', 'постановление', 'верховный', 'суд', 'согласно', 'который', 'покупатель', 'мочь', 'обращаться', 'в', 'суд', 'с', 'жалоба', 'на', 'нарушение', 'производитель', 'антимонопольный', 'законодательство', 'только', 'в', 'тот', 'случай', 'если', 'они', 'приобретать', 'продукт', 'непосредственно', 'в', 'он']\n",
            "['это', 'политический', 'интрига', 'организовывать', 'высокопоставленный', 'представитель', 'власть', 'для', 'который', 'свобода', 'слово', 'представлять', 'опасность', 'и', 'помеха', 'для', 'реализация', 'они', 'план', 'построение', 'в', 'они', 'понимание', 'новый', 'а', 'на', 'самый', 'дело', 'возврат', 'назад', 'к', 'тоталитарный', 'прошлое', '-', 'в', 'прошлое', 'уже', 'быть', 'и', 'сильный', 'власть', 'с', 'ГУЛАГ', 'и', 'диктатура', 'закон', 'с', 'назначать', 'судья', 'и', 'они', 'курировавший', 'из']\n",
            "['в', 'май', 'французский', 'судья', 'заявлять', 'что', 'аукцион', 'Yahoo', 'оскорблять', 'коллективный', 'память', 'страна', 'и', 'обязать', 'Yahoo', 'представлять', 'к', '24', 'июль', 'отчет', 'о', 'мера', 'который', 'компания', 'предпринимать', 'для', 'предотвращение', 'участие', 'француз', 'в', 'этот', 'акция']\n",
            "['ссылаться', 'на', 'несоблюдение', 'некоторый', 'процессуальный', 'формальность', 'судья', 'выносить', 'решение', 'о', 'переоформление', 'иск', 'и', 'назначать', 'новый', 'рассмотрение', 'дело', 'на', '3', 'июль', 'сообщать']\n",
            "['выносить', 'вердикт', 'судья', 'ведущий', 'дело', 'основываться', 'на', 'специальный', 'закон', 'позволять', 'изменять', 'обычный', 'порядок', 'рассмотрение', 'апелляция', 'и', 'миновать', 'промежуточный', 'судебный', 'инстанция', 'сообщать', 'reuters']\n",
            "['одновременно', 'судья', 'приостановить', 'вводить', 'ранее', 'ограничение', 'на', 'деятельность', 'до', 'принятие', 'решение', 'по', 'апелляция']\n",
            "['верховный', 'сша', 'принимать', 'дело', 'к', 'рассмотрение', 'если', 'пять', 'судья', 'не', 'голосовать', 'за', 'возвращение', 'он', 'в', 'апелляционный', 'суд']\n",
            "['рассмотреть', 'он', 'судья', 'просить', 'истец', 'разделять', 'свой', 'требование', 'на', 'несколько', 'иск']\n",
            "['высший', 'квалификационный', 'коллегия', 'судья', 'прекращать', 'полномочияпредседатель', 'арбитражный', 'судно', 'приморский', 'край']\n",
            "['как', 'сообщать', 'в', 'секретариат', 'коллегия', 'отстранить', 'от', 'должность', 'за', 'совершение', 'поступок', 'позорять', 'честь', 'и', 'достоинство', 'судья']\n",
            "['в', 'заседание', 'высший', 'квалификационный', 'коллегия', 'судья', 'который', 'состояться', 'в', 'вторник', 'принимать', 'участие', 'первый', 'вице-губернатор', 'край']\n",
            "['Отстраненный', 'решение', 'высший', 'квалификационный', 'коллегия', 'судья', 'от', 'должность', 'председатель', 'арбитражный', 'суд', 'приморский', 'край', 'в', 'четверг', 'приезжать', 'в', 'добиваться', 'справедливость']\n",
            "['как', 'сообщать', 'она', 'уже', 'подавать', 'в', 'судья', 'жалоба', 'на', 'действие', 'коллегия']\n",
            "['так', 'регламент', 'коллегия', 'запрещать', 'проводить', 'заседание', 'при', 'отсутствие', 'судья', 'по', 'уважительный', 'причина']\n",
            "['между', 'то', 'в', 'секретариат', 'высший', 'квалификационный', 'коллегия', 'судья', 'пояснять', 'что', 'отстранить', 'от', 'должность', 'в', 'соответствие', 'с', 'пункт', 'первый', '14', 'закон', 'о', 'статус', 'судья', 'совершение', 'поступок', 'позорять', 'честь', 'и', 'достоинство', 'судья']\n",
            "['между', 'то', 'в', 'секретариат', 'высший', 'квалификационный', 'коллегия', 'судья', 'пояснять', 'что', 'отстранить', 'от', 'должность', 'в', 'соответствие', 'с', 'пункт', 'первый', '14', 'закон', 'о', 'статус', 'судья', 'совершение', 'поступок', 'позорять', 'честь', 'и', 'достоинство', 'судья']\n",
            "['между', 'то', 'в', 'секретариат', 'высший', 'квалификационный', 'коллегия', 'судья', 'пояснять', 'что', 'отстранить', 'от', 'должность', 'в', 'соответствие', 'с', 'пункт', 'первый', '14', 'закон', 'о', 'статус', 'судья', 'совершение', 'поступок', 'позорять', 'честь', 'и', 'достоинство', 'судья']\n",
            "['приморский', 'власть', 'давно', 'конфликтовать', 'с', 'судья']\n",
            "['судья', 'приходиться', 'прикрывать', 'Саварес', 'пока', 'бывший', 'чемпион', 'мир', 'в', 'тяжелый', 'вес', 'не', 'оттащить', 'от', 'лежать', 'на', 'ринг', 'боксер']\n",
            "['по', 'решение', 'арбитражный', 'судья', 'претензия', 'администрация', 'к', 'настоятель', 'Покровский', 'приход', 'и', 'к', 'епархия', 'признавать', 'в', 'целое', 'беспочвять', 'и', 'не', 'мочь', 'являться', 'основание', 'для', 'прекращение', 'долгосрочный', 'аренда', 'парковый', 'территория']\n",
            "['в', 'четверг', 'судья', 'издавать', 'постановление', 'согласно', 'который', 'компания', 'Yahoo', 'владелец', 'GeoCities', 'должен', 'передавать', 'в', 'требуемый', 'персональный', 'данные', 'аноним']\n",
            "['то', 'не', 'менее', 'третейский', 'судья', 'Мэрили', 'постановить', 'что', 'владелец', 'сайт', 'не', 'использовать', 'этот', 'сайт', 'для', 'создание', 'фан-клуб', 'а', 'намереваться', 'продавать', 'он', 'держатель', 'торговый', 'марка', 'за', 'один', 'миллион', 'доллар']\n",
            "['за', 'голосовать', '14', 'судья', 'из', '20']\n",
            "['судья', 'приговаривать', 'бывший', 'губернатор', 'к', '18', 'месяц', 'тюрьма', 'с', 'отсрочка', 'приговор', 'на', 'три', 'год']\n",
            "['счет', 'российский', 'дипломатический', 'миссия', 'в', 'разморожать', 'соответствующий', 'решение', 'апелляционный', 'суд', 'оглашать', 'в', 'четверг', 'в', 'парижский', 'правосудие', 'судья', 'Альдижер']\n",
            "['судья', 'апелляционный', 'суд', 'указывать', 'что', 'фирма', 'Noga', 'должен', 'возмещать', 'российский', 'диппредставительство', 'в', 'они', 'затрата', 'на', 'ведение', 'процесс', 'в', 'размер', '30', 'тысяча', 'французский', 'франк']\n",
            "['по', 'слово', 'судья', 'бывший', 'сотрудник', 'Go', 'network', 'разрабатывать', 'для', 'бюро', 'новый', 'и', 'очень', 'эффективный', 'программный', 'обеспечение', 'позволять', 'бороться', 'с', 'сексуальный', 'преступность', 'в']\n",
            "['спецслужба', 'решать', 'добавлять', 'к', 'письмо', 'информация', 'разоблачать', 'тайный', 'сотрудничество', 'с', 'полиция', '-', 'сообщать', 'член', 'суд', 'судья']\n",
            "['в', 'пятница', 'судья', 'парижский', 'суд', 'вести', 'этот', 'дело', 'решать', 'поручать', 'авторитетный', 'специалист', 'более', 'подробно', 'изучать', 'технический', 'сторона', 'вопрос']\n",
            "['в', 'май', 'судья', 'выносить', 'постановление', 'в', 'польза', 'антифашист', 'обязать', 'Yahoo']\n",
            "['одновременно', 'судья', 'отвергать', 'встречный', 'аргумент', 'ответчик', 'оспаривать', 'сам', 'право', 'французский', 'суд', 'регулировать', 'содержание', 'американский', 'сайт']\n",
            "['в', 'конец', 'конец', 'в', 'четверг', 'нью-йоркский', 'окружной', 'судья', 'постановлять', 'запрещать', 'и', 'ссылка']\n",
            "['при', 'это', 'как', 'передавать', 'CNet', 'судья', 'игнорировать', 'заявление', 'адвокат', 'о', 'то', 'что', 'такой', 'запрет', 'нарушать', 'свобода', 'слово', 'и', 'первый', 'поправка']\n",
            "['компьютерный', 'код', 'настолько', 'же', 'являться', 'форма', 'самовыражение', 'насколько', 'убийство', 'политический', 'лидер', 'являться', 'выражение', 'политический', 'взгляд', '-', 'отмечать', 'судья']\n",
            "['тогда', 'когда', 'обвиняемый', 'ставить', 'ссылка', 'приводить', 'к', 'прямой', 'автоматический', 'загрузка', 'программа', 'Decss', 'никакой', 'вариант', 'не', 'мочь', 'быть', 'в', 'данный', 'случай', 'обвинять', 'функционально', 'делать', 'то', 'же', 'самый', 'как', 'если', 'бы', 'он', 'сам', 'передавать', 'пользователь', 'хакерский', 'код', '-', 'заявлять', 'судья']\n",
            "['данные', 'ссылка', 'по', 'слово', 'судья', 'служить', 'распространение', 'Decss', 'и', 'согласно', 'digital', 'millennium', 'Copyright', 'Act', 'являться', 'нелегальный']\n",
            "['по', 'он', 'слово', 'судья', 'неверно', 'интерпретировать', 'первый', 'поправка', 'а', 'он', 'запрет', 'на', 'ссылка', 'грозить', 'уничтожать', 'один', 'из', 'основной', 'преимущество']\n",
            "['данный', 'база', 'быть', 'использовать', 'судья', 'чтобы', 'делать', 'заключение', 'о', 'то', 'каков', 'вероятность', 'повторный', 'совершение', 'преступление', 'тот', 'же', 'преступник']\n",
            "['оставлять', 'в', 'сила', 'решение', 'высший', 'квалификационный', 'коллегия', 'судья', 'от', '20', 'июнь', 'о', 'досрочный', 'прекращение', 'полномочие', 'и', 'лишение', 'она', 'судейский', 'квалификация']\n",
            "['на', 'заседание', 'верховный', 'суд', 'выступать', 'два', 'свидетель', '-', 'предприниматель', 'из', 'который', 'сообщать', 'о', 'то', 'что', 'передавать', 'через', 'муж', 'Локтионовый', 'взятка', 'арбитражный', 'судья']\n",
            "['однако', 'недавно', 'судья', 'один', 'из', 'округ', 'штат', 'выносить', 'решение', 'гласящий', 'что', 'закон', 'запрещать', 'запись', 'частный', 'телефонный', 'разговор', 'без', 'согласие', 'весь', 'собеседник', 'не', 'применимый', 'к', 'электронный', 'почта', 'и', 'чат', '-', 'то', 'быть', 'приватный', 'беседа', 'который', 'вести', 'с', 'помощь', 'этот', 'средства', 'можно', 'записывать', 'без', 'согласие', 'второй', 'сторона']\n",
            "['однако', 'судья', 'метр']\n",
            "['более', 'то', 'по', 'заключение', 'судья', 'компьютер', 'сам', 'по', 'себя', 'являться', 'записывать', 'устройство', 'так', 'что', 'запись', 'компьютерный', 'беседа', 'происходить', 'всегда', 'и', 'автоматически']\n",
            "['по', 'мнение', 'один', 'юрист', 'решение', 'судья', 'вполне', 'разумно', 'с', 'учет', 'то', 'чтобы', 'человек', 'ежедневно', 'получать', 'огромный', 'количество', 'электронный', 'письмо', 'и', 'быть', 'бы', 'странно', 'требовать', 'от', 'они', 'получать', 'разрешение', 'на', 'сохранение', 'каждый', 'письмо']\n",
            "['в', 'заявление', 'испанский', 'Мид', 'говорить', 'что', 'передавать', 'юридический', 'обоснование', 'судья', 'который', 'добиваться', 'выдача', 'и', 'теперь', 'настаивать', 'на', 'то', 'что', 'бывший', 'чилийский', 'лидер', 'осматривать', 'врач', 'назначать', 'сам']\n",
            "['по', 'один', 'из', 'версия', 'правоохранительный', 'орган', 'теракт', 'должен', 'быть', 'оказывать', 'давление', 'на', 'судья']\n",
            "['вечер', 'в', 'четверг', 'нью-йоркский', 'судья', 'постановлять', 'временно', 'запрещать', 'публикация', 'на', 'три', 'сайт', 'код', 'взламывать', 'защита', 'цифровой', 'диск']\n",
            "['хотя', 'судебный', 'процесс', 'еще', 'не', 'завершаться', 'некоторый', 'наблюдатель', 'считать', 'что', 'решение', 'судья', 'запрещать', 'хоть', 'и', 'временно', 'публикация', 'код', 'на', 'сайт', 'говорить', 'о', 'то', 'что', 'суд', 'настраивать', 'не', 'в', 'польза', 'хакер']\n",
            "['однако', 'адвокат', 'из', 'правозащитный', 'организация', 'Electronic', 'Frontier', 'Foundation', 'из', 'обещать', 'бороться', 'до', 'конец', 'и', 'обжаловать', 'даже', 'этот', 'предварительный', 'решение', 'судья']\n",
            "['и', 'похоже', 'смехотворность', 'желание', 'запрещать', 'начинать', 'понимать', 'даже', 'судья', 'верховный', 'судья', 'издавать', 'распоряжение', 'о', 'запрет', 'на', 'публикация', 'код', 'в', 'в', 'тот', 'же', 'время', 'отказываться', 'рассматривать', 'как', 'вещественный', 'доказательство', 'футболка', 'с', 'код', 'взлом', 'dvd', 'на', 'спина', 'который', 'сторонник', 'идеология', 'open-source', 'раздавать', 'на', 'процесс']\n",
            "['и', 'похоже', 'смехотворность', 'желание', 'запрещать', 'начинать', 'понимать', 'даже', 'судья', 'верховный', 'судья', 'издавать', 'распоряжение', 'о', 'запрет', 'на', 'публикация', 'код', 'в', 'в', 'тот', 'же', 'время', 'отказываться', 'рассматривать', 'как', 'вещественный', 'доказательство', 'футболка', 'с', 'код', 'взлом', 'dvd', 'на', 'спина', 'который', 'сторонник', 'идеология', 'open-source', 'раздавать', 'на', 'процесс']\n",
            "['о', 'то', 'что', 'швейцарский', 'судья', 'Дево', 'выдавать', 'ордер', 'на', 'арест', 'который', 'обвинять', 'в', 'хищение', 'средства', 'из', 'госбюджет', 'и', 'доход', 'от', 'продажа', 'нефть', 'в', 'четверг', 'сообщать', 'газета', 'le', 'Monde']\n",
            "['в', 'судья', 'разрешать', 'удалять', 'матка', '28-летний', 'женщина', 'без', 'она', 'женщина', 'согласие', 'сообщать', 'Electronic', 'Telegraph']\n",
            "['то', 'не', 'менее', 'судья', 'отказывать', 'истец', 'по', 'весь', 'пункт', 'сообщать', 'news']\n",
            "['судья', 'обнаруживать', 'что', 'ранее', 'быть', 'осуждать', 'восемь', 'раз', 'в', 'тот', 'число', 'по', 'факт', 'злоупотребеление', 'наркотик', 'в', '1976', 'год']\n",
            "['спустя', 'минута', 'судья', 'выгонять', 'с', 'поле', 'бить']\n",
            "['когда', 'сбивать', 'судья', 'он', 'жалеть', 'и', 'предъявлять', 'желтый', 'карточка', 'но', 'при', 'это', 'назначать', 'штрафной', 'который', 'вновь', 'хладнокровно', 'реализовать']\n",
            "['это', 'самый', 'суровыйприговор', 'который', 'когда-либо', 'выносить', 'судья', 'Мтбя', 'передавать']\n",
            "['в', 'решение', 'судья', 'указывать', 'генерал', 'нести', 'личной', 'ответственность', 'и', 'отвечать', 'как', 'командир', 'за', 'преступление', 'против', 'человечность', 'серьезный', 'нарушенияЖеневский', 'конвенция', 'попрание', 'закон', 'и', 'обычай', 'война']\n",
            "['двое', 'испанский', 'судья', 'требовать', 'выдавать', 'пиночет', 'для', 'суд', 'по', 'обвинение', 'в', 'санкционирование', 'пытка', 'и', 'другой', 'преступление', 'совершать', 'в', 'во', 'время', 'правление']\n",
            "['то', 'не', 'менее', 'в', 'обращение', 'к', 'нация', 'пообещать', 'что', 'дело', 'рассматривать', 'чилийский', 'судья', 'и', 'решать', 'быть', 'ли', 'основание', 'для', 'привлечение', 'он', 'к', 'ответственность', 'в', 'он', 'собственный', 'страна']\n",
            "['судья', 'считать', 'что', 'свалить', 'в', 'свой', 'штрафной', 'и', 'лучший', 'бомбардир', 'команда', 'четко', 'реализовать', 'назначать', 'пенальти']\n",
            "['в', 'понедельник', 'чилийский', 'судья', 'направлять', 'в', 'столичный', 'апелляционный', 'суд', 'прошение', 'семь', 'адвокат', 'о', 'лишение', 'Аугусто', 'пиночет', 'парламентский', 'неприкосновенность']\n",
            "['как', 'сообщать', 'корреспондент', 'в', 'Сантьяго', 'решение', 'судья', '-', 'первый', 'шаг', 'к', 'возможный', 'судебный', 'процесс', 'над', 'хотя', 'процедура', 'мочь', 'занимать', 'не', 'один', 'месяц']\n",
            "['один', 'из', 'главный', 'задача', 'чешский', 'филиал', 'быть', 'помощь', 'в', 'подготовка', 'сотрудник', 'чешский', 'полиция', 'прокурор', 'и', 'судья', 'для', 'борьба', 'с', 'организовывать', 'преступность', 'и', 'отмывание', 'грязный', 'деньги']\n",
            "['документ', 'быть', 'передавать', 'федеральный', 'окружной', 'судья', 'который', 'заниматься', 'рассмотрение', 'дело', 'на', 'протяжение', 'два', 'год']\n",
            "['если', 'судья', 'принимать', 'предлагать', 'решение', 'нынешний', 'руководство', 'Micorsoft', 'быть', 'также', 'запрещать', 'владеть', 'акция', 'одновременно', 'два', 'компания']\n",
            "['российский', 'сообщать', 'что', 'судья', 'давать', 'указание', 'суд', 'низший', 'инстанция', 'который', 'выносить', 'приговор', 'о', 'пожизненный', 'заключение', 'в', 'ускорять', 'порядок', 'подготавливать', 'весь', 'документ', 'для', 'рассмотрение', 'вопрос', 'о', 'изменение', 'мера', 'пресечение', 'в', 'высший', 'суд']\n",
            "['согласно', 'на', 'церемония', 'инаугурация', 'в', 'зал', 'присутствовать', '19', 'судья', 'конституционный', 'суд', '175', 'член', '448', 'депутат']\n",
            "['однако', 'свисток', 'судья', 'молчать', 'а', 'через', 'пара', 'минута', 'точный', 'удар', 'лишать', 'последний', 'надежда']\n",
            "['компания', 'в', 'среда', 'просить', 'федеральный', 'судья', 'отклонять', 'недавний', 'предложение', 'министерство', 'юстиция', 'по', 'разделение', 'компания', 'по', 'меньший', 'мера', 'на', 'два', 'разный', 'структура', 'называть', 'такой', 'сценарий', 'развитие', 'событие', 'экстремальный', 'решение', 'проблема', 'на', 'который', 'не', 'быть', 'и', 'намек', 'в', 'жалоба', 'правительство']\n",
            "['судья', 'Пфильцер', 'ведущий', 'дело', 'с', '1989', 'год', 'отказываться', 'отменять', 'решение', 'надзирать', 'за', 'хакер', 'сотрудник', 'правоохранительный', 'орган', 'Хоуля', 'который', 'по', 'слово', 'адвокат', 'бывший', 'хакер', 'не', 'проявлять', 'ни', 'малейший', 'гибкость', 'в', 'трактование', 'решение', 'суд', 'запрещать', 'он', 'поднадзорному', 'работать', 'в', 'любой', 'область', 'связывать', 'с', 'компьютер']\n",
            "['в', 'тот', 'же', 'время', 'судья', 'предлагать', 'более', 'подробно', 'ознакомлять', 'Хоуля', 'с', 'поступить', 'предложение', 'заявлять', 'что', 'просить', 'то', 'обсуждать', 'этот', 'вопрос']\n",
            "['выходить', 'из', 'здание', 'суд', 'выражать', 'надежда', 'что', 'Хоуля', 'получать', 'от', 'судья', 'новый', 'указание', 'на', 'он', 'счет']\n",
            "['один', 'из', 'нью-йоркский', 'активист', 'антитабачный', 'кампания', 'комментировать', 'по', 'просьба', 'решение', 'суд', 'отмечать', 'расти', 'расхождение', 'в', 'взгляд', 'судья', 'и', 'сша']\n",
            "['судья', 'восточный', 'берег', 'полагать', 'что', 'если', 'вы', 'достаточно', 'глупый', 'чтобы', 'курить', 'то', 'заслуживать', 'рак', 'легкое', '-', 'заявлять', 'он']\n",
            "['судья', 'соглашаться', 'с', 'мнение', 'истец', 'о', 'то', 'что', 'изъятие', 'лицензия', 'разрешение', 'и', 'оружие', 'быть', 'проводить', 'на', 'основание', 'не', 'предусматривать', 'закон', 'о', 'оружие', 'и', 'закон', 'о', 'детективный', 'и', 'охранный', 'деятельность']\n",
            "['он', 'делать', 'это', 'в', 'знак', 'протест', 'против', 'действие', 'судья']\n",
            "['инцидент', 'происходить', 'после', 'то', 'как', 'другой', 'обвиняемый', 'по', 'этот', 'дело', 'повздорить', 'и', 'подраться', 'с', 'помощник', 'судья']\n",
            "['возникать', 'словесный', 'перепалка', 'а', 'затем', 'умудряться', 'через', 'железный', 'решетка', 'ударять', 'помощник', 'судья']\n",
            "['также', 'добавлять', 'что', 'вносить', 'предложение', 'о', 'включение', 'в', 'состав', 'конституционный', 'суд', 'который', 'создавать', 'в', 'республика', 'впервые', 'и', 'именно', 'на', 'заседание', 'сессия', 'республика', 'в', 'четверг', 'быть', 'называть', 'кандидатура', 'первый', 'конституционный', 'судья']\n",
            "['на', '117-й', 'минута', 'первый', 'полуфинальный', 'матч', 'чемпионат', 'по', 'футбол', 'между', 'сборная', 'и', 'судья', 'назначать', 'пенальти', 'в', 'ворота', 'португалец']\n",
            "['однако', 'судья', 'быть', 'неумолимый', 'а', 'удар', 'безупречный']\n",
            "['причина', 'столь', 'дикий', 'результат', 'в', 'проиграть', 'в', 'полуфинал', 'Риадя', 'обвинять', 'впредвзятости', 'судья']\n",
            "['выбегать', 'на', 'корт', 'в', 'что', 'мать', 'рождать', 'в', 'тот', 'момент', 'когда', 'судья', 'крикнуть', 'new', 'balls', 'please']\n",
            "['судья', 'констатировать', 'что', 'оплата', 'агитационный', 'материал', 'наличные', 'в', 'что', 'обвинять', 'не', 'являться', 'нарушение', 'закон', 'о', 'выборы']\n",
            "['судья', 'называть', 'действие', 'подсудимый', 'циничный', 'нарушение', 'швейцарский', 'суверенитет']\n",
            "['заседание', 'проходить', 'под', 'председательство', 'судья', 'который', 'в', 'свой', 'время', 'принимать', 'решение', 'снимать', 'с', 'выборы', 'признать', 'нарушение', 'он', 'команда', 'правило', 'ведение', 'предвыборный', 'агитация']\n",
            "['о', 'получение', 'взятка', 'судья', 'быть', 'заявлять', 'в', 'ход', 'разбирательство', 'в', 'верховный', 'суд', 'по', 'жалоба', 'отстраненный', 'от', 'должность', 'председатель', 'арбитражный', 'судно', 'приморский', 'край']\n",
            "['в', 'август', 'судья', 'парижский', 'суд', 'вести', 'этот', 'дело', 'поручать', 'авторитетный', 'специалист', 'более', 'подробно', 'изучать', 'технический', 'сторона', 'вопрос']\n",
            "['жалоба', 'должен', 'быть', 'рассматривать', 'по', 'местусодержание', 'подследственный', 'под', 'стража', '-', 'суд', 'железнодорожный', 'районаКрасноярск', 'однако', 'это', 'заниматься', 'судья', 'центральный', 'район']\n",
            "['также', 'считать', 'что', 'судья', 'нарушеныположение', 'статья', '94-й', 'уголовный', '-', 'процессуальный', 'кодекс', 'так', 'как', 'поручитель', 'в', 'суд', 'не', 'являться', 'и', 'у', 'они', 'не', 'быть', 'брать', 'подписка', 'о', 'они', 'личный', 'поручительство', 'в', 'связь', 'с', 'отменоймера', 'пресечение']\n",
            "['выносить', 'приговор', 'судья', 'сказать', 'что', 'быстрый', 'завершение', 'процесс', 'быть', 'способствовать', 'борьба', 'с', 'расизм', 'и', 'помогать', 'поддерживать', 'репутация', 'за', 'предел', 'страна']\n",
            "['отмечать', 'что', 'судья', 'принимать', 'решение', 'о', 'освобождение', 'бесспорно', 'руководствоваться', 'конституционный', 'закон']\n",
            "['по', 'слово', 'давать', 'команда', 'возобновлять', 'сбор', 'дополнительный', 'материал', 'по', 'уголовный', 'дело', 'о', 'убийство', 'муж', 'судья', 'в', 'март', 'текущий', 'год']\n",
            "['быть', 'также', 'проводить', 'дальнейший', 'расследование', 'и', 'по', 'факт', 'разбойный', 'нападение', 'на', 'судья', 'в', 'подъезд', 'дом', 'где', 'она', 'проживать', 'в', 'результат', 'что', 'быть', 'похищать', 'уголовный', 'дело']\n",
            "['апелляционный', 'суд', 'в', 'штат', 'отменять', 'в', 'минувший', 'пятница', 'решение', 'федеральный', 'судья', 'в', 'о', 'освобождение', 'под', 'залог', 'в', 'миллион', 'доллар', 'ядерный', 'физика', 'обвинять', 'в', 'небрежный', 'обращение', 'с', 'стратегический', 'секрет']\n",
            "['в', 'прошлый', 'четверг', 'судья', 'окружной', 'суд', 'приговорить', 'к', 'самый', 'крупный', 'штраф', 'из', 'весь', 'который', 'когда-либо', 'быть', 'уплачивать', 'по', 'закон', 'штат', 'Коннектикут', 'о', 'честный', 'конкуренция']\n",
            "['адвокат', 'добиваться', 'закрытие', 'дело', 'доказать', 'судья', 'что', 'он', 'клиент', 'никогда', 'ранее', 'не', 'нарушать', 'закон', 'о', 'наркотик']\n",
            "['не', 'утверждать', 'но', 'ясно', 'давать', 'понимать', 'что', 'некоторый', 'любопытный', 'обстоятельство', 'мочь', 'влиять', 'на', 'судья', 'принимать', 'решение', 'о', 'освобождение', 'передавать']\n",
            "['башкирия', 'решать', 'также', 'обращаться', 'в', 'конституционный', 'суд', 'с', 'запрос', 'по', 'повод', 'закон', 'о', 'мировой', 'судья', 'в', 'российский']\n",
            "['однако', 'представитель', 'universal', 'требовать', 'компенсация', 'в', '45', 'тысяча', 'доллар', 'доллар', 'за', 'диск', 'а', 'судья', 'готовый', 'быть', 'назначать', 'и', 'все', '150', 'тысяча']\n",
            "['ранее', 'группа', 'депутат', 'нижний', 'палата', 'парламент', 'направлять', 'в', 'президиум', 'письмо', 'с', 'просьба', 'не', 'применять', 'в', 'отношение', 'наказание', 'связывать', 'с', 'лишение', 'свобода', 'однако', 'судья', 'не', 'счесть', 'этот', 'предложение', 'обоснованный']\n",
            "['в', 'функция', 'подразделение', 'входить', 'охрана', 'суд', 'и', 'судья', 'а', 'также', 'силовой', 'поддержка', 'пристав', '-', 'исполнитель', 'при', 'исполнение', 'судебный', 'решение', 'в', 'тот', 'число', 'при', 'проведение', 'арест', 'имущество', 'и', 'взыскание', 'денежный', 'средство']\n",
            "['размер', 'компенсация', 'дожны', 'быть', 'одобрять', 'судья']\n",
            "['они', 'судья']\n",
            "['по', 'вердикт', 'судья', 'весь', 'сумма', 'ущерб', 'должен', 'быть', 'взыскать', 'с']\n",
            "['как', 'передавать', 'би-би-си', 'ожидать', 'что', 'судья', 'выносить', 'вердикт', 'по', 'этот', 'дело', 'в', 'вторник']\n",
            "['судья', 'уже', 'давать', 'понимать', 'что', 'он', 'решение', 'быть', 'не', 'в', 'польза']\n",
            "['финальный', 'вердикт', 'судья', 'мочь', 'требовать', 'раскол', 'компания']\n",
            "['в', 'март', 'чилийский', 'судья', 'направлять', 'в', 'столичный', 'апелляционный', 'суд', 'прошение', 'семь', 'адвокат', 'о', 'лишение', 'Аугусто', 'пиночет', 'парламентский', 'неприкосновенность']\n",
            "['выступать', 'судья', '-докладчикий', 'по', 'этот', 'дело', 'определять', 'как', 'неконституционный', 'складываться', 'практика', 'когда', 'вознаграждение', 'получать', 'продавец', 'авторский', 'право', 'от', 'они', 'покупатель', 'облагать', 'налог', 'на', 'добавлять', 'стоимость']\n",
            "['позиция', 'сторона', 'несколькосблизиться', 'и', 'государственный', 'мировой', 'судья', 'Салониуспредоставлять', 'они', 'на', 'рассмотрение', 'проект', 'компромиссной', 'решение']\n",
            "['к', 'этот', 'время', 'по', 'запрос', 'судья', 'орт', 'должен', 'представлять', 'должностной', 'инструкция', 'о', 'обязанность', 'и', 'а', 'также', 'данные', 'о', 'они', 'заработный', 'плата']\n",
            "['за', 'высказываться', '15', 'судья', 'против', '-', 'трое', 'один', 'высказывать', 'особый', 'мнение', 'сообщать', 'ua', 'today', 'с', 'ссылка', 'на', 'радиостанция']\n",
            "['федеральный', 'судья', 'признавать', 'в', 'среда', 'американский', 'президент', 'виновный', 'в', 'вторжение', 'в', 'частный', 'жизнь', 'бывший', 'сотрудница', 'белый', 'дом', 'сообщать', 'reuters']\n",
            "['судья', 'заслушать', 'подозреваемый', 'и', 'свидетель', 'происходить']\n",
            "['и', 'практически', 'безукоризненно', 'выполнить', 'основной', 'элемент', 'заслуживать', 'высокий', 'оценка', 'судья', '-', '5,7', '-', '5,8', 'балл']\n",
            "['однако', 'судья', 'отвергать', 'схема', 'защита', 'компания', 'Demon', 'который', 'избрать', 'позиция', 'невинный', 'посредник']\n",
            "['в', 'воскресный', 'выпуск', 'ежедневный', 'газета', 'new', 'york', 'times', 'приводить', 'заявление', 'судья', 'официальный', 'посредник', 'между', 'и', 'правительство']\n",
            "['теперь', 'окончательный', 'решение', 'принимать', 'федеральный', 'судья', 'который', 'в', 'ноябрь', 'прошлый', 'год', 'частично', 'признавать', 'монополия', 'и', 'предлагать', 'компания', 'достигать', 'внесудебный', 'соглашение', 'с', 'правительство', 'назначать', 'познер', 'посредник', 'в', 'этот', 'переговоры']\n",
            "['противоречие', 'в', 'этот', 'документ', 'быть', 'слишком', 'большой', 'что', 'надеяться', 'на', 'сближение', 'позиция', '-', 'заявлять', 'судья']\n",
            "['антимонопольный', 'расследование', 'против', 'микрософт', 'длиться', 'почти', 'три', 'год', 'пока', 'в', 'ноябрь', 'прошлый', 'год', 'судья', 'не', 'признавать', 'что', 'пользоваться', 'монопольный', 'положение', 'на', 'рынок', 'оказывать', 'давление', 'на', 'другой', 'компания']\n",
            "['теперь', 'когда', 'переговоры', 'сорвать', 'уже', 'на', 'следующий', 'неделя', 'судья', 'предстоять', 'выносить', 'окончательный', 'вердикт', 'о', 'мера', 'по', 'ограничение', 'монопольный', 'практика']\n",
            "['по', 'американский', 'законодательство', 'судья', 'мочь', 'применять', 'к', 'корпорация', 'любой', 'средства', 'вплоть', 'до', 'разукрупнение']\n",
            "['окружной', 'судья', 'в', 'понедельник', 'огласить', 'решение', 'суд', 'по', 'антимонопольный', 'иск', 'юстиция', 'и', 'девятнадцать', 'штат', 'против', 'корпорация', 'сообщать', 'associated', 'press']\n",
            "['окружной', 'судья', 'соглашаться', 'с', '23', 'из', '26', 'аргумент', 'выдвигать', 'истец']\n",
            "['судья', 'отнюдь', 'не', 'быть', 'неожиданный']\n",
            "['в', 'качество', 'посредник', 'быть', 'назначать', 'судья', 'апелляционный', 'суд']\n",
            "['переговоры', 'длиться', 'более', 'четыре', 'месяц', 'однако', 'к', 'вечер', '1', 'апрель', 'окончательно', 'заходить', 'в', 'тупик', 'и', 'судья', 'быть', 'вынуждать', 'объявлять', 'о', 'официальный', 'они', 'окончание']\n",
            "['в', 'ожидание', 'решение', 'судья', 'акция', 'резко', 'падать', '-', 'еще', 'до', 'то', 'как', 'этот', 'решение', 'быть', 'оглашать']\n",
            "['и', 'вот', 'теперь', 'он', 'скончаться', 'после', 'два', 'год', 'борьба', 'с', 'рак', 'но', '-', 'в', 'свой', 'постель', 'и', 'пользоваться', 'почет', 'и', 'уважение', 'среди', 'прокурор', 'и', 'судья', 'который', 'даже', 'сравнивать', 'как', 'писать', 'итальянский', 'агентство', 'ansa', 'он', 'с', 'сойти', 'в', 'преисподняя', 'преступный', 'мир', 'и', 'выйти', 'оттуда', 'к', 'свет']\n",
            "['по', 'слово', 'ведущий', 'дело', 'судья', 'передавать', 'на', 'признание', 'вина', 'подсудимый', 'рассчитывать', 'не', 'приходиться', 'вряд', 'ли', 'можно', 'ожидатьэтого', 'от', 'человек', 'с', 'амбиция', 'но', 'без', 'совесть']\n",
            "['еще', 'три', 'иск', 'находиться', 'на', 'рассмотрение', 'судья', 'и', 'один', 'иск', 'заявитель', 'отозвать']\n",
            "['в', 'январь', 'нью-йорксий', 'судья', 'постановлять', 'что', 'требование', 'Mpaa', 'законно', 'и', 'потому', 'требовать', 'от', 'владелец', '2600']\n",
            "['ранее', 'в', 'просьба', 'направлять', 'судья', 'который', 'в', 'свой', 'время', 'признавать', 'виновный', 'в', 'нарушение', 'антимонопольный', 'законодательство', 'компания', 'предлагать', 'проект', 'альтернативный', 'решение', 'проблема', 'выражать', 'готовность', 'немного', 'изменять', 'маркетинговый', 'политика', 'и', 'даже', 'позволять', 'вносить', 'изменение', 'в', 'windows']\n",
            "['в', 'документ', 'министерство', 'прислать', 'судья', 'который', 'проводить', 'очередной', 'слушание', 'по', 'дело', '24', 'май', 'говорить', 'что', 'компания', 'который', 'уже', 'признавать', 'суд', 'виновный', 'предлагать', 'в', 'качество', 'исправление', 'ситуация', 'ряд', 'косметический', 'мера', 'который', 'фактически', 'никак', 'не', 'изменять', 'расклад', 'сила', 'в', 'конкурентный', 'борьба']\n",
            "['как', 'заявлять', 'журналист', 'судья', 'слушание', 'дело', 'откладывать', 'из-за', 'болезнь', 'старший', 'брат', 'который', 'с', '19', 'май', 'находиться', 'в', 'республиканский', 'глазнойклиник', 'и', 'готовить', 'к', 'операция']\n",
            "['как', 'передавать', 'reuters', 'в', 'понедельник', 'судья', 'заявлять', 'что', 'аукцион', 'Yahoo', 'оскорблять', 'коллективный', 'память', 'страна', 'и', 'обязать', 'Yahoo', 'представлять', 'к', '24', 'июль', 'отчет', 'о', 'мера', 'который', 'компания', 'предпринимать', 'для', 'предотвращение', 'участие', 'француз', 'в', 'этот', 'акция']\n",
            "['аналогичный', 'поведение', 'судья', 'другой', 'страна', 'обязывать', 'бы', 'французский', 'оператор', 'выполнять', 'закон', 'более', 'чем', 'сто', 'страна', '-', 'заявлять', 'адвокат', 'Yahoo']\n",
            "['быть', 'объявлять', 'официально', 'после', 'то', 'как', 'протокол', 'подписать', 'все', '22', 'судья']\n",
            "['предполагаться', 'что', 'на', 'подписание', 'протокол', 'весь', 'судья', 'мочь', 'уйтинесколько', 'неделя']\n",
            "['17', 'предусматривать', 'ответственность', 'за', 'незаконный', 'действие', 'по', 'отношение', 'к', 'государственный', 'символ', 'и', 'невыполнение', 'требование', 'парламентарий', 'и', 'прокурор', 'распоряжение', 'судья', 'или', 'препятствование', 'деятельность', 'уполномоченный', 'по', 'право', 'человек']\n",
            "['армеец', 'уступать', '3', 'опротестовывать', 'некоторый', 'решение', 'судья', 'и', 'эксперт', 'признавать', 'обоснованность', 'этот', 'претензия']\n",
            "['теперь', 'свой', 'оценка', 'работа', 'арбитр', 'давать', 'спортивный', '-', 'квалификационный', 'комиссия', 'и', 'коллегия', 'футбольный', 'судья']\n",
            "['в', 'среда', 'судья', 'под', 'руководство', 'который', 'второй', 'год', 'проходить', 'процесс', 'по', 'антимонопольный', 'иск', 'юстиция', 'против', 'корпорация', 'заявлять', 'что', 'больше', 'никакой', 'слушание', 'по', 'этот', 'дело', 'не', 'быть', 'сообщать']\n",
            "['федеральный', 'судья', 'обязать', 'истец', 'к', 'пятница', 'подготавливать', 'окончательный', 'формулировка', 'весь', 'претензия', 'к']\n",
            "['также', 'наблюдатель', 'склонный', 'видеть', 'в', 'действие', 'федеральный', 'судья', 'лояльность', 'к', 'позиция', 'американский', 'министерство', 'юстиция']\n",
            "['судья', 'этот', 'предложение', 'хвалить']\n",
            "['в', 'пятница', '26', 'май', 'министерство', 'юстиция', 'передать', 'судья', 'по']\n",
            "['после', 'это', 'судья', 'выносить', 'свой', 'постановление', 'который', 'быть', 'иметь', 'возможность', 'обжаловать', 'в', 'течение', '90', 'день']\n",
            "['очевидный', 'что', 'независимо', 'от', 'решение', 'судья', 'один', 'из', 'сторона', 'быть', 'подавать', 'апелляция', 'сперва', 'в', 'окружной', 'кассационный', 'суд', 'а', 'затем', 'и', 'в', 'верховный', 'сша']\n",
            "['так', 'что', 'до', 'реальный', 'разукрупнение', 'компьютерный', 'монополия', 'даже', 'если', 'судья', 'выносить', 'такой', 'решение', 'приходиться', 'ждать', 'не', 'один', 'год']\n",
            "['изучать', 'все', '50', 'том', 'дело', 'судья', 'приходить', 'к', 'вывод', 'что', 'вина', 'и', 'трое', 'он', 'помощник', 'доказывать', 'полностью', 'содеять', 'квалифицировать', 'правильно', 'и', 'мера', 'наказание', 'быть', 'соответствовать']\n",
            "['судья', 'Белорецкий', 'горсуд', 'отказываться', 'сообщать', 'какой', 'сумма', 'обязанный', 'выплачивать', 'представитель']\n",
            "['судебный', 'повестка', 'подписать', 'швейцарский', 'судья', 'Дево', 'быть', 'доставлять', 'руководитель', 'Mabetex', 'накануне']\n",
            "['больший', 'часть', 'этот', 'деньги', 'утверждать', 'швейцарский', 'судья', 'получать', 'бывший', 'управляющий', 'дело', 'президент', 'павел', 'занимать', 'ныне', 'пост', 'секретарь', 'российский', '-', 'белорусский', 'союз']\n",
            "['как', 'сообщать', 'сам', 'с', 'материал', 'дело', 'он', 'быть', 'ознакомить', 'лишь', '2', 'июнь', 'тогда', 'как', 'постановление', 'судья', 'фрунзенский', 'районный', 'суд', 'датировать', '23', 'март']\n",
            "['же', 'судья', 'о', 'возвращение', 'изъятый', 'документ', 'и', 'улика', 'по', 'слово', 'вообще', 'не', 'выполнимый', 'ибо', 'судья', 'не', 'правомочный', 'отменять', 'ордер', 'прокурор', 'или', 'постановление', 'следователь', 'а', 'следователь', 'мочь', 'вновь', 'изъять', 'весь', 'необходимый', 'следствие', 'документ']\n",
            "['же', 'судья', 'о', 'возвращение', 'изъятый', 'документ', 'и', 'улика', 'по', 'слово', 'вообще', 'не', 'выполнимый', 'ибо', 'судья', 'не', 'правомочный', 'отменять', 'ордер', 'прокурор', 'или', 'постановление', 'следователь', 'а', 'следователь', 'мочь', 'вновь', 'изъять', 'весь', 'необходимый', 'следствие', 'документ']\n",
            "['по', 'слово', 'помощник', 'судья', 'друг', 'убить', 'прокурор', 'и', 'одноклассник', 'насильник', 'вон', 'быть', 'очень', 'опасный', 'человек', 'и', 'это', 'быть', 'хорошо', 'известный']\n",
            "['как', 'подчеркивать', 'в', 'получать', 'в', 'понедельник', 'Генпрокуратура', 'судебномрешение', 'судья', 'примененыненадлежащий', 'статья', 'уголовно', '-процессуальный', 'кодекс', 'в', 'томчисло', '-', 'признанный', 'не', 'соответствовать', 'статья', '218', 'обжалование']\n",
            "['судья', 'приходить', 'к', 'заключение', 'что', 'это', 'положение', 'предоставлять', 'республика', 'полномочие', 'и', 'право', 'который', 'находиться', 'в', 'исключительный', 'ведение']\n",
            "['представитель', 'аналитический', 'компания', 'Thomas', 'Weisel', 'тоже', 'полагать', 'что', 'приведение', 'в', 'исполнение', 'приговор', 'судья', 'быть', 'существенно', 'задерживать', 'в', 'ожидание', 'решение', 'апелляционный', 'суд', 'что', 'позволять', 'компания', 'оставаться', 'неразделенный']\n",
            "['судья', 'решать', 'вызывать', 'в', 'суд', 'сам']\n",
            "['швейцарский', 'судья', 'Каспер-Анзерма', 'расследуть', 'дело', 'об', 'отмывание', 'российский', 'деньги', 'через', 'bank', 'of', 'new', 'york', 'вызывать', 'в', 'качество', 'свидетель', 'ряд', 'российский', 'банкир']\n",
            "['среди', 'тот', 'кто', 'намереваться', 'допросить', 'швейцарский', 'судья', '-', 'сотрудник', 'и', 'управлять', 'коммерческий', 'банк', '-', 'и', 'банк']\n",
            "['они', 'показание', 'интересовать', 'судья', 'в', 'связь', 'расследование', 'утверждение', 'о', 'отмывание', 'через', 'швейцарский', 'банк', 'крупный', 'сумма', 'деньги', 'для', 'лицо', 'из', 'окружение', 'известный', 'российский', 'бизнесмен', 'черный']\n",
            "['показание', 'российский', 'банкир', 'требоваться', 'судья', 'в', 'связь', 'с', 'расследование', 'факт', 'отмывание', '30', 'миллион', 'швейцарский', 'франк', '18,3', 'миллион', 'доллар']\n",
            "['коллега', 'адвокат', 'присваивать', 'с', 'помощь', 'вымогательство', '36', 'тысяча', 'доллар', 'ссылаться', 'на', 'то', 'что', 'деньги', 'необходимый', 'якобы', 'для', 'подкуп', 'судья']\n",
            "['это', 'история', 'любовь', 'пожилой', 'судья', 'жить', 'в', 'консервативнойфранцузский', 'провинция', 'к', 'польский', 'проститутка']\n",
            "['на', 'первый', 'заседание', 'верховный', 'суд', 'двадцать', 'судья', 'два', 'с', 'половина', 'час', 'заслушивать', 'список', 'обвинение', 'в', 'нарушение', 'право', 'человек', 'предъявлять', 'бывший', 'диктатор']\n",
            "['руководить', 'деятельность', 'Aegis', 'быть', 'архиепископ', 'тут', 'и', 'лауреат', 'нобелевский', 'премия', 'мир', 'человек', 'переживать', 'холокост', 'Эли', 'при', 'поддержка', 'судья', 'главный', 'прокурор', 'международный', 'трибунал', 'по', 'расследование', 'военный', 'преступление', 'в']\n",
            "['в', 'конец', 'встреча', 'судья', 'добавлять', 'к', 'основной', 'время', 'шесть', 'минута', 'но', 'и', 'они', 'не', 'спасать', 'спартак']\n",
            "['пока', 'судья', 'не', 'сообщать', 'какой', 'соображение', 'они', 'руководствоваться', 'удовлетворять', 'иск', 'в', 'полный', 'объем']\n",
            "['в', 'убивать', 'бандит', 'быть', 'находить', 'поддельный', 'документ', 'следователь', 'прокуратура', 'город', 'и', 'помощник', 'судья', 'верховный', 'суд']\n",
            "['то', 'не', 'менее', 'судья', 'признавать', 'виновный', 'в', 'мелкомхулиганство', 'и', 'приговорить', 'она', 'к', 'пять', 'сутки', 'лишение', 'свобода']\n",
            "['судья', 'удалить', 'с', 'поле', 'сразу', '4', 'игрок', 'по', 'два', 'в', 'каждый', 'из', 'команда']\n",
            "['по', 'мнение', 'судья', 'запрет', 'быть', 'вводить', 'без', 'учет', 'лечебный', 'эффект', 'от', 'этот', 'наркотик', 'передавать', 'bbc', 'news']\n",
            "['в', 'противный', 'случай', 'заявлять', 'судья', 'этот', 'закон', 'не', 'быть', 'распространяться', 'на']\n",
            "['Хамди', 'отец', 'убивать', 'девочка', 'заявлять', 'после', 'суд', 'что', 'должен', 'быть', 'благодарный', 'судья', 'и', 'американский', 'армия', 'за', 'то', 'что', 'они', 'восстанавливать', 'справедливость']\n",
            "['однако', 'двадцать', 'судья', 'заканчивать', 'четырехчасовое', 'совещание', 'разъезжаться', 'по', 'дом', 'так', 'и', 'не', 'обнародовывать', 'свой', 'вердикт']\n",
            "['по', 'данные', 'агентство', 'за', 'лишение', 'судебный', 'неприкосновенность', 'голосовать', '11', 'судья', '9', 'быть', 'против']\n",
            "['между', 'то', 'по', 'данные', 'газета', 'el', 'Mostrador', 'за', 'это', 'решение', 'голосовать', '14', 'судья', 'шесть', 'против']\n",
            "['один', 'из', 'причина', 'по', 'который', 'судья', 'не', 'спешить', 'обнародовать', 'приговор', 'являться', 'неуверенность', 'в', 'то', 'что', 'непосредственно', 'перед', 'подписание', 'вердикт', 'никто', 'из', 'судья', 'не', 'изменять', 'свой', 'решение']\n",
            "['один', 'из', 'причина', 'по', 'который', 'судья', 'не', 'спешить', 'обнародовать', 'приговор', 'являться', 'неуверенность', 'в', 'то', 'что', 'непосредственно', 'перед', 'подписание', 'вердикт', 'никто', 'из', 'судья', 'не', 'изменять', 'свой', 'решение']\n",
            "['тот', 'факт', 'что', 'о', 'он', 'не', 'сообщаться', 'сразу', 'же', 'свидетельствовать', 'по', 'мнение', 'источник', 'в', 'здание', 'суд', 'о', 'то', 'что', 'мнение', 'судья', 'разделяться', 'и', 'голосование', 'проходить', 'с', 'минимальный', 'преимущество', 'один', 'из', 'сторона']\n",
            "['на', 'суд', 'отрицать', 'свой', 'вина', 'однако', 'это', 'не', 'изменять', 'вердикт', 'судья']\n",
            "['в', 'генеральный', 'прокуратура', 'подтверждать', 'в', 'вторник', 'что', 'от', 'швейцарский', 'судья', 'Дево', 'приходить', 'следственный', 'поручение', 'по', 'дело', 'фирма', 'Mabetex']\n",
            "['следственный', 'поручение', 'судья', 'опубликовывать', 'в', 'вторник', 'газета', 'сегодня']\n",
            "['Соотвутствующий', 'решение', 'быть', 'принимать', 'накануне', 'судья', 'первый', 'инстанция', 'Клаудета', 'Терезинья']\n",
            "['идти', 'о', 'некомпетентность', 'судья', '-', 'подчеркивать', 'генконсул']\n",
            "['все', 'арестовывать', 'отрицать', 'этот', 'факт', 'на', 'допрос', 'который', 'вести', 'судья']\n",
            "['судья', 'председательствовать', 'на', 'процесс', 'объявлять', 'что', 'весь', 'обвиняемый', 'быть', 'заблаговременно', 'разослать', 'список', 'обвинение']\n",
            "['по', 'слово', 'он', 'адвокат', 'и', 'судья', 'совместно', 'назначать', 'дата', 'судебный', 'заседание', 'но', 'она', 'мочь', 'быть', 'изменять']\n",
            "['известный', 'лишь', 'что', 'в', 'среда', 'в', 'с', 'судья', 'верховный', 'шариатский', 'суд', 'встречаться', 'глава', 'администрация', 'Ахмад']\n",
            "['как', 'сообщать', 'он', 'просить', 'судья', 'давать', 'правовой', 'оценка', 'деятельность', 'лидер', 'боевик', 'включая', 'а', 'также', 'определять', 'степень', 'вина', 'в', 'развязывание', 'второй', 'чеченский', 'война']\n",
            "['на', 'процесс', 'не', 'выступать', 'так', 'как', 'по', 'слово', 'судья', 'каждый', 'гражданин', 'мочь', 'бы', 'быть', 'свидетель']\n",
            "['напоминать', 'что', 'быть', 'дисквалифицировать', 'и', 'лишать', 'судейский', 'полномочие', '20', 'июнь', '2000', 'год', 'решение', 'высший', 'квалификационный', 'коллегия', 'судья', 'по', 'представление', 'губернатор']\n",
            "['коллегия', 'обвинять', 'в', 'нарушение', 'честь', 'судья']\n",
            "['по', 'заявление', 'судья', 'этот', 'решение', 'быть', 'для', 'они', 'мучительно', 'тяжелый']\n",
            "['как', 'сказать', 'судья', 'сказать', 'мы', 'да', 'и', 'мы', 'убивать', 'сказать', 'нет', 'и', 'мы', 'убивать']\n",
            "['прерывать', 'по', 'решение', 'судья', 'который', 'считать', 'необходимый', 'участие', 'в', 'процесс', 'надзирающий', 'прокурор']\n",
            "['законность', 'приказ', 'связь', 'о', 'проведение', 'оперативный', '-', 'розыскной', 'мероприятие', 'быть', 'рассмотреть', '25', 'сентябрь', '2000', 'годаВерховный', 'суд', 'под', 'председательство', 'судья', 'Ю']\n",
            "['судья', 'быть', 'буквально', 'покоренный', 'программа', 'ставить', 'за', 'она', 'великолепный', 'акробатический', 'по', 'очень', 'высокий', 'оценка', '-', '9']\n",
            "['с', 'свой', 'сторона', 'представитель', 'заявлять', 'что', 'кампания', 'не', 'нарушать', 'ни', 'один', 'антимонопольный', 'закон', 'и', 'что', 'судья', 'совершать', 'серьезный', 'ошибка', 'в', 'дело']\n",
            "['в', 'среда', 'в', 'предприниматель', 'объявлять', 'голодовка', 'в', 'знак', 'протест', 'против', 'решение', 'олимпийский', 'судья', 'лишать', 'он', 'соотечественник', 'марафонец', 'золотой', 'медаль', 'передавать']\n",
            "['однако', 'судья', 'заявлять', 'что', 'последний', 'соломинка', 'переломить', 'хребет', 'верблюдо', 'быть', 'объяснение', 'руководство', 'Omega', 'по', 'повод', 'то', 'почему', 'дочерний', 'фирма', 'торговать', 'новогодний', 'елка', 'называть', \"Sporty's\", 'farm']\n",
            "['по', 'мнение', 'судья', 'продление', 'срок', 'не', 'ограничивать', 'какой-либо', 'право']\n",
            "['чтобы', 'ускорять', 'рассмотрение', 'дело', 'оно', 'передавать', 'другой', 'менее', 'гружеть', 'судья', '-', 'Беганская']\n",
            "['в', 'май', 'судья', 'принимать', 'решение', 'в', 'польза', 'Nsi', 'рассудить', 'что', 'домять', 'имя', 'не', 'мочь', 'быть', 'собственность']\n",
            "['в', 'свой', 'постановление', 'судья', 'отмечать', 'что', 'законодатель', 'необходимый', 'урегулировать', 'вопрос', 'о', 'защита', 'бездействуть', 'домен', 'так', 'как', 'последний', 'не', 'подпадать', 'под', 'действие', 'закон', 'о', 'защищать', 'торговый', 'марка']\n",
            "['анатолий', 'подавать', 'судья', 'ходатайство', 'о', 'переносезаседания', 'до', 'улучшение', 'самочувствие']\n",
            "['судья', 'постановить', 'откладывать', 'заседание', 'до', 'решение', 'вопрос', 'с', 'заболевание']\n",
            "['несмотря', 'на', 'то', 'что', 'основной', 'и', 'дополнительный', 'время', 'завершаться', 'вничью', '3', '3', 'победа', 'судья', 'отдавать', 'турецкий', 'борец']\n",
            "['два', 'неделя', 'назад', 'быть', 'создавать', 'независимый', 'врачебный', 'комиссия', 'который', 'должен', 'быть', 'выносить', 'окончательный', 'заключение', 'о', 'состояние', 'здоровье', 'однако', 'и', 'она', 'результат', 'быть', 'неутешительный', 'для', 'судья']\n",
            "['согласно', 'заключение', 'врачебный', 'комиссия', 'судья', 'решать', 'прекращать', 'дело', 'о', 'коррупция', 'в', 'отношение', 'экс-президент', 'который', 'обвинять', 'в', 'то', 'что', 'за', 'время', 'свой', 'правление', 'присваивать', 'более', '500', 'миллион', 'доллар']\n",
            "['на', 'заседание', 'председательствовать', 'судья', 'государственный', 'обвинитель', 'выступать', 'начальник', 'отдел', 'прокуратура', 'Рашидхан']\n",
            "['адвокат', 'изучать', 'судебный', 'процесс', 'против', 'Napster', 'считать', 'что', 'хотя', 'судья', 'постоянно', 'подчеркивать', 'что', 'общественный', 'мнение', 'на', 'они', 'не', 'влиять', 'они', 'все', 'же', 'не', 'любить', 'принимать', 'решение', 'который', 'невозможный', 'исполнить']\n",
            "['при', 'вынесение', 'приговор', 'судья', 'учесть', 'личность', 'подсудимый', 'а', 'также', 'просьба', 'представитель', 'агентство', 'не', 'назначать', 'и', 'наказание', 'связывать', 'с', 'лишение', 'свобода']\n",
            "['судья', 'рассматривать', 'также', 'ответ', 'из', 'в', 'который', 'защитник', 'фактически', 'отказывать', 'в', 'получение', 'такой', 'информация']\n",
            "['адвокат', 'призывать', 'изменять', 'мера', 'пресечение', 'для', 'он', 'клиент', 'аргументировать', 'это', 'то', 'что', 'страдать', 'от', 'психический', 'расстройство', 'после', 'сильный', 'удар', 'по', 'голова', 'в', '1996', 'год', 'однако', 'судья', 'заявлять', 'что', 'совершать', 'преступление', 'столь', 'серьезный', 'что', 'никакой', 'альтернатива', 'заключение', 'быть', 'не', 'мочь']\n",
            "['судья', 'в', 'свой', 'речь', 'сказать', 'что', 'такой', 'поведение', 'можно', 'трактовать', 'по-разному', '-', 'и', 'как', 'странный', 'и', 'как', 'опасный']\n",
            "['судья', 'пока', 'не', 'давать', 'согласие', 'на', 'такой', 'решение', 'конфликт']\n",
            "['в', 'связь', 'с', 'радикальный', 'расхождение', 'в', 'мнение', 'эксперт', 'судья', 'решать', 'откладывать', 'слушание', 'дело', 'до', '20', 'октябрь', 'чтобы', 'вызывать', 'в', 'суд', 'лингвист', 'со', 'сторона', 'ответчик']\n",
            "['такой', 'распоряжение', 'подписывать', 'судья', 'Корреа', 'було', 'который', 'поручать', 'вести', 'процесс', 'о', 'выдача', 'аргентинский', 'орган', 'правосудие']\n",
            "['с', 'просьба', 'о', 'выдача', 'этот', 'человек', 'подозревать', 'в', 'причастность', 'к', 'убийство', 'в', 'аргентинский', 'столица', 'бывший', 'главнокомандующий', 'армия', 'генерал', 'и', 'он', 'жена', 'к', 'власть', 'обращаться', 'аргентинский', 'судья', 'Галиано']\n",
            "['он', 'вести', 'военный', 'судья']\n",
            "['как', 'передавать', 'москва', 'этот', 'судья', 'известный', 'то', 'что', 'в', 'свой', 'время', 'выносить', 'оправдательный', 'приговор', 'по', 'дело', 'о', 'взрыв', 'на', 'котляковский', 'кладбище']\n",
            "['россия', 'сообщать', 'журналист', 'перед', 'встреча', 'с', 'премьер', 'что', 'сегодня', 'подписывать', 'указ', 'предусматривать', 'повышение', 'денежный', 'содержание', 'федеральный', 'служащий', 'судья', 'прокурорский', 'работник', 'и', 'технический', 'персонал', 'суд', 'и', 'прокуратура']\n",
            "['как', 'сообщать', 'журналист', 'судья', 'находить', 'главный', 'свидетель', '-', 'солдат', '-', 'оказываться', 'очень', 'легко']\n",
            "['высший', 'квалификационный', 'коллегия', 'судья', 'подтверждать', 'в', 'пятница', 'полномочие', 'восемь', 'федеральный', 'судья', 'в', 'передавать']\n",
            "['высший', 'квалификационный', 'коллегия', 'судья', 'подтверждать', 'в', 'пятница', 'полномочие', 'восемь', 'федеральный', 'судья', 'в', 'передавать']\n",
            "['после', 'соответствующий', 'приказ', 'председатель', 'верховный', 'суд', 'судья', 'который', 'быть', 'вынуждать', 'покидать', 'после', 'введение', 'в', 'республика', 'шариатский', 'суд', 'мочь', 'приступать', 'к', 'исполнение', 'свой', 'обязанность']\n",
            "['ожидать', 'что', 'коллегия', 'принимать', 'решение', 'о', 'назначение', '13', 'чеченский', 'судья', 'однако', 'пятеро', 'кандидат', 'получать', 'отрицательный', 'заключение']\n",
            "['все', 'в', 'должен', 'работать', '41', 'федеральный', 'судья', 'и', '16', 'судья', 'верховный', 'суд', 'республика']\n",
            "['все', 'в', 'должен', 'работать', '41', 'федеральный', 'судья', 'и', '16', 'судья', 'верховный', 'суд', 'республика']\n",
            "['при', 'это', 'талиб', 'соглашаться', 'на', 'участие', 'американский', 'судья', 'в', 'заседание', 'трибунал', 'для', 'предоставление', 'иметься', 'у', 'они', 'доказательство', 'причастность', 'бин', 'к', 'ряд', 'террористический', 'акт']\n",
            "['этот', 'вердикт', 'выносить', 'судья', 'в', 'понедельник']\n",
            "['правда', 'решение', 'судья', 'из', 'округ', 'штат', 'не', 'означать', 'что', 'голос', 'нельзя', 'быть', 'подсчитывать', 'и', 'после', 'вечер', 'вторник']\n",
            "['как', 'сообщать', 'предвыборный', 'штаб', 'уже', 'призывать', 'четыре', 'округ', 'где', 'идти', 'ручной', 'перестать', 'голос', 'продолжать', 'свой', 'работа', 'несмотря', 'на', 'решение', 'судья']\n",
            "['ввиду', 'этот', 'взаимоисключающий', 'вариант', 'комиссия', 'округ', 'проводить', 'голосование', 'на', 'который', 'большинство', 'в', 'два', 'голос', 'против', 'один', 'быть', 'принимать', 'решение', 'перестать', 'приостанавливать', 'и', 'направлять', 'прокурор', 'округ', 'в', 'суд', 'штат', 'для', 'то', 'чтобы', 'узнавать', 'мнение', 'судья', 'по', 'этот', 'повод']\n",
            "['даже', 'в', 'случай', 'если', 'судья', 'поддерживать', 'генеральный', 'прокурор', 'штат', 'и', 'разрешить', 'ручной', 'перестать', 'голос', 'следующий', 'препятствие', 'для', 'сторонник', 'быть', 'другой', 'решение', 'который', 'она', 'назначать', 'последний', 'срок', 'прием', 'результат', 'пересчет', 'на', 'вторник', '17', '00']\n",
            "['в', 'результат', 'судья', 'до', 'выяснение', 'дополнительный', 'обстоятельство', 'дело', 'соглашаться', 'выпускать', 'под', 'подписка', 'о', 'невыезд', 'и', 'залог', 'в', 'два', 'миллион', 'доллар']\n",
            "['судья', 'также', 'распоряжаться', 'что', 'сдавать', 'американский', 'власть', 'свой', 'паспорт', '-', 'российский', 'и', 'белизский', 'огнестрельный', 'оружие', 'и', 'надевать', 'на', 'нога', 'электронный', 'браслет', 'который', 'позволять', 'полиция', 'следить', 'за', 'он', 'перемещение']\n",
            "['оправдывать', 'хулиган', 'поскольку', 'как', 'заявлять', 'судья', 'в', 'правовой', 'охрана', 'символ', 'другой', 'государство', 'охватывать', 'только', 'страна', 'связывать', 'между', 'себя', 'принцип', 'взаимность']\n",
            "['в', 'понедельник', 'судья', 'выносить', 'решение', 'становить', 'что', 'должен', 'вернуть', 'истица', 'весь', 'три', 'дискета', 'с', 'конфиденциальный', 'материал', 'а', 'также', 'оплачивать', 'судебный', 'издержка', 'который', 'по', 'сведение', 'все', 'тот', 'же', 'составлять', '15', 'тысяча', 'фунт', 'стерлинг']\n",
            "['из-за', 'болезнь', 'судья', 'процесс', 'быть', 'переносить', 'на', '20', 'ноябрь', 'сообщать']\n",
            "['обеспокоить', 'хотеть', 'чтобы', 'он', 'информировать', 'если', 'речь', 'когда-либо', 'заходить', 'о', 'освобождение', 'несостоявшийся', 'убийца', 'но', 'этот', 'просьба', 'быть', 'отклонить', 'судья']\n",
            "['судья', 'округ', 'где', 'располагать', 'административный', 'центр', 'поддерживать', 'решение', 'госсекретарь', 'штат', 'и', 'постановлять', 'не', 'учитывать', 'результат', 'ручной', 'пересчет', 'голос', 'который', 'идти', 'сейчас', 'в', 'четыре', 'округ', 'штат', 'при', 'определение', 'окончательный', 'результат', 'выборы', 'по', 'сообщать']\n",
            "['еще', 'до', 'объявление', 'судья', 'свой', 'решение', 'представитель', 'уоррен', 'заявлять', 'что', 'демократ', 'в', 'судебный', 'порядок', 'опротестовать', 'окончательный', 'итог', 'голосование', 'по', 'штат', 'если', 'результат', 'ручной', 'пересчет', 'учитывать', 'не', 'быть']\n",
            "['мы', 'обращаться', 'к', 'опыт', 'наш', 'пращур', 'который', 'выбирать', 'свой', 'предводитель', '-', 'хан', 'беков', 'военный', 'полководец', 'и', 'судья', '-', 'из', 'число', 'самый', 'достойный', 'и', 'высоконравственный', 'согражданин', '-', 'заявлять']\n",
            "['ранее', 'в', 'пятница', 'судья', 'округ', 'где', 'располагать', 'административный', 'центр', 'поддерживать', 'решение', 'секретарь', 'штат', 'и', 'постановлять', 'не', 'учитывать', 'результат', 'ручной', 'пересчет', 'голос']\n",
            "['окружной', 'судья', 'отказываться', 'от', 'принятие', 'решение', 'о', 'проведение', 'в', 'округ', 'в', 'штат', 'повторный', 'голосование', 'по', 'выборы', 'президент', 'сообщать', 'москва']\n",
            "['судья', 'сказать', 'что', 'для', 'такой', 'решение', 'у', 'он', 'нет', 'достаточный', 'полномочие']\n",
            "['по', 'решение', 'судья', 'быть', 'избирать', 'мера', 'пресечение', 'в', 'вид', 'содержание', 'под', 'стража']\n",
            "['в', 'настоящий', 'время', 'судья', 'не', 'исключать', 'что', 'мочь', 'быть', 'выпускать', 'из', 'тюрьма', 'под', 'домашний', 'арест']\n",
            "['однако', 'окончательный', 'решение', 'оставаться', 'за', 'судья', 'по', 'детский', 'дело', 'который', 'два', 'год', 'назад', 'принимать', 'решение', 'о', 'направление', 'девочка', 'в', 'приют', 'а', 'затем', 'в', 'приемный', 'семья', 'под', 'предлог', 'серьезный', 'конфликт', 'родитель']\n",
            "['в', 'вторник', 'судья', 'по', 'ходатайство', 'адвокат', 'затребовать', 'в', 'копия', 'постановление', 'о', 'возбуждение', 'уголовный', 'дело', 'в', 'отношение', 'а', 'также', 'постановление', 'о', 'прекращение', 'уголовный', 'преследование', 'медиа', '-', 'магнат', 'от', '26', 'июль', 'и', 'о', 'отмена', 'данный', 'постановление', 'от', '13', 'ноябрь']\n",
            "['по', 'мнение', 'адвокат', 'в', 'тот', 'день', 'судья', 'необоснованно', 'отклонять', 'ходатайство', 'о', 'изменение', 'они', 'подзащитный', 'мера', 'пресечение', 'с', 'содержание', 'под', 'стража', 'на', 'любой', 'другой', 'более', 'мягкий']\n",
            "['судья', 'ведущий', 'дело', 'не', 'исключать', 'возможность', 'он', 'перевод', 'из', 'тюрьма', 'на', 'вилла', 'в', 'под', 'домашний', 'арест', 'и', 'полицейский', 'надзор']\n",
            "['четверо', 'из', 'пять', 'судья', 'отвергать', 'апелляция', 'борец', 'за', 'право', 'человек', 'и', 'принимать', 'сторона', 'суд', 'который', 'признавать', 'домашний', 'арест', 'неправомочный']\n",
            "['как', 'сообщать', 'с', 'такой', 'предложение', 'обращаться', 'к', 'судья', 'верховный', 'суд', 'Бальтасара', 'который', 'рассматривать', 'дело']\n",
            "['такой', 'оценка', 'содержаться', 'в', 'письмо', 'который', 'направлять', 'премьер-министр', 'хосе', 'Аснар', 'министр', 'юстиция', 'Асебес', 'и', 'судья', 'верховный', 'суд', 'сообщать']\n",
            "['холдинг', '-', 'вызывать', 'для', 'беседа', 'с', 'испанский', 'судья', 'ведущий', 'дело', 'о', 'он', 'экстрадиция', 'сообщать', 'официальный', 'представитель', 'Остальский']\n",
            "['не', 'исключать', 'однако', 'и', 'что', 'судья', 'решать', 'начинать', 'слушание', 'дело', 'по', 'существо']\n",
            "['по', 'мнение', 'адвокат', 'если', 'судья', 'отклонять', 'ходатайство', 'то', 'рассмотрение', 'жалоба', 'мочь', 'завершаться', 'в', 'за', 'один', 'день']\n",
            "['судья', 'уносить', 'с', 'поле', 'а', 'матч', 'быть', 'прервать', 'при', 'счет', '1:0', 'в', 'польза', 'хозяин', 'поле']\n",
            "['как', 'сообщать', 'агентство', 'с', 'ссылка', 'на', 'газета', 'daily', 'Telegraph', 'в', 'французский', 'судья', 'быть', 'весь', 'основание', 'полагать', 'что', 'в', '1987', 'год', 'источник', 'в', 'французский', 'правительство', 'предоставлять', 'биржевой', 'спекулянт', 'в', 'число', 'который', 'быть', 'привилегированная', 'информация', 'о', 'приватизация', 'этот', 'банк']\n",
            "['по', 'информация', 'который', 'располагать', 'судья', 'двое', 'владелец', 'Marceau', 'Investissements', 'и', 'получать', 'от', 'чиновник', 'в', 'правительство', 'страна', 'конфиденциальный', 'информация', 'о', 'приватизация', 'Societe', 'Generale']\n",
            "['на', 'условие', 'домашний', 'арест', 'настаивать', 'судья', 'который', 'считать', 'что', 'владелец', '-', 'мочь', 'пытаться', 'скрываться', 'от', 'испанский', 'правосудие']\n",
            "['во', 'время', 'предварительный', 'заключение', 'он', 'договариваться', 'с', 'сокамерником', 'убивать', 'судья', 'который', 'должен', 'быть', 'председательствовать', 'на', 'процесс']\n",
            "['кроме', 'то', 'не', 'мочь', 'платить', 'назначать', 'судья', 'залог', 'в', 'полтора', 'миллион', 'доллар', 'и', 'предполагать', 'что', 'суд', 'не', 'быть', 'к', 'он', 'снисходительный']\n",
            "['по', 'слово', 'сокамерник', 'сам', 'предлагать', 'он', 'убивать', 'судья', 'за', 'некоторый', 'сумма']\n",
            "['распоряжение', 'испанский', 'судья', 'о', 'заключение', 'российский', 'медиа', '-магнат', 'под', 'домашний', 'арест', 'выполнять', 'в', 'полный', 'объем', 'сообщать', 'с', 'ссылка', 'на', 'испанский', 'газета', 'el', 'Pais']\n",
            "['при', 'изучение', 'недавно', 'находить', 'гробница', 'египетский', 'судья', 'Инть', 'египтолог', 'делать', 'неожиданный', 'открытие']\n",
            "['с', 'такой', 'предложение', 'обращаться', 'к', 'судья', 'верховный', 'суд', 'Бальтасара', 'который', 'рассматривать', 'дело', 'медиа', '-', 'магнат']\n",
            "['как', 'сообщать', 'вынесший', 'решение', 'по', 'иск', 'судья', 'речь', 'идти', 'о', 'сюжет', 'журналист', 'Нвтор', 'о', 'губернатор', 'калининградский', 'область', 'показать', 'в', 'один', 'из', 'ночной', 'выпуск', 'программа']\n",
            "['судья', 'признавать', 'сюжет', 'клевета', 'и', 'удовлетворять', 'иск', 'экс-губернатор', 'к', 'телекомпания']\n",
            "['в', 'настоящий', 'момент', 'судья', 'обсуждать', 'деталь', 'воспитание', 'животное', 'на', 'воля', 'и', 'в', 'домашний', 'условие', 'и', 'не', 'мочь', 'приходить', 'к', 'конкретный', 'вывод']\n",
            "['в', 'среда', 'испанский', 'судья', 'сохранять', 'в', 'сила', 'свой', 'решение', 'о', 'освобождение', 'под', 'залог', 'в', 'один', 'миллиард', 'посить', '6', 'миллион', 'евро', 'при', 'условие', 'что', 'тот', 'быть', 'находиться', 'под', 'домашний', 'арест', 'сообщать']\n",
            "['по', 'мнение', 'прокуратура', 'судья', 'уходить', 'от', 'ответственность', 'поскольку', 'поручать', 'охрана', 'гражданский', 'гвардия']\n",
            "['Женевский', 'судья', 'быть', 'выдать', 'ордер', 'на', 'арест', 'Столповский', 'по', 'подозрение', 'в', 'отмывание', 'деньги', 'и', 'участие', 'в', 'преступный', 'группировка', 'передавать', 'агентство', 'Эфэ']\n",
            "['в', 'короткий', 'программа', 'в', 'спортивный', 'пара', 'не', 'избежать', 'ошибка', 'фаворит', 'Бережная', 'и', 'то', 'не', 'менее', 'быть', 'выводить', 'судья', 'на', 'первый', 'место']\n",
            "['единогласный', 'решение', 'судья', 'признавать', '49-летний', 'ливиец', 'виновный', 'в', 'организация', 'в', '1988', 'год', 'взрыв', 'самолет', 'в', 'результат', 'который', 'погибать', '270', 'человек', 'сообщать', 'Afp']\n",
            "['за', 'время', 'процесс', 'который', 'начинаться', '3', 'май', '2000', 'год', 'в', '84', 'судья', 'выслушивать', 'показание', '230', 'свидетель', 'по', 'дело']\n",
            "['если', 'бы', 'этот', 'бумага', 'прочитывать', 'любой', 'вменяемый', 'человек', 'особенно', 'если', 'этот', 'судья', 'европейский', 'суд', 'становиться', 'бы', 'совершенно', 'ясный', 'насколько', 'это', 'юридически', 'бессмысленный', 'и', 'ничто', 'не', 'значить', 'бумага', 'и', 'бояться', 'что', 'человек', 'просто', 'понимать', 'что', 'проверка', 'на', 'юридический', 'ценность', 'в', 'европейский', 'суд', 'этот', 'бумага', 'не', 'проходить', '-', 'подчеркнуть', 'адвокат']\n",
            "['также', 'требовать', 'рассмотрение', 'он', 'дело', 'не', 'российский', 'а', 'международный', 'судья']\n",
            "['хотя', 'собака', 'и', 'не', 'пытаться', 'напасть', 'на', 'страдать', 'нет', 'ничто', 'удивительный', 'в', 'то', 'что', 'собачий', 'лай', 'так', 'удивлять', 'она', 'что', 'она', 'падать', '-', 'сказать', 'судья']\n",
            "['московский', 'арбитражный', 'суд', 'удовлетворять', 'этот', 'ходатайство', 'и', '31', 'январь', 'судьба', 'телеканал', 'должен', 'быть', 'решать', 'трое', 'федеральный', 'судья']\n",
            "['в', 'среда', 'испанский', 'судья', 'давать', 'ход', 'судебный', 'процесс', 'о', 'экстрадиция', 'в', 'глава', 'холдинг', '-']\n",
            "['в', 'соответствие', 'с', 'местный', 'судебный', 'практика', 'это', 'предшествовать', 'беседа', 'судья', 'с']\n",
            "['для', 'разговор', 'с', 'судья', 'быть', 'доставлять', 'в', 'в', 'сопровождение', 'агент', 'гражданский', 'гвардия', 'военизированный', 'полиция', 'из', 'где', 'он', 'находиться', 'под', 'домашний', 'арест']\n",
            "['судья', 'должен', 'быть', 'задавать', 'формальный', 'вопрос', 'о', 'то', 'согласный', 'ли', 'тот', 'на', 'добровольный', 'выдача', 'российский', 'власть']\n",
            "['получать', 'отрицательный', 'ответ', 'направлять', 'документ', 'по', 'дело', 'три', 'судья', 'уголовный', 'палата', 'национальный', 'судебный', 'коллегия', 'который', 'должен', 'выносить', 'коллективный', 'вердикт', 'сообщать']\n",
            "['сразу', 'после', 'выдвижение', 'на', 'пост', 'генеральный', 'прокурор', 'Эшкрофт', 'обвинять', 'в', 'то', 'что', 'он', 'мешать', 'назначение', 'на', 'должность', 'федеральный', 'судья', 'некий', 'который', 'мочь', 'становиться', 'первый', 'черный', 'федеральный', 'судья', 'в']\n",
            "['сразу', 'после', 'выдвижение', 'на', 'пост', 'генеральный', 'прокурор', 'Эшкрофт', 'обвинять', 'в', 'то', 'что', 'он', 'мешать', 'назначение', 'на', 'должность', 'федеральный', 'судья', 'некий', 'который', 'мочь', 'становиться', 'первый', 'черный', 'федеральный', 'судья', 'в']\n",
            "['в', 'настоящий', 'время', 'по', 'решение', 'испанский', 'судья', 'лишать', 'паспорт', 'не', 'иметь', 'право', 'покидать', 'территория', 'пользоваться', 'воздушный', 'и', 'морской', 'транспорт', 'и', 'должен', 'передвигать', 'вне', 'дом', 'только', 'в', 'сопровождение', 'полицейский']\n",
            "['на', 'вопрос', 'о', 'то', 'не', 'дискредитировать', 'ли', 'российский', 'правосудие', 'выдача', 'ордер', 'на', 'арест', 'и', 'обыск', 'а', 'не', 'судья', 'как', 'это', 'положенный', 'по', 'закон', 'заявлять', 'что', 'в', 'статья', '7', 'подобный', 'право', 'предоставлять', 'прокуратура', 'на', 'нынешний', 'переходный', 'период']\n",
            "['в', 'ход', 'заседание', 'судья', 'заявлять', 'что', 'обвиняемый', 'заниматься', 'хорошо', 'организовать', 'и', 'планировать', 'мошенничество']\n",
            "['он', 'мотивировать', 'свой', 'позиция', 'то', 'что', 'американский', 'суд', 'абсолютно', 'независимый', 'от', 'мнение', 'власть', 'и', 'американский', 'судья', 'интересовать', 'только', 'сам', 'дело']\n",
            "['федеральный', 'судья', 'высокий', 'чем', 'президент', 'и', 'исключать', 'возможность', 'даже', 'намек', 'на', 'то', 'что', 'кто-то', 'из', 'должностной', 'лицо', 'этот', 'страна', 'мочь', 'звонить', 'судья', '-', 'утверждать']\n",
            "['федеральный', 'судья', 'высокий', 'чем', 'президент', 'и', 'исключать', 'возможность', 'даже', 'намек', 'на', 'то', 'что', 'кто-то', 'из', 'должностной', 'лицо', 'этот', 'страна', 'мочь', 'звонить', 'судья', '-', 'утверждать']\n",
            "['судья', 'обязать', 'являться', 'на', 'следующий', 'слушание', 'лично']\n",
            "['судья', 'верховный', 'суд', 'приговорить', 'убийца', 'заместитель', 'прокурор', 'к', '25', 'год', 'лишение', 'свобода', 'в', 'колония', 'строго', 'режим']\n",
            "['как', 'подчеркивать', 'в', 'заключительный', 'речь', 'судья', 'один', 'из', 'крупный', 'в', 'мир', 'аукционный', 'дом', 'быть', 'наказывать', 'как', 'самый', 'обычный', 'вор']\n",
            "['по', 'мнение', 'судья', 'уличение', 'в', 'сговор', 'служить', 'компания', 'хороший', 'урок', 'и', 'являться', 'импульс', 'для', 'взаимоконтроль']\n",
            "['назначать', 'генеральный', 'прокурор', 'и', 'судья', 'немедленно', 'начинать', 'готовить', 'обвинение']\n",
            "['выступать', 'собираться', 'в', 'здание', 'представительство', 'в', 'рука', 'они', 'быть', 'лозунг', 'гласивший', 'вердикт', 'несправедливый', 'быть', 'дом', 'потому', 'что', 'так', 'обещать', 'командир', 'и', 'шотландский', 'судья', '-', 'ты', 'должен', 'покончить', 'с', 'себя', 'потому', 'что', 'твой', 'вердикт', 'позорять']\n",
            "['-', 'как', 'он', 'уже', 'сказать', 'ранее', 'судья', 'оставаться', 'лишь', 'три', 'возможность', 'сказать', 'правда', 'уходить', 'в', 'отставка', 'или', 'покончить', 'с', 'себя']\n",
            "['мэр', 'испанский', 'город', 'вызывать', 'в', 'понедельник', 'в', 'к', 'судья', 'для', 'дача', 'показание', 'по', 'так', 'называть', 'дело', 'о', 'русский', 'статуя', '-', 'скульптура', 'работа', 'церетели', 'дарить', 'город', 'мэр', 'Юрий']\n",
            "['11', 'август', 'московский', 'арбитражный', 'суд', 'под', 'председательство', 'судья', 'устанавливать', 'что', 'оценка', 'этот', 'вертолет', 'производить', 'фирма', 'не', 'иметь', 'лицензия', 'на', 'указывать', 'вид', 'деятельность']\n",
            "['федеральный', 'судья', 'не', 'соглашаться', 'с', 'такой', 'подход', 'ставить', 'по', 'они', 'мнение', 'под', 'вопрос', 'норма', 'о', 'обязательный', 'компенсация', 'лицо', 'попадать', 'в', 'заключение', 'без', 'должный', 'основание']\n",
            "['кроме', 'то', 'судья', 'не', 'считать', 'нужный', 'удовлетворять', 'просьба', 'заменять', 'он', 'переводчик', 'и', 'отказываться', 'допускать', 'на', 'процесс', 'он', 'жена', 'Шерил', 'и', 'заместитель', 'генконсул', 'Джун']\n",
            "['весь', 'довод', 'о', 'свой', 'невиновность', 'и', 'свой', 'отношение', 'к', 'ход', 'судебный', 'процесс', 'Эдмонд', 'Поуп', 'излагать', 'в', 'заявление', 'на', '40', 'лист', 'который', 'он', 'намерен', 'передавать', 'судья', 'и', 'огласить', 'на', 'заседание', '20', 'октябрь']\n",
            "['как', 'сообщать', 'судья', 'суд', 'признавать', 'законный', 'и', 'обоснованный', 'постановление', 'кемеровский', 'прокуратура', 'о', 'возбуждение', 'уголовный', 'дело']\n",
            "['по', 'заключение', 'судья', 'он', 'все', 'еще', 'представлять', 'угроза', 'для', 'общество']\n",
            "['все', 'же', 'судья', 'заявлять', 'что', 'слишком', 'опасный', 'для', 'общество', 'и', 'должен', 'находиться', 'в', 'тюрьма', 'где', 'он', 'становиться', '25-й', 'заключенный', 'в', 'возраст', 'более', '80', 'год']\n",
            "['к', 'судья', 'курский', 'областной', 'суд', 'отменять', 'в', 'суббота', 'регистрация', 'в', 'качество', 'кандидат', 'на', 'выборы', 'губернатор', 'область', 'приставить', 'личный', 'охрана']\n",
            "['как', 'сообщать', 'этот', 'шаг', 'предпринимать', 'по', 'просьба', 'сам', 'судья', 'который', 'считать', 'что', 'она', 'здоровье', 'и', 'безопасность', 'мочь', 'угрожать', 'опасность', 'со', 'сторона', 'окружение', 'Руцкий']\n",
            "['не', 'называть', 'имя', 'судья', 'ограничивать', 'указание', 'пол']\n",
            "['в', 'субботний', 'сообщение', 'информационный', 'агентство', 'говорить', 'что', 'вердикт', 'суд', 'по', 'дело', 'Руцкий', 'зачитывать', 'судья']\n",
            "['в', 'приговор', 'судья', 'пресненский', 'суд', 'отмечать', 'что', 'собирать', 'по', 'дело', 'доказательство', 'свидетельствовать', 'о', 'то', 'что', 'адвокат', 'быть', 'предупредить', 'следователь', 'генеральный', 'прокуратура', 'о', 'уголовный', 'ответственность', 'за', 'разглашение', 'данные', 'предварительный', 'следствие']\n",
            "['кроме', 'то', 'в', 'настоящий', 'момент', 'несмотря', 'на', 'восьмилетный', 'пребывание', 'у', 'власть', 'верховный', 'суд', 'состоять', 'из', 'пять', 'судья', 'консервативный', 'ориентация', 'и', 'четыре', 'либерал']\n",
            "['мочь', 'ли', 'будущий', 'президент', 'изменять', 'этот', 'расклад', 'зависеть', 'от', 'то', 'какой', 'конкретно', 'судья', 'пойти', 'при', 'он', 'в', 'отставка']\n",
            "['если', 'сказать', 'у', 'власть', 'оказываться', 'а', 'в', 'отставка', 'подавать', 'председатель', 'верховный', 'суд', 'или', 'любой', 'другой', 'из', 'пять', 'консервативный', 'судья', '-', 'назначение', 'новый', 'консерватор', 'на', 'место', 'старый', 'не', 'изменять', 'расстановка', 'сила']\n",
            "['аналогично', 'и', 'не', 'удаваться', 'сместить', 'состав', 'суд', 'влево', 'если', 'за', 'время', 'он', 'каденция', 'в', 'отставка', 'подавать', 'либеральный', 'судья']\n",
            "['то', 'не', 'менее', 'судья', 'считать', 'возможный', 'досрочно', 'освобождать', 'убийца', 'под', 'честный', 'слово']\n",
            "['судья', 'верховный', 'суд', 'погибать', 'в', 'результат', 'покушение', 'приписывать', 'баскский', 'сепаратист', 'сообщать', 'reuters']\n",
            "['взрываться', 'машина', 'судья', 'который', 'отвечать', 'в', 'верховный', 'суд', 'за', 'слушанье', 'посвящать', 'военный', 'дело']\n",
            "['в', 'гореть', 'машина', 'погибать', 'сам', 'судья', 'а', 'также', 'он', 'шофер', 'и', 'телохранитель']\n",
            "['начальник', 'конвой', 'который', 'доставлять', 'американец', 'из', 'сизо', 'в', 'суд', 'передавать', 'судья', 'справка', 'от', 'дежурный', 'врач', 'лефортовский', 'тюрьма', 'где', 'указывать', 'что', 'в', 'приступ', 'остеохандроз', 'тазобедренный', 'сустав', 'и', 'двусторонний', 'радикулит']\n",
            "['это', 'отразить', 'и', 'в', 'постановление', 'французский', 'судья', 'Эрв', 'где', 'в', 'частность', 'говорить', 'что', 'причина', 'катастрофа', 'становиться', 'алкоголь', 'наркотик', 'и', 'превышение', 'скорость']\n",
            "['судья', 'прекращать', 'тогда', 'дело', 'в', 'отношение', 'девять', 'фотограф', 'и', 'один', 'мотоциклист', 'преследовать', 'и', 'она', 'спутник']\n",
            "['хотя', 'поведение', 'фотограф', 'и', 'подвергнуться', 'суровый', 'критика', 'со', 'сторона', 'несколько', 'свидетель', '-', 'отмечать', 'судья', '-', 'оно', 'не', 'являться', 'преступление', 'по', 'французский', 'закон']\n",
            "['против', 'Napster', 'быть', 'подавать', 'серия', 'громкий', 'судебный', 'иск', 'в', 'один', 'из', 'который', 'истец', 'выступать', 'Bertelsmann', 'Music', 'group', 'и', 'минувший', 'лето', 'судья', 'даже', 'выносить', 'постановление', 'о', 'прекращение', 'деятельность', 'сервис', 'до', 'окончание', 'судебный', 'слушание']\n",
            "['несколько', 'день', 'назад', 'в', 'в', 'результат', 'мощный', 'взрыв', 'погибать', 'три', 'человек', '-', 'судья', 'верховный', 'суд', 'страна', 'он', 'шофер', 'и', 'телохранитель']\n",
            "['судья', 'удовлетворять', 'ходатайство', 'адвокат', 'главный', 'обвиняемый', 'по', 'этот', 'дело', '-', 'полковник', 'Поповских', '-', 'Оксана', 'о', 'лишение', 'аккредитация', 'сми']\n",
            "['в', 'выносить', 'судья', 'определение', 'отмечать', 'что', 'суд', 'по-прежнему', 'объявлять', 'открытый', 'однако', 'без', 'присутствие', 'пресса']\n",
            "['при', 'это', 'судья', 'заявлять', 'что', 'в', 'ряд', 'публикация', 'и', 'телевизионный', 'репортаж', 'разглашаться', 'показание', 'подсудимый', 'и', 'упоминаться', 'имя', 'свидетель', 'что', 'по', 'мнение', 'суд', 'мочь', 'препятствовать', 'установление', 'истина']\n",
            "['при', 'назначение', 'наказание', 'судья', 'нина', 'отмечать', 'что', 'суд', 'не', 'мочь', 'признавать', 'смягчать', 'обстоятельство', 'привлечение', 'к', 'уголовный', 'ответственность', 'впервые', 'и', 'наличие', 'у', 'он', 'государственный', 'награда']\n",
            "['на', 'судебный', 'процесс', 'в', 'подсудимый', 'угрожать', 'заражать', 'судья', 'спид']\n",
            "['кроме', 'то', 'он', 'пригрозить', 'судья', 'и', 'конвоир', 'что', 'заразить', 'они', 'спид']\n",
            "['в', 'ход', 'судебный', 'разбирательство', 'судья', 'и', 'дубина', 'пытаться', 'склонить', 'суд', 'к', 'вынесение', 'противоположный', 'решение', 'однако', 'они', 'это', 'не', 'удаваться']\n",
            "['в', 'пятница', 'вечер', 'двое', 'судья', 'флоридский', 'округ', '-', 'и', '-', 'отклонять', 'иск', 'адвокат', 'требовать', 'аннулирование', '15', 'тысяча', 'открепительный', 'бюллетень', 'в', 'округ', 'и', '10', 'тысяча', '-', 'в', 'округ']\n",
            "['адвокат', 'уже', 'подавать', 'апелляция', 'по', 'повод', 'оба', 'постановление', 'окружной', 'судья', 'в', 'верховный', 'флорида']\n",
            "['о', 'ручной', 'пересчет', 'в', 'несколько', 'округ', 'штат', 'принимать', 'в', 'пятница', 'верховный', 'флорида', 'удовлетворять', 'то', 'самый', 'апелляция', 'штаб', 'на', 'решение', 'судья', 'округ', 'Солс', 'напоминать', 'cnn']\n",
            "['судья', 'штат', 'отвергать', 'иск', 'американский', 'United', 'Refining', 'о', 'блокировка', 'сделка', 'по', 'покупка', 'Getty', 'российский', 'нефтяной', 'компания']\n",
            "['мы', 'удовлетворять', 'решение', 'судья', 'который', 'подтверждать', 'наш', 'мнение', 'что', 'соглашение', 'с', 'в', 'наибольший', 'степень', 'соответствовать', 'интерес', 'акционер', 'Getty', 'передавать', 'заявление', 'глава', 'Getty', 'агентство', 'reuters']\n",
            "['ранее', 'в', 'четверг', 'тот', 'же', 'судья', 'штат', 'приостановить', 'сделка', 'Getty', 'и', 'после', 'то', 'как', 'United', 'Refining', 'обращаться', 'в', 'суд', 'заявлять', 'что', 'она', 'новый', 'предложение', 'о', 'покупка', 'Getty', 'почти', 'за', '90', 'миллион', 'доллар', 'являться', 'более', 'выгодный', 'для', 'акционер', 'Getty', 'нежели', 'предложение']\n",
            "['в', 'первый', 'полтора', 'час', 'заседание', 'быть', 'выслушивать', 'аргумент', 'сторона', '-', 'адвокат', 'и', 'изложить', 'свой', 'позиция', 'и', 'отвечать', 'на', 'вопрос', 'судья']\n",
            "['на', 'заседание', 'в', 'понедельник', 'судья', 'предстоять', 'решать', 'вопрос', 'запрещать', 'ли', 'перестать', 'окончательно', 'или', 'разрешать', 'он', 'продолжение']\n",
            "['проект', 'на', 'полгода', 'заморозить', 'и', 'он', 'снова', 'оказываться', 'в', 'работа', 'только', 'после', 'появление', 'немецкий', 'партнер', 'заплатить', 'неустойка', 'сумма', 'не', 'разглашаться', 'а', 'также', 'пригласить', 'для', 'съемка', 'рено', '46', 'невыполнимый', '55', 'голубой', 'бездна', 'который', 'сыграть', 'судья', 'матч', 'смерть']\n",
            "['испанский', 'судья', 'выносить', 'решение', 'о', 'взятие', 'российский', 'бизнесмен', 'под', 'стража']\n",
            "['между', 'то', 'радиостанция', 'москва', 'передать', 'в', '03мскать', 'с', 'ссылка', 'на', 'собственный', 'источник', 'в', 'испанский', 'столица', 'что', 'судья', 'еще', 'не', 'выходить', 'из', 'совещательный', 'комната', 'и', 'не', 'объявлять', 'никакой', 'решение', 'по', 'дело']\n",
            "['однако', 'буквально', 'за', 'несколько', 'час', 'до', 'истечение', 'тендерный', 'предложение', 'судья', 'отказываться', 'удовлетворять', 'иск', 'американский', 'компания']\n",
            "['в', 'работа', 'суд', 'под', 'председательство', 'бывший', 'судья', 'международный', 'трибунал', 'по', 'преступление', 'на', 'территория', 'бывший', 'Габриэль', 'принимать', 'участие', 'более', '450', 'человек']\n",
            "['семь', 'судья', 'из', 'девять', 'сходиться', 'в', 'мнение', 'что', 'ручной', 'перестать', 'назначать', 'верховный', 'суд', 'по', 'требование', 'в', 'минувший', 'пятница', 'проводить', 'в', 'нарушение', 'конституционный', 'норма', 'и', 'должен', 'быть', 'прекращать']\n",
            "['однако', 'по', 'вопрос', 'о', 'то', 'как', 'исправлять', 'этот', 'ситуация', 'судья', 'верховный', 'суд', 'договариваться', 'не', 'мочь']\n",
            "['в', 'вторник', 'Тимоти', 'МакВя', 'ответственный', 'за', 'взрыв', 'федеральный', 'здание', 'в', 'в', '1995', 'год', 'просить', 'судья', 'прекращать', 'оттягиваний', 'он', 'смертный', 'казнь', 'и', 'приводить', 'приговор', 'в', 'исполнение', 'в', 'оговаривать', 'закон', 'срок', 'передавать', 'reuters']\n",
            "['обратиться', 'к', 'судья', 'МакВя', 'просить', 'они', 'прекращать', 'рассматривать', 'любой', 'апелляция', 'подать', 'в', 'он', 'защита', 'и', 'назначать', 'смертный', 'казнь', 'в', 'устанавливать', 'закон', 'срок', '-', 'в', 'течение', 'следующий', '120', 'день']\n",
            "['впрочем', 'авдокать', 'уверенный', 'что', 'подобный', 'просьба', 'не', 'понравиться', 'судья', 'и', 'они', 'назначать', 'психологический', 'экспертиза', 'осужденный', 'который', 'мочь', 'занимать', 'еще', 'пять', 'месяц']\n",
            "['испанский', 'судья', 'выносить', 'решение', 'о', 'временный', 'заключение', 'российский', 'бизнесмен', 'под', 'стража', 'в', 'тюрьма', 'дель', 'в', '40', 'километр', 'к', 'север', 'от']\n",
            "['Afp', 'сообщать', 'что', 'говорить', 'судья', 'о', 'политический', 'характер', 'преследование', 'который', 'он', 'подвергаться', 'в']\n",
            "['испанский', 'информационный', 'агентство', 'Efe', 'сообщать', 'что', 'в', 'свой', 'решение', 'брать', 'под', 'стража', 'судья', 'руководствоваться', 'рекомендация', 'общественный', 'обвинитель', 'указать', 'на', 'высокий', 'риск', 'бегство', 'предприниматель', 'из', 'в', 'случай', 'освобождение', 'под', 'залог']\n",
            "['кроме', 'то', 'опротестовывать', 'право', 'президент', 'на', 'помилование', 'преступник', 'порядок', 'формирование', 'палата', 'представитель', 'избрание', 'судья', 'прием', 'на', 'госслужба']\n",
            "['генеральный', 'прокуратура', 'не', 'исключать', 'возможность', 'обращение', 'в', 'квалификационный', 'коллегия', 'судья', 'в', 'связь', 'с', 'решение', 'тверской', 'суд', 'по', 'жалоба', 'адвокат']\n",
            "['в', 'зависимость', 'от', 'результат', 'этот', 'проверка', 'отмечать', 'мочь', 'следовать', 'соответствующий', 'представление', 'в', 'квалификационный', 'коллегия', 'судья']\n",
            "['а', 'вот', 'на', 'третий', 'судья', 'ставить', 'сорвать', 'несколько', 'прыжок']\n",
            "['такой', 'образ', 'уже', 'третий', 'новый', 'год', 'встречать', 'без', 'дочь', 'отправлять', 'в', 'приют', 'а', 'затем', 'в', 'приемная', 'семь', 'судья', 'по', 'ребенок', 'под', 'предлог', 'серьезный', 'конфликт', 'родитель']\n",
            "['однако', 'ведущий', 'дело', 'судья', 'Гом', 'вместо', 'это', 'постановлять', 'назначать', 'авторитетный', 'комиссия', 'который', 'должен', 'быть', 'вырабатывать', 'способ', 'защита', 'француз', 'от', 'свастика']\n",
            "['окружной', 'судья', 'предстоять', 'выбирать', '12', 'человек', 'из', 'полтора', 'тысяча', 'желать', 'подавать', 'заявка']\n",
            "['с', 'кандидат', 'судья', 'беседовать', 'за', 'закрывать', 'дверь', '-', 'зритель', 'и', 'журналист', 'в', 'зал', 'суд', 'не', 'допускать']\n",
            "['не', 'прислушиваться', 'к', 'мнение', 'прокурор', 'который', 'опротестовывать', 'решение', 'судья', 'по', 'ребенок']\n",
            "['по', 'слово', 'адвокат', 'россиянка', 'мэтр', 'апелляционный', 'суд', 'фактически', 'воспроизводить', 'прежний', 'решение', 'судья', 'который', 'считать', 'что', 'здоровье', 'ребенок', 'слишком', 'хрупкий', 'и', 'поэтому', 'Маша', 'надо', 'по-прежнему', 'находиться', 'в', 'приемная', 'семья']\n",
            "['в', 'знак', 'протест', 'и', 'перед', 'судья', 'предстать', 'голый']\n",
            "['23', 'декабрь', 'испанский', 'судья', 'выпускать', 'из', 'тюрьма', 'под', 'залог', 'примерно', 'в', 'пяить', 'миллион', 'доллар', 'до', 'решение', 'вопрос', 'о', 'он', 'экстрадиция', 'в']\n",
            "['в', 'пятница', 'судья', 'объявлять', 'дата', 'приведение', 'в', 'исполнение', 'приговор', 'который', 'быть', 'вынести', 'в', 'сентябрь', '2000', 'год', 'шариатский', 'суд', 'в', 'северный', 'нигерия', 'в', 'провинция']\n",
            "['Эшкрофт', 'обвинять', 'в', 'то', 'что', 'тот', 'мешать', 'назначение', 'на', 'должность', 'федеральный', 'судья', 'некий', 'который', 'мочь', 'становиться', 'первый', 'черный', 'федеральный', 'судья', 'в']\n",
            "['Эшкрофт', 'обвинять', 'в', 'то', 'что', 'тот', 'мешать', 'назначение', 'на', 'должность', 'федеральный', 'судья', 'некий', 'который', 'мочь', 'становиться', 'первый', 'черный', 'федеральный', 'судья', 'в']\n",
            "['причинять', 'вред', 'настолько', 'серьезный', 'что', 'быть', 'бы', 'несправедливый', 'выносить', 'приговор', 'без', 'тюремный', 'заключение', '-', 'заявлять', 'судья']\n",
            "['апелляционный', 'суд', 'возобновлять', '12', 'январь', 'не', 'мочь', 'отменять', 'решение', 'окружной', 'судья']\n",
            "['Кайрон', 'Хенн-ли', 'разводиться', 'с', 'свой', 'муж', 'Маккой', 'в', '1994', 'год', 'и', 'при', 'оформление', 'развод', 'судья', 'постановлять', 'что', 'дочь', 'оставаться', 'с', 'мать', 'а', 'отец', 'иметь', 'право', 'быть', 'с', 'ребенок', '66', 'день', 'в', 'год']\n",
            "['а', 'поскольку', 'речь', 'идти', 'о', 'ликвидация', 'общенациональный', 'телевидение', 'этот', 'вопрос', 'должен', 'решать', 'не', 'один', 'судья', 'а', 'несколько', 'подчеркивать', 'юрист']\n",
            "['теперь', 'судьба', 'телеканал', 'быть', 'решать', 'не', 'один', 'а', 'трое', 'федеральный', 'судья']\n",
            "['в', 'награда', 'за', 'этот', 'присяжный', 'присуждать', 'выплачивать', '2', 'миллион', '900', 'тысяча', 'доллар', 'однако', 'затем', 'судья', 'уменьшать', 'сумма', 'до', '480', 'тысяча']\n",
            "['по', 'мнение', 'судья', 'демонстрировать', 'в', 'он', 'отношение', 'такой', 'ядовитый', 'враждебность', 'и', 'настоящий', 'ненависть', 'что', 'это', 'напоминать', 'поведение', 'судья', 'в', 'тоталитарный', 'страна']\n",
            "['по', 'мнение', 'судья', 'демонстрировать', 'в', 'он', 'отношение', 'такой', 'ядовитый', 'враждебность', 'и', 'настоящий', 'ненависть', 'что', 'это', 'напоминать', 'поведение', 'судья', 'в', 'тоталитарный', 'страна']\n",
            "['так', 'в', 'наручник', 'он', 'и', 'доставлять', 'в', 'кабинет', 'к', 'судья']\n",
            "['в', 'прошлый', 'год', 'судья', 'признавать', 'виновный', 'в', 'нарушение', 'антимонопольный', 'законодательство', 'и', 'выносить', 'решение', 'о', 'раздел', 'корпорация', 'на', 'два', 'компания']\n",
            "['хотя', 'в', 'обвинитель', 'и', 'судья', 'не', 'быть', 'никакой', 'сомнение', 'в', 'то', 'что', 'иметь', 'место', 'именно', 'расправа', '-', 'среди', 'убитый', 'быть', 'беременный', 'женщина', 'ожжеть', 'заживо', 'защитник', 'настаивать', 'на', 'другой', 'версия']\n",
            "['в', 'понедельник', 'московский', 'военный', 'окружной', 'суд', 'переносить', 'слушание', 'по', 'дело', 'о', 'убийство', 'журналист', 'газета', 'московский', 'комсомолец', 'на', '22', 'январь', 'из-за', 'болезнь', 'председательствующий', 'судья']\n",
            "['судья', 'принимать', 'решение', 'пока', 'не', 'называть', 'имя', 'вызвать', 'в', 'суд', 'свидетель', 'однако', 'по', 'слово', 'адвокат', 'среди', 'они', 'быть', 'главный', 'редактор', 'и', 'журналист']\n",
            "['однако', 'судья']\n",
            "['экс-дипломат', 'возмущать', 'также', 'то', 'что', 'судья', 'отказываться', 'выдавать', 'доверенность', 'защита', 'на', 'представление', 'интерес', 'в', 'европейский', 'суд', 'по', 'право', 'человек', 'в']\n",
            "['новый', 'рассмотрение', 'дело', 'в', 'суд', 'спустя', 'два', 'месяц', 'быть', 'неожиданно', 'прерывать', 'из-за', 'болезнь', 'судья', 'и', 'она', 'замена', 'после', 'что', 'адвокат', 'обвиняемый', 'обжаловать', 'этот', 'решение', 'в', 'верховный', 'суд', 'а', 'сам', 'обращаться', 'в', 'высший', 'судебный', 'инстанция', 'с', 'просьба', 'рассматривать', 'он', 'дело', 'по', 'первый', 'инстанция']\n",
            "['теперь', 'судьба', 'быть', 'решать', 'не', 'один', 'судья', 'а', 'коллегия', 'из', 'три', 'судья']\n",
            "['теперь', 'судьба', 'быть', 'решать', 'не', 'один', 'судья', 'а', 'коллегия', 'из', 'три', 'судья']\n",
            "['одиннадцать', 'член', 'верхний', 'палата', 'парламент', 'назначать', 'судья', 'в', 'процесс', 'по', 'обвинение', 'в', 'коррупция', 'президент', 'страна', 'эстрада', 'заявлять', 'о', 'то', 'что', 'уходить', 'в', 'отставка', 'сообщать', 'reuters']\n",
            "['судья', 'объяснять', 'свой', 'решение', 'то', 'что', 'они', 'не', 'мочь', 'работать', 'в', 'условие', 'постоянный', 'давление', 'со', 'сторона', 'круг', 'близкий', 'к', 'президент', 'страна']\n",
            "['это', 'совершенно', 'бесстыдный', 'голосование', '-', 'сказать', 'один', 'из', 'бывший', 'судья']\n",
            "['затем', 'офицер', 'вызывать', 'судья', 'в', 'коридор', 'и', 'прострелить', 'тот', 'палец', 'нога']\n",
            "['судья', 'отправлять', 'в', 'больница']\n",
            "['государственный', 'отклонять', 'пакет', 'законопроект', 'о', 'порядок', 'льготный', 'проезд', 'работник', 'милиция', 'таможня', 'тюрьма', 'налоговый', 'полиция', 'прокуратура', 'судья', 'и', 'судебный', 'пристав']\n",
            "['представитель', 'правительство', 'выступать', 'на', 'заседание', 'призывать', 'поддерживать', 'кемеровский', 'депутат', 'по', 'один', 'пункт', '-', 'о', 'компенсация', 'проезд', 'судья']\n",
            "['быть', 'выполнять', 'еще', 'один', 'формальность', 'судья', 'информировать', 'задерживать', 'что', 'тот', 'иметь', 'право', 'не', 'делать', 'никакой', 'заявление', 'который', 'впоследствии', 'мочь', 'бы', 'быть', 'использовать', 'против', 'он']\n",
            "['судья', 'заявлять', 'что', 'принимать', 'весь', 'этот', 'предложение', 'в', 'внимание', 'но', 'прежде', 'сам', 'должен', 'проконсультироваться', 'поскольку', 'речь', 'идти', 'о', 'высокопоставлать', 'официальный', 'лицо']\n",
            "['судья', 'отдавать', 'распоряжение', 'тюремный', 'охрана', 'выдавать', 'арестованный', 'нужный', 'он', 'лекарство', 'по', 'первый', 'требование']\n",
            "['министр', 'решать', 'передавать', 'дело', 'о', 'экстрадиция', 'глава', 'холдинг', '-', 'судья']\n",
            "['чтобы', 'прекращать', 'побоище', 'судья', 'быть', 'вынуждать', 'почти', 'на', 'четверть', 'час', 'останавливать', 'матч']\n",
            "['судья', 'отмечать', 'что', 'предпринимать', 'весь', 'мера', 'для', 'обеспечение', 'явка', 'свидетель']\n",
            "['как', 'пояснять', 'журналист', 'эксперт', 'кремлевский', 'администрация', 'для', 'реализация', 'поправка', 'к', 'уголовный', 'кодекс', 'требоваться', 'дополнительно', '3', 'тысяча', 'судья', '6900', 'работник', 'аппарат', 'суд', 'и', '1,5', 'миллиард', 'рубль', 'в', 'год', 'дополнительный', 'финансирование']\n",
            "['но', 'затем', 'киргизия', 'требовать', 'от', 'суд', 'повторно', 'рассматривать', 'он', 'дело', 'с', 'новый', 'состав', 'судья']\n",
            "['Болтон', 'уверять', 'что', 'ни', 'он', 'ни', 'он', 'соавтор', 'не', 'слышать', 'песня', 'брат', 'Айсли', 'перед', 'то', 'как', 'писать', 'свой', 'но', 'не', 'мочь', 'убеждать', 'судья']\n",
            "['в', 'вторник', '23', 'январь', 'в', 'проходить', 'встреча', 'между', 'заместитель', 'генеральный', 'прокурор', 'василий', 'и', 'судья', 'национальный', 'судебный', 'коллегия', 'Бальтасар']\n",
            "['ранее', 'сообщаться', 'что', 'направлять', 'в', 'для', 'то', 'чтобы', 'передавать', 'испанский', 'судья', 'документ', 'доказывать', 'необходимость', 'экстрадиция', 'и', 'арест', 'находиться', 'за', 'граница', 'имущество', 'глава', 'Медиа', '-']\n",
            "['удовлетворять', 'требование', 'певец', '-', 'хотя', 'тот', 'и', 'не', 'стать', 'лично', 'демонстрировать', 'свой', 'искусство', 'перед', 'судья']\n",
            "['о', 'это', 'как', 'добавлять', 'сообщать', 'председательствовать', 'на', 'процесс', 'судья', 'верховный', 'суд', 'Мухамед']\n",
            "['в', 'он', 'приводить', 'ссылка', 'на', 'весь', 'необходимый', 'прецедент', 'на', 'который', 'по', 'мнение', 'защита', 'судья', 'следовать', 'обращать', 'внимание']\n",
            "['компания', 'оставаться', 'утешаться', 'то', 'что', 'судья', 'уменьшать', 'требовать', 'сумма', 'втрое', 'истица', 'требовать', 'компенсация', 'почти', 'в', 'миллион', 'доллар']\n",
            "['судья', 'долждать', 'выслушивать', 'оба', 'сторона', 'и', 'выносить', 'решение', 'по', 'свой', 'усмотрение']\n",
            "['судья', 'отказывать', 'мэр', 'город', 'в', 'срочный', 'рассмотрение', 'вопрос', 'о', 'залог', 'и', 'то', 'приходиться', 'проводить', 'ночь', 'в', 'тюрьма']\n",
            "['я', 'не', 'видеть', 'никакой', 'причина', 'для', 'то', 'чтобы', 'обращаться', 'с', 'мистер', 'как-то', 'особенно', '-', 'заявлять', 'судья']\n",
            "['после', 'это', 'он', 'расплакаться', 'и', 'просить', 'судья', 'относиться', 'к', 'он', 'снисходительно']\n",
            "['а', 'потом', 'приходить', 'к', 'судья', 'и', 'объяснять', 'что', 'не', 'мочь', 'приходить', 'рано', 'поскольку', 'недавно', 'рождать', 'ребенок']\n",
            "['судья', 'уже', 'собираться', 'по', 'этот', 'причина', 'откладывать', 'слушание', 'как', 'вдруг', 'раздаться', 'блеяние', 'молодой', 'мать', 'спрятать', 'под', 'одежда', 'ягенка', 'который', 'подавать', 'голос', 'в', 'неудачный', 'момент']\n",
            "['в', 'результат', 'судья', 'отсмеяться', 'отправлять', 'роженица', 'в', 'тюрьма', 'за', 'затягивание', 'процесс', 'слушание']\n",
            "['в', 'середина', 'декабрь', 'минувший', 'год', 'Макво', 'просить', 'судья', 'прекращать', 'оттягиваний', 'он', 'смертный', 'казнь', 'и', 'приводить', 'приговор', 'в', 'исполнение', 'в', 'оговаривать', 'закон', 'срок']\n",
            "['в', 'свой', 'обращение', 'к', 'судья', 'муж', 'жаловаться', 'что', 'не', 'мочь', 'больше', 'жить', 'в', 'такой', 'грязь', 'а', 'жена', 'заявлять', 'что', 'весь', '50', 'год', 'они', 'жить', 'душа', 'в', 'душа', 'и', 'один', 'из', 'свидетельство', 'то', '-', 'четверо', 'ребенок']\n",
            "['то', 'что', 'жена', 'терять', 'интерес', 'к', 'домашний', 'хозяйство', 'переставать', 'убирать', 'и', 'запускать', 'дом', 'свидетельствовать', 'о', 'потеря', 'интерес', 'к', 'совместный', 'жизнь', 'вообще', 'говорить', 'в', 'заявление', 'судья']\n",
            "['так', 'уйгура', 'Мемет', 'обвинять', 'в', 'пособничество', 'сепаратист', 'быть', 'казнить', 'по', 'приговор', 'суд', 'даже', 'после', 'то', 'как', 'показывать', 'судья', 'свой', 'палец', 'на', 'который', 'не', 'быть', 'ноготь', 'такой', 'образ', 'заявлять', 'он', 'следователь', 'добиваться', 'от', 'он', 'показание', 'против', 'сам', 'себя']\n",
            "['дисциплинарный', 'комиссия', 'высший', 'судебный', 'совет', 'постановить', 'начинать', 'расследование', 'в', 'отношение', 'некоторый', 'действие', 'судья', 'известный', 'широкий', 'публика', 'по', 'дело', 'и', 'дело', 'сообщать']\n",
            "['сообщать', 'свой', 'приговор', 'судья', 'сказать', 'подсудимый', 'вы', 'прямо', 'или', 'косвенно', 'эксплуатировать', 'самый', 'уязвимый', 'часть', 'наш', 'общество']\n",
            "['судья', 'напоминать', 'что', 'в', 'соглашение', 'заключять', '17', 'ноябрь', 'между', 'и', '-', 'мост', 'быть', 'пункт', 'согласно', 'который', 'весь', 'спор', 'между', 'сторона', 'должен', 'рассматривать', 'в', 'московский', 'арбитражный', 'суд']\n",
            "['по', 'мнение', 'судья', 'пятилетний', 'срок', 'к', 'который', 'приговаривать', 'водитель', 'становиться', 'предупреждение', 'для', 'тот', 'кто', 'считать', 'что', 'нет', 'ничто', 'опасный', 'в', 'разговор', 'по', 'телефон', 'во', 'время', 'вождение']\n",
            "['на', 'состояться', 'вечер', 'в', 'четверг', 'совещание', 'с', 'судья', 'конституционный', 'суд', 'о', 'изменение', 'даже', 'не', 'быть', 'речь']\n",
            "['по', 'он', 'слово', 'президент', 'поддерживать', 'мнение', 'конституционный', 'судья', 'о', 'необходимость', 'работа', 'по', 'укрепление', 'весь', 'элемент', 'судебный', 'система', 'в', 'страна']\n",
            "['о', 'это', 'он', 'направлять', 'федеральный', 'судья', 'Похорелска', 'передавать']\n",
            "['прокурор', 'не', 'соглашаться', 'с', 'решение', 'судья', 'который', '22', 'декабрь', 'прошлый', 'год', 'заменять', 'медиа', '-', 'магнат', 'тюремный', 'заключение', 'на', 'домашний', 'арест']\n",
            "['он', 'предлагать', 'судья', 'Похорелска', 'новый', 'срок', 'подача', 'необходимый', 'документ', 'однако', 'судья', 'пока', 'не', 'принимать', 'решение', 'относительно', 'дата']\n",
            "['он', 'предлагать', 'судья', 'Похорелска', 'новый', 'срок', 'подача', 'необходимый', 'документ', 'однако', 'судья', 'пока', 'не', 'принимать', 'решение', 'относительно', 'дата']\n",
            "['в', 'частность', 'судья', 'должен', 'теперь', 'одобрять', 'новый', 'график', 'обмен', 'документ', 'между', 'защита', 'и', 'обвинение', 'после', 'что', 'назначать', 'день', 'слушание']\n",
            "['в', 'получать', 'в', 'четверг', 'в', 'отделение', 'текст', 'послание', 'в', 'адрес', 'судья', 'Похорелска', 'отмечать', 'что', 'в', 'министерство', 'юстиция', 'уже', 'поступать', 'весь', 'надлежащий', 'образ', 'заверенный', 'документ', 'швейцарский', 'судебный', '-', 'следственный', 'орган', 'о', 'экстрадиция']\n",
            "['между', 'то', 'в', 'поведение', 'история', 'который', 'излагать', 'в', 'судья', 'израильский', 'доктор', 'насчитывать', 'шесть', 'такой', 'признак']\n",
            "['по', 'мнение', 'судья', 'представлять', 'такой', 'опасность', 'для', 'общество', 'что', 'он', 'вообще', 'не', 'стоить', 'выпускать', 'из', 'тюрьма']\n",
            "['судья', 'Ньюпортский', 'королевский', 'суд', 'замечать', 'что', 'он', 'известный', 'о', 'желание', 'любой', 'путь', 'добиваться', 'перевод', 'в', 'больница', 'то', 'не', 'менее', 'учитывать', 'вывод', 'эксперт', 'и', 'приговорить', 'к', 'пожизненный', 'содержание', 'в', 'психиатрический', 'лечебница']\n",
            "['на', 'процесс', 'по', 'дело', 'российский', 'гражданка', 'который', 'по', 'решение', 'французский', 'власть', 'более', 'два', 'год', 'назад', 'разлучить', 'с', 'дочь', 'Маша', 'сменить', 'судья']\n",
            "['прокурор', 'отстранять', 'судья', 'от', 'ведение', 'дело', 'после', 'то', 'как', 'она', 'отказать', 'в', 'просьба', 'брать', 'дочь', 'на', 'каникулы', 'и', 'проводить', 'в', 'отношение', 'они', 'медицинский', 'и', 'психологический', 'обследование']\n",
            "['он', 'подавать', 'апелляционный', 'жалоба', 'и', 'через', 'неделя', 'судья', 'быть', 'отстранить']\n",
            "['судья', 'Похорелска', 'в', 'вторник', 'определять', 'дата', 'проведений', 'слушание', 'по', 'дело', 'о', 'экстрадиция', 'в', 'после', 'то', 'как', 'мочь', 'наконец', 'утвердить', 'новый', 'график', 'обмен', 'документ', 'между', 'защита', 'и', 'обвинение', 'сообщать', 'американский', 'адвокат', 'Бэрри']\n",
            "['в', 'вторник', 'судья', 'постановлять', 'что', 'защита', 'должен', 'предоставлять', 'к', '6', 'март', 'материал', 'с', 'обоснование', 'свой', 'позиция', 'в', 'отношение', 'новый', 'запрос', 'о', 'экстрадиция']\n",
            "['судья', 'пообещать', 'что', 'если', 'у', 'он', 'быть', 'свободный', 'день', 'то', 'слушание', 'возможно', 'проходить', 'немного', 'рано']\n",
            "['по', 'слово', 'никакой', 'срок', 'для', 'принятие', 'судья', 'окончательный', 'решение', 'нет', 'однако', 'обычно', 'при', 'рассмотрение', 'подобный', 'дело', 'судья', 'действовать', 'быстро', 'понимать', 'что', 'задерживать', 'томиться', 'в', 'тюрьма']\n",
            "['по', 'слово', 'никакой', 'срок', 'для', 'принятие', 'судья', 'окончательный', 'решение', 'нет', 'однако', 'обычно', 'при', 'рассмотрение', 'подобный', 'дело', 'судья', 'действовать', 'быстро', 'понимать', 'что', 'задерживать', 'томиться', 'в', 'тюрьма']\n",
            "['-', 'судья', 'из', 'так', 'обидеться', 'на', 'официант', 'за', 'то', 'что', 'он', 'не', 'давать', 'она', 'чипсы', 'вне', 'очередь', 'чтобы', 'приказывать', 'он', 'арестовывать']\n",
            "['по', 'сообщение', 'местный', 'пресса', 'в', 'кафе', 'быть', 'много', 'посетитель', 'поэтому', 'официант', 'не', 'выполнять', 'заказ', 'судья', 'который', 'хотеть', 'что', 'она', 'обслужить', 'вне', 'очередь']\n",
            "['слышать', 'отказ', 'судья', 'так', 'разозлиться', 'что', 'вызывать', 'полиция', 'и', 'требовать', 'арестовывать', 'официант']\n",
            "['по', 'заключение', 'судья', 'Кунцевский', 'суд', 'принимать', 'решение', 'допускать', 'ряд', 'юридический', 'ошибка']\n",
            "['кроме', 'то', 'судья', 'обязать', 'прокурор', 'оплачивать', 'работа', 'пять', 'эксперт', 'который', 'в', 'течение', 'два', 'год', 'изучать', 'литература', 'и', 'знакомиться', 'с', 'деятельность', 'этот', 'организация']\n",
            "['судья', 'также', 'отмечать', 'что', 'решение', 'мочь', 'быть', 'обжаловать', 'в', 'течение', 'два', 'неделя']\n",
            "['слушание', 'быть', 'прерывать', 'в', 'март', '1999', 'год', 'для', 'проведение', 'комплексный', 'экспертиза', 'учение', 'иегова', 'по', 'решение', 'судья']\n",
            "['тогда', 'судья', 'признавать', 'компания', 'монополист', 'использовать', 'свой', 'господствовать', 'положение', 'для', 'получение', 'дополнительный', 'прибыль', 'и', 'создание', 'препятствие', 'конкурент']\n",
            "['известный', 'что', 'судья', 'неприязненно', 'относиться', 'к', 'микрософт', 'он', 'даже', 'говорить', 'что', 'строить', 'из', 'себя']\n",
            "['по', 'слово', 'судья', 'обвиняемый', 'быть', 'комиссовать', 'из', 'армия', 'из-за', 'травма', 'головной', 'мозг']\n",
            "['по', 'слово', 'адвокат', 'и', 'Сергеева', 'судья', 'Похорелска', 'удовлетворять', 'ходатайство', 'защита', 'и', 'переносить', 'слушание', 'на', 'более', 'ранний', 'срок']\n",
            "['мы', 'стремиться', 'несколько', 'ускорять', 'процесс', 'рассмотрение', 'вопрос', 'о', 'экстрадиция', 'и', 'судья', 'любезно', 'соглашаться', 'пойти', 'на', 'это', '-', 'отмечать', 'адвокат']\n",
            "['то', 'не', 'менее', 'по', 'он', 'слово', 'судья', 'все', 'еще', 'не', 'отвечать', 'на', 'просьба', 'защита', 'о', 'назначение', 'день', 'слушание', 'по', 'вопрос', 'о', 'освобождение', 'под', 'залог']\n",
            "['в', 'связь', 'с', 'переносый', 'дата', 'слушание', 'о', 'экстрадиция', 'несколько', 'изменяться', 'назначать', 'судья', 'график', 'обмен', 'документ', 'между', 'защита', 'и', 'обвинение']\n",
            "['причина', '-', 'избиение', 'судья', 'матч', 'игрок', 'казанский', 'команда', 'который', 'в', 'свой', 'время', 'быть', 'член', 'сборная', 'по', 'баскетбол', 'на', 'олимпийский', 'игра', 'в']\n",
            "['как', 'передавать', 'за', '5', 'минута', 'до', 'окончание', 'последний', 'четверть', 'матч', 'при', 'счет', '56', '52', 'в', 'польза', 'в', 'борьба', 'под', 'щит', 'с', 'участие', 'судья', 'давать', 'свисток', 'в', 'польза', 'турецкий', 'команда']\n",
            "['когда', 'команда', 'вернуться', 'на', 'игровой', 'площадка', 'избить', 'судья', 'не', 'приступать', 'к', 'выполнение', 'свой', 'обязанность', 'и', 'встреча', 'проводить', 'лишь', 'один', 'арбитр']\n",
            "['так', 'из-за', 'то', 'что', 'сегодня', 'не', 'представлять', 'испанский', 'сторона', 'материал', 'дело', 'судья', 'отказывать', 'адвокат', 'в', 'освобождение', 'они', 'подзащитный']\n",
            "['однако', 'судья', 'палата', 'считать', 'невозможный', 'получать', 'полный', 'доказательство', 'преступный', 'происхождение', 'этот', 'средства', 'поскольку', 'как', 'явствовать', 'из', 'представлять', 'письмо', 'замгенпрокурор', 'российский', 'власть', 'не', 'проявлять', 'желание', 'содействовать', 'расследование', '-', 'сказать']\n",
            "['такой', 'требование', 'авиакомпания', 'не', 'являться', 'ни', 'незаконный', 'ни', 'дискриминационный', 'в', 'отношение', 'толстый', 'гражданин', 'говорить', 'в', 'постановление', 'судья']\n",
            "['однако', 'судья', 'отказываться', 'принимать', 'иск', 'к', 'рассмотрение', 'создавать', 'прецедент', 'который', 'по', 'суть', 'дело', 'узаконивать', 'практика', 'взимание', 'двойной', 'тариф', 'за', 'авиаперевозка', 'с', 'пассажир', 'страдать', 'повышать', 'вес']\n",
            "['отправлять', 'в', 'тюрьма', 'испанский', 'судья', 'допрашивать', 'медиа', '-магнат', 'после', 'арест']\n",
            "['по', 'слово', 'прибывать', 'в', 'вовсе', 'не', 'для', 'то', 'чтобы', 'передавать', 'судья', 'какой-то', 'данные', 'по', 'дело']\n",
            "['а', 'к', 'судья', 'быть', 'наносить', 'визит', 'вежливость', 'отмечать']\n",
            "['впоследствии', 'дело', 'о', 'нарушение', 'тишина', 'в', 'ночной', 'время', 'планировать', 'передавать', 'в', 'компетенция', 'мировой', 'судья']\n",
            "['этот', 'законопроект', 'предполагать', 'отменять', 'положение', 'о', 'предельный', 'возраст', 'судья', '-', '70', 'год', 'и', 'увеличивать', 'срок', 'они', 'полномочие', 'с', '12', 'до', '15', 'год']\n",
            "['поступок', 'этот', 'гость', 'становиться', 'тяжелый', 'травма', 'для', 'молодой', 'человек', 'который', 'в', 'день', 'начало', 'свой', 'новый', 'жизнь', 'ждать', 'благословение', 'от', 'близкие', '-', 'сказать', 'судья', 'в', 'заключительный', 'речь']\n",
            "['выслушивать', 'аргумент', 'сторона', 'судья', 'верховный', 'суд', 'республика', 'признавать', 'довод', 'истец', 'убедительный', 'и', 'удовлетворять', 'просьба']\n",
            "['председательствовать', 'на', 'суд', 'федеральный', 'судья', 'Погорелска']\n",
            "['судья', 'заявлять', 'что', 'для', 'это', 'нет', 'достаточный', 'основание', 'сообщать', 'москва']\n",
            "['судья', 'Погорелска', 'заявлять', 'что', 'недостаточно', 'компетентный', 'в', 'этот', 'вопрос']\n",
            "['вместе', 'с', 'тот', 'адвокат', 'Бэрри', 'отмечать', 'что', 'судья', 'мочь', 'принимать', 'решение', 'не', 'назначать', 'новый', 'слушание']\n",
            "['сейчас', 'по', 'слово', 'группа', 'адвокат', 'рассматривать', 'вопрос', 'о', 'возможность', 'подача', 'апелляция', 'на', 'решение', 'судья', 'оставлять', 'они', 'подзащитный', 'в', 'следственный', 'тюрьма']\n",
            "['адвокат', 'даже', 'пытаться', 'приводить', 'в', 'зал', 'суд', 'звезда', 'wwf', 'the', 'Rock', 'Джонсон', 'и', 'Sting', 'что', 'они', 'выступать', 'свидетель', 'однако', 'судья', 'не', 'разрешать', 'он', 'делать', 'это']\n",
            "['в', 'понедельник', 'чилийский', 'судья', 'снова', 'приказывать', 'арестовывать', 'Аугусто', 'в', 'связь', 'с', 'возобновление', 'судебный', 'процесс', 'по', 'обвинение', 'генерал', 'в', 'причастность', 'к', 'так', 'называть', 'смерть', 'сообщать', 'reuters']\n",
            "['судья', 'отказываться', 'удовлетворять', 'просьба', 'адвокат', 'отказываться', 'от', 'судебный', 'преследование', 'они', '85-летний', 'клиент', 'из-за', 'возраст', 'и', 'состояние', 'здоровье', 'последний']\n",
            "['ранее', 'уже', 'пытаться', 'арестовывать', 'однако', 'верховный', 'суд', 'страна', 'приостановить', 'выполнение', 'приказ', 'судья', 'заявлять', 'что', 'вначале', 'генерал', 'следовать', 'допросить', 'и', 'проводить', 'медицинский', 'обследование', 'чтобы', 'определять', 'насколько', 'тот', 'мочь', 'участвовать', 'в', 'судебный', 'процесс']\n",
            "['теперь', 'оба', 'этот', 'условие', 'выполнять', 'в', 'вторник', '23', 'январь', 'судья', 'проводить', 'допрос', 'Аугусто', 'в', 'резиденция', 'генерал']\n",
            "['ожидать', 'что', 'теперь', 'адвокат', 'генерал', 'пытаться', 'обжаловать', 'решение', 'судья', 'однако', 'никакой', 'заявление', 'они', 'еще', 'не', 'делать']\n",
            "['свой', 'просьба', 'адвокат', 'мотивировывать', 'то', 'что', 'судья', 'рассматривать', 'иск', 'ранее', 'выносить', 'неправомерный', 'решение', 'по', 'иск', 'дочерний', 'компания', 'к', 'запрещать', 'проводить', 'собрание', 'акционер', 'компания', 'на']\n",
            "['по', 'мнение', 'адвокат', 'Медиа', '-', 'судья', 'не', 'иметь', 'право', 'не', 'только', 'выносить', 'подобный', 'решение', 'но', 'и', 'принимать', 'иск', 'дочерний', 'компания', 'к', 'поскольку', 'общегражданский', 'суд', 'не', 'мочь', 'рассматривать', 'иск', 'юридический', 'лицо', 'к', 'юридический', 'лицо']\n",
            "['будущий', 'футболист', 'обязываться', 'с', 'уважение', 'относиться', 'к', 'судья', 'и', 'боковой', 'арбитр', 'сообщать', 'Ananova']\n",
            "['такой', 'образ', 'судья', 'Похорелска', 'удовлетворять', 'ходатайство', 'защита', 'просить', 'переносить', 'слушание', 'с', '30', 'апрель', 'на', 'более', 'ранний', 'срок']\n",
            "['судья', 'предстоять', 'решать', 'достаточный', 'ли', 'выдвигать', 'против', 'глава', 'холдинг', '-Мост', 'обвинение', 'для', 'он', 'экстрадиция', 'и', 'нет', 'ли', 'в', 'уголовный', 'преследование', 'политический', 'мотив']\n",
            "['судья', 'заниматься', 'дело', 'с', 'момент', 'он', 'арест', '12', 'декабрь', 'прошлый', 'год', 'уже', 'передавать', 'в', 'национальный', 'судебный', 'коллегия', 'все', 'собирать', 'материал']\n",
            "['22', 'февраль', 'в', 'день', 'подача', 'иск', 'в', 'суд', 'судья', 'Черемушкинский', 'суд', 'удовлетворять', 'ходатайство', 'истец', 'и', 'выносить', 'определение', 'в', 'обеспечение', 'иск', 'запрещать', 'проводить', 'внеочередной', 'собрание', 'акционер', 'телекомпания', '12', 'март', 'на', 'до', 'рассмотрение', 'дело', 'в', 'суд']\n",
            "['арест', 'член', 'группировка', 'быть', 'проводить', 'по', 'приказ', 'судья', 'Baltasar', 'Garzon']\n",
            "['в', 'результат', 'судья', 'вставать', 'на', 'сторона', 'последний', 'рассудить', 'что', 'против', 'выдвигать', 'слишком', 'серьезный', 'обвинение', 'чтобы', 'тот', 'можно', 'быть', 'выпускать', 'из', 'тюрьма']\n",
            "['как', 'сообщать', 'судья', 'Бориспольский', 'суд', 'действие', 'таможня', 'признавать', 'незаконный']\n",
            "['судья', 'порекомендовать', 'компания', 'Napster', 'отслеживать', 'с', 'помощь', 'Riaa', 'свежий', 'релиз', 'популярный', 'исполнитель', 'музыка', 'который', 'пользоваться', 'наибольший', 'спрос', 'в', 'пират', 'и', 'блокировать', 'обмен', 'такой', 'файл', 'при', 'первый', 'случай', 'попадание', 'они', 'в', 'система']\n",
            "['напоминать', 'что', 'первоначально', 'судья', 'Похорелска', 'назначать', 'слушание', 'на', '30', 'апрель', 'но', 'переносить', 'он', 'по', 'требование', 'адвокат']\n",
            "['проходить', 'в', 'жесткий', 'борьба', 'соперник', 'часто', 'нарушать', 'правило', 'но', 'норвежский', 'судья', 'давать', 'они', 'играть']\n",
            "['судья', 'Joel', 'Lazarus', 'отклонять', 'просьба', 'защитник', 'о', 'назначение', 'новый', 'судебный', 'процесс', 'или', 'о', 'смягчение', 'приговор', 'ссылаться', 'на', 'доказательство', 'особый', 'жестокость', 'избиение', 'пострадавшая', 'Tiffany', 'Eunick']\n",
            "['родственник', 'человек', 'погибать', 'или', 'пропадать', 'без', 'вести', 'во', 'время', 'он', 'правление', 'считать', 'что', 'судья', 'просто', 'пытаться', 'защищать']\n",
            "['по', 'решение', 'судья', 'Бетти', 'Betty', 'Adams', 'green', 'отец', 'мальчик', 'получать', 'право', 'посещать', 'он', 'в', 'пятница', 'после', 'обед', 'и', 'в', 'суббота']\n",
            "['судья', 'признавать', 'опасный', 'для', 'общество', 'субъект', 'и', 'приговорить', 'он', 'к', '10', 'год', 'специально', 'отмечать', 'что', 'не', 'рекомендовать', 'досрочный', 'освобождение']\n",
            "['судья', 'Alan', 'Postman', 'соглашаться', 'с', 'они', 'аргумент', 'и', 'выносить', 'вердикт', 'согласно', 'который', 'сексуальный', 'отношение', 'между', 'бывший', 'супруга', 'быть', 'квалифицировать', 'как', 'изнасилование']\n",
            "667\n"
          ],
          "name": "stdout"
        }
      ]
    },
    {
      "cell_type": "code",
      "metadata": {
        "id": "z6k7Gd7S1sbx"
      },
      "source": [
        "def pmi(dff, x, y):\n",
        "    df = dff.copy()\n",
        "    df['f_x'] = df.groupby(x)[x].transform('count')\n",
        "    df['f_y'] = df.groupby(y)[y].transform('count')\n",
        "    df['f_xy'] = df.groupby([x, y])[x].transform('count')\n",
        "    df['pmi'] = np.log(len(df.index) * df['f_xy'] / (df['f_x'] * df['f_y']) )\n",
        "    return df"
      ],
      "execution_count": 121,
      "outputs": []
    },
    {
      "cell_type": "code",
      "metadata": {
        "id": "M1i_nQ9w3ZZP"
      },
      "source": [
        "import csv\n",
        "with open('list_to_csv.csv', 'w', newline='') as csv_file:\n",
        "    csv_writer = csv.writer(csv_file)\n",
        "    csv_writer.writerow(range(1,50))\n",
        "    for item in parsed_unlc:\n",
        "        for i in item:\n",
        "          i = i.strip('[]\\'')\n",
        "        csv_writer.writerow(item)"
      ],
      "execution_count": 136,
      "outputs": []
    },
    {
      "cell_type": "code",
      "metadata": {
        "colab": {
          "base_uri": "https://localhost:8080/"
        },
        "id": "TzH-7p0v45QA",
        "outputId": "5d1ce775-fcd5-421b-c2b5-435cc1eca669"
      },
      "source": [
        "corpora = pd.read_csv('list_to_csv.csv',engine='python', error_bad_lines=False)"
      ],
      "execution_count": 137,
      "outputs": [
        {
          "output_type": "stream",
          "text": [
            "Skipping line 427: Expected 49 fields in line 427, saw 58\n",
            "Skipping line 442: Expected 49 fields in line 442, saw 78\n",
            "Skipping line 443: Expected 49 fields in line 443, saw 101\n",
            "Skipping line 544: Expected 49 fields in line 544, saw 53\n",
            "Skipping line 708: Expected 49 fields in line 708, saw 53\n",
            "Skipping line 1295: Expected 49 fields in line 1295, saw 51\n",
            "Skipping line 2199: Expected 49 fields in line 2199, saw 52\n"
          ],
          "name": "stderr"
        }
      ]
    },
    {
      "cell_type": "code",
      "metadata": {
        "colab": {
          "base_uri": "https://localhost:8080/",
          "height": 224
        },
        "id": "K9hnITLQ441t",
        "outputId": "f3098909-767c-4e0e-f835-20e7924465f8"
      },
      "source": [
        "corpora.head()"
      ],
      "execution_count": 138,
      "outputs": [
        {
          "output_type": "execute_result",
          "data": {
            "text/html": [
              "<div>\n",
              "<style scoped>\n",
              "    .dataframe tbody tr th:only-of-type {\n",
              "        vertical-align: middle;\n",
              "    }\n",
              "\n",
              "    .dataframe tbody tr th {\n",
              "        vertical-align: top;\n",
              "    }\n",
              "\n",
              "    .dataframe thead th {\n",
              "        text-align: right;\n",
              "    }\n",
              "</style>\n",
              "<table border=\"1\" class=\"dataframe\">\n",
              "  <thead>\n",
              "    <tr style=\"text-align: right;\">\n",
              "      <th></th>\n",
              "      <th>1</th>\n",
              "      <th>2</th>\n",
              "      <th>3</th>\n",
              "      <th>4</th>\n",
              "      <th>5</th>\n",
              "      <th>6</th>\n",
              "      <th>7</th>\n",
              "      <th>8</th>\n",
              "      <th>9</th>\n",
              "      <th>10</th>\n",
              "      <th>11</th>\n",
              "      <th>12</th>\n",
              "      <th>13</th>\n",
              "      <th>14</th>\n",
              "      <th>15</th>\n",
              "      <th>16</th>\n",
              "      <th>17</th>\n",
              "      <th>18</th>\n",
              "      <th>19</th>\n",
              "      <th>20</th>\n",
              "      <th>21</th>\n",
              "      <th>22</th>\n",
              "      <th>23</th>\n",
              "      <th>24</th>\n",
              "      <th>25</th>\n",
              "      <th>26</th>\n",
              "      <th>27</th>\n",
              "      <th>28</th>\n",
              "      <th>29</th>\n",
              "      <th>30</th>\n",
              "      <th>31</th>\n",
              "      <th>32</th>\n",
              "      <th>33</th>\n",
              "      <th>34</th>\n",
              "      <th>35</th>\n",
              "      <th>36</th>\n",
              "      <th>37</th>\n",
              "      <th>38</th>\n",
              "      <th>39</th>\n",
              "      <th>40</th>\n",
              "      <th>41</th>\n",
              "      <th>42</th>\n",
              "      <th>43</th>\n",
              "      <th>44</th>\n",
              "      <th>45</th>\n",
              "      <th>46</th>\n",
              "      <th>47</th>\n",
              "      <th>48</th>\n",
              "      <th>49</th>\n",
              "    </tr>\n",
              "  </thead>\n",
              "  <tbody>\n",
              "    <tr>\n",
              "      <th>0</th>\n",
              "      <td>швейцарский</td>\n",
              "      <td>федеральный</td>\n",
              "      <td>прокурор</td>\n",
              "      <td>дель</td>\n",
              "      <td>Понти</td>\n",
              "      <td>заявлять</td>\n",
              "      <td>что</td>\n",
              "      <td>работать</td>\n",
              "      <td>на</td>\n",
              "      <td>шеф</td>\n",
              "      <td>разведывательный</td>\n",
              "      <td>служба</td>\n",
              "      <td>и</td>\n",
              "      <td>получать</td>\n",
              "      <td>5,8</td>\n",
              "      <td>миллион</td>\n",
              "      <td>доллар</td>\n",
              "      <td>от</td>\n",
              "      <td>министерство</td>\n",
              "      <td>оборона</td>\n",
              "      <td>для</td>\n",
              "      <td>покупка</td>\n",
              "      <td>огромный</td>\n",
              "      <td>количество</td>\n",
              "      <td>оружие</td>\n",
              "      <td>None</td>\n",
              "      <td>None</td>\n",
              "      <td>None</td>\n",
              "      <td>None</td>\n",
              "      <td>None</td>\n",
              "      <td>None</td>\n",
              "      <td>None</td>\n",
              "      <td>None</td>\n",
              "      <td>None</td>\n",
              "      <td>None</td>\n",
              "      <td>None</td>\n",
              "      <td>None</td>\n",
              "      <td>None</td>\n",
              "      <td>None</td>\n",
              "      <td>None</td>\n",
              "      <td>None</td>\n",
              "      <td>None</td>\n",
              "      <td>None</td>\n",
              "      <td>None</td>\n",
              "      <td>None</td>\n",
              "      <td>None</td>\n",
              "      <td>None</td>\n",
              "      <td>None</td>\n",
              "      <td>None</td>\n",
              "    </tr>\n",
              "    <tr>\n",
              "      <th>1</th>\n",
              "      <td>адвокат</td>\n",
              "      <td>Сед</td>\n",
              "      <td>заявлять</td>\n",
              "      <td>что</td>\n",
              "      <td>он</td>\n",
              "      <td>клиент</td>\n",
              "      <td>отвергать</td>\n",
              "      <td>этот</td>\n",
              "      <td>обвинение</td>\n",
              "      <td>None</td>\n",
              "      <td>None</td>\n",
              "      <td>None</td>\n",
              "      <td>None</td>\n",
              "      <td>None</td>\n",
              "      <td>None</td>\n",
              "      <td>None</td>\n",
              "      <td>None</td>\n",
              "      <td>None</td>\n",
              "      <td>None</td>\n",
              "      <td>None</td>\n",
              "      <td>None</td>\n",
              "      <td>None</td>\n",
              "      <td>None</td>\n",
              "      <td>None</td>\n",
              "      <td>None</td>\n",
              "      <td>None</td>\n",
              "      <td>None</td>\n",
              "      <td>None</td>\n",
              "      <td>None</td>\n",
              "      <td>None</td>\n",
              "      <td>None</td>\n",
              "      <td>None</td>\n",
              "      <td>None</td>\n",
              "      <td>None</td>\n",
              "      <td>None</td>\n",
              "      <td>None</td>\n",
              "      <td>None</td>\n",
              "      <td>None</td>\n",
              "      <td>None</td>\n",
              "      <td>None</td>\n",
              "      <td>None</td>\n",
              "      <td>None</td>\n",
              "      <td>None</td>\n",
              "      <td>None</td>\n",
              "      <td>None</td>\n",
              "      <td>None</td>\n",
              "      <td>None</td>\n",
              "      <td>None</td>\n",
              "      <td>None</td>\n",
              "    </tr>\n",
              "    <tr>\n",
              "      <th>2</th>\n",
              "      <td>дель</td>\n",
              "      <td>Понти</td>\n",
              "      <td>недавно</td>\n",
              "      <td>становиться</td>\n",
              "      <td>прокурор</td>\n",
              "      <td>международный</td>\n",
              "      <td>по</td>\n",
              "      <td>военный</td>\n",
              "      <td>преступление</td>\n",
              "      <td>заявлять</td>\n",
              "      <td>что</td>\n",
              "      <td>дело</td>\n",
              "      <td>против</td>\n",
              "      <td>и</td>\n",
              "      <td>еще</td>\n",
              "      <td>трое</td>\n",
              "      <td>высокопоставленный</td>\n",
              "      <td>чиновник</td>\n",
              "      <td>закрывать</td>\n",
              "      <td>None</td>\n",
              "      <td>None</td>\n",
              "      <td>None</td>\n",
              "      <td>None</td>\n",
              "      <td>None</td>\n",
              "      <td>None</td>\n",
              "      <td>None</td>\n",
              "      <td>None</td>\n",
              "      <td>None</td>\n",
              "      <td>None</td>\n",
              "      <td>None</td>\n",
              "      <td>None</td>\n",
              "      <td>None</td>\n",
              "      <td>None</td>\n",
              "      <td>None</td>\n",
              "      <td>None</td>\n",
              "      <td>None</td>\n",
              "      <td>None</td>\n",
              "      <td>None</td>\n",
              "      <td>None</td>\n",
              "      <td>None</td>\n",
              "      <td>None</td>\n",
              "      <td>None</td>\n",
              "      <td>None</td>\n",
              "      <td>None</td>\n",
              "      <td>None</td>\n",
              "      <td>None</td>\n",
              "      <td>None</td>\n",
              "      <td>None</td>\n",
              "      <td>None</td>\n",
              "    </tr>\n",
              "    <tr>\n",
              "      <th>3</th>\n",
              "      <td>федеральный</td>\n",
              "      <td>прокурор</td>\n",
              "      <td>добавлять</td>\n",
              "      <td>что</td>\n",
              "      <td>расследование</td>\n",
              "      <td>быть</td>\n",
              "      <td>продолжить</td>\n",
              "      <td>в</td>\n",
              "      <td>отношение</td>\n",
              "      <td>шеф</td>\n",
              "      <td>стратегический</td>\n",
              "      <td>информационный</td>\n",
              "      <td>служба</td>\n",
              "      <td>который</td>\n",
              "      <td>возникать</td>\n",
              "      <td>в</td>\n",
              "      <td>документ</td>\n",
              "      <td>по</td>\n",
              "      <td>дело</td>\n",
              "      <td>None</td>\n",
              "      <td>None</td>\n",
              "      <td>None</td>\n",
              "      <td>None</td>\n",
              "      <td>None</td>\n",
              "      <td>None</td>\n",
              "      <td>None</td>\n",
              "      <td>None</td>\n",
              "      <td>None</td>\n",
              "      <td>None</td>\n",
              "      <td>None</td>\n",
              "      <td>None</td>\n",
              "      <td>None</td>\n",
              "      <td>None</td>\n",
              "      <td>None</td>\n",
              "      <td>None</td>\n",
              "      <td>None</td>\n",
              "      <td>None</td>\n",
              "      <td>None</td>\n",
              "      <td>None</td>\n",
              "      <td>None</td>\n",
              "      <td>None</td>\n",
              "      <td>None</td>\n",
              "      <td>None</td>\n",
              "      <td>None</td>\n",
              "      <td>None</td>\n",
              "      <td>None</td>\n",
              "      <td>None</td>\n",
              "      <td>None</td>\n",
              "      <td>None</td>\n",
              "    </tr>\n",
              "    <tr>\n",
              "      <th>4</th>\n",
              "      <td>бывший</td>\n",
              "      <td>генеральный</td>\n",
              "      <td>прокурор</td>\n",
              "      <td>юрий</td>\n",
              "      <td>считать</td>\n",
              "      <td>что</td>\n",
              "      <td>близкий</td>\n",
              "      <td>окружение</td>\n",
              "      <td>президент</td>\n",
              "      <td>пытаться</td>\n",
              "      <td>препятствовать</td>\n",
              "      <td>серьезный</td>\n",
              "      <td>расследование</td>\n",
              "      <td>ситуация</td>\n",
              "      <td>связывать</td>\n",
              "      <td>с</td>\n",
              "      <td>bank</td>\n",
              "      <td>of</td>\n",
              "      <td>new</td>\n",
              "      <td>york</td>\n",
              "      <td>через</td>\n",
              "      <td>который</td>\n",
              "      <td>отмываться</td>\n",
              "      <td>деньги</td>\n",
              "      <td>получать</td>\n",
              "      <td>от</td>\n",
              "      <td>None</td>\n",
              "      <td>None</td>\n",
              "      <td>None</td>\n",
              "      <td>None</td>\n",
              "      <td>None</td>\n",
              "      <td>None</td>\n",
              "      <td>None</td>\n",
              "      <td>None</td>\n",
              "      <td>None</td>\n",
              "      <td>None</td>\n",
              "      <td>None</td>\n",
              "      <td>None</td>\n",
              "      <td>None</td>\n",
              "      <td>None</td>\n",
              "      <td>None</td>\n",
              "      <td>None</td>\n",
              "      <td>None</td>\n",
              "      <td>None</td>\n",
              "      <td>None</td>\n",
              "      <td>None</td>\n",
              "      <td>None</td>\n",
              "      <td>None</td>\n",
              "      <td>None</td>\n",
              "    </tr>\n",
              "  </tbody>\n",
              "</table>\n",
              "</div>"
            ],
            "text/plain": [
              "             1            2          3            4  ...    46    47    48    49\n",
              "0  швейцарский  федеральный   прокурор         дель  ...  None  None  None  None\n",
              "1      адвокат          Сед   заявлять          что  ...  None  None  None  None\n",
              "2         дель        Понти    недавно  становиться  ...  None  None  None  None\n",
              "3  федеральный     прокурор  добавлять          что  ...  None  None  None  None\n",
              "4       бывший  генеральный   прокурор         юрий  ...  None  None  None  None\n",
              "\n",
              "[5 rows x 49 columns]"
            ]
          },
          "metadata": {
            "tags": []
          },
          "execution_count": 138
        }
      ]
    },
    {
      "cell_type": "code",
      "metadata": {
        "colab": {
          "base_uri": "https://localhost:8080/"
        },
        "id": "cOATbseUF77e",
        "outputId": "18812c60-b1d4-4031-adb4-ab7f1e84093a"
      },
      "source": [
        "corpora.columns.tolist()"
      ],
      "execution_count": 144,
      "outputs": [
        {
          "output_type": "execute_result",
          "data": {
            "text/plain": [
              "['1',\n",
              " '2',\n",
              " '3',\n",
              " '4',\n",
              " '5',\n",
              " '6',\n",
              " '7',\n",
              " '8',\n",
              " '9',\n",
              " '10',\n",
              " '11',\n",
              " '12',\n",
              " '13',\n",
              " '14',\n",
              " '15',\n",
              " '16',\n",
              " '17',\n",
              " '18',\n",
              " '19',\n",
              " '20',\n",
              " '21',\n",
              " '22',\n",
              " '23',\n",
              " '24',\n",
              " '25',\n",
              " '26',\n",
              " '27',\n",
              " '28',\n",
              " '29',\n",
              " '30',\n",
              " '31',\n",
              " '32',\n",
              " '33',\n",
              " '34',\n",
              " '35',\n",
              " '36',\n",
              " '37',\n",
              " '38',\n",
              " '39',\n",
              " '40',\n",
              " '41',\n",
              " '42',\n",
              " '43',\n",
              " '44',\n",
              " '45',\n",
              " '46',\n",
              " '47',\n",
              " '48',\n",
              " '49']"
            ]
          },
          "metadata": {
            "tags": []
          },
          "execution_count": 144
        }
      ]
    },
    {
      "cell_type": "code",
      "metadata": {
        "colab": {
          "base_uri": "https://localhost:8080/",
          "height": 731
        },
        "id": "XmXVgV6y1v1g",
        "outputId": "f67809b5-b4e1-4b5b-c1ab-df6f801e602f"
      },
      "source": [
        "for n in corpora[corpora.columns.tolist()]:\n",
        "  for word in corpora[n]:\n",
        "    #print(i)\n",
        "      if word == 'судья':\n",
        "        print(word)\n",
        "        m = word\n",
        "        pmi(corpora, m, word)"
      ],
      "execution_count": 152,
      "outputs": [
        {
          "output_type": "stream",
          "text": [
            "судья\n"
          ],
          "name": "stdout"
        },
        {
          "output_type": "error",
          "ename": "KeyError",
          "evalue": "ignored",
          "traceback": [
            "\u001b[0;31m---------------------------------------------------------------------------\u001b[0m",
            "\u001b[0;31mKeyError\u001b[0m                                  Traceback (most recent call last)",
            "\u001b[0;32m<ipython-input-152-c8204462de49>\u001b[0m in \u001b[0;36m<module>\u001b[0;34m()\u001b[0m\n\u001b[1;32m      5\u001b[0m         \u001b[0mprint\u001b[0m\u001b[0;34m(\u001b[0m\u001b[0mword\u001b[0m\u001b[0;34m)\u001b[0m\u001b[0;34m\u001b[0m\u001b[0;34m\u001b[0m\u001b[0m\n\u001b[1;32m      6\u001b[0m         \u001b[0mm\u001b[0m \u001b[0;34m=\u001b[0m \u001b[0mword\u001b[0m\u001b[0;34m\u001b[0m\u001b[0;34m\u001b[0m\u001b[0m\n\u001b[0;32m----> 7\u001b[0;31m         \u001b[0mpmi\u001b[0m\u001b[0;34m(\u001b[0m\u001b[0mcorpora\u001b[0m\u001b[0;34m,\u001b[0m \u001b[0mm\u001b[0m\u001b[0;34m,\u001b[0m \u001b[0mword\u001b[0m\u001b[0;34m)\u001b[0m\u001b[0;34m\u001b[0m\u001b[0;34m\u001b[0m\u001b[0m\n\u001b[0m",
            "\u001b[0;32m<ipython-input-121-d5e7101e7726>\u001b[0m in \u001b[0;36mpmi\u001b[0;34m(dff, x, y)\u001b[0m\n\u001b[1;32m      1\u001b[0m \u001b[0;32mdef\u001b[0m \u001b[0mpmi\u001b[0m\u001b[0;34m(\u001b[0m\u001b[0mdff\u001b[0m\u001b[0;34m,\u001b[0m \u001b[0mx\u001b[0m\u001b[0;34m,\u001b[0m \u001b[0my\u001b[0m\u001b[0;34m)\u001b[0m\u001b[0;34m:\u001b[0m\u001b[0;34m\u001b[0m\u001b[0;34m\u001b[0m\u001b[0m\n\u001b[1;32m      2\u001b[0m     \u001b[0mdf\u001b[0m \u001b[0;34m=\u001b[0m \u001b[0mdff\u001b[0m\u001b[0;34m.\u001b[0m\u001b[0mcopy\u001b[0m\u001b[0;34m(\u001b[0m\u001b[0;34m)\u001b[0m\u001b[0;34m\u001b[0m\u001b[0;34m\u001b[0m\u001b[0m\n\u001b[0;32m----> 3\u001b[0;31m     \u001b[0mdf\u001b[0m\u001b[0;34m[\u001b[0m\u001b[0;34m'f_x'\u001b[0m\u001b[0;34m]\u001b[0m \u001b[0;34m=\u001b[0m \u001b[0mdf\u001b[0m\u001b[0;34m.\u001b[0m\u001b[0mgroupby\u001b[0m\u001b[0;34m(\u001b[0m\u001b[0mx\u001b[0m\u001b[0;34m)\u001b[0m\u001b[0;34m[\u001b[0m\u001b[0mx\u001b[0m\u001b[0;34m]\u001b[0m\u001b[0;34m.\u001b[0m\u001b[0mtransform\u001b[0m\u001b[0;34m(\u001b[0m\u001b[0;34m'count'\u001b[0m\u001b[0;34m)\u001b[0m\u001b[0;34m\u001b[0m\u001b[0;34m\u001b[0m\u001b[0m\n\u001b[0m\u001b[1;32m      4\u001b[0m     \u001b[0mdf\u001b[0m\u001b[0;34m[\u001b[0m\u001b[0;34m'f_y'\u001b[0m\u001b[0;34m]\u001b[0m \u001b[0;34m=\u001b[0m \u001b[0mdf\u001b[0m\u001b[0;34m.\u001b[0m\u001b[0mgroupby\u001b[0m\u001b[0;34m(\u001b[0m\u001b[0my\u001b[0m\u001b[0;34m)\u001b[0m\u001b[0;34m[\u001b[0m\u001b[0my\u001b[0m\u001b[0;34m]\u001b[0m\u001b[0;34m.\u001b[0m\u001b[0mtransform\u001b[0m\u001b[0;34m(\u001b[0m\u001b[0;34m'count'\u001b[0m\u001b[0;34m)\u001b[0m\u001b[0;34m\u001b[0m\u001b[0;34m\u001b[0m\u001b[0m\n\u001b[1;32m      5\u001b[0m     \u001b[0mdf\u001b[0m\u001b[0;34m[\u001b[0m\u001b[0;34m'f_xy'\u001b[0m\u001b[0;34m]\u001b[0m \u001b[0;34m=\u001b[0m \u001b[0mdf\u001b[0m\u001b[0;34m.\u001b[0m\u001b[0mgroupby\u001b[0m\u001b[0;34m(\u001b[0m\u001b[0;34m[\u001b[0m\u001b[0mx\u001b[0m\u001b[0;34m,\u001b[0m \u001b[0my\u001b[0m\u001b[0;34m]\u001b[0m\u001b[0;34m)\u001b[0m\u001b[0;34m[\u001b[0m\u001b[0mx\u001b[0m\u001b[0;34m]\u001b[0m\u001b[0;34m.\u001b[0m\u001b[0mtransform\u001b[0m\u001b[0;34m(\u001b[0m\u001b[0;34m'count'\u001b[0m\u001b[0;34m)\u001b[0m\u001b[0;34m\u001b[0m\u001b[0;34m\u001b[0m\u001b[0m\n",
            "\u001b[0;32m/usr/local/lib/python3.7/dist-packages/pandas/core/frame.py\u001b[0m in \u001b[0;36mgroupby\u001b[0;34m(self, by, axis, level, as_index, sort, group_keys, squeeze, observed, dropna)\u001b[0m\n\u001b[1;32m   6523\u001b[0m             \u001b[0msqueeze\u001b[0m\u001b[0;34m=\u001b[0m\u001b[0msqueeze\u001b[0m\u001b[0;34m,\u001b[0m\u001b[0;34m\u001b[0m\u001b[0;34m\u001b[0m\u001b[0m\n\u001b[1;32m   6524\u001b[0m             \u001b[0mobserved\u001b[0m\u001b[0;34m=\u001b[0m\u001b[0mobserved\u001b[0m\u001b[0;34m,\u001b[0m\u001b[0;34m\u001b[0m\u001b[0;34m\u001b[0m\u001b[0m\n\u001b[0;32m-> 6525\u001b[0;31m             \u001b[0mdropna\u001b[0m\u001b[0;34m=\u001b[0m\u001b[0mdropna\u001b[0m\u001b[0;34m,\u001b[0m\u001b[0;34m\u001b[0m\u001b[0;34m\u001b[0m\u001b[0m\n\u001b[0m\u001b[1;32m   6526\u001b[0m         )\n\u001b[1;32m   6527\u001b[0m \u001b[0;34m\u001b[0m\u001b[0m\n",
            "\u001b[0;32m/usr/local/lib/python3.7/dist-packages/pandas/core/groupby/groupby.py\u001b[0m in \u001b[0;36m__init__\u001b[0;34m(self, obj, keys, axis, level, grouper, exclusions, selection, as_index, sort, group_keys, squeeze, observed, mutated, dropna)\u001b[0m\n\u001b[1;32m    531\u001b[0m                 \u001b[0mobserved\u001b[0m\u001b[0;34m=\u001b[0m\u001b[0mobserved\u001b[0m\u001b[0;34m,\u001b[0m\u001b[0;34m\u001b[0m\u001b[0;34m\u001b[0m\u001b[0m\n\u001b[1;32m    532\u001b[0m                 \u001b[0mmutated\u001b[0m\u001b[0;34m=\u001b[0m\u001b[0mself\u001b[0m\u001b[0;34m.\u001b[0m\u001b[0mmutated\u001b[0m\u001b[0;34m,\u001b[0m\u001b[0;34m\u001b[0m\u001b[0;34m\u001b[0m\u001b[0m\n\u001b[0;32m--> 533\u001b[0;31m                 \u001b[0mdropna\u001b[0m\u001b[0;34m=\u001b[0m\u001b[0mself\u001b[0m\u001b[0;34m.\u001b[0m\u001b[0mdropna\u001b[0m\u001b[0;34m,\u001b[0m\u001b[0;34m\u001b[0m\u001b[0;34m\u001b[0m\u001b[0m\n\u001b[0m\u001b[1;32m    534\u001b[0m             )\n\u001b[1;32m    535\u001b[0m \u001b[0;34m\u001b[0m\u001b[0m\n",
            "\u001b[0;32m/usr/local/lib/python3.7/dist-packages/pandas/core/groupby/grouper.py\u001b[0m in \u001b[0;36mget_grouper\u001b[0;34m(obj, key, axis, level, sort, observed, mutated, validate, dropna)\u001b[0m\n\u001b[1;32m    784\u001b[0m                 \u001b[0min_axis\u001b[0m\u001b[0;34m,\u001b[0m \u001b[0mname\u001b[0m\u001b[0;34m,\u001b[0m \u001b[0mlevel\u001b[0m\u001b[0;34m,\u001b[0m \u001b[0mgpr\u001b[0m \u001b[0;34m=\u001b[0m \u001b[0;32mFalse\u001b[0m\u001b[0;34m,\u001b[0m \u001b[0;32mNone\u001b[0m\u001b[0;34m,\u001b[0m \u001b[0mgpr\u001b[0m\u001b[0;34m,\u001b[0m \u001b[0;32mNone\u001b[0m\u001b[0;34m\u001b[0m\u001b[0;34m\u001b[0m\u001b[0m\n\u001b[1;32m    785\u001b[0m             \u001b[0;32melse\u001b[0m\u001b[0;34m:\u001b[0m\u001b[0;34m\u001b[0m\u001b[0;34m\u001b[0m\u001b[0m\n\u001b[0;32m--> 786\u001b[0;31m                 \u001b[0;32mraise\u001b[0m \u001b[0mKeyError\u001b[0m\u001b[0;34m(\u001b[0m\u001b[0mgpr\u001b[0m\u001b[0;34m)\u001b[0m\u001b[0;34m\u001b[0m\u001b[0;34m\u001b[0m\u001b[0m\n\u001b[0m\u001b[1;32m    787\u001b[0m         \u001b[0;32melif\u001b[0m \u001b[0misinstance\u001b[0m\u001b[0;34m(\u001b[0m\u001b[0mgpr\u001b[0m\u001b[0;34m,\u001b[0m \u001b[0mGrouper\u001b[0m\u001b[0;34m)\u001b[0m \u001b[0;32mand\u001b[0m \u001b[0mgpr\u001b[0m\u001b[0;34m.\u001b[0m\u001b[0mkey\u001b[0m \u001b[0;32mis\u001b[0m \u001b[0;32mnot\u001b[0m \u001b[0;32mNone\u001b[0m\u001b[0;34m:\u001b[0m\u001b[0;34m\u001b[0m\u001b[0;34m\u001b[0m\u001b[0m\n\u001b[1;32m    788\u001b[0m             \u001b[0;31m# Add key to exclusions\u001b[0m\u001b[0;34m\u001b[0m\u001b[0;34m\u001b[0m\u001b[0;34m\u001b[0m\u001b[0m\n",
            "\u001b[0;31mKeyError\u001b[0m: 'судья'"
          ]
        }
      ]
    }
  ]
}