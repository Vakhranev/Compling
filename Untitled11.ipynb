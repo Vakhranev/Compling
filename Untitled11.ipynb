{
  "nbformat": 4,
  "nbformat_minor": 0,
  "metadata": {
    "colab": {
      "name": "Untitled11.ipynb",
      "provenance": [],
      "machine_shape": "hm",
      "authorship_tag": "ABX9TyN36HMB54kD+nnOKxx+aIXh",
      "include_colab_link": true
    },
    "kernelspec": {
      "display_name": "Python 3",
      "name": "python3"
    },
    "language_info": {
      "name": "python"
    }
  },
  "cells": [
    {
      "cell_type": "markdown",
      "metadata": {
        "id": "view-in-github",
        "colab_type": "text"
      },
      "source": [
        "<a href=\"https://colab.research.google.com/github/Vakhranev/Compling/blob/master/Untitled11.ipynb\" target=\"_parent\"><img src=\"https://colab.research.google.com/assets/colab-badge.svg\" alt=\"Open In Colab\"/></a>"
      ]
    },
    {
      "cell_type": "code",
      "metadata": {
        "id": "6Fjsy7qUP5Dr"
      },
      "source": [
        "import pandas as pd"
      ],
      "execution_count": null,
      "outputs": []
    },
    {
      "cell_type": "code",
      "metadata": {
        "id": "V15AjyLhP-XA"
      },
      "source": [
        "import numpy as np"
      ],
      "execution_count": null,
      "outputs": []
    },
    {
      "cell_type": "code",
      "metadata": {
        "id": "flVb34q-qV-F"
      },
      "source": [
        "from google.colab import drive"
      ],
      "execution_count": null,
      "outputs": []
    },
    {
      "cell_type": "code",
      "metadata": {
        "colab": {
          "base_uri": "https://localhost:8080/"
        },
        "id": "JjvEs1oPqcfy",
        "outputId": "5c742169-4e68-47b3-8794-53d7f77e0271"
      },
      "source": [
        "drive.mount('/content/drive')"
      ],
      "execution_count": null,
      "outputs": [
        {
          "output_type": "stream",
          "text": [
            "Mounted at /content/drive\n"
          ],
          "name": "stdout"
        }
      ]
    },
    {
      "cell_type": "code",
      "metadata": {
        "colab": {
          "base_uri": "https://localhost:8080/"
        },
        "id": "TFCc5ghEzQVA",
        "outputId": "3c9167b5-4497-45b6-fb3b-32d5a5214ab3"
      },
      "source": [
        "!pip install pynput"
      ],
      "execution_count": null,
      "outputs": [
        {
          "output_type": "stream",
          "text": [
            "Collecting pynput\n",
            "\u001b[?25l  Downloading https://files.pythonhosted.org/packages/fd/f7/cb6e7edb8bb46bb38ac8c4f8065e6e3abaaef3436ecd7fe139ca5ba93c3c/pynput-1.7.3-py2.py3-none-any.whl (99kB)\n",
            "\u001b[K     |████████████████████████████████| 102kB 4.4MB/s \n",
            "\u001b[?25hCollecting evdev>=1.3; \"linux\" in sys_platform\n",
            "  Downloading https://files.pythonhosted.org/packages/4d/ec/bb298d36ed67abd94293253e3e52bdf16732153b887bf08b8d6f269eacef/evdev-1.4.0.tar.gz\n",
            "Requirement already satisfied: six in /usr/local/lib/python3.7/dist-packages (from pynput) (1.15.0)\n",
            "Collecting python-xlib>=0.17; \"linux\" in sys_platform\n",
            "\u001b[?25l  Downloading https://files.pythonhosted.org/packages/54/c3/45ecfd3e6a541bb4b383fc320a32762703cfe28763c131d71f4183ace819/python_xlib-0.30-py2.py3-none-any.whl (178kB)\n",
            "\u001b[K     |████████████████████████████████| 184kB 8.0MB/s \n",
            "\u001b[?25hBuilding wheels for collected packages: evdev\n",
            "  Building wheel for evdev (setup.py) ... \u001b[?25l\u001b[?25hdone\n",
            "  Created wheel for evdev: filename=evdev-1.4.0-cp37-cp37m-linux_x86_64.whl size=97417 sha256=11d79117b0742dec3dc63a9a5dba9b2b36e5a0a0c2c3d1338a46ca9536b751d8\n",
            "  Stored in directory: /root/.cache/pip/wheels/66/35/1d/38b2de1421ede48ebf0107faea56163d07059110b116a794a3\n",
            "Successfully built evdev\n",
            "Installing collected packages: evdev, python-xlib, pynput\n",
            "Successfully installed evdev-1.4.0 pynput-1.7.3 python-xlib-0.30\n"
          ],
          "name": "stdout"
        }
      ]
    },
    {
      "cell_type": "code",
      "metadata": {
        "colab": {
          "base_uri": "https://localhost:8080/"
        },
        "id": "3I4pj-0Hm_JL",
        "outputId": "fdb599e4-3e51-476e-c333-ca00b8acf4f0"
      },
      "source": [
        "!pip install patool"
      ],
      "execution_count": null,
      "outputs": [
        {
          "output_type": "stream",
          "text": [
            "Collecting patool\n",
            "\u001b[?25l  Downloading https://files.pythonhosted.org/packages/43/94/52243ddff508780dd2d8110964320ab4851134a55ab102285b46e740f76a/patool-1.12-py2.py3-none-any.whl (77kB)\n",
            "\r\u001b[K     |████▎                           | 10kB 17.2MB/s eta 0:00:01\r\u001b[K     |████████▌                       | 20kB 22.6MB/s eta 0:00:01\r\u001b[K     |████████████▊                   | 30kB 11.3MB/s eta 0:00:01\r\u001b[K     |█████████████████               | 40kB 8.8MB/s eta 0:00:01\r\u001b[K     |█████████████████████▏          | 51kB 5.5MB/s eta 0:00:01\r\u001b[K     |█████████████████████████▍      | 61kB 6.5MB/s eta 0:00:01\r\u001b[K     |█████████████████████████████▋  | 71kB 6.6MB/s eta 0:00:01\r\u001b[K     |████████████████████████████████| 81kB 4.4MB/s \n",
            "\u001b[?25hInstalling collected packages: patool\n",
            "Successfully installed patool-1.12\n"
          ],
          "name": "stdout"
        }
      ]
    },
    {
      "cell_type": "code",
      "metadata": {
        "id": "-kQuffDZnHau"
      },
      "source": [
        "import patoolib"
      ],
      "execution_count": null,
      "outputs": []
    },
    {
      "cell_type": "code",
      "metadata": {
        "id": "NpYKO8Hfq8Py"
      },
      "source": [
        "archive = '/content/drive/My Drive/lenta-ru-news.rar'"
      ],
      "execution_count": null,
      "outputs": []
    },
    {
      "cell_type": "code",
      "metadata": {
        "colab": {
          "base_uri": "https://localhost:8080/",
          "height": 103
        },
        "id": "cKGXHhrmnLEn",
        "outputId": "9cd42732-7594-428a-b90e-c90526ff9e36"
      },
      "source": [
        "patoolib.extract_archive(archive)"
      ],
      "execution_count": null,
      "outputs": [
        {
          "output_type": "stream",
          "text": [
            "patool: Extracting /content/drive/My Drive/lenta-ru-news.rar ...\n",
            "patool: running /usr/bin/unrar x -- \"/content/drive/My Drive/lenta-ru-news.rar\"\n",
            "patool:     with cwd='./Unpack_ji7t4s0d'\n",
            "patool: ... /content/drive/My Drive/lenta-ru-news.rar extracted to `lenta-ru-news.csv'.\n"
          ],
          "name": "stdout"
        },
        {
          "output_type": "execute_result",
          "data": {
            "application/vnd.google.colaboratory.intrinsic+json": {
              "type": "string"
            },
            "text/plain": [
              "'lenta-ru-news.csv'"
            ]
          },
          "metadata": {
            "tags": []
          },
          "execution_count": 9
        }
      ]
    },
    {
      "cell_type": "code",
      "metadata": {
        "id": "IQfMeLOuSjVS"
      },
      "source": [
        "corpora = pd.read_csv('lenta-ru-news.csv',engine='python', error_bad_lines=False)"
      ],
      "execution_count": null,
      "outputs": []
    },
    {
      "cell_type": "code",
      "metadata": {
        "colab": {
          "base_uri": "https://localhost:8080/",
          "height": 289
        },
        "id": "P4L8CwAyTlAl",
        "outputId": "6011f3f6-4601-4f36-c8a6-f955547fc749"
      },
      "source": [
        "corpora.head()"
      ],
      "execution_count": null,
      "outputs": [
        {
          "output_type": "execute_result",
          "data": {
            "text/html": [
              "<div>\n",
              "<style scoped>\n",
              "    .dataframe tbody tr th:only-of-type {\n",
              "        vertical-align: middle;\n",
              "    }\n",
              "\n",
              "    .dataframe tbody tr th {\n",
              "        vertical-align: top;\n",
              "    }\n",
              "\n",
              "    .dataframe thead th {\n",
              "        text-align: right;\n",
              "    }\n",
              "</style>\n",
              "<table border=\"1\" class=\"dataframe\">\n",
              "  <thead>\n",
              "    <tr style=\"text-align: right;\">\n",
              "      <th></th>\n",
              "      <th>url</th>\n",
              "      <th>title</th>\n",
              "      <th>text</th>\n",
              "      <th>topic</th>\n",
              "      <th>tags</th>\n",
              "      <th>date</th>\n",
              "    </tr>\n",
              "  </thead>\n",
              "  <tbody>\n",
              "    <tr>\n",
              "      <th>0</th>\n",
              "      <td>https://lenta.ru/news/1914/09/16/hungarnn/</td>\n",
              "      <td>1914. Русские войска вступили в пределы Венгрии</td>\n",
              "      <td>Бои у Сопоцкина и Друскеник закончились отступ...</td>\n",
              "      <td>Библиотека</td>\n",
              "      <td>Первая мировая</td>\n",
              "      <td>1914/09/16</td>\n",
              "    </tr>\n",
              "    <tr>\n",
              "      <th>1</th>\n",
              "      <td>https://lenta.ru/news/1914/09/16/lermontov/</td>\n",
              "      <td>1914. Празднование столетия М.Ю. Лермонтова от...</td>\n",
              "      <td>Министерство народного просвещения, в виду про...</td>\n",
              "      <td>Библиотека</td>\n",
              "      <td>Первая мировая</td>\n",
              "      <td>1914/09/16</td>\n",
              "    </tr>\n",
              "    <tr>\n",
              "      <th>2</th>\n",
              "      <td>https://lenta.ru/news/1914/09/17/nesteroff/</td>\n",
              "      <td>1914. Das ist Nesteroff!</td>\n",
              "      <td>Штабс-капитан П. Н. Нестеров на днях, увидев в...</td>\n",
              "      <td>Библиотека</td>\n",
              "      <td>Первая мировая</td>\n",
              "      <td>1914/09/17</td>\n",
              "    </tr>\n",
              "    <tr>\n",
              "      <th>3</th>\n",
              "      <td>https://lenta.ru/news/1914/09/17/bulldogn/</td>\n",
              "      <td>1914. Бульдог-гонец под Льежем</td>\n",
              "      <td>Фотограф-корреспондент Daily Mirror рассказыва...</td>\n",
              "      <td>Библиотека</td>\n",
              "      <td>Первая мировая</td>\n",
              "      <td>1914/09/17</td>\n",
              "    </tr>\n",
              "    <tr>\n",
              "      <th>4</th>\n",
              "      <td>https://lenta.ru/news/1914/09/18/zver/</td>\n",
              "      <td>1914. Под Люблином пойман швабский зверь</td>\n",
              "      <td>Лица, приехавшие в Варшаву из Люблина, передаю...</td>\n",
              "      <td>Библиотека</td>\n",
              "      <td>Первая мировая</td>\n",
              "      <td>1914/09/18</td>\n",
              "    </tr>\n",
              "  </tbody>\n",
              "</table>\n",
              "</div>"
            ],
            "text/plain": [
              "                                           url  ...        date\n",
              "0   https://lenta.ru/news/1914/09/16/hungarnn/  ...  1914/09/16\n",
              "1  https://lenta.ru/news/1914/09/16/lermontov/  ...  1914/09/16\n",
              "2  https://lenta.ru/news/1914/09/17/nesteroff/  ...  1914/09/17\n",
              "3   https://lenta.ru/news/1914/09/17/bulldogn/  ...  1914/09/17\n",
              "4       https://lenta.ru/news/1914/09/18/zver/  ...  1914/09/18\n",
              "\n",
              "[5 rows x 6 columns]"
            ]
          },
          "metadata": {
            "tags": []
          },
          "execution_count": 11
        }
      ]
    },
    {
      "cell_type": "code",
      "metadata": {
        "colab": {
          "base_uri": "https://localhost:8080/"
        },
        "id": "1DQurJOoTv5H",
        "outputId": "ebe00c53-727c-49c8-e768-2d2be9ae7f8e"
      },
      "source": [
        "corpora['text'].head()"
      ],
      "execution_count": null,
      "outputs": [
        {
          "output_type": "execute_result",
          "data": {
            "text/plain": [
              "0    Бои у Сопоцкина и Друскеник закончились отступ...\n",
              "1    Министерство народного просвещения, в виду про...\n",
              "2    Штабс-капитан П. Н. Нестеров на днях, увидев в...\n",
              "3    Фотограф-корреспондент Daily Mirror рассказыва...\n",
              "4    Лица, приехавшие в Варшаву из Люблина, передаю...\n",
              "Name: text, dtype: object"
            ]
          },
          "metadata": {
            "tags": []
          },
          "execution_count": 12
        }
      ]
    },
    {
      "cell_type": "code",
      "metadata": {
        "id": "GVcrViOPWcU9"
      },
      "source": [
        "import re"
      ],
      "execution_count": 15,
      "outputs": []
    },
    {
      "cell_type": "code",
      "metadata": {
        "colab": {
          "base_uri": "https://localhost:8080/"
        },
        "id": "zhTN8bdSUk29",
        "outputId": "88985f61-064e-4789-d46e-4468e459d97e"
      },
      "source": [
        "new_corpora = []\n",
        "for text in corpora['text']:\n",
        "  split_regex = re.compile(r'[.|!|?|…]')\n",
        "  sentences = filter(lambda t: t, [t.strip() for t in split_regex.split(str(text))])\n",
        "  for sentence in sentences:\n",
        "    new_corpora.append(sentence)\n",
        "print(len(new_corpora))"
      ],
      "execution_count": null,
      "outputs": [
        {
          "output_type": "stream",
          "text": [
            "9233828\n"
          ],
          "name": "stdout"
        }
      ]
    },
    {
      "cell_type": "code",
      "metadata": {
        "colab": {
          "base_uri": "https://localhost:8080/"
        },
        "id": "qUQbnlBEYEuB",
        "outputId": "75260817-bbe9-424f-d51e-ee12b94be080"
      },
      "source": [
        "new_corpora[0:10]"
      ],
      "execution_count": null,
      "outputs": [
        {
          "output_type": "execute_result",
          "data": {
            "text/plain": [
              "['Бои у Сопоцкина и Друскеник закончились отступлением германцев',\n",
              " 'Неприятель, приблизившись с севера к Осовцу начал артиллерийскую борьбу с крепостью',\n",
              " 'В артиллерийском бою принимают участие тяжелые калибры',\n",
              " 'С раннего утра 14 сентября огонь достиг значительного напряжения',\n",
              " 'Попытка германской пехоты пробиться ближе к крепости отражена',\n",
              " 'В Галиции мы заняли Дембицу',\n",
              " 'Большая колонна, отступавшая по шоссе от Перемышля к Саноку, обстреливалась с высот нашей батареей и бежала, бросив парки, обоз и автомобили',\n",
              " 'Вылазки гарнизона Перемышля остаются безуспешными',\n",
              " 'При продолжающемся отступлении австрийцев обнаруживается полное перемешивание их частей, захватываются новые партии пленных, орудия и прочая материальная часть',\n",
              " 'На перевале Ужок мы разбили неприятельский отряд, взяли его артиллерию и много пленных и, продолжая преследовать, вступили в пределы Венгрии']"
            ]
          },
          "metadata": {
            "tags": []
          },
          "execution_count": 15
        }
      ]
    },
    {
      "cell_type": "code",
      "metadata": {
        "colab": {
          "base_uri": "https://localhost:8080/"
        },
        "id": "bZAeU9qnqZOC",
        "outputId": "a2b83682-e09b-4632-ef24-a0ccdcf491ec"
      },
      "source": [
        "!pip install ufal.udpipe"
      ],
      "execution_count": null,
      "outputs": [
        {
          "output_type": "stream",
          "text": [
            "Collecting ufal.udpipe\n",
            "\u001b[?25l  Downloading https://files.pythonhosted.org/packages/e5/72/2b8b9dc7c80017c790bb3308bbad34b57accfed2ac2f1f4ab252ff4e9cb2/ufal.udpipe-1.2.0.3.tar.gz (304kB)\n",
            "\r\u001b[K     |█                               | 10kB 14.3MB/s eta 0:00:01\r\u001b[K     |██▏                             | 20kB 14.5MB/s eta 0:00:01\r\u001b[K     |███▎                            | 30kB 10.2MB/s eta 0:00:01\r\u001b[K     |████▎                           | 40kB 8.8MB/s eta 0:00:01\r\u001b[K     |█████▍                          | 51kB 5.6MB/s eta 0:00:01\r\u001b[K     |██████▌                         | 61kB 6.1MB/s eta 0:00:01\r\u001b[K     |███████▌                        | 71kB 6.2MB/s eta 0:00:01\r\u001b[K     |████████▋                       | 81kB 6.9MB/s eta 0:00:01\r\u001b[K     |█████████▊                      | 92kB 6.3MB/s eta 0:00:01\r\u001b[K     |██████████▊                     | 102kB 5.4MB/s eta 0:00:01\r\u001b[K     |███████████▉                    | 112kB 5.4MB/s eta 0:00:01\r\u001b[K     |█████████████                   | 122kB 5.4MB/s eta 0:00:01\r\u001b[K     |██████████████                  | 133kB 5.4MB/s eta 0:00:01\r\u001b[K     |███████████████                 | 143kB 5.4MB/s eta 0:00:01\r\u001b[K     |████████████████▏               | 153kB 5.4MB/s eta 0:00:01\r\u001b[K     |█████████████████▎              | 163kB 5.4MB/s eta 0:00:01\r\u001b[K     |██████████████████▎             | 174kB 5.4MB/s eta 0:00:01\r\u001b[K     |███████████████████▍            | 184kB 5.4MB/s eta 0:00:01\r\u001b[K     |████████████████████▌           | 194kB 5.4MB/s eta 0:00:01\r\u001b[K     |█████████████████████▌          | 204kB 5.4MB/s eta 0:00:01\r\u001b[K     |██████████████████████▋         | 215kB 5.4MB/s eta 0:00:01\r\u001b[K     |███████████████████████▊        | 225kB 5.4MB/s eta 0:00:01\r\u001b[K     |████████████████████████▉       | 235kB 5.4MB/s eta 0:00:01\r\u001b[K     |█████████████████████████▉      | 245kB 5.4MB/s eta 0:00:01\r\u001b[K     |███████████████████████████     | 256kB 5.4MB/s eta 0:00:01\r\u001b[K     |████████████████████████████    | 266kB 5.4MB/s eta 0:00:01\r\u001b[K     |█████████████████████████████   | 276kB 5.4MB/s eta 0:00:01\r\u001b[K     |██████████████████████████████▏ | 286kB 5.4MB/s eta 0:00:01\r\u001b[K     |███████████████████████████████▎| 296kB 5.4MB/s eta 0:00:01\r\u001b[K     |████████████████████████████████| 307kB 5.4MB/s \n",
            "\u001b[?25hBuilding wheels for collected packages: ufal.udpipe\n",
            "  Building wheel for ufal.udpipe (setup.py) ... \u001b[?25l\u001b[?25hdone\n",
            "  Created wheel for ufal.udpipe: filename=ufal.udpipe-1.2.0.3-cp37-cp37m-linux_x86_64.whl size=5626592 sha256=a0300cbf720059dc2d357626a385da73c9b2abf4f4db86332c9707fa55989443\n",
            "  Stored in directory: /root/.cache/pip/wheels/0c/9d/db/6d3404c33da5b7adb6c6972853efb6a27649d3ba15f7e9bebb\n",
            "Successfully built ufal.udpipe\n",
            "Installing collected packages: ufal.udpipe\n",
            "Successfully installed ufal.udpipe-1.2.0.3\n"
          ],
          "name": "stdout"
        }
      ]
    },
    {
      "cell_type": "code",
      "metadata": {
        "colab": {
          "base_uri": "https://localhost:8080/"
        },
        "id": "x70ogR4Qxn7K",
        "outputId": "9e455223-55a5-4621-828e-f71c5565dce2"
      },
      "source": [
        "!pip install wget"
      ],
      "execution_count": null,
      "outputs": [
        {
          "output_type": "stream",
          "text": [
            "Collecting wget\n",
            "  Downloading https://files.pythonhosted.org/packages/47/6a/62e288da7bcda82b935ff0c6cfe542970f04e29c756b0e147251b2fb251f/wget-3.2.zip\n",
            "Building wheels for collected packages: wget\n",
            "  Building wheel for wget (setup.py) ... \u001b[?25l\u001b[?25hdone\n",
            "  Created wheel for wget: filename=wget-3.2-cp37-none-any.whl size=9681 sha256=42cd3ccdf51b5f9f75ad3f307f35f08ad26da582a06a120329a7bb35e46fcdf5\n",
            "  Stored in directory: /root/.cache/pip/wheels/40/15/30/7d8f7cea2902b4db79e3fea550d7d7b85ecb27ef992b618f3f\n",
            "Successfully built wget\n",
            "Installing collected packages: wget\n",
            "Successfully installed wget-3.2\n"
          ],
          "name": "stdout"
        }
      ]
    },
    {
      "cell_type": "code",
      "metadata": {
        "id": "Gh4aDZpixwka"
      },
      "source": [
        "import wget\n",
        "import sys\n",
        "udpipe_url = 'https://rusvectores.org/static/models/udpipe_syntagrus.model'\n",
        "modelfile = wget.download(udpipe_url)"
      ],
      "execution_count": null,
      "outputs": []
    },
    {
      "cell_type": "code",
      "metadata": {
        "id": "UYJ2SPs5yQ_N"
      },
      "source": [
        "def process(pipeline, text='Строка', keep_pos=True, keep_punct=False):\n",
        "   entities = {'PROPN'}\n",
        "   named = False  # переменная для запоминания того, что нам встретилось имя собственное\n",
        "   memory = []\n",
        "   mem_case = None\n",
        "   mem_number = None\n",
        "   tagged_propn = []\n",
        "# обрабатываем текст, получаем результат в формате conllu:\n",
        "   processed = pipeline.process(text)\n",
        "# пропускаем строки со служебной информацией:\n",
        "   content = [l for l in processed.split('\\n') if not l.startswith('#')]\n",
        "# извлекаем из обработанного текста леммы, тэги и морфологические характеристики\n",
        "   tagged = [w.split('\\t') for w in content if w]\n",
        "   for t in tagged:\n",
        "       if len(t) != 10: # если список короткий — строчка не содержит разбора, пропускаем\n",
        "           continue\n",
        "       (word_id,token,lemma,pos,xpos,feats,head,deprel,deps,misc) = t \n",
        "       if not lemma or not token: # если слово пустое — пропускаем\n",
        "           continue\n",
        "       if pos in entities: # здесь отдельно обрабатываем имена собственные — они требуют особого обращения\n",
        "           if '|' not in feats:\n",
        "               tagged_propn.append('%s_%s_%s_%s_%s_%s' % (word_id, token, lemma, pos, head, deprel))\n",
        "               continue\n",
        "           morph = {el.split('=')[0]: el.split('=')[1] for el in feats.split('|')}\n",
        "           if 'Case' not in morph or 'Number' not in morph:\n",
        "               tagged_propn.append('%s_%s_%s_%s_%s_%s' % (word_id, token, lemma, pos, head, deprel))\n",
        "               continue\n",
        "           if not named:\n",
        "               named = True\n",
        "               mem_case = morph['Case']\n",
        "               mem_number = morph['Number']\n",
        "           if morph['Case'] == mem_case and morph['Number'] == mem_number:\n",
        "               memory.append(lemma)\n",
        "               if 'SpacesAfter=\\\\n' in misc or 'SpacesAfter=\\s\\\\n' in misc:\n",
        "                   named = False\n",
        "                   past_lemma = '::'.join(memory)\n",
        "                   memory = []\n",
        "                   tagged_propn.append(past_lemma + '_PROPN ')\n",
        "           else:\n",
        "               named = False\n",
        "               past_lemma = '::'.join(memory)\n",
        "               memory = []\n",
        "               tagged_propn.append(past_lemma + '_PROPN ')\n",
        "               tagged_propn.append('%s_%s_%s_%s_%s_%s' % (word_id, token, lemma, pos, head, deprel))\n",
        "       else:\n",
        "           if not named:\n",
        "               tagged_propn.append('%s_%s_%s_%s_%s_%s' % (word_id, token, lemma, pos, head, deprel))\n",
        "           else:\n",
        "               named = False\n",
        "               past_lemma = '::'.join(memory)\n",
        "               memory = []\n",
        "               tagged_propn.append(past_lemma + '_PROPN ')\n",
        "               tagged_propn.append('%s_%s_%s_%s_%s_%s' % (word_id, token, lemma, pos, head, deprel))\n",
        "   if not keep_punct: # обрабатываем случай, когда пользователь попросил не сохранять пунктуацию (по умолчанию она сохраняется)\n",
        "       tagged_propn = [word for word in tagged_propn if word.split('_')[1] != 'PUNCT']\n",
        "   if not keep_pos:\n",
        "       tagged_propn = [word.split('_')[0] for word in tagged_propn]\n",
        "   return tagged_propn"
      ],
      "execution_count": null,
      "outputs": []
    },
    {
      "cell_type": "code",
      "metadata": {
        "id": "rhBa9_Xozs02",
        "colab": {
          "base_uri": "https://localhost:8080/",
          "height": 350
        },
        "outputId": "7b9797e5-d8c8-46fc-e438-b36dcd248cc8"
      },
      "source": [
        "from ufal.udpipe import Model, Pipeline\n",
        "import os\n",
        "import re\n",
        "def tag_ud(text='Текст нужно передать функции в виде строки!', modelfile='udpipe_syntagrus.model'):\n",
        "   udpipe_model_url = 'https://rusvectores.org/static/models/udpipe_syntagrus.model'\n",
        "   udpipe_filename = udpipe_model_url.split('/')[-1]\n",
        "   if not os.path.isfile(modelfile):\n",
        "       print('UDPipe model not found. Downloading...', file=sys.stderr)\n",
        "       wget.download(udpipe_model_url)\n",
        "   #print('\\nLoading the model...', file=sys.stderr)\n",
        "   model = Model.load(modelfile)\n",
        "   process_pipeline = Pipeline(model, 'tokenize', Pipeline.DEFAULT, Pipeline.DEFAULT, 'conllu')\n",
        "   #print('Processing input...', file=sys.stderr)\n",
        "   lines = text.split('\\n')\n",
        "   tagged = []\n",
        "   for line in lines:\n",
        "# line = unify_sym(line.strip()) # здесь могла бы быть ваша функция очистки текста\n",
        "       output = process(process_pipeline, text=line)\n",
        "       tagged_line = ' '.join(output)\n",
        "       tagged.append(tagged_line)\n",
        "   return '\\n'.join(tagged)\n",
        "text = new_corpora[38667:40000]\n",
        "for sentence in text:\n",
        "   processed_text = tag_ud(text=sentence, modelfile=modelfile)\n",
        "   #print(processed_text[:350])\n",
        "   with open('my_text.txt', 'a', encoding='utf-8') as out:\n",
        "       out.write(processed_text + '\\n')"
      ],
      "execution_count": null,
      "outputs": [
        {
          "output_type": "error",
          "ename": "KeyboardInterrupt",
          "evalue": "ignored",
          "traceback": [
            "\u001b[0;31m---------------------------------------------------------------------------\u001b[0m",
            "\u001b[0;31mKeyboardInterrupt\u001b[0m                         Traceback (most recent call last)",
            "\u001b[0;32m<ipython-input-22-25222b1f6744>\u001b[0m in \u001b[0;36m<module>\u001b[0;34m()\u001b[0m\n\u001b[1;32m     22\u001b[0m \u001b[0mtext\u001b[0m \u001b[0;34m=\u001b[0m \u001b[0mnew_corpora\u001b[0m\u001b[0;34m[\u001b[0m\u001b[0;36m33528\u001b[0m\u001b[0;34m:\u001b[0m\u001b[0;36m40000\u001b[0m\u001b[0;34m]\u001b[0m\u001b[0;34m\u001b[0m\u001b[0;34m\u001b[0m\u001b[0m\n\u001b[1;32m     23\u001b[0m \u001b[0;32mfor\u001b[0m \u001b[0msentence\u001b[0m \u001b[0;32min\u001b[0m \u001b[0mtext\u001b[0m\u001b[0;34m:\u001b[0m\u001b[0;34m\u001b[0m\u001b[0;34m\u001b[0m\u001b[0m\n\u001b[0;32m---> 24\u001b[0;31m    \u001b[0mprocessed_text\u001b[0m \u001b[0;34m=\u001b[0m \u001b[0mtag_ud\u001b[0m\u001b[0;34m(\u001b[0m\u001b[0mtext\u001b[0m\u001b[0;34m=\u001b[0m\u001b[0msentence\u001b[0m\u001b[0;34m,\u001b[0m \u001b[0mmodelfile\u001b[0m\u001b[0;34m=\u001b[0m\u001b[0mmodelfile\u001b[0m\u001b[0;34m)\u001b[0m\u001b[0;34m\u001b[0m\u001b[0;34m\u001b[0m\u001b[0m\n\u001b[0m\u001b[1;32m     25\u001b[0m    \u001b[0;31m#print(processed_text[:350])\u001b[0m\u001b[0;34m\u001b[0m\u001b[0;34m\u001b[0m\u001b[0;34m\u001b[0m\u001b[0m\n\u001b[1;32m     26\u001b[0m    \u001b[0;32mwith\u001b[0m \u001b[0mopen\u001b[0m\u001b[0;34m(\u001b[0m\u001b[0;34m'my_text.txt'\u001b[0m\u001b[0;34m,\u001b[0m \u001b[0;34m'a'\u001b[0m\u001b[0;34m,\u001b[0m \u001b[0mencoding\u001b[0m\u001b[0;34m=\u001b[0m\u001b[0;34m'utf-8'\u001b[0m\u001b[0;34m)\u001b[0m \u001b[0;32mas\u001b[0m \u001b[0mout\u001b[0m\u001b[0;34m:\u001b[0m\u001b[0;34m\u001b[0m\u001b[0;34m\u001b[0m\u001b[0m\n",
            "\u001b[0;32m<ipython-input-22-25222b1f6744>\u001b[0m in \u001b[0;36mtag_ud\u001b[0;34m(text, modelfile)\u001b[0m\n\u001b[1;32m      9\u001b[0m        \u001b[0mwget\u001b[0m\u001b[0;34m.\u001b[0m\u001b[0mdownload\u001b[0m\u001b[0;34m(\u001b[0m\u001b[0mudpipe_model_url\u001b[0m\u001b[0;34m)\u001b[0m\u001b[0;34m\u001b[0m\u001b[0;34m\u001b[0m\u001b[0m\n\u001b[1;32m     10\u001b[0m    \u001b[0;31m#print('\\nLoading the model...', file=sys.stderr)\u001b[0m\u001b[0;34m\u001b[0m\u001b[0;34m\u001b[0m\u001b[0;34m\u001b[0m\u001b[0m\n\u001b[0;32m---> 11\u001b[0;31m    \u001b[0mmodel\u001b[0m \u001b[0;34m=\u001b[0m \u001b[0mModel\u001b[0m\u001b[0;34m.\u001b[0m\u001b[0mload\u001b[0m\u001b[0;34m(\u001b[0m\u001b[0mmodelfile\u001b[0m\u001b[0;34m)\u001b[0m\u001b[0;34m\u001b[0m\u001b[0;34m\u001b[0m\u001b[0m\n\u001b[0m\u001b[1;32m     12\u001b[0m    \u001b[0mprocess_pipeline\u001b[0m \u001b[0;34m=\u001b[0m \u001b[0mPipeline\u001b[0m\u001b[0;34m(\u001b[0m\u001b[0mmodel\u001b[0m\u001b[0;34m,\u001b[0m \u001b[0;34m'tokenize'\u001b[0m\u001b[0;34m,\u001b[0m \u001b[0mPipeline\u001b[0m\u001b[0;34m.\u001b[0m\u001b[0mDEFAULT\u001b[0m\u001b[0;34m,\u001b[0m \u001b[0mPipeline\u001b[0m\u001b[0;34m.\u001b[0m\u001b[0mDEFAULT\u001b[0m\u001b[0;34m,\u001b[0m \u001b[0;34m'conllu'\u001b[0m\u001b[0;34m)\u001b[0m\u001b[0;34m\u001b[0m\u001b[0;34m\u001b[0m\u001b[0m\n\u001b[1;32m     13\u001b[0m    \u001b[0;31m#print('Processing input...', file=sys.stderr)\u001b[0m\u001b[0;34m\u001b[0m\u001b[0;34m\u001b[0m\u001b[0;34m\u001b[0m\u001b[0m\n",
            "\u001b[0;31mKeyboardInterrupt\u001b[0m: "
          ]
        }
      ]
    },
    {
      "cell_type": "code",
      "metadata": {
        "id": "NGbS5w8jaE_r"
      },
      "source": [
        "import nltk"
      ],
      "execution_count": 2,
      "outputs": []
    },
    {
      "cell_type": "code",
      "metadata": {
        "id": "di7f3w9ZatJw",
        "colab": {
          "base_uri": "https://localhost:8080/"
        },
        "outputId": "4091fddb-1bce-46df-a084-ca08d0e2301a"
      },
      "source": [
        "nltk.download('punkt')"
      ],
      "execution_count": 3,
      "outputs": [
        {
          "output_type": "stream",
          "text": [
            "[nltk_data] Downloading package punkt to /root/nltk_data...\n",
            "[nltk_data]   Unzipping tokenizers/punkt.zip.\n"
          ],
          "name": "stdout"
        },
        {
          "output_type": "execute_result",
          "data": {
            "text/plain": [
              "True"
            ]
          },
          "metadata": {
            "tags": []
          },
          "execution_count": 3
        }
      ]
    },
    {
      "cell_type": "code",
      "metadata": {
        "id": "EQO9mUQhkSre"
      },
      "source": [
        " new_corpora = open(\"my_text (9).txt\", encoding=\"UTF-8\", errors='ignore')"
      ],
      "execution_count": 4,
      "outputs": []
    },
    {
      "cell_type": "code",
      "metadata": {
        "id": "szLXqVvzaIg7"
      },
      "source": [
        "tokens=[]\n",
        "for sentence in new_corpora:\n",
        "  tokens.append(nltk.word_tokenize(sentence))"
      ],
      "execution_count": 5,
      "outputs": []
    },
    {
      "cell_type": "code",
      "metadata": {
        "id": "d0I63eV-eAeS",
        "colab": {
          "base_uri": "https://localhost:8080/"
        },
        "outputId": "fc27f8da-09e0-4c10-d1d5-154a127fcc9b"
      },
      "source": [
        "tokens[0:10]"
      ],
      "execution_count": 6,
      "outputs": [
        {
          "output_type": "execute_result",
          "data": {
            "text/plain": [
              "[['1_Бои_бой_NOUN_6_nsubj',\n",
              "  '2_у_в_ADP_3_case',\n",
              "  'Сопоцкин_PROPN',\n",
              "  '4_и_и_CCONJ_5_cc',\n",
              "  'Друскеник_PROPN',\n",
              "  '6_закончились_заканчиваться_VERB_0_root',\n",
              "  '7_отступлением_отступление_NOUN_6_obl',\n",
              "  '8_германцев_германец_NOUN_7_nmod'],\n",
              " ['1_Неприятель_неприятель_NOUN_8_nsubj',\n",
              "  '2_',\n",
              "  ',',\n",
              "  '_',\n",
              "  ',',\n",
              "  '_PUNCT_1_punct',\n",
              "  '3_приблизившись_приближаться_VERB_8_advcl',\n",
              "  '4_с_с_ADP_5_case',\n",
              "  '5_севера_север_NOUN_3_obl',\n",
              "  '6_к_к_ADP_7_case',\n",
              "  'Осовц_PROPN',\n",
              "  '8_начал_начинать_VERB_0_root',\n",
              "  '9_артиллерийскую_артиллерийский_ADJ_10_amod',\n",
              "  '10_борьбу_борьба_NOUN_8_obj',\n",
              "  '11_с_с_ADP_12_case',\n",
              "  '12_крепостью_крепость_NOUN_10_nmod'],\n",
              " ['1_В_в_ADP_3_case',\n",
              "  '2_артиллерийском_артиллерийский_ADJ_3_amod',\n",
              "  '3_бою_бой_NOUN_4_obl',\n",
              "  '4_принимают_принимать_VERB_0_root',\n",
              "  '5_участие_участие_NOUN_4_obj',\n",
              "  '6_тяжелые_тяжелый_ADJ_7_amod',\n",
              "  '7_калибры_калибр_NOUN_5_obj'],\n",
              " ['1_С_с_ADP_3_case',\n",
              "  '2_раннего_ранний_ADJ_3_amod',\n",
              "  '3_утра_утро_NOUN_7_obl',\n",
              "  '4_14_14_NUM_7_nummod',\n",
              "  '5_сентября_сентябрь_NOUN_4_flat',\n",
              "  '6_огонь_огонь_NOUN_7_nsubj',\n",
              "  '7_достиг_достигать_VERB_0_root',\n",
              "  '8_значительного_значительный_ADJ_9_amod',\n",
              "  '9_напряжения_напряжение_NOUN_7_obl'],\n",
              " ['попытка_PROPN',\n",
              "  '2_германской_германский_ADJ_3_amod',\n",
              "  '3_пехоты_пехота_NOUN_1_nmod',\n",
              "  '4_пробиться_пробиваться_VERB_1_obl',\n",
              "  '5_ближе_близко_ADJ_4_obl',\n",
              "  '6_к_к_ADP_7_case',\n",
              "  '7_крепости_крепость_NOUN_5_obl',\n",
              "  '8_отражена_отражать_VERB_0_root'],\n",
              " ['1_В_в_ADP_2_case',\n",
              "  'галиция_PROPN',\n",
              "  '3_мы_мы_PRON_4_nsubj',\n",
              "  '4_заняли_занимать_VERB_0_root',\n",
              "  'Дембиц_PROPN'],\n",
              " ['1_Большая_большой_ADJ_2_amod',\n",
              "  '2_колонна_колонна_NOUN_12_nsubj',\n",
              "  '3_',\n",
              "  ',',\n",
              "  '_',\n",
              "  ',',\n",
              "  '_PUNCT_2_punct',\n",
              "  '4_отступавшая_отступать_VERB_2_acl',\n",
              "  '5_по_по_ADP_6_case',\n",
              "  '6_шоссе_шоссе_NOUN_4_obl',\n",
              "  '7_от_от_ADP_8_case',\n",
              "  'перемышль_PROPN',\n",
              "  '9_к_к_ADP_10_case',\n",
              "  'Санок_PROPN',\n",
              "  '11_',\n",
              "  ',',\n",
              "  '_',\n",
              "  ',',\n",
              "  '_PUNCT_10_punct',\n",
              "  '12_обстреливалась_обстреливаться_VERB_0_root',\n",
              "  '13_с_с_ADP_14_case',\n",
              "  '14_высот_высота_NOUN_12_obl',\n",
              "  '15_нашей_наш_DET_16_det',\n",
              "  '16_батареей_батарея_NOUN_14_nmod',\n",
              "  '17_и_и_CCONJ_18_cc',\n",
              "  '18_бежала_бежать_VERB_12_conj',\n",
              "  '19_',\n",
              "  ',',\n",
              "  '_',\n",
              "  ',',\n",
              "  '_PUNCT_18_punct',\n",
              "  '20_бросив_бросить_VERB_18_advcl',\n",
              "  '21_парки_парк_NOUN_20_obj',\n",
              "  '22_',\n",
              "  ',',\n",
              "  '_',\n",
              "  ',',\n",
              "  '_PUNCT_21_punct',\n",
              "  '23_обоз_обоз_NOUN_21_conj',\n",
              "  '24_и_и_CCONJ_25_cc',\n",
              "  '25_автомобили_автомобиль_NOUN_21_conj'],\n",
              " ['1_Вылазки_вылазка_NOUN_4_nsubj',\n",
              "  '2_гарнизона_гарнизон_NOUN_1_nmod',\n",
              "  'перемышль_PROPN',\n",
              "  '4_остаются_оставаться_VERB_0_root',\n",
              "  '5_безуспешными_безуспешный_ADJ_4_obl'],\n",
              " ['1_При_при_ADP_3_case',\n",
              "  '2_продолжающемся_продолжающться_VERB_3_amod',\n",
              "  '3_отступлении_отступление_NOUN_5_obl',\n",
              "  '4_австрийцев_австриец_NOUN_3_nmod',\n",
              "  '5_обнаруживается_обнаруживать_VERB_0_root',\n",
              "  '6_полное_полный_ADJ_7_amod',\n",
              "  '7_перемешивание_перемешивание_NOUN_5_nsubj',\n",
              "  '8_их_они_PRON_9_nmod',\n",
              "  '9_частей_часть_NOUN_7_nmod',\n",
              "  '10_',\n",
              "  ',',\n",
              "  '_',\n",
              "  ',',\n",
              "  '_PUNCT_9_punct',\n",
              "  '11_захватываются_захватывать_VERB_5_conj',\n",
              "  '12_новые_новый_ADJ_13_amod',\n",
              "  '13_партии_партия_NOUN_11_nsubj',\n",
              "  ':',\n",
              "  'pass',\n",
              "  '14_пленных_пленный_NOUN_13_nmod',\n",
              "  '15_',\n",
              "  ',',\n",
              "  '_',\n",
              "  ',',\n",
              "  '_PUNCT_14_punct',\n",
              "  '16_орудия_орудие_NOUN_13_conj',\n",
              "  '17_и_и_CCONJ_20_cc',\n",
              "  '18_прочая_прочий_ADJ_20_amod',\n",
              "  '19_материальная_материальный_ADJ_20_amod',\n",
              "  '20_часть_часть_NOUN_13_conj'],\n",
              " ['1_На_на_ADP_2_case',\n",
              "  '2_перевале_перевал_NOUN_5_obl',\n",
              "  'Ужок_PROPN',\n",
              "  '4_мы_мы_PRON_5_nsubj',\n",
              "  '5_разбили_разбивать_VERB_0_root',\n",
              "  '6_неприятельский_неприятельский_ADJ_7_amod',\n",
              "  '7_отряд_отряд_NOUN_5_obj',\n",
              "  '8_',\n",
              "  ',',\n",
              "  '_',\n",
              "  ',',\n",
              "  '_PUNCT_7_punct',\n",
              "  '9_взяли_брать_VERB_5_conj',\n",
              "  '10_его_он_PRON_11_nmod',\n",
              "  '11_артиллерию_артиллерия_NOUN_9_obj',\n",
              "  '12_и_и_CCONJ_13_cc',\n",
              "  '13_много_много_ADV_5_conj',\n",
              "  '14_пленных_пленный_ADJ_13_obl',\n",
              "  '15_и_и_CCONJ_20_cc',\n",
              "  '16_',\n",
              "  ',',\n",
              "  '_',\n",
              "  ',',\n",
              "  '_PUNCT_15_punct',\n",
              "  '17_продолжая_продолжать_VERB_20_advcl',\n",
              "  '18_преследовать_преследовать_VERB_17_xcomp',\n",
              "  '19_',\n",
              "  ',',\n",
              "  '_',\n",
              "  ',',\n",
              "  '_PUNCT_18_punct',\n",
              "  '20_вступили_вступать_VERB_13_conj',\n",
              "  '21_в_в_ADP_22_case',\n",
              "  '22_пределы_предел_NOUN_20_obl',\n",
              "  'венгрия_PROPN']]"
            ]
          },
          "metadata": {
            "tags": []
          },
          "execution_count": 6
        }
      ]
    },
    {
      "cell_type": "code",
      "metadata": {
        "id": "-ml532Zfg9I1",
        "colab": {
          "base_uri": "https://localhost:8080/"
        },
        "outputId": "88d125c3-5e5d-4400-9b93-c01f28a09a26"
      },
      "source": [
        "law_corpora=[]\n",
        "for sentence in tokens:\n",
        "  for token in sentence:\n",
        "    if \"_судья_\" in token:\n",
        "      if sentence not in law_corpora:\n",
        "        law_corpora.append(sentence)\n",
        "    elif \"_адвокат_\" in token:\n",
        "      if sentence not in law_corpora:\n",
        "        law_corpora.append(sentence)\n",
        "    elif \"_прокурор_\" in token:\n",
        "      if sentence not in law_corpora:\n",
        "        law_corpora.append(sentence)\n",
        "    else:\n",
        "      pass\n",
        "print(len(law_corpora))"
      ],
      "execution_count": 7,
      "outputs": [
        {
          "output_type": "stream",
          "text": [
            "2602\n"
          ],
          "name": "stdout"
        }
      ]
    },
    {
      "cell_type": "code",
      "metadata": {
        "id": "80Rh5PVLh4JQ",
        "colab": {
          "base_uri": "https://localhost:8080/"
        },
        "outputId": "d0ef9fe2-6b7a-483f-a9f5-3ffbde60aa18"
      },
      "source": [
        "law_corpora[0:10]"
      ],
      "execution_count": 8,
      "outputs": [
        {
          "output_type": "execute_result",
          "data": {
            "text/plain": [
              "[['1_Швейцарский_швейцарский_ADJ_3_amod',\n",
              "  '2_федеральный_федеральный_ADJ_3_amod',\n",
              "  '3_прокурор_прокурор_NOUN_7_nsubj',\n",
              "  'карла_PROPN',\n",
              "  '5_дель_дель_PART_7_advmod',\n",
              "  '6_Понти_Понти_NUM_5_nummod',\n",
              "  '7_заявила_заявлять_VERB_0_root',\n",
              "  '8_',\n",
              "  ',',\n",
              "  '_',\n",
              "  ',',\n",
              "  '_PUNCT_7_punct',\n",
              "  '9_что_что_SCONJ_11_mark',\n",
              "  'Беллази_PROPN',\n",
              "  '11_работал_работать_VERB_7_ccomp',\n",
              "  '12_на_на_ADP_13_case',\n",
              "  '13_шефа_шеф_NOUN_11_obl',\n",
              "  '14_разведывательной_разведывательный_ADJ_15_amod',\n",
              "  '15_службы_служба_NOUN_13_nmod',\n",
              "  'питер',\n",
              "  ':',\n",
              "  ':Рейли_PROPN',\n",
              "  '18_и_и_CCONJ_19_cc',\n",
              "  '19_получил_получать_VERB_11_conj',\n",
              "  '20_5,8_5,8_NUM_21_nummod',\n",
              "  '21_миллионов_миллион_NOUN_19_obl',\n",
              "  '22_долларов_доллар_NOUN_21_nmod',\n",
              "  '23_от_от_ADP_24_case',\n",
              "  '24_министерства_министерство_NOUN_19_obl',\n",
              "  '25_обороны_оборона_NOUN_24_nmod',\n",
              "  '26_для_для_ADP_27_case',\n",
              "  '27_покупки_покупка_NOUN_24_nmod',\n",
              "  '28_огромного_огромный_ADJ_29_amod',\n",
              "  '29_количества_количество_NOUN_27_nmod',\n",
              "  '30_оружия_оружие_NOUN_29_nmod'],\n",
              " ['1_Адвокат_адвокат_NOUN_5_nsubj',\n",
              "  'Беллази',\n",
              "  ':',\n",
              "  ':андре_PROPN',\n",
              "  '4_Седу_Сед_PROPN_3_flat',\n",
              "  ':',\n",
              "  'name',\n",
              "  '5_заявил_заявлять_VERB_0_root',\n",
              "  '6_',\n",
              "  ',',\n",
              "  '_',\n",
              "  ',',\n",
              "  '_PUNCT_5_punct',\n",
              "  '7_что_что_SCONJ_10_mark',\n",
              "  '8_его_он_PRON_9_nmod',\n",
              "  '9_клиент_клиент_NOUN_10_nsubj',\n",
              "  '10_отверг_отвергать_VERB_5_ccomp',\n",
              "  '11_эти_этот_DET_12_det',\n",
              "  '12_обвинения_обвинение_NOUN_10_obj'],\n",
              " ['карла_PROPN',\n",
              "  '2_дель_дель_PART_3_advmod',\n",
              "  '3_Понти_Понти_NUM_1_nummod',\n",
              "  '4_',\n",
              "  ',',\n",
              "  '_',\n",
              "  ',',\n",
              "  '_PUNCT_3_punct',\n",
              "  '5_недавно_недавно_ADV_6_advmod',\n",
              "  '6_ставшая_становиться_VERB_1_acl',\n",
              "  '7_прокурором_прокурор_NOUN_6_obl',\n",
              "  '8_Международного_международный_ADJ_9_amod',\n",
              "  'трибунал',\n",
              "  ':',\n",
              "  ':оон_PROPN',\n",
              "  '11_по_по_ADP_13_case',\n",
              "  '12_военным_военный_ADJ_13_amod',\n",
              "  '13_преступлениям_преступление_NOUN_9_nmod',\n",
              "  '14_',\n",
              "  ',',\n",
              "  '_',\n",
              "  ',',\n",
              "  '_PUNCT_13_punct',\n",
              "  '15_заявила_заявлять_VERB_26_nsubj',\n",
              "  ':',\n",
              "  'pass',\n",
              "  '16_',\n",
              "  ',',\n",
              "  '_',\n",
              "  ',',\n",
              "  '_PUNCT_15_punct',\n",
              "  '17_что_что_SCONJ_20_mark',\n",
              "  '18_дело_дело_NOUN_20_nsubj',\n",
              "  '19_против_против_ADP_20_case',\n",
              "  'Рейли_PROPN',\n",
              "  '21_и_и_CCONJ_25_cc',\n",
              "  '22_еще_еще_ADV_23_advmod',\n",
              "  '23_троих_трое_NUM_25_nummod',\n",
              "  ':',\n",
              "  'gov',\n",
              "  '24_высокопоставленных_высокопоставленный_ADJ_25_amod',\n",
              "  '25_чиновников_чиновник_NOUN_20_conj',\n",
              "  '26_закрыто_закрывать_VERB_0_root'],\n",
              " ['1_Федеральный_федеральный_ADJ_2_amod',\n",
              "  '2_прокурор_прокурор_NOUN_3_nsubj',\n",
              "  '3_добавила_добавлять_VERB_0_root',\n",
              "  '4_',\n",
              "  ',',\n",
              "  '_',\n",
              "  ',',\n",
              "  '_PUNCT_3_punct',\n",
              "  '5_что_что_SCONJ_8_mark',\n",
              "  '6_расследование_расследование_NOUN_8_nsubj',\n",
              "  '7_будет_быть_AUX_8_aux',\n",
              "  ':',\n",
              "  'pass',\n",
              "  '8_продолжено_продолжить_VERB_3_ccomp',\n",
              "  '9_в_в_ADP_11_case',\n",
              "  '10_отношении_отношение_NOUN_9_fixed',\n",
              "  'Фред',\n",
              "  ':',\n",
              "  ':Шрайер_PROPN',\n",
              "  '13_',\n",
              "  ',',\n",
              "  '_',\n",
              "  ',',\n",
              "  '_PUNCT_12_punct',\n",
              "  '14_шефа_шеф_NOUN_11_conj',\n",
              "  '15_стратегической_стратегический_ADJ_17_amod',\n",
              "  '16_информационной_информационный_ADJ_17_amod',\n",
              "  '17_службы_служба_NOUN_14_nmod',\n",
              "  '18_',\n",
              "  ',',\n",
              "  '_',\n",
              "  ',',\n",
              "  '_PUNCT_17_punct',\n",
              "  '19_которая_который_PRON_20_nsubj',\n",
              "  '20_возникла_возникать_VERB_17_acl',\n",
              "  ':',\n",
              "  'relcl',\n",
              "  '21_в_в_ADP_22_case',\n",
              "  '22_документах_документ_NOUN_20_obl',\n",
              "  '23_по_по_ADP_24_case',\n",
              "  '24_делу_дело_NOUN_22_nmod',\n",
              "  'Беллази_PROPN'],\n",
              " ['1_Бывший_бывший_ADJ_3_amod',\n",
              "  '2_генеральный_генеральный_ADJ_3_amod',\n",
              "  '3_прокурор_прокурор_NOUN_7_nsubj',\n",
              "  'рф_PROPN',\n",
              "  '5_Юрий_юрий_PROPN_3_appos',\n",
              "  'Скуратов_PROPN',\n",
              "  '7_считает_считать_VERB_0_root',\n",
              "  '8_',\n",
              "  ',',\n",
              "  '_',\n",
              "  ',',\n",
              "  '_PUNCT_7_punct',\n",
              "  '9_что_что_SCONJ_15_mark',\n",
              "  '10_ближайшее_близкий_ADJ_11_amod',\n",
              "  '11_окружение_окружение_NOUN_15_nsubj',\n",
              "  '12_президента_президент_NOUN_11_nmod',\n",
              "  'борис',\n",
              "  ':',\n",
              "  ':ельцин_PROPN',\n",
              "  '15_попытается_пытаться_VERB_7_ccomp',\n",
              "  '16_воспрепятствовать_препятствовать_VERB_15_xcomp',\n",
              "  '17_серьезному_серьезный_ADJ_18_amod',\n",
              "  '18_расследованию_расследование_NOUN_16_iobj',\n",
              "  '19_ситуации_ситуация_NOUN_18_nmod',\n",
              "  '20_',\n",
              "  ',',\n",
              "  '_',\n",
              "  ',',\n",
              "  '_PUNCT_19_punct',\n",
              "  '21_связанной_связывать_VERB_19_acl',\n",
              "  '22_с_с_ADP_23_case',\n",
              "  '23_Bank_bank_PROPN_21_flat',\n",
              "  ':',\n",
              "  'foreign',\n",
              "  '24_of_of_X_23_flat',\n",
              "  ':',\n",
              "  'foreign',\n",
              "  '25_New_new_PROPN_24_flat',\n",
              "  ':',\n",
              "  'foreign',\n",
              "  '26_York_york_PROPN_25_flat',\n",
              "  ':',\n",
              "  'foreign',\n",
              "  '27_',\n",
              "  ',',\n",
              "  '_',\n",
              "  ',',\n",
              "  '_PUNCT_26_punct',\n",
              "  '28_через_через_ADP_29_case',\n",
              "  '29_который_который_PRON_30_obl',\n",
              "  '30_отмывались_отмываться_VERB_21_acl',\n",
              "  ':',\n",
              "  'relcl',\n",
              "  '31_деньги_деньги_NOUN_30_nsubj',\n",
              "  '32_',\n",
              "  ',',\n",
              "  '_',\n",
              "  ',',\n",
              "  '_PUNCT_31_punct',\n",
              "  '33_полученные_получать_VERB_31_acl',\n",
              "  '34_от_от_ADP_35_case',\n",
              "  'мвф_PROPN'],\n",
              " ['1_Мои_мой_DET_2_det',\n",
              "  '2_адвокаты_адвокат_NOUN_3_nsubj',\n",
              "  '3_изучают_изучать_VERB_0_root',\n",
              "  '4_документы_документ_NOUN_3_obj',\n",
              "  '5_',\n",
              "  ',',\n",
              "  '_',\n",
              "  ',',\n",
              "  '_PUNCT_4_punct',\n",
              "  '6_чтобы_чтобы_SCONJ_7_mark',\n",
              "  '7_обратиться_обращаться_VERB_3_advcl',\n",
              "  '8_в_в_ADP_9_case',\n",
              "  '9_суд_суд_NOUN_7_obl'],\n",
              " ['1_Сумма_сумма_NOUN_8_nsubj',\n",
              "  ':',\n",
              "  'pass',\n",
              "  '2_возмещения_возмещение_NOUN_1_nmod',\n",
              "  '3_ущерба_ущерб_NOUN_2_nmod',\n",
              "  '4_по_по_ADP_5_case',\n",
              "  '5_искам_иск_NOUN_3_nmod',\n",
              "  '6_в_в_ADP_7_case',\n",
              "  '7_настоящее_настоящий_ADJ_3_obl',\n",
              "  '8_времяопределяется_времяопределяться_VERB_0_root',\n",
              "  '9_адвокатами_адвокат_NOUN_8_obl',\n",
              "  '10_и_и_CCONJ_11_cc',\n",
              "  '11_юристами_юрист_NOUN_9_conj',\n",
              "  '12_',\n",
              "  ',',\n",
              "  '_',\n",
              "  ',',\n",
              "  '_PUNCT_11_punct',\n",
              "  '13_занимающимися_заниматься_VERB_15_amod',\n",
              "  '14_подготовкойисковых_подготовкойисковый_ADJ_15_amod',\n",
              "  '15_заявлений_заявление_NOUN_9_conj'],\n",
              " ['1_Но_но_CCONJ_6_cc',\n",
              "  '2_окружной_окружной_ADJ_3_amod',\n",
              "  '3_судья_судья_NOUN_6_nsubj',\n",
              "  'Нэнси',\n",
              "  ':',\n",
              "  ':Эдмунс_PROPN',\n",
              "  '6_решила_решать_VERB_0_root',\n",
              "  '7_дело_дело_NOUN_6_obj',\n",
              "  '8_в_в_ADP_9_case',\n",
              "  '9_пользу_польза_NOUN_6_obl',\n",
              "  '10_web_веб_NOUN_9_nmod',\n",
              "  '11_-издательства_-издательствый_NOUN_10_nmod',\n",
              "  '12_',\n",
              "  ':',\n",
              "  '_',\n",
              "  ':',\n",
              "  '_PUNCT_11_punct',\n",
              "  '13_она_она_PRON_14_nsubj',\n",
              "  '14_отвергла_отвергать_VERB_6_conj',\n",
              "  '15_требование_требование_NOUN_14_obj',\n",
              "  '16_в_в_ADP_18_case',\n",
              "  '17_судебном_судебный_ADJ_18_amod',\n",
              "  '18_порядке_порядок_NOUN_15_nmod',\n",
              "  '19_запретить_запрещать_VERB_15_obl',\n",
              "  'Лэйн_PROPN',\n",
              "  '21_публикацию_публикация_NOUN_19_obj',\n",
              "  '22_секретных_секретный_ADJ_23_amod',\n",
              "  '23_документов_документ_NOUN_21_nmod',\n",
              "  '24_',\n",
              "  ',',\n",
              "  '_',\n",
              "  ',',\n",
              "  '_PUNCT_23_punct',\n",
              "  '25_поскольку_поскольку_SCONJ_28_mark',\n",
              "  '26_такой_такой_DET_27_det',\n",
              "  '27_запрет_запрет_NOUN_28_nsubj',\n",
              "  '28_нарушал_нарушать_VERB_14_advcl',\n",
              "  '29_бы_бы_PART_28_aux',\n",
              "  '30_свободу_свобода_NOUN_28_obj',\n",
              "  '31_слова_слово_NOUN_30_nmod'],\n",
              " ['1_Однако_однако_ADV_5_advmod',\n",
              "  '2_судья_судья_NOUN_5_nsubj',\n",
              "  '3_все_все_PART_5_advmod',\n",
              "  '4_же_же_PART_3_fixed',\n",
              "  '5_вынесла_выносить_VERB_0_root',\n",
              "  '6_постановление_постановление_NOUN_5_advcl',\n",
              "  '7_',\n",
              "  ',',\n",
              "  '_',\n",
              "  ',',\n",
              "  '_PUNCT_6_punct',\n",
              "  '8_связанное_связывать_VERB_6_acl',\n",
              "  '9_с_с_ADP_10_case',\n",
              "  '10_тем_то_PRON_8_obl',\n",
              "  '11_',\n",
              "  ',',\n",
              "  '_',\n",
              "  ',',\n",
              "  '_PUNCT_10_punct',\n",
              "  '12_что_что_SCONJ_14_mark',\n",
              "  'Лэйн_PROPN',\n",
              "  '14_нарушил_нарушать_VERB_10_acl',\n",
              "  '15_копирайт_копирайт_NOUN_14_obj',\n",
              "  '16_компании_компания_NOUN_15_nmod',\n",
              "  'форд_PROPN'],\n",
              " ['1_При_при_ADP_2_case',\n",
              "  '2_этом_это_PRON_4_obl',\n",
              "  '3_судья_судья_NOUN_4_nsubj',\n",
              "  '4_добавила_добавлять_VERB_0_root',\n",
              "  '5_',\n",
              "  ',',\n",
              "  '_',\n",
              "  ',',\n",
              "  '_PUNCT_4_punct',\n",
              "  '6_что_что_SCONJ_10_mark',\n",
              "  '7_судебная_судебный_ADJ_8_amod',\n",
              "  '8_система_система_NOUN_10_nsubj',\n",
              "  '9_только_только_PART_10_advmod',\n",
              "  '10_начинает_начинать_VERB_4_ccomp',\n",
              "  '11_подходить_подходить_VERB_10_xcomp',\n",
              "  '12_к_к_ADP_15_case',\n",
              "  '13_такому_такой_DET_15_det',\n",
              "  '14_сложному_сложный_ADJ_15_amod',\n",
              "  '15_вопросу_вопрос_NOUN_11_obl',\n",
              "  '16_',\n",
              "  ',',\n",
              "  '_',\n",
              "  ',',\n",
              "  '_PUNCT_15_punct',\n",
              "  '17_как_как_SCONJ_18_mark',\n",
              "  '18_свобода_свобода_NOUN_13_obl',\n",
              "  '19_слова_слово_NOUN_18_nmod',\n",
              "  '20_и_и_CCONJ_21_cc',\n",
              "  '21_защита_защита_NOUN_19_conj',\n",
              "  '22_интеллектуальной_интеллектуальный_ADJ_23_amod',\n",
              "  '23_собственности_собственность_NOUN_21_nmod',\n",
              "  '24_в_в_ADP_25_case',\n",
              "  'интернет_PROPN']]"
            ]
          },
          "metadata": {
            "tags": []
          },
          "execution_count": 8
        }
      ]
    },
    {
      "cell_type": "code",
      "metadata": {
        "id": "C3LdUA18kKI9"
      },
      "source": [
        "with open(\"law_corpora.txt\", \"w\") as file:\n",
        "  print(law_corpora, file=file, sep=\"\\n\")\n",
        "file.close()"
      ],
      "execution_count": 9,
      "outputs": []
    },
    {
      "cell_type": "code",
      "metadata": {
        "id": "E7J2KSMJJ2Lo",
        "colab": {
          "base_uri": "https://localhost:8080/"
        },
        "outputId": "ff8e5781-fad4-48a2-8dc8-dd828ed93827"
      },
      "source": [
        "count=0\n",
        "for sentence in tokens:\n",
        "  count += len(sentence)\n",
        "print(count)"
      ],
      "execution_count": 10,
      "outputs": [
        {
          "output_type": "stream",
          "text": [
            "5860022\n"
          ],
          "name": "stdout"
        }
      ]
    },
    {
      "cell_type": "code",
      "metadata": {
        "id": "EVDios2gKPKM",
        "colab": {
          "base_uri": "https://localhost:8080/"
        },
        "outputId": "bf5a0aad-5db6-4bdc-ff7e-fd551d61f110"
      },
      "source": [
        "count=0\n",
        "for sentence in law_corpora:\n",
        "  count += len(sentence)\n",
        "print(count)"
      ],
      "execution_count": 11,
      "outputs": [
        {
          "output_type": "stream",
          "text": [
            "93703\n"
          ],
          "name": "stdout"
        }
      ]
    },
    {
      "cell_type": "code",
      "metadata": {
        "id": "TEd9vRdqlG2T",
        "colab": {
          "base_uri": "https://localhost:8080/"
        },
        "outputId": "f482a67e-57d7-4516-c44f-90de00337281"
      },
      "source": [
        "len(tokens)"
      ],
      "execution_count": 12,
      "outputs": [
        {
          "output_type": "execute_result",
          "data": {
            "text/plain": [
              "201486"
            ]
          },
          "metadata": {
            "tags": []
          },
          "execution_count": 12
        }
      ]
    },
    {
      "cell_type": "code",
      "metadata": {
        "id": "afKqro1G2Phq"
      },
      "source": [
        "for sentence in law_corpora:\n",
        "  for i in sentence:\n",
        "    if re.match(r'[0-9]', i):\n",
        "      pass\n",
        "    else:\n",
        "      sentence.remove(i)"
      ],
      "execution_count": 16,
      "outputs": []
    },
    {
      "cell_type": "code",
      "metadata": {
        "id": "1rtLHcTvKqzc"
      },
      "source": [
        "for sentence in law_corpora:\n",
        "  for i in sentence:\n",
        "    if i.startswith('_'):\n",
        "      sentence.remove(i)"
      ],
      "execution_count": 17,
      "outputs": []
    },
    {
      "cell_type": "code",
      "metadata": {
        "id": "4J_ouJrDLARa"
      },
      "source": [
        "for sentence in law_corpora:\n",
        "  for i in sentence:\n",
        "    if re.match(r'_', i):\n",
        "      sentence.remove(i)"
      ],
      "execution_count": 18,
      "outputs": []
    },
    {
      "cell_type": "code",
      "metadata": {
        "id": "zMmjGq5VMUYo"
      },
      "source": [
        "for sentence in law_corpora:\n",
        "  for i in sentence:\n",
        "    if re.match(r':', i):\n",
        "      sentence.remove(i)"
      ],
      "execution_count": 19,
      "outputs": []
    },
    {
      "cell_type": "code",
      "metadata": {
        "id": "WTKvGt5yMxQ5"
      },
      "source": [
        "for sentence in law_corpora:\n",
        "  for i in sentence:\n",
        "    if re.match(r'[а-я]', i):\n",
        "      sentence.remove(i)"
      ],
      "execution_count": 20,
      "outputs": []
    },
    {
      "cell_type": "code",
      "metadata": {
        "id": "YehDGphFNOcq"
      },
      "source": [
        "for sentence in law_corpora:\n",
        "  for i in sentence:\n",
        "    if i=='':\n",
        "      print(sentence)"
      ],
      "execution_count": 21,
      "outputs": []
    },
    {
      "cell_type": "code",
      "metadata": {
        "id": "wGFBUxxCPMal"
      },
      "source": [
        "for sentence in law_corpora:\n",
        "  for i in sentence:\n",
        "    if re.match(r'_PUNCT_', i):\n",
        "      sentence.remove(i)"
      ],
      "execution_count": 22,
      "outputs": []
    },
    {
      "cell_type": "code",
      "metadata": {
        "colab": {
          "base_uri": "https://localhost:8080/"
        },
        "id": "3o3kvwyUSFbu",
        "outputId": "8f6cec16-9cfb-4642-c58d-279e3799b3f0"
      },
      "source": [
        "unlc=[]\n",
        "for sentence in law_corpora:\n",
        "  if sentence in unlc:\n",
        "    continue\n",
        "  else:\n",
        "    unlc.append(sentence)\n",
        "print(len(unlc))"
      ],
      "execution_count": 23,
      "outputs": [
        {
          "output_type": "stream",
          "text": [
            "2601\n"
          ],
          "name": "stdout"
        }
      ]
    },
    {
      "cell_type": "code",
      "metadata": {
        "id": "5yhAZ_ufTfNM"
      },
      "source": [
        "law_corpora = unlc"
      ],
      "execution_count": 24,
      "outputs": []
    },
    {
      "cell_type": "code",
      "metadata": {
        "colab": {
          "base_uri": "https://localhost:8080/"
        },
        "id": "8v5prly3kyYD",
        "outputId": "ea93b329-5fbe-4d5a-fce5-f2d0a4a95937"
      },
      "source": [
        "diff={}\n",
        "spisok=[]\n",
        "for sentence in law_corpora:\n",
        "  for i in sentence:\n",
        "    w=[]\n",
        "    e=[]\n",
        "    r=[]\n",
        "    if \"_адвокат_\" in i:\n",
        "      w=i.split(sep=\"_\")\n",
        "      index=w[0]\n",
        "      if index == None:\n",
        "        pass\n",
        "      else:\n",
        "        if i not in sentence:\n",
        "          pass\n",
        "        else:\n",
        "          n = sentence.index(i)\n",
        "          if i == sentence[-1]:\n",
        "            p = sentence[n-1]\n",
        "            p += '_0'\n",
        "            spisok.append(p)\n",
        "          else:\n",
        "            m = sentence[n+1]\n",
        "            m += '_0'\n",
        "            spisok.append(m)\n",
        "            if i == sentence[-2]:\n",
        "              pass\n",
        "            else:\n",
        "              o = sentence[n+2]\n",
        "              o += '_1'\n",
        "              spisok.append(o)\n",
        "              if i == sentence[-1]:\n",
        "                pass\n",
        "          #print(spisok)\n",
        "          for m in spisok:\n",
        "            if re.match(r'_PUNCT_', m):\n",
        "              pass\n",
        "            else:\n",
        "              e=m.split(sep=\"_\")\n",
        "              if len(w)<4 or len(e)<4:\n",
        "                pass\n",
        "              else:\n",
        "                if e[2] == w[2]:\n",
        "                  pass\n",
        "                else:\n",
        "                  if e[3] == 'VERB':\n",
        "                    #print(e)\n",
        "                    small_diff=[]\n",
        "                    d = e[-1]\n",
        "                    #print(spisok)\n",
        "                    for i in spisok:\n",
        "                      w=i.split(sep=\"_\")\n",
        "                      if len(w) >= 4:\n",
        "                        if w[3] == 'VERB':\n",
        "                          if len(w)<4 or len(e)<4:\n",
        "                            pass\n",
        "                          else:\n",
        "                            if w[2] == e[2]:\n",
        "                              d = w[-1]\n",
        "                              small_diff.append(int(d))\n",
        "                            else:\n",
        "                              pass\n",
        "                          if w[3] == 'VERB' and w[2] == e[2]: \n",
        "                            diff[w[2]]=small_diff \n",
        "                            \n",
        "                      else:\n",
        "                        pass         \n",
        "                  else:\n",
        "                    pass     \n",
        "print(diff)"
      ],
      "execution_count": 619,
      "outputs": [
        {
          "output_type": "stream",
          "text": [
            "{'заявлять': [1, 0, 1, 0, 0, 1, 1, 1, 0, 1, 1, 0, 1, 0, 1, 0, 1, 0, 0, 1, 0, 0, 1, 0, 1, 0, 0, 1, 0, 1, 0, 0, 1, 0, 1, 1, 0, 0, 0, 1, 1, 1, 1, 1, 1, 1, 1, 0, 0, 1, 0, 0, 0, 0, 1, 0, 1, 0, 0, 0, 1, 1], 'изучать': [0, 1, 0], 'считать': [0, 0, 0, 0, 1, 1, 0, 0, 1, 0, 0, 0, 0, 0, 1, 0, 0, 0], 'специализироваться': [0, 0, 1], 'пояснять': [0, 0, 0, 0], 'утверждать': [0, 0, 0, 0, 0, 1, 1, 0, 0, 0, 0, 1, 1, 0, 0, 0, 0, 1, 1, 0], 'изрешекать': [1], 'призывать': [0, 0], 'мотивировать': [0], 'комментировать': [0, 1, 1], 'сообщать': [0, 0, 0, 0, 1, 1, 0, 0, 0, 0, 0, 1, 1, 1, 1, 0, 1, 1, 0, 0, 1, 0, 0, 0, 0, 0, 1, 0, 0, 1, 0], 'делать': [1, 1, 0], 'нанимать': [0], 'иметься': [0, 0], 'представлять': [0, 0, 0, 1, 0, 0, 0, 0, 0, 0, 0, 1, 0, 1, 0, 1, 0], 'Стэнли': [0], 'пойти': [0], 'выступать': [0, 0, 0, 0, 0, 0], 'подавать': [1, 1, 0, 1, 1, 1, 0, 1, 1, 1, 0, 0, 1, 0, 0, 1], 'сохраняться': [0], 'возглавлять': [0], 'признавать': [1, 1], 'подтверждать': [1, 1, 1], 'рассчитывать': [0, 1, 0, 0, 0, 0], 'защищать': [0, 1, 0, 0], 'требовать': [0, 0, 0, 0, 0, 0, 0, 0, 1], 'говорить': [0, 0, 0], 'обращаться': [0, 0, 1, 0, 1], 'подвергать': [1], 'создаваемый': [0], 'предупреждать': [0, 1], 'Эксли': [1], 'завить': [0], 'задерживать': [0, 0], 'готовиться': [1, 1], 'передавать': [0, 1, 1, 0, 0], 'отделываться': [0], 'опровергать': [1, 1], 'подчеркивать': [0, 0, 1, 1, 0, 0, 0], 'неисключать': [0], 'составлять': [1], 'настаивать': [1, 0, 1, 1, 0, 0, 0, 0, 0, 0, 1, 0, 0, 1], 'обжаловать': [1, 0, 1, 0, 1, 1, 1], 'называть': [0, 0, 1, 1, 1, 1], 'затрудняться': [0], 'давать': [1, 0], 'проверять': [0], 'подсудимый': [0, 0, 0, 1], 'Зозуть': [0, 0], 'потребовать': [1], 'помещать': [1], 'выходить': [0], 'решать': [1, 1], 'оставаться': [0, 0], 'участвовать': [1, 0], 'уверять': [1, 1], 'пропадать': [0], 'отмечать': [0, 0, 0, 1, 0, 0, 0, 1, 0, 1, 0, 1, 1, 0, 0, 0, 0, 1, 0, 1, 1, 0], 'иметь': [0, 0, 1, 1], 'отвечать': [1, 0], 'оказывать': [1], 'обвинять': [0, 0, 0, 0], 'становиться': [0, 0], 'вернуться': [1], 'находиться': [0, 0, 0, 1], 'расценивать': [0], 'обсуждать': [0], 'направляться': [0], 'добавлять': [0, 0, 0, 0, 0, 1], 'арестовывать': [0, 0, 0], 'возыметь': [0], 'стремиться': [1], 'сдавать': [0], 'содержаться': [0, 1], 'настраивать': [0], 'узнавать': [1], 'характеризовать': [0], 'отстоять': [0], 'приводить': [0], 'разъяснять': [1], 'праздновать': [1], 'присутствовать': [1], 'предупредить': [0, 1], 'сказать': [0, 0, 0, 1, 0, 0, 0], 'просить': [0, 0, 1, 0, 0, 1, 1, 0, 0, 0], 'появляться': [1, 0], 'потерпевшая': [0, 0], 'решаться': [1], 'вести': [1], 'Юшинутверждал': [0], 'понесать': [1], 'Скакел': [0], 'оспорить': [1], 'ссылаться': [0, 0], 'Хэрриет': [0], 'ставить': [1], 'возбуждать': [1], 'готовить': [1, 1, 0, 1], 'высказывать': [0, 0], 'ужепредложивать': [0], 'переносить': [1], 'отвергать': [1, 1, 1], 'излагать': [0], 'пытаться': [0, 1, 0, 0, 1, 0, 1, 1, 1, 1], 'перекладывать': [1], 'Розан': [0], 'указывать': [0, 1], 'прибывать': [0], 'добиваться': [1, 0, 1], 'помогать': [0], 'погибать': [1, 0, 1, 1, 1], 'разрешать': [0], 'идти': [0], 'выполнять': [1], 'проводить': [0, 1], 'знакомиться': [0], 'закончить': [0], 'предъявлять': [1, 1], 'ознакомляться': [0, 0], 'разговаривать': [0], 'рассказывать': [1, 1], 'подготавливать': [0], 'доказывать': [0], 'арестовать': [0], 'брать': [1], 'отстранить': [1], 'раскрывать': [1], 'приостанавливать': [1], 'выяснять': [0], 'получать': [0, 0, 1, 0, 0, 1], 'прекращать': [0, 0], 'мочь': [1, 0, 1, 1, 1], 'отрицать': [0], 'понадобиться': [1], 'действовать': [0, 1], 'возбудить': [0], 'вменять': [0], 'присваивать': [0], 'дожидаться': [1], 'являться': [0, 0], 'затребовавать': [0], 'инкриминировать': [1], 'разморозить': [0], 'ходатайствовать': [1, 0], 'обеспокоить': [1], 'подследственный': [0], 'выигрывать': [1], 'начало': [1, 1], 'объявлять': [1, 0], 'приходиться': [0], 'договариваться': [1, 1], 'продлить': [1], 'амнистировать': [0], 'стать': [0], 'рассматривать': [0, 0], 'рекомендовать': [1], 'жить': [1], 'изменять': [1, 1], 'стараться': [0], 'убеждать': [1, 1, 1], 'объяснять': [1, 1, 0, 0], 'исключать': [1, 1, 1, 1], 'оказываться': [1, 0], 'направлять': [1, 0, 1, 1], 'расплачиваться': [1], 'выдавать': [0], 'ждать': [0], 'организовывать': [1], 'уточнять': [1], 'выражать': [0, 1], 'затребовать': [0], 'отменять': [1], 'учитывать': [0], 'видеть': [0], 'основывать': [0], 'осуждать': [0, 0, 0], 'подчеркнуть': [0], 'замечать': [0, 0, 0], 'сомневаться': [0], 'интересовать': [1, 1], 'подать': [0], 'отстаивать': [0], 'успевать': [1, 1, 1], 'высказываться': [0], 'напоминать': [0], 'освобождать': [1], 'отдавать': [0], 'обосновывать': [0], 'выделять': [1], 'обращать': [0, 1, 0], 'нуждаться': [0], 'приговорять': [0], 'предписываться': [1], 'изложить': [1], 'оспаривать': [0], 'Хартли': [0], 'постановлять': [1], 'специализируться': [0], 'назначать': [0], 'заявить': [0], 'надеяться': [0], 'спросить': [0], 'отправляться': [1], 'усматривать': [0], 'начинать': [0], 'отменить': [0], 'предполагать': [0], 'признать': [0, 0], 'допрос': [1], 'нанять': [0], 'состояться': [0], 'менять': [0], 'отказываться': [1, 0], 'приносить': [1], 'пропускать': [1], 'пускать': [0], 'склонить': [1], 'оставлять': [1], 'встречаться': [1], 'Яртый': [1], 'продолжать': [0], 'требоваться': [1], 'ожидать': [1], 'предоставлять': [1], 'вылетать': [0], 'Бредли': [0], 'разгораться': [0], 'мотивировывать': [0], 'придумать': [0], 'Сери': [0], 'допускать': [1], 'Джим': [1]}\n"
          ],
          "name": "stdout"
        }
      ]
    },
    {
      "cell_type": "code",
      "metadata": {
        "colab": {
          "base_uri": "https://localhost:8080/"
        },
        "id": "y4VWo8iSOhVd",
        "outputId": "f36d10a6-aa5a-4d27-ce50-de584a5bbd2f"
      },
      "source": [
        "print(m)"
      ],
      "execution_count": 620,
      "outputs": [
        {
          "output_type": "stream",
          "text": [
            "4_надеются_надеяться_VERB_2_xcomp_1\n"
          ],
          "name": "stdout"
        }
      ]
    },
    {
      "cell_type": "code",
      "metadata": {
        "colab": {
          "base_uri": "https://localhost:8080/"
        },
        "id": "0O8Kd1N0KHn6",
        "outputId": "e9389a67-7d7e-4530-943b-43ba696fccd8"
      },
      "source": [
        "len(diff)"
      ],
      "execution_count": 621,
      "outputs": [
        {
          "output_type": "execute_result",
          "data": {
            "text/plain": [
              "232"
            ]
          },
          "metadata": {
            "tags": []
          },
          "execution_count": 621
        }
      ]
    },
    {
      "cell_type": "code",
      "metadata": {
        "id": "YQ-mP_9YeK7K"
      },
      "source": [
        "for word, lis in diff.items():\n",
        "  if lis ==[]:\n",
        "    print(word)"
      ],
      "execution_count": 622,
      "outputs": []
    },
    {
      "cell_type": "code",
      "metadata": {
        "colab": {
          "base_uri": "https://localhost:8080/"
        },
        "id": "m3pDa7J0W_Nf",
        "outputId": "528a8614-5e67-4744-b9c0-31ded55cba74"
      },
      "source": [
        "Mat_oj = diff.copy()\n",
        "for word, lis in Mat_oj.items():\n",
        "    new_l = (sum(lis))/len(lis)\n",
        "    Mat_oj[word] = new_l\n",
        "print(Mat_oj)"
      ],
      "execution_count": 623,
      "outputs": [
        {
          "output_type": "stream",
          "text": [
            "{'заявлять': 0.5, 'изучать': 0.3333333333333333, 'считать': 0.2222222222222222, 'специализироваться': 0.3333333333333333, 'пояснять': 0.0, 'утверждать': 0.3, 'изрешекать': 1.0, 'призывать': 0.0, 'мотивировать': 0.0, 'комментировать': 0.6666666666666666, 'сообщать': 0.3548387096774194, 'делать': 0.6666666666666666, 'нанимать': 0.0, 'иметься': 0.0, 'представлять': 0.23529411764705882, 'Стэнли': 0.0, 'пойти': 0.0, 'выступать': 0.0, 'подавать': 0.625, 'сохраняться': 0.0, 'возглавлять': 0.0, 'признавать': 1.0, 'подтверждать': 1.0, 'рассчитывать': 0.16666666666666666, 'защищать': 0.25, 'требовать': 0.1111111111111111, 'говорить': 0.0, 'обращаться': 0.4, 'подвергать': 1.0, 'создаваемый': 0.0, 'предупреждать': 0.5, 'Эксли': 1.0, 'завить': 0.0, 'задерживать': 0.0, 'готовиться': 1.0, 'передавать': 0.4, 'отделываться': 0.0, 'опровергать': 1.0, 'подчеркивать': 0.2857142857142857, 'неисключать': 0.0, 'составлять': 1.0, 'настаивать': 0.35714285714285715, 'обжаловать': 0.7142857142857143, 'называть': 0.6666666666666666, 'затрудняться': 0.0, 'давать': 0.5, 'проверять': 0.0, 'подсудимый': 0.25, 'Зозуть': 0.0, 'потребовать': 1.0, 'помещать': 1.0, 'выходить': 0.0, 'решать': 1.0, 'оставаться': 0.0, 'участвовать': 0.5, 'уверять': 1.0, 'пропадать': 0.0, 'отмечать': 0.36363636363636365, 'иметь': 0.5, 'отвечать': 0.5, 'оказывать': 1.0, 'обвинять': 0.0, 'становиться': 0.0, 'вернуться': 1.0, 'находиться': 0.25, 'расценивать': 0.0, 'обсуждать': 0.0, 'направляться': 0.0, 'добавлять': 0.16666666666666666, 'арестовывать': 0.0, 'возыметь': 0.0, 'стремиться': 1.0, 'сдавать': 0.0, 'содержаться': 0.5, 'настраивать': 0.0, 'узнавать': 1.0, 'характеризовать': 0.0, 'отстоять': 0.0, 'приводить': 0.0, 'разъяснять': 1.0, 'праздновать': 1.0, 'присутствовать': 1.0, 'предупредить': 0.5, 'сказать': 0.14285714285714285, 'просить': 0.3, 'появляться': 0.5, 'потерпевшая': 0.0, 'решаться': 1.0, 'вести': 1.0, 'Юшинутверждал': 0.0, 'понесать': 1.0, 'Скакел': 0.0, 'оспорить': 1.0, 'ссылаться': 0.0, 'Хэрриет': 0.0, 'ставить': 1.0, 'возбуждать': 1.0, 'готовить': 0.75, 'высказывать': 0.0, 'ужепредложивать': 0.0, 'переносить': 1.0, 'отвергать': 1.0, 'излагать': 0.0, 'пытаться': 0.6, 'перекладывать': 1.0, 'Розан': 0.0, 'указывать': 0.5, 'прибывать': 0.0, 'добиваться': 0.6666666666666666, 'помогать': 0.0, 'погибать': 0.8, 'разрешать': 0.0, 'идти': 0.0, 'выполнять': 1.0, 'проводить': 0.5, 'знакомиться': 0.0, 'закончить': 0.0, 'предъявлять': 1.0, 'ознакомляться': 0.0, 'разговаривать': 0.0, 'рассказывать': 1.0, 'подготавливать': 0.0, 'доказывать': 0.0, 'арестовать': 0.0, 'брать': 1.0, 'отстранить': 1.0, 'раскрывать': 1.0, 'приостанавливать': 1.0, 'выяснять': 0.0, 'получать': 0.3333333333333333, 'прекращать': 0.0, 'мочь': 0.8, 'отрицать': 0.0, 'понадобиться': 1.0, 'действовать': 0.5, 'возбудить': 0.0, 'вменять': 0.0, 'присваивать': 0.0, 'дожидаться': 1.0, 'являться': 0.0, 'затребовавать': 0.0, 'инкриминировать': 1.0, 'разморозить': 0.0, 'ходатайствовать': 0.5, 'обеспокоить': 1.0, 'подследственный': 0.0, 'выигрывать': 1.0, 'начало': 1.0, 'объявлять': 0.5, 'приходиться': 0.0, 'договариваться': 1.0, 'продлить': 1.0, 'амнистировать': 0.0, 'стать': 0.0, 'рассматривать': 0.0, 'рекомендовать': 1.0, 'жить': 1.0, 'изменять': 1.0, 'стараться': 0.0, 'убеждать': 1.0, 'объяснять': 0.5, 'исключать': 1.0, 'оказываться': 0.5, 'направлять': 0.75, 'расплачиваться': 1.0, 'выдавать': 0.0, 'ждать': 0.0, 'организовывать': 1.0, 'уточнять': 1.0, 'выражать': 0.5, 'затребовать': 0.0, 'отменять': 1.0, 'учитывать': 0.0, 'видеть': 0.0, 'основывать': 0.0, 'осуждать': 0.0, 'подчеркнуть': 0.0, 'замечать': 0.0, 'сомневаться': 0.0, 'интересовать': 1.0, 'подать': 0.0, 'отстаивать': 0.0, 'успевать': 1.0, 'высказываться': 0.0, 'напоминать': 0.0, 'освобождать': 1.0, 'отдавать': 0.0, 'обосновывать': 0.0, 'выделять': 1.0, 'обращать': 0.3333333333333333, 'нуждаться': 0.0, 'приговорять': 0.0, 'предписываться': 1.0, 'изложить': 1.0, 'оспаривать': 0.0, 'Хартли': 0.0, 'постановлять': 1.0, 'специализируться': 0.0, 'назначать': 0.0, 'заявить': 0.0, 'надеяться': 0.0, 'спросить': 0.0, 'отправляться': 1.0, 'усматривать': 0.0, 'начинать': 0.0, 'отменить': 0.0, 'предполагать': 0.0, 'признать': 0.0, 'допрос': 1.0, 'нанять': 0.0, 'состояться': 0.0, 'менять': 0.0, 'отказываться': 0.5, 'приносить': 1.0, 'пропускать': 1.0, 'пускать': 0.0, 'склонить': 1.0, 'оставлять': 1.0, 'встречаться': 1.0, 'Яртый': 1.0, 'продолжать': 0.0, 'требоваться': 1.0, 'ожидать': 1.0, 'предоставлять': 1.0, 'вылетать': 0.0, 'Бредли': 0.0, 'разгораться': 0.0, 'мотивировывать': 0.0, 'придумать': 0.0, 'Сери': 0.0, 'допускать': 1.0, 'Джим': 1.0}\n"
          ],
          "name": "stdout"
        }
      ]
    },
    {
      "cell_type": "code",
      "metadata": {
        "colab": {
          "base_uri": "https://localhost:8080/"
        },
        "id": "8noqKyMhaHHU",
        "outputId": "001aaaf9-dbd9-4697-d34c-349546baf142"
      },
      "source": [
        "result = {}\n",
        "for word, lis in diff.items():\n",
        "  #print(type(lis))\n",
        "  for w, l in Mat_oj.items():\n",
        "    if word == w:\n",
        "      d=0\n",
        "      if len(lis) == 1:\n",
        "        pass\n",
        "      else:\n",
        "        for i in lis:\n",
        "          x = (i-l)**2\n",
        "          d += x\n",
        "        #print(d)\n",
        "        res = d/(len(lis)-1)\n",
        "        result[word] = res\n",
        "\n",
        "sorted_dict = {}\n",
        "sorted_keys = sorted(result, key=result.get)  # [1, 3, 2]\n",
        "\n",
        "for w in sorted_keys:\n",
        "    sorted_dict[w] = result[w]\n",
        "\n",
        "print(sorted_dict)\n",
        "#print(result)"
      ],
      "execution_count": 624,
      "outputs": [
        {
          "output_type": "stream",
          "text": [
            "{'пояснять': 0.0, 'призывать': 0.0, 'иметься': 0.0, 'выступать': 0.0, 'признавать': 0.0, 'подтверждать': 0.0, 'говорить': 0.0, 'задерживать': 0.0, 'готовиться': 0.0, 'опровергать': 0.0, 'Зозуть': 0.0, 'решать': 0.0, 'оставаться': 0.0, 'уверять': 0.0, 'обвинять': 0.0, 'становиться': 0.0, 'арестовывать': 0.0, 'потерпевшая': 0.0, 'ссылаться': 0.0, 'высказывать': 0.0, 'отвергать': 0.0, 'предъявлять': 0.0, 'ознакомляться': 0.0, 'рассказывать': 0.0, 'прекращать': 0.0, 'являться': 0.0, 'начало': 0.0, 'договариваться': 0.0, 'рассматривать': 0.0, 'изменять': 0.0, 'убеждать': 0.0, 'исключать': 0.0, 'осуждать': 0.0, 'замечать': 0.0, 'интересовать': 0.0, 'успевать': 0.0, 'признать': 0.0, 'требовать': 0.1111111111111111, 'сказать': 0.14285714285714288, 'рассчитывать': 0.16666666666666669, 'добавлять': 0.16666666666666669, 'считать': 0.1830065359477125, 'представлять': 0.19117647058823525, 'погибать': 0.20000000000000007, 'мочь': 0.20000000000000007, 'утверждать': 0.22105263157894733, 'просить': 0.23333333333333328, 'сообщать': 0.23655913978494614, 'подчеркивать': 0.23809523809523814, 'обжаловать': 0.23809523809523814, 'отмечать': 0.24242424242424246, 'настаивать': 0.2472527472527472, 'подавать': 0.25, 'защищать': 0.25, 'подсудимый': 0.25, 'находиться': 0.25, 'готовить': 0.25, 'направлять': 0.25, 'заявлять': 0.2540983606557377, 'называть': 0.2666666666666667, 'пытаться': 0.2666666666666667, 'получать': 0.2666666666666667, 'обращаться': 0.30000000000000004, 'передавать': 0.30000000000000004, 'иметь': 0.3333333333333333, 'объяснять': 0.3333333333333333, 'изучать': 0.33333333333333337, 'специализироваться': 0.33333333333333337, 'комментировать': 0.33333333333333337, 'делать': 0.33333333333333337, 'добиваться': 0.33333333333333337, 'обращать': 0.33333333333333337, 'предупреждать': 0.5, 'давать': 0.5, 'участвовать': 0.5, 'отвечать': 0.5, 'содержаться': 0.5, 'предупредить': 0.5, 'появляться': 0.5, 'указывать': 0.5, 'проводить': 0.5, 'действовать': 0.5, 'ходатайствовать': 0.5, 'объявлять': 0.5, 'оказываться': 0.5, 'выражать': 0.5, 'отказываться': 0.5}\n"
          ],
          "name": "stdout"
        }
      ]
    },
    {
      "cell_type": "markdown",
      "metadata": {
        "id": "TGhtut_Hnhi1"
      },
      "source": [
        "Результаты дисперсии третьего эксперимента"
      ]
    },
    {
      "cell_type": "code",
      "metadata": {
        "colab": {
          "base_uri": "https://localhost:8080/"
        },
        "id": "jTdNnfisnaXA",
        "outputId": "003be896-0fbd-4384-ba18-001b6a09f0c5"
      },
      "source": [
        "parsed_unlc=[]\n",
        "for sentence in unlc:\n",
        "  p_sent=[]\n",
        "  for i in sentence:\n",
        "    w=[]\n",
        "    w=i.split(sep=\"_\")\n",
        "    if re.match(r'_PUNCT_', m):\n",
        "      pass\n",
        "    else:\n",
        "      if len(w)<3:\n",
        "        if i not in sentence:\n",
        "          pass\n",
        "        else:\n",
        "          sentence.remove(i)\n",
        "      else:\n",
        "        p_sent.append(w[2])\n",
        "  parsed_unlc.append(p_sent)\n",
        "print(parsed_unlc[:10])"
      ],
      "execution_count": 625,
      "outputs": [
        {
          "output_type": "stream",
          "text": [
            "[['швейцарский', 'федеральный', 'прокурор', 'дель', 'Понти', 'заявлять', 'что', 'работать', 'на', 'шеф', 'разведывательный', 'служба', 'и', 'получать', '5,8', 'миллион', 'доллар', 'от', 'министерство', 'оборона', 'для', 'покупка', 'огромный', 'количество', 'оружие'], ['адвокат', 'Сед', 'заявлять', 'что', 'он', 'клиент', 'отвергать', 'этот', 'обвинение'], ['дель', 'Понти', 'недавно', 'становиться', 'прокурор', 'международный', 'по', 'военный', 'преступление', 'заявлять', 'что', 'дело', 'против', 'и', 'еще', 'трое', 'высокопоставленный', 'чиновник', 'закрывать'], ['федеральный', 'прокурор', 'добавлять', 'что', 'расследование', 'быть', 'продолжить', 'в', 'отношение', 'шеф', 'стратегический', 'информационный', 'служба', 'который', 'возникать', 'в', 'документ', 'по', 'дело'], ['бывший', 'генеральный', 'прокурор', 'юрий', 'считать', 'что', 'близкий', 'окружение', 'президент', 'пытаться', 'препятствовать', 'серьезный', 'расследование', 'ситуация', 'связывать', 'с', 'bank', 'of', 'new', 'york', 'через', 'который', 'отмываться', 'деньги', 'получать', 'от'], ['мой', 'адвокат', 'изучать', 'документ', 'чтобы', 'обращаться', 'в', 'суд'], ['сумма', 'возмещение', 'ущерб', 'по', 'иск', 'в', 'настоящий', 'времяопределяться', 'адвокат', 'и', 'юрист', 'заниматься', 'подготовкойисковый', 'заявление'], ['но', 'окружной', 'судья', 'решать', 'дело', 'в', 'польза', 'веб', '-издательствый', 'она', 'отвергать', 'требование', 'в', 'судебный', 'порядок', 'запрещать', 'публикация', 'секретный', 'документ', 'поскольку', 'такой', 'запрет', 'нарушать', 'бы', 'свобода', 'слово'], ['однако', 'судья', 'все', 'же', 'выносить', 'постановление', 'связывать', 'с', 'то', 'что', 'нарушать', 'копирайт', 'компания'], ['при', 'это', 'судья', 'добавлять', 'что', 'судебный', 'система', 'только', 'начинать', 'подходить', 'к', 'такой', 'сложный', 'вопрос', 'как', 'свобода', 'слово', 'и', 'защита', 'интеллектуальный', 'собственность', 'в']]\n"
          ],
          "name": "stdout"
        }
      ]
    },
    {
      "cell_type": "code",
      "metadata": {
        "colab": {
          "base_uri": "https://localhost:8080/"
        },
        "id": "XmlwN3_ayk_j",
        "outputId": "13f9d514-cdc0-4951-bf12-6f5feaa0566a"
      },
      "source": [
        "print(parsed_unlc[:10])"
      ],
      "execution_count": 626,
      "outputs": [
        {
          "output_type": "stream",
          "text": [
            "[['швейцарский', 'федеральный', 'прокурор', 'дель', 'Понти', 'заявлять', 'что', 'работать', 'на', 'шеф', 'разведывательный', 'служба', 'и', 'получать', '5,8', 'миллион', 'доллар', 'от', 'министерство', 'оборона', 'для', 'покупка', 'огромный', 'количество', 'оружие'], ['адвокат', 'Сед', 'заявлять', 'что', 'он', 'клиент', 'отвергать', 'этот', 'обвинение'], ['дель', 'Понти', 'недавно', 'становиться', 'прокурор', 'международный', 'по', 'военный', 'преступление', 'заявлять', 'что', 'дело', 'против', 'и', 'еще', 'трое', 'высокопоставленный', 'чиновник', 'закрывать'], ['федеральный', 'прокурор', 'добавлять', 'что', 'расследование', 'быть', 'продолжить', 'в', 'отношение', 'шеф', 'стратегический', 'информационный', 'служба', 'который', 'возникать', 'в', 'документ', 'по', 'дело'], ['бывший', 'генеральный', 'прокурор', 'юрий', 'считать', 'что', 'близкий', 'окружение', 'президент', 'пытаться', 'препятствовать', 'серьезный', 'расследование', 'ситуация', 'связывать', 'с', 'bank', 'of', 'new', 'york', 'через', 'который', 'отмываться', 'деньги', 'получать', 'от'], ['мой', 'адвокат', 'изучать', 'документ', 'чтобы', 'обращаться', 'в', 'суд'], ['сумма', 'возмещение', 'ущерб', 'по', 'иск', 'в', 'настоящий', 'времяопределяться', 'адвокат', 'и', 'юрист', 'заниматься', 'подготовкойисковый', 'заявление'], ['но', 'окружной', 'судья', 'решать', 'дело', 'в', 'польза', 'веб', '-издательствый', 'она', 'отвергать', 'требование', 'в', 'судебный', 'порядок', 'запрещать', 'публикация', 'секретный', 'документ', 'поскольку', 'такой', 'запрет', 'нарушать', 'бы', 'свобода', 'слово'], ['однако', 'судья', 'все', 'же', 'выносить', 'постановление', 'связывать', 'с', 'то', 'что', 'нарушать', 'копирайт', 'компания'], ['при', 'это', 'судья', 'добавлять', 'что', 'судебный', 'система', 'только', 'начинать', 'подходить', 'к', 'такой', 'сложный', 'вопрос', 'как', 'свобода', 'слово', 'и', 'защита', 'интеллектуальный', 'собственность', 'в']]\n"
          ],
          "name": "stdout"
        }
      ]
    },
    {
      "cell_type": "code",
      "metadata": {
        "colab": {
          "base_uri": "https://localhost:8080/"
        },
        "id": "s91gN2nkzCFU",
        "outputId": "524b453f-248a-4e21-c157-f5ffc938ada7"
      },
      "source": [
        "print(p_sent)"
      ],
      "execution_count": 627,
      "outputs": [
        {
          "output_type": "stream",
          "text": [
            "['адвокат', 'ан', 'надеяться', 'получать', 'искомый', 'сумма', 'с', 'заморозить', 'на', 'территория', 'счет', 'кубинский', 'правительство']\n"
          ],
          "name": "stdout"
        }
      ]
    },
    {
      "cell_type": "code",
      "metadata": {
        "id": "ymQf7PnqjrYd"
      },
      "source": [
        "import math"
      ],
      "execution_count": 42,
      "outputs": []
    },
    {
      "cell_type": "code",
      "metadata": {
        "colab": {
          "base_uri": "https://localhost:8080/"
        },
        "id": "iitO-XZbiHQR",
        "outputId": "aa1edf5f-31a5-4d33-93bf-7da5e23bb5ef"
      },
      "source": [
        "count=0\n",
        "for sentence in unlc:\n",
        "  count += len(sentence)\n",
        "print(count)"
      ],
      "execution_count": 629,
      "outputs": [
        {
          "output_type": "stream",
          "text": [
            "47843\n"
          ],
          "name": "stdout"
        }
      ]
    },
    {
      "cell_type": "code",
      "metadata": {
        "colab": {
          "base_uri": "https://localhost:8080/"
        },
        "id": "kViGL9RSL1iq",
        "outputId": "978780db-782d-4a38-a9ff-e6d0966bd549"
      },
      "source": [
        "spisok = []\n",
        "diff = {}\n",
        "b = {}\n",
        "for sentence in unlc:\n",
        "  for i in sentence:\n",
        "    if '_адвокат_' in i:\n",
        "      if i not in sentence:\n",
        "        pass\n",
        "      else:\n",
        "        n = sentence.index(i)\n",
        "        #print(n)\n",
        "        if i == sentence[-1]:\n",
        "          p = sentence[n-1]\n",
        "          big = p.split('_')\n",
        "          #print(big)\n",
        "          if len(big) < 4:\n",
        "            pass\n",
        "          else:\n",
        "            #print(big[3])\n",
        "            if big[3] == 'VERB':\n",
        "              spisok.append('адвокат '+big[2])\n",
        "            else:\n",
        "              pass\n",
        "            #print(spisok)\n",
        "        else:\n",
        "          m = sentence[n+1]\n",
        "          big = m.split('_')\n",
        "          if len(big) < 4:\n",
        "            pass\n",
        "          else:\n",
        "            if big[3] == 'VERB':\n",
        "              spisok.append('адвокат '+big[2])\n",
        "          if i == sentence[-2]:\n",
        "            pass\n",
        "          else:\n",
        "            o = sentence[n+2]\n",
        "            big = p.split('_')\n",
        "            if len(big) < 4:\n",
        "               pass\n",
        "            else:\n",
        "              if big[3] == 'VERB':\n",
        "                spisok.append('адвокат '+big[2])\n",
        "            if i == sentence[-1]:\n",
        "              pass\n",
        "print(spisok)\n",
        "for i in spisok:\n",
        "  freq_b = 1\n",
        "  big = i.split(' ')[1]\n",
        "  for sentence in parsed_unlc:\n",
        "    for i in sentence:\n",
        "      if i == big:\n",
        "      #print(sentence)\n",
        "        freq_b += 1\n",
        "  b[big] = freq_b\n",
        "for i in spisok:\n",
        "  if i in diff.keys():\n",
        "    for w, l in diff.items():\n",
        "      diff[i] = l+1\n",
        "  else:\n",
        "    diff[i] = 1\n",
        "print(diff)\n",
        "freq_a=0\n",
        "for sentence in parsed_unlc:\n",
        "  for i in sentence:\n",
        "    if i == 'адвокат':\n",
        "      #print(sentence)\n",
        "      freq_a += 1\n",
        "print(freq_a)\n",
        "  #print(big, freq_b)"
      ],
      "execution_count": 630,
      "outputs": [
        {
          "output_type": "stream",
          "text": [
            "['адвокат изучать', 'адвокат считать', 'адвокат специализироваться', 'адвокат заявлять', 'адвокат считать', 'адвокат пояснять', 'адвокат утверждать', 'адвокат призывать', 'адвокат мотивировать', 'адвокат комментировать', 'адвокат утверждать', 'адвокат сообщать', 'адвокат сообщать', 'адвокат считать', 'адвокат нанимать', 'адвокат иметься', 'адвокат нанимать', 'адвокат нанимать', 'адвокат представлять', 'адвокат нанимать', 'адвокат Стэнли', 'адвокат пойти', 'адвокат нанимать', 'адвокат заявлять', 'адвокат заявлять', 'адвокат заявлять', 'адвокат заявлять', 'адвокат заявлять', 'адвокат выступать', 'адвокат заявлять', 'адвокат утверждать', 'адвокат заявлять', 'адвокат заявлять', 'адвокат сохраняться', 'адвокат заявлять', 'адвокат заявлять', 'адвокат заявлять', 'адвокат заявлять', 'адвокат заявлять', 'адвокат возглавлять', 'адвокат заявлять', 'адвокат заявлять', 'адвокат рассчитывать', 'адвокат защищать', 'адвокат представлять', 'адвокат требовать', 'адвокат специализироваться', 'адвокат говорить', 'адвокат обращаться', 'адвокат обращаться', 'адвокат обращаться', 'адвокат утверждать', 'адвокат обращаться', 'адвокат обращаться', 'адвокат создаваемый', 'адвокат обращаться', 'адвокат предупреждать', 'адвокат завить', 'адвокат задерживать', 'адвокат сообщать', 'адвокат утверждать', 'адвокат передавать', 'адвокат отделываться', 'адвокат сообщать', 'адвокат подчеркивать', 'адвокат неисключать', 'адвокат называть', 'адвокат заявлять', 'адвокат затрудняться', 'адвокат заявлять', 'адвокат проверять', 'адвокат подсудимый', 'адвокат Зозуть', 'адвокат выходить', 'адвокат выступать', 'адвокат представлять', 'адвокат заявлять', 'адвокат настаивать', 'адвокат оставаться', 'адвокат пропадать', 'адвокат отмечать', 'адвокат иметь', 'адвокат требовать', 'адвокат заявлять', 'адвокат требовать', 'адвокат обвинять', 'адвокат представлять', 'адвокат считать', 'адвокат пояснять', 'адвокат становиться', 'адвокат находиться', 'адвокат расценивать', 'адвокат обсуждать', 'адвокат направляться', 'адвокат добавлять', 'адвокат арестовывать', 'адвокат добавлять', 'адвокат добавлять', 'адвокат представлять', 'адвокат добавлять', 'адвокат добавлять', 'адвокат возыметь', 'адвокат добавлять', 'адвокат арестовывать', 'адвокат добавлять', 'адвокат добавлять', 'адвокат добавлять', 'адвокат добавлять', 'адвокат добавлять', 'адвокат сдавать', 'адвокат добавлять', 'адвокат добавлять', 'адвокат добавлять', 'адвокат содержаться', 'адвокат добавлять', 'адвокат добавлять', 'адвокат настраивать', 'адвокат добавлять', 'адвокат добавлять', 'адвокат добавлять', 'адвокат добавлять', 'адвокат находиться', 'адвокат передавать', 'адвокат характеризовать', 'адвокат находиться', 'адвокат находиться', 'адвокат находиться', 'адвокат находиться', 'адвокат находиться', 'адвокат отстоять', 'адвокат находиться', 'адвокат находиться', 'адвокат приводить', 'адвокат находиться', 'адвокат находиться', 'адвокат находиться', 'адвокат находиться', 'адвокат заявлять', 'адвокат находиться', 'адвокат находиться', 'адвокат находиться', 'адвокат находиться', 'адвокат находиться', 'адвокат находиться', 'адвокат отмечать', 'адвокат предупредить', 'адвокат подавать', 'адвокат выступать', 'адвокат выступать', 'адвокат выступать', 'адвокат выступать', 'адвокат выступать', 'адвокат добавлять', 'адвокат сказать', 'адвокат просить', 'адвокат сказать', 'адвокат сказать', 'адвокат потерпевшая', 'адвокат сказать', 'адвокат сказать', 'адвокат называть', 'адвокат сказать', 'адвокат заявлять', 'адвокат сказать', 'адвокат сказать', 'адвокат сказать', 'адвокат сказать', 'адвокат сказать', 'адвокат сказать', 'адвокат сказать', 'адвокат сказать', 'адвокат сказать', 'адвокат сказать', 'адвокат сказать', 'адвокат считать', 'адвокат считать', 'адвокат Юшинутверждал', 'адвокат считать', 'адвокат считать', 'адвокат считать', 'адвокат заявлять', 'адвокат Скакел', 'адвокат заявлять', 'адвокат заявлять', 'адвокат настаивать', 'адвокат заявлять', 'адвокат заявлять', 'адвокат заявлять', 'адвокат заявлять', 'адвокат заявлять', 'адвокат ссылаться', 'адвокат заявлять', 'адвокат заявлять', 'адвокат заявлять', 'адвокат заявлять', 'адвокат пояснять', 'адвокат добавлять', 'адвокат пояснять', 'адвокат Хэрриет', 'адвокат обжаловать', 'адвокат настаивать', 'адвокат настаивать', 'адвокат высказывать', 'адвокат ужепредложивать', 'адвокат излагать', 'адвокат обжаловать', 'адвокат сказать', 'адвокат пытаться', 'адвокат Розан', 'адвокат появляться', 'адвокат заявлять', 'адвокат указывать', 'адвокат указывать', 'адвокат прибывать', 'адвокат указывать', 'адвокат указывать', 'адвокат указывать', 'адвокат указывать', 'адвокат указывать', 'адвокат указывать', 'адвокат указывать', 'адвокат иметь', 'адвокат указывать', 'адвокат указывать', 'адвокат помогать', 'адвокат помогать', 'адвокат говорить', 'адвокат говорить', 'адвокат говорить', 'адвокат разрешать', 'адвокат говорить', 'адвокат говорить', 'адвокат настаивать', 'адвокат говорить', 'адвокат говорить', 'адвокат говорить', 'адвокат говорить', 'адвокат идти', 'адвокат говорить', 'адвокат говорить', 'адвокат заявлять', 'адвокат заявлять', 'адвокат заявлять', 'адвокат заявлять', 'адвокат проводить', 'адвокат заявлять', 'адвокат просить', 'адвокат заявлять', 'адвокат заявлять', 'адвокат заявлять', 'адвокат заявлять', 'адвокат заявлять', 'адвокат заявлять', 'адвокат заявлять', 'адвокат заявлять', 'адвокат заявлять', 'адвокат задерживать', 'адвокат заявлять', 'адвокат заявлять', 'адвокат заявлять', 'адвокат заявлять', 'адвокат знакомиться', 'адвокат заявлять', 'адвокат закончить', 'адвокат заявлять', 'адвокат заявлять', 'адвокат ознакомляться', 'адвокат заявлять', 'адвокат заявлять', 'адвокат заявлять', 'адвокат сообщать', 'адвокат заявлять', 'адвокат отмечать', 'адвокат отмечать', 'адвокат разговаривать', 'адвокат отмечать', 'адвокат отмечать', 'адвокат отмечать', 'адвокат добиваться', 'адвокат считать', 'адвокат заявлять', 'адвокат обвинять', 'адвокат сообщать', 'адвокат подготавливать', 'адвокат сообщать', 'адвокат доказывать', 'адвокат давать', 'адвокат выступать', 'адвокат арестовать', 'адвокат арестовать', 'адвокат арестовать', 'адвокат арестовать', 'адвокат арестовать', 'адвокат арестовать', 'адвокат арестовать', 'адвокат арестовать', 'адвокат арестовать', 'адвокат находиться', 'адвокат арестовать', 'адвокат заявлять', 'адвокат арестовать', 'адвокат арестовать', 'адвокат выяснять', 'адвокат получать', 'адвокат прекращать', 'адвокат отрицать', 'адвокат подсудимый', 'адвокат сообщать', 'адвокат мочь', 'адвокат заявлять', 'адвокат утверждать', 'адвокат утверждать', 'адвокат действовать', 'адвокат утверждать', 'адвокат утверждать', 'адвокат требовать', 'адвокат утверждать', 'адвокат сообщать', 'адвокат утверждать', 'адвокат утверждать', 'адвокат утверждать', 'адвокат утверждать', 'адвокат утверждать', 'адвокат возбудить', 'адвокат утверждать', 'адвокат вменять', 'адвокат утверждать', 'адвокат присваивать', 'адвокат утверждать', 'адвокат утверждать', 'адвокат представлять', 'адвокат являться', 'адвокат затребовавать', 'адвокат утверждать', 'адвокат разморозить', 'адвокат утверждать', 'адвокат утверждать', 'адвокат утверждать', 'адвокат утверждать', 'адвокат утверждать', 'адвокат утверждать', 'адвокат заявлять', 'адвокат утверждать', 'адвокат просить', 'адвокат ознакомляться', 'адвокат становиться', 'адвокат отмечать', 'адвокат подследственный', 'адвокат считать', 'адвокат заявлять', 'адвокат представлять', 'адвокат делать', 'адвокат требовать', 'адвокат заявлять', 'адвокат заявлять', 'адвокат представлять', 'адвокат заявлять', 'адвокат представлять', 'адвокат пытаться', 'адвокат считать', 'адвокат считать', 'адвокат считать', 'адвокат приходиться', 'адвокат считать', 'адвокат считать', 'адвокат считать', 'адвокат считать', 'адвокат считать', 'адвокат считать', 'адвокат заявлять', 'адвокат считать', 'адвокат считать', 'адвокат подавать', 'адвокат считать', 'адвокат считать', 'адвокат считать', 'адвокат амнистировать', 'адвокат считать', 'адвокат считать', 'адвокат считать', 'адвокат считать', 'адвокат стать', 'адвокат считать', 'адвокат рассматривать', 'адвокат считать', 'адвокат выступать', 'адвокат считать', 'адвокат считать', 'адвокат считать', 'адвокат считать', 'адвокат считать', 'адвокат защищать', 'адвокат считать', 'адвокат настаивать', 'адвокат подчеркивать', 'адвокат подчеркивать', 'адвокат подчеркивать', 'адвокат подчеркивать', 'адвокат подчеркивать', 'адвокат изучать', 'адвокат подчеркивать', 'адвокат подчеркивать', 'адвокат считать', 'адвокат подчеркивать', 'адвокат Зозуть', 'адвокат подчеркивать', 'адвокат подчеркивать', 'адвокат подчеркивать', 'адвокат призывать', 'адвокат подчеркивать', 'адвокат подчеркивать', 'адвокат иметься', 'адвокат подчеркивать', 'адвокат подчеркивать', 'адвокат сказать', 'адвокат высказывать', 'адвокат сказать', 'адвокат сказать', 'адвокат сказать', 'адвокат рассчитывать', 'адвокат сказать', 'адвокат сказать', 'адвокат настаивать', 'адвокат сказать', 'адвокат сказать', 'адвокат сказать', 'адвокат сказать', 'адвокат сказать', 'адвокат сказать', 'адвокат сказать', 'адвокат сказать', 'адвокат сказать', 'адвокат сказать', 'адвокат объявлять', 'адвокат сказать', 'адвокат сказать', 'адвокат сказать', 'адвокат обвинять', 'адвокат сказать', 'адвокат сказать', 'адвокат сказать', 'адвокат стараться', 'адвокат сказать', 'адвокат получать', 'адвокат сказать', 'адвокат сказать', 'адвокат сказать', 'адвокат сказать', 'адвокат сказать', 'адвокат сказать', 'адвокат сказать', 'адвокат сказать', 'адвокат сказать', 'адвокат сказать', 'адвокат сказать', 'адвокат сказать', 'адвокат сказать', 'адвокат сказать', 'адвокат отмечать', 'адвокат сказать', 'адвокат сказать', 'адвокат сказать', 'адвокат сказать', 'адвокат сказать', 'адвокат сказать', 'адвокат сказать', 'адвокат сказать', 'адвокат отмечать', 'адвокат передавать', 'адвокат отмечать', 'адвокат отмечать', 'адвокат отмечать', 'адвокат отмечать', 'адвокат отмечать', 'адвокат выдавать', 'адвокат отмечать', 'адвокат отмечать', 'адвокат ждать', 'адвокат отмечать', 'адвокат отмечать', 'адвокат отмечать', 'адвокат отмечать', 'адвокат отмечать', 'адвокат отмечать', 'адвокат отмечать', 'адвокат отмечать', 'адвокат отмечать', 'адвокат отмечать', 'адвокат отмечать', 'адвокат выражать', 'адвокат отмечать', 'адвокат затребовать', 'адвокат рассчитывать', 'адвокат просить', 'адвокат учитывать', 'адвокат подчеркивать', 'адвокат подчеркивать', 'адвокат подчеркивать', 'адвокат подчеркивать', 'адвокат видеть', 'адвокат подчеркивать', 'адвокат подчеркивать', 'адвокат основывать', 'адвокат подчеркивать', 'адвокат подчеркивать', 'адвокат подчеркивать', 'адвокат подчеркивать', 'адвокат направлять', 'адвокат осуждать', 'адвокат погибать', 'адвокат подчеркнуть', 'адвокат замечать', 'адвокат сказать', 'адвокат замечать', 'адвокат заявлять', 'адвокат замечать', 'адвокат сомневаться', 'адвокат замечать', 'адвокат замечать', 'адвокат замечать', 'адвокат рассчитывать', 'адвокат замечать', 'адвокат замечать', 'адвокат замечать', 'адвокат замечать', 'адвокат замечать', 'адвокат замечать', 'адвокат пытаться', 'адвокат замечать', 'адвокат подать', 'адвокат подать', 'адвокат подать', 'адвокат подать', 'адвокат подать', 'адвокат подать', 'адвокат представлять', 'адвокат подать', 'адвокат подчеркивать', 'адвокат отстаивать', 'адвокат подчеркивать', 'адвокат отмечать', 'адвокат получать', 'адвокат заявлять', 'адвокат высказываться', 'адвокат напоминать', 'адвокат замечать', 'адвокат ходатайствовать', 'адвокат отдавать', 'адвокат обосновывать', 'адвокат готовить', 'адвокат заявлять', 'адвокат подсудимый', 'адвокат оказываться', 'адвокат являться', 'адвокат обращать', 'адвокат сказать', 'адвокат сказать', 'адвокат сказать', 'адвокат нуждаться', 'адвокат сказать', 'адвокат добавлять', 'адвокат сказать', 'адвокат отмечать', 'адвокат отмечать', 'адвокат отмечать', 'адвокат утверждать', 'адвокат отмечать', 'адвокат утверждать', 'адвокат отмечать', 'адвокат отмечать', 'адвокат требовать', 'адвокат отмечать', 'адвокат отмечать', 'адвокат отмечать', 'адвокат отмечать', 'адвокат отмечать', 'адвокат отмечать', 'адвокат утверждать', 'адвокат отмечать', 'адвокат отмечать', 'адвокат отмечать', 'адвокат приговорять', 'адвокат отмечать', 'адвокат отмечать', 'адвокат арестовывать', 'адвокат отмечать', 'адвокат отмечать', 'адвокат представлять', 'адвокат отмечать', 'адвокат требовать', 'адвокат отмечать', 'адвокат отмечать', 'адвокат отмечать', 'адвокат отмечать', 'адвокат отмечать', 'адвокат отмечать', 'адвокат настаивать', 'адвокат отмечать', 'адвокат отмечать', 'адвокат оспаривать', 'адвокат отмечать', 'адвокат Хартли', 'адвокат отмечать', 'адвокат специализируться', 'адвокат представлять', 'адвокат назначать', 'адвокат сообщать', 'адвокат заявлять', 'адвокат заявить', 'адвокат защищать', 'адвокат подавать', 'адвокат утверждать', 'адвокат надеяться', 'адвокат спросить', 'адвокат усматривать', 'адвокат сообщать', 'адвокат начинать', 'адвокат обращаться', 'адвокат говорить', 'адвокат сказать', 'адвокат прекращать', 'адвокат отменить', 'адвокат предполагать', 'адвокат признать', 'адвокат сообщать', 'адвокат отмечать', 'адвокат отмечать', 'адвокат отмечать', 'адвокат отмечать', 'адвокат отмечать', 'адвокат отмечать', 'адвокат нанять', 'адвокат заявлять', 'адвокат отмечать', 'адвокат отмечать', 'адвокат отмечать', 'адвокат отмечать', 'адвокат состояться', 'адвокат отмечать', 'адвокат менять', 'адвокат менять', 'адвокат заявлять', 'адвокат менять', 'адвокат добавлять', 'адвокат менять', 'адвокат менять', 'адвокат менять', 'адвокат отмечать', 'адвокат менять', 'адвокат менять', 'адвокат менять', 'адвокат отмечать', 'адвокат обращать', 'адвокат заявлять', 'адвокат подавать', 'адвокат ссылаться', 'адвокат сообщать', 'адвокат осуждать', 'адвокат просить', 'адвокат пояснять', 'адвокат пускать', 'адвокат пускать', 'адвокат сообщать', 'адвокат сообщать', 'адвокат оставаться', 'адвокат сообщать', 'адвокат сообщать', 'адвокат выступать', 'адвокат сообщать', 'адвокат считать', 'адвокат сообщать', 'адвокат сообщать', 'адвокат сообщать', 'адвокат пытаться', 'адвокат сообщать', 'адвокат участвовать', 'адвокат объяснять', 'адвокат сообщать', 'адвокат сообщать', 'адвокат сообщать', 'адвокат сообщать', 'адвокат рассчитывать', 'адвокат сообщать', 'адвокат продолжать', 'адвокат просить', 'адвокат считать', 'адвокат осуждать', 'адвокат получать', 'адвокат настаивать', 'адвокат подавать', 'адвокат сообщать', 'адвокат отмечать', 'адвокат отмечать', 'адвокат отмечать', 'адвокат отмечать', 'адвокат отмечать', 'адвокат отмечать', 'адвокат требовать', 'адвокат сообщать', 'адвокат вылетать', 'адвокат отвечать', 'адвокат заявлять', 'адвокат Бредли', 'адвокат заявлять', 'адвокат заявлять', 'адвокат заявлять', 'адвокат заявлять', 'адвокат заявлять', 'адвокат заявлять', 'адвокат просить', 'адвокат заявлять', 'адвокат заявлять', 'адвокат заявлять', 'адвокат заявлять', 'адвокат заявлять', 'адвокат заявлять', 'адвокат заявлять', 'адвокат разгораться', 'адвокат заявлять', 'адвокат заявлять', 'адвокат заявлять', 'адвокат заявлять', 'адвокат заявлять', 'адвокат заявлять', 'адвокат представлять', 'адвокат рассматривать', 'адвокат утверждать', 'адвокат утверждать', 'адвокат объяснять', 'адвокат утверждать', 'адвокат утверждать', 'адвокат обвинять', 'адвокат утверждать', 'адвокат утверждать', 'адвокат утверждать', 'адвокат утверждать', 'адвокат отказываться', 'адвокат утверждать', 'адвокат утверждать', 'адвокат утверждать', 'адвокат утверждать', 'адвокат мотивировывать', 'адвокат утверждать', 'адвокат утверждать', 'адвокат утверждать', 'адвокат придумать', 'адвокат утверждать', 'адвокат утверждать', 'адвокат Сери', 'адвокат утверждать', 'адвокат утверждать', 'адвокат утверждать', 'адвокат утверждать', 'адвокат признать', 'адвокат утверждать', 'адвокат сообщать', 'адвокат сообщать', 'адвокат считать', 'адвокат сообщать', 'адвокат потерпевшая', 'адвокат сообщать', 'адвокат сообщать', 'адвокат сообщать', 'адвокат сообщать', 'адвокат подавать', 'адвокат сообщать', 'адвокат сообщать', 'адвокат отмечать', 'адвокат подчеркивать']\n",
            "{'адвокат изучать': 2, 'адвокат считать': 2, 'адвокат специализироваться': 2, 'адвокат заявлять': 2, 'адвокат пояснять': 4, 'адвокат утверждать': 2, 'адвокат призывать': 2, 'адвокат мотивировать': 1, 'адвокат комментировать': 1, 'адвокат сообщать': 2, 'адвокат нанимать': 2, 'адвокат иметься': 2, 'адвокат представлять': 2, 'адвокат Стэнли': 1, 'адвокат пойти': 1, 'адвокат выступать': 6, 'адвокат сохраняться': 1, 'адвокат возглавлять': 1, 'адвокат рассчитывать': 2, 'адвокат защищать': 2, 'адвокат требовать': 2, 'адвокат говорить': 2, 'адвокат обращаться': 2, 'адвокат создаваемый': 1, 'адвокат предупреждать': 1, 'адвокат завить': 1, 'адвокат задерживать': 2, 'адвокат передавать': 2, 'адвокат отделываться': 1, 'адвокат подчеркивать': 2, 'адвокат неисключать': 1, 'адвокат называть': 2, 'адвокат затрудняться': 1, 'адвокат проверять': 1, 'адвокат подсудимый': 2, 'адвокат Зозуть': 2, 'адвокат выходить': 1, 'адвокат настаивать': 2, 'адвокат оставаться': 6, 'адвокат пропадать': 1, 'адвокат отмечать': 2, 'адвокат иметь': 2, 'адвокат обвинять': 2, 'адвокат становиться': 2, 'адвокат находиться': 4, 'адвокат расценивать': 1, 'адвокат обсуждать': 1, 'адвокат направляться': 1, 'адвокат добавлять': 4, 'адвокат арестовывать': 2, 'адвокат возыметь': 1, 'адвокат сдавать': 1, 'адвокат содержаться': 1, 'адвокат настраивать': 1, 'адвокат характеризовать': 1, 'адвокат отстоять': 1, 'адвокат приводить': 1, 'адвокат предупредить': 1, 'адвокат подавать': 2, 'адвокат сказать': 2, 'адвокат просить': 2, 'адвокат потерпевшая': 2, 'адвокат Юшинутверждал': 1, 'адвокат Скакел': 1, 'адвокат ссылаться': 4, 'адвокат Хэрриет': 1, 'адвокат обжаловать': 2, 'адвокат высказывать': 2, 'адвокат ужепредложивать': 1, 'адвокат излагать': 1, 'адвокат пытаться': 6, 'адвокат Розан': 1, 'адвокат появляться': 1, 'адвокат указывать': 2, 'адвокат прибывать': 1, 'адвокат помогать': 3, 'адвокат разрешать': 1, 'адвокат идти': 1, 'адвокат проводить': 1, 'адвокат знакомиться': 1, 'адвокат закончить': 1, 'адвокат ознакомляться': 2, 'адвокат разговаривать': 1, 'адвокат добиваться': 1, 'адвокат подготавливать': 1, 'адвокат доказывать': 1, 'адвокат давать': 1, 'адвокат арестовать': 3, 'адвокат выяснять': 1, 'адвокат получать': 2, 'адвокат прекращать': 2, 'адвокат отрицать': 1, 'адвокат мочь': 1, 'адвокат действовать': 1, 'адвокат возбудить': 1, 'адвокат вменять': 1, 'адвокат присваивать': 1, 'адвокат являться': 2, 'адвокат затребовавать': 1, 'адвокат разморозить': 1, 'адвокат подследственный': 1, 'адвокат делать': 1, 'адвокат приходиться': 1, 'адвокат амнистировать': 1, 'адвокат стать': 1, 'адвокат рассматривать': 2, 'адвокат объявлять': 1, 'адвокат стараться': 1, 'адвокат выдавать': 1, 'адвокат ждать': 1, 'адвокат выражать': 1, 'адвокат затребовать': 1, 'адвокат учитывать': 1, 'адвокат видеть': 1, 'адвокат основывать': 1, 'адвокат направлять': 1, 'адвокат осуждать': 2, 'адвокат погибать': 1, 'адвокат подчеркнуть': 1, 'адвокат замечать': 2, 'адвокат сомневаться': 1, 'адвокат подать': 3, 'адвокат отстаивать': 1, 'адвокат высказываться': 1, 'адвокат напоминать': 1, 'адвокат ходатайствовать': 1, 'адвокат отдавать': 1, 'адвокат обосновывать': 1, 'адвокат готовить': 1, 'адвокат оказываться': 1, 'адвокат обращать': 4, 'адвокат нуждаться': 1, 'адвокат приговорять': 1, 'адвокат оспаривать': 1, 'адвокат Хартли': 1, 'адвокат специализируться': 1, 'адвокат назначать': 1, 'адвокат заявить': 1, 'адвокат надеяться': 1, 'адвокат спросить': 1, 'адвокат усматривать': 1, 'адвокат начинать': 1, 'адвокат отменить': 1, 'адвокат предполагать': 1, 'адвокат признать': 2, 'адвокат нанять': 1, 'адвокат состояться': 1, 'адвокат менять': 3, 'адвокат пускать': 5, 'адвокат участвовать': 1, 'адвокат объяснять': 2, 'адвокат продолжать': 1, 'адвокат вылетать': 1, 'адвокат отвечать': 1, 'адвокат Бредли': 1, 'адвокат разгораться': 1, 'адвокат отказываться': 1, 'адвокат мотивировывать': 1, 'адвокат придумать': 1, 'адвокат Сери': 1}\n",
            "1220\n"
          ],
          "name": "stdout"
        }
      ]
    },
    {
      "cell_type": "code",
      "metadata": {
        "colab": {
          "base_uri": "https://localhost:8080/"
        },
        "id": "h_sEez01LABZ",
        "outputId": "1900589c-dbe3-4aa1-b40e-dc9360fe0742"
      },
      "source": [
        "print(b)"
      ],
      "execution_count": 631,
      "outputs": [
        {
          "output_type": "stream",
          "text": [
            "{'изучать': 13, 'считать': 83, 'специализироваться': 4, 'заявлять': 287, 'пояснять': 25, 'утверждать': 45, 'призывать': 13, 'мотивировать': 7, 'комментировать': 15, 'сообщать': 429, 'нанимать': 9, 'иметься': 11, 'представлять': 71, 'Стэнли': 2, 'пойти': 6, 'выступать': 38, 'сохраняться': 4, 'возглавлять': 14, 'рассчитывать': 13, 'защищать': 15, 'требовать': 60, 'говорить': 46, 'обращаться': 46, 'создаваемый': 2, 'предупреждать': 3, 'завить': 2, 'задерживать': 30, 'передавать': 99, 'отделываться': 2, 'подчеркивать': 30, 'неисключать': 2, 'называть': 29, 'затрудняться': 2, 'проверять': 9, 'подсудимый': 31, 'Зозуть': 3, 'выходить': 14, 'настаивать': 34, 'оставаться': 23, 'пропадать': 3, 'отмечать': 87, 'иметь': 53, 'обвинять': 60, 'становиться': 36, 'находиться': 62, 'расценивать': 5, 'обсуждать': 7, 'направляться': 3, 'добавлять': 18, 'арестовывать': 24, 'возыметь': 2, 'сдавать': 3, 'содержаться': 10, 'настраивать': 4, 'характеризовать': 2, 'отстоять': 2, 'приводить': 17, 'предупредить': 3, 'подавать': 87, 'сказать': 59, 'просить': 42, 'потерпевшая': 4, 'Юшинутверждал': 2, 'Скакел': 3, 'ссылаться': 13, 'Хэрриет': 2, 'обжаловать': 35, 'высказывать': 8, 'ужепредложивать': 2, 'излагать': 6, 'пытаться': 34, 'Розан': 2, 'появляться': 11, 'указывать': 19, 'прибывать': 14, 'помогать': 9, 'разрешать': 13, 'идти': 20, 'проводить': 52, 'знакомиться': 5, 'закончить': 4, 'ознакомляться': 15, 'разговаривать': 2, 'добиваться': 27, 'подготавливать': 7, 'доказывать': 17, 'давать': 47, 'арестовать': 4, 'выяснять': 4, 'получать': 70, 'прекращать': 20, 'отрицать': 6, 'мочь': 152, 'действовать': 17, 'возбудить': 3, 'вменять': 4, 'присваивать': 6, 'являться': 66, 'затребовавать': 2, 'разморозить': 2, 'подследственный': 5, 'делать': 40, 'приходиться': 15, 'амнистировать': 4, 'стать': 8, 'рассматривать': 47, 'объявлять': 28, 'стараться': 2, 'выдавать': 12, 'ждать': 6, 'выражать': 14, 'затребовать': 2, 'учитывать': 14, 'видеть': 12, 'основывать': 4, 'направлять': 47, 'осуждать': 10, 'погибать': 26, 'подчеркнуть': 4, 'замечать': 8, 'сомневаться': 3, 'подать': 10, 'отстаивать': 3, 'высказываться': 4, 'напоминать': 27, 'ходатайствовать': 3, 'отдавать': 5, 'обосновывать': 5, 'готовить': 10, 'оказываться': 13, 'обращать': 5, 'нуждаться': 3, 'приговорять': 3, 'оспаривать': 6, 'Хартли': 2, 'специализируться': 2, 'назначать': 45, 'заявить': 5, 'надеяться': 9, 'спросить': 2, 'усматривать': 3, 'начинать': 25, 'отменить': 2, 'предполагать': 13, 'признать': 4, 'нанять': 4, 'состояться': 21, 'менять': 3, 'пускать': 2, 'участвовать': 14, 'объяснять': 12, 'продолжать': 9, 'вылетать': 6, 'отвечать': 18, 'Бредли': 3, 'разгораться': 2, 'отказываться': 47, 'мотивировывать': 2, 'придумать': 2, 'Сери': 2}\n"
          ],
          "name": "stdout"
        }
      ]
    },
    {
      "cell_type": "code",
      "metadata": {
        "colab": {
          "base_uri": "https://localhost:8080/"
        },
        "id": "yeywR0BjoWno",
        "outputId": "9a775f54-a5ed-464c-c06a-2a3a1144d3ea"
      },
      "source": [
        "for w, l in list(diff.items()):\n",
        "  #print(w)\n",
        "  big = w.split(' ')[1]\n",
        "  diff[big] = l\n",
        "pmi_list=[]\n",
        "for word, lis in diff.items():\n",
        "  #print(type(lis))\n",
        "  for w, l in b.items():\n",
        "    ind = []\n",
        "    if word == w:\n",
        "      pmi = math.log(lis*47843/(freq_a * l))\n",
        "      ind.append(pmi)\n",
        "      ind.append(word)\n",
        "      pmi_list.append(ind)\n",
        "print(sorted(pmi_list))"
      ],
      "execution_count": 632,
      "outputs": [
        {
          "output_type": "stream",
          "text": [
            "[[-1.6992357804068892, 'сообщать'], [-1.3548065628850938, 'мочь'], [-1.2972610772384934, 'заявлять'], [-0.2821697606202449, 'проводить'], [-0.23289871161346218, 'передавать'], [-0.18107364374887616, 'давать'], [-0.18107364374887616, 'направлять'], [-0.18107364374887616, 'отказываться'], [-0.13758853180913733, 'назначать'], [-0.10368698013345601, 'отмечать'], [-0.10368698013345601, 'подавать'], [-0.05661946927547021, 'считать'], [-0.019805496152753906, 'делать'], [0.09954126147981224, 'представлять'], [0.11372589647176863, 'получать'], [0.17256639649470226, 'являться'], [0.267876576299027, 'обвинять'], [0.267876576299027, 'требовать'], [0.28468369461540827, 'сказать'], [0.33686944778597844, 'объявлять'], [0.3732370919568533, 'добиваться'], [0.3732370919568533, 'напоминать'], [0.3919292249690059, 'иметь'], [0.4109774199397004, 'погибать'], [0.4501981330929816, 'начинать'], [0.5120735368110692, 'рассматривать'], [0.5335797420320327, 'говорить'], [0.5335797420320327, 'обращаться'], [0.555558648750808, 'утверждать'], [0.6245515202377594, 'просить'], [0.6245515202377594, 'состояться'], [0.6733416844071914, 'идти'], [0.7787022000650178, 'отвечать'], [0.7787022000650178, 'становиться'], [0.806873077031714, 'обжаловать'], [0.8358606139049664, 'действовать'], [0.8358606139049664, 'доказывать'], [0.8358606139049664, 'настаивать'], [0.8358606139049664, 'приводить'], [0.9282339340359815, 'находиться'], [0.9282339340359815, 'подсудимый'], [0.9610237568589723, 'задерживать'], [0.9610237568589723, 'комментировать'], [0.9610237568589723, 'подчеркивать'], [0.9610237568589723, 'приходиться'], [0.9949253085346537, 'называть'], [1.0300166283459238, 'возглавлять'], [1.0300166283459238, 'выражать'], [1.0300166283459238, 'выходить'], [1.0300166283459238, 'прибывать'], [1.0300166283459238, 'участвовать'], [1.0300166283459238, 'учитывать'], [1.1041246004996457, 'оказываться'], [1.1041246004996457, 'предполагать'], [1.1041246004996457, 'разрешать'], [1.184167308173182, 'арестовывать'], [1.184167308173182, 'видеть'], [1.184167308173182, 'выдавать'], [1.2711786851628117, 'появляться'], [1.3664888649671367, 'готовить'], [1.3664888649671367, 'прекращать'], [1.3664888649671367, 'содержаться'], [1.4177821593546873, 'указывать'], [1.471849380624963, 'надеяться'], [1.471849380624963, 'проверять'], [1.471849380624963, 'продолжать'], [1.5896324162813464, 'стать'], [1.6541709374189177, 'защищать'], [1.6541709374189177, 'ознакомляться'], [1.723163808905869, 'мотивировать'], [1.723163808905869, 'обсуждать'], [1.723163808905869, 'подготавливать'], [1.797271781059591, 'изучать'], [1.797271781059591, 'призывать'], [1.797271781059591, 'рассчитывать'], [1.8232472674628517, 'выступать'], [1.8364924942128722, 'пояснять'], [1.8773144887331275, 'вылетать'], [1.8773144887331275, 'ждать'], [1.8773144887331275, 'излагать'], [1.8773144887331275, 'объяснять'], [1.8773144887331275, 'оспаривать'], [1.8773144887331275, 'отрицать'], [1.8773144887331275, 'пойти'], [1.8773144887331275, 'присваивать'], [1.934472902573076, 'пытаться'], [1.9643258657227571, 'иметься'], [2.059636045527082, 'заявить'], [2.059636045527082, 'знакомиться'], [2.059636045527082, 'обосновывать'], [2.059636045527082, 'осуждать'], [2.059636045527082, 'отдавать'], [2.059636045527082, 'подследственный'], [2.059636045527082, 'расценивать'], [2.1649965611849082, 'добавлять'], [2.1649965611849082, 'нанимать'], [2.2827795968412916, 'амнистировать'], [2.2827795968412916, 'вменять'], [2.2827795968412916, 'высказывать'], [2.2827795968412916, 'высказываться'], [2.2827795968412916, 'выяснять'], [2.2827795968412916, 'закончить'], [2.2827795968412916, 'замечать'], [2.2827795968412916, 'нанять'], [2.2827795968412916, 'настраивать'], [2.2827795968412916, 'основывать'], [2.2827795968412916, 'подчеркнуть'], [2.2827795968412916, 'сохраняться'], [2.3253392112600877, 'оставаться'], [2.4651011536352465, 'подать'], [2.4904189616195365, 'ссылаться'], [2.570461669293073, 'Бредли'], [2.570461669293073, 'Скакел'], [2.570461669293073, 'возбудить'], [2.570461669293073, 'направляться'], [2.570461669293073, 'нуждаться'], [2.570461669293073, 'отстаивать'], [2.570461669293073, 'помогать'], [2.570461669293073, 'предупредить'], [2.570461669293073, 'предупреждать'], [2.570461669293073, 'приговорять'], [2.570461669293073, 'пропадать'], [2.570461669293073, 'сдавать'], [2.570461669293073, 'сомневаться'], [2.570461669293073, 'усматривать'], [2.570461669293073, 'ходатайствовать'], [2.975926777401237, 'Розан'], [2.975926777401237, 'Сери'], [2.975926777401237, 'Стэнли'], [2.975926777401237, 'Хартли'], [2.975926777401237, 'Хэрриет'], [2.975926777401237, 'Юшинутверждал'], [2.975926777401237, 'возыметь'], [2.975926777401237, 'завить'], [2.975926777401237, 'затребовавать'], [2.975926777401237, 'затребовать'], [2.975926777401237, 'затрудняться'], [2.975926777401237, 'мотивировывать'], [2.975926777401237, 'неисключать'], [2.975926777401237, 'отделываться'], [2.975926777401237, 'отменить'], [2.975926777401237, 'отстоять'], [2.975926777401237, 'потерпевшая'], [2.975926777401237, 'придумать'], [2.975926777401237, 'признать'], [2.975926777401237, 'разговаривать'], [2.975926777401237, 'разгораться'], [2.975926777401237, 'разморозить'], [2.975926777401237, 'создаваемый'], [2.975926777401237, 'специализироваться'], [2.975926777401237, 'специализируться'], [2.975926777401237, 'спросить'], [2.975926777401237, 'стараться'], [2.975926777401237, 'ужепредложивать'], [2.975926777401237, 'характеризовать'], [3.263608849853018, 'Зозуть'], [3.3813918855094016, 'арестовать'], [3.4459304066469727, 'обращать'], [3.6690739579611824, 'менять'], [4.5853646898353375, 'пускать']]\n"
          ],
          "name": "stdout"
        }
      ]
    },
    {
      "cell_type": "code",
      "metadata": {
        "colab": {
          "base_uri": "https://localhost:8080/"
        },
        "id": "peKW5_1gLsB9",
        "outputId": "a5ee5c4d-f0c5-4ed1-c4d3-5671b2a45c68"
      },
      "source": [
        "for sentence in law_corpora:\n",
        "  for i in sentence:\n",
        "    if 'председательствующий' in i:\n",
        "      print(sentence)"
      ],
      "execution_count": 633,
      "outputs": [
        {
          "output_type": "stream",
          "text": [
            "['1_Судья_судья_NOUN_9_nsubj', '5_председательствующий_председательствовать_VERB_2_acl', '6_на_на_ADP_7_case', '7_процессе_процесс_NOUN_5_obl', '9_объявил_объявлять_VERB_0_root', '11_что_что_SCONJ_16_mark', '12_всем_весь_PRON_16_iobj', '13_обвиняемым_обвиняемый_VERB_12_acl', '14_был_быть_AUX_16_aux', '15_заблаговременно_заблаговременно_ADV_16_advmod', '16_разослан_разослать_VERB_9_ccomp', '17_список_список_NOUN_16_nsubj', '18_обвинений_обвинение_NOUN_17_nmod']\n",
            "['1_В_в_ADP_2_case', '2_понедельник_понедельник_NOUN_7_obl', '3_Московский_московский_ADJ_6_amod', '4_военный_военный_ADJ_6_amod', '5_окружной_окружной_ADJ_6_amod', '6_суд_суд_NOUN_7_nsubj', '7_перенес_переносить_VERB_0_root', '8_слушания_слушание_NOUN_7_obj', '9_по_по_ADP_10_case', '10_делу_дело_NOUN_8_nmod', '11_об_о_ADP_12_case', '12_убийстве_убийство_NOUN_10_nmod', '13_журналиста_журналист_NOUN_12_nmod', '14_газеты_газета_NOUN_13_nmod', '16_Московский_московский_ADJ_17_amod', '17_Комсомолец_комсомолец_NOUN_14_appos', '21_на_на_ADP_22_case', '22_22_22_NUM_8_nummod', '23_января_январь_NOUN_22_flat', '24_из-за_из-за_ADP_25_case', '25_болезни_болезнь_NOUN_7_obl', '26_председательствующего_председательствующий_VERB_27_amod', '27_судьи_судья_NOUN_25_nmod']\n",
            "['1_Об_о_ADP_2_case', '2_этом_это_PRON_10_obl', '4_как_как_SCONJ_5_mark', '5_добавляет_добавлять_VERB_10_parataxis', '10_сообщил_сообщать_VERB_0_root', '11_председательствующий_председательствовать_VERB_14_acl', '12_на_на_ADP_13_case', '13_процессе_процесс_NOUN_11_obl', '14_судья_судья_NOUN_10_nsubj', '15_Верховного_верховный_ADJ_16_amod', '16_суда_суд_NOUN_14_nmod', '18_Мухамед_Мухамед_PROPN_14_appos']\n"
          ],
          "name": "stdout"
        }
      ]
    },
    {
      "cell_type": "markdown",
      "metadata": {
        "id": "o_gb8PYuu5bT"
      },
      "source": [
        "Результаты PMI"
      ]
    },
    {
      "cell_type": "code",
      "metadata": {
        "id": "DBb2DwbBulm5"
      },
      "source": [
        "len(pmi_list)"
      ],
      "execution_count": null,
      "outputs": []
    },
    {
      "cell_type": "code",
      "metadata": {
        "id": "hTFUAHrcu-Ta",
        "colab": {
          "base_uri": "https://localhost:8080/"
        },
        "outputId": "6a9087a9-1a3c-4215-89ec-6a261ae50361"
      },
      "source": [
        "unlc=[]\n",
        "for sentence in tokens:\n",
        "  if sentence in unlc:\n",
        "    continue\n",
        "  else:\n",
        "    unlc.append(sentence)\n",
        "print(len(unlc))"
      ],
      "execution_count": 25,
      "outputs": [
        {
          "output_type": "stream",
          "text": [
            "188631\n"
          ],
          "name": "stdout"
        }
      ]
    },
    {
      "cell_type": "code",
      "metadata": {
        "id": "ZbjtEcmixtD8"
      },
      "source": [
        "for sentence in unlc:\n",
        "  for i in sentence:\n",
        "    if re.match(r'[0-9]', i):\n",
        "      pass\n",
        "    else:\n",
        "      sentence.remove(i)"
      ],
      "execution_count": 26,
      "outputs": []
    },
    {
      "cell_type": "code",
      "metadata": {
        "id": "aEh19lEvxtEb"
      },
      "source": [
        "for sentence in unlc:\n",
        "  for i in sentence:\n",
        "    if i.startswith('_'):\n",
        "      sentence.remove(i)"
      ],
      "execution_count": 27,
      "outputs": []
    },
    {
      "cell_type": "code",
      "metadata": {
        "id": "qN6JC9dIxtEd"
      },
      "source": [
        "for sentence in unlc:\n",
        "  for i in sentence:\n",
        "    if re.match(r'_', i):\n",
        "      sentence.remove(i)"
      ],
      "execution_count": 28,
      "outputs": []
    },
    {
      "cell_type": "code",
      "metadata": {
        "id": "suWRI2_TxtEe"
      },
      "source": [
        "for sentence in unlc:\n",
        "  for i in sentence:\n",
        "    if re.match(r':', i):\n",
        "      sentence.remove(i)"
      ],
      "execution_count": 29,
      "outputs": []
    },
    {
      "cell_type": "code",
      "metadata": {
        "id": "98pgim3cxtEf"
      },
      "source": [
        "for sentence in unlc:\n",
        "  for i in sentence:\n",
        "    if re.match(r'[а-я]', i):\n",
        "      sentence.remove(i)"
      ],
      "execution_count": 30,
      "outputs": []
    },
    {
      "cell_type": "code",
      "metadata": {
        "id": "-2vKz4JExtEg"
      },
      "source": [
        "for sentence in unlc:\n",
        "  for i in sentence:\n",
        "    if i=='':\n",
        "      print(sentence)"
      ],
      "execution_count": 31,
      "outputs": []
    },
    {
      "cell_type": "code",
      "metadata": {
        "id": "D0etbQDfxtEh"
      },
      "source": [
        "for sentence in unlc:\n",
        "  for i in sentence:\n",
        "    if re.match(r'_PUNCT_', i):\n",
        "      sentence.remove(i)"
      ],
      "execution_count": 32,
      "outputs": []
    },
    {
      "cell_type": "code",
      "metadata": {
        "id": "NU2ziQa_yJ1q",
        "colab": {
          "base_uri": "https://localhost:8080/"
        },
        "outputId": "b2ef78a3-098c-486f-fd37-a4fbdfbbb090"
      },
      "source": [
        "len(unlc)"
      ],
      "execution_count": 33,
      "outputs": [
        {
          "output_type": "execute_result",
          "data": {
            "text/plain": [
              "188631"
            ]
          },
          "metadata": {
            "tags": []
          },
          "execution_count": 33
        }
      ]
    },
    {
      "cell_type": "code",
      "metadata": {
        "colab": {
          "base_uri": "https://localhost:8080/"
        },
        "id": "g_Qv_0GM4aBT",
        "outputId": "79682b9f-f068-4501-8d7d-302343eda20c"
      },
      "source": [
        "parsed_unlc=[]\n",
        "for sentence in unlc:\n",
        "  p_sent=[]\n",
        "  for i in sentence:\n",
        "    w=[]\n",
        "    w=i.split(sep=\"_\")\n",
        "    if re.match(r'_PUNCT_', i):\n",
        "      pass\n",
        "    else:\n",
        "      if len(w)<3:\n",
        "        if i not in sentence:\n",
        "          pass\n",
        "        else:\n",
        "          sentence.remove(i)\n",
        "      else:\n",
        "        p_sent.append(w[2])\n",
        "  parsed_unlc.append(p_sent)\n",
        "print(parsed_unlc[:10])"
      ],
      "execution_count": 36,
      "outputs": [
        {
          "output_type": "stream",
          "text": [
            "[['бой', 'в', 'и', 'заканчиваться', 'отступление', 'германец'], ['неприятель', 'с', 'север', 'к', 'начинать', 'артиллерийский', 'борьба', 'с', 'крепость'], ['в', 'артиллерийский', 'бой', 'принимать', 'участие', 'тяжелый', 'калибр'], ['с', 'ранний', 'утро', '14', 'сентябрь', 'огонь', 'достигать', 'значительный', 'напряжение'], ['германский', 'пехота', 'пробиваться', 'близко', 'к', 'крепость', 'отражать'], ['в', 'мы', 'занимать'], ['большой', 'колонна', 'по', 'шоссе', 'от', 'к', 'с', 'высота', 'наш', 'батарея', 'и', 'бежать', 'парк', 'и', 'автомобиль'], ['вылазка', 'гарнизон', 'оставаться', 'безуспешный'], ['при', 'продолжающться', 'отступление', 'австриец', 'обнаруживать', 'полный', 'перемешивание', 'они', 'часть', 'новый', 'партия', 'и', 'прочий', 'материальный', 'часть'], ['на', 'перевал', 'мы', 'разбивать', 'неприятельский', 'отряд', 'он', 'артиллерия', 'и', 'много', 'пленный', 'и', 'преследовать', 'в', 'предел']]\n"
          ],
          "name": "stdout"
        }
      ]
    },
    {
      "cell_type": "code",
      "metadata": {
        "colab": {
          "base_uri": "https://localhost:8080/"
        },
        "id": "wr3lSl_CY02h",
        "outputId": "5d556c28-33dc-4b90-8c57-440ea1eb8e47"
      },
      "source": [
        "count=0\n",
        "for sentence in tokens:\n",
        "  count += len(sentence)\n",
        "print(count)"
      ],
      "execution_count": 37,
      "outputs": [
        {
          "output_type": "stream",
          "text": [
            "3249747\n"
          ],
          "name": "stdout"
        }
      ]
    },
    {
      "cell_type": "code",
      "metadata": {
        "colab": {
          "base_uri": "https://localhost:8080/"
        },
        "id": "dg8nXCPZ4oyC",
        "outputId": "f0dd8037-3000-42c8-a6d8-084d21448df2"
      },
      "source": [
        "spisok = []\n",
        "diff = {}\n",
        "b = {}\n",
        "for sentence in unlc:\n",
        "  for i in sentence:\n",
        "    if '_адвокат_' in i:\n",
        "      if i not in sentence:\n",
        "        pass\n",
        "      else:\n",
        "        n = sentence.index(i)\n",
        "        #print(n)\n",
        "        if i == sentence[-1]:\n",
        "          p = sentence[n-1]\n",
        "          big = p.split('_')\n",
        "          #print(big)\n",
        "          if len(big) < 4:\n",
        "            pass\n",
        "          else:\n",
        "            #print(big[3])\n",
        "            if big[3] == 'VERB':\n",
        "              spisok.append('адвокат '+big[2])\n",
        "            else:\n",
        "              pass\n",
        "            #print(spisok)\n",
        "        else:\n",
        "          m = sentence[n+1]\n",
        "          big = m.split('_')\n",
        "          if len(big) < 4:\n",
        "            pass\n",
        "          else:\n",
        "            if big[3] == 'VERB':\n",
        "              spisok.append('адвокат '+big[2])\n",
        "          if i == sentence[-2]:\n",
        "            pass\n",
        "          else:\n",
        "            o = sentence[n+2]\n",
        "            big = o.split('_')\n",
        "            if len(big) < 4:\n",
        "               pass\n",
        "            else:\n",
        "              if big[3] == 'VERB':\n",
        "                spisok.append('адвокат '+big[2])\n",
        "            if i == sentence[-1]:\n",
        "              pass\n",
        "print(spisok)\n",
        "for i in spisok:\n",
        "  freq_b = 1\n",
        "  big = i.split(' ')[1]\n",
        "  for sentence in parsed_unlc:\n",
        "    for i in sentence:\n",
        "      if i == big:\n",
        "      #print(sentence)\n",
        "        freq_b += 1\n",
        "  b[big] = freq_b\n",
        "for i in spisok:\n",
        "  if i in diff.keys():\n",
        "    for w, l in diff.items():\n",
        "      diff[i] = l+1\n",
        "  else:\n",
        "    diff[i] = 1\n",
        "print(diff)\n",
        "freq_a=0\n",
        "for sentence in parsed_unlc:\n",
        "  for i in sentence:\n",
        "    if i == 'адвокат':\n",
        "      #print(sentence)\n",
        "      freq_a += 1\n",
        "print(freq_a)"
      ],
      "execution_count": 55,
      "outputs": [
        {
          "output_type": "stream",
          "text": [
            "['адвокат заявлять', 'адвокат изучать', 'адвокат считать', 'адвокат специализироваться', 'адвокат заявлять', 'адвокат считать', 'адвокат пояснять', 'адвокат утверждать', 'адвокат изрешекать', 'адвокат призывать', 'адвокат мотивировать', 'адвокат комментировать', 'адвокат утверждать', 'адвокат сообщать', 'адвокат делать', 'адвокат сообщать', 'адвокат считать', 'адвокат заявлять', 'адвокат нанимать', 'адвокат иметься', 'адвокат представлять', 'адвокат Стэнли', 'адвокат пойти', 'адвокат заявлять', 'адвокат заявлять', 'адвокат выступать', 'адвокат утверждать', 'адвокат подавать', 'адвокат сохраняться', 'адвокат заявлять', 'адвокат возглавлять', 'адвокат комментировать', 'адвокат заявлять', 'адвокат признавать', 'адвокат подтверждать', 'адвокат заявлять', 'адвокат заявлять', 'адвокат рассчитывать', 'адвокат заявлять', 'адвокат защищать', 'адвокат представлять', 'адвокат требовать', 'адвокат заявлять', 'адвокат специализироваться', 'адвокат говорить', 'адвокат обращаться', 'адвокат обращаться', 'адвокат утверждать', 'адвокат подвергать', 'адвокат создаваемый', 'адвокат предупреждать', 'адвокат подавать', 'адвокат Эксли', 'адвокат заявлять', 'адвокат завить', 'адвокат задерживать', 'адвокат готовиться', 'адвокат сообщать', 'адвокат утверждать', 'адвокат передавать', 'адвокат отделываться', 'адвокат сообщать', 'адвокат опровергать', 'адвокат подчеркивать', 'адвокат неисключать', 'адвокат передавать', 'адвокат составлять', 'адвокат настаивать', 'адвокат обжаловать', 'адвокат называть', 'адвокат заявлять', 'адвокат затрудняться', 'адвокат давать', 'адвокат заявлять', 'адвокат заявлять', 'адвокат проверять', 'адвокат подсудимый', 'адвокат Зозуть', 'адвокат потребовать', 'адвокат помещать', 'адвокат выходить', 'адвокат выступать', 'адвокат представлять', 'адвокат заявлять', 'адвокат заявлять', 'адвокат решать', 'адвокат заявлять', 'адвокат настаивать', 'адвокат оставаться', 'адвокат представлять', 'адвокат участвовать', 'адвокат уверять', 'адвокат пропадать', 'адвокат отмечать', 'адвокат иметь', 'адвокат требовать', 'адвокат отвечать', 'адвокат передавать', 'адвокат заявлять', 'адвокат оказывать', 'адвокат требовать', 'адвокат обвинять', 'адвокат представлять', 'адвокат считать', 'адвокат пояснять', 'адвокат становиться', 'адвокат утверждать', 'адвокат вернуться', 'адвокат находиться', 'адвокат защищать', 'адвокат расценивать', 'адвокат обсуждать', 'адвокат направляться', 'адвокат добавлять', 'адвокат арестовывать', 'адвокат представлять', 'адвокат возыметь', 'адвокат арестовывать', 'адвокат стремиться', 'адвокат сдавать', 'адвокат содержаться', 'адвокат настраивать', 'адвокат узнавать', 'адвокат находиться', 'адвокат передавать', 'адвокат характеризовать', 'адвокат считать', 'адвокат отстоять', 'адвокат приводить', 'адвокат разъяснять', 'адвокат заявлять', 'адвокат сообщать', 'адвокат праздновать', 'адвокат присутствовать', 'адвокат отмечать', 'адвокат считать', 'адвокат предупредить', 'адвокат подавать', 'адвокат настаивать', 'адвокат выступать', 'адвокат подавать', 'адвокат обращаться', 'адвокат заявлять', 'адвокат добавлять', 'адвокат сказать', 'адвокат просить', 'адвокат появляться', 'адвокат потерпевшая', 'адвокат называть', 'адвокат заявлять', 'адвокат сообщать', 'адвокат решаться', 'адвокат подавать', 'адвокат вести', 'адвокат считать', 'адвокат настаивать', 'адвокат Юшинутверждал', 'адвокат предупреждать', 'адвокат считать', 'адвокат понесать', 'адвокат заявлять', 'адвокат Скакел', 'адвокат настаивать', 'адвокат оспорить', 'адвокат ссылаться', 'адвокат заявлять', 'адвокат пояснять', 'адвокат добавлять', 'адвокат Хэрриет', 'адвокат считать', 'адвокат обжаловать', 'адвокат настаивать', 'адвокат ставить', 'адвокат возбуждать', 'адвокат готовить', 'адвокат изучать', 'адвокат настаивать', 'адвокат готовить', 'адвокат обжаловать', 'адвокат высказывать', 'адвокат ужепредложивать', 'адвокат переносить', 'адвокат отвергать', 'адвокат излагать', 'адвокат обжаловать', 'адвокат сказать', 'адвокат пытаться', 'адвокат перекладывать', 'адвокат Розан', 'адвокат появляться', 'адвокат заявлять', 'адвокат указывать', 'адвокат прибывать', 'адвокат решать', 'адвокат добиваться', 'адвокат иметь', 'адвокат помогать', 'адвокат погибать', 'адвокат говорить', 'адвокат заявлять', 'адвокат разрешать', 'адвокат настаивать', 'адвокат подавать', 'адвокат идти', 'адвокат заявлять', 'адвокат выполнять', 'адвокат проводить', 'адвокат просить', 'адвокат заявлять', 'адвокат задерживать', 'адвокат заявлять', 'адвокат знакомиться', 'адвокат закончить', 'адвокат предъявлять', 'адвокат ознакомляться', 'адвокат сообщать', 'адвокат отмечать', 'адвокат разговаривать', 'адвокат рассказывать', 'адвокат добиваться', 'адвокат просить', 'адвокат считать', 'адвокат заявлять', 'адвокат заявлять', 'адвокат обвинять', 'адвокат сообщать', 'адвокат подготавливать', 'адвокат сообщать', 'адвокат доказывать', 'адвокат давать', 'адвокат выступать', 'адвокат уверять', 'адвокат арестовать', 'адвокат отмечать', 'адвокат называть', 'адвокат брать', 'адвокат отстранить', 'адвокат находиться', 'адвокат заявлять', 'адвокат раскрывать', 'адвокат выяснять', 'адвокат получать', 'адвокат прекращать', 'адвокат иметь', 'адвокат мочь', 'адвокат отрицать', 'адвокат готовиться', 'адвокат подсудимый', 'адвокат утверждать', 'адвокат сообщать', 'адвокат мочь', 'адвокат иметь', 'адвокат понадобиться', 'адвокат заявлять', 'адвокат утверждать', 'адвокат действовать', 'адвокат требовать', 'адвокат сообщать', 'адвокат возбудить', 'адвокат вменять', 'адвокат присваивать', 'адвокат сообщать', 'адвокат делать', 'адвокат заявлять', 'адвокат дожидаться', 'адвокат подтверждать', 'адвокат утверждать', 'адвокат представлять', 'адвокат указывать', 'адвокат являться', 'адвокат затребовавать', 'адвокат инкриминировать', 'адвокат утверждать', 'адвокат разморозить', 'адвокат заявлять', 'адвокат утверждать', 'адвокат отвергать', 'адвокат называть', 'адвокат просить', 'адвокат ознакомляться', 'адвокат утверждать', 'адвокат заявлять', 'адвокат ходатайствовать', 'адвокат обеспокоить', 'адвокат становиться', 'адвокат отмечать', 'адвокат подследственный', 'адвокат пытаться', 'адвокат выигрывать', 'адвокат считать', 'адвокат заявлять', 'адвокат начало', 'адвокат заявлять', 'адвокат представлять', 'адвокат объявлять', 'адвокат делать', 'адвокат требовать', 'адвокат комментировать', 'адвокат заявлять', 'адвокат представлять', 'адвокат представлять', 'адвокат специализироваться', 'адвокат пытаться', 'адвокат добиваться', 'адвокат считать', 'адвокат приходиться', 'адвокат предъявлять', 'адвокат заявлять', 'адвокат пояснять', 'адвокат добавлять', 'адвокат Хэрриет', 'адвокат считать', 'адвокат заявлять', 'адвокат заявлять', 'адвокат подавать', 'адвокат опровергать', 'адвокат амнистировать', 'адвокат заявлять', 'адвокат стать', 'адвокат рассчитывать', 'адвокат рассматривать', 'адвокат выступать', 'адвокат защищать', 'адвокат рекомендовать', 'адвокат считать', 'адвокат настаивать', 'адвокат жить', 'адвокат подчеркивать', 'адвокат изучать', 'адвокат считать', 'адвокат Зозуть', 'адвокат призывать', 'адвокат изменять', 'адвокат иметься', 'адвокат рассказывать', 'адвокат сказать', 'адвокат высказывать', 'адвокат рассчитывать', 'адвокат настаивать', 'адвокат настаивать', 'адвокат заявлять', 'адвокат сообщать', 'адвокат объявлять', 'адвокат выяснять', 'адвокат получать', 'адвокат прекращать', 'адвокат мочь', 'адвокат отрицать', 'адвокат готовиться', 'адвокат подсудимый', 'адвокат утверждать', 'адвокат обвинять', 'адвокат сообщать', 'адвокат стараться', 'адвокат убеждать', 'адвокат получать', 'адвокат объяснять', 'адвокат заявлять', 'адвокат исключать', 'адвокат оказываться', 'адвокат отмечать', 'адвокат направлять', 'адвокат расплачиваться', 'адвокат сказать', 'адвокат считать', 'адвокат отмечать', 'адвокат передавать', 'адвокат подчеркивать', 'адвокат выдавать', 'адвокат ждать', 'адвокат отвергать', 'адвокат организовывать', 'адвокат уточнять', 'адвокат выражать', 'адвокат заявлять', 'адвокат подавать', 'адвокат затребовать', 'адвокат заявлять', 'адвокат рассчитывать', 'адвокат получать', 'адвокат просить', 'адвокат отменять', 'адвокат учитывать', 'адвокат подчеркивать', 'адвокат видеть', 'адвокат основывать', 'адвокат отмечать', 'адвокат направлять', 'адвокат заявлять', 'адвокат осуждать', 'адвокат заявлять', 'адвокат погибать', 'адвокат подчеркнуть', 'адвокат замечать', 'адвокат сказать', 'адвокат заявлять', 'адвокат сомневаться', 'адвокат рассчитывать', 'адвокат интересовать', 'адвокат замечать', 'адвокат пытаться', 'адвокат убеждать', 'адвокат подать', 'адвокат представлять', 'адвокат подчеркивать', 'адвокат отстаивать', 'адвокат находиться', 'адвокат объяснять', 'адвокат представлять', 'адвокат отмечать', 'адвокат успевать', 'адвокат получать', 'адвокат утверждать', 'адвокат заявлять', 'адвокат просить', 'адвокат заявлять', 'адвокат высказываться', 'адвокат напоминать', 'адвокат выражать', 'адвокат замечать', 'адвокат ходатайствовать', 'адвокат освобождать', 'адвокат предупредить', 'адвокат отдавать', 'адвокат обосновывать', 'адвокат отмечать', 'адвокат исключать', 'адвокат готовить', 'адвокат проводить', 'адвокат просить', 'адвокат заявлять', 'адвокат подсудимый', 'адвокат направлять', 'адвокат оказываться', 'адвокат являться', 'адвокат выделять', 'адвокат называть', 'адвокат обращать', 'адвокат сказать', 'адвокат нуждаться', 'адвокат добавлять', 'адвокат отмечать', 'адвокат утверждать', 'адвокат утверждать', 'адвокат обращать', 'адвокат требовать', 'адвокат подавать', 'адвокат утверждать', 'адвокат приговорять', 'адвокат арестовывать', 'адвокат представлять', 'адвокат требовать', 'адвокат предписываться', 'адвокат изложить', 'адвокат сообщать', 'адвокат представлять', 'адвокат настаивать', 'адвокат оспаривать', 'адвокат Хартли', 'адвокат постановлять', 'адвокат специализируться', 'адвокат представлять', 'адвокат назначать', 'адвокат договариваться', 'адвокат сообщать', 'адвокат подавать', 'адвокат заявлять', 'адвокат заявить', 'адвокат защищать', 'адвокат убеждать', 'адвокат подавать', 'адвокат подсудимый', 'адвокат утверждать', 'адвокат успевать', 'адвокат надеяться', 'адвокат сообщать', 'адвокат спросить', 'адвокат утверждать', 'адвокат сообщать', 'адвокат усматривать', 'адвокат сообщать', 'адвокат начинать', 'адвокат обращаться', 'адвокат говорить', 'адвокат отмечать', 'адвокат интересовать', 'адвокат сказать', 'адвокат подтверждать', 'адвокат прекращать', 'адвокат отменить', 'адвокат обжаловать', 'адвокат предполагать', 'адвокат отмечать', 'адвокат обжаловать', 'адвокат признать', 'адвокат сообщать', 'адвокат отмечать', 'адвокат допрос', 'адвокат нанять', 'адвокат заявлять', 'адвокат отмечать', 'адвокат состояться', 'адвокат менять', 'адвокат заявлять', 'адвокат добавлять', 'адвокат отказываться', 'адвокат отмечать', 'адвокат заявлять', 'адвокат сообщать', 'адвокат отмечать', 'адвокат обращать', 'адвокат исключать', 'адвокат заявлять', 'адвокат обжаловать', 'адвокат подавать', 'адвокат ссылаться', 'адвокат успевать', 'адвокат пытаться', 'адвокат подавать', 'адвокат сообщать', 'адвокат осуждать', 'адвокат начало', 'адвокат просить', 'адвокат приносить', 'адвокат обращаться', 'адвокат пояснять', 'адвокат пропускать', 'адвокат пускать', 'адвокат сообщать', 'адвокат оставаться', 'адвокат выступать', 'адвокат считать', 'адвокат пытаться', 'адвокат участвовать', 'адвокат оставлять', 'адвокат объяснять', 'адвокат сообщать', 'адвокат встречаться', 'адвокат сообщать', 'адвокат рассчитывать', 'адвокат представлять', 'адвокат сообщать', 'адвокат Яртый', 'адвокат продолжать', 'адвокат готовить', 'адвокат просить', 'адвокат считать', 'адвокат сообщать', 'адвокат осуждать', 'адвокат отмечать', 'адвокат называть', 'адвокат получать', 'адвокат требоваться', 'адвокат настаивать', 'адвокат подавать', 'адвокат сообщать', 'адвокат ожидать', 'адвокат погибать', 'адвокат отмечать', 'адвокат предоставлять', 'адвокат утверждать', 'адвокат признавать', 'адвокат погибать', 'адвокат погибать', 'адвокат требовать', 'адвокат сообщать', 'адвокат настаивать', 'адвокат заявлять', 'адвокат вылетать', 'адвокат отвечать', 'адвокат заявлять', 'адвокат Бредли', 'адвокат содержаться', 'адвокат просить', 'адвокат изменять', 'адвокат заявлять', 'адвокат отмечать', 'адвокат разгораться', 'адвокат заявлять', 'адвокат получать', 'адвокат представлять', 'адвокат отмечать', 'адвокат рассматривать', 'адвокат сообщать', 'адвокат мочь', 'адвокат утверждать', 'адвокат пытаться', 'адвокат объяснять', 'адвокат пытаться', 'адвокат обвинять', 'адвокат мочь', 'адвокат добавлять', 'адвокат отказываться', 'адвокат пытаться', 'адвокат заявлять', 'адвокат мотивировывать', 'адвокат придумать', 'адвокат заявлять', 'адвокат Сери', 'адвокат требовать', 'адвокат мочь', 'адвокат признать', 'адвокат направлять', 'адвокат исключать', 'адвокат сообщать', 'адвокат считать', 'адвокат потерпевшая', 'адвокат допускать', 'адвокат подавать', 'адвокат подавать', 'адвокат отмечать', 'адвокат подчеркивать', 'адвокат Джим', 'адвокат пытаться', 'адвокат надеяться']\n",
            "{'адвокат заявлять': 2, 'адвокат изучать': 2, 'адвокат считать': 2, 'адвокат специализироваться': 2, 'адвокат пояснять': 2, 'адвокат утверждать': 2, 'адвокат изрешекать': 1, 'адвокат призывать': 2, 'адвокат мотивировать': 1, 'адвокат комментировать': 2, 'адвокат сообщать': 2, 'адвокат делать': 2, 'адвокат нанимать': 1, 'адвокат иметься': 2, 'адвокат представлять': 2, 'адвокат Стэнли': 1, 'адвокат пойти': 1, 'адвокат выступать': 2, 'адвокат подавать': 2, 'адвокат сохраняться': 1, 'адвокат возглавлять': 1, 'адвокат признавать': 2, 'адвокат подтверждать': 2, 'адвокат рассчитывать': 2, 'адвокат защищать': 2, 'адвокат требовать': 2, 'адвокат говорить': 2, 'адвокат обращаться': 2, 'адвокат подвергать': 1, 'адвокат создаваемый': 1, 'адвокат предупреждать': 2, 'адвокат Эксли': 1, 'адвокат завить': 1, 'адвокат задерживать': 2, 'адвокат готовиться': 2, 'адвокат передавать': 2, 'адвокат отделываться': 1, 'адвокат опровергать': 2, 'адвокат подчеркивать': 2, 'адвокат неисключать': 1, 'адвокат составлять': 1, 'адвокат настаивать': 2, 'адвокат обжаловать': 2, 'адвокат называть': 2, 'адвокат затрудняться': 1, 'адвокат давать': 2, 'адвокат проверять': 1, 'адвокат подсудимый': 2, 'адвокат Зозуть': 2, 'адвокат потребовать': 1, 'адвокат помещать': 1, 'адвокат выходить': 1, 'адвокат решать': 2, 'адвокат оставаться': 2, 'адвокат участвовать': 2, 'адвокат уверять': 2, 'адвокат пропадать': 1, 'адвокат отмечать': 2, 'адвокат иметь': 2, 'адвокат отвечать': 2, 'адвокат оказывать': 1, 'адвокат обвинять': 2, 'адвокат становиться': 2, 'адвокат вернуться': 1, 'адвокат находиться': 2, 'адвокат расценивать': 1, 'адвокат обсуждать': 1, 'адвокат направляться': 1, 'адвокат добавлять': 2, 'адвокат арестовывать': 2, 'адвокат возыметь': 1, 'адвокат стремиться': 1, 'адвокат сдавать': 1, 'адвокат содержаться': 2, 'адвокат настраивать': 1, 'адвокат узнавать': 1, 'адвокат характеризовать': 1, 'адвокат отстоять': 1, 'адвокат приводить': 1, 'адвокат разъяснять': 1, 'адвокат праздновать': 1, 'адвокат присутствовать': 1, 'адвокат предупредить': 2, 'адвокат сказать': 2, 'адвокат просить': 2, 'адвокат появляться': 2, 'адвокат потерпевшая': 2, 'адвокат решаться': 1, 'адвокат вести': 1, 'адвокат Юшинутверждал': 1, 'адвокат понесать': 1, 'адвокат Скакел': 1, 'адвокат оспорить': 1, 'адвокат ссылаться': 2, 'адвокат Хэрриет': 2, 'адвокат ставить': 1, 'адвокат возбуждать': 1, 'адвокат готовить': 2, 'адвокат высказывать': 2, 'адвокат ужепредложивать': 1, 'адвокат переносить': 1, 'адвокат отвергать': 2, 'адвокат излагать': 1, 'адвокат пытаться': 2, 'адвокат перекладывать': 1, 'адвокат Розан': 1, 'адвокат указывать': 2, 'адвокат прибывать': 1, 'адвокат добиваться': 2, 'адвокат помогать': 1, 'адвокат погибать': 2, 'адвокат разрешать': 1, 'адвокат идти': 1, 'адвокат выполнять': 1, 'адвокат проводить': 2, 'адвокат знакомиться': 1, 'адвокат закончить': 1, 'адвокат предъявлять': 2, 'адвокат ознакомляться': 2, 'адвокат разговаривать': 1, 'адвокат рассказывать': 2, 'адвокат подготавливать': 1, 'адвокат доказывать': 1, 'адвокат арестовать': 1, 'адвокат брать': 1, 'адвокат отстранить': 1, 'адвокат раскрывать': 1, 'адвокат выяснять': 2, 'адвокат получать': 2, 'адвокат прекращать': 2, 'адвокат мочь': 2, 'адвокат отрицать': 2, 'адвокат понадобиться': 1, 'адвокат действовать': 1, 'адвокат возбудить': 1, 'адвокат вменять': 1, 'адвокат присваивать': 1, 'адвокат дожидаться': 1, 'адвокат являться': 2, 'адвокат затребовавать': 1, 'адвокат инкриминировать': 1, 'адвокат разморозить': 1, 'адвокат ходатайствовать': 2, 'адвокат обеспокоить': 1, 'адвокат подследственный': 1, 'адвокат выигрывать': 1, 'адвокат начало': 2, 'адвокат объявлять': 2, 'адвокат приходиться': 1, 'адвокат амнистировать': 1, 'адвокат стать': 1, 'адвокат рассматривать': 2, 'адвокат рекомендовать': 1, 'адвокат жить': 1, 'адвокат изменять': 2, 'адвокат стараться': 1, 'адвокат убеждать': 2, 'адвокат объяснять': 2, 'адвокат исключать': 2, 'адвокат оказываться': 2, 'адвокат направлять': 2, 'адвокат расплачиваться': 1, 'адвокат выдавать': 1, 'адвокат ждать': 1, 'адвокат организовывать': 1, 'адвокат уточнять': 1, 'адвокат выражать': 2, 'адвокат затребовать': 1, 'адвокат отменять': 1, 'адвокат учитывать': 1, 'адвокат видеть': 1, 'адвокат основывать': 1, 'адвокат осуждать': 2, 'адвокат подчеркнуть': 1, 'адвокат замечать': 2, 'адвокат сомневаться': 1, 'адвокат интересовать': 2, 'адвокат подать': 1, 'адвокат отстаивать': 1, 'адвокат успевать': 2, 'адвокат высказываться': 1, 'адвокат напоминать': 1, 'адвокат освобождать': 1, 'адвокат отдавать': 1, 'адвокат обосновывать': 1, 'адвокат выделять': 1, 'адвокат обращать': 2, 'адвокат нуждаться': 1, 'адвокат приговорять': 1, 'адвокат предписываться': 1, 'адвокат изложить': 1, 'адвокат оспаривать': 1, 'адвокат Хартли': 1, 'адвокат постановлять': 1, 'адвокат специализируться': 1, 'адвокат назначать': 1, 'адвокат договариваться': 1, 'адвокат заявить': 1, 'адвокат надеяться': 2, 'адвокат спросить': 1, 'адвокат усматривать': 1, 'адвокат начинать': 1, 'адвокат отменить': 1, 'адвокат предполагать': 1, 'адвокат признать': 2, 'адвокат допрос': 1, 'адвокат нанять': 1, 'адвокат состояться': 1, 'адвокат менять': 1, 'адвокат отказываться': 2, 'адвокат приносить': 1, 'адвокат пропускать': 1, 'адвокат пускать': 1, 'адвокат оставлять': 1, 'адвокат встречаться': 1, 'адвокат Яртый': 1, 'адвокат продолжать': 1, 'адвокат требоваться': 1, 'адвокат ожидать': 1, 'адвокат предоставлять': 1, 'адвокат вылетать': 1, 'адвокат Бредли': 1, 'адвокат разгораться': 1, 'адвокат мотивировывать': 1, 'адвокат придумать': 1, 'адвокат Сери': 1, 'адвокат допускать': 1, 'адвокат Джим': 1}\n",
            "1191\n"
          ],
          "name": "stdout"
        }
      ]
    },
    {
      "cell_type": "code",
      "metadata": {
        "colab": {
          "base_uri": "https://localhost:8080/"
        },
        "id": "7evsz-0gZSWh",
        "outputId": "c35a1563-afbe-4384-eea4-9b64ae033ca8"
      },
      "source": [
        "count=0\n",
        "for sentence in tokens:\n",
        "  count += len(sentence)\n",
        "print(count)"
      ],
      "execution_count": 56,
      "outputs": [
        {
          "output_type": "stream",
          "text": [
            "3249747\n"
          ],
          "name": "stdout"
        }
      ]
    },
    {
      "cell_type": "code",
      "metadata": {
        "colab": {
          "base_uri": "https://localhost:8080/"
        },
        "id": "Y8q6M5ge55BA",
        "outputId": "284dfd68-725c-4911-9651-5de0e66da49c"
      },
      "source": [
        "diff2={}\n",
        "for w, l in list(diff.items()):\n",
        "  big = w.split(' ')[1]\n",
        "  diff2[big] = l\n",
        "pmi_list=[]\n",
        "for word, lis in diff2.items():\n",
        "  #print(type(lis))\n",
        "  for w, l in b.items():\n",
        "    ind = []\n",
        "    if word == w:\n",
        "      pmi = math.log(3249747*lis/(freq_a * l))\n",
        "      ind.append(pmi)\n",
        "      ind.append(word)\n",
        "      pmi_list.append(ind)\n",
        "print(sorted(pmi_list))"
      ],
      "execution_count": 57,
      "outputs": [
        {
          "output_type": "stream",
          "text": [
            "[[-0.6638286197007048, 'сообщать'], [-0.2080082965935998, 'заявлять'], [-0.1779433385941485, 'мочь'], [0.1312360478582316, 'напоминать'], [0.15021995481861777, 'составлять'], [0.3083892036840432, 'получать'], [0.34756003032912025, 'становиться'], [0.4146092666075007, 'находиться'], [0.45220024054630936, 'отмечать'], [0.5072600177293368, 'начинать'], [0.6023267700738423, 'состояться'], [0.6741204620925852, 'проводить'], [0.683150684193001, 'идти'], [0.702938797806406, 'вести'], [0.7592702797340656, 'считать'], [0.7782431808705366, 'выходить'], [0.8028859144175778, 'являться'], [0.8365759378005613, 'погибать'], [0.8891167818063419, 'сказать'], [0.9830013176019393, 'продолжать'], [0.9987963152734287, 'подчеркивать'], [1.0002899675302122, 'иметь'], [1.0291016647687576, 'прибывать'], [1.0373406403133105, 'ожидать'], [1.087165465723519, 'действовать'], [1.1024998297236257, 'приводить'], [1.109700082376017, 'называть'], [1.1152742328178311, 'говорить'], [1.1259514907586754, 'оставаться'], [1.1259514907586754, 'приходиться'], [1.1276478440068538, 'делать'], [1.1528640797986205, 'передавать'], [1.17161096742797, 'задерживать'], [1.1925259813813451, 'начало'], [1.2567424931778632, 'выступать'], [1.3171256760168264, 'брать'], [1.3178099045758507, 'давать'], [1.349095042072885, 'обсуждать'], [1.3676272902018127, 'оказываться'], [1.4147641455807425, 'ставить'], [1.4485096788459348, 'решать'], [1.4666132822822031, 'утверждать'], [1.4842419439340622, 'пытаться'], [1.489916867960087, 'организовывать'], [1.511281690457784, 'возбуждать'], [1.5129442012313972, 'выигрывать'], [1.5348121878679781, 'встречаться'], [1.5348121878679781, 'предполагать'], [1.5382193461895923, 'помогать'], [1.539072952728833, 'представлять'], [1.5485110322261397, 'стать'], [1.5502366581936096, 'предоставлять'], [1.5519652670942274, 'видеть'], [1.594374449019321, 'возглавлять'], [1.6016208575400883, 'признавать'], [1.6125898889106622, 'отказываться'], [1.6320800650247969, 'объявлять'], [1.6510021054560133, 'обращаться'], [1.673214510727097, 'оказывать'], [1.6751695455629005, 'выполнять'], [1.7059717819965623, 'требовать'], [1.7130604192742969, 'освобождать'], [1.7150950079720844, 'вернуться'], [1.723275012684015, 'подтверждать'], [1.8045162480243506, 'назначать'], [1.822494260319759, 'жить'], [1.822494260319759, 'направлять'], [1.840801407764115, 'пойти'], [1.8419568093946708, 'появляться'], [1.8570997894972345, 'оставлять'], [1.8618056805346472, 'исключать'], [1.8712844244891909, 'рассматривать'], [1.9076520686600658, 'уточнять'], [1.9713678830461734, 'приносить'], [1.9766449401470172, 'обвинять'], [1.9926452814934583, 'выделять'], [2.0116417821841135, 'выражать'], [2.0352048959122544, 'участвовать'], [2.1003981427899046, 'отменять'], [2.1003981427899046, 'присутствовать'], [2.1369875902221964, 'допрос'], [2.1369875902221964, 'проверять'], [2.1557969221796927, 'допускать'], [2.1685359479571225, 'подготавливать'], [2.1879540338142243, 'отвечать'], [2.192868048616653, 'подавать'], [2.222870298920452, 'призывать'], [2.2313665267495377, 'отдавать'], [2.2520569200069835, 'рассказывать'], [2.2839180220759676, 'указывать'], [2.291138270049455, 'высказываться'], [2.3057370694706076, 'пропадать'], [2.3205521552557484, 'разрешать'], [2.329924295084611, 'арестовывать'], [2.33938510358884, 'выдавать'], [2.3585795508449876, 'требоваться'], [2.3781496470390846, 'прекращать'], [2.412323826851678, 'предъявлять'], [2.412323826851678, 'просить'], [2.4434789946314734, 'вылетать'], [2.4712882733299018, 'добавлять'], [2.4843888973755996, 'опровергать'], [2.4910041364943187, 'договариваться'], [2.4910041364943187, 'ждать'], [2.504367364306486, 'доказывать'], [2.5066120341603098, 'комментировать'], [2.508861753894325, 'объяснять'], [2.5179115894142434, 'добиваться'], [2.5549528610945926, 'рекомендовать'], [2.574001056065287, 'иметься'], [2.613221769218568, 'узнавать'], [2.6283354070286165, 'выяснять'], [2.6359787563411845, 'пояснять'], [2.6436809767032767, 'направляться'], [2.6724411288785395, 'замечать'], [2.680430518912018, 'сохраняться'], [2.7047889627440584, 'надеяться'], [2.758247541268826, 'переносить'], [2.836365320532778, 'учитывать'], [2.855293330418297, 'сдавать'], [2.8713450394288045, 'высказывать'], [2.900903841670349, 'расценивать'], [2.9177109599867306, 'рассчитывать'], [2.9279325140582686, 'настаивать'], [2.9279325140582686, 'содержаться'], [2.9417258361906042, 'успевать'], [2.955712078165344, 'изменять'], [3.0211900075448512, 'постановлять'], [3.0673520493080138, 'нуждаться'], [3.0792333771947664, 'готовиться'], [3.083225398464304, 'стремиться'], [3.091257570161568, 'предупреждать'], [3.1240473929845587, 'подвергать'], [3.1408545113009403, 'стараться'], [3.1622686058047567, 'готовить'], [3.184151317054264, 'решаться'], [3.2481000416545376, 'менять'], [3.267148236625232, 'раскрывать'], [3.276810147536969, 'защищать'], [3.276810147536969, 'помещать'], [3.336828157263222, 'отрицать'], [3.368244353496601, 'пропускать'], [3.3843304912482255, 'убеждать'], [3.41172946543634, 'обращать'], [3.457191839513097, 'основывать'], [3.457191839513097, 'подчеркнуть'], [3.457191839513097, 'понадобиться'], [3.4688878792762883, 'осуждать'], [3.4747876014034764, 'отвергать'], [3.5048198885023516, 'пускать'], [3.5170899810941663, 'изучать'], [3.5420912832995834, 'сомневаться'], [3.6210796946182136, 'арестовать'], [3.6630438937172456, 'знакомиться'], [3.6920314305904984, 'ссылаться'], [3.6920314305904984, 'характеризовать'], [3.7218843937401793, 'инкриминировать'], [3.7371518658709677, 'закончить'], [3.768404409375072, 'мотивировать'], [3.776372579024249, 'подсудимый'], [3.8510961252201854, 'оспаривать'], [3.8597541879633, 'обжаловать'], [3.8684878679320547, 'присваивать'], [3.8861874450314557, 'обеспокоить'], [3.9042059505341338, 'излагать'], [3.9042059505341338, 'нанимать'], [3.9042059505341338, 'отстаивать'], [3.9225550892023304, 'подать'], [3.9602954171851774, 'возбудить'], [4.0197188376559785, 'дожидаться'], [4.0720868231732945, 'ознакомляться'], [4.1738695174832365, 'настраивать'], [4.273952976040219, 'интересовать'], [4.300621223122381, 'праздновать'], [4.300621223122381, 'разговаривать'], [4.300621223122381, 'уверять'], [4.385178611150444, 'подследственный'], [4.385178611150444, 'разъяснять'], [4.385178611150444, 'расплачиваться'], [4.415031574300125, 'Джим'], [4.445803232966878, 'усматривать'], [4.477551931281458, 'вменять'], [4.544243305780131, 'заявить'], [4.579334625591401, 'затрудняться'], [4.579334625591401, 'обосновывать'], [4.579334625591401, 'специализироваться'], [4.653442597745123, 'отстранить'], [4.733485305418659, 'разгораться'], [4.915806862212614, 'амнистировать'], [5.02116737787044, 'Стэнли'], [5.078325791710389, 'потребовать'], [5.138950413526824, 'затребовать'], [5.2724818061513465, 'Скакел'], [5.2724818061513465, 'предписываться'], [5.346589778305068, 'создаваемый'], [5.426632485978605, 'возыметь'], [5.426632485978605, 'отделываться'], [5.426632485978605, 'приговорять'], [5.6089540427725595, 'Эксли'], [5.714314558430385, 'изложить'], [5.714314558430385, 'предупредить'], [5.832097594086769, 'нанять'], [5.832097594086769, 'признать'], [5.89663611522434, 'потерпевшая'], [5.965628986711292, 'Бредли'], [5.965628986711292, 'Хартли'], [6.11977966653855, 'завить'], [6.11977966653855, 'оспорить'], [6.11977966653855, 'перекладывать'], [6.11977966653855, 'придумать'], [6.11977966653855, 'разморозить'], [6.302101223332504, 'отстоять'], [6.407461738990331, 'ходатайствовать'], [6.525244774646715, 'мотивировывать'], [6.525244774646715, 'неисключать'], [6.812926847098495, 'Розан'], [6.812926847098495, 'Сери'], [6.812926847098495, 'изрешекать'], [6.812926847098495, 'отменить'], [6.812926847098495, 'понесать'], [6.995248403892449, 'Хэрриет'], [7.218391955206659, 'Юшинутверждал'], [7.218391955206659, 'Яртый'], [7.218391955206659, 'специализируться'], [7.218391955206659, 'ужепредложивать'], [7.506074027658441, 'Зозуть'], [7.9115391357666045, 'затребовавать'], [7.9115391357666045, 'спросить']]\n"
          ],
          "name": "stdout"
        }
      ]
    },
    {
      "cell_type": "markdown",
      "metadata": {
        "id": "e6Z2b-TDarvn"
      },
      "source": [
        "PMI для общего корпуса"
      ]
    },
    {
      "cell_type": "code",
      "metadata": {
        "colab": {
          "base_uri": "https://localhost:8080/"
        },
        "id": "2auk9NabXEt9",
        "outputId": "a7efe887-1361-4be8-ae61-3116cde66de7"
      },
      "source": [
        "unlc=[]\n",
        "for sentence in law_corpora:\n",
        "  if sentence in unlc:\n",
        "    continue\n",
        "  else:\n",
        "    unlc.append(sentence)\n",
        "print(len(unlc))"
      ],
      "execution_count": 556,
      "outputs": [
        {
          "output_type": "stream",
          "text": [
            "2601\n"
          ],
          "name": "stdout"
        }
      ]
    },
    {
      "cell_type": "code",
      "metadata": {
        "id": "LZnXrklOXZwL"
      },
      "source": [
        "for sentence in unlc:\n",
        "  for i in sentence:\n",
        "    if re.match(r'[0-9]', i):\n",
        "      pass\n",
        "    else:\n",
        "      sentence.remove(i)"
      ],
      "execution_count": 557,
      "outputs": []
    },
    {
      "cell_type": "code",
      "metadata": {
        "id": "-_g6FBZwXZwN"
      },
      "source": [
        "for sentence in unlc:\n",
        "  for i in sentence:\n",
        "    if i.startswith('_'):\n",
        "      sentence.remove(i)"
      ],
      "execution_count": 558,
      "outputs": []
    },
    {
      "cell_type": "code",
      "metadata": {
        "id": "FcTXpFvMXZwP"
      },
      "source": [
        "for sentence in unlc:\n",
        "  for i in sentence:\n",
        "    if re.match(r'_', i):\n",
        "      sentence.remove(i)"
      ],
      "execution_count": 559,
      "outputs": []
    },
    {
      "cell_type": "code",
      "metadata": {
        "id": "Zk9XFdpvXZwQ"
      },
      "source": [
        "for sentence in unlc:\n",
        "  for i in sentence:\n",
        "    if re.match(r':', i):\n",
        "      sentence.remove(i)"
      ],
      "execution_count": 560,
      "outputs": []
    },
    {
      "cell_type": "code",
      "metadata": {
        "id": "I4hSA9YIXZwR"
      },
      "source": [
        "for sentence in unlc:\n",
        "  for i in sentence:\n",
        "    if re.match(r'[а-я]', i):\n",
        "      sentence.remove(i)"
      ],
      "execution_count": 561,
      "outputs": []
    },
    {
      "cell_type": "code",
      "metadata": {
        "id": "qx8gVsfGXZwS"
      },
      "source": [
        "for sentence in unlc:\n",
        "  for i in sentence:\n",
        "    if i=='':\n",
        "      print(sentence)"
      ],
      "execution_count": 562,
      "outputs": []
    },
    {
      "cell_type": "code",
      "metadata": {
        "id": "aKPYfPcQXZwT"
      },
      "source": [
        "for sentence in unlc:\n",
        "  for i in sentence:\n",
        "    if re.match(r'_PUNCT_', i):\n",
        "      sentence.remove(i)"
      ],
      "execution_count": 563,
      "outputs": []
    },
    {
      "cell_type": "code",
      "metadata": {
        "colab": {
          "base_uri": "https://localhost:8080/"
        },
        "id": "yEs8ruuDMwve",
        "outputId": "7144045a-6fb0-498b-95b9-f3c240fe635f"
      },
      "source": [
        "parsed_unlc=[]\n",
        "for sentence in unlc:\n",
        "  p_sent=[]\n",
        "  for i in sentence:\n",
        "    w=[]\n",
        "    w=i.split(sep=\"_\")\n",
        "    if re.match(r'_PUNCT_', i):\n",
        "      pass\n",
        "    else:\n",
        "      if len(w)<3:\n",
        "        if i not in sentence:\n",
        "          pass\n",
        "        else:\n",
        "          sentence.remove(i)\n",
        "      else:\n",
        "        p_sent.append(w[2])\n",
        "  parsed_unlc.append(p_sent)\n",
        "print(parsed_unlc[:10])"
      ],
      "execution_count": 564,
      "outputs": [
        {
          "output_type": "stream",
          "text": [
            "[['швейцарский', 'федеральный', 'прокурор', 'дель', 'Понти', 'заявлять', 'что', 'работать', 'на', 'шеф', 'разведывательный', 'служба', 'и', 'получать', '5,8', 'миллион', 'доллар', 'от', 'министерство', 'оборона', 'для', 'покупка', 'огромный', 'количество', 'оружие'], ['адвокат', 'Сед', 'заявлять', 'что', 'он', 'клиент', 'отвергать', 'этот', 'обвинение'], ['дель', 'Понти', 'недавно', 'становиться', 'прокурор', 'международный', 'по', 'военный', 'преступление', 'заявлять', 'что', 'дело', 'против', 'и', 'еще', 'трое', 'высокопоставленный', 'чиновник', 'закрывать'], ['федеральный', 'прокурор', 'добавлять', 'что', 'расследование', 'быть', 'продолжить', 'в', 'отношение', 'шеф', 'стратегический', 'информационный', 'служба', 'который', 'возникать', 'в', 'документ', 'по', 'дело'], ['бывший', 'генеральный', 'прокурор', 'юрий', 'считать', 'что', 'близкий', 'окружение', 'президент', 'пытаться', 'препятствовать', 'серьезный', 'расследование', 'ситуация', 'связывать', 'с', 'bank', 'of', 'new', 'york', 'через', 'который', 'отмываться', 'деньги', 'получать', 'от'], ['мой', 'адвокат', 'изучать', 'документ', 'чтобы', 'обращаться', 'в', 'суд'], ['сумма', 'возмещение', 'ущерб', 'по', 'иск', 'в', 'настоящий', 'времяопределяться', 'адвокат', 'и', 'юрист', 'заниматься', 'подготовкойисковый', 'заявление'], ['но', 'окружной', 'судья', 'решать', 'дело', 'в', 'польза', 'веб', '-издательствый', 'она', 'отвергать', 'требование', 'в', 'судебный', 'порядок', 'запрещать', 'публикация', 'секретный', 'документ', 'поскольку', 'такой', 'запрет', 'нарушать', 'бы', 'свобода', 'слово'], ['однако', 'судья', 'все', 'же', 'выносить', 'постановление', 'связывать', 'с', 'то', 'что', 'нарушать', 'копирайт', 'компания'], ['при', 'это', 'судья', 'добавлять', 'что', 'судебный', 'система', 'только', 'начинать', 'подходить', 'к', 'такой', 'сложный', 'вопрос', 'как', 'свобода', 'слово', 'и', 'защита', 'интеллектуальный', 'собственность', 'в']]\n"
          ],
          "name": "stdout"
        }
      ]
    },
    {
      "cell_type": "code",
      "metadata": {
        "colab": {
          "base_uri": "https://localhost:8080/"
        },
        "id": "aLV3J43cEhzl",
        "outputId": "345cfb84-8f15-4264-be92-5c673ad9df32"
      },
      "source": [
        "spisok = []\n",
        "diff = {}\n",
        "b = {}\n",
        "for sentence in unlc:\n",
        "  for i in sentence:\n",
        "    if '_судья_' in i:\n",
        "      if i not in sentence:\n",
        "        pass\n",
        "      else:\n",
        "        n = sentence.index(i)\n",
        "        #print(n)\n",
        "        if i == sentence[-1]:\n",
        "          p = sentence[n-1]\n",
        "          big = p.split('_')\n",
        "          #print(big)\n",
        "          if len(big) < 4:\n",
        "            pass\n",
        "          else:\n",
        "            #print(big[3])\n",
        "            if big[3] == 'VERB':\n",
        "              spisok.append('судья '+big[2])\n",
        "            else:\n",
        "              pass\n",
        "            #print(spisok)\n",
        "        else:\n",
        "          m = sentence[n+1]\n",
        "          big = m.split('_')\n",
        "          if len(big) < 4:\n",
        "            pass\n",
        "          else:\n",
        "            if big[3] == 'VERB':\n",
        "              spisok.append('судья '+big[2])\n",
        "          if i == sentence[-2]:\n",
        "            pass\n",
        "          else:\n",
        "            o = sentence[n+2]\n",
        "            big = p.split('_')\n",
        "            if len(big) < 4:\n",
        "               pass\n",
        "            else:\n",
        "              if big[3] == 'VERB':\n",
        "                spisok.append('судья '+big[2])\n",
        "            if i == sentence[-1]:\n",
        "              pass\n",
        "print(spisok)\n",
        "for i in spisok:\n",
        "  if i in diff.keys():\n",
        "    for w, l in diff.items():\n",
        "      diff[i] = l+1\n",
        "  else:\n",
        "    diff[i] = 1\n",
        "print(diff)"
      ],
      "execution_count": 565,
      "outputs": [
        {
          "output_type": "stream",
          "text": [
            "['судья решать', 'судья добавлять', 'судья подпереть', 'судья отклонять', 'судья считать', 'судья направлять', 'судья получать', 'судья признавать', 'судья проводить', 'судья постановить', 'судья вызывать', 'судья вызывать', 'судья удовлетворять', 'судья удовлетворять', 'судья запрещать', 'судья мочь', 'судья возглавлять', 'судья гласить', 'судья объявлять', 'судья отказываться', 'судья добиваться', 'судья комментировать', 'судья обеспокоить', 'судья вынести', 'судья отклонять', 'судья отмечать', 'судья сообщать', 'судья сообщать', 'судья сообщать', 'судья назначать', 'судья сообщать', 'судья сообщать', 'судья назначить', 'судья сообщать', 'судья сообщать', 'судья сообщать', 'судья обнародовать', 'судья сообщать', 'судья сообщать', 'судья договориться', 'судья проходить', 'судья соглашаться', 'судья объявлять', 'судья выносить', 'судья Л', 'судья наносить', 'судья вести', 'судья возглавлять', 'судья объявлять', 'судья приходить', 'судья рассматривать', 'судья отбывать', 'судья делить', 'судья возглавлять', 'судья наблюдать', 'судья наблюдать', 'судья наблюдать', 'судья наблюдать', 'судья выступать', 'судья закрывать', 'судья поступать', 'судья рассматривать', 'судья связывать', 'судья удовлетворять', 'судья признавать', 'судья занимать', 'судья назначать', 'судья Санджованниприступит', 'судья рассматривать', 'судья заявлять', 'судья выносить', 'судья ведущий', 'судья приостановить', 'судья просить', 'судья прекращать', 'судья пояснять', 'судья приходиться', 'судья издавать', 'судья приговаривать', 'судья выносить', 'судья отвергать', 'судья постановлять', 'судья игнорировать', 'судья отмечать', 'судья заявлять', 'судья служить', 'судья заявлять', 'судья заявлять', 'судья заявлять', 'судья заявлять', 'судья постановлять', 'судья запрещать', 'судья издавать', 'судья разрешать', 'судья отказывать', 'судья обнаруживать', 'судья выгонять', 'судья Мтбя', 'судья указывать', 'судья требовать', 'судья считать', 'судья направлять', 'судья принимать', 'судья давать', 'судья молчать', 'судья отклонять', 'судья предлагать', 'судья соглашаться', 'судья назначать', 'судья крикнуть', 'судья констатировать', 'судья называть', 'судья сказать', 'судья принимать', 'судья принимать', 'судья одобрять', 'судья выносить', 'судья мочь', 'судья направлять', 'судья Салониуспредоставлять', 'судья признавать', 'судья заслушать', 'судья отвергать', 'судья заявлять', 'судья заявлять', 'судья предстоять', 'судья заявлять', 'судья мочь', 'судья заявлять', 'судья заявлять', 'судья соглашаться', 'судья заявлять', 'судья заявлять', 'судья заявлять', 'судья заявлять', 'судья заявлять', 'судья заявлять', 'судья передавать', 'судья заявлять', 'судья заявлять', 'судья постановлять', 'судья заявлять', 'судья заявлять', 'судья заявлять', 'судья заявлять', 'судья заявлять', 'судья заявлять', 'судья заявлять', 'судья мочь', 'судья обязать', 'судья выносить', 'судья выносить', 'судья приходить', 'судья получать', 'судья примененыненадлежащий', 'судья приходить', 'судья решать', 'судья добавлять', 'судья признавать', 'судья удалить', 'судья заканчивать', 'судья разделяться', 'судья опубликовывать', 'судья вести', 'судья председательствовать', 'судья вести', 'судья вести', 'судья вести', 'судья давать', 'судья вести', 'судья вести', 'судья вести', 'судья сказать', 'судья Ю', 'судья совершать', 'судья лишать', 'судья заявлять', 'судья принимать', 'судья отмечать', 'судья постановить', 'судья отдавать', 'судья решать', 'судья учесть', 'судья рассматривать', 'судья заявлять', 'судья решать', 'судья Галиано', 'судья находить', 'судья подтверждать', 'судья поддерживать', 'судья выносить', 'судья отклонить', 'судья отклонить', 'судья отклонить', 'судья отклонить', 'судья отклонить', 'судья отказываться', 'судья отклонить', 'судья сказать', 'судья отклонить', 'судья отклонить', 'судья отклонить', 'судья отклонить', 'судья отклонить', 'судья отклонить', 'судья отклонить', 'судья отвергать', 'судья отклонить', 'судья отклонить', 'судья отклонить', 'судья ведущий', 'судья отклонить', 'судья решать', 'судья отклонить', 'судья отклонять', 'судья отклонить', 'судья уносить', 'судья отклонить', 'судья быть', 'судья отклонить', 'судья отклонить', 'судья отклонить', 'судья отклонить', 'судья отклонить', 'судья отклонить', 'судья отклонить', 'судья отклонить', 'судья отклонить', 'судья отклонить', 'судья признавать', 'судья отклонить', 'судья обсуждать', 'судья отклонить', 'судья сохранять', 'судья отклонить', 'судья уходить', 'судья отклонить', 'судья отклонить', 'судья отклонить', 'судья признавать', 'судья отклонить', 'судья выслушивать', 'судья отклонить', 'судья отклонить', 'судья сказать', 'судья давать', 'судья лишать', 'судья заявлять', 'судья интересовать', 'судья обязать', 'судья оставаться', 'судья устанавливать', 'судья заявлять', 'судья ограничивать', 'судья пойти', 'судья считать', 'судья прекращать', 'судья удовлетворять', 'судья заявлять', 'судья предстоять', 'судья выносить', 'судья отказываться', 'судья прекращать', 'судья выносить', 'судья руководствоваться', 'судья ставить', 'судья предстоять', 'судья беседовать', 'судья предстать', 'судья выпускать', 'судья объявлять', 'судья заявлять', 'судья постановлять', 'судья уменьшать', 'судья демонстрировать', 'судья признавать', 'судья председательствующий', 'судья принимать', 'судья председательствующий', 'судья отказываться', 'судья объяснять', 'судья отправлять', 'судья информировать', 'судья заявлять', 'судья отдавать', 'судья отмечать', 'судья убеждать', 'судья убеждать', 'судья убеждать', 'судья следовать', 'судья уменьшать', 'судья отказывать', 'судья заявлять', 'судья относиться', 'судья заявлять', 'судья заявлять', 'судья заявлять', 'судья отсмеяться', 'судья заявлять', 'судья прекращать', 'судья заявлять', 'судья заявлять', 'судья сказать', 'судья напоминать', 'судья представлять', 'судья сменить', 'судья сменить', 'судья сменить', 'судья сменить', 'судья постановлять', 'судья сменить', 'судья пообещать', 'судья сменить', 'судья сменить', 'судья действовать', 'судья сменить', 'судья сменить', 'судья сменить', 'судья сменить', 'судья сменить', 'судья обязать', 'судья сменить', 'судья сменить', 'судья признавать', 'судья давать', 'судья отказывать', 'судья отказываться', 'судья допрашивать', 'судья заявлять', 'судья мочь', 'судья оставлять', 'судья отказываться', 'судья заявлять', 'судья проводить', 'судья рассматривать', 'судья предстоять', 'судья заниматься', 'судья вставать', 'судья порекомендовать', 'судья давать', 'судья признавать']\n",
            "{'судья решать': 4, 'судья добавлять': 2, 'судья подпереть': 1, 'судья отклонять': 4, 'судья считать': 2, 'судья направлять': 2, 'судья получать': 2, 'судья признавать': 2, 'судья проводить': 2, 'судья постановить': 2, 'судья вызывать': 3, 'судья удовлетворять': 2, 'судья запрещать': 2, 'судья мочь': 2, 'судья возглавлять': 2, 'судья гласить': 1, 'судья объявлять': 2, 'судья отказываться': 2, 'судья добиваться': 1, 'судья комментировать': 1, 'судья обеспокоить': 1, 'судья вынести': 1, 'судья отмечать': 2, 'судья сообщать': 2, 'судья назначать': 2, 'судья назначить': 1, 'судья обнародовать': 1, 'судья договориться': 1, 'судья проходить': 1, 'судья соглашаться': 2, 'судья выносить': 2, 'судья Л': 1, 'судья наносить': 1, 'судья вести': 2, 'судья приходить': 2, 'судья рассматривать': 2, 'судья отбывать': 1, 'судья делить': 1, 'судья наблюдать': 3, 'судья выступать': 1, 'судья закрывать': 1, 'судья поступать': 1, 'судья связывать': 1, 'судья занимать': 1, 'судья Санджованниприступит': 1, 'судья заявлять': 2, 'судья ведущий': 4, 'судья приостановить': 1, 'судья просить': 1, 'судья прекращать': 2, 'судья пояснять': 1, 'судья приходиться': 1, 'судья издавать': 2, 'судья приговаривать': 1, 'судья отвергать': 4, 'судья постановлять': 4, 'судья игнорировать': 1, 'судья служить': 1, 'судья разрешать': 1, 'судья отказывать': 2, 'судья обнаруживать': 1, 'судья выгонять': 1, 'судья Мтбя': 1, 'судья указывать': 1, 'судья требовать': 1, 'судья принимать': 2, 'судья давать': 2, 'судья молчать': 1, 'судья предлагать': 1, 'судья крикнуть': 1, 'судья констатировать': 1, 'судья называть': 1, 'судья сказать': 2, 'судья одобрять': 1, 'судья Салониуспредоставлять': 1, 'судья заслушать': 1, 'судья предстоять': 2, 'судья передавать': 1, 'судья обязать': 2, 'судья примененыненадлежащий': 1, 'судья удалить': 1, 'судья заканчивать': 1, 'судья разделяться': 1, 'судья опубликовывать': 1, 'судья председательствовать': 1, 'судья Ю': 1, 'судья совершать': 1, 'судья лишать': 2, 'судья отдавать': 2, 'судья учесть': 1, 'судья Галиано': 1, 'судья находить': 1, 'судья подтверждать': 1, 'судья поддерживать': 1, 'судья отклонить': 2, 'судья уносить': 1, 'судья быть': 1, 'судья обсуждать': 1, 'судья сохранять': 1, 'судья уходить': 1, 'судья выслушивать': 1, 'судья интересовать': 1, 'судья оставаться': 1, 'судья устанавливать': 1, 'судья ограничивать': 1, 'судья пойти': 1, 'судья руководствоваться': 1, 'судья ставить': 1, 'судья беседовать': 1, 'судья предстать': 1, 'судья выпускать': 1, 'судья уменьшать': 2, 'судья демонстрировать': 1, 'судья председательствующий': 3, 'судья объяснять': 1, 'судья отправлять': 1, 'судья информировать': 1, 'судья убеждать': 3, 'судья следовать': 1, 'судья относиться': 1, 'судья отсмеяться': 1, 'судья напоминать': 1, 'судья представлять': 1, 'судья сменить': 2, 'судья пообещать': 1, 'судья действовать': 1, 'судья допрашивать': 1, 'судья оставлять': 1, 'судья заниматься': 1, 'судья вставать': 1, 'судья порекомендовать': 1}\n"
          ],
          "name": "stdout"
        }
      ]
    },
    {
      "cell_type": "code",
      "metadata": {
        "colab": {
          "base_uri": "https://localhost:8080/"
        },
        "id": "q5IjupsbPArp",
        "outputId": "04dfe47a-ea4e-4b5f-c2a3-5982337574a6"
      },
      "source": [
        "diff2=diff.copy()\n",
        "for w,l in diff.items():\n",
        "  summa=sum(diff.values())\n",
        "  diff2[w] = summa-l\n",
        "print(diff2)"
      ],
      "execution_count": 566,
      "outputs": [
        {
          "output_type": "stream",
          "text": [
            "{'судья решать': 185, 'судья добавлять': 187, 'судья подпереть': 188, 'судья отклонять': 185, 'судья считать': 187, 'судья направлять': 187, 'судья получать': 187, 'судья признавать': 187, 'судья проводить': 187, 'судья постановить': 187, 'судья вызывать': 186, 'судья удовлетворять': 187, 'судья запрещать': 187, 'судья мочь': 187, 'судья возглавлять': 187, 'судья гласить': 188, 'судья объявлять': 187, 'судья отказываться': 187, 'судья добиваться': 188, 'судья комментировать': 188, 'судья обеспокоить': 188, 'судья вынести': 188, 'судья отмечать': 187, 'судья сообщать': 187, 'судья назначать': 187, 'судья назначить': 188, 'судья обнародовать': 188, 'судья договориться': 188, 'судья проходить': 188, 'судья соглашаться': 187, 'судья выносить': 187, 'судья Л': 188, 'судья наносить': 188, 'судья вести': 187, 'судья приходить': 187, 'судья рассматривать': 187, 'судья отбывать': 188, 'судья делить': 188, 'судья наблюдать': 186, 'судья выступать': 188, 'судья закрывать': 188, 'судья поступать': 188, 'судья связывать': 188, 'судья занимать': 188, 'судья Санджованниприступит': 188, 'судья заявлять': 187, 'судья ведущий': 185, 'судья приостановить': 188, 'судья просить': 188, 'судья прекращать': 187, 'судья пояснять': 188, 'судья приходиться': 188, 'судья издавать': 187, 'судья приговаривать': 188, 'судья отвергать': 185, 'судья постановлять': 185, 'судья игнорировать': 188, 'судья служить': 188, 'судья разрешать': 188, 'судья отказывать': 187, 'судья обнаруживать': 188, 'судья выгонять': 188, 'судья Мтбя': 188, 'судья указывать': 188, 'судья требовать': 188, 'судья принимать': 187, 'судья давать': 187, 'судья молчать': 188, 'судья предлагать': 188, 'судья крикнуть': 188, 'судья констатировать': 188, 'судья называть': 188, 'судья сказать': 187, 'судья одобрять': 188, 'судья Салониуспредоставлять': 188, 'судья заслушать': 188, 'судья предстоять': 187, 'судья передавать': 188, 'судья обязать': 187, 'судья примененыненадлежащий': 188, 'судья удалить': 188, 'судья заканчивать': 188, 'судья разделяться': 188, 'судья опубликовывать': 188, 'судья председательствовать': 188, 'судья Ю': 188, 'судья совершать': 188, 'судья лишать': 187, 'судья отдавать': 187, 'судья учесть': 188, 'судья Галиано': 188, 'судья находить': 188, 'судья подтверждать': 188, 'судья поддерживать': 188, 'судья отклонить': 187, 'судья уносить': 188, 'судья быть': 188, 'судья обсуждать': 188, 'судья сохранять': 188, 'судья уходить': 188, 'судья выслушивать': 188, 'судья интересовать': 188, 'судья оставаться': 188, 'судья устанавливать': 188, 'судья ограничивать': 188, 'судья пойти': 188, 'судья руководствоваться': 188, 'судья ставить': 188, 'судья беседовать': 188, 'судья предстать': 188, 'судья выпускать': 188, 'судья уменьшать': 187, 'судья демонстрировать': 188, 'судья председательствующий': 186, 'судья объяснять': 188, 'судья отправлять': 188, 'судья информировать': 188, 'судья убеждать': 186, 'судья следовать': 188, 'судья относиться': 188, 'судья отсмеяться': 188, 'судья напоминать': 188, 'судья представлять': 188, 'судья сменить': 187, 'судья пообещать': 188, 'судья действовать': 188, 'судья допрашивать': 188, 'судья оставлять': 188, 'судья заниматься': 188, 'судья вставать': 188, 'судья порекомендовать': 188}\n"
          ],
          "name": "stdout"
        }
      ]
    },
    {
      "cell_type": "code",
      "metadata": {
        "colab": {
          "base_uri": "https://localhost:8080/"
        },
        "id": "tvYrv2zeTiJg",
        "outputId": "a6974ffe-7b86-4054-edf2-2a0ba41ed9d0"
      },
      "source": [
        "b={}\n",
        "diff3={}\n",
        "print(spisok)\n",
        "for i in spisok:\n",
        "  big = i.split(' ')[1]\n",
        "  freq_b = 2\n",
        "  for sentence in parsed_unlc:\n",
        "    for ip in sentence:\n",
        "      #print(i)\n",
        "      #print(\"___\"+big)\n",
        "      if ip == big:\n",
        "        #print(sentence)\n",
        "        freq_b += 1\n",
        "  b[big] = freq_b\n",
        "print(b)\n",
        "for w,l in diff.items():\n",
        "  big = w.split(' ')[1]\n",
        "  for wor, lis in list(b.items()):\n",
        "    if wor==big:\n",
        "      diff3[\"судья \"+wor] = lis - l\n",
        "      #print(lis)\n",
        "      #print(l)\n",
        "print(diff3)"
      ],
      "execution_count": 575,
      "outputs": [
        {
          "output_type": "stream",
          "text": [
            "['судья решать', 'судья добавлять', 'судья подпереть', 'судья отклонять', 'судья считать', 'судья направлять', 'судья получать', 'судья признавать', 'судья проводить', 'судья постановить', 'судья вызывать', 'судья вызывать', 'судья удовлетворять', 'судья удовлетворять', 'судья запрещать', 'судья мочь', 'судья возглавлять', 'судья гласить', 'судья объявлять', 'судья отказываться', 'судья добиваться', 'судья комментировать', 'судья обеспокоить', 'судья вынести', 'судья отклонять', 'судья отмечать', 'судья сообщать', 'судья сообщать', 'судья сообщать', 'судья назначать', 'судья сообщать', 'судья сообщать', 'судья назначить', 'судья сообщать', 'судья сообщать', 'судья сообщать', 'судья обнародовать', 'судья сообщать', 'судья сообщать', 'судья договориться', 'судья проходить', 'судья соглашаться', 'судья объявлять', 'судья выносить', 'судья Л', 'судья наносить', 'судья вести', 'судья возглавлять', 'судья объявлять', 'судья приходить', 'судья рассматривать', 'судья отбывать', 'судья делить', 'судья возглавлять', 'судья наблюдать', 'судья наблюдать', 'судья наблюдать', 'судья наблюдать', 'судья выступать', 'судья закрывать', 'судья поступать', 'судья рассматривать', 'судья связывать', 'судья удовлетворять', 'судья признавать', 'судья занимать', 'судья назначать', 'судья Санджованниприступит', 'судья рассматривать', 'судья заявлять', 'судья выносить', 'судья ведущий', 'судья приостановить', 'судья просить', 'судья прекращать', 'судья пояснять', 'судья приходиться', 'судья издавать', 'судья приговаривать', 'судья выносить', 'судья отвергать', 'судья постановлять', 'судья игнорировать', 'судья отмечать', 'судья заявлять', 'судья служить', 'судья заявлять', 'судья заявлять', 'судья заявлять', 'судья заявлять', 'судья постановлять', 'судья запрещать', 'судья издавать', 'судья разрешать', 'судья отказывать', 'судья обнаруживать', 'судья выгонять', 'судья Мтбя', 'судья указывать', 'судья требовать', 'судья считать', 'судья направлять', 'судья принимать', 'судья давать', 'судья молчать', 'судья отклонять', 'судья предлагать', 'судья соглашаться', 'судья назначать', 'судья крикнуть', 'судья констатировать', 'судья называть', 'судья сказать', 'судья принимать', 'судья принимать', 'судья одобрять', 'судья выносить', 'судья мочь', 'судья направлять', 'судья Салониуспредоставлять', 'судья признавать', 'судья заслушать', 'судья отвергать', 'судья заявлять', 'судья заявлять', 'судья предстоять', 'судья заявлять', 'судья мочь', 'судья заявлять', 'судья заявлять', 'судья соглашаться', 'судья заявлять', 'судья заявлять', 'судья заявлять', 'судья заявлять', 'судья заявлять', 'судья заявлять', 'судья передавать', 'судья заявлять', 'судья заявлять', 'судья постановлять', 'судья заявлять', 'судья заявлять', 'судья заявлять', 'судья заявлять', 'судья заявлять', 'судья заявлять', 'судья заявлять', 'судья мочь', 'судья обязать', 'судья выносить', 'судья выносить', 'судья приходить', 'судья получать', 'судья примененыненадлежащий', 'судья приходить', 'судья решать', 'судья добавлять', 'судья признавать', 'судья удалить', 'судья заканчивать', 'судья разделяться', 'судья опубликовывать', 'судья вести', 'судья председательствовать', 'судья вести', 'судья вести', 'судья вести', 'судья давать', 'судья вести', 'судья вести', 'судья вести', 'судья сказать', 'судья Ю', 'судья совершать', 'судья лишать', 'судья заявлять', 'судья принимать', 'судья отмечать', 'судья постановить', 'судья отдавать', 'судья решать', 'судья учесть', 'судья рассматривать', 'судья заявлять', 'судья решать', 'судья Галиано', 'судья находить', 'судья подтверждать', 'судья поддерживать', 'судья выносить', 'судья отклонить', 'судья отклонить', 'судья отклонить', 'судья отклонить', 'судья отклонить', 'судья отказываться', 'судья отклонить', 'судья сказать', 'судья отклонить', 'судья отклонить', 'судья отклонить', 'судья отклонить', 'судья отклонить', 'судья отклонить', 'судья отклонить', 'судья отвергать', 'судья отклонить', 'судья отклонить', 'судья отклонить', 'судья ведущий', 'судья отклонить', 'судья решать', 'судья отклонить', 'судья отклонять', 'судья отклонить', 'судья уносить', 'судья отклонить', 'судья быть', 'судья отклонить', 'судья отклонить', 'судья отклонить', 'судья отклонить', 'судья отклонить', 'судья отклонить', 'судья отклонить', 'судья отклонить', 'судья отклонить', 'судья отклонить', 'судья признавать', 'судья отклонить', 'судья обсуждать', 'судья отклонить', 'судья сохранять', 'судья отклонить', 'судья уходить', 'судья отклонить', 'судья отклонить', 'судья отклонить', 'судья признавать', 'судья отклонить', 'судья выслушивать', 'судья отклонить', 'судья отклонить', 'судья сказать', 'судья давать', 'судья лишать', 'судья заявлять', 'судья интересовать', 'судья обязать', 'судья оставаться', 'судья устанавливать', 'судья заявлять', 'судья ограничивать', 'судья пойти', 'судья считать', 'судья прекращать', 'судья удовлетворять', 'судья заявлять', 'судья предстоять', 'судья выносить', 'судья отказываться', 'судья прекращать', 'судья выносить', 'судья руководствоваться', 'судья ставить', 'судья предстоять', 'судья беседовать', 'судья предстать', 'судья выпускать', 'судья объявлять', 'судья заявлять', 'судья постановлять', 'судья уменьшать', 'судья демонстрировать', 'судья признавать', 'судья председательствующий', 'судья принимать', 'судья председательствующий', 'судья отказываться', 'судья объяснять', 'судья отправлять', 'судья информировать', 'судья заявлять', 'судья отдавать', 'судья отмечать', 'судья убеждать', 'судья убеждать', 'судья убеждать', 'судья следовать', 'судья уменьшать', 'судья отказывать', 'судья заявлять', 'судья относиться', 'судья заявлять', 'судья заявлять', 'судья заявлять', 'судья отсмеяться', 'судья заявлять', 'судья прекращать', 'судья заявлять', 'судья заявлять', 'судья сказать', 'судья напоминать', 'судья представлять', 'судья сменить', 'судья сменить', 'судья сменить', 'судья сменить', 'судья постановлять', 'судья сменить', 'судья пообещать', 'судья сменить', 'судья сменить', 'судья действовать', 'судья сменить', 'судья сменить', 'судья сменить', 'судья сменить', 'судья сменить', 'судья обязать', 'судья сменить', 'судья сменить', 'судья признавать', 'судья давать', 'судья отказывать', 'судья отказываться', 'судья допрашивать', 'судья заявлять', 'судья мочь', 'судья оставлять', 'судья отказываться', 'судья заявлять', 'судья проводить', 'судья рассматривать', 'судья предстоять', 'судья заниматься', 'судья вставать', 'судья порекомендовать', 'судья давать', 'судья признавать']\n",
            "{'решать': 40, 'добавлять': 19, 'подпереть': 3, 'отклонять': 39, 'считать': 84, 'направлять': 48, 'получать': 71, 'признавать': 48, 'проводить': 53, 'постановить': 6, 'вызывать': 32, 'удовлетворять': 58, 'запрещать': 26, 'мочь': 153, 'возглавлять': 15, 'гласить': 3, 'объявлять': 29, 'отказываться': 48, 'добиваться': 28, 'комментировать': 16, 'обеспокоить': 5, 'вынести': 12, 'отмечать': 88, 'сообщать': 430, 'назначать': 46, 'назначить': 7, 'обнародовать': 6, 'договориться': 4, 'проходить': 34, 'соглашаться': 22, 'выносить': 58, 'Л': 3, 'наносить': 6, 'вести': 27, 'приходить': 19, 'рассматривать': 48, 'отбывать': 4, 'делить': 3, 'наблюдать': 5, 'выступать': 39, 'закрывать': 7, 'поступать': 12, 'связывать': 28, 'занимать': 27, 'Санджованниприступит': 3, 'заявлять': 288, 'ведущий': 15, 'приостановить': 8, 'просить': 43, 'прекращать': 21, 'пояснять': 26, 'приходиться': 16, 'издавать': 4, 'приговаривать': 6, 'отвергать': 17, 'постановлять': 12, 'игнорировать': 4, 'служить': 10, 'разрешать': 14, 'отказывать': 15, 'обнаруживать': 8, 'выгонять': 3, 'Мтбя': 3, 'указывать': 20, 'требовать': 61, 'принимать': 93, 'давать': 48, 'молчать': 4, 'предлагать': 33, 'крикнуть': 3, 'констатировать': 3, 'называть': 30, 'сказать': 60, 'одобрять': 5, 'Салониуспредоставлять': 3, 'заслушать': 5, 'предстоять': 12, 'передавать': 100, 'обязать': 13, 'примененыненадлежащий': 3, 'удалить': 4, 'заканчивать': 4, 'разделяться': 3, 'опубликовывать': 12, 'председательствовать': 8, 'Ю': 3, 'совершать': 27, 'лишать': 9, 'отдавать': 6, 'учесть': 3, 'Галиано': 3, 'находить': 23, 'подтверждать': 38, 'поддерживать': 15, 'отклонить': 4, 'уносить': 3, 'быть': 595, 'обсуждать': 8, 'сохранять': 7, 'уходить': 10, 'выслушивать': 7, 'интересовать': 7, 'оставаться': 24, 'устанавливать': 21, 'ограничивать': 7, 'пойти': 7, 'руководствоваться': 6, 'ставить': 20, 'беседовать': 4, 'предстать': 5, 'выпускать': 13, 'уменьшать': 4, 'демонстрировать': 8, 'председательствующий': 3, 'объяснять': 13, 'отправлять': 8, 'информировать': 7, 'убеждать': 9, 'следовать': 7, 'относиться': 7, 'отсмеяться': 3, 'напоминать': 28, 'представлять': 72, 'сменить': 4, 'пообещать': 7, 'действовать': 18, 'допрашивать': 7, 'оставлять': 13, 'заниматься': 24, 'вставать': 4, 'порекомендовать': 3}\n",
            "{'судья решать': 36, 'судья добавлять': 17, 'судья подпереть': 2, 'судья отклонять': 35, 'судья считать': 82, 'судья направлять': 46, 'судья получать': 69, 'судья признавать': 46, 'судья проводить': 51, 'судья постановить': 4, 'судья вызывать': 29, 'судья удовлетворять': 56, 'судья запрещать': 24, 'судья мочь': 151, 'судья возглавлять': 13, 'судья гласить': 2, 'судья объявлять': 27, 'судья отказываться': 46, 'судья добиваться': 27, 'судья комментировать': 15, 'судья обеспокоить': 4, 'судья вынести': 11, 'судья отмечать': 86, 'судья сообщать': 428, 'судья назначать': 44, 'судья назначить': 6, 'судья обнародовать': 5, 'судья договориться': 3, 'судья проходить': 33, 'судья соглашаться': 20, 'судья выносить': 56, 'судья Л': 2, 'судья наносить': 5, 'судья вести': 25, 'судья приходить': 17, 'судья рассматривать': 46, 'судья отбывать': 3, 'судья делить': 2, 'судья наблюдать': 2, 'судья выступать': 38, 'судья закрывать': 6, 'судья поступать': 11, 'судья связывать': 27, 'судья занимать': 26, 'судья Санджованниприступит': 2, 'судья заявлять': 286, 'судья ведущий': 11, 'судья приостановить': 7, 'судья просить': 42, 'судья прекращать': 19, 'судья пояснять': 25, 'судья приходиться': 15, 'судья издавать': 2, 'судья приговаривать': 5, 'судья отвергать': 13, 'судья постановлять': 8, 'судья игнорировать': 3, 'судья служить': 9, 'судья разрешать': 13, 'судья отказывать': 13, 'судья обнаруживать': 7, 'судья выгонять': 2, 'судья Мтбя': 2, 'судья указывать': 19, 'судья требовать': 60, 'судья принимать': 91, 'судья давать': 46, 'судья молчать': 3, 'судья предлагать': 32, 'судья крикнуть': 2, 'судья констатировать': 2, 'судья называть': 29, 'судья сказать': 58, 'судья одобрять': 4, 'судья Салониуспредоставлять': 2, 'судья заслушать': 4, 'судья предстоять': 10, 'судья передавать': 99, 'судья обязать': 11, 'судья примененыненадлежащий': 2, 'судья удалить': 3, 'судья заканчивать': 3, 'судья разделяться': 2, 'судья опубликовывать': 11, 'судья председательствовать': 7, 'судья Ю': 2, 'судья совершать': 26, 'судья лишать': 7, 'судья отдавать': 4, 'судья учесть': 2, 'судья Галиано': 2, 'судья находить': 22, 'судья подтверждать': 37, 'судья поддерживать': 14, 'судья отклонить': 2, 'судья уносить': 2, 'судья быть': 594, 'судья обсуждать': 7, 'судья сохранять': 6, 'судья уходить': 9, 'судья выслушивать': 6, 'судья интересовать': 6, 'судья оставаться': 23, 'судья устанавливать': 20, 'судья ограничивать': 6, 'судья пойти': 6, 'судья руководствоваться': 5, 'судья ставить': 19, 'судья беседовать': 3, 'судья предстать': 4, 'судья выпускать': 12, 'судья уменьшать': 2, 'судья демонстрировать': 7, 'судья председательствующий': 0, 'судья объяснять': 12, 'судья отправлять': 7, 'судья информировать': 6, 'судья убеждать': 6, 'судья следовать': 6, 'судья относиться': 6, 'судья отсмеяться': 2, 'судья напоминать': 27, 'судья представлять': 71, 'судья сменить': 2, 'судья пообещать': 6, 'судья действовать': 17, 'судья допрашивать': 6, 'судья оставлять': 12, 'судья заниматься': 23, 'судья вставать': 3, 'судья порекомендовать': 2}\n"
          ],
          "name": "stdout"
        }
      ]
    },
    {
      "cell_type": "code",
      "metadata": {
        "colab": {
          "base_uri": "https://localhost:8080/"
        },
        "id": "aJcqYDkve8AJ",
        "outputId": "39e3adb7-119d-4f3b-c944-c080ef1bcd01"
      },
      "source": [
        "count=0\n",
        "for sentence in unlc:\n",
        "  count += len(sentence)\n",
        "print(count)"
      ],
      "execution_count": 576,
      "outputs": [
        {
          "output_type": "stream",
          "text": [
            "47843\n"
          ],
          "name": "stdout"
        }
      ]
    },
    {
      "cell_type": "code",
      "metadata": {
        "colab": {
          "base_uri": "https://localhost:8080/"
        },
        "id": "ily0zp04fGX8",
        "outputId": "c1b5ae6a-0d3e-4ae0-802b-26c062ea3821"
      },
      "source": [
        "diff4=diff.copy()\n",
        "for w,l in diff4.items():\n",
        "  for wo,li in diff2.items():\n",
        "    for wor,lis in diff3.items():\n",
        "      if w==wor==wo:\n",
        "        diff4[w]=count-l-li-lis\n",
        "print(diff4)"
      ],
      "execution_count": 578,
      "outputs": [
        {
          "output_type": "stream",
          "text": [
            "{'судья решать': 47618, 'судья добавлять': 47637, 'судья подпереть': 47652, 'судья отклонять': 47619, 'судья считать': 47572, 'судья направлять': 47608, 'судья получать': 47585, 'судья признавать': 47608, 'судья проводить': 47603, 'судья постановить': 47650, 'судья вызывать': 47625, 'судья удовлетворять': 47598, 'судья запрещать': 47630, 'судья мочь': 47503, 'судья возглавлять': 47641, 'судья гласить': 47652, 'судья объявлять': 47627, 'судья отказываться': 47608, 'судья добиваться': 47627, 'судья комментировать': 47639, 'судья обеспокоить': 47650, 'судья вынести': 47643, 'судья отмечать': 47568, 'судья сообщать': 47226, 'судья назначать': 47610, 'судья назначить': 47648, 'судья обнародовать': 47649, 'судья договориться': 47651, 'судья проходить': 47621, 'судья соглашаться': 47634, 'судья выносить': 47598, 'судья Л': 47652, 'судья наносить': 47649, 'судья вести': 47629, 'судья приходить': 47637, 'судья рассматривать': 47608, 'судья отбывать': 47651, 'судья делить': 47652, 'судья наблюдать': 47652, 'судья выступать': 47616, 'судья закрывать': 47648, 'судья поступать': 47643, 'судья связывать': 47627, 'судья занимать': 47628, 'судья Санджованниприступит': 47652, 'судья заявлять': 47368, 'судья ведущий': 47643, 'судья приостановить': 47647, 'судья просить': 47612, 'судья прекращать': 47635, 'судья пояснять': 47629, 'судья приходиться': 47639, 'судья издавать': 47652, 'судья приговаривать': 47649, 'судья отвергать': 47641, 'судья постановлять': 47646, 'судья игнорировать': 47651, 'судья служить': 47645, 'судья разрешать': 47641, 'судья отказывать': 47641, 'судья обнаруживать': 47647, 'судья выгонять': 47652, 'судья Мтбя': 47652, 'судья указывать': 47635, 'судья требовать': 47594, 'судья принимать': 47563, 'судья давать': 47608, 'судья молчать': 47651, 'судья предлагать': 47622, 'судья крикнуть': 47652, 'судья констатировать': 47652, 'судья называть': 47625, 'судья сказать': 47596, 'судья одобрять': 47650, 'судья Салониуспредоставлять': 47652, 'судья заслушать': 47650, 'судья предстоять': 47644, 'судья передавать': 47555, 'судья обязать': 47643, 'судья примененыненадлежащий': 47652, 'судья удалить': 47651, 'судья заканчивать': 47651, 'судья разделяться': 47652, 'судья опубликовывать': 47643, 'судья председательствовать': 47647, 'судья Ю': 47652, 'судья совершать': 47628, 'судья лишать': 47647, 'судья отдавать': 47650, 'судья учесть': 47652, 'судья Галиано': 47652, 'судья находить': 47632, 'судья подтверждать': 47617, 'судья поддерживать': 47640, 'судья отклонить': 47652, 'судья уносить': 47652, 'судья быть': 47060, 'судья обсуждать': 47647, 'судья сохранять': 47648, 'судья уходить': 47645, 'судья выслушивать': 47648, 'судья интересовать': 47648, 'судья оставаться': 47631, 'судья устанавливать': 47634, 'судья ограничивать': 47648, 'судья пойти': 47648, 'судья руководствоваться': 47649, 'судья ставить': 47635, 'судья беседовать': 47651, 'судья предстать': 47650, 'судья выпускать': 47642, 'судья уменьшать': 47652, 'судья демонстрировать': 47647, 'судья председательствующий': 47654, 'судья объяснять': 47642, 'судья отправлять': 47647, 'судья информировать': 47648, 'судья убеждать': 47648, 'судья следовать': 47648, 'судья относиться': 47648, 'судья отсмеяться': 47652, 'судья напоминать': 47627, 'судья представлять': 47583, 'судья сменить': 47652, 'судья пообещать': 47648, 'судья действовать': 47637, 'судья допрашивать': 47648, 'судья оставлять': 47642, 'судья заниматься': 47631, 'судья вставать': 47651, 'судья порекомендовать': 47652}\n"
          ],
          "name": "stdout"
        }
      ]
    },
    {
      "cell_type": "code",
      "metadata": {
        "colab": {
          "base_uri": "https://localhost:8080/"
        },
        "id": "F_U3wLFQBrEe",
        "outputId": "388a37f4-32f3-4737-9c7c-1a471f59a579"
      },
      "source": [
        "list1={}\n",
        "for w,l in diff.items():\n",
        "  for wo,li in diff2.items():\n",
        "    if w==wo:\n",
        "      list1[w]=[l,li]\n",
        "print(list1)"
      ],
      "execution_count": 579,
      "outputs": [
        {
          "output_type": "stream",
          "text": [
            "{'судья решать': [4, 185], 'судья добавлять': [2, 187], 'судья подпереть': [1, 188], 'судья отклонять': [4, 185], 'судья считать': [2, 187], 'судья направлять': [2, 187], 'судья получать': [2, 187], 'судья признавать': [2, 187], 'судья проводить': [2, 187], 'судья постановить': [2, 187], 'судья вызывать': [3, 186], 'судья удовлетворять': [2, 187], 'судья запрещать': [2, 187], 'судья мочь': [2, 187], 'судья возглавлять': [2, 187], 'судья гласить': [1, 188], 'судья объявлять': [2, 187], 'судья отказываться': [2, 187], 'судья добиваться': [1, 188], 'судья комментировать': [1, 188], 'судья обеспокоить': [1, 188], 'судья вынести': [1, 188], 'судья отмечать': [2, 187], 'судья сообщать': [2, 187], 'судья назначать': [2, 187], 'судья назначить': [1, 188], 'судья обнародовать': [1, 188], 'судья договориться': [1, 188], 'судья проходить': [1, 188], 'судья соглашаться': [2, 187], 'судья выносить': [2, 187], 'судья Л': [1, 188], 'судья наносить': [1, 188], 'судья вести': [2, 187], 'судья приходить': [2, 187], 'судья рассматривать': [2, 187], 'судья отбывать': [1, 188], 'судья делить': [1, 188], 'судья наблюдать': [3, 186], 'судья выступать': [1, 188], 'судья закрывать': [1, 188], 'судья поступать': [1, 188], 'судья связывать': [1, 188], 'судья занимать': [1, 188], 'судья Санджованниприступит': [1, 188], 'судья заявлять': [2, 187], 'судья ведущий': [4, 185], 'судья приостановить': [1, 188], 'судья просить': [1, 188], 'судья прекращать': [2, 187], 'судья пояснять': [1, 188], 'судья приходиться': [1, 188], 'судья издавать': [2, 187], 'судья приговаривать': [1, 188], 'судья отвергать': [4, 185], 'судья постановлять': [4, 185], 'судья игнорировать': [1, 188], 'судья служить': [1, 188], 'судья разрешать': [1, 188], 'судья отказывать': [2, 187], 'судья обнаруживать': [1, 188], 'судья выгонять': [1, 188], 'судья Мтбя': [1, 188], 'судья указывать': [1, 188], 'судья требовать': [1, 188], 'судья принимать': [2, 187], 'судья давать': [2, 187], 'судья молчать': [1, 188], 'судья предлагать': [1, 188], 'судья крикнуть': [1, 188], 'судья констатировать': [1, 188], 'судья называть': [1, 188], 'судья сказать': [2, 187], 'судья одобрять': [1, 188], 'судья Салониуспредоставлять': [1, 188], 'судья заслушать': [1, 188], 'судья предстоять': [2, 187], 'судья передавать': [1, 188], 'судья обязать': [2, 187], 'судья примененыненадлежащий': [1, 188], 'судья удалить': [1, 188], 'судья заканчивать': [1, 188], 'судья разделяться': [1, 188], 'судья опубликовывать': [1, 188], 'судья председательствовать': [1, 188], 'судья Ю': [1, 188], 'судья совершать': [1, 188], 'судья лишать': [2, 187], 'судья отдавать': [2, 187], 'судья учесть': [1, 188], 'судья Галиано': [1, 188], 'судья находить': [1, 188], 'судья подтверждать': [1, 188], 'судья поддерживать': [1, 188], 'судья отклонить': [2, 187], 'судья уносить': [1, 188], 'судья быть': [1, 188], 'судья обсуждать': [1, 188], 'судья сохранять': [1, 188], 'судья уходить': [1, 188], 'судья выслушивать': [1, 188], 'судья интересовать': [1, 188], 'судья оставаться': [1, 188], 'судья устанавливать': [1, 188], 'судья ограничивать': [1, 188], 'судья пойти': [1, 188], 'судья руководствоваться': [1, 188], 'судья ставить': [1, 188], 'судья беседовать': [1, 188], 'судья предстать': [1, 188], 'судья выпускать': [1, 188], 'судья уменьшать': [2, 187], 'судья демонстрировать': [1, 188], 'судья председательствующий': [3, 186], 'судья объяснять': [1, 188], 'судья отправлять': [1, 188], 'судья информировать': [1, 188], 'судья убеждать': [3, 186], 'судья следовать': [1, 188], 'судья относиться': [1, 188], 'судья отсмеяться': [1, 188], 'судья напоминать': [1, 188], 'судья представлять': [1, 188], 'судья сменить': [2, 187], 'судья пообещать': [1, 188], 'судья действовать': [1, 188], 'судья допрашивать': [1, 188], 'судья оставлять': [1, 188], 'судья заниматься': [1, 188], 'судья вставать': [1, 188], 'судья порекомендовать': [1, 188]}\n"
          ],
          "name": "stdout"
        }
      ]
    },
    {
      "cell_type": "code",
      "metadata": {
        "colab": {
          "base_uri": "https://localhost:8080/"
        },
        "id": "q7o96Hj6CNGS",
        "outputId": "2865e51d-ee29-4235-f86a-857be067de51"
      },
      "source": [
        "list2={}\n",
        "for w,l in list1.items():\n",
        "  for wo,li in diff3.items():\n",
        "    if w==wo:\n",
        "      l.append(li)\n",
        "      list2[w]=l\n",
        "print(list2)"
      ],
      "execution_count": 580,
      "outputs": [
        {
          "output_type": "stream",
          "text": [
            "{'судья решать': [4, 185, 36], 'судья добавлять': [2, 187, 17], 'судья подпереть': [1, 188, 2], 'судья отклонять': [4, 185, 35], 'судья считать': [2, 187, 82], 'судья направлять': [2, 187, 46], 'судья получать': [2, 187, 69], 'судья признавать': [2, 187, 46], 'судья проводить': [2, 187, 51], 'судья постановить': [2, 187, 4], 'судья вызывать': [3, 186, 29], 'судья удовлетворять': [2, 187, 56], 'судья запрещать': [2, 187, 24], 'судья мочь': [2, 187, 151], 'судья возглавлять': [2, 187, 13], 'судья гласить': [1, 188, 2], 'судья объявлять': [2, 187, 27], 'судья отказываться': [2, 187, 46], 'судья добиваться': [1, 188, 27], 'судья комментировать': [1, 188, 15], 'судья обеспокоить': [1, 188, 4], 'судья вынести': [1, 188, 11], 'судья отмечать': [2, 187, 86], 'судья сообщать': [2, 187, 428], 'судья назначать': [2, 187, 44], 'судья назначить': [1, 188, 6], 'судья обнародовать': [1, 188, 5], 'судья договориться': [1, 188, 3], 'судья проходить': [1, 188, 33], 'судья соглашаться': [2, 187, 20], 'судья выносить': [2, 187, 56], 'судья Л': [1, 188, 2], 'судья наносить': [1, 188, 5], 'судья вести': [2, 187, 25], 'судья приходить': [2, 187, 17], 'судья рассматривать': [2, 187, 46], 'судья отбывать': [1, 188, 3], 'судья делить': [1, 188, 2], 'судья наблюдать': [3, 186, 2], 'судья выступать': [1, 188, 38], 'судья закрывать': [1, 188, 6], 'судья поступать': [1, 188, 11], 'судья связывать': [1, 188, 27], 'судья занимать': [1, 188, 26], 'судья Санджованниприступит': [1, 188, 2], 'судья заявлять': [2, 187, 286], 'судья ведущий': [4, 185, 11], 'судья приостановить': [1, 188, 7], 'судья просить': [1, 188, 42], 'судья прекращать': [2, 187, 19], 'судья пояснять': [1, 188, 25], 'судья приходиться': [1, 188, 15], 'судья издавать': [2, 187, 2], 'судья приговаривать': [1, 188, 5], 'судья отвергать': [4, 185, 13], 'судья постановлять': [4, 185, 8], 'судья игнорировать': [1, 188, 3], 'судья служить': [1, 188, 9], 'судья разрешать': [1, 188, 13], 'судья отказывать': [2, 187, 13], 'судья обнаруживать': [1, 188, 7], 'судья выгонять': [1, 188, 2], 'судья Мтбя': [1, 188, 2], 'судья указывать': [1, 188, 19], 'судья требовать': [1, 188, 60], 'судья принимать': [2, 187, 91], 'судья давать': [2, 187, 46], 'судья молчать': [1, 188, 3], 'судья предлагать': [1, 188, 32], 'судья крикнуть': [1, 188, 2], 'судья констатировать': [1, 188, 2], 'судья называть': [1, 188, 29], 'судья сказать': [2, 187, 58], 'судья одобрять': [1, 188, 4], 'судья Салониуспредоставлять': [1, 188, 2], 'судья заслушать': [1, 188, 4], 'судья предстоять': [2, 187, 10], 'судья передавать': [1, 188, 99], 'судья обязать': [2, 187, 11], 'судья примененыненадлежащий': [1, 188, 2], 'судья удалить': [1, 188, 3], 'судья заканчивать': [1, 188, 3], 'судья разделяться': [1, 188, 2], 'судья опубликовывать': [1, 188, 11], 'судья председательствовать': [1, 188, 7], 'судья Ю': [1, 188, 2], 'судья совершать': [1, 188, 26], 'судья лишать': [2, 187, 7], 'судья отдавать': [2, 187, 4], 'судья учесть': [1, 188, 2], 'судья Галиано': [1, 188, 2], 'судья находить': [1, 188, 22], 'судья подтверждать': [1, 188, 37], 'судья поддерживать': [1, 188, 14], 'судья отклонить': [2, 187, 2], 'судья уносить': [1, 188, 2], 'судья быть': [1, 188, 594], 'судья обсуждать': [1, 188, 7], 'судья сохранять': [1, 188, 6], 'судья уходить': [1, 188, 9], 'судья выслушивать': [1, 188, 6], 'судья интересовать': [1, 188, 6], 'судья оставаться': [1, 188, 23], 'судья устанавливать': [1, 188, 20], 'судья ограничивать': [1, 188, 6], 'судья пойти': [1, 188, 6], 'судья руководствоваться': [1, 188, 5], 'судья ставить': [1, 188, 19], 'судья беседовать': [1, 188, 3], 'судья предстать': [1, 188, 4], 'судья выпускать': [1, 188, 12], 'судья уменьшать': [2, 187, 2], 'судья демонстрировать': [1, 188, 7], 'судья председательствующий': [3, 186, 0], 'судья объяснять': [1, 188, 12], 'судья отправлять': [1, 188, 7], 'судья информировать': [1, 188, 6], 'судья убеждать': [3, 186, 6], 'судья следовать': [1, 188, 6], 'судья относиться': [1, 188, 6], 'судья отсмеяться': [1, 188, 2], 'судья напоминать': [1, 188, 27], 'судья представлять': [1, 188, 71], 'судья сменить': [2, 187, 2], 'судья пообещать': [1, 188, 6], 'судья действовать': [1, 188, 17], 'судья допрашивать': [1, 188, 6], 'судья оставлять': [1, 188, 12], 'судья заниматься': [1, 188, 23], 'судья вставать': [1, 188, 3], 'судья порекомендовать': [1, 188, 2]}\n"
          ],
          "name": "stdout"
        }
      ]
    },
    {
      "cell_type": "code",
      "metadata": {
        "id": "O1Ls3MPXC2Ma"
      },
      "source": [
        "log_list={}\n",
        "for w,l in list2.items():\n",
        "  for wo,li in diff4.items():\n",
        "    if w==wo:\n",
        "      l.append(li)\n",
        "      log_list[w]=l"
      ],
      "execution_count": 581,
      "outputs": []
    },
    {
      "cell_type": "code",
      "metadata": {
        "colab": {
          "base_uri": "https://localhost:8080/"
        },
        "id": "GFeKXgWse7z6",
        "outputId": "50c9af09-c7ba-4c44-968a-7b28f458cd93"
      },
      "source": [
        "log_like_list={}\n",
        "ind=[]\n",
        "for w,l in log_list.items():\n",
        "  #print(w,l)\n",
        "  if l[2] == 0 or l[3] == 0:\n",
        "    pass\n",
        "  else:\n",
        "    log_likelihood=math.log((l[0]*l[3])/(l[1]*l[2]))-3.29*(1/(1/l[0]+1/l[2]+1/l[3]+1/l[1]))\n",
        "    log_like_list[w] = log_likelihood\n",
        "\n",
        "sorted_dict = {}\n",
        "sorted_keys = sorted(log_like_list, key=log_like_list.get)  # [1, 3, 2]\n",
        "\n",
        "for w in sorted_keys:\n",
        "    sorted_dict[w] = log_like_list[w]\n",
        "\n",
        "print(sorted_dict)\n",
        "#print(result)"
      ],
      "execution_count": 583,
      "outputs": [
        {
          "output_type": "stream",
          "text": [
            "{'судья решать': -8.263674304812152, 'судья отклонять': -8.203017800484673, 'судья сообщать': -6.314523022125212, 'судья заявлять': -5.893617432858596, 'судья вызывать': -5.53864823870975, 'судья отвергать': -5.526780162555354, 'судья мочь': -5.212585306143215, 'судья ведущий': -4.959925472929612, 'судья принимать': -4.650563511607314, 'судья отмечать': -4.586072347663963, 'судья считать': -4.53138607031123, 'судья получать': -4.330405431030172, 'судья быть': -4.13119516922122, 'судья сказать': -4.123226033841318, 'судья удовлетворять': -4.08068398717171, 'судья выносить': -4.08068398717171, 'судья проводить': -3.966083863632689, 'судья направлять': -3.837455085675459, 'судья признавать': -3.837455085675459, 'судья отказываться': -3.837455085675459, 'судья рассматривать': -3.837455085675459, 'судья давать': -3.837455085675459, 'судья постановлять': -3.7901397493864257, 'судья назначать': -3.781282389978155, 'судья объявлять': -3.1282144871917743, 'судья вести': -3.018257488332661, 'судья запрещать': -2.9590347697828565, 'судья соглашаться': -2.686385319966892, 'судья прекращать': -2.6071329502751808, 'судья добавлять': -2.4311567352348327, 'судья приходить': -2.4311567352348327, 'судья передавать': -2.301890598911635, 'судья возглавлять': -1.9815512818213512, 'судья отказывать': -1.9815512818213512, 'судья представлять': -1.9562015577585452, 'судья требовать': -1.7794811223853697, 'судья обязать': -1.681929333439196, 'судья убеждать': -1.657027583110219, 'судья предстоять': -1.503740103608337, 'судья просить': -1.4000853825615431, 'судья выступать': -1.292151702557114, 'судья подтверждать': -1.2632653977937425, 'судья проходить': -1.1386902313067044, 'судья предлагать': -1.1049954591625073, 'судья называть': -0.9966249965898784, 'судья добиваться': -0.9173708616134144, 'судья связывать': -0.9173708616134144, 'судья напоминать': -0.9173708616134144, 'судья занимать': -0.875302131817091, 'судья совершать': -0.875302131817091, 'судья пояснять': -0.8314216105870362, 'судья лишать': -0.787689170482798, 'судья оставаться': -0.7375604266702394, 'судья заниматься': -0.7375604266702394, 'судья находить': -0.6871880077986612, 'судья устанавливать': -0.5783504721801789, 'судья указывать': -0.519281829034425, 'судья ставить': -0.519281829034425, 'судья действовать': -0.3899199490706211, 'судья комментировать': -0.24209549510137407, 'судья приходиться': -0.24209549510137407, 'судья поддерживать': -0.15950923443375808, 'судья разрешать': -0.0698682233805088, 'судья выпускать': 0.02809496745441864, 'судья объяснять': 0.02809496745441864, 'судья оставлять': 0.02809496745441864, 'судья вынести': 0.13601139735890433, 'судья поступать': 0.13601139735890433, 'судья опубликовывать': 0.13601139735890433, 'судья служить': 0.39102929555623556, 'судья уходить': 0.39102929555623556, 'судья постановить': 0.4918925038611368, 'судья отдавать': 0.4918925038611368, 'судья приостановить': 0.7238615791352538, 'судья обнаруживать': 0.7238615791352538, 'судья председательствовать': 0.7238615791352538, 'судья обсуждать': 0.7238615791352538, 'судья демонстрировать': 0.7238615791352538, 'судья отправлять': 0.7238615791352538, 'судья назначить': 0.9362435619632699, 'судья закрывать': 0.9362435619632699, 'судья сохранять': 0.9362435619632699, 'судья выслушивать': 0.9362435619632699, 'судья интересовать': 0.9362435619632699, 'судья ограничивать': 0.9362435619632699, 'судья пойти': 0.9362435619632699, 'судья информировать': 0.9362435619632699, 'судья следовать': 0.9362435619632699, 'судья относиться': 0.9362435619632699, 'судья пообещать': 0.9362435619632699, 'судья допрашивать': 0.9362435619632699, 'судья обнародовать': 1.1962170532895313, 'судья наносить': 1.1962170532895313, 'судья приговаривать': 1.1962170532895313, 'судья руководствоваться': 1.1962170532895313, 'судья обеспокоить': 1.5280979419615148, 'судья одобрять': 1.5280979419615148, 'судья заслушать': 1.5280979419615148, 'судья предстать': 1.5280979419615148, 'судья договориться': 1.9789478079201173, 'судья отбывать': 1.9789478079201173, 'судья игнорировать': 1.9789478079201173, 'судья молчать': 1.9789478079201173, 'судья удалить': 1.9789478079201173, 'судья заканчивать': 1.9789478079201173, 'судья беседовать': 1.9789478079201173, 'судья вставать': 1.9789478079201173, 'судья наблюдать': 2.0288041554266294, 'судья издавать': 2.2681395723232947, 'судья отклонить': 2.2681395723232947, 'судья уменьшать': 2.2681395723232947, 'судья сменить': 2.2681395723232947, 'судья подпереть': 2.656538167192651, 'судья гласить': 2.656538167192651, 'судья Л': 2.656538167192651, 'судья делить': 2.656538167192651, 'судья Санджованниприступит': 2.656538167192651, 'судья выгонять': 2.656538167192651, 'судья Мтбя': 2.656538167192651, 'судья крикнуть': 2.656538167192651, 'судья констатировать': 2.656538167192651, 'судья Салониуспредоставлять': 2.656538167192651, 'судья примененыненадлежащий': 2.656538167192651, 'судья разделяться': 2.656538167192651, 'судья Ю': 2.656538167192651, 'судья учесть': 2.656538167192651, 'судья Галиано': 2.656538167192651, 'судья уносить': 2.656538167192651, 'судья отсмеяться': 2.656538167192651, 'судья порекомендовать': 2.656538167192651}\n"
          ],
          "name": "stdout"
        }
      ]
    },
    {
      "cell_type": "markdown",
      "metadata": {
        "id": "Vi1j-JB8qXMH"
      },
      "source": [
        "Результаты LL"
      ]
    },
    {
      "cell_type": "code",
      "metadata": {
        "colab": {
          "base_uri": "https://localhost:8080/"
        },
        "id": "SsSYm7M4qZ_K",
        "outputId": "29aae7b3-a358-4ea4-a3f4-41c05673b2be"
      },
      "source": [
        "unlc=[]\n",
        "for sentence in tokens:\n",
        "  if sentence in unlc:\n",
        "    continue\n",
        "  else:\n",
        "    unlc.append(sentence)\n",
        "print(len(unlc))"
      ],
      "execution_count": 584,
      "outputs": [
        {
          "output_type": "stream",
          "text": [
            "190733\n"
          ],
          "name": "stdout"
        }
      ]
    },
    {
      "cell_type": "code",
      "metadata": {
        "id": "RvZ-YL7gqZ_P"
      },
      "source": [
        "for sentence in unlc:\n",
        "  for i in sentence:\n",
        "    if re.match(r'[0-9]', i):\n",
        "      pass\n",
        "    else:\n",
        "      sentence.remove(i)"
      ],
      "execution_count": 585,
      "outputs": []
    },
    {
      "cell_type": "code",
      "metadata": {
        "id": "MKOX-NjxqZ_Q"
      },
      "source": [
        "for sentence in unlc:\n",
        "  for i in sentence:\n",
        "    if i.startswith('_'):\n",
        "      sentence.remove(i)"
      ],
      "execution_count": 586,
      "outputs": []
    },
    {
      "cell_type": "code",
      "metadata": {
        "id": "-y2wY5PsqZ_R"
      },
      "source": [
        "for sentence in unlc:\n",
        "  for i in sentence:\n",
        "    if re.match(r'_', i):\n",
        "      sentence.remove(i)"
      ],
      "execution_count": 587,
      "outputs": []
    },
    {
      "cell_type": "code",
      "metadata": {
        "id": "cJn6wX7gqZ_T"
      },
      "source": [
        "for sentence in unlc:\n",
        "  for i in sentence:\n",
        "    if re.match(r':', i):\n",
        "      sentence.remove(i)"
      ],
      "execution_count": 588,
      "outputs": []
    },
    {
      "cell_type": "code",
      "metadata": {
        "id": "9XJIV-sUqZ_U"
      },
      "source": [
        "for sentence in unlc:\n",
        "  for i in sentence:\n",
        "    if re.match(r'[а-я]', i):\n",
        "      sentence.remove(i)"
      ],
      "execution_count": 589,
      "outputs": []
    },
    {
      "cell_type": "code",
      "metadata": {
        "id": "M4YJTFJRqZ_U"
      },
      "source": [
        "for sentence in unlc:\n",
        "  for i in sentence:\n",
        "    if i=='':\n",
        "      print(sentence)"
      ],
      "execution_count": 590,
      "outputs": []
    },
    {
      "cell_type": "code",
      "metadata": {
        "id": "_QIuV0GnqZ_Y"
      },
      "source": [
        "for sentence in unlc:\n",
        "  for i in sentence:\n",
        "    if re.match(r'_PUNCT_', i):\n",
        "      sentence.remove(i)"
      ],
      "execution_count": 591,
      "outputs": []
    },
    {
      "cell_type": "code",
      "metadata": {
        "colab": {
          "base_uri": "https://localhost:8080/"
        },
        "id": "Wt-AfphFqZ_Z",
        "outputId": "4eaec413-172a-4cd8-9e83-9d1228ec64dd"
      },
      "source": [
        "parsed_unlc=[]\n",
        "for sentence in unlc:\n",
        "  p_sent=[]\n",
        "  for i in sentence:\n",
        "    w=[]\n",
        "    w=i.split(sep=\"_\")\n",
        "    if re.match(r'_PUNCT_', i):\n",
        "      pass\n",
        "    else:\n",
        "      if len(w)<3:\n",
        "        if i not in sentence:\n",
        "          pass\n",
        "        else:\n",
        "          sentence.remove(i)\n",
        "      else:\n",
        "        p_sent.append(w[2])\n",
        "  parsed_unlc.append(p_sent)\n",
        "print(parsed_unlc[:10])"
      ],
      "execution_count": 592,
      "outputs": [
        {
          "output_type": "stream",
          "text": [
            "[['бой', 'в', 'и', 'заканчиваться', 'отступление', 'германец'], ['неприятель', 'приближаться', 'с', 'север', 'к', 'начинать', 'артиллерийский', 'борьба', 'с', 'крепость'], ['в', 'артиллерийский', 'бой', 'принимать', 'участие', 'тяжелый', 'калибр'], ['с', 'ранний', 'утро', '14', 'сентябрь', 'огонь', 'достигать', 'значительный', 'напряжение'], ['германский', 'пехота', 'пробиваться', 'близко', 'к', 'крепость', 'отражать'], ['в', 'мы', 'занимать'], ['большой', 'колонна', 'отступать', 'по', 'шоссе', 'от', 'к', 'обстреливаться', 'с', 'высота', 'наш', 'батарея', 'и', 'бежать', 'бросить', 'парк', 'обоз', 'и', 'автомобиль'], ['вылазка', 'гарнизон', 'оставаться', 'безуспешный'], ['при', 'продолжающться', 'отступление', 'австриец', 'обнаруживать', 'полный', 'перемешивание', 'они', 'часть', 'захватывать', 'новый', 'партия', 'пленный', 'орудие', 'и', 'прочий', 'материальный', 'часть'], ['на', 'перевал', 'мы', 'разбивать', 'неприятельский', 'отряд', 'брать', 'он', 'артиллерия', 'и', 'много', 'пленный', 'и', 'продолжать', 'преследовать', 'вступать', 'в', 'предел']]\n"
          ],
          "name": "stdout"
        }
      ]
    },
    {
      "cell_type": "code",
      "metadata": {
        "colab": {
          "base_uri": "https://localhost:8080/"
        },
        "id": "72wTnNcDqZ_b",
        "outputId": "5f611742-0288-445e-9ec3-627eefacde42"
      },
      "source": [
        "spisok = []\n",
        "diff = {}\n",
        "b = {}\n",
        "for sentence in unlc:\n",
        "  for i in sentence:\n",
        "    if '_судья_' in i:\n",
        "      if i not in sentence:\n",
        "        pass\n",
        "      else:\n",
        "        n = sentence.index(i)\n",
        "        #print(n)\n",
        "        if i == sentence[-1]:\n",
        "          p = sentence[n-1]\n",
        "          big = p.split('_')\n",
        "          #print(big)\n",
        "          if len(big) < 4:\n",
        "            pass\n",
        "          else:\n",
        "            #print(big[3])\n",
        "            if big[3] == 'VERB':\n",
        "              spisok.append('судья '+big[2])\n",
        "            else:\n",
        "              pass\n",
        "            #print(spisok)\n",
        "        else:\n",
        "          m = sentence[n+1]\n",
        "          big = m.split('_')\n",
        "          if len(big) < 4:\n",
        "            pass\n",
        "          else:\n",
        "            if big[3] == 'VERB':\n",
        "              spisok.append('судья '+big[2])\n",
        "          if i == sentence[-2]:\n",
        "            pass\n",
        "          else:\n",
        "            o = sentence[n+2]\n",
        "            big = p.split('_')\n",
        "            if len(big) < 4:\n",
        "               pass\n",
        "            else:\n",
        "              if big[3] == 'VERB':\n",
        "                spisok.append('судья '+big[2])\n",
        "            if i == sentence[-1]:\n",
        "              pass\n",
        "print(spisok)\n",
        "for i in spisok:\n",
        "  if i in diff.keys():\n",
        "    for w, l in diff.items():\n",
        "      diff[i] = l+1\n",
        "  else:\n",
        "    diff[i] = 1\n",
        "print(diff)"
      ],
      "execution_count": 599,
      "outputs": [
        {
          "output_type": "stream",
          "text": [
            "['судья решать', 'судья добавлять', 'судья подпереть', 'судья отклонять', 'судья считать', 'судья направлять', 'судья получать', 'судья признавать', 'судья проводить', 'судья постановить', 'судья вызывать', 'судья вызывать', 'судья удовлетворять', 'судья удовлетворять', 'судья запрещать', 'судья мочь', 'судья возглавлять', 'судья гласить', 'судья объявлять', 'судья отказываться', 'судья добиваться', 'судья комментировать', 'судья обеспокоить', 'судья вынести', 'судья отклонять', 'судья отмечать', 'судья сообщать', 'судья сообщать', 'судья сообщать', 'судья назначать', 'судья сообщать', 'судья сообщать', 'судья назначить', 'судья сообщать', 'судья сообщать', 'судья сообщать', 'судья обнародовать', 'судья сообщать', 'судья сообщать', 'судья договориться', 'судья проходить', 'судья соглашаться', 'судья объявлять', 'судья выносить', 'судья Л', 'судья наносить', 'судья вести', 'судья возглавлять', 'судья объявлять', 'судья приходить', 'судья рассматривать', 'судья отбывать', 'судья делить', 'судья возглавлять', 'судья наблюдать', 'судья наблюдать', 'судья наблюдать', 'судья наблюдать', 'судья выступать', 'судья закрывать', 'судья поступать', 'судья рассматривать', 'судья связывать', 'судья удовлетворять', 'судья признавать', 'судья занимать', 'судья назначать', 'судья Санджованниприступит', 'судья рассматривать', 'судья заявлять', 'судья выносить', 'судья ведущий', 'судья приостановить', 'судья просить', 'судья прекращать', 'судья пояснять', 'судья приходиться', 'судья издавать', 'судья приговаривать', 'судья выносить', 'судья отвергать', 'судья постановлять', 'судья игнорировать', 'судья отмечать', 'судья заявлять', 'судья служить', 'судья заявлять', 'судья заявлять', 'судья заявлять', 'судья заявлять', 'судья постановлять', 'судья запрещать', 'судья издавать', 'судья разрешать', 'судья отказывать', 'судья обнаруживать', 'судья выгонять', 'судья Мтбя', 'судья указывать', 'судья требовать', 'судья считать', 'судья направлять', 'судья принимать', 'судья давать', 'судья молчать', 'судья отклонять', 'судья предлагать', 'судья соглашаться', 'судья назначать', 'судья крикнуть', 'судья констатировать', 'судья называть', 'судья сказать', 'судья принимать', 'судья принимать', 'судья одобрять', 'судья выносить', 'судья мочь', 'судья направлять', 'судья Салониуспредоставлять', 'судья признавать', 'судья заслушать', 'судья отвергать', 'судья заявлять', 'судья заявлять', 'судья предстоять', 'судья заявлять', 'судья мочь', 'судья заявлять', 'судья заявлять', 'судья соглашаться', 'судья заявлять', 'судья заявлять', 'судья заявлять', 'судья заявлять', 'судья заявлять', 'судья заявлять', 'судья передавать', 'судья заявлять', 'судья заявлять', 'судья постановлять', 'судья заявлять', 'судья заявлять', 'судья заявлять', 'судья заявлять', 'судья заявлять', 'судья заявлять', 'судья заявлять', 'судья мочь', 'судья обязать', 'судья выносить', 'судья выносить', 'судья приходить', 'судья получать', 'судья примененыненадлежащий', 'судья приходить', 'судья решать', 'судья добавлять', 'судья признавать', 'судья удалить', 'судья заканчивать', 'судья разделяться', 'судья опубликовывать', 'судья вести', 'судья председательствовать', 'судья вести', 'судья вести', 'судья вести', 'судья давать', 'судья вести', 'судья вести', 'судья вести', 'судья сказать', 'судья Ю', 'судья совершать', 'судья лишать', 'судья заявлять', 'судья принимать', 'судья отмечать', 'судья постановить', 'судья отдавать', 'судья решать', 'судья учесть', 'судья рассматривать', 'судья заявлять', 'судья решать', 'судья Галиано', 'судья находить', 'судья подтверждать', 'судья поддерживать', 'судья выносить', 'судья отклонить', 'судья отклонить', 'судья отклонить', 'судья отклонить', 'судья отклонить', 'судья отказываться', 'судья отклонить', 'судья сказать', 'судья отклонить', 'судья отклонить', 'судья отклонить', 'судья отклонить', 'судья отклонить', 'судья отклонить', 'судья отклонить', 'судья отвергать', 'судья отклонить', 'судья отклонить', 'судья отклонить', 'судья ведущий', 'судья отклонить', 'судья решать', 'судья отклонить', 'судья отклонять', 'судья отклонить', 'судья уносить', 'судья отклонить', 'судья быть', 'судья отклонить', 'судья отклонить', 'судья отклонить', 'судья отклонить', 'судья отклонить', 'судья отклонить', 'судья отклонить', 'судья отклонить', 'судья отклонить', 'судья отклонить', 'судья признавать', 'судья отклонить', 'судья обсуждать', 'судья отклонить', 'судья сохранять', 'судья отклонить', 'судья уходить', 'судья отклонить', 'судья отклонить', 'судья отклонить', 'судья признавать', 'судья отклонить', 'судья выслушивать', 'судья отклонить', 'судья отклонить', 'судья сказать', 'судья давать', 'судья лишать', 'судья заявлять', 'судья интересовать', 'судья обязать', 'судья оставаться', 'судья устанавливать', 'судья заявлять', 'судья ограничивать', 'судья пойти', 'судья считать', 'судья прекращать', 'судья удовлетворять', 'судья заявлять', 'судья предстоять', 'судья выносить', 'судья отказываться', 'судья прекращать', 'судья выносить', 'судья руководствоваться', 'судья ставить', 'судья предстоять', 'судья беседовать', 'судья предстать', 'судья выпускать', 'судья объявлять', 'судья заявлять', 'судья постановлять', 'судья уменьшать', 'судья демонстрировать', 'судья признавать', 'судья председательствующий', 'судья принимать', 'судья председательствующий', 'судья отказываться', 'судья объяснять', 'судья отправлять', 'судья информировать', 'судья заявлять', 'судья отдавать', 'судья отмечать', 'судья убеждать', 'судья убеждать', 'судья убеждать', 'судья следовать', 'судья уменьшать', 'судья отказывать', 'судья заявлять', 'судья относиться', 'судья заявлять', 'судья заявлять', 'судья заявлять', 'судья отсмеяться', 'судья заявлять', 'судья прекращать', 'судья заявлять', 'судья заявлять', 'судья сказать', 'судья напоминать', 'судья представлять', 'судья сменить', 'судья сменить', 'судья сменить', 'судья сменить', 'судья постановлять', 'судья сменить', 'судья пообещать', 'судья сменить', 'судья сменить', 'судья действовать', 'судья сменить', 'судья сменить', 'судья сменить', 'судья сменить', 'судья сменить', 'судья обязать', 'судья сменить', 'судья сменить', 'судья признавать', 'судья давать', 'судья отказывать', 'судья отказываться', 'судья допрашивать', 'судья заявлять', 'судья мочь', 'судья оставлять', 'судья отказываться', 'судья заявлять', 'судья проводить', 'судья рассматривать', 'судья предстоять', 'судья заниматься', 'судья вставать', 'судья порекомендовать', 'судья давать', 'судья признавать']\n",
            "{'судья решать': 4, 'судья добавлять': 2, 'судья подпереть': 1, 'судья отклонять': 4, 'судья считать': 2, 'судья направлять': 2, 'судья получать': 2, 'судья признавать': 2, 'судья проводить': 2, 'судья постановить': 2, 'судья вызывать': 3, 'судья удовлетворять': 2, 'судья запрещать': 2, 'судья мочь': 2, 'судья возглавлять': 2, 'судья гласить': 1, 'судья объявлять': 2, 'судья отказываться': 2, 'судья добиваться': 1, 'судья комментировать': 1, 'судья обеспокоить': 1, 'судья вынести': 1, 'судья отмечать': 2, 'судья сообщать': 2, 'судья назначать': 2, 'судья назначить': 1, 'судья обнародовать': 1, 'судья договориться': 1, 'судья проходить': 1, 'судья соглашаться': 2, 'судья выносить': 2, 'судья Л': 1, 'судья наносить': 1, 'судья вести': 2, 'судья приходить': 2, 'судья рассматривать': 2, 'судья отбывать': 1, 'судья делить': 1, 'судья наблюдать': 3, 'судья выступать': 1, 'судья закрывать': 1, 'судья поступать': 1, 'судья связывать': 1, 'судья занимать': 1, 'судья Санджованниприступит': 1, 'судья заявлять': 2, 'судья ведущий': 4, 'судья приостановить': 1, 'судья просить': 1, 'судья прекращать': 2, 'судья пояснять': 1, 'судья приходиться': 1, 'судья издавать': 2, 'судья приговаривать': 1, 'судья отвергать': 4, 'судья постановлять': 4, 'судья игнорировать': 1, 'судья служить': 1, 'судья разрешать': 1, 'судья отказывать': 2, 'судья обнаруживать': 1, 'судья выгонять': 1, 'судья Мтбя': 1, 'судья указывать': 1, 'судья требовать': 1, 'судья принимать': 2, 'судья давать': 2, 'судья молчать': 1, 'судья предлагать': 1, 'судья крикнуть': 1, 'судья констатировать': 1, 'судья называть': 1, 'судья сказать': 2, 'судья одобрять': 1, 'судья Салониуспредоставлять': 1, 'судья заслушать': 1, 'судья предстоять': 2, 'судья передавать': 1, 'судья обязать': 2, 'судья примененыненадлежащий': 1, 'судья удалить': 1, 'судья заканчивать': 1, 'судья разделяться': 1, 'судья опубликовывать': 1, 'судья председательствовать': 1, 'судья Ю': 1, 'судья совершать': 1, 'судья лишать': 2, 'судья отдавать': 2, 'судья учесть': 1, 'судья Галиано': 1, 'судья находить': 1, 'судья подтверждать': 1, 'судья поддерживать': 1, 'судья отклонить': 2, 'судья уносить': 1, 'судья быть': 1, 'судья обсуждать': 1, 'судья сохранять': 1, 'судья уходить': 1, 'судья выслушивать': 1, 'судья интересовать': 1, 'судья оставаться': 1, 'судья устанавливать': 1, 'судья ограничивать': 1, 'судья пойти': 1, 'судья руководствоваться': 1, 'судья ставить': 1, 'судья беседовать': 1, 'судья предстать': 1, 'судья выпускать': 1, 'судья уменьшать': 2, 'судья демонстрировать': 1, 'судья председательствующий': 3, 'судья объяснять': 1, 'судья отправлять': 1, 'судья информировать': 1, 'судья убеждать': 3, 'судья следовать': 1, 'судья относиться': 1, 'судья отсмеяться': 1, 'судья напоминать': 1, 'судья представлять': 1, 'судья сменить': 2, 'судья пообещать': 1, 'судья действовать': 1, 'судья допрашивать': 1, 'судья оставлять': 1, 'судья заниматься': 1, 'судья вставать': 1, 'судья порекомендовать': 1}\n"
          ],
          "name": "stdout"
        }
      ]
    },
    {
      "cell_type": "code",
      "metadata": {
        "colab": {
          "base_uri": "https://localhost:8080/"
        },
        "id": "3BVr9uujqZ_d",
        "outputId": "2c192acc-1501-4797-fd0f-b1735f75b4a2"
      },
      "source": [
        "diff2=diff.copy()\n",
        "for w,l in diff.items():\n",
        "  summa=sum(diff.values())\n",
        "  diff2[w] = summa-l\n",
        "print(diff2)"
      ],
      "execution_count": 600,
      "outputs": [
        {
          "output_type": "stream",
          "text": [
            "{'судья решать': 185, 'судья добавлять': 187, 'судья подпереть': 188, 'судья отклонять': 185, 'судья считать': 187, 'судья направлять': 187, 'судья получать': 187, 'судья признавать': 187, 'судья проводить': 187, 'судья постановить': 187, 'судья вызывать': 186, 'судья удовлетворять': 187, 'судья запрещать': 187, 'судья мочь': 187, 'судья возглавлять': 187, 'судья гласить': 188, 'судья объявлять': 187, 'судья отказываться': 187, 'судья добиваться': 188, 'судья комментировать': 188, 'судья обеспокоить': 188, 'судья вынести': 188, 'судья отмечать': 187, 'судья сообщать': 187, 'судья назначать': 187, 'судья назначить': 188, 'судья обнародовать': 188, 'судья договориться': 188, 'судья проходить': 188, 'судья соглашаться': 187, 'судья выносить': 187, 'судья Л': 188, 'судья наносить': 188, 'судья вести': 187, 'судья приходить': 187, 'судья рассматривать': 187, 'судья отбывать': 188, 'судья делить': 188, 'судья наблюдать': 186, 'судья выступать': 188, 'судья закрывать': 188, 'судья поступать': 188, 'судья связывать': 188, 'судья занимать': 188, 'судья Санджованниприступит': 188, 'судья заявлять': 187, 'судья ведущий': 185, 'судья приостановить': 188, 'судья просить': 188, 'судья прекращать': 187, 'судья пояснять': 188, 'судья приходиться': 188, 'судья издавать': 187, 'судья приговаривать': 188, 'судья отвергать': 185, 'судья постановлять': 185, 'судья игнорировать': 188, 'судья служить': 188, 'судья разрешать': 188, 'судья отказывать': 187, 'судья обнаруживать': 188, 'судья выгонять': 188, 'судья Мтбя': 188, 'судья указывать': 188, 'судья требовать': 188, 'судья принимать': 187, 'судья давать': 187, 'судья молчать': 188, 'судья предлагать': 188, 'судья крикнуть': 188, 'судья констатировать': 188, 'судья называть': 188, 'судья сказать': 187, 'судья одобрять': 188, 'судья Салониуспредоставлять': 188, 'судья заслушать': 188, 'судья предстоять': 187, 'судья передавать': 188, 'судья обязать': 187, 'судья примененыненадлежащий': 188, 'судья удалить': 188, 'судья заканчивать': 188, 'судья разделяться': 188, 'судья опубликовывать': 188, 'судья председательствовать': 188, 'судья Ю': 188, 'судья совершать': 188, 'судья лишать': 187, 'судья отдавать': 187, 'судья учесть': 188, 'судья Галиано': 188, 'судья находить': 188, 'судья подтверждать': 188, 'судья поддерживать': 188, 'судья отклонить': 187, 'судья уносить': 188, 'судья быть': 188, 'судья обсуждать': 188, 'судья сохранять': 188, 'судья уходить': 188, 'судья выслушивать': 188, 'судья интересовать': 188, 'судья оставаться': 188, 'судья устанавливать': 188, 'судья ограничивать': 188, 'судья пойти': 188, 'судья руководствоваться': 188, 'судья ставить': 188, 'судья беседовать': 188, 'судья предстать': 188, 'судья выпускать': 188, 'судья уменьшать': 187, 'судья демонстрировать': 188, 'судья председательствующий': 186, 'судья объяснять': 188, 'судья отправлять': 188, 'судья информировать': 188, 'судья убеждать': 186, 'судья следовать': 188, 'судья относиться': 188, 'судья отсмеяться': 188, 'судья напоминать': 188, 'судья представлять': 188, 'судья сменить': 187, 'судья пообещать': 188, 'судья действовать': 188, 'судья допрашивать': 188, 'судья оставлять': 188, 'судья заниматься': 188, 'судья вставать': 188, 'судья порекомендовать': 188}\n"
          ],
          "name": "stdout"
        }
      ]
    },
    {
      "cell_type": "code",
      "metadata": {
        "colab": {
          "base_uri": "https://localhost:8080/"
        },
        "id": "JPH3_c0sqZ_e",
        "outputId": "b066bec6-e35c-496d-b9ad-796beb0c7cfd"
      },
      "source": [
        "b={}\n",
        "diff3={}\n",
        "print(spisok)\n",
        "for i in spisok:\n",
        "  big = i.split(' ')[1]\n",
        "  freq_b = 1\n",
        "  for sentence in parsed_unlc:\n",
        "    for ip in sentence:\n",
        "      #print(i)\n",
        "      #print(\"___\"+big)\n",
        "      if ip == big:\n",
        "        #print(sentence)\n",
        "        freq_b += 1\n",
        "  b[big] = freq_b\n",
        "print(b)\n",
        "for w,l in diff.items():\n",
        "  big = w.split(' ')[1]\n",
        "  for wor, lis in list(b.items()):\n",
        "    if wor==big:\n",
        "      diff3[\"судья \"+wor] = lis - l\n",
        "      #print(lis)\n",
        "      #print(l)\n",
        "print(diff3)"
      ],
      "execution_count": 601,
      "outputs": [
        {
          "output_type": "stream",
          "text": [
            "['судья решать', 'судья добавлять', 'судья подпереть', 'судья отклонять', 'судья считать', 'судья направлять', 'судья получать', 'судья признавать', 'судья проводить', 'судья постановить', 'судья вызывать', 'судья вызывать', 'судья удовлетворять', 'судья удовлетворять', 'судья запрещать', 'судья мочь', 'судья возглавлять', 'судья гласить', 'судья объявлять', 'судья отказываться', 'судья добиваться', 'судья комментировать', 'судья обеспокоить', 'судья вынести', 'судья отклонять', 'судья отмечать', 'судья сообщать', 'судья сообщать', 'судья сообщать', 'судья назначать', 'судья сообщать', 'судья сообщать', 'судья назначить', 'судья сообщать', 'судья сообщать', 'судья сообщать', 'судья обнародовать', 'судья сообщать', 'судья сообщать', 'судья договориться', 'судья проходить', 'судья соглашаться', 'судья объявлять', 'судья выносить', 'судья Л', 'судья наносить', 'судья вести', 'судья возглавлять', 'судья объявлять', 'судья приходить', 'судья рассматривать', 'судья отбывать', 'судья делить', 'судья возглавлять', 'судья наблюдать', 'судья наблюдать', 'судья наблюдать', 'судья наблюдать', 'судья выступать', 'судья закрывать', 'судья поступать', 'судья рассматривать', 'судья связывать', 'судья удовлетворять', 'судья признавать', 'судья занимать', 'судья назначать', 'судья Санджованниприступит', 'судья рассматривать', 'судья заявлять', 'судья выносить', 'судья ведущий', 'судья приостановить', 'судья просить', 'судья прекращать', 'судья пояснять', 'судья приходиться', 'судья издавать', 'судья приговаривать', 'судья выносить', 'судья отвергать', 'судья постановлять', 'судья игнорировать', 'судья отмечать', 'судья заявлять', 'судья служить', 'судья заявлять', 'судья заявлять', 'судья заявлять', 'судья заявлять', 'судья постановлять', 'судья запрещать', 'судья издавать', 'судья разрешать', 'судья отказывать', 'судья обнаруживать', 'судья выгонять', 'судья Мтбя', 'судья указывать', 'судья требовать', 'судья считать', 'судья направлять', 'судья принимать', 'судья давать', 'судья молчать', 'судья отклонять', 'судья предлагать', 'судья соглашаться', 'судья назначать', 'судья крикнуть', 'судья констатировать', 'судья называть', 'судья сказать', 'судья принимать', 'судья принимать', 'судья одобрять', 'судья выносить', 'судья мочь', 'судья направлять', 'судья Салониуспредоставлять', 'судья признавать', 'судья заслушать', 'судья отвергать', 'судья заявлять', 'судья заявлять', 'судья предстоять', 'судья заявлять', 'судья мочь', 'судья заявлять', 'судья заявлять', 'судья соглашаться', 'судья заявлять', 'судья заявлять', 'судья заявлять', 'судья заявлять', 'судья заявлять', 'судья заявлять', 'судья передавать', 'судья заявлять', 'судья заявлять', 'судья постановлять', 'судья заявлять', 'судья заявлять', 'судья заявлять', 'судья заявлять', 'судья заявлять', 'судья заявлять', 'судья заявлять', 'судья мочь', 'судья обязать', 'судья выносить', 'судья выносить', 'судья приходить', 'судья получать', 'судья примененыненадлежащий', 'судья приходить', 'судья решать', 'судья добавлять', 'судья признавать', 'судья удалить', 'судья заканчивать', 'судья разделяться', 'судья опубликовывать', 'судья вести', 'судья председательствовать', 'судья вести', 'судья вести', 'судья вести', 'судья давать', 'судья вести', 'судья вести', 'судья вести', 'судья сказать', 'судья Ю', 'судья совершать', 'судья лишать', 'судья заявлять', 'судья принимать', 'судья отмечать', 'судья постановить', 'судья отдавать', 'судья решать', 'судья учесть', 'судья рассматривать', 'судья заявлять', 'судья решать', 'судья Галиано', 'судья находить', 'судья подтверждать', 'судья поддерживать', 'судья выносить', 'судья отклонить', 'судья отклонить', 'судья отклонить', 'судья отклонить', 'судья отклонить', 'судья отказываться', 'судья отклонить', 'судья сказать', 'судья отклонить', 'судья отклонить', 'судья отклонить', 'судья отклонить', 'судья отклонить', 'судья отклонить', 'судья отклонить', 'судья отвергать', 'судья отклонить', 'судья отклонить', 'судья отклонить', 'судья ведущий', 'судья отклонить', 'судья решать', 'судья отклонить', 'судья отклонять', 'судья отклонить', 'судья уносить', 'судья отклонить', 'судья быть', 'судья отклонить', 'судья отклонить', 'судья отклонить', 'судья отклонить', 'судья отклонить', 'судья отклонить', 'судья отклонить', 'судья отклонить', 'судья отклонить', 'судья отклонить', 'судья признавать', 'судья отклонить', 'судья обсуждать', 'судья отклонить', 'судья сохранять', 'судья отклонить', 'судья уходить', 'судья отклонить', 'судья отклонить', 'судья отклонить', 'судья признавать', 'судья отклонить', 'судья выслушивать', 'судья отклонить', 'судья отклонить', 'судья сказать', 'судья давать', 'судья лишать', 'судья заявлять', 'судья интересовать', 'судья обязать', 'судья оставаться', 'судья устанавливать', 'судья заявлять', 'судья ограничивать', 'судья пойти', 'судья считать', 'судья прекращать', 'судья удовлетворять', 'судья заявлять', 'судья предстоять', 'судья выносить', 'судья отказываться', 'судья прекращать', 'судья выносить', 'судья руководствоваться', 'судья ставить', 'судья предстоять', 'судья беседовать', 'судья предстать', 'судья выпускать', 'судья объявлять', 'судья заявлять', 'судья постановлять', 'судья уменьшать', 'судья демонстрировать', 'судья признавать', 'судья председательствующий', 'судья принимать', 'судья председательствующий', 'судья отказываться', 'судья объяснять', 'судья отправлять', 'судья информировать', 'судья заявлять', 'судья отдавать', 'судья отмечать', 'судья убеждать', 'судья убеждать', 'судья убеждать', 'судья следовать', 'судья уменьшать', 'судья отказывать', 'судья заявлять', 'судья относиться', 'судья заявлять', 'судья заявлять', 'судья заявлять', 'судья отсмеяться', 'судья заявлять', 'судья прекращать', 'судья заявлять', 'судья заявлять', 'судья сказать', 'судья напоминать', 'судья представлять', 'судья сменить', 'судья сменить', 'судья сменить', 'судья сменить', 'судья постановлять', 'судья сменить', 'судья пообещать', 'судья сменить', 'судья сменить', 'судья действовать', 'судья сменить', 'судья сменить', 'судья сменить', 'судья сменить', 'судья сменить', 'судья обязать', 'судья сменить', 'судья сменить', 'судья признавать', 'судья давать', 'судья отказывать', 'судья отказываться', 'судья допрашивать', 'судья заявлять', 'судья мочь', 'судья оставлять', 'судья отказываться', 'судья заявлять', 'судья проводить', 'судья рассматривать', 'судья предстоять', 'судья заниматься', 'судья вставать', 'судья порекомендовать', 'судья давать', 'судья признавать']\n",
            "{'решать': 1652, 'добавлять': 726, 'подпереть': 2, 'отклонять': 226, 'считать': 3318, 'направлять': 1564, 'получать': 5063, 'признавать': 1506, 'проводить': 3959, 'постановить': 20, 'вызывать': 1420, 'удовлетворять': 288, 'запрещать': 738, 'мочь': 7274, 'возглавлять': 712, 'гласить': 48, 'объявлять': 1625, 'отказываться': 1233, 'добиваться': 496, 'комментировать': 553, 'обеспокоить': 83, 'вынести': 112, 'отмечать': 4805, 'сообщать': 19067, 'назначать': 731, 'назначить': 77, 'обнародовать': 165, 'договориться': 13, 'проходить': 2851, 'соглашаться': 427, 'выносить': 401, 'Л': 23, 'наносить': 641, 'вести': 1709, 'приходить': 930, 'рассматривать': 1044, 'отбывать': 104, 'делить': 62, 'наблюдать': 260, 'выступать': 1934, 'закрывать': 588, 'поступать': 1161, 'связывать': 1433, 'занимать': 1297, 'Санджованниприступит': 2, 'заявлять': 8365, 'ведущий': 447, 'приостановить': 65, 'просить': 559, 'прекращать': 626, 'пояснять': 486, 'приходиться': 988, 'издавать': 104, 'приговаривать': 213, 'отвергать': 200, 'постановлять': 136, 'игнорировать': 63, 'служить': 404, 'разрешать': 342, 'отказывать': 205, 'обнаруживать': 2373, 'выгонять': 20, 'Мтбя': 3, 'указывать': 726, 'требовать': 1212, 'принимать': 4813, 'давать': 1745, 'молчать': 15, 'предлагать': 1602, 'крикнуть': 3, 'констатировать': 80, 'называть': 2173, 'сказать': 2794, 'одобрять': 346, 'Салониуспредоставлять': 2, 'заслушать': 20, 'предстоять': 629, 'передавать': 4977, 'обязать': 97, 'примененыненадлежащий': 2, 'удалить': 28, 'заканчивать': 186, 'разделяться': 21, 'опубликовывать': 752, 'председательствовать': 34, 'Ю': 18, 'совершать': 1317, 'лишать': 285, 'отдавать': 364, 'учесть': 12, 'Галиано': 3, 'находить': 1522, 'подтверждать': 1180, 'поддерживать': 973, 'отклонить': 29, 'уносить': 52, 'быть': 35583, 'обсуждать': 898, 'сохранять': 317, 'уходить': 625, 'выслушивать': 36, 'интересовать': 87, 'оставаться': 2003, 'устанавливать': 1914, 'ограничивать': 233, 'пойти': 484, 'руководствоваться': 50, 'ставить': 890, 'беседовать': 54, 'предстать': 70, 'выпускать': 546, 'уменьшать': 67, 'демонстрировать': 221, 'председательствующий': 3, 'объяснять': 529, 'отправлять': 450, 'информировать': 245, 'убеждать': 212, 'следовать': 776, 'относиться': 389, 'отсмеяться': 2, 'напоминать': 2701, 'представлять': 1740, 'сменить': 17, 'пообещать': 298, 'действовать': 1081, 'допрашивать': 91, 'оставлять': 545, 'заниматься': 1145, 'вставать': 84, 'порекомендовать': 9}\n",
            "{'судья решать': 1648, 'судья добавлять': 724, 'судья подпереть': 1, 'судья отклонять': 222, 'судья считать': 3316, 'судья направлять': 1562, 'судья получать': 5061, 'судья признавать': 1504, 'судья проводить': 3957, 'судья постановить': 18, 'судья вызывать': 1417, 'судья удовлетворять': 286, 'судья запрещать': 736, 'судья мочь': 7272, 'судья возглавлять': 710, 'судья гласить': 47, 'судья объявлять': 1623, 'судья отказываться': 1231, 'судья добиваться': 495, 'судья комментировать': 552, 'судья обеспокоить': 82, 'судья вынести': 111, 'судья отмечать': 4803, 'судья сообщать': 19065, 'судья назначать': 729, 'судья назначить': 76, 'судья обнародовать': 164, 'судья договориться': 12, 'судья проходить': 2850, 'судья соглашаться': 425, 'судья выносить': 399, 'судья Л': 22, 'судья наносить': 640, 'судья вести': 1707, 'судья приходить': 928, 'судья рассматривать': 1042, 'судья отбывать': 103, 'судья делить': 61, 'судья наблюдать': 257, 'судья выступать': 1933, 'судья закрывать': 587, 'судья поступать': 1160, 'судья связывать': 1432, 'судья занимать': 1296, 'судья Санджованниприступит': 1, 'судья заявлять': 8363, 'судья ведущий': 443, 'судья приостановить': 64, 'судья просить': 558, 'судья прекращать': 624, 'судья пояснять': 485, 'судья приходиться': 987, 'судья издавать': 102, 'судья приговаривать': 212, 'судья отвергать': 196, 'судья постановлять': 132, 'судья игнорировать': 62, 'судья служить': 403, 'судья разрешать': 341, 'судья отказывать': 203, 'судья обнаруживать': 2372, 'судья выгонять': 19, 'судья Мтбя': 2, 'судья указывать': 725, 'судья требовать': 1211, 'судья принимать': 4811, 'судья давать': 1743, 'судья молчать': 14, 'судья предлагать': 1601, 'судья крикнуть': 2, 'судья констатировать': 79, 'судья называть': 2172, 'судья сказать': 2792, 'судья одобрять': 345, 'судья Салониуспредоставлять': 1, 'судья заслушать': 19, 'судья предстоять': 627, 'судья передавать': 4976, 'судья обязать': 95, 'судья примененыненадлежащий': 1, 'судья удалить': 27, 'судья заканчивать': 185, 'судья разделяться': 20, 'судья опубликовывать': 751, 'судья председательствовать': 33, 'судья Ю': 17, 'судья совершать': 1316, 'судья лишать': 283, 'судья отдавать': 362, 'судья учесть': 11, 'судья Галиано': 2, 'судья находить': 1521, 'судья подтверждать': 1179, 'судья поддерживать': 972, 'судья отклонить': 27, 'судья уносить': 51, 'судья быть': 35582, 'судья обсуждать': 897, 'судья сохранять': 316, 'судья уходить': 624, 'судья выслушивать': 35, 'судья интересовать': 86, 'судья оставаться': 2002, 'судья устанавливать': 1913, 'судья ограничивать': 232, 'судья пойти': 483, 'судья руководствоваться': 49, 'судья ставить': 889, 'судья беседовать': 53, 'судья предстать': 69, 'судья выпускать': 545, 'судья уменьшать': 65, 'судья демонстрировать': 220, 'судья председательствующий': 0, 'судья объяснять': 528, 'судья отправлять': 449, 'судья информировать': 244, 'судья убеждать': 209, 'судья следовать': 775, 'судья относиться': 388, 'судья отсмеяться': 1, 'судья напоминать': 2700, 'судья представлять': 1739, 'судья сменить': 15, 'судья пообещать': 297, 'судья действовать': 1080, 'судья допрашивать': 90, 'судья оставлять': 544, 'судья заниматься': 1144, 'судья вставать': 83, 'судья порекомендовать': 8}\n"
          ],
          "name": "stdout"
        }
      ]
    },
    {
      "cell_type": "code",
      "metadata": {
        "colab": {
          "base_uri": "https://localhost:8080/"
        },
        "id": "ra8GOy7UqZ_f",
        "outputId": "95ad5cf3-21ad-415c-cffb-ef9ee9f96521"
      },
      "source": [
        "count=0\n",
        "for sentence in unlc:\n",
        "  count += len(sentence)\n",
        "print(count)"
      ],
      "execution_count": 602,
      "outputs": [
        {
          "output_type": "stream",
          "text": [
            "2942878\n"
          ],
          "name": "stdout"
        }
      ]
    },
    {
      "cell_type": "code",
      "metadata": {
        "colab": {
          "base_uri": "https://localhost:8080/"
        },
        "id": "eOji3c_mqZ_h",
        "outputId": "bf4fbd52-edb2-45e8-8b0f-14cdd3be69d5"
      },
      "source": [
        "diff4=diff.copy()\n",
        "for w,l in diff4.items():\n",
        "  for wo,li in diff2.items():\n",
        "    for wor,lis in diff3.items():\n",
        "      if w==wor==wo:\n",
        "        diff4[w]=count-l-li-lis\n",
        "print(diff4)"
      ],
      "execution_count": 603,
      "outputs": [
        {
          "output_type": "stream",
          "text": [
            "{'судья решать': 2941041, 'судья добавлять': 2941965, 'судья подпереть': 2942688, 'судья отклонять': 2942467, 'судья считать': 2939373, 'судья направлять': 2941127, 'судья получать': 2937628, 'судья признавать': 2941185, 'судья проводить': 2938732, 'судья постановить': 2942671, 'судья вызывать': 2941272, 'судья удовлетворять': 2942403, 'судья запрещать': 2941953, 'судья мочь': 2935417, 'судья возглавлять': 2941979, 'судья гласить': 2942642, 'судья объявлять': 2941066, 'судья отказываться': 2941458, 'судья добиваться': 2942194, 'судья комментировать': 2942137, 'судья обеспокоить': 2942607, 'судья вынести': 2942578, 'судья отмечать': 2937886, 'судья сообщать': 2923624, 'судья назначать': 2941960, 'судья назначить': 2942613, 'судья обнародовать': 2942525, 'судья договориться': 2942677, 'судья проходить': 2939839, 'судья соглашаться': 2942264, 'судья выносить': 2942290, 'судья Л': 2942667, 'судья наносить': 2942049, 'судья вести': 2940982, 'судья приходить': 2941761, 'судья рассматривать': 2941647, 'судья отбывать': 2942586, 'судья делить': 2942628, 'судья наблюдать': 2942432, 'судья выступать': 2940756, 'судья закрывать': 2942102, 'судья поступать': 2941529, 'судья связывать': 2941257, 'судья занимать': 2941393, 'судья Санджованниприступит': 2942688, 'судья заявлять': 2934326, 'судья ведущий': 2942246, 'судья приостановить': 2942625, 'судья просить': 2942131, 'судья прекращать': 2942065, 'судья пояснять': 2942204, 'судья приходиться': 2941702, 'судья издавать': 2942587, 'судья приговаривать': 2942477, 'судья отвергать': 2942493, 'судья постановлять': 2942557, 'судья игнорировать': 2942627, 'судья служить': 2942286, 'судья разрешать': 2942348, 'судья отказывать': 2942486, 'судья обнаруживать': 2940317, 'судья выгонять': 2942670, 'судья Мтбя': 2942687, 'судья указывать': 2941964, 'судья требовать': 2941478, 'судья принимать': 2937878, 'судья давать': 2940946, 'судья молчать': 2942675, 'судья предлагать': 2941088, 'судья крикнуть': 2942687, 'судья констатировать': 2942610, 'судья называть': 2940517, 'судья сказать': 2939897, 'судья одобрять': 2942344, 'судья Салониуспредоставлять': 2942688, 'судья заслушать': 2942670, 'судья предстоять': 2942062, 'судья передавать': 2937713, 'судья обязать': 2942594, 'судья примененыненадлежащий': 2942688, 'судья удалить': 2942662, 'судья заканчивать': 2942504, 'судья разделяться': 2942669, 'судья опубликовывать': 2941938, 'судья председательствовать': 2942656, 'судья Ю': 2942672, 'судья совершать': 2941373, 'судья лишать': 2942406, 'судья отдавать': 2942327, 'судья учесть': 2942678, 'судья Галиано': 2942687, 'судья находить': 2941168, 'судья подтверждать': 2941510, 'судья поддерживать': 2941717, 'судья отклонить': 2942662, 'судья уносить': 2942638, 'судья быть': 2907107, 'судья обсуждать': 2941792, 'судья сохранять': 2942373, 'судья уходить': 2942065, 'судья выслушивать': 2942654, 'судья интересовать': 2942603, 'судья оставаться': 2940687, 'судья устанавливать': 2940776, 'судья ограничивать': 2942457, 'судья пойти': 2942206, 'судья руководствоваться': 2942640, 'судья ставить': 2941800, 'судья беседовать': 2942636, 'судья предстать': 2942620, 'судья выпускать': 2942144, 'судья уменьшать': 2942624, 'судья демонстрировать': 2942469, 'судья председательствующий': 2942689, 'судья объяснять': 2942161, 'судья отправлять': 2942240, 'судья информировать': 2942445, 'судья убеждать': 2942480, 'судья следовать': 2941914, 'судья относиться': 2942301, 'судья отсмеяться': 2942688, 'судья напоминать': 2939989, 'судья представлять': 2940950, 'судья сменить': 2942674, 'судья пообещать': 2942392, 'судья действовать': 2941609, 'судья допрашивать': 2942599, 'судья оставлять': 2942145, 'судья заниматься': 2941545, 'судья вставать': 2942606, 'судья порекомендовать': 2942681}\n"
          ],
          "name": "stdout"
        }
      ]
    },
    {
      "cell_type": "code",
      "metadata": {
        "colab": {
          "base_uri": "https://localhost:8080/"
        },
        "id": "K_66Fo54qZ_i",
        "outputId": "b4e5c73f-e5d3-42b0-ed0c-77821fbbd69e"
      },
      "source": [
        "list1={}\n",
        "for w,l in diff.items():\n",
        "  for wo,li in diff2.items():\n",
        "    if w==wo:\n",
        "      list1[w]=[l,li]\n",
        "print(list1)"
      ],
      "execution_count": 604,
      "outputs": [
        {
          "output_type": "stream",
          "text": [
            "{'судья решать': [4, 185], 'судья добавлять': [2, 187], 'судья подпереть': [1, 188], 'судья отклонять': [4, 185], 'судья считать': [2, 187], 'судья направлять': [2, 187], 'судья получать': [2, 187], 'судья признавать': [2, 187], 'судья проводить': [2, 187], 'судья постановить': [2, 187], 'судья вызывать': [3, 186], 'судья удовлетворять': [2, 187], 'судья запрещать': [2, 187], 'судья мочь': [2, 187], 'судья возглавлять': [2, 187], 'судья гласить': [1, 188], 'судья объявлять': [2, 187], 'судья отказываться': [2, 187], 'судья добиваться': [1, 188], 'судья комментировать': [1, 188], 'судья обеспокоить': [1, 188], 'судья вынести': [1, 188], 'судья отмечать': [2, 187], 'судья сообщать': [2, 187], 'судья назначать': [2, 187], 'судья назначить': [1, 188], 'судья обнародовать': [1, 188], 'судья договориться': [1, 188], 'судья проходить': [1, 188], 'судья соглашаться': [2, 187], 'судья выносить': [2, 187], 'судья Л': [1, 188], 'судья наносить': [1, 188], 'судья вести': [2, 187], 'судья приходить': [2, 187], 'судья рассматривать': [2, 187], 'судья отбывать': [1, 188], 'судья делить': [1, 188], 'судья наблюдать': [3, 186], 'судья выступать': [1, 188], 'судья закрывать': [1, 188], 'судья поступать': [1, 188], 'судья связывать': [1, 188], 'судья занимать': [1, 188], 'судья Санджованниприступит': [1, 188], 'судья заявлять': [2, 187], 'судья ведущий': [4, 185], 'судья приостановить': [1, 188], 'судья просить': [1, 188], 'судья прекращать': [2, 187], 'судья пояснять': [1, 188], 'судья приходиться': [1, 188], 'судья издавать': [2, 187], 'судья приговаривать': [1, 188], 'судья отвергать': [4, 185], 'судья постановлять': [4, 185], 'судья игнорировать': [1, 188], 'судья служить': [1, 188], 'судья разрешать': [1, 188], 'судья отказывать': [2, 187], 'судья обнаруживать': [1, 188], 'судья выгонять': [1, 188], 'судья Мтбя': [1, 188], 'судья указывать': [1, 188], 'судья требовать': [1, 188], 'судья принимать': [2, 187], 'судья давать': [2, 187], 'судья молчать': [1, 188], 'судья предлагать': [1, 188], 'судья крикнуть': [1, 188], 'судья констатировать': [1, 188], 'судья называть': [1, 188], 'судья сказать': [2, 187], 'судья одобрять': [1, 188], 'судья Салониуспредоставлять': [1, 188], 'судья заслушать': [1, 188], 'судья предстоять': [2, 187], 'судья передавать': [1, 188], 'судья обязать': [2, 187], 'судья примененыненадлежащий': [1, 188], 'судья удалить': [1, 188], 'судья заканчивать': [1, 188], 'судья разделяться': [1, 188], 'судья опубликовывать': [1, 188], 'судья председательствовать': [1, 188], 'судья Ю': [1, 188], 'судья совершать': [1, 188], 'судья лишать': [2, 187], 'судья отдавать': [2, 187], 'судья учесть': [1, 188], 'судья Галиано': [1, 188], 'судья находить': [1, 188], 'судья подтверждать': [1, 188], 'судья поддерживать': [1, 188], 'судья отклонить': [2, 187], 'судья уносить': [1, 188], 'судья быть': [1, 188], 'судья обсуждать': [1, 188], 'судья сохранять': [1, 188], 'судья уходить': [1, 188], 'судья выслушивать': [1, 188], 'судья интересовать': [1, 188], 'судья оставаться': [1, 188], 'судья устанавливать': [1, 188], 'судья ограничивать': [1, 188], 'судья пойти': [1, 188], 'судья руководствоваться': [1, 188], 'судья ставить': [1, 188], 'судья беседовать': [1, 188], 'судья предстать': [1, 188], 'судья выпускать': [1, 188], 'судья уменьшать': [2, 187], 'судья демонстрировать': [1, 188], 'судья председательствующий': [3, 186], 'судья объяснять': [1, 188], 'судья отправлять': [1, 188], 'судья информировать': [1, 188], 'судья убеждать': [3, 186], 'судья следовать': [1, 188], 'судья относиться': [1, 188], 'судья отсмеяться': [1, 188], 'судья напоминать': [1, 188], 'судья представлять': [1, 188], 'судья сменить': [2, 187], 'судья пообещать': [1, 188], 'судья действовать': [1, 188], 'судья допрашивать': [1, 188], 'судья оставлять': [1, 188], 'судья заниматься': [1, 188], 'судья вставать': [1, 188], 'судья порекомендовать': [1, 188]}\n"
          ],
          "name": "stdout"
        }
      ]
    },
    {
      "cell_type": "code",
      "metadata": {
        "colab": {
          "base_uri": "https://localhost:8080/"
        },
        "id": "mk7JCEkKqZ_j",
        "outputId": "a3b6aeb1-00fe-4acc-fe72-10c2d1aee33f"
      },
      "source": [
        "list2={}\n",
        "for w,l in list1.items():\n",
        "  for wo,li in diff3.items():\n",
        "    if w==wo:\n",
        "      l.append(li)\n",
        "      list2[w]=l\n",
        "print(list2)"
      ],
      "execution_count": 605,
      "outputs": [
        {
          "output_type": "stream",
          "text": [
            "{'судья решать': [4, 185, 1648], 'судья добавлять': [2, 187, 724], 'судья подпереть': [1, 188, 1], 'судья отклонять': [4, 185, 222], 'судья считать': [2, 187, 3316], 'судья направлять': [2, 187, 1562], 'судья получать': [2, 187, 5061], 'судья признавать': [2, 187, 1504], 'судья проводить': [2, 187, 3957], 'судья постановить': [2, 187, 18], 'судья вызывать': [3, 186, 1417], 'судья удовлетворять': [2, 187, 286], 'судья запрещать': [2, 187, 736], 'судья мочь': [2, 187, 7272], 'судья возглавлять': [2, 187, 710], 'судья гласить': [1, 188, 47], 'судья объявлять': [2, 187, 1623], 'судья отказываться': [2, 187, 1231], 'судья добиваться': [1, 188, 495], 'судья комментировать': [1, 188, 552], 'судья обеспокоить': [1, 188, 82], 'судья вынести': [1, 188, 111], 'судья отмечать': [2, 187, 4803], 'судья сообщать': [2, 187, 19065], 'судья назначать': [2, 187, 729], 'судья назначить': [1, 188, 76], 'судья обнародовать': [1, 188, 164], 'судья договориться': [1, 188, 12], 'судья проходить': [1, 188, 2850], 'судья соглашаться': [2, 187, 425], 'судья выносить': [2, 187, 399], 'судья Л': [1, 188, 22], 'судья наносить': [1, 188, 640], 'судья вести': [2, 187, 1707], 'судья приходить': [2, 187, 928], 'судья рассматривать': [2, 187, 1042], 'судья отбывать': [1, 188, 103], 'судья делить': [1, 188, 61], 'судья наблюдать': [3, 186, 257], 'судья выступать': [1, 188, 1933], 'судья закрывать': [1, 188, 587], 'судья поступать': [1, 188, 1160], 'судья связывать': [1, 188, 1432], 'судья занимать': [1, 188, 1296], 'судья Санджованниприступит': [1, 188, 1], 'судья заявлять': [2, 187, 8363], 'судья ведущий': [4, 185, 443], 'судья приостановить': [1, 188, 64], 'судья просить': [1, 188, 558], 'судья прекращать': [2, 187, 624], 'судья пояснять': [1, 188, 485], 'судья приходиться': [1, 188, 987], 'судья издавать': [2, 187, 102], 'судья приговаривать': [1, 188, 212], 'судья отвергать': [4, 185, 196], 'судья постановлять': [4, 185, 132], 'судья игнорировать': [1, 188, 62], 'судья служить': [1, 188, 403], 'судья разрешать': [1, 188, 341], 'судья отказывать': [2, 187, 203], 'судья обнаруживать': [1, 188, 2372], 'судья выгонять': [1, 188, 19], 'судья Мтбя': [1, 188, 2], 'судья указывать': [1, 188, 725], 'судья требовать': [1, 188, 1211], 'судья принимать': [2, 187, 4811], 'судья давать': [2, 187, 1743], 'судья молчать': [1, 188, 14], 'судья предлагать': [1, 188, 1601], 'судья крикнуть': [1, 188, 2], 'судья констатировать': [1, 188, 79], 'судья называть': [1, 188, 2172], 'судья сказать': [2, 187, 2792], 'судья одобрять': [1, 188, 345], 'судья Салониуспредоставлять': [1, 188, 1], 'судья заслушать': [1, 188, 19], 'судья предстоять': [2, 187, 627], 'судья передавать': [1, 188, 4976], 'судья обязать': [2, 187, 95], 'судья примененыненадлежащий': [1, 188, 1], 'судья удалить': [1, 188, 27], 'судья заканчивать': [1, 188, 185], 'судья разделяться': [1, 188, 20], 'судья опубликовывать': [1, 188, 751], 'судья председательствовать': [1, 188, 33], 'судья Ю': [1, 188, 17], 'судья совершать': [1, 188, 1316], 'судья лишать': [2, 187, 283], 'судья отдавать': [2, 187, 362], 'судья учесть': [1, 188, 11], 'судья Галиано': [1, 188, 2], 'судья находить': [1, 188, 1521], 'судья подтверждать': [1, 188, 1179], 'судья поддерживать': [1, 188, 972], 'судья отклонить': [2, 187, 27], 'судья уносить': [1, 188, 51], 'судья быть': [1, 188, 35582], 'судья обсуждать': [1, 188, 897], 'судья сохранять': [1, 188, 316], 'судья уходить': [1, 188, 624], 'судья выслушивать': [1, 188, 35], 'судья интересовать': [1, 188, 86], 'судья оставаться': [1, 188, 2002], 'судья устанавливать': [1, 188, 1913], 'судья ограничивать': [1, 188, 232], 'судья пойти': [1, 188, 483], 'судья руководствоваться': [1, 188, 49], 'судья ставить': [1, 188, 889], 'судья беседовать': [1, 188, 53], 'судья предстать': [1, 188, 69], 'судья выпускать': [1, 188, 545], 'судья уменьшать': [2, 187, 65], 'судья демонстрировать': [1, 188, 220], 'судья председательствующий': [3, 186, 0], 'судья объяснять': [1, 188, 528], 'судья отправлять': [1, 188, 449], 'судья информировать': [1, 188, 244], 'судья убеждать': [3, 186, 209], 'судья следовать': [1, 188, 775], 'судья относиться': [1, 188, 388], 'судья отсмеяться': [1, 188, 1], 'судья напоминать': [1, 188, 2700], 'судья представлять': [1, 188, 1739], 'судья сменить': [2, 187, 15], 'судья пообещать': [1, 188, 297], 'судья действовать': [1, 188, 1080], 'судья допрашивать': [1, 188, 90], 'судья оставлять': [1, 188, 544], 'судья заниматься': [1, 188, 1144], 'судья вставать': [1, 188, 83], 'судья порекомендовать': [1, 188, 8]}\n"
          ],
          "name": "stdout"
        }
      ]
    },
    {
      "cell_type": "code",
      "metadata": {
        "id": "On4a2lFLqZ_l"
      },
      "source": [
        "log_list={}\n",
        "for w,l in list2.items():\n",
        "  for wo,li in diff4.items():\n",
        "    if w==wo:\n",
        "      l.append(li)\n",
        "      log_list[w]=l"
      ],
      "execution_count": 606,
      "outputs": []
    },
    {
      "cell_type": "code",
      "metadata": {
        "colab": {
          "base_uri": "https://localhost:8080/"
        },
        "id": "cFytE946qZ_m",
        "outputId": "1f8b4c0b-a011-458b-f797-1d9e7227089b"
      },
      "source": [
        "log_like_list={}\n",
        "ind=[]\n",
        "for w,l in log_list.items():\n",
        "  #print(w,l)\n",
        "  if l[2] == 0:\n",
        "    pass\n",
        "  else:\n",
        "    log_likelihood=math.log((l[0]*l[3])/(l[1]*l[2]))-3.29*(1/(1/l[0]+1/l[2]+1/l[3]+1/l[1]))\n",
        "    log_like_list[w] = log_likelihood\n",
        "\n",
        "sorted_dict = {}\n",
        "sorted_keys = sorted(log_like_list, key=log_like_list.get)  # [1, 3, 2]\n",
        "\n",
        "for w in sorted_keys:\n",
        "    sorted_dict[w] = log_like_list[w]\n",
        "\n",
        "print(sorted_dict)\n",
        "#print(result)"
      ],
      "execution_count": 607,
      "outputs": [
        {
          "output_type": "stream",
          "text": [
            "{'судья решать': -9.198037944050322, 'судья ведущий': -7.801559766802526, 'судья отклонять': -7.000195626905785, 'судья отвергать': -6.846589452400448, 'судья постановлять': -6.33245947464574, 'судья вызывать': -6.182206477897065, 'судья сообщать': -6.014926704358031, 'судья заявлять': -5.1863714629488715, 'судья мочь': -5.045982875056303, 'судья получать': -4.6819892442763384, 'судья принимать': -4.631112845483272, 'судья отмечать': -4.629441425853436, 'судья проводить': -4.434826004189344, 'судья наблюдать': -4.384469139899819, 'судья считать': -4.257252322051995, 'судья убеждать': -4.152727742415648, 'судья быть': -4.105868136072807, 'судья сказать': -4.0843448190507665, 'судья давать': -3.610065753455135, 'судья вести': -3.5890276683535682, 'судья объявлять': -3.538148270204822, 'судья направлять': -3.499509073621428, 'судья признавать': -3.4613332838657316, 'судья отказываться': -3.259044989812292, 'судья рассматривать': -3.090404234031117, 'судья приходить': -2.9729872839762237, 'судья запрещать': -2.7375162859264606, 'судья назначать': -2.727790347577067, 'судья добавлять': -2.720784925894903, 'судья возглавлять': -2.700904803931625, 'судья предстоять': -2.574170407065506, 'судья прекращать': -2.5692750537727584, 'судья соглашаться': -2.175554375937522, 'судья передавать': -2.12761907189358, 'судья выносить': -2.1104613746039718, 'судья отдавать': -2.0098655728212265, 'судья удовлетворять': -1.7648463761342992, 'судья лишать': -1.7538295061974285, 'судья проходить': -1.5691005422058217, 'судья напоминать': -1.514918888937246, 'судья отказывать': -1.4039179592032713, 'судья обнаруживать': -1.3851224513932974, 'судья называть': -1.296843095868534, 'судья оставаться': -1.2151564187962074, 'судья выступать': -1.1800014913895724, 'судья устанавливать': -1.1695765924685264, 'судья представлять': -1.0739848930863984, 'судья предлагать': -0.9910950090765533, 'судья находить': -0.9397005799999776, 'судья связывать': -0.879241538386208, 'судья совершать': -0.7945267784840127, 'судья занимать': -0.7791676290370577, 'судья требовать': -0.7111265759546082, 'судья подтверждать': -0.6842630163137695, 'судья поступать': -0.6679647934191686, 'судья издавать': -0.654600940392422, 'судья заниматься': -0.654031061071926, 'судья действовать': -0.5962711303389803, 'судья обязать': -0.5745594789890838, 'судья приходиться': -0.5059097743987153, 'судья поддерживать': -0.4905396461867926, 'судья обсуждать': -0.40993478418279183, 'судья ставить': -0.40094085330722207, 'судья следовать': -0.26313055963203613, 'судья опубликовывать': -0.2315311411442873, 'судья указывать': -0.19613327762307176, 'судья уменьшать': -0.13555902511954088, 'судья наносить': -0.07080631577490637, 'судья уходить': -0.04535305938469403, 'судья закрывать': 0.016112812970030088, 'судья просить': 0.06707574057582821, 'судья комментировать': 0.07795188047298751, 'судья выпускать': 0.09079198164755953, 'судья оставлять': 0.09263980908197356, 'судья объяснять': 0.12267887127597099, 'судья добиваться': 0.18763803255172773, 'судья пояснять': 0.20818534818445, 'судья пойти': 0.21234594392115325, 'судья отправлять': 0.2858594469026321, 'судья служить': 0.39478509434243003, 'судья относиться': 0.43303212783747913, 'судья одобрять': 0.5515476878513574, 'судья разрешать': 0.5633210291501078, 'судья сохранять': 0.6402204719373925, 'судья пообещать': 0.7028917619407147, 'судья информировать': 0.9018368760098361, 'судья ограничивать': 0.9529561388079015, 'судья отклонить': 0.9952245717961938, 'судья демонстрировать': 1.006828691538265, 'судья приговаривать': 1.0444259391115, 'судья заканчивать': 1.182884180157433, 'судья обнародовать': 1.305608309920831, 'судья постановить': 1.6009583355274781, 'судья вынести': 1.7052993047159668, 'судья отбывать': 1.782339221747863, 'судья сменить': 1.8972161679929327, 'судья допрашивать': 1.9217349767766456, 'судья интересовать': 1.9688436071953044, 'судья вставать': 2.0056878004464225, 'судья обеспокоить': 2.018276466921958, 'судья констатировать': 2.057019829097591, 'судья назначить': 2.097320935847683, 'судья предстать': 2.198178390505176, 'судья приостановить': 2.2769812979516537, 'судья игнорировать': 2.3103208168631193, 'судья делить': 2.327415222468336, 'судья беседовать': 2.4757797530684647, 'судья уносить': 2.5165657487484894, 'судья руководствоваться': 2.5590763406645647, 'судья гласить': 2.6034630321809518, 'судья выслушивать': 2.9208785431700095, 'судья председательствовать': 2.985040409758449, 'судья удалить': 3.2062366556994935, 'судья Л': 3.4363172363574064, 'судья разделяться': 3.545113995548674, 'судья выгонять': 3.604162289774645, 'судья заслушать': 3.604162289774645, 'судья Ю': 3.7334835713173566, 'судья молчать': 3.9638337314766905, 'судья договориться': 4.151397909420805, 'судья учесть': 4.259294480241566, 'судья порекомендовать': 4.668266646178606, 'судья Мтбя': 6.779661978634767, 'судья крикнуть': 6.779661978634767, 'судья Галиано': 6.779661978634767, 'судья подпереть': 8.017755717745546, 'судья Санджованниприступит': 8.017755717745546, 'судья Салониуспредоставлять': 8.017755717745546, 'судья примененыненадлежащий': 8.017755717745546, 'судья отсмеяться': 8.017755717745546}\n"
          ],
          "name": "stdout"
        }
      ]
    },
    {
      "cell_type": "markdown",
      "metadata": {
        "id": "xmW4bLe4ukkG"
      },
      "source": [
        "LL для общего корпуса"
      ]
    }
  ]
}