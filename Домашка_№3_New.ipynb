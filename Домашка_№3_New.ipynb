{
  "nbformat": 4,
  "nbformat_minor": 0,
  "metadata": {
    "colab": {
      "name": "Домашка №3.ipynb",
      "provenance": [],
      "authorship_tag": "ABX9TyM7UDRIJAA10I5trWrdW2bx",
      "include_colab_link": true
    },
    "kernelspec": {
      "name": "python3",
      "display_name": "Python 3"
    }
  },
  "cells": [
    {
      "cell_type": "markdown",
      "metadata": {
        "id": "view-in-github",
        "colab_type": "text"
      },
      "source": [
        "<a href=\"https://colab.research.google.com/github/Vakhranev/Compling/blob/master/%D0%94%D0%BE%D0%BC%D0%B0%D1%88%D0%BA%D0%B0_%E2%84%963_New.ipynb\" target=\"_parent\"><img src=\"https://colab.research.google.com/assets/colab-badge.svg\" alt=\"Open In Colab\"/></a>"
      ]
    },
    {
      "cell_type": "code",
      "metadata": {
        "id": "WDKLQ7bJtgNS",
        "colab_type": "code",
        "outputId": "d267dba0-f4bf-47e6-9468-113103e785ab",
        "colab": {
          "base_uri": "https://localhost:8080/",
          "height": 391
        }
      },
      "source": [
        "import sklearn\n",
        "from sklearn.datasets import fetch_20newsgroups\n",
        "data = fetch_20newsgroups()\n",
        "data.target_names"
      ],
      "execution_count": 1,
      "outputs": [
        {
          "output_type": "stream",
          "text": [
            "Downloading 20news dataset. This may take a few minutes.\n",
            "Downloading dataset from https://ndownloader.figshare.com/files/5975967 (14 MB)\n"
          ],
          "name": "stderr"
        },
        {
          "output_type": "execute_result",
          "data": {
            "text/plain": [
              "['alt.atheism',\n",
              " 'comp.graphics',\n",
              " 'comp.os.ms-windows.misc',\n",
              " 'comp.sys.ibm.pc.hardware',\n",
              " 'comp.sys.mac.hardware',\n",
              " 'comp.windows.x',\n",
              " 'misc.forsale',\n",
              " 'rec.autos',\n",
              " 'rec.motorcycles',\n",
              " 'rec.sport.baseball',\n",
              " 'rec.sport.hockey',\n",
              " 'sci.crypt',\n",
              " 'sci.electronics',\n",
              " 'sci.med',\n",
              " 'sci.space',\n",
              " 'soc.religion.christian',\n",
              " 'talk.politics.guns',\n",
              " 'talk.politics.mideast',\n",
              " 'talk.politics.misc',\n",
              " 'talk.religion.misc']"
            ]
          },
          "metadata": {
            "tags": []
          },
          "execution_count": 1
        }
      ]
    },
    {
      "cell_type": "code",
      "metadata": {
        "id": "Xhma9G3BvtC8",
        "colab_type": "code",
        "outputId": "b86b9718-f4c3-4e10-c1f8-c7806095e9ee",
        "colab": {
          "base_uri": "https://localhost:8080/",
          "height": 34
        }
      },
      "source": [
        "from sklearn.feature_extraction.text import CountVectorizer\n",
        "categories = ['comp.os.ms-windows.misc', 'misc.forsale', 'rec.autos', 'sci.space']\n",
        "train = fetch_20newsgroups(subset='train', categories=categories)\n",
        "test = fetch_20newsgroups(subset='test', categories=categories)\n",
        "vectorizer = CountVectorizer()\n",
        "vect = vectorizer.fit_transform(train.data)\n",
        "print(vect.shape)"
      ],
      "execution_count": 77,
      "outputs": [
        {
          "output_type": "stream",
          "text": [
            "(2363, 63636)\n"
          ],
          "name": "stdout"
        }
      ]
    },
    {
      "cell_type": "code",
      "metadata": {
        "id": "4lmBUHgGZzRG",
        "colab_type": "code",
        "colab": {}
      },
      "source": [
        "category1 = ['comp.os.ms-windows.misc']\n",
        "train1 = fetch_20newsgroups(subset='train', categories=category1)\n",
        "test1 = fetch_20newsgroups(subset='test', categories=category1)\n",
        "vectorizer1 = CountVectorizer()\n",
        "vect1 = vectorizer1.fit_transform(train1.data)\n",
        "\n",
        "category2 = ['misc.forsale']\n",
        "train2 = fetch_20newsgroups(subset='train', categories=category2)\n",
        "test2 = fetch_20newsgroups(subset='test', categories=category2)\n",
        "vectorizer2 = CountVectorizer()\n",
        "vect2 = vectorizer2.fit_transform(train2.data)\n",
        "\n",
        "category3 = ['rec.autos']\n",
        "train3 = fetch_20newsgroups(subset='train', categories=category3)\n",
        "test3 = fetch_20newsgroups(subset='test', categories=category3)\n",
        "vectorizer3 = CountVectorizer()\n",
        "vect3 = vectorizer3.fit_transform(train3.data)\n",
        "\n",
        "category4 = ['sci.space']\n",
        "train4 = fetch_20newsgroups(subset='train', categories=category4)\n",
        "test4 = fetch_20newsgroups(subset='test', categories=category4)\n",
        "vectorizer4 = CountVectorizer()\n",
        "vect4 = vectorizer4.fit_transform(train4.data)"
      ],
      "execution_count": 0,
      "outputs": []
    },
    {
      "cell_type": "code",
      "metadata": {
        "id": "zzZ1IzJ8DLGd",
        "colab_type": "code",
        "colab": {
          "base_uri": "https://localhost:8080/",
          "height": 34
        },
        "outputId": "9c85382b-1232-4cef-c158-da805fcb199a"
      },
      "source": [
        "import pandas as pd\n",
        "from sklearn.model_selection import StratifiedKFold, train_test_split\n",
        "from statistics import mean\n",
        "\n",
        "X = vect\n",
        "y = train.target\n",
        "print(X.shape, y.shape)\n",
        "X, X_test, y, y_test = train_test_split(X, y, random_state=42)\n",
        "stratified_folds = StratifiedKFold(n_splits=5, shuffle=True, random_state=0)"
      ],
      "execution_count": 79,
      "outputs": [
        {
          "output_type": "stream",
          "text": [
            "(2363, 63636) (2363,)\n"
          ],
          "name": "stdout"
        }
      ]
    },
    {
      "cell_type": "code",
      "metadata": {
        "id": "ovkcKzwTyxzV",
        "colab_type": "code",
        "colab": {
          "base_uri": "https://localhost:8080/",
          "height": 85
        },
        "outputId": "cc2d0d3f-4d5c-461f-d535-d1205f76b8c0"
      },
      "source": [
        "X1 = vect1\n",
        "y1 = train1.target\n",
        "print(X1.shape, y1.shape)\n",
        "X1, X_test1, y1, y_test1 = train_test_split(X1, y1, random_state=42)\n",
        "stratified_folds1 = StratifiedKFold(n_splits=5, shuffle=True, random_state=0)\n",
        "\n",
        "X2 = vect2\n",
        "y2 = train2.target\n",
        "print(X2.shape, y2.shape)\n",
        "X2, X_test2, y2, y_test2 = train_test_split(X2, y2, random_state=42)\n",
        "stratified_folds2 = StratifiedKFold(n_splits=5, shuffle=True, random_state=0)\n",
        "\n",
        "X3 = vect3\n",
        "y3 = train3.target\n",
        "print(X3.shape, y3.shape)\n",
        "X3, X_test3, y3, y_test3 = train_test_split(X3, y3, random_state=42)\n",
        "stratified_folds3 = StratifiedKFold(n_splits=5, shuffle=True, random_state=0)\n",
        "\n",
        "X4 = vect4\n",
        "y4 = train4.target\n",
        "print(X4.shape, y4.shape)\n",
        "X4, X_test4, y4, y_test4 = train_test_split(X4, y4, random_state=42)\n",
        "stratified_folds41 = StratifiedKFold(n_splits=5, shuffle=True, random_state=0)"
      ],
      "execution_count": 80,
      "outputs": [
        {
          "output_type": "stream",
          "text": [
            "(591, 41890) (591,)\n",
            "(585, 11910) (585,)\n",
            "(594, 12108) (594,)\n",
            "(593, 15893) (593,)\n"
          ],
          "name": "stdout"
        }
      ]
    },
    {
      "cell_type": "code",
      "metadata": {
        "id": "DRgrEQnAPLa7",
        "colab_type": "code",
        "colab": {}
      },
      "source": [
        "from sklearn import linear_model\n",
        "from sklearn import ensemble\n",
        "from sklearn.linear_model import SGDClassifier\n",
        "lr = linear_model.LogisticRegression()\n",
        "rf = ensemble.RandomForestClassifier()\n",
        "sgd = SGDClassifier()\n",
        "parameter_grid_lr = {'class_weight' : ['balanced', None],\n",
        "                  'C' : [0.01, 0.1, 1.0, 10.0],\n",
        "                  'max_iter': [300,1000]\n",
        "                 }\n",
        "parameters_RandomForest = {'n_estimators': [5, 10, 15],\n",
        "                           'max_depth': [None, 5],\n",
        "                           'min_samples_split': [0.5, 1.0, 5]                          \n",
        "                }\n",
        "parameters_SGD = {'penalty': ['l2', 'l1'], \n",
        "                  'alpha': [0.0001, 0.001, 0.01, 0.1], \n",
        "                  'max_iter': [10000, 15000, 20000]\n",
        "                }"
      ],
      "execution_count": 0,
      "outputs": []
    },
    {
      "cell_type": "code",
      "metadata": {
        "id": "3-luxCa4Q09M",
        "colab_type": "code",
        "colab": {}
      },
      "source": [
        "from sklearn.model_selection import GridSearchCV\n",
        "def grid_search(model, parameter_grid):\n",
        "    grid_search = GridSearchCV(model, param_grid=parameter_grid, cv=stratified_folds, scoring='f1_macro')\n",
        "    grid_search.fit(X, y)\n",
        "    print('Best score: {}'.format(grid_search.best_score_))\n",
        "    print('Best parameters: {}'.format(grid_search.best_params_))"
      ],
      "execution_count": 0,
      "outputs": []
    },
    {
      "cell_type": "code",
      "metadata": {
        "id": "60rsnNUm1-VI",
        "colab_type": "code",
        "colab": {}
      },
      "source": [
        "def grid_search1(model, parameter_grid):\n",
        "    grid_search = GridSearchCV(model, param_grid=parameter_grid, cv=stratified_folds, scoring='f1_macro')\n",
        "    grid_search.fit(X1, y1)\n",
        "    print('Best score: {}'.format(grid_search.best_score_))\n",
        "    print('Best parameters: {}'.format(grid_search.best_params_))\n",
        "\n",
        "def grid_search2(model, parameter_grid):\n",
        "    grid_search = GridSearchCV(model, param_grid=parameter_grid, cv=stratified_folds, scoring='f1_macro')\n",
        "    grid_search.fit(X2, y2)\n",
        "    print('Best score: {}'.format(grid_search.best_score_))\n",
        "    print('Best parameters: {}'.format(grid_search.best_params_))\n",
        "\n",
        "def grid_search3(model, parameter_grid):\n",
        "    grid_search = GridSearchCV(model, param_grid=parameter_grid, cv=stratified_folds, scoring='f1_macro')\n",
        "    grid_search.fit(X3, y3)\n",
        "    print('Best score: {}'.format(grid_search.best_score_))\n",
        "    print('Best parameters: {}'.format(grid_search.best_params_))\n",
        "\n",
        "def grid_search4(model, parameter_grid):\n",
        "    grid_search = GridSearchCV(model, param_grid=parameter_grid, cv=stratified_folds, scoring='f1_macro')\n",
        "    grid_search.fit(X4, y4)\n",
        "    print('Best score: {}'.format(grid_search.best_score_))\n",
        "    print('Best parameters: {}'.format(grid_search.best_params_))"
      ],
      "execution_count": 0,
      "outputs": []
    },
    {
      "cell_type": "code",
      "metadata": {
        "id": "K-WM_fBCTqMM",
        "colab_type": "code",
        "outputId": "d242d825-5674-4702-adc6-9104cc85f6c9",
        "colab": {
          "base_uri": "https://localhost:8080/",
          "height": 51
        }
      },
      "source": [
        "grid_search(lr, parameter_grid_lr)"
      ],
      "execution_count": 7,
      "outputs": [
        {
          "output_type": "stream",
          "text": [
            "Best score: 0.9342816081032079\n",
            "Best parameters: {'C': 1.0, 'class_weight': 'balanced', 'max_iter': 300}\n"
          ],
          "name": "stdout"
        }
      ]
    },
    {
      "cell_type": "code",
      "metadata": {
        "id": "oUJs-uJB5mDu",
        "colab_type": "code",
        "outputId": "255660c0-57eb-4efb-9fbf-d5002b8896c6",
        "colab": {
          "base_uri": "https://localhost:8080/",
          "height": 51
        }
      },
      "source": [
        "grid_search(rf, parameters_RandomForest)"
      ],
      "execution_count": 8,
      "outputs": [
        {
          "output_type": "stream",
          "text": [
            "Best score: 0.8443851763824167\n",
            "Best parameters: {'max_depth': None, 'min_samples_split': 5, 'n_estimators': 15}\n"
          ],
          "name": "stdout"
        }
      ]
    },
    {
      "cell_type": "code",
      "metadata": {
        "id": "EPC21mF22m3q",
        "colab_type": "code",
        "colab": {
          "base_uri": "https://localhost:8080/",
          "height": 51
        },
        "outputId": "918010ee-3d54-40ad-ae5a-33dc6131e90a"
      },
      "source": [
        "grid_search1(rf, parameters_RandomForest)"
      ],
      "execution_count": 82,
      "outputs": [
        {
          "output_type": "stream",
          "text": [
            "Best score: 1.0\n",
            "Best parameters: {'max_depth': None, 'min_samples_split': 0.5, 'n_estimators': 5}\n"
          ],
          "name": "stdout"
        }
      ]
    },
    {
      "cell_type": "code",
      "metadata": {
        "id": "7cpAECyo2s9e",
        "colab_type": "code",
        "colab": {
          "base_uri": "https://localhost:8080/",
          "height": 51
        },
        "outputId": "49749e0d-d710-46b7-84cc-55384879d9fa"
      },
      "source": [
        "grid_search2(rf, parameters_RandomForest)"
      ],
      "execution_count": 59,
      "outputs": [
        {
          "output_type": "stream",
          "text": [
            "Best score: 1.0\n",
            "Best parameters: {'max_depth': None, 'min_samples_split': 0.5, 'n_estimators': 5}\n"
          ],
          "name": "stdout"
        }
      ]
    },
    {
      "cell_type": "code",
      "metadata": {
        "id": "1H2unVUd2wcn",
        "colab_type": "code",
        "colab": {
          "base_uri": "https://localhost:8080/",
          "height": 51
        },
        "outputId": "ed84aa63-76ea-4126-b2a7-73bddb08441d"
      },
      "source": [
        "grid_search3(rf, parameters_RandomForest)"
      ],
      "execution_count": 60,
      "outputs": [
        {
          "output_type": "stream",
          "text": [
            "Best score: 1.0\n",
            "Best parameters: {'max_depth': None, 'min_samples_split': 0.5, 'n_estimators': 5}\n"
          ],
          "name": "stdout"
        }
      ]
    },
    {
      "cell_type": "code",
      "metadata": {
        "id": "DzqZIUO-27eA",
        "colab_type": "code",
        "colab": {
          "base_uri": "https://localhost:8080/",
          "height": 51
        },
        "outputId": "84635175-e48a-4091-98b4-8ac651b44683"
      },
      "source": [
        "grid_search4(rf, parameters_RandomForest)"
      ],
      "execution_count": 61,
      "outputs": [
        {
          "output_type": "stream",
          "text": [
            "Best score: 1.0\n",
            "Best parameters: {'max_depth': None, 'min_samples_split': 0.5, 'n_estimators': 5}\n"
          ],
          "name": "stdout"
        }
      ]
    },
    {
      "cell_type": "code",
      "metadata": {
        "id": "7h9yaTde1gMR",
        "colab_type": "code",
        "outputId": "c4b3c301-690e-4c45-a650-b80b973c9dea",
        "colab": {
          "base_uri": "https://localhost:8080/",
          "height": 51
        }
      },
      "source": [
        "grid_search(sgd, parameters_SGD)"
      ],
      "execution_count": 9,
      "outputs": [
        {
          "output_type": "stream",
          "text": [
            "Best score: 0.9425437110688858\n",
            "Best parameters: {'alpha': 0.1, 'max_iter': 10000, 'penalty': 'l2'}\n"
          ],
          "name": "stdout"
        }
      ]
    },
    {
      "cell_type": "code",
      "metadata": {
        "id": "jkUYU0cJ8uU9",
        "colab_type": "code",
        "colab": {}
      },
      "source": [
        "lr = linear_model.LogisticRegression(C=1.0, class_weight='balanced', max_iter=300)\n",
        "rf = ensemble.RandomForestClassifier(max_depth=None, min_samples_split=5, n_estimators=15)\n",
        "rf1 = ensemble.RandomForestClassifier(max_depth=None, min_samples_split=0.5, n_estimators=5)\n",
        "sgd = SGDClassifier(alpha=0.1, max_iter=15000, penalty='l2')"
      ],
      "execution_count": 0,
      "outputs": []
    },
    {
      "cell_type": "code",
      "metadata": {
        "id": "a6AbeZQKLz_j",
        "colab_type": "code",
        "colab": {}
      },
      "source": [
        "def cv_train_model(model):\n",
        "    valid_scores = []\n",
        "    for fold_n, (train_index, valid_index) in enumerate(stratified_folds.split(X, y)):\n",
        "        X_train, X_valid = X[train_index], X[valid_index]\n",
        "        y_train, y_valid = y[train_index], y[valid_index]\n",
        "        model.fit(X_train, y_train)      \n",
        "        y_pred_test = model.predict(X_test)\n",
        "        y_pred_valid = model.predict(X_valid)\n",
        "        valid_score = sklearn.metrics.f1_score(y_valid, y_pred_valid, average='macro')\n",
        "        valid_scores.append(valid_score)\n",
        "    test_score = sklearn.metrics.f1_score(y_test, y_pred_test, average='macro')\n",
        "    print('Cross Validation mean score:', mean(valid_scores))\n",
        "    print(\"Score on test data: {0:.4f}\".format(test_score))"
      ],
      "execution_count": 0,
      "outputs": []
    },
    {
      "cell_type": "code",
      "metadata": {
        "id": "kFVGsJcY4Duj",
        "colab_type": "code",
        "colab": {}
      },
      "source": [
        "def cv_train_model1(model):\n",
        "    valid_scores = []\n",
        "    for fold_n, (train_index, valid_index) in enumerate(stratified_folds1.split(X1, y1)):\n",
        "        X_train, X_valid = X1[train_index], X1[valid_index]\n",
        "        y_train, y_valid = y1[train_index], y1[valid_index]\n",
        "        model.fit(X_train, y_train)      \n",
        "        y_pred_test = model.predict(X_test1)\n",
        "        y_pred_valid = model.predict(X_valid)\n",
        "        valid_score = sklearn.metrics.f1_score(y_valid, y_pred_valid, average='macro')\n",
        "        valid_scores.append(valid_score)\n",
        "    test_score = sklearn.metrics.f1_score(y_test1, y_pred_test, average='macro')\n",
        "    print('Cross Validation mean score:', mean(valid_scores))\n",
        "    print(\"Score on test data: {0:.4f}\".format(test_score))\n",
        "\n",
        "def cv_train_model2(model):\n",
        "    valid_scores = []\n",
        "    for fold_n, (train_index, valid_index) in enumerate(stratified_folds2.split(X2, y2)):\n",
        "        X_train, X_valid = X2[train_index], X2[valid_index]\n",
        "        y_train, y_valid = y2[train_index], y2[valid_index]\n",
        "        model.fit(X_train, y_train)      \n",
        "        y_pred_test = model.predict(X_test2)\n",
        "        y_pred_valid = model.predict(X_valid)\n",
        "        valid_score = sklearn.metrics.f1_score(y_valid, y_pred_valid, average='macro')\n",
        "        valid_scores.append(valid_score)\n",
        "    test_score = sklearn.metrics.f1_score(y_test2, y_pred_test, average='macro')\n",
        "    print('Cross Validation mean score:', mean(valid_scores))\n",
        "    print(\"Score on test data: {0:.4f}\".format(test_score))\n",
        "\n",
        "def cv_train_model3(model):\n",
        "    valid_scores = []\n",
        "    for fold_n, (train_index, valid_index) in enumerate(stratified_folds3.split(X3, y3)):\n",
        "        X_train, X_valid = X3[train_index], X3[valid_index]\n",
        "        y_train, y_valid = y3[train_index], y3[valid_index]\n",
        "        model.fit(X_train, y_train)      \n",
        "        y_pred_test = model.predict(X_test3)\n",
        "        y_pred_valid = model.predict(X_valid)\n",
        "        valid_score = sklearn.metrics.f1_score(y_valid, y_pred_valid, average='macro')\n",
        "        valid_scores.append(valid_score)\n",
        "    test_score = sklearn.metrics.f1_score(y_test3, y_pred_test, average='macro')\n",
        "    print('Cross Validation mean score:', mean(valid_scores))\n",
        "    print(\"Score on test data: {0:.4f}\".format(test_score))\n",
        "\n",
        "def cv_train_model4(model):\n",
        "    valid_scores = []\n",
        "    for fold_n, (train_index, valid_index) in enumerate(stratified_folds4.split(X4, y4)):\n",
        "        X_train, X_valid = X4[train_index], X4[valid_index]\n",
        "        y_train, y_valid = y4[train_index], y4[valid_index]\n",
        "        model.fit(X_train, y_train)      \n",
        "        y_pred_test = model.predict(X_test4)\n",
        "        y_pred_valid = model.predict(X_valid)\n",
        "        valid_score = sklearn.metrics.f1_score(y_valid, y_pred_valid, average='macro')\n",
        "        valid_scores.append(valid_score)\n",
        "    test_score = sklearn.metrics.f1_score(y_test4, y_pred_test, average='macro')\n",
        "    print('Cross Validation mean score:', mean(valid_scores))\n",
        "    print(\"Score on test data: {0:.4f}\".format(test_score))"
      ],
      "execution_count": 0,
      "outputs": []
    },
    {
      "cell_type": "code",
      "metadata": {
        "id": "VD_ZF5XZ1kZ1",
        "colab_type": "code",
        "outputId": "bd7b0a0d-b1ea-43fd-fe3f-e51eb2dd7af4",
        "colab": {
          "base_uri": "https://localhost:8080/",
          "height": 51
        }
      },
      "source": [
        "cv_train_model(lr)"
      ],
      "execution_count": 12,
      "outputs": [
        {
          "output_type": "stream",
          "text": [
            "Cross Validation mean score: 0.934281608103208\n",
            "Score on test data: 0.9469\n"
          ],
          "name": "stdout"
        }
      ]
    },
    {
      "cell_type": "code",
      "metadata": {
        "id": "h1vWviK2tRLo",
        "colab_type": "code",
        "outputId": "af09a435-c6ef-402d-8546-9e2196e2ad59",
        "colab": {
          "base_uri": "https://localhost:8080/",
          "height": 51
        }
      },
      "source": [
        "cv_train_model(rf)"
      ],
      "execution_count": 13,
      "outputs": [
        {
          "output_type": "stream",
          "text": [
            "Cross Validation mean score: 0.855469287648565\n",
            "Score on test data: 0.8576\n"
          ],
          "name": "stdout"
        }
      ]
    },
    {
      "cell_type": "code",
      "metadata": {
        "id": "Vdbvi_J75JZp",
        "colab_type": "code",
        "colab": {
          "base_uri": "https://localhost:8080/",
          "height": 51
        },
        "outputId": "b68f5e6a-9b41-45eb-ce71-3295acc98a25"
      },
      "source": [
        "cv_train_model1(rf1)"
      ],
      "execution_count": 86,
      "outputs": [
        {
          "output_type": "stream",
          "text": [
            "Cross Validation mean score: 1.0\n",
            "Score on test data: 1.0000\n"
          ],
          "name": "stdout"
        }
      ]
    },
    {
      "cell_type": "code",
      "metadata": {
        "id": "n-_AQeiE8Lcz",
        "colab_type": "code",
        "colab": {
          "base_uri": "https://localhost:8080/",
          "height": 51
        },
        "outputId": "563620cf-b203-447a-f23c-98404608ac44"
      },
      "source": [
        "cv_train_model2(rf1)"
      ],
      "execution_count": 67,
      "outputs": [
        {
          "output_type": "stream",
          "text": [
            "Cross Validation mean score: 1.0\n",
            "Score on test data: 1.0000\n"
          ],
          "name": "stdout"
        }
      ]
    },
    {
      "cell_type": "code",
      "metadata": {
        "id": "fgM0RFp68OXq",
        "colab_type": "code",
        "colab": {
          "base_uri": "https://localhost:8080/",
          "height": 51
        },
        "outputId": "f36cb25d-c767-4599-c69b-4211ba2d79a5"
      },
      "source": [
        "cv_train_model3(rf1)"
      ],
      "execution_count": 68,
      "outputs": [
        {
          "output_type": "stream",
          "text": [
            "Cross Validation mean score: 1.0\n",
            "Score on test data: 1.0000\n"
          ],
          "name": "stdout"
        }
      ]
    },
    {
      "cell_type": "code",
      "metadata": {
        "id": "YcoLGeC58RQF",
        "colab_type": "code",
        "colab": {
          "base_uri": "https://localhost:8080/",
          "height": 51
        },
        "outputId": "535451fa-0a0f-41ad-e745-bc4f664dda24"
      },
      "source": [
        "cv_train_model4(rf1)"
      ],
      "execution_count": 69,
      "outputs": [
        {
          "output_type": "stream",
          "text": [
            "Cross Validation mean score: 1.0\n",
            "Score on test data: 1.0000\n"
          ],
          "name": "stdout"
        }
      ]
    },
    {
      "cell_type": "code",
      "metadata": {
        "id": "Ex7ru1-jtiV5",
        "colab_type": "code",
        "outputId": "1b384c59-8751-41df-a0a8-b409c668e64b",
        "colab": {
          "base_uri": "https://localhost:8080/",
          "height": 51
        }
      },
      "source": [
        "cv_train_model(sgd)"
      ],
      "execution_count": 14,
      "outputs": [
        {
          "output_type": "stream",
          "text": [
            "Cross Validation mean score: 0.9396623744254551\n",
            "Score on test data: 0.9554\n"
          ],
          "name": "stdout"
        }
      ]
    },
    {
      "cell_type": "code",
      "metadata": {
        "id": "fJDaB0CWKXHC",
        "colab_type": "code",
        "outputId": "d9212f34-a4ba-4b1d-fe43-25e2b19e877f",
        "colab": {
          "base_uri": "https://localhost:8080/",
          "height": 272
        }
      },
      "source": [
        "!pip install eli5"
      ],
      "execution_count": 15,
      "outputs": [
        {
          "output_type": "stream",
          "text": [
            "Collecting eli5\n",
            "\u001b[?25l  Downloading https://files.pythonhosted.org/packages/97/2f/c85c7d8f8548e460829971785347e14e45fa5c6617da374711dec8cb38cc/eli5-0.10.1-py2.py3-none-any.whl (105kB)\n",
            "\r\u001b[K     |███                             | 10kB 15.2MB/s eta 0:00:01\r\u001b[K     |██████▏                         | 20kB 3.1MB/s eta 0:00:01\r\u001b[K     |█████████▎                      | 30kB 3.6MB/s eta 0:00:01\r\u001b[K     |████████████▍                   | 40kB 4.1MB/s eta 0:00:01\r\u001b[K     |███████████████▌                | 51kB 3.5MB/s eta 0:00:01\r\u001b[K     |██████████████████▋             | 61kB 3.9MB/s eta 0:00:01\r\u001b[K     |█████████████████████▊          | 71kB 4.1MB/s eta 0:00:01\r\u001b[K     |████████████████████████▊       | 81kB 4.5MB/s eta 0:00:01\r\u001b[K     |███████████████████████████▉    | 92kB 4.8MB/s eta 0:00:01\r\u001b[K     |███████████████████████████████ | 102kB 4.8MB/s eta 0:00:01\r\u001b[K     |████████████████████████████████| 112kB 4.8MB/s \n",
            "\u001b[?25hRequirement already satisfied: graphviz in /usr/local/lib/python3.6/dist-packages (from eli5) (0.10.1)\n",
            "Requirement already satisfied: tabulate>=0.7.7 in /usr/local/lib/python3.6/dist-packages (from eli5) (0.8.7)\n",
            "Requirement already satisfied: scikit-learn>=0.18 in /usr/local/lib/python3.6/dist-packages (from eli5) (0.22.2.post1)\n",
            "Requirement already satisfied: attrs>16.0.0 in /usr/local/lib/python3.6/dist-packages (from eli5) (19.3.0)\n",
            "Requirement already satisfied: scipy in /usr/local/lib/python3.6/dist-packages (from eli5) (1.4.1)\n",
            "Requirement already satisfied: numpy>=1.9.0 in /usr/local/lib/python3.6/dist-packages (from eli5) (1.18.4)\n",
            "Requirement already satisfied: six in /usr/local/lib/python3.6/dist-packages (from eli5) (1.12.0)\n",
            "Requirement already satisfied: jinja2 in /usr/local/lib/python3.6/dist-packages (from eli5) (2.11.2)\n",
            "Requirement already satisfied: joblib>=0.11 in /usr/local/lib/python3.6/dist-packages (from scikit-learn>=0.18->eli5) (0.15.1)\n",
            "Requirement already satisfied: MarkupSafe>=0.23 in /usr/local/lib/python3.6/dist-packages (from jinja2->eli5) (1.1.1)\n",
            "Installing collected packages: eli5\n",
            "Successfully installed eli5-0.10.1\n"
          ],
          "name": "stdout"
        }
      ]
    },
    {
      "cell_type": "code",
      "metadata": {
        "id": "VV5uQTZT9P9C",
        "colab_type": "code",
        "colab": {}
      },
      "source": [
        "lr_fit = lr.fit(X,y)\n",
        "rf_fit = rf.fit(X,y)\n",
        "sgd_fit = sgd.fit(X,y)"
      ],
      "execution_count": 0,
      "outputs": []
    },
    {
      "cell_type": "code",
      "metadata": {
        "id": "SETr2-Dp8g04",
        "colab_type": "code",
        "colab": {}
      },
      "source": [
        "rf_fit1 = rf1.fit(X1,y1)\n",
        "rf_fit2 = rf1.fit(X2,y2)\n",
        "rf_fit3 = rf1.fit(X3,y3)\n",
        "rf_fit4 = rf1.fit(X4,y4)"
      ],
      "execution_count": 0,
      "outputs": []
    },
    {
      "cell_type": "code",
      "metadata": {
        "id": "kkohwCjr73A1",
        "colab_type": "code",
        "colab": {
          "base_uri": "https://localhost:8080/",
          "height": 204
        },
        "outputId": "004c4e14-bb26-441c-b77d-c11b82323fcb"
      },
      "source": [
        "import eli5  \n",
        "df = eli5.formatters.as_dataframe.explain_weights_df(lr_fit)\n",
        "df.head()"
      ],
      "execution_count": 19,
      "outputs": [
        {
          "output_type": "execute_result",
          "data": {
            "text/html": [
              "<div>\n",
              "<style scoped>\n",
              "    .dataframe tbody tr th:only-of-type {\n",
              "        vertical-align: middle;\n",
              "    }\n",
              "\n",
              "    .dataframe tbody tr th {\n",
              "        vertical-align: top;\n",
              "    }\n",
              "\n",
              "    .dataframe thead th {\n",
              "        text-align: right;\n",
              "    }\n",
              "</style>\n",
              "<table border=\"1\" class=\"dataframe\">\n",
              "  <thead>\n",
              "    <tr style=\"text-align: right;\">\n",
              "      <th></th>\n",
              "      <th>target</th>\n",
              "      <th>feature</th>\n",
              "      <th>weight</th>\n",
              "    </tr>\n",
              "  </thead>\n",
              "  <tbody>\n",
              "    <tr>\n",
              "      <th>0</th>\n",
              "      <td>0</td>\n",
              "      <td>x60354</td>\n",
              "      <td>1.289650</td>\n",
              "    </tr>\n",
              "    <tr>\n",
              "      <th>1</th>\n",
              "      <td>0</td>\n",
              "      <td>x26825</td>\n",
              "      <td>0.535892</td>\n",
              "    </tr>\n",
              "    <tr>\n",
              "      <th>2</th>\n",
              "      <td>0</td>\n",
              "      <td>x23870</td>\n",
              "      <td>0.461181</td>\n",
              "    </tr>\n",
              "    <tr>\n",
              "      <th>3</th>\n",
              "      <td>0</td>\n",
              "      <td>x57860</td>\n",
              "      <td>0.391514</td>\n",
              "    </tr>\n",
              "    <tr>\n",
              "      <th>4</th>\n",
              "      <td>0</td>\n",
              "      <td>x23869</td>\n",
              "      <td>0.388154</td>\n",
              "    </tr>\n",
              "  </tbody>\n",
              "</table>\n",
              "</div>"
            ],
            "text/plain": [
              "   target feature    weight\n",
              "0       0  x60354  1.289650\n",
              "1       0  x26825  0.535892\n",
              "2       0  x23870  0.461181\n",
              "3       0  x57860  0.391514\n",
              "4       0  x23869  0.388154"
            ]
          },
          "metadata": {
            "tags": []
          },
          "execution_count": 19
        }
      ]
    },
    {
      "cell_type": "code",
      "metadata": {
        "id": "J4bSnuGQ7qj2",
        "colab_type": "code",
        "colab": {
          "base_uri": "https://localhost:8080/",
          "height": 204
        },
        "outputId": "4b7eedd0-5043-411f-e4b8-a1324549f01a"
      },
      "source": [
        "df = eli5.formatters.as_dataframe.explain_weights_df(rf_fit)\n",
        "df.head()"
      ],
      "execution_count": 20,
      "outputs": [
        {
          "output_type": "execute_result",
          "data": {
            "text/html": [
              "<div>\n",
              "<style scoped>\n",
              "    .dataframe tbody tr th:only-of-type {\n",
              "        vertical-align: middle;\n",
              "    }\n",
              "\n",
              "    .dataframe tbody tr th {\n",
              "        vertical-align: top;\n",
              "    }\n",
              "\n",
              "    .dataframe thead th {\n",
              "        text-align: right;\n",
              "    }\n",
              "</style>\n",
              "<table border=\"1\" class=\"dataframe\">\n",
              "  <thead>\n",
              "    <tr style=\"text-align: right;\">\n",
              "      <th></th>\n",
              "      <th>feature</th>\n",
              "      <th>weight</th>\n",
              "      <th>std</th>\n",
              "    </tr>\n",
              "  </thead>\n",
              "  <tbody>\n",
              "    <tr>\n",
              "      <th>0</th>\n",
              "      <td>x19137</td>\n",
              "      <td>0.039043</td>\n",
              "      <td>0.049198</td>\n",
              "    </tr>\n",
              "    <tr>\n",
              "      <th>1</th>\n",
              "      <td>x24452</td>\n",
              "      <td>0.015213</td>\n",
              "      <td>0.019513</td>\n",
              "    </tr>\n",
              "    <tr>\n",
              "      <th>2</th>\n",
              "      <td>x60354</td>\n",
              "      <td>0.014421</td>\n",
              "      <td>0.017756</td>\n",
              "    </tr>\n",
              "    <tr>\n",
              "      <th>3</th>\n",
              "      <td>x48804</td>\n",
              "      <td>0.013861</td>\n",
              "      <td>0.017808</td>\n",
              "    </tr>\n",
              "    <tr>\n",
              "      <th>4</th>\n",
              "      <td>x52955</td>\n",
              "      <td>0.013533</td>\n",
              "      <td>0.019365</td>\n",
              "    </tr>\n",
              "  </tbody>\n",
              "</table>\n",
              "</div>"
            ],
            "text/plain": [
              "  feature    weight       std\n",
              "0  x19137  0.039043  0.049198\n",
              "1  x24452  0.015213  0.019513\n",
              "2  x60354  0.014421  0.017756\n",
              "3  x48804  0.013861  0.017808\n",
              "4  x52955  0.013533  0.019365"
            ]
          },
          "metadata": {
            "tags": []
          },
          "execution_count": 20
        }
      ]
    },
    {
      "cell_type": "code",
      "metadata": {
        "id": "FNO9o5WJCdeu",
        "colab_type": "code",
        "colab": {
          "base_uri": "https://localhost:8080/",
          "height": 204
        },
        "outputId": "a5f51061-ff4d-40d0-960a-c2bf81f05f35"
      },
      "source": [
        "df = eli5.formatters.as_dataframe.explain_weights_df(rf_fit1)\n",
        "df.head()"
      ],
      "execution_count": 88,
      "outputs": [
        {
          "output_type": "execute_result",
          "data": {
            "text/html": [
              "<div>\n",
              "<style scoped>\n",
              "    .dataframe tbody tr th:only-of-type {\n",
              "        vertical-align: middle;\n",
              "    }\n",
              "\n",
              "    .dataframe tbody tr th {\n",
              "        vertical-align: top;\n",
              "    }\n",
              "\n",
              "    .dataframe thead th {\n",
              "        text-align: right;\n",
              "    }\n",
              "</style>\n",
              "<table border=\"1\" class=\"dataframe\">\n",
              "  <thead>\n",
              "    <tr style=\"text-align: right;\">\n",
              "      <th></th>\n",
              "      <th>feature</th>\n",
              "      <th>weight</th>\n",
              "      <th>std</th>\n",
              "    </tr>\n",
              "  </thead>\n",
              "  <tbody>\n",
              "    <tr>\n",
              "      <th>0</th>\n",
              "      <td>x15892</td>\n",
              "      <td>0.0</td>\n",
              "      <td>0.0</td>\n",
              "    </tr>\n",
              "    <tr>\n",
              "      <th>1</th>\n",
              "      <td>x5291</td>\n",
              "      <td>0.0</td>\n",
              "      <td>0.0</td>\n",
              "    </tr>\n",
              "    <tr>\n",
              "      <th>2</th>\n",
              "      <td>x5304</td>\n",
              "      <td>0.0</td>\n",
              "      <td>0.0</td>\n",
              "    </tr>\n",
              "    <tr>\n",
              "      <th>3</th>\n",
              "      <td>x5303</td>\n",
              "      <td>0.0</td>\n",
              "      <td>0.0</td>\n",
              "    </tr>\n",
              "    <tr>\n",
              "      <th>4</th>\n",
              "      <td>x5302</td>\n",
              "      <td>0.0</td>\n",
              "      <td>0.0</td>\n",
              "    </tr>\n",
              "  </tbody>\n",
              "</table>\n",
              "</div>"
            ],
            "text/plain": [
              "  feature  weight  std\n",
              "0  x15892     0.0  0.0\n",
              "1   x5291     0.0  0.0\n",
              "2   x5304     0.0  0.0\n",
              "3   x5303     0.0  0.0\n",
              "4   x5302     0.0  0.0"
            ]
          },
          "metadata": {
            "tags": []
          },
          "execution_count": 88
        }
      ]
    },
    {
      "cell_type": "code",
      "metadata": {
        "id": "wipMoPZryrWm",
        "colab_type": "code",
        "colab": {}
      },
      "source": [
        "import pandas as pd\n",
        "def analyze_features(model, n):\n",
        "  index_to_word = {v:k for k,v in vectorizer.vocabulary_.items()}\n",
        "  df = eli5.formatters.as_dataframe.explain_weights_df(model)\n",
        "  category1 = df[df['target']==0]\n",
        "  category2 = df[df['target']==1]\n",
        "  category3 = df[df['target']==2]\n",
        "  category4 = df[df['target']==3]\n",
        "  print(' comp.os.ms-windows.misc:')\n",
        "  for word in category1.feature[:n]:\n",
        "    #print(word)\n",
        "    priznak = word.strip('x')\n",
        "    print(index_to_word[int(priznak)])\n",
        "  print('\\n','misc.forsale:')\n",
        "  for word in category2.feature[:n]:\n",
        "    #print(word)\n",
        "    priznak = word.strip('x')\n",
        "    print(index_to_word[int(priznak)])\n",
        "  print('\\n','rec.autos:')\n",
        "  for word in category3.feature[:n]:\n",
        "    #print(word)\n",
        "    priznak = word.strip('x')\n",
        "    if priznak == '<BIAS>':\n",
        "      print(priznak)\n",
        "    else:\n",
        "      print(index_to_word[int(priznak)])\n",
        "  print('\\n','sci.space:')\n",
        "  for word in category4.feature[:n]:\n",
        "    #print(word)\n",
        "    priznak = word.strip('x')\n",
        "    print(index_to_word[int(priznak)])"
      ],
      "execution_count": 0,
      "outputs": []
    },
    {
      "cell_type": "code",
      "metadata": {
        "id": "mErc_n6QRxLP",
        "colab_type": "code",
        "outputId": "7706a91d-a4c0-44fd-b3e1-1f74925f544c",
        "colab": {
          "base_uri": "https://localhost:8080/",
          "height": 816
        }
      },
      "source": [
        "analyze_features(lr_fit, 10)"
      ],
      "execution_count": 22,
      "outputs": [
        {
          "output_type": "stream",
          "text": [
            " comp.os.ms-windows.misc:\n",
            "windows\n",
            "file\n",
            "drivers\n",
            "using\n",
            "driver\n",
            "win\n",
            "files\n",
            "help\n",
            "microsoft\n",
            "with\n",
            "\n",
            " misc.forsale:\n",
            "sale\n",
            "wanted\n",
            "for\n",
            "shipping\n",
            "offer\n",
            "forsale\n",
            "interested\n",
            "distribution\n",
            "sell\n",
            "state\n",
            "\n",
            " rec.autos:\n",
            "car\n",
            "cars\n",
            "<BIAS>\n",
            "honda\n",
            "bmw\n",
            "testing\n",
            "integra\n",
            "automotive\n",
            "virginia\n",
            "just\n",
            "\n",
            " sci.space:\n",
            "space\n",
            "orbit\n",
            "nasa\n",
            "planets\n",
            "digex\n",
            "ryukoku\n",
            "sci\n",
            "pat\n",
            "jennise\n",
            "dgi\n"
          ],
          "name": "stdout"
        }
      ]
    },
    {
      "cell_type": "code",
      "metadata": {
        "id": "AU1SiQbkvm6T",
        "colab_type": "code",
        "colab": {
          "base_uri": "https://localhost:8080/",
          "height": 816
        },
        "outputId": "bc1c37c1-1a98-4511-9830-9d54a809972a"
      },
      "source": [
        "analyze_features(sgd_fit, 10)"
      ],
      "execution_count": 23,
      "outputs": [
        {
          "output_type": "stream",
          "text": [
            " comp.os.ms-windows.misc:\n",
            "ax\n",
            "windows\n",
            "max\n",
            "file\n",
            "drivers\n",
            "using\n",
            "driver\n",
            "files\n",
            "ftp\n",
            "win\n",
            "\n",
            " misc.forsale:\n",
            "sale\n",
            "wanted\n",
            "for\n",
            "offer\n",
            "shipping\n",
            "forsale\n",
            "sell\n",
            "new\n",
            "call\n",
            "distribution\n",
            "\n",
            " rec.autos:\n",
            "car\n",
            "cars\n",
            "bmw\n",
            "honda\n",
            "dealer\n",
            "ford\n",
            "engine\n",
            "automotive\n",
            "toyota\n",
            "eliot\n",
            "\n",
            " sci.space:\n",
            "space\n",
            "orbit\n",
            "nasa\n",
            "pat\n",
            "digex\n",
            "alaska\n",
            "launch\n",
            "spacecraft\n",
            "sci\n",
            "earth\n"
          ],
          "name": "stdout"
        }
      ]
    },
    {
      "cell_type": "code",
      "metadata": {
        "id": "vkNHn7Suwqzh",
        "colab_type": "code",
        "colab": {
          "base_uri": "https://localhost:8080/",
          "height": 34
        },
        "outputId": "cb0617e9-b44d-463e-fd7a-44b842c5fa44"
      },
      "source": [
        "import statistics\n",
        "priznaki = rf_fit.feature_importances_\n",
        "real = [i for i in priznaki if i]\n",
        "real_mean = statistics.mean(real)\n",
        "print(len([i for i in real if i > 5*real_mean]))"
      ],
      "execution_count": 24,
      "outputs": [
        {
          "output_type": "stream",
          "text": [
            "97\n"
          ],
          "name": "stdout"
        }
      ]
    },
    {
      "cell_type": "code",
      "metadata": {
        "id": "c1cnbJw8BhyR",
        "colab_type": "code",
        "colab": {
          "base_uri": "https://localhost:8080/",
          "height": 34
        },
        "outputId": "856cf652-57ef-4d99-c892-98b0b08d1839"
      },
      "source": [
        "priznaki1 = rf_fit1.feature_importances_\n",
        "priznaki1[170]"
      ],
      "execution_count": 74,
      "outputs": [
        {
          "output_type": "execute_result",
          "data": {
            "text/plain": [
              "0.0"
            ]
          },
          "metadata": {
            "tags": []
          },
          "execution_count": 74
        }
      ]
    },
    {
      "cell_type": "code",
      "metadata": {
        "id": "gYKXHDsb--bn",
        "colab_type": "code",
        "colab": {
          "base_uri": "https://localhost:8080/",
          "height": 350
        },
        "outputId": "6779b7df-956c-44bb-b1c6-5ab4745f47e7"
      },
      "source": [
        "priznaki1 = rf_fit1.feature_importances_\n",
        "real1 = [i for i in priznaki1 if i]\n",
        "real_mean1 = statistics.mean(real1)\n",
        "print(len([i for i in real1 if i > 5*real_mean1]))\n",
        "\n",
        "priznaki2 = rf_fit2.feature_importances_\n",
        "real2 = [i for i in priznaki2 if i]\n",
        "real_mean2 = statistics.mean(real2)\n",
        "print(len([i for i in real2 if i > 5*real_mean2]))\n",
        "\n",
        "priznaki3 = rf_fit3.feature_importances_\n",
        "real3 = [i for i in priznaki3 if i]\n",
        "real_mean3 = statistics.mean(real3)\n",
        "print(len([i for i in real3 if i > 5*real_mean3]))\n",
        "\n",
        "priznaki4 = rf_fit4.feature_importances_\n",
        "real4 = [i for i in priznaki4 if i]\n",
        "real_mean4 = statistics.mean(real4)\n",
        "print(len([i for i in real4 if i > 5*real_mean4]))"
      ],
      "execution_count": 71,
      "outputs": [
        {
          "output_type": "error",
          "ename": "StatisticsError",
          "evalue": "ignored",
          "traceback": [
            "\u001b[0;31m---------------------------------------------------------------------------\u001b[0m",
            "\u001b[0;31mStatisticsError\u001b[0m                           Traceback (most recent call last)",
            "\u001b[0;32m<ipython-input-71-9b1c6c0c3203>\u001b[0m in \u001b[0;36m<module>\u001b[0;34m()\u001b[0m\n\u001b[1;32m      1\u001b[0m \u001b[0mpriznaki1\u001b[0m \u001b[0;34m=\u001b[0m \u001b[0mrf_fit1\u001b[0m\u001b[0;34m.\u001b[0m\u001b[0mfeature_importances_\u001b[0m\u001b[0;34m\u001b[0m\u001b[0;34m\u001b[0m\u001b[0m\n\u001b[1;32m      2\u001b[0m \u001b[0mreal1\u001b[0m \u001b[0;34m=\u001b[0m \u001b[0;34m[\u001b[0m\u001b[0mi\u001b[0m \u001b[0;32mfor\u001b[0m \u001b[0mi\u001b[0m \u001b[0;32min\u001b[0m \u001b[0mpriznaki1\u001b[0m \u001b[0;32mif\u001b[0m \u001b[0mi\u001b[0m\u001b[0;34m]\u001b[0m\u001b[0;34m\u001b[0m\u001b[0;34m\u001b[0m\u001b[0m\n\u001b[0;32m----> 3\u001b[0;31m \u001b[0mreal_mean1\u001b[0m \u001b[0;34m=\u001b[0m \u001b[0mstatistics\u001b[0m\u001b[0;34m.\u001b[0m\u001b[0mmean\u001b[0m\u001b[0;34m(\u001b[0m\u001b[0mreal1\u001b[0m\u001b[0;34m)\u001b[0m\u001b[0;34m\u001b[0m\u001b[0;34m\u001b[0m\u001b[0m\n\u001b[0m\u001b[1;32m      4\u001b[0m \u001b[0mprint\u001b[0m\u001b[0;34m(\u001b[0m\u001b[0mlen\u001b[0m\u001b[0;34m(\u001b[0m\u001b[0;34m[\u001b[0m\u001b[0mi\u001b[0m \u001b[0;32mfor\u001b[0m \u001b[0mi\u001b[0m \u001b[0;32min\u001b[0m \u001b[0mreal1\u001b[0m \u001b[0;32mif\u001b[0m \u001b[0mi\u001b[0m \u001b[0;34m>\u001b[0m \u001b[0;36m5\u001b[0m\u001b[0;34m*\u001b[0m\u001b[0mreal_mean1\u001b[0m\u001b[0;34m]\u001b[0m\u001b[0;34m)\u001b[0m\u001b[0;34m)\u001b[0m\u001b[0;34m\u001b[0m\u001b[0;34m\u001b[0m\u001b[0m\n\u001b[1;32m      5\u001b[0m \u001b[0;34m\u001b[0m\u001b[0m\n",
            "\u001b[0;32m/usr/lib/python3.6/statistics.py\u001b[0m in \u001b[0;36mmean\u001b[0;34m(data)\u001b[0m\n\u001b[1;32m    309\u001b[0m     \u001b[0mn\u001b[0m \u001b[0;34m=\u001b[0m \u001b[0mlen\u001b[0m\u001b[0;34m(\u001b[0m\u001b[0mdata\u001b[0m\u001b[0;34m)\u001b[0m\u001b[0;34m\u001b[0m\u001b[0;34m\u001b[0m\u001b[0m\n\u001b[1;32m    310\u001b[0m     \u001b[0;32mif\u001b[0m \u001b[0mn\u001b[0m \u001b[0;34m<\u001b[0m \u001b[0;36m1\u001b[0m\u001b[0;34m:\u001b[0m\u001b[0;34m\u001b[0m\u001b[0;34m\u001b[0m\u001b[0m\n\u001b[0;32m--> 311\u001b[0;31m         \u001b[0;32mraise\u001b[0m \u001b[0mStatisticsError\u001b[0m\u001b[0;34m(\u001b[0m\u001b[0;34m'mean requires at least one data point'\u001b[0m\u001b[0;34m)\u001b[0m\u001b[0;34m\u001b[0m\u001b[0;34m\u001b[0m\u001b[0m\n\u001b[0m\u001b[1;32m    312\u001b[0m     \u001b[0mT\u001b[0m\u001b[0;34m,\u001b[0m \u001b[0mtotal\u001b[0m\u001b[0;34m,\u001b[0m \u001b[0mcount\u001b[0m \u001b[0;34m=\u001b[0m \u001b[0m_sum\u001b[0m\u001b[0;34m(\u001b[0m\u001b[0mdata\u001b[0m\u001b[0;34m)\u001b[0m\u001b[0;34m\u001b[0m\u001b[0;34m\u001b[0m\u001b[0m\n\u001b[1;32m    313\u001b[0m     \u001b[0;32massert\u001b[0m \u001b[0mcount\u001b[0m \u001b[0;34m==\u001b[0m \u001b[0mn\u001b[0m\u001b[0;34m\u001b[0m\u001b[0;34m\u001b[0m\u001b[0m\n",
            "\u001b[0;31mStatisticsError\u001b[0m: mean requires at least one data point"
          ]
        }
      ]
    },
    {
      "cell_type": "code",
      "metadata": {
        "id": "cboVyV5vwxii",
        "colab_type": "code",
        "colab": {
          "base_uri": "https://localhost:8080/",
          "height": 34
        },
        "outputId": "95324a40-7332-42cf-d73c-4c5a03cf528b"
      },
      "source": [
        "len(index_to_word1)"
      ],
      "execution_count": 48,
      "outputs": [
        {
          "output_type": "execute_result",
          "data": {
            "text/plain": [
              "41890"
            ]
          },
          "metadata": {
            "tags": []
          },
          "execution_count": 48
        }
      ]
    },
    {
      "cell_type": "code",
      "metadata": {
        "id": "jRV2zREV4Xx5",
        "colab_type": "code",
        "colab": {
          "base_uri": "https://localhost:8080/",
          "height": 85
        },
        "outputId": "44f1697f-e816-46e8-c609-fda0a339e664"
      },
      "source": [
        "rf_priznaki1 = []\n",
        "index_to_word1 = {v:k for k,v in vectorizer1.vocabulary_.items()}\n",
        "for i in range(len(priznaki)):\n",
        "    if priznaki[i]in index_to_word1 and priznaki[i] > 5*real_mean:\n",
        "        rf_priznaki1.append(index_to_word1[i])\n",
        "print('comp.os.ms-windows.misc:', rf_priznaki1)\n",
        "\n",
        "rf_priznaki2 = []\n",
        "index_to_word2 = {v:k for k,v in vectorizer2.vocabulary_.items()}\n",
        "for i in range(len(priznaki)):\n",
        "    if priznaki[i]in vectorizer2.vocabulary_.items() and priznaki[i] > 5*real_mean:\n",
        "        rf_priznaki2.append(index_to_word2[i])\n",
        "print('misc.forsale:', rf_priznaki2)\n",
        "\n",
        "rf_priznaki3 = []\n",
        "index_to_word3 = {v:k for k,v in vectorizer3.vocabulary_.items()}\n",
        "for i in range(len(priznaki)):\n",
        "    if priznaki[i]in vectorizer3.vocabulary_.items() and priznaki[i] > 5*real_mean:\n",
        "        rf_priznaki3.append(index_to_word3[i])\n",
        "print('rec.autos:', rf_priznaki3)\n",
        "\n",
        "rf_priznaki4 = []\n",
        "index_to_word4 = {v:k for k,v in vectorizer4.vocabulary_.items()}\n",
        "for i in range(len(priznaki)):\n",
        "    if priznaki[i]in vectorizer4.vocabulary_.items() and priznaki[i] > 5*real_mean:\n",
        "        rf_priznaki4.append(index_to_word4[i])\n",
        "print('sci.space:', rf_priznaki4)"
      ],
      "execution_count": 38,
      "outputs": [
        {
          "output_type": "stream",
          "text": [
            "comp.os.ms-windows.misc:  []\n",
            "comp.os.ms-windows.misc:  []\n",
            "comp.os.ms-windows.misc:  []\n",
            "comp.os.ms-windows.misc:  []\n"
          ],
          "name": "stdout"
        }
      ]
    },
    {
      "cell_type": "code",
      "metadata": {
        "id": "ScZwsGRNF05w",
        "colab_type": "code",
        "colab": {}
      },
      "source": [
        "import nltk\n",
        "nltk.download('stopwords')\n",
        "from nltk.corpus import stopwords\n",
        "stops = stopwords.words('english')\n",
        "best_vectorizer = sklearn.feature_extraction.text.CountVectorizer(stop_words=stops, min_df=0.005, max_df=0.4, max_features=5000)\n",
        "best_vect = best_vectorizer.fit_transform(train.data)\n",
        "X = best_vect\n",
        "y = train.target\n",
        "print(X.shape, y.shape)\n",
        "X, X_test, y, y_test = train_test_split(X, y, random_state=42)\n",
        "stratified_folds = StratifiedKFold(n_splits=5, shuffle=True, random_state=0)"
      ],
      "execution_count": 0,
      "outputs": []
    },
    {
      "cell_type": "code",
      "metadata": {
        "id": "5bS8a_VLNh-M",
        "colab_type": "code",
        "colab": {}
      },
      "source": [
        "lr = linear_model.LogisticRegression()\n",
        "rf = ensemble.RandomForestClassifier()\n",
        "sgd = SGDClassifier()\n",
        "parameter_grid_lr = {'class_weight' : ['balanced', None],\n",
        "                  'C' : [0.01, 0.1, 1.0, 10.0],\n",
        "                  'max_iter': [300,1000]\n",
        "                 }\n",
        "parameters_RandomForest = {'n_estimators': [5, 10, 15],\n",
        "                           'max_depth': [None, 5],\n",
        "                           'min_samples_split': [0.5, 1.0, 5]                          \n",
        "                }\n",
        "parameters_SGD = {'penalty': ['l2', 'l1'], \n",
        "                  'alpha': [0.0001, 0.001, 0.01, 0.1], \n",
        "                  'max_iter': [10000, 15000, 20000]\n",
        "                }"
      ],
      "execution_count": 0,
      "outputs": []
    },
    {
      "cell_type": "code",
      "metadata": {
        "id": "4-FCCzTDNyeM",
        "colab_type": "code",
        "colab": {}
      },
      "source": [
        "grid_search(lr, parameter_grid_lr)\n",
        "lr = linear_model.LogisticRegression(C=1.0, class_weight='balanced', max_iter=300)\n",
        "cv_train_model(lr)"
      ],
      "execution_count": 0,
      "outputs": []
    },
    {
      "cell_type": "code",
      "metadata": {
        "id": "FhuKQEFFatZr",
        "colab_type": "code",
        "colab": {}
      },
      "source": [
        "grid_search(rf, parameters_RandomForest)\n",
        "rf = ensemble.RandomForestClassifier(max_depth=None, min_samples_split=5, n_estimators=15)\n",
        "cv_train_model(rf)"
      ],
      "execution_count": 0,
      "outputs": []
    },
    {
      "cell_type": "code",
      "metadata": {
        "id": "XI4pefVlbWGy",
        "colab_type": "code",
        "colab": {}
      },
      "source": [
        "grid_search(sgd, parameters_SGD)\n",
        "sgd = SGDClassifier(alpha=0.1, max_iter=15000, penalty='l2')\n",
        "cv_train_model(sgd)"
      ],
      "execution_count": 0,
      "outputs": []
    }
  ]
}