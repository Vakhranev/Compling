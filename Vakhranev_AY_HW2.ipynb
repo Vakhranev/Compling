{
  "nbformat": 4,
  "nbformat_minor": 0,
  "metadata": {
    "kernelspec": {
      "display_name": "Python 3",
      "language": "python",
      "name": "python3"
    },
    "language_info": {
      "codemirror_mode": {
        "name": "ipython",
        "version": 3
      },
      "file_extension": ".py",
      "mimetype": "text/x-python",
      "name": "python",
      "nbconvert_exporter": "python",
      "pygments_lexer": "ipython3",
      "version": "3.7.4"
    },
    "colab": {
      "name": "Копия блокнота \"Homework 2.ipynb\"",
      "provenance": [],
      "toc_visible": true,
      "include_colab_link": true
    }
  },
  "cells": [
    {
      "cell_type": "markdown",
      "metadata": {
        "id": "view-in-github",
        "colab_type": "text"
      },
      "source": [
        "<a href=\"https://colab.research.google.com/github/Vakhranev/Compling/blob/master/Vakhranev_AY_HW2.ipynb\" target=\"_parent\"><img src=\"https://colab.research.google.com/assets/colab-badge.svg\" alt=\"Open In Colab\"/></a>"
      ]
    },
    {
      "cell_type": "code",
      "metadata": {
        "id": "PauhqetfmwFy",
        "colab": {
          "base_uri": "https://localhost:8080/"
        },
        "outputId": "586e7c1c-c810-4666-c8d2-8e4e3bfde585"
      },
      "source": [
        "!wget https://raw.githubusercontent.com/BobaZooba/HSE-Deep-Learning-in-NLP-Course/master/Week%203/data.py\n",
        "\n",
        "import math\n",
        "import numpy as np\n",
        "\n",
        "from tqdm import tqdm\n",
        "\n",
        "import torch\n",
        "\n",
        "import zipfile\n",
        "\n",
        "import seaborn as sns\n",
        "\n",
        "from data import Downloader, Parser"
      ],
      "execution_count": 1,
      "outputs": [
        {
          "output_type": "stream",
          "text": [
            "--2020-12-27 20:42:07--  https://raw.githubusercontent.com/BobaZooba/HSE-Deep-Learning-in-NLP-Course/master/Week%203/data.py\n",
            "Resolving raw.githubusercontent.com (raw.githubusercontent.com)... 151.101.0.133, 151.101.64.133, 151.101.128.133, ...\n",
            "Connecting to raw.githubusercontent.com (raw.githubusercontent.com)|151.101.0.133|:443... connected.\n",
            "HTTP request sent, awaiting response... 200 OK\n",
            "Length: 10563 (10K) [text/plain]\n",
            "Saving to: ‘data.py’\n",
            "\n",
            "data.py             100%[===================>]  10.32K  --.-KB/s    in 0s      \n",
            "\n",
            "2020-12-27 20:42:08 (106 MB/s) - ‘data.py’ saved [10563/10563]\n",
            "\n"
          ],
          "name": "stdout"
        }
      ]
    },
    {
      "cell_type": "markdown",
      "metadata": {
        "id": "lkj-KkyFmwGE"
      },
      "source": [
        "### Загружаем файл с эмбеддингами для английского языка\n",
        "Они нам понадобятся чуть позже.  \n",
        "Для других языков можете найти здесь: https://fasttext.cc/docs/en/crawl-vectors.html"
      ]
    },
    {
      "cell_type": "code",
      "metadata": {
        "id": "z_lth05VmwGG",
        "colab": {
          "base_uri": "https://localhost:8080/"
        },
        "outputId": "d32832ac-b328-4bd1-db39-a9b11d53ecdc"
      },
      "source": [
        "# раскомментируйте и скачайте\n",
        "!wget https://dl.fbaipublicfiles.com/fasttext/vectors-english/wiki-news-300d-1M.vec.zip"
      ],
      "execution_count": 2,
      "outputs": [
        {
          "output_type": "stream",
          "text": [
            "--2020-12-27 20:42:11--  https://dl.fbaipublicfiles.com/fasttext/vectors-english/wiki-news-300d-1M.vec.zip\n",
            "Resolving dl.fbaipublicfiles.com (dl.fbaipublicfiles.com)... 172.67.9.4, 104.22.74.142, 104.22.75.142, ...\n",
            "Connecting to dl.fbaipublicfiles.com (dl.fbaipublicfiles.com)|172.67.9.4|:443... connected.\n",
            "HTTP request sent, awaiting response... 200 OK\n",
            "Length: 681808098 (650M) [application/zip]\n",
            "Saving to: ‘wiki-news-300d-1M.vec.zip’\n",
            "\n",
            "wiki-news-300d-1M.v 100%[===================>] 650.22M  27.0MB/s    in 25s     \n",
            "\n",
            "2020-12-27 20:42:37 (26.3 MB/s) - ‘wiki-news-300d-1M.vec.zip’ saved [681808098/681808098]\n",
            "\n"
          ],
          "name": "stdout"
        }
      ]
    },
    {
      "cell_type": "code",
      "metadata": {
        "id": "W1bwsmP5mwGV"
      },
      "source": [
        "# путь к данным\n",
        "data_path = './data/'"
      ],
      "execution_count": 3,
      "outputs": []
    },
    {
      "cell_type": "markdown",
      "metadata": {
        "id": "j_ThM59tmwGh"
      },
      "source": [
        "### Читалка данные\n",
        "Не стоит вдаваться в подробности, просто эта штука скачивает данные, затем парсит и делает из них три датасета:\n",
        "- тренировочный\n",
        "- валидационный\n",
        "- неразмеченный\n",
        "\n",
        "Неразмеченные данные необазятельны, но могут вам понадобиться, например, для языковой модели или улучшения эмбеддингов."
      ]
    },
    {
      "cell_type": "code",
      "metadata": {
        "id": "BAp_0GoumwGj"
      },
      "source": [
        "downloader = Downloader(data_path=data_path)"
      ],
      "execution_count": 4,
      "outputs": []
    },
    {
      "cell_type": "code",
      "metadata": {
        "id": "j4PXrpMymwGw",
        "colab": {
          "base_uri": "https://localhost:8080/"
        },
        "outputId": "5e8a95fa-58d9-42ed-f951-6fe3c0c0b0d2"
      },
      "source": [
        "downloader.run()"
      ],
      "execution_count": 5,
      "outputs": [
        {
          "output_type": "stream",
          "text": [
            "single: 100%|██████████| 21/21 [00:15<00:00,  1.36it/s]\n",
            "multiple: 100%|██████████| 17/17 [00:18<00:00,  1.08s/it]\n"
          ],
          "name": "stderr"
        }
      ]
    },
    {
      "cell_type": "code",
      "metadata": {
        "id": "hzGKfthjmwG8"
      },
      "source": [
        "parser = Parser(data_path=data_path)"
      ],
      "execution_count": 6,
      "outputs": []
    },
    {
      "cell_type": "code",
      "metadata": {
        "id": "5g7DkPr1mwHG",
        "colab": {
          "base_uri": "https://localhost:8080/"
        },
        "outputId": "767b6a25-2459-4ee9-e3db-e4d38b426323"
      },
      "source": [
        "unlabeled, train, valid = parser.run()"
      ],
      "execution_count": 7,
      "outputs": [
        {
          "output_type": "stream",
          "text": [
            "Reading: 100%|██████████| 38/38 [02:34<00:00,  4.07s/it]\n"
          ],
          "name": "stderr"
        }
      ]
    },
    {
      "cell_type": "markdown",
      "metadata": {
        "id": "5Z9fJ3trmwHW"
      },
      "source": [
        "### Посмотрим на датасеты"
      ]
    },
    {
      "cell_type": "code",
      "metadata": {
        "id": "HOb7ee6emwHY",
        "colab": {
          "base_uri": "https://localhost:8080/",
          "height": 419
        },
        "outputId": "0a2bb070-421b-495c-acd6-99abadc1ff04"
      },
      "source": [
        "unlabeled"
      ],
      "execution_count": 8,
      "outputs": [
        {
          "output_type": "execute_result",
          "data": {
            "text/html": [
              "<div>\n",
              "<style scoped>\n",
              "    .dataframe tbody tr th:only-of-type {\n",
              "        vertical-align: middle;\n",
              "    }\n",
              "\n",
              "    .dataframe tbody tr th {\n",
              "        vertical-align: top;\n",
              "    }\n",
              "\n",
              "    .dataframe thead th {\n",
              "        text-align: right;\n",
              "    }\n",
              "</style>\n",
              "<table border=\"1\" class=\"dataframe\">\n",
              "  <thead>\n",
              "    <tr style=\"text-align: right;\">\n",
              "      <th></th>\n",
              "      <th>question</th>\n",
              "      <th>response</th>\n",
              "    </tr>\n",
              "  </thead>\n",
              "  <tbody>\n",
              "    <tr>\n",
              "      <th>0</th>\n",
              "      <td>has anyone used wagner thermoquiets, how do th...</td>\n",
              "      <td>installed on my 96 acorrd for aprox.10k and th...</td>\n",
              "    </tr>\n",
              "    <tr>\n",
              "      <th>1</th>\n",
              "      <td>are these good for nighttime?  my son is fully...</td>\n",
              "      <td>i only used them at night, but for a younger b...</td>\n",
              "    </tr>\n",
              "    <tr>\n",
              "      <th>2</th>\n",
              "      <td>is there a gelatin in it?</td>\n",
              "      <td>the label does not mention the capsule content...</td>\n",
              "    </tr>\n",
              "    <tr>\n",
              "      <th>3</th>\n",
              "      <td>does it work on motorcycle tires as well and s...</td>\n",
              "      <td>if the valve steam has the same dimension than...</td>\n",
              "    </tr>\n",
              "    <tr>\n",
              "      <th>4</th>\n",
              "      <td>does it fit most standard snowmobiles ? (examp...</td>\n",
              "      <td>i am unable to say for sure if it will fit the...</td>\n",
              "    </tr>\n",
              "    <tr>\n",
              "      <th>...</th>\n",
              "      <td>...</td>\n",
              "      <td>...</td>\n",
              "    </tr>\n",
              "    <tr>\n",
              "      <th>137275</th>\n",
              "      <td>does this product scan to a pdf?  does it scan...</td>\n",
              "      <td>it will scan to pdf or jpg.  it does scan from...</td>\n",
              "    </tr>\n",
              "    <tr>\n",
              "      <th>137276</th>\n",
              "      <td>how far does the flipper stick out when closed...</td>\n",
              "      <td>the flipper sticks out 5/16\". i don't own the ...</td>\n",
              "    </tr>\n",
              "    <tr>\n",
              "      <th>137277</th>\n",
              "      <td>hi... does this phone works in 1900 mhz 3g ban...</td>\n",
              "      <td>dear rixio, sorry but this phone ido not work ...</td>\n",
              "    </tr>\n",
              "    <tr>\n",
              "      <th>137278</th>\n",
              "      <td>i recently purchased a shadow billet grill tha...</td>\n",
              "      <td>i'm not really sure.unless that particular gri...</td>\n",
              "    </tr>\n",
              "    <tr>\n",
              "      <th>137279</th>\n",
              "      <td>what are the dimensions of the air compressor ...</td>\n",
              "      <td>from the slime website...4.75&amp;#8243;h x 3.875&amp;...</td>\n",
              "    </tr>\n",
              "  </tbody>\n",
              "</table>\n",
              "<p>137280 rows × 2 columns</p>\n",
              "</div>"
            ],
            "text/plain": [
              "                                                 question                                           response\n",
              "0       has anyone used wagner thermoquiets, how do th...  installed on my 96 acorrd for aprox.10k and th...\n",
              "1       are these good for nighttime?  my son is fully...  i only used them at night, but for a younger b...\n",
              "2                               is there a gelatin in it?  the label does not mention the capsule content...\n",
              "3       does it work on motorcycle tires as well and s...  if the valve steam has the same dimension than...\n",
              "4       does it fit most standard snowmobiles ? (examp...  i am unable to say for sure if it will fit the...\n",
              "...                                                   ...                                                ...\n",
              "137275  does this product scan to a pdf?  does it scan...  it will scan to pdf or jpg.  it does scan from...\n",
              "137276  how far does the flipper stick out when closed...  the flipper sticks out 5/16\". i don't own the ...\n",
              "137277  hi... does this phone works in 1900 mhz 3g ban...  dear rixio, sorry but this phone ido not work ...\n",
              "137278  i recently purchased a shadow billet grill tha...  i'm not really sure.unless that particular gri...\n",
              "137279  what are the dimensions of the air compressor ...  from the slime website...4.75&#8243;h x 3.875&...\n",
              "\n",
              "[137280 rows x 2 columns]"
            ]
          },
          "metadata": {
            "tags": []
          },
          "execution_count": 8
        }
      ]
    },
    {
      "cell_type": "code",
      "metadata": {
        "id": "u7lEMssqmwHi",
        "colab": {
          "base_uri": "https://localhost:8080/",
          "height": 419
        },
        "outputId": "1e214451-f499-42f4-df45-60f313ec28b9"
      },
      "source": [
        "train"
      ],
      "execution_count": 9,
      "outputs": [
        {
          "output_type": "execute_result",
          "data": {
            "text/html": [
              "<div>\n",
              "<style scoped>\n",
              "    .dataframe tbody tr th:only-of-type {\n",
              "        vertical-align: middle;\n",
              "    }\n",
              "\n",
              "    .dataframe tbody tr th {\n",
              "        vertical-align: top;\n",
              "    }\n",
              "\n",
              "    .dataframe thead th {\n",
              "        text-align: right;\n",
              "    }\n",
              "</style>\n",
              "<table border=\"1\" class=\"dataframe\">\n",
              "  <thead>\n",
              "    <tr style=\"text-align: right;\">\n",
              "      <th></th>\n",
              "      <th>question</th>\n",
              "      <th>response</th>\n",
              "      <th>category</th>\n",
              "    </tr>\n",
              "  </thead>\n",
              "  <tbody>\n",
              "    <tr>\n",
              "      <th>0</th>\n",
              "      <td>do these retro phones come with internal answe...</td>\n",
              "      <td>this one doesn't..but good quality phone.</td>\n",
              "      <td>office products</td>\n",
              "    </tr>\n",
              "    <tr>\n",
              "      <th>1</th>\n",
              "      <td>i am new to owning a cat and inherited this 8 ...</td>\n",
              "      <td>it is your job to clip your cats nails. please...</td>\n",
              "      <td>pet supplies</td>\n",
              "    </tr>\n",
              "    <tr>\n",
              "      <th>2</th>\n",
              "      <td>is this a smartphone</td>\n",
              "      <td>yes.thank you</td>\n",
              "      <td>cell phones and accessories</td>\n",
              "    </tr>\n",
              "    <tr>\n",
              "      <th>3</th>\n",
              "      <td>does this gate have a manual open and close (o...</td>\n",
              "      <td>yes. you can make it so you don't have to use ...</td>\n",
              "      <td>baby</td>\n",
              "    </tr>\n",
              "    <tr>\n",
              "      <th>4</th>\n",
              "      <td>do it sheds alot ?</td>\n",
              "      <td>no not at all but you can only wear it syray</td>\n",
              "      <td>beauty</td>\n",
              "    </tr>\n",
              "    <tr>\n",
              "      <th>...</th>\n",
              "      <td>...</td>\n",
              "      <td>...</td>\n",
              "      <td>...</td>\n",
              "    </tr>\n",
              "    <tr>\n",
              "      <th>249995</th>\n",
              "      <td>how do you open the container? just recieved o...</td>\n",
              "      <td>what i got came in a jar as pictured, but with...</td>\n",
              "      <td>pet supplies</td>\n",
              "    </tr>\n",
              "    <tr>\n",
              "      <th>249996</th>\n",
              "      <td>can this be used with cases? looking at otterb...</td>\n",
              "      <td>yes the otter box defender will work with this...</td>\n",
              "      <td>cell phones and accessories</td>\n",
              "    </tr>\n",
              "    <tr>\n",
              "      <th>249997</th>\n",
              "      <td>how many positions does the seat recline  befo...</td>\n",
              "      <td>you pull a lever and place it where you want.</td>\n",
              "      <td>baby</td>\n",
              "    </tr>\n",
              "    <tr>\n",
              "      <th>249998</th>\n",
              "      <td>can i use xl catrige for this printer?</td>\n",
              "      <td>yes you can.</td>\n",
              "      <td>office products</td>\n",
              "    </tr>\n",
              "    <tr>\n",
              "      <th>249999</th>\n",
              "      <td>is this pen good for writing on the backs of p...</td>\n",
              "      <td>i have never tried writing on the back of phot...</td>\n",
              "      <td>office products</td>\n",
              "    </tr>\n",
              "  </tbody>\n",
              "</table>\n",
              "<p>250000 rows × 3 columns</p>\n",
              "</div>"
            ],
            "text/plain": [
              "                                                 question  ...                     category\n",
              "0       do these retro phones come with internal answe...  ...              office products\n",
              "1       i am new to owning a cat and inherited this 8 ...  ...                 pet supplies\n",
              "2                                    is this a smartphone  ...  cell phones and accessories\n",
              "3       does this gate have a manual open and close (o...  ...                         baby\n",
              "4                                      do it sheds alot ?  ...                       beauty\n",
              "...                                                   ...  ...                          ...\n",
              "249995  how do you open the container? just recieved o...  ...                 pet supplies\n",
              "249996  can this be used with cases? looking at otterb...  ...  cell phones and accessories\n",
              "249997  how many positions does the seat recline  befo...  ...                         baby\n",
              "249998             can i use xl catrige for this printer?  ...              office products\n",
              "249999  is this pen good for writing on the backs of p...  ...              office products\n",
              "\n",
              "[250000 rows x 3 columns]"
            ]
          },
          "metadata": {
            "tags": []
          },
          "execution_count": 9
        }
      ]
    },
    {
      "cell_type": "code",
      "metadata": {
        "id": "3BVzMvo9mwHu",
        "colab": {
          "base_uri": "https://localhost:8080/",
          "height": 419
        },
        "outputId": "41f19852-60cb-47d4-932e-3e45bbff55ca"
      },
      "source": [
        "valid"
      ],
      "execution_count": 10,
      "outputs": [
        {
          "output_type": "execute_result",
          "data": {
            "text/html": [
              "<div>\n",
              "<style scoped>\n",
              "    .dataframe tbody tr th:only-of-type {\n",
              "        vertical-align: middle;\n",
              "    }\n",
              "\n",
              "    .dataframe tbody tr th {\n",
              "        vertical-align: top;\n",
              "    }\n",
              "\n",
              "    .dataframe thead th {\n",
              "        text-align: right;\n",
              "    }\n",
              "</style>\n",
              "<table border=\"1\" class=\"dataframe\">\n",
              "  <thead>\n",
              "    <tr style=\"text-align: right;\">\n",
              "      <th></th>\n",
              "      <th>question</th>\n",
              "      <th>response</th>\n",
              "      <th>category</th>\n",
              "    </tr>\n",
              "  </thead>\n",
              "  <tbody>\n",
              "    <tr>\n",
              "      <th>0</th>\n",
              "      <td>can i use this with metro pcs 4g?</td>\n",
              "      <td>i dont recommend this phone. i don't want to t...</td>\n",
              "      <td>cell phones and accessories</td>\n",
              "    </tr>\n",
              "    <tr>\n",
              "      <th>1</th>\n",
              "      <td>they come with 2 trucks or one?</td>\n",
              "      <td>this ad is for 1 set of (2) trucks.</td>\n",
              "      <td>sports and outdoors</td>\n",
              "    </tr>\n",
              "    <tr>\n",
              "      <th>2</th>\n",
              "      <td>is it compatible with ios 7?</td>\n",
              "      <td>yes it is !</td>\n",
              "      <td>cell phones and accessories</td>\n",
              "    </tr>\n",
              "    <tr>\n",
              "      <th>3</th>\n",
              "      <td>are these crossbows 2013 modles? the reason i ...</td>\n",
              "      <td>mine says 385</td>\n",
              "      <td>sports and outdoors</td>\n",
              "    </tr>\n",
              "    <tr>\n",
              "      <th>4</th>\n",
              "      <td>will this fit on an a1286 antiglare display ma...</td>\n",
              "      <td>yes it should. the key point is the model (128...</td>\n",
              "      <td>cell phones and accessories</td>\n",
              "    </tr>\n",
              "    <tr>\n",
              "      <th>...</th>\n",
              "      <td>...</td>\n",
              "      <td>...</td>\n",
              "      <td>...</td>\n",
              "    </tr>\n",
              "    <tr>\n",
              "      <th>49995</th>\n",
              "      <td>how big is the bottle opening? i know it sound...</td>\n",
              "      <td>yup! i have a pump on mine as well, and it's a...</td>\n",
              "      <td>grocery and gourmet food</td>\n",
              "    </tr>\n",
              "    <tr>\n",
              "      <th>49996</th>\n",
              "      <td>why does a search for a cover for a 2008 silve...</td>\n",
              "      <td>i am not sure why the search does not reveal r...</td>\n",
              "      <td>automotive</td>\n",
              "    </tr>\n",
              "    <tr>\n",
              "      <th>49997</th>\n",
              "      <td>what is the difference between this holster an...</td>\n",
              "      <td>don't buy it sucks</td>\n",
              "      <td>sports and outdoors</td>\n",
              "    </tr>\n",
              "    <tr>\n",
              "      <th>49998</th>\n",
              "      <td>will this scope fit my crosman vigilante co2 p...</td>\n",
              "      <td>didn't fit mine, your better off going to walm...</td>\n",
              "      <td>sports and outdoors</td>\n",
              "    </tr>\n",
              "    <tr>\n",
              "      <th>49999</th>\n",
              "      <td>can i use this a few times a week for a month ...</td>\n",
              "      <td>hell no</td>\n",
              "      <td>beauty</td>\n",
              "    </tr>\n",
              "  </tbody>\n",
              "</table>\n",
              "<p>50000 rows × 3 columns</p>\n",
              "</div>"
            ],
            "text/plain": [
              "                                                question  ...                     category\n",
              "0                      can i use this with metro pcs 4g?  ...  cell phones and accessories\n",
              "1                        they come with 2 trucks or one?  ...          sports and outdoors\n",
              "2                           is it compatible with ios 7?  ...  cell phones and accessories\n",
              "3      are these crossbows 2013 modles? the reason i ...  ...          sports and outdoors\n",
              "4      will this fit on an a1286 antiglare display ma...  ...  cell phones and accessories\n",
              "...                                                  ...  ...                          ...\n",
              "49995  how big is the bottle opening? i know it sound...  ...     grocery and gourmet food\n",
              "49996  why does a search for a cover for a 2008 silve...  ...                   automotive\n",
              "49997  what is the difference between this holster an...  ...          sports and outdoors\n",
              "49998  will this scope fit my crosman vigilante co2 p...  ...          sports and outdoors\n",
              "49999  can i use this a few times a week for a month ...  ...                       beauty\n",
              "\n",
              "[50000 rows x 3 columns]"
            ]
          },
          "metadata": {
            "tags": []
          },
          "execution_count": 10
        }
      ]
    },
    {
      "cell_type": "markdown",
      "metadata": {
        "id": "ZIiK5k5ymwH3"
      },
      "source": [
        "## Задача\n",
        "Классифицировать поле question в одну из категорий в поле category.  \n",
        "Это данные с сервиса Amazon QA, то есть такой сервис, на котором можно задать вопрос и получить ответ от других пользователей.\n",
        "\n",
        "Идея задачи такая: давайте поможем клиенту определить в какую категорию выложить его вопрос, чтобы быстрее получить максимально релевантный ответ."
      ]
    },
    {
      "cell_type": "markdown",
      "metadata": {
        "id": "eIAnIDrwmwH4"
      },
      "source": [
        "### Перевод класса в индекс\n",
        "Мы сделаем некоторый маппер, который текст класса переводит в конкретный уникальный индекс. Нам это понадобиться, потому что наша \n",
        "модель работает не напрямую с классом, а с его индексом."
      ]
    },
    {
      "cell_type": "code",
      "metadata": {
        "id": "_MYpScz5mwH6",
        "colab": {
          "base_uri": "https://localhost:8080/"
        },
        "outputId": "6f3c9578-0d32-4255-d543-ac449a2dea5c"
      },
      "source": [
        "# проверим, что в трейне и валидации одинаковые категории\n",
        "set(train.category.unique().tolist()) == set(valid.category.unique().tolist())"
      ],
      "execution_count": 11,
      "outputs": [
        {
          "output_type": "execute_result",
          "data": {
            "text/plain": [
              "True"
            ]
          },
          "metadata": {
            "tags": []
          },
          "execution_count": 11
        }
      ]
    },
    {
      "cell_type": "code",
      "metadata": {
        "id": "DicC4JIhmwIE"
      },
      "source": [
        "unique_categories = set(train.category.unique().tolist() + valid.category.unique().tolist())"
      ],
      "execution_count": 12,
      "outputs": []
    },
    {
      "cell_type": "code",
      "metadata": {
        "id": "DhX3-l1rmwIP"
      },
      "source": [
        "category2index = {category: index for index, category in enumerate(unique_categories)}"
      ],
      "execution_count": 13,
      "outputs": []
    },
    {
      "cell_type": "code",
      "metadata": {
        "id": "8sPH75E9mwIc",
        "colab": {
          "base_uri": "https://localhost:8080/"
        },
        "outputId": "186e7823-2d22-4162-aa8a-ff81e9204d29"
      },
      "source": [
        "category2index"
      ],
      "execution_count": 14,
      "outputs": [
        {
          "output_type": "execute_result",
          "data": {
            "text/plain": [
              "{'automotive': 7,\n",
              " 'baby': 1,\n",
              " 'beauty': 4,\n",
              " 'cell phones and accessories': 5,\n",
              " 'grocery and gourmet food': 0,\n",
              " 'office products': 6,\n",
              " 'pet supplies': 2,\n",
              " 'sports and outdoors': 3}"
            ]
          },
          "metadata": {
            "tags": []
          },
          "execution_count": 14
        }
      ]
    },
    {
      "cell_type": "code",
      "metadata": {
        "id": "1CfVU0CimwIo"
      },
      "source": [
        "train['target'] = train.category.map(category2index)\n",
        "valid['target'] = valid.category.map(category2index)"
      ],
      "execution_count": 15,
      "outputs": []
    },
    {
      "cell_type": "code",
      "metadata": {
        "id": "1xVDWJpjmwIy",
        "colab": {
          "base_uri": "https://localhost:8080/",
          "height": 419
        },
        "outputId": "6253d8ac-963d-4d25-db3e-aadd0065957d"
      },
      "source": [
        "train"
      ],
      "execution_count": 16,
      "outputs": [
        {
          "output_type": "execute_result",
          "data": {
            "text/html": [
              "<div>\n",
              "<style scoped>\n",
              "    .dataframe tbody tr th:only-of-type {\n",
              "        vertical-align: middle;\n",
              "    }\n",
              "\n",
              "    .dataframe tbody tr th {\n",
              "        vertical-align: top;\n",
              "    }\n",
              "\n",
              "    .dataframe thead th {\n",
              "        text-align: right;\n",
              "    }\n",
              "</style>\n",
              "<table border=\"1\" class=\"dataframe\">\n",
              "  <thead>\n",
              "    <tr style=\"text-align: right;\">\n",
              "      <th></th>\n",
              "      <th>question</th>\n",
              "      <th>response</th>\n",
              "      <th>category</th>\n",
              "      <th>target</th>\n",
              "    </tr>\n",
              "  </thead>\n",
              "  <tbody>\n",
              "    <tr>\n",
              "      <th>0</th>\n",
              "      <td>do these retro phones come with internal answe...</td>\n",
              "      <td>this one doesn't..but good quality phone.</td>\n",
              "      <td>office products</td>\n",
              "      <td>6</td>\n",
              "    </tr>\n",
              "    <tr>\n",
              "      <th>1</th>\n",
              "      <td>i am new to owning a cat and inherited this 8 ...</td>\n",
              "      <td>it is your job to clip your cats nails. please...</td>\n",
              "      <td>pet supplies</td>\n",
              "      <td>2</td>\n",
              "    </tr>\n",
              "    <tr>\n",
              "      <th>2</th>\n",
              "      <td>is this a smartphone</td>\n",
              "      <td>yes.thank you</td>\n",
              "      <td>cell phones and accessories</td>\n",
              "      <td>5</td>\n",
              "    </tr>\n",
              "    <tr>\n",
              "      <th>3</th>\n",
              "      <td>does this gate have a manual open and close (o...</td>\n",
              "      <td>yes. you can make it so you don't have to use ...</td>\n",
              "      <td>baby</td>\n",
              "      <td>1</td>\n",
              "    </tr>\n",
              "    <tr>\n",
              "      <th>4</th>\n",
              "      <td>do it sheds alot ?</td>\n",
              "      <td>no not at all but you can only wear it syray</td>\n",
              "      <td>beauty</td>\n",
              "      <td>4</td>\n",
              "    </tr>\n",
              "    <tr>\n",
              "      <th>...</th>\n",
              "      <td>...</td>\n",
              "      <td>...</td>\n",
              "      <td>...</td>\n",
              "      <td>...</td>\n",
              "    </tr>\n",
              "    <tr>\n",
              "      <th>249995</th>\n",
              "      <td>how do you open the container? just recieved o...</td>\n",
              "      <td>what i got came in a jar as pictured, but with...</td>\n",
              "      <td>pet supplies</td>\n",
              "      <td>2</td>\n",
              "    </tr>\n",
              "    <tr>\n",
              "      <th>249996</th>\n",
              "      <td>can this be used with cases? looking at otterb...</td>\n",
              "      <td>yes the otter box defender will work with this...</td>\n",
              "      <td>cell phones and accessories</td>\n",
              "      <td>5</td>\n",
              "    </tr>\n",
              "    <tr>\n",
              "      <th>249997</th>\n",
              "      <td>how many positions does the seat recline  befo...</td>\n",
              "      <td>you pull a lever and place it where you want.</td>\n",
              "      <td>baby</td>\n",
              "      <td>1</td>\n",
              "    </tr>\n",
              "    <tr>\n",
              "      <th>249998</th>\n",
              "      <td>can i use xl catrige for this printer?</td>\n",
              "      <td>yes you can.</td>\n",
              "      <td>office products</td>\n",
              "      <td>6</td>\n",
              "    </tr>\n",
              "    <tr>\n",
              "      <th>249999</th>\n",
              "      <td>is this pen good for writing on the backs of p...</td>\n",
              "      <td>i have never tried writing on the back of phot...</td>\n",
              "      <td>office products</td>\n",
              "      <td>6</td>\n",
              "    </tr>\n",
              "  </tbody>\n",
              "</table>\n",
              "<p>250000 rows × 4 columns</p>\n",
              "</div>"
            ],
            "text/plain": [
              "                                                 question  ... target\n",
              "0       do these retro phones come with internal answe...  ...      6\n",
              "1       i am new to owning a cat and inherited this 8 ...  ...      2\n",
              "2                                    is this a smartphone  ...      5\n",
              "3       does this gate have a manual open and close (o...  ...      1\n",
              "4                                      do it sheds alot ?  ...      4\n",
              "...                                                   ...  ...    ...\n",
              "249995  how do you open the container? just recieved o...  ...      2\n",
              "249996  can this be used with cases? looking at otterb...  ...      5\n",
              "249997  how many positions does the seat recline  befo...  ...      1\n",
              "249998             can i use xl catrige for this printer?  ...      6\n",
              "249999  is this pen good for writing on the backs of p...  ...      6\n",
              "\n",
              "[250000 rows x 4 columns]"
            ]
          },
          "metadata": {
            "tags": []
          },
          "execution_count": 16
        }
      ]
    },
    {
      "cell_type": "markdown",
      "metadata": {
        "id": "uQpyjh3DmwI6"
      },
      "source": [
        "### Torch Dataset, DataLoader\n",
        "\n",
        "Очень важная абстракция для торча.\n",
        "Мы всегда будем ее использовать, чтобы работать с данными.\n",
        "\n",
        "Dataset - класс, от которого нужно наследоваться, чтобы написать свой обработчик данных. Внутри него нужно реализовать два метода, \n",
        "о которых будет чуть ниже. То есть в данном классе вы описывает как нужно преобразовать ваши данные в торчовый формат. Перевести тексты \n",
        "в индексы слов и тд.\n",
        "\n",
        "DataLoader - класс, который будет за вас семплировать данные батчами. Это итератор, поэтому формат работы с ним примерно такой:\n",
        "```python\n",
        "for batch in data_loader:\n",
        "    ...\n",
        "```\n",
        "То есть на каждой итерации отдается по одному батчу данных. Итерирование заканчивается, когда вы пройдете все батчи.\n",
        "\n",
        "Зачем нужны эти абстракции? Чтобы упростить и унифицировать работу с данными.\n",
        "Вообще вы можете реализовать что-то свое, но это упрощение данной задачи."
      ]
    },
    {
      "cell_type": "code",
      "metadata": {
        "id": "wXACcy5OmwI_"
      },
      "source": [
        "from torch.utils.data import Dataset, DataLoader"
      ],
      "execution_count": 17,
      "outputs": []
    },
    {
      "cell_type": "code",
      "metadata": {
        "id": "5H_DSJzvmwJL"
      },
      "source": [
        "# игрушечный датасет\n",
        "# 121535 примера, 4 фичи, 3 класса\n",
        "some_data_x = np.random.rand(121535, 4)\n",
        "some_data_y = np.random.randint(3, size=(121535,))"
      ],
      "execution_count": 18,
      "outputs": []
    },
    {
      "cell_type": "code",
      "metadata": {
        "id": "pPQz5lwAmwJU",
        "colab": {
          "base_uri": "https://localhost:8080/"
        },
        "outputId": "d5e1fd1b-d207-4451-a8d4-585ab6b8f439"
      },
      "source": [
        "# просто рандомные цифры\n",
        "some_data_x[:10]"
      ],
      "execution_count": 19,
      "outputs": [
        {
          "output_type": "execute_result",
          "data": {
            "text/plain": [
              "array([[0.08638647, 0.03800717, 0.46663545, 0.21257999],\n",
              "       [0.39067389, 0.9385148 , 0.60444444, 0.6288957 ],\n",
              "       [0.51720048, 0.61244477, 0.74715835, 0.77869737],\n",
              "       [0.01570653, 0.41460045, 0.70228668, 0.45624623],\n",
              "       [0.3599341 , 0.4332824 , 0.7557122 , 0.46946626],\n",
              "       [0.15759993, 0.08188013, 0.64019966, 0.26926746],\n",
              "       [0.44527888, 0.83584888, 0.64462564, 0.69378026],\n",
              "       [0.50340357, 0.2904353 , 0.56935949, 0.83840229],\n",
              "       [0.60808616, 0.80979437, 0.50969328, 0.51425608],\n",
              "       [0.55638892, 0.55397949, 0.54293486, 0.38598163]])"
            ]
          },
          "metadata": {
            "tags": []
          },
          "execution_count": 19
        }
      ]
    },
    {
      "cell_type": "code",
      "metadata": {
        "id": "cO506pvFmwJd",
        "colab": {
          "base_uri": "https://localhost:8080/"
        },
        "outputId": "122340cf-cec4-44f1-eef9-c0a9b03ff87d"
      },
      "source": [
        "# и классы\n",
        "some_data_y"
      ],
      "execution_count": 20,
      "outputs": [
        {
          "output_type": "execute_result",
          "data": {
            "text/plain": [
              "array([0, 2, 1, ..., 0, 0, 2])"
            ]
          },
          "metadata": {
            "tags": []
          },
          "execution_count": 20
        }
      ]
    },
    {
      "cell_type": "markdown",
      "metadata": {
        "id": "ERMQy7AWmwJn"
      },
      "source": [
        "### Пример надобности\n",
        "Для обучения модели вам нужно подавать в нее батчи данных. Как бы могли это реализовать, если бы у нас не было Dataset и DataLoader"
      ]
    },
    {
      "cell_type": "code",
      "metadata": {
        "id": "Otp2vKj0mwJp"
      },
      "source": [
        "batch_size = 16\n",
        "\n",
        "for i_batch in range(math.ceil(some_data_x.shape[0] / batch_size)):\n",
        "    \n",
        "    x_batch = some_data_x[i_batch * batch_size:(i_batch + 1) * batch_size]\n",
        "    y_batch = some_data_y[i_batch * batch_size:(i_batch + 1) * batch_size]\n",
        "    \n",
        "    x_batch = torch.tensor(x_batch)\n",
        "    y_batch = torch.tensor(y_batch)\n",
        "    \n",
        "    break"
      ],
      "execution_count": 21,
      "outputs": []
    },
    {
      "cell_type": "code",
      "metadata": {
        "id": "BCtwvxBZmwJy",
        "colab": {
          "base_uri": "https://localhost:8080/"
        },
        "outputId": "5926a231-b990-43fd-b607-2bb93f346091"
      },
      "source": [
        "x_batch"
      ],
      "execution_count": 22,
      "outputs": [
        {
          "output_type": "execute_result",
          "data": {
            "text/plain": [
              "tensor([[0.0864, 0.0380, 0.4666, 0.2126],\n",
              "        [0.3907, 0.9385, 0.6044, 0.6289],\n",
              "        [0.5172, 0.6124, 0.7472, 0.7787],\n",
              "        [0.0157, 0.4146, 0.7023, 0.4562],\n",
              "        [0.3599, 0.4333, 0.7557, 0.4695],\n",
              "        [0.1576, 0.0819, 0.6402, 0.2693],\n",
              "        [0.4453, 0.8358, 0.6446, 0.6938],\n",
              "        [0.5034, 0.2904, 0.5694, 0.8384],\n",
              "        [0.6081, 0.8098, 0.5097, 0.5143],\n",
              "        [0.5564, 0.5540, 0.5429, 0.3860],\n",
              "        [0.4610, 0.9529, 0.3618, 0.1034],\n",
              "        [0.2463, 0.3541, 0.1161, 0.1363],\n",
              "        [0.5350, 0.4149, 0.6859, 0.9938],\n",
              "        [0.8152, 0.3636, 0.8799, 0.9992],\n",
              "        [0.3972, 0.1933, 0.9574, 0.5197],\n",
              "        [0.2227, 0.1377, 0.5347, 0.2037]], dtype=torch.float64)"
            ]
          },
          "metadata": {
            "tags": []
          },
          "execution_count": 22
        }
      ]
    },
    {
      "cell_type": "code",
      "metadata": {
        "id": "f2xydSIrmwJ5",
        "colab": {
          "base_uri": "https://localhost:8080/"
        },
        "outputId": "02f4a1fb-d192-483a-b795-29e53021f72b"
      },
      "source": [
        "x_batch.shape, y_batch.shape"
      ],
      "execution_count": 23,
      "outputs": [
        {
          "output_type": "execute_result",
          "data": {
            "text/plain": [
              "(torch.Size([16, 4]), torch.Size([16]))"
            ]
          },
          "metadata": {
            "tags": []
          },
          "execution_count": 23
        }
      ]
    },
    {
      "cell_type": "markdown",
      "metadata": {
        "id": "5VfZ6XRgmwKA"
      },
      "source": [
        "Это достаточно простой пример. Мы смогли справиться сами, но почти всегда обработка данных для подачи ее в модель делается сложнее. \n",
        "И некоторые вещи часто нужны более одного раза, например, если мы хотим каждую эпоху шафлить наши данные, чтобы получать разные батчи.\n",
        "Мы сможем это сделать, но для этого нам придется тащить с собой некоторый код из проекта в проект. К тому же совместная разработка или \n",
        "просто чтение чужого кода сильно упрощается, когда вы используете унифицированные форматы."
      ]
    },
    {
      "cell_type": "markdown",
      "metadata": {
        "id": "qywWBKphmwKC"
      },
      "source": [
        "### Перейдем к Dataset\n",
        "И обернем наши данные в этот обработчик"
      ]
    },
    {
      "cell_type": "code",
      "metadata": {
        "id": "gHdvtHmfmwKF"
      },
      "source": [
        "class ToyDataset(Dataset):\n",
        "    \n",
        "    def __init__(self, data_x, data_y):\n",
        "        \n",
        "        super().__init__()\n",
        "        \n",
        "        self.data_x = data_x\n",
        "        self.data_y = data_y\n",
        "        \n",
        "    def __len__(self):\n",
        "        \n",
        "        # нужно обязательно определить эту функцию\n",
        "        # должна возвращать размер датасета\n",
        "        # нужен для DataLoader, чтобы семплировать батчи\n",
        "        \n",
        "        return len(self.data_x)\n",
        "    \n",
        "    def __getitem__(self, idx):\n",
        "        \n",
        "        # еще нужно определить этот метод\n",
        "        # то есть как мы будем доставать наши данные по индексу\n",
        "        \n",
        "        return self.data_x[idx], self.data_y[idx]"
      ],
      "execution_count": 24,
      "outputs": []
    },
    {
      "cell_type": "code",
      "metadata": {
        "id": "dq-9ETa8mwKS"
      },
      "source": [
        "some_dataset = ToyDataset(some_data_x, some_data_y)"
      ],
      "execution_count": 25,
      "outputs": []
    },
    {
      "cell_type": "code",
      "metadata": {
        "id": "wMgG_0kkmwKb",
        "colab": {
          "base_uri": "https://localhost:8080/"
        },
        "outputId": "1bde1a58-5090-44e9-df85-d487171cafcc"
      },
      "source": [
        "some_dataset[5], some_dataset[467]"
      ],
      "execution_count": 26,
      "outputs": [
        {
          "output_type": "execute_result",
          "data": {
            "text/plain": [
              "((array([0.15759993, 0.08188013, 0.64019966, 0.26926746]), 1),\n",
              " (array([0.7354074 , 0.85413089, 0.5715419 , 0.48697449]), 0))"
            ]
          },
          "metadata": {
            "tags": []
          },
          "execution_count": 26
        }
      ]
    },
    {
      "cell_type": "markdown",
      "metadata": {
        "id": "mBLF-l4omwKm"
      },
      "source": [
        "### Кажется, что смысла в этом нет, но это самый простой пример"
      ]
    },
    {
      "cell_type": "markdown",
      "metadata": {
        "id": "N-xiNy7gmwKn"
      },
      "source": [
        "### DataLoader\n",
        "В него мы можем задать некоторые параметры, например, батч сайз и нужно ли шафлить каждый новый проход по данным эти самые данные, \n",
        "чтобы получать разные батчи, то есть по разному компоновать эти батчи"
      ]
    },
    {
      "cell_type": "code",
      "metadata": {
        "id": "VZvHJwY1mwKo"
      },
      "source": [
        "some_loader = DataLoader(some_dataset, batch_size=16, shuffle=True)"
      ],
      "execution_count": 27,
      "outputs": []
    },
    {
      "cell_type": "code",
      "metadata": {
        "id": "ywM_MeFjmwKv",
        "colab": {
          "base_uri": "https://localhost:8080/"
        },
        "outputId": "c5e874bb-5c87-4813-bb16-2c549cca0e8d"
      },
      "source": [
        "for x, y in some_loader:\n",
        "    break\n",
        "    \n",
        "x"
      ],
      "execution_count": 28,
      "outputs": [
        {
          "output_type": "execute_result",
          "data": {
            "text/plain": [
              "tensor([[0.0097, 0.8532, 0.4664, 0.5398],\n",
              "        [0.4653, 0.1156, 0.4672, 0.8099],\n",
              "        [0.1259, 0.0556, 0.3919, 0.4828],\n",
              "        [0.8191, 0.5687, 0.5632, 0.4424],\n",
              "        [0.4727, 0.4465, 0.5692, 0.3014],\n",
              "        [0.7858, 0.0388, 0.1625, 0.4642],\n",
              "        [0.2544, 0.3052, 0.7089, 0.1462],\n",
              "        [0.9101, 0.7934, 0.5823, 0.1311],\n",
              "        [0.8214, 0.4497, 0.6710, 0.3547],\n",
              "        [0.6884, 0.1024, 0.7512, 0.8907],\n",
              "        [0.6264, 0.3024, 0.1026, 0.2298],\n",
              "        [0.8830, 0.4672, 0.8924, 0.4637],\n",
              "        [0.3349, 0.6619, 0.3936, 0.5651],\n",
              "        [0.7602, 0.0088, 0.1508, 0.3991],\n",
              "        [0.9172, 0.5534, 0.0412, 0.2502],\n",
              "        [0.0849, 0.2727, 0.7924, 0.6793]], dtype=torch.float64)"
            ]
          },
          "metadata": {
            "tags": []
          },
          "execution_count": 28
        }
      ]
    },
    {
      "cell_type": "code",
      "metadata": {
        "id": "u7ugsw7VmwK7",
        "colab": {
          "base_uri": "https://localhost:8080/"
        },
        "outputId": "61596f76-51a8-4a66-8e1b-3badef414497"
      },
      "source": [
        "x.shape"
      ],
      "execution_count": 29,
      "outputs": [
        {
          "output_type": "execute_result",
          "data": {
            "text/plain": [
              "torch.Size([16, 4])"
            ]
          },
          "metadata": {
            "tags": []
          },
          "execution_count": 29
        }
      ]
    },
    {
      "cell_type": "code",
      "metadata": {
        "id": "BwRXGXMImwLE",
        "colab": {
          "base_uri": "https://localhost:8080/"
        },
        "outputId": "19a6bab7-4b29-4ffa-9c3f-921052607a6c"
      },
      "source": [
        "for x, y in some_loader:\n",
        "    pass\n",
        "\n",
        "len(x)"
      ],
      "execution_count": 30,
      "outputs": [
        {
          "output_type": "execute_result",
          "data": {
            "text/plain": [
              "15"
            ]
          },
          "metadata": {
            "tags": []
          },
          "execution_count": 30
        }
      ]
    },
    {
      "cell_type": "code",
      "metadata": {
        "id": "s7Imyx8umwLN",
        "colab": {
          "base_uri": "https://localhost:8080/"
        },
        "outputId": "033df0ee-fd6b-48f7-8e4a-e74195026b40"
      },
      "source": [
        "# почему 15?\n",
        "# потому что количество наших данных нацело не делится на 16\n",
        "# и поэтому последний батч меньше 16-ти\n",
        "len(some_dataset) % 16"
      ],
      "execution_count": 31,
      "outputs": [
        {
          "output_type": "execute_result",
          "data": {
            "text/plain": [
              "15"
            ]
          },
          "metadata": {
            "tags": []
          },
          "execution_count": 31
        }
      ]
    },
    {
      "cell_type": "markdown",
      "metadata": {
        "id": "v9R8ZpRymwLV"
      },
      "source": [
        "### Усложним обработчик"
      ]
    },
    {
      "cell_type": "code",
      "metadata": {
        "id": "ignw8wuXmwLX"
      },
      "source": [
        "class ToyDataset(Dataset):\n",
        "    \n",
        "    def __init__(self, data_x, data_y):\n",
        "        \n",
        "        super().__init__()\n",
        "        \n",
        "        self.data_x = data_x\n",
        "        self.data_y = data_y\n",
        "        \n",
        "    def __len__(self):\n",
        "        \n",
        "        # нужно обязательно определить эту функцию\n",
        "        # должна возвращать размер датасета\n",
        "        # нужен для DataLoader, чтобы семплировать батчи\n",
        "        \n",
        "        return len(self.data_x)\n",
        "    \n",
        "    @staticmethod\n",
        "    def pow_features(x, n=2):\n",
        "        \n",
        "        return x ** n\n",
        "    \n",
        "    @staticmethod\n",
        "    def log_features(x):\n",
        "        \n",
        "        return np.log(x)\n",
        "    \n",
        "    def __getitem__(self, idx):\n",
        "        \n",
        "        # еще нужно определить этот метод\n",
        "        # то есть как мы будем доставать наши данные по индексу\n",
        "        \n",
        "        x = self.data_x[idx]\n",
        "        \n",
        "        # внутри датасета мы можем делать все что угодно с нашими данными\n",
        "        # например выше определим функции, которые добавляют степенные фичи\n",
        "        x_p_2 = self.pow_features(x, n=2)\n",
        "        x_p_3 = self.pow_features(x, n=3)\n",
        "        # и еще возьмем логарифмические фичи\n",
        "        x_log = self.log_features(x)\n",
        "        \n",
        "        # сконкатенируем наши фичи\n",
        "        x = np.concatenate([x, x_p_2, x_p_3, x_log])\n",
        "        \n",
        "        y = self.data_y[idx]\n",
        "        \n",
        "        return x, y"
      ],
      "execution_count": 32,
      "outputs": []
    },
    {
      "cell_type": "code",
      "metadata": {
        "id": "ynRZTBEDmwLg"
      },
      "source": [
        "toy_dataset = ToyDataset(some_data_x, some_data_y)"
      ],
      "execution_count": 33,
      "outputs": []
    },
    {
      "cell_type": "code",
      "metadata": {
        "id": "wdWS1NNfmwLo"
      },
      "source": [
        "toy_loader = DataLoader(dataset=toy_dataset, batch_size=128)"
      ],
      "execution_count": 34,
      "outputs": []
    },
    {
      "cell_type": "code",
      "metadata": {
        "id": "nECo_cnNmwLz"
      },
      "source": [
        "for x, y in toy_loader:\n",
        "    break"
      ],
      "execution_count": 35,
      "outputs": []
    },
    {
      "cell_type": "code",
      "metadata": {
        "id": "ECM6zR-3mwL9",
        "colab": {
          "base_uri": "https://localhost:8080/"
        },
        "outputId": "942ebd84-da86-4b7d-dfa5-6b583acf5335"
      },
      "source": [
        "x.shape"
      ],
      "execution_count": 36,
      "outputs": [
        {
          "output_type": "execute_result",
          "data": {
            "text/plain": [
              "torch.Size([128, 16])"
            ]
          },
          "metadata": {
            "tags": []
          },
          "execution_count": 36
        }
      ]
    },
    {
      "cell_type": "code",
      "metadata": {
        "id": "11cPrRC-mwMF",
        "colab": {
          "base_uri": "https://localhost:8080/"
        },
        "outputId": "40a4cffb-619f-4ae3-8f41-e259d7bd8587"
      },
      "source": [
        "# заметим, что мы сразу получаем торчовый формат данных, который получился из автоматического преобразования из numpy\n",
        "x"
      ],
      "execution_count": 37,
      "outputs": [
        {
          "output_type": "execute_result",
          "data": {
            "text/plain": [
              "tensor([[ 0.0864,  0.0380,  0.4666,  ..., -3.2700, -0.7622, -1.5484],\n",
              "        [ 0.3907,  0.9385,  0.6044,  ..., -0.0635, -0.5034, -0.4638],\n",
              "        [ 0.5172,  0.6124,  0.7472,  ..., -0.4903, -0.2915, -0.2501],\n",
              "        ...,\n",
              "        [ 0.2988,  0.2075,  0.1120,  ..., -1.5724, -2.1894, -1.6828],\n",
              "        [ 0.2784,  0.7709,  0.3820,  ..., -0.2602, -0.9623, -1.8131],\n",
              "        [ 0.4726,  0.5038,  0.7518,  ..., -0.6855, -0.2853, -3.9354]],\n",
              "       dtype=torch.float64)"
            ]
          },
          "metadata": {
            "tags": []
          },
          "execution_count": 37
        }
      ]
    },
    {
      "cell_type": "code",
      "metadata": {
        "id": "7A7RPNtDmwMO",
        "colab": {
          "base_uri": "https://localhost:8080/"
        },
        "outputId": "4a29fa36-7c09-4fcc-8122-a95bd65d33aa"
      },
      "source": [
        "y"
      ],
      "execution_count": 38,
      "outputs": [
        {
          "output_type": "execute_result",
          "data": {
            "text/plain": [
              "tensor([0, 2, 1, 2, 1, 1, 2, 1, 1, 1, 0, 0, 0, 0, 0, 2, 0, 1, 1, 1, 0, 1, 1, 1,\n",
              "        1, 2, 1, 2, 2, 0, 0, 1, 2, 2, 1, 1, 0, 0, 2, 2, 0, 1, 0, 2, 0, 0, 0, 0,\n",
              "        0, 2, 1, 2, 2, 2, 1, 2, 2, 0, 1, 2, 2, 0, 0, 1, 2, 1, 1, 0, 0, 1, 0, 2,\n",
              "        0, 1, 0, 2, 2, 2, 2, 0, 0, 2, 0, 1, 0, 1, 2, 0, 0, 2, 0, 0, 0, 2, 0, 2,\n",
              "        2, 2, 0, 1, 0, 1, 0, 1, 1, 2, 1, 2, 2, 1, 1, 0, 1, 0, 0, 2, 1, 2, 1, 0,\n",
              "        2, 0, 2, 1, 2, 1, 0, 0])"
            ]
          },
          "metadata": {
            "tags": []
          },
          "execution_count": 38
        }
      ]
    },
    {
      "cell_type": "code",
      "metadata": {
        "id": "zQ4OzH3mmwMY",
        "colab": {
          "base_uri": "https://localhost:8080/"
        },
        "outputId": "f1999b90-5ae6-4b44-b34b-3d655ec3acd8"
      },
      "source": [
        "# сделаем небольшую модель и посчитаем лосс\n",
        "\n",
        "model = torch.nn.Sequential(torch.nn.Linear(16, 8),\n",
        "                            torch.nn.ReLU(),\n",
        "                            torch.nn.Linear(8, 4),\n",
        "                            torch.nn.ReLU(),\n",
        "                            torch.nn.Linear(4, 3))\n",
        "\n",
        "criterion = torch.nn.CrossEntropyLoss()\n",
        "\n",
        "with torch.no_grad():\n",
        "\n",
        "    prediction = model(x.float())\n",
        "\n",
        "    loss = criterion(prediction, y)\n",
        "    \n",
        "loss.item()"
      ],
      "execution_count": 39,
      "outputs": [
        {
          "output_type": "execute_result",
          "data": {
            "text/plain": [
              "1.1485671997070312"
            ]
          },
          "metadata": {
            "tags": []
          },
          "execution_count": 39
        }
      ]
    },
    {
      "cell_type": "markdown",
      "metadata": {
        "id": "kkDBO1cfmwMp"
      },
      "source": [
        "### Сделаем датасет для наших текстовых данных\n",
        "Будем отдавать строку и таргет по индексу"
      ]
    },
    {
      "cell_type": "code",
      "metadata": {
        "id": "b4lOJj4FmwMr"
      },
      "source": [
        "class TextClassificationDataset(Dataset):\n",
        "    \n",
        "    def __init__(self, texts, targets):\n",
        "        super().__init__()\n",
        "        \n",
        "        self.texts = texts\n",
        "        self.targets = targets\n",
        "        \n",
        "    def __len__(self):\n",
        "        return len(self.texts)\n",
        "    \n",
        "    def __getitem__(self, index):\n",
        "        \n",
        "        text = self.texts[index]\n",
        "        target = self.targets[index]\n",
        "        \n",
        "        return text, target"
      ],
      "execution_count": 40,
      "outputs": []
    },
    {
      "cell_type": "code",
      "metadata": {
        "id": "yhkuK2x1mwMy"
      },
      "source": [
        "# подготовим данные\n",
        "train_x = list(train.question)\n",
        "train_y = list(train.target)\n",
        "\n",
        "valid_x = list(valid.question)\n",
        "valid_y = list(valid.target)"
      ],
      "execution_count": 41,
      "outputs": []
    },
    {
      "cell_type": "code",
      "metadata": {
        "id": "hE07XIwkmwND"
      },
      "source": [
        "train_dataset = TextClassificationDataset(texts=list(train.question), targets=list(train.target))"
      ],
      "execution_count": 42,
      "outputs": []
    },
    {
      "cell_type": "code",
      "metadata": {
        "id": "Iw4MJ7W8mwNL"
      },
      "source": [
        "# семплируем данные\n",
        "text, target = train_dataset[0]"
      ],
      "execution_count": 43,
      "outputs": []
    },
    {
      "cell_type": "code",
      "metadata": {
        "id": "dsgIoI4NmwNW",
        "colab": {
          "base_uri": "https://localhost:8080/",
          "height": 35
        },
        "outputId": "3d55340f-a851-4f53-de40-43ca90cbaf2f"
      },
      "source": [
        "text"
      ],
      "execution_count": 44,
      "outputs": [
        {
          "output_type": "execute_result",
          "data": {
            "application/vnd.google.colaboratory.intrinsic+json": {
              "type": "string"
            },
            "text/plain": [
              "'do these retro phones come with internal answering service'"
            ]
          },
          "metadata": {
            "tags": []
          },
          "execution_count": 44
        }
      ]
    },
    {
      "cell_type": "code",
      "metadata": {
        "id": "lkSczglhmwNf",
        "colab": {
          "base_uri": "https://localhost:8080/"
        },
        "outputId": "b295da16-0bde-43cb-f775-095fdcd2d6e3"
      },
      "source": [
        "target"
      ],
      "execution_count": 45,
      "outputs": [
        {
          "output_type": "execute_result",
          "data": {
            "text/plain": [
              "6"
            ]
          },
          "metadata": {
            "tags": []
          },
          "execution_count": 45
        }
      ]
    },
    {
      "cell_type": "markdown",
      "metadata": {
        "id": "DusOSVpOmwNn"
      },
      "source": [
        "### Смысл обработчика\n",
        "Состоит в том, что нам нужно преобразовать наши данные в формат, который мы уже сможем передать в модель.\n",
        "Сейчас у нас строки, а торч ничего не знает про строки, ему нужны тензоры."
      ]
    },
    {
      "cell_type": "markdown",
      "metadata": {
        "id": "nBgeGoermwNo"
      },
      "source": [
        "### Загружаем эмбеддинги\n",
        "Чтобы работать с текстовыми данными мы можем разбить наши строки на слова, а слова перевести в вектора. Откуда нам взять эти вектора?\n",
        "Мы говорили про такой метод как word2vec и в начале этой тетрадки загружали файл с этими самыми векторами."
      ]
    },
    {
      "cell_type": "code",
      "metadata": {
        "id": "umc0ZdammwNq"
      },
      "source": [
        "import zipfile\n",
        "import numpy as np\n",
        "\n",
        "from tqdm import tqdm"
      ],
      "execution_count": 46,
      "outputs": []
    },
    {
      "cell_type": "code",
      "metadata": {
        "id": "Qbv94NMzmwNz"
      },
      "source": [
        "def load_embeddings(zip_path, filename, pad_token='PAD', max_words=100_000, verbose=True):\n",
        "    \n",
        "    vocab = dict()\n",
        "    embeddings = list()\n",
        "\n",
        "    with zipfile.ZipFile(zip_path) as zipped_file:\n",
        "        with zipped_file.open(filename) as file_object:\n",
        "\n",
        "            vocab_size, embedding_dim = file_object.readline().decode('utf-8').strip().split()\n",
        "\n",
        "            vocab_size = int(vocab_size)\n",
        "            embedding_dim = int(embedding_dim)\n",
        "            \n",
        "            # в файле 1 000 000 слов с векторами, давайте ограничим для простоты этот словарь\n",
        "            max_words = vocab_size if max_words <= 0 else max_words\n",
        "            \n",
        "            # добавим пад токен и эмбеддинг в нашу матрицу эмбеддингов и словарь\n",
        "            vocab[pad_token] = len(vocab)\n",
        "            embeddings.append(np.zeros(embedding_dim))\n",
        "\n",
        "            progress_bar = tqdm(total=max_words, disable=not verbose)\n",
        "\n",
        "            for line in file_object:\n",
        "                parts = line.decode('utf-8').strip().split()\n",
        "\n",
        "                token = ' '.join(parts[:-embedding_dim]).lower()\n",
        "                \n",
        "                if token in vocab:\n",
        "                    continue\n",
        "                \n",
        "                word_vector = np.array(list(map(float, parts[-embedding_dim:])))\n",
        "\n",
        "                vocab[token] = len(vocab)\n",
        "                embeddings.append(word_vector)\n",
        "\n",
        "                progress_bar.update()\n",
        "                \n",
        "                if len(vocab) == max_words:\n",
        "                    break\n",
        "\n",
        "            progress_bar.close()\n",
        "\n",
        "    embeddings = np.stack(embeddings)\n",
        "    \n",
        "    return vocab, embeddings"
      ],
      "execution_count": 47,
      "outputs": []
    },
    {
      "cell_type": "code",
      "metadata": {
        "scrolled": true,
        "id": "ggeKh1GvmwN9",
        "colab": {
          "base_uri": "https://localhost:8080/"
        },
        "outputId": "e30a2ebe-8bb4-40e3-f72c-c1ddbf0b685e"
      },
      "source": [
        "vocab, embeddings = load_embeddings('./wiki-news-300d-1M.vec.zip', 'wiki-news-300d-1M.vec', max_words=100_000)"
      ],
      "execution_count": 48,
      "outputs": [
        {
          "output_type": "stream",
          "text": [
            "100%|█████████▉| 99999/100000 [00:12<00:00, 7888.61it/s]\n"
          ],
          "name": "stderr"
        }
      ]
    },
    {
      "cell_type": "markdown",
      "metadata": {
        "id": "u2A4szMHmwOG"
      },
      "source": [
        "### Посмотрим на ближайших соседей слова по эмбеддингам"
      ]
    },
    {
      "cell_type": "code",
      "metadata": {
        "id": "i1RKRQyWmwOH"
      },
      "source": [
        "index2token = {index: token for token, index in vocab.items()}"
      ],
      "execution_count": 49,
      "outputs": []
    },
    {
      "cell_type": "code",
      "metadata": {
        "id": "DP7IP1RvmwOY"
      },
      "source": [
        "emb_norms = np.linalg.norm(embeddings, axis=1)"
      ],
      "execution_count": 50,
      "outputs": []
    },
    {
      "cell_type": "code",
      "metadata": {
        "id": "FZ9XwMj_mwOk"
      },
      "source": [
        "def get_k_nearest_neighbors(word, embeddings, emb_norms, vocab, index2token, k=5):\n",
        "    \n",
        "    if word not in vocab:\n",
        "        print('Not in vocab')\n",
        "        return\n",
        "    \n",
        "    word_index = vocab[word]\n",
        "\n",
        "    word_vector = embeddings[word_index]\n",
        "    word_vector = np.expand_dims(word_vector, 0)\n",
        "\n",
        "    scores = (word_vector @ embeddings.T)[0]\n",
        "    \n",
        "    # переводим в косинусы, поделив на нормы векторов\n",
        "    # эпсилон 1e-6 для того, чтобы не делить на 0\n",
        "    scores = scores / (emb_norms + 1e-6) / emb_norms[word_index]\n",
        "    \n",
        "    # 1:k+1 потому что первый вариант это само слово\n",
        "    for idx in scores.argsort()[::-1][1:k+1]:\n",
        "        print(f'Слово {index2token[idx]} близко на {scores[idx]:.2f} к слову {word}')"
      ],
      "execution_count": 51,
      "outputs": []
    },
    {
      "cell_type": "code",
      "metadata": {
        "id": "V1DGLYDgmwOu",
        "colab": {
          "base_uri": "https://localhost:8080/"
        },
        "outputId": "815c8544-64fd-45f6-b59a-bfd1aed8e884"
      },
      "source": [
        "get_k_nearest_neighbors('anna', embeddings, emb_norms, vocab, index2token)"
      ],
      "execution_count": 52,
      "outputs": [
        {
          "output_type": "stream",
          "text": [
            "Слово maria близко на 0.73 к слову anna\n",
            "Слово emma близко на 0.66 к слову anna\n",
            "Слово kristina близко на 0.65 к слову anna\n",
            "Слово laura близко на 0.65 к слову anna\n",
            "Слово emily близко на 0.65 к слову anna\n"
          ],
          "name": "stdout"
        }
      ]
    },
    {
      "cell_type": "code",
      "metadata": {
        "id": "ExhJDpg_mwO3",
        "colab": {
          "base_uri": "https://localhost:8080/"
        },
        "outputId": "d7c37d0f-723d-431f-de12-f56cf752625f"
      },
      "source": [
        "get_k_nearest_neighbors('mom', embeddings, emb_norms, vocab, index2token)"
      ],
      "execution_count": 53,
      "outputs": [
        {
          "output_type": "stream",
          "text": [
            "Слово dad близко на 0.85 к слову mom\n",
            "Слово mum близко на 0.78 к слову mom\n",
            "Слово mother близко на 0.76 к слову mom\n",
            "Слово moms близко на 0.75 к слову mom\n",
            "Слово kid близко на 0.68 к слову mom\n"
          ],
          "name": "stdout"
        }
      ]
    },
    {
      "cell_type": "code",
      "metadata": {
        "id": "wHfEe1-DmwO-",
        "colab": {
          "base_uri": "https://localhost:8080/"
        },
        "outputId": "2fd58718-61e2-4e3e-c29b-d146aaaaba9d"
      },
      "source": [
        "get_k_nearest_neighbors('have', embeddings, emb_norms, vocab, index2token)"
      ],
      "execution_count": 54,
      "outputs": [
        {
          "output_type": "stream",
          "text": [
            "Слово has близко на 0.78 к слову have\n",
            "Слово been близко на 0.75 к слову have\n",
            "Слово 've близко на 0.75 к слову have\n",
            "Слово had близко на 0.74 к слову have\n",
            "Слово ahve близко на 0.74 к слову have\n"
          ],
          "name": "stdout"
        }
      ]
    },
    {
      "cell_type": "code",
      "metadata": {
        "id": "0emkbwsXmwPQ",
        "colab": {
          "base_uri": "https://localhost:8080/"
        },
        "outputId": "97e0b577-d8a3-46bc-de9d-39da92aaeb0b"
      },
      "source": [
        "get_k_nearest_neighbors('money', embeddings, emb_norms, vocab, index2token)"
      ],
      "execution_count": 55,
      "outputs": [
        {
          "output_type": "stream",
          "text": [
            "Слово cash близко на 0.72 к слову money\n",
            "Слово funds близко на 0.72 к слову money\n",
            "Слово monies близко на 0.72 к слову money\n",
            "Слово moneys близко на 0.67 к слову money\n",
            "Слово dosh близко на 0.63 к слову money\n"
          ],
          "name": "stdout"
        }
      ]
    },
    {
      "cell_type": "code",
      "metadata": {
        "id": "Hyx9Gl2RmwPX",
        "colab": {
          "base_uri": "https://localhost:8080/"
        },
        "outputId": "9b6da01f-c1f1-4aae-821c-559a65ba0e4c"
      },
      "source": [
        "get_k_nearest_neighbors('music', embeddings, emb_norms, vocab, index2token)"
      ],
      "execution_count": 56,
      "outputs": [
        {
          "output_type": "stream",
          "text": [
            "Слово musical близко на 0.71 к слову music\n",
            "Слово songs близко на 0.69 к слову music\n",
            "Слово tunes близко на 0.69 к слову music\n",
            "Слово musics близко на 0.68 к слову music\n",
            "Слово composer близко на 0.68 к слову music\n"
          ],
          "name": "stdout"
        }
      ]
    },
    {
      "cell_type": "markdown",
      "metadata": {
        "id": "i1x26_qumwPg"
      },
      "source": [
        "### Выбор метода токенизации\n",
        "У нас сейчас есть маппинг, что некоторому слову соответствует некоторый эмбеддинг этого слова.\n",
        "Токенизация - процесс разбиения текста на токены, то есть части этого текста.   \n",
        "Чем \"слово\" отличается от \"токена\": токен это более обобщенное понятие, то есть, например, цифра это токен"
      ]
    },
    {
      "cell_type": "code",
      "metadata": {
        "id": "68Nk0fCumwPi"
      },
      "source": [
        "# про различия подробнее можно найти, например, здесь\n",
        "# https://stackoverflow.com/questions/50240029/nltk-wordpunct-tokenize-vs-word-tokenize\n",
        "from nltk.tokenize import word_tokenize, wordpunct_tokenize"
      ],
      "execution_count": 57,
      "outputs": []
    },
    {
      "cell_type": "code",
      "metadata": {
        "id": "FDMfHEltmwPq",
        "colab": {
          "base_uri": "https://localhost:8080/"
        },
        "outputId": "dd124738-6a42-4f80-a6b2-f08c1b3275ab"
      },
      "source": [
        "total_n_words = 0\n",
        "unknown_words = list()\n",
        "\n",
        "for sample in tqdm(train_x):\n",
        "    # токенизация по пробелу\n",
        "    tokens = sample.split()\n",
        "    \n",
        "    for tok in tokens:\n",
        "        # проверяем есть ли токен в нашем словаре\n",
        "        if tok not in vocab:\n",
        "            unknown_words.append(tok)\n",
        "            \n",
        "        total_n_words += 1\n",
        "        \n",
        "print(f'Мы не знаем {len(unknown_words)} слов из {total_n_words} слов в датасете')\n",
        "print(f'Что составляет {len(unknown_words) * 100 / total_n_words:.2f}% датасета')\n",
        "print()\n",
        "print(f'Уникальных неизвестных слов: {len(set(unknown_words))}')"
      ],
      "execution_count": 58,
      "outputs": [
        {
          "output_type": "stream",
          "text": [
            "100%|██████████| 250000/250000 [00:01<00:00, 177105.69it/s]"
          ],
          "name": "stderr"
        },
        {
          "output_type": "stream",
          "text": [
            "Мы не знаем 512180 слов из 3606201 слов в датасете\n",
            "Что составляет 14.20% датасета\n",
            "\n",
            "Уникальных неизвестных слов: 119197\n"
          ],
          "name": "stdout"
        },
        {
          "output_type": "stream",
          "text": [
            "\n"
          ],
          "name": "stderr"
        }
      ]
    },
    {
      "cell_type": "code",
      "metadata": {
        "id": "VkEc8tqsmwPw",
        "colab": {
          "base_uri": "https://localhost:8080/"
        },
        "outputId": "533f440b-0615-464d-a0e1-ef6bf1e2eacc"
      },
      "source": [
        "total_n_words = 0\n",
        "unknown_words = list()\n",
        "\n",
        "for sample in tqdm(train_x):\n",
        "    # токенизация\n",
        "    tokens = wordpunct_tokenize(sample)\n",
        "    \n",
        "    for tok in tokens:\n",
        "        # проверяем есть ли токен в нашем словаре\n",
        "        if tok not in vocab:\n",
        "            unknown_words.append(tok)\n",
        "            \n",
        "        total_n_words += 1\n",
        "        \n",
        "print(f'Мы не знаем {len(unknown_words)} слов из {total_n_words} слов в датасете')\n",
        "print(f'Что составляет {len(unknown_words) * 100 / total_n_words:.2f}% датасета')\n",
        "print()\n",
        "print(f'Уникальных неизвестных слов: {len(set(unknown_words))}')"
      ],
      "execution_count": 59,
      "outputs": [
        {
          "output_type": "stream",
          "text": [
            "100%|██████████| 250000/250000 [00:02<00:00, 102724.93it/s]"
          ],
          "name": "stderr"
        },
        {
          "output_type": "stream",
          "text": [
            "Мы не знаем 111115 слов из 4202739 слов в датасете\n",
            "Что составляет 2.64% датасета\n",
            "\n",
            "Уникальных неизвестных слов: 36270\n"
          ],
          "name": "stdout"
        },
        {
          "output_type": "stream",
          "text": [
            "\n"
          ],
          "name": "stderr"
        }
      ]
    },
    {
      "cell_type": "code",
      "metadata": {
        "id": "CRZs41zgmwP4",
        "colab": {
          "base_uri": "https://localhost:8080/"
        },
        "outputId": "02f4d188-c64f-42b2-b23c-e9191abe47ae"
      },
      "source": [
        "import nltk\n",
        "nltk.download('punkt')\n",
        "\n",
        "total_n_words = 0\n",
        "unknown_words = list()\n",
        "\n",
        "for sample in tqdm(train_x):\n",
        "    # токенизация\n",
        "    tokens = word_tokenize(sample)\n",
        "    \n",
        "    for tok in tokens:\n",
        "        # проверяем есть ли токен в нашем словаре\n",
        "        if tok not in vocab:\n",
        "            unknown_words.append(tok)\n",
        "            \n",
        "        total_n_words += 1\n",
        "        \n",
        "print(f'Мы не знаем {len(unknown_words)} слов из {total_n_words} слов в датасете')\n",
        "print(f'Что составляет {len(unknown_words) * 100 / total_n_words:.2f}% датасета')\n",
        "print()\n",
        "print(f'Уникальных неизвестных слов: {len(set(unknown_words))}')"
      ],
      "execution_count": 60,
      "outputs": [
        {
          "output_type": "stream",
          "text": [
            "[nltk_data] Downloading package punkt to /root/nltk_data...\n",
            "[nltk_data]   Unzipping tokenizers/punkt.zip.\n"
          ],
          "name": "stdout"
        },
        {
          "output_type": "stream",
          "text": [
            "100%|██████████| 250000/250000 [00:46<00:00, 5383.83it/s]"
          ],
          "name": "stderr"
        },
        {
          "output_type": "stream",
          "text": [
            "Мы не знаем 151779 слов из 4103252 слов в датасете\n",
            "Что составляет 3.70% датасета\n",
            "\n",
            "Уникальных неизвестных слов: 54139\n"
          ],
          "name": "stdout"
        },
        {
          "output_type": "stream",
          "text": [
            "\n"
          ],
          "name": "stderr"
        }
      ]
    },
    {
      "cell_type": "markdown",
      "metadata": {
        "id": "Z2E1Ct9wmwP-"
      },
      "source": [
        "### Результаты\n",
        "- Скорость у word_tokenize сильно ниже, чем у wordpunct_tokenize\n",
        "- Используя word_tokenize, мы теряем примерно 1% информации из датасета по сравнению с wordpunct_tokenize\n",
        "\n",
        "### Выбор очевиден в сторону wordpunct_tokenize"
      ]
    },
    {
      "cell_type": "code",
      "metadata": {
        "id": "FGDViu55mwQA"
      },
      "source": [
        "class TextClassificationDataset(Dataset):\n",
        "    \n",
        "    def __init__(self, texts, targets, vocab):\n",
        "        super().__init__()\n",
        "        \n",
        "        self.texts = texts\n",
        "        self.targets = targets\n",
        "        self.vocab = vocab\n",
        "        \n",
        "    def __len__(self):\n",
        "        return len(self.texts)\n",
        "    \n",
        "    def tokenization(self, text):\n",
        "        \n",
        "        tokens = wordpunct_tokenize(text)\n",
        "        \n",
        "        token_indices = [self.vocab[tok] for tok in tokens if tok in self.vocab]\n",
        "        \n",
        "        return token_indices\n",
        "    \n",
        "    def __getitem__(self, index):\n",
        "        \n",
        "        text = self.texts[index]        \n",
        "        target = self.targets[index]\n",
        "        \n",
        "        tokenized_text = self.tokenization(text)\n",
        "        \n",
        "        # переведем наши индексы токенов в торчовый тензор\n",
        "        # таргет переведется самостоятельно\n",
        "        tokenized_text = torch.tensor(tokenized_text)\n",
        "        \n",
        "        return tokenized_text, target"
      ],
      "execution_count": 61,
      "outputs": []
    },
    {
      "cell_type": "code",
      "metadata": {
        "id": "HcS-teH4mwQI"
      },
      "source": [
        "train_dataset = TextClassificationDataset(texts=train_x, targets=train_y, vocab=vocab)"
      ],
      "execution_count": 62,
      "outputs": []
    },
    {
      "cell_type": "code",
      "metadata": {
        "id": "s3NxkEocmwQO"
      },
      "source": [
        "x, y = train_dataset[5]"
      ],
      "execution_count": 63,
      "outputs": []
    },
    {
      "cell_type": "code",
      "metadata": {
        "id": "clziyBYImwQW",
        "colab": {
          "base_uri": "https://localhost:8080/"
        },
        "outputId": "b5e79965-4617-4cb1-a54d-01333c0ac6d2"
      },
      "source": [
        "x"
      ],
      "execution_count": 64,
      "outputs": [
        {
          "output_type": "execute_result",
          "data": {
            "text/plain": [
              "tensor([  128,   122, 88992,   471,     7,     2,  2354,    37])"
            ]
          },
          "metadata": {
            "tags": []
          },
          "execution_count": 64
        }
      ]
    },
    {
      "cell_type": "code",
      "metadata": {
        "id": "nfthifOKmwQb",
        "colab": {
          "base_uri": "https://localhost:8080/"
        },
        "outputId": "5186b376-7aeb-4d00-b48c-7f14e43787f5"
      },
      "source": [
        "y"
      ],
      "execution_count": 65,
      "outputs": [
        {
          "output_type": "execute_result",
          "data": {
            "text/plain": [
              "1"
            ]
          },
          "metadata": {
            "tags": []
          },
          "execution_count": 65
        }
      ]
    },
    {
      "cell_type": "code",
      "metadata": {
        "id": "i5UeEkzgmwQg",
        "colab": {
          "base_uri": "https://localhost:8080/"
        },
        "outputId": "75e2f6e7-d0e0-40eb-e6b5-db38a55fe639"
      },
      "source": [
        "# мы можем восстановить текст обратно по индексам слов\n",
        "[index2token[idx.item()] for idx in x]"
      ],
      "execution_count": 66,
      "outputs": [
        {
          "output_type": "execute_result",
          "data": {
            "text/plain": [
              "['how', 'many', 'diaphragms', 'come', 'in', 'the', 'package', '?']"
            ]
          },
          "metadata": {
            "tags": []
          },
          "execution_count": 66
        }
      ]
    },
    {
      "cell_type": "markdown",
      "metadata": {
        "id": "DXOgBrp_mwQn"
      },
      "source": [
        "### У нас остается проблема разных длин текстов\n",
        "Чтобы поместить батч текстов в один тензор нам нужны одинаковые длины"
      ]
    },
    {
      "cell_type": "code",
      "metadata": {
        "id": "tpOqkvW3mwQo"
      },
      "source": [
        "## это не отработает, можете раскомментировать и проверить\n",
        "\n",
        "# x = [\n",
        "#     [1, 2, 3],\n",
        "#     [1, 2, 3, 4, 5],\n",
        "#     [1, 2, 3, 4, 5, 6, 7]\n",
        "# ]\n",
        "\n",
        "# torch.tensor(x), torch.tensor(x).shape"
      ],
      "execution_count": 67,
      "outputs": []
    },
    {
      "cell_type": "code",
      "metadata": {
        "id": "Ov2z96hQmwQ2",
        "colab": {
          "base_uri": "https://localhost:8080/"
        },
        "outputId": "9cc3b39d-932d-48e4-ca00-b8ebb2637d17"
      },
      "source": [
        "# это сработает\n",
        "\n",
        "x = [\n",
        "    [1, 2, 3, 0, 0, 0, 0],\n",
        "    [1, 2, 3, 4, 5, 0, 0],\n",
        "    [1, 2, 3, 4, 5, 6, 7]\n",
        "]\n",
        "\n",
        "torch.tensor(x), torch.tensor(x).shape"
      ],
      "execution_count": 68,
      "outputs": [
        {
          "output_type": "execute_result",
          "data": {
            "text/plain": [
              "(tensor([[1, 2, 3, 0, 0, 0, 0],\n",
              "         [1, 2, 3, 4, 5, 0, 0],\n",
              "         [1, 2, 3, 4, 5, 6, 7]]), torch.Size([3, 7]))"
            ]
          },
          "metadata": {
            "tags": []
          },
          "execution_count": 68
        }
      ]
    },
    {
      "cell_type": "markdown",
      "metadata": {
        "id": "DOWRDQ8tmwQ9"
      },
      "source": [
        "### Длина текста\n",
        "Нам нужно понять до какой длины нам падить каждый наш пример. \n",
        "Мы можем найти в наших данных максимальную длину примера в токенах и падить до этой длины, но у этого подхода есть минус:\n",
        "у нас могут быть несколько текстов с аномально большой длиной, то есть некоторые выбросы.  \n",
        "\n",
        "В таком случае нам легче ограничить длину этих текстов до определенной статистики по нашему датасет, то есть, например, 95% наших текстов\n",
        "длиной в 25 слов и нам этого достаточно. То есть мы ограничимся этой длиной, потому что почти весь датасет влезает в эту длину\n",
        "и нам не нужно будет падить до большой длины.\n",
        "\n",
        "Паддинг нужен нам для того, чтобы мы могли поместить разные примеры в один батч, но мы не хотим учитывать эти токены, то есть \n",
        "по сути это будут холостые прогоны и за счет этого компромисса, что бОльшая часть датасета не больше n слов мы можем оптимизировать \n",
        "наше обучение.\n",
        "\n",
        "<br>\n",
        "\n",
        "\n",
        "> Почему бы нам просто не выкинуть эти длинные тексты?\n",
        "\n",
        "Дело в том, что мы хотим прийти к некоторому компромиссу между максимальной длиной и потерей информации. Если мы возьмем 95-й перцинтиль наших длин (то есть 95% наших текстов не больше n), то, выкинув остальные 5%, мы потеряем существенную часть примеров.\n",
        "С другой стороны может показаться неправильным ограничение длины и это действительно может сломать смысл примеры, но зачастую этим \n",
        "принебрегают."
      ]
    },
    {
      "cell_type": "code",
      "metadata": {
        "id": "WRLb6YzPmwQ-",
        "colab": {
          "base_uri": "https://localhost:8080/"
        },
        "outputId": "d9ade7b1-5e8c-4bc9-f05f-c0582fc77bbd"
      },
      "source": [
        "train_lengths = [len(wordpunct_tokenize(sample)) for sample in tqdm(train_x)]"
      ],
      "execution_count": 69,
      "outputs": [
        {
          "output_type": "stream",
          "text": [
            "100%|██████████| 250000/250000 [00:01<00:00, 192368.10it/s]\n"
          ],
          "name": "stderr"
        }
      ]
    },
    {
      "cell_type": "code",
      "metadata": {
        "id": "xRd_EMC-mwRG",
        "colab": {
          "base_uri": "https://localhost:8080/",
          "height": 0
        },
        "outputId": "0ed78b67-ee8f-47fb-a210-0a0d67adafac"
      },
      "source": [
        "sns.distplot(train_lengths)"
      ],
      "execution_count": 70,
      "outputs": [
        {
          "output_type": "stream",
          "text": [
            "/usr/local/lib/python3.6/dist-packages/seaborn/distributions.py:2551: FutureWarning: `distplot` is a deprecated function and will be removed in a future version. Please adapt your code to use either `displot` (a figure-level function with similar flexibility) or `histplot` (an axes-level function for histograms).\n",
            "  warnings.warn(msg, FutureWarning)\n"
          ],
          "name": "stderr"
        },
        {
          "output_type": "execute_result",
          "data": {
            "text/plain": [
              "<matplotlib.axes._subplots.AxesSubplot at 0x7fa348528be0>"
            ]
          },
          "metadata": {
            "tags": []
          },
          "execution_count": 70
        },
        {
          "output_type": "display_data",
          "data": {
            "image/png": "[encoded data removed]",
            "text/plain": [
              "<Figure size 432x288 with 1 Axes>"
            ]
          },
          "metadata": {
            "tags": [],
            "needs_background": "light"
          }
        }
      ]
    },
    {
      "cell_type": "code",
      "metadata": {
        "id": "tScNTdhkmwRO",
        "colab": {
          "base_uri": "https://localhost:8080/"
        },
        "outputId": "a20b0018-267d-4b2c-a5d3-ce4ac4ccfd8e"
      },
      "source": [
        "# видим большие выбросы в данных\n",
        "# 97% наших текстов не больше вот стольки токенов\n",
        "np.percentile(train_lengths, 95)"
      ],
      "execution_count": 71,
      "outputs": [
        {
          "output_type": "execute_result",
          "data": {
            "text/plain": [
              "34.0"
            ]
          },
          "metadata": {
            "tags": []
          },
          "execution_count": 71
        }
      ]
    },
    {
      "cell_type": "code",
      "metadata": {
        "id": "OzVn2M-umwRY"
      },
      "source": [
        "class TextClassificationDataset(Dataset):\n",
        "    \n",
        "    def __init__(self, texts, targets, vocab, pad_index=0, max_length=32):\n",
        "        super().__init__()\n",
        "        \n",
        "        self.texts = texts\n",
        "        self.targets = targets\n",
        "        self.vocab = vocab\n",
        "        \n",
        "        self.pad_index = pad_index\n",
        "        self.max_length = max_length\n",
        "        \n",
        "    def __len__(self):\n",
        "        return len(self.texts)\n",
        "    \n",
        "    def tokenization(self, text):\n",
        "        \n",
        "        tokens = wordpunct_tokenize(text)\n",
        "        \n",
        "        token_indices = [self.vocab[tok] for tok in tokens if tok in self.vocab]\n",
        "        \n",
        "        return token_indices\n",
        "    \n",
        "    def padding(self, tokenized_text):\n",
        "        \n",
        "        tokenized_text = tokenized_text[:self.max_length]\n",
        "        \n",
        "        tokenized_text += [self.pad_index] * (self.max_length - len(tokenized_text))\n",
        "        \n",
        "        return tokenized_text\n",
        "    \n",
        "    def __getitem__(self, index):\n",
        "        \n",
        "        text = self.texts[index]        \n",
        "        target = self.targets[index]\n",
        "        \n",
        "        tokenized_text = self.tokenization(text)\n",
        "        tokenized_text = self.padding(tokenized_text)\n",
        "        \n",
        "        tokenized_text = torch.tensor(tokenized_text)\n",
        "        \n",
        "        return tokenized_text, target"
      ],
      "execution_count": 72,
      "outputs": []
    },
    {
      "cell_type": "code",
      "metadata": {
        "id": "kq11AJqgmwRg"
      },
      "source": [
        "train_dataset = TextClassificationDataset(texts=train_x, targets=train_y, vocab=vocab)"
      ],
      "execution_count": 73,
      "outputs": []
    },
    {
      "cell_type": "code",
      "metadata": {
        "id": "7Uv6F_F9mwRo",
        "colab": {
          "base_uri": "https://localhost:8080/"
        },
        "outputId": "58c66ce9-3d4c-4be0-b8f0-8355d643bf28"
      },
      "source": [
        "x, y = train_dataset[0]\n",
        "x"
      ],
      "execution_count": 74,
      "outputs": [
        {
          "output_type": "execute_result",
          "data": {
            "text/plain": [
              "tensor([   97,   130, 19818,  4944,   471,    18,  2194,  7198,   303,     0,\n",
              "            0,     0,     0,     0,     0,     0,     0,     0,     0,     0,\n",
              "            0,     0,     0,     0,     0,     0,     0,     0,     0,     0,\n",
              "            0,     0])"
            ]
          },
          "metadata": {
            "tags": []
          },
          "execution_count": 74
        }
      ]
    },
    {
      "cell_type": "code",
      "metadata": {
        "id": "bI4OO3aGmwRu",
        "colab": {
          "base_uri": "https://localhost:8080/"
        },
        "outputId": "7dd9f6aa-779e-409d-9550-e48b3311edce"
      },
      "source": [
        "[index2token[idx.item()] for idx in x]"
      ],
      "execution_count": 75,
      "outputs": [
        {
          "output_type": "execute_result",
          "data": {
            "text/plain": [
              "['do',\n",
              " 'these',\n",
              " 'retro',\n",
              " 'phones',\n",
              " 'come',\n",
              " 'with',\n",
              " 'internal',\n",
              " 'answering',\n",
              " 'service',\n",
              " 'PAD',\n",
              " 'PAD',\n",
              " 'PAD',\n",
              " 'PAD',\n",
              " 'PAD',\n",
              " 'PAD',\n",
              " 'PAD',\n",
              " 'PAD',\n",
              " 'PAD',\n",
              " 'PAD',\n",
              " 'PAD',\n",
              " 'PAD',\n",
              " 'PAD',\n",
              " 'PAD',\n",
              " 'PAD',\n",
              " 'PAD',\n",
              " 'PAD',\n",
              " 'PAD',\n",
              " 'PAD',\n",
              " 'PAD',\n",
              " 'PAD',\n",
              " 'PAD',\n",
              " 'PAD']"
            ]
          },
          "metadata": {
            "tags": []
          },
          "execution_count": 75
        }
      ]
    },
    {
      "cell_type": "code",
      "metadata": {
        "id": "EXXrt51ymwR1"
      },
      "source": [
        "train_dataset = TextClassificationDataset(texts=train_x, targets=train_y, vocab=vocab)\n",
        "valid_dataset = TextClassificationDataset(texts=valid_x, targets=valid_y, vocab=vocab)\n",
        "\n",
        "train_loader = DataLoader(train_dataset, batch_size=128)\n",
        "valid_loader = DataLoader(valid_dataset, batch_size=128)"
      ],
      "execution_count": 76,
      "outputs": []
    },
    {
      "cell_type": "code",
      "metadata": {
        "id": "iU9b64Y2mwR8"
      },
      "source": [
        "for x, y in train_loader:\n",
        "    break"
      ],
      "execution_count": 77,
      "outputs": []
    },
    {
      "cell_type": "code",
      "metadata": {
        "id": "mJsKAFfUmwSC",
        "colab": {
          "base_uri": "https://localhost:8080/"
        },
        "outputId": "0d45c40a-9294-4dae-a4c4-9187e84605b9"
      },
      "source": [
        "x.shape, y.shape"
      ],
      "execution_count": 78,
      "outputs": [
        {
          "output_type": "execute_result",
          "data": {
            "text/plain": [
              "(torch.Size([128, 32]), torch.Size([128]))"
            ]
          },
          "metadata": {
            "tags": []
          },
          "execution_count": 78
        }
      ]
    },
    {
      "cell_type": "markdown",
      "metadata": {
        "id": "FGZS8dhYmwSI"
      },
      "source": [
        "### Как мы можем задавать слои"
      ]
    },
    {
      "cell_type": "code",
      "metadata": {
        "id": "az1oWNcomwSL"
      },
      "source": [
        "from torch import nn"
      ],
      "execution_count": 79,
      "outputs": []
    },
    {
      "cell_type": "code",
      "metadata": {
        "id": "eOIWrRV8mwSX"
      },
      "source": [
        "embedding_layer = nn.Embedding(num_embeddings=len(vocab), \n",
        "                               embedding_dim=embeddings.shape[-1],\n",
        "                               padding_idx=0)"
      ],
      "execution_count": 80,
      "outputs": []
    },
    {
      "cell_type": "code",
      "metadata": {
        "id": "XU6lvUBYmwSc"
      },
      "source": [
        "x_embed = embedding_layer(x)"
      ],
      "execution_count": 81,
      "outputs": []
    },
    {
      "cell_type": "code",
      "metadata": {
        "id": "aFhmcEaTmwSi",
        "colab": {
          "base_uri": "https://localhost:8080/"
        },
        "outputId": "580f3f8f-281b-4e7d-b662-485767e34e4e"
      },
      "source": [
        "x_embed"
      ],
      "execution_count": 82,
      "outputs": [
        {
          "output_type": "execute_result",
          "data": {
            "text/plain": [
              "tensor([[[-1.5032,  0.5244, -0.0188,  ..., -0.0563,  1.3449,  0.2796],\n",
              "         [-0.4550,  0.7821, -2.3234,  ...,  1.2823, -0.8049, -0.3680],\n",
              "         [-0.7654,  1.1716,  0.2131,  ..., -0.4465, -0.4284, -1.2080],\n",
              "         ...,\n",
              "         [ 0.0000,  0.0000,  0.0000,  ...,  0.0000,  0.0000,  0.0000],\n",
              "         [ 0.0000,  0.0000,  0.0000,  ...,  0.0000,  0.0000,  0.0000],\n",
              "         [ 0.0000,  0.0000,  0.0000,  ...,  0.0000,  0.0000,  0.0000]],\n",
              "\n",
              "        [[ 0.1407,  1.6161,  0.1731,  ..., -2.0524, -1.3058, -0.4026],\n",
              "         [-0.3832,  0.0110, -0.5930,  ...,  0.1208,  0.7506, -0.5068],\n",
              "         [ 0.8138,  0.7669,  0.2090,  ...,  1.0196,  0.5303, -0.7073],\n",
              "         ...,\n",
              "         [ 0.0000,  0.0000,  0.0000,  ...,  0.0000,  0.0000,  0.0000],\n",
              "         [ 0.0000,  0.0000,  0.0000,  ...,  0.0000,  0.0000,  0.0000],\n",
              "         [ 0.0000,  0.0000,  0.0000,  ...,  0.0000,  0.0000,  0.0000]],\n",
              "\n",
              "        [[-0.1672, -1.2065,  0.0213,  ..., -0.8832,  0.3029, -0.2014],\n",
              "         [ 0.2399, -0.1744,  0.3792,  ...,  0.1306, -1.4302,  0.7744],\n",
              "         [-1.2383, -0.5101,  0.3284,  ..., -0.9117,  1.4421,  0.0857],\n",
              "         ...,\n",
              "         [ 0.0000,  0.0000,  0.0000,  ...,  0.0000,  0.0000,  0.0000],\n",
              "         [ 0.0000,  0.0000,  0.0000,  ...,  0.0000,  0.0000,  0.0000],\n",
              "         [ 0.0000,  0.0000,  0.0000,  ...,  0.0000,  0.0000,  0.0000]],\n",
              "\n",
              "        ...,\n",
              "\n",
              "        [[-0.1672, -1.2065,  0.0213,  ..., -0.8832,  0.3029, -0.2014],\n",
              "         [ 0.2399, -0.1744,  0.3792,  ...,  0.1306, -1.4302,  0.7744],\n",
              "         [-1.2383, -0.5101,  0.3284,  ..., -0.9117,  1.4421,  0.0857],\n",
              "         ...,\n",
              "         [ 0.0000,  0.0000,  0.0000,  ...,  0.0000,  0.0000,  0.0000],\n",
              "         [ 0.0000,  0.0000,  0.0000,  ...,  0.0000,  0.0000,  0.0000],\n",
              "         [ 0.0000,  0.0000,  0.0000,  ...,  0.0000,  0.0000,  0.0000]],\n",
              "\n",
              "        [[ 2.0656,  1.0720, -0.6253,  ...,  1.3135,  0.0112,  1.3140],\n",
              "         [-0.3010,  0.3854,  0.9205,  ...,  1.4038, -1.7070,  2.8267],\n",
              "         [ 1.0420, -0.6750,  0.1578,  ..., -0.3014,  0.1989,  1.1347],\n",
              "         ...,\n",
              "         [ 0.0000,  0.0000,  0.0000,  ...,  0.0000,  0.0000,  0.0000],\n",
              "         [ 0.0000,  0.0000,  0.0000,  ...,  0.0000,  0.0000,  0.0000],\n",
              "         [ 0.0000,  0.0000,  0.0000,  ...,  0.0000,  0.0000,  0.0000]],\n",
              "\n",
              "        [[ 0.1407,  1.6161,  0.1731,  ..., -2.0524, -1.3058, -0.4026],\n",
              "         [ 0.5402, -0.0732,  2.8063,  ...,  0.6953,  1.1679, -1.8387],\n",
              "         [ 1.2199, -0.2566, -0.4096,  ..., -2.6054,  0.4902, -1.4586],\n",
              "         ...,\n",
              "         [-0.8145, -2.0432, -0.7354,  ..., -0.8575, -1.0338, -1.0227],\n",
              "         [ 1.5152,  0.5460, -0.8226,  ...,  0.4582,  0.5435, -0.3316],\n",
              "         [-0.3925,  1.7140, -1.1289,  ..., -0.7613, -0.4031, -1.1957]]],\n",
              "       grad_fn=<EmbeddingBackward>)"
            ]
          },
          "metadata": {
            "tags": []
          },
          "execution_count": 82
        }
      ]
    },
    {
      "cell_type": "code",
      "metadata": {
        "id": "SsiFyyNnmwSo",
        "colab": {
          "base_uri": "https://localhost:8080/"
        },
        "outputId": "83b86fa8-aaf3-4a5f-82b9-d3d9940be92d"
      },
      "source": [
        "x_embed.shape"
      ],
      "execution_count": 83,
      "outputs": [
        {
          "output_type": "execute_result",
          "data": {
            "text/plain": [
              "torch.Size([128, 32, 300])"
            ]
          },
          "metadata": {
            "tags": []
          },
          "execution_count": 83
        }
      ]
    },
    {
      "cell_type": "markdown",
      "metadata": {
        "id": "dRcyJ9hEmwSw"
      },
      "source": [
        "### Но мы ведь прочитали нашу матрицу эмбеддингов\n",
        "Таким образом она инициализируется предобученными весами.  \n",
        "При такой инициализации по умолчанию она замораживается, внутри ```.from_pretrained(embeddings, padding_idx=0)``` есть флаг ```freeze```, который отвечает за необходимость заморозки весов. То есть эти веса в процессе обучения не будут обновляться."
      ]
    },
    {
      "cell_type": "code",
      "metadata": {
        "id": "-sZguS0amwSy"
      },
      "source": [
        "embeddings = torch.tensor(embeddings).float()"
      ],
      "execution_count": 84,
      "outputs": []
    },
    {
      "cell_type": "code",
      "metadata": {
        "id": "W9wxstMqmwS3"
      },
      "source": [
        "embedding_layer = nn.Embedding.from_pretrained(embeddings, padding_idx=0)"
      ],
      "execution_count": 85,
      "outputs": []
    },
    {
      "cell_type": "code",
      "metadata": {
        "id": "UhBjsss2mwS_"
      },
      "source": [
        "x_embed = embedding_layer(x)"
      ],
      "execution_count": 86,
      "outputs": []
    },
    {
      "cell_type": "markdown",
      "metadata": {
        "id": "zWtZEG4RmwTF"
      },
      "source": [
        "### Немного LSTM\n",
        "Ниже будет про ```batch_first=True```"
      ]
    },
    {
      "cell_type": "code",
      "metadata": {
        "id": "WFAor2_NmwTG"
      },
      "source": [
        "lstm = nn.LSTM(input_size=300, hidden_size=128, num_layers=2, batch_first=True, dropout=0.3, bidirectional=True)"
      ],
      "execution_count": 87,
      "outputs": []
    },
    {
      "cell_type": "code",
      "metadata": {
        "id": "WMMNlB1DmwTM"
      },
      "source": [
        "x_lstm, _ = lstm(x_embed)"
      ],
      "execution_count": 88,
      "outputs": []
    },
    {
      "cell_type": "code",
      "metadata": {
        "id": "Q7XGmnUxmwTU",
        "colab": {
          "base_uri": "https://localhost:8080/"
        },
        "outputId": "668e2717-19d1-4fd5-9c1e-4a32c53b775f"
      },
      "source": [
        "# 256 потому что это конкатенация лстмки, которая прочитала текст слева направо\n",
        "# и лстмки, которая прочитала текст справа налево\n",
        "x_lstm.shape"
      ],
      "execution_count": 89,
      "outputs": [
        {
          "output_type": "execute_result",
          "data": {
            "text/plain": [
              "torch.Size([128, 32, 256])"
            ]
          },
          "metadata": {
            "tags": []
          },
          "execution_count": 89
        }
      ]
    },
    {
      "cell_type": "code",
      "metadata": {
        "id": "ou7cPfgemwTb",
        "colab": {
          "base_uri": "https://localhost:8080/"
        },
        "outputId": "ef1c390a-a625-4fff-8ecd-1241ed3b64e3"
      },
      "source": [
        "# избавились от временной размерности\n",
        "x_lstm.mean(dim=1).shape"
      ],
      "execution_count": 90,
      "outputs": [
        {
          "output_type": "execute_result",
          "data": {
            "text/plain": [
              "torch.Size([128, 256])"
            ]
          },
          "metadata": {
            "tags": []
          },
          "execution_count": 90
        }
      ]
    },
    {
      "cell_type": "markdown",
      "metadata": {
        "id": "_W753-EMmwTg"
      },
      "source": [
        "### Сделаем свою сеть\n",
        "В первой домашке в конце есть более подробная информация почему мы используем классы."
      ]
    },
    {
      "cell_type": "code",
      "metadata": {
        "id": "fFl-JIVfmwTh"
      },
      "source": [
        "class DeepAverageNetwork(nn.Module):\n",
        "    \n",
        "    def __init__(self, embeddings, linear_1_size, linear_2_size, n_classes):\n",
        "        super().__init__()\n",
        "        \n",
        "        self.embedding_layer = nn.Embedding.from_pretrained(embeddings, padding_idx=0)\n",
        "        \n",
        "        self.batch_norm = nn.BatchNorm1d(num_features=embeddings.shape[-1])\n",
        "        \n",
        "        self.linear_1 = nn.Linear(in_features=embeddings.shape[-1], out_features=linear_1_size)\n",
        "        self.linear_2 = nn.Linear(in_features=linear_1_size, out_features=linear_2_size)\n",
        "        self.linear_3 = nn.Linear(in_features=linear_2_size, out_features=n_classes)\n",
        "        \n",
        "    def forward(self, x):\n",
        "        \n",
        "        # переводим индексы слов в эмбеддинги этих слов\n",
        "        # (batch_size, sequence_length) -> (batch_size, sequence_length, embedding_dim)\n",
        "        x = self.embedding_layer(x)\n",
        "        \n",
        "        # агрегируем наши эмбеддинги по размерности время\n",
        "        # (batch_size, sequence_length, embedding_dim) -> (batch_size, embedding_dim)\n",
        "        x = x.sum(dim=1)\n",
        "        \n",
        "        # делаем нормирование\n",
        "        # (batch_size, embedding_dim) -> (batch_size, embedding_dim)\n",
        "        x = self.batch_norm(x)\n",
        "        \n",
        "        # прогоняем через первый линейный слой\n",
        "        # (batch_size, embedding_dim) -> (batch_size, linear_1_size)\n",
        "        x = self.linear_1(x)\n",
        "        \n",
        "        # применяем нелинейность\n",
        "        # (batch_size, linear_1_size) -> (batch_size, linear_1_size)\n",
        "        x = torch.relu(x)\n",
        "        \n",
        "        # прогоняем через второй линейный слой\n",
        "        # (batch_size, linear_1_size) -> (batch_size, linear_2_size)\n",
        "        x = self.linear_2(x)\n",
        "        \n",
        "        # применяем нелинейность\n",
        "        # (batch_size, linear_2_size) -> (batch_size, linear_2_size)\n",
        "        x = torch.relu(x)\n",
        "        \n",
        "        # переводим с помощью линейного преобразования в количество классов\n",
        "        # (batch_size, linear_2_size) -> (batch_size, n_classes)\n",
        "        x = self.linear_3(x)\n",
        "        \n",
        "        ## по идеи здесь должен был быть софтмакс\n",
        "        ## но мы будем использовать лосс nn.CrossEntropyLoss()\n",
        "        ## в его документации написано\n",
        "        ## This criterion combines :func:`nn.LogSoftmax` and :func:`nn.NLLLoss` in one single class.\n",
        "        ## это некоторая оптимизация, которая включает в себя сразу и софтмакс и сам negative log likelihood лосс\n",
        "        ## так как у нас в лоссе есть софтмакс, то мы не будем применять его в сетке\n",
        "        ## на этапе предсказания (а не обучения) мы будем отдельно делать софтмакс для получения распределения классов\n",
        "        ## \n",
        "        ## (batch_size, n_classes) -> (batch_size, n_classes)\n",
        "        # x = torch.softmax(x, dim=-1)\n",
        "        \n",
        "        return x"
      ],
      "execution_count": 91,
      "outputs": []
    },
    {
      "cell_type": "code",
      "metadata": {
        "id": "Xuo1BYevmwTl"
      },
      "source": [
        "model = DeepAverageNetwork(embeddings=embeddings,\n",
        "                           linear_1_size=256, \n",
        "                           linear_2_size=128, \n",
        "                           n_classes=len(category2index))"
      ],
      "execution_count": 92,
      "outputs": []
    },
    {
      "cell_type": "code",
      "metadata": {
        "id": "vTH8HEiLmwTq"
      },
      "source": [
        "criterion = nn.CrossEntropyLoss()\n",
        "\n",
        "# задайте оптимизатор\n",
        "optimizer = torch.optim.Adam(params=model.parameters())"
      ],
      "execution_count": 93,
      "outputs": []
    },
    {
      "cell_type": "markdown",
      "metadata": {
        "id": "T44SyjAMmwT2"
      },
      "source": [
        "### Напишите цикл обучения\n",
        "Что он должен в себя включать:\n",
        "1. Получение предсказаний модели\n",
        "1. Расчет функции потерь\n",
        "1. Расчет градиентов\n",
        "1. Шаг градиентного спуска\n",
        "1. Обнуление градиентов\n",
        "1. Записывание значения лосса"
      ]
    },
    {
      "cell_type": "code",
      "metadata": {
        "id": "0VYqV_5GmwT3",
        "colab": {
          "base_uri": "https://localhost:8080/"
        },
        "outputId": "5824f3d1-e8f2-49b9-e276-76f552dff1ce"
      },
      "source": [
        "losses = list()\n",
        "\n",
        "# в обучении моделей у нас есть такая ситуация, что некоторые слои ведут себя по разному на этапе тренировки и предсказания\n",
        "# например, батч норм (а так же все остальные нормировки) и дропаут\n",
        "# это переводит модель в режим тренировки\n",
        "model.train()\n",
        "for x, y in train_loader:\n",
        "  prediction = model.forward(x)\n",
        "  loss = criterion(prediction, y)\n",
        "  loss.backward()\n",
        "  optimizer.step()\n",
        "  optimizer.zero_grad()\n",
        "  losses.append(loss)\n",
        "print(f\"Train loss: {loss}\")"
      ],
      "execution_count": 94,
      "outputs": [
        {
          "output_type": "stream",
          "text": [
            "Train loss: 1.647088646888733\n"
          ],
          "name": "stdout"
        }
      ]
    },
    {
      "cell_type": "markdown",
      "metadata": {
        "id": "i1U_bchkmwUB"
      },
      "source": [
        "### Напишите цикл валидации\n",
        "Что он должен в себя включать:\n",
        "1. Получение предсказаний модели\n",
        "1. Расчет функции потерь\n",
        "1. Записывание значения лосса\n",
        "\n",
        "Также с помощью контекста ```with torch.no_grad():``` можно явно указать торчу не сохранять необходимые параметры для расчета градиентов. Обязательно для режима предсказания."
      ]
    },
    {
      "cell_type": "code",
      "metadata": {
        "id": "4wgva1lKmwUC",
        "colab": {
          "base_uri": "https://localhost:8080/"
        },
        "outputId": "e58082d0-7cac-4c13-a8aa-a0a18da4dba1"
      },
      "source": [
        "losses = list()\n",
        "\n",
        "# это переводит модель в режим предсказания\n",
        "# то есть фиксируются статистики батч норма, дропаут не выкидывает фичи\n",
        "model.eval()\n",
        "\n",
        "# заметьте, что мы поменяли наш лоадер на валидационный\n",
        "for x, y in valid_loader:\n",
        "    \n",
        "    with torch.no_grad():\n",
        "        # получение предсказаний модели\n",
        "        # расчет лосса\n",
        "        prediction = model.forward(x)\n",
        "        loss = criterion(prediction, y)\n",
        "        losses.append(loss)\n",
        "print(f\"Validation loss: {loss}\")"
      ],
      "execution_count": 96,
      "outputs": [
        {
          "output_type": "stream",
          "text": [
            "Validation loss: 0.9907236099243164\n"
          ],
          "name": "stdout"
        }
      ]
    },
    {
      "cell_type": "code",
      "metadata": {
        "id": "0ZJ7BOS8tPfw",
        "colab": {
          "base_uri": "https://localhost:8080/"
        },
        "outputId": "bc0449e7-a7b9-4b01-fca2-feeeba5d47c4"
      },
      "source": [
        "print(losses)"
      ],
      "execution_count": 97,
      "outputs": [
        {
          "output_type": "stream",
          "text": [
            "[tensor(1.0799), tensor(1.0703), tensor(0.9349), tensor(1.0394), tensor(1.0949), tensor(0.9599), tensor(0.9383), tensor(1.0513), tensor(0.9506), tensor(0.9359), tensor(0.9180), tensor(0.9161), tensor(0.8734), tensor(0.8830), tensor(0.8905), tensor(0.9049), tensor(1.0106), tensor(1.0366), tensor(0.9936), tensor(1.0242), tensor(1.0650), tensor(1.1092), tensor(0.8566), tensor(0.8838), tensor(0.9048), tensor(0.9269), tensor(1.1119), tensor(1.0157), tensor(1.0317), tensor(0.8431), tensor(0.8540), tensor(1.0820), tensor(0.8866), tensor(0.8910), tensor(0.9537), tensor(0.9437), tensor(0.9196), tensor(0.9435), tensor(1.0024), tensor(0.9045), tensor(1.0789), tensor(1.0695), tensor(0.8790), tensor(1.0785), tensor(0.9241), tensor(0.8743), tensor(0.8208), tensor(1.1565), tensor(0.8539), tensor(1.1250), tensor(1.0391), tensor(0.8069), tensor(0.9178), tensor(0.7759), tensor(0.8628), tensor(1.0841), tensor(0.8747), tensor(1.2374), tensor(0.8999), tensor(0.8385), tensor(0.8091), tensor(0.8818), tensor(1.1910), tensor(1.0533), tensor(1.0120), tensor(0.9713), tensor(0.9268), tensor(0.8955), tensor(1.0363), tensor(0.9256), tensor(0.9317), tensor(0.9945), tensor(0.9219), tensor(1.0634), tensor(0.9324), tensor(0.8686), tensor(1.2095), tensor(1.0350), tensor(1.0439), tensor(0.9733), tensor(0.9117), tensor(0.8420), tensor(0.8906), tensor(0.8879), tensor(0.8660), tensor(0.8398), tensor(0.9359), tensor(0.8746), tensor(0.9015), tensor(0.8790), tensor(0.8421), tensor(1.0618), tensor(0.9287), tensor(0.8378), tensor(0.8776), tensor(0.9295), tensor(0.7951), tensor(1.0005), tensor(0.8418), tensor(0.9490), tensor(1.0550), tensor(0.9316), tensor(0.9869), tensor(0.9440), tensor(1.0409), tensor(0.8586), tensor(1.0053), tensor(1.0556), tensor(0.9651), tensor(0.8782), tensor(0.7327), tensor(0.8312), tensor(1.0470), tensor(0.9664), tensor(1.0601), tensor(1.0653), tensor(0.9296), tensor(1.0059), tensor(0.7968), tensor(1.0598), tensor(1.1089), tensor(0.8550), tensor(1.0852), tensor(0.8118), tensor(0.9011), tensor(0.9464), tensor(0.9212), tensor(0.8953), tensor(0.9065), tensor(0.9825), tensor(0.8842), tensor(0.9265), tensor(1.0304), tensor(0.8186), tensor(0.8354), tensor(0.8075), tensor(0.9287), tensor(0.8881), tensor(0.8489), tensor(0.9149), tensor(0.9672), tensor(0.9986), tensor(0.7676), tensor(1.0169), tensor(0.8938), tensor(0.9618), tensor(0.9533), tensor(0.9460), tensor(1.0191), tensor(0.9620), tensor(0.9989), tensor(0.9621), tensor(0.9429), tensor(0.8929), tensor(0.8272), tensor(0.8905), tensor(0.8092), tensor(0.8445), tensor(1.0094), tensor(1.0265), tensor(0.9270), tensor(1.0129), tensor(0.9405), tensor(0.8360), tensor(0.9085), tensor(0.8125), tensor(0.9010), tensor(0.9506), tensor(0.9850), tensor(0.8765), tensor(0.8839), tensor(0.9819), tensor(0.9833), tensor(0.9848), tensor(0.9631), tensor(0.8709), tensor(0.8019), tensor(1.0260), tensor(1.1873), tensor(0.9944), tensor(0.8055), tensor(0.9642), tensor(0.8627), tensor(1.0060), tensor(0.7547), tensor(0.9247), tensor(0.9160), tensor(1.0072), tensor(0.7179), tensor(0.8824), tensor(1.0330), tensor(0.9572), tensor(0.8885), tensor(1.1886), tensor(0.9541), tensor(0.9124), tensor(0.9486), tensor(0.8645), tensor(0.9954), tensor(0.8824), tensor(0.8382), tensor(0.9362), tensor(0.9309), tensor(0.9696), tensor(0.9359), tensor(0.9668), tensor(0.9154), tensor(0.9521), tensor(1.0759), tensor(1.0822), tensor(1.0985), tensor(0.9494), tensor(0.8365), tensor(1.0110), tensor(0.8021), tensor(0.9695), tensor(0.8849), tensor(0.8174), tensor(0.9906), tensor(0.9881), tensor(0.9157), tensor(0.9321), tensor(0.9751), tensor(0.9340), tensor(0.7648), tensor(1.0580), tensor(1.2289), tensor(1.0997), tensor(0.9080), tensor(1.0708), tensor(1.1829), tensor(0.9070), tensor(0.9987), tensor(1.0791), tensor(0.8555), tensor(0.9472), tensor(1.1092), tensor(0.8538), tensor(0.9160), tensor(0.8419), tensor(0.9194), tensor(0.9623), tensor(0.7185), tensor(1.1620), tensor(0.8639), tensor(0.9914), tensor(0.9853), tensor(1.0042), tensor(1.1700), tensor(1.1055), tensor(0.9903), tensor(0.8827), tensor(1.0037), tensor(0.8563), tensor(0.8448), tensor(1.0098), tensor(1.2163), tensor(1.0765), tensor(0.9350), tensor(0.9309), tensor(1.0402), tensor(0.9335), tensor(1.0322), tensor(1.1064), tensor(1.0351), tensor(1.0914), tensor(1.0808), tensor(1.0419), tensor(1.0195), tensor(0.9050), tensor(1.0770), tensor(0.9153), tensor(0.8841), tensor(0.9759), tensor(0.9283), tensor(1.0247), tensor(1.0299), tensor(0.8303), tensor(0.9847), tensor(0.9704), tensor(0.9571), tensor(0.9168), tensor(1.0079), tensor(1.0508), tensor(0.8995), tensor(1.1629), tensor(1.0501), tensor(0.8550), tensor(0.8703), tensor(0.8264), tensor(0.8048), tensor(0.8321), tensor(0.8900), tensor(0.9197), tensor(0.9602), tensor(0.8537), tensor(0.9138), tensor(0.8820), tensor(1.0219), tensor(0.8301), tensor(1.0392), tensor(0.9376), tensor(0.9490), tensor(0.9902), tensor(0.9159), tensor(0.9880), tensor(0.8678), tensor(0.9439), tensor(1.2167), tensor(0.9787), tensor(0.8495), tensor(0.7353), tensor(0.8766), tensor(0.9719), tensor(0.9269), tensor(0.8320), tensor(0.9745), tensor(0.8234), tensor(1.0425), tensor(0.9354), tensor(0.9984), tensor(0.9330), tensor(0.9671), tensor(0.8860), tensor(0.9967), tensor(0.7692), tensor(0.7164), tensor(0.9449), tensor(0.7561), tensor(0.9858), tensor(0.8617), tensor(0.9934), tensor(0.9225), tensor(0.9437), tensor(0.8554), tensor(0.9161), tensor(0.9219), tensor(1.0043), tensor(1.0059), tensor(0.9363), tensor(0.8905), tensor(0.9338), tensor(0.9409), tensor(1.0189), tensor(1.0425), tensor(1.0618), tensor(0.9064), tensor(0.9218), tensor(0.8253), tensor(1.1126), tensor(0.9626), tensor(0.7803), tensor(0.7706), tensor(0.7322), tensor(1.0520), tensor(1.1021), tensor(0.9483), tensor(1.0437), tensor(1.0205), tensor(0.9868), tensor(0.9950), tensor(0.9078), tensor(1.0061), tensor(0.9182), tensor(1.0460), tensor(0.9138), tensor(0.9585), tensor(0.9601), tensor(0.9004), tensor(0.9118), tensor(1.0022), tensor(1.1064), tensor(0.9068), tensor(0.9041), tensor(0.8993), tensor(0.8781), tensor(1.0375), tensor(0.8892), tensor(0.8671), tensor(0.9170), tensor(1.0026), tensor(1.0908), tensor(0.9130), tensor(1.0039), tensor(0.9414), tensor(0.8325), tensor(0.9570), tensor(0.7708), tensor(0.7664), tensor(0.9534), tensor(0.9907)]\n"
          ],
          "name": "stdout"
        }
      ]
    },
    {
      "cell_type": "markdown",
      "metadata": {
        "id": "Ol_kM9k1mwUM"
      },
      "source": [
        "### Проведите обучение несколько эпох\n",
        "Одна эпоха - это один проход по датасету.  \n",
        "Шаги:\n",
        "- Поменяйте что-нибудь в модели, добавить дропаут и тд\n",
        "- Остановите обучение с помощью early stopping\n",
        "- Добавьте расчет метрик во время обучения и предсказания (например, micro F1). Чтобы это сделать вы можете, например, сохранять предсказания модели\n",
        "- После обучения нарисуйте как по мере обучения меняется функция потерь на тренировочном и валидационном датасете, как меняется метрики\n",
        "- Опционально: постройте confusion matrix\n",
        "\n",
        "Подсказки:\n",
        "- Чтобы корректно сохранять предсказания нужно переменную отсоединить от графа, то есть сделать ```x.detach()```"
      ]
    },
    {
      "cell_type": "code",
      "metadata": {
        "id": "8BbyH5Ag1Oda"
      },
      "source": [
        "class DeepAverageNetwork(nn.Module):\n",
        "    \n",
        "    def __init__(self, embeddings, linear_1_size, linear_2_size, n_classes, loss):\n",
        "        super().__init__()\n",
        "        self.embedding_layer = nn.Embedding.from_pretrained(embeddings, padding_idx=0)\n",
        "        self.dropout = nn.Dropout(p=0.1)\n",
        "        self.batch_norm = nn.BatchNorm1d(num_features=embeddings.shape[-1])\n",
        "        self.linear_1 = nn.Linear(in_features=embeddings.shape[-1], out_features=linear_1_size)\n",
        "        self.linear_2 = nn.Linear(in_features=linear_1_size, out_features=linear_2_size)\n",
        "        self.linear_3 = nn.Linear(in_features=linear_2_size, out_features=n_classes)\n",
        "        \n",
        "    def forward(self, x):\n",
        "        x = self.embedding_layer(x)\n",
        "        x = x.sum(dim=1)\n",
        "        x = self.batch_norm(x)\n",
        "        x = self.linear_1(x)\n",
        "        x = torch.relu(x)\n",
        "        x = self.linear_2(x)\n",
        "        x = torch.relu(x)\n",
        "        x = self.linear_3(x)\n",
        "        return x"
      ],
      "execution_count": 98,
      "outputs": []
    },
    {
      "cell_type": "code",
      "metadata": {
        "id": "yB_6hGEhmwUO",
        "colab": {
          "base_uri": "https://localhost:8080/"
        },
        "outputId": "394c9211-f035-45ac-e425-5d8c06048b9c"
      },
      "source": [
        "from sklearn.metrics import f1_score\n",
        "for instance in list(tqdm._instances):\n",
        "  tqdm._decr_instances(instance)\n",
        "best_val_loss = 10\n",
        "criterion = nn.CrossEntropyLoss()\n",
        "optimizer = torch.optim.Adam(params=model.parameters(), lr=0.0001)\n",
        "scheduler = torch.optim.lr_scheduler.StepLR(optimizer, 1, gamma=0.9)\n",
        "losses = list()\n",
        "epochs = 6\n",
        "for epoch in range(epochs):\n",
        "  train_losses = []\n",
        "  valid_losses = []\n",
        "  valid_targets = list()\n",
        "  valid_predictions = list()\n",
        "  model.train()\n",
        "  for x, y in train_loader:\n",
        "    prediction = model.forward(x)\n",
        "    loss = criterion(prediction, y)\n",
        "    loss.backward()\n",
        "    optimizer.step()\n",
        "    optimizer.zero_grad()\n",
        "    train_losses.append(loss.item())\n",
        "    losses.append(loss.item())\n",
        "    for instance in list(tqdm._instances):\n",
        "      tqdm._decr_instances(instance)\n",
        "  scheduler.step()\n",
        "  model.eval()\n",
        "  for x, y in valid_loader:\n",
        "    with torch.no_grad():\n",
        "      prediction = model.forward(x)\n",
        "      y_pred = torch.softmax(prediction, dim=-1)\n",
        "      optimizer.zero_grad()\n",
        "      val_loss = criterion(y_pred, y)\n",
        "      optimizer.step()\n",
        "      optimizer.zero_grad()\n",
        "      optimizer.step()\n",
        "  valid_targets.append(y.numpy())\n",
        "  valid_predictions.append(prediction.numpy())\n",
        "  loss = criterion(prediction, y.squeeze())\n",
        "  valid_losses.append(loss.item())\n",
        "  for instance in list(tqdm._instances):\n",
        "    tqdm._decr_instances(instance)\n",
        "  mean_val_loss = np.mean(valid_losses)\n",
        "  #if mean_val_loss < best_val_loss:\n",
        "  #    best_val_loss = mean_val_loss\n",
        "  #else:\n",
        "  #    break\n",
        "  print(f\"epoch {epoch} validation loss {val_loss}, train loss {loss}\")"
      ],
      "execution_count": 99,
      "outputs": [
        {
          "output_type": "stream",
          "text": [
            "epoch 0 validation loss 1.6621997356414795, train loss 0.9419354200363159\n",
            "epoch 1 validation loss 1.6574821472167969, train loss 0.935039222240448\n",
            "epoch 2 validation loss 1.6534706354141235, train loss 0.9328190684318542\n",
            "epoch 3 validation loss 1.6500110626220703, train loss 0.9318434596061707\n",
            "epoch 4 validation loss 1.6470098495483398, train loss 0.9285534024238586\n",
            "epoch 5 validation loss 1.6445133686065674, train loss 0.9274650812149048\n"
          ],
          "name": "stdout"
        }
      ]
    },
    {
      "cell_type": "code",
      "metadata": {
        "id": "-YOzMPGtaRbA",
        "colab": {
          "base_uri": "https://localhost:8080/",
          "height": 0
        },
        "outputId": "7c0d086f-1fb7-4fca-e6af-b1acdf122d5d"
      },
      "source": [
        "import matplotlib.pyplot as plt\r\n",
        "plt.figure(figsize=(14, 12))\r\n",
        "plt.plot(losses)\r\n",
        "plt.grid()"
      ],
      "execution_count": 100,
      "outputs": [
        {
          "output_type": "display_data",
          "data": {
            "image/png": "[encoded data removed]",
            "text/plain": [
              "<Figure size 1008x864 with 1 Axes>"
            ]
          },
          "metadata": {
            "tags": [],
            "needs_background": "light"
          }
        }
      ]
    },
    {
      "cell_type": "markdown",
      "metadata": {
        "id": "g5renhj2mwUT"
      },
      "source": [
        "### Важные и не очень интуитивные моменты про LSTM и CNN в торче"
      ]
    },
    {
      "cell_type": "markdown",
      "metadata": {
        "id": "XmrM4ZJmmwUU"
      },
      "source": [
        "По умолчанию LSTM принимает данные с такой размерностью:\n",
        "```python\n",
        "(seq_len, batch, input_size)\n",
        "```\n",
        "Сделано это с целью оптимизации на более низком уровне.  \n",
        "Мы оперируем такими объектами:\n",
        "```python\n",
        "(batch, seq_len, input_size)\n",
        "```\n",
        "Чтобы LSTM у нас заработала правильно, мы можем либо передать параметр ```batch_first=True``` во время инициализации слоя,\n",
        "либо транспонировать (поменять) первую и вторую размерность у нашего x перед подачей в слой.  \n",
        "[Подробнее про LSTM](https://pytorch.org/docs/stable/nn.html#lstm)"
      ]
    },
    {
      "cell_type": "markdown",
      "metadata": {
        "id": "orDn0foymwUV"
      },
      "source": [
        "- 128 - размер батча\n",
        "- 64 - длина последовательности (количество слов)\n",
        "- 1024 - эмбеддинг слова"
      ]
    },
    {
      "cell_type": "code",
      "metadata": {
        "id": "MAfL-HX5mwUW"
      },
      "source": [
        "x = torch.rand(128, 64, 1024)"
      ],
      "execution_count": 101,
      "outputs": []
    },
    {
      "cell_type": "code",
      "metadata": {
        "id": "SN5XNWgTmwUc"
      },
      "source": [
        "# первый способ\n",
        "lstm = torch.nn.LSTM(1024, 512, batch_first=True)\n",
        "\n",
        "pred, mem = lstm(x)"
      ],
      "execution_count": 102,
      "outputs": []
    },
    {
      "cell_type": "code",
      "metadata": {
        "id": "36fzFo1KmwUh",
        "colab": {
          "base_uri": "https://localhost:8080/"
        },
        "outputId": "09d17374-6b9b-42fc-a960-b47b40608a01"
      },
      "source": [
        "pred.shape"
      ],
      "execution_count": 103,
      "outputs": [
        {
          "output_type": "execute_result",
          "data": {
            "text/plain": [
              "torch.Size([128, 64, 512])"
            ]
          },
          "metadata": {
            "tags": []
          },
          "execution_count": 103
        }
      ]
    },
    {
      "cell_type": "code",
      "metadata": {
        "id": "iDUskIK_mwUm"
      },
      "source": [
        "# второй способ\n",
        "lstm = torch.nn.LSTM(1024, 512)\n",
        "\n",
        "# меняем размерность batch и seq_len местами\n",
        "x_transposed = x.transpose(0, 1)\n",
        "pred_transposed, mem = lstm(x_transposed)"
      ],
      "execution_count": 104,
      "outputs": []
    },
    {
      "cell_type": "code",
      "metadata": {
        "id": "ntjtdkMVmwUw",
        "colab": {
          "base_uri": "https://localhost:8080/"
        },
        "outputId": "e4253dc3-63f0-48c3-c95c-2ec83435572a"
      },
      "source": [
        "# у нас все еще осталась размерность (seq_len, batch, input_size)\n",
        "pred_transposed.shape"
      ],
      "execution_count": 105,
      "outputs": [
        {
          "output_type": "execute_result",
          "data": {
            "text/plain": [
              "torch.Size([64, 128, 512])"
            ]
          },
          "metadata": {
            "tags": []
          },
          "execution_count": 105
        }
      ]
    },
    {
      "cell_type": "code",
      "metadata": {
        "id": "gdJu3uRemwU1",
        "colab": {
          "base_uri": "https://localhost:8080/"
        },
        "outputId": "8b28f63a-8862-4332-8f39-f2743eb8cbb3"
      },
      "source": [
        "# просто транспонируем еще раз\n",
        "pred = pred_transposed.transpose(0, 1)\n",
        "pred.shape"
      ],
      "execution_count": 106,
      "outputs": [
        {
          "output_type": "execute_result",
          "data": {
            "text/plain": [
              "torch.Size([128, 64, 512])"
            ]
          },
          "metadata": {
            "tags": []
          },
          "execution_count": 106
        }
      ]
    },
    {
      "cell_type": "markdown",
      "metadata": {
        "id": "4mxfZg8PmwU6"
      },
      "source": [
        "### Conv1d & MaxPool1d\n",
        "Примерно такая же ситуация происходит со сверточными слоями и пулингами.  \n",
        "1d реализация как раз для текстов, в ней матрица-фильтр ходит только по одной размерности.  \n",
        "[Подробнее про CNN](https://pytorch.org/docs/stable/nn.html#conv1d)  \n",
        "[Подробнее про пулинг](https://pytorch.org/docs/stable/nn.html#maxpool1d)  \n",
        "Ожидается такая размерность:\n",
        "```python\n",
        "(batch, input_size, seq_len)\n",
        "```\n",
        "Мы все еще хоти подавать такую размерность:\n",
        "```python\n",
        "(batch, seq_len, input_size)\n",
        "```\n",
        "В случае со свертками и пулингами у нас есть вариант только транспонировать x перед подачей и транспонировать полученный результат. Обратите внимание, что транспонируем мы первую и вторую размерность (индексация с нуля)."
      ]
    },
    {
      "cell_type": "code",
      "metadata": {
        "id": "QHNejHyvmwU7",
        "colab": {
          "base_uri": "https://localhost:8080/"
        },
        "outputId": "9d28745e-6bbf-4856-b24d-3be70e38e408"
      },
      "source": [
        "x.shape"
      ],
      "execution_count": 107,
      "outputs": [
        {
          "output_type": "execute_result",
          "data": {
            "text/plain": [
              "torch.Size([128, 64, 1024])"
            ]
          },
          "metadata": {
            "tags": []
          },
          "execution_count": 107
        }
      ]
    },
    {
      "cell_type": "code",
      "metadata": {
        "id": "LfCzYVHbmwVB"
      },
      "source": [
        "# in_channels - размер входных эмбеддингов\n",
        "# out_channels - количество/какой размер эмбеддингов мы хотим получить\n",
        "# kernel_size - размер окна/н-граммы\n",
        "cnn = torch.nn.Conv1d(in_channels=1024, out_channels=512, kernel_size=3)"
      ],
      "execution_count": 108,
      "outputs": []
    },
    {
      "cell_type": "code",
      "metadata": {
        "id": "2vJAwFoTmwVG"
      },
      "source": [
        "# выпадет ошибка, посмотрите какая\n",
        "# pred = cnn(x)"
      ],
      "execution_count": 109,
      "outputs": []
    },
    {
      "cell_type": "code",
      "metadata": {
        "id": "DVHgByh2mwVV",
        "colab": {
          "base_uri": "https://localhost:8080/"
        },
        "outputId": "b4602b04-64f9-4f00-cf25-a10f5af5a0a1"
      },
      "source": [
        "x_transposed = x.transpose(1, 2)\n",
        "x_transposed.shape\n",
        "# перевели в (batch, input_size, seq_len)"
      ],
      "execution_count": 110,
      "outputs": [
        {
          "output_type": "execute_result",
          "data": {
            "text/plain": [
              "torch.Size([128, 1024, 64])"
            ]
          },
          "metadata": {
            "tags": []
          },
          "execution_count": 110
        }
      ]
    },
    {
      "cell_type": "code",
      "metadata": {
        "id": "MulbXtNemwVb",
        "colab": {
          "base_uri": "https://localhost:8080/"
        },
        "outputId": "b675fda0-3977-4d20-e90d-a1391c811a49"
      },
      "source": [
        "pred_transposed = cnn(x_transposed)\n",
        "pred_transposed.shape\n",
        "# осталась разрмерность (batch, output_size, seq_len)"
      ],
      "execution_count": 111,
      "outputs": [
        {
          "output_type": "execute_result",
          "data": {
            "text/plain": [
              "torch.Size([128, 512, 62])"
            ]
          },
          "metadata": {
            "tags": []
          },
          "execution_count": 111
        }
      ]
    },
    {
      "cell_type": "code",
      "metadata": {
        "id": "GLnUJz9tmwVn",
        "colab": {
          "base_uri": "https://localhost:8080/"
        },
        "outputId": "9dcad3e0-b811-4fcf-b0d0-694d12c7a3b7"
      },
      "source": [
        "# переведем обратно в (batch, seq_len, input_size)\n",
        "pred = pred_transposed.transpose(1, 2)\n",
        "pred.shape"
      ],
      "execution_count": 112,
      "outputs": [
        {
          "output_type": "execute_result",
          "data": {
            "text/plain": [
              "torch.Size([128, 62, 512])"
            ]
          },
          "metadata": {
            "tags": []
          },
          "execution_count": 112
        }
      ]
    },
    {
      "cell_type": "markdown",
      "metadata": {
        "id": "qsrsvOlUmwVt"
      },
      "source": [
        "### Еще важный момент про LSTM\n",
        "\n",
        "The input can also be a packed variable length sequence. See [torch.nn.utils.rnn.pack_padded_sequence()](https://pytorch.org/docs/stable/nn.html#torch.nn.utils.rnn.pack_padded_sequence) or [torch.nn.utils.rnn.pack_sequence()](https://pytorch.org/docs/stable/nn.html#torch.nn.utils.rnn.pack_sequence) for details.\n",
        "\n",
        "Это внутренняя конструкция торча, которая позволяет не читать токен ```PAD```, но все еще работать с батчами. То есть внутри батча мы можем передать лстмке, что у нас данные переменной длины. Не забудьте что на выход отдается [torch.nn.utils.rnn.PackedSequence](https://pytorch.org/docs/stable/nn.html#torch.nn.utils.rnn.PackedSequence)."
      ]
    },
    {
      "cell_type": "markdown",
      "metadata": {
        "id": "PkL1r6VGmwVw"
      },
      "source": [
        "## Домашнее задание\n",
        "\n",
        "1. Сделать класс нейронки, вписать необходимые операции, архитектура ниже\n",
        "1. Написать обучалку (обобщить то, что было выше)\n",
        "1. Добавить логирование\n",
        "    1. Сохранять лосс на каждой итерции обучения __0.25 балла__\n",
        "    1. Каждую эпоху сохранять лосс трейна и тест __0.25 балла__\n",
        "    1. Каждую эпоху рассчитывать метрики __0.25 балла__\n",
        "    1. Добавить прогресс бар, в котором показывается усредненный лосс последних 500-та итераций __0.25 балла__\n",
        "1. Добавить early stopping __0.5 балла__\n",
        "1. Нарисовать графики лосса, метрик, конфьюжин матрицу __0.5 балла__\n",
        "\n",
        "\n",
        "### Архитектура (что можно попробовать)\n",
        "1. Предобученные эмбеддинги. Почитайте [здесь](https://pytorch.org/docs/stable/nn.html#embedding) (from_pretrained) как вставить свои эмбеддинги, выше мы читали матрицу эмбеддингов. __0 баллов__\n",
        "1. Дообучить эмбеддинги отдельно от сети. __2 балла__\n",
        "1. Дообучить эмбеддинги вместе с сетью и с другим learning rate (указывается в оптимизаторе). __2 балла__\n",
        "1. Bidirectional LSTM. __1 балл__\n",
        "1. Несколько параллельных CNN с разными размерами окна и mean/max over time пулингами к ним и дальнейшей конкатенацией. __2 балла__\n",
        "1. Несколько последовательных CNN. __1 балла__\n",
        "1. Разные окна и residual к предыдущему пункту. __2 балла__\n",
        "1. Предыдущий пункт сделан без ошибок (замаскированы свертки паддингов). __2 балла__\n",
        "1. Написать правильный правильный mean/max пулинг, который не учитывает паддинги, точнее их маскирует. __2 балла__\n",
        "1. Добавить [torch.nn.utils.rnn.pack_padded_sequence()](https://pytorch.org/docs/stable/nn.html#torch.nn.utils.rnn.pack_padded_sequence) и [torch.nn.utils.rnn.pack_sequence()](https://pytorch.org/docs/stable/nn.html#torch.nn.utils.rnn.pack_sequence) для LSTM. Инфа [здесь](#Еще-важный-момент-про-LSTM) __2 балла__\n",
        "1. Добавить spatial дропаут для входа LSTM (не просто стандартный пункт при инициализации LSTM) __1 балл__\n",
        "1. Добавить BatchNorm/LayerNorm/Dropout/Residual/etc __1 балл__\n",
        "1. Добавить шедуллер __1 балл__\n",
        "1. Обучать на GPU __2 балла__\n",
        "1. Сделать transfer learning с собственно обученной языковой модели, обученной на любых данных, например, unlabeled. __7 баллов__\n",
        "1. your madness\n",
        "\n",
        "## 10 баллов максимум\n",
        "\n",
        "# По итогам напишите результаты экспериментов\n",
        "# Что получилось, а что нет\n",
        "# Почему, выводы"
      ]
    },
    {
      "cell_type": "markdown",
      "metadata": {
        "id": "c8s0PTVgd1iz"
      },
      "source": [
        "Параллельные CNN"
      ]
    },
    {
      "cell_type": "code",
      "metadata": {
        "id": "ICEx-xAomwVx"
      },
      "source": [
        "class Paral_CNN(nn.Module):\r\n",
        "    \r\n",
        "    def __init__(self, embeddings, linear_1_size, linear_2_size, n_classes):\r\n",
        "        super().__init__()\r\n",
        "        \r\n",
        "        self.embedding_layer = nn.Embedding.from_pretrained(embeddings, padding_idx=0)\r\n",
        "        \r\n",
        "        self.input_size = embeddings.shape[-1]\r\n",
        "        self.conv_size = int(self.input_size/2)\r\n",
        "        self.padding = nn.ConstantPad1d(padding=1, value=float('-inf'))\r\n",
        "\r\n",
        "        self.conv1 = nn.Conv1d(in_channels=32, out_channels=64, kernel_size=2, stride=1, padding=1)\r\n",
        "        self.conv2 = nn.Conv1d(in_channels=32, out_channels=32, kernel_size=2, stride=1, padding=1)\r\n",
        "\r\n",
        "        self.dropout = nn.Dropout(p=0.5)\r\n",
        "        self.relu = nn.ReLU()\r\n",
        "\r\n",
        "        self.linear_1 = nn.Linear(in_features=101, out_features=32)\r\n",
        "        self.linear_2 = nn.Linear(in_features=linear_1_size, out_features=linear_2_size)\r\n",
        "        self.linear_3 = nn.Linear(in_features=linear_2_size, out_features=n_classes)\r\n",
        "        \r\n",
        "    def forward(self, x):\r\n",
        "        \r\n",
        "        x = self.embedding_layer(x)\r\n",
        "\r\n",
        "        x1 = self.conv1(x)\r\n",
        "        x1 = torch.max_pool1d(x1,padding=1, kernel_size=3)\r\n",
        "\r\n",
        "        x2 = self.conv2(x)\r\n",
        "        x2 = torch.avg_pool1d(x2, padding=1, kernel_size=3)\r\n",
        "\r\n",
        "        x = torch.cat([x1, x2], dim=1)\r\n",
        "        x = self.relu(x)\r\n",
        "        x = self.linear_1(x)\r\n",
        "        x = x.sum(dim=1)\r\n",
        "        x = torch.relu(x)\r\n",
        "        x = self.linear_2(x)\r\n",
        "        x = self.dropout(x)\r\n",
        "        x = torch.relu(x)\r\n",
        "        x = self.linear_3(x)\r\n",
        "        \r\n",
        "        \r\n",
        "        return x"
      ],
      "execution_count": 113,
      "outputs": []
    },
    {
      "cell_type": "code",
      "metadata": {
        "id": "-RmNcV5neYlQ"
      },
      "source": [
        "model = Paral_CNN(embeddings=embeddings, linear_1_size = 32, linear_2_size = 16, n_classes=len(category2index))"
      ],
      "execution_count": 114,
      "outputs": []
    },
    {
      "cell_type": "code",
      "metadata": {
        "id": "wL_S8LoOgV6y"
      },
      "source": [
        "criterion = nn.CrossEntropyLoss()\r\n",
        "optimizer = torch.optim.Adam(params=model.parameters(), lr=0.005)\r\n",
        "scheduler = torch.optim.lr_scheduler.StepLR(optimizer, 1)"
      ],
      "execution_count": 115,
      "outputs": []
    },
    {
      "cell_type": "code",
      "metadata": {
        "id": "MCheCdRCgccn",
        "colab": {
          "base_uri": "https://localhost:8080/"
        },
        "outputId": "6061d07c-6f3b-41ad-baf0-31477e862d24"
      },
      "source": [
        "epochs = 6\r\n",
        "train_losses = []\r\n",
        "test_losses = []\r\n",
        "for epoch in range(epochs):\r\n",
        "  for x, y in train_loader:\r\n",
        "    #print(y)\r\n",
        "    y_pred = model.forward(x)\r\n",
        "    #print(y_pred)\r\n",
        "    train_loss = criterion(y_pred, y)\r\n",
        "    optimizer.zero_grad()\r\n",
        "    train_loss.backward()\r\n",
        "    optimizer.step()\r\n",
        "  train_losses.append(train_loss)\r\n",
        "  scheduler.step()\r\n",
        "  for x, y in valid_loader:        \r\n",
        "      with torch.no_grad():\r\n",
        "          x_forw = model.forward(x)\r\n",
        "          y_pred = torch.softmax(x_forw, dim=-1)\r\n",
        "          optimizer.zero_grad()\r\n",
        "          test_loss = criterion(y_pred, y)\r\n",
        "          optimizer.step()\r\n",
        "          optimizer.zero_grad()\r\n",
        "          optimizer.step()\r\n",
        "  test_losses.append(test_loss)\r\n",
        "  print(f\"epoch {epoch} train loss {train_loss}, test loss {test_loss}\")"
      ],
      "execution_count": 117,
      "outputs": [
        {
          "output_type": "stream",
          "text": [
            "epoch 0 train loss 2.4123029708862305, test loss 1.921065330505371\n",
            "epoch 1 train loss 1.8251659870147705, test loss 1.9091050624847412\n",
            "epoch 2 train loss 1.9791955947875977, test loss 1.9210023880004883\n",
            "epoch 3 train loss 2.224478006362915, test loss 1.9004335403442383\n",
            "epoch 4 train loss 1.6857361793518066, test loss 1.8979856967926025\n",
            "epoch 5 train loss 1.996706485748291, test loss 1.913614273071289\n"
          ],
          "name": "stdout"
        }
      ]
    },
    {
      "cell_type": "code",
      "metadata": {
        "id": "i9I1xhXeS-HF",
        "colab": {
          "base_uri": "https://localhost:8080/",
          "height": 700
        },
        "outputId": "80617223-0796-4fd6-ad0d-a14f8c60c84a"
      },
      "source": [
        "plt.figure(figsize=(14, 12))\r\n",
        "plt.plot(range(epochs), train_losses)\r\n",
        "plt.grid()"
      ],
      "execution_count": 118,
      "outputs": [
        {
          "output_type": "display_data",
          "data": {
            "image/png": "[encoded data removed]",
            "text/plain": [
              "<Figure size 1008x864 with 1 Axes>"
            ]
          },
          "metadata": {
            "tags": [],
            "needs_background": "light"
          }
        }
      ]
    },
    {
      "cell_type": "markdown",
      "metadata": {
        "id": "snWOgx2iT6Cy"
      },
      "source": [
        "Последовательные CNN"
      ]
    },
    {
      "cell_type": "code",
      "metadata": {
        "id": "CLUu7o20TN3N"
      },
      "source": [
        "class Posl_CNN(nn.Module):\r\n",
        "    \r\n",
        "    def __init__(self, embeddings, linear_1_size, linear_2_size, n_classes):\r\n",
        "        super().__init__()\r\n",
        "        \r\n",
        "        self.embedding_layer = nn.Embedding.from_pretrained(embeddings, padding_idx=0, freeze=False)\r\n",
        "\r\n",
        "        self.input_size = embeddings.shape[-1]\r\n",
        "        self.conv_size_1 = int(self.input_size/2)\r\n",
        "        self.conv_size_2 = int(self.conv_size_1/2)\r\n",
        "\r\n",
        "        self.conv1 = nn.Conv1d(in_channels=self.input_size, out_channels=self.conv_size_1, kernel_size=3, stride=1, padding=0)\r\n",
        "        self.pool1 = nn.MaxPool1d(kernel_size=3, stride=1, padding=0)\r\n",
        "        self.conv2 = nn.Conv1d(in_channels=self.conv_size_1, out_channels=self.conv_size_2, kernel_size=3, stride=1, padding=0)\r\n",
        "        self.pool2 = nn.MaxPool1d(kernel_size=3, stride=1, padding=0)\r\n",
        "\r\n",
        "        self.batch_norm1 = nn.BatchNorm1d(num_features=self.conv_size_1)\r\n",
        "        self.batch_norm2 = nn.BatchNorm1d(num_features=self.conv_size_2)\r\n",
        "        self.batch_norm = nn.BatchNorm1d(num_features=self.conv_size_2)\r\n",
        "\r\n",
        "        self.relu = nn.ReLU()\r\n",
        "\r\n",
        "        self.linear_1 = nn.Linear(in_features=self.conv_size_2, out_features=linear_1_size)\r\n",
        "        self.linear_2 = nn.Linear(in_features=linear_1_size, out_features=linear_2_size)\r\n",
        "        self.linear_3 = nn.Linear(in_features=linear_2_size, out_features=n_classes)\r\n",
        "\r\n",
        "\r\n",
        "    def forward(self, x):\r\n",
        "\r\n",
        "        x = self.embedding_layer(x)\r\n",
        "\r\n",
        "        x = x.transpose(1, 2)\r\n",
        "\r\n",
        "        x = self.conv1(x)\r\n",
        "        x = self.batch_norm1(x)\r\n",
        "        x = self.relu(x)\r\n",
        "        x = self.pool1(x)\r\n",
        "        x = self.conv2(x)\r\n",
        "        x = self.batch_norm2(x)\r\n",
        "        x = self.relu(x)\r\n",
        "        x = self.pool2(x)\r\n",
        "\r\n",
        "        x = x.transpose(1, 2)\r\n",
        "\r\n",
        "        x = x.sum(dim=1)\r\n",
        "\r\n",
        "        x = self.batch_norm(x)\r\n",
        "\r\n",
        "        x = self.linear_1(x)\r\n",
        "        x = self.relu(x)\r\n",
        "        # x = torch.relu(x)\r\n",
        "        x = self.linear_2(x)\r\n",
        "        x = self.relu(x)\r\n",
        "        # x = torch.relu(x)\r\n",
        "        x = self.linear_3(x)\r\n",
        "             \r\n",
        "        return x"
      ],
      "execution_count": 119,
      "outputs": []
    },
    {
      "cell_type": "code",
      "metadata": {
        "id": "qDwAuczTVA8r"
      },
      "source": [
        "model = Posl_CNN(embeddings=embeddings, linear_1_size=32, linear_2_size=16, n_classes=len(category2index))"
      ],
      "execution_count": 120,
      "outputs": []
    },
    {
      "cell_type": "code",
      "metadata": {
        "id": "GonHzi4Kfqc3"
      },
      "source": [
        "model_params = [x[1] for x in list(filter(lambda x: x[0] != 'embedding_layer.weight', model.named_parameters()))]\r\n",
        "embedding_params = model.embedding_layer.parameters()"
      ],
      "execution_count": 121,
      "outputs": []
    },
    {
      "cell_type": "code",
      "metadata": {
        "id": "DbtKXXhzVazX"
      },
      "source": [
        "criterion = nn.CrossEntropyLoss()\r\n",
        "optimizer = torch.optim.Adam(params=[{'params': embedding_params, 'lr': 0.01}, {'params': model_params, 'lr': 0.005}])\r\n",
        "scheduler = torch.optim.lr_scheduler.StepLR(optimizer, 1)"
      ],
      "execution_count": 127,
      "outputs": []
    },
    {
      "cell_type": "code",
      "metadata": {
        "id": "ApbrsA8dVqR0"
      },
      "source": [
        "epochs = 6\r\n",
        "train_losses = []\r\n",
        "train_iteration_losses = []\r\n",
        "test_losses = []\r\n",
        "best_test_loss = 10\r\n",
        "for epoch in range(epochs):\r\n",
        "  model.train()\r\n",
        "  for x, y in train_loader:\r\n",
        "    y_pred = model.forward(x)\r\n",
        "    train_loss = criterion(y_pred, y)\r\n",
        "    train_iteration_losses.append(train_loss)\r\n",
        "    optimizer.zero_grad()\r\n",
        "    train_loss.backward()\r\n",
        "    optimizer.step()\r\n",
        "  train_losses.append(train_loss)\r\n",
        "  scheduler.step()\r\n",
        "  model.eval()\r\n",
        "  for x, y in valid_loader:      \r\n",
        "      with torch.no_grad():\r\n",
        "          x_forw = model.forward(x)\r\n",
        "          y_pred = torch.softmax(x_forw, dim=-1)\r\n",
        "          optimizer.zero_grad()\r\n",
        "          test_loss = criterion(y_pred, y)\r\n",
        "          optimizer.step()\r\n",
        "          optimizer.zero_grad()\r\n",
        "          optimizer.step()\r\n",
        "  test_losses.append(test_loss)\r\n",
        "  mean_test_loss = np.mean(valid_losses)\r\n",
        "  print(f\"epoch {epoch} test loss {test_loss}, train loss {train_loss}\")\r\n",
        "  if mean_test_loss < best_test_loss:\r\n",
        "        best_test_loss = mean_test_loss\r\n",
        "  else:\r\n",
        "        break"
      ],
      "execution_count": null,
      "outputs": []
    },
    {
      "cell_type": "code",
      "metadata": {
        "id": "X4_FYrvP_Zip"
      },
      "source": [
        "plt.figure(figsize=(7, 7))\r\n",
        "plt.plot(losses)\r\n",
        "plt.grid()"
      ],
      "execution_count": null,
      "outputs": []
    },
    {
      "cell_type": "code",
      "metadata": {
        "id": "0ow_kiCP_fIO"
      },
      "source": [
        "import seaborn as sns; sns.set()\r\n",
        "from sklearn.metrics import confusion_matrix\r\n",
        "model.eval()\r\n",
        "y_true = list()\r\n",
        "y_pred = list()\r\n",
        "for x, y in valid_loader:\r\n",
        "  with torch.no_grad():\r\n",
        "    pred = model.forward(x)\r\n",
        "    pred = torch.softmax(pred, dim=-1)\r\n",
        "    y_pred.extend(pred.cpu().argmax(1))\r\n",
        "    y_true.extend(y.cpu())\r\n",
        "sns.heatmap(data=confusion_matrix(y_true, y_pred), annot=True, fmt=\"d\", cbar=False, xticklabels=category2index.values(), yticklabels=category2index.values())\r\n",
        "plt.title(\"Confusion matrix\")\r\n",
        "plt.show()"
      ],
      "execution_count": null,
      "outputs": []
    }
  ]
}