{
  "nbformat": 4,
  "nbformat_minor": 0,
  "metadata": {
    "colab": {
      "name": "Untitled11.ipynb",
      "provenance": [],
      "machine_shape": "hm",
      "authorship_tag": "ABX9TyNxwCtbvlR0dEe3ygyW0Ojf",
      "include_colab_link": true
    },
    "kernelspec": {
      "display_name": "Python 3",
      "name": "python3"
    },
    "language_info": {
      "name": "python"
    }
  },
  "cells": [
    {
      "cell_type": "markdown",
      "metadata": {
        "id": "view-in-github",
        "colab_type": "text"
      },
      "source": [
        "<a href=\"https://colab.research.google.com/github/Vakhranev/Compling/blob/master/%D0%AD%D0%BA%D1%81%D0%BF%D0%B5%D1%80%D0%B8%D0%BC%D0%B5%D0%BD%D1%82%20%E2%84%964.ipynb\" target=\"_parent\"><img src=\"https://colab.research.google.com/assets/colab-badge.svg\" alt=\"Open In Colab\"/></a>"
      ]
    },
    {
      "cell_type": "code",
      "metadata": {
        "id": "6Fjsy7qUP5Dr"
      },
      "source": [
        "import pandas as pd"
      ],
      "execution_count": null,
      "outputs": []
    },
    {
      "cell_type": "code",
      "metadata": {
        "id": "V15AjyLhP-XA"
      },
      "source": [
        "import numpy as np"
      ],
      "execution_count": null,
      "outputs": []
    },
    {
      "cell_type": "code",
      "metadata": {
        "id": "flVb34q-qV-F"
      },
      "source": [
        "from google.colab import drive"
      ],
      "execution_count": null,
      "outputs": []
    },
    {
      "cell_type": "code",
      "metadata": {
        "colab": {
          "base_uri": "https://localhost:8080/"
        },
        "id": "JjvEs1oPqcfy",
        "outputId": "5c742169-4e68-47b3-8794-53d7f77e0271"
      },
      "source": [
        "drive.mount('/content/drive')"
      ],
      "execution_count": null,
      "outputs": [
        {
          "output_type": "stream",
          "text": [
            "Mounted at /content/drive\n"
          ],
          "name": "stdout"
        }
      ]
    },
    {
      "cell_type": "code",
      "metadata": {
        "colab": {
          "base_uri": "https://localhost:8080/"
        },
        "id": "TFCc5ghEzQVA",
        "outputId": "3c9167b5-4497-45b6-fb3b-32d5a5214ab3"
      },
      "source": [
        "!pip install pynput"
      ],
      "execution_count": null,
      "outputs": [
        {
          "output_type": "stream",
          "text": [
            "Collecting pynput\n",
            "\u001b[?25l  Downloading https://files.pythonhosted.org/packages/fd/f7/cb6e7edb8bb46bb38ac8c4f8065e6e3abaaef3436ecd7fe139ca5ba93c3c/pynput-1.7.3-py2.py3-none-any.whl (99kB)\n",
            "\u001b[K     |████████████████████████████████| 102kB 4.4MB/s \n",
            "\u001b[?25hCollecting evdev>=1.3; \"linux\" in sys_platform\n",
            "  Downloading https://files.pythonhosted.org/packages/4d/ec/bb298d36ed67abd94293253e3e52bdf16732153b887bf08b8d6f269eacef/evdev-1.4.0.tar.gz\n",
            "Requirement already satisfied: six in /usr/local/lib/python3.7/dist-packages (from pynput) (1.15.0)\n",
            "Collecting python-xlib>=0.17; \"linux\" in sys_platform\n",
            "\u001b[?25l  Downloading https://files.pythonhosted.org/packages/54/c3/45ecfd3e6a541bb4b383fc320a32762703cfe28763c131d71f4183ace819/python_xlib-0.30-py2.py3-none-any.whl (178kB)\n",
            "\u001b[K     |████████████████████████████████| 184kB 8.0MB/s \n",
            "\u001b[?25hBuilding wheels for collected packages: evdev\n",
            "  Building wheel for evdev (setup.py) ... \u001b[?25l\u001b[?25hdone\n",
            "  Created wheel for evdev: filename=evdev-1.4.0-cp37-cp37m-linux_x86_64.whl size=97417 sha256=11d79117b0742dec3dc63a9a5dba9b2b36e5a0a0c2c3d1338a46ca9536b751d8\n",
            "  Stored in directory: /root/.cache/pip/wheels/66/35/1d/38b2de1421ede48ebf0107faea56163d07059110b116a794a3\n",
            "Successfully built evdev\n",
            "Installing collected packages: evdev, python-xlib, pynput\n",
            "Successfully installed evdev-1.4.0 pynput-1.7.3 python-xlib-0.30\n"
          ],
          "name": "stdout"
        }
      ]
    },
    {
      "cell_type": "code",
      "metadata": {
        "colab": {
          "base_uri": "https://localhost:8080/"
        },
        "id": "3I4pj-0Hm_JL",
        "outputId": "fdb599e4-3e51-476e-c333-ca00b8acf4f0"
      },
      "source": [
        "!pip install patool"
      ],
      "execution_count": null,
      "outputs": [
        {
          "output_type": "stream",
          "text": [
            "Collecting patool\n",
            "\u001b[?25l  Downloading https://files.pythonhosted.org/packages/43/94/52243ddff508780dd2d8110964320ab4851134a55ab102285b46e740f76a/patool-1.12-py2.py3-none-any.whl (77kB)\n",
            "\r\u001b[K     |████▎                           | 10kB 17.2MB/s eta 0:00:01\r\u001b[K     |████████▌                       | 20kB 22.6MB/s eta 0:00:01\r\u001b[K     |████████████▊                   | 30kB 11.3MB/s eta 0:00:01\r\u001b[K     |█████████████████               | 40kB 8.8MB/s eta 0:00:01\r\u001b[K     |█████████████████████▏          | 51kB 5.5MB/s eta 0:00:01\r\u001b[K     |█████████████████████████▍      | 61kB 6.5MB/s eta 0:00:01\r\u001b[K     |█████████████████████████████▋  | 71kB 6.6MB/s eta 0:00:01\r\u001b[K     |████████████████████████████████| 81kB 4.4MB/s \n",
            "\u001b[?25hInstalling collected packages: patool\n",
            "Successfully installed patool-1.12\n"
          ],
          "name": "stdout"
        }
      ]
    },
    {
      "cell_type": "code",
      "metadata": {
        "id": "-kQuffDZnHau"
      },
      "source": [
        "import patoolib"
      ],
      "execution_count": null,
      "outputs": []
    },
    {
      "cell_type": "code",
      "metadata": {
        "id": "NpYKO8Hfq8Py"
      },
      "source": [
        "archive = '/content/drive/My Drive/lenta-ru-news.rar'"
      ],
      "execution_count": null,
      "outputs": []
    },
    {
      "cell_type": "code",
      "metadata": {
        "colab": {
          "base_uri": "https://localhost:8080/",
          "height": 103
        },
        "id": "cKGXHhrmnLEn",
        "outputId": "9cd42732-7594-428a-b90e-c90526ff9e36"
      },
      "source": [
        "patoolib.extract_archive(archive)"
      ],
      "execution_count": null,
      "outputs": [
        {
          "output_type": "stream",
          "text": [
            "patool: Extracting /content/drive/My Drive/lenta-ru-news.rar ...\n",
            "patool: running /usr/bin/unrar x -- \"/content/drive/My Drive/lenta-ru-news.rar\"\n",
            "patool:     with cwd='./Unpack_ji7t4s0d'\n",
            "patool: ... /content/drive/My Drive/lenta-ru-news.rar extracted to `lenta-ru-news.csv'.\n"
          ],
          "name": "stdout"
        },
        {
          "output_type": "execute_result",
          "data": {
            "application/vnd.google.colaboratory.intrinsic+json": {
              "type": "string"
            },
            "text/plain": [
              "'lenta-ru-news.csv'"
            ]
          },
          "metadata": {
            "tags": []
          },
          "execution_count": 9
        }
      ]
    },
    {
      "cell_type": "code",
      "metadata": {
        "id": "IQfMeLOuSjVS"
      },
      "source": [
        "corpora = pd.read_csv('lenta-ru-news.csv',engine='python', error_bad_lines=False)"
      ],
      "execution_count": null,
      "outputs": []
    },
    {
      "cell_type": "code",
      "metadata": {
        "colab": {
          "base_uri": "https://localhost:8080/",
          "height": 289
        },
        "id": "P4L8CwAyTlAl",
        "outputId": "6011f3f6-4601-4f36-c8a6-f955547fc749"
      },
      "source": [
        "corpora.head()"
      ],
      "execution_count": null,
      "outputs": [
        {
          "output_type": "execute_result",
          "data": {
            "text/html": [
              "<div>\n",
              "<style scoped>\n",
              "    .dataframe tbody tr th:only-of-type {\n",
              "        vertical-align: middle;\n",
              "    }\n",
              "\n",
              "    .dataframe tbody tr th {\n",
              "        vertical-align: top;\n",
              "    }\n",
              "\n",
              "    .dataframe thead th {\n",
              "        text-align: right;\n",
              "    }\n",
              "</style>\n",
              "<table border=\"1\" class=\"dataframe\">\n",
              "  <thead>\n",
              "    <tr style=\"text-align: right;\">\n",
              "      <th></th>\n",
              "      <th>url</th>\n",
              "      <th>title</th>\n",
              "      <th>text</th>\n",
              "      <th>topic</th>\n",
              "      <th>tags</th>\n",
              "      <th>date</th>\n",
              "    </tr>\n",
              "  </thead>\n",
              "  <tbody>\n",
              "    <tr>\n",
              "      <th>0</th>\n",
              "      <td>https://lenta.ru/news/1914/09/16/hungarnn/</td>\n",
              "      <td>1914. Русские войска вступили в пределы Венгрии</td>\n",
              "      <td>Бои у Сопоцкина и Друскеник закончились отступ...</td>\n",
              "      <td>Библиотека</td>\n",
              "      <td>Первая мировая</td>\n",
              "      <td>1914/09/16</td>\n",
              "    </tr>\n",
              "    <tr>\n",
              "      <th>1</th>\n",
              "      <td>https://lenta.ru/news/1914/09/16/lermontov/</td>\n",
              "      <td>1914. Празднование столетия М.Ю. Лермонтова от...</td>\n",
              "      <td>Министерство народного просвещения, в виду про...</td>\n",
              "      <td>Библиотека</td>\n",
              "      <td>Первая мировая</td>\n",
              "      <td>1914/09/16</td>\n",
              "    </tr>\n",
              "    <tr>\n",
              "      <th>2</th>\n",
              "      <td>https://lenta.ru/news/1914/09/17/nesteroff/</td>\n",
              "      <td>1914. Das ist Nesteroff!</td>\n",
              "      <td>Штабс-капитан П. Н. Нестеров на днях, увидев в...</td>\n",
              "      <td>Библиотека</td>\n",
              "      <td>Первая мировая</td>\n",
              "      <td>1914/09/17</td>\n",
              "    </tr>\n",
              "    <tr>\n",
              "      <th>3</th>\n",
              "      <td>https://lenta.ru/news/1914/09/17/bulldogn/</td>\n",
              "      <td>1914. Бульдог-гонец под Льежем</td>\n",
              "      <td>Фотограф-корреспондент Daily Mirror рассказыва...</td>\n",
              "      <td>Библиотека</td>\n",
              "      <td>Первая мировая</td>\n",
              "      <td>1914/09/17</td>\n",
              "    </tr>\n",
              "    <tr>\n",
              "      <th>4</th>\n",
              "      <td>https://lenta.ru/news/1914/09/18/zver/</td>\n",
              "      <td>1914. Под Люблином пойман швабский зверь</td>\n",
              "      <td>Лица, приехавшие в Варшаву из Люблина, передаю...</td>\n",
              "      <td>Библиотека</td>\n",
              "      <td>Первая мировая</td>\n",
              "      <td>1914/09/18</td>\n",
              "    </tr>\n",
              "  </tbody>\n",
              "</table>\n",
              "</div>"
            ],
            "text/plain": [
              "                                           url  ...        date\n",
              "0   https://lenta.ru/news/1914/09/16/hungarnn/  ...  1914/09/16\n",
              "1  https://lenta.ru/news/1914/09/16/lermontov/  ...  1914/09/16\n",
              "2  https://lenta.ru/news/1914/09/17/nesteroff/  ...  1914/09/17\n",
              "3   https://lenta.ru/news/1914/09/17/bulldogn/  ...  1914/09/17\n",
              "4       https://lenta.ru/news/1914/09/18/zver/  ...  1914/09/18\n",
              "\n",
              "[5 rows x 6 columns]"
            ]
          },
          "metadata": {
            "tags": []
          },
          "execution_count": 11
        }
      ]
    },
    {
      "cell_type": "code",
      "metadata": {
        "colab": {
          "base_uri": "https://localhost:8080/"
        },
        "id": "1DQurJOoTv5H",
        "outputId": "ebe00c53-727c-49c8-e768-2d2be9ae7f8e"
      },
      "source": [
        "corpora['text'].head()"
      ],
      "execution_count": null,
      "outputs": [
        {
          "output_type": "execute_result",
          "data": {
            "text/plain": [
              "0    Бои у Сопоцкина и Друскеник закончились отступ...\n",
              "1    Министерство народного просвещения, в виду про...\n",
              "2    Штабс-капитан П. Н. Нестеров на днях, увидев в...\n",
              "3    Фотограф-корреспондент Daily Mirror рассказыва...\n",
              "4    Лица, приехавшие в Варшаву из Люблина, передаю...\n",
              "Name: text, dtype: object"
            ]
          },
          "metadata": {
            "tags": []
          },
          "execution_count": 12
        }
      ]
    },
    {
      "cell_type": "code",
      "metadata": {
        "id": "GVcrViOPWcU9"
      },
      "source": [
        "import re"
      ],
      "execution_count": 15,
      "outputs": []
    },
    {
      "cell_type": "code",
      "metadata": {
        "colab": {
          "base_uri": "https://localhost:8080/"
        },
        "id": "zhTN8bdSUk29",
        "outputId": "88985f61-064e-4789-d46e-4468e459d97e"
      },
      "source": [
        "new_corpora = []\n",
        "for text in corpora['text']:\n",
        "  split_regex = re.compile(r'[.|!|?|…]')\n",
        "  sentences = filter(lambda t: t, [t.strip() for t in split_regex.split(str(text))])\n",
        "  for sentence in sentences:\n",
        "    new_corpora.append(sentence)\n",
        "print(len(new_corpora))"
      ],
      "execution_count": null,
      "outputs": [
        {
          "output_type": "stream",
          "text": [
            "9233828\n"
          ],
          "name": "stdout"
        }
      ]
    },
    {
      "cell_type": "code",
      "metadata": {
        "colab": {
          "base_uri": "https://localhost:8080/"
        },
        "id": "qUQbnlBEYEuB",
        "outputId": "75260817-bbe9-424f-d51e-ee12b94be080"
      },
      "source": [
        "new_corpora[0:10]"
      ],
      "execution_count": null,
      "outputs": [
        {
          "output_type": "execute_result",
          "data": {
            "text/plain": [
              "['Бои у Сопоцкина и Друскеник закончились отступлением германцев',\n",
              " 'Неприятель, приблизившись с севера к Осовцу начал артиллерийскую борьбу с крепостью',\n",
              " 'В артиллерийском бою принимают участие тяжелые калибры',\n",
              " 'С раннего утра 14 сентября огонь достиг значительного напряжения',\n",
              " 'Попытка германской пехоты пробиться ближе к крепости отражена',\n",
              " 'В Галиции мы заняли Дембицу',\n",
              " 'Большая колонна, отступавшая по шоссе от Перемышля к Саноку, обстреливалась с высот нашей батареей и бежала, бросив парки, обоз и автомобили',\n",
              " 'Вылазки гарнизона Перемышля остаются безуспешными',\n",
              " 'При продолжающемся отступлении австрийцев обнаруживается полное перемешивание их частей, захватываются новые партии пленных, орудия и прочая материальная часть',\n",
              " 'На перевале Ужок мы разбили неприятельский отряд, взяли его артиллерию и много пленных и, продолжая преследовать, вступили в пределы Венгрии']"
            ]
          },
          "metadata": {
            "tags": []
          },
          "execution_count": 15
        }
      ]
    },
    {
      "cell_type": "code",
      "metadata": {
        "colab": {
          "base_uri": "https://localhost:8080/"
        },
        "id": "bZAeU9qnqZOC",
        "outputId": "a2b83682-e09b-4632-ef24-a0ccdcf491ec"
      },
      "source": [
        "!pip install ufal.udpipe"
      ],
      "execution_count": null,
      "outputs": [
        {
          "output_type": "stream",
          "text": [
            "Collecting ufal.udpipe\n",
            "\u001b[?25l  Downloading https://files.pythonhosted.org/packages/e5/72/2b8b9dc7c80017c790bb3308bbad34b57accfed2ac2f1f4ab252ff4e9cb2/ufal.udpipe-1.2.0.3.tar.gz (304kB)\n",
            "\r\u001b[K     |█                               | 10kB 14.3MB/s eta 0:00:01\r\u001b[K     |██▏                             | 20kB 14.5MB/s eta 0:00:01\r\u001b[K     |███▎                            | 30kB 10.2MB/s eta 0:00:01\r\u001b[K     |████▎                           | 40kB 8.8MB/s eta 0:00:01\r\u001b[K     |█████▍                          | 51kB 5.6MB/s eta 0:00:01\r\u001b[K     |██████▌                         | 61kB 6.1MB/s eta 0:00:01\r\u001b[K     |███████▌                        | 71kB 6.2MB/s eta 0:00:01\r\u001b[K     |████████▋                       | 81kB 6.9MB/s eta 0:00:01\r\u001b[K     |█████████▊                      | 92kB 6.3MB/s eta 0:00:01\r\u001b[K     |██████████▊                     | 102kB 5.4MB/s eta 0:00:01\r\u001b[K     |███████████▉                    | 112kB 5.4MB/s eta 0:00:01\r\u001b[K     |█████████████                   | 122kB 5.4MB/s eta 0:00:01\r\u001b[K     |██████████████                  | 133kB 5.4MB/s eta 0:00:01\r\u001b[K     |███████████████                 | 143kB 5.4MB/s eta 0:00:01\r\u001b[K     |████████████████▏               | 153kB 5.4MB/s eta 0:00:01\r\u001b[K     |█████████████████▎              | 163kB 5.4MB/s eta 0:00:01\r\u001b[K     |██████████████████▎             | 174kB 5.4MB/s eta 0:00:01\r\u001b[K     |███████████████████▍            | 184kB 5.4MB/s eta 0:00:01\r\u001b[K     |████████████████████▌           | 194kB 5.4MB/s eta 0:00:01\r\u001b[K     |█████████████████████▌          | 204kB 5.4MB/s eta 0:00:01\r\u001b[K     |██████████████████████▋         | 215kB 5.4MB/s eta 0:00:01\r\u001b[K     |███████████████████████▊        | 225kB 5.4MB/s eta 0:00:01\r\u001b[K     |████████████████████████▉       | 235kB 5.4MB/s eta 0:00:01\r\u001b[K     |█████████████████████████▉      | 245kB 5.4MB/s eta 0:00:01\r\u001b[K     |███████████████████████████     | 256kB 5.4MB/s eta 0:00:01\r\u001b[K     |████████████████████████████    | 266kB 5.4MB/s eta 0:00:01\r\u001b[K     |█████████████████████████████   | 276kB 5.4MB/s eta 0:00:01\r\u001b[K     |██████████████████████████████▏ | 286kB 5.4MB/s eta 0:00:01\r\u001b[K     |███████████████████████████████▎| 296kB 5.4MB/s eta 0:00:01\r\u001b[K     |████████████████████████████████| 307kB 5.4MB/s \n",
            "\u001b[?25hBuilding wheels for collected packages: ufal.udpipe\n",
            "  Building wheel for ufal.udpipe (setup.py) ... \u001b[?25l\u001b[?25hdone\n",
            "  Created wheel for ufal.udpipe: filename=ufal.udpipe-1.2.0.3-cp37-cp37m-linux_x86_64.whl size=5626592 sha256=a0300cbf720059dc2d357626a385da73c9b2abf4f4db86332c9707fa55989443\n",
            "  Stored in directory: /root/.cache/pip/wheels/0c/9d/db/6d3404c33da5b7adb6c6972853efb6a27649d3ba15f7e9bebb\n",
            "Successfully built ufal.udpipe\n",
            "Installing collected packages: ufal.udpipe\n",
            "Successfully installed ufal.udpipe-1.2.0.3\n"
          ],
          "name": "stdout"
        }
      ]
    },
    {
      "cell_type": "code",
      "metadata": {
        "colab": {
          "base_uri": "https://localhost:8080/"
        },
        "id": "x70ogR4Qxn7K",
        "outputId": "9e455223-55a5-4621-828e-f71c5565dce2"
      },
      "source": [
        "!pip install wget"
      ],
      "execution_count": null,
      "outputs": [
        {
          "output_type": "stream",
          "text": [
            "Collecting wget\n",
            "  Downloading https://files.pythonhosted.org/packages/47/6a/62e288da7bcda82b935ff0c6cfe542970f04e29c756b0e147251b2fb251f/wget-3.2.zip\n",
            "Building wheels for collected packages: wget\n",
            "  Building wheel for wget (setup.py) ... \u001b[?25l\u001b[?25hdone\n",
            "  Created wheel for wget: filename=wget-3.2-cp37-none-any.whl size=9681 sha256=42cd3ccdf51b5f9f75ad3f307f35f08ad26da582a06a120329a7bb35e46fcdf5\n",
            "  Stored in directory: /root/.cache/pip/wheels/40/15/30/7d8f7cea2902b4db79e3fea550d7d7b85ecb27ef992b618f3f\n",
            "Successfully built wget\n",
            "Installing collected packages: wget\n",
            "Successfully installed wget-3.2\n"
          ],
          "name": "stdout"
        }
      ]
    },
    {
      "cell_type": "code",
      "metadata": {
        "id": "Gh4aDZpixwka"
      },
      "source": [
        "import wget\n",
        "import sys\n",
        "udpipe_url = 'https://rusvectores.org/static/models/udpipe_syntagrus.model'\n",
        "modelfile = wget.download(udpipe_url)"
      ],
      "execution_count": null,
      "outputs": []
    },
    {
      "cell_type": "code",
      "metadata": {
        "id": "UYJ2SPs5yQ_N"
      },
      "source": [
        "def process(pipeline, text='Строка', keep_pos=True, keep_punct=False):\n",
        "   entities = {'PROPN'}\n",
        "   named = False  # переменная для запоминания того, что нам встретилось имя собственное\n",
        "   memory = []\n",
        "   mem_case = None\n",
        "   mem_number = None\n",
        "   tagged_propn = []\n",
        "# обрабатываем текст, получаем результат в формате conllu:\n",
        "   processed = pipeline.process(text)\n",
        "# пропускаем строки со служебной информацией:\n",
        "   content = [l for l in processed.split('\\n') if not l.startswith('#')]\n",
        "# извлекаем из обработанного текста леммы, тэги и морфологические характеристики\n",
        "   tagged = [w.split('\\t') for w in content if w]\n",
        "   for t in tagged:\n",
        "       if len(t) != 10: # если список короткий — строчка не содержит разбора, пропускаем\n",
        "           continue\n",
        "       (word_id,token,lemma,pos,xpos,feats,head,deprel,deps,misc) = t \n",
        "       if not lemma or not token: # если слово пустое — пропускаем\n",
        "           continue\n",
        "       if pos in entities: # здесь отдельно обрабатываем имена собственные — они требуют особого обращения\n",
        "           if '|' not in feats:\n",
        "               tagged_propn.append('%s_%s_%s_%s_%s_%s' % (word_id, token, lemma, pos, head, deprel))\n",
        "               continue\n",
        "           morph = {el.split('=')[0]: el.split('=')[1] for el in feats.split('|')}\n",
        "           if 'Case' not in morph or 'Number' not in morph:\n",
        "               tagged_propn.append('%s_%s_%s_%s_%s_%s' % (word_id, token, lemma, pos, head, deprel))\n",
        "               continue\n",
        "           if not named:\n",
        "               named = True\n",
        "               mem_case = morph['Case']\n",
        "               mem_number = morph['Number']\n",
        "           if morph['Case'] == mem_case and morph['Number'] == mem_number:\n",
        "               memory.append(lemma)\n",
        "               if 'SpacesAfter=\\\\n' in misc or 'SpacesAfter=\\s\\\\n' in misc:\n",
        "                   named = False\n",
        "                   past_lemma = '::'.join(memory)\n",
        "                   memory = []\n",
        "                   tagged_propn.append(past_lemma + '_PROPN ')\n",
        "           else:\n",
        "               named = False\n",
        "               past_lemma = '::'.join(memory)\n",
        "               memory = []\n",
        "               tagged_propn.append(past_lemma + '_PROPN ')\n",
        "               tagged_propn.append('%s_%s_%s_%s_%s_%s' % (word_id, token, lemma, pos, head, deprel))\n",
        "       else:\n",
        "           if not named:\n",
        "               tagged_propn.append('%s_%s_%s_%s_%s_%s' % (word_id, token, lemma, pos, head, deprel))\n",
        "           else:\n",
        "               named = False\n",
        "               past_lemma = '::'.join(memory)\n",
        "               memory = []\n",
        "               tagged_propn.append(past_lemma + '_PROPN ')\n",
        "               tagged_propn.append('%s_%s_%s_%s_%s_%s' % (word_id, token, lemma, pos, head, deprel))\n",
        "   if not keep_punct: # обрабатываем случай, когда пользователь попросил не сохранять пунктуацию (по умолчанию она сохраняется)\n",
        "       tagged_propn = [word for word in tagged_propn if word.split('_')[1] != 'PUNCT']\n",
        "   if not keep_pos:\n",
        "       tagged_propn = [word.split('_')[0] for word in tagged_propn]\n",
        "   return tagged_propn"
      ],
      "execution_count": null,
      "outputs": []
    },
    {
      "cell_type": "code",
      "metadata": {
        "id": "rhBa9_Xozs02",
        "colab": {
          "base_uri": "https://localhost:8080/",
          "height": 350
        },
        "outputId": "7b9797e5-d8c8-46fc-e438-b36dcd248cc8"
      },
      "source": [
        "from ufal.udpipe import Model, Pipeline\n",
        "import os\n",
        "import re\n",
        "def tag_ud(text='Текст нужно передать функции в виде строки!', modelfile='udpipe_syntagrus.model'):\n",
        "   udpipe_model_url = 'https://rusvectores.org/static/models/udpipe_syntagrus.model'\n",
        "   udpipe_filename = udpipe_model_url.split('/')[-1]\n",
        "   if not os.path.isfile(modelfile):\n",
        "       print('UDPipe model not found. Downloading...', file=sys.stderr)\n",
        "       wget.download(udpipe_model_url)\n",
        "   #print('\\nLoading the model...', file=sys.stderr)\n",
        "   model = Model.load(modelfile)\n",
        "   process_pipeline = Pipeline(model, 'tokenize', Pipeline.DEFAULT, Pipeline.DEFAULT, 'conllu')\n",
        "   #print('Processing input...', file=sys.stderr)\n",
        "   lines = text.split('\\n')\n",
        "   tagged = []\n",
        "   for line in lines:\n",
        "# line = unify_sym(line.strip()) # здесь могла бы быть ваша функция очистки текста\n",
        "       output = process(process_pipeline, text=line)\n",
        "       tagged_line = ' '.join(output)\n",
        "       tagged.append(tagged_line)\n",
        "   return '\\n'.join(tagged)\n",
        "text = new_corpora[38667:40000]\n",
        "for sentence in text:\n",
        "   processed_text = tag_ud(text=sentence, modelfile=modelfile)\n",
        "   #print(processed_text[:350])\n",
        "   with open('my_text.txt', 'a', encoding='utf-8') as out:\n",
        "       out.write(processed_text + '\\n')"
      ],
      "execution_count": null,
      "outputs": [
        {
          "output_type": "error",
          "ename": "KeyboardInterrupt",
          "evalue": "ignored",
          "traceback": [
            "\u001b[0;31m---------------------------------------------------------------------------\u001b[0m",
            "\u001b[0;31mKeyboardInterrupt\u001b[0m                         Traceback (most recent call last)",
            "\u001b[0;32m<ipython-input-22-25222b1f6744>\u001b[0m in \u001b[0;36m<module>\u001b[0;34m()\u001b[0m\n\u001b[1;32m     22\u001b[0m \u001b[0mtext\u001b[0m \u001b[0;34m=\u001b[0m \u001b[0mnew_corpora\u001b[0m\u001b[0;34m[\u001b[0m\u001b[0;36m33528\u001b[0m\u001b[0;34m:\u001b[0m\u001b[0;36m40000\u001b[0m\u001b[0;34m]\u001b[0m\u001b[0;34m\u001b[0m\u001b[0;34m\u001b[0m\u001b[0m\n\u001b[1;32m     23\u001b[0m \u001b[0;32mfor\u001b[0m \u001b[0msentence\u001b[0m \u001b[0;32min\u001b[0m \u001b[0mtext\u001b[0m\u001b[0;34m:\u001b[0m\u001b[0;34m\u001b[0m\u001b[0;34m\u001b[0m\u001b[0m\n\u001b[0;32m---> 24\u001b[0;31m    \u001b[0mprocessed_text\u001b[0m \u001b[0;34m=\u001b[0m \u001b[0mtag_ud\u001b[0m\u001b[0;34m(\u001b[0m\u001b[0mtext\u001b[0m\u001b[0;34m=\u001b[0m\u001b[0msentence\u001b[0m\u001b[0;34m,\u001b[0m \u001b[0mmodelfile\u001b[0m\u001b[0;34m=\u001b[0m\u001b[0mmodelfile\u001b[0m\u001b[0;34m)\u001b[0m\u001b[0;34m\u001b[0m\u001b[0;34m\u001b[0m\u001b[0m\n\u001b[0m\u001b[1;32m     25\u001b[0m    \u001b[0;31m#print(processed_text[:350])\u001b[0m\u001b[0;34m\u001b[0m\u001b[0;34m\u001b[0m\u001b[0;34m\u001b[0m\u001b[0m\n\u001b[1;32m     26\u001b[0m    \u001b[0;32mwith\u001b[0m \u001b[0mopen\u001b[0m\u001b[0;34m(\u001b[0m\u001b[0;34m'my_text.txt'\u001b[0m\u001b[0;34m,\u001b[0m \u001b[0;34m'a'\u001b[0m\u001b[0;34m,\u001b[0m \u001b[0mencoding\u001b[0m\u001b[0;34m=\u001b[0m\u001b[0;34m'utf-8'\u001b[0m\u001b[0;34m)\u001b[0m \u001b[0;32mas\u001b[0m \u001b[0mout\u001b[0m\u001b[0;34m:\u001b[0m\u001b[0;34m\u001b[0m\u001b[0;34m\u001b[0m\u001b[0m\n",
            "\u001b[0;32m<ipython-input-22-25222b1f6744>\u001b[0m in \u001b[0;36mtag_ud\u001b[0;34m(text, modelfile)\u001b[0m\n\u001b[1;32m      9\u001b[0m        \u001b[0mwget\u001b[0m\u001b[0;34m.\u001b[0m\u001b[0mdownload\u001b[0m\u001b[0;34m(\u001b[0m\u001b[0mudpipe_model_url\u001b[0m\u001b[0;34m)\u001b[0m\u001b[0;34m\u001b[0m\u001b[0;34m\u001b[0m\u001b[0m\n\u001b[1;32m     10\u001b[0m    \u001b[0;31m#print('\\nLoading the model...', file=sys.stderr)\u001b[0m\u001b[0;34m\u001b[0m\u001b[0;34m\u001b[0m\u001b[0;34m\u001b[0m\u001b[0m\n\u001b[0;32m---> 11\u001b[0;31m    \u001b[0mmodel\u001b[0m \u001b[0;34m=\u001b[0m \u001b[0mModel\u001b[0m\u001b[0;34m.\u001b[0m\u001b[0mload\u001b[0m\u001b[0;34m(\u001b[0m\u001b[0mmodelfile\u001b[0m\u001b[0;34m)\u001b[0m\u001b[0;34m\u001b[0m\u001b[0;34m\u001b[0m\u001b[0m\n\u001b[0m\u001b[1;32m     12\u001b[0m    \u001b[0mprocess_pipeline\u001b[0m \u001b[0;34m=\u001b[0m \u001b[0mPipeline\u001b[0m\u001b[0;34m(\u001b[0m\u001b[0mmodel\u001b[0m\u001b[0;34m,\u001b[0m \u001b[0;34m'tokenize'\u001b[0m\u001b[0;34m,\u001b[0m \u001b[0mPipeline\u001b[0m\u001b[0;34m.\u001b[0m\u001b[0mDEFAULT\u001b[0m\u001b[0;34m,\u001b[0m \u001b[0mPipeline\u001b[0m\u001b[0;34m.\u001b[0m\u001b[0mDEFAULT\u001b[0m\u001b[0;34m,\u001b[0m \u001b[0;34m'conllu'\u001b[0m\u001b[0;34m)\u001b[0m\u001b[0;34m\u001b[0m\u001b[0;34m\u001b[0m\u001b[0m\n\u001b[1;32m     13\u001b[0m    \u001b[0;31m#print('Processing input...', file=sys.stderr)\u001b[0m\u001b[0;34m\u001b[0m\u001b[0;34m\u001b[0m\u001b[0;34m\u001b[0m\u001b[0m\n",
            "\u001b[0;31mKeyboardInterrupt\u001b[0m: "
          ]
        }
      ]
    },
    {
      "cell_type": "code",
      "metadata": {
        "id": "NGbS5w8jaE_r"
      },
      "source": [
        "import nltk"
      ],
      "execution_count": 113,
      "outputs": []
    },
    {
      "cell_type": "code",
      "metadata": {
        "id": "di7f3w9ZatJw",
        "colab": {
          "base_uri": "https://localhost:8080/"
        },
        "outputId": "e75a4e11-0578-4a12-cff9-b8cededeb11c"
      },
      "source": [
        "nltk.download('punkt')"
      ],
      "execution_count": 114,
      "outputs": [
        {
          "output_type": "stream",
          "text": [
            "[nltk_data] Downloading package punkt to /root/nltk_data...\n",
            "[nltk_data]   Package punkt is already up-to-date!\n"
          ],
          "name": "stdout"
        },
        {
          "output_type": "execute_result",
          "data": {
            "text/plain": [
              "True"
            ]
          },
          "metadata": {
            "tags": []
          },
          "execution_count": 114
        }
      ]
    },
    {
      "cell_type": "code",
      "metadata": {
        "id": "EQO9mUQhkSre"
      },
      "source": [
        " new_corpora = open(\"my_text (9).txt\", encoding=\"UTF-8\", errors='ignore')"
      ],
      "execution_count": 115,
      "outputs": []
    },
    {
      "cell_type": "code",
      "metadata": {
        "id": "szLXqVvzaIg7"
      },
      "source": [
        "tokens=[]\n",
        "for sentence in new_corpora:\n",
        "  tokens.append(nltk.word_tokenize(sentence))"
      ],
      "execution_count": 116,
      "outputs": []
    },
    {
      "cell_type": "code",
      "metadata": {
        "id": "d0I63eV-eAeS",
        "colab": {
          "base_uri": "https://localhost:8080/"
        },
        "outputId": "c0dc4bb6-fe4a-4536-bb76-4fb16ce30f67"
      },
      "source": [
        "tokens[0:10]"
      ],
      "execution_count": 117,
      "outputs": [
        {
          "output_type": "execute_result",
          "data": {
            "text/plain": [
              "[['1_Бои_бой_NOUN_6_nsubj',\n",
              "  '2_у_в_ADP_3_case',\n",
              "  'Сопоцкин_PROPN',\n",
              "  '4_и_и_CCONJ_5_cc',\n",
              "  'Друскеник_PROPN',\n",
              "  '6_закончились_заканчиваться_VERB_0_root',\n",
              "  '7_отступлением_отступление_NOUN_6_obl',\n",
              "  '8_германцев_германец_NOUN_7_nmod'],\n",
              " ['1_Неприятель_неприятель_NOUN_8_nsubj',\n",
              "  '2_',\n",
              "  ',',\n",
              "  '_',\n",
              "  ',',\n",
              "  '_PUNCT_1_punct',\n",
              "  '3_приблизившись_приближаться_VERB_8_advcl',\n",
              "  '4_с_с_ADP_5_case',\n",
              "  '5_севера_север_NOUN_3_obl',\n",
              "  '6_к_к_ADP_7_case',\n",
              "  'Осовц_PROPN',\n",
              "  '8_начал_начинать_VERB_0_root',\n",
              "  '9_артиллерийскую_артиллерийский_ADJ_10_amod',\n",
              "  '10_борьбу_борьба_NOUN_8_obj',\n",
              "  '11_с_с_ADP_12_case',\n",
              "  '12_крепостью_крепость_NOUN_10_nmod'],\n",
              " ['1_В_в_ADP_3_case',\n",
              "  '2_артиллерийском_артиллерийский_ADJ_3_amod',\n",
              "  '3_бою_бой_NOUN_4_obl',\n",
              "  '4_принимают_принимать_VERB_0_root',\n",
              "  '5_участие_участие_NOUN_4_obj',\n",
              "  '6_тяжелые_тяжелый_ADJ_7_amod',\n",
              "  '7_калибры_калибр_NOUN_5_obj'],\n",
              " ['1_С_с_ADP_3_case',\n",
              "  '2_раннего_ранний_ADJ_3_amod',\n",
              "  '3_утра_утро_NOUN_7_obl',\n",
              "  '4_14_14_NUM_7_nummod',\n",
              "  '5_сентября_сентябрь_NOUN_4_flat',\n",
              "  '6_огонь_огонь_NOUN_7_nsubj',\n",
              "  '7_достиг_достигать_VERB_0_root',\n",
              "  '8_значительного_значительный_ADJ_9_amod',\n",
              "  '9_напряжения_напряжение_NOUN_7_obl'],\n",
              " ['попытка_PROPN',\n",
              "  '2_германской_германский_ADJ_3_amod',\n",
              "  '3_пехоты_пехота_NOUN_1_nmod',\n",
              "  '4_пробиться_пробиваться_VERB_1_obl',\n",
              "  '5_ближе_близко_ADJ_4_obl',\n",
              "  '6_к_к_ADP_7_case',\n",
              "  '7_крепости_крепость_NOUN_5_obl',\n",
              "  '8_отражена_отражать_VERB_0_root'],\n",
              " ['1_В_в_ADP_2_case',\n",
              "  'галиция_PROPN',\n",
              "  '3_мы_мы_PRON_4_nsubj',\n",
              "  '4_заняли_занимать_VERB_0_root',\n",
              "  'Дембиц_PROPN'],\n",
              " ['1_Большая_большой_ADJ_2_amod',\n",
              "  '2_колонна_колонна_NOUN_12_nsubj',\n",
              "  '3_',\n",
              "  ',',\n",
              "  '_',\n",
              "  ',',\n",
              "  '_PUNCT_2_punct',\n",
              "  '4_отступавшая_отступать_VERB_2_acl',\n",
              "  '5_по_по_ADP_6_case',\n",
              "  '6_шоссе_шоссе_NOUN_4_obl',\n",
              "  '7_от_от_ADP_8_case',\n",
              "  'перемышль_PROPN',\n",
              "  '9_к_к_ADP_10_case',\n",
              "  'Санок_PROPN',\n",
              "  '11_',\n",
              "  ',',\n",
              "  '_',\n",
              "  ',',\n",
              "  '_PUNCT_10_punct',\n",
              "  '12_обстреливалась_обстреливаться_VERB_0_root',\n",
              "  '13_с_с_ADP_14_case',\n",
              "  '14_высот_высота_NOUN_12_obl',\n",
              "  '15_нашей_наш_DET_16_det',\n",
              "  '16_батареей_батарея_NOUN_14_nmod',\n",
              "  '17_и_и_CCONJ_18_cc',\n",
              "  '18_бежала_бежать_VERB_12_conj',\n",
              "  '19_',\n",
              "  ',',\n",
              "  '_',\n",
              "  ',',\n",
              "  '_PUNCT_18_punct',\n",
              "  '20_бросив_бросить_VERB_18_advcl',\n",
              "  '21_парки_парк_NOUN_20_obj',\n",
              "  '22_',\n",
              "  ',',\n",
              "  '_',\n",
              "  ',',\n",
              "  '_PUNCT_21_punct',\n",
              "  '23_обоз_обоз_NOUN_21_conj',\n",
              "  '24_и_и_CCONJ_25_cc',\n",
              "  '25_автомобили_автомобиль_NOUN_21_conj'],\n",
              " ['1_Вылазки_вылазка_NOUN_4_nsubj',\n",
              "  '2_гарнизона_гарнизон_NOUN_1_nmod',\n",
              "  'перемышль_PROPN',\n",
              "  '4_остаются_оставаться_VERB_0_root',\n",
              "  '5_безуспешными_безуспешный_ADJ_4_obl'],\n",
              " ['1_При_при_ADP_3_case',\n",
              "  '2_продолжающемся_продолжающться_VERB_3_amod',\n",
              "  '3_отступлении_отступление_NOUN_5_obl',\n",
              "  '4_австрийцев_австриец_NOUN_3_nmod',\n",
              "  '5_обнаруживается_обнаруживать_VERB_0_root',\n",
              "  '6_полное_полный_ADJ_7_amod',\n",
              "  '7_перемешивание_перемешивание_NOUN_5_nsubj',\n",
              "  '8_их_они_PRON_9_nmod',\n",
              "  '9_частей_часть_NOUN_7_nmod',\n",
              "  '10_',\n",
              "  ',',\n",
              "  '_',\n",
              "  ',',\n",
              "  '_PUNCT_9_punct',\n",
              "  '11_захватываются_захватывать_VERB_5_conj',\n",
              "  '12_новые_новый_ADJ_13_amod',\n",
              "  '13_партии_партия_NOUN_11_nsubj',\n",
              "  ':',\n",
              "  'pass',\n",
              "  '14_пленных_пленный_NOUN_13_nmod',\n",
              "  '15_',\n",
              "  ',',\n",
              "  '_',\n",
              "  ',',\n",
              "  '_PUNCT_14_punct',\n",
              "  '16_орудия_орудие_NOUN_13_conj',\n",
              "  '17_и_и_CCONJ_20_cc',\n",
              "  '18_прочая_прочий_ADJ_20_amod',\n",
              "  '19_материальная_материальный_ADJ_20_amod',\n",
              "  '20_часть_часть_NOUN_13_conj'],\n",
              " ['1_На_на_ADP_2_case',\n",
              "  '2_перевале_перевал_NOUN_5_obl',\n",
              "  'Ужок_PROPN',\n",
              "  '4_мы_мы_PRON_5_nsubj',\n",
              "  '5_разбили_разбивать_VERB_0_root',\n",
              "  '6_неприятельский_неприятельский_ADJ_7_amod',\n",
              "  '7_отряд_отряд_NOUN_5_obj',\n",
              "  '8_',\n",
              "  ',',\n",
              "  '_',\n",
              "  ',',\n",
              "  '_PUNCT_7_punct',\n",
              "  '9_взяли_брать_VERB_5_conj',\n",
              "  '10_его_он_PRON_11_nmod',\n",
              "  '11_артиллерию_артиллерия_NOUN_9_obj',\n",
              "  '12_и_и_CCONJ_13_cc',\n",
              "  '13_много_много_ADV_5_conj',\n",
              "  '14_пленных_пленный_ADJ_13_obl',\n",
              "  '15_и_и_CCONJ_20_cc',\n",
              "  '16_',\n",
              "  ',',\n",
              "  '_',\n",
              "  ',',\n",
              "  '_PUNCT_15_punct',\n",
              "  '17_продолжая_продолжать_VERB_20_advcl',\n",
              "  '18_преследовать_преследовать_VERB_17_xcomp',\n",
              "  '19_',\n",
              "  ',',\n",
              "  '_',\n",
              "  ',',\n",
              "  '_PUNCT_18_punct',\n",
              "  '20_вступили_вступать_VERB_13_conj',\n",
              "  '21_в_в_ADP_22_case',\n",
              "  '22_пределы_предел_NOUN_20_obl',\n",
              "  'венгрия_PROPN']]"
            ]
          },
          "metadata": {
            "tags": []
          },
          "execution_count": 117
        }
      ]
    },
    {
      "cell_type": "code",
      "metadata": {
        "id": "-ml532Zfg9I1",
        "colab": {
          "base_uri": "https://localhost:8080/"
        },
        "outputId": "5075ea9f-1adf-4637-a209-e0b6ba48dcab"
      },
      "source": [
        "law_corpora=[]\n",
        "for sentence in tokens:\n",
        "  for token in sentence:\n",
        "    if \"_судья_\" in token:\n",
        "      if sentence not in law_corpora:\n",
        "        law_corpora.append(sentence)\n",
        "    elif \"_адвокат_\" in token:\n",
        "      if sentence not in law_corpora:\n",
        "        law_corpora.append(sentence)\n",
        "    elif \"_прокурор_\" in token:\n",
        "      if sentence not in law_corpora:\n",
        "        law_corpora.append(sentence)\n",
        "    else:\n",
        "      pass\n",
        "print(len(law_corpora))"
      ],
      "execution_count": 118,
      "outputs": [
        {
          "output_type": "stream",
          "text": [
            "2602\n"
          ],
          "name": "stdout"
        }
      ]
    },
    {
      "cell_type": "code",
      "metadata": {
        "id": "80Rh5PVLh4JQ",
        "colab": {
          "base_uri": "https://localhost:8080/"
        },
        "outputId": "54da0937-3a0b-4aa4-f5d2-8d967bbadddd"
      },
      "source": [
        "law_corpora[0:10]"
      ],
      "execution_count": 119,
      "outputs": [
        {
          "output_type": "execute_result",
          "data": {
            "text/plain": [
              "[['1_Швейцарский_швейцарский_ADJ_3_amod',\n",
              "  '2_федеральный_федеральный_ADJ_3_amod',\n",
              "  '3_прокурор_прокурор_NOUN_7_nsubj',\n",
              "  'карла_PROPN',\n",
              "  '5_дель_дель_PART_7_advmod',\n",
              "  '6_Понти_Понти_NUM_5_nummod',\n",
              "  '7_заявила_заявлять_VERB_0_root',\n",
              "  '8_',\n",
              "  ',',\n",
              "  '_',\n",
              "  ',',\n",
              "  '_PUNCT_7_punct',\n",
              "  '9_что_что_SCONJ_11_mark',\n",
              "  'Беллази_PROPN',\n",
              "  '11_работал_работать_VERB_7_ccomp',\n",
              "  '12_на_на_ADP_13_case',\n",
              "  '13_шефа_шеф_NOUN_11_obl',\n",
              "  '14_разведывательной_разведывательный_ADJ_15_amod',\n",
              "  '15_службы_служба_NOUN_13_nmod',\n",
              "  'питер',\n",
              "  ':',\n",
              "  ':Рейли_PROPN',\n",
              "  '18_и_и_CCONJ_19_cc',\n",
              "  '19_получил_получать_VERB_11_conj',\n",
              "  '20_5,8_5,8_NUM_21_nummod',\n",
              "  '21_миллионов_миллион_NOUN_19_obl',\n",
              "  '22_долларов_доллар_NOUN_21_nmod',\n",
              "  '23_от_от_ADP_24_case',\n",
              "  '24_министерства_министерство_NOUN_19_obl',\n",
              "  '25_обороны_оборона_NOUN_24_nmod',\n",
              "  '26_для_для_ADP_27_case',\n",
              "  '27_покупки_покупка_NOUN_24_nmod',\n",
              "  '28_огромного_огромный_ADJ_29_amod',\n",
              "  '29_количества_количество_NOUN_27_nmod',\n",
              "  '30_оружия_оружие_NOUN_29_nmod'],\n",
              " ['1_Адвокат_адвокат_NOUN_5_nsubj',\n",
              "  'Беллази',\n",
              "  ':',\n",
              "  ':андре_PROPN',\n",
              "  '4_Седу_Сед_PROPN_3_flat',\n",
              "  ':',\n",
              "  'name',\n",
              "  '5_заявил_заявлять_VERB_0_root',\n",
              "  '6_',\n",
              "  ',',\n",
              "  '_',\n",
              "  ',',\n",
              "  '_PUNCT_5_punct',\n",
              "  '7_что_что_SCONJ_10_mark',\n",
              "  '8_его_он_PRON_9_nmod',\n",
              "  '9_клиент_клиент_NOUN_10_nsubj',\n",
              "  '10_отверг_отвергать_VERB_5_ccomp',\n",
              "  '11_эти_этот_DET_12_det',\n",
              "  '12_обвинения_обвинение_NOUN_10_obj'],\n",
              " ['карла_PROPN',\n",
              "  '2_дель_дель_PART_3_advmod',\n",
              "  '3_Понти_Понти_NUM_1_nummod',\n",
              "  '4_',\n",
              "  ',',\n",
              "  '_',\n",
              "  ',',\n",
              "  '_PUNCT_3_punct',\n",
              "  '5_недавно_недавно_ADV_6_advmod',\n",
              "  '6_ставшая_становиться_VERB_1_acl',\n",
              "  '7_прокурором_прокурор_NOUN_6_obl',\n",
              "  '8_Международного_международный_ADJ_9_amod',\n",
              "  'трибунал',\n",
              "  ':',\n",
              "  ':оон_PROPN',\n",
              "  '11_по_по_ADP_13_case',\n",
              "  '12_военным_военный_ADJ_13_amod',\n",
              "  '13_преступлениям_преступление_NOUN_9_nmod',\n",
              "  '14_',\n",
              "  ',',\n",
              "  '_',\n",
              "  ',',\n",
              "  '_PUNCT_13_punct',\n",
              "  '15_заявила_заявлять_VERB_26_nsubj',\n",
              "  ':',\n",
              "  'pass',\n",
              "  '16_',\n",
              "  ',',\n",
              "  '_',\n",
              "  ',',\n",
              "  '_PUNCT_15_punct',\n",
              "  '17_что_что_SCONJ_20_mark',\n",
              "  '18_дело_дело_NOUN_20_nsubj',\n",
              "  '19_против_против_ADP_20_case',\n",
              "  'Рейли_PROPN',\n",
              "  '21_и_и_CCONJ_25_cc',\n",
              "  '22_еще_еще_ADV_23_advmod',\n",
              "  '23_троих_трое_NUM_25_nummod',\n",
              "  ':',\n",
              "  'gov',\n",
              "  '24_высокопоставленных_высокопоставленный_ADJ_25_amod',\n",
              "  '25_чиновников_чиновник_NOUN_20_conj',\n",
              "  '26_закрыто_закрывать_VERB_0_root'],\n",
              " ['1_Федеральный_федеральный_ADJ_2_amod',\n",
              "  '2_прокурор_прокурор_NOUN_3_nsubj',\n",
              "  '3_добавила_добавлять_VERB_0_root',\n",
              "  '4_',\n",
              "  ',',\n",
              "  '_',\n",
              "  ',',\n",
              "  '_PUNCT_3_punct',\n",
              "  '5_что_что_SCONJ_8_mark',\n",
              "  '6_расследование_расследование_NOUN_8_nsubj',\n",
              "  '7_будет_быть_AUX_8_aux',\n",
              "  ':',\n",
              "  'pass',\n",
              "  '8_продолжено_продолжить_VERB_3_ccomp',\n",
              "  '9_в_в_ADP_11_case',\n",
              "  '10_отношении_отношение_NOUN_9_fixed',\n",
              "  'Фред',\n",
              "  ':',\n",
              "  ':Шрайер_PROPN',\n",
              "  '13_',\n",
              "  ',',\n",
              "  '_',\n",
              "  ',',\n",
              "  '_PUNCT_12_punct',\n",
              "  '14_шефа_шеф_NOUN_11_conj',\n",
              "  '15_стратегической_стратегический_ADJ_17_amod',\n",
              "  '16_информационной_информационный_ADJ_17_amod',\n",
              "  '17_службы_служба_NOUN_14_nmod',\n",
              "  '18_',\n",
              "  ',',\n",
              "  '_',\n",
              "  ',',\n",
              "  '_PUNCT_17_punct',\n",
              "  '19_которая_который_PRON_20_nsubj',\n",
              "  '20_возникла_возникать_VERB_17_acl',\n",
              "  ':',\n",
              "  'relcl',\n",
              "  '21_в_в_ADP_22_case',\n",
              "  '22_документах_документ_NOUN_20_obl',\n",
              "  '23_по_по_ADP_24_case',\n",
              "  '24_делу_дело_NOUN_22_nmod',\n",
              "  'Беллази_PROPN'],\n",
              " ['1_Бывший_бывший_ADJ_3_amod',\n",
              "  '2_генеральный_генеральный_ADJ_3_amod',\n",
              "  '3_прокурор_прокурор_NOUN_7_nsubj',\n",
              "  'рф_PROPN',\n",
              "  '5_Юрий_юрий_PROPN_3_appos',\n",
              "  'Скуратов_PROPN',\n",
              "  '7_считает_считать_VERB_0_root',\n",
              "  '8_',\n",
              "  ',',\n",
              "  '_',\n",
              "  ',',\n",
              "  '_PUNCT_7_punct',\n",
              "  '9_что_что_SCONJ_15_mark',\n",
              "  '10_ближайшее_близкий_ADJ_11_amod',\n",
              "  '11_окружение_окружение_NOUN_15_nsubj',\n",
              "  '12_президента_президент_NOUN_11_nmod',\n",
              "  'борис',\n",
              "  ':',\n",
              "  ':ельцин_PROPN',\n",
              "  '15_попытается_пытаться_VERB_7_ccomp',\n",
              "  '16_воспрепятствовать_препятствовать_VERB_15_xcomp',\n",
              "  '17_серьезному_серьезный_ADJ_18_amod',\n",
              "  '18_расследованию_расследование_NOUN_16_iobj',\n",
              "  '19_ситуации_ситуация_NOUN_18_nmod',\n",
              "  '20_',\n",
              "  ',',\n",
              "  '_',\n",
              "  ',',\n",
              "  '_PUNCT_19_punct',\n",
              "  '21_связанной_связывать_VERB_19_acl',\n",
              "  '22_с_с_ADP_23_case',\n",
              "  '23_Bank_bank_PROPN_21_flat',\n",
              "  ':',\n",
              "  'foreign',\n",
              "  '24_of_of_X_23_flat',\n",
              "  ':',\n",
              "  'foreign',\n",
              "  '25_New_new_PROPN_24_flat',\n",
              "  ':',\n",
              "  'foreign',\n",
              "  '26_York_york_PROPN_25_flat',\n",
              "  ':',\n",
              "  'foreign',\n",
              "  '27_',\n",
              "  ',',\n",
              "  '_',\n",
              "  ',',\n",
              "  '_PUNCT_26_punct',\n",
              "  '28_через_через_ADP_29_case',\n",
              "  '29_который_который_PRON_30_obl',\n",
              "  '30_отмывались_отмываться_VERB_21_acl',\n",
              "  ':',\n",
              "  'relcl',\n",
              "  '31_деньги_деньги_NOUN_30_nsubj',\n",
              "  '32_',\n",
              "  ',',\n",
              "  '_',\n",
              "  ',',\n",
              "  '_PUNCT_31_punct',\n",
              "  '33_полученные_получать_VERB_31_acl',\n",
              "  '34_от_от_ADP_35_case',\n",
              "  'мвф_PROPN'],\n",
              " ['1_Мои_мой_DET_2_det',\n",
              "  '2_адвокаты_адвокат_NOUN_3_nsubj',\n",
              "  '3_изучают_изучать_VERB_0_root',\n",
              "  '4_документы_документ_NOUN_3_obj',\n",
              "  '5_',\n",
              "  ',',\n",
              "  '_',\n",
              "  ',',\n",
              "  '_PUNCT_4_punct',\n",
              "  '6_чтобы_чтобы_SCONJ_7_mark',\n",
              "  '7_обратиться_обращаться_VERB_3_advcl',\n",
              "  '8_в_в_ADP_9_case',\n",
              "  '9_суд_суд_NOUN_7_obl'],\n",
              " ['1_Сумма_сумма_NOUN_8_nsubj',\n",
              "  ':',\n",
              "  'pass',\n",
              "  '2_возмещения_возмещение_NOUN_1_nmod',\n",
              "  '3_ущерба_ущерб_NOUN_2_nmod',\n",
              "  '4_по_по_ADP_5_case',\n",
              "  '5_искам_иск_NOUN_3_nmod',\n",
              "  '6_в_в_ADP_7_case',\n",
              "  '7_настоящее_настоящий_ADJ_3_obl',\n",
              "  '8_времяопределяется_времяопределяться_VERB_0_root',\n",
              "  '9_адвокатами_адвокат_NOUN_8_obl',\n",
              "  '10_и_и_CCONJ_11_cc',\n",
              "  '11_юристами_юрист_NOUN_9_conj',\n",
              "  '12_',\n",
              "  ',',\n",
              "  '_',\n",
              "  ',',\n",
              "  '_PUNCT_11_punct',\n",
              "  '13_занимающимися_заниматься_VERB_15_amod',\n",
              "  '14_подготовкойисковых_подготовкойисковый_ADJ_15_amod',\n",
              "  '15_заявлений_заявление_NOUN_9_conj'],\n",
              " ['1_Но_но_CCONJ_6_cc',\n",
              "  '2_окружной_окружной_ADJ_3_amod',\n",
              "  '3_судья_судья_NOUN_6_nsubj',\n",
              "  'Нэнси',\n",
              "  ':',\n",
              "  ':Эдмунс_PROPN',\n",
              "  '6_решила_решать_VERB_0_root',\n",
              "  '7_дело_дело_NOUN_6_obj',\n",
              "  '8_в_в_ADP_9_case',\n",
              "  '9_пользу_польза_NOUN_6_obl',\n",
              "  '10_web_веб_NOUN_9_nmod',\n",
              "  '11_-издательства_-издательствый_NOUN_10_nmod',\n",
              "  '12_',\n",
              "  ':',\n",
              "  '_',\n",
              "  ':',\n",
              "  '_PUNCT_11_punct',\n",
              "  '13_она_она_PRON_14_nsubj',\n",
              "  '14_отвергла_отвергать_VERB_6_conj',\n",
              "  '15_требование_требование_NOUN_14_obj',\n",
              "  '16_в_в_ADP_18_case',\n",
              "  '17_судебном_судебный_ADJ_18_amod',\n",
              "  '18_порядке_порядок_NOUN_15_nmod',\n",
              "  '19_запретить_запрещать_VERB_15_obl',\n",
              "  'Лэйн_PROPN',\n",
              "  '21_публикацию_публикация_NOUN_19_obj',\n",
              "  '22_секретных_секретный_ADJ_23_amod',\n",
              "  '23_документов_документ_NOUN_21_nmod',\n",
              "  '24_',\n",
              "  ',',\n",
              "  '_',\n",
              "  ',',\n",
              "  '_PUNCT_23_punct',\n",
              "  '25_поскольку_поскольку_SCONJ_28_mark',\n",
              "  '26_такой_такой_DET_27_det',\n",
              "  '27_запрет_запрет_NOUN_28_nsubj',\n",
              "  '28_нарушал_нарушать_VERB_14_advcl',\n",
              "  '29_бы_бы_PART_28_aux',\n",
              "  '30_свободу_свобода_NOUN_28_obj',\n",
              "  '31_слова_слово_NOUN_30_nmod'],\n",
              " ['1_Однако_однако_ADV_5_advmod',\n",
              "  '2_судья_судья_NOUN_5_nsubj',\n",
              "  '3_все_все_PART_5_advmod',\n",
              "  '4_же_же_PART_3_fixed',\n",
              "  '5_вынесла_выносить_VERB_0_root',\n",
              "  '6_постановление_постановление_NOUN_5_advcl',\n",
              "  '7_',\n",
              "  ',',\n",
              "  '_',\n",
              "  ',',\n",
              "  '_PUNCT_6_punct',\n",
              "  '8_связанное_связывать_VERB_6_acl',\n",
              "  '9_с_с_ADP_10_case',\n",
              "  '10_тем_то_PRON_8_obl',\n",
              "  '11_',\n",
              "  ',',\n",
              "  '_',\n",
              "  ',',\n",
              "  '_PUNCT_10_punct',\n",
              "  '12_что_что_SCONJ_14_mark',\n",
              "  'Лэйн_PROPN',\n",
              "  '14_нарушил_нарушать_VERB_10_acl',\n",
              "  '15_копирайт_копирайт_NOUN_14_obj',\n",
              "  '16_компании_компания_NOUN_15_nmod',\n",
              "  'форд_PROPN'],\n",
              " ['1_При_при_ADP_2_case',\n",
              "  '2_этом_это_PRON_4_obl',\n",
              "  '3_судья_судья_NOUN_4_nsubj',\n",
              "  '4_добавила_добавлять_VERB_0_root',\n",
              "  '5_',\n",
              "  ',',\n",
              "  '_',\n",
              "  ',',\n",
              "  '_PUNCT_4_punct',\n",
              "  '6_что_что_SCONJ_10_mark',\n",
              "  '7_судебная_судебный_ADJ_8_amod',\n",
              "  '8_система_система_NOUN_10_nsubj',\n",
              "  '9_только_только_PART_10_advmod',\n",
              "  '10_начинает_начинать_VERB_4_ccomp',\n",
              "  '11_подходить_подходить_VERB_10_xcomp',\n",
              "  '12_к_к_ADP_15_case',\n",
              "  '13_такому_такой_DET_15_det',\n",
              "  '14_сложному_сложный_ADJ_15_amod',\n",
              "  '15_вопросу_вопрос_NOUN_11_obl',\n",
              "  '16_',\n",
              "  ',',\n",
              "  '_',\n",
              "  ',',\n",
              "  '_PUNCT_15_punct',\n",
              "  '17_как_как_SCONJ_18_mark',\n",
              "  '18_свобода_свобода_NOUN_13_obl',\n",
              "  '19_слова_слово_NOUN_18_nmod',\n",
              "  '20_и_и_CCONJ_21_cc',\n",
              "  '21_защита_защита_NOUN_19_conj',\n",
              "  '22_интеллектуальной_интеллектуальный_ADJ_23_amod',\n",
              "  '23_собственности_собственность_NOUN_21_nmod',\n",
              "  '24_в_в_ADP_25_case',\n",
              "  'интернет_PROPN']]"
            ]
          },
          "metadata": {
            "tags": []
          },
          "execution_count": 119
        }
      ]
    },
    {
      "cell_type": "code",
      "metadata": {
        "id": "C3LdUA18kKI9"
      },
      "source": [
        "with open(\"law_corpora.txt\", \"w\") as file:\n",
        "  print(law_corpora, file=file, sep=\"\\n\")\n",
        "file.close()"
      ],
      "execution_count": 120,
      "outputs": []
    },
    {
      "cell_type": "code",
      "metadata": {
        "id": "E7J2KSMJJ2Lo",
        "colab": {
          "base_uri": "https://localhost:8080/"
        },
        "outputId": "ecd969d0-b2bc-4fb6-b880-5875ed1c165a"
      },
      "source": [
        "count=0\n",
        "for sentence in tokens:\n",
        "  count += len(sentence)\n",
        "print(count)"
      ],
      "execution_count": 121,
      "outputs": [
        {
          "output_type": "stream",
          "text": [
            "5860022\n"
          ],
          "name": "stdout"
        }
      ]
    },
    {
      "cell_type": "code",
      "metadata": {
        "id": "EVDios2gKPKM",
        "colab": {
          "base_uri": "https://localhost:8080/"
        },
        "outputId": "e90c2070-dd4d-48e9-cf65-5e13e3a3a81e"
      },
      "source": [
        "count=0\n",
        "for sentence in law_corpora:\n",
        "  count += len(sentence)\n",
        "print(count)"
      ],
      "execution_count": 122,
      "outputs": [
        {
          "output_type": "stream",
          "text": [
            "93703\n"
          ],
          "name": "stdout"
        }
      ]
    },
    {
      "cell_type": "code",
      "metadata": {
        "id": "TEd9vRdqlG2T",
        "colab": {
          "base_uri": "https://localhost:8080/"
        },
        "outputId": "5224da27-9048-4524-b9c6-a5ac4ea827be"
      },
      "source": [
        "len(tokens)"
      ],
      "execution_count": 123,
      "outputs": [
        {
          "output_type": "execute_result",
          "data": {
            "text/plain": [
              "201486"
            ]
          },
          "metadata": {
            "tags": []
          },
          "execution_count": 123
        }
      ]
    },
    {
      "cell_type": "code",
      "metadata": {
        "id": "afKqro1G2Phq"
      },
      "source": [
        "for sentence in law_corpora:\n",
        "  for i in sentence:\n",
        "    if re.match(r'[0-9]', i):\n",
        "      pass\n",
        "    else:\n",
        "      sentence.remove(i)"
      ],
      "execution_count": 124,
      "outputs": []
    },
    {
      "cell_type": "code",
      "metadata": {
        "id": "1rtLHcTvKqzc"
      },
      "source": [
        "for sentence in law_corpora:\n",
        "  for i in sentence:\n",
        "    if i.startswith('_'):\n",
        "      sentence.remove(i)"
      ],
      "execution_count": 125,
      "outputs": []
    },
    {
      "cell_type": "code",
      "metadata": {
        "id": "4J_ouJrDLARa"
      },
      "source": [
        "for sentence in law_corpora:\n",
        "  for i in sentence:\n",
        "    if re.match(r'_', i):\n",
        "      sentence.remove(i)"
      ],
      "execution_count": 126,
      "outputs": []
    },
    {
      "cell_type": "code",
      "metadata": {
        "id": "zMmjGq5VMUYo"
      },
      "source": [
        "for sentence in law_corpora:\n",
        "  for i in sentence:\n",
        "    if re.match(r':', i):\n",
        "      sentence.remove(i)"
      ],
      "execution_count": 127,
      "outputs": []
    },
    {
      "cell_type": "code",
      "metadata": {
        "id": "WTKvGt5yMxQ5"
      },
      "source": [
        "for sentence in law_corpora:\n",
        "  for i in sentence:\n",
        "    if re.match(r'[а-я]', i):\n",
        "      sentence.remove(i)"
      ],
      "execution_count": 128,
      "outputs": []
    },
    {
      "cell_type": "code",
      "metadata": {
        "id": "YehDGphFNOcq"
      },
      "source": [
        "for sentence in law_corpora:\n",
        "  for i in sentence:\n",
        "    if i=='':\n",
        "      print(sentence)"
      ],
      "execution_count": 129,
      "outputs": []
    },
    {
      "cell_type": "code",
      "metadata": {
        "id": "wGFBUxxCPMal"
      },
      "source": [
        "for sentence in law_corpora:\n",
        "  for i in sentence:\n",
        "    if re.match(r'_PUNCT_', i):\n",
        "      sentence.remove(i)"
      ],
      "execution_count": 130,
      "outputs": []
    },
    {
      "cell_type": "code",
      "metadata": {
        "colab": {
          "base_uri": "https://localhost:8080/"
        },
        "id": "3o3kvwyUSFbu",
        "outputId": "efe816c0-ed60-4332-f3bf-1d454659d2d1"
      },
      "source": [
        "unlc=[]\n",
        "for sentence in law_corpora:\n",
        "  if sentence in unlc:\n",
        "    continue\n",
        "  else:\n",
        "    unlc.append(sentence)\n",
        "print(len(unlc))"
      ],
      "execution_count": 131,
      "outputs": [
        {
          "output_type": "stream",
          "text": [
            "2601\n"
          ],
          "name": "stdout"
        }
      ]
    },
    {
      "cell_type": "code",
      "metadata": {
        "id": "5yhAZ_ufTfNM"
      },
      "source": [
        "law_corpora = unlc"
      ],
      "execution_count": 132,
      "outputs": []
    },
    {
      "cell_type": "code",
      "metadata": {
        "colab": {
          "base_uri": "https://localhost:8080/"
        },
        "id": "8v5prly3kyYD",
        "outputId": "4ce346f1-e326-4e18-f062-31a450a17f35"
      },
      "source": [
        "diff={}\n",
        "spisok=[]\n",
        "for sentence in law_corpora:\n",
        "  for i in sentence:\n",
        "    w=[]\n",
        "    e=[]\n",
        "    r=[]\n",
        "    if \"_прокурор_\" in i:\n",
        "      w=i.split(sep=\"_\")\n",
        "      index=w[0]\n",
        "      if index == None:\n",
        "        pass\n",
        "      else:\n",
        "        if i not in sentence:\n",
        "          pass\n",
        "        else:\n",
        "          n = sentence.index(i)\n",
        "          if i == sentence[-1]:\n",
        "            p = sentence[n-1]\n",
        "            p += '_0'\n",
        "            spisok.append(p)\n",
        "          else:\n",
        "            m = sentence[n+1]\n",
        "            m += '_0'\n",
        "            spisok.append(m)\n",
        "            if i == sentence[-2]:\n",
        "              pass\n",
        "            else:\n",
        "              o = sentence[n+2]\n",
        "              o += '_1'\n",
        "              spisok.append(o)\n",
        "              if i == sentence[-1]:\n",
        "                pass\n",
        "          #print(spisok)\n",
        "          for m in spisok:\n",
        "            if re.match(r'_PUNCT_', m):\n",
        "              pass\n",
        "            else:\n",
        "              e=m.split(sep=\"_\")\n",
        "              if len(w)<4 or len(e)<4:\n",
        "                pass\n",
        "              else:\n",
        "                if e[2] == w[2]:\n",
        "                  pass\n",
        "                else:\n",
        "                  if e[3] == 'VERB':\n",
        "                    #print(e)\n",
        "                    small_diff=[]\n",
        "                    d = e[-1]\n",
        "                    #print(spisok)\n",
        "                    for i in spisok:\n",
        "                      w=i.split(sep=\"_\")\n",
        "                      if len(w) >= 4:\n",
        "                        if w[3] == 'VERB':\n",
        "                          if len(w)<4 or len(e)<4:\n",
        "                            pass\n",
        "                          else:\n",
        "                            if w[2] == e[2]:\n",
        "                              d = w[-1]\n",
        "                              small_diff.append(int(d))\n",
        "                            else:\n",
        "                              pass\n",
        "                          if w[3] == 'VERB' and w[2] == e[2]: \n",
        "                            diff[w[2]]=small_diff \n",
        "                            \n",
        "                      else:\n",
        "                        pass         \n",
        "                  else:\n",
        "                    pass     \n",
        "print(diff)"
      ],
      "execution_count": 133,
      "outputs": [
        {
          "output_type": "stream",
          "text": [
            "{'добавлять': [0, 1], 'считать': [1, 0, 1, 0, 0, 0, 1, 1], 'заменять': [0], 'вылетать': [1], 'находить': [0, 0], 'возможностьвстретиться': [1], 'требовать': [1, 0, 0, 1, 0, 1], 'делать': [0], 'утверждать': [1, 0, 1], 'сменить': [1], 'объявлять': [1, 1], 'признавать': [1, 0], 'предъявлять': [1, 0, 1], 'заявлять': [1, 0, 1, 1, 1, 0, 0, 1, 0, 1, 0, 0, 0, 1, 1, 0, 1, 1, 0, 0, 0, 0, 1, 1, 0], 'задерживать': [1, 1], 'звонить': [0], 'отказываться': [0, 0, 0], 'применять': [1], 'быть': [0], 'сообщать': [1, 0, 1, 1, 0, 0, 1, 1, 0, 0, 1, 1], 'пообещать': [1], 'подавать': [1, 1, 1, 1, 1, 0], 'ориентировать': [1], 'отвечать': [1], 'излагать': [0], 'обещать': [1], 'обращаться': [1], 'назначать': [0, 1], 'отмечать': [0, 0, 0, 0, 0, 1, 0, 0, 1], 'высказаться': [1], 'писать': [1, 1], 'выдвигать': [1, 1], 'оставлять': [1], 'природоохрать': [0], 'присутствовать': [0, 1], 'направлять': [1, 1], 'получать': [1], 'называть': [1, 0, 1], 'сказать': [0, 0, 0, 0, 0, 0, 0, 0, 0], 'обвинять': [1, 0, 1], 'просить': [0], 'уточнять': [1, 0], 'покидать': [1], 'подписывать': [0], 'сводить': [0], 'курировать': [1], 'Коннектикут': [1], 'распорядиться': [0, 0, 1], 'начинать': [1, 1, 1, 0], 'поддерживать': [0], 'арестовывать': [0], 'выдавать': [0], 'соединять': [0, 0], 'решать': [1, 0, 1, 1], 'передавать': [1, 1, 1], 'замечать': [0, 0], 'пояснять': [0, 0, 0], 'предлагать': [1, 1], 'исключать': [1, 1], 'подчеркивать': [0, 0, 0, 0, 0, 0], 'отменять': [0], 'предписывать': [1], 'находиться': [1, 1], 'выплачивать': [0], 'удаваться': [0, 1], 'опротестовать': [1], 'видеть': [0], 'призывать': [1], 'настраивать': [1], 'принимать': [1, 1, 1], 'устанавливать': [1], 'обязать': [0], 'посылать': [0], 'застрелить': [1], 'прибывать': [1], 'назначаться': [1], 'осуществлять': [1], 'оказываться': [0], 'возглавлять': [1], 'напоминать': [0], 'расценивать': [1], 'Рэй': [0], 'способствовать': [1], 'провозглашать': [1], 'прогреметь': [0], 'распространять': [0, 0], 'приезжать': [1], 'передать': [0], 'настаивать': [1], 'возбуждать': [0], 'вести': [0, 0], 'мочь': [1, 1], 'комментировать': [1], 'состояться': [1], 'давать': [1], 'рассчитывать': [0], 'приглашать': [1], 'отклонять': [0, 0], 'снимать': [0], 'приходить': [0], 'подчеркнуть': [0, 0], 'грозить': [1], 'подтверждать': [0], 'раскритиковывать': [1], 'воздержаться': [0], 'издать': [1], 'предполагать': [0, 0], 'стать': [1], 'Джанет': [0], 'осуждать': [1, 0], 'избирать': [0], 'выражать': [0], 'вернуть': [0], 'попадаться': [1], 'заниматься': [1, 0, 1], 'расследовать': [1], 'поручить': [1], 'допросить': [0], 'отреагировать': [1], 'размещать': [1], 'представлять': [1, 1], 'подтверждаться': [1, 1], 'соглашаться': [1], 'извещать': [0], 'пресекать': [0], 'отстранять': [0], 'воздерживаться': [0], 'оплачивать': [0], 'подвергать': [1], 'указывать': [1], 'сожалеть': [1], 'определять': [1]}\n"
          ],
          "name": "stdout"
        }
      ]
    },
    {
      "cell_type": "code",
      "metadata": {
        "colab": {
          "base_uri": "https://localhost:8080/"
        },
        "id": "y4VWo8iSOhVd",
        "outputId": "61d8c70d-cd72-4ba2-d945-2d87e66d9f4a"
      },
      "source": [
        "print(m)"
      ],
      "execution_count": 134,
      "outputs": [
        {
          "output_type": "stream",
          "text": [
            "24_основание_основание_NOUN_18_nsubj_1\n"
          ],
          "name": "stdout"
        }
      ]
    },
    {
      "cell_type": "code",
      "metadata": {
        "colab": {
          "base_uri": "https://localhost:8080/"
        },
        "id": "0O8Kd1N0KHn6",
        "outputId": "98e978b8-b045-4b27-a6a2-b81546f9251f"
      },
      "source": [
        "len(diff)"
      ],
      "execution_count": 135,
      "outputs": [
        {
          "output_type": "execute_result",
          "data": {
            "text/plain": [
              "132"
            ]
          },
          "metadata": {
            "tags": []
          },
          "execution_count": 135
        }
      ]
    },
    {
      "cell_type": "code",
      "metadata": {
        "id": "YQ-mP_9YeK7K"
      },
      "source": [
        "for word, lis in diff.items():\n",
        "  if lis ==[]:\n",
        "    print(word)"
      ],
      "execution_count": 136,
      "outputs": []
    },
    {
      "cell_type": "code",
      "metadata": {
        "colab": {
          "base_uri": "https://localhost:8080/"
        },
        "id": "m3pDa7J0W_Nf",
        "outputId": "693d0e2c-7a06-4767-881b-e5945e1524ae"
      },
      "source": [
        "Mat_oj = diff.copy()\n",
        "for word, lis in Mat_oj.items():\n",
        "    new_l = (sum(lis))/len(lis)\n",
        "    Mat_oj[word] = new_l\n",
        "print(Mat_oj)"
      ],
      "execution_count": 137,
      "outputs": [
        {
          "output_type": "stream",
          "text": [
            "{'добавлять': 0.5, 'считать': 0.5, 'заменять': 0.0, 'вылетать': 1.0, 'находить': 0.0, 'возможностьвстретиться': 1.0, 'требовать': 0.5, 'делать': 0.0, 'утверждать': 0.6666666666666666, 'сменить': 1.0, 'объявлять': 1.0, 'признавать': 0.5, 'предъявлять': 0.6666666666666666, 'заявлять': 0.48, 'задерживать': 1.0, 'звонить': 0.0, 'отказываться': 0.0, 'применять': 1.0, 'быть': 0.0, 'сообщать': 0.5833333333333334, 'пообещать': 1.0, 'подавать': 0.8333333333333334, 'ориентировать': 1.0, 'отвечать': 1.0, 'излагать': 0.0, 'обещать': 1.0, 'обращаться': 1.0, 'назначать': 0.5, 'отмечать': 0.2222222222222222, 'высказаться': 1.0, 'писать': 1.0, 'выдвигать': 1.0, 'оставлять': 1.0, 'природоохрать': 0.0, 'присутствовать': 0.5, 'направлять': 1.0, 'получать': 1.0, 'называть': 0.6666666666666666, 'сказать': 0.0, 'обвинять': 0.6666666666666666, 'просить': 0.0, 'уточнять': 0.5, 'покидать': 1.0, 'подписывать': 0.0, 'сводить': 0.0, 'курировать': 1.0, 'Коннектикут': 1.0, 'распорядиться': 0.3333333333333333, 'начинать': 0.75, 'поддерживать': 0.0, 'арестовывать': 0.0, 'выдавать': 0.0, 'соединять': 0.0, 'решать': 0.75, 'передавать': 1.0, 'замечать': 0.0, 'пояснять': 0.0, 'предлагать': 1.0, 'исключать': 1.0, 'подчеркивать': 0.0, 'отменять': 0.0, 'предписывать': 1.0, 'находиться': 1.0, 'выплачивать': 0.0, 'удаваться': 0.5, 'опротестовать': 1.0, 'видеть': 0.0, 'призывать': 1.0, 'настраивать': 1.0, 'принимать': 1.0, 'устанавливать': 1.0, 'обязать': 0.0, 'посылать': 0.0, 'застрелить': 1.0, 'прибывать': 1.0, 'назначаться': 1.0, 'осуществлять': 1.0, 'оказываться': 0.0, 'возглавлять': 1.0, 'напоминать': 0.0, 'расценивать': 1.0, 'Рэй': 0.0, 'способствовать': 1.0, 'провозглашать': 1.0, 'прогреметь': 0.0, 'распространять': 0.0, 'приезжать': 1.0, 'передать': 0.0, 'настаивать': 1.0, 'возбуждать': 0.0, 'вести': 0.0, 'мочь': 1.0, 'комментировать': 1.0, 'состояться': 1.0, 'давать': 1.0, 'рассчитывать': 0.0, 'приглашать': 1.0, 'отклонять': 0.0, 'снимать': 0.0, 'приходить': 0.0, 'подчеркнуть': 0.0, 'грозить': 1.0, 'подтверждать': 0.0, 'раскритиковывать': 1.0, 'воздержаться': 0.0, 'издать': 1.0, 'предполагать': 0.0, 'стать': 1.0, 'Джанет': 0.0, 'осуждать': 0.5, 'избирать': 0.0, 'выражать': 0.0, 'вернуть': 0.0, 'попадаться': 1.0, 'заниматься': 0.6666666666666666, 'расследовать': 1.0, 'поручить': 1.0, 'допросить': 0.0, 'отреагировать': 1.0, 'размещать': 1.0, 'представлять': 1.0, 'подтверждаться': 1.0, 'соглашаться': 1.0, 'извещать': 0.0, 'пресекать': 0.0, 'отстранять': 0.0, 'воздерживаться': 0.0, 'оплачивать': 0.0, 'подвергать': 1.0, 'указывать': 1.0, 'сожалеть': 1.0, 'определять': 1.0}\n"
          ],
          "name": "stdout"
        }
      ]
    },
    {
      "cell_type": "code",
      "metadata": {
        "colab": {
          "base_uri": "https://localhost:8080/"
        },
        "id": "8noqKyMhaHHU",
        "outputId": "479ad958-5614-4c2a-fea9-63b6ed28eff8"
      },
      "source": [
        "result = {}\n",
        "for word, lis in diff.items():\n",
        "  #print(type(lis))\n",
        "  for w, l in Mat_oj.items():\n",
        "    if word == w:\n",
        "      d=0\n",
        "      if len(lis) == 1:\n",
        "        pass\n",
        "      else:\n",
        "        for i in lis:\n",
        "          x = (i-l)**2\n",
        "          d += x\n",
        "        #print(d)\n",
        "        res = d/(len(lis)-1)\n",
        "        result[word] = res\n",
        "\n",
        "sorted_dict = {}\n",
        "sorted_keys = sorted(result, key=result.get)  # [1, 3, 2]\n",
        "\n",
        "for w in sorted_keys:\n",
        "    sorted_dict[w] = result[w]\n",
        "\n",
        "print(sorted_dict)\n",
        "#print(result)"
      ],
      "execution_count": 138,
      "outputs": [
        {
          "output_type": "stream",
          "text": [
            "{'находить': 0.0, 'объявлять': 0.0, 'задерживать': 0.0, 'отказываться': 0.0, 'писать': 0.0, 'выдвигать': 0.0, 'направлять': 0.0, 'сказать': 0.0, 'соединять': 0.0, 'передавать': 0.0, 'замечать': 0.0, 'пояснять': 0.0, 'предлагать': 0.0, 'исключать': 0.0, 'подчеркивать': 0.0, 'находиться': 0.0, 'принимать': 0.0, 'распространять': 0.0, 'вести': 0.0, 'мочь': 0.0, 'отклонять': 0.0, 'подчеркнуть': 0.0, 'предполагать': 0.0, 'представлять': 0.0, 'подтверждаться': 0.0, 'подавать': 0.16666666666666669, 'отмечать': 0.19444444444444445, 'начинать': 0.25, 'решать': 0.25, 'заявлять': 0.2600000000000002, 'сообщать': 0.2651515151515152, 'считать': 0.2857142857142857, 'требовать': 0.3, 'утверждать': 0.33333333333333337, 'предъявлять': 0.33333333333333337, 'называть': 0.33333333333333337, 'обвинять': 0.33333333333333337, 'распорядиться': 0.33333333333333337, 'заниматься': 0.33333333333333337, 'добавлять': 0.5, 'признавать': 0.5, 'назначать': 0.5, 'присутствовать': 0.5, 'уточнять': 0.5, 'удаваться': 0.5, 'осуждать': 0.5}\n"
          ],
          "name": "stdout"
        }
      ]
    },
    {
      "cell_type": "markdown",
      "metadata": {
        "id": "TGhtut_Hnhi1"
      },
      "source": [
        "Результаты дисперсии третьего эксперимента"
      ]
    },
    {
      "cell_type": "code",
      "metadata": {
        "colab": {
          "base_uri": "https://localhost:8080/"
        },
        "id": "jTdNnfisnaXA",
        "outputId": "edcb84e0-8c26-4447-ea28-4a080e2db767"
      },
      "source": [
        "parsed_unlc=[]\n",
        "for sentence in unlc:\n",
        "  p_sent=[]\n",
        "  for i in sentence:\n",
        "    w=[]\n",
        "    w=i.split(sep=\"_\")\n",
        "    if re.match(r'_PUNCT_', m):\n",
        "      pass\n",
        "    else:\n",
        "      if len(w)<3:\n",
        "        if i not in sentence:\n",
        "          pass\n",
        "        else:\n",
        "          sentence.remove(i)\n",
        "      else:\n",
        "        p_sent.append(w[2])\n",
        "  parsed_unlc.append(p_sent)\n",
        "print(parsed_unlc[:10])"
      ],
      "execution_count": 139,
      "outputs": [
        {
          "output_type": "stream",
          "text": [
            "[['швейцарский', 'федеральный', 'прокурор', 'дель', 'Понти', 'заявлять', 'работать', 'на', 'шеф', 'разведывательный', 'служба', 'и', 'получать', '5,8', 'миллион', 'доллар', 'от', 'министерство', 'оборона', 'для', 'покупка', 'огромный', 'количество', 'оружие'], ['адвокат', 'Сед', 'он', 'клиент', 'отвергать', 'этот', 'обвинение'], ['дель', 'Понти', 'становиться', 'прокурор', 'международный', 'по', 'военный', 'преступление', 'что', 'дело', 'против', 'и', 'еще', 'трое', 'чиновник', 'закрывать'], ['федеральный', 'прокурор', 'добавлять', 'расследование', 'быть', 'в', 'отношение', 'стратегический', 'информационный', 'служба', 'возникать', 'документ', 'по', 'дело'], ['бывший', 'генеральный', 'прокурор', 'юрий', 'считать', 'близкий', 'окружение', 'президент', 'пытаться', 'препятствовать', 'серьезный', 'расследование', 'ситуация', 'с', 'bank', 'через', 'который', 'отмываться', 'от'], ['мой', 'адвокат', 'изучать', 'документ', 'обращаться', 'в', 'суд'], ['сумма', 'ущерб', 'по', 'иск', 'в', 'настоящий', 'времяопределяться', 'адвокат', 'и', 'юрист', 'подготовкойисковый', 'заявление'], ['но', 'окружной', 'судья', 'решать', 'дело', 'в', 'польза', 'веб', '-издательствый', 'отвергать', 'требование', 'в', 'судебный', 'порядок', 'запрещать', 'публикация', 'секретный', 'документ', 'такой', 'запрет', 'нарушать', 'бы', 'свобода', 'слово'], ['однако', 'судья', 'все', 'же', 'выносить', 'постановление', 'с', 'то', 'нарушать', 'копирайт', 'компания'], ['при', 'это', 'судья', 'добавлять', 'судебный', 'система', 'только', 'начинать', 'подходить', 'к', 'такой', 'сложный', 'вопрос', 'свобода', 'слово', 'и', 'защита', 'интеллектуальный', 'собственность', 'в']]\n"
          ],
          "name": "stdout"
        }
      ]
    },
    {
      "cell_type": "code",
      "metadata": {
        "colab": {
          "base_uri": "https://localhost:8080/"
        },
        "id": "XmlwN3_ayk_j",
        "outputId": "13f9d514-cdc0-4951-bf12-6f5feaa0566a"
      },
      "source": [
        "print(parsed_unlc[:10])"
      ],
      "execution_count": 626,
      "outputs": [
        {
          "output_type": "stream",
          "text": [
            "[['швейцарский', 'федеральный', 'прокурор', 'дель', 'Понти', 'заявлять', 'что', 'работать', 'на', 'шеф', 'разведывательный', 'служба', 'и', 'получать', '5,8', 'миллион', 'доллар', 'от', 'министерство', 'оборона', 'для', 'покупка', 'огромный', 'количество', 'оружие'], ['адвокат', 'Сед', 'заявлять', 'что', 'он', 'клиент', 'отвергать', 'этот', 'обвинение'], ['дель', 'Понти', 'недавно', 'становиться', 'прокурор', 'международный', 'по', 'военный', 'преступление', 'заявлять', 'что', 'дело', 'против', 'и', 'еще', 'трое', 'высокопоставленный', 'чиновник', 'закрывать'], ['федеральный', 'прокурор', 'добавлять', 'что', 'расследование', 'быть', 'продолжить', 'в', 'отношение', 'шеф', 'стратегический', 'информационный', 'служба', 'который', 'возникать', 'в', 'документ', 'по', 'дело'], ['бывший', 'генеральный', 'прокурор', 'юрий', 'считать', 'что', 'близкий', 'окружение', 'президент', 'пытаться', 'препятствовать', 'серьезный', 'расследование', 'ситуация', 'связывать', 'с', 'bank', 'of', 'new', 'york', 'через', 'который', 'отмываться', 'деньги', 'получать', 'от'], ['мой', 'адвокат', 'изучать', 'документ', 'чтобы', 'обращаться', 'в', 'суд'], ['сумма', 'возмещение', 'ущерб', 'по', 'иск', 'в', 'настоящий', 'времяопределяться', 'адвокат', 'и', 'юрист', 'заниматься', 'подготовкойисковый', 'заявление'], ['но', 'окружной', 'судья', 'решать', 'дело', 'в', 'польза', 'веб', '-издательствый', 'она', 'отвергать', 'требование', 'в', 'судебный', 'порядок', 'запрещать', 'публикация', 'секретный', 'документ', 'поскольку', 'такой', 'запрет', 'нарушать', 'бы', 'свобода', 'слово'], ['однако', 'судья', 'все', 'же', 'выносить', 'постановление', 'связывать', 'с', 'то', 'что', 'нарушать', 'копирайт', 'компания'], ['при', 'это', 'судья', 'добавлять', 'что', 'судебный', 'система', 'только', 'начинать', 'подходить', 'к', 'такой', 'сложный', 'вопрос', 'как', 'свобода', 'слово', 'и', 'защита', 'интеллектуальный', 'собственность', 'в']]\n"
          ],
          "name": "stdout"
        }
      ]
    },
    {
      "cell_type": "code",
      "metadata": {
        "colab": {
          "base_uri": "https://localhost:8080/"
        },
        "id": "s91gN2nkzCFU",
        "outputId": "524b453f-248a-4e21-c157-f5ffc938ada7"
      },
      "source": [
        "print(p_sent)"
      ],
      "execution_count": 627,
      "outputs": [
        {
          "output_type": "stream",
          "text": [
            "['адвокат', 'ан', 'надеяться', 'получать', 'искомый', 'сумма', 'с', 'заморозить', 'на', 'территория', 'счет', 'кубинский', 'правительство']\n"
          ],
          "name": "stdout"
        }
      ]
    },
    {
      "cell_type": "code",
      "metadata": {
        "id": "ymQf7PnqjrYd"
      },
      "source": [
        "import math"
      ],
      "execution_count": 42,
      "outputs": []
    },
    {
      "cell_type": "code",
      "metadata": {
        "colab": {
          "base_uri": "https://localhost:8080/"
        },
        "id": "iitO-XZbiHQR",
        "outputId": "0c3be650-93a5-47e6-ceb8-9acc979ee0b1"
      },
      "source": [
        "count=0\n",
        "for sentence in unlc:\n",
        "  count += len(sentence)\n",
        "print(count)"
      ],
      "execution_count": 140,
      "outputs": [
        {
          "output_type": "stream",
          "text": [
            "48796\n"
          ],
          "name": "stdout"
        }
      ]
    },
    {
      "cell_type": "code",
      "metadata": {
        "colab": {
          "base_uri": "https://localhost:8080/"
        },
        "id": "kViGL9RSL1iq",
        "outputId": "e8e18871-5fdb-4b12-9e61-a14b11b590e7"
      },
      "source": [
        "spisok = []\n",
        "diff = {}\n",
        "b = {}\n",
        "for sentence in unlc:\n",
        "  for i in sentence:\n",
        "    if '_прокурор_' in i:\n",
        "      if i not in sentence:\n",
        "        pass\n",
        "      else:\n",
        "        n = sentence.index(i)\n",
        "        #print(n)\n",
        "        if i == sentence[-1]:\n",
        "          p = sentence[n-1]\n",
        "          big = p.split('_')\n",
        "          #print(big)\n",
        "          if len(big) < 4:\n",
        "            pass\n",
        "          else:\n",
        "            #print(big[3])\n",
        "            if big[3] == 'VERB':\n",
        "              spisok.append('прокурор '+big[2])\n",
        "            else:\n",
        "              pass\n",
        "            #print(spisok)\n",
        "        else:\n",
        "          m = sentence[n+1]\n",
        "          big = m.split('_')\n",
        "          if len(big) < 4:\n",
        "            pass\n",
        "          else:\n",
        "            if big[3] == 'VERB':\n",
        "              spisok.append('прокурор '+big[2])\n",
        "          if i == sentence[-2]:\n",
        "            pass\n",
        "          else:\n",
        "            o = sentence[n+2]\n",
        "            big = p.split('_')\n",
        "            if len(big) < 4:\n",
        "               pass\n",
        "            else:\n",
        "              if big[3] == 'VERB':\n",
        "                spisok.append('прокурор '+big[2])\n",
        "            if i == sentence[-1]:\n",
        "              pass\n",
        "print(spisok)\n",
        "for i in spisok:\n",
        "  freq_b = 1\n",
        "  big = i.split(' ')[1]\n",
        "  for sentence in parsed_unlc:\n",
        "    for i in sentence:\n",
        "      if i == big:\n",
        "      #print(sentence)\n",
        "        freq_b += 1\n",
        "  b[big] = freq_b\n",
        "for i in spisok:\n",
        "  if i in diff.keys():\n",
        "    for w, l in diff.items():\n",
        "      diff[i] = l+1\n",
        "  else:\n",
        "    diff[i] = 1\n",
        "print(diff)\n",
        "freq_a=0\n",
        "for sentence in parsed_unlc:\n",
        "  for i in sentence:\n",
        "    if i == 'прокурор':\n",
        "      #print(sentence)\n",
        "      freq_a += 1\n",
        "print(freq_a)\n",
        "  #print(big, freq_b)"
      ],
      "execution_count": 141,
      "outputs": [
        {
          "output_type": "stream",
          "text": [
            "['прокурор добавлять', 'прокурор заменять', 'прокурор находить', 'прокурор делать', 'прокурор сменить', 'прокурор признавать', 'прокурор признавать', 'прокурор задерживать', 'прокурор считать', 'прокурор звонить', 'прокурор отказываться', 'прокурор быть', 'прокурор отказываться', 'прокурор сообщать', 'прокурор ориентировать', 'прокурор излагать', 'прокурор назначать', 'прокурор назначать', 'прокурор назначать', 'прокурор назначать', 'прокурор назначать', 'прокурор назначать', 'прокурор отмечать', 'прокурор назначать', 'прокурор назначать', 'прокурор назначать', 'прокурор назначать', 'прокурор писать', 'прокурор считать', 'прокурор считать', 'прокурор считать', 'прокурор считать', 'прокурор природоохрать', 'прокурор природоохрать', 'прокурор природоохрать', 'прокурор находить', 'прокурор природоохрать', 'прокурор природоохрать', 'прокурор природоохрать', 'прокурор природоохрать', 'прокурор присутствовать', 'прокурор природоохрать', 'прокурор природоохрать', 'прокурор природоохрать', 'прокурор природоохрать', 'прокурор природоохрать', 'прокурор природоохрать', 'прокурор природоохрать', 'прокурор отмечать', 'прокурор природоохрать', 'прокурор природоохрать', 'прокурор природоохрать', 'прокурор отмечать', 'прокурор отмечать', 'прокурор сообщать', 'прокурор отмечать', 'прокурор отмечать', 'прокурор отмечать', 'прокурор отмечать', 'прокурор отмечать', 'прокурор отмечать', 'прокурор отмечать', 'прокурор сказать', 'прокурор сказать', 'прокурор просить', 'прокурор заявлять', 'прокурор заявлять', 'прокурор заявлять', 'прокурор заявлять', 'прокурор заявлять', 'прокурор покидать', 'прокурор заявлять', 'прокурор заявлять', 'прокурор заявлять', 'прокурор подписывать', 'прокурор заявлять', 'прокурор заявлять', 'прокурор сводить', 'прокурор курировать', 'прокурор называть', 'прокурор распорядиться', 'прокурор поддерживать', 'прокурор распорядиться', 'прокурор предъявлять', 'прокурор арестовывать', 'прокурор выдавать', 'прокурор сообщать', 'прокурор утверждать', 'прокурор соединять', 'прокурор сообщать', 'прокурор передавать', 'прокурор замечать', 'прокурор сказать', 'прокурор сказать', 'прокурор сказать', 'прокурор пояснять', 'прокурор сказать', 'прокурор сказать', 'прокурор сказать', 'прокурор сказать', 'прокурор сказать', 'прокурор называть', 'прокурор подчеркивать', 'прокурор подчеркивать', 'прокурор отменять', 'прокурор подчеркивать', 'прокурор передавать', 'прокурор подчеркивать', 'прокурор подчеркивать', 'прокурор подчеркивать', 'прокурор находиться', 'прокурор подчеркивать', 'прокурор подчеркивать', 'прокурор подчеркивать', 'прокурор подчеркивать', 'прокурор подчеркивать', 'прокурор выплачивать', 'прокурор подчеркивать', 'прокурор подчеркивать', 'прокурор подчеркивать', 'прокурор подчеркивать', 'прокурор подчеркивать', 'прокурор заявлять', 'прокурор заявлять', 'прокурор отмечать', 'прокурор требовать', 'прокурор отмечать', 'прокурор сообщать', 'прокурор отмечать', 'прокурор считать', 'прокурор удаваться', 'прокурор видеть', 'прокурор заявлять', 'прокурор настраивать', 'прокурор требовать', 'прокурор устанавливать', 'прокурор обязать', 'прокурор посылать', 'прокурор сообщать', 'прокурор заявлять', 'прокурор требовать', 'прокурор заявлять', 'прокурор заявлять', 'прокурор заявлять', 'прокурор заявлять', 'прокурор сказать', 'прокурор заявлять', 'прокурор заявлять', 'прокурор заявлять', 'прокурор заявлять', 'прокурор заявлять', 'прокурор заявлять', 'прокурор осуществлять', 'прокурор заявлять', 'прокурор заявлять', 'прокурор заявлять', 'прокурор заявлять', 'прокурор заявлять', 'прокурор оказываться', 'прокурор заявлять', 'прокурор возглавлять', 'прокурор заявлять', 'прокурор заявлять', 'прокурор напоминать', 'прокурор обвинять', 'прокурор Рэй', 'прокурор надзирающий', 'прокурор надзирающий', 'прокурор надзирающий', 'прокурор сказать', 'прокурор надзирающий', 'прокурор заявлять', 'прокурор надзирающий', 'прокурор надзирающий', 'прокурор надзирающий', 'прокурор надзирающий', 'прокурор надзирающий', 'прокурор заявлять', 'прокурор заявлять', 'прокурор заявлять', 'прокурор заявлять', 'прокурор заявлять', 'прокурор заявлять', 'прокурор заявлять', 'прокурор заявлять', 'прокурор заявлять', 'прокурор заявлять', 'прокурор заявлять', 'прокурор заявлять', 'прокурор заявлять', 'прокурор заявлять', 'прокурор заявлять', 'прокурор заявлять', 'прокурор прогреметь', 'прокурор заявлять', 'прокурор заявлять', 'прокурор находиться', 'прокурор заявлять', 'прокурор заявлять', 'прокурор заявлять', 'прокурор заявлять', 'прокурор заявлять', 'прокурор заявлять', 'прокурор распространять', 'прокурор заявлять', 'прокурор заявлять', 'прокурор заявлять', 'прокурор заявлять', 'прокурор заявлять', 'прокурор заявлять', 'прокурор заявлять', 'прокурор заявлять', 'прокурор сообщать', 'прокурор заявлять', 'прокурор приезжать', 'прокурор заявлять', 'прокурор заявлять', 'прокурор передать', 'прокурор заявлять', 'прокурор заявлять', 'прокурор заявлять', 'прокурор заявлять', 'прокурор заявлять', 'прокурор заявлять', 'прокурор решать', 'прокурор заявлять', 'прокурор заявлять', 'прокурор заявлять', 'прокурор заявлять', 'прокурор заявлять', 'прокурор заявлять', 'прокурор заявлять', 'прокурор заявлять', 'прокурор заявлять', 'прокурор возбуждать', 'прокурор заявлять', 'прокурор заявлять', 'прокурор заявлять', 'прокурор заявлять', 'прокурор заявлять', 'прокурор заявлять', 'прокурор заявлять', 'прокурор заявлять', 'прокурор заявлять', 'прокурор заявлять', 'прокурор вести', 'прокурор заявлять', 'прокурор заявлять', 'прокурор комментировать', 'прокурор сказать', 'прокурор подчеркивать', 'прокурор мочь', 'прокурор рассчитывать', 'прокурор распространять', 'прокурор соединять', 'прокурор отклонять', 'прокурор заявлять', 'прокурор снимать', 'прокурор приходить', 'прокурор подчеркнуть', 'прокурор грозить', 'прокурор заявлять', 'прокурор сказать', 'прокурор подтверждать', 'прокурор задерживать', 'прокурор пояснять', 'прокурор воздержаться', 'прокурор пояснять', 'прокурор сообщать', 'прокурор считать', 'прокурор предполагать', 'прокурор подчеркивать', 'прокурор подчеркивать', 'прокурор подчеркивать', 'прокурор подчеркивать', 'прокурор подчеркивать', 'прокурор подчеркивать', 'прокурор подчеркивать', 'прокурор считать', 'прокурор подчеркивать', 'прокурор Джанет', 'прокурор подчеркивать', 'прокурор подчеркивать', 'прокурор подчеркивать', 'прокурор избирать', 'прокурор подчеркивать', 'прокурор выражать', 'прокурор вернуть', 'прокурор осуждать', 'прокурор попадаться', 'прокурор передавать', 'прокурор отмечать', 'прокурор заниматься', 'прокурор расследовать', 'прокурор отказываться', 'прокурор допросить', 'прокурор заниматься', 'прокурор предполагать', 'прокурор размещать', 'прокурор сообщать', 'прокурор подавать', 'прокурор представлять', 'прокурор подтверждаться', 'прокурор требовать', 'прокурор вести', 'прокурор начинать', 'прокурор заявлять', 'прокурор подтверждаться', 'прокурор извещать', 'прокурор пресекать', 'прокурор отстранять', 'прокурор представлять', 'прокурор заявлять', 'прокурор воздерживаться', 'прокурор оплачивать', 'прокурор заявлять', 'прокурор подчеркивать', 'прокурор подчеркивать', 'прокурор подчеркивать', 'прокурор подчеркивать', 'прокурор отмечать', 'прокурор отклонять', 'прокурор сказать', 'прокурор подчеркнуть', 'прокурор подчеркнуть', 'прокурор заявлять', 'прокурор подчеркнуть', 'прокурор подчеркнуть', 'прокурор подчеркнуть', 'прокурор подчеркнуть', 'прокурор замечать', 'прокурор подчеркнуть', 'прокурор подчеркивать', 'прокурор подчеркнуть', 'прокурор подчеркнуть', 'прокурор сказать', 'прокурор подчеркнуть', 'прокурор подчеркнуть', 'прокурор подчеркнуть', 'прокурор сказать', 'прокурор сказать', 'прокурор сказать', 'прокурор уточнять']\n",
            "{'прокурор добавлять': 1, 'прокурор заменять': 1, 'прокурор находить': 4, 'прокурор делать': 1, 'прокурор сменить': 1, 'прокурор признавать': 3, 'прокурор задерживать': 2, 'прокурор считать': 2, 'прокурор звонить': 1, 'прокурор отказываться': 2, 'прокурор быть': 1, 'прокурор сообщать': 2, 'прокурор ориентировать': 1, 'прокурор излагать': 1, 'прокурор назначать': 2, 'прокурор отмечать': 2, 'прокурор писать': 1, 'прокурор природоохрать': 2, 'прокурор присутствовать': 1, 'прокурор сказать': 2, 'прокурор просить': 1, 'прокурор заявлять': 2, 'прокурор покидать': 1, 'прокурор подписывать': 1, 'прокурор сводить': 1, 'прокурор курировать': 1, 'прокурор называть': 2, 'прокурор распорядиться': 2, 'прокурор поддерживать': 1, 'прокурор предъявлять': 1, 'прокурор арестовывать': 1, 'прокурор выдавать': 1, 'прокурор утверждать': 1, 'прокурор соединять': 2, 'прокурор передавать': 2, 'прокурор замечать': 2, 'прокурор пояснять': 2, 'прокурор подчеркивать': 2, 'прокурор отменять': 1, 'прокурор находиться': 2, 'прокурор выплачивать': 1, 'прокурор требовать': 2, 'прокурор удаваться': 1, 'прокурор видеть': 1, 'прокурор настраивать': 1, 'прокурор устанавливать': 1, 'прокурор обязать': 1, 'прокурор посылать': 1, 'прокурор осуществлять': 1, 'прокурор оказываться': 1, 'прокурор возглавлять': 1, 'прокурор напоминать': 1, 'прокурор обвинять': 1, 'прокурор Рэй': 1, 'прокурор надзирающий': 3, 'прокурор прогреметь': 1, 'прокурор распространять': 2, 'прокурор приезжать': 1, 'прокурор передать': 1, 'прокурор решать': 1, 'прокурор возбуждать': 1, 'прокурор вести': 2, 'прокурор комментировать': 1, 'прокурор мочь': 1, 'прокурор рассчитывать': 1, 'прокурор отклонять': 2, 'прокурор снимать': 1, 'прокурор приходить': 1, 'прокурор подчеркнуть': 2, 'прокурор грозить': 1, 'прокурор подтверждать': 1, 'прокурор воздержаться': 1, 'прокурор предполагать': 2, 'прокурор Джанет': 1, 'прокурор избирать': 1, 'прокурор выражать': 1, 'прокурор вернуть': 1, 'прокурор осуждать': 1, 'прокурор попадаться': 1, 'прокурор заниматься': 2, 'прокурор расследовать': 1, 'прокурор допросить': 1, 'прокурор размещать': 1, 'прокурор подавать': 1, 'прокурор представлять': 2, 'прокурор подтверждаться': 2, 'прокурор начинать': 1, 'прокурор извещать': 1, 'прокурор пресекать': 1, 'прокурор отстранять': 1, 'прокурор воздерживаться': 1, 'прокурор оплачивать': 1, 'прокурор уточнять': 1}\n",
            "807\n"
          ],
          "name": "stdout"
        }
      ]
    },
    {
      "cell_type": "code",
      "metadata": {
        "colab": {
          "base_uri": "https://localhost:8080/"
        },
        "id": "h_sEez01LABZ",
        "outputId": "e07730cb-f4e7-446b-ed23-97cce4b52559"
      },
      "source": [
        "print(b)"
      ],
      "execution_count": 142,
      "outputs": [
        {
          "output_type": "stream",
          "text": [
            "{'добавлять': 15, 'заменять': 4, 'находить': 18, 'делать': 32, 'сменить': 1, 'признавать': 38, 'задерживать': 17, 'считать': 65, 'звонить': 5, 'отказываться': 42, 'быть': 535, 'сообщать': 290, 'ориентировать': 1, 'излагать': 4, 'назначать': 33, 'отмечать': 65, 'писать': 11, 'природоохрать': 2, 'присутствовать': 18, 'сказать': 47, 'просить': 36, 'заявлять': 232, 'покидать': 4, 'подписывать': 11, 'сводить': 2, 'курировать': 3, 'называть': 19, 'распорядиться': 5, 'поддерживать': 11, 'предъявлять': 23, 'арестовывать': 15, 'выдавать': 9, 'утверждать': 37, 'соединять': 6, 'передавать': 42, 'замечать': 6, 'пояснять': 22, 'подчеркивать': 26, 'отменять': 14, 'находиться': 52, 'выплачивать': 9, 'требовать': 50, 'удаваться': 13, 'видеть': 12, 'настраивать': 1, 'устанавливать': 11, 'обязать': 11, 'посылать': 2, 'осуществлять': 5, 'оказываться': 10, 'возглавлять': 10, 'напоминать': 23, 'обвинять': 37, 'Рэй': 4, 'надзирающий': 1, 'прогреметь': 4, 'распространять': 6, 'приезжать': 7, 'передать': 7, 'решать': 33, 'возбуждать': 15, 'вести': 17, 'комментировать': 8, 'мочь': 135, 'рассчитывать': 11, 'отклонять': 35, 'снимать': 7, 'приходить': 17, 'подчеркнуть': 3, 'грозить': 4, 'подтверждать': 32, 'воздержаться': 2, 'предполагать': 12, 'Джанет': 3, 'избирать': 3, 'выражать': 9, 'вернуть': 6, 'осуждать': 9, 'попадаться': 2, 'заниматься': 17, 'расследовать': 2, 'допросить': 7, 'размещать': 2, 'подавать': 71, 'представлять': 48, 'подтверждаться': 5, 'начинать': 22, 'извещать': 3, 'пресекать': 2, 'отстранять': 10, 'воздерживаться': 4, 'оплачивать': 4, 'уточнять': 8}\n"
          ],
          "name": "stdout"
        }
      ]
    },
    {
      "cell_type": "code",
      "metadata": {
        "colab": {
          "base_uri": "https://localhost:8080/"
        },
        "id": "yeywR0BjoWno",
        "outputId": "d2a1ce42-4a95-4314-ef2c-d56c93060886"
      },
      "source": [
        "for w, l in list(diff.items()):\n",
        "  #print(w)\n",
        "  big = w.split(' ')[1]\n",
        "  diff[big] = l\n",
        "pmi_list=[]\n",
        "for word, lis in diff.items():\n",
        "  #print(type(lis))\n",
        "  for w, l in b.items():\n",
        "    ind = []\n",
        "    if word == w:\n",
        "      pmi = math.log(lis*48796/(freq_a * l))\n",
        "      ind.append(pmi)\n",
        "      ind.append(word)\n",
        "      pmi_list.append(ind)\n",
        "print(sorted(pmi_list))"
      ],
      "execution_count": 143,
      "outputs": [
        {
          "output_type": "stream",
          "text": [
            "[[-2.1801867938973274, 'быть'], [-0.8746537894218951, 'сообщать'], [-0.80319482543975, 'мочь'], [-0.6515102381076853, 'заявлять'], [-0.1605999240426361, 'подавать'], [0.491162040354455, 'обвинять'], [0.491162040354455, 'утверждать'], [0.5185610145425694, 'просить'], [0.6055723915321991, 'решать'], [0.6208398636629876, 'отмечать'], [0.6208398636629876, 'считать'], [0.6363440501989528, 'делать'], [0.6363440501989528, 'подтверждать'], [0.8439834149771973, 'находиться'], [0.8832041281304787, 'требовать'], [0.9240261226507338, 'представлять'], [0.9450795318485661, 'сказать'], [0.9665857370695298, 'напоминать'], [0.9665857370695298, 'предъявлять'], [1.0110374996403635, 'начинать'], [1.0575575152752563, 'отказываться'], [1.0575575152752563, 'передавать'], [1.2117081951025148, 'присутствовать'], [1.239879072069211, 'отклонять'], [1.2688666089424634, 'приходить'], [1.2987195720921445, 'назначать'], [1.3940297518964693, 'арестовывать'], [1.3940297518964693, 'возбуждать'], [1.3940297518964693, 'добавлять'], [1.4630226233834207, 'отменять'], [1.5371305955371426, 'подчеркивать'], [1.5371305955371426, 'удаваться'], [1.5631060819404032, 'признавать'], [1.6171733032106792, 'видеть'], [1.7041846802003089, 'обязать'], [1.7041846802003089, 'писать'], [1.7041846802003089, 'поддерживать'], [1.7041846802003089, 'подписывать'], [1.7041846802003089, 'пояснять'], [1.7041846802003089, 'рассчитывать'], [1.7041846802003089, 'устанавливать'], [1.7994948600046337, 'возглавлять'], [1.7994948600046337, 'оказываться'], [1.7994948600046337, 'отстранять'], [1.8507881543921842, 'называть'], [1.90485537566246, 'выдавать'], [1.90485537566246, 'выплачивать'], [1.90485537566246, 'выражать'], [1.90485537566246, 'осуждать'], [1.9620137895024086, 'вести'], [1.9620137895024086, 'задерживать'], [1.9620137895024086, 'заниматься'], [2.0226384113188436, 'комментировать'], [2.0226384113188436, 'уточнять'], [2.156169803943366, 'допросить'], [2.156169803943366, 'передать'], [2.156169803943366, 'приезжать'], [2.156169803943366, 'снимать'], [2.3103204837706244, 'вернуть'], [2.3103204837706244, 'предполагать'], [2.492642040564579, 'звонить'], [2.492642040564579, 'осуществлять'], [2.598002556222405, 'находить'], [2.715785591878789, 'Рэй'], [2.715785591878789, 'воздерживаться'], [2.715785591878789, 'грозить'], [2.715785591878789, 'заменять'], [2.715785591878789, 'излагать'], [2.715785591878789, 'оплачивать'], [2.715785591878789, 'покидать'], [2.715785591878789, 'прогреметь'], [3.0034676643305698, 'Джанет'], [3.0034676643305698, 'замечать'], [3.0034676643305698, 'избирать'], [3.0034676643305698, 'извещать'], [3.0034676643305698, 'курировать'], [3.0034676643305698, 'распространять'], [3.0034676643305698, 'соединять'], [3.1857892211245242, 'подтверждаться'], [3.1857892211245242, 'распорядиться'], [3.408932772438734, 'воздержаться'], [3.408932772438734, 'попадаться'], [3.408932772438734, 'посылать'], [3.408932772438734, 'пресекать'], [3.408932772438734, 'размещать'], [3.408932772438734, 'расследовать'], [3.408932772438734, 'сводить'], [3.696614844890515, 'подчеркнуть'], [4.10207995299868, 'настраивать'], [4.10207995299868, 'ориентировать'], [4.10207995299868, 'природоохрать'], [4.10207995299868, 'сменить'], [5.200692241666789, 'надзирающий']]\n"
          ],
          "name": "stdout"
        }
      ]
    },
    {
      "cell_type": "code",
      "metadata": {
        "colab": {
          "base_uri": "https://localhost:8080/"
        },
        "id": "peKW5_1gLsB9",
        "outputId": "a5ee5c4d-f0c5-4ed1-c4d3-5671b2a45c68"
      },
      "source": [
        "for sentence in law_corpora:\n",
        "  for i in sentence:\n",
        "    if 'председательствующий' in i:\n",
        "      print(sentence)"
      ],
      "execution_count": 633,
      "outputs": [
        {
          "output_type": "stream",
          "text": [
            "['1_Судья_судья_NOUN_9_nsubj', '5_председательствующий_председательствовать_VERB_2_acl', '6_на_на_ADP_7_case', '7_процессе_процесс_NOUN_5_obl', '9_объявил_объявлять_VERB_0_root', '11_что_что_SCONJ_16_mark', '12_всем_весь_PRON_16_iobj', '13_обвиняемым_обвиняемый_VERB_12_acl', '14_был_быть_AUX_16_aux', '15_заблаговременно_заблаговременно_ADV_16_advmod', '16_разослан_разослать_VERB_9_ccomp', '17_список_список_NOUN_16_nsubj', '18_обвинений_обвинение_NOUN_17_nmod']\n",
            "['1_В_в_ADP_2_case', '2_понедельник_понедельник_NOUN_7_obl', '3_Московский_московский_ADJ_6_amod', '4_военный_военный_ADJ_6_amod', '5_окружной_окружной_ADJ_6_amod', '6_суд_суд_NOUN_7_nsubj', '7_перенес_переносить_VERB_0_root', '8_слушания_слушание_NOUN_7_obj', '9_по_по_ADP_10_case', '10_делу_дело_NOUN_8_nmod', '11_об_о_ADP_12_case', '12_убийстве_убийство_NOUN_10_nmod', '13_журналиста_журналист_NOUN_12_nmod', '14_газеты_газета_NOUN_13_nmod', '16_Московский_московский_ADJ_17_amod', '17_Комсомолец_комсомолец_NOUN_14_appos', '21_на_на_ADP_22_case', '22_22_22_NUM_8_nummod', '23_января_январь_NOUN_22_flat', '24_из-за_из-за_ADP_25_case', '25_болезни_болезнь_NOUN_7_obl', '26_председательствующего_председательствующий_VERB_27_amod', '27_судьи_судья_NOUN_25_nmod']\n",
            "['1_Об_о_ADP_2_case', '2_этом_это_PRON_10_obl', '4_как_как_SCONJ_5_mark', '5_добавляет_добавлять_VERB_10_parataxis', '10_сообщил_сообщать_VERB_0_root', '11_председательствующий_председательствовать_VERB_14_acl', '12_на_на_ADP_13_case', '13_процессе_процесс_NOUN_11_obl', '14_судья_судья_NOUN_10_nsubj', '15_Верховного_верховный_ADJ_16_amod', '16_суда_суд_NOUN_14_nmod', '18_Мухамед_Мухамед_PROPN_14_appos']\n"
          ],
          "name": "stdout"
        }
      ]
    },
    {
      "cell_type": "markdown",
      "metadata": {
        "id": "o_gb8PYuu5bT"
      },
      "source": [
        "Результаты PMI"
      ]
    },
    {
      "cell_type": "code",
      "metadata": {
        "id": "DBb2DwbBulm5"
      },
      "source": [
        "len(pmi_list)"
      ],
      "execution_count": null,
      "outputs": []
    },
    {
      "cell_type": "code",
      "metadata": {
        "id": "hTFUAHrcu-Ta",
        "colab": {
          "base_uri": "https://localhost:8080/"
        },
        "outputId": "679643c6-8177-43a0-c36b-9a41a4bd88b9"
      },
      "source": [
        "unlc=[]\n",
        "for sentence in tokens:\n",
        "  if sentence in unlc:\n",
        "    continue\n",
        "  else:\n",
        "    unlc.append(sentence)\n",
        "print(len(unlc))"
      ],
      "execution_count": 144,
      "outputs": [
        {
          "output_type": "stream",
          "text": [
            "188632\n"
          ],
          "name": "stdout"
        }
      ]
    },
    {
      "cell_type": "code",
      "metadata": {
        "id": "ZbjtEcmixtD8"
      },
      "source": [
        "for sentence in unlc:\n",
        "  for i in sentence:\n",
        "    if re.match(r'[0-9]', i):\n",
        "      pass\n",
        "    else:\n",
        "      sentence.remove(i)"
      ],
      "execution_count": 145,
      "outputs": []
    },
    {
      "cell_type": "code",
      "metadata": {
        "id": "aEh19lEvxtEb"
      },
      "source": [
        "for sentence in unlc:\n",
        "  for i in sentence:\n",
        "    if i.startswith('_'):\n",
        "      sentence.remove(i)"
      ],
      "execution_count": 146,
      "outputs": []
    },
    {
      "cell_type": "code",
      "metadata": {
        "id": "qN6JC9dIxtEd"
      },
      "source": [
        "for sentence in unlc:\n",
        "  for i in sentence:\n",
        "    if re.match(r'_', i):\n",
        "      sentence.remove(i)"
      ],
      "execution_count": 147,
      "outputs": []
    },
    {
      "cell_type": "code",
      "metadata": {
        "id": "suWRI2_TxtEe"
      },
      "source": [
        "for sentence in unlc:\n",
        "  for i in sentence:\n",
        "    if re.match(r':', i):\n",
        "      sentence.remove(i)"
      ],
      "execution_count": 148,
      "outputs": []
    },
    {
      "cell_type": "code",
      "metadata": {
        "id": "98pgim3cxtEf"
      },
      "source": [
        "for sentence in unlc:\n",
        "  for i in sentence:\n",
        "    if re.match(r'[а-я]', i):\n",
        "      sentence.remove(i)"
      ],
      "execution_count": 149,
      "outputs": []
    },
    {
      "cell_type": "code",
      "metadata": {
        "id": "-2vKz4JExtEg"
      },
      "source": [
        "for sentence in unlc:\n",
        "  for i in sentence:\n",
        "    if i=='':\n",
        "      print(sentence)"
      ],
      "execution_count": 150,
      "outputs": []
    },
    {
      "cell_type": "code",
      "metadata": {
        "id": "D0etbQDfxtEh"
      },
      "source": [
        "for sentence in unlc:\n",
        "  for i in sentence:\n",
        "    if re.match(r'_PUNCT_', i):\n",
        "      sentence.remove(i)"
      ],
      "execution_count": 151,
      "outputs": []
    },
    {
      "cell_type": "code",
      "metadata": {
        "id": "NU2ziQa_yJ1q",
        "colab": {
          "base_uri": "https://localhost:8080/"
        },
        "outputId": "c409fe3d-f325-403e-e1bd-2d384539dfec"
      },
      "source": [
        "len(unlc)"
      ],
      "execution_count": 152,
      "outputs": [
        {
          "output_type": "execute_result",
          "data": {
            "text/plain": [
              "188632"
            ]
          },
          "metadata": {
            "tags": []
          },
          "execution_count": 152
        }
      ]
    },
    {
      "cell_type": "code",
      "metadata": {
        "colab": {
          "base_uri": "https://localhost:8080/"
        },
        "id": "g_Qv_0GM4aBT",
        "outputId": "47f16172-a1df-4639-f799-2057436446ec"
      },
      "source": [
        "parsed_unlc=[]\n",
        "for sentence in unlc:\n",
        "  p_sent=[]\n",
        "  for i in sentence:\n",
        "    w=[]\n",
        "    w=i.split(sep=\"_\")\n",
        "    if re.match(r'_PUNCT_', i):\n",
        "      pass\n",
        "    else:\n",
        "      if len(w)<3:\n",
        "        if i not in sentence:\n",
        "          pass\n",
        "        else:\n",
        "          sentence.remove(i)\n",
        "      else:\n",
        "        p_sent.append(w[2])\n",
        "  parsed_unlc.append(p_sent)\n",
        "print(parsed_unlc[:10])"
      ],
      "execution_count": 153,
      "outputs": [
        {
          "output_type": "stream",
          "text": [
            "[['бой', 'в', 'и', 'заканчиваться', 'отступление', 'германец'], ['неприятель', 'с', 'север', 'к', 'начинать', 'артиллерийский', 'борьба', 'с', 'крепость'], ['в', 'артиллерийский', 'бой', 'принимать', 'участие', 'тяжелый', 'калибр'], ['с', 'ранний', 'утро', '14', 'сентябрь', 'огонь', 'достигать', 'значительный', 'напряжение'], ['германский', 'пехота', 'пробиваться', 'близко', 'к', 'крепость', 'отражать'], ['в', 'мы', 'занимать'], ['большой', 'колонна', 'по', 'шоссе', 'от', 'к', 'с', 'высота', 'наш', 'батарея', 'и', 'бежать', 'парк', 'и', 'автомобиль'], ['вылазка', 'гарнизон', 'оставаться', 'безуспешный'], ['при', 'продолжающться', 'отступление', 'австриец', 'обнаруживать', 'полный', 'перемешивание', 'они', 'часть', 'новый', 'партия', 'и', 'прочий', 'материальный', 'часть'], ['на', 'перевал', 'мы', 'разбивать', 'неприятельский', 'отряд', 'он', 'артиллерия', 'и', 'много', 'пленный', 'и', 'преследовать', 'в', 'предел']]\n"
          ],
          "name": "stdout"
        }
      ]
    },
    {
      "cell_type": "code",
      "metadata": {
        "colab": {
          "base_uri": "https://localhost:8080/"
        },
        "id": "wr3lSl_CY02h",
        "outputId": "9c430f34-0fb9-48b9-9167-459f41737cfe"
      },
      "source": [
        "count=0\n",
        "for sentence in tokens:\n",
        "  count += len(sentence)\n",
        "print(count)"
      ],
      "execution_count": 154,
      "outputs": [
        {
          "output_type": "stream",
          "text": [
            "3249034\n"
          ],
          "name": "stdout"
        }
      ]
    },
    {
      "cell_type": "code",
      "metadata": {
        "colab": {
          "base_uri": "https://localhost:8080/"
        },
        "id": "dg8nXCPZ4oyC",
        "outputId": "f0170f5e-38b3-4d42-ea00-16fc182a5e2d"
      },
      "source": [
        "spisok = []\n",
        "diff = {}\n",
        "b = {}\n",
        "for sentence in unlc:\n",
        "  for i in sentence:\n",
        "    if '_прокурор_' in i:\n",
        "      if i not in sentence:\n",
        "        pass\n",
        "      else:\n",
        "        n = sentence.index(i)\n",
        "        #print(n)\n",
        "        if i == sentence[-1]:\n",
        "          p = sentence[n-1]\n",
        "          big = p.split('_')\n",
        "          #print(big)\n",
        "          if len(big) < 4:\n",
        "            pass\n",
        "          else:\n",
        "            #print(big[3])\n",
        "            if big[3] == 'VERB':\n",
        "              spisok.append('прокурор '+big[2])\n",
        "            else:\n",
        "              pass\n",
        "            #print(spisok)\n",
        "        else:\n",
        "          m = sentence[n+1]\n",
        "          big = m.split('_')\n",
        "          if len(big) < 4:\n",
        "            pass\n",
        "          else:\n",
        "            if big[3] == 'VERB':\n",
        "              spisok.append('прокурор '+big[2])\n",
        "          if i == sentence[-2]:\n",
        "            pass\n",
        "          else:\n",
        "            o = sentence[n+2]\n",
        "            big = o.split('_')\n",
        "            if len(big) < 4:\n",
        "               pass\n",
        "            else:\n",
        "              if big[3] == 'VERB':\n",
        "                spisok.append('прокурор '+big[2])\n",
        "            if i == sentence[-1]:\n",
        "              pass\n",
        "print(spisok)\n",
        "for i in spisok:\n",
        "  freq_b = 1\n",
        "  big = i.split(' ')[1]\n",
        "  for sentence in parsed_unlc:\n",
        "    for i in sentence:\n",
        "      if i == big:\n",
        "      #print(sentence)\n",
        "        freq_b += 1\n",
        "  b[big] = freq_b\n",
        "for i in spisok:\n",
        "  if i in diff.keys():\n",
        "    for w, l in diff.items():\n",
        "      diff[i] = l+1\n",
        "  else:\n",
        "    diff[i] = 1\n",
        "print(diff)\n",
        "freq_a=0\n",
        "for sentence in parsed_unlc:\n",
        "  for i in sentence:\n",
        "    if i == 'прокурор':\n",
        "      #print(sentence)\n",
        "      freq_a += 1\n",
        "print(freq_a)"
      ],
      "execution_count": 155,
      "outputs": [
        {
          "output_type": "stream",
          "text": [
            "['прокурор добавлять', 'прокурор считать', 'прокурор искать', 'прокурор заменять', 'прокурор вылетать', 'прокурор находить', 'прокурор возможностьвстретиться', 'прокурор требовать', 'прокурор арестовывать', 'прокурор обвинять', 'прокурор просить', 'прокурор делать', 'прокурор утверждать', 'прокурор сменить', 'прокурор объявлять', 'прокурор признавать', 'прокурор придерживаться', 'прокурор предъявлять', 'прокурор заявлять', 'прокурор признавать', 'прокурор задерживать', 'прокурор сообщать', 'прокурор сообщать', 'прокурор сообщать', 'прокурор считать', 'прокурор звонить', 'прокурор отказываться', 'прокурор применять', 'прокурор быть', 'прокурор сообщать', 'прокурор пообещать', 'прокурор подавать', 'прокурор отказываться', 'прокурор сообщать', 'прокурор отменять', 'прокурор ориентировать', 'прокурор отвечать', 'прокурор излагать', 'прокурор обвинять', 'прокурор освобождать', 'прокурор обещать', 'прокурор обращаться', 'прокурор удовлетворять', 'прокурор сообщать', 'прокурор назначать', 'прокурор отмечать', 'прокурор нарушать', 'прокурор высказаться', 'прокурор считать', 'прокурор писать', 'прокурор выдвигать', 'прокурор считать', 'прокурор оставлять', 'прокурор природоохрать', 'прокурор подавать', 'прокурор находить', 'прокурор присутствовать', 'прокурор присутствовать', 'прокурор направлять', 'прокурор отмечать', 'прокурор сообщать', 'прокурор отмечать', 'прокурор сообщать', 'прокурор получать', 'прокурор называть', 'прокурор сказать', 'прокурор обвинять', 'прокурор курировать', 'прокурор просить', 'прокурор назначать', 'прокурор направлять', 'прокурор уточнять', 'прокурор знать', 'прокурор заявлять', 'прокурор подавать', 'прокурор выдвигать', 'прокурор покидать', 'прокурор быть', 'прокурор подписывать', 'прокурор сводить', 'прокурор курировать', 'прокурор называть', 'прокурор Коннектикут', 'прокурор распорядиться', 'прокурор начинать', 'прокурор поддерживать', 'прокурор распорядиться', 'прокурор начинать', 'прокурор предъявлять', 'прокурор арестовывать', 'прокурор выдавать', 'прокурор разрешать', 'прокурор сообщать', 'прокурор объявлять', 'прокурор утверждать', 'прокурор соединять', 'прокурор решать', 'прокурор сообщать', 'прокурор освобождать', 'прокурор озаботить', 'прокурор заявлять', 'прокурор передавать', 'прокурор замечать', 'прокурор сказать', 'прокурор направлять', 'прокурор пояснять', 'прокурор предлагать', 'прокурор сказать', 'прокурор добавлять', 'прокурор называть', 'прокурор подавать', 'прокурор предлагать', 'прокурор заявлять', 'прокурор заявлять', 'прокурор исключать', 'прокурор амнистированный', 'прокурор устанавливать', 'прокурор подчеркивать', 'прокурор сообщать', 'прокурор отменять', 'прокурор предписывать', 'прокурор передавать', 'прокурор находиться', 'прокурор заявлять', 'прокурор сообщать', 'прокурор выплачивать', 'прокурор распространять', 'прокурор заявлять', 'прокурор подавать', 'прокурор заявлять', 'прокурор отмечать', 'прокурор требовать', 'прокурор утверждать', 'прокурор сообщать', 'прокурор доказывать', 'прокурор отмечать', 'прокурор считать', 'прокурор надуманный', 'прокурор удаваться', 'прокурор опротестовать', 'прокурор задерживать', 'прокурор работать', 'прокурор видеть', 'прокурор совершать', 'прокурор предъявлять', 'прокурор заявлять', 'прокурор призывать', 'прокурор настраивать', 'прокурор принимать', 'прокурор входить', 'прокурор требовать', 'прокурор устанавливать', 'прокурор обязать', 'прокурор указывать', 'прокурор посылать', 'прокурор сообщать', 'прокурор застрелить', 'прокурор заявлять', 'прокурор требовать', 'прокурор назначать', 'прокурор сказать', 'прокурор прибывать', 'прокурор назначаться', 'прокурор осуществлять', 'прокурор обвинять', 'прокурор удивлять', 'прокурор оказываться', 'прокурор возглавлять', 'прокурор принимать', 'прокурор напоминать', 'прокурор заявлять', 'прокурор расценивать', 'прокурор обвинять', 'прокурор Рэй', 'прокурор находиться', 'прокурор поступивать', 'прокурор надзирающий', 'прокурор способствовать', 'прокурор сказать', 'прокурор заявлять', 'прокурор принимать', 'прокурор предъявлять', 'прокурор арестовывать', 'прокурор выдавать', 'прокурор разрешать', 'прокурор заявлять', 'прокурор провозглашать', 'прокурор уделять', 'прокурор касаться', 'прокурор заявлять', 'прокурор прогреметь', 'прокурор находиться', 'прокурор задерживать', 'прокурор работать', 'прокурор видеть', 'прокурор совершать', 'прокурор предъявлять', 'прокурор заявлять', 'прокурор призывать', 'прокурор настраивать', 'прокурор принимать', 'прокурор входить', 'прокурор требовать', 'прокурор устанавливать', 'прокурор обязать', 'прокурор указывать', 'прокурор посылать', 'прокурор сообщать', 'прокурор застрелить', 'прокурор заявлять', 'прокурор требовать', 'прокурор назначать', 'прокурор сказать', 'прокурор распространять', 'прокурор контролировать', 'прокурор сообщать', 'прокурор приезжать', 'прокурор заявлять', 'прокурор передать', 'прокурор выступать', 'прокурор заявлять', 'прокурор решать', 'прокурор настаивать', 'прокурор решать', 'прокурор обвинять', 'прокурор заявлять', 'прокурор возбуждать', 'прокурор ставить', 'прокурор отмечать', 'прокурор вести', 'прокурор мочь', 'прокурор брать', 'прокурор комментировать', 'прокурор госпитализировать', 'прокурор сказать', 'прокурор подчеркивать', 'прокурор мочь', 'прокурор состояться', 'прокурор давать', 'прокурор рассчитывать', 'прокурор приглашать', 'прокурор распространять', 'прокурор сообщать', 'прокурор назначить', 'прокурор предлагать', 'прокурор соединять', 'прокурор обвинять', 'прокурор отклонять', 'прокурор судить', 'прокурор заявлять', 'прокурор снимать', 'прокурор заявлять', 'прокурор наказать', 'прокурор сообщать', 'прокурор сообщать', 'прокурор приходить', 'прокурор подчеркнуть', 'прокурор грозить', 'прокурор представлять', 'прокурор заявлять', 'прокурор решать', 'прокурор заявлять', 'прокурор сказать', 'прокурор подтверждать', 'прокурор задерживать', 'прокурор пояснять', 'прокурор раскритиковывать', 'прокурор воздержаться', 'прокурор пояснять', 'прокурор сообщать', 'прокурор считать', 'прокурор издать', 'прокурор утверждать', 'прокурор предполагать', 'прокурор подчеркивать', 'прокурор стать', 'прокурор считать', 'прокурор Джанет', 'прокурор распорядиться', 'прокурор осуждать', 'прокурор избирать', 'прокурор опротестовывать', 'прокурор сказать', 'прокурор подводить', 'прокурор выражать', 'прокурор вернуть', 'прокурор осуждать', 'прокурор попадаться', 'прокурор передавать', 'прокурор отмечать', 'прокурор удаваться', 'прокурор считать', 'прокурор заниматься', 'прокурор заниматься', 'прокурор расследовать', 'прокурор поручить', 'прокурор отказываться', 'прокурор допросить', 'прокурор заниматься', 'прокурор предполагать', 'прокурор отреагировать', 'прокурор арестовывать', 'прокурор размещать', 'прокурор пояснять', 'прокурор сообщать', 'прокурор подавать', 'прокурор сообщать', 'прокурор представлять', 'прокурор подтверждаться', 'прокурор требовать', 'прокурор соглашаться', 'прокурор вести', 'прокурор начинать', 'прокурор начинать', 'прокурор заявлять', 'прокурор подтверждаться', 'прокурор извещать', 'прокурор проходить', 'прокурор пресекать', 'прокурор отстранять', 'прокурор представлять', 'прокурор заявлять', 'прокурор воздерживаться', 'прокурор оплачивать', 'прокурор заявлять', 'прокурор требовать', 'прокурор подчеркивать', 'прокурор подчеркивать', 'прокурор заявлять', 'прокурор заявлять', 'прокурор отмечать', 'прокурор отклонять', 'прокурор сказать', 'прокурор писать', 'прокурор касаться', 'прокурор подчеркнуть', 'прокурор исключать', 'прокурор заявлять', 'прокурор подвергать', 'прокурор замечать', 'прокурор подчеркивать', 'прокурор отмечать', 'прокурор сказать', 'прокурор указывать', 'прокурор сказать', 'прокурор свидетельствовать', 'прокурор сожалеть', 'прокурор сообщать', 'прокурор уточнять', 'прокурор определять', 'прокурор удовлетворять']\n",
            "{'прокурор добавлять': 2, 'прокурор считать': 2, 'прокурор искать': 1, 'прокурор заменять': 1, 'прокурор вылетать': 1, 'прокурор находить': 2, 'прокурор возможностьвстретиться': 1, 'прокурор требовать': 2, 'прокурор арестовывать': 2, 'прокурор обвинять': 2, 'прокурор просить': 2, 'прокурор делать': 1, 'прокурор утверждать': 2, 'прокурор сменить': 1, 'прокурор объявлять': 2, 'прокурор признавать': 2, 'прокурор придерживаться': 1, 'прокурор предъявлять': 2, 'прокурор заявлять': 2, 'прокурор задерживать': 2, 'прокурор сообщать': 2, 'прокурор звонить': 1, 'прокурор отказываться': 2, 'прокурор применять': 1, 'прокурор быть': 2, 'прокурор пообещать': 1, 'прокурор подавать': 2, 'прокурор отменять': 2, 'прокурор ориентировать': 1, 'прокурор отвечать': 1, 'прокурор излагать': 1, 'прокурор освобождать': 2, 'прокурор обещать': 1, 'прокурор обращаться': 1, 'прокурор удовлетворять': 2, 'прокурор назначать': 2, 'прокурор отмечать': 2, 'прокурор нарушать': 1, 'прокурор высказаться': 1, 'прокурор писать': 2, 'прокурор выдвигать': 2, 'прокурор оставлять': 1, 'прокурор природоохрать': 1, 'прокурор присутствовать': 3, 'прокурор направлять': 2, 'прокурор получать': 1, 'прокурор называть': 2, 'прокурор сказать': 2, 'прокурор курировать': 2, 'прокурор уточнять': 2, 'прокурор знать': 1, 'прокурор покидать': 1, 'прокурор подписывать': 1, 'прокурор сводить': 1, 'прокурор Коннектикут': 1, 'прокурор распорядиться': 2, 'прокурор начинать': 2, 'прокурор поддерживать': 1, 'прокурор выдавать': 2, 'прокурор разрешать': 2, 'прокурор соединять': 2, 'прокурор решать': 2, 'прокурор озаботить': 1, 'прокурор передавать': 2, 'прокурор замечать': 2, 'прокурор пояснять': 2, 'прокурор предлагать': 2, 'прокурор исключать': 2, 'прокурор амнистированный': 1, 'прокурор устанавливать': 2, 'прокурор подчеркивать': 2, 'прокурор предписывать': 1, 'прокурор находиться': 2, 'прокурор выплачивать': 1, 'прокурор распространять': 2, 'прокурор доказывать': 1, 'прокурор надуманный': 1, 'прокурор удаваться': 2, 'прокурор опротестовать': 1, 'прокурор работать': 2, 'прокурор видеть': 2, 'прокурор совершать': 2, 'прокурор призывать': 2, 'прокурор настраивать': 2, 'прокурор принимать': 2, 'прокурор входить': 2, 'прокурор обязать': 2, 'прокурор указывать': 2, 'прокурор посылать': 2, 'прокурор застрелить': 2, 'прокурор прибывать': 1, 'прокурор назначаться': 1, 'прокурор осуществлять': 1, 'прокурор удивлять': 1, 'прокурор оказываться': 1, 'прокурор возглавлять': 1, 'прокурор напоминать': 1, 'прокурор расценивать': 1, 'прокурор Рэй': 1, 'прокурор поступивать': 1, 'прокурор надзирающий': 1, 'прокурор способствовать': 1, 'прокурор провозглашать': 1, 'прокурор уделять': 1, 'прокурор касаться': 2, 'прокурор прогреметь': 1, 'прокурор контролировать': 1, 'прокурор приезжать': 1, 'прокурор передать': 1, 'прокурор выступать': 1, 'прокурор настаивать': 1, 'прокурор возбуждать': 1, 'прокурор ставить': 1, 'прокурор вести': 2, 'прокурор мочь': 2, 'прокурор брать': 1, 'прокурор комментировать': 1, 'прокурор госпитализировать': 1, 'прокурор состояться': 1, 'прокурор давать': 1, 'прокурор рассчитывать': 1, 'прокурор приглашать': 1, 'прокурор назначить': 1, 'прокурор отклонять': 2, 'прокурор судить': 1, 'прокурор снимать': 1, 'прокурор наказать': 1, 'прокурор приходить': 1, 'прокурор подчеркнуть': 2, 'прокурор грозить': 1, 'прокурор представлять': 2, 'прокурор подтверждать': 1, 'прокурор раскритиковывать': 1, 'прокурор воздержаться': 1, 'прокурор издать': 1, 'прокурор предполагать': 2, 'прокурор стать': 1, 'прокурор Джанет': 1, 'прокурор осуждать': 2, 'прокурор избирать': 1, 'прокурор опротестовывать': 1, 'прокурор подводить': 1, 'прокурор выражать': 1, 'прокурор вернуть': 1, 'прокурор попадаться': 1, 'прокурор заниматься': 2, 'прокурор расследовать': 1, 'прокурор поручить': 1, 'прокурор допросить': 1, 'прокурор отреагировать': 1, 'прокурор размещать': 1, 'прокурор подтверждаться': 2, 'прокурор соглашаться': 1, 'прокурор извещать': 1, 'прокурор проходить': 1, 'прокурор пресекать': 1, 'прокурор отстранять': 1, 'прокурор воздерживаться': 1, 'прокурор оплачивать': 1, 'прокурор подвергать': 1, 'прокурор свидетельствовать': 1, 'прокурор сожалеть': 1, 'прокурор определять': 1}\n",
            "876\n"
          ],
          "name": "stdout"
        }
      ]
    },
    {
      "cell_type": "code",
      "metadata": {
        "colab": {
          "base_uri": "https://localhost:8080/"
        },
        "id": "7evsz-0gZSWh",
        "outputId": "41611a44-a399-49f6-c133-9a0bb2086a96"
      },
      "source": [
        "count=0\n",
        "for sentence in tokens:\n",
        "  count += len(sentence)\n",
        "print(count)"
      ],
      "execution_count": 156,
      "outputs": [
        {
          "output_type": "stream",
          "text": [
            "3249034\n"
          ],
          "name": "stdout"
        }
      ]
    },
    {
      "cell_type": "code",
      "metadata": {
        "colab": {
          "base_uri": "https://localhost:8080/"
        },
        "id": "Y8q6M5ge55BA",
        "outputId": "f2e8779b-7886-4f08-e31d-ddc07d73c0fd"
      },
      "source": [
        "diff2={}\n",
        "for w, l in list(diff.items()):\n",
        "  big = w.split(' ')[1]\n",
        "  diff2[big] = l\n",
        "pmi_list=[]\n",
        "for word, lis in diff2.items():\n",
        "  #print(type(lis))\n",
        "  for w, l in b.items():\n",
        "    ind = []\n",
        "    if word == w:\n",
        "      pmi = math.log(3249034*lis/(freq_a * l))\n",
        "      ind.append(pmi)\n",
        "      ind.append(word)\n",
        "      pmi_list.append(ind)\n",
        "print(sorted(pmi_list))"
      ],
      "execution_count": 157,
      "outputs": [
        {
          "output_type": "stream",
          "text": [
            "[[-1.448154821823303, 'быть'], [-0.3666299860059524, 'сообщать'], [-0.08103238191411942, 'получать'], [0.0933150854262487, 'заявлять'], [0.12641574536569364, 'мочь'], [0.4365289539840936, 'напоминать'], [0.4402907139059852, 'проходить'], [0.7196324544415471, 'находиться'], [0.7414637160987815, 'делать'], [0.7539923537819503, 'отмечать'], [0.7660997371948395, 'принимать'], [0.8635002673132216, 'выступать'], [0.9086207025936911, 'состояться'], [0.9295744938972211, 'давать'], [0.9792872146386722, 'оказываться'], [1.0607667041685713, 'считать'], [1.192519528071691, 'сказать'], [1.261956745266909, 'обращаться'], [1.3042679433386317, 'подчеркивать'], [1.3329925183836606, 'подтверждать'], [1.3360647174206308, 'прибывать'], [1.4122260783861946, 'называть'], [1.435743399611026, 'передавать'], [1.4762113491638726, 'задерживать'], [1.4958723935630298, 'поддерживать'], [1.5055459877414081, 'начинать'], [1.5320172163688703, 'удаваться'], [1.5389030025740948, 'подписывать'], [1.5414187271713422, 'приходить'], [1.5656391590651308, 'работать'], [1.6199931598039623, 'брать'], [1.6199931598039623, 'выражать'], [1.674590342853686, 'устанавливать'], [1.6890833501562525, 'снимать'], [1.6978810608597819, 'вести'], [1.7172125178780888, 'ставить'], [1.7531353716491032, 'решать'], [1.7688219678168027, 'утверждать'], [1.7985072602713355, 'отвечать'], [1.8099733973589796, 'возбуждать'], [1.8307814722876414, 'представлять'], [1.8494577366918672, 'предлагать'], [1.855474084878013, 'стать'], [1.8676164717037385, 'знать'], [1.8959369484911939, 'возглавлять'], [1.8959369484911939, 'покидать'], [1.9031441868961432, 'признавать'], [1.9067673792655635, 'находить'], [1.9167993831453525, 'отказываться'], [1.938106349458283, 'объявлять'], [1.955103925826854, 'входить'], [1.964673376843005, 'определять'], [2.0048945903298696, 'требовать'], [2.089451978357933, 'осуществлять'], [2.102610062935444, 'комментировать'], [2.1170627881019244, 'направлять'], [2.1260617239704938, 'заниматься'], [2.1617181751898533, 'оставлять'], [2.16876873318652, 'исключать'], [2.260077495388696, 'обвинять'], [2.2889130450285835, 'совершать'], [2.3131403403639075, 'соглашаться'], [2.3435714575664472, 'приезжать'], [2.4722989978783247, 'выплачивать'], [2.491654440831281, 'подавать'], [2.4981904118110663, 'нарушать'], [2.5080751710436084, 'контролировать'], [2.5214087019130735, 'обещать'], [2.5247700496157783, 'рассчитывать'], [2.5264549699806977, 'призывать'], [2.531526832078658, 'настаивать'], [2.5332231853268365, 'предполагать'], [2.546898612126512, 'касаться'], [2.552075500306046, 'видеть'], [2.5837125852492284, 'указывать'], [2.635005879636779, 'арестовывать'], [2.669426103523258, 'избирать'], [2.6733247439389154, 'пообещать'], [2.693049249286694, 'грозить'], [2.707091606409733, 'просить'], [2.711140194935733, 'предъявлять'], [2.713170652486115, 'освобождать'], [2.746231514747003, 'вылетать'], [2.748334564943782, 'писать'], [2.754670383392868, 'искать'], [2.771764816752168, 'добавлять'], [2.7760844778966844, 'вернуть'], [2.7957572434953892, 'назначать'], [2.806856136563438, 'звонить'], [2.8113304169583593, 'доказывать'], [2.8478641602908152, 'свидетельствовать'], [2.871394657701009, 'применять'], [2.9052962093766905, 'уточнять'], [2.9251973636939854, 'судить'], [2.9403875291879604, 'пояснять'], [2.974113163895997, 'замечать'], [3.020005157152652, 'приглашать'], [3.071007711605025, 'способствовать'], [3.0915664386260615, 'отменять'], [3.1125567145178974, 'выдвигать'], [3.1750770714992314, 'госпитализировать'], [3.1946216675722017, 'распространять'], [3.207866894322222, 'расценивать'], [3.2280696016397417, 'прогреметь'], [3.2348955667101413, 'заменять'], [3.3206623884675666, 'разрешать'], [3.328153060196724, 'выдавать'], [3.3586897840568057, 'размещать'], [3.410391158433696, 'удовлетворять'], [3.431010445636432, 'подвергать'], [3.4351858170469125, 'соединять'], [3.464911997312113, 'передать'], [3.4823037400239825, 'оплачивать'], [3.5059734841098873, 'присутствовать'], [3.5271543061893342, 'воздерживаться'], [3.588639389840015, 'отклонять'], [3.593529375134207, 'расследовать'], [3.7758509319281615, 'осуждать'], [3.7876853895751643, 'уделять'], [3.9144370952143084, 'придерживаться'], [3.9843956838212184, 'воздержаться'], [4.04411491852284, 'пресекать'], [4.107628324245167, 'допросить'], [4.158059177872058, 'отреагировать'], [4.184261550266083, 'посылать'], [4.1931504976833285, 'излагать'], [4.1931504976833285, 'назначить'], [4.211169003186007, 'подводить'], [4.267258469837051, 'предписывать'], [4.326681890307851, 'обязать'], [4.3473011775105865, 'удивлять'], [4.389860791929383, 'отстранять'], [4.389860791929383, 'сводить'], [4.44574125032384, 'подчеркнуть'], [4.567843947124739, 'распорядиться'], [4.607584275774253, 'опротестовать'], [4.634983249962368, 'провозглашать'], [4.648969491937108, 'подтверждаться'], [4.692141663802317, 'застрелить'], [4.922665322414149, 'сожалеть'], [5.040448358070532, 'ориентировать'], [5.127459735060162, 'опротестовывать'], [5.173979750695055, 'извещать'], [5.173979750695055, 'настраивать'], [5.274063209252037, 'попадаться'], [5.328130430522314, 'курировать'], [5.510451987316268, 'Коннектикут'], [5.510451987316268, 'наказать'], [5.579444858803219, 'издать'], [5.653552830956941, 'Рэй'], [5.733595538630477, 'высказаться'], [5.733595538630477, 'назначаться'], [5.915917095424432, 'поступивать'], [6.021277611082258, 'Джанет'], [6.021277611082258, 'поручить'], [6.021277611082258, 'раскритиковывать'], [6.021277611082258, 'сменить'], [6.139060646738642, 'надуманный'], [6.426742719190423, 'озаботить'], [6.832207827298587, 'амнистированный'], [6.832207827298587, 'природоохрать'], [7.525355007858533, 'возможностьвстретиться'], [7.525355007858533, 'надзирающий']]\n"
          ],
          "name": "stdout"
        }
      ]
    },
    {
      "cell_type": "markdown",
      "metadata": {
        "id": "e6Z2b-TDarvn"
      },
      "source": [
        "PMI для общего корпуса"
      ]
    },
    {
      "cell_type": "code",
      "metadata": {
        "colab": {
          "base_uri": "https://localhost:8080/"
        },
        "id": "2auk9NabXEt9",
        "outputId": "f6917f50-6ff9-405c-973c-96068e342b6c"
      },
      "source": [
        "unlc=[]\n",
        "for sentence in law_corpora:\n",
        "  if sentence in unlc:\n",
        "    continue\n",
        "  else:\n",
        "    unlc.append(sentence)\n",
        "print(len(unlc))"
      ],
      "execution_count": 158,
      "outputs": [
        {
          "output_type": "stream",
          "text": [
            "2601\n"
          ],
          "name": "stdout"
        }
      ]
    },
    {
      "cell_type": "code",
      "metadata": {
        "id": "LZnXrklOXZwL"
      },
      "source": [
        "for sentence in unlc:\n",
        "  for i in sentence:\n",
        "    if re.match(r'[0-9]', i):\n",
        "      pass\n",
        "    else:\n",
        "      sentence.remove(i)"
      ],
      "execution_count": 159,
      "outputs": []
    },
    {
      "cell_type": "code",
      "metadata": {
        "id": "-_g6FBZwXZwN"
      },
      "source": [
        "for sentence in unlc:\n",
        "  for i in sentence:\n",
        "    if i.startswith('_'):\n",
        "      sentence.remove(i)"
      ],
      "execution_count": 160,
      "outputs": []
    },
    {
      "cell_type": "code",
      "metadata": {
        "id": "FcTXpFvMXZwP"
      },
      "source": [
        "for sentence in unlc:\n",
        "  for i in sentence:\n",
        "    if re.match(r'_', i):\n",
        "      sentence.remove(i)"
      ],
      "execution_count": 161,
      "outputs": []
    },
    {
      "cell_type": "code",
      "metadata": {
        "id": "Zk9XFdpvXZwQ"
      },
      "source": [
        "for sentence in unlc:\n",
        "  for i in sentence:\n",
        "    if re.match(r':', i):\n",
        "      sentence.remove(i)"
      ],
      "execution_count": 162,
      "outputs": []
    },
    {
      "cell_type": "code",
      "metadata": {
        "id": "I4hSA9YIXZwR"
      },
      "source": [
        "for sentence in unlc:\n",
        "  for i in sentence:\n",
        "    if re.match(r'[а-я]', i):\n",
        "      sentence.remove(i)"
      ],
      "execution_count": 163,
      "outputs": []
    },
    {
      "cell_type": "code",
      "metadata": {
        "id": "qx8gVsfGXZwS"
      },
      "source": [
        "for sentence in unlc:\n",
        "  for i in sentence:\n",
        "    if i=='':\n",
        "      print(sentence)"
      ],
      "execution_count": 164,
      "outputs": []
    },
    {
      "cell_type": "code",
      "metadata": {
        "id": "aKPYfPcQXZwT"
      },
      "source": [
        "for sentence in unlc:\n",
        "  for i in sentence:\n",
        "    if re.match(r'_PUNCT_', i):\n",
        "      sentence.remove(i)"
      ],
      "execution_count": 165,
      "outputs": []
    },
    {
      "cell_type": "code",
      "metadata": {
        "colab": {
          "base_uri": "https://localhost:8080/"
        },
        "id": "yEs8ruuDMwve",
        "outputId": "c0204c5f-0fbb-49ff-b96f-22f9d3c98565"
      },
      "source": [
        "parsed_unlc=[]\n",
        "for sentence in unlc:\n",
        "  p_sent=[]\n",
        "  for i in sentence:\n",
        "    w=[]\n",
        "    w=i.split(sep=\"_\")\n",
        "    if re.match(r'_PUNCT_', i):\n",
        "      pass\n",
        "    else:\n",
        "      if len(w)<3:\n",
        "        if i not in sentence:\n",
        "          pass\n",
        "        else:\n",
        "          sentence.remove(i)\n",
        "      else:\n",
        "        p_sent.append(w[2])\n",
        "  parsed_unlc.append(p_sent)\n",
        "print(parsed_unlc[:10])"
      ],
      "execution_count": 166,
      "outputs": [
        {
          "output_type": "stream",
          "text": [
            "[['швейцарский', 'федеральный', 'прокурор', 'дель', 'Понти', 'заявлять', 'что', 'работать', 'на', 'шеф', 'разведывательный', 'служба', 'и', 'получать', '5,8', 'миллион', 'доллар', 'от', 'министерство', 'оборона', 'для', 'покупка', 'огромный', 'количество', 'оружие'], ['адвокат', 'Сед', 'заявлять', 'что', 'он', 'клиент', 'отвергать', 'этот', 'обвинение'], ['дель', 'Понти', 'недавно', 'становиться', 'прокурор', 'международный', 'по', 'военный', 'преступление', 'заявлять', 'что', 'дело', 'против', 'и', 'еще', 'трое', 'высокопоставленный', 'чиновник', 'закрывать'], ['федеральный', 'прокурор', 'добавлять', 'что', 'расследование', 'быть', 'продолжить', 'в', 'отношение', 'шеф', 'стратегический', 'информационный', 'служба', 'который', 'возникать', 'в', 'документ', 'по', 'дело'], ['бывший', 'генеральный', 'прокурор', 'юрий', 'считать', 'что', 'близкий', 'окружение', 'президент', 'пытаться', 'препятствовать', 'серьезный', 'расследование', 'ситуация', 'связывать', 'с', 'bank', 'of', 'new', 'york', 'через', 'который', 'отмываться', 'деньги', 'получать', 'от'], ['мой', 'адвокат', 'изучать', 'документ', 'чтобы', 'обращаться', 'в', 'суд'], ['сумма', 'возмещение', 'ущерб', 'по', 'иск', 'в', 'настоящий', 'времяопределяться', 'адвокат', 'и', 'юрист', 'заниматься', 'подготовкойисковый', 'заявление'], ['но', 'окружной', 'судья', 'решать', 'дело', 'в', 'польза', 'веб', '-издательствый', 'она', 'отвергать', 'требование', 'в', 'судебный', 'порядок', 'запрещать', 'публикация', 'секретный', 'документ', 'поскольку', 'такой', 'запрет', 'нарушать', 'бы', 'свобода', 'слово'], ['однако', 'судья', 'все', 'же', 'выносить', 'постановление', 'связывать', 'с', 'то', 'что', 'нарушать', 'копирайт', 'компания'], ['при', 'это', 'судья', 'добавлять', 'что', 'судебный', 'система', 'только', 'начинать', 'подходить', 'к', 'такой', 'сложный', 'вопрос', 'как', 'свобода', 'слово', 'и', 'защита', 'интеллектуальный', 'собственность', 'в']]\n"
          ],
          "name": "stdout"
        }
      ]
    },
    {
      "cell_type": "code",
      "metadata": {
        "colab": {
          "base_uri": "https://localhost:8080/"
        },
        "id": "aLV3J43cEhzl",
        "outputId": "6200cc6f-b7d9-4573-bba7-3f9f87b4715d"
      },
      "source": [
        "spisok = []\n",
        "diff = {}\n",
        "b = {}\n",
        "for sentence in unlc:\n",
        "  for i in sentence:\n",
        "    if '_прокурор_' in i:\n",
        "      if i not in sentence:\n",
        "        pass\n",
        "      else:\n",
        "        n = sentence.index(i)\n",
        "        #print(n)\n",
        "        if i == sentence[-1]:\n",
        "          p = sentence[n-1]\n",
        "          big = p.split('_')\n",
        "          #print(big)\n",
        "          if len(big) < 4:\n",
        "            pass\n",
        "          else:\n",
        "            #print(big[3])\n",
        "            if big[3] == 'VERB':\n",
        "              spisok.append('прокурор '+big[2])\n",
        "            else:\n",
        "              pass\n",
        "            #print(spisok)\n",
        "        else:\n",
        "          m = sentence[n+1]\n",
        "          big = m.split('_')\n",
        "          if len(big) < 4:\n",
        "            pass\n",
        "          else:\n",
        "            if big[3] == 'VERB':\n",
        "              spisok.append('прокурор '+big[2])\n",
        "          if i == sentence[-2]:\n",
        "            pass\n",
        "          else:\n",
        "            o = sentence[n+2]\n",
        "            big = p.split('_')\n",
        "            if len(big) < 4:\n",
        "               pass\n",
        "            else:\n",
        "              if big[3] == 'VERB':\n",
        "                spisok.append('прокурор '+big[2])\n",
        "            if i == sentence[-1]:\n",
        "              pass\n",
        "print(spisok)\n",
        "for i in spisok:\n",
        "  if i in diff.keys():\n",
        "    for w, l in diff.items():\n",
        "      diff[i] = l+1\n",
        "  else:\n",
        "    diff[i] = 1\n",
        "print(diff)"
      ],
      "execution_count": 167,
      "outputs": [
        {
          "output_type": "stream",
          "text": [
            "['прокурор добавлять', 'прокурор заменять', 'прокурор находить', 'прокурор делать', 'прокурор сменить', 'прокурор признавать', 'прокурор признавать', 'прокурор задерживать', 'прокурор считать', 'прокурор звонить', 'прокурор отказываться', 'прокурор быть', 'прокурор отказываться', 'прокурор сообщать', 'прокурор ориентировать', 'прокурор излагать', 'прокурор назначать', 'прокурор назначать', 'прокурор назначать', 'прокурор назначать', 'прокурор назначать', 'прокурор назначать', 'прокурор отмечать', 'прокурор назначать', 'прокурор назначать', 'прокурор назначать', 'прокурор назначать', 'прокурор писать', 'прокурор считать', 'прокурор считать', 'прокурор считать', 'прокурор считать', 'прокурор природоохрать', 'прокурор природоохрать', 'прокурор природоохрать', 'прокурор находить', 'прокурор природоохрать', 'прокурор природоохрать', 'прокурор природоохрать', 'прокурор природоохрать', 'прокурор присутствовать', 'прокурор природоохрать', 'прокурор природоохрать', 'прокурор природоохрать', 'прокурор природоохрать', 'прокурор природоохрать', 'прокурор природоохрать', 'прокурор природоохрать', 'прокурор отмечать', 'прокурор природоохрать', 'прокурор природоохрать', 'прокурор природоохрать', 'прокурор отмечать', 'прокурор отмечать', 'прокурор сообщать', 'прокурор отмечать', 'прокурор отмечать', 'прокурор отмечать', 'прокурор отмечать', 'прокурор отмечать', 'прокурор отмечать', 'прокурор отмечать', 'прокурор сказать', 'прокурор сказать', 'прокурор курировать', 'прокурор просить', 'прокурор заявлять', 'прокурор заявлять', 'прокурор заявлять', 'прокурор заявлять', 'прокурор заявлять', 'прокурор покидать', 'прокурор заявлять', 'прокурор заявлять', 'прокурор заявлять', 'прокурор подписывать', 'прокурор заявлять', 'прокурор заявлять', 'прокурор сводить', 'прокурор курировать', 'прокурор называть', 'прокурор распорядиться', 'прокурор поддерживать', 'прокурор распорядиться', 'прокурор предъявлять', 'прокурор арестовывать', 'прокурор выдавать', 'прокурор сообщать', 'прокурор утверждать', 'прокурор соединять', 'прокурор сообщать', 'прокурор передавать', 'прокурор замечать', 'прокурор сказать', 'прокурор сказать', 'прокурор сказать', 'прокурор пояснять', 'прокурор сказать', 'прокурор сказать', 'прокурор сказать', 'прокурор сказать', 'прокурор сказать', 'прокурор называть', 'прокурор подчеркивать', 'прокурор подчеркивать', 'прокурор отменять', 'прокурор подчеркивать', 'прокурор передавать', 'прокурор подчеркивать', 'прокурор подчеркивать', 'прокурор находиться', 'прокурор подчеркивать', 'прокурор подчеркивать', 'прокурор подчеркивать', 'прокурор подчеркивать', 'прокурор подчеркивать', 'прокурор выплачивать', 'прокурор подчеркивать', 'прокурор подчеркивать', 'прокурор подчеркивать', 'прокурор подчеркивать', 'прокурор подчеркивать', 'прокурор заявлять', 'прокурор заявлять', 'прокурор отмечать', 'прокурор требовать', 'прокурор отмечать', 'прокурор сообщать', 'прокурор доказывать', 'прокурор отмечать', 'прокурор считать', 'прокурор удаваться', 'прокурор задерживать', 'прокурор видеть', 'прокурор заявлять', 'прокурор настраивать', 'прокурор требовать', 'прокурор устанавливать', 'прокурор обязать', 'прокурор посылать', 'прокурор сообщать', 'прокурор заявлять', 'прокурор требовать', 'прокурор заявлять', 'прокурор заявлять', 'прокурор заявлять', 'прокурор заявлять', 'прокурор сказать', 'прокурор заявлять', 'прокурор заявлять', 'прокурор заявлять', 'прокурор заявлять', 'прокурор заявлять', 'прокурор заявлять', 'прокурор осуществлять', 'прокурор заявлять', 'прокурор заявлять', 'прокурор заявлять', 'прокурор заявлять', 'прокурор заявлять', 'прокурор оказываться', 'прокурор заявлять', 'прокурор возглавлять', 'прокурор заявлять', 'прокурор заявлять', 'прокурор напоминать', 'прокурор обвинять', 'прокурор Рэй', 'прокурор находиться', 'прокурор поступивать', 'прокурор надзирающий', 'прокурор надзирающий', 'прокурор надзирающий', 'прокурор сказать', 'прокурор надзирающий', 'прокурор заявлять', 'прокурор надзирающий', 'прокурор надзирающий', 'прокурор надзирающий', 'прокурор надзирающий', 'прокурор надзирающий', 'прокурор заявлять', 'прокурор заявлять', 'прокурор заявлять', 'прокурор заявлять', 'прокурор заявлять', 'прокурор заявлять', 'прокурор заявлять', 'прокурор заявлять', 'прокурор заявлять', 'прокурор заявлять', 'прокурор заявлять', 'прокурор заявлять', 'прокурор заявлять', 'прокурор заявлять', 'прокурор заявлять', 'прокурор заявлять', 'прокурор прогреметь', 'прокурор заявлять', 'прокурор заявлять', 'прокурор находиться', 'прокурор заявлять', 'прокурор заявлять', 'прокурор заявлять', 'прокурор заявлять', 'прокурор заявлять', 'прокурор заявлять', 'прокурор распространять', 'прокурор заявлять', 'прокурор заявлять', 'прокурор заявлять', 'прокурор заявлять', 'прокурор заявлять', 'прокурор заявлять', 'прокурор заявлять', 'прокурор заявлять', 'прокурор сообщать', 'прокурор заявлять', 'прокурор приезжать', 'прокурор заявлять', 'прокурор заявлять', 'прокурор передать', 'прокурор заявлять', 'прокурор заявлять', 'прокурор заявлять', 'прокурор заявлять', 'прокурор заявлять', 'прокурор заявлять', 'прокурор решать', 'прокурор заявлять', 'прокурор заявлять', 'прокурор заявлять', 'прокурор заявлять', 'прокурор заявлять', 'прокурор заявлять', 'прокурор заявлять', 'прокурор заявлять', 'прокурор заявлять', 'прокурор возбуждать', 'прокурор заявлять', 'прокурор заявлять', 'прокурор заявлять', 'прокурор заявлять', 'прокурор заявлять', 'прокурор заявлять', 'прокурор заявлять', 'прокурор заявлять', 'прокурор заявлять', 'прокурор заявлять', 'прокурор вести', 'прокурор заявлять', 'прокурор заявлять', 'прокурор брать', 'прокурор комментировать', 'прокурор сказать', 'прокурор подчеркивать', 'прокурор мочь', 'прокурор рассчитывать', 'прокурор распространять', 'прокурор соединять', 'прокурор отклонять', 'прокурор заявлять', 'прокурор снимать', 'прокурор приходить', 'прокурор подчеркнуть', 'прокурор грозить', 'прокурор заявлять', 'прокурор сказать', 'прокурор подтверждать', 'прокурор задерживать', 'прокурор пояснять', 'прокурор воздержаться', 'прокурор пояснять', 'прокурор сообщать', 'прокурор считать', 'прокурор предполагать', 'прокурор подчеркивать', 'прокурор подчеркивать', 'прокурор подчеркивать', 'прокурор подчеркивать', 'прокурор подчеркивать', 'прокурор подчеркивать', 'прокурор подчеркивать', 'прокурор считать', 'прокурор подчеркивать', 'прокурор Джанет', 'прокурор подчеркивать', 'прокурор подчеркивать', 'прокурор подчеркивать', 'прокурор избирать', 'прокурор подчеркивать', 'прокурор выражать', 'прокурор вернуть', 'прокурор осуждать', 'прокурор попадаться', 'прокурор передавать', 'прокурор отмечать', 'прокурор заниматься', 'прокурор расследовать', 'прокурор отказываться', 'прокурор допросить', 'прокурор заниматься', 'прокурор предполагать', 'прокурор размещать', 'прокурор сообщать', 'прокурор подавать', 'прокурор сообщать', 'прокурор представлять', 'прокурор подтверждаться', 'прокурор требовать', 'прокурор вести', 'прокурор начинать', 'прокурор заявлять', 'прокурор подтверждаться', 'прокурор извещать', 'прокурор пресекать', 'прокурор отстранять', 'прокурор представлять', 'прокурор заявлять', 'прокурор воздерживаться', 'прокурор оплачивать', 'прокурор заявлять', 'прокурор подчеркивать', 'прокурор подчеркивать', 'прокурор подчеркивать', 'прокурор подчеркивать', 'прокурор отмечать', 'прокурор отклонять', 'прокурор сказать', 'прокурор подчеркнуть', 'прокурор подчеркнуть', 'прокурор заявлять', 'прокурор подчеркнуть', 'прокурор подчеркнуть', 'прокурор подчеркнуть', 'прокурор подчеркнуть', 'прокурор замечать', 'прокурор подчеркнуть', 'прокурор подчеркивать', 'прокурор подчеркнуть', 'прокурор подчеркнуть', 'прокурор сказать', 'прокурор подчеркнуть', 'прокурор подчеркнуть', 'прокурор подчеркнуть', 'прокурор сказать', 'прокурор сказать', 'прокурор сказать', 'прокурор уточнять']\n",
            "{'прокурор добавлять': 1, 'прокурор заменять': 1, 'прокурор находить': 4, 'прокурор делать': 1, 'прокурор сменить': 1, 'прокурор признавать': 3, 'прокурор задерживать': 2, 'прокурор считать': 2, 'прокурор звонить': 1, 'прокурор отказываться': 2, 'прокурор быть': 1, 'прокурор сообщать': 2, 'прокурор ориентировать': 1, 'прокурор излагать': 1, 'прокурор назначать': 2, 'прокурор отмечать': 2, 'прокурор писать': 1, 'прокурор природоохрать': 2, 'прокурор присутствовать': 1, 'прокурор сказать': 2, 'прокурор курировать': 2, 'прокурор просить': 1, 'прокурор заявлять': 2, 'прокурор покидать': 1, 'прокурор подписывать': 1, 'прокурор сводить': 1, 'прокурор называть': 2, 'прокурор распорядиться': 2, 'прокурор поддерживать': 1, 'прокурор предъявлять': 1, 'прокурор арестовывать': 1, 'прокурор выдавать': 1, 'прокурор утверждать': 1, 'прокурор соединять': 2, 'прокурор передавать': 2, 'прокурор замечать': 2, 'прокурор пояснять': 2, 'прокурор подчеркивать': 2, 'прокурор отменять': 1, 'прокурор находиться': 2, 'прокурор выплачивать': 1, 'прокурор требовать': 2, 'прокурор доказывать': 1, 'прокурор удаваться': 1, 'прокурор видеть': 1, 'прокурор настраивать': 1, 'прокурор устанавливать': 1, 'прокурор обязать': 1, 'прокурор посылать': 1, 'прокурор осуществлять': 1, 'прокурор оказываться': 1, 'прокурор возглавлять': 1, 'прокурор напоминать': 1, 'прокурор обвинять': 1, 'прокурор Рэй': 1, 'прокурор поступивать': 1, 'прокурор надзирающий': 3, 'прокурор прогреметь': 1, 'прокурор распространять': 2, 'прокурор приезжать': 1, 'прокурор передать': 1, 'прокурор решать': 1, 'прокурор возбуждать': 1, 'прокурор вести': 2, 'прокурор брать': 1, 'прокурор комментировать': 1, 'прокурор мочь': 1, 'прокурор рассчитывать': 1, 'прокурор отклонять': 2, 'прокурор снимать': 1, 'прокурор приходить': 1, 'прокурор подчеркнуть': 2, 'прокурор грозить': 1, 'прокурор подтверждать': 1, 'прокурор воздержаться': 1, 'прокурор предполагать': 2, 'прокурор Джанет': 1, 'прокурор избирать': 1, 'прокурор выражать': 1, 'прокурор вернуть': 1, 'прокурор осуждать': 1, 'прокурор попадаться': 1, 'прокурор заниматься': 2, 'прокурор расследовать': 1, 'прокурор допросить': 1, 'прокурор размещать': 1, 'прокурор подавать': 1, 'прокурор представлять': 2, 'прокурор подтверждаться': 2, 'прокурор начинать': 1, 'прокурор извещать': 1, 'прокурор пресекать': 1, 'прокурор отстранять': 1, 'прокурор воздерживаться': 1, 'прокурор оплачивать': 1, 'прокурор уточнять': 1}\n"
          ],
          "name": "stdout"
        }
      ]
    },
    {
      "cell_type": "code",
      "metadata": {
        "colab": {
          "base_uri": "https://localhost:8080/"
        },
        "id": "q5IjupsbPArp",
        "outputId": "8f0c2394-1893-4efd-e86e-602ef7a279b7"
      },
      "source": [
        "diff2=diff.copy()\n",
        "for w,l in diff.items():\n",
        "  summa=sum(diff.values())\n",
        "  diff2[w] = summa-l\n",
        "print(diff2)"
      ],
      "execution_count": 168,
      "outputs": [
        {
          "output_type": "stream",
          "text": [
            "{'прокурор добавлять': 129, 'прокурор заменять': 129, 'прокурор находить': 126, 'прокурор делать': 129, 'прокурор сменить': 129, 'прокурор признавать': 127, 'прокурор задерживать': 128, 'прокурор считать': 128, 'прокурор звонить': 129, 'прокурор отказываться': 128, 'прокурор быть': 129, 'прокурор сообщать': 128, 'прокурор ориентировать': 129, 'прокурор излагать': 129, 'прокурор назначать': 128, 'прокурор отмечать': 128, 'прокурор писать': 129, 'прокурор природоохрать': 128, 'прокурор присутствовать': 129, 'прокурор сказать': 128, 'прокурор курировать': 128, 'прокурор просить': 129, 'прокурор заявлять': 128, 'прокурор покидать': 129, 'прокурор подписывать': 129, 'прокурор сводить': 129, 'прокурор называть': 128, 'прокурор распорядиться': 128, 'прокурор поддерживать': 129, 'прокурор предъявлять': 129, 'прокурор арестовывать': 129, 'прокурор выдавать': 129, 'прокурор утверждать': 129, 'прокурор соединять': 128, 'прокурор передавать': 128, 'прокурор замечать': 128, 'прокурор пояснять': 128, 'прокурор подчеркивать': 128, 'прокурор отменять': 129, 'прокурор находиться': 128, 'прокурор выплачивать': 129, 'прокурор требовать': 128, 'прокурор доказывать': 129, 'прокурор удаваться': 129, 'прокурор видеть': 129, 'прокурор настраивать': 129, 'прокурор устанавливать': 129, 'прокурор обязать': 129, 'прокурор посылать': 129, 'прокурор осуществлять': 129, 'прокурор оказываться': 129, 'прокурор возглавлять': 129, 'прокурор напоминать': 129, 'прокурор обвинять': 129, 'прокурор Рэй': 129, 'прокурор поступивать': 129, 'прокурор надзирающий': 127, 'прокурор прогреметь': 129, 'прокурор распространять': 128, 'прокурор приезжать': 129, 'прокурор передать': 129, 'прокурор решать': 129, 'прокурор возбуждать': 129, 'прокурор вести': 128, 'прокурор брать': 129, 'прокурор комментировать': 129, 'прокурор мочь': 129, 'прокурор рассчитывать': 129, 'прокурор отклонять': 128, 'прокурор снимать': 129, 'прокурор приходить': 129, 'прокурор подчеркнуть': 128, 'прокурор грозить': 129, 'прокурор подтверждать': 129, 'прокурор воздержаться': 129, 'прокурор предполагать': 128, 'прокурор Джанет': 129, 'прокурор избирать': 129, 'прокурор выражать': 129, 'прокурор вернуть': 129, 'прокурор осуждать': 129, 'прокурор попадаться': 129, 'прокурор заниматься': 128, 'прокурор расследовать': 129, 'прокурор допросить': 129, 'прокурор размещать': 129, 'прокурор подавать': 129, 'прокурор представлять': 128, 'прокурор подтверждаться': 128, 'прокурор начинать': 129, 'прокурор извещать': 129, 'прокурор пресекать': 129, 'прокурор отстранять': 129, 'прокурор воздерживаться': 129, 'прокурор оплачивать': 129, 'прокурор уточнять': 129}\n"
          ],
          "name": "stdout"
        }
      ]
    },
    {
      "cell_type": "code",
      "metadata": {
        "colab": {
          "base_uri": "https://localhost:8080/"
        },
        "id": "tvYrv2zeTiJg",
        "outputId": "3893382a-a34f-4227-cbac-4e8a3c449476"
      },
      "source": [
        "b={}\n",
        "diff3={}\n",
        "print(spisok)\n",
        "for i in spisok:\n",
        "  big = i.split(' ')[1]\n",
        "  freq_b = 4\n",
        "  for sentence in parsed_unlc:\n",
        "    for ip in sentence:\n",
        "      #print(i)\n",
        "      #print(\"___\"+big)\n",
        "      if ip == big:\n",
        "        #print(sentence)\n",
        "        freq_b += 1\n",
        "  b[big] = freq_b\n",
        "print(b)\n",
        "for w,l in diff.items():\n",
        "  big = w.split(' ')[1]\n",
        "  for wor, lis in list(b.items()):\n",
        "    if wor==big:\n",
        "      diff3[\"прокурор \"+wor] = lis - l\n",
        "      #print(lis)\n",
        "      #print(l)\n",
        "print(diff3)"
      ],
      "execution_count": 169,
      "outputs": [
        {
          "output_type": "stream",
          "text": [
            "['прокурор добавлять', 'прокурор заменять', 'прокурор находить', 'прокурор делать', 'прокурор сменить', 'прокурор признавать', 'прокурор признавать', 'прокурор задерживать', 'прокурор считать', 'прокурор звонить', 'прокурор отказываться', 'прокурор быть', 'прокурор отказываться', 'прокурор сообщать', 'прокурор ориентировать', 'прокурор излагать', 'прокурор назначать', 'прокурор назначать', 'прокурор назначать', 'прокурор назначать', 'прокурор назначать', 'прокурор назначать', 'прокурор отмечать', 'прокурор назначать', 'прокурор назначать', 'прокурор назначать', 'прокурор назначать', 'прокурор писать', 'прокурор считать', 'прокурор считать', 'прокурор считать', 'прокурор считать', 'прокурор природоохрать', 'прокурор природоохрать', 'прокурор природоохрать', 'прокурор находить', 'прокурор природоохрать', 'прокурор природоохрать', 'прокурор природоохрать', 'прокурор природоохрать', 'прокурор присутствовать', 'прокурор природоохрать', 'прокурор природоохрать', 'прокурор природоохрать', 'прокурор природоохрать', 'прокурор природоохрать', 'прокурор природоохрать', 'прокурор природоохрать', 'прокурор отмечать', 'прокурор природоохрать', 'прокурор природоохрать', 'прокурор природоохрать', 'прокурор отмечать', 'прокурор отмечать', 'прокурор сообщать', 'прокурор отмечать', 'прокурор отмечать', 'прокурор отмечать', 'прокурор отмечать', 'прокурор отмечать', 'прокурор отмечать', 'прокурор отмечать', 'прокурор сказать', 'прокурор сказать', 'прокурор курировать', 'прокурор просить', 'прокурор заявлять', 'прокурор заявлять', 'прокурор заявлять', 'прокурор заявлять', 'прокурор заявлять', 'прокурор покидать', 'прокурор заявлять', 'прокурор заявлять', 'прокурор заявлять', 'прокурор подписывать', 'прокурор заявлять', 'прокурор заявлять', 'прокурор сводить', 'прокурор курировать', 'прокурор называть', 'прокурор распорядиться', 'прокурор поддерживать', 'прокурор распорядиться', 'прокурор предъявлять', 'прокурор арестовывать', 'прокурор выдавать', 'прокурор сообщать', 'прокурор утверждать', 'прокурор соединять', 'прокурор сообщать', 'прокурор передавать', 'прокурор замечать', 'прокурор сказать', 'прокурор сказать', 'прокурор сказать', 'прокурор пояснять', 'прокурор сказать', 'прокурор сказать', 'прокурор сказать', 'прокурор сказать', 'прокурор сказать', 'прокурор называть', 'прокурор подчеркивать', 'прокурор подчеркивать', 'прокурор отменять', 'прокурор подчеркивать', 'прокурор передавать', 'прокурор подчеркивать', 'прокурор подчеркивать', 'прокурор находиться', 'прокурор подчеркивать', 'прокурор подчеркивать', 'прокурор подчеркивать', 'прокурор подчеркивать', 'прокурор подчеркивать', 'прокурор выплачивать', 'прокурор подчеркивать', 'прокурор подчеркивать', 'прокурор подчеркивать', 'прокурор подчеркивать', 'прокурор подчеркивать', 'прокурор заявлять', 'прокурор заявлять', 'прокурор отмечать', 'прокурор требовать', 'прокурор отмечать', 'прокурор сообщать', 'прокурор доказывать', 'прокурор отмечать', 'прокурор считать', 'прокурор удаваться', 'прокурор задерживать', 'прокурор видеть', 'прокурор заявлять', 'прокурор настраивать', 'прокурор требовать', 'прокурор устанавливать', 'прокурор обязать', 'прокурор посылать', 'прокурор сообщать', 'прокурор заявлять', 'прокурор требовать', 'прокурор заявлять', 'прокурор заявлять', 'прокурор заявлять', 'прокурор заявлять', 'прокурор сказать', 'прокурор заявлять', 'прокурор заявлять', 'прокурор заявлять', 'прокурор заявлять', 'прокурор заявлять', 'прокурор заявлять', 'прокурор осуществлять', 'прокурор заявлять', 'прокурор заявлять', 'прокурор заявлять', 'прокурор заявлять', 'прокурор заявлять', 'прокурор оказываться', 'прокурор заявлять', 'прокурор возглавлять', 'прокурор заявлять', 'прокурор заявлять', 'прокурор напоминать', 'прокурор обвинять', 'прокурор Рэй', 'прокурор находиться', 'прокурор поступивать', 'прокурор надзирающий', 'прокурор надзирающий', 'прокурор надзирающий', 'прокурор сказать', 'прокурор надзирающий', 'прокурор заявлять', 'прокурор надзирающий', 'прокурор надзирающий', 'прокурор надзирающий', 'прокурор надзирающий', 'прокурор надзирающий', 'прокурор заявлять', 'прокурор заявлять', 'прокурор заявлять', 'прокурор заявлять', 'прокурор заявлять', 'прокурор заявлять', 'прокурор заявлять', 'прокурор заявлять', 'прокурор заявлять', 'прокурор заявлять', 'прокурор заявлять', 'прокурор заявлять', 'прокурор заявлять', 'прокурор заявлять', 'прокурор заявлять', 'прокурор заявлять', 'прокурор прогреметь', 'прокурор заявлять', 'прокурор заявлять', 'прокурор находиться', 'прокурор заявлять', 'прокурор заявлять', 'прокурор заявлять', 'прокурор заявлять', 'прокурор заявлять', 'прокурор заявлять', 'прокурор распространять', 'прокурор заявлять', 'прокурор заявлять', 'прокурор заявлять', 'прокурор заявлять', 'прокурор заявлять', 'прокурор заявлять', 'прокурор заявлять', 'прокурор заявлять', 'прокурор сообщать', 'прокурор заявлять', 'прокурор приезжать', 'прокурор заявлять', 'прокурор заявлять', 'прокурор передать', 'прокурор заявлять', 'прокурор заявлять', 'прокурор заявлять', 'прокурор заявлять', 'прокурор заявлять', 'прокурор заявлять', 'прокурор решать', 'прокурор заявлять', 'прокурор заявлять', 'прокурор заявлять', 'прокурор заявлять', 'прокурор заявлять', 'прокурор заявлять', 'прокурор заявлять', 'прокурор заявлять', 'прокурор заявлять', 'прокурор возбуждать', 'прокурор заявлять', 'прокурор заявлять', 'прокурор заявлять', 'прокурор заявлять', 'прокурор заявлять', 'прокурор заявлять', 'прокурор заявлять', 'прокурор заявлять', 'прокурор заявлять', 'прокурор заявлять', 'прокурор вести', 'прокурор заявлять', 'прокурор заявлять', 'прокурор брать', 'прокурор комментировать', 'прокурор сказать', 'прокурор подчеркивать', 'прокурор мочь', 'прокурор рассчитывать', 'прокурор распространять', 'прокурор соединять', 'прокурор отклонять', 'прокурор заявлять', 'прокурор снимать', 'прокурор приходить', 'прокурор подчеркнуть', 'прокурор грозить', 'прокурор заявлять', 'прокурор сказать', 'прокурор подтверждать', 'прокурор задерживать', 'прокурор пояснять', 'прокурор воздержаться', 'прокурор пояснять', 'прокурор сообщать', 'прокурор считать', 'прокурор предполагать', 'прокурор подчеркивать', 'прокурор подчеркивать', 'прокурор подчеркивать', 'прокурор подчеркивать', 'прокурор подчеркивать', 'прокурор подчеркивать', 'прокурор подчеркивать', 'прокурор считать', 'прокурор подчеркивать', 'прокурор Джанет', 'прокурор подчеркивать', 'прокурор подчеркивать', 'прокурор подчеркивать', 'прокурор избирать', 'прокурор подчеркивать', 'прокурор выражать', 'прокурор вернуть', 'прокурор осуждать', 'прокурор попадаться', 'прокурор передавать', 'прокурор отмечать', 'прокурор заниматься', 'прокурор расследовать', 'прокурор отказываться', 'прокурор допросить', 'прокурор заниматься', 'прокурор предполагать', 'прокурор размещать', 'прокурор сообщать', 'прокурор подавать', 'прокурор сообщать', 'прокурор представлять', 'прокурор подтверждаться', 'прокурор требовать', 'прокурор вести', 'прокурор начинать', 'прокурор заявлять', 'прокурор подтверждаться', 'прокурор извещать', 'прокурор пресекать', 'прокурор отстранять', 'прокурор представлять', 'прокурор заявлять', 'прокурор воздерживаться', 'прокурор оплачивать', 'прокурор заявлять', 'прокурор подчеркивать', 'прокурор подчеркивать', 'прокурор подчеркивать', 'прокурор подчеркивать', 'прокурор отмечать', 'прокурор отклонять', 'прокурор сказать', 'прокурор подчеркнуть', 'прокурор подчеркнуть', 'прокурор заявлять', 'прокурор подчеркнуть', 'прокурор подчеркнуть', 'прокурор подчеркнуть', 'прокурор подчеркнуть', 'прокурор замечать', 'прокурор подчеркнуть', 'прокурор подчеркивать', 'прокурор подчеркнуть', 'прокурор подчеркнуть', 'прокурор сказать', 'прокурор подчеркнуть', 'прокурор подчеркнуть', 'прокурор подчеркнуть', 'прокурор сказать', 'прокурор сказать', 'прокурор сказать', 'прокурор уточнять']\n",
            "{'добавлять': 21, 'заменять': 8, 'находить': 25, 'делать': 43, 'сменить': 6, 'признавать': 50, 'задерживать': 33, 'считать': 85, 'звонить': 8, 'отказываться': 50, 'быть': 597, 'сообщать': 432, 'ориентировать': 5, 'излагать': 9, 'назначать': 48, 'отмечать': 90, 'писать': 19, 'природоохрать': 5, 'присутствовать': 21, 'сказать': 62, 'курировать': 7, 'просить': 45, 'заявлять': 290, 'покидать': 9, 'подписывать': 15, 'сводить': 5, 'называть': 32, 'распорядиться': 8, 'поддерживать': 17, 'предъявлять': 42, 'арестовывать': 27, 'выдавать': 15, 'утверждать': 48, 'соединять': 11, 'передавать': 102, 'замечать': 11, 'пояснять': 28, 'подчеркивать': 33, 'отменять': 23, 'находиться': 65, 'выплачивать': 12, 'требовать': 63, 'доказывать': 20, 'удаваться': 16, 'видеть': 15, 'настраивать': 7, 'устанавливать': 23, 'обязать': 15, 'посылать': 6, 'осуществлять': 11, 'оказываться': 16, 'возглавлять': 17, 'напоминать': 30, 'обвинять': 63, 'Рэй': 7, 'поступивать': 5, 'надзирающий': 5, 'прогреметь': 7, 'распространять': 12, 'приезжать': 12, 'передать': 12, 'решать': 42, 'возбуждать': 31, 'вести': 29, 'брать': 21, 'комментировать': 18, 'мочь': 155, 'рассчитывать': 16, 'отклонять': 41, 'снимать': 14, 'приходить': 21, 'подчеркнуть': 7, 'грозить': 9, 'подтверждать': 40, 'воздержаться': 5, 'предполагать': 16, 'Джанет': 6, 'избирать': 9, 'выражать': 17, 'вернуть': 10, 'осуждать': 13, 'попадаться': 6, 'заниматься': 26, 'расследовать': 6, 'допросить': 11, 'размещать': 6, 'подавать': 90, 'представлять': 74, 'подтверждаться': 10, 'начинать': 28, 'извещать': 6, 'пресекать': 5, 'отстранять': 15, 'воздерживаться': 7, 'оплачивать': 7, 'уточнять': 12}\n",
            "{'прокурор добавлять': 20, 'прокурор заменять': 7, 'прокурор находить': 21, 'прокурор делать': 42, 'прокурор сменить': 5, 'прокурор признавать': 47, 'прокурор задерживать': 31, 'прокурор считать': 83, 'прокурор звонить': 7, 'прокурор отказываться': 48, 'прокурор быть': 596, 'прокурор сообщать': 430, 'прокурор ориентировать': 4, 'прокурор излагать': 8, 'прокурор назначать': 46, 'прокурор отмечать': 88, 'прокурор писать': 18, 'прокурор природоохрать': 3, 'прокурор присутствовать': 20, 'прокурор сказать': 60, 'прокурор курировать': 5, 'прокурор просить': 44, 'прокурор заявлять': 288, 'прокурор покидать': 8, 'прокурор подписывать': 14, 'прокурор сводить': 4, 'прокурор называть': 30, 'прокурор распорядиться': 6, 'прокурор поддерживать': 16, 'прокурор предъявлять': 41, 'прокурор арестовывать': 26, 'прокурор выдавать': 14, 'прокурор утверждать': 47, 'прокурор соединять': 9, 'прокурор передавать': 100, 'прокурор замечать': 9, 'прокурор пояснять': 26, 'прокурор подчеркивать': 31, 'прокурор отменять': 22, 'прокурор находиться': 63, 'прокурор выплачивать': 11, 'прокурор требовать': 61, 'прокурор доказывать': 19, 'прокурор удаваться': 15, 'прокурор видеть': 14, 'прокурор настраивать': 6, 'прокурор устанавливать': 22, 'прокурор обязать': 14, 'прокурор посылать': 5, 'прокурор осуществлять': 10, 'прокурор оказываться': 15, 'прокурор возглавлять': 16, 'прокурор напоминать': 29, 'прокурор обвинять': 62, 'прокурор Рэй': 6, 'прокурор поступивать': 4, 'прокурор надзирающий': 2, 'прокурор прогреметь': 6, 'прокурор распространять': 10, 'прокурор приезжать': 11, 'прокурор передать': 11, 'прокурор решать': 41, 'прокурор возбуждать': 30, 'прокурор вести': 27, 'прокурор брать': 20, 'прокурор комментировать': 17, 'прокурор мочь': 154, 'прокурор рассчитывать': 15, 'прокурор отклонять': 39, 'прокурор снимать': 13, 'прокурор приходить': 20, 'прокурор подчеркнуть': 5, 'прокурор грозить': 8, 'прокурор подтверждать': 39, 'прокурор воздержаться': 4, 'прокурор предполагать': 14, 'прокурор Джанет': 5, 'прокурор избирать': 8, 'прокурор выражать': 16, 'прокурор вернуть': 9, 'прокурор осуждать': 12, 'прокурор попадаться': 5, 'прокурор заниматься': 24, 'прокурор расследовать': 5, 'прокурор допросить': 10, 'прокурор размещать': 5, 'прокурор подавать': 89, 'прокурор представлять': 72, 'прокурор подтверждаться': 8, 'прокурор начинать': 27, 'прокурор извещать': 5, 'прокурор пресекать': 4, 'прокурор отстранять': 14, 'прокурор воздерживаться': 6, 'прокурор оплачивать': 6, 'прокурор уточнять': 11}\n"
          ],
          "name": "stdout"
        }
      ]
    },
    {
      "cell_type": "code",
      "metadata": {
        "colab": {
          "base_uri": "https://localhost:8080/"
        },
        "id": "aJcqYDkve8AJ",
        "outputId": "b9de5283-05d6-484f-ad11-873c4f3b7b3f"
      },
      "source": [
        "count=0\n",
        "for sentence in unlc:\n",
        "  count += len(sentence)\n",
        "print(count)"
      ],
      "execution_count": 170,
      "outputs": [
        {
          "output_type": "stream",
          "text": [
            "47845\n"
          ],
          "name": "stdout"
        }
      ]
    },
    {
      "cell_type": "code",
      "metadata": {
        "colab": {
          "base_uri": "https://localhost:8080/"
        },
        "id": "ily0zp04fGX8",
        "outputId": "8d51f9da-3f7d-4d85-9ebd-694e3903b7b5"
      },
      "source": [
        "diff4=diff.copy()\n",
        "for w,l in diff4.items():\n",
        "  for wo,li in diff2.items():\n",
        "    for wor,lis in diff3.items():\n",
        "      if w==wor==wo:\n",
        "        diff4[w]=count-l-li-lis\n",
        "print(diff4)"
      ],
      "execution_count": 171,
      "outputs": [
        {
          "output_type": "stream",
          "text": [
            "{'прокурор добавлять': 47695, 'прокурор заменять': 47708, 'прокурор находить': 47694, 'прокурор делать': 47673, 'прокурор сменить': 47710, 'прокурор признавать': 47668, 'прокурор задерживать': 47684, 'прокурор считать': 47632, 'прокурор звонить': 47708, 'прокурор отказываться': 47667, 'прокурор быть': 47119, 'прокурор сообщать': 47285, 'прокурор ориентировать': 47711, 'прокурор излагать': 47707, 'прокурор назначать': 47669, 'прокурор отмечать': 47627, 'прокурор писать': 47697, 'прокурор природоохрать': 47712, 'прокурор присутствовать': 47695, 'прокурор сказать': 47655, 'прокурор курировать': 47710, 'прокурор просить': 47671, 'прокурор заявлять': 47427, 'прокурор покидать': 47707, 'прокурор подписывать': 47701, 'прокурор сводить': 47711, 'прокурор называть': 47685, 'прокурор распорядиться': 47709, 'прокурор поддерживать': 47699, 'прокурор предъявлять': 47674, 'прокурор арестовывать': 47689, 'прокурор выдавать': 47701, 'прокурор утверждать': 47668, 'прокурор соединять': 47706, 'прокурор передавать': 47615, 'прокурор замечать': 47706, 'прокурор пояснять': 47689, 'прокурор подчеркивать': 47684, 'прокурор отменять': 47693, 'прокурор находиться': 47652, 'прокурор выплачивать': 47704, 'прокурор требовать': 47654, 'прокурор доказывать': 47696, 'прокурор удаваться': 47700, 'прокурор видеть': 47701, 'прокурор настраивать': 47709, 'прокурор устанавливать': 47693, 'прокурор обязать': 47701, 'прокурор посылать': 47710, 'прокурор осуществлять': 47705, 'прокурор оказываться': 47700, 'прокурор возглавлять': 47699, 'прокурор напоминать': 47686, 'прокурор обвинять': 47653, 'прокурор Рэй': 47709, 'прокурор поступивать': 47711, 'прокурор надзирающий': 47713, 'прокурор прогреметь': 47709, 'прокурор распространять': 47705, 'прокурор приезжать': 47704, 'прокурор передать': 47704, 'прокурор решать': 47674, 'прокурор возбуждать': 47685, 'прокурор вести': 47688, 'прокурор брать': 47695, 'прокурор комментировать': 47698, 'прокурор мочь': 47561, 'прокурор рассчитывать': 47700, 'прокурор отклонять': 47676, 'прокурор снимать': 47702, 'прокурор приходить': 47695, 'прокурор подчеркнуть': 47710, 'прокурор грозить': 47707, 'прокурор подтверждать': 47676, 'прокурор воздержаться': 47711, 'прокурор предполагать': 47701, 'прокурор Джанет': 47710, 'прокурор избирать': 47707, 'прокурор выражать': 47699, 'прокурор вернуть': 47706, 'прокурор осуждать': 47703, 'прокурор попадаться': 47710, 'прокурор заниматься': 47691, 'прокурор расследовать': 47710, 'прокурор допросить': 47705, 'прокурор размещать': 47710, 'прокурор подавать': 47626, 'прокурор представлять': 47643, 'прокурор подтверждаться': 47707, 'прокурор начинать': 47688, 'прокурор извещать': 47710, 'прокурор пресекать': 47711, 'прокурор отстранять': 47701, 'прокурор воздерживаться': 47709, 'прокурор оплачивать': 47709, 'прокурор уточнять': 47704}\n"
          ],
          "name": "stdout"
        }
      ]
    },
    {
      "cell_type": "code",
      "metadata": {
        "colab": {
          "base_uri": "https://localhost:8080/"
        },
        "id": "F_U3wLFQBrEe",
        "outputId": "aad77d4e-d3b1-4345-be82-104eeb412836"
      },
      "source": [
        "list1={}\n",
        "for w,l in diff.items():\n",
        "  for wo,li in diff2.items():\n",
        "    if w==wo:\n",
        "      list1[w]=[l,li]\n",
        "print(list1)"
      ],
      "execution_count": 172,
      "outputs": [
        {
          "output_type": "stream",
          "text": [
            "{'прокурор добавлять': [1, 129], 'прокурор заменять': [1, 129], 'прокурор находить': [4, 126], 'прокурор делать': [1, 129], 'прокурор сменить': [1, 129], 'прокурор признавать': [3, 127], 'прокурор задерживать': [2, 128], 'прокурор считать': [2, 128], 'прокурор звонить': [1, 129], 'прокурор отказываться': [2, 128], 'прокурор быть': [1, 129], 'прокурор сообщать': [2, 128], 'прокурор ориентировать': [1, 129], 'прокурор излагать': [1, 129], 'прокурор назначать': [2, 128], 'прокурор отмечать': [2, 128], 'прокурор писать': [1, 129], 'прокурор природоохрать': [2, 128], 'прокурор присутствовать': [1, 129], 'прокурор сказать': [2, 128], 'прокурор курировать': [2, 128], 'прокурор просить': [1, 129], 'прокурор заявлять': [2, 128], 'прокурор покидать': [1, 129], 'прокурор подписывать': [1, 129], 'прокурор сводить': [1, 129], 'прокурор называть': [2, 128], 'прокурор распорядиться': [2, 128], 'прокурор поддерживать': [1, 129], 'прокурор предъявлять': [1, 129], 'прокурор арестовывать': [1, 129], 'прокурор выдавать': [1, 129], 'прокурор утверждать': [1, 129], 'прокурор соединять': [2, 128], 'прокурор передавать': [2, 128], 'прокурор замечать': [2, 128], 'прокурор пояснять': [2, 128], 'прокурор подчеркивать': [2, 128], 'прокурор отменять': [1, 129], 'прокурор находиться': [2, 128], 'прокурор выплачивать': [1, 129], 'прокурор требовать': [2, 128], 'прокурор доказывать': [1, 129], 'прокурор удаваться': [1, 129], 'прокурор видеть': [1, 129], 'прокурор настраивать': [1, 129], 'прокурор устанавливать': [1, 129], 'прокурор обязать': [1, 129], 'прокурор посылать': [1, 129], 'прокурор осуществлять': [1, 129], 'прокурор оказываться': [1, 129], 'прокурор возглавлять': [1, 129], 'прокурор напоминать': [1, 129], 'прокурор обвинять': [1, 129], 'прокурор Рэй': [1, 129], 'прокурор поступивать': [1, 129], 'прокурор надзирающий': [3, 127], 'прокурор прогреметь': [1, 129], 'прокурор распространять': [2, 128], 'прокурор приезжать': [1, 129], 'прокурор передать': [1, 129], 'прокурор решать': [1, 129], 'прокурор возбуждать': [1, 129], 'прокурор вести': [2, 128], 'прокурор брать': [1, 129], 'прокурор комментировать': [1, 129], 'прокурор мочь': [1, 129], 'прокурор рассчитывать': [1, 129], 'прокурор отклонять': [2, 128], 'прокурор снимать': [1, 129], 'прокурор приходить': [1, 129], 'прокурор подчеркнуть': [2, 128], 'прокурор грозить': [1, 129], 'прокурор подтверждать': [1, 129], 'прокурор воздержаться': [1, 129], 'прокурор предполагать': [2, 128], 'прокурор Джанет': [1, 129], 'прокурор избирать': [1, 129], 'прокурор выражать': [1, 129], 'прокурор вернуть': [1, 129], 'прокурор осуждать': [1, 129], 'прокурор попадаться': [1, 129], 'прокурор заниматься': [2, 128], 'прокурор расследовать': [1, 129], 'прокурор допросить': [1, 129], 'прокурор размещать': [1, 129], 'прокурор подавать': [1, 129], 'прокурор представлять': [2, 128], 'прокурор подтверждаться': [2, 128], 'прокурор начинать': [1, 129], 'прокурор извещать': [1, 129], 'прокурор пресекать': [1, 129], 'прокурор отстранять': [1, 129], 'прокурор воздерживаться': [1, 129], 'прокурор оплачивать': [1, 129], 'прокурор уточнять': [1, 129]}\n"
          ],
          "name": "stdout"
        }
      ]
    },
    {
      "cell_type": "code",
      "metadata": {
        "colab": {
          "base_uri": "https://localhost:8080/"
        },
        "id": "q7o96Hj6CNGS",
        "outputId": "aada52fb-ff78-4401-85d7-47400dfadba4"
      },
      "source": [
        "list2={}\n",
        "for w,l in list1.items():\n",
        "  for wo,li in diff3.items():\n",
        "    if w==wo:\n",
        "      l.append(li)\n",
        "      list2[w]=l\n",
        "print(list2)"
      ],
      "execution_count": 173,
      "outputs": [
        {
          "output_type": "stream",
          "text": [
            "{'прокурор добавлять': [1, 129, 20], 'прокурор заменять': [1, 129, 7], 'прокурор находить': [4, 126, 21], 'прокурор делать': [1, 129, 42], 'прокурор сменить': [1, 129, 5], 'прокурор признавать': [3, 127, 47], 'прокурор задерживать': [2, 128, 31], 'прокурор считать': [2, 128, 83], 'прокурор звонить': [1, 129, 7], 'прокурор отказываться': [2, 128, 48], 'прокурор быть': [1, 129, 596], 'прокурор сообщать': [2, 128, 430], 'прокурор ориентировать': [1, 129, 4], 'прокурор излагать': [1, 129, 8], 'прокурор назначать': [2, 128, 46], 'прокурор отмечать': [2, 128, 88], 'прокурор писать': [1, 129, 18], 'прокурор природоохрать': [2, 128, 3], 'прокурор присутствовать': [1, 129, 20], 'прокурор сказать': [2, 128, 60], 'прокурор курировать': [2, 128, 5], 'прокурор просить': [1, 129, 44], 'прокурор заявлять': [2, 128, 288], 'прокурор покидать': [1, 129, 8], 'прокурор подписывать': [1, 129, 14], 'прокурор сводить': [1, 129, 4], 'прокурор называть': [2, 128, 30], 'прокурор распорядиться': [2, 128, 6], 'прокурор поддерживать': [1, 129, 16], 'прокурор предъявлять': [1, 129, 41], 'прокурор арестовывать': [1, 129, 26], 'прокурор выдавать': [1, 129, 14], 'прокурор утверждать': [1, 129, 47], 'прокурор соединять': [2, 128, 9], 'прокурор передавать': [2, 128, 100], 'прокурор замечать': [2, 128, 9], 'прокурор пояснять': [2, 128, 26], 'прокурор подчеркивать': [2, 128, 31], 'прокурор отменять': [1, 129, 22], 'прокурор находиться': [2, 128, 63], 'прокурор выплачивать': [1, 129, 11], 'прокурор требовать': [2, 128, 61], 'прокурор доказывать': [1, 129, 19], 'прокурор удаваться': [1, 129, 15], 'прокурор видеть': [1, 129, 14], 'прокурор настраивать': [1, 129, 6], 'прокурор устанавливать': [1, 129, 22], 'прокурор обязать': [1, 129, 14], 'прокурор посылать': [1, 129, 5], 'прокурор осуществлять': [1, 129, 10], 'прокурор оказываться': [1, 129, 15], 'прокурор возглавлять': [1, 129, 16], 'прокурор напоминать': [1, 129, 29], 'прокурор обвинять': [1, 129, 62], 'прокурор Рэй': [1, 129, 6], 'прокурор поступивать': [1, 129, 4], 'прокурор надзирающий': [3, 127, 2], 'прокурор прогреметь': [1, 129, 6], 'прокурор распространять': [2, 128, 10], 'прокурор приезжать': [1, 129, 11], 'прокурор передать': [1, 129, 11], 'прокурор решать': [1, 129, 41], 'прокурор возбуждать': [1, 129, 30], 'прокурор вести': [2, 128, 27], 'прокурор брать': [1, 129, 20], 'прокурор комментировать': [1, 129, 17], 'прокурор мочь': [1, 129, 154], 'прокурор рассчитывать': [1, 129, 15], 'прокурор отклонять': [2, 128, 39], 'прокурор снимать': [1, 129, 13], 'прокурор приходить': [1, 129, 20], 'прокурор подчеркнуть': [2, 128, 5], 'прокурор грозить': [1, 129, 8], 'прокурор подтверждать': [1, 129, 39], 'прокурор воздержаться': [1, 129, 4], 'прокурор предполагать': [2, 128, 14], 'прокурор Джанет': [1, 129, 5], 'прокурор избирать': [1, 129, 8], 'прокурор выражать': [1, 129, 16], 'прокурор вернуть': [1, 129, 9], 'прокурор осуждать': [1, 129, 12], 'прокурор попадаться': [1, 129, 5], 'прокурор заниматься': [2, 128, 24], 'прокурор расследовать': [1, 129, 5], 'прокурор допросить': [1, 129, 10], 'прокурор размещать': [1, 129, 5], 'прокурор подавать': [1, 129, 89], 'прокурор представлять': [2, 128, 72], 'прокурор подтверждаться': [2, 128, 8], 'прокурор начинать': [1, 129, 27], 'прокурор извещать': [1, 129, 5], 'прокурор пресекать': [1, 129, 4], 'прокурор отстранять': [1, 129, 14], 'прокурор воздерживаться': [1, 129, 6], 'прокурор оплачивать': [1, 129, 6], 'прокурор уточнять': [1, 129, 11]}\n"
          ],
          "name": "stdout"
        }
      ]
    },
    {
      "cell_type": "code",
      "metadata": {
        "id": "O1Ls3MPXC2Ma"
      },
      "source": [
        "log_list={}\n",
        "for w,l in list2.items():\n",
        "  for wo,li in diff4.items():\n",
        "    if w==wo:\n",
        "      l.append(li)\n",
        "      log_list[w]=l"
      ],
      "execution_count": 174,
      "outputs": []
    },
    {
      "cell_type": "code",
      "metadata": {
        "colab": {
          "base_uri": "https://localhost:8080/"
        },
        "id": "GFeKXgWse7z6",
        "outputId": "44889cfc-d6ff-4b4e-9f91-3abe5e2e7690"
      },
      "source": [
        "log_like_list={}\n",
        "ind=[]\n",
        "for w,l in log_list.items():\n",
        "  #print(w,l)\n",
        "  if l[2] == 0 or l[3] == 0:\n",
        "    pass\n",
        "  else:\n",
        "    log_likelihood=math.log((l[0]*l[3])/(l[1]*l[2]))-3.29*(1/(1/l[0]+1/l[2]+1/l[3]+1/l[1]))\n",
        "    log_like_list[w] = log_likelihood\n",
        "    #print(log_likelihood)\n",
        "\n",
        "sorted_dict = {}\n",
        "sorted_keys = sorted(log_like_list, key=log_like_list.get)  # [1, 3, 2]\n",
        "\n",
        "for w in sorted_keys:\n",
        "    sorted_dict[w] = log_like_list[w]\n",
        "\n",
        "print(sorted_dict)\n",
        "#print(result)"
      ],
      "execution_count": 175,
      "outputs": [
        {
          "output_type": "stream",
          "text": [
            "{'прокурор находить': -6.488483036370518, 'прокурор сообщать': -5.90768681926756, 'прокурор признавать': -5.899445614948338, 'прокурор заявлять': -5.489402041043819, 'прокурор передавать': -4.346543644369401, 'прокурор отмечать': -4.201771587077582, 'прокурор считать': -4.134826544863065, 'прокурор представлять': -3.970094017380018, 'прокурор находиться': -3.8124825871709542, 'прокурор требовать': -3.773943160714747, 'прокурор сказать': -3.75412361657393, 'прокурор быть': -3.748818759207235, 'прокурор отказываться': -3.481290793957168, 'прокурор назначать': -3.4280448801493657, 'прокурор отклонять': -3.2173789585198156, 'прокурор задерживать': -2.9120791034967484, 'прокурор подчеркивать': -2.9120791034967484, 'прокурор называть': -2.867164718161932, 'прокурор вести': -2.720416799017434, 'прокурор пояснять': -2.6669106664115523, 'прокурор заниматься': -2.5516986096174805, 'прокурор мочь': -2.370720145547034, 'прокурор подавать': -1.8059420419220253, 'прокурор предполагать': -1.704873071557199, 'прокурор обвинять': -1.4284442016718217, 'прокурор утверждать': -1.1350694900719058, 'прокурор распространять': -1.1013434822130295, 'прокурор просить': -1.0645478701880942, 'прокурор делать': -1.0146364661732297, 'прокурор предъявлять': -0.9887235763108331, 'прокурор решать': -0.9887235763108331, 'прокурор подтверждать': -0.9348132740256969, 'прокурор соединять': -0.8987954044460986, 'прокурор замечать': -0.8987954044460986, 'прокурор подтверждаться': -0.6643313476772486, 'прокурор возбуждать': -0.6487377813366546, 'прокурор напоминать': -0.6113302237694125, 'прокурор начинать': -0.5321122500000866, 'прокурор арестовывать': -0.49006356902711046, 'прокурор отменять': -0.3020466652906797, 'прокурор устанавливать': -0.3020466652906797, 'прокурор добавлять': -0.19327127532944743, 'прокурор присутствовать': -0.19327127532944743, 'прокурор брать': -0.19327127532944743, 'прокурор приходить': -0.19327127532944743, 'прокурор доказывать': -0.13423824219857217, 'прокурор писать': -0.07161845015141832, 'прокурор распорядиться': -0.055453471017456124, 'прокурор комментировать': -0.0049591033479305935, 'прокурор поддерживать': 0.06628224769448865, 'прокурор возглавлять': 0.06628224769448865, 'прокурор выражать': 0.06628224769448865, 'прокурор удаваться': 0.14276260710322441, 'прокурор оказываться': 0.14276260710322441, 'прокурор рассчитывать': 0.14276260710322441, 'прокурор подписывать': 0.22528758414683203, 'прокурор выдавать': 0.22528758414683203, 'прокурор видеть': 0.22528758414683203, 'прокурор обязать': 0.22528758414683203, 'прокурор отстранять': 0.22528758414683203, 'прокурор снимать': 0.3148588886410182, 'прокурор курировать': 0.35658932003074284, 'прокурор подчеркнуть': 0.35658932003074284, 'прокурор осуждать': 0.412742087832767, 'прокурор выплачивать': 0.5205657876453738, 'прокурор приезжать': 0.5205657876453738, 'прокурор передать': 0.5205657876453738, 'прокурор уточнять': 0.5205657876453738, 'прокурор осуществлять': 0.6404711898461941, 'прокурор допросить': 0.6404711898461941, 'прокурор вернуть': 0.775345573472384, 'прокурор излагать': 0.929202077627505, 'прокурор покидать': 0.929202077627505, 'прокурор грозить': 0.929202077627505, 'прокурор избирать': 0.929202077627505, 'прокурор заменять': 1.1078287635193296, 'прокурор звонить': 1.1078287635193296, 'прокурор настраивать': 1.319967322895066, 'прокурор Рэй': 1.319967322895066, 'прокурор прогреметь': 1.319967322895066, 'прокурор воздерживаться': 1.319967322895066, 'прокурор оплачивать': 1.319967322895066, 'прокурор сменить': 1.5796239361943742, 'прокурор посылать': 1.5796239361943742, 'прокурор Джанет': 1.5796239361943742, 'прокурор попадаться': 1.5796239361943742, 'прокурор расследовать': 1.5796239361943742, 'прокурор размещать': 1.5796239361943742, 'прокурор извещать': 1.5796239361943742, 'прокурор природоохрать': 1.6042090335953616, 'прокурор ориентировать': 1.9110759619162363, 'прокурор сводить': 1.9110759619162363, 'прокурор поступивать': 1.9110759619162363, 'прокурор воздержаться': 1.9110759619162363, 'прокурор пресекать': 1.9110759619162363, 'прокурор надзирающий': 2.423289397385868}\n"
          ],
          "name": "stdout"
        }
      ]
    },
    {
      "cell_type": "markdown",
      "metadata": {
        "id": "Vi1j-JB8qXMH"
      },
      "source": [
        "Результаты LL"
      ]
    },
    {
      "cell_type": "code",
      "metadata": {
        "colab": {
          "base_uri": "https://localhost:8080/"
        },
        "id": "SsSYm7M4qZ_K",
        "outputId": "dff0d7c5-e838-49af-c555-1e8eac363978"
      },
      "source": [
        "unlc=[]\n",
        "for sentence in tokens:\n",
        "  if sentence in unlc:\n",
        "    continue\n",
        "  else:\n",
        "    unlc.append(sentence)\n",
        "print(len(unlc))"
      ],
      "execution_count": 176,
      "outputs": [
        {
          "output_type": "stream",
          "text": [
            "197225\n"
          ],
          "name": "stdout"
        }
      ]
    },
    {
      "cell_type": "code",
      "metadata": {
        "id": "RvZ-YL7gqZ_P"
      },
      "source": [
        "for sentence in unlc:\n",
        "  for i in sentence:\n",
        "    if re.match(r'[0-9]', i):\n",
        "      pass\n",
        "    else:\n",
        "      sentence.remove(i)"
      ],
      "execution_count": 177,
      "outputs": []
    },
    {
      "cell_type": "code",
      "metadata": {
        "id": "MKOX-NjxqZ_Q"
      },
      "source": [
        "for sentence in unlc:\n",
        "  for i in sentence:\n",
        "    if i.startswith('_'):\n",
        "      sentence.remove(i)"
      ],
      "execution_count": 178,
      "outputs": []
    },
    {
      "cell_type": "code",
      "metadata": {
        "id": "-y2wY5PsqZ_R"
      },
      "source": [
        "for sentence in unlc:\n",
        "  for i in sentence:\n",
        "    if re.match(r'_', i):\n",
        "      sentence.remove(i)"
      ],
      "execution_count": 179,
      "outputs": []
    },
    {
      "cell_type": "code",
      "metadata": {
        "id": "cJn6wX7gqZ_T"
      },
      "source": [
        "for sentence in unlc:\n",
        "  for i in sentence:\n",
        "    if re.match(r':', i):\n",
        "      sentence.remove(i)"
      ],
      "execution_count": 180,
      "outputs": []
    },
    {
      "cell_type": "code",
      "metadata": {
        "id": "9XJIV-sUqZ_U"
      },
      "source": [
        "for sentence in unlc:\n",
        "  for i in sentence:\n",
        "    if re.match(r'[а-я]', i):\n",
        "      sentence.remove(i)"
      ],
      "execution_count": 181,
      "outputs": []
    },
    {
      "cell_type": "code",
      "metadata": {
        "id": "M4YJTFJRqZ_U"
      },
      "source": [
        "for sentence in unlc:\n",
        "  for i in sentence:\n",
        "    if i=='':\n",
        "      print(sentence)"
      ],
      "execution_count": 182,
      "outputs": []
    },
    {
      "cell_type": "code",
      "metadata": {
        "id": "_QIuV0GnqZ_Y"
      },
      "source": [
        "for sentence in unlc:\n",
        "  for i in sentence:\n",
        "    if re.match(r'_PUNCT_', i):\n",
        "      sentence.remove(i)"
      ],
      "execution_count": 183,
      "outputs": []
    },
    {
      "cell_type": "code",
      "metadata": {
        "colab": {
          "base_uri": "https://localhost:8080/"
        },
        "id": "Wt-AfphFqZ_Z",
        "outputId": "bc06d0a3-14f3-40fc-bdb9-0e25a313ef14"
      },
      "source": [
        "parsed_unlc=[]\n",
        "for sentence in unlc:\n",
        "  p_sent=[]\n",
        "  for i in sentence:\n",
        "    w=[]\n",
        "    w=i.split(sep=\"_\")\n",
        "    if re.match(r'_PUNCT_', i):\n",
        "      pass\n",
        "    else:\n",
        "      if len(w)<3:\n",
        "        if i not in sentence:\n",
        "          pass\n",
        "        else:\n",
        "          sentence.remove(i)\n",
        "      else:\n",
        "        p_sent.append(w[2])\n",
        "  parsed_unlc.append(p_sent)\n",
        "print(parsed_unlc[:10])"
      ],
      "execution_count": 184,
      "outputs": [
        {
          "output_type": "stream",
          "text": [
            "[['бой', 'в', 'и', 'заканчиваться', 'отступление', 'германец'], ['неприятель', 'приближаться', 'с', 'север', 'к', 'начинать', 'артиллерийский', 'борьба', 'с', 'крепость'], ['в', 'артиллерийский', 'бой', 'принимать', 'участие', 'тяжелый', 'калибр'], ['с', 'ранний', 'утро', '14', 'сентябрь', 'огонь', 'достигать', 'значительный', 'напряжение'], ['германский', 'пехота', 'пробиваться', 'близко', 'к', 'крепость', 'отражать'], ['в', 'мы', 'занимать'], ['большой', 'колонна', 'отступать', 'по', 'шоссе', 'от', 'к', 'обстреливаться', 'с', 'высота', 'наш', 'батарея', 'и', 'бежать', 'бросить', 'парк', 'обоз', 'и', 'автомобиль'], ['вылазка', 'гарнизон', 'оставаться', 'безуспешный'], ['при', 'продолжающться', 'отступление', 'австриец', 'обнаруживать', 'полный', 'перемешивание', 'они', 'часть', 'захватывать', 'новый', 'партия', 'пленный', 'орудие', 'и', 'прочий', 'материальный', 'часть'], ['на', 'перевал', 'мы', 'разбивать', 'неприятельский', 'отряд', 'брать', 'он', 'артиллерия', 'и', 'много', 'пленный', 'и', 'продолжать', 'преследовать', 'вступать', 'в', 'предел']]\n"
          ],
          "name": "stdout"
        }
      ]
    },
    {
      "cell_type": "code",
      "metadata": {
        "colab": {
          "base_uri": "https://localhost:8080/"
        },
        "id": "72wTnNcDqZ_b",
        "outputId": "5e62d2fb-5070-41cc-fb7c-0dea61bef779"
      },
      "source": [
        "spisok = []\n",
        "diff = {}\n",
        "b = {}\n",
        "for sentence in unlc:\n",
        "  for i in sentence:\n",
        "    if '_прокурор_' in i:\n",
        "      if i not in sentence:\n",
        "        pass\n",
        "      else:\n",
        "        n = sentence.index(i)\n",
        "        #print(n)\n",
        "        if i == sentence[-1]:\n",
        "          p = sentence[n-1]\n",
        "          big = p.split('_')\n",
        "          #print(big)\n",
        "          if len(big) < 4:\n",
        "            pass\n",
        "          else:\n",
        "            #print(big[3])\n",
        "            if big[3] == 'VERB':\n",
        "              spisok.append('прокурор '+big[2])\n",
        "            else:\n",
        "              pass\n",
        "            #print(spisok)\n",
        "        else:\n",
        "          m = sentence[n+1]\n",
        "          big = m.split('_')\n",
        "          if len(big) < 4:\n",
        "            pass\n",
        "          else:\n",
        "            if big[3] == 'VERB':\n",
        "              spisok.append('прокурор '+big[2])\n",
        "          if i == sentence[-2]:\n",
        "            pass\n",
        "          else:\n",
        "            o = sentence[n+2]\n",
        "            big = p.split('_')\n",
        "            if len(big) < 4:\n",
        "               pass\n",
        "            else:\n",
        "              if big[3] == 'VERB':\n",
        "                spisok.append('прокурор '+big[2])\n",
        "            if i == sentence[-1]:\n",
        "              pass\n",
        "print(spisok)\n",
        "for i in spisok:\n",
        "  if i in diff.keys():\n",
        "    for w, l in diff.items():\n",
        "      diff[i] = l+1\n",
        "  else:\n",
        "    diff[i] = 1\n",
        "print(diff)"
      ],
      "execution_count": 185,
      "outputs": [
        {
          "output_type": "stream",
          "text": [
            "['прокурор добавлять', 'прокурор заменять', 'прокурор находить', 'прокурор делать', 'прокурор сменить', 'прокурор признавать', 'прокурор признавать', 'прокурор задерживать', 'прокурор считать', 'прокурор звонить', 'прокурор отказываться', 'прокурор быть', 'прокурор отказываться', 'прокурор сообщать', 'прокурор ориентировать', 'прокурор излагать', 'прокурор назначать', 'прокурор назначать', 'прокурор назначать', 'прокурор назначать', 'прокурор назначать', 'прокурор назначать', 'прокурор отмечать', 'прокурор назначать', 'прокурор назначать', 'прокурор назначать', 'прокурор назначать', 'прокурор писать', 'прокурор считать', 'прокурор считать', 'прокурор считать', 'прокурор считать', 'прокурор природоохрать', 'прокурор природоохрать', 'прокурор природоохрать', 'прокурор находить', 'прокурор природоохрать', 'прокурор природоохрать', 'прокурор природоохрать', 'прокурор природоохрать', 'прокурор присутствовать', 'прокурор природоохрать', 'прокурор природоохрать', 'прокурор природоохрать', 'прокурор природоохрать', 'прокурор природоохрать', 'прокурор природоохрать', 'прокурор природоохрать', 'прокурор отмечать', 'прокурор природоохрать', 'прокурор природоохрать', 'прокурор природоохрать', 'прокурор отмечать', 'прокурор отмечать', 'прокурор сообщать', 'прокурор отмечать', 'прокурор отмечать', 'прокурор отмечать', 'прокурор отмечать', 'прокурор отмечать', 'прокурор отмечать', 'прокурор отмечать', 'прокурор сказать', 'прокурор сказать', 'прокурор курировать', 'прокурор просить', 'прокурор заявлять', 'прокурор заявлять', 'прокурор заявлять', 'прокурор заявлять', 'прокурор заявлять', 'прокурор покидать', 'прокурор заявлять', 'прокурор заявлять', 'прокурор заявлять', 'прокурор подписывать', 'прокурор заявлять', 'прокурор заявлять', 'прокурор сводить', 'прокурор курировать', 'прокурор называть', 'прокурор распорядиться', 'прокурор поддерживать', 'прокурор распорядиться', 'прокурор предъявлять', 'прокурор арестовывать', 'прокурор выдавать', 'прокурор сообщать', 'прокурор утверждать', 'прокурор соединять', 'прокурор сообщать', 'прокурор передавать', 'прокурор замечать', 'прокурор сказать', 'прокурор сказать', 'прокурор сказать', 'прокурор пояснять', 'прокурор сказать', 'прокурор сказать', 'прокурор сказать', 'прокурор сказать', 'прокурор сказать', 'прокурор называть', 'прокурор подчеркивать', 'прокурор подчеркивать', 'прокурор отменять', 'прокурор подчеркивать', 'прокурор передавать', 'прокурор подчеркивать', 'прокурор подчеркивать', 'прокурор находиться', 'прокурор подчеркивать', 'прокурор подчеркивать', 'прокурор подчеркивать', 'прокурор подчеркивать', 'прокурор подчеркивать', 'прокурор выплачивать', 'прокурор подчеркивать', 'прокурор подчеркивать', 'прокурор подчеркивать', 'прокурор подчеркивать', 'прокурор подчеркивать', 'прокурор заявлять', 'прокурор заявлять', 'прокурор отмечать', 'прокурор требовать', 'прокурор отмечать', 'прокурор сообщать', 'прокурор доказывать', 'прокурор отмечать', 'прокурор считать', 'прокурор удаваться', 'прокурор задерживать', 'прокурор видеть', 'прокурор заявлять', 'прокурор настраивать', 'прокурор требовать', 'прокурор устанавливать', 'прокурор обязать', 'прокурор посылать', 'прокурор сообщать', 'прокурор заявлять', 'прокурор требовать', 'прокурор заявлять', 'прокурор заявлять', 'прокурор заявлять', 'прокурор заявлять', 'прокурор сказать', 'прокурор заявлять', 'прокурор заявлять', 'прокурор заявлять', 'прокурор заявлять', 'прокурор заявлять', 'прокурор заявлять', 'прокурор осуществлять', 'прокурор заявлять', 'прокурор заявлять', 'прокурор заявлять', 'прокурор заявлять', 'прокурор заявлять', 'прокурор оказываться', 'прокурор заявлять', 'прокурор возглавлять', 'прокурор заявлять', 'прокурор заявлять', 'прокурор напоминать', 'прокурор обвинять', 'прокурор Рэй', 'прокурор находиться', 'прокурор поступивать', 'прокурор надзирающий', 'прокурор надзирающий', 'прокурор надзирающий', 'прокурор сказать', 'прокурор надзирающий', 'прокурор заявлять', 'прокурор надзирающий', 'прокурор надзирающий', 'прокурор надзирающий', 'прокурор арестовывать', 'прокурор надзирающий', 'прокурор надзирающий', 'прокурор надзирающий', 'прокурор надзирающий', 'прокурор надзирающий', 'прокурор заявлять', 'прокурор заявлять', 'прокурор заявлять', 'прокурор заявлять', 'прокурор заявлять', 'прокурор заявлять', 'прокурор заявлять', 'прокурор заявлять', 'прокурор заявлять', 'прокурор заявлять', 'прокурор заявлять', 'прокурор заявлять', 'прокурор заявлять', 'прокурор заявлять', 'прокурор заявлять', 'прокурор заявлять', 'прокурор прогреметь', 'прокурор заявлять', 'прокурор заявлять', 'прокурор находиться', 'прокурор заявлять', 'прокурор заявлять', 'прокурор заявлять', 'прокурор заявлять', 'прокурор заявлять', 'прокурор задерживать', 'прокурор заявлять', 'прокурор заявлять', 'прокурор заявлять', 'прокурор заявлять', 'прокурор заявлять', 'прокурор заявлять', 'прокурор заявлять', 'прокурор заявлять', 'прокурор заявлять', 'прокурор распространять', 'прокурор заявлять', 'прокурор заявлять', 'прокурор заявлять', 'прокурор заявлять', 'прокурор заявлять', 'прокурор заявлять', 'прокурор заявлять', 'прокурор заявлять', 'прокурор сообщать', 'прокурор заявлять', 'прокурор приезжать', 'прокурор заявлять', 'прокурор заявлять', 'прокурор передать', 'прокурор заявлять', 'прокурор заявлять', 'прокурор заявлять', 'прокурор заявлять', 'прокурор заявлять', 'прокурор заявлять', 'прокурор решать', 'прокурор заявлять', 'прокурор заявлять', 'прокурор заявлять', 'прокурор заявлять', 'прокурор заявлять', 'прокурор заявлять', 'прокурор заявлять', 'прокурор заявлять', 'прокурор заявлять', 'прокурор возбуждать', 'прокурор заявлять', 'прокурор заявлять', 'прокурор заявлять', 'прокурор заявлять', 'прокурор заявлять', 'прокурор заявлять', 'прокурор заявлять', 'прокурор заявлять', 'прокурор заявлять', 'прокурор заявлять', 'прокурор вести', 'прокурор заявлять', 'прокурор заявлять', 'прокурор брать', 'прокурор комментировать', 'прокурор сказать', 'прокурор подчеркивать', 'прокурор мочь', 'прокурор рассчитывать', 'прокурор распространять', 'прокурор соединять', 'прокурор отклонять', 'прокурор заявлять', 'прокурор снимать', 'прокурор приходить', 'прокурор подчеркнуть', 'прокурор грозить', 'прокурор заявлять', 'прокурор сказать', 'прокурор подтверждать', 'прокурор задерживать', 'прокурор пояснять', 'прокурор воздержаться', 'прокурор пояснять', 'прокурор сообщать', 'прокурор считать', 'прокурор предполагать', 'прокурор подчеркивать', 'прокурор подчеркивать', 'прокурор подчеркивать', 'прокурор подчеркивать', 'прокурор подчеркивать', 'прокурор подчеркивать', 'прокурор подчеркивать', 'прокурор считать', 'прокурор подчеркивать', 'прокурор Джанет', 'прокурор подчеркивать', 'прокурор подчеркивать', 'прокурор подчеркивать', 'прокурор избирать', 'прокурор подчеркивать', 'прокурор выражать', 'прокурор вернуть', 'прокурор осуждать', 'прокурор попадаться', 'прокурор передавать', 'прокурор отмечать', 'прокурор заниматься', 'прокурор расследовать', 'прокурор отказываться', 'прокурор допросить', 'прокурор заниматься', 'прокурор предполагать', 'прокурор размещать', 'прокурор сообщать', 'прокурор подавать', 'прокурор сообщать', 'прокурор представлять', 'прокурор подтверждаться', 'прокурор требовать', 'прокурор вести', 'прокурор начинать', 'прокурор заявлять', 'прокурор подтверждаться', 'прокурор извещать', 'прокурор пресекать', 'прокурор отстранять', 'прокурор представлять', 'прокурор заявлять', 'прокурор воздерживаться', 'прокурор оплачивать', 'прокурор заявлять', 'прокурор подчеркивать', 'прокурор подчеркивать', 'прокурор подчеркивать', 'прокурор подчеркивать', 'прокурор отмечать', 'прокурор отклонять', 'прокурор сказать', 'прокурор подчеркнуть', 'прокурор подчеркнуть', 'прокурор заявлять', 'прокурор подчеркнуть', 'прокурор подчеркнуть', 'прокурор подчеркнуть', 'прокурор подчеркнуть', 'прокурор замечать', 'прокурор подчеркнуть', 'прокурор подчеркивать', 'прокурор подчеркнуть', 'прокурор подчеркнуть', 'прокурор сказать', 'прокурор подчеркнуть', 'прокурор подчеркнуть', 'прокурор подчеркнуть', 'прокурор сказать', 'прокурор сказать', 'прокурор сказать', 'прокурор уточнять']\n",
            "{'прокурор добавлять': 1, 'прокурор заменять': 1, 'прокурор находить': 4, 'прокурор делать': 1, 'прокурор сменить': 1, 'прокурор признавать': 3, 'прокурор задерживать': 2, 'прокурор считать': 2, 'прокурор звонить': 1, 'прокурор отказываться': 2, 'прокурор быть': 1, 'прокурор сообщать': 2, 'прокурор ориентировать': 1, 'прокурор излагать': 1, 'прокурор назначать': 2, 'прокурор отмечать': 2, 'прокурор писать': 1, 'прокурор природоохрать': 2, 'прокурор присутствовать': 1, 'прокурор сказать': 2, 'прокурор курировать': 2, 'прокурор просить': 1, 'прокурор заявлять': 2, 'прокурор покидать': 1, 'прокурор подписывать': 1, 'прокурор сводить': 1, 'прокурор называть': 2, 'прокурор распорядиться': 2, 'прокурор поддерживать': 1, 'прокурор предъявлять': 1, 'прокурор арестовывать': 4, 'прокурор выдавать': 1, 'прокурор утверждать': 1, 'прокурор соединять': 2, 'прокурор передавать': 2, 'прокурор замечать': 2, 'прокурор пояснять': 2, 'прокурор подчеркивать': 2, 'прокурор отменять': 1, 'прокурор находиться': 2, 'прокурор выплачивать': 1, 'прокурор требовать': 2, 'прокурор доказывать': 1, 'прокурор удаваться': 1, 'прокурор видеть': 1, 'прокурор настраивать': 1, 'прокурор устанавливать': 1, 'прокурор обязать': 1, 'прокурор посылать': 1, 'прокурор осуществлять': 1, 'прокурор оказываться': 1, 'прокурор возглавлять': 1, 'прокурор напоминать': 1, 'прокурор обвинять': 1, 'прокурор Рэй': 1, 'прокурор поступивать': 1, 'прокурор надзирающий': 3, 'прокурор прогреметь': 1, 'прокурор распространять': 2, 'прокурор приезжать': 1, 'прокурор передать': 1, 'прокурор решать': 1, 'прокурор возбуждать': 1, 'прокурор вести': 2, 'прокурор брать': 1, 'прокурор комментировать': 1, 'прокурор мочь': 1, 'прокурор рассчитывать': 1, 'прокурор отклонять': 2, 'прокурор снимать': 1, 'прокурор приходить': 1, 'прокурор подчеркнуть': 2, 'прокурор грозить': 1, 'прокурор подтверждать': 1, 'прокурор воздержаться': 1, 'прокурор предполагать': 2, 'прокурор Джанет': 1, 'прокурор избирать': 1, 'прокурор выражать': 1, 'прокурор вернуть': 1, 'прокурор осуждать': 1, 'прокурор попадаться': 1, 'прокурор заниматься': 2, 'прокурор расследовать': 1, 'прокурор допросить': 1, 'прокурор размещать': 1, 'прокурор подавать': 1, 'прокурор представлять': 2, 'прокурор подтверждаться': 2, 'прокурор начинать': 1, 'прокурор извещать': 1, 'прокурор пресекать': 1, 'прокурор отстранять': 1, 'прокурор воздерживаться': 1, 'прокурор оплачивать': 1, 'прокурор уточнять': 1}\n"
          ],
          "name": "stdout"
        }
      ]
    },
    {
      "cell_type": "code",
      "metadata": {
        "colab": {
          "base_uri": "https://localhost:8080/"
        },
        "id": "3BVr9uujqZ_d",
        "outputId": "77b58413-9b32-43ef-fcee-30e5a2ae23a0"
      },
      "source": [
        "diff2=diff.copy()\n",
        "for w,l in diff.items():\n",
        "  summa=sum(diff.values())\n",
        "  diff2[w] = summa-l\n",
        "print(diff2)"
      ],
      "execution_count": 186,
      "outputs": [
        {
          "output_type": "stream",
          "text": [
            "{'прокурор добавлять': 132, 'прокурор заменять': 132, 'прокурор находить': 129, 'прокурор делать': 132, 'прокурор сменить': 132, 'прокурор признавать': 130, 'прокурор задерживать': 131, 'прокурор считать': 131, 'прокурор звонить': 132, 'прокурор отказываться': 131, 'прокурор быть': 132, 'прокурор сообщать': 131, 'прокурор ориентировать': 132, 'прокурор излагать': 132, 'прокурор назначать': 131, 'прокурор отмечать': 131, 'прокурор писать': 132, 'прокурор природоохрать': 131, 'прокурор присутствовать': 132, 'прокурор сказать': 131, 'прокурор курировать': 131, 'прокурор просить': 132, 'прокурор заявлять': 131, 'прокурор покидать': 132, 'прокурор подписывать': 132, 'прокурор сводить': 132, 'прокурор называть': 131, 'прокурор распорядиться': 131, 'прокурор поддерживать': 132, 'прокурор предъявлять': 132, 'прокурор арестовывать': 129, 'прокурор выдавать': 132, 'прокурор утверждать': 132, 'прокурор соединять': 131, 'прокурор передавать': 131, 'прокурор замечать': 131, 'прокурор пояснять': 131, 'прокурор подчеркивать': 131, 'прокурор отменять': 132, 'прокурор находиться': 131, 'прокурор выплачивать': 132, 'прокурор требовать': 131, 'прокурор доказывать': 132, 'прокурор удаваться': 132, 'прокурор видеть': 132, 'прокурор настраивать': 132, 'прокурор устанавливать': 132, 'прокурор обязать': 132, 'прокурор посылать': 132, 'прокурор осуществлять': 132, 'прокурор оказываться': 132, 'прокурор возглавлять': 132, 'прокурор напоминать': 132, 'прокурор обвинять': 132, 'прокурор Рэй': 132, 'прокурор поступивать': 132, 'прокурор надзирающий': 130, 'прокурор прогреметь': 132, 'прокурор распространять': 131, 'прокурор приезжать': 132, 'прокурор передать': 132, 'прокурор решать': 132, 'прокурор возбуждать': 132, 'прокурор вести': 131, 'прокурор брать': 132, 'прокурор комментировать': 132, 'прокурор мочь': 132, 'прокурор рассчитывать': 132, 'прокурор отклонять': 131, 'прокурор снимать': 132, 'прокурор приходить': 132, 'прокурор подчеркнуть': 131, 'прокурор грозить': 132, 'прокурор подтверждать': 132, 'прокурор воздержаться': 132, 'прокурор предполагать': 131, 'прокурор Джанет': 132, 'прокурор избирать': 132, 'прокурор выражать': 132, 'прокурор вернуть': 132, 'прокурор осуждать': 132, 'прокурор попадаться': 132, 'прокурор заниматься': 131, 'прокурор расследовать': 132, 'прокурор допросить': 132, 'прокурор размещать': 132, 'прокурор подавать': 132, 'прокурор представлять': 131, 'прокурор подтверждаться': 131, 'прокурор начинать': 132, 'прокурор извещать': 132, 'прокурор пресекать': 132, 'прокурор отстранять': 132, 'прокурор воздерживаться': 132, 'прокурор оплачивать': 132, 'прокурор уточнять': 132}\n"
          ],
          "name": "stdout"
        }
      ]
    },
    {
      "cell_type": "code",
      "metadata": {
        "colab": {
          "base_uri": "https://localhost:8080/"
        },
        "id": "JPH3_c0sqZ_e",
        "outputId": "926ae75f-5b6c-409d-986b-e8dd22a9f5ff"
      },
      "source": [
        "b={}\n",
        "diff3={}\n",
        "print(spisok)\n",
        "for i in spisok:\n",
        "  big = i.split(' ')[1]\n",
        "  freq_b = 2\n",
        "  for sentence in parsed_unlc:\n",
        "    for ip in sentence:\n",
        "      #print(i)\n",
        "      #print(\"___\"+big)\n",
        "      if ip == big:\n",
        "        #print(sentence)\n",
        "        freq_b += 1\n",
        "  b[big] = freq_b\n",
        "print(b)\n",
        "for w,l in diff.items():\n",
        "  big = w.split(' ')[1]\n",
        "  for wor, lis in list(b.items()):\n",
        "    if wor==big:\n",
        "      diff3[\"прокурор \"+wor] = lis - l\n",
        "      #print(lis)\n",
        "      #print(l)\n",
        "print(diff3)"
      ],
      "execution_count": 195,
      "outputs": [
        {
          "output_type": "stream",
          "text": [
            "['прокурор добавлять', 'прокурор заменять', 'прокурор находить', 'прокурор делать', 'прокурор сменить', 'прокурор признавать', 'прокурор признавать', 'прокурор задерживать', 'прокурор считать', 'прокурор звонить', 'прокурор отказываться', 'прокурор быть', 'прокурор отказываться', 'прокурор сообщать', 'прокурор ориентировать', 'прокурор излагать', 'прокурор назначать', 'прокурор назначать', 'прокурор назначать', 'прокурор назначать', 'прокурор назначать', 'прокурор назначать', 'прокурор отмечать', 'прокурор назначать', 'прокурор назначать', 'прокурор назначать', 'прокурор назначать', 'прокурор писать', 'прокурор считать', 'прокурор считать', 'прокурор считать', 'прокурор считать', 'прокурор природоохрать', 'прокурор природоохрать', 'прокурор природоохрать', 'прокурор находить', 'прокурор природоохрать', 'прокурор природоохрать', 'прокурор природоохрать', 'прокурор природоохрать', 'прокурор присутствовать', 'прокурор природоохрать', 'прокурор природоохрать', 'прокурор природоохрать', 'прокурор природоохрать', 'прокурор природоохрать', 'прокурор природоохрать', 'прокурор природоохрать', 'прокурор отмечать', 'прокурор природоохрать', 'прокурор природоохрать', 'прокурор природоохрать', 'прокурор отмечать', 'прокурор отмечать', 'прокурор сообщать', 'прокурор отмечать', 'прокурор отмечать', 'прокурор отмечать', 'прокурор отмечать', 'прокурор отмечать', 'прокурор отмечать', 'прокурор отмечать', 'прокурор сказать', 'прокурор сказать', 'прокурор курировать', 'прокурор просить', 'прокурор заявлять', 'прокурор заявлять', 'прокурор заявлять', 'прокурор заявлять', 'прокурор заявлять', 'прокурор покидать', 'прокурор заявлять', 'прокурор заявлять', 'прокурор заявлять', 'прокурор подписывать', 'прокурор заявлять', 'прокурор заявлять', 'прокурор сводить', 'прокурор курировать', 'прокурор называть', 'прокурор распорядиться', 'прокурор поддерживать', 'прокурор распорядиться', 'прокурор предъявлять', 'прокурор арестовывать', 'прокурор выдавать', 'прокурор сообщать', 'прокурор утверждать', 'прокурор соединять', 'прокурор сообщать', 'прокурор передавать', 'прокурор замечать', 'прокурор сказать', 'прокурор сказать', 'прокурор сказать', 'прокурор пояснять', 'прокурор сказать', 'прокурор сказать', 'прокурор сказать', 'прокурор сказать', 'прокурор сказать', 'прокурор называть', 'прокурор подчеркивать', 'прокурор подчеркивать', 'прокурор отменять', 'прокурор подчеркивать', 'прокурор передавать', 'прокурор подчеркивать', 'прокурор подчеркивать', 'прокурор находиться', 'прокурор подчеркивать', 'прокурор подчеркивать', 'прокурор подчеркивать', 'прокурор подчеркивать', 'прокурор подчеркивать', 'прокурор выплачивать', 'прокурор подчеркивать', 'прокурор подчеркивать', 'прокурор подчеркивать', 'прокурор подчеркивать', 'прокурор подчеркивать', 'прокурор заявлять', 'прокурор заявлять', 'прокурор отмечать', 'прокурор требовать', 'прокурор отмечать', 'прокурор сообщать', 'прокурор доказывать', 'прокурор отмечать', 'прокурор считать', 'прокурор удаваться', 'прокурор задерживать', 'прокурор видеть', 'прокурор заявлять', 'прокурор настраивать', 'прокурор требовать', 'прокурор устанавливать', 'прокурор обязать', 'прокурор посылать', 'прокурор сообщать', 'прокурор заявлять', 'прокурор требовать', 'прокурор заявлять', 'прокурор заявлять', 'прокурор заявлять', 'прокурор заявлять', 'прокурор сказать', 'прокурор заявлять', 'прокурор заявлять', 'прокурор заявлять', 'прокурор заявлять', 'прокурор заявлять', 'прокурор заявлять', 'прокурор осуществлять', 'прокурор заявлять', 'прокурор заявлять', 'прокурор заявлять', 'прокурор заявлять', 'прокурор заявлять', 'прокурор оказываться', 'прокурор заявлять', 'прокурор возглавлять', 'прокурор заявлять', 'прокурор заявлять', 'прокурор напоминать', 'прокурор обвинять', 'прокурор Рэй', 'прокурор находиться', 'прокурор поступивать', 'прокурор надзирающий', 'прокурор надзирающий', 'прокурор надзирающий', 'прокурор сказать', 'прокурор надзирающий', 'прокурор заявлять', 'прокурор надзирающий', 'прокурор надзирающий', 'прокурор надзирающий', 'прокурор арестовывать', 'прокурор надзирающий', 'прокурор надзирающий', 'прокурор надзирающий', 'прокурор надзирающий', 'прокурор надзирающий', 'прокурор заявлять', 'прокурор заявлять', 'прокурор заявлять', 'прокурор заявлять', 'прокурор заявлять', 'прокурор заявлять', 'прокурор заявлять', 'прокурор заявлять', 'прокурор заявлять', 'прокурор заявлять', 'прокурор заявлять', 'прокурор заявлять', 'прокурор заявлять', 'прокурор заявлять', 'прокурор заявлять', 'прокурор заявлять', 'прокурор прогреметь', 'прокурор заявлять', 'прокурор заявлять', 'прокурор находиться', 'прокурор заявлять', 'прокурор заявлять', 'прокурор заявлять', 'прокурор заявлять', 'прокурор заявлять', 'прокурор задерживать', 'прокурор заявлять', 'прокурор заявлять', 'прокурор заявлять', 'прокурор заявлять', 'прокурор заявлять', 'прокурор заявлять', 'прокурор заявлять', 'прокурор заявлять', 'прокурор заявлять', 'прокурор распространять', 'прокурор заявлять', 'прокурор заявлять', 'прокурор заявлять', 'прокурор заявлять', 'прокурор заявлять', 'прокурор заявлять', 'прокурор заявлять', 'прокурор заявлять', 'прокурор сообщать', 'прокурор заявлять', 'прокурор приезжать', 'прокурор заявлять', 'прокурор заявлять', 'прокурор передать', 'прокурор заявлять', 'прокурор заявлять', 'прокурор заявлять', 'прокурор заявлять', 'прокурор заявлять', 'прокурор заявлять', 'прокурор решать', 'прокурор заявлять', 'прокурор заявлять', 'прокурор заявлять', 'прокурор заявлять', 'прокурор заявлять', 'прокурор заявлять', 'прокурор заявлять', 'прокурор заявлять', 'прокурор заявлять', 'прокурор возбуждать', 'прокурор заявлять', 'прокурор заявлять', 'прокурор заявлять', 'прокурор заявлять', 'прокурор заявлять', 'прокурор заявлять', 'прокурор заявлять', 'прокурор заявлять', 'прокурор заявлять', 'прокурор заявлять', 'прокурор вести', 'прокурор заявлять', 'прокурор заявлять', 'прокурор брать', 'прокурор комментировать', 'прокурор сказать', 'прокурор подчеркивать', 'прокурор мочь', 'прокурор рассчитывать', 'прокурор распространять', 'прокурор соединять', 'прокурор отклонять', 'прокурор заявлять', 'прокурор снимать', 'прокурор приходить', 'прокурор подчеркнуть', 'прокурор грозить', 'прокурор заявлять', 'прокурор сказать', 'прокурор подтверждать', 'прокурор задерживать', 'прокурор пояснять', 'прокурор воздержаться', 'прокурор пояснять', 'прокурор сообщать', 'прокурор считать', 'прокурор предполагать', 'прокурор подчеркивать', 'прокурор подчеркивать', 'прокурор подчеркивать', 'прокурор подчеркивать', 'прокурор подчеркивать', 'прокурор подчеркивать', 'прокурор подчеркивать', 'прокурор считать', 'прокурор подчеркивать', 'прокурор Джанет', 'прокурор подчеркивать', 'прокурор подчеркивать', 'прокурор подчеркивать', 'прокурор избирать', 'прокурор подчеркивать', 'прокурор выражать', 'прокурор вернуть', 'прокурор осуждать', 'прокурор попадаться', 'прокурор передавать', 'прокурор отмечать', 'прокурор заниматься', 'прокурор расследовать', 'прокурор отказываться', 'прокурор допросить', 'прокурор заниматься', 'прокурор предполагать', 'прокурор размещать', 'прокурор сообщать', 'прокурор подавать', 'прокурор сообщать', 'прокурор представлять', 'прокурор подтверждаться', 'прокурор требовать', 'прокурор вести', 'прокурор начинать', 'прокурор заявлять', 'прокурор подтверждаться', 'прокурор извещать', 'прокурор пресекать', 'прокурор отстранять', 'прокурор представлять', 'прокурор заявлять', 'прокурор воздерживаться', 'прокурор оплачивать', 'прокурор заявлять', 'прокурор подчеркивать', 'прокурор подчеркивать', 'прокурор подчеркивать', 'прокурор подчеркивать', 'прокурор отмечать', 'прокурор отклонять', 'прокурор сказать', 'прокурор подчеркнуть', 'прокурор подчеркнуть', 'прокурор заявлять', 'прокурор подчеркнуть', 'прокурор подчеркнуть', 'прокурор подчеркнуть', 'прокурор подчеркнуть', 'прокурор замечать', 'прокурор подчеркнуть', 'прокурор подчеркивать', 'прокурор подчеркнуть', 'прокурор подчеркнуть', 'прокурор сказать', 'прокурор подчеркнуть', 'прокурор подчеркнуть', 'прокурор подчеркнуть', 'прокурор сказать', 'прокурор сказать', 'прокурор сказать', 'прокурор уточнять']\n",
            "{'добавлять': 704, 'заменять': 188, 'находить': 1534, 'делать': 2464, 'сменить': 17, 'признавать': 1513, 'задерживать': 2637, 'считать': 3240, 'звонить': 263, 'отказываться': 1238, 'быть': 36104, 'сообщать': 17683, 'ориентировать': 48, 'излагать': 89, 'назначать': 739, 'отмечать': 4755, 'писать': 770, 'природоохрать': 5, 'присутствовать': 380, 'сказать': 2695, 'курировать': 69, 'просить': 563, 'заявлять': 8140, 'покидать': 634, 'подписывать': 1114, 'сводить': 62, 'называть': 2190, 'распорядиться': 88, 'поддерживать': 984, 'предъявлять': 740, 'арестовывать': 944, 'выдавать': 352, 'утверждать': 1632, 'соединять': 306, 'передавать': 4489, 'замечать': 528, 'пояснять': 478, 'подчеркивать': 2440, 'отменять': 438, 'находиться': 4608, 'выплачивать': 379, 'требовать': 1214, 'доказывать': 300, 'удаваться': 1756, 'видеть': 647, 'настраивать': 51, 'устанавливать': 1939, 'обязать': 102, 'посылать': 144, 'осуществлять': 656, 'оказываться': 1620, 'возглавлять': 706, 'напоминать': 2787, 'обвинять': 1164, 'Рэй': 15, 'поступивать': 30, 'надзирающий': 3, 'прогреметь': 179, 'распространять': 431, 'приезжать': 429, 'передать': 151, 'решать': 1654, 'возбуждать': 858, 'вести': 1676, 'брать': 968, 'комментировать': 534, 'мочь': 7338, 'рассчитывать': 396, 'отклонять': 228, 'снимать': 957, 'приходить': 925, 'подчеркнуть': 109, 'грозить': 286, 'подтверждать': 1169, 'воздержаться': 147, 'предполагать': 676, 'Джанет': 12, 'избирать': 434, 'выражать': 840, 'вернуть': 259, 'осуждать': 281, 'попадаться': 20, 'заниматься': 1120, 'расследовать': 114, 'допросить': 69, 'размещать': 223, 'подавать': 765, 'представлять': 1708, 'подтверждаться': 79, 'начинать': 1962, 'извещать': 28, 'пресекать': 87, 'отстранять': 88, 'воздерживаться': 139, 'оплачивать': 142, 'уточнять': 492}\n",
            "{'прокурор добавлять': 703, 'прокурор заменять': 187, 'прокурор находить': 1530, 'прокурор делать': 2463, 'прокурор сменить': 16, 'прокурор признавать': 1510, 'прокурор задерживать': 2635, 'прокурор считать': 3238, 'прокурор звонить': 262, 'прокурор отказываться': 1236, 'прокурор быть': 36103, 'прокурор сообщать': 17681, 'прокурор ориентировать': 47, 'прокурор излагать': 88, 'прокурор назначать': 737, 'прокурор отмечать': 4753, 'прокурор писать': 769, 'прокурор природоохрать': 3, 'прокурор присутствовать': 379, 'прокурор сказать': 2693, 'прокурор курировать': 67, 'прокурор просить': 562, 'прокурор заявлять': 8138, 'прокурор покидать': 633, 'прокурор подписывать': 1113, 'прокурор сводить': 61, 'прокурор называть': 2188, 'прокурор распорядиться': 86, 'прокурор поддерживать': 983, 'прокурор предъявлять': 739, 'прокурор арестовывать': 940, 'прокурор выдавать': 351, 'прокурор утверждать': 1631, 'прокурор соединять': 304, 'прокурор передавать': 4487, 'прокурор замечать': 526, 'прокурор пояснять': 476, 'прокурор подчеркивать': 2438, 'прокурор отменять': 437, 'прокурор находиться': 4606, 'прокурор выплачивать': 378, 'прокурор требовать': 1212, 'прокурор доказывать': 299, 'прокурор удаваться': 1755, 'прокурор видеть': 646, 'прокурор настраивать': 50, 'прокурор устанавливать': 1938, 'прокурор обязать': 101, 'прокурор посылать': 143, 'прокурор осуществлять': 655, 'прокурор оказываться': 1619, 'прокурор возглавлять': 705, 'прокурор напоминать': 2786, 'прокурор обвинять': 1163, 'прокурор Рэй': 14, 'прокурор поступивать': 29, 'прокурор надзирающий': 0, 'прокурор прогреметь': 178, 'прокурор распространять': 429, 'прокурор приезжать': 428, 'прокурор передать': 150, 'прокурор решать': 1653, 'прокурор возбуждать': 857, 'прокурор вести': 1674, 'прокурор брать': 967, 'прокурор комментировать': 533, 'прокурор мочь': 7337, 'прокурор рассчитывать': 395, 'прокурор отклонять': 226, 'прокурор снимать': 956, 'прокурор приходить': 924, 'прокурор подчеркнуть': 107, 'прокурор грозить': 285, 'прокурор подтверждать': 1168, 'прокурор воздержаться': 146, 'прокурор предполагать': 674, 'прокурор Джанет': 11, 'прокурор избирать': 433, 'прокурор выражать': 839, 'прокурор вернуть': 258, 'прокурор осуждать': 280, 'прокурор попадаться': 19, 'прокурор заниматься': 1118, 'прокурор расследовать': 113, 'прокурор допросить': 68, 'прокурор размещать': 222, 'прокурор подавать': 764, 'прокурор представлять': 1706, 'прокурор подтверждаться': 77, 'прокурор начинать': 1961, 'прокурор извещать': 27, 'прокурор пресекать': 86, 'прокурор отстранять': 87, 'прокурор воздерживаться': 138, 'прокурор оплачивать': 141, 'прокурор уточнять': 491}\n"
          ],
          "name": "stdout"
        }
      ]
    },
    {
      "cell_type": "code",
      "metadata": {
        "colab": {
          "base_uri": "https://localhost:8080/"
        },
        "id": "ra8GOy7UqZ_f",
        "outputId": "e378a617-7e4a-420b-a167-97ea7e84b183"
      },
      "source": [
        "count=0\n",
        "for sentence in unlc:\n",
        "  count += len(sentence)\n",
        "print(count)"
      ],
      "execution_count": 196,
      "outputs": [
        {
          "output_type": "stream",
          "text": [
            "3043251\n"
          ],
          "name": "stdout"
        }
      ]
    },
    {
      "cell_type": "code",
      "metadata": {
        "colab": {
          "base_uri": "https://localhost:8080/"
        },
        "id": "eOji3c_mqZ_h",
        "outputId": "352724b9-4a3c-4cd4-8db5-233ff0d40e79"
      },
      "source": [
        "diff4=diff.copy()\n",
        "for w,l in diff4.items():\n",
        "  for wo,li in diff2.items():\n",
        "    for wor,lis in diff3.items():\n",
        "      if w==wor==wo:\n",
        "        diff4[w]=count-l-li-lis\n",
        "print(diff4)"
      ],
      "execution_count": 197,
      "outputs": [
        {
          "output_type": "stream",
          "text": [
            "{'прокурор добавлять': 3042415, 'прокурор заменять': 3042931, 'прокурор находить': 3041588, 'прокурор делать': 3040655, 'прокурор сменить': 3043102, 'прокурор признавать': 3041608, 'прокурор задерживать': 3040483, 'прокурор считать': 3039880, 'прокурор звонить': 3042856, 'прокурор отказываться': 3041882, 'прокурор быть': 3007015, 'прокурор сообщать': 3025437, 'прокурор ориентировать': 3043071, 'прокурор излагать': 3043030, 'прокурор назначать': 3042381, 'прокурор отмечать': 3038365, 'прокурор писать': 3042349, 'прокурор природоохрать': 3043115, 'прокурор присутствовать': 3042739, 'прокурор сказать': 3040425, 'прокурор курировать': 3043051, 'прокурор просить': 3042556, 'прокурор заявлять': 3034980, 'прокурор покидать': 3042485, 'прокурор подписывать': 3042005, 'прокурор сводить': 3043057, 'прокурор называть': 3040930, 'прокурор распорядиться': 3043032, 'прокурор поддерживать': 3042135, 'прокурор предъявлять': 3042379, 'прокурор арестовывать': 3042178, 'прокурор выдавать': 3042767, 'прокурор утверждать': 3041487, 'прокурор соединять': 3042814, 'прокурор передавать': 3038631, 'прокурор замечать': 3042592, 'прокурор пояснять': 3042642, 'прокурор подчеркивать': 3040680, 'прокурор отменять': 3042681, 'прокурор находиться': 3038512, 'прокурор выплачивать': 3042740, 'прокурор требовать': 3041906, 'прокурор доказывать': 3042819, 'прокурор удаваться': 3041363, 'прокурор видеть': 3042472, 'прокурор настраивать': 3043068, 'прокурор устанавливать': 3041180, 'прокурор обязать': 3043017, 'прокурор посылать': 3042975, 'прокурор осуществлять': 3042463, 'прокурор оказываться': 3041499, 'прокурор возглавлять': 3042413, 'прокурор напоминать': 3040332, 'прокурор обвинять': 3041955, 'прокурор Рэй': 3043104, 'прокурор поступивать': 3043089, 'прокурор надзирающий': 3043118, 'прокурор прогреметь': 3042940, 'прокурор распространять': 3042689, 'прокурор приезжать': 3042690, 'прокурор передать': 3042968, 'прокурор решать': 3041465, 'прокурор возбуждать': 3042261, 'прокурор вести': 3041444, 'прокурор брать': 3042151, 'прокурор комментировать': 3042585, 'прокурор мочь': 3035781, 'прокурор рассчитывать': 3042723, 'прокурор отклонять': 3042892, 'прокурор снимать': 3042162, 'прокурор приходить': 3042194, 'прокурор подчеркнуть': 3043011, 'прокурор грозить': 3042833, 'прокурор подтверждать': 3041950, 'прокурор воздержаться': 3042972, 'прокурор предполагать': 3042444, 'прокурор Джанет': 3043107, 'прокурор избирать': 3042685, 'прокурор выражать': 3042279, 'прокурор вернуть': 3042860, 'прокурор осуждать': 3042838, 'прокурор попадаться': 3043099, 'прокурор заниматься': 3042000, 'прокурор расследовать': 3043005, 'прокурор допросить': 3043050, 'прокурор размещать': 3042896, 'прокурор подавать': 3042354, 'прокурор представлять': 3041412, 'прокурор подтверждаться': 3043041, 'прокурор начинать': 3041157, 'прокурор извещать': 3043091, 'прокурор пресекать': 3043032, 'прокурор отстранять': 3043031, 'прокурор воздерживаться': 3042980, 'прокурор оплачивать': 3042977, 'прокурор уточнять': 3042627}\n"
          ],
          "name": "stdout"
        }
      ]
    },
    {
      "cell_type": "code",
      "metadata": {
        "colab": {
          "base_uri": "https://localhost:8080/"
        },
        "id": "K_66Fo54qZ_i",
        "outputId": "6c73f852-aaf3-4502-bb93-773b5d99c8fc"
      },
      "source": [
        "list1={}\n",
        "for w,l in diff.items():\n",
        "  for wo,li in diff2.items():\n",
        "    if w==wo:\n",
        "      list1[w]=[l,li]\n",
        "print(list1)"
      ],
      "execution_count": 198,
      "outputs": [
        {
          "output_type": "stream",
          "text": [
            "{'прокурор добавлять': [1, 132], 'прокурор заменять': [1, 132], 'прокурор находить': [4, 129], 'прокурор делать': [1, 132], 'прокурор сменить': [1, 132], 'прокурор признавать': [3, 130], 'прокурор задерживать': [2, 131], 'прокурор считать': [2, 131], 'прокурор звонить': [1, 132], 'прокурор отказываться': [2, 131], 'прокурор быть': [1, 132], 'прокурор сообщать': [2, 131], 'прокурор ориентировать': [1, 132], 'прокурор излагать': [1, 132], 'прокурор назначать': [2, 131], 'прокурор отмечать': [2, 131], 'прокурор писать': [1, 132], 'прокурор природоохрать': [2, 131], 'прокурор присутствовать': [1, 132], 'прокурор сказать': [2, 131], 'прокурор курировать': [2, 131], 'прокурор просить': [1, 132], 'прокурор заявлять': [2, 131], 'прокурор покидать': [1, 132], 'прокурор подписывать': [1, 132], 'прокурор сводить': [1, 132], 'прокурор называть': [2, 131], 'прокурор распорядиться': [2, 131], 'прокурор поддерживать': [1, 132], 'прокурор предъявлять': [1, 132], 'прокурор арестовывать': [4, 129], 'прокурор выдавать': [1, 132], 'прокурор утверждать': [1, 132], 'прокурор соединять': [2, 131], 'прокурор передавать': [2, 131], 'прокурор замечать': [2, 131], 'прокурор пояснять': [2, 131], 'прокурор подчеркивать': [2, 131], 'прокурор отменять': [1, 132], 'прокурор находиться': [2, 131], 'прокурор выплачивать': [1, 132], 'прокурор требовать': [2, 131], 'прокурор доказывать': [1, 132], 'прокурор удаваться': [1, 132], 'прокурор видеть': [1, 132], 'прокурор настраивать': [1, 132], 'прокурор устанавливать': [1, 132], 'прокурор обязать': [1, 132], 'прокурор посылать': [1, 132], 'прокурор осуществлять': [1, 132], 'прокурор оказываться': [1, 132], 'прокурор возглавлять': [1, 132], 'прокурор напоминать': [1, 132], 'прокурор обвинять': [1, 132], 'прокурор Рэй': [1, 132], 'прокурор поступивать': [1, 132], 'прокурор надзирающий': [3, 130], 'прокурор прогреметь': [1, 132], 'прокурор распространять': [2, 131], 'прокурор приезжать': [1, 132], 'прокурор передать': [1, 132], 'прокурор решать': [1, 132], 'прокурор возбуждать': [1, 132], 'прокурор вести': [2, 131], 'прокурор брать': [1, 132], 'прокурор комментировать': [1, 132], 'прокурор мочь': [1, 132], 'прокурор рассчитывать': [1, 132], 'прокурор отклонять': [2, 131], 'прокурор снимать': [1, 132], 'прокурор приходить': [1, 132], 'прокурор подчеркнуть': [2, 131], 'прокурор грозить': [1, 132], 'прокурор подтверждать': [1, 132], 'прокурор воздержаться': [1, 132], 'прокурор предполагать': [2, 131], 'прокурор Джанет': [1, 132], 'прокурор избирать': [1, 132], 'прокурор выражать': [1, 132], 'прокурор вернуть': [1, 132], 'прокурор осуждать': [1, 132], 'прокурор попадаться': [1, 132], 'прокурор заниматься': [2, 131], 'прокурор расследовать': [1, 132], 'прокурор допросить': [1, 132], 'прокурор размещать': [1, 132], 'прокурор подавать': [1, 132], 'прокурор представлять': [2, 131], 'прокурор подтверждаться': [2, 131], 'прокурор начинать': [1, 132], 'прокурор извещать': [1, 132], 'прокурор пресекать': [1, 132], 'прокурор отстранять': [1, 132], 'прокурор воздерживаться': [1, 132], 'прокурор оплачивать': [1, 132], 'прокурор уточнять': [1, 132]}\n"
          ],
          "name": "stdout"
        }
      ]
    },
    {
      "cell_type": "code",
      "metadata": {
        "colab": {
          "base_uri": "https://localhost:8080/"
        },
        "id": "mk7JCEkKqZ_j",
        "outputId": "5e751976-8a31-46a9-d75e-f610951d5673"
      },
      "source": [
        "list2={}\n",
        "for w,l in list1.items():\n",
        "  for wo,li in diff3.items():\n",
        "    if w==wo:\n",
        "      l.append(li)\n",
        "      list2[w]=l\n",
        "print(list2)"
      ],
      "execution_count": 199,
      "outputs": [
        {
          "output_type": "stream",
          "text": [
            "{'прокурор добавлять': [1, 132, 703], 'прокурор заменять': [1, 132, 187], 'прокурор находить': [4, 129, 1530], 'прокурор делать': [1, 132, 2463], 'прокурор сменить': [1, 132, 16], 'прокурор признавать': [3, 130, 1510], 'прокурор задерживать': [2, 131, 2635], 'прокурор считать': [2, 131, 3238], 'прокурор звонить': [1, 132, 262], 'прокурор отказываться': [2, 131, 1236], 'прокурор быть': [1, 132, 36103], 'прокурор сообщать': [2, 131, 17681], 'прокурор ориентировать': [1, 132, 47], 'прокурор излагать': [1, 132, 88], 'прокурор назначать': [2, 131, 737], 'прокурор отмечать': [2, 131, 4753], 'прокурор писать': [1, 132, 769], 'прокурор природоохрать': [2, 131, 3], 'прокурор присутствовать': [1, 132, 379], 'прокурор сказать': [2, 131, 2693], 'прокурор курировать': [2, 131, 67], 'прокурор просить': [1, 132, 562], 'прокурор заявлять': [2, 131, 8138], 'прокурор покидать': [1, 132, 633], 'прокурор подписывать': [1, 132, 1113], 'прокурор сводить': [1, 132, 61], 'прокурор называть': [2, 131, 2188], 'прокурор распорядиться': [2, 131, 86], 'прокурор поддерживать': [1, 132, 983], 'прокурор предъявлять': [1, 132, 739], 'прокурор арестовывать': [4, 129, 940], 'прокурор выдавать': [1, 132, 351], 'прокурор утверждать': [1, 132, 1631], 'прокурор соединять': [2, 131, 304], 'прокурор передавать': [2, 131, 4487], 'прокурор замечать': [2, 131, 526], 'прокурор пояснять': [2, 131, 476], 'прокурор подчеркивать': [2, 131, 2438], 'прокурор отменять': [1, 132, 437], 'прокурор находиться': [2, 131, 4606], 'прокурор выплачивать': [1, 132, 378], 'прокурор требовать': [2, 131, 1212], 'прокурор доказывать': [1, 132, 299], 'прокурор удаваться': [1, 132, 1755], 'прокурор видеть': [1, 132, 646], 'прокурор настраивать': [1, 132, 50], 'прокурор устанавливать': [1, 132, 1938], 'прокурор обязать': [1, 132, 101], 'прокурор посылать': [1, 132, 143], 'прокурор осуществлять': [1, 132, 655], 'прокурор оказываться': [1, 132, 1619], 'прокурор возглавлять': [1, 132, 705], 'прокурор напоминать': [1, 132, 2786], 'прокурор обвинять': [1, 132, 1163], 'прокурор Рэй': [1, 132, 14], 'прокурор поступивать': [1, 132, 29], 'прокурор надзирающий': [3, 130, 0], 'прокурор прогреметь': [1, 132, 178], 'прокурор распространять': [2, 131, 429], 'прокурор приезжать': [1, 132, 428], 'прокурор передать': [1, 132, 150], 'прокурор решать': [1, 132, 1653], 'прокурор возбуждать': [1, 132, 857], 'прокурор вести': [2, 131, 1674], 'прокурор брать': [1, 132, 967], 'прокурор комментировать': [1, 132, 533], 'прокурор мочь': [1, 132, 7337], 'прокурор рассчитывать': [1, 132, 395], 'прокурор отклонять': [2, 131, 226], 'прокурор снимать': [1, 132, 956], 'прокурор приходить': [1, 132, 924], 'прокурор подчеркнуть': [2, 131, 107], 'прокурор грозить': [1, 132, 285], 'прокурор подтверждать': [1, 132, 1168], 'прокурор воздержаться': [1, 132, 146], 'прокурор предполагать': [2, 131, 674], 'прокурор Джанет': [1, 132, 11], 'прокурор избирать': [1, 132, 433], 'прокурор выражать': [1, 132, 839], 'прокурор вернуть': [1, 132, 258], 'прокурор осуждать': [1, 132, 280], 'прокурор попадаться': [1, 132, 19], 'прокурор заниматься': [2, 131, 1118], 'прокурор расследовать': [1, 132, 113], 'прокурор допросить': [1, 132, 68], 'прокурор размещать': [1, 132, 222], 'прокурор подавать': [1, 132, 764], 'прокурор представлять': [2, 131, 1706], 'прокурор подтверждаться': [2, 131, 77], 'прокурор начинать': [1, 132, 1961], 'прокурор извещать': [1, 132, 27], 'прокурор пресекать': [1, 132, 86], 'прокурор отстранять': [1, 132, 87], 'прокурор воздерживаться': [1, 132, 138], 'прокурор оплачивать': [1, 132, 141], 'прокурор уточнять': [1, 132, 491]}\n"
          ],
          "name": "stdout"
        }
      ]
    },
    {
      "cell_type": "code",
      "metadata": {
        "id": "On4a2lFLqZ_l"
      },
      "source": [
        "log_list={}\n",
        "for w,l in list2.items():\n",
        "  for wo,li in diff4.items():\n",
        "    if w==wo:\n",
        "      l.append(li)\n",
        "      log_list[w]=l"
      ],
      "execution_count": 200,
      "outputs": []
    },
    {
      "cell_type": "code",
      "metadata": {
        "colab": {
          "base_uri": "https://localhost:8080/"
        },
        "id": "cFytE946qZ_m",
        "outputId": "ca6581d1-6bf0-4731-84d5-7b5e529efa62"
      },
      "source": [
        "log_like_list={}\n",
        "ind=[]\n",
        "for w,l in log_list.items():\n",
        "  #print(w,l)\n",
        "  if l[2] == 0 or l[3] == 0:\n",
        "    pass\n",
        "  else:\n",
        "    log_likelihood=math.log((l[0]*l[3])/(l[1]*l[2]))-3.29*(1/(1/l[0]+1/l[2]+1/l[3]+1/l[1]))\n",
        "    log_like_list[w] = log_likelihood\n",
        "\n",
        "sorted_dict = {}\n",
        "sorted_keys = sorted(log_like_list, key=log_like_list.get)  # [1, 3, 2]\n",
        "\n",
        "for w in sorted_keys:\n",
        "    sorted_dict[w] = log_like_list[w]\n",
        "\n",
        "print(sorted_dict)\n",
        "#print(result)"
      ],
      "execution_count": 202,
      "outputs": [
        {
          "output_type": "stream",
          "text": [
            "{'прокурор находить': -8.61056008469668, 'прокурор арестовывать': -8.103042347741631, 'прокурор признавать': -5.7895510582676515, 'прокурор сообщать': -5.520056344427096, 'прокурор заявлять': -4.740114449262112, 'прокурор отмечать': -4.200114733194953, 'прокурор находиться': -4.16856450168795, 'прокурор передавать': -4.1422764154132015, 'прокурор считать': -3.8145405885453756, 'прокурор быть': -3.725647035368899, 'прокурор сказать': -3.629264394475043, 'прокурор задерживать': -3.6073684876253567, 'прокурор подчеркивать': -3.529207641735904, 'прокурор называть': -3.4203379536812495, 'прокурор представлять': -3.1696978098314297, 'прокурор вести': -3.1506090871165098, 'прокурор отказываться': -2.8444342656120307, 'прокурор требовать': -2.8246140182234103, 'прокурор заниматься': -2.7429699142455197, 'прокурор назначать': -2.320258497748929, 'прокурор предполагать': -2.2292698047552335, 'прокурор мочь': -2.122328416743276, 'прокурор замечать': -1.9759978257335193, 'прокурор пояснять': -1.8735684163924393, 'прокурор распространять': -1.7666790041379254, 'прокурор соединять': -1.4101060980561426, 'прокурор напоминать': -1.1517860926421601, 'прокурор отклонять': -1.099310894081218, 'прокурор делать': -1.0283006748018604, 'прокурор начинать': -0.7998735035283935, 'прокурор устанавливать': -0.7880483141957462, 'прокурор удаваться': -0.6886263078255244, 'прокурор решать': -0.6286019217643357, 'прокурор утверждать': -0.6151697806396346, 'прокурор оказываться': -0.6077664770278557, 'прокурор подчеркнуть': -0.2904070419914895, 'прокурор подтверждать': -0.28033063840744, 'прокурор обвинять': -0.27602707559856654, 'прокурор подписывать': -0.23194187576820324, 'прокурор поддерживать': -0.1073095760045013, 'прокурор брать': -0.09083925458628661, 'прокурор снимать': -0.07935657479864844, 'прокурор приходить': -0.04518306430959562, 'прокурор распорядиться': -0.04394985190802192, 'прокурор возбуждать': 0.030386697696939358, 'прокурор выражать': 0.05170076470764817, 'прокурор подтверждаться': 0.08313519746438836, 'прокурор писать': 0.13919424322237672, 'прокурор подавать': 0.14574657550248515, 'прокурор предъявлять': 0.17916777948453966, 'прокурор возглавлять': 0.22648998036828294, 'прокурор добавлять': 0.2293445894776629, 'прокурор курировать': 0.24569212630208792, 'прокурор осуществлять': 0.3004188553879068, 'прокурор видеть': 0.31432626559351684, 'прокурор покидать': 0.33476232709806064, 'прокурор просить': 0.4543988672115251, 'прокурор комментировать': 0.5077014326089335, 'прокурор уточнять': 0.590310611789902, 'прокурор отменять': 0.7076513908696733, 'прокурор избирать': 0.7169163674010086, 'прокурор приезжать': 0.728619574973858, 'прокурор рассчитывать': 0.8094973828218719, 'прокурор присутствовать': 0.8511967875500357, 'прокурор выплачивать': 0.8538616283620692, 'прокурор выдавать': 0.928634377594578, 'прокурор доказывать': 1.0905899955630969, 'прокурор грозить': 1.1390778040338865, 'прокурор осуждать': 1.1569806569985763, 'прокурор звонить': 1.224221031103256, 'прокурор вернуть': 1.239797578039875, 'прокурор размещать': 1.3921116768739, 'прокурор заменять': 1.5663976309270264, 'прокурор прогреметь': 1.6165924322747425, 'прокурор передать': 1.7911073289472474, 'прокурор воздержаться': 1.8187213654591647, 'прокурор посылать': 1.839943674587115, 'прокурор оплачивать': 1.854346075928988, 'прокурор воздерживаться': 1.8763458788083343, 'прокурор расследовать': 2.081333395274099, 'прокурор обязать': 2.196949493940899, 'прокурор излагать': 2.3393790081555315, 'прокурор отстранять': 2.3512218810350265, 'прокурор пресекать': 2.3632063950713396, 'прокурор допросить': 2.6077710722507383, 'прокурор сводить': 2.721711139576196, 'прокурор настраивать': 2.931842460972358, 'прокурор ориентировать': 2.9976915170311966, 'прокурор поступивать': 3.521074585040981, 'прокурор извещать': 3.6002541904212446, 'прокурор попадаться': 3.997980418123944, 'прокурор сменить': 4.198449574647906, 'прокурор Рэй': 4.357422959535155, 'прокурор Джанет': 4.652658808749648, 'прокурор природоохрать': 5.735567928394233}\n"
          ],
          "name": "stdout"
        }
      ]
    },
    {
      "cell_type": "markdown",
      "metadata": {
        "id": "xmW4bLe4ukkG"
      },
      "source": [
        "LL для общего корпуса"
      ]
    }
  ]
}