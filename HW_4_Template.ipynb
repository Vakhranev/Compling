{
  "nbformat": 4,
  "nbformat_minor": 0,
  "metadata": {
    "kernelspec": {
      "display_name": "Python 3",
      "language": "python",
      "name": "python3"
    },
    "language_info": {
      "codemirror_mode": {
        "name": "ipython",
        "version": 3
      },
      "file_extension": ".py",
      "mimetype": "text/x-python",
      "name": "python",
      "nbconvert_exporter": "python",
      "pygments_lexer": "ipython3",
      "version": "3.6.8"
    },
    "colab": {
      "name": "HW 4 Template.ipynb",
      "provenance": [],
      "toc_visible": true,
      "include_colab_link": true
    }
  },
  "cells": [
    {
      "cell_type": "markdown",
      "metadata": {
        "id": "view-in-github",
        "colab_type": "text"
      },
      "source": [
        "<a href=\"https://colab.research.google.com/github/Vakhranev/Compling/blob/master/HW_4_Template.ipynb\" target=\"_parent\"><img src=\"https://colab.research.google.com/assets/colab-badge.svg\" alt=\"Open In Colab\"/></a>"
      ]
    },
    {
      "cell_type": "markdown",
      "metadata": {
        "id": "zSH9sgaMPXKE",
        "colab_type": "text"
      },
      "source": [
        "# <center>Network Science</center>"
      ]
    },
    {
      "cell_type": "markdown",
      "metadata": {
        "id": "wrdr7a5LPXKJ",
        "colab_type": "text"
      },
      "source": [
        "Home Assignment #4: Network Embeddings"
      ]
    },
    {
      "cell_type": "markdown",
      "metadata": {
        "id": "tmimCopzPXKM",
        "colab_type": "text"
      },
      "source": [
        "#### <hr /> General Information"
      ]
    },
    {
      "cell_type": "markdown",
      "metadata": {
        "id": "Eeakta5iPXKP",
        "colab_type": "text"
      },
      "source": [
        "**Due Date:** 15.06.2020 21:00 <br>\n",
        "**Late submission policy: No late submission!** <br>\n",
        "\n",
        "\n",
        "Please send your reports to <iakarpov@hse.ru> with message subject of the following structure: <br>\n",
        "**[HSE SNA Magolego 2020] *{LastName}* *{First Name}* HW_4*\n",
        "\n",
        "Support your computations with figures and comments. <br>\n",
        "If you are using IPython Notebook you may use this file as a starting point of your report."
      ]
    },
    {
      "cell_type": "markdown",
      "metadata": {
        "id": "AFxfvfzgPXKS",
        "colab_type": "text"
      },
      "source": [
        "## Problems"
      ]
    },
    {
      "cell_type": "markdown",
      "metadata": {
        "id": "eM-hd54SPXKV",
        "colab_type": "text"
      },
      "source": [
        "### Task 1. Generating N2V Embedding\n",
        "Use any existing network from our [classes](https://dl.dropboxusercontent.com/s/8eo1sjfhu5spb0f/vk.tsv?dl=1) or your couse project. <br>\n",
        "Use `cores` method if your initial network is too big. <br>"
      ]
    },
    {
      "cell_type": "code",
      "metadata": {
        "id": "nboggdLKPXKX",
        "colab_type": "code",
        "colab": {
          "base_uri": "https://localhost:8080/",
          "height": 51
        },
        "outputId": "4304f59a-d1c8-464e-c9e0-6feea65108eb"
      },
      "source": [
        "import networkx as nx\n",
        "G = nx.read_adjlist('fb.adjlist')\n",
        "core_subgraph = nx.k_core(G, k=10) #k - core level\n",
        "print(core_subgraph.number_of_nodes())\n",
        "print(G.number_of_nodes())"
      ],
      "execution_count": 144,
      "outputs": [
        {
          "output_type": "stream",
          "text": [
            "112\n",
            "494\n"
          ],
          "name": "stdout"
        }
      ]
    },
    {
      "cell_type": "code",
      "metadata": {
        "id": "P_ey9I41IzC8",
        "colab_type": "code",
        "colab": {}
      },
      "source": [
        "d = {}\n",
        "Counter = 0\n",
        "for node in G.nodes():\n",
        "  d[node] = Counter\n",
        "  Counter += 1\n",
        "H = nx.relabel_nodes(G, d)"
      ],
      "execution_count": 145,
      "outputs": []
    },
    {
      "cell_type": "code",
      "metadata": {
        "id": "paza7dkVQiXd",
        "colab_type": "code",
        "colab": {
          "base_uri": "https://localhost:8080/",
          "height": 54
        },
        "outputId": "0339302a-a42b-4762-b7ee-c2c6ac2107ce"
      },
      "source": [
        "H.nodes()"
      ],
      "execution_count": 146,
      "outputs": [
        {
          "output_type": "execute_result",
          "data": {
            "text/plain": [
              "NodeView((0, 1, 2, 3, 4, 5, 6, 7, 8, 9, 10, 11, 12, 13, 14, 15, 16, 17, 18, 19, 20, 21, 22, 23, 24, 25, 26, 27, 28, 29, 30, 31, 32, 33, 34, 35, 36, 37, 38, 39, 40, 41, 42, 43, 44, 45, 46, 47, 48, 49, 50, 51, 52, 53, 54, 55, 56, 57, 58, 59, 60, 61, 62, 63, 64, 65, 66, 67, 68, 69, 70, 71, 72, 73, 74, 75, 76, 77, 78, 79, 80, 81, 82, 83, 84, 85, 86, 87, 88, 89, 90, 91, 92, 93, 94, 95, 96, 97, 98, 99, 100, 101, 102, 103, 104, 105, 106, 107, 108, 109, 110, 111, 112, 113, 114, 115, 116, 117, 118, 119, 120, 121, 122, 123, 124, 125, 126, 127, 128, 129, 130, 131, 132, 133, 134, 135, 136, 137, 138, 139, 140, 141, 142, 143, 144, 145, 146, 147, 148, 149, 150, 151, 152, 153, 154, 155, 156, 157, 158, 159, 160, 161, 162, 163, 164, 165, 166, 167, 168, 169, 170, 171, 172, 173, 174, 175, 176, 177, 178, 179, 180, 181, 182, 183, 184, 185, 186, 187, 188, 189, 190, 191, 192, 193, 194, 195, 196, 197, 198, 199, 200, 201, 202, 203, 204, 205, 206, 207, 208, 209, 210, 211, 212, 213, 214, 215, 216, 217, 218, 219, 220, 221, 222, 223, 224, 225, 226, 227, 228, 229, 230, 231, 232, 233, 234, 235, 236, 237, 238, 239, 240, 241, 242, 243, 244, 245, 246, 247, 248, 249, 250, 251, 252, 253, 254, 255, 256, 257, 258, 259, 260, 261, 262, 263, 264, 265, 266, 267, 268, 269, 270, 271, 272, 273, 274, 275, 276, 277, 278, 279, 280, 281, 282, 283, 284, 285, 286, 287, 288, 289, 290, 291, 292, 293, 294, 295, 296, 297, 298, 299, 300, 301, 302, 303, 304, 305, 306, 307, 308, 309, 310, 311, 312, 313, 314, 315, 316, 317, 318, 319, 320, 321, 322, 323, 324, 325, 326, 327, 328, 329, 330, 331, 332, 333, 334, 335, 336, 337, 338, 339, 340, 341, 342, 343, 344, 345, 346, 347, 348, 349, 350, 351, 352, 353, 354, 355, 356, 357, 358, 359, 360, 361, 362, 363, 364, 365, 366, 367, 368, 369, 370, 371, 372, 373, 374, 375, 376, 377, 378, 379, 380, 381, 382, 383, 384, 385, 386, 387, 388, 389, 390, 391, 392, 393, 394, 395, 396, 397, 398, 399, 400, 401, 402, 403, 404, 405, 406, 407, 408, 409, 410, 411, 412, 413, 414, 415, 416, 417, 418, 419, 420, 421, 422, 423, 424, 425, 426, 427, 428, 429, 430, 431, 432, 433, 434, 435, 436, 437, 438, 439, 440, 441, 442, 443, 444, 445, 446, 447, 448, 449, 450, 451, 452, 453, 454, 455, 456, 457, 458, 459, 460, 461, 462, 463, 464, 465, 466, 467, 468, 469, 470, 471, 472, 473, 474, 475, 476, 477, 478, 479, 480, 481, 482, 483, 484, 485, 486, 487, 488, 489, 490, 491, 492, 493))"
            ]
          },
          "metadata": {
            "tags": []
          },
          "execution_count": 146
        }
      ]
    },
    {
      "cell_type": "markdown",
      "metadata": {
        "id": "YgAOuyAjPXKm",
        "colab_type": "text"
      },
      "source": [
        "1.1. Train Node2Vec model with **two** different p and q parameters"
      ]
    },
    {
      "cell_type": "code",
      "metadata": {
        "id": "ELryUNBuPXKp",
        "colab_type": "code",
        "colab": {
          "base_uri": "https://localhost:8080/",
          "height": 666
        },
        "outputId": "7e0817e1-6d6d-41be-ff9b-bdcf052de5a4"
      },
      "source": [
        "# Start your code here\n",
        "#\n",
        "#\n",
        "#\n",
        "!pip install node2vec\n",
        "!pip install graphistry\n",
        "\n",
        "%matplotlib inline\n",
        "\n",
        "import warnings\n",
        "from collections import deque\n",
        "warnings.filterwarnings('ignore')\n",
        "\n",
        "import random\n",
        "import pandas as pd\n",
        "# from sklearn.manifold import TSNE\n",
        "import numpy as np\n",
        "import networkx as nx\n",
        "import matplotlib.pyplot as plt\n",
        "import matplotlib.patches as mpatches\n",
        "import seaborn as sns\n",
        "from node2vec import Node2Vec\n",
        "from node2vec.edges import HadamardEmbedder\n",
        "import json\n",
        "import graphistry\n",
        "sns.set_style('whitegrid')"
      ],
      "execution_count": 147,
      "outputs": [
        {
          "output_type": "stream",
          "text": [
            "Requirement already satisfied: node2vec in /usr/local/lib/python3.6/dist-packages (0.3.2)\n",
            "Requirement already satisfied: tqdm in /usr/local/lib/python3.6/dist-packages (from node2vec) (4.41.1)\n",
            "Requirement already satisfied: networkx in /usr/local/lib/python3.6/dist-packages (from node2vec) (2.4)\n",
            "Requirement already satisfied: joblib>=0.13.2 in /usr/local/lib/python3.6/dist-packages (from node2vec) (0.15.1)\n",
            "Requirement already satisfied: gensim in /usr/local/lib/python3.6/dist-packages (from node2vec) (3.6.0)\n",
            "Requirement already satisfied: numpy in /usr/local/lib/python3.6/dist-packages (from node2vec) (1.18.5)\n",
            "Requirement already satisfied: decorator>=4.3.0 in /usr/local/lib/python3.6/dist-packages (from networkx->node2vec) (4.4.2)\n",
            "Requirement already satisfied: scipy>=0.18.1 in /usr/local/lib/python3.6/dist-packages (from gensim->node2vec) (1.4.1)\n",
            "Requirement already satisfied: six>=1.5.0 in /usr/local/lib/python3.6/dist-packages (from gensim->node2vec) (1.12.0)\n",
            "Requirement already satisfied: smart-open>=1.2.1 in /usr/local/lib/python3.6/dist-packages (from gensim->node2vec) (2.0.0)\n",
            "Requirement already satisfied: requests in /usr/local/lib/python3.6/dist-packages (from smart-open>=1.2.1->gensim->node2vec) (2.23.0)\n",
            "Requirement already satisfied: boto3 in /usr/local/lib/python3.6/dist-packages (from smart-open>=1.2.1->gensim->node2vec) (1.14.2)\n",
            "Requirement already satisfied: boto in /usr/local/lib/python3.6/dist-packages (from smart-open>=1.2.1->gensim->node2vec) (2.49.0)\n",
            "Requirement already satisfied: chardet<4,>=3.0.2 in /usr/local/lib/python3.6/dist-packages (from requests->smart-open>=1.2.1->gensim->node2vec) (3.0.4)\n",
            "Requirement already satisfied: idna<3,>=2.5 in /usr/local/lib/python3.6/dist-packages (from requests->smart-open>=1.2.1->gensim->node2vec) (2.9)\n",
            "Requirement already satisfied: certifi>=2017.4.17 in /usr/local/lib/python3.6/dist-packages (from requests->smart-open>=1.2.1->gensim->node2vec) (2020.4.5.2)\n",
            "Requirement already satisfied: urllib3!=1.25.0,!=1.25.1,<1.26,>=1.21.1 in /usr/local/lib/python3.6/dist-packages (from requests->smart-open>=1.2.1->gensim->node2vec) (1.24.3)\n",
            "Requirement already satisfied: botocore<1.18.0,>=1.17.2 in /usr/local/lib/python3.6/dist-packages (from boto3->smart-open>=1.2.1->gensim->node2vec) (1.17.2)\n",
            "Requirement already satisfied: s3transfer<0.4.0,>=0.3.0 in /usr/local/lib/python3.6/dist-packages (from boto3->smart-open>=1.2.1->gensim->node2vec) (0.3.3)\n",
            "Requirement already satisfied: jmespath<1.0.0,>=0.7.1 in /usr/local/lib/python3.6/dist-packages (from boto3->smart-open>=1.2.1->gensim->node2vec) (0.10.0)\n",
            "Requirement already satisfied: docutils<0.16,>=0.10 in /usr/local/lib/python3.6/dist-packages (from botocore<1.18.0,>=1.17.2->boto3->smart-open>=1.2.1->gensim->node2vec) (0.15.2)\n",
            "Requirement already satisfied: python-dateutil<3.0.0,>=2.1 in /usr/local/lib/python3.6/dist-packages (from botocore<1.18.0,>=1.17.2->boto3->smart-open>=1.2.1->gensim->node2vec) (2.8.1)\n",
            "Requirement already satisfied: graphistry in /usr/local/lib/python3.6/dist-packages (0.11.5)\n",
            "Requirement already satisfied: requests in /usr/local/lib/python3.6/dist-packages (from graphistry) (2.23.0)\n",
            "Requirement already satisfied: pandas>=0.17.0 in /usr/local/lib/python3.6/dist-packages (from graphistry) (1.0.4)\n",
            "Requirement already satisfied: protobuf>=2.6.0 in /usr/local/lib/python3.6/dist-packages (from graphistry) (3.10.0)\n",
            "Requirement already satisfied: future>=0.15.0 in /usr/local/lib/python3.6/dist-packages (from graphistry) (0.16.0)\n",
            "Requirement already satisfied: numpy in /usr/local/lib/python3.6/dist-packages (from graphistry) (1.18.5)\n",
            "Requirement already satisfied: pyarrow>=0.15.0 in /usr/local/lib/python3.6/dist-packages (from graphistry) (0.17.1)\n",
            "Requirement already satisfied: idna<3,>=2.5 in /usr/local/lib/python3.6/dist-packages (from requests->graphistry) (2.9)\n",
            "Requirement already satisfied: urllib3!=1.25.0,!=1.25.1,<1.26,>=1.21.1 in /usr/local/lib/python3.6/dist-packages (from requests->graphistry) (1.24.3)\n",
            "Requirement already satisfied: certifi>=2017.4.17 in /usr/local/lib/python3.6/dist-packages (from requests->graphistry) (2020.4.5.2)\n",
            "Requirement already satisfied: chardet<4,>=3.0.2 in /usr/local/lib/python3.6/dist-packages (from requests->graphistry) (3.0.4)\n",
            "Requirement already satisfied: python-dateutil>=2.6.1 in /usr/local/lib/python3.6/dist-packages (from pandas>=0.17.0->graphistry) (2.8.1)\n",
            "Requirement already satisfied: pytz>=2017.2 in /usr/local/lib/python3.6/dist-packages (from pandas>=0.17.0->graphistry) (2018.9)\n",
            "Requirement already satisfied: setuptools in /usr/local/lib/python3.6/dist-packages (from protobuf>=2.6.0->graphistry) (47.3.1)\n",
            "Requirement already satisfied: six>=1.9 in /usr/local/lib/python3.6/dist-packages (from protobuf>=2.6.0->graphistry) (1.12.0)\n"
          ],
          "name": "stdout"
        }
      ]
    },
    {
      "cell_type": "code",
      "metadata": {
        "id": "QEYh4TsqnwFQ",
        "colab_type": "code",
        "colab": {
          "base_uri": "https://localhost:8080/",
          "height": 34
        },
        "outputId": "46392af3-1a23-41ce-fbdc-6818894b15a6"
      },
      "source": [
        "%autosave 60"
      ],
      "execution_count": 148,
      "outputs": [
        {
          "output_type": "display_data",
          "data": {
            "application/javascript": [
              "IPython.notebook.set_autosave_interval(60000)"
            ]
          },
          "metadata": {
            "tags": []
          }
        },
        {
          "output_type": "stream",
          "text": [
            "Autosaving every 60 seconds\n"
          ],
          "name": "stdout"
        }
      ]
    },
    {
      "cell_type": "code",
      "metadata": {
        "id": "tHk8qCb0oliE",
        "colab_type": "code",
        "colab": {
          "base_uri": "https://localhost:8080/",
          "height": 1000
        },
        "outputId": "3ccd87eb-61a9-4fa4-a549-1860407fee2f"
      },
      "source": [
        "node2vec = Node2Vec(G, dimensions=100, walk_length=15, num_walks=15, workers=10, temp_folder=\"/mnt\")\n",
        "model = node2vec.fit(window=10, min_count=1, batch_words=4)\n",
        "model.wv.get_vector(list(G.nodes)[0])"
      ],
      "execution_count": 149,
      "outputs": [
        {
          "output_type": "stream",
          "text": [
            "Computing transition probabilities: 100%|██████████| 494/494 [00:00<00:00, 1037.05it/s]\n",
            "\n",
            "\n",
            "\n",
            "\n",
            "Generating walks (CPU: 5):   0%|          | 0/2 [00:00<?, ?it/s]\u001b[A\u001b[A\u001b[A\u001b[A\n",
            "\n",
            "\n",
            "\n",
            "\n",
            "Generating walks (CPU: 7):   0%|          | 0/1 [00:00<?, ?it/s]\u001b[A\u001b[A\u001b[A\u001b[A\u001b[A\n",
            "\n",
            "\n",
            "\n",
            "\n",
            "\n",
            "Generating walks (CPU: 1):   0%|          | 0/2 [00:00<?, ?it/s]\n",
            "Generating walks (CPU: 2):   0%|          | 0/2 [00:00<?, ?it/s]\u001b[A\n",
            "\n",
            "Generating walks (CPU: 3):   0%|          | 0/2 [00:00<?, ?it/s]\u001b[A\u001b[A\n",
            "\n",
            "\n",
            "Generating walks (CPU: 4):   0%|          | 0/2 [00:00<?, ?it/s]\u001b[A\u001b[A\u001b[A\n",
            "\n",
            "\n",
            "\n",
            "\n",
            "\n",
            "\n",
            "\n",
            "Generating walks (CPU: 8):   0%|          | 0/1 [00:00<?, ?it/s]\u001b[A\u001b[A\u001b[A\u001b[A\u001b[A\u001b[A\u001b[A\u001b[A\n",
            "\n",
            "\n",
            "\n",
            "\n",
            "\n",
            "\n",
            "Generating walks (CPU: 6):   0%|          | 0/1 [00:00<?, ?it/s]\u001b[A\u001b[A\u001b[A\u001b[A\u001b[A\u001b[A\u001b[A\n",
            "\n",
            "\n",
            "\n",
            "\n",
            "\n",
            "\n",
            "\n",
            "\n",
            "Generating walks (CPU: 10):   0%|          | 0/1 [00:00<?, ?it/s]\u001b[A\u001b[A\u001b[A\u001b[A\u001b[A\u001b[A\u001b[A\u001b[A\u001b[A\n",
            "\n",
            "\n",
            "\n",
            "\n",
            "\n",
            "\n",
            "\u001b[A\u001b[A\u001b[A\u001b[A\u001b[A\u001b[A\u001b[A\n",
            "\n",
            "\n",
            "\n",
            "\n",
            "\n",
            "\u001b[A\u001b[A\u001b[A\u001b[A\u001b[A\u001b[A\n",
            "\n",
            "\n",
            "\n",
            "\n",
            "\n",
            "\n",
            "\n",
            "\u001b[A\u001b[A\u001b[A\u001b[A\u001b[A\u001b[A\u001b[A\u001b[A\n",
            "\n",
            "\n",
            "\n",
            "\n",
            "\n",
            "\n",
            "\n",
            "\n",
            "Generating walks (CPU: 7): 100%|██████████| 1/1 [00:08<00:00,  8.59s/it]\n",
            "\n",
            "\n",
            "\n",
            "\n",
            "\n",
            "\n",
            "\u001b[A\u001b[A\u001b[A\u001b[A\u001b[A\u001b[A\n",
            "\n",
            "\n",
            "\n",
            "\n",
            "\n",
            "\n",
            "\u001b[A\u001b[A\u001b[A\u001b[A\u001b[A\u001b[A\u001b[A\n",
            "\n",
            "\n",
            "\n",
            "\n",
            "\n",
            "\n",
            "\n",
            "Generating walks (CPU: 9): 100%|██████████| 1/1 [00:08<00:00,  8.68s/it]\n",
            "\n",
            "\n",
            "Generating walks (CPU: 3): 100%|██████████| 2/2 [00:08<00:00,  4.33s/it]\u001b[A\u001b[A\n",
            "Generating walks (CPU: 1): 100%|██████████| 2/2 [00:08<00:00,  4.36s/it]\n",
            "\n",
            "\n",
            "\n",
            "\n",
            "\n",
            "\n",
            "Generating walks (CPU: 8): 100%|██████████| 1/1 [00:08<00:00,  8.67s/it]\n",
            "\n",
            "\n",
            "\n",
            "\n",
            "Generating walks (CPU: 5): 100%|██████████| 2/2 [00:08<00:00,  4.38s/it]\u001b[A\u001b[A\u001b[A\u001b[A\n",
            "\n",
            "\n",
            "Generating walks (CPU: 10): 100%|██████████| 1/1 [00:08<00:00,  8.73s/it]\n",
            "Generating walks (CPU: 6): 100%|██████████| 1/1 [00:08<00:00,  8.77s/it]\n",
            "\n",
            "\n",
            "\n",
            "\u001b[A\u001b[A\u001b[A\n",
            "\n",
            "\n",
            "\n",
            "\u001b[A\u001b[A\u001b[A\u001b[A\n",
            "\n",
            "Generating walks (CPU: 2): 100%|██████████| 2/2 [00:13<00:00,  6.60s/it]\n",
            "\n",
            "\n",
            "\u001b[A\u001b[A\n",
            "\n",
            "\n",
            "Generating walks (CPU: 4): 100%|██████████| 2/2 [00:13<00:00,  6.61s/it]\n",
            "Generating walks (CPU: 1): 100%|██████████| 2/2 [00:13<00:00,  6.64s/it]\n",
            "Generating walks (CPU: 3): 100%|██████████| 2/2 [00:13<00:00,  6.62s/it]\n",
            "Generating walks (CPU: 5): 100%|██████████| 2/2 [00:13<00:00,  6.65s/it]\n"
          ],
          "name": "stderr"
        },
        {
          "output_type": "execute_result",
          "data": {
            "text/plain": [
              "array([-1.7034493e-03,  1.2584093e+00, -7.5108713e-01, -1.2837240e+00,\n",
              "       -2.6599872e+00, -7.4220198e-01,  6.0331529e-01,  1.2887499e-01,\n",
              "       -1.7870808e-02,  8.5509926e-02,  5.5527776e-01, -3.6591628e-01,\n",
              "        3.6851647e-01,  3.1179518e-01,  5.9856033e-01,  4.1842020e-01,\n",
              "        1.4579233e+00, -1.1014131e+00, -9.8308104e-01,  1.4375038e+00,\n",
              "       -5.4351372e-01,  1.3237861e-01, -1.2795578e+00, -9.6150178e-01,\n",
              "        4.5041555e-01, -1.1189711e+00, -2.1885390e+00,  5.1114736e-03,\n",
              "       -1.8188515e+00,  4.4060355e-01, -1.3941478e+00,  5.9934843e-01,\n",
              "       -7.8711528e-01, -1.0722712e+00, -5.5781484e-01,  5.7062083e-03,\n",
              "        4.6473500e-01,  6.4582273e-02,  6.4763182e-01, -1.6011249e+00,\n",
              "       -1.7078352e+00,  6.8651289e-02,  6.6637397e-01,  7.6830244e-01,\n",
              "        8.0489647e-01,  5.6789356e-01,  1.2614490e-01,  1.0413634e+00,\n",
              "       -7.2958100e-01,  6.0449231e-02, -1.0284903e+00,  4.2542490e-01,\n",
              "       -1.3654766e+00,  1.1320988e-01, -1.8080703e+00,  6.3099241e-01,\n",
              "       -2.7612554e-02,  3.5715181e-01, -3.3280569e-01, -2.6035863e-01,\n",
              "       -1.9158233e-02, -1.5637376e+00,  1.1326805e+00,  7.7554429e-01,\n",
              "       -1.9033341e-02, -5.5425596e-01,  2.0576806e+00,  3.1357771e-01,\n",
              "       -1.0927222e+00,  3.1845564e-01, -2.1242654e+00,  2.9360533e-01,\n",
              "       -5.5451560e-01,  7.6717108e-01, -1.1696635e+00,  1.6251926e-01,\n",
              "        4.4425520e-01, -5.0633925e-01, -2.2573002e-01,  1.0731573e+00,\n",
              "        1.5005510e+00, -2.0194869e-01,  2.2816679e-01,  9.7329420e-01,\n",
              "       -6.7489415e-01,  3.8580251e-01,  2.9576167e-01,  1.5985563e-01,\n",
              "        2.6475680e-01,  1.3113207e-01,  4.2344105e-01, -7.4322212e-01,\n",
              "        1.2871750e-02,  3.0902877e-01, -4.0158060e-01, -4.8724630e-01,\n",
              "        2.2144768e-01, -1.0876024e+00,  5.8731902e-01,  8.4032096e-02],\n",
              "      dtype=float32)"
            ]
          },
          "metadata": {
            "tags": []
          },
          "execution_count": 149
        }
      ]
    },
    {
      "cell_type": "code",
      "metadata": {
        "id": "quis9MEKphsS",
        "colab_type": "code",
        "colab": {
          "base_uri": "https://localhost:8080/",
          "height": 1000
        },
        "outputId": "38c8b192-2b56-42f5-d265-7c06f792bf93"
      },
      "source": [
        "node2vec = Node2Vec(G, dimensions=100, walk_length=15, num_walks=15, p=10, q=10, workers=10, temp_folder=\"/mnt\")\n",
        "model = node2vec.fit(window=10, min_count=1, batch_words=4)\n",
        "model.wv.get_vector(list(G.nodes)[0])"
      ],
      "execution_count": 150,
      "outputs": [
        {
          "output_type": "stream",
          "text": [
            "Computing transition probabilities: 100%|██████████| 494/494 [00:00<00:00, 1054.36it/s]\n",
            "Generating walks (CPU: 9):   0%|          | 0/1 [00:00<?, ?it/s]\n",
            "Generating walks (CPU: 2):   0%|          | 0/2 [00:00<?, ?it/s]\u001b[A\n",
            "\n",
            "\n",
            "\n",
            "\n",
            "\n",
            "Generating walks (CPU: 8):   0%|          | 0/1 [00:00<?, ?it/s]\u001b[A\u001b[A\u001b[A\u001b[A\u001b[A\u001b[A\n",
            "\n",
            "\n",
            "\n",
            "\n",
            "\n",
            "\n",
            "Generating walks (CPU: 3):   0%|          | 0/2 [00:00<?, ?it/s]\u001b[A\u001b[A\u001b[A\u001b[A\u001b[A\u001b[A\u001b[A\n",
            "\n",
            "\n",
            "Generating walks (CPU: 5):   0%|          | 0/2 [00:00<?, ?it/s]\u001b[A\u001b[A\u001b[A\n",
            "\n",
            "\n",
            "\n",
            "Generating walks (CPU: 6):   0%|          | 0/1 [00:00<?, ?it/s]\u001b[A\u001b[A\u001b[A\u001b[A\n",
            "\n",
            "\n",
            "\n",
            "\n",
            "Generating walks (CPU: 7):   0%|          | 0/1 [00:00<?, ?it/s]\u001b[A\u001b[A\u001b[A\u001b[A\u001b[A\n",
            "\n",
            "\n",
            "\n",
            "\n",
            "\n",
            "\n",
            "\n",
            "Generating walks (CPU: 1):   0%|          | 0/2 [00:00<?, ?it/s]\u001b[A\u001b[A\u001b[A\u001b[A\u001b[A\u001b[A\u001b[A\u001b[A\n",
            "\n",
            "Generating walks (CPU: 4):   0%|          | 0/2 [00:00<?, ?it/s]\u001b[A\u001b[A\n",
            "\n",
            "\n",
            "\n",
            "\n",
            "\n",
            "\n",
            "\n",
            "\n",
            "Generating walks (CPU: 10):   0%|          | 0/1 [00:00<?, ?it/s]\u001b[A\u001b[A\u001b[A\u001b[A\u001b[A\u001b[A\u001b[A\u001b[A\u001b[A\n",
            "\n",
            "\u001b[A\u001b[A\n",
            "\n",
            "\n",
            "\u001b[A\u001b[A\u001b[A\n",
            "\n",
            "\n",
            "\n",
            "\u001b[A\u001b[A\u001b[A\u001b[A\n",
            "\n",
            "\n",
            "\n",
            "\n",
            "\u001b[A\u001b[A\u001b[A\u001b[A\u001b[A\n",
            "\n",
            "\n",
            "\n",
            "\n",
            "\n",
            "\n",
            "\u001b[A\u001b[A\u001b[A\u001b[A\u001b[A\u001b[A\u001b[A\n",
            "\u001b[A\n",
            "\n",
            "\n",
            "\n",
            "\n",
            "\n",
            "\n",
            "\n",
            "\n",
            "\u001b[A\u001b[A\u001b[A\u001b[A\u001b[A\u001b[A\u001b[A\u001b[A\u001b[A\n",
            "\n",
            "\n",
            "\n",
            "\n",
            "\n",
            "\u001b[A\u001b[A\u001b[A\u001b[A\u001b[A\u001b[A\n",
            "\n",
            "\n",
            "\n",
            "\n",
            "\n",
            "\n",
            "\n",
            "Generating walks (CPU: 9): 100%|██████████| 1/1 [00:08<00:00,  8.24s/it]\n",
            "\n",
            "\n",
            "\n",
            "\n",
            "\n",
            "\n",
            "\u001b[A\u001b[A\u001b[A\u001b[A\u001b[A\u001b[A\n",
            "\n",
            "\n",
            "\n",
            "\n",
            "\n",
            "\n",
            "\n",
            "\u001b[A\u001b[A\u001b[A\u001b[A\u001b[A\u001b[A\u001b[A\u001b[A\n",
            "\n",
            "\n",
            "\n",
            "\n",
            "\n",
            "\n",
            "Generating walks (CPU: 8): 100%|██████████| 1/1 [00:08<00:00,  8.64s/it]\n",
            "Generating walks (CPU: 2): 100%|██████████| 2/2 [00:08<00:00,  4.35s/it]\n",
            "\n",
            "\n",
            "\n",
            "\n",
            "Generating walks (CPU: 3): 100%|██████████| 2/2 [00:08<00:00,  4.34s/it]\u001b[A\u001b[A\u001b[A\u001b[A\u001b[A\n",
            "\n",
            "\n",
            "\n",
            "\n",
            "\u001b[A\u001b[A\u001b[A\u001b[A\u001b[A\n",
            "\n",
            "\n",
            "\n",
            "\n",
            "\n",
            "\n",
            "\u001b[A\u001b[A\u001b[A\u001b[A\u001b[A\u001b[A\u001b[A\n",
            "\n",
            "\n",
            "\n",
            "\n",
            "\n",
            "\u001b[A\u001b[A\u001b[A\u001b[A\u001b[A\u001b[A\n",
            "\n",
            "Generating walks (CPU: 7): 100%|██████████| 1/1 [00:08<00:00,  8.68s/it]\n",
            "\n",
            "\n",
            "\n",
            "\n",
            "\u001b[A\u001b[A\u001b[A\u001b[A\n",
            "\n",
            "\n",
            "\n",
            "\n",
            "\n",
            "\u001b[A\u001b[A\u001b[A\u001b[A\u001b[A\u001b[A\n",
            "\n",
            "\n",
            "\n",
            "\n",
            "Generating walks (CPU: 6): 100%|██████████| 1/1 [00:08<00:00,  8.76s/it]\n",
            "Generating walks (CPU: 10): 100%|██████████| 1/1 [00:08<00:00,  8.72s/it]\n",
            "\n",
            "Generating walks (CPU: 4): 100%|██████████| 2/2 [00:08<00:00,  4.38s/it]\u001b[A\n",
            "\n",
            "\n",
            "\n",
            "Generating walks (CPU: 1): 100%|██████████| 2/2 [00:08<00:00,  4.39s/it]\u001b[A\u001b[A\u001b[A\u001b[A\n",
            "\n",
            "\n",
            "\u001b[A\u001b[A\u001b[A\n",
            "\n",
            "\n",
            "\n",
            "Generating walks (CPU: 5): 100%|██████████| 2/2 [00:13<00:00,  6.53s/it]\n",
            "\n",
            "\u001b[A\n",
            "\n",
            "\n",
            "\u001b[A\u001b[A\u001b[A\n",
            "\n",
            "Generating walks (CPU: 2): 100%|██████████| 2/2 [00:13<00:00,  6.59s/it]\n",
            "Generating walks (CPU: 3): 100%|██████████| 2/2 [00:13<00:00,  6.57s/it]\n",
            "\n",
            "Generating walks (CPU: 1): 100%|██████████| 2/2 [00:13<00:00,  6.56s/it]\n",
            "Generating walks (CPU: 4): 100%|██████████| 2/2 [00:13<00:00,  6.55s/it]\n"
          ],
          "name": "stderr"
        },
        {
          "output_type": "execute_result",
          "data": {
            "text/plain": [
              "array([ 7.77103961e-01,  1.72734451e+00, -1.32408440e+00, -1.36681104e+00,\n",
              "       -3.19245028e+00, -8.78694773e-01,  3.83624434e-01,  3.09055567e-01,\n",
              "       -1.45894244e-01,  1.79356590e-01,  1.97800606e-01, -5.46176553e-01,\n",
              "       -2.45675668e-01,  1.48576856e-01,  2.46428251e+00,  9.20078278e-01,\n",
              "        1.29206324e+00, -1.04977643e+00, -4.76289093e-01,  1.13032520e+00,\n",
              "       -9.51364815e-01,  2.19322458e-01, -1.23063385e+00, -5.72896063e-01,\n",
              "        1.19250202e+00, -4.98025268e-01, -2.24398851e+00,  9.50291514e-01,\n",
              "       -1.69891119e+00,  8.41733038e-01, -7.59957373e-01,  1.02860236e+00,\n",
              "       -8.59729230e-01, -2.35467330e-01, -2.46989876e-01,  2.94223189e-01,\n",
              "        1.07116175e+00, -1.35112971e-01, -4.09357287e-02, -1.45657396e+00,\n",
              "       -1.95596504e+00, -3.26716363e-01,  2.43034095e-01,  6.54539540e-02,\n",
              "        2.04275370e+00,  2.23431811e-01,  1.86136916e-01,  1.34577179e+00,\n",
              "       -7.79814005e-01, -3.24725732e-02, -1.40986323e+00, -4.38533813e-01,\n",
              "       -1.40202570e+00,  4.17290837e-01, -1.50755596e+00,  8.17178905e-01,\n",
              "       -5.57262421e-01,  1.41731743e-03, -2.49703359e-02, -1.02033317e+00,\n",
              "       -8.42615366e-01, -1.83620346e+00,  1.93021870e+00,  6.97403789e-01,\n",
              "       -7.69052088e-01, -3.02648336e-01,  2.52069521e+00,  1.11302733e-01,\n",
              "       -1.24429953e+00, -1.48078233e-01, -1.94025469e+00,  1.04743767e+00,\n",
              "       -9.21025634e-01, -6.02195831e-03, -1.00425780e+00, -1.14832714e-01,\n",
              "        3.51184368e-01, -5.11661530e-01, -6.77298546e-01,  1.00457275e+00,\n",
              "        1.39853978e+00,  9.33961421e-02,  3.58015820e-02,  1.56265724e+00,\n",
              "       -7.05010533e-01,  4.22144651e-01,  4.30202663e-01,  1.69475764e-01,\n",
              "       -2.70667881e-01,  1.33960828e-01, -2.04176679e-01, -1.06750846e+00,\n",
              "       -1.89056948e-01, -9.43123996e-02,  2.78929025e-01,  8.68221372e-02,\n",
              "        4.29872155e-01, -7.70172238e-01,  2.60562837e-01, -2.51304835e-01],\n",
              "      dtype=float32)"
            ]
          },
          "metadata": {
            "tags": []
          },
          "execution_count": 150
        }
      ]
    },
    {
      "cell_type": "markdown",
      "metadata": {
        "id": "L_TTATePPXK0",
        "colab_type": "text"
      },
      "source": [
        "### Task 2. Link Prediction\n",
        "2.1. Perform Link Prediction through Node2Vec. Evaluate accuracy of prediction. Describe results. <br>"
      ]
    },
    {
      "cell_type": "code",
      "metadata": {
        "id": "sXSuP3S6PXK2",
        "colab_type": "code",
        "colab": {}
      },
      "source": [
        "# Start your code here\n",
        "#\n",
        "#\n",
        "#\n",
        "edge_subset = random.sample (G.edges (), int(0.25*G.number_of_edges())) \n",
        "\n",
        "G_train = G.copy () \n",
        "G_train.remove_edges_from (edge_subset)"
      ],
      "execution_count": 151,
      "outputs": []
    },
    {
      "cell_type": "code",
      "metadata": {
        "id": "sKeBKL6SWAdG",
        "colab_type": "code",
        "colab": {
          "base_uri": "https://localhost:8080/",
          "height": 51
        },
        "outputId": "141ca77b-0074-4071-ae70-616b6d9ff02c"
      },
      "source": [
        "edge_subset_size = len (list (edge_subset)) \n",
        "print (\"Удалено:\", str (edge_subset_size)) \n",
        "print (\"Осталось:\", str ((G.number_of_edges() - edge_subset_size)))"
      ],
      "execution_count": 152,
      "outputs": [
        {
          "output_type": "stream",
          "text": [
            "Удалено: 585\n",
            "Осталось: 1756\n"
          ],
          "name": "stdout"
        }
      ]
    },
    {
      "cell_type": "code",
      "metadata": {
        "id": "RpphdalsXpRp",
        "colab_type": "code",
        "colab": {
          "base_uri": "https://localhost:8080/",
          "height": 1000
        },
        "outputId": "66f21ba2-730d-4fdc-91b2-04d61c7da37a"
      },
      "source": [
        "prediction_jaccard = list(nx.jaccard_coefficient(G_train))\n",
        "score, label = zip(*[(s, (u,v) in edge_subset) for (u,v,s) in prediction_jaccard])\n",
        "prediction_jaccard[:100]"
      ],
      "execution_count": 153,
      "outputs": [
        {
          "output_type": "execute_result",
          "data": {
            "text/plain": [
              "[('FB_100006445782139', 'FB_100002023546201', 0.0),\n",
              " ('FB_100006445782139', 'FB_100001568428496', 0.0),\n",
              " ('FB_100006445782139', 'FB_100003432816249', 0.0),\n",
              " ('FB_100006445782139', 'FB_100004314339174', 0.0),\n",
              " ('FB_100006445782139', 'FB_757845053', 0.0),\n",
              " ('FB_100006445782139', 'FB_100005328705827', 0.0),\n",
              " ('FB_100006445782139', 'FB_100005556061223', 0.0),\n",
              " ('FB_100006445782139', 'FB_100004742556198', 0.0),\n",
              " ('FB_100006445782139', 'FB_100007793227871', 0.0),\n",
              " ('FB_100006445782139', 'FB_714604244', 0.04),\n",
              " ('FB_100006445782139', 'FB_100002898154894', 0.0),\n",
              " ('FB_100006445782139', 'FB_100025171904558', 0.0),\n",
              " ('FB_100006445782139', 'FB_100000601288503', 0.0),\n",
              " ('FB_100006445782139', 'FB_100003627105279', 0.0),\n",
              " ('FB_100006445782139', 'FB_100027102314500', 0.0),\n",
              " ('FB_100006445782139', 'FB_100004212346588', 0.08333333333333333),\n",
              " ('FB_100006445782139', 'FB_100002215337386', 0.0),\n",
              " ('FB_100006445782139', 'FB_100000896054821', 0.08333333333333333),\n",
              " ('FB_100006445782139', 'FB_100001838883437', 0.0),\n",
              " ('FB_100006445782139', 'FB_100004083287762', 0.0),\n",
              " ('FB_100006445782139', 'FB_100012759961715', 0.0),\n",
              " ('FB_100006445782139', 'FB_100001947249548', 0.0),\n",
              " ('FB_100006445782139', 'FB_100023584957477', 0.0),\n",
              " ('FB_100006445782139', 'FB_100009093778173', 0.0),\n",
              " ('FB_100006445782139', 'FB_100004441784172', 0.0),\n",
              " ('FB_100006445782139', 'FB_100011333755540', 0.0),\n",
              " ('FB_100006445782139', 'FB_100009039675121', 0.0),\n",
              " ('FB_100006445782139', 'FB_100000433377179', 0.0),\n",
              " ('FB_100006445782139', 'FB_100005349034851', 0.1),\n",
              " ('FB_100006445782139', 'FB_100005411138549', 0.14285714285714285),\n",
              " ('FB_100006445782139', 'FB_100012284880023', 0.0),\n",
              " ('FB_100006445782139', 'FB_100012857683072', 0.0),\n",
              " ('FB_100006445782139', 'FB_100001634249145', 0.0),\n",
              " ('FB_100006445782139', 'FB_100005053417942', 0.058823529411764705),\n",
              " ('FB_100006445782139', 'FB_100000531123381', 0.0),\n",
              " ('FB_100006445782139', 'FB_100004089201902', 0.07692307692307693),\n",
              " ('FB_100006445782139', 'FB_100029743535360', 0.16666666666666666),\n",
              " ('FB_100006445782139', 'FB_100000948954503', 0.09090909090909091),\n",
              " ('FB_100006445782139', 'FB_1131027350', 0.0),\n",
              " ('FB_100006445782139', 'FB_100011375550485', 0.0),\n",
              " ('FB_100006445782139', 'FB_100002015905460', 0.1111111111111111),\n",
              " ('FB_100006445782139', 'FB_100001455984556', 0.09090909090909091),\n",
              " ('FB_100006445782139', 'FB_100003202114418', 0.0),\n",
              " ('FB_100006445782139', 'FB_512847714', 0.0),\n",
              " ('FB_100006445782139', 'FB_100016181348721', 0.0),\n",
              " ('FB_100006445782139', 'FB_100007840987899', 0.0),\n",
              " ('FB_100006445782139', 'FB_100002809813507', 0.16666666666666666),\n",
              " ('FB_100006445782139', 'FB_100001525633628', 0.125),\n",
              " ('FB_100006445782139', 'FB_100001596031727', 0.16666666666666666),\n",
              " ('FB_100006445782139', 'FB_537349279', 0.0),\n",
              " ('FB_100006445782139', 'FB_100015924338648', 0.0),\n",
              " ('FB_100006445782139', 'FB_100021915092856', 0.0),\n",
              " ('FB_100006445782139', 'FB_100015160875247', 0.0),\n",
              " ('FB_100006445782139', 'FB_100000630931375', 0.0),\n",
              " ('FB_100006445782139', 'FB_100013467900949', 0.0),\n",
              " ('FB_100006445782139', 'FB_100002504416019', 0.0),\n",
              " ('FB_100006445782139', 'FB_100000286783267', 0.1),\n",
              " ('FB_100006445782139', 'FB_100003714199074', 0.0),\n",
              " ('FB_100006445782139', 'FB_571971788', 0.0),\n",
              " ('FB_100006445782139', 'FB_100000065461837', 0.1111111111111111),\n",
              " ('FB_100006445782139', 'FB_100006635172316', 0.0),\n",
              " ('FB_100006445782139', 'FB_1608164910', 0.0),\n",
              " ('FB_100006445782139', 'FB_730249941', 0.0),\n",
              " ('FB_100006445782139', 'FB_100008259037565', 0.0),\n",
              " ('FB_100006445782139', 'FB_100011172041777', 0.0),\n",
              " ('FB_100006445782139', 'FB_100001607539504', 0.0),\n",
              " ('FB_100006445782139', 'FB_100007134097251', 0.0),\n",
              " ('FB_100006445782139', 'FB_100003812929655', 0.09090909090909091),\n",
              " ('FB_100006445782139', 'FB_100001042155579', 0.0),\n",
              " ('FB_100006445782139', 'FB_1369630918', 0.0),\n",
              " ('FB_100006445782139', 'FB_100009253085177', 0.0),\n",
              " ('FB_100006445782139', 'FB_100002450747686', 0.0),\n",
              " ('FB_100006445782139', 'FB_100002297346862', 0.0),\n",
              " ('FB_100006445782139', 'FB_100009134108361', 0.0),\n",
              " ('FB_100006445782139', 'FB_1845284713', 0.1),\n",
              " ('FB_100006445782139', 'FB_100015960450443', 0.46153846153846156),\n",
              " ('FB_100006445782139', 'FB_1279039368', 0.06666666666666667),\n",
              " ('FB_100006445782139', 'FB_100009102506109', 0.0),\n",
              " ('FB_100006445782139', 'FB_100009326202697', 0.16666666666666666),\n",
              " ('FB_100006445782139', 'FB_1254193995', 0.0),\n",
              " ('FB_100006445782139', 'FB_100004088100150', 0.0),\n",
              " ('FB_100006445782139', 'FB_100001664460892', 0.07692307692307693),\n",
              " ('FB_100006445782139', 'FB_100000288462913', 0.14285714285714285),\n",
              " ('FB_100006445782139', 'FB_100035595634193', 0.0),\n",
              " ('FB_100006445782139', 'FB_100001646554958', 0.1111111111111111),\n",
              " ('FB_100006445782139', 'FB_100006445233539', 0.0),\n",
              " ('FB_100006445782139', 'FB_1577263502', 0.0),\n",
              " ('FB_100006445782139', 'FB_100000203047949', 0.0),\n",
              " ('FB_100006445782139', 'FB_100026591256878', 0.0),\n",
              " ('FB_100006445782139', 'FB_100011319492315', 0.0),\n",
              " ('FB_100006445782139', 'FB_100004360390715', 0.09090909090909091),\n",
              " ('FB_100006445782139', 'FB_100000740415916', 0.0),\n",
              " ('FB_100006445782139', 'FB_100007022131477', 0.0),\n",
              " ('FB_100006445782139', 'FB_100000193131586', 0.0),\n",
              " ('FB_100006445782139', 'FB_100003818690670', 0.0),\n",
              " ('FB_100006445782139', 'FB_100003632569529', 0.0),\n",
              " ('FB_100006445782139', 'FB_100014812541578', 0.0),\n",
              " ('FB_100006445782139', 'FB_100007032608443', 0.09090909090909091),\n",
              " ('FB_100006445782139', 'FB_100030096428484', 0.14285714285714285),\n",
              " ('FB_100006445782139', 'FB_100001769516076', 0.0)]"
            ]
          },
          "metadata": {
            "tags": []
          },
          "execution_count": 153
        }
      ]
    },
    {
      "cell_type": "code",
      "metadata": {
        "id": "hbq6EavGZ2UN",
        "colab_type": "code",
        "colab": {}
      },
      "source": [
        "def mask_test_edges(adj, test_frac=.1, val_frac=.05, prevent_disconnect=True, verbose=False):\n",
        "    # NOTE: Splits are randomized and results might slightly deviate from reported numbers in the paper.\n",
        "\n",
        "    if verbose == True:\n",
        "        print('preprocessing...')\n",
        "\n",
        "    # Remove diagonal elements\n",
        "    adj = adj - sp.dia_matrix((adj.diagonal()[np.newaxis, :], [0]), shape=adj.shape)\n",
        "    adj.eliminate_zeros()\n",
        "    # Check that diag is zero:\n",
        "    assert np.diag(adj.todense()).sum() == 0\n",
        "\n",
        "    g = nx.from_scipy_sparse_matrix(adj)\n",
        "    orig_num_cc = nx.number_connected_components(g)\n",
        "\n",
        "    adj_triu = sp.triu(adj) # upper triangular portion of adj matrix\n",
        "    adj_tuple = sparse_to_tuple(adj_triu) # (coords, values, shape), edges only 1 way\n",
        "    edges = adj_tuple[0] # all edges, listed only once (not 2 ways)\n",
        "    # edges_all = sparse_to_tuple(adj)[0] # ALL edges (includes both ways)\n",
        "    num_test = int(np.floor(edges.shape[0] * test_frac)) # controls how large the test set should be\n",
        "    num_val = int(np.floor(edges.shape[0] * val_frac)) # controls how alrge the validation set should be\n",
        "\n",
        "    # Store edges in list of ordered tuples (node1, node2) where node1 < node2\n",
        "    edge_tuples = [(min(edge[0], edge[1]), max(edge[0], edge[1])) for edge in edges]\n",
        "    all_edge_tuples = set(edge_tuples)\n",
        "    train_edges = set(edge_tuples) # initialize train_edges to have all edges\n",
        "    test_edges = set()\n",
        "    val_edges = set()\n",
        "\n",
        "    if verbose == True:\n",
        "        print('generating test/val sets...')\n",
        "\n",
        "    # Iterate over shuffled edges, add to train/val sets\n",
        "    np.random.shuffle(edge_tuples)\n",
        "    for edge in edge_tuples:\n",
        "        # print(edge)\n",
        "        node1 = edge[0]\n",
        "        node2 = edge[1]\n",
        "\n",
        "        # If removing edge would disconnect a connected component, backtrack and move on\n",
        "        g.remove_edge(node1, node2)\n",
        "        if prevent_disconnect == True:\n",
        "            if nx.number_connected_components(g) > orig_num_cc:\n",
        "                g.add_edge(node1, node2)\n",
        "                continue\n",
        "\n",
        "        # Fill test_edges first\n",
        "        if len(test_edges) < num_test:\n",
        "            test_edges.add(edge)\n",
        "            train_edges.remove(edge)\n",
        "\n",
        "        # Then, fill val_edges\n",
        "        elif len(val_edges) < num_val:\n",
        "            val_edges.add(edge)\n",
        "            train_edges.remove(edge)\n",
        "\n",
        "        # Both edge lists full --> break loop\n",
        "        elif len(test_edges) == num_test and len(val_edges) == num_val:\n",
        "            break\n",
        "\n",
        "    if (len(val_edges) < num_val or len(test_edges) < num_test):\n",
        "        print(\"WARNING: not enough removable edges to perform full train-test split!\")\n",
        "        print(\"Num. (test, val) edges requested: (\", num_test, \", \", num_val, \")\")\n",
        "        print(\"Num. (test, val) edges returned: (\", len(test_edges), \", \", len(val_edges), \")\")\n",
        "\n",
        "    if prevent_disconnect == True:\n",
        "        assert nx.number_connected_components(g) == orig_num_cc\n",
        "\n",
        "    if verbose == True:\n",
        "        print('creating false test edges...')\n",
        "\n",
        "    test_edges_false = set()\n",
        "    while len(test_edges_false) < num_test:\n",
        "        idx_i = np.random.randint(0, adj.shape[0])\n",
        "        idx_j = np.random.randint(0, adj.shape[0])\n",
        "        if idx_i == idx_j:\n",
        "            continue\n",
        "\n",
        "        false_edge = (min(idx_i, idx_j), max(idx_i, idx_j))\n",
        "\n",
        "        # Make sure false_edge not an actual edge, and not a repeat\n",
        "        if false_edge in all_edge_tuples:\n",
        "            continue\n",
        "        if false_edge in test_edges_false:\n",
        "            continue\n",
        "\n",
        "        test_edges_false.add(false_edge)\n",
        "\n",
        "    if verbose == True:\n",
        "        print('creating false val edges...')\n",
        "\n",
        "    val_edges_false = set()\n",
        "    while len(val_edges_false) < num_val:\n",
        "        idx_i = np.random.randint(0, adj.shape[0])\n",
        "        idx_j = np.random.randint(0, adj.shape[0])\n",
        "        if idx_i == idx_j:\n",
        "            continue\n",
        "\n",
        "        false_edge = (min(idx_i, idx_j), max(idx_i, idx_j))\n",
        "\n",
        "        # Make sure false_edge in not an actual edge, not in test_edges_false, not a repeat\n",
        "        if false_edge in all_edge_tuples or \\\n",
        "            false_edge in test_edges_false or \\\n",
        "            false_edge in val_edges_false:\n",
        "            continue\n",
        "            \n",
        "        val_edges_false.add(false_edge)\n",
        "\n",
        "    if verbose == True:\n",
        "        print('creating false train edges...')\n",
        "\n",
        "    train_edges_false = set()\n",
        "    while len(train_edges_false) < len(train_edges):\n",
        "        idx_i = np.random.randint(0, adj.shape[0])\n",
        "        idx_j = np.random.randint(0, adj.shape[0])\n",
        "        if idx_i == idx_j:\n",
        "            continue\n",
        "\n",
        "        false_edge = (min(idx_i, idx_j), max(idx_i, idx_j))\n",
        "\n",
        "        # Make sure false_edge in not an actual edge, not in test_edges_false, \n",
        "            # not in val_edges_false, not a repeat\n",
        "        if false_edge in all_edge_tuples or \\\n",
        "            false_edge in test_edges_false or \\\n",
        "            false_edge in val_edges_false or \\\n",
        "            false_edge in train_edges_false:\n",
        "            continue\n",
        "\n",
        "        train_edges_false.add(false_edge)\n",
        "\n",
        "    if verbose == True:\n",
        "        print('final checks for disjointness...')\n",
        "\n",
        "    # assert: false_edges are actually false (not in all_edge_tuples)\n",
        "    assert test_edges_false.isdisjoint(all_edge_tuples)\n",
        "    assert val_edges_false.isdisjoint(all_edge_tuples)\n",
        "    assert train_edges_false.isdisjoint(all_edge_tuples)\n",
        "\n",
        "    # assert: test, val, train false edges disjoint\n",
        "    assert test_edges_false.isdisjoint(val_edges_false)\n",
        "    assert test_edges_false.isdisjoint(train_edges_false)\n",
        "    assert val_edges_false.isdisjoint(train_edges_false)\n",
        "\n",
        "    # assert: test, val, train positive edges disjoint\n",
        "    assert val_edges.isdisjoint(train_edges)\n",
        "    assert test_edges.isdisjoint(train_edges)\n",
        "    assert val_edges.isdisjoint(test_edges)\n",
        "\n",
        "    if verbose == True:\n",
        "        print('creating adj_train...')\n",
        "\n",
        "    # Re-build adj matrix using remaining graph\n",
        "    adj_train = nx.adjacency_matrix(g)\n",
        "\n",
        "    # Convert edge-lists to numpy arrays\n",
        "    train_edges = np.array([list(edge_tuple) for edge_tuple in train_edges])\n",
        "    train_edges_false = np.array([list(edge_tuple) for edge_tuple in train_edges_false])\n",
        "    val_edges = np.array([list(edge_tuple) for edge_tuple in val_edges])\n",
        "    val_edges_false = np.array([list(edge_tuple) for edge_tuple in val_edges_false])\n",
        "    test_edges = np.array([list(edge_tuple) for edge_tuple in test_edges])\n",
        "    test_edges_false = np.array([list(edge_tuple) for edge_tuple in test_edges_false])\n",
        "\n",
        "    if verbose == True:\n",
        "        print('Done with train-test split!')\n",
        "        print('')\n",
        "\n",
        "    # NOTE: these edge lists only contain single direction of edge!\n",
        "    return adj_train, train_edges, train_edges_false, \\\n",
        "        val_edges, val_edges_false, test_edges, test_edges_false"
      ],
      "execution_count": 154,
      "outputs": []
    },
    {
      "cell_type": "code",
      "metadata": {
        "id": "bnFIlH86akK9",
        "colab_type": "code",
        "colab": {}
      },
      "source": [
        "def sparse_to_tuple(sparse_mx):\n",
        "    if not sp.isspmatrix_coo(sparse_mx):\n",
        "        sparse_mx = sparse_mx.tocoo()\n",
        "    coords = np.vstack((sparse_mx.row, sparse_mx.col)).transpose()\n",
        "    values = sparse_mx.data\n",
        "    shape = sparse_mx.shape\n",
        "    return coords, values, shape"
      ],
      "execution_count": 155,
      "outputs": []
    },
    {
      "cell_type": "code",
      "metadata": {
        "id": "YjdUURn7ZdS6",
        "colab_type": "code",
        "colab": {
          "base_uri": "https://localhost:8080/",
          "height": 102
        },
        "outputId": "590bfdd6-b7a9-45a6-fadd-fd6e279b5643"
      },
      "source": [
        "import scipy.sparse as sp\n",
        "adj_train, train_edges, train_edges_false, val_edges, val_edges_false, \\\n",
        "    test_edges, test_edges_false = mask_test_edges(adj_sparse, test_frac=.3, val_frac=.1)\n",
        "\n",
        "pos_train_edge_embs = get_edge_embeddings(train_edges)\n",
        "neg_train_edge_embs = get_edge_embeddings(train_edges_false)\n",
        "train_edge_embs = np.concatenate([pos_train_edge_embs, neg_train_edge_embs])\n",
        "\n",
        "train_edge_labels = np.concatenate([np.ones(len(train_edges)), np.zeros(len(train_edges_false))])\n",
        "\n",
        "from sklearn.linear_model import LogisticRegression\n",
        "edge_classifier = LogisticRegression(random_state=0)\n",
        "edge_classifier.fit(train_edge_embs, train_edge_labels)"
      ],
      "execution_count": 156,
      "outputs": [
        {
          "output_type": "execute_result",
          "data": {
            "text/plain": [
              "LogisticRegression(C=1.0, class_weight=None, dual=False, fit_intercept=True,\n",
              "                   intercept_scaling=1, l1_ratio=None, max_iter=100,\n",
              "                   multi_class='auto', n_jobs=None, penalty='l2',\n",
              "                   random_state=0, solver='lbfgs', tol=0.0001, verbose=0,\n",
              "                   warm_start=False)"
            ]
          },
          "metadata": {
            "tags": []
          },
          "execution_count": 156
        }
      ]
    },
    {
      "cell_type": "code",
      "metadata": {
        "id": "yNiCduMcbCyM",
        "colab_type": "code",
        "colab": {}
      },
      "source": [
        "from sklearn.metrics import roc_auc_score\n",
        "from sklearn.metrics import average_precision_score\n",
        "\n",
        "pos_val_edge_embs = get_edge_embeddings(val_edges)\n",
        "neg_val_edge_embs = get_edge_embeddings(val_edges_false)\n",
        "val_edge_embs = np.concatenate([pos_val_edge_embs, neg_val_edge_embs])\n",
        "val_edge_labels = np.concatenate([np.ones(len(val_edges)), np.zeros(len(val_edges_false))])\n",
        "\n",
        "val_preds = edge_classifier.predict_proba(val_edge_embs)[:, 1]\n",
        "val_roc = roc_auc_score(val_edge_labels, val_preds)\n",
        "val_ap = average_precision_score(val_edge_labels, val_preds)"
      ],
      "execution_count": 157,
      "outputs": []
    },
    {
      "cell_type": "code",
      "metadata": {
        "id": "YjSKkiwabuaI",
        "colab_type": "code",
        "colab": {}
      },
      "source": [
        "pos_test_edge_embs = get_edge_embeddings(test_edges)\n",
        "neg_test_edge_embs = get_edge_embeddings(test_edges_false)\n",
        "test_edge_embs = np.concatenate([pos_test_edge_embs, neg_test_edge_embs])\n",
        "\n",
        "test_preds = edge_classifier.predict_proba(test_edge_embs)[:, 1]\n",
        "test_roc = roc_auc_score(test_edge_labels, test_preds)\n",
        "test_ap = average_precision_score(test_edge_labels, test_preds)"
      ],
      "execution_count": 158,
      "outputs": []
    },
    {
      "cell_type": "code",
      "metadata": {
        "id": "BeyGcFifb9Is",
        "colab_type": "code",
        "colab": {
          "base_uri": "https://localhost:8080/",
          "height": 85
        },
        "outputId": "b1e5872e-26a2-4b6c-a8c8-77eb5a2b037c"
      },
      "source": [
        "print('node2vec Validation ROC score: ', str(val_roc))\n",
        "print('node2vec Validation AP score: ', str(val_ap))\n",
        "print('node2vec Test ROC score: ', str(test_roc))\n",
        "print('node2vec Test AP score: ', str(test_ap))"
      ],
      "execution_count": 159,
      "outputs": [
        {
          "output_type": "stream",
          "text": [
            "node2vec Validation ROC score:  0.9971875228285485\n",
            "node2vec Validation AP score:  0.9970698645058225\n",
            "node2vec Test ROC score:  0.9957143205006452\n",
            "node2vec Test AP score:  0.9959911521588007\n"
          ],
          "name": "stdout"
        }
      ]
    },
    {
      "cell_type": "markdown",
      "metadata": {
        "id": "E4yXz4lncIFy",
        "colab_type": "text"
      },
      "source": [
        "Точность предсказания довольно высокая"
      ]
    },
    {
      "cell_type": "markdown",
      "metadata": {
        "id": "75AfKgANPXLF",
        "colab_type": "text"
      },
      "source": [
        "### Task 3. Node clustering\n",
        "3.1. Perform Node classification through Node2Vec. How does it compare to the community detection from HW2 ? <br>"
      ]
    },
    {
      "cell_type": "code",
      "metadata": {
        "id": "j7CXtk8CPXLH",
        "colab_type": "code",
        "colab": {}
      },
      "source": [
        "# Start your code here\n",
        "#\n",
        "#\n",
        "#\n",
        "def detect_communities_label_propagation(G):\n",
        "    communities = list()\n",
        "    for c in label_propagation_communities(G):\n",
        "        communities.append(sorted(c))\n",
        "    return sorted(communities)"
      ],
      "execution_count": 164,
      "outputs": []
    },
    {
      "cell_type": "code",
      "metadata": {
        "id": "d6kPl10Ke5tT",
        "colab_type": "code",
        "colab": {}
      },
      "source": [
        "from networkx.algorithms import community\n",
        "from networkx.algorithms.community import label_propagation_communities\n",
        "result = detect_communities_label_propagation(G)"
      ],
      "execution_count": 166,
      "outputs": []
    },
    {
      "cell_type": "code",
      "metadata": {
        "id": "HR-l__DqdKeX",
        "colab_type": "code",
        "colab": {}
      },
      "source": [
        "def show_communities(G, communities, name='title'):\n",
        "    pos=nx.spring_layout(G)\n",
        "    colors = ['b', 'g', 'r', 'c', 'm', 'y', 'k', 'w', 'b', 'g', 'r', 'c', 'm', 'y', 'k', 'w', 'b', 'g', 'r', 'c', 'm', 'y', 'k', 'w', 'b', 'g', 'r', 'c', 'm', 'y', 'k', 'w']\n",
        "    plt.figure()\n",
        "    plt.title(name, fontsize=20)\n",
        "    aux = 0\n",
        "    for community in communities:\n",
        "        nx.draw_networkx_nodes(G, pos, community, node_size = 50, node_color = colors[aux])\n",
        "        aux = aux + 1\n",
        "    nx.draw_networkx_edges(G, pos, alpha=0.5)\n",
        "    plt.show(block=True)"
      ],
      "execution_count": 167,
      "outputs": []
    },
    {
      "cell_type": "code",
      "metadata": {
        "id": "u28tm1kYdN1j",
        "colab_type": "code",
        "colab": {
          "base_uri": "https://localhost:8080/",
          "height": 269
        },
        "outputId": "4b93b727-29ca-470a-911c-98d164d0b8e6"
      },
      "source": [
        "import matplotlib.pyplot as plt\n",
        "show_communities(G, result, name='label propagation')"
      ],
      "execution_count": 171,
      "outputs": [
        {
          "output_type": "display_data",
          "data": {
            "image/png": "[encoded data removed]",
            "text/plain": [
              "<Figure size 432x288 with 1 Axes>"
            ]
          },
          "metadata": {
            "tags": []
          }
        }
      ]
    },
    {
      "cell_type": "markdown",
      "metadata": {
        "id": "0Dpik7uIfsLw",
        "colab_type": "text"
      },
      "source": [
        "Here we have 5 clusters again, as in the second homework."
      ]
    }
  ]
}