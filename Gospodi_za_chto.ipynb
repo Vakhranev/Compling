{
  "nbformat": 4,
  "nbformat_minor": 0,
  "metadata": {
    "colab": {
      "name": "Gospodi_za_chto.ipynb",
      "provenance": [],
      "collapsed_sections": [],
      "authorship_tag": "ABX9TyNoe6MJTownMjXKcyWsy4Mr",
      "include_colab_link": true
    },
    "kernelspec": {
      "name": "python3",
      "display_name": "Python 3"
    }
  },
  "cells": [
    {
      "cell_type": "markdown",
      "metadata": {
        "id": "view-in-github",
        "colab_type": "text"
      },
      "source": [
        "<a href=\"https://colab.research.google.com/github/Vakhranev/Compling/blob/master/Gospodi_za_chto.ipynb\" target=\"_parent\"><img src=\"https://colab.research.google.com/assets/colab-badge.svg\" alt=\"Open In Colab\"/></a>"
      ]
    },
    {
      "cell_type": "markdown",
      "metadata": {
        "id": "Nj4HqdlJJAY7",
        "colab_type": "text"
      },
      "source": [
        "Выбранные задания:\n",
        "\n",
        "Описательный анализ данных с привязкой к целевой переменной (toxic) и 2 другим дополнительным колонкам (как минимум 5 статистик на каждую группу) - 1.5 балл\n",
        "\n",
        "Бейзлайн модель из sklearn (векторайзер + модель) c подбором параметров в greed_search (как минимум 10 параметров)  - 1.5 \n",
        "\n",
        "Ансамбль из моделей в sklearn (ансамблевые модели типа randomforest не считаются). Нужно минимум 5 разных моделей - 2 балла\n",
        "\n",
        "Любая нейронная модель (минимум 5 слоев) с Dropout, Pooling и колбеками - 2 балла"
      ]
    },
    {
      "cell_type": "code",
      "metadata": {
        "id": "wESxjEpKKDAb",
        "colab_type": "code",
        "colab": {}
      },
      "source": [
        "import pandas as pd"
      ],
      "execution_count": 4,
      "outputs": []
    },
    {
      "cell_type": "code",
      "metadata": {
        "id": "_XkDoqcApzmc",
        "colab_type": "code",
        "colab": {
          "base_uri": "https://localhost:8080/",
          "height": 669
        },
        "outputId": "74890401-7784-4ebc-98e5-98da345a3231"
      },
      "source": [
        "f = pd.read_csv('jigsaw-toxic-comment-train.csv.zip')\n",
        "f.head(20)"
      ],
      "execution_count": 5,
      "outputs": [
        {
          "output_type": "execute_result",
          "data": {
            "text/html": [
              "<div>\n",
              "<style scoped>\n",
              "    .dataframe tbody tr th:only-of-type {\n",
              "        vertical-align: middle;\n",
              "    }\n",
              "\n",
              "    .dataframe tbody tr th {\n",
              "        vertical-align: top;\n",
              "    }\n",
              "\n",
              "    .dataframe thead th {\n",
              "        text-align: right;\n",
              "    }\n",
              "</style>\n",
              "<table border=\"1\" class=\"dataframe\">\n",
              "  <thead>\n",
              "    <tr style=\"text-align: right;\">\n",
              "      <th></th>\n",
              "      <th>id</th>\n",
              "      <th>comment_text</th>\n",
              "      <th>toxic</th>\n",
              "      <th>severe_toxic</th>\n",
              "      <th>obscene</th>\n",
              "      <th>threat</th>\n",
              "      <th>insult</th>\n",
              "      <th>identity_hate</th>\n",
              "    </tr>\n",
              "  </thead>\n",
              "  <tbody>\n",
              "    <tr>\n",
              "      <th>0</th>\n",
              "      <td>0000997932d777bf</td>\n",
              "      <td>Explanation\\nWhy the edits made under my usern...</td>\n",
              "      <td>0</td>\n",
              "      <td>0</td>\n",
              "      <td>0</td>\n",
              "      <td>0</td>\n",
              "      <td>0</td>\n",
              "      <td>0</td>\n",
              "    </tr>\n",
              "    <tr>\n",
              "      <th>1</th>\n",
              "      <td>000103f0d9cfb60f</td>\n",
              "      <td>D'aww! He matches this background colour I'm s...</td>\n",
              "      <td>0</td>\n",
              "      <td>0</td>\n",
              "      <td>0</td>\n",
              "      <td>0</td>\n",
              "      <td>0</td>\n",
              "      <td>0</td>\n",
              "    </tr>\n",
              "    <tr>\n",
              "      <th>2</th>\n",
              "      <td>000113f07ec002fd</td>\n",
              "      <td>Hey man, I'm really not trying to edit war. It...</td>\n",
              "      <td>0</td>\n",
              "      <td>0</td>\n",
              "      <td>0</td>\n",
              "      <td>0</td>\n",
              "      <td>0</td>\n",
              "      <td>0</td>\n",
              "    </tr>\n",
              "    <tr>\n",
              "      <th>3</th>\n",
              "      <td>0001b41b1c6bb37e</td>\n",
              "      <td>\"\\nMore\\nI can't make any real suggestions on ...</td>\n",
              "      <td>0</td>\n",
              "      <td>0</td>\n",
              "      <td>0</td>\n",
              "      <td>0</td>\n",
              "      <td>0</td>\n",
              "      <td>0</td>\n",
              "    </tr>\n",
              "    <tr>\n",
              "      <th>4</th>\n",
              "      <td>0001d958c54c6e35</td>\n",
              "      <td>You, sir, are my hero. Any chance you remember...</td>\n",
              "      <td>0</td>\n",
              "      <td>0</td>\n",
              "      <td>0</td>\n",
              "      <td>0</td>\n",
              "      <td>0</td>\n",
              "      <td>0</td>\n",
              "    </tr>\n",
              "    <tr>\n",
              "      <th>5</th>\n",
              "      <td>00025465d4725e87</td>\n",
              "      <td>\"\\n\\nCongratulations from me as well, use the ...</td>\n",
              "      <td>0</td>\n",
              "      <td>0</td>\n",
              "      <td>0</td>\n",
              "      <td>0</td>\n",
              "      <td>0</td>\n",
              "      <td>0</td>\n",
              "    </tr>\n",
              "    <tr>\n",
              "      <th>6</th>\n",
              "      <td>0002bcb3da6cb337</td>\n",
              "      <td>COCKSUCKER BEFORE YOU PISS AROUND ON MY WORK</td>\n",
              "      <td>1</td>\n",
              "      <td>1</td>\n",
              "      <td>1</td>\n",
              "      <td>0</td>\n",
              "      <td>1</td>\n",
              "      <td>0</td>\n",
              "    </tr>\n",
              "    <tr>\n",
              "      <th>7</th>\n",
              "      <td>00031b1e95af7921</td>\n",
              "      <td>Your vandalism to the Matt Shirvington article...</td>\n",
              "      <td>0</td>\n",
              "      <td>0</td>\n",
              "      <td>0</td>\n",
              "      <td>0</td>\n",
              "      <td>0</td>\n",
              "      <td>0</td>\n",
              "    </tr>\n",
              "    <tr>\n",
              "      <th>8</th>\n",
              "      <td>00037261f536c51d</td>\n",
              "      <td>Sorry if the word 'nonsense' was offensive to ...</td>\n",
              "      <td>0</td>\n",
              "      <td>0</td>\n",
              "      <td>0</td>\n",
              "      <td>0</td>\n",
              "      <td>0</td>\n",
              "      <td>0</td>\n",
              "    </tr>\n",
              "    <tr>\n",
              "      <th>9</th>\n",
              "      <td>00040093b2687caa</td>\n",
              "      <td>alignment on this subject and which are contra...</td>\n",
              "      <td>0</td>\n",
              "      <td>0</td>\n",
              "      <td>0</td>\n",
              "      <td>0</td>\n",
              "      <td>0</td>\n",
              "      <td>0</td>\n",
              "    </tr>\n",
              "    <tr>\n",
              "      <th>10</th>\n",
              "      <td>0005300084f90edc</td>\n",
              "      <td>\"\\nFair use rationale for Image:Wonju.jpg\\n\\nT...</td>\n",
              "      <td>0</td>\n",
              "      <td>0</td>\n",
              "      <td>0</td>\n",
              "      <td>0</td>\n",
              "      <td>0</td>\n",
              "      <td>0</td>\n",
              "    </tr>\n",
              "    <tr>\n",
              "      <th>11</th>\n",
              "      <td>00054a5e18b50dd4</td>\n",
              "      <td>bbq \\n\\nbe a man and lets discuss it-maybe ove...</td>\n",
              "      <td>0</td>\n",
              "      <td>0</td>\n",
              "      <td>0</td>\n",
              "      <td>0</td>\n",
              "      <td>0</td>\n",
              "      <td>0</td>\n",
              "    </tr>\n",
              "    <tr>\n",
              "      <th>12</th>\n",
              "      <td>0005c987bdfc9d4b</td>\n",
              "      <td>Hey... what is it..\\n@ | talk .\\nWhat is it......</td>\n",
              "      <td>1</td>\n",
              "      <td>0</td>\n",
              "      <td>0</td>\n",
              "      <td>0</td>\n",
              "      <td>0</td>\n",
              "      <td>0</td>\n",
              "    </tr>\n",
              "    <tr>\n",
              "      <th>13</th>\n",
              "      <td>0006f16e4e9f292e</td>\n",
              "      <td>Before you start throwing accusations and warn...</td>\n",
              "      <td>0</td>\n",
              "      <td>0</td>\n",
              "      <td>0</td>\n",
              "      <td>0</td>\n",
              "      <td>0</td>\n",
              "      <td>0</td>\n",
              "    </tr>\n",
              "    <tr>\n",
              "      <th>14</th>\n",
              "      <td>00070ef96486d6f9</td>\n",
              "      <td>Oh, and the girl above started her arguments w...</td>\n",
              "      <td>0</td>\n",
              "      <td>0</td>\n",
              "      <td>0</td>\n",
              "      <td>0</td>\n",
              "      <td>0</td>\n",
              "      <td>0</td>\n",
              "    </tr>\n",
              "    <tr>\n",
              "      <th>15</th>\n",
              "      <td>00078f8ce7eb276d</td>\n",
              "      <td>\"\\n\\nJuelz Santanas Age\\n\\nIn 2002, Juelz Sant...</td>\n",
              "      <td>0</td>\n",
              "      <td>0</td>\n",
              "      <td>0</td>\n",
              "      <td>0</td>\n",
              "      <td>0</td>\n",
              "      <td>0</td>\n",
              "    </tr>\n",
              "    <tr>\n",
              "      <th>16</th>\n",
              "      <td>0007e25b2121310b</td>\n",
              "      <td>Bye! \\n\\nDon't look, come or think of comming ...</td>\n",
              "      <td>1</td>\n",
              "      <td>0</td>\n",
              "      <td>0</td>\n",
              "      <td>0</td>\n",
              "      <td>0</td>\n",
              "      <td>0</td>\n",
              "    </tr>\n",
              "    <tr>\n",
              "      <th>17</th>\n",
              "      <td>000897889268bc93</td>\n",
              "      <td>REDIRECT Talk:Voydan Pop Georgiev- Chernodrinski</td>\n",
              "      <td>0</td>\n",
              "      <td>0</td>\n",
              "      <td>0</td>\n",
              "      <td>0</td>\n",
              "      <td>0</td>\n",
              "      <td>0</td>\n",
              "    </tr>\n",
              "    <tr>\n",
              "      <th>18</th>\n",
              "      <td>0009801bd85e5806</td>\n",
              "      <td>The Mitsurugi point made no sense - why not ar...</td>\n",
              "      <td>0</td>\n",
              "      <td>0</td>\n",
              "      <td>0</td>\n",
              "      <td>0</td>\n",
              "      <td>0</td>\n",
              "      <td>0</td>\n",
              "    </tr>\n",
              "    <tr>\n",
              "      <th>19</th>\n",
              "      <td>0009eaea3325de8c</td>\n",
              "      <td>Don't mean to bother you \\n\\nI see that you're...</td>\n",
              "      <td>0</td>\n",
              "      <td>0</td>\n",
              "      <td>0</td>\n",
              "      <td>0</td>\n",
              "      <td>0</td>\n",
              "      <td>0</td>\n",
              "    </tr>\n",
              "  </tbody>\n",
              "</table>\n",
              "</div>"
            ],
            "text/plain": [
              "                  id  ... identity_hate\n",
              "0   0000997932d777bf  ...             0\n",
              "1   000103f0d9cfb60f  ...             0\n",
              "2   000113f07ec002fd  ...             0\n",
              "3   0001b41b1c6bb37e  ...             0\n",
              "4   0001d958c54c6e35  ...             0\n",
              "5   00025465d4725e87  ...             0\n",
              "6   0002bcb3da6cb337  ...             0\n",
              "7   00031b1e95af7921  ...             0\n",
              "8   00037261f536c51d  ...             0\n",
              "9   00040093b2687caa  ...             0\n",
              "10  0005300084f90edc  ...             0\n",
              "11  00054a5e18b50dd4  ...             0\n",
              "12  0005c987bdfc9d4b  ...             0\n",
              "13  0006f16e4e9f292e  ...             0\n",
              "14  00070ef96486d6f9  ...             0\n",
              "15  00078f8ce7eb276d  ...             0\n",
              "16  0007e25b2121310b  ...             0\n",
              "17  000897889268bc93  ...             0\n",
              "18  0009801bd85e5806  ...             0\n",
              "19  0009eaea3325de8c  ...             0\n",
              "\n",
              "[20 rows x 8 columns]"
            ]
          },
          "metadata": {
            "tags": []
          },
          "execution_count": 5
        }
      ]
    },
    {
      "cell_type": "markdown",
      "metadata": {
        "id": "771sFeEn4K6F",
        "colab_type": "text"
      },
      "source": [
        "Сравним ряд параметров для трёх групп:\n",
        "1. Toxic: toxic=1 и toxic=0\n",
        "2. Severe toxic: severe_toxic=1 и severe_toxic=0\n",
        "3. Obscene: obscene=1 и obscene=0\n",
        "\n",
        "Сравним по среднему количеству символов, среднему количеству заглавных букв (мы видим в примерах выше токсичный комментарий, написанный капсом), среднему количеству знаков пунктуации, среднему количеству цифр, а также по количеству слов (точнее — токенов) в столбце comment_text."
      ]
    },
    {
      "cell_type": "code",
      "metadata": {
        "id": "ffwOUR1M3CFy",
        "colab_type": "code",
        "colab": {}
      },
      "source": [
        "from string import punctuation\n",
        "f['Количество символов'] = f['comment_text'].apply(len)\n",
        "f['Количество заглавных букв'] = f['comment_text'].apply(lambda comment: len([i for i in comment if i.isupper()]))\n",
        "f['Количество знаков препинания'] = f['comment_text'].apply(lambda comment: len([i for i in comment if i in punctuation]))\n",
        "f['Количество цифр'] = f['comment_text'].apply(lambda comment: len([i for i in comment if i.isdigit()]))\n",
        "f['Количество слов'] = f['comment_text'].apply(lambda comment: len(comment.split()))"
      ],
      "execution_count": 3,
      "outputs": []
    },
    {
      "cell_type": "code",
      "metadata": {
        "id": "VKAf8lQGA4OA",
        "colab_type": "code",
        "colab": {
          "base_uri": "https://localhost:8080/",
          "height": 1000
        },
        "outputId": "2e22562e-fb98-4386-9abb-03c9afa98266"
      },
      "source": [
        "f.head(20)"
      ],
      "execution_count": 4,
      "outputs": [
        {
          "output_type": "execute_result",
          "data": {
            "text/html": [
              "<div>\n",
              "<style scoped>\n",
              "    .dataframe tbody tr th:only-of-type {\n",
              "        vertical-align: middle;\n",
              "    }\n",
              "\n",
              "    .dataframe tbody tr th {\n",
              "        vertical-align: top;\n",
              "    }\n",
              "\n",
              "    .dataframe thead th {\n",
              "        text-align: right;\n",
              "    }\n",
              "</style>\n",
              "<table border=\"1\" class=\"dataframe\">\n",
              "  <thead>\n",
              "    <tr style=\"text-align: right;\">\n",
              "      <th></th>\n",
              "      <th>id</th>\n",
              "      <th>comment_text</th>\n",
              "      <th>toxic</th>\n",
              "      <th>severe_toxic</th>\n",
              "      <th>obscene</th>\n",
              "      <th>threat</th>\n",
              "      <th>insult</th>\n",
              "      <th>identity_hate</th>\n",
              "      <th>Количество символов</th>\n",
              "      <th>Количество заглавных букв</th>\n",
              "      <th>Количество знаков препинания</th>\n",
              "      <th>Количество цифр</th>\n",
              "      <th>Количество слов</th>\n",
              "    </tr>\n",
              "  </thead>\n",
              "  <tbody>\n",
              "    <tr>\n",
              "      <th>0</th>\n",
              "      <td>0000997932d777bf</td>\n",
              "      <td>Explanation\\nWhy the edits made under my usern...</td>\n",
              "      <td>0</td>\n",
              "      <td>0</td>\n",
              "      <td>0</td>\n",
              "      <td>0</td>\n",
              "      <td>0</td>\n",
              "      <td>0</td>\n",
              "      <td>264</td>\n",
              "      <td>17</td>\n",
              "      <td>10</td>\n",
              "      <td>9</td>\n",
              "      <td>43</td>\n",
              "    </tr>\n",
              "    <tr>\n",
              "      <th>1</th>\n",
              "      <td>000103f0d9cfb60f</td>\n",
              "      <td>D'aww! He matches this background colour I'm s...</td>\n",
              "      <td>0</td>\n",
              "      <td>0</td>\n",
              "      <td>0</td>\n",
              "      <td>0</td>\n",
              "      <td>0</td>\n",
              "      <td>0</td>\n",
              "      <td>112</td>\n",
              "      <td>8</td>\n",
              "      <td>12</td>\n",
              "      <td>10</td>\n",
              "      <td>17</td>\n",
              "    </tr>\n",
              "    <tr>\n",
              "      <th>2</th>\n",
              "      <td>000113f07ec002fd</td>\n",
              "      <td>Hey man, I'm really not trying to edit war. It...</td>\n",
              "      <td>0</td>\n",
              "      <td>0</td>\n",
              "      <td>0</td>\n",
              "      <td>0</td>\n",
              "      <td>0</td>\n",
              "      <td>0</td>\n",
              "      <td>233</td>\n",
              "      <td>4</td>\n",
              "      <td>6</td>\n",
              "      <td>0</td>\n",
              "      <td>42</td>\n",
              "    </tr>\n",
              "    <tr>\n",
              "      <th>3</th>\n",
              "      <td>0001b41b1c6bb37e</td>\n",
              "      <td>\"\\nMore\\nI can't make any real suggestions on ...</td>\n",
              "      <td>0</td>\n",
              "      <td>0</td>\n",
              "      <td>0</td>\n",
              "      <td>0</td>\n",
              "      <td>0</td>\n",
              "      <td>0</td>\n",
              "      <td>622</td>\n",
              "      <td>11</td>\n",
              "      <td>21</td>\n",
              "      <td>0</td>\n",
              "      <td>113</td>\n",
              "    </tr>\n",
              "    <tr>\n",
              "      <th>4</th>\n",
              "      <td>0001d958c54c6e35</td>\n",
              "      <td>You, sir, are my hero. Any chance you remember...</td>\n",
              "      <td>0</td>\n",
              "      <td>0</td>\n",
              "      <td>0</td>\n",
              "      <td>0</td>\n",
              "      <td>0</td>\n",
              "      <td>0</td>\n",
              "      <td>67</td>\n",
              "      <td>2</td>\n",
              "      <td>5</td>\n",
              "      <td>0</td>\n",
              "      <td>13</td>\n",
              "    </tr>\n",
              "    <tr>\n",
              "      <th>5</th>\n",
              "      <td>00025465d4725e87</td>\n",
              "      <td>\"\\n\\nCongratulations from me as well, use the ...</td>\n",
              "      <td>0</td>\n",
              "      <td>0</td>\n",
              "      <td>0</td>\n",
              "      <td>0</td>\n",
              "      <td>0</td>\n",
              "      <td>0</td>\n",
              "      <td>65</td>\n",
              "      <td>1</td>\n",
              "      <td>4</td>\n",
              "      <td>0</td>\n",
              "      <td>13</td>\n",
              "    </tr>\n",
              "    <tr>\n",
              "      <th>6</th>\n",
              "      <td>0002bcb3da6cb337</td>\n",
              "      <td>COCKSUCKER BEFORE YOU PISS AROUND ON MY WORK</td>\n",
              "      <td>1</td>\n",
              "      <td>1</td>\n",
              "      <td>1</td>\n",
              "      <td>0</td>\n",
              "      <td>1</td>\n",
              "      <td>0</td>\n",
              "      <td>44</td>\n",
              "      <td>37</td>\n",
              "      <td>0</td>\n",
              "      <td>0</td>\n",
              "      <td>8</td>\n",
              "    </tr>\n",
              "    <tr>\n",
              "      <th>7</th>\n",
              "      <td>00031b1e95af7921</td>\n",
              "      <td>Your vandalism to the Matt Shirvington article...</td>\n",
              "      <td>0</td>\n",
              "      <td>0</td>\n",
              "      <td>0</td>\n",
              "      <td>0</td>\n",
              "      <td>0</td>\n",
              "      <td>0</td>\n",
              "      <td>115</td>\n",
              "      <td>4</td>\n",
              "      <td>4</td>\n",
              "      <td>0</td>\n",
              "      <td>20</td>\n",
              "    </tr>\n",
              "    <tr>\n",
              "      <th>8</th>\n",
              "      <td>00037261f536c51d</td>\n",
              "      <td>Sorry if the word 'nonsense' was offensive to ...</td>\n",
              "      <td>0</td>\n",
              "      <td>0</td>\n",
              "      <td>0</td>\n",
              "      <td>0</td>\n",
              "      <td>0</td>\n",
              "      <td>0</td>\n",
              "      <td>472</td>\n",
              "      <td>7</td>\n",
              "      <td>19</td>\n",
              "      <td>11</td>\n",
              "      <td>83</td>\n",
              "    </tr>\n",
              "    <tr>\n",
              "      <th>9</th>\n",
              "      <td>00040093b2687caa</td>\n",
              "      <td>alignment on this subject and which are contra...</td>\n",
              "      <td>0</td>\n",
              "      <td>0</td>\n",
              "      <td>0</td>\n",
              "      <td>0</td>\n",
              "      <td>0</td>\n",
              "      <td>0</td>\n",
              "      <td>70</td>\n",
              "      <td>2</td>\n",
              "      <td>0</td>\n",
              "      <td>0</td>\n",
              "      <td>12</td>\n",
              "    </tr>\n",
              "    <tr>\n",
              "      <th>10</th>\n",
              "      <td>0005300084f90edc</td>\n",
              "      <td>\"\\nFair use rationale for Image:Wonju.jpg\\n\\nT...</td>\n",
              "      <td>0</td>\n",
              "      <td>0</td>\n",
              "      <td>0</td>\n",
              "      <td>0</td>\n",
              "      <td>0</td>\n",
              "      <td>0</td>\n",
              "      <td>2875</td>\n",
              "      <td>53</td>\n",
              "      <td>86</td>\n",
              "      <td>7</td>\n",
              "      <td>494</td>\n",
              "    </tr>\n",
              "    <tr>\n",
              "      <th>11</th>\n",
              "      <td>00054a5e18b50dd4</td>\n",
              "      <td>bbq \\n\\nbe a man and lets discuss it-maybe ove...</td>\n",
              "      <td>0</td>\n",
              "      <td>0</td>\n",
              "      <td>0</td>\n",
              "      <td>0</td>\n",
              "      <td>0</td>\n",
              "      <td>0</td>\n",
              "      <td>56</td>\n",
              "      <td>0</td>\n",
              "      <td>2</td>\n",
              "      <td>0</td>\n",
              "      <td>11</td>\n",
              "    </tr>\n",
              "    <tr>\n",
              "      <th>12</th>\n",
              "      <td>0005c987bdfc9d4b</td>\n",
              "      <td>Hey... what is it..\\n@ | talk .\\nWhat is it......</td>\n",
              "      <td>1</td>\n",
              "      <td>0</td>\n",
              "      <td>0</td>\n",
              "      <td>0</td>\n",
              "      <td>0</td>\n",
              "      <td>0</td>\n",
              "      <td>319</td>\n",
              "      <td>43</td>\n",
              "      <td>24</td>\n",
              "      <td>0</td>\n",
              "      <td>53</td>\n",
              "    </tr>\n",
              "    <tr>\n",
              "      <th>13</th>\n",
              "      <td>0006f16e4e9f292e</td>\n",
              "      <td>Before you start throwing accusations and warn...</td>\n",
              "      <td>0</td>\n",
              "      <td>0</td>\n",
              "      <td>0</td>\n",
              "      <td>0</td>\n",
              "      <td>0</td>\n",
              "      <td>0</td>\n",
              "      <td>819</td>\n",
              "      <td>6</td>\n",
              "      <td>19</td>\n",
              "      <td>0</td>\n",
              "      <td>142</td>\n",
              "    </tr>\n",
              "    <tr>\n",
              "      <th>14</th>\n",
              "      <td>00070ef96486d6f9</td>\n",
              "      <td>Oh, and the girl above started her arguments w...</td>\n",
              "      <td>0</td>\n",
              "      <td>0</td>\n",
              "      <td>0</td>\n",
              "      <td>0</td>\n",
              "      <td>0</td>\n",
              "      <td>0</td>\n",
              "      <td>219</td>\n",
              "      <td>8</td>\n",
              "      <td>8</td>\n",
              "      <td>0</td>\n",
              "      <td>39</td>\n",
              "    </tr>\n",
              "    <tr>\n",
              "      <th>15</th>\n",
              "      <td>00078f8ce7eb276d</td>\n",
              "      <td>\"\\n\\nJuelz Santanas Age\\n\\nIn 2002, Juelz Sant...</td>\n",
              "      <td>0</td>\n",
              "      <td>0</td>\n",
              "      <td>0</td>\n",
              "      <td>0</td>\n",
              "      <td>0</td>\n",
              "      <td>0</td>\n",
              "      <td>610</td>\n",
              "      <td>28</td>\n",
              "      <td>32</td>\n",
              "      <td>34</td>\n",
              "      <td>118</td>\n",
              "    </tr>\n",
              "    <tr>\n",
              "      <th>16</th>\n",
              "      <td>0007e25b2121310b</td>\n",
              "      <td>Bye! \\n\\nDon't look, come or think of comming ...</td>\n",
              "      <td>1</td>\n",
              "      <td>0</td>\n",
              "      <td>0</td>\n",
              "      <td>0</td>\n",
              "      <td>0</td>\n",
              "      <td>0</td>\n",
              "      <td>57</td>\n",
              "      <td>3</td>\n",
              "      <td>5</td>\n",
              "      <td>0</td>\n",
              "      <td>10</td>\n",
              "    </tr>\n",
              "    <tr>\n",
              "      <th>17</th>\n",
              "      <td>000897889268bc93</td>\n",
              "      <td>REDIRECT Talk:Voydan Pop Georgiev- Chernodrinski</td>\n",
              "      <td>0</td>\n",
              "      <td>0</td>\n",
              "      <td>0</td>\n",
              "      <td>0</td>\n",
              "      <td>0</td>\n",
              "      <td>0</td>\n",
              "      <td>48</td>\n",
              "      <td>13</td>\n",
              "      <td>2</td>\n",
              "      <td>0</td>\n",
              "      <td>5</td>\n",
              "    </tr>\n",
              "    <tr>\n",
              "      <th>18</th>\n",
              "      <td>0009801bd85e5806</td>\n",
              "      <td>The Mitsurugi point made no sense - why not ar...</td>\n",
              "      <td>0</td>\n",
              "      <td>0</td>\n",
              "      <td>0</td>\n",
              "      <td>0</td>\n",
              "      <td>0</td>\n",
              "      <td>0</td>\n",
              "      <td>118</td>\n",
              "      <td>5</td>\n",
              "      <td>3</td>\n",
              "      <td>0</td>\n",
              "      <td>21</td>\n",
              "    </tr>\n",
              "    <tr>\n",
              "      <th>19</th>\n",
              "      <td>0009eaea3325de8c</td>\n",
              "      <td>Don't mean to bother you \\n\\nI see that you're...</td>\n",
              "      <td>0</td>\n",
              "      <td>0</td>\n",
              "      <td>0</td>\n",
              "      <td>0</td>\n",
              "      <td>0</td>\n",
              "      <td>0</td>\n",
              "      <td>440</td>\n",
              "      <td>5</td>\n",
              "      <td>7</td>\n",
              "      <td>0</td>\n",
              "      <td>81</td>\n",
              "    </tr>\n",
              "  </tbody>\n",
              "</table>\n",
              "</div>"
            ],
            "text/plain": [
              "                  id  ... Количество слов\n",
              "0   0000997932d777bf  ...              43\n",
              "1   000103f0d9cfb60f  ...              17\n",
              "2   000113f07ec002fd  ...              42\n",
              "3   0001b41b1c6bb37e  ...             113\n",
              "4   0001d958c54c6e35  ...              13\n",
              "5   00025465d4725e87  ...              13\n",
              "6   0002bcb3da6cb337  ...               8\n",
              "7   00031b1e95af7921  ...              20\n",
              "8   00037261f536c51d  ...              83\n",
              "9   00040093b2687caa  ...              12\n",
              "10  0005300084f90edc  ...             494\n",
              "11  00054a5e18b50dd4  ...              11\n",
              "12  0005c987bdfc9d4b  ...              53\n",
              "13  0006f16e4e9f292e  ...             142\n",
              "14  00070ef96486d6f9  ...              39\n",
              "15  00078f8ce7eb276d  ...             118\n",
              "16  0007e25b2121310b  ...              10\n",
              "17  000897889268bc93  ...               5\n",
              "18  0009801bd85e5806  ...              21\n",
              "19  0009eaea3325de8c  ...              81\n",
              "\n",
              "[20 rows x 13 columns]"
            ]
          },
          "metadata": {
            "tags": []
          },
          "execution_count": 4
        }
      ]
    },
    {
      "cell_type": "code",
      "metadata": {
        "id": "irSHqKRY7qfc",
        "colab_type": "code",
        "colab": {}
      },
      "source": [
        "def analyze(column):\n",
        "  return(f.groupby(column)['Количество символов', 'Количество заглавных букв', 'Количество знаков препинания', 'Количество цифр', 'Количество слов'].agg('mean'))"
      ],
      "execution_count": 5,
      "outputs": []
    },
    {
      "cell_type": "code",
      "metadata": {
        "id": "vkBYbdyUD6QH",
        "colab_type": "code",
        "colab": {
          "base_uri": "https://localhost:8080/",
          "height": 196
        },
        "outputId": "0f8530d9-b3f5-48b4-fa21-0e77cc5ee200"
      },
      "source": [
        "analyze('toxic')"
      ],
      "execution_count": 6,
      "outputs": [
        {
          "output_type": "stream",
          "text": [
            "/usr/local/lib/python3.6/dist-packages/ipykernel_launcher.py:2: FutureWarning: Indexing with multiple keys (implicitly converted to a tuple of keys) will be deprecated, use a list instead.\n",
            "  \n"
          ],
          "name": "stderr"
        },
        {
          "output_type": "execute_result",
          "data": {
            "text/html": [
              "<div>\n",
              "<style scoped>\n",
              "    .dataframe tbody tr th:only-of-type {\n",
              "        vertical-align: middle;\n",
              "    }\n",
              "\n",
              "    .dataframe tbody tr th {\n",
              "        vertical-align: top;\n",
              "    }\n",
              "\n",
              "    .dataframe thead th {\n",
              "        text-align: right;\n",
              "    }\n",
              "</style>\n",
              "<table border=\"1\" class=\"dataframe\">\n",
              "  <thead>\n",
              "    <tr style=\"text-align: right;\">\n",
              "      <th></th>\n",
              "      <th>Количество символов</th>\n",
              "      <th>Количество заглавных букв</th>\n",
              "      <th>Количество знаков препинания</th>\n",
              "      <th>Количество цифр</th>\n",
              "      <th>Количество слов</th>\n",
              "    </tr>\n",
              "    <tr>\n",
              "      <th>toxic</th>\n",
              "      <th></th>\n",
              "      <th></th>\n",
              "      <th></th>\n",
              "      <th></th>\n",
              "      <th></th>\n",
              "    </tr>\n",
              "  </thead>\n",
              "  <tbody>\n",
              "    <tr>\n",
              "      <th>0</th>\n",
              "      <td>402.691178</td>\n",
              "      <td>14.484189</td>\n",
              "      <td>16.974704</td>\n",
              "      <td>3.248698</td>\n",
              "      <td>68.415161</td>\n",
              "    </tr>\n",
              "    <tr>\n",
              "      <th>1</th>\n",
              "      <td>280.604097</td>\n",
              "      <td>44.689675</td>\n",
              "      <td>14.257202</td>\n",
              "      <td>1.995885</td>\n",
              "      <td>48.573466</td>\n",
              "    </tr>\n",
              "  </tbody>\n",
              "</table>\n",
              "</div>"
            ],
            "text/plain": [
              "       Количество символов  ...  Количество слов\n",
              "toxic                       ...                 \n",
              "0               402.691178  ...        68.415161\n",
              "1               280.604097  ...        48.573466\n",
              "\n",
              "[2 rows x 5 columns]"
            ]
          },
          "metadata": {
            "tags": []
          },
          "execution_count": 6
        }
      ]
    },
    {
      "cell_type": "markdown",
      "metadata": {
        "id": "cJBHoNfsGReh",
        "colab_type": "text"
      },
      "source": [
        "Токсичные выражения короче по символам, словам, в них меньше знаков препинания и цифр, но больше заглавных букв (за счёт комментариев, написанных капсом, видимо)."
      ]
    },
    {
      "cell_type": "code",
      "metadata": {
        "id": "L_IRGvRjK6l3",
        "colab_type": "code",
        "colab": {
          "base_uri": "https://localhost:8080/",
          "height": 196
        },
        "outputId": "ab46dc29-ce00-4ff8-d76f-ef04314dd830"
      },
      "source": [
        "analyze('severe_toxic')"
      ],
      "execution_count": 7,
      "outputs": [
        {
          "output_type": "stream",
          "text": [
            "/usr/local/lib/python3.6/dist-packages/ipykernel_launcher.py:2: FutureWarning: Indexing with multiple keys (implicitly converted to a tuple of keys) will be deprecated, use a list instead.\n",
            "  \n"
          ],
          "name": "stderr"
        },
        {
          "output_type": "execute_result",
          "data": {
            "text/html": [
              "<div>\n",
              "<style scoped>\n",
              "    .dataframe tbody tr th:only-of-type {\n",
              "        vertical-align: middle;\n",
              "    }\n",
              "\n",
              "    .dataframe tbody tr th {\n",
              "        vertical-align: top;\n",
              "    }\n",
              "\n",
              "    .dataframe thead th {\n",
              "        text-align: right;\n",
              "    }\n",
              "</style>\n",
              "<table border=\"1\" class=\"dataframe\">\n",
              "  <thead>\n",
              "    <tr style=\"text-align: right;\">\n",
              "      <th></th>\n",
              "      <th>Количество символов</th>\n",
              "      <th>Количество заглавных букв</th>\n",
              "      <th>Количество знаков препинания</th>\n",
              "      <th>Количество цифр</th>\n",
              "      <th>Количество слов</th>\n",
              "    </tr>\n",
              "    <tr>\n",
              "      <th>severe_toxic</th>\n",
              "      <th></th>\n",
              "      <th></th>\n",
              "      <th></th>\n",
              "      <th></th>\n",
              "      <th></th>\n",
              "    </tr>\n",
              "  </thead>\n",
              "  <tbody>\n",
              "    <tr>\n",
              "      <th>0</th>\n",
              "      <td>389.999386</td>\n",
              "      <td>15.988131</td>\n",
              "      <td>16.591014</td>\n",
              "      <td>3.136258</td>\n",
              "      <td>66.358270</td>\n",
              "    </tr>\n",
              "    <tr>\n",
              "      <th>1</th>\n",
              "      <td>505.456677</td>\n",
              "      <td>173.841998</td>\n",
              "      <td>30.690112</td>\n",
              "      <td>2.293068</td>\n",
              "      <td>84.462793</td>\n",
              "    </tr>\n",
              "  </tbody>\n",
              "</table>\n",
              "</div>"
            ],
            "text/plain": [
              "              Количество символов  ...  Количество слов\n",
              "severe_toxic                       ...                 \n",
              "0                      389.999386  ...        66.358270\n",
              "1                      505.456677  ...        84.462793\n",
              "\n",
              "[2 rows x 5 columns]"
            ]
          },
          "metadata": {
            "tags": []
          },
          "execution_count": 7
        }
      ]
    },
    {
      "cell_type": "markdown",
      "metadata": {
        "id": "IsL19gSkK5eB",
        "colab_type": "text"
      },
      "source": [
        "У особо токсичных выражений статистика другая: в них больше символов, слов, знаков перпинания, а количество заглавных букв больше, чем в 10 раз. Только цифр меньше."
      ]
    },
    {
      "cell_type": "code",
      "metadata": {
        "id": "W0bUIhFFMGBu",
        "colab_type": "code",
        "colab": {
          "base_uri": "https://localhost:8080/",
          "height": 196
        },
        "outputId": "dcbca9c4-ae4c-4a1d-aa14-12a47c0dede4"
      },
      "source": [
        "analyze('obscene')"
      ],
      "execution_count": 8,
      "outputs": [
        {
          "output_type": "stream",
          "text": [
            "/usr/local/lib/python3.6/dist-packages/ipykernel_launcher.py:2: FutureWarning: Indexing with multiple keys (implicitly converted to a tuple of keys) will be deprecated, use a list instead.\n",
            "  \n"
          ],
          "name": "stderr"
        },
        {
          "output_type": "execute_result",
          "data": {
            "text/html": [
              "<div>\n",
              "<style scoped>\n",
              "    .dataframe tbody tr th:only-of-type {\n",
              "        vertical-align: middle;\n",
              "    }\n",
              "\n",
              "    .dataframe tbody tr th {\n",
              "        vertical-align: top;\n",
              "    }\n",
              "\n",
              "    .dataframe thead th {\n",
              "        text-align: right;\n",
              "    }\n",
              "</style>\n",
              "<table border=\"1\" class=\"dataframe\">\n",
              "  <thead>\n",
              "    <tr style=\"text-align: right;\">\n",
              "      <th></th>\n",
              "      <th>Количество символов</th>\n",
              "      <th>Количество заглавных букв</th>\n",
              "      <th>Количество знаков препинания</th>\n",
              "      <th>Количество цифр</th>\n",
              "      <th>Количество слов</th>\n",
              "    </tr>\n",
              "    <tr>\n",
              "      <th>obscene</th>\n",
              "      <th></th>\n",
              "      <th></th>\n",
              "      <th></th>\n",
              "      <th></th>\n",
              "      <th></th>\n",
              "    </tr>\n",
              "  </thead>\n",
              "  <tbody>\n",
              "    <tr>\n",
              "      <th>0</th>\n",
              "      <td>397.332876</td>\n",
              "      <td>15.299590</td>\n",
              "      <td>16.850087</td>\n",
              "      <td>3.193029</td>\n",
              "      <td>67.559707</td>\n",
              "    </tr>\n",
              "    <tr>\n",
              "      <th>1</th>\n",
              "      <td>280.951730</td>\n",
              "      <td>53.490033</td>\n",
              "      <td>14.358072</td>\n",
              "      <td>2.011367</td>\n",
              "      <td>48.362109</td>\n",
              "    </tr>\n",
              "  </tbody>\n",
              "</table>\n",
              "</div>"
            ],
            "text/plain": [
              "         Количество символов  ...  Количество слов\n",
              "obscene                       ...                 \n",
              "0                 397.332876  ...        67.559707\n",
              "1                 280.951730  ...        48.362109\n",
              "\n",
              "[2 rows x 5 columns]"
            ]
          },
          "metadata": {
            "tags": []
          },
          "execution_count": 8
        }
      ]
    },
    {
      "cell_type": "markdown",
      "metadata": {
        "id": "3expJaRCMtEV",
        "colab_type": "text"
      },
      "source": [
        "Статистика непристойностей посвоим показателям очень близка к статистике токсичных комментариев."
      ]
    },
    {
      "cell_type": "code",
      "metadata": {
        "id": "y2nyHn19RsAA",
        "colab_type": "code",
        "colab": {
          "base_uri": "https://localhost:8080/",
          "height": 34
        },
        "outputId": "785daf78-1f2c-46b6-f9ae-ca0f6af4af88"
      },
      "source": [
        "from sklearn.model_selection import train_test_split\n",
        "from sklearn.feature_extraction.text import CountVectorizer\n",
        "X = f['comment_text']\n",
        "y = f['toxic']\n",
        "X_train, X_test, y_train, y_test = train_test_split(X, y, test_size=0.25, random_state=42)\n",
        "vectorizer = CountVectorizer()\n",
        "X_train = vectorizer.fit_transform(X_train)\n",
        "X_train.shape"
      ],
      "execution_count": 7,
      "outputs": [
        {
          "output_type": "execute_result",
          "data": {
            "text/plain": [
              "(167661, 224367)"
            ]
          },
          "metadata": {
            "tags": []
          },
          "execution_count": 7
        }
      ]
    },
    {
      "cell_type": "code",
      "metadata": {
        "id": "-zpDqLtOTGmj",
        "colab_type": "code",
        "colab": {
          "base_uri": "https://localhost:8080/",
          "height": 34
        },
        "outputId": "901e8482-7e8b-4f81-af38-1cdc1739d4c4"
      },
      "source": [
        "X_test = vectorizer.transform(X_test)\n",
        "X_test.shape"
      ],
      "execution_count": 10,
      "outputs": [
        {
          "output_type": "execute_result",
          "data": {
            "text/plain": [
              "(55888, 224367)"
            ]
          },
          "metadata": {
            "tags": []
          },
          "execution_count": 10
        }
      ]
    },
    {
      "cell_type": "markdown",
      "metadata": {
        "id": "FOltGfRaT864",
        "colab_type": "text"
      },
      "source": [
        "Проверим сначала 5 параметров, а то Colab крашится:"
      ]
    },
    {
      "cell_type": "code",
      "metadata": {
        "id": "qMul8Ts_TtWG",
        "colab_type": "code",
        "colab": {}
      },
      "source": [
        "from sklearn.linear_model import SGDClassifier\n",
        "sgd = SGDClassifier()\n",
        "parameters_SGD = {'loss' : ['hinge', 'log', 'huber'],\n",
        "                  'penalty' : ['l2', 'elasticnet'],\n",
        "                  'alpha' : [0.0001, 0.0002],\n",
        "                  'fit_intercept' : [True, False],\n",
        "                  'n_iter_no_change' : [5, 10]\n",
        "                 }"
      ],
      "execution_count": 72,
      "outputs": []
    },
    {
      "cell_type": "code",
      "metadata": {
        "id": "4Dycl8XzZkgi",
        "colab_type": "code",
        "colab": {
          "base_uri": "https://localhost:8080/",
          "height": 51
        },
        "outputId": "309e2738-652e-44e7-c6cd-cca17888e255"
      },
      "source": [
        "from sklearn.model_selection import GridSearchCV\n",
        "from sklearn.model_selection import StratifiedKFold\n",
        "stratified_folds = StratifiedKFold(n_splits=5, shuffle=True, random_state=0)\n",
        "grid_search = GridSearchCV(sgd, parameters_SGD, cv=stratified_folds, scoring='f1_macro')\n",
        "grid_search.fit(X_train, y_train)\n",
        "print('Best score: {}'.format(grid_search.best_score_))\n",
        "print('Best parameters: {}'.format(grid_search.best_params_))"
      ],
      "execution_count": 73,
      "outputs": [
        {
          "output_type": "stream",
          "text": [
            "Best score: 0.8336018795157999\n",
            "Best parameters: {'alpha': 0.0001, 'fit_intercept': False, 'loss': 'hinge', 'n_iter_no_change': 5, 'penalty': 'elasticnet'}\n"
          ],
          "name": "stdout"
        }
      ]
    },
    {
      "cell_type": "markdown",
      "metadata": {
        "id": "1jdgF-wdUKDJ",
        "colab_type": "text"
      },
      "source": [
        "Теперь — ещё 5 + лучшие параметры с первого раза:"
      ]
    },
    {
      "cell_type": "code",
      "metadata": {
        "id": "82FatnFOv4bb",
        "colab_type": "code",
        "colab": {}
      },
      "source": [
        "parameters_SGD = {'loss' : ['hinge'],\n",
        "                  'penalty' : ['elasticnet'],\n",
        "                  'alpha' : [0.0001],\n",
        "                  'fit_intercept' : [False],\n",
        "                  'n_iter_no_change' : [5],\n",
        "                  'max_iter': [700, 1000],\n",
        "                  'early_stopping' : [True, False],\n",
        "                  'validation_fraction' : [0.1, 0.2],\n",
        "                  'power_t' : [0.5, 0.6],\n",
        "                  'shuffle' : [True, False]\n",
        "                 }"
      ],
      "execution_count": 74,
      "outputs": []
    },
    {
      "cell_type": "code",
      "metadata": {
        "id": "MVVinBxnv_En",
        "colab_type": "code",
        "colab": {
          "base_uri": "https://localhost:8080/",
          "height": 71
        },
        "outputId": "d91f64da-2021-400b-8fdd-6d58ed826b2c"
      },
      "source": [
        "grid_search = GridSearchCV(sgd, parameters_SGD, cv=stratified_folds, scoring='f1_macro')\n",
        "grid_search.fit(X_train, y_train)\n",
        "print('Best score: {}'.format(grid_search.best_score_))\n",
        "print('Best parameters: {}'.format(grid_search.best_params_))"
      ],
      "execution_count": 75,
      "outputs": [
        {
          "output_type": "stream",
          "text": [
            "Best score: 0.8330463502020953\n",
            "Best parameters: {'alpha': 0.0001, 'early_stopping': False, 'fit_intercept': False, 'loss': 'hinge', 'max_iter': 1000, 'n_iter_no_change': 5, 'penalty': 'elasticnet', 'power_t': 0.6, 'shuffle': True, 'validation_fraction': 0.2}\n"
          ],
          "name": "stdout"
        }
      ]
    },
    {
      "cell_type": "markdown",
      "metadata": {
        "id": "Z3s8mg9oUXmj",
        "colab_type": "text"
      },
      "source": [
        "Ну и, на всякий случай, убедимся, что на лучших параметрах из второго раз, параметр с певого раза тоже будут лучшими."
      ]
    },
    {
      "cell_type": "code",
      "metadata": {
        "id": "ksiYWp_AwAaN",
        "colab_type": "code",
        "colab": {}
      },
      "source": [
        "parameters_SGD = {'loss' : ['hinge', 'log', 'huber'],\n",
        "                  'penalty' : ['l2', 'elasticnet'],\n",
        "                  'alpha' : [0.0001, 0.0002],\n",
        "                  'fit_intercept' : [True, False],\n",
        "                  'n_iter_no_change' : [5, 10],\n",
        "                  'max_iter': [1000],\n",
        "                  'early_stopping' : [False],\n",
        "                  'validation_fraction' : [0.2],\n",
        "                  'power_t' : [0.6],\n",
        "                  'shuffle' : [True]\n",
        "                 }"
      ],
      "execution_count": 77,
      "outputs": []
    },
    {
      "cell_type": "code",
      "metadata": {
        "id": "MzSlHiRgTmUp",
        "colab_type": "code",
        "colab": {
          "base_uri": "https://localhost:8080/",
          "height": 71
        },
        "outputId": "eaf1a194-964c-44d5-f459-94c2101d68bf"
      },
      "source": [
        "grid_search = GridSearchCV(sgd, parameters_SGD, cv=stratified_folds, scoring='f1_macro')\n",
        "grid_search.fit(X_train, y_train)\n",
        "print('Best score: {}'.format(grid_search.best_score_))\n",
        "print('Best parameters: {}'.format(grid_search.best_params_))"
      ],
      "execution_count": 78,
      "outputs": [
        {
          "output_type": "stream",
          "text": [
            "Best score: 0.8347533958533304\n",
            "Best parameters: {'alpha': 0.0001, 'early_stopping': False, 'fit_intercept': False, 'loss': 'hinge', 'max_iter': 1000, 'n_iter_no_change': 10, 'penalty': 'elasticnet', 'power_t': 0.6, 'shuffle': True, 'validation_fraction': 0.2}\n"
          ],
          "name": "stdout"
        }
      ]
    },
    {
      "cell_type": "markdown",
      "metadata": {
        "id": "xdrVTiN9VjsP",
        "colab_type": "text"
      },
      "source": [
        "Итак, по итогам трёх заходов — лучшие параметры:\n",
        "1. Функция потерь — 'hinge'\n",
        "2. Регуляризатор — 'elasticnet' \n",
        "3. Альфа (константа, умножающая регуляризацию) — 0,0001\n",
        "4. Отцентрированы ли данные — нет\n",
        "5. Количество итераций без улучшений для ожидания перед ранней остановкой — 10 (но, в итоге, без ранней остановки даже лучше)\n",
        "6. Максимальное количество эпох — 1000\n",
        "7. Использовать ли раннюю остановку для прекращения обучения, когда оценка не улучшается — нет\n",
        "8. Доля данных обучения, отведенных в качестве валидации, установленной для ранней остановки — 0,2\n",
        "9. Экспонента для обратного масштабирования скорости обучения — 0,6\n",
        "10. Должны ли данные в трейне перемешиваться после каждой эпохи — да"
      ]
    },
    {
      "cell_type": "code",
      "metadata": {
        "id": "yt8xu4M-b8b6",
        "colab_type": "code",
        "colab": {}
      },
      "source": [
        "from sklearn.ensemble import VotingClassifier\n",
        "from sklearn.preprocessing import FunctionTransformer"
      ],
      "execution_count": 20,
      "outputs": []
    },
    {
      "cell_type": "code",
      "metadata": {
        "id": "yOZ6pLc_nZOV",
        "colab_type": "code",
        "colab": {
          "base_uri": "https://localhost:8080/",
          "height": 153
        },
        "outputId": "8ca15fe2-410a-4c96-a9c4-03eb00f8aa92"
      },
      "source": [
        "from sklearn.linear_model import LogisticRegression\n",
        "from sklearn.naive_bayes import MultinomialNB, GaussianNB\n",
        "from sklearn.tree import DecisionTreeClassifier\n",
        "from xgboost import XGBClassifier\n",
        "from sklearn.pipeline import Pipeline\n",
        "from sklearn.feature_extraction.text import TfidfTransformer\n",
        "\n",
        "X = f['comment_text']\n",
        "y = f['toxic']\n",
        "X_train, X_test, y_train, y_test = train_test_split(X, y, test_size=0.25, random_state=42)\n",
        "\n",
        "clf1 = LogisticRegression()\n",
        "clf2 = XGBClassifier()\n",
        "clf3 = GaussianNB()\n",
        "clf4 = DecisionTreeClassifier()\n",
        "clf5 = MultinomialNB()\n",
        "\n",
        "eclf = VotingClassifier(estimators=[\n",
        "        ('lor', clf1), ('xgbc', clf2), ('gnb', clf3), ('dtc', clf4), ('mnb', clf5)], voting='soft')\n",
        "\n",
        "voting = Pipeline([\n",
        "    ('vect', CountVectorizer(analyzer='word', max_features=1000)),\n",
        "    ('tfidf', TfidfTransformer(sublinear_tf=True)),\n",
        "    ('to_dense', FunctionTransformer(lambda x: x.todense(), accept_sparse=True)), \n",
        "    ('clf', eclf),\n",
        "    ])\n",
        "voting = voting.fit(X_train, y_train)"
      ],
      "execution_count": 28,
      "outputs": [
        {
          "output_type": "stream",
          "text": [
            "/usr/local/lib/python3.6/dist-packages/sklearn/linear_model/_logistic.py:940: ConvergenceWarning: lbfgs failed to converge (status=1):\n",
            "STOP: TOTAL NO. of ITERATIONS REACHED LIMIT.\n",
            "\n",
            "Increase the number of iterations (max_iter) or scale the data as shown in:\n",
            "    https://scikit-learn.org/stable/modules/preprocessing.html\n",
            "Please also refer to the documentation for alternative solver options:\n",
            "    https://scikit-learn.org/stable/modules/linear_model.html#logistic-regression\n",
            "  extra_warning_msg=_LOGISTIC_SOLVER_CONVERGENCE_MSG)\n"
          ],
          "name": "stderr"
        }
      ]
    },
    {
      "cell_type": "code",
      "metadata": {
        "id": "3rSAWIVFMSXM",
        "colab_type": "code",
        "colab": {
          "base_uri": "https://localhost:8080/",
          "height": 85
        },
        "outputId": "37f7d9b6-fa54-45b5-e6c8-a3655da70fb9"
      },
      "source": [
        "from sklearn.metrics import *\n",
        "predictions = voting.predict(X_test)\n",
        "print(\"Precision: {0:6.2f}\".format(precision_score(y_test, predictions, average='macro')))\n",
        "print(\"Recall: {0:6.2f}\".format(recall_score(y_test, predictions, average='macro')))\n",
        "print(\"F1-measure: {0:6.2f}\".format(f1_score(y_test, predictions, average='macro')))\n",
        "print(\"Accuracy: {0:6.2f}\".format(accuracy_score(y_test, predictions)))"
      ],
      "execution_count": 29,
      "outputs": [
        {
          "output_type": "stream",
          "text": [
            "Precision:   0.87\n",
            "Recall:   0.76\n",
            "F1-measure:   0.81\n",
            "Accuracy:   0.94\n"
          ],
          "name": "stdout"
        }
      ]
    },
    {
      "cell_type": "code",
      "metadata": {
        "id": "o4-IyqzA9Nhx",
        "colab_type": "code",
        "colab": {}
      },
      "source": [
        "from collections import Counter"
      ],
      "execution_count": 31,
      "outputs": []
    },
    {
      "cell_type": "code",
      "metadata": {
        "id": "e3AJ7wGE9C8U",
        "colab_type": "code",
        "colab": {}
      },
      "source": [
        "vocab = Counter()\n",
        "\n",
        "for sym in f.comment_text:\n",
        "    sym = sym.lower()\n",
        "    vocab.update(sym)"
      ],
      "execution_count": 33,
      "outputs": []
    },
    {
      "cell_type": "code",
      "metadata": {
        "id": "qoaa5uSB9ovO",
        "colab_type": "code",
        "colab": {
          "base_uri": "https://localhost:8080/",
          "height": 34
        },
        "outputId": "98c2884c-8a54-4fb8-b0cf-5a50a8aa6b7d"
      },
      "source": [
        "len(vocab)"
      ],
      "execution_count": 34,
      "outputs": [
        {
          "output_type": "execute_result",
          "data": {
            "text/plain": [
              "4385"
            ]
          },
          "metadata": {
            "tags": []
          },
          "execution_count": 34
        }
      ]
    },
    {
      "cell_type": "code",
      "metadata": {
        "id": "vPzVgpWY9uMx",
        "colab_type": "code",
        "colab": {}
      },
      "source": [
        "filtered_vocab = set()\n",
        "\n",
        "for sym in vocab:\n",
        "    if vocab[sym] > 5:\n",
        "        filtered_vocab.add(sym)"
      ],
      "execution_count": 35,
      "outputs": []
    },
    {
      "cell_type": "code",
      "metadata": {
        "id": "kNGAzjRW90VT",
        "colab_type": "code",
        "colab": {
          "base_uri": "https://localhost:8080/",
          "height": 34
        },
        "outputId": "3c99fced-694f-48fb-88cd-edeb5191275c"
      },
      "source": [
        "len(filtered_vocab)"
      ],
      "execution_count": 36,
      "outputs": [
        {
          "output_type": "execute_result",
          "data": {
            "text/plain": [
              "2038"
            ]
          },
          "metadata": {
            "tags": []
          },
          "execution_count": 36
        }
      ]
    },
    {
      "cell_type": "code",
      "metadata": {
        "id": "2Ova0x7l9-sO",
        "colab_type": "code",
        "colab": {}
      },
      "source": [
        "sym2id = {'UNK':1, 'PAD':0}\n",
        "\n",
        "for sym in filtered_vocab:\n",
        "    sym2id[sym] = len(sym2id)"
      ],
      "execution_count": 37,
      "outputs": []
    },
    {
      "cell_type": "code",
      "metadata": {
        "id": "vWRmirss-CRM",
        "colab_type": "code",
        "colab": {}
      },
      "source": [
        "id2sym = {i:sym for sym, i in sym2id.items()}"
      ],
      "execution_count": 38,
      "outputs": []
    },
    {
      "cell_type": "code",
      "metadata": {
        "id": "mdaAcofO-GP2",
        "colab_type": "code",
        "colab": {}
      },
      "source": [
        "X = []\n",
        "\n",
        "for text in f.comment_text:\n",
        "    text = text.lower()\n",
        "    ids = [sym2id.get(sym, 1) for sym in text]\n",
        "    X.append(ids)"
      ],
      "execution_count": 40,
      "outputs": []
    },
    {
      "cell_type": "code",
      "metadata": {
        "id": "ftzyUnBA-R5t",
        "colab_type": "code",
        "colab": {}
      },
      "source": [
        "MAX_LEN = max(len(x) for x in X)"
      ],
      "execution_count": 41,
      "outputs": []
    },
    {
      "cell_type": "code",
      "metadata": {
        "id": "mfPbKvjF-Vzf",
        "colab_type": "code",
        "colab": {}
      },
      "source": [
        "import numpy as np\n",
        "MEAN_LEN = np.median([len(x) for x in X])"
      ],
      "execution_count": 43,
      "outputs": []
    },
    {
      "cell_type": "code",
      "metadata": {
        "id": "ea1N2cC5-jMM",
        "colab_type": "code",
        "colab": {
          "base_uri": "https://localhost:8080/",
          "height": 34
        },
        "outputId": "305aa834-ad99-4fe6-d9f2-8489bc55edc8"
      },
      "source": [
        "MAX_LEN, MEAN_LEN"
      ],
      "execution_count": 44,
      "outputs": [
        {
          "output_type": "execute_result",
          "data": {
            "text/plain": [
              "(5165, 203.0)"
            ]
          },
          "metadata": {
            "tags": []
          },
          "execution_count": 44
        }
      ]
    },
    {
      "cell_type": "code",
      "metadata": {
        "id": "htFbBTiq-sW2",
        "colab_type": "code",
        "colab": {}
      },
      "source": [
        "MAX_LEN = 65"
      ],
      "execution_count": 45,
      "outputs": []
    },
    {
      "cell_type": "code",
      "metadata": {
        "id": "lZ4xhG_n-2vB",
        "colab_type": "code",
        "colab": {}
      },
      "source": [
        "import tensorflow as tf\n",
        "X = tf.keras.preprocessing.sequence.pad_sequences(X, maxlen=MAX_LEN)"
      ],
      "execution_count": 47,
      "outputs": []
    },
    {
      "cell_type": "code",
      "metadata": {
        "id": "L3T0n50g_Ifs",
        "colab_type": "code",
        "colab": {}
      },
      "source": [
        "y = f.toxic.values"
      ],
      "execution_count": 53,
      "outputs": []
    },
    {
      "cell_type": "code",
      "metadata": {
        "id": "90BHfRod_TgW",
        "colab_type": "code",
        "colab": {
          "base_uri": "https://localhost:8080/",
          "height": 34
        },
        "outputId": "90ca3c57-05fa-4359-ce11-ba730beb57fd"
      },
      "source": [
        "y"
      ],
      "execution_count": 54,
      "outputs": [
        {
          "output_type": "execute_result",
          "data": {
            "text/plain": [
              "array([0, 0, 0, ..., 0, 1, 0])"
            ]
          },
          "metadata": {
            "tags": []
          },
          "execution_count": 54
        }
      ]
    },
    {
      "cell_type": "code",
      "metadata": {
        "id": "jraXbv8V_xG9",
        "colab_type": "code",
        "colab": {}
      },
      "source": [
        "X_train, X_valid, y_train, y_valid = train_test_split(X, y, test_size=0.25, stratify=y)"
      ],
      "execution_count": 55,
      "outputs": []
    },
    {
      "cell_type": "code",
      "metadata": {
        "id": "icFOQIRA_6VR",
        "colab_type": "code",
        "colab": {}
      },
      "source": [
        "checkpoint = tf.keras.callbacks.ModelCheckpoint('model.weights', \n",
        "                                                monitor='val_f1',\n",
        "                                                verbose=1,\n",
        "                                                save_weights_only=True,\n",
        "                                                save_best_only=True,\n",
        "                                                mode='max',\n",
        "                                                save_freq='epoch'\n",
        "                                               )\n",
        "\n",
        "early_stop = tf.keras.callbacks.EarlyStopping(monitor='val_f1', \n",
        "                                              min_delta=0.01,\n",
        "                                              patience=20,\n",
        "                                              verbose=1, \n",
        "                                              mode='max',\n",
        "                                              )"
      ],
      "execution_count": 56,
      "outputs": []
    },
    {
      "cell_type": "code",
      "metadata": {
        "id": "qVQQl6V7AhJS",
        "colab_type": "code",
        "colab": {}
      },
      "source": [
        "from tensorflow.keras import backend as K\n",
        "def f1(y_true, y_pred):\n",
        "    def recall(y_true, y_pred):\n",
        "        true_positives = K.sum(K.round(K.clip(y_true * y_pred, 0, 1)))\n",
        "        possible_positives = K.sum(K.round(K.clip(y_true, 0, 1)))\n",
        "        recall = true_positives / (possible_positives + K.epsilon())\n",
        "        return recall\n",
        "\n",
        "    def precision(y_true, y_pred):\n",
        "        true_positives = K.sum(K.round(K.clip(y_true * y_pred, 0, 1)))\n",
        "        predicted_positives = K.sum(K.round(K.clip(y_pred, 0, 1)))\n",
        "        precision = true_positives / (predicted_positives + K.epsilon())\n",
        "        return precision\n",
        "    precision = precision(y_true, y_pred)\n",
        "    recall = recall(y_true, y_pred)\n",
        "    return 2*((precision*recall)/(precision+recall+K.epsilon()))"
      ],
      "execution_count": 58,
      "outputs": []
    },
    {
      "cell_type": "code",
      "metadata": {
        "id": "44JaPB3EAJhs",
        "colab_type": "code",
        "colab": {}
      },
      "source": [
        "inputs = tf.keras.layers.Input(shape=(MAX_LEN,))\n",
        "\n",
        "embeddings = tf.keras.layers.Embedding(input_dim=len(sym2id), output_dim=10)(inputs)\n",
        "conv1 = tf.keras.layers.Conv1D(kernel_size=16, filters=128, strides=1, kernel_regularizer='l2', activation='relu')(embeddings)\n",
        "conv2 = tf.keras.layers.Conv1D(kernel_size=32, filters=128, strides=2, kernel_regularizer='l2', activation='relu')(conv1)\n",
        "pool1 = tf.keras.layers.AveragePooling1D()(conv2)\n",
        "drop1 = tf.keras.layers.Dropout(0.1)(pool1)\n",
        "conv3 = tf.keras.layers.Conv1D(kernel_size=8, filters=32)(embeddings)\n",
        "conv4 = tf.keras.layers.Conv1D(kernel_size=16, filters=32, strides=1)(conv3)\n",
        "conv5 = tf.keras.layers.Conv1D(kernel_size=5, filters=32, strides=1, activation='relu')(conv4)\n",
        "pool2 = tf.keras.layers.AveragePooling1D()(conv5)\n",
        "conv6 = tf.keras.layers.Conv1D(kernel_size=4, filters=32, strides=2)(embeddings)\n",
        "conv7 = tf.keras.layers.Conv1D(kernel_size=16, filters=32, strides=2, activation='relu')(conv6)\n",
        "conv8 = tf.keras.layers.Conv1D(kernel_size=5, filters=32, strides=1, kernel_regularizer='l2')(conv7)\n",
        "drop2 = tf.keras.layers.Dropout(0.2)(conv8)\n",
        "conv9 = tf.keras.layers.Conv1D(kernel_size=16, filters=32, strides=1, kernel_regularizer='l2', activation='relu')(embeddings)\n",
        "conv10 = tf.keras.layers.Conv1D(kernel_size=16, filters=32, padding='same',strides=1)(conv9)\n",
        "conv11 = tf.keras.layers.Conv1D(kernel_size=8, filters=16, strides=3)(conv10)\n",
        "conv12 = tf.keras.layers.Conv1D(kernel_size=3, filters=8, strides=2)(conv11)\n",
        "drop3 = tf.keras.layers.Dropout(0.3)(conv12)\n",
        "\n",
        "flatten = tf.keras.layers.Flatten()(drop3)\n",
        "dense = tf.keras.layers.Dense(50, activation='relu')(flatten)\n",
        "outputs = tf.keras.layers.Dense(1, activation='sigmoid')(dense)\n",
        "\n",
        "model = tf.keras.Model(inputs=inputs, outputs=outputs)\n",
        "optimizer = tf.keras.optimizers.Adam(learning_rate=0.001)\n",
        "model.compile(optimizer=optimizer,\n",
        "              loss='binary_crossentropy',\n",
        "              metrics=[f1])"
      ],
      "execution_count": 59,
      "outputs": []
    },
    {
      "cell_type": "code",
      "metadata": {
        "id": "Nn6Aov3bApkE",
        "colab_type": "code",
        "colab": {
          "base_uri": "https://localhost:8080/",
          "height": 1000
        },
        "outputId": "ce5ad0a2-3993-4be2-f9f2-08e4d6a3819c"
      },
      "source": [
        "model.fit(X_train, y_train, \n",
        "          validation_data=(X_valid, y_valid),\n",
        "          batch_size=2000,\n",
        "          epochs=40,\n",
        "          callbacks=[checkpoint, early_stop])"
      ],
      "execution_count": 60,
      "outputs": [
        {
          "output_type": "stream",
          "text": [
            "Epoch 1/40\n",
            "84/84 [==============================] - ETA: 0s - loss: 0.4037 - f1: 7.3260e-04\n",
            "Epoch 00001: val_f1 improved from -inf to 0.00000, saving model to model.weights\n",
            "84/84 [==============================] - 46s 551ms/step - loss: 0.4037 - f1: 7.3260e-04 - val_loss: 0.3085 - val_f1: 0.0000e+00\n",
            "Epoch 2/40\n",
            "84/84 [==============================] - ETA: 0s - loss: 0.2938 - f1: 0.0000e+00\n",
            "Epoch 00002: val_f1 did not improve from 0.00000\n",
            "84/84 [==============================] - 46s 546ms/step - loss: 0.2938 - f1: 0.0000e+00 - val_loss: 0.2783 - val_f1: 0.0000e+00\n",
            "Epoch 3/40\n",
            "84/84 [==============================] - ETA: 0s - loss: 0.2780 - f1: 0.0471\n",
            "Epoch 00003: val_f1 improved from 0.00000 to 0.13844, saving model to model.weights\n",
            "84/84 [==============================] - 46s 546ms/step - loss: 0.2780 - f1: 0.0471 - val_loss: 0.2692 - val_f1: 0.1384\n",
            "Epoch 4/40\n",
            "84/84 [==============================] - ETA: 0s - loss: 0.2693 - f1: 0.1688\n",
            "Epoch 00004: val_f1 improved from 0.13844 to 0.20422, saving model to model.weights\n",
            "84/84 [==============================] - 47s 557ms/step - loss: 0.2693 - f1: 0.1688 - val_loss: 0.2597 - val_f1: 0.2042\n",
            "Epoch 5/40\n",
            "84/84 [==============================] - ETA: 0s - loss: 0.2613 - f1: 0.2475\n",
            "Epoch 00005: val_f1 improved from 0.20422 to 0.24747, saving model to model.weights\n",
            "84/84 [==============================] - 46s 553ms/step - loss: 0.2613 - f1: 0.2475 - val_loss: 0.2549 - val_f1: 0.2475\n",
            "Epoch 6/40\n",
            "84/84 [==============================] - ETA: 0s - loss: 0.2500 - f1: 0.3366\n",
            "Epoch 00006: val_f1 improved from 0.24747 to 0.45425, saving model to model.weights\n",
            "84/84 [==============================] - 46s 547ms/step - loss: 0.2500 - f1: 0.3366 - val_loss: 0.2531 - val_f1: 0.4543\n",
            "Epoch 7/40\n",
            "84/84 [==============================] - ETA: 0s - loss: 0.2407 - f1: 0.3939\n",
            "Epoch 00007: val_f1 did not improve from 0.45425\n",
            "84/84 [==============================] - 46s 546ms/step - loss: 0.2407 - f1: 0.3939 - val_loss: 0.2349 - val_f1: 0.3727\n",
            "Epoch 8/40\n",
            "84/84 [==============================] - ETA: 0s - loss: 0.2329 - f1: 0.4243\n",
            "Epoch 00008: val_f1 did not improve from 0.45425\n",
            "84/84 [==============================] - 46s 548ms/step - loss: 0.2329 - f1: 0.4243 - val_loss: 0.2263 - val_f1: 0.4325\n",
            "Epoch 9/40\n",
            "84/84 [==============================] - ETA: 0s - loss: 0.2266 - f1: 0.4538\n",
            "Epoch 00009: val_f1 improved from 0.45425 to 0.47309, saving model to model.weights\n",
            "84/84 [==============================] - 46s 548ms/step - loss: 0.2266 - f1: 0.4538 - val_loss: 0.2236 - val_f1: 0.4731\n",
            "Epoch 10/40\n",
            "84/84 [==============================] - ETA: 0s - loss: 0.2254 - f1: 0.4631\n",
            "Epoch 00010: val_f1 did not improve from 0.47309\n",
            "84/84 [==============================] - 47s 554ms/step - loss: 0.2254 - f1: 0.4631 - val_loss: 0.2262 - val_f1: 0.4199\n",
            "Epoch 11/40\n",
            "84/84 [==============================] - ETA: 0s - loss: 0.2193 - f1: 0.4831\n",
            "Epoch 00011: val_f1 improved from 0.47309 to 0.48991, saving model to model.weights\n",
            "84/84 [==============================] - 47s 562ms/step - loss: 0.2193 - f1: 0.4831 - val_loss: 0.2187 - val_f1: 0.4899\n",
            "Epoch 12/40\n",
            "84/84 [==============================] - ETA: 0s - loss: 0.2192 - f1: 0.4915\n",
            "Epoch 00012: val_f1 did not improve from 0.48991\n",
            "84/84 [==============================] - 46s 545ms/step - loss: 0.2192 - f1: 0.4915 - val_loss: 0.2211 - val_f1: 0.4473\n",
            "Epoch 13/40\n",
            "84/84 [==============================] - ETA: 0s - loss: 0.2161 - f1: 0.4986\n",
            "Epoch 00013: val_f1 improved from 0.48991 to 0.53567, saving model to model.weights\n",
            "84/84 [==============================] - 46s 547ms/step - loss: 0.2161 - f1: 0.4986 - val_loss: 0.2202 - val_f1: 0.5357\n",
            "Epoch 14/40\n",
            "84/84 [==============================] - ETA: 0s - loss: 0.2154 - f1: 0.5072\n",
            "Epoch 00014: val_f1 did not improve from 0.53567\n",
            "84/84 [==============================] - 46s 543ms/step - loss: 0.2154 - f1: 0.5072 - val_loss: 0.2183 - val_f1: 0.4743\n",
            "Epoch 15/40\n",
            "84/84 [==============================] - ETA: 0s - loss: 0.2138 - f1: 0.5108\n",
            "Epoch 00015: val_f1 did not improve from 0.53567\n",
            "84/84 [==============================] - 46s 547ms/step - loss: 0.2138 - f1: 0.5108 - val_loss: 0.2154 - val_f1: 0.5001\n",
            "Epoch 16/40\n",
            "84/84 [==============================] - ETA: 0s - loss: 0.2135 - f1: 0.5134\n",
            "Epoch 00016: val_f1 did not improve from 0.53567\n",
            "84/84 [==============================] - 46s 546ms/step - loss: 0.2135 - f1: 0.5134 - val_loss: 0.2206 - val_f1: 0.4640\n",
            "Epoch 17/40\n",
            "84/84 [==============================] - ETA: 0s - loss: 0.2103 - f1: 0.5251\n",
            "Epoch 00017: val_f1 did not improve from 0.53567\n",
            "84/84 [==============================] - 46s 544ms/step - loss: 0.2103 - f1: 0.5251 - val_loss: 0.2179 - val_f1: 0.4841\n",
            "Epoch 18/40\n",
            "84/84 [==============================] - ETA: 0s - loss: 0.2106 - f1: 0.5244\n",
            "Epoch 00018: val_f1 improved from 0.53567 to 0.54834, saving model to model.weights\n",
            "84/84 [==============================] - 47s 556ms/step - loss: 0.2106 - f1: 0.5244 - val_loss: 0.2153 - val_f1: 0.5483\n",
            "Epoch 19/40\n",
            "84/84 [==============================] - ETA: 0s - loss: 0.2079 - f1: 0.5335\n",
            "Epoch 00019: val_f1 did not improve from 0.54834\n",
            "84/84 [==============================] - 46s 546ms/step - loss: 0.2079 - f1: 0.5335 - val_loss: 0.2133 - val_f1: 0.5280\n",
            "Epoch 20/40\n",
            "84/84 [==============================] - ETA: 0s - loss: 0.2070 - f1: 0.5429\n",
            "Epoch 00020: val_f1 did not improve from 0.54834\n",
            "84/84 [==============================] - 46s 546ms/step - loss: 0.2070 - f1: 0.5429 - val_loss: 0.2121 - val_f1: 0.5175\n",
            "Epoch 21/40\n",
            "84/84 [==============================] - ETA: 0s - loss: 0.2076 - f1: 0.5360\n",
            "Epoch 00021: val_f1 improved from 0.54834 to 0.54935, saving model to model.weights\n",
            "84/84 [==============================] - 46s 549ms/step - loss: 0.2076 - f1: 0.5360 - val_loss: 0.2124 - val_f1: 0.5494\n",
            "Epoch 22/40\n",
            "84/84 [==============================] - ETA: 0s - loss: 0.2042 - f1: 0.5519\n",
            "Epoch 00022: val_f1 did not improve from 0.54935\n",
            "84/84 [==============================] - 47s 555ms/step - loss: 0.2042 - f1: 0.5519 - val_loss: 0.2112 - val_f1: 0.5121\n",
            "Epoch 23/40\n",
            "84/84 [==============================] - ETA: 0s - loss: 0.2032 - f1: 0.5525\n",
            "Epoch 00023: val_f1 did not improve from 0.54935\n",
            "84/84 [==============================] - 47s 560ms/step - loss: 0.2032 - f1: 0.5525 - val_loss: 0.2122 - val_f1: 0.5354\n",
            "Epoch 24/40\n",
            "84/84 [==============================] - ETA: 0s - loss: 0.2029 - f1: 0.5557\n",
            "Epoch 00024: val_f1 did not improve from 0.54935\n",
            "84/84 [==============================] - 47s 554ms/step - loss: 0.2029 - f1: 0.5557 - val_loss: 0.2215 - val_f1: 0.4822\n",
            "Epoch 25/40\n",
            "84/84 [==============================] - ETA: 0s - loss: 0.2015 - f1: 0.5612\n",
            "Epoch 00025: val_f1 did not improve from 0.54935\n",
            "84/84 [==============================] - 46s 549ms/step - loss: 0.2015 - f1: 0.5612 - val_loss: 0.2145 - val_f1: 0.5388\n",
            "Epoch 26/40\n",
            "84/84 [==============================] - ETA: 0s - loss: 0.2008 - f1: 0.5619\n",
            "Epoch 00026: val_f1 did not improve from 0.54935\n",
            "84/84 [==============================] - 46s 546ms/step - loss: 0.2008 - f1: 0.5619 - val_loss: 0.2131 - val_f1: 0.5482\n",
            "Epoch 27/40\n",
            "84/84 [==============================] - ETA: 0s - loss: 0.1996 - f1: 0.5662\n",
            "Epoch 00027: val_f1 improved from 0.54935 to 0.56457, saving model to model.weights\n",
            "84/84 [==============================] - 46s 545ms/step - loss: 0.1996 - f1: 0.5662 - val_loss: 0.2116 - val_f1: 0.5646\n",
            "Epoch 28/40\n",
            "84/84 [==============================] - ETA: 0s - loss: 0.2004 - f1: 0.5666\n",
            "Epoch 00028: val_f1 did not improve from 0.56457\n",
            "84/84 [==============================] - 46s 545ms/step - loss: 0.2004 - f1: 0.5666 - val_loss: 0.2117 - val_f1: 0.5367\n",
            "Epoch 29/40\n",
            "84/84 [==============================] - ETA: 0s - loss: 0.2003 - f1: 0.5689\n",
            "Epoch 00029: val_f1 improved from 0.56457 to 0.56928, saving model to model.weights\n",
            "84/84 [==============================] - 46s 545ms/step - loss: 0.2003 - f1: 0.5689 - val_loss: 0.2128 - val_f1: 0.5693\n",
            "Epoch 30/40\n",
            "84/84 [==============================] - ETA: 0s - loss: 0.1977 - f1: 0.5721\n",
            "Epoch 00030: val_f1 did not improve from 0.56928\n",
            "84/84 [==============================] - 47s 555ms/step - loss: 0.1977 - f1: 0.5721 - val_loss: 0.2115 - val_f1: 0.5314\n",
            "Epoch 31/40\n",
            "84/84 [==============================] - ETA: 0s - loss: 0.1972 - f1: 0.5742\n",
            "Epoch 00031: val_f1 did not improve from 0.56928\n",
            "84/84 [==============================] - 46s 552ms/step - loss: 0.1972 - f1: 0.5742 - val_loss: 0.2126 - val_f1: 0.5629\n",
            "Epoch 32/40\n",
            "84/84 [==============================] - ETA: 0s - loss: 0.1969 - f1: 0.5774\n",
            "Epoch 00032: val_f1 improved from 0.56928 to 0.57004, saving model to model.weights\n",
            "84/84 [==============================] - 46s 545ms/step - loss: 0.1969 - f1: 0.5774 - val_loss: 0.2146 - val_f1: 0.5700\n",
            "Epoch 33/40\n",
            "84/84 [==============================] - ETA: 0s - loss: 0.1963 - f1: 0.5802\n",
            "Epoch 00033: val_f1 did not improve from 0.57004\n",
            "84/84 [==============================] - 46s 550ms/step - loss: 0.1963 - f1: 0.5802 - val_loss: 0.2115 - val_f1: 0.5343\n",
            "Epoch 34/40\n",
            "84/84 [==============================] - ETA: 0s - loss: 0.1962 - f1: 0.5819\n",
            "Epoch 00034: val_f1 improved from 0.57004 to 0.57373, saving model to model.weights\n",
            "84/84 [==============================] - 46s 547ms/step - loss: 0.1962 - f1: 0.5819 - val_loss: 0.2158 - val_f1: 0.5737\n",
            "Epoch 35/40\n",
            "84/84 [==============================] - ETA: 0s - loss: 0.1955 - f1: 0.5851\n",
            "Epoch 00035: val_f1 did not improve from 0.57373\n",
            "84/84 [==============================] - 46s 549ms/step - loss: 0.1955 - f1: 0.5851 - val_loss: 0.2128 - val_f1: 0.5471\n",
            "Epoch 36/40\n",
            "84/84 [==============================] - ETA: 0s - loss: 0.1958 - f1: 0.5815\n",
            "Epoch 00036: val_f1 did not improve from 0.57373\n",
            "84/84 [==============================] - 46s 543ms/step - loss: 0.1958 - f1: 0.5815 - val_loss: 0.2193 - val_f1: 0.5303\n",
            "Epoch 37/40\n",
            "84/84 [==============================] - ETA: 0s - loss: 0.1937 - f1: 0.5911\n",
            "Epoch 00037: val_f1 did not improve from 0.57373\n",
            "84/84 [==============================] - 46s 547ms/step - loss: 0.1937 - f1: 0.5911 - val_loss: 0.2156 - val_f1: 0.5697\n",
            "Epoch 38/40\n",
            "84/84 [==============================] - ETA: 0s - loss: 0.1936 - f1: 0.5895\n",
            "Epoch 00038: val_f1 did not improve from 0.57373\n",
            "84/84 [==============================] - 46s 551ms/step - loss: 0.1936 - f1: 0.5895 - val_loss: 0.2143 - val_f1: 0.5731\n",
            "Epoch 39/40\n",
            "84/84 [==============================] - ETA: 0s - loss: 0.1921 - f1: 0.5953\n",
            "Epoch 00039: val_f1 did not improve from 0.57373\n",
            "84/84 [==============================] - 46s 543ms/step - loss: 0.1921 - f1: 0.5953 - val_loss: 0.2134 - val_f1: 0.5466\n",
            "Epoch 40/40\n",
            "84/84 [==============================] - ETA: 0s - loss: 0.1917 - f1: 0.5951\n",
            "Epoch 00040: val_f1 did not improve from 0.57373\n",
            "84/84 [==============================] - 46s 544ms/step - loss: 0.1917 - f1: 0.5951 - val_loss: 0.2132 - val_f1: 0.5659\n"
          ],
          "name": "stdout"
        },
        {
          "output_type": "execute_result",
          "data": {
            "text/plain": [
              "<tensorflow.python.keras.callbacks.History at 0x7f0aaa99b0f0>"
            ]
          },
          "metadata": {
            "tags": []
          },
          "execution_count": 60
        }
      ]
    },
    {
      "cell_type": "code",
      "metadata": {
        "id": "rKiZa5njICsR",
        "colab_type": "code",
        "colab": {
          "base_uri": "https://localhost:8080/",
          "height": 312
        },
        "outputId": "1144f3ac-bb5d-4209-a87a-963eab8d4250"
      },
      "source": [
        "import matplotlib.pyplot as plt\n",
        "%matplotlib inline\n",
        "\n",
        "print(model.history.history.keys())\n",
        "plt.plot(model.history.history['f1'])\n",
        "plt.plot(model.history.history['val_f1'])\n",
        "plt.title('model f1')\n",
        "plt.ylabel('f1')\n",
        "plt.xlabel('epoch')\n",
        "plt.legend(['train', 'val'], loc='upper left')\n",
        "plt.show()"
      ],
      "execution_count": 62,
      "outputs": [
        {
          "output_type": "stream",
          "text": [
            "dict_keys(['loss', 'f1', 'val_loss', 'val_f1'])\n"
          ],
          "name": "stdout"
        },
        {
          "output_type": "display_data",
          "data": {
            "image/png": "[encoded data removed]",
            "text/plain": [
              "<Figure size 432x288 with 1 Axes>"
            ]
          },
          "metadata": {
            "tags": [],
            "needs_background": "light"
          }
        }
      ]
    }
  ]
}