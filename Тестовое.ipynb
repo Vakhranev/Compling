{
  "nbformat": 4,
  "nbformat_minor": 0,
  "metadata": {
    "colab": {
      "name": "Тестовое.ipynb",
      "provenance": [],
      "authorship_tag": "ABX9TyMqLpTmk3zOO5xjy6U86zab",
      "include_colab_link": true
    },
    "kernelspec": {
      "name": "python3",
      "display_name": "Python 3"
    }
  },
  "cells": [
    {
      "cell_type": "markdown",
      "metadata": {
        "id": "view-in-github",
        "colab_type": "text"
      },
      "source": [
        "<a href=\"https://colab.research.google.com/github/Vakhranev/Compling/blob/master/%D0%A2%D0%B5%D1%81%D1%82%D0%BE%D0%B2%D0%BE%D0%B5.ipynb\" target=\"_parent\"><img src=\"https://colab.research.google.com/assets/colab-badge.svg\" alt=\"Open In Colab\"/></a>"
      ]
    },
    {
      "cell_type": "markdown",
      "metadata": {
        "id": "9zMCYJZo7AYx"
      },
      "source": [
        "Задача 1"
      ]
    },
    {
      "cell_type": "code",
      "metadata": {
        "id": "ST2V3RTk6-ct",
        "outputId": "754664f7-0c48-4e6d-caa7-1b38bcd0c6c7",
        "colab": {
          "base_uri": "https://localhost:8080/",
          "height": 85
        }
      },
      "source": [
        "FIO = input(\"Введите ФИО: \")\n",
        "FIO_elements = list(FIO.split())\n",
        "Surname = FIO_elements[0]\n",
        "Name = FIO_elements[1]\n",
        "Patronymic = FIO_elements[2]\n",
        "print(Surname)\n",
        "print(Name)\n",
        "print(Patronymic)"
      ],
      "execution_count": 9,
      "outputs": [
        {
          "output_type": "stream",
          "text": [
            "Введите ФИО: Вахранёв Антон Юрьевич\n",
            "Вахранёв\n",
            "Антон\n",
            "Юрьевич\n"
          ],
          "name": "stdout"
        }
      ]
    },
    {
      "cell_type": "code",
      "metadata": {
        "id": "hkr7224l_5G_",
        "outputId": "1f5c9aa5-bdd6-4bbb-ca41-63609d74397f",
        "colab": {
          "base_uri": "https://localhost:8080/",
          "height": 85
        }
      },
      "source": [
        "import re\n",
        "FIO = input(\"Введите ФИО: \")\n",
        "FIO_elements = list(re.findall(r'\\w+', FIO))\n",
        "Surname = FIO_elements[0]\n",
        "Name = FIO_elements[1]\n",
        "Patronymic = FIO_elements[2]\n",
        "print(Surname)\n",
        "print(Name)\n",
        "print(Patronymic)"
      ],
      "execution_count": 18,
      "outputs": [
        {
          "output_type": "stream",
          "text": [
            "Введите ФИО: Вахранёв Антон Юрьевич\n",
            "Вахранёв\n",
            "Антон\n",
            "Юрьевич\n"
          ],
          "name": "stdout"
        }
      ]
    }
  ]
}