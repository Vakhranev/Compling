{
  "nbformat": 4,
  "nbformat_minor": 0,
  "metadata": {
    "colab": {
      "name": "Именнованные сущности.ipynb",
      "provenance": [],
      "authorship_tag": "ABX9TyOjR25NEyul9+LjvXwR6Xke",
      "include_colab_link": true
    },
    "kernelspec": {
      "name": "python3",
      "display_name": "Python 3"
    }
  },
  "cells": [
    {
      "cell_type": "markdown",
      "metadata": {
        "id": "view-in-github",
        "colab_type": "text"
      },
      "source": [
        "<a href=\"https://colab.research.google.com/github/Vakhranev/Compling/blob/master/%D0%98%D0%BC%D0%B5%D0%BD%D0%BD%D0%BE%D0%B2%D0%B0%D0%BD%D0%BD%D1%8B%D0%B5_%D1%81%D1%83%D1%89%D0%BD%D0%BE%D1%81%D1%82%D0%B8.ipynb\" target=\"_parent\"><img src=\"https://colab.research.google.com/assets/colab-badge.svg\" alt=\"Open In Colab\"/></a>"
      ]
    },
    {
      "cell_type": "code",
      "metadata": {
        "id": "NKbk_ISy8Wo7",
        "colab_type": "code",
        "colab": {
          "base_uri": "https://localhost:8080/",
          "height": 289
        },
        "outputId": "db3aba45-94f8-421c-92fe-0a66c986bb41"
      },
      "source": [
        "!pip install yargy"
      ],
      "execution_count": 4,
      "outputs": [
        {
          "output_type": "stream",
          "text": [
            "Collecting yargy\n",
            "\u001b[?25l  Downloading https://files.pythonhosted.org/packages/37/64/d6abf637228bed6b0249b522f588d19dca9f09ab65db13bef41096f51889/yargy-0.12.0-py2.py3-none-any.whl (41kB)\n",
            "\u001b[K     |████████████████████████████████| 51kB 3.9MB/s \n",
            "\u001b[?25hCollecting pymorphy2==0.8\n",
            "\u001b[?25l  Downloading https://files.pythonhosted.org/packages/a3/33/fff9675c68b5f6c63ec8c6e6ff57827dda28a1fa5b2c2d727dffff92dd47/pymorphy2-0.8-py2.py3-none-any.whl (46kB)\n",
            "\u001b[K     |████████████████████████████████| 51kB 7.0MB/s \n",
            "\u001b[?25hCollecting backports.functools-lru-cache==1.3\n",
            "  Downloading https://files.pythonhosted.org/packages/d4/40/0b1db94fdfd71353ae67ec444ff28e0a7ecc25212d1cb94c291b6cd226f9/backports.functools_lru_cache-1.3-py2.py3-none-any.whl\n",
            "Collecting pymorphy2-dicts<3.0,>=2.4\n",
            "\u001b[?25l  Downloading https://files.pythonhosted.org/packages/02/51/2465fd4f72328ab50877b54777764d928da8cb15b74e2680fc1bd8cb3173/pymorphy2_dicts-2.4.393442.3710985-py2.py3-none-any.whl (7.1MB)\n",
            "\u001b[K     |████████████████████████████████| 7.1MB 11.7MB/s \n",
            "\u001b[?25hCollecting dawg-python>=0.7\n",
            "  Downloading https://files.pythonhosted.org/packages/6a/84/ff1ce2071d4c650ec85745766c0047ccc3b5036f1d03559fd46bb38b5eeb/DAWG_Python-0.7.2-py2.py3-none-any.whl\n",
            "Requirement already satisfied: docopt>=0.6 in /usr/local/lib/python3.6/dist-packages (from pymorphy2==0.8->yargy) (0.6.2)\n",
            "Installing collected packages: pymorphy2-dicts, dawg-python, pymorphy2, backports.functools-lru-cache, yargy\n",
            "Successfully installed backports.functools-lru-cache-1.3 dawg-python-0.7.2 pymorphy2-0.8 pymorphy2-dicts-2.4.393442.3710985 yargy-0.12.0\n"
          ],
          "name": "stdout"
        }
      ]
    },
    {
      "cell_type": "code",
      "metadata": {
        "id": "7U629JlZjaHU",
        "colab_type": "code",
        "colab": {}
      },
      "source": [
        "from yargy import Parser, rule, or_\n",
        "from yargy.predicates import in_, in_caseless\n",
        "from yargy.tokenizer import MorphTokenizer\n",
        "from yargy.pipelines import morph_pipeline, caseless_pipeline\n",
        "from yargy.interpretation import fact\n",
        "from IPython.display import display"
      ],
      "execution_count": 0,
      "outputs": []
    },
    {
      "cell_type": "code",
      "metadata": {
        "id": "JxbbtsBwj9H-",
        "colab_type": "code",
        "colab": {}
      },
      "source": [
        "Game = fact(\n",
        "    'Game',\n",
        "    ['name', 'model']\n",
        ")"
      ],
      "execution_count": 0,
      "outputs": []
    },
    {
      "cell_type": "code",
      "metadata": {
        "id": "kmgzdfxa9urE",
        "colab_type": "code",
        "colab": {}
      },
      "source": [
        "Fifa = rule(\n",
        "    morph_pipeline(['фифа', 'Фифв', \"FIFA\"]).interpretation(Game.name),\n",
        "    morph_pipeline(['15,16', '13']).interpretation(Game.model))"
      ],
      "execution_count": 0,
      "outputs": []
    },
    {
      "cell_type": "code",
      "metadata": {
        "id": "lewJD01N_nLh",
        "colab_type": "code",
        "colab": {}
      },
      "source": [
        "MortalCombat = rule(\n",
        "    morph_pipeline(['мартол комбат', 'Mortal combat', 'мортал комбат']).interpretation(Game.name),\n",
        "    morph_pipeline(['9', 'vs D.C.', 'Х', 'XL']).interpretation(Game.model)    \n",
        "    )"
      ],
      "execution_count": 0,
      "outputs": []
    },
    {
      "cell_type": "code",
      "metadata": {
        "id": "vUXsGyTIIUfU",
        "colab_type": "code",
        "colab": {}
      },
      "source": [
        "GTA = rule(\n",
        "    morph_pipeline(['гта', 'GTA', \"гтахи\"]).interpretation(Game.name),\n",
        "    morph_pipeline(['5', '4']).interpretation(Game.model))"
      ],
      "execution_count": 0,
      "outputs": []
    },
    {
      "cell_type": "code",
      "metadata": {
        "id": "2fqQFpQ2It1P",
        "colab_type": "code",
        "colab": {}
      },
      "source": [
        "AssassinsCreed = rule(\n",
        "    morph_pipeline(['асассин', 'Assassins Creed', 'Assassin\\'s creed']).interpretation(Game.name),\n",
        "    morph_pipeline(['4', '4 Черный флаг', 'IV', 'Rogue']).interpretation(Game.model)    \n",
        "    )"
      ],
      "execution_count": 0,
      "outputs": []
    },
    {
      "cell_type": "code",
      "metadata": {
        "id": "2jeMtX56DhEO",
        "colab_type": "code",
        "colab": {}
      },
      "source": [
        "GAME = or_(Fifa, MortalCombat, GTA, AssassinsCreed).interpretation(Game)\n",
        "\n",
        "parser = Parser(GAME)"
      ],
      "execution_count": 0,
      "outputs": []
    },
    {
      "cell_type": "code",
      "metadata": {
        "id": "i7C0od2ZFy5G",
        "colab_type": "code",
        "colab": {
          "base_uri": "https://localhost:8080/",
          "height": 204
        },
        "outputId": "bee41794-bfb1-4cb8-f1ae-52841f20565c"
      },
      "source": [
        "!wget https://github.com/mannefedov/compling_nlp_hse_course/blob/master/data/pristavki.csv"
      ],
      "execution_count": 13,
      "outputs": [
        {
          "output_type": "stream",
          "text": [
            "--2020-01-21 12:33:08--  https://github.com/mannefedov/compling_nlp_hse_course/blob/master/data/pristavki.csv\n",
            "Resolving github.com (github.com)... 140.82.113.3\n",
            "Connecting to github.com (github.com)|140.82.113.3|:443... connected.\n",
            "HTTP request sent, awaiting response... 200 OK\n",
            "Length: unspecified [text/html]\n",
            "Saving to: ‘pristavki.csv’\n",
            "\n",
            "pristavki.csv           [ <=>                ]  65.01K  --.-KB/s    in 0.1s    \n",
            "\n",
            "2020-01-21 12:33:08 (516 KB/s) - ‘pristavki.csv’ saved [66568]\n",
            "\n"
          ],
          "name": "stdout"
        }
      ]
    },
    {
      "cell_type": "code",
      "metadata": {
        "id": "PcI5NVXSElGB",
        "colab_type": "code",
        "colab": {}
      },
      "source": [
        "data = pd.read_csv('pristavki.csv', header=None, names=['text'])"
      ],
      "execution_count": 0,
      "outputs": []
    },
    {
      "cell_type": "code",
      "metadata": {
        "id": "NC43rb0xEg_D",
        "colab_type": "code",
        "colab": {}
      },
      "source": [
        "matches = []\n",
        "\n",
        "for sent in data.text[:100]:\n",
        "    for match in parser.findall(sent):\n",
        "        matches.append(match.fact)"
      ],
      "execution_count": 0,
      "outputs": []
    },
    {
      "cell_type": "code",
      "metadata": {
        "id": "JD0PXlmhGKdP",
        "colab_type": "code",
        "colab": {}
      },
      "source": [
        "for m in matches:\n",
        "    print(m.name, m.model)"
      ],
      "execution_count": 0,
      "outputs": []
    }
  ]
}