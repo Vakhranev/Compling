{
  "nbformat": 4,
  "nbformat_minor": 0,
  "metadata": {
    "colab": {
      "name": "HW02.ipynb",
      "provenance": [],
      "machine_shape": "hm",
      "include_colab_link": true
    },
    "kernelspec": {
      "name": "python3",
      "display_name": "Python 3"
    }
  },
  "cells": [
    {
      "cell_type": "markdown",
      "metadata": {
        "id": "view-in-github",
        "colab_type": "text"
      },
      "source": [
        "<a href=\"https://colab.research.google.com/github/Vakhranev/Compling/blob/master/HW02_final.ipynb\" target=\"_parent\"><img src=\"https://colab.research.google.com/assets/colab-badge.svg\" alt=\"Open In Colab\"/></a>"
      ]
    },
    {
      "cell_type": "markdown",
      "metadata": {
        "id": "ld90sBQdvXvs",
        "colab_type": "text"
      },
      "source": [
        "1. Реализуем триграмную модель"
      ]
    },
    {
      "cell_type": "code",
      "metadata": {
        "id": "2KOMuUxuvepx",
        "colab_type": "code",
        "outputId": "7b71916e-aa4e-4f51-8c63-d3e70e36fd6b",
        "colab": {
          "resources": {
            "http://localhost:8080/nbextensions/google.colab/files.js": {
              "data": "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",
              "ok": true,
              "headers": [
                [
                  "content-type",
                  "application/javascript"
                ]
              ],
              "status": 200,
              "status_text": ""
            }
          },
          "base_uri": "https://localhost:8080/",
          "height": 108
        }
      },
      "source": [
        "from google.colab import files\n",
        "uploaded = files.upload()"
      ],
      "execution_count": 0,
      "outputs": [
        {
          "output_type": "display_data",
          "data": {
            "text/html": [
              "\n",
              "     <input type=\"file\" id=\"files-44a01a1f-d8da-4d5d-9697-def2f630a018\" name=\"files[]\" multiple disabled />\n",
              "     <output id=\"result-44a01a1f-d8da-4d5d-9697-def2f630a018\">\n",
              "      Upload widget is only available when the cell has been executed in the\n",
              "      current browser session. Please rerun this cell to enable.\n",
              "      </output>\n",
              "      <script src=\"/nbextensions/google.colab/files.js\"></script> "
            ],
            "text/plain": [
              "<IPython.core.display.HTML object>"
            ]
          },
          "metadata": {
            "tags": []
          }
        },
        {
          "output_type": "stream",
          "text": [
            "Saving anna_karenina.txt to anna_karenina.txt\n",
            "Saving besy_dostoevsky.txt to besy_dostoevsky.txt\n"
          ],
          "name": "stdout"
        }
      ]
    },
    {
      "cell_type": "code",
      "metadata": {
        "id": "UG6kdgfTxWIz",
        "colab_type": "code",
        "colab": {}
      },
      "source": [
        "dostoevsky = open('besy_dostoevsky.txt').read()\n",
        "tolstoy = open('anna_karenina.txt').read()"
      ],
      "execution_count": 0,
      "outputs": []
    },
    {
      "cell_type": "code",
      "metadata": {
        "id": "XBuztP5Wxp1e",
        "colab_type": "code",
        "outputId": "05243047-e3e4-4f6d-903d-e2be2a51d63d",
        "colab": {
          "base_uri": "https://localhost:8080/",
          "height": 51
        }
      },
      "source": [
        "print(\"Длина Бесов Достоевского -\", len(dostoevsky))\n",
        "print(\"Длина Анны Карениной Толстого - \", len(tolstoy))"
      ],
      "execution_count": 247,
      "outputs": [
        {
          "output_type": "stream",
          "text": [
            "Длина Бесов Достоевского - 1293557\n",
            "Длина Анны Карениной Толстого -  1710408\n"
          ],
          "name": "stdout"
        }
      ]
    },
    {
      "cell_type": "code",
      "metadata": {
        "id": "KWMda4RUyOkC",
        "colab_type": "code",
        "colab": {}
      },
      "source": [
        "from string import punctuation\n",
        "import numpy as np\n",
        "\n",
        "def normalize(text):\n",
        "    normalized_text = [word.strip(punctuation) for word \\\n",
        "                                                            in text.lower().split()]\n",
        "    normalized_text = [word for word in normalized_text if word]\n",
        "    return normalized_text"
      ],
      "execution_count": 0,
      "outputs": []
    },
    {
      "cell_type": "code",
      "metadata": {
        "id": "ZVEb8Hyeympv",
        "colab_type": "code",
        "colab": {}
      },
      "source": [
        "norm_dostoevsky = normalize(dostoevsky)\n",
        "norm_tolstoy = normalize(tolstoy)"
      ],
      "execution_count": 0,
      "outputs": []
    },
    {
      "cell_type": "code",
      "metadata": {
        "id": "YTKQkw25yo2A",
        "colab_type": "code",
        "outputId": "96a7ce0f-f048-4706-cc8b-8e28cab28b47",
        "colab": {
          "base_uri": "https://localhost:8080/",
          "height": 51
        }
      },
      "source": [
        "print(\"Длина Бесов Достоевского в токенах -\", len(norm_dostoevsky))\n",
        "print(\"Длина Анны Карениной Толстого в токенах - \", len(norm_tolstoy))"
      ],
      "execution_count": 250,
      "outputs": [
        {
          "output_type": "stream",
          "text": [
            "Длина Бесов Достоевского в токенах - 208453\n",
            "Длина Анны Карениной Толстого в токенах -  281201\n"
          ],
          "name": "stdout"
        }
      ]
    },
    {
      "cell_type": "code",
      "metadata": {
        "id": "bDP-J_Ohyhat",
        "colab_type": "code",
        "colab": {}
      },
      "source": [
        "from collections import Counter\n",
        "from nltk.tokenize import sent_tokenize\n",
        "def ngrammer(tokens, n=2):\n",
        "    ngrams = []\n",
        "    for i in range(0,len(tokens)-n+1):\n",
        "        ngrams.append(' '.join(tokens[i:i+n]))\n",
        "    return ngrams"
      ],
      "execution_count": 0,
      "outputs": []
    },
    {
      "cell_type": "code",
      "metadata": {
        "id": "tpnau1BvZ3Ai",
        "colab_type": "code",
        "outputId": "41dc280e-f883-4bf0-80be-685bdb960b0a",
        "colab": {
          "base_uri": "https://localhost:8080/",
          "height": 51
        }
      },
      "source": [
        "import nltk\n",
        "nltk.download('punkt')\n",
        "sentences_dostoevsky = [['<start>'] + ['<start>'] + normalize(text) + ['<end>'] for text in sent_tokenize(dostoevsky)]\n",
        "sentences_tolstoy = [['<start>'] + ['<start>'] + normalize(text) + ['<end>'] for text in sent_tokenize(tolstoy)]"
      ],
      "execution_count": 252,
      "outputs": [
        {
          "output_type": "stream",
          "text": [
            "[nltk_data] Downloading package punkt to /root/nltk_data...\n",
            "[nltk_data]   Package punkt is already up-to-date!\n"
          ],
          "name": "stdout"
        }
      ]
    },
    {
      "cell_type": "code",
      "metadata": {
        "id": "2cumNinPzCor",
        "colab_type": "code",
        "colab": {}
      },
      "source": [
        "unigrams_dostoevsky = Counter()\n",
        "bigrams_dostoevsky = Counter()\n",
        "\n",
        "dut = sentences_dostoevsky[:1000]\n",
        "for sentence in dut:\n",
        "    unigrams_dostoevsky.update(sentence)\n",
        "    bigrams_dostoevsky.update(ngrammer(sentence))\n",
        "\n",
        "unigrams_tolstoy = Counter()\n",
        "bigrams_tolstoy = Counter()\n",
        "\n",
        "cut = sentences_tolstoy[:1000]\n",
        "for sentence in cut:\n",
        "    unigrams_tolstoy.update(sentence)\n",
        "    bigrams_tolstoy.update(ngrammer(sentence))"
      ],
      "execution_count": 0,
      "outputs": []
    },
    {
      "cell_type": "code",
      "metadata": {
        "id": "aTD1V96Y42s0",
        "colab_type": "code",
        "colab": {}
      },
      "source": [
        "from collections import Counter\n",
        "unigrams_dostoevsky = Counter()\n",
        "trigrams_dostoevsky = Counter()\n",
        "\n",
        "for sentence in dut:\n",
        "    unigrams_dostoevsky.update(sentence)\n",
        "    trigrams_dostoevsky.update(ngrammer(sentence, n=3))\n",
        "    \n",
        "unigrams_tolstoy = Counter()\n",
        "trigrams_tolstoy = Counter()\n",
        "\n",
        "for sentence in cut:\n",
        "    unigrams_tolstoy.update(sentence)\n",
        "    trigrams_tolstoy.update(ngrammer(sentence, n=3))"
      ],
      "execution_count": 0,
      "outputs": []
    },
    {
      "cell_type": "code",
      "metadata": {
        "id": "GGLqElBB5Ksy",
        "colab_type": "code",
        "outputId": "54668580-0240-45c2-9a30-a911f256ba2e",
        "colab": {
          "base_uri": "https://localhost:8080/",
          "height": 34
        }
      },
      "source": [
        "print(len(unigrams_dostoevsky))"
      ],
      "execution_count": 255,
      "outputs": [
        {
          "output_type": "stream",
          "text": [
            "6115\n"
          ],
          "name": "stdout"
        }
      ]
    },
    {
      "cell_type": "code",
      "metadata": {
        "id": "pQ52Hlvm5Yup",
        "colab_type": "code",
        "outputId": "b2fc3de8-ecd6-4d36-ef40-7c4f6141773b",
        "colab": {
          "base_uri": "https://localhost:8080/",
          "height": 54
        }
      },
      "source": [
        "print(trigrams_tolstoy.most_common(10))"
      ],
      "execution_count": 256,
      "outputs": [
        {
          "output_type": "stream",
          "text": [
            "[('<start> <start> –', 393), ('<start> <start> он', 41), ('<start> <start> и', 36), ('– сказал он', 32), ('<start> <start> степан', 30), ('<start> степан аркадьич', 30), ('<start> <start> но', 28), ('<start> – ну', 28), ('<start> <start> она', 27), ('<start> <start> левин', 26)]\n"
          ],
          "name": "stdout"
        }
      ]
    },
    {
      "cell_type": "code",
      "metadata": {
        "id": "slR71fF_-v6Y",
        "colab_type": "code",
        "colab": {}
      },
      "source": [
        "matrix_tolstoy = np.zeros((len(unigrams_tolstoy), \n",
        "                   len(unigrams_tolstoy)))\n",
        "\n",
        "id2word_unigrams = list(unigrams_tolstoy)\n",
        "word2id_unigrams = {word:i for i, word in enumerate(id2word_unigrams)}\n",
        "id2word_bigrams = list(bigrams_tolstoy)\n",
        "word2id_bigrams = {coll:d for d, coll in enumerate(id2word_bigrams)}\n",
        "\n",
        "for ngram in bigrams_tolstoy:\n",
        "    word1, word2 = ngram.split()\n",
        "    matrix_tolstoy[word2id_unigrams[word1]][word2id_unigrams[word2]] =  (bigrams_tolstoy[ngram]/\n",
        "                                                                     unigrams_tolstoy[word1])"
      ],
      "execution_count": 0,
      "outputs": []
    },
    {
      "cell_type": "code",
      "metadata": {
        "id": "pQWuEUHmRHYx",
        "colab_type": "code",
        "colab": {}
      },
      "source": [
        "matrix_tolstoy = np.zeros((len(bigrams_tolstoy), \n",
        "                   len(unigrams_tolstoy)))\n",
        "\n",
        "for ngram in trigrams_tolstoy:\n",
        "    word1, word2, word3 = ngram.split()\n",
        "    bigram = '{} {}'.format(word1, word2)\n",
        "    matrix_tolstoy[word2id_bigrams[bigram]][word2id_unigrams[word3]] =  (trigrams_tolstoy[ngram]/\n",
        "                                                                     bigrams_tolstoy[bigram])"
      ],
      "execution_count": 0,
      "outputs": []
    },
    {
      "cell_type": "code",
      "metadata": {
        "id": "bxLjrbR5RX9Y",
        "colab_type": "code",
        "colab": {}
      },
      "source": [
        "def generate(matrix, id2word, word2id, n=100, start=['<start>','<start>']):\n",
        "    text = []\n",
        "    current_bigram = start\n",
        "    current_idx = word2id[' '.join(current_bigram)]\n",
        "    \n",
        "    for i in range(n):  \n",
        "        chosen = np.random.choice(matrix.shape[1], p=matrix[current_idx])\n",
        "        \n",
        "        text.append(id2word[chosen])\n",
        "        \n",
        "        if id2word[chosen] == '<end>':\n",
        "            current_bigram = start\n",
        "            current_idx = word2id[' '.join(current_bigram)]\n",
        "        else:\n",
        "          current_bigram = [current_bigram[1], id2word[chosen]]\n",
        "          current_idx = word2id[' '.join(current_bigram)]\n",
        "\n",
        "\n",
        "    \n",
        "    return ' '.join(text)"
      ],
      "execution_count": 0,
      "outputs": []
    },
    {
      "cell_type": "code",
      "metadata": {
        "id": "cwsIVELlRd1G",
        "colab_type": "code",
        "outputId": "4e57eb21-1c3d-4438-ef37-6345540be874",
        "colab": {
          "base_uri": "https://localhost:8080/",
          "height": 170
        }
      },
      "source": [
        "print(generate(matrix_tolstoy, id2word_unigrams, word2id_bigrams).replace('<end>', '\\n'))"
      ],
      "execution_count": 260,
      "outputs": [
        {
          "output_type": "stream",
          "text": [
            "знакомый встретился и окликнул его но левин был его товарищем и другом первой молодости что чувство это не любовь \n",
            " – нет уж не может же это все стесняет – сказал сергей иваныч покачивая головой \n",
            " я огорчил ее \n",
            " авось бог даст \n",
            " но только дикость моя не в том что ты \n",
            " это от вас зависит – сказал он с значительным видом склонив голову набок уставился на барина \n",
            " во время своего студенчества он чуть было не строго глаза смотрели так же как и почему он спит не в силах удерживать улыбки говорил левин \n",
            " – эге \n",
            "\n"
          ],
          "name": "stdout"
        }
      ]
    },
    {
      "cell_type": "code",
      "metadata": {
        "id": "phbvlFVnDow6",
        "colab_type": "code",
        "colab": {}
      },
      "source": [
        "matrix_dostoevsky = np.zeros((len(unigrams_dostoevsky), \n",
        "                   len(unigrams_dostoevsky)))\n",
        "\n",
        "dosid2word_unigrams = list(unigrams_dostoevsky)\n",
        "dosword2id_unigrams = {word:i for i, word in enumerate(dosid2word_unigrams)}\n",
        "dosid2word_bigrams = list(bigrams_dostoevsky)\n",
        "dosword2id_bigrams = {coll:d for d, coll in enumerate(dosid2word_bigrams)}\n",
        "\n",
        "for mgram in bigrams_dostoevsky:\n",
        "    words1, words2 = mgram.split()\n",
        "    matrix_dostoevsky[dosword2id_unigrams[words1]][dosword2id_unigrams[words2]] =  (bigrams_dostoevsky[mgram]/\n",
        "                                                                     unigrams_dostoevsky[words1])"
      ],
      "execution_count": 0,
      "outputs": []
    },
    {
      "cell_type": "code",
      "metadata": {
        "id": "p-LFFJzREkMe",
        "colab_type": "code",
        "colab": {}
      },
      "source": [
        "matrix_dostoevsky = np.zeros((len(bigrams_dostoevsky), \n",
        "                   len(unigrams_dostoevsky)))\n",
        "\n",
        "for mgram in trigrams_dostoevsky:\n",
        "    words1, words2, words3 = mgram.split()\n",
        "    dosbigram = '{} {}'.format(words1, words2)\n",
        "    matrix_dostoevsky[dosword2id_bigrams[dosbigram]][dosword2id_unigrams[words3]] =  (trigrams_dostoevsky[mgram]/\n",
        "                                                                     bigrams_dostoevsky[dosbigram])"
      ],
      "execution_count": 0,
      "outputs": []
    },
    {
      "cell_type": "code",
      "metadata": {
        "id": "z_Wu8X78Fek8",
        "colab_type": "code",
        "colab": {
          "base_uri": "https://localhost:8080/",
          "height": 122
        },
        "outputId": "aedb3696-53cd-4bac-c6a2-b28f27e2458d"
      },
      "source": [
        "print(generate(matrix_dostoevsky, dosid2word_unigrams, dosword2id_bigrams).replace('<end>', '\\n'))"
      ],
      "execution_count": 263,
      "outputs": [
        {
          "output_type": "stream",
          "text": [
            "прибавляли сверх того по другим отчасти уже деликатным причинам \n",
            " шатову очень хотелось ему тогда за значительный карточный проигрыш внезапно обнаружившийся \n",
            " тогда еще не успели ничего понять да им и не думая о ней надо бы поговорить особенно что я развратитель молодежи и рассадник губернского атеизма… он тотчас же по возвращении вознаградить тем более что постоянно проигрывал \n",
            " что может быть и правы вы ведь читали сейчас письмо дроздовой что могло быть удовлетворено \n",
            " она конечно понимала что ей нельзя водиться с этими людьми но все-таки принимала их с жадностию прочла это первое письмо и подчеркнув карандашом восклицание «где\n"
          ],
          "name": "stdout"
        }
      ]
    },
    {
      "cell_type": "markdown",
      "metadata": {
        "id": "WYDTgSX9Htb3",
        "colab_type": "text"
      },
      "source": [
        "Тексты, сгенерированные при помощи триграммов, больше похожи на человеческую речь, чем тексты, созданные биграммами, так как выбор следующего слова происходит исходя из большего контекста."
      ]
    },
    {
      "cell_type": "markdown",
      "metadata": {
        "id": "bLvtpNMeHfbq",
        "colab_type": "text"
      },
      "source": [
        "2. Gensim.models.Phrases"
      ]
    },
    {
      "cell_type": "code",
      "metadata": {
        "colab_type": "code",
        "outputId": "d8e36ba7-245b-4bcf-d59e-2574b2852066",
        "id": "3KWk-zcgBEHW",
        "colab": {
          "base_uri": "https://localhost:8080/",
          "height": 156
        }
      },
      "source": [
        "import re, collections\n",
        "import nltk\n",
        "nltk.download('punkt')\n",
        "from nltk import sent_tokenize\n",
        "from nltk import word_tokenize\n",
        "from gensim.models.phrases import Phrases, Phraser\n",
        "from gensim.models.word2vec import Text8Corpus\n",
        "from gensim.test.utils import datapath\n",
        " \n",
        "text=\"\"\"В конце 1811 г., в эпоху нам достопамятную, жил в своем поместье Ненарадове добрый Гаврила Гаврилович Р**. Он славился во всей округе гостеприимством и радушием; соседи поминутно ездили к нему поесть, попить, поиграть по пяти копеек в бостон с его женою, а некоторые для того, чтоб поглядеть на дочку их, Марью Гавриловну, стройную, бледную и семнадцатилетнюю девицу. Она считалась богатой невестою, и многие прочили ее за себя или за сыновей. Марья Гавриловна была воспитана на французских романах, и следственно была влюблена. Предмет, избранный ею, был бедный армейский прапорщик, находившийся в отпуску в своей деревне.\"\"\"\n",
        "sentences = sent_tokenize(text)\n",
        "\n",
        "\n",
        "for sents in sentences:\n",
        "    print(sents)"
      ],
      "execution_count": 264,
      "outputs": [
        {
          "output_type": "stream",
          "text": [
            "[nltk_data] Downloading package punkt to /root/nltk_data...\n",
            "[nltk_data]   Package punkt is already up-to-date!\n",
            "В конце 1811 г., в эпоху нам достопамятную, жил в своем поместье Ненарадове добрый Гаврила Гаврилович Р**.\n",
            "Он славился во всей округе гостеприимством и радушием; соседи поминутно ездили к нему поесть, попить, поиграть по пяти копеек в бостон с его женою, а некоторые для того, чтоб поглядеть на дочку их, Марью Гавриловну, стройную, бледную и семнадцатилетнюю девицу.\n",
            "Она считалась богатой невестою, и многие прочили ее за себя или за сыновей.\n",
            "Марья Гавриловна была воспитана на французских романах, и следственно была влюблена.\n",
            "Предмет, избранный ею, был бедный армейский прапорщик, находившийся в отпуску в своей деревне.\n"
          ],
          "name": "stdout"
        }
      ]
    },
    {
      "cell_type": "code",
      "metadata": {
        "id": "JVjyfQPwNB1P",
        "colab_type": "code",
        "colab": {
          "base_uri": "https://localhost:8080/",
          "height": 54
        },
        "outputId": "e07e9199-826d-46e1-8c62-2f0fd2effff6"
      },
      "source": [
        "def split(word): \n",
        "    return [char for char in word] \n",
        "listik = []\n",
        "for i in range(len(sentences)):\n",
        "    listik.append(split(sentences[i]))\n",
        "print(listik)"
      ],
      "execution_count": 266,
      "outputs": [
        {
          "output_type": "stream",
          "text": [
            "[['В', ' ', 'к', 'о', 'н', 'ц', 'е', ' ', '1', '8', '1', '1', ' ', 'г', '.', ',', ' ', 'в', ' ', 'э', 'п', 'о', 'х', 'у', ' ', 'н', 'а', 'м', ' ', 'д', 'о', 'с', 'т', 'о', 'п', 'а', 'м', 'я', 'т', 'н', 'у', 'ю', ',', ' ', 'ж', 'и', 'л', ' ', 'в', ' ', 'с', 'в', 'о', 'е', 'м', ' ', 'п', 'о', 'м', 'е', 'с', 'т', 'ь', 'е', ' ', 'Н', 'е', 'н', 'а', 'р', 'а', 'д', 'о', 'в', 'е', ' ', 'д', 'о', 'б', 'р', 'ы', 'й', ' ', 'Г', 'а', 'в', 'р', 'и', 'л', 'а', ' ', 'Г', 'а', 'в', 'р', 'и', 'л', 'о', 'в', 'и', 'ч', ' ', 'Р', '*', '*', '.'], ['О', 'н', ' ', 'с', 'л', 'а', 'в', 'и', 'л', 'с', 'я', ' ', 'в', 'о', ' ', 'в', 'с', 'е', 'й', ' ', 'о', 'к', 'р', 'у', 'г', 'е', ' ', 'г', 'о', 'с', 'т', 'е', 'п', 'р', 'и', 'и', 'м', 'с', 'т', 'в', 'о', 'м', ' ', 'и', ' ', 'р', 'а', 'д', 'у', 'ш', 'и', 'е', 'м', ';', ' ', 'с', 'о', 'с', 'е', 'д', 'и', ' ', 'п', 'о', 'м', 'и', 'н', 'у', 'т', 'н', 'о', ' ', 'е', 'з', 'д', 'и', 'л', 'и', ' ', 'к', ' ', 'н', 'е', 'м', 'у', ' ', 'п', 'о', 'е', 'с', 'т', 'ь', ',', ' ', 'п', 'о', 'п', 'и', 'т', 'ь', ',', ' ', 'п', 'о', 'и', 'г', 'р', 'а', 'т', 'ь', ' ', 'п', 'о', ' ', 'п', 'я', 'т', 'и', ' ', 'к', 'о', 'п', 'е', 'е', 'к', ' ', 'в', ' ', 'б', 'о', 'с', 'т', 'о', 'н', ' ', 'с', ' ', 'е', 'г', 'о', ' ', 'ж', 'е', 'н', 'о', 'ю', ',', ' ', 'а', ' ', 'н', 'е', 'к', 'о', 'т', 'о', 'р', 'ы', 'е', ' ', 'д', 'л', 'я', ' ', 'т', 'о', 'г', 'о', ',', ' ', 'ч', 'т', 'о', 'б', ' ', 'п', 'о', 'г', 'л', 'я', 'д', 'е', 'т', 'ь', ' ', 'н', 'а', ' ', 'д', 'о', 'ч', 'к', 'у', ' ', 'и', 'х', ',', ' ', 'М', 'а', 'р', 'ь', 'ю', ' ', 'Г', 'а', 'в', 'р', 'и', 'л', 'о', 'в', 'н', 'у', ',', ' ', 'с', 'т', 'р', 'о', 'й', 'н', 'у', 'ю', ',', ' ', 'б', 'л', 'е', 'д', 'н', 'у', 'ю', ' ', 'и', ' ', 'с', 'е', 'м', 'н', 'а', 'д', 'ц', 'а', 'т', 'и', 'л', 'е', 'т', 'н', 'ю', 'ю', ' ', 'д', 'е', 'в', 'и', 'ц', 'у', '.'], ['О', 'н', 'а', ' ', 'с', 'ч', 'и', 'т', 'а', 'л', 'а', 'с', 'ь', ' ', 'б', 'о', 'г', 'а', 'т', 'о', 'й', ' ', 'н', 'е', 'в', 'е', 'с', 'т', 'о', 'ю', ',', ' ', 'и', ' ', 'м', 'н', 'о', 'г', 'и', 'е', ' ', 'п', 'р', 'о', 'ч', 'и', 'л', 'и', ' ', 'е', 'е', ' ', 'з', 'а', ' ', 'с', 'е', 'б', 'я', ' ', 'и', 'л', 'и', ' ', 'з', 'а', ' ', 'с', 'ы', 'н', 'о', 'в', 'е', 'й', '.'], ['М', 'а', 'р', 'ь', 'я', ' ', 'Г', 'а', 'в', 'р', 'и', 'л', 'о', 'в', 'н', 'а', ' ', 'б', 'ы', 'л', 'а', ' ', 'в', 'о', 'с', 'п', 'и', 'т', 'а', 'н', 'а', ' ', 'н', 'а', ' ', 'ф', 'р', 'а', 'н', 'ц', 'у', 'з', 'с', 'к', 'и', 'х', ' ', 'р', 'о', 'м', 'а', 'н', 'а', 'х', ',', ' ', 'и', ' ', 'с', 'л', 'е', 'д', 'с', 'т', 'в', 'е', 'н', 'н', 'о', ' ', 'б', 'ы', 'л', 'а', ' ', 'в', 'л', 'ю', 'б', 'л', 'е', 'н', 'а', '.'], ['П', 'р', 'е', 'д', 'м', 'е', 'т', ',', ' ', 'и', 'з', 'б', 'р', 'а', 'н', 'н', 'ы', 'й', ' ', 'е', 'ю', ',', ' ', 'б', 'ы', 'л', ' ', 'б', 'е', 'д', 'н', 'ы', 'й', ' ', 'а', 'р', 'м', 'е', 'й', 'с', 'к', 'и', 'й', ' ', 'п', 'р', 'а', 'п', 'о', 'р', 'щ', 'и', 'к', ',', ' ', 'н', 'а', 'х', 'о', 'д', 'и', 'в', 'ш', 'и', 'й', 'с', 'я', ' ', 'в', ' ', 'о', 'т', 'п', 'у', 'с', 'к', 'у', ' ', 'в', ' ', 'с', 'в', 'о', 'е', 'й', ' ', 'д', 'е', 'р', 'е', 'в', 'н', 'е', '.']]\n"
          ],
          "name": "stdout"
        }
      ]
    },
    {
      "cell_type": "code",
      "metadata": {
        "id": "BJE0cLKIK2cS",
        "colab_type": "code",
        "colab": {
          "base_uri": "https://localhost:8080/",
          "height": 88
        },
        "outputId": "ab6862e4-8ad7-48a4-b0bd-8df3b8868742"
      },
      "source": [
        "phrases = Phrases(listik, min_count=15, scoring='npmi', threshold=-1)\n",
        "p1 = Phrases (phrases[listik], min_count=10, scoring='npmi', threshold=-1)\n",
        "p2 = Phrases (p1[phrases[listik]], min_count=1, scoring='npmi', threshold=0)\n",
        "p3 = Phrases (p2[p1[phrases[listik]]], min_count=2, scoring='npmi', threshold=0.1)\n",
        "print(list(p3[p2[p1[listik]]]))"
      ],
      "execution_count": 267,
      "outputs": [
        {
          "output_type": "stream",
          "text": [
            "[['В_ ', 'к_о', 'н_ц', 'е_ ', '1_8', '1_1', ' _г', '._,_ ', 'в_ ', 'э_п', 'о_х', 'у_ ', 'н_а_м', ' _д', 'о_с_т_о', 'п_а', 'м_я', 'т_н', 'у_ю', ',_ _ж', 'и_л_ ', 'в_ _с', 'в_о', 'е_м', ' _п_о', 'м_е', 'с_т', 'ь_е', ' _Н', 'е_н_а', 'р_а', 'д_о', 'в_е', ' _д', 'о_б', 'р_ы', 'й_ ', 'Г_а_в_р', 'и_л_а_ ', 'Г_а_в_р', 'и_л_о', 'в_и', 'ч_ ', 'Р_*', '*_.'], ['О_н', ' _с_л', 'а_в', 'и_л_с', 'я_ ', 'в_о', ' _в', 'с_е', 'й_ ', 'о_к', 'р_у', 'г_е', ' _г', 'о_с', 'т', 'е_п', 'р', 'и', 'и_м', 'с_т', 'в_о', 'м_ ', 'и_ ', 'р_а', 'д_у', 'ш_и', 'е_м', ';_ _с', 'о_с', 'е_д', 'и_ _п', 'о_м', 'и', 'н_у', 'т_н', 'о', ' ', 'е_з', 'д_и_л', 'и_ ', 'к_ ', 'н_е', 'м_у', ' _п_о', 'е_с', 'т_ь', ',_ _п', 'о_п', 'и_т', 'ь_,_ ', 'п_о', 'и_г', 'р_а', 'т_ь', ' _п_о', ' _п_я', 'т', 'и_ ', 'к_о', 'п_е', 'е_к', ' _в', ' _б', 'о_с_т_о', 'н_ _с', ' ', 'е_г', 'о', ' _ж', 'е_н', 'о_ю', ',_ _а_ ', 'н_е', 'к_о', 'т_о', 'р_ы', 'е_ ', 'д_л', 'я_ ', 'т_о', 'г_о', ',_ _ч', 'т_о', 'б_ _п', 'о_г', 'л_я', 'д_е', 'т_ь', ' _н_а', ' _д', 'о_ч', 'к_у', ' _и', 'х_,_ ', 'М_а_р_ь', 'ю_ ', 'Г_а_в_р', 'и_л_о', 'в_н', 'у_,_ ', 'с_т', 'р_о', 'й_н', 'у_ю', ',_ _б', 'л_е', 'д_н', 'у_ю', ' _и', ' _с_е', 'м_н_а', 'д_ц', 'а_т', 'и_л_е', 'т_н', 'ю_ю', ' _д', 'е_в', 'и_ц', 'у_.'], ['О_н_а', ' _с_ч', 'и_т', 'а_л', 'а_с', 'ь_ ', 'б_о', 'г_а', 'т_о', 'й_ ', 'н_е', 'в_е', 'с_т', 'о_ю', ',_ _и', ' ', 'м_н', 'о_г', 'и', 'е_ _п', 'р_о', 'ч_и_л', 'и_ ', 'е', 'е_ ', 'з_а_ ', 'с_е', 'б_я', ' _и_л', 'и_ ', 'з_а_ ', 'с_ы', 'н_о', 'в_е', 'й_.'], ['М_а_р_ь', 'я_ ', 'Г_а_в_р', 'и_л_о', 'в_н_а', ' _б_ы_л', 'а_ _в', 'о_с', 'п_и', 'т_а', 'н_а_ ', 'н_а_ ', 'ф_р', 'а_н', 'ц_у', 'з_с', 'к_и', 'х_ ', 'р_о', 'м_а', 'н_а_х', ',_ _и', ' _с_л', 'е_д', 'с_т', 'в_е', 'н_н', 'о', ' _б_ы_л', 'а_ _в', 'л_ю', 'б_л', 'е_н_а', '.'], ['П_р', 'е_д', 'м_е', 'т_,_ ', 'и_з', 'б_р', 'а_н', 'н_ы_й_ ', 'е_ю', ',_ _б', 'ы_л', ' _б', 'е_д', 'н_ы_й_ ', 'а_р', 'м_е', 'й_с', 'к_и', 'й_ _п', 'р_а', 'п_о', 'р_щ', 'и_к', ',_ _н_а', 'х_о', 'д_и', 'в_ш', 'и_й', 'с_я', ' _в', ' ', 'о', 'т_п', 'у_с', 'к_у', ' _в', ' _с_в', 'о', 'е_й', ' _д', 'е', 'р_е', 'в_н', 'е_.']]\n"
          ],
          "name": "stdout"
        },
        {
          "output_type": "stream",
          "text": [
            "/usr/local/lib/python3.6/dist-packages/gensim/models/phrases.py:598: UserWarning: For a faster implementation, use the gensim.models.phrases.Phraser class\n",
            "  warnings.warn(\"For a faster implementation, use the gensim.models.phrases.Phraser class\")\n"
          ],
          "name": "stderr"
        }
      ]
    },
    {
      "cell_type": "code",
      "metadata": {
        "id": "sF8DIuevO7Iv",
        "colab_type": "code",
        "colab": {
          "base_uri": "https://localhost:8080/",
          "height": 88
        },
        "outputId": "e3d70f46-be51-435c-ea2e-25d978d8d158"
      },
      "source": [
        "letters = phrases[listik]\n",
        "for i in range(100):\n",
        "    phrases = Phrases(letters, min_count=1, scoring='npmi', threshold=-1)\n",
        "    letters = phrases[letters]\n",
        "print(list(phrases[letters]))"
      ],
      "execution_count": 268,
      "outputs": [
        {
          "output_type": "stream",
          "text": [
            "/usr/local/lib/python3.6/dist-packages/gensim/models/phrases.py:598: UserWarning: For a faster implementation, use the gensim.models.phrases.Phraser class\n",
            "  warnings.warn(\"For a faster implementation, use the gensim.models.phrases.Phraser class\")\n"
          ],
          "name": "stderr"
        },
        {
          "output_type": "stream",
          "text": [
            "[['В_ _к_о_н_ц_е_ _1_8_1_1_ _г_._,_ _в_ _э_п_о_х_у_ _н_а_м_ _д_о_с_т_о_п_а_м_я_т_н_у_ю_,_ _ж_и_л_ _в_ _с_в_о_е_м_ _п_о_м_е_с_т_ь_е_ _Н_е_н_а_р_а_д_о_в_е_ _д_о_б_р_ы_й_ _Г_а_в_р_и_л_а_ _Г_а_в_р_и_л_о_в_и_ч_ _Р_*_*_.'], ['О_н_ _с_л_а_в_и_л_с_я_ _в_о_ _в_с_е_й_ _о_к_р_у_г_е_ _г_о_с_т_е_п_р_и_и_м_с_т_в_о_м_ _и_ _р_а_д_у_ш_и_е_м_;_ _с_о_с_е_д_и_ _п_о_м_и_н_у_т_н_о_ _е_з_д_и_л_и_ _к_ _н_е_м_у_ _п_о_е_с_т_ь_,_ _п_о_п_и_т_ь_,_ _п_о_и_г_р_а_т_ь_ _п_о_ _п_я_т_и_ _к_о_п_е_е_к_ _в_ _б_о_с_т_о_н_ _с_ _е_г_о_ _ж_е_н_о_ю_,_ _а_ _н_е_к_о_т_о_р_ы_е_ _д_л_я_ _т_о_г_о_,_ _ч_т_о_б_ _п_о_г_л_я_д_е_т_ь_ _н_а_ _д_о_ч_к_у_ _и_х_,_ _М_а_р_ь_ю_ _Г_а_в_р_и_л_о_в_н_у_,_ _с_т_р_о_й_н_у_ю_,_ _б_л_е_д_н_у_ю_ _и_ _с_е_м_н_а_д_ц_а_т_и_л_е_т_н_ю_ю_ _д_е_в_и_ц_у_.'], ['О_н_а_ _с_ч_и_т_а_л_а_с_ь_ _б_о_г_а_т_о_й_ _н_е_в_е_с_т_о_ю_,_ _и_ _м_н_о_г_и_е_ _п_р_о_ч_и_л_и_ _е_е_ _з_а_ _с_е_б_я_ _и_л_и_ _з_а_ _с_ы_н_о_в_е_й_.'], ['М_а_р_ь_я_ _Г_а_в_р_и_л_о_в_н_а_ _б_ы_л_а_ _в_о_с_п_и_т_а_н_а_ _н_а_ _ф_р_а_н_ц_у_з_с_к_и_х_ _р_о_м_а_н_а_х_,_ _и_ _с_л_е_д_с_т_в_е_н_н_о_ _б_ы_л_а_ _в_л_ю_б_л_е_н_а_.'], ['П_р_е_д_м_е_т_,_ _и_з_б_р_а_н_н_ы_й_ _е_ю_,_ _б_ы_л_ _б_е_д_н_ы_й_ _а_р_м_е_й_с_к_и_й_ _п_р_а_п_о_р_щ_и_к_,_ _н_а_х_о_д_и_в_ш_и_й_с_я_ _в_ _о_т_п_у_с_к_у_ _в_ _с_в_о_е_й_ _д_е_р_е_в_н_е_.']]\n"
          ],
          "name": "stdout"
        }
      ]
    }
  ]
}