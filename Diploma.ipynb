{
  "nbformat": 4,
  "nbformat_minor": 0,
  "metadata": {
    "colab": {
      "name": "Untitled11.ipynb",
      "provenance": [],
      "machine_shape": "hm",
      "authorship_tag": "ABX9TyMEUercmnSCXMuF95soEjAL",
      "include_colab_link": true
    },
    "kernelspec": {
      "display_name": "Python 3",
      "name": "python3"
    },
    "language_info": {
      "name": "python"
    }
  },
  "cells": [
    {
      "cell_type": "markdown",
      "metadata": {
        "id": "view-in-github",
        "colab_type": "text"
      },
      "source": [
        "<a href=\"https://colab.research.google.com/github/Vakhranev/Compling/blob/master/Diploma.ipynb\" target=\"_parent\"><img src=\"https://colab.research.google.com/assets/colab-badge.svg\" alt=\"Open In Colab\"/></a>"
      ]
    },
    {
      "cell_type": "code",
      "metadata": {
        "id": "6Fjsy7qUP5Dr"
      },
      "source": [
        "import pandas as pd"
      ],
      "execution_count": null,
      "outputs": []
    },
    {
      "cell_type": "code",
      "metadata": {
        "id": "V15AjyLhP-XA"
      },
      "source": [
        "import numpy as np"
      ],
      "execution_count": null,
      "outputs": []
    },
    {
      "cell_type": "code",
      "metadata": {
        "id": "flVb34q-qV-F"
      },
      "source": [
        "from google.colab import drive"
      ],
      "execution_count": null,
      "outputs": []
    },
    {
      "cell_type": "code",
      "metadata": {
        "colab": {
          "base_uri": "https://localhost:8080/"
        },
        "id": "JjvEs1oPqcfy",
        "outputId": "5c742169-4e68-47b3-8794-53d7f77e0271"
      },
      "source": [
        "drive.mount('/content/drive')"
      ],
      "execution_count": null,
      "outputs": [
        {
          "output_type": "stream",
          "text": [
            "Mounted at /content/drive\n"
          ],
          "name": "stdout"
        }
      ]
    },
    {
      "cell_type": "code",
      "metadata": {
        "colab": {
          "base_uri": "https://localhost:8080/"
        },
        "id": "TFCc5ghEzQVA",
        "outputId": "3c9167b5-4497-45b6-fb3b-32d5a5214ab3"
      },
      "source": [
        "!pip install pynput"
      ],
      "execution_count": null,
      "outputs": [
        {
          "output_type": "stream",
          "text": [
            "Collecting pynput\n",
            "\u001b[?25l  Downloading https://files.pythonhosted.org/packages/fd/f7/cb6e7edb8bb46bb38ac8c4f8065e6e3abaaef3436ecd7fe139ca5ba93c3c/pynput-1.7.3-py2.py3-none-any.whl (99kB)\n",
            "\u001b[K     |████████████████████████████████| 102kB 4.4MB/s \n",
            "\u001b[?25hCollecting evdev>=1.3; \"linux\" in sys_platform\n",
            "  Downloading https://files.pythonhosted.org/packages/4d/ec/bb298d36ed67abd94293253e3e52bdf16732153b887bf08b8d6f269eacef/evdev-1.4.0.tar.gz\n",
            "Requirement already satisfied: six in /usr/local/lib/python3.7/dist-packages (from pynput) (1.15.0)\n",
            "Collecting python-xlib>=0.17; \"linux\" in sys_platform\n",
            "\u001b[?25l  Downloading https://files.pythonhosted.org/packages/54/c3/45ecfd3e6a541bb4b383fc320a32762703cfe28763c131d71f4183ace819/python_xlib-0.30-py2.py3-none-any.whl (178kB)\n",
            "\u001b[K     |████████████████████████████████| 184kB 8.0MB/s \n",
            "\u001b[?25hBuilding wheels for collected packages: evdev\n",
            "  Building wheel for evdev (setup.py) ... \u001b[?25l\u001b[?25hdone\n",
            "  Created wheel for evdev: filename=evdev-1.4.0-cp37-cp37m-linux_x86_64.whl size=97417 sha256=11d79117b0742dec3dc63a9a5dba9b2b36e5a0a0c2c3d1338a46ca9536b751d8\n",
            "  Stored in directory: /root/.cache/pip/wheels/66/35/1d/38b2de1421ede48ebf0107faea56163d07059110b116a794a3\n",
            "Successfully built evdev\n",
            "Installing collected packages: evdev, python-xlib, pynput\n",
            "Successfully installed evdev-1.4.0 pynput-1.7.3 python-xlib-0.30\n"
          ],
          "name": "stdout"
        }
      ]
    },
    {
      "cell_type": "code",
      "metadata": {
        "colab": {
          "base_uri": "https://localhost:8080/"
        },
        "id": "3I4pj-0Hm_JL",
        "outputId": "fdb599e4-3e51-476e-c333-ca00b8acf4f0"
      },
      "source": [
        "!pip install patool"
      ],
      "execution_count": null,
      "outputs": [
        {
          "output_type": "stream",
          "text": [
            "Collecting patool\n",
            "\u001b[?25l  Downloading https://files.pythonhosted.org/packages/43/94/52243ddff508780dd2d8110964320ab4851134a55ab102285b46e740f76a/patool-1.12-py2.py3-none-any.whl (77kB)\n",
            "\r\u001b[K     |████▎                           | 10kB 17.2MB/s eta 0:00:01\r\u001b[K     |████████▌                       | 20kB 22.6MB/s eta 0:00:01\r\u001b[K     |████████████▊                   | 30kB 11.3MB/s eta 0:00:01\r\u001b[K     |█████████████████               | 40kB 8.8MB/s eta 0:00:01\r\u001b[K     |█████████████████████▏          | 51kB 5.5MB/s eta 0:00:01\r\u001b[K     |█████████████████████████▍      | 61kB 6.5MB/s eta 0:00:01\r\u001b[K     |█████████████████████████████▋  | 71kB 6.6MB/s eta 0:00:01\r\u001b[K     |████████████████████████████████| 81kB 4.4MB/s \n",
            "\u001b[?25hInstalling collected packages: patool\n",
            "Successfully installed patool-1.12\n"
          ],
          "name": "stdout"
        }
      ]
    },
    {
      "cell_type": "code",
      "metadata": {
        "id": "-kQuffDZnHau"
      },
      "source": [
        "import patoolib"
      ],
      "execution_count": null,
      "outputs": []
    },
    {
      "cell_type": "code",
      "metadata": {
        "id": "NpYKO8Hfq8Py"
      },
      "source": [
        "archive = '/content/drive/My Drive/lenta-ru-news.rar'"
      ],
      "execution_count": null,
      "outputs": []
    },
    {
      "cell_type": "code",
      "metadata": {
        "colab": {
          "base_uri": "https://localhost:8080/",
          "height": 103
        },
        "id": "cKGXHhrmnLEn",
        "outputId": "9cd42732-7594-428a-b90e-c90526ff9e36"
      },
      "source": [
        "patoolib.extract_archive(archive)"
      ],
      "execution_count": null,
      "outputs": [
        {
          "output_type": "stream",
          "text": [
            "patool: Extracting /content/drive/My Drive/lenta-ru-news.rar ...\n",
            "patool: running /usr/bin/unrar x -- \"/content/drive/My Drive/lenta-ru-news.rar\"\n",
            "patool:     with cwd='./Unpack_ji7t4s0d'\n",
            "patool: ... /content/drive/My Drive/lenta-ru-news.rar extracted to `lenta-ru-news.csv'.\n"
          ],
          "name": "stdout"
        },
        {
          "output_type": "execute_result",
          "data": {
            "application/vnd.google.colaboratory.intrinsic+json": {
              "type": "string"
            },
            "text/plain": [
              "'lenta-ru-news.csv'"
            ]
          },
          "metadata": {
            "tags": []
          },
          "execution_count": 9
        }
      ]
    },
    {
      "cell_type": "code",
      "metadata": {
        "id": "IQfMeLOuSjVS"
      },
      "source": [
        "corpora = pd.read_csv('lenta-ru-news.csv',engine='python', error_bad_lines=False)"
      ],
      "execution_count": null,
      "outputs": []
    },
    {
      "cell_type": "code",
      "metadata": {
        "colab": {
          "base_uri": "https://localhost:8080/",
          "height": 289
        },
        "id": "P4L8CwAyTlAl",
        "outputId": "6011f3f6-4601-4f36-c8a6-f955547fc749"
      },
      "source": [
        "corpora.head()"
      ],
      "execution_count": null,
      "outputs": [
        {
          "output_type": "execute_result",
          "data": {
            "text/html": [
              "<div>\n",
              "<style scoped>\n",
              "    .dataframe tbody tr th:only-of-type {\n",
              "        vertical-align: middle;\n",
              "    }\n",
              "\n",
              "    .dataframe tbody tr th {\n",
              "        vertical-align: top;\n",
              "    }\n",
              "\n",
              "    .dataframe thead th {\n",
              "        text-align: right;\n",
              "    }\n",
              "</style>\n",
              "<table border=\"1\" class=\"dataframe\">\n",
              "  <thead>\n",
              "    <tr style=\"text-align: right;\">\n",
              "      <th></th>\n",
              "      <th>url</th>\n",
              "      <th>title</th>\n",
              "      <th>text</th>\n",
              "      <th>topic</th>\n",
              "      <th>tags</th>\n",
              "      <th>date</th>\n",
              "    </tr>\n",
              "  </thead>\n",
              "  <tbody>\n",
              "    <tr>\n",
              "      <th>0</th>\n",
              "      <td>https://lenta.ru/news/1914/09/16/hungarnn/</td>\n",
              "      <td>1914. Русские войска вступили в пределы Венгрии</td>\n",
              "      <td>Бои у Сопоцкина и Друскеник закончились отступ...</td>\n",
              "      <td>Библиотека</td>\n",
              "      <td>Первая мировая</td>\n",
              "      <td>1914/09/16</td>\n",
              "    </tr>\n",
              "    <tr>\n",
              "      <th>1</th>\n",
              "      <td>https://lenta.ru/news/1914/09/16/lermontov/</td>\n",
              "      <td>1914. Празднование столетия М.Ю. Лермонтова от...</td>\n",
              "      <td>Министерство народного просвещения, в виду про...</td>\n",
              "      <td>Библиотека</td>\n",
              "      <td>Первая мировая</td>\n",
              "      <td>1914/09/16</td>\n",
              "    </tr>\n",
              "    <tr>\n",
              "      <th>2</th>\n",
              "      <td>https://lenta.ru/news/1914/09/17/nesteroff/</td>\n",
              "      <td>1914. Das ist Nesteroff!</td>\n",
              "      <td>Штабс-капитан П. Н. Нестеров на днях, увидев в...</td>\n",
              "      <td>Библиотека</td>\n",
              "      <td>Первая мировая</td>\n",
              "      <td>1914/09/17</td>\n",
              "    </tr>\n",
              "    <tr>\n",
              "      <th>3</th>\n",
              "      <td>https://lenta.ru/news/1914/09/17/bulldogn/</td>\n",
              "      <td>1914. Бульдог-гонец под Льежем</td>\n",
              "      <td>Фотограф-корреспондент Daily Mirror рассказыва...</td>\n",
              "      <td>Библиотека</td>\n",
              "      <td>Первая мировая</td>\n",
              "      <td>1914/09/17</td>\n",
              "    </tr>\n",
              "    <tr>\n",
              "      <th>4</th>\n",
              "      <td>https://lenta.ru/news/1914/09/18/zver/</td>\n",
              "      <td>1914. Под Люблином пойман швабский зверь</td>\n",
              "      <td>Лица, приехавшие в Варшаву из Люблина, передаю...</td>\n",
              "      <td>Библиотека</td>\n",
              "      <td>Первая мировая</td>\n",
              "      <td>1914/09/18</td>\n",
              "    </tr>\n",
              "  </tbody>\n",
              "</table>\n",
              "</div>"
            ],
            "text/plain": [
              "                                           url  ...        date\n",
              "0   https://lenta.ru/news/1914/09/16/hungarnn/  ...  1914/09/16\n",
              "1  https://lenta.ru/news/1914/09/16/lermontov/  ...  1914/09/16\n",
              "2  https://lenta.ru/news/1914/09/17/nesteroff/  ...  1914/09/17\n",
              "3   https://lenta.ru/news/1914/09/17/bulldogn/  ...  1914/09/17\n",
              "4       https://lenta.ru/news/1914/09/18/zver/  ...  1914/09/18\n",
              "\n",
              "[5 rows x 6 columns]"
            ]
          },
          "metadata": {
            "tags": []
          },
          "execution_count": 11
        }
      ]
    },
    {
      "cell_type": "code",
      "metadata": {
        "colab": {
          "base_uri": "https://localhost:8080/"
        },
        "id": "1DQurJOoTv5H",
        "outputId": "ebe00c53-727c-49c8-e768-2d2be9ae7f8e"
      },
      "source": [
        "corpora['text'].head()"
      ],
      "execution_count": null,
      "outputs": [
        {
          "output_type": "execute_result",
          "data": {
            "text/plain": [
              "0    Бои у Сопоцкина и Друскеник закончились отступ...\n",
              "1    Министерство народного просвещения, в виду про...\n",
              "2    Штабс-капитан П. Н. Нестеров на днях, увидев в...\n",
              "3    Фотограф-корреспондент Daily Mirror рассказыва...\n",
              "4    Лица, приехавшие в Варшаву из Люблина, передаю...\n",
              "Name: text, dtype: object"
            ]
          },
          "metadata": {
            "tags": []
          },
          "execution_count": 12
        }
      ]
    },
    {
      "cell_type": "code",
      "metadata": {
        "id": "GVcrViOPWcU9"
      },
      "source": [
        "import re"
      ],
      "execution_count": 12,
      "outputs": []
    },
    {
      "cell_type": "code",
      "metadata": {
        "colab": {
          "base_uri": "https://localhost:8080/"
        },
        "id": "zhTN8bdSUk29",
        "outputId": "88985f61-064e-4789-d46e-4468e459d97e"
      },
      "source": [
        "new_corpora = []\n",
        "for text in corpora['text']:\n",
        "  split_regex = re.compile(r'[.|!|?|…]')\n",
        "  sentences = filter(lambda t: t, [t.strip() for t in split_regex.split(str(text))])\n",
        "  for sentence in sentences:\n",
        "    new_corpora.append(sentence)\n",
        "print(len(new_corpora))"
      ],
      "execution_count": null,
      "outputs": [
        {
          "output_type": "stream",
          "text": [
            "9233828\n"
          ],
          "name": "stdout"
        }
      ]
    },
    {
      "cell_type": "code",
      "metadata": {
        "colab": {
          "base_uri": "https://localhost:8080/"
        },
        "id": "qUQbnlBEYEuB",
        "outputId": "75260817-bbe9-424f-d51e-ee12b94be080"
      },
      "source": [
        "new_corpora[0:10]"
      ],
      "execution_count": null,
      "outputs": [
        {
          "output_type": "execute_result",
          "data": {
            "text/plain": [
              "['Бои у Сопоцкина и Друскеник закончились отступлением германцев',\n",
              " 'Неприятель, приблизившись с севера к Осовцу начал артиллерийскую борьбу с крепостью',\n",
              " 'В артиллерийском бою принимают участие тяжелые калибры',\n",
              " 'С раннего утра 14 сентября огонь достиг значительного напряжения',\n",
              " 'Попытка германской пехоты пробиться ближе к крепости отражена',\n",
              " 'В Галиции мы заняли Дембицу',\n",
              " 'Большая колонна, отступавшая по шоссе от Перемышля к Саноку, обстреливалась с высот нашей батареей и бежала, бросив парки, обоз и автомобили',\n",
              " 'Вылазки гарнизона Перемышля остаются безуспешными',\n",
              " 'При продолжающемся отступлении австрийцев обнаруживается полное перемешивание их частей, захватываются новые партии пленных, орудия и прочая материальная часть',\n",
              " 'На перевале Ужок мы разбили неприятельский отряд, взяли его артиллерию и много пленных и, продолжая преследовать, вступили в пределы Венгрии']"
            ]
          },
          "metadata": {
            "tags": []
          },
          "execution_count": 15
        }
      ]
    },
    {
      "cell_type": "code",
      "metadata": {
        "colab": {
          "base_uri": "https://localhost:8080/"
        },
        "id": "bZAeU9qnqZOC",
        "outputId": "a2b83682-e09b-4632-ef24-a0ccdcf491ec"
      },
      "source": [
        "!pip install ufal.udpipe"
      ],
      "execution_count": null,
      "outputs": [
        {
          "output_type": "stream",
          "text": [
            "Collecting ufal.udpipe\n",
            "\u001b[?25l  Downloading https://files.pythonhosted.org/packages/e5/72/2b8b9dc7c80017c790bb3308bbad34b57accfed2ac2f1f4ab252ff4e9cb2/ufal.udpipe-1.2.0.3.tar.gz (304kB)\n",
            "\r\u001b[K     |█                               | 10kB 14.3MB/s eta 0:00:01\r\u001b[K     |██▏                             | 20kB 14.5MB/s eta 0:00:01\r\u001b[K     |███▎                            | 30kB 10.2MB/s eta 0:00:01\r\u001b[K     |████▎                           | 40kB 8.8MB/s eta 0:00:01\r\u001b[K     |█████▍                          | 51kB 5.6MB/s eta 0:00:01\r\u001b[K     |██████▌                         | 61kB 6.1MB/s eta 0:00:01\r\u001b[K     |███████▌                        | 71kB 6.2MB/s eta 0:00:01\r\u001b[K     |████████▋                       | 81kB 6.9MB/s eta 0:00:01\r\u001b[K     |█████████▊                      | 92kB 6.3MB/s eta 0:00:01\r\u001b[K     |██████████▊                     | 102kB 5.4MB/s eta 0:00:01\r\u001b[K     |███████████▉                    | 112kB 5.4MB/s eta 0:00:01\r\u001b[K     |█████████████                   | 122kB 5.4MB/s eta 0:00:01\r\u001b[K     |██████████████                  | 133kB 5.4MB/s eta 0:00:01\r\u001b[K     |███████████████                 | 143kB 5.4MB/s eta 0:00:01\r\u001b[K     |████████████████▏               | 153kB 5.4MB/s eta 0:00:01\r\u001b[K     |█████████████████▎              | 163kB 5.4MB/s eta 0:00:01\r\u001b[K     |██████████████████▎             | 174kB 5.4MB/s eta 0:00:01\r\u001b[K     |███████████████████▍            | 184kB 5.4MB/s eta 0:00:01\r\u001b[K     |████████████████████▌           | 194kB 5.4MB/s eta 0:00:01\r\u001b[K     |█████████████████████▌          | 204kB 5.4MB/s eta 0:00:01\r\u001b[K     |██████████████████████▋         | 215kB 5.4MB/s eta 0:00:01\r\u001b[K     |███████████████████████▊        | 225kB 5.4MB/s eta 0:00:01\r\u001b[K     |████████████████████████▉       | 235kB 5.4MB/s eta 0:00:01\r\u001b[K     |█████████████████████████▉      | 245kB 5.4MB/s eta 0:00:01\r\u001b[K     |███████████████████████████     | 256kB 5.4MB/s eta 0:00:01\r\u001b[K     |████████████████████████████    | 266kB 5.4MB/s eta 0:00:01\r\u001b[K     |█████████████████████████████   | 276kB 5.4MB/s eta 0:00:01\r\u001b[K     |██████████████████████████████▏ | 286kB 5.4MB/s eta 0:00:01\r\u001b[K     |███████████████████████████████▎| 296kB 5.4MB/s eta 0:00:01\r\u001b[K     |████████████████████████████████| 307kB 5.4MB/s \n",
            "\u001b[?25hBuilding wheels for collected packages: ufal.udpipe\n",
            "  Building wheel for ufal.udpipe (setup.py) ... \u001b[?25l\u001b[?25hdone\n",
            "  Created wheel for ufal.udpipe: filename=ufal.udpipe-1.2.0.3-cp37-cp37m-linux_x86_64.whl size=5626592 sha256=a0300cbf720059dc2d357626a385da73c9b2abf4f4db86332c9707fa55989443\n",
            "  Stored in directory: /root/.cache/pip/wheels/0c/9d/db/6d3404c33da5b7adb6c6972853efb6a27649d3ba15f7e9bebb\n",
            "Successfully built ufal.udpipe\n",
            "Installing collected packages: ufal.udpipe\n",
            "Successfully installed ufal.udpipe-1.2.0.3\n"
          ],
          "name": "stdout"
        }
      ]
    },
    {
      "cell_type": "code",
      "metadata": {
        "colab": {
          "base_uri": "https://localhost:8080/"
        },
        "id": "x70ogR4Qxn7K",
        "outputId": "9e455223-55a5-4621-828e-f71c5565dce2"
      },
      "source": [
        "!pip install wget"
      ],
      "execution_count": null,
      "outputs": [
        {
          "output_type": "stream",
          "text": [
            "Collecting wget\n",
            "  Downloading https://files.pythonhosted.org/packages/47/6a/62e288da7bcda82b935ff0c6cfe542970f04e29c756b0e147251b2fb251f/wget-3.2.zip\n",
            "Building wheels for collected packages: wget\n",
            "  Building wheel for wget (setup.py) ... \u001b[?25l\u001b[?25hdone\n",
            "  Created wheel for wget: filename=wget-3.2-cp37-none-any.whl size=9681 sha256=42cd3ccdf51b5f9f75ad3f307f35f08ad26da582a06a120329a7bb35e46fcdf5\n",
            "  Stored in directory: /root/.cache/pip/wheels/40/15/30/7d8f7cea2902b4db79e3fea550d7d7b85ecb27ef992b618f3f\n",
            "Successfully built wget\n",
            "Installing collected packages: wget\n",
            "Successfully installed wget-3.2\n"
          ],
          "name": "stdout"
        }
      ]
    },
    {
      "cell_type": "code",
      "metadata": {
        "id": "Gh4aDZpixwka"
      },
      "source": [
        "import wget\n",
        "import sys\n",
        "udpipe_url = 'https://rusvectores.org/static/models/udpipe_syntagrus.model'\n",
        "modelfile = wget.download(udpipe_url)"
      ],
      "execution_count": null,
      "outputs": []
    },
    {
      "cell_type": "code",
      "metadata": {
        "id": "UYJ2SPs5yQ_N"
      },
      "source": [
        "def process(pipeline, text='Строка', keep_pos=True, keep_punct=False):\n",
        "   entities = {'PROPN'}\n",
        "   named = False  # переменная для запоминания того, что нам встретилось имя собственное\n",
        "   memory = []\n",
        "   mem_case = None\n",
        "   mem_number = None\n",
        "   tagged_propn = []\n",
        "# обрабатываем текст, получаем результат в формате conllu:\n",
        "   processed = pipeline.process(text)\n",
        "# пропускаем строки со служебной информацией:\n",
        "   content = [l for l in processed.split('\\n') if not l.startswith('#')]\n",
        "# извлекаем из обработанного текста леммы, тэги и морфологические характеристики\n",
        "   tagged = [w.split('\\t') for w in content if w]\n",
        "   for t in tagged:\n",
        "       if len(t) != 10: # если список короткий — строчка не содержит разбора, пропускаем\n",
        "           continue\n",
        "       (word_id,token,lemma,pos,xpos,feats,head,deprel,deps,misc) = t \n",
        "       if not lemma or not token: # если слово пустое — пропускаем\n",
        "           continue\n",
        "       if pos in entities: # здесь отдельно обрабатываем имена собственные — они требуют особого обращения\n",
        "           if '|' not in feats:\n",
        "               tagged_propn.append('%s_%s_%s_%s_%s_%s' % (word_id, token, lemma, pos, head, deprel))\n",
        "               continue\n",
        "           morph = {el.split('=')[0]: el.split('=')[1] for el in feats.split('|')}\n",
        "           if 'Case' not in morph or 'Number' not in morph:\n",
        "               tagged_propn.append('%s_%s_%s_%s_%s_%s' % (word_id, token, lemma, pos, head, deprel))\n",
        "               continue\n",
        "           if not named:\n",
        "               named = True\n",
        "               mem_case = morph['Case']\n",
        "               mem_number = morph['Number']\n",
        "           if morph['Case'] == mem_case and morph['Number'] == mem_number:\n",
        "               memory.append(lemma)\n",
        "               if 'SpacesAfter=\\\\n' in misc or 'SpacesAfter=\\s\\\\n' in misc:\n",
        "                   named = False\n",
        "                   past_lemma = '::'.join(memory)\n",
        "                   memory = []\n",
        "                   tagged_propn.append(past_lemma + '_PROPN ')\n",
        "           else:\n",
        "               named = False\n",
        "               past_lemma = '::'.join(memory)\n",
        "               memory = []\n",
        "               tagged_propn.append(past_lemma + '_PROPN ')\n",
        "               tagged_propn.append('%s_%s_%s_%s_%s_%s' % (word_id, token, lemma, pos, head, deprel))\n",
        "       else:\n",
        "           if not named:\n",
        "               tagged_propn.append('%s_%s_%s_%s_%s_%s' % (word_id, token, lemma, pos, head, deprel))\n",
        "           else:\n",
        "               named = False\n",
        "               past_lemma = '::'.join(memory)\n",
        "               memory = []\n",
        "               tagged_propn.append(past_lemma + '_PROPN ')\n",
        "               tagged_propn.append('%s_%s_%s_%s_%s_%s' % (word_id, token, lemma, pos, head, deprel))\n",
        "   if not keep_punct: # обрабатываем случай, когда пользователь попросил не сохранять пунктуацию (по умолчанию она сохраняется)\n",
        "       tagged_propn = [word for word in tagged_propn if word.split('_')[1] != 'PUNCT']\n",
        "   if not keep_pos:\n",
        "       tagged_propn = [word.split('_')[0] for word in tagged_propn]\n",
        "   return tagged_propn"
      ],
      "execution_count": null,
      "outputs": []
    },
    {
      "cell_type": "code",
      "metadata": {
        "id": "rhBa9_Xozs02",
        "colab": {
          "base_uri": "https://localhost:8080/",
          "height": 350
        },
        "outputId": "7b9797e5-d8c8-46fc-e438-b36dcd248cc8"
      },
      "source": [
        "from ufal.udpipe import Model, Pipeline\n",
        "import os\n",
        "import re\n",
        "def tag_ud(text='Текст нужно передать функции в виде строки!', modelfile='udpipe_syntagrus.model'):\n",
        "   udpipe_model_url = 'https://rusvectores.org/static/models/udpipe_syntagrus.model'\n",
        "   udpipe_filename = udpipe_model_url.split('/')[-1]\n",
        "   if not os.path.isfile(modelfile):\n",
        "       print('UDPipe model not found. Downloading...', file=sys.stderr)\n",
        "       wget.download(udpipe_model_url)\n",
        "   #print('\\nLoading the model...', file=sys.stderr)\n",
        "   model = Model.load(modelfile)\n",
        "   process_pipeline = Pipeline(model, 'tokenize', Pipeline.DEFAULT, Pipeline.DEFAULT, 'conllu')\n",
        "   #print('Processing input...', file=sys.stderr)\n",
        "   lines = text.split('\\n')\n",
        "   tagged = []\n",
        "   for line in lines:\n",
        "# line = unify_sym(line.strip()) # здесь могла бы быть ваша функция очистки текста\n",
        "       output = process(process_pipeline, text=line)\n",
        "       tagged_line = ' '.join(output)\n",
        "       tagged.append(tagged_line)\n",
        "   return '\\n'.join(tagged)\n",
        "text = new_corpora[38667:40000]\n",
        "for sentence in text:\n",
        "   processed_text = tag_ud(text=sentence, modelfile=modelfile)\n",
        "   #print(processed_text[:350])\n",
        "   with open('my_text.txt', 'a', encoding='utf-8') as out:\n",
        "       out.write(processed_text + '\\n')"
      ],
      "execution_count": null,
      "outputs": [
        {
          "output_type": "error",
          "ename": "KeyboardInterrupt",
          "evalue": "ignored",
          "traceback": [
            "\u001b[0;31m---------------------------------------------------------------------------\u001b[0m",
            "\u001b[0;31mKeyboardInterrupt\u001b[0m                         Traceback (most recent call last)",
            "\u001b[0;32m<ipython-input-22-25222b1f6744>\u001b[0m in \u001b[0;36m<module>\u001b[0;34m()\u001b[0m\n\u001b[1;32m     22\u001b[0m \u001b[0mtext\u001b[0m \u001b[0;34m=\u001b[0m \u001b[0mnew_corpora\u001b[0m\u001b[0;34m[\u001b[0m\u001b[0;36m33528\u001b[0m\u001b[0;34m:\u001b[0m\u001b[0;36m40000\u001b[0m\u001b[0;34m]\u001b[0m\u001b[0;34m\u001b[0m\u001b[0;34m\u001b[0m\u001b[0m\n\u001b[1;32m     23\u001b[0m \u001b[0;32mfor\u001b[0m \u001b[0msentence\u001b[0m \u001b[0;32min\u001b[0m \u001b[0mtext\u001b[0m\u001b[0;34m:\u001b[0m\u001b[0;34m\u001b[0m\u001b[0;34m\u001b[0m\u001b[0m\n\u001b[0;32m---> 24\u001b[0;31m    \u001b[0mprocessed_text\u001b[0m \u001b[0;34m=\u001b[0m \u001b[0mtag_ud\u001b[0m\u001b[0;34m(\u001b[0m\u001b[0mtext\u001b[0m\u001b[0;34m=\u001b[0m\u001b[0msentence\u001b[0m\u001b[0;34m,\u001b[0m \u001b[0mmodelfile\u001b[0m\u001b[0;34m=\u001b[0m\u001b[0mmodelfile\u001b[0m\u001b[0;34m)\u001b[0m\u001b[0;34m\u001b[0m\u001b[0;34m\u001b[0m\u001b[0m\n\u001b[0m\u001b[1;32m     25\u001b[0m    \u001b[0;31m#print(processed_text[:350])\u001b[0m\u001b[0;34m\u001b[0m\u001b[0;34m\u001b[0m\u001b[0;34m\u001b[0m\u001b[0m\n\u001b[1;32m     26\u001b[0m    \u001b[0;32mwith\u001b[0m \u001b[0mopen\u001b[0m\u001b[0;34m(\u001b[0m\u001b[0;34m'my_text.txt'\u001b[0m\u001b[0;34m,\u001b[0m \u001b[0;34m'a'\u001b[0m\u001b[0;34m,\u001b[0m \u001b[0mencoding\u001b[0m\u001b[0;34m=\u001b[0m\u001b[0;34m'utf-8'\u001b[0m\u001b[0;34m)\u001b[0m \u001b[0;32mas\u001b[0m \u001b[0mout\u001b[0m\u001b[0;34m:\u001b[0m\u001b[0;34m\u001b[0m\u001b[0;34m\u001b[0m\u001b[0m\n",
            "\u001b[0;32m<ipython-input-22-25222b1f6744>\u001b[0m in \u001b[0;36mtag_ud\u001b[0;34m(text, modelfile)\u001b[0m\n\u001b[1;32m      9\u001b[0m        \u001b[0mwget\u001b[0m\u001b[0;34m.\u001b[0m\u001b[0mdownload\u001b[0m\u001b[0;34m(\u001b[0m\u001b[0mudpipe_model_url\u001b[0m\u001b[0;34m)\u001b[0m\u001b[0;34m\u001b[0m\u001b[0;34m\u001b[0m\u001b[0m\n\u001b[1;32m     10\u001b[0m    \u001b[0;31m#print('\\nLoading the model...', file=sys.stderr)\u001b[0m\u001b[0;34m\u001b[0m\u001b[0;34m\u001b[0m\u001b[0;34m\u001b[0m\u001b[0m\n\u001b[0;32m---> 11\u001b[0;31m    \u001b[0mmodel\u001b[0m \u001b[0;34m=\u001b[0m \u001b[0mModel\u001b[0m\u001b[0;34m.\u001b[0m\u001b[0mload\u001b[0m\u001b[0;34m(\u001b[0m\u001b[0mmodelfile\u001b[0m\u001b[0;34m)\u001b[0m\u001b[0;34m\u001b[0m\u001b[0;34m\u001b[0m\u001b[0m\n\u001b[0m\u001b[1;32m     12\u001b[0m    \u001b[0mprocess_pipeline\u001b[0m \u001b[0;34m=\u001b[0m \u001b[0mPipeline\u001b[0m\u001b[0;34m(\u001b[0m\u001b[0mmodel\u001b[0m\u001b[0;34m,\u001b[0m \u001b[0;34m'tokenize'\u001b[0m\u001b[0;34m,\u001b[0m \u001b[0mPipeline\u001b[0m\u001b[0;34m.\u001b[0m\u001b[0mDEFAULT\u001b[0m\u001b[0;34m,\u001b[0m \u001b[0mPipeline\u001b[0m\u001b[0;34m.\u001b[0m\u001b[0mDEFAULT\u001b[0m\u001b[0;34m,\u001b[0m \u001b[0;34m'conllu'\u001b[0m\u001b[0;34m)\u001b[0m\u001b[0;34m\u001b[0m\u001b[0;34m\u001b[0m\u001b[0m\n\u001b[1;32m     13\u001b[0m    \u001b[0;31m#print('Processing input...', file=sys.stderr)\u001b[0m\u001b[0;34m\u001b[0m\u001b[0;34m\u001b[0m\u001b[0;34m\u001b[0m\u001b[0m\n",
            "\u001b[0;31mKeyboardInterrupt\u001b[0m: "
          ]
        }
      ]
    },
    {
      "cell_type": "code",
      "metadata": {
        "id": "NGbS5w8jaE_r"
      },
      "source": [
        "import nltk"
      ],
      "execution_count": 1,
      "outputs": []
    },
    {
      "cell_type": "code",
      "metadata": {
        "id": "di7f3w9ZatJw",
        "colab": {
          "base_uri": "https://localhost:8080/"
        },
        "outputId": "c1283a53-cb6c-4df0-eab4-41b9fa436f96"
      },
      "source": [
        "nltk.download('punkt')"
      ],
      "execution_count": 2,
      "outputs": [
        {
          "output_type": "stream",
          "text": [
            "[nltk_data] Downloading package punkt to /root/nltk_data...\n",
            "[nltk_data]   Unzipping tokenizers/punkt.zip.\n"
          ],
          "name": "stdout"
        },
        {
          "output_type": "execute_result",
          "data": {
            "text/plain": [
              "True"
            ]
          },
          "metadata": {
            "tags": []
          },
          "execution_count": 2
        }
      ]
    },
    {
      "cell_type": "code",
      "metadata": {
        "id": "EQO9mUQhkSre"
      },
      "source": [
        " new_corpora = open(\"my_text (9).txt\", encoding=\"UTF-8\", errors='ignore')"
      ],
      "execution_count": 3,
      "outputs": []
    },
    {
      "cell_type": "code",
      "metadata": {
        "id": "szLXqVvzaIg7"
      },
      "source": [
        "tokens=[]\n",
        "for sentence in new_corpora:\n",
        "  tokens.append(nltk.word_tokenize(sentence))"
      ],
      "execution_count": 4,
      "outputs": []
    },
    {
      "cell_type": "code",
      "metadata": {
        "id": "d0I63eV-eAeS",
        "colab": {
          "base_uri": "https://localhost:8080/"
        },
        "outputId": "6fbab964-1efe-45f2-f426-e8353d2e42ba"
      },
      "source": [
        "tokens[0:10]"
      ],
      "execution_count": 5,
      "outputs": [
        {
          "output_type": "execute_result",
          "data": {
            "text/plain": [
              "[['1_Бои_бой_NOUN_6_nsubj',\n",
              "  '2_у_в_ADP_3_case',\n",
              "  'Сопоцкин_PROPN',\n",
              "  '4_и_и_CCONJ_5_cc',\n",
              "  'Друскеник_PROPN',\n",
              "  '6_закончились_заканчиваться_VERB_0_root',\n",
              "  '7_отступлением_отступление_NOUN_6_obl',\n",
              "  '8_германцев_германец_NOUN_7_nmod'],\n",
              " ['1_Неприятель_неприятель_NOUN_8_nsubj',\n",
              "  '2_',\n",
              "  ',',\n",
              "  '_',\n",
              "  ',',\n",
              "  '_PUNCT_1_punct',\n",
              "  '3_приблизившись_приближаться_VERB_8_advcl',\n",
              "  '4_с_с_ADP_5_case',\n",
              "  '5_севера_север_NOUN_3_obl',\n",
              "  '6_к_к_ADP_7_case',\n",
              "  'Осовц_PROPN',\n",
              "  '8_начал_начинать_VERB_0_root',\n",
              "  '9_артиллерийскую_артиллерийский_ADJ_10_amod',\n",
              "  '10_борьбу_борьба_NOUN_8_obj',\n",
              "  '11_с_с_ADP_12_case',\n",
              "  '12_крепостью_крепость_NOUN_10_nmod'],\n",
              " ['1_В_в_ADP_3_case',\n",
              "  '2_артиллерийском_артиллерийский_ADJ_3_amod',\n",
              "  '3_бою_бой_NOUN_4_obl',\n",
              "  '4_принимают_принимать_VERB_0_root',\n",
              "  '5_участие_участие_NOUN_4_obj',\n",
              "  '6_тяжелые_тяжелый_ADJ_7_amod',\n",
              "  '7_калибры_калибр_NOUN_5_obj'],\n",
              " ['1_С_с_ADP_3_case',\n",
              "  '2_раннего_ранний_ADJ_3_amod',\n",
              "  '3_утра_утро_NOUN_7_obl',\n",
              "  '4_14_14_NUM_7_nummod',\n",
              "  '5_сентября_сентябрь_NOUN_4_flat',\n",
              "  '6_огонь_огонь_NOUN_7_nsubj',\n",
              "  '7_достиг_достигать_VERB_0_root',\n",
              "  '8_значительного_значительный_ADJ_9_amod',\n",
              "  '9_напряжения_напряжение_NOUN_7_obl'],\n",
              " ['попытка_PROPN',\n",
              "  '2_германской_германский_ADJ_3_amod',\n",
              "  '3_пехоты_пехота_NOUN_1_nmod',\n",
              "  '4_пробиться_пробиваться_VERB_1_obl',\n",
              "  '5_ближе_близко_ADJ_4_obl',\n",
              "  '6_к_к_ADP_7_case',\n",
              "  '7_крепости_крепость_NOUN_5_obl',\n",
              "  '8_отражена_отражать_VERB_0_root'],\n",
              " ['1_В_в_ADP_2_case',\n",
              "  'галиция_PROPN',\n",
              "  '3_мы_мы_PRON_4_nsubj',\n",
              "  '4_заняли_занимать_VERB_0_root',\n",
              "  'Дембиц_PROPN'],\n",
              " ['1_Большая_большой_ADJ_2_amod',\n",
              "  '2_колонна_колонна_NOUN_12_nsubj',\n",
              "  '3_',\n",
              "  ',',\n",
              "  '_',\n",
              "  ',',\n",
              "  '_PUNCT_2_punct',\n",
              "  '4_отступавшая_отступать_VERB_2_acl',\n",
              "  '5_по_по_ADP_6_case',\n",
              "  '6_шоссе_шоссе_NOUN_4_obl',\n",
              "  '7_от_от_ADP_8_case',\n",
              "  'перемышль_PROPN',\n",
              "  '9_к_к_ADP_10_case',\n",
              "  'Санок_PROPN',\n",
              "  '11_',\n",
              "  ',',\n",
              "  '_',\n",
              "  ',',\n",
              "  '_PUNCT_10_punct',\n",
              "  '12_обстреливалась_обстреливаться_VERB_0_root',\n",
              "  '13_с_с_ADP_14_case',\n",
              "  '14_высот_высота_NOUN_12_obl',\n",
              "  '15_нашей_наш_DET_16_det',\n",
              "  '16_батареей_батарея_NOUN_14_nmod',\n",
              "  '17_и_и_CCONJ_18_cc',\n",
              "  '18_бежала_бежать_VERB_12_conj',\n",
              "  '19_',\n",
              "  ',',\n",
              "  '_',\n",
              "  ',',\n",
              "  '_PUNCT_18_punct',\n",
              "  '20_бросив_бросить_VERB_18_advcl',\n",
              "  '21_парки_парк_NOUN_20_obj',\n",
              "  '22_',\n",
              "  ',',\n",
              "  '_',\n",
              "  ',',\n",
              "  '_PUNCT_21_punct',\n",
              "  '23_обоз_обоз_NOUN_21_conj',\n",
              "  '24_и_и_CCONJ_25_cc',\n",
              "  '25_автомобили_автомобиль_NOUN_21_conj'],\n",
              " ['1_Вылазки_вылазка_NOUN_4_nsubj',\n",
              "  '2_гарнизона_гарнизон_NOUN_1_nmod',\n",
              "  'перемышль_PROPN',\n",
              "  '4_остаются_оставаться_VERB_0_root',\n",
              "  '5_безуспешными_безуспешный_ADJ_4_obl'],\n",
              " ['1_При_при_ADP_3_case',\n",
              "  '2_продолжающемся_продолжающться_VERB_3_amod',\n",
              "  '3_отступлении_отступление_NOUN_5_obl',\n",
              "  '4_австрийцев_австриец_NOUN_3_nmod',\n",
              "  '5_обнаруживается_обнаруживать_VERB_0_root',\n",
              "  '6_полное_полный_ADJ_7_amod',\n",
              "  '7_перемешивание_перемешивание_NOUN_5_nsubj',\n",
              "  '8_их_они_PRON_9_nmod',\n",
              "  '9_частей_часть_NOUN_7_nmod',\n",
              "  '10_',\n",
              "  ',',\n",
              "  '_',\n",
              "  ',',\n",
              "  '_PUNCT_9_punct',\n",
              "  '11_захватываются_захватывать_VERB_5_conj',\n",
              "  '12_новые_новый_ADJ_13_amod',\n",
              "  '13_партии_партия_NOUN_11_nsubj',\n",
              "  ':',\n",
              "  'pass',\n",
              "  '14_пленных_пленный_NOUN_13_nmod',\n",
              "  '15_',\n",
              "  ',',\n",
              "  '_',\n",
              "  ',',\n",
              "  '_PUNCT_14_punct',\n",
              "  '16_орудия_орудие_NOUN_13_conj',\n",
              "  '17_и_и_CCONJ_20_cc',\n",
              "  '18_прочая_прочий_ADJ_20_amod',\n",
              "  '19_материальная_материальный_ADJ_20_amod',\n",
              "  '20_часть_часть_NOUN_13_conj'],\n",
              " ['1_На_на_ADP_2_case',\n",
              "  '2_перевале_перевал_NOUN_5_obl',\n",
              "  'Ужок_PROPN',\n",
              "  '4_мы_мы_PRON_5_nsubj',\n",
              "  '5_разбили_разбивать_VERB_0_root',\n",
              "  '6_неприятельский_неприятельский_ADJ_7_amod',\n",
              "  '7_отряд_отряд_NOUN_5_obj',\n",
              "  '8_',\n",
              "  ',',\n",
              "  '_',\n",
              "  ',',\n",
              "  '_PUNCT_7_punct',\n",
              "  '9_взяли_брать_VERB_5_conj',\n",
              "  '10_его_он_PRON_11_nmod',\n",
              "  '11_артиллерию_артиллерия_NOUN_9_obj',\n",
              "  '12_и_и_CCONJ_13_cc',\n",
              "  '13_много_много_ADV_5_conj',\n",
              "  '14_пленных_пленный_ADJ_13_obl',\n",
              "  '15_и_и_CCONJ_20_cc',\n",
              "  '16_',\n",
              "  ',',\n",
              "  '_',\n",
              "  ',',\n",
              "  '_PUNCT_15_punct',\n",
              "  '17_продолжая_продолжать_VERB_20_advcl',\n",
              "  '18_преследовать_преследовать_VERB_17_xcomp',\n",
              "  '19_',\n",
              "  ',',\n",
              "  '_',\n",
              "  ',',\n",
              "  '_PUNCT_18_punct',\n",
              "  '20_вступили_вступать_VERB_13_conj',\n",
              "  '21_в_в_ADP_22_case',\n",
              "  '22_пределы_предел_NOUN_20_obl',\n",
              "  'венгрия_PROPN']]"
            ]
          },
          "metadata": {
            "tags": []
          },
          "execution_count": 5
        }
      ]
    },
    {
      "cell_type": "code",
      "metadata": {
        "id": "-ml532Zfg9I1",
        "colab": {
          "base_uri": "https://localhost:8080/"
        },
        "outputId": "f1b5c137-6cfc-4dee-92d0-41aa80926e16"
      },
      "source": [
        "law_corpora=[]\n",
        "for sentence in tokens:\n",
        "  for token in sentence:\n",
        "    if \"_судья_\" in token:\n",
        "      if sentence not in law_corpora:\n",
        "        law_corpora.append(sentence)\n",
        "    elif \"_адвокат_\" in token:\n",
        "      if sentence not in law_corpora:\n",
        "        law_corpora.append(sentence)\n",
        "    elif \"_прокурор_\" in token:\n",
        "      if sentence not in law_corpora:\n",
        "        law_corpora.append(sentence)\n",
        "    else:\n",
        "      pass\n",
        "print(len(law_corpora))"
      ],
      "execution_count": 6,
      "outputs": [
        {
          "output_type": "stream",
          "text": [
            "2602\n"
          ],
          "name": "stdout"
        }
      ]
    },
    {
      "cell_type": "code",
      "metadata": {
        "id": "80Rh5PVLh4JQ",
        "colab": {
          "base_uri": "https://localhost:8080/"
        },
        "outputId": "bd492b26-22f0-46aa-8df1-94775e2d5309"
      },
      "source": [
        "law_corpora[0:10]"
      ],
      "execution_count": 62,
      "outputs": [
        {
          "output_type": "execute_result",
          "data": {
            "text/plain": [
              "[['1_Швейцарский_швейцарский_ADJ_3_amod',\n",
              "  '2_федеральный_федеральный_ADJ_3_amod',\n",
              "  '3_прокурор_прокурор_NOUN_7_nsubj',\n",
              "  '5_дель_дель_PART_7_advmod',\n",
              "  '6_Понти_Понти_NUM_5_nummod',\n",
              "  '7_заявила_заявлять_VERB_0_root',\n",
              "  '9_что_что_SCONJ_11_mark',\n",
              "  '11_работал_работать_VERB_7_ccomp',\n",
              "  '12_на_на_ADP_13_case',\n",
              "  '13_шефа_шеф_NOUN_11_obl',\n",
              "  '14_разведывательной_разведывательный_ADJ_15_amod',\n",
              "  '15_службы_служба_NOUN_13_nmod',\n",
              "  '18_и_и_CCONJ_19_cc',\n",
              "  '19_получил_получать_VERB_11_conj',\n",
              "  '20_5,8_5,8_NUM_21_nummod',\n",
              "  '21_миллионов_миллион_NOUN_19_obl',\n",
              "  '22_долларов_доллар_NOUN_21_nmod',\n",
              "  '23_от_от_ADP_24_case',\n",
              "  '24_министерства_министерство_NOUN_19_obl',\n",
              "  '25_обороны_оборона_NOUN_24_nmod',\n",
              "  '26_для_для_ADP_27_case',\n",
              "  '27_покупки_покупка_NOUN_24_nmod',\n",
              "  '28_огромного_огромный_ADJ_29_amod',\n",
              "  '29_количества_количество_NOUN_27_nmod',\n",
              "  '30_оружия_оружие_NOUN_29_nmod'],\n",
              " ['1_Адвокат_адвокат_NOUN_5_nsubj',\n",
              "  '4_Седу_Сед_PROPN_3_flat',\n",
              "  'name',\n",
              "  '5_заявил_заявлять_VERB_0_root',\n",
              "  '7_что_что_SCONJ_10_mark',\n",
              "  '8_его_он_PRON_9_nmod',\n",
              "  '9_клиент_клиент_NOUN_10_nsubj',\n",
              "  '10_отверг_отвергать_VERB_5_ccomp',\n",
              "  '11_эти_этот_DET_12_det',\n",
              "  '12_обвинения_обвинение_NOUN_10_obj'],\n",
              " ['2_дель_дель_PART_3_advmod',\n",
              "  '3_Понти_Понти_NUM_1_nummod',\n",
              "  '5_недавно_недавно_ADV_6_advmod',\n",
              "  '6_ставшая_становиться_VERB_1_acl',\n",
              "  '7_прокурором_прокурор_NOUN_6_obl',\n",
              "  '8_Международного_международный_ADJ_9_amod',\n",
              "  '11_по_по_ADP_13_case',\n",
              "  '12_военным_военный_ADJ_13_amod',\n",
              "  '13_преступлениям_преступление_NOUN_9_nmod',\n",
              "  '15_заявила_заявлять_VERB_26_nsubj',\n",
              "  'pass',\n",
              "  '17_что_что_SCONJ_20_mark',\n",
              "  '18_дело_дело_NOUN_20_nsubj',\n",
              "  '19_против_против_ADP_20_case',\n",
              "  '21_и_и_CCONJ_25_cc',\n",
              "  '22_еще_еще_ADV_23_advmod',\n",
              "  '23_троих_трое_NUM_25_nummod',\n",
              "  'gov',\n",
              "  '24_высокопоставленных_высокопоставленный_ADJ_25_amod',\n",
              "  '25_чиновников_чиновник_NOUN_20_conj',\n",
              "  '26_закрыто_закрывать_VERB_0_root'],\n",
              " ['1_Федеральный_федеральный_ADJ_2_amod',\n",
              "  '2_прокурор_прокурор_NOUN_3_nsubj',\n",
              "  '3_добавила_добавлять_VERB_0_root',\n",
              "  '5_что_что_SCONJ_8_mark',\n",
              "  '6_расследование_расследование_NOUN_8_nsubj',\n",
              "  '7_будет_быть_AUX_8_aux',\n",
              "  'pass',\n",
              "  '8_продолжено_продолжить_VERB_3_ccomp',\n",
              "  '9_в_в_ADP_11_case',\n",
              "  '10_отношении_отношение_NOUN_9_fixed',\n",
              "  '14_шефа_шеф_NOUN_11_conj',\n",
              "  '15_стратегической_стратегический_ADJ_17_amod',\n",
              "  '16_информационной_информационный_ADJ_17_amod',\n",
              "  '17_службы_служба_NOUN_14_nmod',\n",
              "  '19_которая_который_PRON_20_nsubj',\n",
              "  '20_возникла_возникать_VERB_17_acl',\n",
              "  'relcl',\n",
              "  '21_в_в_ADP_22_case',\n",
              "  '22_документах_документ_NOUN_20_obl',\n",
              "  '23_по_по_ADP_24_case',\n",
              "  '24_делу_дело_NOUN_22_nmod'],\n",
              " ['1_Бывший_бывший_ADJ_3_amod',\n",
              "  '2_генеральный_генеральный_ADJ_3_amod',\n",
              "  '3_прокурор_прокурор_NOUN_7_nsubj',\n",
              "  '5_Юрий_юрий_PROPN_3_appos',\n",
              "  '7_считает_считать_VERB_0_root',\n",
              "  '9_что_что_SCONJ_15_mark',\n",
              "  '10_ближайшее_близкий_ADJ_11_amod',\n",
              "  '11_окружение_окружение_NOUN_15_nsubj',\n",
              "  '12_президента_президент_NOUN_11_nmod',\n",
              "  '15_попытается_пытаться_VERB_7_ccomp',\n",
              "  '16_воспрепятствовать_препятствовать_VERB_15_xcomp',\n",
              "  '17_серьезному_серьезный_ADJ_18_amod',\n",
              "  '18_расследованию_расследование_NOUN_16_iobj',\n",
              "  '19_ситуации_ситуация_NOUN_18_nmod',\n",
              "  '21_связанной_связывать_VERB_19_acl',\n",
              "  '22_с_с_ADP_23_case',\n",
              "  '23_Bank_bank_PROPN_21_flat',\n",
              "  'foreign',\n",
              "  '24_of_of_X_23_flat',\n",
              "  'foreign',\n",
              "  '25_New_new_PROPN_24_flat',\n",
              "  'foreign',\n",
              "  '26_York_york_PROPN_25_flat',\n",
              "  'foreign',\n",
              "  '28_через_через_ADP_29_case',\n",
              "  '29_который_который_PRON_30_obl',\n",
              "  '30_отмывались_отмываться_VERB_21_acl',\n",
              "  'relcl',\n",
              "  '31_деньги_деньги_NOUN_30_nsubj',\n",
              "  ',',\n",
              "  '33_полученные_получать_VERB_31_acl',\n",
              "  '34_от_от_ADP_35_case'],\n",
              " ['1_Мои_мой_DET_2_det',\n",
              "  '2_адвокаты_адвокат_NOUN_3_nsubj',\n",
              "  '3_изучают_изучать_VERB_0_root',\n",
              "  '4_документы_документ_NOUN_3_obj',\n",
              "  '6_чтобы_чтобы_SCONJ_7_mark',\n",
              "  '7_обратиться_обращаться_VERB_3_advcl',\n",
              "  '8_в_в_ADP_9_case',\n",
              "  '9_суд_суд_NOUN_7_obl'],\n",
              " ['1_Сумма_сумма_NOUN_8_nsubj',\n",
              "  'pass',\n",
              "  '2_возмещения_возмещение_NOUN_1_nmod',\n",
              "  '3_ущерба_ущерб_NOUN_2_nmod',\n",
              "  '4_по_по_ADP_5_case',\n",
              "  '5_искам_иск_NOUN_3_nmod',\n",
              "  '6_в_в_ADP_7_case',\n",
              "  '7_настоящее_настоящий_ADJ_3_obl',\n",
              "  '8_времяопределяется_времяопределяться_VERB_0_root',\n",
              "  '9_адвокатами_адвокат_NOUN_8_obl',\n",
              "  '10_и_и_CCONJ_11_cc',\n",
              "  '11_юристами_юрист_NOUN_9_conj',\n",
              "  '13_занимающимися_заниматься_VERB_15_amod',\n",
              "  '14_подготовкойисковых_подготовкойисковый_ADJ_15_amod',\n",
              "  '15_заявлений_заявление_NOUN_9_conj'],\n",
              " ['1_Но_но_CCONJ_6_cc',\n",
              "  '2_окружной_окружной_ADJ_3_amod',\n",
              "  '3_судья_судья_NOUN_6_nsubj',\n",
              "  '6_решила_решать_VERB_0_root',\n",
              "  '7_дело_дело_NOUN_6_obj',\n",
              "  '8_в_в_ADP_9_case',\n",
              "  '9_пользу_польза_NOUN_6_obl',\n",
              "  '10_web_веб_NOUN_9_nmod',\n",
              "  '11_-издательства_-издательствый_NOUN_10_nmod',\n",
              "  '13_она_она_PRON_14_nsubj',\n",
              "  '14_отвергла_отвергать_VERB_6_conj',\n",
              "  '15_требование_требование_NOUN_14_obj',\n",
              "  '16_в_в_ADP_18_case',\n",
              "  '17_судебном_судебный_ADJ_18_amod',\n",
              "  '18_порядке_порядок_NOUN_15_nmod',\n",
              "  '19_запретить_запрещать_VERB_15_obl',\n",
              "  '21_публикацию_публикация_NOUN_19_obj',\n",
              "  '22_секретных_секретный_ADJ_23_amod',\n",
              "  '23_документов_документ_NOUN_21_nmod',\n",
              "  '25_поскольку_поскольку_SCONJ_28_mark',\n",
              "  '26_такой_такой_DET_27_det',\n",
              "  '27_запрет_запрет_NOUN_28_nsubj',\n",
              "  '28_нарушал_нарушать_VERB_14_advcl',\n",
              "  '29_бы_бы_PART_28_aux',\n",
              "  '30_свободу_свобода_NOUN_28_obj',\n",
              "  '31_слова_слово_NOUN_30_nmod'],\n",
              " ['1_Однако_однако_ADV_5_advmod',\n",
              "  '2_судья_судья_NOUN_5_nsubj',\n",
              "  '3_все_все_PART_5_advmod',\n",
              "  '4_же_же_PART_3_fixed',\n",
              "  '5_вынесла_выносить_VERB_0_root',\n",
              "  '6_постановление_постановление_NOUN_5_advcl',\n",
              "  '8_связанное_связывать_VERB_6_acl',\n",
              "  '9_с_с_ADP_10_case',\n",
              "  '10_тем_то_PRON_8_obl',\n",
              "  '12_что_что_SCONJ_14_mark',\n",
              "  '14_нарушил_нарушать_VERB_10_acl',\n",
              "  '15_копирайт_копирайт_NOUN_14_obj',\n",
              "  '16_компании_компания_NOUN_15_nmod'],\n",
              " ['1_При_при_ADP_2_case',\n",
              "  '2_этом_это_PRON_4_obl',\n",
              "  '3_судья_судья_NOUN_4_nsubj',\n",
              "  '4_добавила_добавлять_VERB_0_root',\n",
              "  '6_что_что_SCONJ_10_mark',\n",
              "  '7_судебная_судебный_ADJ_8_amod',\n",
              "  '8_система_система_NOUN_10_nsubj',\n",
              "  '9_только_только_PART_10_advmod',\n",
              "  '10_начинает_начинать_VERB_4_ccomp',\n",
              "  '11_подходить_подходить_VERB_10_xcomp',\n",
              "  '12_к_к_ADP_15_case',\n",
              "  '13_такому_такой_DET_15_det',\n",
              "  '14_сложному_сложный_ADJ_15_amod',\n",
              "  '15_вопросу_вопрос_NOUN_11_obl',\n",
              "  '17_как_как_SCONJ_18_mark',\n",
              "  '18_свобода_свобода_NOUN_13_obl',\n",
              "  '19_слова_слово_NOUN_18_nmod',\n",
              "  '20_и_и_CCONJ_21_cc',\n",
              "  '21_защита_защита_NOUN_19_conj',\n",
              "  '22_интеллектуальной_интеллектуальный_ADJ_23_amod',\n",
              "  '23_собственности_собственность_NOUN_21_nmod',\n",
              "  '24_в_в_ADP_25_case']]"
            ]
          },
          "metadata": {
            "tags": []
          },
          "execution_count": 62
        }
      ]
    },
    {
      "cell_type": "code",
      "metadata": {
        "id": "C3LdUA18kKI9"
      },
      "source": [
        "with open(\"law_corpora.txt\", \"w\") as file:\n",
        "  print(law_corpora, file=file, sep=\"\\n\")\n",
        "file.close()"
      ],
      "execution_count": 8,
      "outputs": []
    },
    {
      "cell_type": "code",
      "metadata": {
        "id": "E7J2KSMJJ2Lo",
        "colab": {
          "base_uri": "https://localhost:8080/"
        },
        "outputId": "0e0eed5c-41f4-4526-a6d9-fa9f4359a342"
      },
      "source": [
        "count=0\n",
        "for sentence in tokens:\n",
        "  count += len(sentence)\n",
        "print(count)"
      ],
      "execution_count": 9,
      "outputs": [
        {
          "output_type": "stream",
          "text": [
            "5860022\n"
          ],
          "name": "stdout"
        }
      ]
    },
    {
      "cell_type": "code",
      "metadata": {
        "id": "EVDios2gKPKM",
        "colab": {
          "base_uri": "https://localhost:8080/"
        },
        "outputId": "4c7cda28-f466-4217-dffa-245005d139e6"
      },
      "source": [
        "count=0\n",
        "for sentence in law_corpora:\n",
        "  count += len(sentence)\n",
        "print(count)"
      ],
      "execution_count": 10,
      "outputs": [
        {
          "output_type": "stream",
          "text": [
            "93703\n"
          ],
          "name": "stdout"
        }
      ]
    },
    {
      "cell_type": "code",
      "metadata": {
        "id": "TEd9vRdqlG2T",
        "colab": {
          "base_uri": "https://localhost:8080/"
        },
        "outputId": "5314e918-0de4-4bfd-dcc4-32facd7fdc2e"
      },
      "source": [
        "len(tokens)"
      ],
      "execution_count": 11,
      "outputs": [
        {
          "output_type": "execute_result",
          "data": {
            "text/plain": [
              "201486"
            ]
          },
          "metadata": {
            "tags": []
          },
          "execution_count": 11
        }
      ]
    },
    {
      "cell_type": "code",
      "metadata": {
        "id": "afKqro1G2Phq"
      },
      "source": [
        "for sentence in law_corpora:\n",
        "  for i in sentence:\n",
        "    listik=[]\n",
        "    listik=i.split('_')\n",
        "    #print(listik)\n",
        "    if len(listik) < 3:\n",
        "      sentence.remove(i)"
      ],
      "execution_count": 101,
      "outputs": []
    },
    {
      "cell_type": "code",
      "metadata": {
        "colab": {
          "base_uri": "https://localhost:8080/"
        },
        "id": "8v5prly3kyYD",
        "outputId": "1c8cf67c-eb77-4eaa-80b7-0579acda4fee"
      },
      "source": [
        "diff={}\n",
        "for sentence in law_corpora:\n",
        "  for i in sentence:\n",
        "    w=[]\n",
        "    e=[]\n",
        "    r=[]\n",
        "    if \"_судья_\" in i:\n",
        "      w=i.split(sep=\"_\")\n",
        "      index=w[0]\n",
        "      if index == None:\n",
        "        pass\n",
        "      else:\n",
        "        for m in sentence:\n",
        "          e=m.split(sep=\"_\")\n",
        "          if len(w)<3 or len(e)<3:\n",
        "            pass\n",
        "          else:\n",
        "            if e[2] == w[2]:\n",
        "              pass\n",
        "            else:\n",
        "              small_diff=[]\n",
        "              index2=e[0]\n",
        "              if index2 == None:\n",
        "                pass\n",
        "              else:\n",
        "                d = abs(int(index2)-int(index))-1\n",
        "                for sentence in law_corpora:\n",
        "                  if i in sentence:\n",
        "                    #print(sentence)\n",
        "                    for q in sentence:\n",
        "                      #print(q)\n",
        "                      r=q.split(sep=\"_\")\n",
        "                      if len(r)<3 or len(e)<3:\n",
        "                        pass\n",
        "                      else:\n",
        "                        if r[2] == e[2]:\n",
        "                          index=w[0]\n",
        "                          if index == None:\n",
        "                            pass\n",
        "                          else:\n",
        "                            index2=r[0]\n",
        "                            if index == None:\n",
        "                              pass\n",
        "                            else:\n",
        "                              d = abs(int(index2)-int(index))-1\n",
        "                              small_diff.append(d)\n",
        "                        else:\n",
        "                          pass\n",
        "                    if len(r) >= 3:\n",
        "                      diff[r[2]]=small_diff\n",
        "print(diff)"
      ],
      "execution_count": 110,
      "outputs": [
        {
          "output_type": "stream",
          "text": [
            "{'слово': [7], 'аноним': [16], 'собственность': [16], 'компания': [21], 'дело': [21], 'reuters': [27], 'посредник': [25], 'farm': [25], 'стража': [21], 'от': [25], 'в': [21], 'преподавание': [12, 21], 'Telegraph': [12, 21], 'бить': [12, 21], 'стерлинг': [12, 21], 'год': [20], 'истина': [12, 21], 'допускать': [12, 21], 'провинция': [12, 21], 'экстрадиция': [12, 21], 'тюрьма': [21], 'закон': [8], 'судья': [4], 'выносить': [0, 0, 0], 'март': [0, 0, 0], 'вопрос': [38, 32], 'против': [0], 'Ю': [], 'банкротство': [31], 'проступок': [16], 'кладбище': [16], 'содержание': [13], 'диск': [13], 'свобода': [13], 'адвокат': [13], 'случай': [22, 17, 26, 9, 15], 'банк': [22, 17, 26, 9, 15], 'полиция': [8], 'премьер-министр': [39], 'потребитель': [39], 'и': [21], 'хвалить': [39], 'надзор': [39], 'Бэрри': [39], 'сеть': [20], 'требование': [20], 'пенальти': [20], 'суверенитет': [20], 'сам': [20], 'команда': [20], 'полномочие': [20], 'телекомпания': [20], 'власть': [20], 'спутник': [20], 'больница': [20], 'лицо': [20], 'усмотрение': [20], 'рано': [20], 'москва': [20], 'последний': [20], 'освобождение': [20], 'телохранитель': [7], 'семья': [22], 'ноябрь': [39], 'лодка': [19], 'опасный': [19], 'режим': [19], 'право': [21], 'акция': [15], 'шаг': [3], 'Л': [3], 'он': [11], 'неожиданный': [3], 'письмо': [18], 'сша': [18], 'веб': [16], 'нелегальный': [16], 'автоматически': [16], 'плата': [16], 'генконсул': [16], 'арест': [8], 'реакция': [10], 'невиновность': [10], 'война': [10], 'news': [10], 'тяжелый': [10], 'взаимоконтроль': [10], 'ошибка': [10], 'палата': [23, 5], 'помощник': [3], 'анатолий': [3], 'Рашидхан': [3], 'понедельник': [11, 12], 'ранение': [4], 'деяние': [5], 'суд': [21], 'прибыль': [7], 'причина': [7], 'делать': [7], 'франк': [11, 12], 'заболевание': [11, 12], 'лично': [11, 12], 'сми': [11, 12], 'журналист': [11, 12], 'свидетель': [11, 12], 'правительство': [1, 7, 0], 'агентство': [6], 'доллар': [1, 14, 36, 2, 2, 8, 20], 'корпорация': [1, 14, 36, 2, 2, 8, 20], 'оглашать': [1, 14, 36, 2, 2, 8, 20], 'сегодня': [1, 14, 36, 2, 2, 8, 20], 'вторник': [1, 14, 36, 2, 2, 8, 20], 'windows': [38, 32], 'польза': [38, 32], 'перемещение': [38, 32], 'момент': [38, 32], 'неделя': [38, 32], 'система': [38, 32], 'секрет': [22], 'ссуд': [28], 'человек': [0], 'кардинал': [16], 'должность': [6], 'отпуск': [8, 1], 'неразделенный': [8, 1], 'оставаться': [9], 'борец': [9], 'очередь': [9], 'неть': [], 'post': [9], 'на': [27], 'курс': [27], 'отсрочка': [7], 'заявитель': [2], '00': [15], 'страна': [16], 'общество': [21], 'время': [21], 'парламент': [21], 'надежда': [21], 'с': [21], 'Afp': [21], 'вождение': [21], 'мозг': [21], 'суббота': [21], 'изящный': [22], 'ничто': [14], 'гвардия': [14], 'устный': [3], 'играть': [3], 'передавать': [3], 'заключение': [6], 'статья': [0], 'иск': [16], 'залог': [17], 'быть': [28], 'самолет': [25], 'инфраструктура': [42], 'камера': [23], 'комиссия': [34], 'май': [34], 'выборы': [34], 'происходить': [34], 'ведение': [34], 'информация': [34], 'неприкосновенность': [15], '2600': [15], 'правосудие': [15], 'сообщать': [15], '-': [15], 'организация': [15], 'себя': [15], 'срок': [15], 'защита': [5], 'веб-сайт': [22], 'юрисдикция': [22], 'апелляция': [22], 'сайт': [22], 'к': [22], 'объявлять': [4], 'субъект': [10], 'изображение': [1, 6], 'разногласие': [7], 'прения': [26], 'предстоять': [9], 'разукрупнение': [9], 'официант': [9], 'бомбардировка': [14], 'press': [23], 'счет': [4], 'претензия': [1], 'ребенок': [32], 'республика': [], 'смысл': [0], 'среда': [20], 'угроза': [13], 'деятельность': [4], 'жалоба': [18], 'офсайд': [9], 'убивать': [8, 15], 'мафия': [13, 5], 'край': [11], 'политика': [23], 'позиция': [12], 'bbc': [27], 'юстиция': [27], 'полицейский': [27], 'недовольство': [15], 'Эрмитаж': [15], 'преимущество': [15], 'инстанция': [22], 'сила': [10], 'из': [5], 'ссылка': [5], 'спартак': [16], 'марка': [16], 'мошенничество': [16], 'слушание': [7], 'Yahoo': [11], 'cnn': [5], 'справедливость': [9], 'коллегия': [4], 'накануне': [28], 'Терезинья': [28], 'родитель': [9], 'боксер': [19], 'территория': [28], 'Monde': [24, 41], '20': [1], 'Альдижер': [1], 'день': [27], 'поправка': [12], 'существо': [12], 'преступник': [14], 'квалификация': [12], 'сторона': [29], 'следствие': [29], 'метр': [28], 'безупречный': [28], 'истец': [28], 'конкурент': [28], 'вес': [28], 'хакер': [0], 'процесс': [22], 'реализовать': [16], 'правление': [20], 'месяц': [12], 'деньги': [8], 'депутат': [3], 'компьютер': [50], 'португалец': [9], 'подзащитный': [9], 'please': [5], 'агитация': [28], 'прокурор': [28], 'удаваться': [28], 'район': [1], 'пресечение': [31], 'конкуренция': [23], 'наркотик': [10], 'российский': [1], 'тысяча': [4, 4], 'отставка': [4], 'обоснованный': [4], 'средство': [25], 'арестовывать': [21], 'стоимость': [28], 'решение': [], 'балл': [8], 'переговоры': [26], 'практика': [10], 'окончание': [7], 'свет': [8], 'прокуратура': [8], 'отозвать': [5], 'борьба': [42], 'операция': [12], 'легко': [12], 'по': [1], 'соответствовать': [21], 'союз': [17], 'документ': [], 'известный': [21], 'обжалование': [19], 'банкир': [21], 'черный': [6], 'нога': [6], 'самочувствие': [5], 'проститутка': [8], 'диктатор': [14], 'объем': [25], 'основание': [25], 'Generale': [19], 'вердикт': [14], 'Mabetex': [8], 'обвинение': [6], 'изменять': [10], 'Ахмад': [8], 'спид': [13], 'губернатор': [3], 'госслужба': [3], 'пол': [4], 'Garzon': [4], '9': [7], 'конфликт': [7], 'Беганская': [2], 'исполнить': [21], 'мочь': [5], 'ответчик': [17], 'Галиано': [2], 'обязанность': [18], 'акт': [15], 'повод': [2], 'взаимность': [17], 'заявлять': [11], 'голос': [22], 'неправомочный': [16], 'Остальский': [19], 'поле': [2, 14], 'сумма': [2], 'снисходительный': [14], 'Pais': [28], 'открытие': [15], 'скорость': [15], 'магнат': [11], 'вывод': [16], 'Эфэ': [20], 'место': [2], 'период': [23], 'утверждать': [], 'вор': [8], 'незаконный': [8], 'Юрий': [25], 'Джун': [27], 'награда': [27], 'октябрь': [5], 'охрана': [20], 'Руцкий': [0], 'либерал': [5], 'радикулит': [20], 'пресса': [12], 'округ': [1, 23, 30], 'флорида': [3], 'продолжение': [11], 'прекращать': [30], 'прыжок': [6], 'свастика': [17], 'заявка': [12], 'голый': [1], 'юрист': [5], 'версия': [27], 'пристав': [2], 'матч': [7], 'финансирование': [12], 'Бальтасар': [4], 'Мухамед': [3], 'внимание': [2], 'снисходительно': [3], 'речь': [2], 'дата': [], 'признак': [8], 'лечебница': [33], 'обследование': [26], 'отстранить': [12], 'арбитр': [12], 'сказать': [32], 'отмечать': [6], 'просьба': [11], 'Погорелска': [1], 'это': [4], 'генерал': [6], 'Ananova': [5], 'мотив': [24], 'материал': [23], 'изнасилование': [24], 'защищать': [2]}\n"
          ],
          "name": "stdout"
        }
      ]
    },
    {
      "cell_type": "code",
      "metadata": {
        "colab": {
          "base_uri": "https://localhost:8080/"
        },
        "id": "0O8Kd1N0KHn6",
        "outputId": "02e77e74-6f71-4ec4-e81c-76ec8634e39d"
      },
      "source": [
        "len(diff)"
      ],
      "execution_count": 111,
      "outputs": [
        {
          "output_type": "execute_result",
          "data": {
            "text/plain": [
              "376"
            ]
          },
          "metadata": {
            "tags": []
          },
          "execution_count": 111
        }
      ]
    }
  ]
}