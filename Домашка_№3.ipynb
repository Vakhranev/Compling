{
  "nbformat": 4,
  "nbformat_minor": 0,
  "metadata": {
    "colab": {
      "name": "Домашка №3.ipynb",
      "provenance": [],
      "authorship_tag": "ABX9TyOgKItwXN1DmIqj/6mTi1hF",
      "include_colab_link": true
    },
    "kernelspec": {
      "name": "python3",
      "display_name": "Python 3"
    }
  },
  "cells": [
    {
      "cell_type": "markdown",
      "metadata": {
        "id": "view-in-github",
        "colab_type": "text"
      },
      "source": [
        "<a href=\"https://colab.research.google.com/github/Vakhranev/Compling/blob/master/%D0%94%D0%BE%D0%BC%D0%B0%D1%88%D0%BA%D0%B0_%E2%84%963.ipynb\" target=\"_parent\"><img src=\"https://colab.research.google.com/assets/colab-badge.svg\" alt=\"Open In Colab\"/></a>"
      ]
    },
    {
      "cell_type": "code",
      "metadata": {
        "id": "WDKLQ7bJtgNS",
        "colab_type": "code",
        "outputId": "c93639b6-d79e-46c4-e92d-9e3feecea040",
        "colab": {
          "base_uri": "https://localhost:8080/",
          "height": 357
        }
      },
      "source": [
        "import sklearn\n",
        "from sklearn.datasets import fetch_20newsgroups\n",
        "data = fetch_20newsgroups()\n",
        "data.target_names"
      ],
      "execution_count": 76,
      "outputs": [
        {
          "output_type": "execute_result",
          "data": {
            "text/plain": [
              "['alt.atheism',\n",
              " 'comp.graphics',\n",
              " 'comp.os.ms-windows.misc',\n",
              " 'comp.sys.ibm.pc.hardware',\n",
              " 'comp.sys.mac.hardware',\n",
              " 'comp.windows.x',\n",
              " 'misc.forsale',\n",
              " 'rec.autos',\n",
              " 'rec.motorcycles',\n",
              " 'rec.sport.baseball',\n",
              " 'rec.sport.hockey',\n",
              " 'sci.crypt',\n",
              " 'sci.electronics',\n",
              " 'sci.med',\n",
              " 'sci.space',\n",
              " 'soc.religion.christian',\n",
              " 'talk.politics.guns',\n",
              " 'talk.politics.mideast',\n",
              " 'talk.politics.misc',\n",
              " 'talk.religion.misc']"
            ]
          },
          "metadata": {
            "tags": []
          },
          "execution_count": 76
        }
      ]
    },
    {
      "cell_type": "code",
      "metadata": {
        "id": "Xhma9G3BvtC8",
        "colab_type": "code",
        "outputId": "5ece6944-1543-4c77-8350-c85275ab91b3",
        "colab": {
          "base_uri": "https://localhost:8080/",
          "height": 34
        }
      },
      "source": [
        "from sklearn.feature_extraction.text import CountVectorizer\n",
        "categories = ['comp.os.ms-windows.misc', 'misc.forsale', 'rec.autos', 'sci.space']\n",
        "train = fetch_20newsgroups(subset='train', categories=categories)\n",
        "test = fetch_20newsgroups(subset='test', categories=categories)\n",
        "vectorizer = CountVectorizer()\n",
        "vect = vectorizer.fit_transform(train.data)\n",
        "print(vect.shape)"
      ],
      "execution_count": 77,
      "outputs": [
        {
          "output_type": "stream",
          "text": [
            "(2363, 63636)\n"
          ],
          "name": "stdout"
        }
      ]
    },
    {
      "cell_type": "code",
      "metadata": {
        "id": "zzZ1IzJ8DLGd",
        "colab_type": "code",
        "colab": {
          "base_uri": "https://localhost:8080/",
          "height": 34
        },
        "outputId": "a14aba48-859b-409e-d576-a7efc5ac267d"
      },
      "source": [
        "import pandas as pd\n",
        "from sklearn.model_selection import StratifiedKFold, train_test_split\n",
        "from statistics import mean\n",
        "\n",
        "X = vect\n",
        "y = train.target\n",
        "print(X.shape, y.shape)\n",
        "X, X_test, y, y_test = train_test_split(X, y, random_state=42)\n",
        "stratified_folds = StratifiedKFold(n_splits=5, shuffle=True, random_state=0)"
      ],
      "execution_count": 78,
      "outputs": [
        {
          "output_type": "stream",
          "text": [
            "(2363, 63636) (2363,)\n"
          ],
          "name": "stdout"
        }
      ]
    },
    {
      "cell_type": "code",
      "metadata": {
        "id": "DRgrEQnAPLa7",
        "colab_type": "code",
        "colab": {}
      },
      "source": [
        "from sklearn import linear_model\n",
        "from sklearn import ensemble\n",
        "from sklearn.linear_model import SGDClassifier\n",
        "lr = linear_model.LogisticRegression()\n",
        "rf = ensemble.RandomForestClassifier()\n",
        "sgd = SGDClassifier()\n",
        "parameter_grid_lr = {'class_weight' : ['balanced', None],\n",
        "                  'C' : [0.01, 0.1, 1.0, 10.0],\n",
        "                  'max_iter': [300,1000]\n",
        "                 }\n",
        "parameters_RandomForest = {'n_estimators': [5, 10, 15],\n",
        "                           'max_depth': [None, 5],\n",
        "                           'min_samples_split': [0.5, 1.0, 5]                          \n",
        "                }\n",
        "parameters_SGD = {'penalty': ['l2', 'l1'], \n",
        "                  'alpha': [0.0001, 0.001, 0.01, 0.1], \n",
        "                  'max_iter': [10000, 15000, 20000]\n",
        "                }"
      ],
      "execution_count": 0,
      "outputs": []
    },
    {
      "cell_type": "code",
      "metadata": {
        "id": "3-luxCa4Q09M",
        "colab_type": "code",
        "colab": {}
      },
      "source": [
        "from sklearn.model_selection import GridSearchCV\n",
        "def grid_search(model, parameter_grid):\n",
        "    grid_search = GridSearchCV(model, param_grid=parameter_grid, cv=stratified_folds, scoring='f1_macro')\n",
        "    grid_search.fit(X, y)\n",
        "    print('Best score: {}'.format(grid_search.best_score_))\n",
        "    print('Best parameters: {}'.format(grid_search.best_params_))"
      ],
      "execution_count": 0,
      "outputs": []
    },
    {
      "cell_type": "code",
      "metadata": {
        "id": "K-WM_fBCTqMM",
        "colab_type": "code",
        "outputId": "037a51cf-74a7-4a35-fc8d-b2ceb6d031e2",
        "colab": {
          "base_uri": "https://localhost:8080/",
          "height": 51
        }
      },
      "source": [
        "grid_search(lr, parameter_grid_lr)"
      ],
      "execution_count": 6,
      "outputs": [
        {
          "output_type": "stream",
          "text": [
            "Best score: 0.9342816081032079\n",
            "Best parameters: {'C': 1.0, 'class_weight': 'balanced', 'max_iter': 300}\n"
          ],
          "name": "stdout"
        }
      ]
    },
    {
      "cell_type": "code",
      "metadata": {
        "id": "oUJs-uJB5mDu",
        "colab_type": "code",
        "outputId": "af3fa7b2-fb76-4fe9-c45d-a6d14c737ffd",
        "colab": {
          "base_uri": "https://localhost:8080/",
          "height": 51
        }
      },
      "source": [
        "grid_search(rf, parameters_RandomForest)"
      ],
      "execution_count": 7,
      "outputs": [
        {
          "output_type": "stream",
          "text": [
            "Best score: 0.8483865285404203\n",
            "Best parameters: {'max_depth': None, 'min_samples_split': 5, 'n_estimators': 15}\n"
          ],
          "name": "stdout"
        }
      ]
    },
    {
      "cell_type": "code",
      "metadata": {
        "id": "7h9yaTde1gMR",
        "colab_type": "code",
        "outputId": "6ae7fc76-35c6-4348-862d-6e4e8e617433",
        "colab": {
          "base_uri": "https://localhost:8080/",
          "height": 51
        }
      },
      "source": [
        "grid_search(sgd, parameters_SGD)"
      ],
      "execution_count": 8,
      "outputs": [
        {
          "output_type": "stream",
          "text": [
            "Best score: 0.9436079335790936\n",
            "Best parameters: {'alpha': 0.1, 'max_iter': 10000, 'penalty': 'l2'}\n"
          ],
          "name": "stdout"
        }
      ]
    },
    {
      "cell_type": "code",
      "metadata": {
        "id": "jkUYU0cJ8uU9",
        "colab_type": "code",
        "colab": {}
      },
      "source": [
        "lr = linear_model.LogisticRegression(C=1.0, class_weight='balanced', max_iter=300)\n",
        "rf = ensemble.RandomForestClassifier(max_depth=None, min_samples_split=5, n_estimators=15)\n",
        "sgd = SGDClassifier(alpha=0.1, max_iter=15000, penalty='l2')"
      ],
      "execution_count": 0,
      "outputs": []
    },
    {
      "cell_type": "code",
      "metadata": {
        "id": "a6AbeZQKLz_j",
        "colab_type": "code",
        "colab": {}
      },
      "source": [
        "def cv_train_model(model):\n",
        "    valid_scores = []\n",
        "    for fold_n, (train_index, valid_index) in enumerate(stratified_folds.split(X, y)):\n",
        "        X_train, X_valid = X[train_index], X[valid_index]\n",
        "        y_train, y_valid = y[train_index], y[valid_index]\n",
        "        model.fit(X_train, y_train)      \n",
        "        y_pred_test = model.predict(X_test)\n",
        "        y_pred_valid = model.predict(X_valid)\n",
        "        valid_score = sklearn.metrics.f1_score(y_valid, y_pred_valid, average='macro')\n",
        "        valid_scores.append(valid_score)\n",
        "    test_score = sklearn.metrics.f1_score(y_test, y_pred_test, average='macro')\n",
        "    print('Cross Validation mean score:', mean(valid_scores))\n",
        "    print(\"Score on test data: {0:.4f}\".format(test_score))"
      ],
      "execution_count": 0,
      "outputs": []
    },
    {
      "cell_type": "code",
      "metadata": {
        "id": "VD_ZF5XZ1kZ1",
        "colab_type": "code",
        "outputId": "89be5629-1e91-4275-c145-396130e9c56a",
        "colab": {
          "base_uri": "https://localhost:8080/",
          "height": 51
        }
      },
      "source": [
        "cv_train_model(lr)"
      ],
      "execution_count": 11,
      "outputs": [
        {
          "output_type": "stream",
          "text": [
            "Cross Validation mean score: 0.934281608103208\n",
            "Score on test data: 0.9469\n"
          ],
          "name": "stdout"
        }
      ]
    },
    {
      "cell_type": "code",
      "metadata": {
        "id": "h1vWviK2tRLo",
        "colab_type": "code",
        "outputId": "319deba1-38b7-4353-f684-99b6892403c0",
        "colab": {
          "base_uri": "https://localhost:8080/",
          "height": 51
        }
      },
      "source": [
        "cv_train_model(rf)"
      ],
      "execution_count": 12,
      "outputs": [
        {
          "output_type": "stream",
          "text": [
            "Cross Validation mean score: 0.8512245741630762\n",
            "Score on test data: 0.8542\n"
          ],
          "name": "stdout"
        }
      ]
    },
    {
      "cell_type": "code",
      "metadata": {
        "id": "Ex7ru1-jtiV5",
        "colab_type": "code",
        "outputId": "56e0cefc-50e1-457a-ebae-177271e7e1f2",
        "colab": {
          "base_uri": "https://localhost:8080/",
          "height": 51
        }
      },
      "source": [
        "cv_train_model(sgd)"
      ],
      "execution_count": 13,
      "outputs": [
        {
          "output_type": "stream",
          "text": [
            "Cross Validation mean score: 0.9403543517218882\n",
            "Score on test data: 0.9570\n"
          ],
          "name": "stdout"
        }
      ]
    },
    {
      "cell_type": "code",
      "metadata": {
        "id": "fJDaB0CWKXHC",
        "colab_type": "code",
        "outputId": "13d3d31a-24e9-4ba4-d2a7-e66e004433f8",
        "colab": {
          "base_uri": "https://localhost:8080/",
          "height": 272
        }
      },
      "source": [
        "!pip install eli5"
      ],
      "execution_count": 14,
      "outputs": [
        {
          "output_type": "stream",
          "text": [
            "Collecting eli5\n",
            "\u001b[?25l  Downloading https://files.pythonhosted.org/packages/97/2f/c85c7d8f8548e460829971785347e14e45fa5c6617da374711dec8cb38cc/eli5-0.10.1-py2.py3-none-any.whl (105kB)\n",
            "\r\u001b[K     |███                             | 10kB 18.2MB/s eta 0:00:01\r\u001b[K     |██████▏                         | 20kB 2.9MB/s eta 0:00:01\r\u001b[K     |█████████▎                      | 30kB 4.0MB/s eta 0:00:01\r\u001b[K     |████████████▍                   | 40kB 4.2MB/s eta 0:00:01\r\u001b[K     |███████████████▌                | 51kB 3.3MB/s eta 0:00:01\r\u001b[K     |██████████████████▋             | 61kB 3.7MB/s eta 0:00:01\r\u001b[K     |█████████████████████▊          | 71kB 4.0MB/s eta 0:00:01\r\u001b[K     |████████████████████████▊       | 81kB 4.3MB/s eta 0:00:01\r\u001b[K     |███████████████████████████▉    | 92kB 4.6MB/s eta 0:00:01\r\u001b[K     |███████████████████████████████ | 102kB 4.5MB/s eta 0:00:01\r\u001b[K     |████████████████████████████████| 112kB 4.5MB/s \n",
            "\u001b[?25hRequirement already satisfied: scikit-learn>=0.18 in /usr/local/lib/python3.6/dist-packages (from eli5) (0.22.2.post1)\n",
            "Requirement already satisfied: scipy in /usr/local/lib/python3.6/dist-packages (from eli5) (1.4.1)\n",
            "Requirement already satisfied: six in /usr/local/lib/python3.6/dist-packages (from eli5) (1.12.0)\n",
            "Requirement already satisfied: attrs>16.0.0 in /usr/local/lib/python3.6/dist-packages (from eli5) (19.3.0)\n",
            "Requirement already satisfied: graphviz in /usr/local/lib/python3.6/dist-packages (from eli5) (0.10.1)\n",
            "Requirement already satisfied: tabulate>=0.7.7 in /usr/local/lib/python3.6/dist-packages (from eli5) (0.8.7)\n",
            "Requirement already satisfied: numpy>=1.9.0 in /usr/local/lib/python3.6/dist-packages (from eli5) (1.18.4)\n",
            "Requirement already satisfied: jinja2 in /usr/local/lib/python3.6/dist-packages (from eli5) (2.11.2)\n",
            "Requirement already satisfied: joblib>=0.11 in /usr/local/lib/python3.6/dist-packages (from scikit-learn>=0.18->eli5) (0.15.1)\n",
            "Requirement already satisfied: MarkupSafe>=0.23 in /usr/local/lib/python3.6/dist-packages (from jinja2->eli5) (1.1.1)\n",
            "Installing collected packages: eli5\n",
            "Successfully installed eli5-0.10.1\n"
          ],
          "name": "stdout"
        }
      ]
    },
    {
      "cell_type": "code",
      "metadata": {
        "id": "VV5uQTZT9P9C",
        "colab_type": "code",
        "colab": {}
      },
      "source": [
        "lr_fit = lr.fit(X,y)\n",
        "rf_fit = rf.fit(X,y)\n",
        "sgd_fit = sgd.fit(X,y)"
      ],
      "execution_count": 0,
      "outputs": []
    },
    {
      "cell_type": "code",
      "metadata": {
        "id": "kkohwCjr73A1",
        "colab_type": "code",
        "colab": {
          "base_uri": "https://localhost:8080/",
          "height": 204
        },
        "outputId": "09678827-e231-4c02-f623-643cc926da37"
      },
      "source": [
        "df = eli5.formatters.as_dataframe.explain_weights_df(lr_fit)\n",
        "df.head()"
      ],
      "execution_count": 46,
      "outputs": [
        {
          "output_type": "execute_result",
          "data": {
            "text/html": [
              "<div>\n",
              "<style scoped>\n",
              "    .dataframe tbody tr th:only-of-type {\n",
              "        vertical-align: middle;\n",
              "    }\n",
              "\n",
              "    .dataframe tbody tr th {\n",
              "        vertical-align: top;\n",
              "    }\n",
              "\n",
              "    .dataframe thead th {\n",
              "        text-align: right;\n",
              "    }\n",
              "</style>\n",
              "<table border=\"1\" class=\"dataframe\">\n",
              "  <thead>\n",
              "    <tr style=\"text-align: right;\">\n",
              "      <th></th>\n",
              "      <th>target</th>\n",
              "      <th>feature</th>\n",
              "      <th>weight</th>\n",
              "    </tr>\n",
              "  </thead>\n",
              "  <tbody>\n",
              "    <tr>\n",
              "      <th>0</th>\n",
              "      <td>0</td>\n",
              "      <td>x60354</td>\n",
              "      <td>1.289650</td>\n",
              "    </tr>\n",
              "    <tr>\n",
              "      <th>1</th>\n",
              "      <td>0</td>\n",
              "      <td>x26825</td>\n",
              "      <td>0.535892</td>\n",
              "    </tr>\n",
              "    <tr>\n",
              "      <th>2</th>\n",
              "      <td>0</td>\n",
              "      <td>x23870</td>\n",
              "      <td>0.461181</td>\n",
              "    </tr>\n",
              "    <tr>\n",
              "      <th>3</th>\n",
              "      <td>0</td>\n",
              "      <td>x57860</td>\n",
              "      <td>0.391514</td>\n",
              "    </tr>\n",
              "    <tr>\n",
              "      <th>4</th>\n",
              "      <td>0</td>\n",
              "      <td>x23869</td>\n",
              "      <td>0.388154</td>\n",
              "    </tr>\n",
              "  </tbody>\n",
              "</table>\n",
              "</div>"
            ],
            "text/plain": [
              "   target feature    weight\n",
              "0       0  x60354  1.289650\n",
              "1       0  x26825  0.535892\n",
              "2       0  x23870  0.461181\n",
              "3       0  x57860  0.391514\n",
              "4       0  x23869  0.388154"
            ]
          },
          "metadata": {
            "tags": []
          },
          "execution_count": 46
        }
      ]
    },
    {
      "cell_type": "code",
      "metadata": {
        "id": "J4bSnuGQ7qj2",
        "colab_type": "code",
        "colab": {
          "base_uri": "https://localhost:8080/",
          "height": 204
        },
        "outputId": "0db72278-7cc3-4f03-b3fe-b1fc1160f0f0"
      },
      "source": [
        "df = eli5.formatters.as_dataframe.explain_weights_df(rf_fit)\n",
        "df.head()"
      ],
      "execution_count": 47,
      "outputs": [
        {
          "output_type": "execute_result",
          "data": {
            "text/html": [
              "<div>\n",
              "<style scoped>\n",
              "    .dataframe tbody tr th:only-of-type {\n",
              "        vertical-align: middle;\n",
              "    }\n",
              "\n",
              "    .dataframe tbody tr th {\n",
              "        vertical-align: top;\n",
              "    }\n",
              "\n",
              "    .dataframe thead th {\n",
              "        text-align: right;\n",
              "    }\n",
              "</style>\n",
              "<table border=\"1\" class=\"dataframe\">\n",
              "  <thead>\n",
              "    <tr style=\"text-align: right;\">\n",
              "      <th></th>\n",
              "      <th>feature</th>\n",
              "      <th>weight</th>\n",
              "      <th>std</th>\n",
              "    </tr>\n",
              "  </thead>\n",
              "  <tbody>\n",
              "    <tr>\n",
              "      <th>0</th>\n",
              "      <td>x60354</td>\n",
              "      <td>0.023315</td>\n",
              "      <td>0.047574</td>\n",
              "    </tr>\n",
              "    <tr>\n",
              "      <th>1</th>\n",
              "      <td>x51060</td>\n",
              "      <td>0.018894</td>\n",
              "      <td>0.025056</td>\n",
              "    </tr>\n",
              "    <tr>\n",
              "      <th>2</th>\n",
              "      <td>x19137</td>\n",
              "      <td>0.015663</td>\n",
              "      <td>0.033483</td>\n",
              "    </tr>\n",
              "    <tr>\n",
              "      <th>3</th>\n",
              "      <td>x55353</td>\n",
              "      <td>0.011818</td>\n",
              "      <td>0.018296</td>\n",
              "    </tr>\n",
              "    <tr>\n",
              "      <th>4</th>\n",
              "      <td>x19209</td>\n",
              "      <td>0.008473</td>\n",
              "      <td>0.016789</td>\n",
              "    </tr>\n",
              "  </tbody>\n",
              "</table>\n",
              "</div>"
            ],
            "text/plain": [
              "  feature    weight       std\n",
              "0  x60354  0.023315  0.047574\n",
              "1  x51060  0.018894  0.025056\n",
              "2  x19137  0.015663  0.033483\n",
              "3  x55353  0.011818  0.018296\n",
              "4  x19209  0.008473  0.016789"
            ]
          },
          "metadata": {
            "tags": []
          },
          "execution_count": 47
        }
      ]
    },
    {
      "cell_type": "code",
      "metadata": {
        "id": "wipMoPZryrWm",
        "colab_type": "code",
        "colab": {}
      },
      "source": [
        "import eli5  \n",
        "import pandas as pd\n",
        "def analyze_features(model, n):\n",
        "  index_to_word = {v:k for k,v in vectorizer.vocabulary_.items()}\n",
        "  df = eli5.formatters.as_dataframe.explain_weights_df(model)\n",
        "  category1 = df[df['target']==0]\n",
        "  category2 = df[df['target']==1]\n",
        "  category3 = df[df['target']==2]\n",
        "  category4 = df[df['target']==3]\n",
        "  print(' comp.os.ms-windows.misc:')\n",
        "  for word in category1.feature[:n]:\n",
        "    #print(word)\n",
        "    priznak = word.strip('x')\n",
        "    print(index_to_word[int(priznak)])\n",
        "  print('\\n','misc.forsale:')\n",
        "  for word in category2.feature[:n]:\n",
        "    #print(word)\n",
        "    priznak = word.strip('x')\n",
        "    print(index_to_word[int(priznak)])\n",
        "  print('\\n','rec.autos:')\n",
        "  for word in category3.feature[:n]:\n",
        "    #print(word)\n",
        "    priznak = word.strip('x')\n",
        "    if priznak == '<BIAS>':\n",
        "      print(priznak)\n",
        "    else:\n",
        "      print(index_to_word[int(priznak)])\n",
        "  print('\\n','sci.space:')\n",
        "  for word in category4.feature[:n]:\n",
        "    #print(word)\n",
        "    priznak = word.strip('x')\n",
        "    print(index_to_word[int(priznak)])"
      ],
      "execution_count": 0,
      "outputs": []
    },
    {
      "cell_type": "code",
      "metadata": {
        "id": "mErc_n6QRxLP",
        "colab_type": "code",
        "outputId": "26509f94-c741-419a-b30c-ed5fcd074879",
        "colab": {
          "base_uri": "https://localhost:8080/",
          "height": 816
        }
      },
      "source": [
        "analyze_features(lr_fit, 10)"
      ],
      "execution_count": 26,
      "outputs": [
        {
          "output_type": "stream",
          "text": [
            " comp.os.ms-windows.misc:\n",
            "windows\n",
            "file\n",
            "drivers\n",
            "using\n",
            "driver\n",
            "win\n",
            "files\n",
            "help\n",
            "microsoft\n",
            "with\n",
            "\n",
            " misc.forsale:\n",
            "sale\n",
            "wanted\n",
            "for\n",
            "shipping\n",
            "offer\n",
            "forsale\n",
            "interested\n",
            "distribution\n",
            "sell\n",
            "state\n",
            "\n",
            " rec.autos:\n",
            "car\n",
            "cars\n",
            "<BIAS>\n",
            "honda\n",
            "bmw\n",
            "testing\n",
            "integra\n",
            "automotive\n",
            "virginia\n",
            "just\n",
            "\n",
            " sci.space:\n",
            "space\n",
            "orbit\n",
            "nasa\n",
            "planets\n",
            "digex\n",
            "ryukoku\n",
            "sci\n",
            "pat\n",
            "jennise\n",
            "dgi\n"
          ],
          "name": "stdout"
        }
      ]
    },
    {
      "cell_type": "code",
      "metadata": {
        "id": "AU1SiQbkvm6T",
        "colab_type": "code",
        "colab": {
          "base_uri": "https://localhost:8080/",
          "height": 816
        },
        "outputId": "5b7372af-c59b-43e1-8c3d-95d94b15dd63"
      },
      "source": [
        "analyze_features(sgd_fit, 10)"
      ],
      "execution_count": 28,
      "outputs": [
        {
          "output_type": "stream",
          "text": [
            " comp.os.ms-windows.misc:\n",
            "ax\n",
            "windows\n",
            "file\n",
            "max\n",
            "drivers\n",
            "using\n",
            "driver\n",
            "files\n",
            "ftp\n",
            "win\n",
            "\n",
            " misc.forsale:\n",
            "sale\n",
            "wanted\n",
            "for\n",
            "offer\n",
            "shipping\n",
            "forsale\n",
            "sell\n",
            "call\n",
            "new\n",
            "interested\n",
            "\n",
            " rec.autos:\n",
            "car\n",
            "cars\n",
            "bmw\n",
            "honda\n",
            "dealer\n",
            "ford\n",
            "engine\n",
            "automotive\n",
            "toyota\n",
            "re\n",
            "\n",
            " sci.space:\n",
            "space\n",
            "orbit\n",
            "nasa\n",
            "pat\n",
            "digex\n",
            "alaska\n",
            "spacecraft\n",
            "launch\n",
            "sci\n",
            "earth\n"
          ],
          "name": "stdout"
        }
      ]
    },
    {
      "cell_type": "code",
      "metadata": {
        "id": "vkNHn7Suwqzh",
        "colab_type": "code",
        "colab": {
          "base_uri": "https://localhost:8080/",
          "height": 34
        },
        "outputId": "2b832071-a283-45a5-a5e2-a5b9f3b4e162"
      },
      "source": [
        "import statistics\n",
        "priznaki = rf_fit.feature_importances_\n",
        "real = [i for i in priznaki if i]\n",
        "real_mean = statistics.mean(real)\n",
        "print(len([i for i in real if i > 9*real_mean]))"
      ],
      "execution_count": 43,
      "outputs": [
        {
          "output_type": "stream",
          "text": [
            "40\n"
          ],
          "name": "stdout"
        }
      ]
    },
    {
      "cell_type": "code",
      "metadata": {
        "id": "jRV2zREV4Xx5",
        "colab_type": "code",
        "colab": {
          "base_uri": "https://localhost:8080/",
          "height": 697
        },
        "outputId": "3d9fed31-759d-4f37-f9a8-e0c12e34bf1c"
      },
      "source": [
        "rf_priznaki = []\n",
        "index_to_word = {v:k for k,v in vectorizer.vocabulary_.items()}\n",
        "for i in range(len(priznaki)):\n",
        "    if priznaki[i] > 9*real_mean:\n",
        "        rf_priznaki.append(index_to_word[i])\n",
        "rf_priznaki"
      ],
      "execution_count": 45,
      "outputs": [
        {
          "output_type": "execute_result",
          "data": {
            "text/plain": [
              "['anyone',\n",
              " 'article',\n",
              " 'asking',\n",
              " 'be',\n",
              " 'by',\n",
              " 'car',\n",
              " 'card',\n",
              " 'cars',\n",
              " 'condition',\n",
              " 'dos',\n",
              " 'engine',\n",
              " 'file',\n",
              " 'forsale',\n",
              " 'gov',\n",
              " 'how',\n",
              " 'in',\n",
              " 'is',\n",
              " 'moon',\n",
              " 'ms',\n",
              " 'my',\n",
              " 'of',\n",
              " 'offer',\n",
              " 'on',\n",
              " 'out',\n",
              " 'pat',\n",
              " 'please',\n",
              " 're',\n",
              " 'road',\n",
              " 'sale',\n",
              " 'sci',\n",
              " 'shipping',\n",
              " 'shuttle',\n",
              " 'space',\n",
              " 'spencer',\n",
              " 'thanks',\n",
              " 'that',\n",
              " 'the',\n",
              " 'use',\n",
              " 'windows',\n",
              " 'writes']"
            ]
          },
          "metadata": {
            "tags": []
          },
          "execution_count": 45
        }
      ]
    },
    {
      "cell_type": "code",
      "metadata": {
        "id": "ScZwsGRNF05w",
        "colab_type": "code",
        "colab": {
          "base_uri": "https://localhost:8080/",
          "height": 68
        },
        "outputId": "37288d30-5e59-489f-e4f2-34de92e9ae1c"
      },
      "source": [
        "import nltk\n",
        "nltk.download('stopwords')\n",
        "from nltk.corpus import stopwords\n",
        "stops = stopwords.words('english')\n",
        "best_vectorizer = sklearn.feature_extraction.text.CountVectorizer(stop_words=stops, min_df=0.005, max_df=0.4, max_features=5000)\n",
        "best_vect = best_vectorizer.fit_transform(train.data)\n",
        "X = best_vect\n",
        "y = train.target\n",
        "print(X.shape, y.shape)\n",
        "X, X_test, y, y_test = train_test_split(X, y, random_state=42)\n",
        "stratified_folds = StratifiedKFold(n_splits=5, shuffle=True, random_state=0)"
      ],
      "execution_count": 79,
      "outputs": [
        {
          "output_type": "stream",
          "text": [
            "[nltk_data] Downloading package stopwords to /root/nltk_data...\n",
            "[nltk_data]   Package stopwords is already up-to-date!\n",
            "(2363, 3692) (2363,)\n"
          ],
          "name": "stdout"
        }
      ]
    },
    {
      "cell_type": "code",
      "metadata": {
        "id": "5bS8a_VLNh-M",
        "colab_type": "code",
        "colab": {}
      },
      "source": [
        "lr = linear_model.LogisticRegression()\n",
        "rf = ensemble.RandomForestClassifier()\n",
        "sgd = SGDClassifier()\n",
        "parameter_grid_lr = {'class_weight' : ['balanced', None],\n",
        "                  'C' : [0.01, 0.1, 1.0, 10.0],\n",
        "                  'max_iter': [300,1000]\n",
        "                 }\n",
        "parameters_RandomForest = {'n_estimators': [5, 10, 15],\n",
        "                           'max_depth': [None, 5],\n",
        "                           'min_samples_split': [0.5, 1.0, 5]                          \n",
        "                }\n",
        "parameters_SGD = {'penalty': ['l2', 'l1'], \n",
        "                  'alpha': [0.0001, 0.001, 0.01, 0.1], \n",
        "                  'max_iter': [10000, 15000, 20000]\n",
        "                }"
      ],
      "execution_count": 0,
      "outputs": []
    },
    {
      "cell_type": "code",
      "metadata": {
        "id": "4-FCCzTDNyeM",
        "colab_type": "code",
        "colab": {
          "base_uri": "https://localhost:8080/",
          "height": 85
        },
        "outputId": "b126a929-9bdb-4d7c-c60a-1452660e1dc3"
      },
      "source": [
        "grid_search(lr, parameter_grid_lr)\n",
        "lr = linear_model.LogisticRegression(C=1.0, class_weight='balanced', max_iter=300)\n",
        "cv_train_model(lr)"
      ],
      "execution_count": 81,
      "outputs": [
        {
          "output_type": "stream",
          "text": [
            "Best score: 0.9330196158349308\n",
            "Best parameters: {'C': 0.1, 'class_weight': 'balanced', 'max_iter': 300}\n",
            "Cross Validation mean score: 0.9324015413998885\n",
            "Score on test data: 0.9555\n"
          ],
          "name": "stdout"
        }
      ]
    },
    {
      "cell_type": "code",
      "metadata": {
        "id": "FhuKQEFFatZr",
        "colab_type": "code",
        "colab": {
          "base_uri": "https://localhost:8080/",
          "height": 85
        },
        "outputId": "5121c6de-356b-4c76-ae44-7c8c9f34b620"
      },
      "source": [
        "grid_search(rf, parameters_RandomForest)\n",
        "rf = ensemble.RandomForestClassifier(max_depth=None, min_samples_split=5, n_estimators=15)\n",
        "cv_train_model(rf)"
      ],
      "execution_count": 82,
      "outputs": [
        {
          "output_type": "stream",
          "text": [
            "Best score: 0.9032599218411395\n",
            "Best parameters: {'max_depth': None, 'min_samples_split': 5, 'n_estimators': 15}\n",
            "Cross Validation mean score: 0.898468554738821\n",
            "Score on test data: 0.9218\n"
          ],
          "name": "stdout"
        }
      ]
    },
    {
      "cell_type": "code",
      "metadata": {
        "id": "XI4pefVlbWGy",
        "colab_type": "code",
        "colab": {
          "base_uri": "https://localhost:8080/",
          "height": 85
        },
        "outputId": "f06569cc-21e4-41d9-dac6-d00520f040cd"
      },
      "source": [
        "grid_search(sgd, parameters_SGD)\n",
        "sgd = SGDClassifier(alpha=0.1, max_iter=15000, penalty='l2')\n",
        "cv_train_model(sgd)"
      ],
      "execution_count": 83,
      "outputs": [
        {
          "output_type": "stream",
          "text": [
            "Best score: 0.9397463161567285\n",
            "Best parameters: {'alpha': 0.1, 'max_iter': 15000, 'penalty': 'l2'}\n",
            "Cross Validation mean score: 0.9419530456228178\n",
            "Score on test data: 0.9472\n"
          ],
          "name": "stdout"
        }
      ]
    }
  ]
}