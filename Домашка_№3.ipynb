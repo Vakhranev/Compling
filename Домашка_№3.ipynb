{
  "nbformat": 4,
  "nbformat_minor": 0,
  "metadata": {
    "colab": {
      "name": "Домашка №3.ipynb",
      "provenance": [],
      "authorship_tag": "ABX9TyMtKK/fB5sFMYAhUqJGJplD",
      "include_colab_link": true
    },
    "kernelspec": {
      "name": "python3",
      "display_name": "Python 3"
    }
  },
  "cells": [
    {
      "cell_type": "markdown",
      "metadata": {
        "id": "view-in-github",
        "colab_type": "text"
      },
      "source": [
        "<a href=\"https://colab.research.google.com/github/Vakhranev/Compling/blob/master/%D0%94%D0%BE%D0%BC%D0%B0%D1%88%D0%BA%D0%B0_%E2%84%963.ipynb\" target=\"_parent\"><img src=\"https://colab.research.google.com/assets/colab-badge.svg\" alt=\"Open In Colab\"/></a>"
      ]
    },
    {
      "cell_type": "code",
      "metadata": {
        "id": "WDKLQ7bJtgNS",
        "colab_type": "code",
        "outputId": "524390af-9e49-48a1-8f44-2fd091ffa70a",
        "colab": {
          "base_uri": "https://localhost:8080/",
          "height": 357
        }
      },
      "source": [
        "import sklearn\n",
        "from sklearn.datasets import fetch_20newsgroups\n",
        "data = fetch_20newsgroups()\n",
        "data.target_names"
      ],
      "execution_count": 17,
      "outputs": [
        {
          "output_type": "execute_result",
          "data": {
            "text/plain": [
              "['alt.atheism',\n",
              " 'comp.graphics',\n",
              " 'comp.os.ms-windows.misc',\n",
              " 'comp.sys.ibm.pc.hardware',\n",
              " 'comp.sys.mac.hardware',\n",
              " 'comp.windows.x',\n",
              " 'misc.forsale',\n",
              " 'rec.autos',\n",
              " 'rec.motorcycles',\n",
              " 'rec.sport.baseball',\n",
              " 'rec.sport.hockey',\n",
              " 'sci.crypt',\n",
              " 'sci.electronics',\n",
              " 'sci.med',\n",
              " 'sci.space',\n",
              " 'soc.religion.christian',\n",
              " 'talk.politics.guns',\n",
              " 'talk.politics.mideast',\n",
              " 'talk.politics.misc',\n",
              " 'talk.religion.misc']"
            ]
          },
          "metadata": {
            "tags": []
          },
          "execution_count": 17
        }
      ]
    },
    {
      "cell_type": "code",
      "metadata": {
        "id": "Xhma9G3BvtC8",
        "colab_type": "code",
        "colab": {}
      },
      "source": [
        "from sklearn.feature_extraction.text import CountVectorizer\n",
        "categories = ['comp.os.ms-windows.misc', 'misc.forsale', 'rec.autos', 'sci.space']\n",
        "train = fetch_20newsgroups(subset='train', categories=categories)\n",
        "test = fetch_20newsgroups(subset='test', categories=categories)\n",
        "vectorizer = CountVectorizer()\n",
        "vect = vectorizer.fit_transform(train.data)\n",
        "t_vect = vectorizer.fit_transform(test.data)"
      ],
      "execution_count": 0,
      "outputs": []
    },
    {
      "cell_type": "code",
      "metadata": {
        "id": "zzZ1IzJ8DLGd",
        "colab_type": "code",
        "colab": {}
      },
      "source": [
        "import pandas as pd\n",
        "from sklearn.model_selection import StratifiedKFold, train_test_split\n",
        "from statistics import mean\n",
        "\n",
        "X = vect\n",
        "y = train.target\n",
        "X, X_test, y, y_test = train_test_split(X, y, random_state=42)\n",
        "stratified_folds = StratifiedKFold(n_splits=5, shuffle=True, random_state=0)"
      ],
      "execution_count": 0,
      "outputs": []
    },
    {
      "cell_type": "code",
      "metadata": {
        "id": "DRgrEQnAPLa7",
        "colab_type": "code",
        "colab": {}
      },
      "source": [
        "from sklearn import linear_model\n",
        "from sklearn import ensemble\n",
        "from sklearn.linear_model import SGDClassifier\n",
        "lr = linear_model.LogisticRegression()\n",
        "rf = ensemble.RandomForestClassifier()\n",
        "sgd = SGDClassifier()\n",
        "parameter_grid_lr = {'class_weight' : ['balanced', None],\n",
        "                  'C' : [0.01, 0.1, 1.0, 10.0],\n",
        "                  'max_iter': [300,1000]\n",
        "                 }\n",
        "parameters_RandomForest = {'n_estimators': [5, 10, 15],\n",
        "                           'max_depth': [None, 5],\n",
        "                           'min_samples_split': [0.5, 1.0, 5]                          \n",
        "                }\n",
        "parameters_SGD = {'penalty': ['l2', 'l1'], \n",
        "                  'alpha': [0.0001, 0.001, 0.01, 0.1], \n",
        "                  'max_iter': [10000, 15000, 20000]\n",
        "                }"
      ],
      "execution_count": 0,
      "outputs": []
    },
    {
      "cell_type": "code",
      "metadata": {
        "id": "3-luxCa4Q09M",
        "colab_type": "code",
        "colab": {}
      },
      "source": [
        "from sklearn.model_selection import GridSearchCV\n",
        "def grid_search(model, parameter_grid):\n",
        "    grid_search = GridSearchCV(model, param_grid=parameter_grid, cv=stratified_folds, scoring='f1_macro')\n",
        "    grid_search.fit(X, y)\n",
        "    print('Best score: {}'.format(grid_search.best_score_))\n",
        "    print('Best parameters: {}'.format(grid_search.best_params_))"
      ],
      "execution_count": 0,
      "outputs": []
    },
    {
      "cell_type": "code",
      "metadata": {
        "id": "K-WM_fBCTqMM",
        "colab_type": "code",
        "outputId": "f835c5b9-5990-47e5-ad07-8d1863f00d0e",
        "colab": {
          "base_uri": "https://localhost:8080/",
          "height": 51
        }
      },
      "source": [
        "grid_search(lr, parameter_grid_lr)"
      ],
      "execution_count": 22,
      "outputs": [
        {
          "output_type": "stream",
          "text": [
            "Best score: 0.9342816081032079\n",
            "Best parameters: {'C': 1.0, 'class_weight': 'balanced', 'max_iter': 300}\n"
          ],
          "name": "stdout"
        }
      ]
    },
    {
      "cell_type": "code",
      "metadata": {
        "id": "oUJs-uJB5mDu",
        "colab_type": "code",
        "outputId": "7ebc5d3d-e24b-4514-e524-13c161d90cc6",
        "colab": {
          "base_uri": "https://localhost:8080/",
          "height": 51
        }
      },
      "source": [
        "grid_search(rf, parameters_RandomForest)"
      ],
      "execution_count": 23,
      "outputs": [
        {
          "output_type": "stream",
          "text": [
            "Best score: 0.8502862697811426\n",
            "Best parameters: {'max_depth': None, 'min_samples_split': 5, 'n_estimators': 15}\n"
          ],
          "name": "stdout"
        }
      ]
    },
    {
      "cell_type": "code",
      "metadata": {
        "id": "7h9yaTde1gMR",
        "colab_type": "code",
        "outputId": "4407a4fa-a193-4bcf-8d89-2d6b65e6c64a",
        "colab": {
          "base_uri": "https://localhost:8080/",
          "height": 51
        }
      },
      "source": [
        "grid_search(sgd, parameters_SGD)"
      ],
      "execution_count": 24,
      "outputs": [
        {
          "output_type": "stream",
          "text": [
            "Best score: 0.9442028847338488\n",
            "Best parameters: {'alpha': 0.1, 'max_iter': 15000, 'penalty': 'l2'}\n"
          ],
          "name": "stdout"
        }
      ]
    },
    {
      "cell_type": "code",
      "metadata": {
        "id": "jkUYU0cJ8uU9",
        "colab_type": "code",
        "colab": {}
      },
      "source": [
        "lr = linear_model.LogisticRegression(C=1.0, class_weight='balanced', max_iter=300)\n",
        "rf = ensemble.RandomForestClassifier(max_depth=None, min_samples_split=5, n_estimators=15)\n",
        "sgd = SGDClassifier(alpha=0.1, max_iter=15000, penalty='l2')"
      ],
      "execution_count": 0,
      "outputs": []
    },
    {
      "cell_type": "code",
      "metadata": {
        "id": "a6AbeZQKLz_j",
        "colab_type": "code",
        "colab": {}
      },
      "source": [
        "def cv_train_model(model):\n",
        "    valid_scores = []\n",
        "    for fold_n, (train_index, valid_index) in enumerate(stratified_folds.split(X, y)):\n",
        "        X_train, X_valid = X[train_index], X[valid_index]\n",
        "        y_train, y_valid = y[train_index], y[valid_index]\n",
        "        model.fit(X_train, y_train)      \n",
        "        y_pred_test = model.predict(X_test)\n",
        "        y_pred_valid = model.predict(X_valid)\n",
        "        valid_score = sklearn.metrics.f1_score(y_valid, y_pred_valid, average='macro')\n",
        "        valid_scores.append(valid_score)\n",
        "    test_score = sklearn.metrics.f1_score(y_test, y_pred_test, average='macro')\n",
        "    print('Cross Validation mean score:', mean(valid_scores))\n",
        "    print(\"Score on test data: {0:.4f}\".format(test_score))"
      ],
      "execution_count": 0,
      "outputs": []
    },
    {
      "cell_type": "code",
      "metadata": {
        "id": "VD_ZF5XZ1kZ1",
        "colab_type": "code",
        "outputId": "36874ca0-2a3d-41f4-b7ea-92dbc9b69e78",
        "colab": {
          "base_uri": "https://localhost:8080/",
          "height": 51
        }
      },
      "source": [
        "cv_train_model(lr)"
      ],
      "execution_count": 27,
      "outputs": [
        {
          "output_type": "stream",
          "text": [
            "Cross Validation mean score: 0.934281608103208\n",
            "Score on test data: 0.9469\n"
          ],
          "name": "stdout"
        }
      ]
    },
    {
      "cell_type": "code",
      "metadata": {
        "id": "h1vWviK2tRLo",
        "colab_type": "code",
        "colab": {
          "base_uri": "https://localhost:8080/",
          "height": 51
        },
        "outputId": "8c43dd1a-25b4-4fa9-d814-104dec762762"
      },
      "source": [
        "cv_train_model(rf)"
      ],
      "execution_count": 28,
      "outputs": [
        {
          "output_type": "stream",
          "text": [
            "Cross Validation mean score: 0.8492182100374583\n",
            "Score on test data: 0.8560\n"
          ],
          "name": "stdout"
        }
      ]
    },
    {
      "cell_type": "code",
      "metadata": {
        "id": "Ex7ru1-jtiV5",
        "colab_type": "code",
        "colab": {
          "base_uri": "https://localhost:8080/",
          "height": 51
        },
        "outputId": "2814a3cf-ce6f-45f9-ff57-348746794444"
      },
      "source": [
        "cv_train_model(sgd)"
      ],
      "execution_count": 29,
      "outputs": [
        {
          "output_type": "stream",
          "text": [
            "Cross Validation mean score: 0.9397395907518953\n",
            "Score on test data: 0.9589\n"
          ],
          "name": "stdout"
        }
      ]
    },
    {
      "cell_type": "code",
      "metadata": {
        "id": "fJDaB0CWKXHC",
        "colab_type": "code",
        "colab": {
          "base_uri": "https://localhost:8080/",
          "height": 204
        },
        "outputId": "0659f9bc-57f7-474c-c944-af43e26624ec"
      },
      "source": [
        "!pip install eli5"
      ],
      "execution_count": 30,
      "outputs": [
        {
          "output_type": "stream",
          "text": [
            "Requirement already satisfied: eli5 in /usr/local/lib/python3.6/dist-packages (0.10.1)\n",
            "Requirement already satisfied: jinja2 in /usr/local/lib/python3.6/dist-packages (from eli5) (2.11.2)\n",
            "Requirement already satisfied: scipy in /usr/local/lib/python3.6/dist-packages (from eli5) (1.4.1)\n",
            "Requirement already satisfied: attrs>16.0.0 in /usr/local/lib/python3.6/dist-packages (from eli5) (19.3.0)\n",
            "Requirement already satisfied: graphviz in /usr/local/lib/python3.6/dist-packages (from eli5) (0.10.1)\n",
            "Requirement already satisfied: six in /usr/local/lib/python3.6/dist-packages (from eli5) (1.12.0)\n",
            "Requirement already satisfied: tabulate>=0.7.7 in /usr/local/lib/python3.6/dist-packages (from eli5) (0.8.7)\n",
            "Requirement already satisfied: numpy>=1.9.0 in /usr/local/lib/python3.6/dist-packages (from eli5) (1.18.4)\n",
            "Requirement already satisfied: scikit-learn>=0.18 in /usr/local/lib/python3.6/dist-packages (from eli5) (0.22.2.post1)\n",
            "Requirement already satisfied: MarkupSafe>=0.23 in /usr/local/lib/python3.6/dist-packages (from jinja2->eli5) (1.1.1)\n",
            "Requirement already satisfied: joblib>=0.11 in /usr/local/lib/python3.6/dist-packages (from scikit-learn>=0.18->eli5) (0.15.1)\n"
          ],
          "name": "stdout"
        }
      ]
    },
    {
      "cell_type": "code",
      "metadata": {
        "id": "VV5uQTZT9P9C",
        "colab_type": "code",
        "colab": {}
      },
      "source": [
        "lr_fit = lr.fit(X,y)\n",
        "rf_fit = rf.fit(X,y)\n",
        "sgd_fit = sgd.fit(X,y)"
      ],
      "execution_count": 0,
      "outputs": []
    },
    {
      "cell_type": "code",
      "metadata": {
        "id": "wipMoPZryrWm",
        "colab_type": "code",
        "colab": {}
      },
      "source": [
        "import eli5  \n",
        "import pandas as pd\n",
        "def analyze_features(model, n):\n",
        "  count_vect = CountVectorizer()\n",
        "  index_to_word = {v:k for k,v in vectorizer.vocabulary_.items()}\n",
        "  df = eli5.formatters.as_dataframe.explain_weights_df(model)\n",
        "  category1 = df[df['target']==0]\n",
        "  category2 = df[df['target']==1]\n",
        "  category3 = df[df['target']==2]\n",
        "  category4 = df[df['target']==3]\n",
        "  print('comp.os.ms-windows.misc:')\n",
        "  for word in category1.feature[:n]:\n",
        "    #print(word)\n",
        "    priznak = word.strip('x')\n",
        "    print(index_to_word[int(priznak)])\n",
        "  print('misc.forsale:')\n",
        "  for word in category2.feature[:n]:\n",
        "    #print(word)\n",
        "    priznak = word.strip('x')\n",
        "    print(index_to_word[int(priznak)])\n",
        "  print('rec.autos')\n",
        "  for word in category3.feature[:n]:\n",
        "    #print(word)\n",
        "    priznak = word.strip('x')\n",
        "    print(index_to_word[int(priznak)])\n",
        "  print('sci.space:')\n",
        "  for word in category4.feature[:n]:\n",
        "    #print(word)\n",
        "    priznak = word.strip('x')\n",
        "    print(index_to_word[int(priznak)])"
      ],
      "execution_count": 0,
      "outputs": []
    },
    {
      "cell_type": "code",
      "metadata": {
        "id": "mErc_n6QRxLP",
        "colab_type": "code",
        "colab": {
          "base_uri": "https://localhost:8080/",
          "height": 299
        },
        "outputId": "107f608b-fe40-4062-b739-f1f81ad9ab78"
      },
      "source": [
        "analyze_features(lr_fit, 10)"
      ],
      "execution_count": 72,
      "outputs": [
        {
          "output_type": "stream",
          "text": [
            "comp.os.ms-windows.misc:\n"
          ],
          "name": "stdout"
        },
        {
          "output_type": "error",
          "ename": "KeyError",
          "evalue": "ignored",
          "traceback": [
            "\u001b[0;31m---------------------------------------------------------------------------\u001b[0m",
            "\u001b[0;31mKeyError\u001b[0m                                  Traceback (most recent call last)",
            "\u001b[0;32m<ipython-input-72-3b8f48f0ea1b>\u001b[0m in \u001b[0;36m<module>\u001b[0;34m()\u001b[0m\n\u001b[0;32m----> 1\u001b[0;31m \u001b[0manalyze_features\u001b[0m\u001b[0;34m(\u001b[0m\u001b[0mlr_fit\u001b[0m\u001b[0;34m,\u001b[0m \u001b[0;36m10\u001b[0m\u001b[0;34m)\u001b[0m\u001b[0;34m\u001b[0m\u001b[0;34m\u001b[0m\u001b[0m\n\u001b[0m",
            "\u001b[0;32m<ipython-input-71-e9fcb8f70b30>\u001b[0m in \u001b[0;36manalyze_features\u001b[0;34m(model, n)\u001b[0m\n\u001b[1;32m     13\u001b[0m     \u001b[0;31m#print(word)\u001b[0m\u001b[0;34m\u001b[0m\u001b[0;34m\u001b[0m\u001b[0;34m\u001b[0m\u001b[0m\n\u001b[1;32m     14\u001b[0m     \u001b[0mpriznak\u001b[0m \u001b[0;34m=\u001b[0m \u001b[0mword\u001b[0m\u001b[0;34m.\u001b[0m\u001b[0mstrip\u001b[0m\u001b[0;34m(\u001b[0m\u001b[0;34m'x'\u001b[0m\u001b[0;34m)\u001b[0m\u001b[0;34m\u001b[0m\u001b[0;34m\u001b[0m\u001b[0m\n\u001b[0;32m---> 15\u001b[0;31m     \u001b[0mprint\u001b[0m\u001b[0;34m(\u001b[0m\u001b[0mindex_to_word\u001b[0m\u001b[0;34m[\u001b[0m\u001b[0mint\u001b[0m\u001b[0;34m(\u001b[0m\u001b[0mpriznak\u001b[0m\u001b[0;34m)\u001b[0m\u001b[0;34m]\u001b[0m\u001b[0;34m)\u001b[0m\u001b[0;34m\u001b[0m\u001b[0;34m\u001b[0m\u001b[0m\n\u001b[0m\u001b[1;32m     16\u001b[0m   \u001b[0mprint\u001b[0m\u001b[0;34m(\u001b[0m\u001b[0;34m'misc.forsale:'\u001b[0m\u001b[0;34m)\u001b[0m\u001b[0;34m\u001b[0m\u001b[0;34m\u001b[0m\u001b[0m\n\u001b[1;32m     17\u001b[0m   \u001b[0;32mfor\u001b[0m \u001b[0mword\u001b[0m \u001b[0;32min\u001b[0m \u001b[0mcategory2\u001b[0m\u001b[0;34m.\u001b[0m\u001b[0mfeature\u001b[0m\u001b[0;34m[\u001b[0m\u001b[0;34m:\u001b[0m\u001b[0mn\u001b[0m\u001b[0;34m]\u001b[0m\u001b[0;34m:\u001b[0m\u001b[0;34m\u001b[0m\u001b[0;34m\u001b[0m\u001b[0m\n",
            "\u001b[0;31mKeyError\u001b[0m: 60354"
          ]
        }
      ]
    }
  ]
}