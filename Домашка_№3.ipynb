{
  "nbformat": 4,
  "nbformat_minor": 0,
  "metadata": {
    "colab": {
      "name": "Домашка №3.ipynb",
      "provenance": [],
      "authorship_tag": "ABX9TyOkFXeLX8KJFAWTm8Bts3Up",
      "include_colab_link": true
    },
    "kernelspec": {
      "name": "python3",
      "display_name": "Python 3"
    }
  },
  "cells": [
    {
      "cell_type": "markdown",
      "metadata": {
        "id": "view-in-github",
        "colab_type": "text"
      },
      "source": [
        "<a href=\"https://colab.research.google.com/github/Vakhranev/Compling/blob/master/%D0%94%D0%BE%D0%BC%D0%B0%D1%88%D0%BA%D0%B0_%E2%84%963.ipynb\" target=\"_parent\"><img src=\"https://colab.research.google.com/assets/colab-badge.svg\" alt=\"Open In Colab\"/></a>"
      ]
    },
    {
      "cell_type": "code",
      "metadata": {
        "id": "WDKLQ7bJtgNS",
        "colab_type": "code",
        "outputId": "977afd38-c944-4ed8-d9a7-dce4a9260185",
        "colab": {
          "base_uri": "https://localhost:8080/",
          "height": 357
        }
      },
      "source": [
        "import sklearn\n",
        "from sklearn.datasets import fetch_20newsgroups\n",
        "data = fetch_20newsgroups()\n",
        "data.target_names"
      ],
      "execution_count": 181,
      "outputs": [
        {
          "output_type": "execute_result",
          "data": {
            "text/plain": [
              "['alt.atheism',\n",
              " 'comp.graphics',\n",
              " 'comp.os.ms-windows.misc',\n",
              " 'comp.sys.ibm.pc.hardware',\n",
              " 'comp.sys.mac.hardware',\n",
              " 'comp.windows.x',\n",
              " 'misc.forsale',\n",
              " 'rec.autos',\n",
              " 'rec.motorcycles',\n",
              " 'rec.sport.baseball',\n",
              " 'rec.sport.hockey',\n",
              " 'sci.crypt',\n",
              " 'sci.electronics',\n",
              " 'sci.med',\n",
              " 'sci.space',\n",
              " 'soc.religion.christian',\n",
              " 'talk.politics.guns',\n",
              " 'talk.politics.mideast',\n",
              " 'talk.politics.misc',\n",
              " 'talk.religion.misc']"
            ]
          },
          "metadata": {
            "tags": []
          },
          "execution_count": 181
        }
      ]
    },
    {
      "cell_type": "code",
      "metadata": {
        "id": "Xhma9G3BvtC8",
        "colab_type": "code",
        "outputId": "104a5b26-1d17-4343-e692-f8536e97dea2",
        "colab": {
          "base_uri": "https://localhost:8080/",
          "height": 34
        }
      },
      "source": [
        "from sklearn.feature_extraction.text import CountVectorizer\n",
        "categories = ['comp.os.ms-windows.misc', 'misc.forsale', 'rec.autos', 'sci.space']\n",
        "train = fetch_20newsgroups(subset='train', categories=categories)\n",
        "test = fetch_20newsgroups(subset='test', categories=categories)\n",
        "vectorizer = CountVectorizer()\n",
        "vect = vectorizer.fit_transform(train.data)\n",
        "print(vect.shape)"
      ],
      "execution_count": 182,
      "outputs": [
        {
          "output_type": "stream",
          "text": [
            "(2363, 63636)\n"
          ],
          "name": "stdout"
        }
      ]
    },
    {
      "cell_type": "code",
      "metadata": {
        "id": "zzZ1IzJ8DLGd",
        "colab_type": "code",
        "outputId": "8e8e5010-833d-46f6-fced-7221f9fb9b47",
        "colab": {
          "base_uri": "https://localhost:8080/",
          "height": 119
        }
      },
      "source": [
        "import pandas as pd\n",
        "import numpy as np\n",
        "from sklearn.model_selection import StratifiedKFold, train_test_split\n",
        "from statistics import mean\n",
        "\n",
        "X = vect\n",
        "y = train.target\n",
        "print(X.shape, y.shape)\n",
        "\n",
        "y0 = []\n",
        "y1 = []\n",
        "y2 = []\n",
        "y3 = []\n",
        "\n",
        "def cats(y, yn, n):\n",
        "  for i in y:\n",
        "    if i == n:\n",
        "      i=1\n",
        "      yn.append(i)\n",
        "    else:\n",
        "      i=0\n",
        "      yn.append(i)\n",
        "\n",
        "cats(y,y0,0)\n",
        "cats(y,y1,1)\n",
        "cats(y,y2,2)\n",
        "cats(y,y3,3)\n",
        "\n",
        "y0 = np.array(y0)\n",
        "y1 = np.array(y1)\n",
        "y2 = np.array(y2)\n",
        "y3 = np.array(y3)\n",
        "\n",
        "print(X.shape, len(y0))\n",
        "print(X.shape, len(y1))\n",
        "print(X.shape, len(y2))\n",
        "print(X.shape, len(y3))\n",
        "print(type(y0))\n",
        "\n",
        "X0, X_test0, y0, y_test0 = train_test_split(X, y0, random_state=42)\n",
        "X1, X_test1, y1, y_test1 = train_test_split(X, y1, random_state=42)\n",
        "X2, X_test2, y2, y_test2 = train_test_split(X, y2, random_state=42)\n",
        "X3, X_test3, y3, y_test3 = train_test_split(X, y3, random_state=42)\n",
        "X, X_test, y, y_test = train_test_split(X, y, random_state=42)\n",
        "stratified_folds = StratifiedKFold(n_splits=5, shuffle=True, random_state=0)"
      ],
      "execution_count": 183,
      "outputs": [
        {
          "output_type": "stream",
          "text": [
            "(2363, 63636) (2363,)\n",
            "(2363, 63636) 2363\n",
            "(2363, 63636) 2363\n",
            "(2363, 63636) 2363\n",
            "(2363, 63636) 2363\n",
            "<class 'numpy.ndarray'>\n"
          ],
          "name": "stdout"
        }
      ]
    },
    {
      "cell_type": "code",
      "metadata": {
        "id": "DRgrEQnAPLa7",
        "colab_type": "code",
        "colab": {}
      },
      "source": [
        "from sklearn import linear_model\n",
        "from sklearn import ensemble\n",
        "from sklearn.linear_model import SGDClassifier\n",
        "lr = linear_model.LogisticRegression()\n",
        "rf = ensemble.RandomForestClassifier()\n",
        "sgd = SGDClassifier()\n",
        "parameter_grid_lr = {'class_weight' : ['balanced', None],\n",
        "                  'C' : [0.01, 0.1, 1.0, 10.0],\n",
        "                  'max_iter': [300,1000]\n",
        "                 }\n",
        "parameters_RandomForest = {'n_estimators': [5, 10, 15],\n",
        "                           'max_depth': [None, 5],\n",
        "                           'min_samples_split': [0.5, 1.0, 5]                          \n",
        "                }\n",
        "parameters_SGD = {'penalty': ['l2', 'l1'], \n",
        "                  'alpha': [0.0001, 0.001, 0.01, 0.1], \n",
        "                  'max_iter': [10000, 15000, 20000]\n",
        "                }"
      ],
      "execution_count": 0,
      "outputs": []
    },
    {
      "cell_type": "code",
      "metadata": {
        "id": "3-luxCa4Q09M",
        "colab_type": "code",
        "colab": {}
      },
      "source": [
        "from sklearn.model_selection import GridSearchCV\n",
        "def grid_search(model, parameter_grid, xn, yn):\n",
        "    grid_search = GridSearchCV(model, param_grid=parameter_grid, cv=stratified_folds, scoring='f1_macro')\n",
        "    grid_search.fit(xn, yn)\n",
        "    print('Best score: {}'.format(grid_search.best_score_))\n",
        "    print('Best parameters: {}'.format(grid_search.best_params_))\n",
        "    model = grid_search"
      ],
      "execution_count": 0,
      "outputs": []
    },
    {
      "cell_type": "code",
      "metadata": {
        "id": "K-WM_fBCTqMM",
        "colab_type": "code",
        "outputId": "2c09d1e2-cbd1-472c-fe47-5c43ace7d71e",
        "colab": {
          "base_uri": "https://localhost:8080/",
          "height": 51
        }
      },
      "source": [
        "grid_search(lr, parameter_grid_lr, X, y)"
      ],
      "execution_count": 186,
      "outputs": [
        {
          "output_type": "stream",
          "text": [
            "Best score: 0.9342816081032079\n",
            "Best parameters: {'C': 1.0, 'class_weight': 'balanced', 'max_iter': 300}\n"
          ],
          "name": "stdout"
        }
      ]
    },
    {
      "cell_type": "code",
      "metadata": {
        "id": "oUJs-uJB5mDu",
        "colab_type": "code",
        "outputId": "7592a847-192a-4cbf-f1b5-26343a8eefb2",
        "colab": {
          "base_uri": "https://localhost:8080/",
          "height": 51
        }
      },
      "source": [
        "grid_search(rf, parameters_RandomForest, X, y)"
      ],
      "execution_count": 187,
      "outputs": [
        {
          "output_type": "stream",
          "text": [
            "Best score: 0.856232881214253\n",
            "Best parameters: {'max_depth': None, 'min_samples_split': 5, 'n_estimators': 15}\n"
          ],
          "name": "stdout"
        }
      ]
    },
    {
      "cell_type": "code",
      "metadata": {
        "id": "EPC21mF22m3q",
        "colab_type": "code",
        "colab": {
          "base_uri": "https://localhost:8080/",
          "height": 51
        },
        "outputId": "310f59d5-3708-429f-90a8-b57c5d3994f5"
      },
      "source": [
        "rf = ensemble.RandomForestClassifier()\n",
        "grid_search(rf, parameters_RandomForest, X0, y0)\n",
        "rf_fit0 = rf.fit(X0,y0)"
      ],
      "execution_count": 188,
      "outputs": [
        {
          "output_type": "stream",
          "text": [
            "Best score: 0.8664203737076879\n",
            "Best parameters: {'max_depth': None, 'min_samples_split': 5, 'n_estimators': 15}\n"
          ],
          "name": "stdout"
        }
      ]
    },
    {
      "cell_type": "code",
      "metadata": {
        "id": "7cpAECyo2s9e",
        "colab_type": "code",
        "colab": {
          "base_uri": "https://localhost:8080/",
          "height": 51
        },
        "outputId": "22106834-1808-4509-c27e-878ffb403ff3"
      },
      "source": [
        "rf = ensemble.RandomForestClassifier()\n",
        "grid_search(rf, parameters_RandomForest, X1, y1)\n",
        "rf_fit1 = rf.fit(X1,y1)"
      ],
      "execution_count": 189,
      "outputs": [
        {
          "output_type": "stream",
          "text": [
            "Best score: 0.8345514686405819\n",
            "Best parameters: {'max_depth': None, 'min_samples_split': 5, 'n_estimators': 15}\n"
          ],
          "name": "stdout"
        }
      ]
    },
    {
      "cell_type": "code",
      "metadata": {
        "id": "1H2unVUd2wcn",
        "colab_type": "code",
        "colab": {
          "base_uri": "https://localhost:8080/",
          "height": 51
        },
        "outputId": "cf7cf1e0-16b6-483a-b892-737ce33955c3"
      },
      "source": [
        "rf = ensemble.RandomForestClassifier()\n",
        "grid_search(rf, parameters_RandomForest, X2, y2)\n",
        "rf_fit2 = rf.fit(X2,y2)"
      ],
      "execution_count": 190,
      "outputs": [
        {
          "output_type": "stream",
          "text": [
            "Best score: 0.8552282836868527\n",
            "Best parameters: {'max_depth': None, 'min_samples_split': 5, 'n_estimators': 15}\n"
          ],
          "name": "stdout"
        }
      ]
    },
    {
      "cell_type": "code",
      "metadata": {
        "id": "DzqZIUO-27eA",
        "colab_type": "code",
        "colab": {
          "base_uri": "https://localhost:8080/",
          "height": 51
        },
        "outputId": "f0ab4c1d-bf60-4af8-bbf1-98b63a2eef26"
      },
      "source": [
        "rf = ensemble.RandomForestClassifier()\n",
        "grid_search(rf, parameters_RandomForest, X3, y3)\n",
        "rf_fit3 = rf.fit(X3,y3)"
      ],
      "execution_count": 191,
      "outputs": [
        {
          "output_type": "stream",
          "text": [
            "Best score: 0.9044151968527536\n",
            "Best parameters: {'max_depth': None, 'min_samples_split': 5, 'n_estimators': 15}\n"
          ],
          "name": "stdout"
        }
      ]
    },
    {
      "cell_type": "code",
      "metadata": {
        "id": "7h9yaTde1gMR",
        "colab_type": "code",
        "outputId": "35ba70ef-0ec7-4b04-ca9f-01279c654c4c",
        "colab": {
          "base_uri": "https://localhost:8080/",
          "height": 51
        }
      },
      "source": [
        "grid_search(sgd, parameters_SGD, X, y)"
      ],
      "execution_count": 192,
      "outputs": [
        {
          "output_type": "stream",
          "text": [
            "Best score: 0.9414032690366728\n",
            "Best parameters: {'alpha': 0.1, 'max_iter': 10000, 'penalty': 'l2'}\n"
          ],
          "name": "stdout"
        }
      ]
    },
    {
      "cell_type": "code",
      "metadata": {
        "id": "jkUYU0cJ8uU9",
        "colab_type": "code",
        "colab": {}
      },
      "source": [
        "lr = linear_model.LogisticRegression(C=1.0, class_weight='balanced', max_iter=300)\n",
        "rf = ensemble.RandomForestClassifier(max_depth=None, min_samples_split=5, n_estimators=15)\n",
        "sgd = SGDClassifier(alpha=0.1, max_iter=15000, penalty='l2')"
      ],
      "execution_count": 0,
      "outputs": []
    },
    {
      "cell_type": "code",
      "metadata": {
        "id": "a6AbeZQKLz_j",
        "colab_type": "code",
        "colab": {}
      },
      "source": [
        "def cv_train_model(model, xn, yn):\n",
        "    valid_scores = []\n",
        "    for fold_n, (train_index, valid_index) in enumerate(stratified_folds.split(xn, yn)):\n",
        "        X_train, X_valid = xn[train_index], xn[valid_index]\n",
        "        y_train, y_valid = yn[train_index], yn[valid_index]\n",
        "        model.fit(X_train, y_train)      \n",
        "        y_pred_test = model.predict(X_test)\n",
        "        y_pred_valid = model.predict(X_valid)\n",
        "        valid_score = sklearn.metrics.f1_score(y_valid, y_pred_valid, average='macro')\n",
        "        valid_scores.append(valid_score)\n",
        "    test_score = sklearn.metrics.f1_score(y_test, y_pred_test, average='macro')\n",
        "    print('Cross Validation mean score:', mean(valid_scores))\n",
        "    print(\"Score on test data: {0:.4f}\".format(test_score))"
      ],
      "execution_count": 0,
      "outputs": []
    },
    {
      "cell_type": "code",
      "metadata": {
        "id": "VD_ZF5XZ1kZ1",
        "colab_type": "code",
        "outputId": "e2d3a6c7-4028-4b7b-88bc-85c3b066a445",
        "colab": {
          "base_uri": "https://localhost:8080/",
          "height": 51
        }
      },
      "source": [
        "cv_train_model(lr, X, y)"
      ],
      "execution_count": 197,
      "outputs": [
        {
          "output_type": "stream",
          "text": [
            "Cross Validation mean score: 0.934281608103208\n",
            "Score on test data: 0.9469\n"
          ],
          "name": "stdout"
        }
      ]
    },
    {
      "cell_type": "code",
      "metadata": {
        "id": "h1vWviK2tRLo",
        "colab_type": "code",
        "outputId": "97e198ad-e904-4d0a-d0d0-08a182f30764",
        "colab": {
          "base_uri": "https://localhost:8080/",
          "height": 51
        }
      },
      "source": [
        "cv_train_model(rf, X, y)"
      ],
      "execution_count": 198,
      "outputs": [
        {
          "output_type": "stream",
          "text": [
            "Cross Validation mean score: 0.8479977106370868\n",
            "Score on test data: 0.8729\n"
          ],
          "name": "stdout"
        }
      ]
    },
    {
      "cell_type": "code",
      "metadata": {
        "id": "Vdbvi_J75JZp",
        "colab_type": "code",
        "colab": {
          "base_uri": "https://localhost:8080/",
          "height": 51
        },
        "outputId": "7d9e4ccd-899c-4726-8b13-567c42ce41c8"
      },
      "source": [
        "cv_train_model(rf, X0, y0)"
      ],
      "execution_count": 199,
      "outputs": [
        {
          "output_type": "stream",
          "text": [
            "Cross Validation mean score: 0.8642382184343343\n",
            "Score on test data: 0.0490\n"
          ],
          "name": "stdout"
        }
      ]
    },
    {
      "cell_type": "code",
      "metadata": {
        "id": "n-_AQeiE8Lcz",
        "colab_type": "code",
        "colab": {
          "base_uri": "https://localhost:8080/",
          "height": 51
        },
        "outputId": "6ce599b5-b4d8-4a1a-a778-bf74854b186a"
      },
      "source": [
        "cv_train_model(rf, X1, y1)"
      ],
      "execution_count": 200,
      "outputs": [
        {
          "output_type": "stream",
          "text": [
            "Cross Validation mean score: 0.8414429639328668\n",
            "Score on test data: 0.3088\n"
          ],
          "name": "stdout"
        }
      ]
    },
    {
      "cell_type": "code",
      "metadata": {
        "id": "fgM0RFp68OXq",
        "colab_type": "code",
        "colab": {
          "base_uri": "https://localhost:8080/",
          "height": 51
        },
        "outputId": "1e99a808-3049-4249-f499-ef0ee03fc391"
      },
      "source": [
        "cv_train_model(rf, X2, y2)"
      ],
      "execution_count": 201,
      "outputs": [
        {
          "output_type": "stream",
          "text": [
            "Cross Validation mean score: 0.8597081297266221\n",
            "Score on test data: 0.1162\n"
          ],
          "name": "stdout"
        }
      ]
    },
    {
      "cell_type": "code",
      "metadata": {
        "id": "YcoLGeC58RQF",
        "colab_type": "code",
        "colab": {
          "base_uri": "https://localhost:8080/",
          "height": 51
        },
        "outputId": "98616ac6-6bd5-4120-cebc-0cefea8f8da4"
      },
      "source": [
        "cv_train_model(rf, X3, y3)"
      ],
      "execution_count": 202,
      "outputs": [
        {
          "output_type": "stream",
          "text": [
            "Cross Validation mean score: 0.9021665604092707\n",
            "Score on test data: 0.1164\n"
          ],
          "name": "stdout"
        }
      ]
    },
    {
      "cell_type": "code",
      "metadata": {
        "id": "Ex7ru1-jtiV5",
        "colab_type": "code",
        "outputId": "60bc1bb0-92ed-4206-ff3b-20a62ba7fb77",
        "colab": {
          "base_uri": "https://localhost:8080/",
          "height": 51
        }
      },
      "source": [
        "cv_train_model(sgd, X, y)"
      ],
      "execution_count": 203,
      "outputs": [
        {
          "output_type": "stream",
          "text": [
            "Cross Validation mean score: 0.9413700592643611\n",
            "Score on test data: 0.9554\n"
          ],
          "name": "stdout"
        }
      ]
    },
    {
      "cell_type": "code",
      "metadata": {
        "id": "fJDaB0CWKXHC",
        "colab_type": "code",
        "outputId": "13f4e6d8-3134-4ffd-a5aa-b41e98603b19",
        "colab": {
          "base_uri": "https://localhost:8080/",
          "height": 204
        }
      },
      "source": [
        "!pip install eli5"
      ],
      "execution_count": 204,
      "outputs": [
        {
          "output_type": "stream",
          "text": [
            "Requirement already satisfied: eli5 in /usr/local/lib/python3.6/dist-packages (0.10.1)\n",
            "Requirement already satisfied: jinja2 in /usr/local/lib/python3.6/dist-packages (from eli5) (2.11.2)\n",
            "Requirement already satisfied: numpy>=1.9.0 in /usr/local/lib/python3.6/dist-packages (from eli5) (1.18.4)\n",
            "Requirement already satisfied: tabulate>=0.7.7 in /usr/local/lib/python3.6/dist-packages (from eli5) (0.8.7)\n",
            "Requirement already satisfied: scikit-learn>=0.18 in /usr/local/lib/python3.6/dist-packages (from eli5) (0.22.2.post1)\n",
            "Requirement already satisfied: attrs>16.0.0 in /usr/local/lib/python3.6/dist-packages (from eli5) (19.3.0)\n",
            "Requirement already satisfied: scipy in /usr/local/lib/python3.6/dist-packages (from eli5) (1.4.1)\n",
            "Requirement already satisfied: six in /usr/local/lib/python3.6/dist-packages (from eli5) (1.12.0)\n",
            "Requirement already satisfied: graphviz in /usr/local/lib/python3.6/dist-packages (from eli5) (0.10.1)\n",
            "Requirement already satisfied: MarkupSafe>=0.23 in /usr/local/lib/python3.6/dist-packages (from jinja2->eli5) (1.1.1)\n",
            "Requirement already satisfied: joblib>=0.11 in /usr/local/lib/python3.6/dist-packages (from scikit-learn>=0.18->eli5) (0.15.1)\n"
          ],
          "name": "stdout"
        }
      ]
    },
    {
      "cell_type": "code",
      "metadata": {
        "id": "VV5uQTZT9P9C",
        "colab_type": "code",
        "colab": {}
      },
      "source": [
        "lr_fit = lr.fit(X,y)\n",
        "rf_fit = rf.fit(X,y)\n",
        "sgd_fit = sgd.fit(X,y)"
      ],
      "execution_count": 0,
      "outputs": []
    },
    {
      "cell_type": "code",
      "metadata": {
        "id": "SSQxt1-MFbtz",
        "colab_type": "code",
        "colab": {
          "base_uri": "https://localhost:8080/",
          "height": 51
        },
        "outputId": "ea3edd68-1c73-4fad-ee41-a461856c8878"
      },
      "source": [
        "rf.feature_importances_"
      ],
      "execution_count": 206,
      "outputs": [
        {
          "output_type": "execute_result",
          "data": {
            "text/plain": [
              "array([0.00036188, 0.00010315, 0.        , ..., 0.        , 0.        ,\n",
              "       0.        ])"
            ]
          },
          "metadata": {
            "tags": []
          },
          "execution_count": 206
        }
      ]
    },
    {
      "cell_type": "code",
      "metadata": {
        "id": "YlQyvJKGFjtO",
        "colab_type": "code",
        "colab": {
          "base_uri": "https://localhost:8080/",
          "height": 51
        },
        "outputId": "b3e25131-0b12-4c1e-9657-0fa8fef52414"
      },
      "source": [
        "rf_fit1.feature_importances_"
      ],
      "execution_count": 207,
      "outputs": [
        {
          "output_type": "execute_result",
          "data": {
            "text/plain": [
              "array([0.00263889, 0.00020046, 0.        , ..., 0.        , 0.        ,\n",
              "       0.        ])"
            ]
          },
          "metadata": {
            "tags": []
          },
          "execution_count": 207
        }
      ]
    },
    {
      "cell_type": "code",
      "metadata": {
        "id": "kkohwCjr73A1",
        "colab_type": "code",
        "colab": {
          "base_uri": "https://localhost:8080/",
          "height": 419
        },
        "outputId": "04c49675-c212-4319-9003-6ee9c094488f"
      },
      "source": [
        "import eli5  \n",
        "df = eli5.formatters.as_dataframe.explain_weights_df(lr_fit)\n",
        "df"
      ],
      "execution_count": 208,
      "outputs": [
        {
          "output_type": "execute_result",
          "data": {
            "text/html": [
              "<div>\n",
              "<style scoped>\n",
              "    .dataframe tbody tr th:only-of-type {\n",
              "        vertical-align: middle;\n",
              "    }\n",
              "\n",
              "    .dataframe tbody tr th {\n",
              "        vertical-align: top;\n",
              "    }\n",
              "\n",
              "    .dataframe thead th {\n",
              "        text-align: right;\n",
              "    }\n",
              "</style>\n",
              "<table border=\"1\" class=\"dataframe\">\n",
              "  <thead>\n",
              "    <tr style=\"text-align: right;\">\n",
              "      <th></th>\n",
              "      <th>target</th>\n",
              "      <th>feature</th>\n",
              "      <th>weight</th>\n",
              "    </tr>\n",
              "  </thead>\n",
              "  <tbody>\n",
              "    <tr>\n",
              "      <th>0</th>\n",
              "      <td>0</td>\n",
              "      <td>x60354</td>\n",
              "      <td>1.289650</td>\n",
              "    </tr>\n",
              "    <tr>\n",
              "      <th>1</th>\n",
              "      <td>0</td>\n",
              "      <td>x26825</td>\n",
              "      <td>0.535892</td>\n",
              "    </tr>\n",
              "    <tr>\n",
              "      <th>2</th>\n",
              "      <td>0</td>\n",
              "      <td>x23870</td>\n",
              "      <td>0.461181</td>\n",
              "    </tr>\n",
              "    <tr>\n",
              "      <th>3</th>\n",
              "      <td>0</td>\n",
              "      <td>x57860</td>\n",
              "      <td>0.391514</td>\n",
              "    </tr>\n",
              "    <tr>\n",
              "      <th>4</th>\n",
              "      <td>0</td>\n",
              "      <td>x23869</td>\n",
              "      <td>0.388154</td>\n",
              "    </tr>\n",
              "    <tr>\n",
              "      <th>...</th>\n",
              "      <td>...</td>\n",
              "      <td>...</td>\n",
              "      <td>...</td>\n",
              "    </tr>\n",
              "    <tr>\n",
              "      <th>235295</th>\n",
              "      <td>3</td>\n",
              "      <td>x60449</td>\n",
              "      <td>-0.293450</td>\n",
              "    </tr>\n",
              "    <tr>\n",
              "      <th>235296</th>\n",
              "      <td>3</td>\n",
              "      <td>x51060</td>\n",
              "      <td>-0.342558</td>\n",
              "    </tr>\n",
              "    <tr>\n",
              "      <th>235297</th>\n",
              "      <td>3</td>\n",
              "      <td>x19137</td>\n",
              "      <td>-0.415903</td>\n",
              "    </tr>\n",
              "    <tr>\n",
              "      <th>235298</th>\n",
              "      <td>3</td>\n",
              "      <td>x60354</td>\n",
              "      <td>-0.432991</td>\n",
              "    </tr>\n",
              "    <tr>\n",
              "      <th>235299</th>\n",
              "      <td>3</td>\n",
              "      <td>&lt;BIAS&gt;</td>\n",
              "      <td>-0.612893</td>\n",
              "    </tr>\n",
              "  </tbody>\n",
              "</table>\n",
              "<p>235300 rows × 3 columns</p>\n",
              "</div>"
            ],
            "text/plain": [
              "        target feature    weight\n",
              "0            0  x60354  1.289650\n",
              "1            0  x26825  0.535892\n",
              "2            0  x23870  0.461181\n",
              "3            0  x57860  0.391514\n",
              "4            0  x23869  0.388154\n",
              "...        ...     ...       ...\n",
              "235295       3  x60449 -0.293450\n",
              "235296       3  x51060 -0.342558\n",
              "235297       3  x19137 -0.415903\n",
              "235298       3  x60354 -0.432991\n",
              "235299       3  <BIAS> -0.612893\n",
              "\n",
              "[235300 rows x 3 columns]"
            ]
          },
          "metadata": {
            "tags": []
          },
          "execution_count": 208
        }
      ]
    },
    {
      "cell_type": "code",
      "metadata": {
        "id": "J4bSnuGQ7qj2",
        "colab_type": "code",
        "colab": {
          "base_uri": "https://localhost:8080/",
          "height": 204
        },
        "outputId": "6aef2e15-3d9c-4437-e3d6-30c89a837c72"
      },
      "source": [
        "df = eli5.formatters.as_dataframe.explain_weights_df(rf_fit2)\n",
        "df.head()"
      ],
      "execution_count": 209,
      "outputs": [
        {
          "output_type": "execute_result",
          "data": {
            "text/html": [
              "<div>\n",
              "<style scoped>\n",
              "    .dataframe tbody tr th:only-of-type {\n",
              "        vertical-align: middle;\n",
              "    }\n",
              "\n",
              "    .dataframe tbody tr th {\n",
              "        vertical-align: top;\n",
              "    }\n",
              "\n",
              "    .dataframe thead th {\n",
              "        text-align: right;\n",
              "    }\n",
              "</style>\n",
              "<table border=\"1\" class=\"dataframe\">\n",
              "  <thead>\n",
              "    <tr style=\"text-align: right;\">\n",
              "      <th></th>\n",
              "      <th>feature</th>\n",
              "      <th>weight</th>\n",
              "      <th>std</th>\n",
              "    </tr>\n",
              "  </thead>\n",
              "  <tbody>\n",
              "    <tr>\n",
              "      <th>0</th>\n",
              "      <td>x19137</td>\n",
              "      <td>0.031411</td>\n",
              "      <td>0.073186</td>\n",
              "    </tr>\n",
              "    <tr>\n",
              "      <th>1</th>\n",
              "      <td>x19209</td>\n",
              "      <td>0.027827</td>\n",
              "      <td>0.059047</td>\n",
              "    </tr>\n",
              "    <tr>\n",
              "      <th>2</th>\n",
              "      <td>x25152</td>\n",
              "      <td>0.007865</td>\n",
              "      <td>0.018398</td>\n",
              "    </tr>\n",
              "    <tr>\n",
              "      <th>3</th>\n",
              "      <td>x22540</td>\n",
              "      <td>0.006534</td>\n",
              "      <td>0.015075</td>\n",
              "    </tr>\n",
              "    <tr>\n",
              "      <th>4</th>\n",
              "      <td>x27325</td>\n",
              "      <td>0.006168</td>\n",
              "      <td>0.013869</td>\n",
              "    </tr>\n",
              "  </tbody>\n",
              "</table>\n",
              "</div>"
            ],
            "text/plain": [
              "  feature    weight       std\n",
              "0  x19137  0.031411  0.073186\n",
              "1  x19209  0.027827  0.059047\n",
              "2  x25152  0.007865  0.018398\n",
              "3  x22540  0.006534  0.015075\n",
              "4  x27325  0.006168  0.013869"
            ]
          },
          "metadata": {
            "tags": []
          },
          "execution_count": 209
        }
      ]
    },
    {
      "cell_type": "code",
      "metadata": {
        "id": "FNO9o5WJCdeu",
        "colab_type": "code",
        "colab": {
          "base_uri": "https://localhost:8080/",
          "height": 419
        },
        "outputId": "38073b15-b64a-4494-90ea-f7a567707c32"
      },
      "source": [
        "df = eli5.formatters.as_dataframe.explain_weights_df(rf_fit1)\n",
        "df"
      ],
      "execution_count": 210,
      "outputs": [
        {
          "output_type": "execute_result",
          "data": {
            "text/html": [
              "<div>\n",
              "<style scoped>\n",
              "    .dataframe tbody tr th:only-of-type {\n",
              "        vertical-align: middle;\n",
              "    }\n",
              "\n",
              "    .dataframe tbody tr th {\n",
              "        vertical-align: top;\n",
              "    }\n",
              "\n",
              "    .dataframe thead th {\n",
              "        text-align: right;\n",
              "    }\n",
              "</style>\n",
              "<table border=\"1\" class=\"dataframe\">\n",
              "  <thead>\n",
              "    <tr style=\"text-align: right;\">\n",
              "      <th></th>\n",
              "      <th>feature</th>\n",
              "      <th>weight</th>\n",
              "      <th>std</th>\n",
              "    </tr>\n",
              "  </thead>\n",
              "  <tbody>\n",
              "    <tr>\n",
              "      <th>0</th>\n",
              "      <td>x51060</td>\n",
              "      <td>0.039555</td>\n",
              "      <td>0.085054</td>\n",
              "    </tr>\n",
              "    <tr>\n",
              "      <th>1</th>\n",
              "      <td>x48804</td>\n",
              "      <td>0.012378</td>\n",
              "      <td>0.027201</td>\n",
              "    </tr>\n",
              "    <tr>\n",
              "      <th>2</th>\n",
              "      <td>x52030</td>\n",
              "      <td>0.010786</td>\n",
              "      <td>0.024240</td>\n",
              "    </tr>\n",
              "    <tr>\n",
              "      <th>3</th>\n",
              "      <td>x33053</td>\n",
              "      <td>0.010504</td>\n",
              "      <td>0.020939</td>\n",
              "    </tr>\n",
              "    <tr>\n",
              "      <th>4</th>\n",
              "      <td>x43771</td>\n",
              "      <td>0.010009</td>\n",
              "      <td>0.020258</td>\n",
              "    </tr>\n",
              "    <tr>\n",
              "      <th>...</th>\n",
              "      <td>...</td>\n",
              "      <td>...</td>\n",
              "      <td>...</td>\n",
              "    </tr>\n",
              "    <tr>\n",
              "      <th>63631</th>\n",
              "      <td>x40426</td>\n",
              "      <td>0.000000</td>\n",
              "      <td>0.000000</td>\n",
              "    </tr>\n",
              "    <tr>\n",
              "      <th>63632</th>\n",
              "      <td>x40425</td>\n",
              "      <td>0.000000</td>\n",
              "      <td>0.000000</td>\n",
              "    </tr>\n",
              "    <tr>\n",
              "      <th>63633</th>\n",
              "      <td>x40424</td>\n",
              "      <td>0.000000</td>\n",
              "      <td>0.000000</td>\n",
              "    </tr>\n",
              "    <tr>\n",
              "      <th>63634</th>\n",
              "      <td>x40423</td>\n",
              "      <td>0.000000</td>\n",
              "      <td>0.000000</td>\n",
              "    </tr>\n",
              "    <tr>\n",
              "      <th>63635</th>\n",
              "      <td>x63635</td>\n",
              "      <td>0.000000</td>\n",
              "      <td>0.000000</td>\n",
              "    </tr>\n",
              "  </tbody>\n",
              "</table>\n",
              "<p>63636 rows × 3 columns</p>\n",
              "</div>"
            ],
            "text/plain": [
              "      feature    weight       std\n",
              "0      x51060  0.039555  0.085054\n",
              "1      x48804  0.012378  0.027201\n",
              "2      x52030  0.010786  0.024240\n",
              "3      x33053  0.010504  0.020939\n",
              "4      x43771  0.010009  0.020258\n",
              "...       ...       ...       ...\n",
              "63631  x40426  0.000000  0.000000\n",
              "63632  x40425  0.000000  0.000000\n",
              "63633  x40424  0.000000  0.000000\n",
              "63634  x40423  0.000000  0.000000\n",
              "63635  x63635  0.000000  0.000000\n",
              "\n",
              "[63636 rows x 3 columns]"
            ]
          },
          "metadata": {
            "tags": []
          },
          "execution_count": 210
        }
      ]
    },
    {
      "cell_type": "code",
      "metadata": {
        "id": "wipMoPZryrWm",
        "colab_type": "code",
        "colab": {}
      },
      "source": [
        "import pandas as pd\n",
        "def analyze_features(model, n):\n",
        "  index_to_word = {v:k for k,v in vectorizer.vocabulary_.items()}\n",
        "  df = eli5.formatters.as_dataframe.explain_weights_df(model)\n",
        "  category1 = df[df['target']==0]\n",
        "  category2 = df[df['target']==1]\n",
        "  category3 = df[df['target']==2]\n",
        "  category4 = df[df['target']==3]\n",
        "  print(' comp.os.ms-windows.misc:')\n",
        "  for word in category1.feature[:n]:\n",
        "    #print(word)\n",
        "    priznak = word.strip('x')\n",
        "    print(index_to_word[int(priznak)])\n",
        "  print('\\n','misc.forsale:')\n",
        "  for word in category2.feature[:n]:\n",
        "    #print(word)\n",
        "    priznak = word.strip('x')\n",
        "    print(index_to_word[int(priznak)])\n",
        "  print('\\n','rec.autos:')\n",
        "  for word in category3.feature[:n]:\n",
        "    #print(word)\n",
        "    priznak = word.strip('x')\n",
        "    if priznak == '<BIAS>':\n",
        "      print(priznak)\n",
        "    else:\n",
        "      print(index_to_word[int(priznak)])\n",
        "  print('\\n','sci.space:')\n",
        "  for word in category4.feature[:n]:\n",
        "    #print(word)\n",
        "    priznak = word.strip('x')\n",
        "    print(index_to_word[int(priznak)])"
      ],
      "execution_count": 0,
      "outputs": []
    },
    {
      "cell_type": "code",
      "metadata": {
        "id": "mErc_n6QRxLP",
        "colab_type": "code",
        "outputId": "4162186b-7e89-416d-8f80-e2f2ace77620",
        "colab": {
          "base_uri": "https://localhost:8080/",
          "height": 816
        }
      },
      "source": [
        "analyze_features(lr_fit, 10)"
      ],
      "execution_count": 212,
      "outputs": [
        {
          "output_type": "stream",
          "text": [
            " comp.os.ms-windows.misc:\n",
            "windows\n",
            "file\n",
            "drivers\n",
            "using\n",
            "driver\n",
            "win\n",
            "files\n",
            "help\n",
            "microsoft\n",
            "with\n",
            "\n",
            " misc.forsale:\n",
            "sale\n",
            "wanted\n",
            "for\n",
            "shipping\n",
            "offer\n",
            "forsale\n",
            "interested\n",
            "distribution\n",
            "sell\n",
            "state\n",
            "\n",
            " rec.autos:\n",
            "car\n",
            "cars\n",
            "<BIAS>\n",
            "honda\n",
            "bmw\n",
            "testing\n",
            "integra\n",
            "automotive\n",
            "virginia\n",
            "just\n",
            "\n",
            " sci.space:\n",
            "space\n",
            "orbit\n",
            "nasa\n",
            "planets\n",
            "digex\n",
            "ryukoku\n",
            "sci\n",
            "pat\n",
            "jennise\n",
            "dgi\n"
          ],
          "name": "stdout"
        }
      ]
    },
    {
      "cell_type": "code",
      "metadata": {
        "id": "AU1SiQbkvm6T",
        "colab_type": "code",
        "colab": {
          "base_uri": "https://localhost:8080/",
          "height": 816
        },
        "outputId": "74ee3b1d-3a33-4957-e350-d76d9490524a"
      },
      "source": [
        "analyze_features(sgd_fit, 10)"
      ],
      "execution_count": 213,
      "outputs": [
        {
          "output_type": "stream",
          "text": [
            " comp.os.ms-windows.misc:\n",
            "ax\n",
            "windows\n",
            "max\n",
            "file\n",
            "drivers\n",
            "using\n",
            "driver\n",
            "files\n",
            "ftp\n",
            "win\n",
            "\n",
            " misc.forsale:\n",
            "sale\n",
            "wanted\n",
            "for\n",
            "offer\n",
            "shipping\n",
            "sell\n",
            "forsale\n",
            "new\n",
            "distribution\n",
            "call\n",
            "\n",
            " rec.autos:\n",
            "car\n",
            "cars\n",
            "bmw\n",
            "honda\n",
            "dealer\n",
            "ford\n",
            "engine\n",
            "auto\n",
            "automotive\n",
            "re\n",
            "\n",
            " sci.space:\n",
            "space\n",
            "orbit\n",
            "nasa\n",
            "pat\n",
            "launch\n",
            "digex\n",
            "alaska\n",
            "sci\n",
            "spacecraft\n",
            "prb\n"
          ],
          "name": "stdout"
        }
      ]
    },
    {
      "cell_type": "code",
      "metadata": {
        "id": "vkNHn7Suwqzh",
        "colab_type": "code",
        "colab": {}
      },
      "source": [
        "import statistics\n",
        "def top_priz(model, n):\n",
        "  priznaki = model.feature_importances_\n",
        "  real = [i for i in priznaki if i]\n",
        "  real_mean = statistics.mean(real)\n",
        "  print(len([i for i in real if i > n*real_mean]))\n",
        "  rf_priznaki = []\n",
        "  index_to_word = {v:k for k,v in vectorizer.vocabulary_.items()}\n",
        "  for i in range(len(priznaki)):\n",
        "    if priznaki[i] > n*real_mean:\n",
        "        rf_priznaki.append(index_to_word[i])\n",
        "  print(rf_priznaki)"
      ],
      "execution_count": 0,
      "outputs": []
    },
    {
      "cell_type": "code",
      "metadata": {
        "id": "jKxxCZ-m_V9L",
        "colab_type": "code",
        "colab": {
          "base_uri": "https://localhost:8080/",
          "height": 51
        },
        "outputId": "6fd86afb-3633-458e-db0a-8aa4da98d8b9"
      },
      "source": [
        "top_priz(rf_fit0, 37.4)"
      ],
      "execution_count": 215,
      "outputs": [
        {
          "output_type": "stream",
          "text": [
            "9\n",
            "['dos', 'exe', 'file', 'files', 'ftp', 'ms', 'using', 'win', 'windows']\n"
          ],
          "name": "stdout"
        }
      ]
    },
    {
      "cell_type": "code",
      "metadata": {
        "id": "eDeJ9Wa1AA-8",
        "colab_type": "code",
        "colab": {
          "base_uri": "https://localhost:8080/",
          "height": 51
        },
        "outputId": "cdb3c649-8a56-4610-a86b-fb968174387a"
      },
      "source": [
        "top_priz(rf_fit1, 56.1)"
      ],
      "execution_count": 216,
      "outputs": [
        {
          "output_type": "stream",
          "text": [
            "11\n",
            "['asking', 'condition', 'for', 'it', 'offer', 'on', 're', 'sale', 'shipping', 'that', 'the']\n"
          ],
          "name": "stdout"
        }
      ]
    },
    {
      "cell_type": "code",
      "metadata": {
        "id": "IcJ7s0AsAIUG",
        "colab_type": "code",
        "colab": {
          "base_uri": "https://localhost:8080/",
          "height": 51
        },
        "outputId": "44532e95-c9c8-40fa-a411-391c65299e3c"
      },
      "source": [
        "top_priz(rf_fit2, 32.5)"
      ],
      "execution_count": 217,
      "outputs": [
        {
          "output_type": "stream",
          "text": [
            "12\n",
            "['automotive', 'car', 'cars', 'dealer', 'dumbest', 'engine', 'ford', 'my', 'oil', 're', 'toyota', 'windows']\n"
          ],
          "name": "stdout"
        }
      ]
    },
    {
      "cell_type": "code",
      "metadata": {
        "id": "3w-EOnmAmB9P",
        "colab_type": "code",
        "colab": {
          "base_uri": "https://localhost:8080/",
          "height": 51
        },
        "outputId": "d8001e74-731a-459b-c453-66ef38969981"
      },
      "source": [
        "top_priz(rf_fit3, 43)"
      ],
      "execution_count": 218,
      "outputs": [
        {
          "output_type": "stream",
          "text": [
            "10\n",
            "['earth', 'moon', 'nasa', 'orbit', 'pat', 'prb', 'sci', 'shuttle', 'space', 'spacecraft']\n"
          ],
          "name": "stdout"
        }
      ]
    },
    {
      "cell_type": "code",
      "metadata": {
        "id": "ScZwsGRNF05w",
        "colab_type": "code",
        "colab": {
          "base_uri": "https://localhost:8080/",
          "height": 68
        },
        "outputId": "9e27da82-f8cc-4498-8826-b6821c7c0314"
      },
      "source": [
        "import nltk\n",
        "nltk.download('stopwords')\n",
        "from nltk.corpus import stopwords\n",
        "stops = stopwords.words('english')\n",
        "best_vectorizer = sklearn.feature_extraction.text.CountVectorizer(stop_words=stops, min_df=0.005, max_df=0.4, max_features=5000)\n",
        "best_vect = best_vectorizer.fit_transform(train.data)\n",
        "X = best_vect\n",
        "y = train.target\n",
        "print(X.shape, y.shape)\n",
        "X, X_test, y, y_test = train_test_split(X, y, random_state=42)\n",
        "stratified_folds = StratifiedKFold(n_splits=5, shuffle=True, random_state=0)"
      ],
      "execution_count": 219,
      "outputs": [
        {
          "output_type": "stream",
          "text": [
            "[nltk_data] Downloading package stopwords to /root/nltk_data...\n",
            "[nltk_data]   Package stopwords is already up-to-date!\n",
            "(2363, 3692) (2363,)\n"
          ],
          "name": "stdout"
        }
      ]
    },
    {
      "cell_type": "code",
      "metadata": {
        "id": "5bS8a_VLNh-M",
        "colab_type": "code",
        "colab": {}
      },
      "source": [
        "lr = linear_model.LogisticRegression()\n",
        "rf = ensemble.RandomForestClassifier()\n",
        "sgd = SGDClassifier()\n",
        "parameter_grid_lr = {'class_weight' : ['balanced', None],\n",
        "                  'C' : [0.01, 0.1, 1.0, 10.0],\n",
        "                  'max_iter': [300,1000]\n",
        "                 }\n",
        "parameters_RandomForest = {'n_estimators': [5, 10, 15],\n",
        "                           'max_depth': [None, 5],\n",
        "                           'min_samples_split': [0.5, 1.0, 5]                          \n",
        "                }\n",
        "parameters_SGD = {'penalty': ['l2', 'l1'], \n",
        "                  'alpha': [0.0001, 0.001, 0.01, 0.1], \n",
        "                  'max_iter': [10000, 15000, 20000]\n",
        "                }"
      ],
      "execution_count": 0,
      "outputs": []
    },
    {
      "cell_type": "code",
      "metadata": {
        "id": "4-FCCzTDNyeM",
        "colab_type": "code",
        "colab": {
          "base_uri": "https://localhost:8080/",
          "height": 85
        },
        "outputId": "5c2abe02-5121-401f-f1c9-54fdf6225906"
      },
      "source": [
        "grid_search(lr, parameter_grid_lr, X, y)\n",
        "lr = linear_model.LogisticRegression(C=1.0, class_weight='balanced', max_iter=300)\n",
        "cv_train_model(lr, X, y)"
      ],
      "execution_count": 221,
      "outputs": [
        {
          "output_type": "stream",
          "text": [
            "Best score: 0.9330196158349308\n",
            "Best parameters: {'C': 0.1, 'class_weight': 'balanced', 'max_iter': 300}\n",
            "Cross Validation mean score: 0.9324015413998885\n",
            "Score on test data: 0.9555\n"
          ],
          "name": "stdout"
        }
      ]
    },
    {
      "cell_type": "code",
      "metadata": {
        "id": "FhuKQEFFatZr",
        "colab_type": "code",
        "colab": {
          "base_uri": "https://localhost:8080/",
          "height": 85
        },
        "outputId": "4b005bf7-8b0a-45e2-b043-9a180b80b418"
      },
      "source": [
        "grid_search(rf, parameters_RandomForest, X, y)\n",
        "rf = ensemble.RandomForestClassifier(max_depth=None, min_samples_split=5, n_estimators=15)\n",
        "cv_train_model(rf, X, y)"
      ],
      "execution_count": 222,
      "outputs": [
        {
          "output_type": "stream",
          "text": [
            "Best score: 0.8987186296417036\n",
            "Best parameters: {'max_depth': None, 'min_samples_split': 5, 'n_estimators': 15}\n",
            "Cross Validation mean score: 0.9084909853737696\n",
            "Score on test data: 0.9284\n"
          ],
          "name": "stdout"
        }
      ]
    },
    {
      "cell_type": "code",
      "metadata": {
        "id": "XI4pefVlbWGy",
        "colab_type": "code",
        "colab": {
          "base_uri": "https://localhost:8080/",
          "height": 85
        },
        "outputId": "0115ac41-c10f-442a-9626-f0967e028d25"
      },
      "source": [
        "grid_search(sgd, parameters_SGD, X, y)\n",
        "sgd = SGDClassifier(alpha=0.1, max_iter=15000, penalty='l2')\n",
        "cv_train_model(sgd, X, y)"
      ],
      "execution_count": 223,
      "outputs": [
        {
          "output_type": "stream",
          "text": [
            "Best score: 0.9414191861787329\n",
            "Best parameters: {'alpha': 0.1, 'max_iter': 15000, 'penalty': 'l2'}\n",
            "Cross Validation mean score: 0.9413941669604683\n",
            "Score on test data: 0.9437\n"
          ],
          "name": "stdout"
        }
      ]
    }
  ]
}