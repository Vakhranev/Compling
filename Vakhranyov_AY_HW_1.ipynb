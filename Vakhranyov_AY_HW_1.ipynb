{
  "nbformat": 4,
  "nbformat_minor": 0,
  "metadata": {
    "kernelspec": {
      "display_name": "Python 3",
      "language": "python",
      "name": "python3"
    },
    "language_info": {
      "codemirror_mode": {
        "name": "ipython",
        "version": 3
      },
      "file_extension": ".py",
      "mimetype": "text/x-python",
      "name": "python",
      "nbconvert_exporter": "python",
      "pygments_lexer": "ipython3",
      "version": "3.7.4"
    },
    "colab": {
      "name": "Vakhranyov AY HW 1.ipynb",
      "provenance": [],
      "include_colab_link": true
    },
    "widgets": {
      "application/vnd.jupyter.widget-state+json": {
        "553c7415cabd45f39abbb7f5dbca186d": {
          "model_module": "@jupyter-widgets/controls",
          "model_name": "HBoxModel",
          "state": {
            "_view_name": "HBoxView",
            "_dom_classes": [],
            "_model_name": "HBoxModel",
            "_view_module": "@jupyter-widgets/controls",
            "_model_module_version": "1.5.0",
            "_view_count": null,
            "_view_module_version": "1.5.0",
            "box_style": "",
            "layout": "IPY_MODEL_b6c472d902ce48c295854e51ff8acdd9",
            "_model_module": "@jupyter-widgets/controls",
            "children": [
              "IPY_MODEL_3aabca7eba57449cb38bafc8fe2dd7c2",
              "IPY_MODEL_96ecee369a64410da3170af05f23008b"
            ]
          }
        },
        "b6c472d902ce48c295854e51ff8acdd9": {
          "model_module": "@jupyter-widgets/base",
          "model_name": "LayoutModel",
          "state": {
            "_view_name": "LayoutView",
            "grid_template_rows": null,
            "right": null,
            "justify_content": null,
            "_view_module": "@jupyter-widgets/base",
            "overflow": null,
            "_model_module_version": "1.2.0",
            "_view_count": null,
            "flex_flow": null,
            "width": null,
            "min_width": null,
            "border": null,
            "align_items": null,
            "bottom": null,
            "_model_module": "@jupyter-widgets/base",
            "top": null,
            "grid_column": null,
            "overflow_y": null,
            "overflow_x": null,
            "grid_auto_flow": null,
            "grid_area": null,
            "grid_template_columns": null,
            "flex": null,
            "_model_name": "LayoutModel",
            "justify_items": null,
            "grid_row": null,
            "max_height": null,
            "align_content": null,
            "visibility": null,
            "align_self": null,
            "height": null,
            "min_height": null,
            "padding": null,
            "grid_auto_rows": null,
            "grid_gap": null,
            "max_width": null,
            "order": null,
            "_view_module_version": "1.2.0",
            "grid_template_areas": null,
            "object_position": null,
            "object_fit": null,
            "grid_auto_columns": null,
            "margin": null,
            "display": null,
            "left": null
          }
        },
        "3aabca7eba57449cb38bafc8fe2dd7c2": {
          "model_module": "@jupyter-widgets/controls",
          "model_name": "FloatProgressModel",
          "state": {
            "_view_name": "ProgressView",
            "style": "IPY_MODEL_9b94766b7f774170bc76c5899aca4f61",
            "_dom_classes": [],
            "description": "",
            "_model_name": "FloatProgressModel",
            "bar_style": "success",
            "max": 1,
            "_view_module": "@jupyter-widgets/controls",
            "_model_module_version": "1.5.0",
            "value": 1,
            "_view_count": null,
            "_view_module_version": "1.5.0",
            "orientation": "horizontal",
            "min": 0,
            "description_tooltip": null,
            "_model_module": "@jupyter-widgets/controls",
            "layout": "IPY_MODEL_d0b6f41649aa4360a642c175139e27e2"
          }
        },
        "96ecee369a64410da3170af05f23008b": {
          "model_module": "@jupyter-widgets/controls",
          "model_name": "HTMLModel",
          "state": {
            "_view_name": "HTMLView",
            "style": "IPY_MODEL_e19349682e82450ba21a58d9f1354d99",
            "_dom_classes": [],
            "description": "",
            "_model_name": "HTMLModel",
            "placeholder": "​",
            "_view_module": "@jupyter-widgets/controls",
            "_model_module_version": "1.5.0",
            "value": " 9920512/? [00:01&lt;00:00, 5763399.83it/s]",
            "_view_count": null,
            "_view_module_version": "1.5.0",
            "description_tooltip": null,
            "_model_module": "@jupyter-widgets/controls",
            "layout": "IPY_MODEL_d4d306413be44d7fa14917827688066f"
          }
        },
        "9b94766b7f774170bc76c5899aca4f61": {
          "model_module": "@jupyter-widgets/controls",
          "model_name": "ProgressStyleModel",
          "state": {
            "_view_name": "StyleView",
            "_model_name": "ProgressStyleModel",
            "description_width": "initial",
            "_view_module": "@jupyter-widgets/base",
            "_model_module_version": "1.5.0",
            "_view_count": null,
            "_view_module_version": "1.2.0",
            "bar_color": null,
            "_model_module": "@jupyter-widgets/controls"
          }
        },
        "d0b6f41649aa4360a642c175139e27e2": {
          "model_module": "@jupyter-widgets/base",
          "model_name": "LayoutModel",
          "state": {
            "_view_name": "LayoutView",
            "grid_template_rows": null,
            "right": null,
            "justify_content": null,
            "_view_module": "@jupyter-widgets/base",
            "overflow": null,
            "_model_module_version": "1.2.0",
            "_view_count": null,
            "flex_flow": null,
            "width": null,
            "min_width": null,
            "border": null,
            "align_items": null,
            "bottom": null,
            "_model_module": "@jupyter-widgets/base",
            "top": null,
            "grid_column": null,
            "overflow_y": null,
            "overflow_x": null,
            "grid_auto_flow": null,
            "grid_area": null,
            "grid_template_columns": null,
            "flex": null,
            "_model_name": "LayoutModel",
            "justify_items": null,
            "grid_row": null,
            "max_height": null,
            "align_content": null,
            "visibility": null,
            "align_self": null,
            "height": null,
            "min_height": null,
            "padding": null,
            "grid_auto_rows": null,
            "grid_gap": null,
            "max_width": null,
            "order": null,
            "_view_module_version": "1.2.0",
            "grid_template_areas": null,
            "object_position": null,
            "object_fit": null,
            "grid_auto_columns": null,
            "margin": null,
            "display": null,
            "left": null
          }
        },
        "e19349682e82450ba21a58d9f1354d99": {
          "model_module": "@jupyter-widgets/controls",
          "model_name": "DescriptionStyleModel",
          "state": {
            "_view_name": "StyleView",
            "_model_name": "DescriptionStyleModel",
            "description_width": "",
            "_view_module": "@jupyter-widgets/base",
            "_model_module_version": "1.5.0",
            "_view_count": null,
            "_view_module_version": "1.2.0",
            "_model_module": "@jupyter-widgets/controls"
          }
        },
        "d4d306413be44d7fa14917827688066f": {
          "model_module": "@jupyter-widgets/base",
          "model_name": "LayoutModel",
          "state": {
            "_view_name": "LayoutView",
            "grid_template_rows": null,
            "right": null,
            "justify_content": null,
            "_view_module": "@jupyter-widgets/base",
            "overflow": null,
            "_model_module_version": "1.2.0",
            "_view_count": null,
            "flex_flow": null,
            "width": null,
            "min_width": null,
            "border": null,
            "align_items": null,
            "bottom": null,
            "_model_module": "@jupyter-widgets/base",
            "top": null,
            "grid_column": null,
            "overflow_y": null,
            "overflow_x": null,
            "grid_auto_flow": null,
            "grid_area": null,
            "grid_template_columns": null,
            "flex": null,
            "_model_name": "LayoutModel",
            "justify_items": null,
            "grid_row": null,
            "max_height": null,
            "align_content": null,
            "visibility": null,
            "align_self": null,
            "height": null,
            "min_height": null,
            "padding": null,
            "grid_auto_rows": null,
            "grid_gap": null,
            "max_width": null,
            "order": null,
            "_view_module_version": "1.2.0",
            "grid_template_areas": null,
            "object_position": null,
            "object_fit": null,
            "grid_auto_columns": null,
            "margin": null,
            "display": null,
            "left": null
          }
        },
        "be9b8309498c4d9894e8b27c24c95f0a": {
          "model_module": "@jupyter-widgets/controls",
          "model_name": "HBoxModel",
          "state": {
            "_view_name": "HBoxView",
            "_dom_classes": [],
            "_model_name": "HBoxModel",
            "_view_module": "@jupyter-widgets/controls",
            "_model_module_version": "1.5.0",
            "_view_count": null,
            "_view_module_version": "1.5.0",
            "box_style": "",
            "layout": "IPY_MODEL_b611b02509e94987b8eebc0c19652ac5",
            "_model_module": "@jupyter-widgets/controls",
            "children": [
              "IPY_MODEL_8a6fdba8012a4a9cb42b1beaa71dac58",
              "IPY_MODEL_c2058b22c258401e8aa4f923985f6962"
            ]
          }
        },
        "b611b02509e94987b8eebc0c19652ac5": {
          "model_module": "@jupyter-widgets/base",
          "model_name": "LayoutModel",
          "state": {
            "_view_name": "LayoutView",
            "grid_template_rows": null,
            "right": null,
            "justify_content": null,
            "_view_module": "@jupyter-widgets/base",
            "overflow": null,
            "_model_module_version": "1.2.0",
            "_view_count": null,
            "flex_flow": null,
            "width": null,
            "min_width": null,
            "border": null,
            "align_items": null,
            "bottom": null,
            "_model_module": "@jupyter-widgets/base",
            "top": null,
            "grid_column": null,
            "overflow_y": null,
            "overflow_x": null,
            "grid_auto_flow": null,
            "grid_area": null,
            "grid_template_columns": null,
            "flex": null,
            "_model_name": "LayoutModel",
            "justify_items": null,
            "grid_row": null,
            "max_height": null,
            "align_content": null,
            "visibility": null,
            "align_self": null,
            "height": null,
            "min_height": null,
            "padding": null,
            "grid_auto_rows": null,
            "grid_gap": null,
            "max_width": null,
            "order": null,
            "_view_module_version": "1.2.0",
            "grid_template_areas": null,
            "object_position": null,
            "object_fit": null,
            "grid_auto_columns": null,
            "margin": null,
            "display": null,
            "left": null
          }
        },
        "8a6fdba8012a4a9cb42b1beaa71dac58": {
          "model_module": "@jupyter-widgets/controls",
          "model_name": "FloatProgressModel",
          "state": {
            "_view_name": "ProgressView",
            "style": "IPY_MODEL_2b9672215d5b486b8a3d4379dd102c2a",
            "_dom_classes": [],
            "description": "",
            "_model_name": "FloatProgressModel",
            "bar_style": "success",
            "max": 1,
            "_view_module": "@jupyter-widgets/controls",
            "_model_module_version": "1.5.0",
            "value": 1,
            "_view_count": null,
            "_view_module_version": "1.5.0",
            "orientation": "horizontal",
            "min": 0,
            "description_tooltip": null,
            "_model_module": "@jupyter-widgets/controls",
            "layout": "IPY_MODEL_e8cdc603a1fb40a0a4a650bc53ce2998"
          }
        },
        "c2058b22c258401e8aa4f923985f6962": {
          "model_module": "@jupyter-widgets/controls",
          "model_name": "HTMLModel",
          "state": {
            "_view_name": "HTMLView",
            "style": "IPY_MODEL_4236961bb9754e73a7559078aa68332b",
            "_dom_classes": [],
            "description": "",
            "_model_name": "HTMLModel",
            "placeholder": "​",
            "_view_module": "@jupyter-widgets/controls",
            "_model_module_version": "1.5.0",
            "value": " 32768/? [00:00&lt;00:00, 59164.75it/s]",
            "_view_count": null,
            "_view_module_version": "1.5.0",
            "description_tooltip": null,
            "_model_module": "@jupyter-widgets/controls",
            "layout": "IPY_MODEL_52676941f7b04e13a157d2d91c03c19d"
          }
        },
        "2b9672215d5b486b8a3d4379dd102c2a": {
          "model_module": "@jupyter-widgets/controls",
          "model_name": "ProgressStyleModel",
          "state": {
            "_view_name": "StyleView",
            "_model_name": "ProgressStyleModel",
            "description_width": "initial",
            "_view_module": "@jupyter-widgets/base",
            "_model_module_version": "1.5.0",
            "_view_count": null,
            "_view_module_version": "1.2.0",
            "bar_color": null,
            "_model_module": "@jupyter-widgets/controls"
          }
        },
        "e8cdc603a1fb40a0a4a650bc53ce2998": {
          "model_module": "@jupyter-widgets/base",
          "model_name": "LayoutModel",
          "state": {
            "_view_name": "LayoutView",
            "grid_template_rows": null,
            "right": null,
            "justify_content": null,
            "_view_module": "@jupyter-widgets/base",
            "overflow": null,
            "_model_module_version": "1.2.0",
            "_view_count": null,
            "flex_flow": null,
            "width": null,
            "min_width": null,
            "border": null,
            "align_items": null,
            "bottom": null,
            "_model_module": "@jupyter-widgets/base",
            "top": null,
            "grid_column": null,
            "overflow_y": null,
            "overflow_x": null,
            "grid_auto_flow": null,
            "grid_area": null,
            "grid_template_columns": null,
            "flex": null,
            "_model_name": "LayoutModel",
            "justify_items": null,
            "grid_row": null,
            "max_height": null,
            "align_content": null,
            "visibility": null,
            "align_self": null,
            "height": null,
            "min_height": null,
            "padding": null,
            "grid_auto_rows": null,
            "grid_gap": null,
            "max_width": null,
            "order": null,
            "_view_module_version": "1.2.0",
            "grid_template_areas": null,
            "object_position": null,
            "object_fit": null,
            "grid_auto_columns": null,
            "margin": null,
            "display": null,
            "left": null
          }
        },
        "4236961bb9754e73a7559078aa68332b": {
          "model_module": "@jupyter-widgets/controls",
          "model_name": "DescriptionStyleModel",
          "state": {
            "_view_name": "StyleView",
            "_model_name": "DescriptionStyleModel",
            "description_width": "",
            "_view_module": "@jupyter-widgets/base",
            "_model_module_version": "1.5.0",
            "_view_count": null,
            "_view_module_version": "1.2.0",
            "_model_module": "@jupyter-widgets/controls"
          }
        },
        "52676941f7b04e13a157d2d91c03c19d": {
          "model_module": "@jupyter-widgets/base",
          "model_name": "LayoutModel",
          "state": {
            "_view_name": "LayoutView",
            "grid_template_rows": null,
            "right": null,
            "justify_content": null,
            "_view_module": "@jupyter-widgets/base",
            "overflow": null,
            "_model_module_version": "1.2.0",
            "_view_count": null,
            "flex_flow": null,
            "width": null,
            "min_width": null,
            "border": null,
            "align_items": null,
            "bottom": null,
            "_model_module": "@jupyter-widgets/base",
            "top": null,
            "grid_column": null,
            "overflow_y": null,
            "overflow_x": null,
            "grid_auto_flow": null,
            "grid_area": null,
            "grid_template_columns": null,
            "flex": null,
            "_model_name": "LayoutModel",
            "justify_items": null,
            "grid_row": null,
            "max_height": null,
            "align_content": null,
            "visibility": null,
            "align_self": null,
            "height": null,
            "min_height": null,
            "padding": null,
            "grid_auto_rows": null,
            "grid_gap": null,
            "max_width": null,
            "order": null,
            "_view_module_version": "1.2.0",
            "grid_template_areas": null,
            "object_position": null,
            "object_fit": null,
            "grid_auto_columns": null,
            "margin": null,
            "display": null,
            "left": null
          }
        },
        "2f8830e78bb544ea90e1ded450c17be9": {
          "model_module": "@jupyter-widgets/controls",
          "model_name": "HBoxModel",
          "state": {
            "_view_name": "HBoxView",
            "_dom_classes": [],
            "_model_name": "HBoxModel",
            "_view_module": "@jupyter-widgets/controls",
            "_model_module_version": "1.5.0",
            "_view_count": null,
            "_view_module_version": "1.5.0",
            "box_style": "",
            "layout": "IPY_MODEL_ba5a4d6de34e438b8264e9c30612e75b",
            "_model_module": "@jupyter-widgets/controls",
            "children": [
              "IPY_MODEL_937e140ca60d4fdc806d06c220500a43",
              "IPY_MODEL_047e402cfa674387812e0b8689750bea"
            ]
          }
        },
        "ba5a4d6de34e438b8264e9c30612e75b": {
          "model_module": "@jupyter-widgets/base",
          "model_name": "LayoutModel",
          "state": {
            "_view_name": "LayoutView",
            "grid_template_rows": null,
            "right": null,
            "justify_content": null,
            "_view_module": "@jupyter-widgets/base",
            "overflow": null,
            "_model_module_version": "1.2.0",
            "_view_count": null,
            "flex_flow": null,
            "width": null,
            "min_width": null,
            "border": null,
            "align_items": null,
            "bottom": null,
            "_model_module": "@jupyter-widgets/base",
            "top": null,
            "grid_column": null,
            "overflow_y": null,
            "overflow_x": null,
            "grid_auto_flow": null,
            "grid_area": null,
            "grid_template_columns": null,
            "flex": null,
            "_model_name": "LayoutModel",
            "justify_items": null,
            "grid_row": null,
            "max_height": null,
            "align_content": null,
            "visibility": null,
            "align_self": null,
            "height": null,
            "min_height": null,
            "padding": null,
            "grid_auto_rows": null,
            "grid_gap": null,
            "max_width": null,
            "order": null,
            "_view_module_version": "1.2.0",
            "grid_template_areas": null,
            "object_position": null,
            "object_fit": null,
            "grid_auto_columns": null,
            "margin": null,
            "display": null,
            "left": null
          }
        },
        "937e140ca60d4fdc806d06c220500a43": {
          "model_module": "@jupyter-widgets/controls",
          "model_name": "FloatProgressModel",
          "state": {
            "_view_name": "ProgressView",
            "style": "IPY_MODEL_278beb87e71a4f56934a1c811b926de1",
            "_dom_classes": [],
            "description": "",
            "_model_name": "FloatProgressModel",
            "bar_style": "success",
            "max": 1,
            "_view_module": "@jupyter-widgets/controls",
            "_model_module_version": "1.5.0",
            "value": 1,
            "_view_count": null,
            "_view_module_version": "1.5.0",
            "orientation": "horizontal",
            "min": 0,
            "description_tooltip": null,
            "_model_module": "@jupyter-widgets/controls",
            "layout": "IPY_MODEL_60009d3dafba42949963e1e2d0871641"
          }
        },
        "047e402cfa674387812e0b8689750bea": {
          "model_module": "@jupyter-widgets/controls",
          "model_name": "HTMLModel",
          "state": {
            "_view_name": "HTMLView",
            "style": "IPY_MODEL_7cc062be89d94e8f9953ecadcf1d800a",
            "_dom_classes": [],
            "description": "",
            "_model_name": "HTMLModel",
            "placeholder": "​",
            "_view_module": "@jupyter-widgets/controls",
            "_model_module_version": "1.5.0",
            "value": " 1654784/? [00:00&lt;00:00, 3799430.77it/s]",
            "_view_count": null,
            "_view_module_version": "1.5.0",
            "description_tooltip": null,
            "_model_module": "@jupyter-widgets/controls",
            "layout": "IPY_MODEL_bd5f507838a2497895af944c425b4f25"
          }
        },
        "278beb87e71a4f56934a1c811b926de1": {
          "model_module": "@jupyter-widgets/controls",
          "model_name": "ProgressStyleModel",
          "state": {
            "_view_name": "StyleView",
            "_model_name": "ProgressStyleModel",
            "description_width": "initial",
            "_view_module": "@jupyter-widgets/base",
            "_model_module_version": "1.5.0",
            "_view_count": null,
            "_view_module_version": "1.2.0",
            "bar_color": null,
            "_model_module": "@jupyter-widgets/controls"
          }
        },
        "60009d3dafba42949963e1e2d0871641": {
          "model_module": "@jupyter-widgets/base",
          "model_name": "LayoutModel",
          "state": {
            "_view_name": "LayoutView",
            "grid_template_rows": null,
            "right": null,
            "justify_content": null,
            "_view_module": "@jupyter-widgets/base",
            "overflow": null,
            "_model_module_version": "1.2.0",
            "_view_count": null,
            "flex_flow": null,
            "width": null,
            "min_width": null,
            "border": null,
            "align_items": null,
            "bottom": null,
            "_model_module": "@jupyter-widgets/base",
            "top": null,
            "grid_column": null,
            "overflow_y": null,
            "overflow_x": null,
            "grid_auto_flow": null,
            "grid_area": null,
            "grid_template_columns": null,
            "flex": null,
            "_model_name": "LayoutModel",
            "justify_items": null,
            "grid_row": null,
            "max_height": null,
            "align_content": null,
            "visibility": null,
            "align_self": null,
            "height": null,
            "min_height": null,
            "padding": null,
            "grid_auto_rows": null,
            "grid_gap": null,
            "max_width": null,
            "order": null,
            "_view_module_version": "1.2.0",
            "grid_template_areas": null,
            "object_position": null,
            "object_fit": null,
            "grid_auto_columns": null,
            "margin": null,
            "display": null,
            "left": null
          }
        },
        "7cc062be89d94e8f9953ecadcf1d800a": {
          "model_module": "@jupyter-widgets/controls",
          "model_name": "DescriptionStyleModel",
          "state": {
            "_view_name": "StyleView",
            "_model_name": "DescriptionStyleModel",
            "description_width": "",
            "_view_module": "@jupyter-widgets/base",
            "_model_module_version": "1.5.0",
            "_view_count": null,
            "_view_module_version": "1.2.0",
            "_model_module": "@jupyter-widgets/controls"
          }
        },
        "bd5f507838a2497895af944c425b4f25": {
          "model_module": "@jupyter-widgets/base",
          "model_name": "LayoutModel",
          "state": {
            "_view_name": "LayoutView",
            "grid_template_rows": null,
            "right": null,
            "justify_content": null,
            "_view_module": "@jupyter-widgets/base",
            "overflow": null,
            "_model_module_version": "1.2.0",
            "_view_count": null,
            "flex_flow": null,
            "width": null,
            "min_width": null,
            "border": null,
            "align_items": null,
            "bottom": null,
            "_model_module": "@jupyter-widgets/base",
            "top": null,
            "grid_column": null,
            "overflow_y": null,
            "overflow_x": null,
            "grid_auto_flow": null,
            "grid_area": null,
            "grid_template_columns": null,
            "flex": null,
            "_model_name": "LayoutModel",
            "justify_items": null,
            "grid_row": null,
            "max_height": null,
            "align_content": null,
            "visibility": null,
            "align_self": null,
            "height": null,
            "min_height": null,
            "padding": null,
            "grid_auto_rows": null,
            "grid_gap": null,
            "max_width": null,
            "order": null,
            "_view_module_version": "1.2.0",
            "grid_template_areas": null,
            "object_position": null,
            "object_fit": null,
            "grid_auto_columns": null,
            "margin": null,
            "display": null,
            "left": null
          }
        },
        "ad305ba38b5d4f8988a3ede25aec32fc": {
          "model_module": "@jupyter-widgets/controls",
          "model_name": "HBoxModel",
          "state": {
            "_view_name": "HBoxView",
            "_dom_classes": [],
            "_model_name": "HBoxModel",
            "_view_module": "@jupyter-widgets/controls",
            "_model_module_version": "1.5.0",
            "_view_count": null,
            "_view_module_version": "1.5.0",
            "box_style": "",
            "layout": "IPY_MODEL_332d1cb0e910406598b5f199d7c9a6e0",
            "_model_module": "@jupyter-widgets/controls",
            "children": [
              "IPY_MODEL_5f508b7994f347c5bed197986fbdd3bb",
              "IPY_MODEL_de966865faaf4a469c66c10acd30206e"
            ]
          }
        },
        "332d1cb0e910406598b5f199d7c9a6e0": {
          "model_module": "@jupyter-widgets/base",
          "model_name": "LayoutModel",
          "state": {
            "_view_name": "LayoutView",
            "grid_template_rows": null,
            "right": null,
            "justify_content": null,
            "_view_module": "@jupyter-widgets/base",
            "overflow": null,
            "_model_module_version": "1.2.0",
            "_view_count": null,
            "flex_flow": null,
            "width": null,
            "min_width": null,
            "border": null,
            "align_items": null,
            "bottom": null,
            "_model_module": "@jupyter-widgets/base",
            "top": null,
            "grid_column": null,
            "overflow_y": null,
            "overflow_x": null,
            "grid_auto_flow": null,
            "grid_area": null,
            "grid_template_columns": null,
            "flex": null,
            "_model_name": "LayoutModel",
            "justify_items": null,
            "grid_row": null,
            "max_height": null,
            "align_content": null,
            "visibility": null,
            "align_self": null,
            "height": null,
            "min_height": null,
            "padding": null,
            "grid_auto_rows": null,
            "grid_gap": null,
            "max_width": null,
            "order": null,
            "_view_module_version": "1.2.0",
            "grid_template_areas": null,
            "object_position": null,
            "object_fit": null,
            "grid_auto_columns": null,
            "margin": null,
            "display": null,
            "left": null
          }
        },
        "5f508b7994f347c5bed197986fbdd3bb": {
          "model_module": "@jupyter-widgets/controls",
          "model_name": "FloatProgressModel",
          "state": {
            "_view_name": "ProgressView",
            "style": "IPY_MODEL_275d81a4737a4f18a68223434a042fb0",
            "_dom_classes": [],
            "description": "",
            "_model_name": "FloatProgressModel",
            "bar_style": "success",
            "max": 1,
            "_view_module": "@jupyter-widgets/controls",
            "_model_module_version": "1.5.0",
            "value": 1,
            "_view_count": null,
            "_view_module_version": "1.5.0",
            "orientation": "horizontal",
            "min": 0,
            "description_tooltip": null,
            "_model_module": "@jupyter-widgets/controls",
            "layout": "IPY_MODEL_61e4fd2d8bbe4c809f925ed4f99d3643"
          }
        },
        "de966865faaf4a469c66c10acd30206e": {
          "model_module": "@jupyter-widgets/controls",
          "model_name": "HTMLModel",
          "state": {
            "_view_name": "HTMLView",
            "style": "IPY_MODEL_d44dfae616f9493886a3b216feb6af86",
            "_dom_classes": [],
            "description": "",
            "_model_name": "HTMLModel",
            "placeholder": "​",
            "_view_module": "@jupyter-widgets/controls",
            "_model_module_version": "1.5.0",
            "value": " 8192/? [00:00&lt;00:00, 54271.18it/s]",
            "_view_count": null,
            "_view_module_version": "1.5.0",
            "description_tooltip": null,
            "_model_module": "@jupyter-widgets/controls",
            "layout": "IPY_MODEL_ac47f72751ef4f59b446b6dd4d58e1c2"
          }
        },
        "275d81a4737a4f18a68223434a042fb0": {
          "model_module": "@jupyter-widgets/controls",
          "model_name": "ProgressStyleModel",
          "state": {
            "_view_name": "StyleView",
            "_model_name": "ProgressStyleModel",
            "description_width": "initial",
            "_view_module": "@jupyter-widgets/base",
            "_model_module_version": "1.5.0",
            "_view_count": null,
            "_view_module_version": "1.2.0",
            "bar_color": null,
            "_model_module": "@jupyter-widgets/controls"
          }
        },
        "61e4fd2d8bbe4c809f925ed4f99d3643": {
          "model_module": "@jupyter-widgets/base",
          "model_name": "LayoutModel",
          "state": {
            "_view_name": "LayoutView",
            "grid_template_rows": null,
            "right": null,
            "justify_content": null,
            "_view_module": "@jupyter-widgets/base",
            "overflow": null,
            "_model_module_version": "1.2.0",
            "_view_count": null,
            "flex_flow": null,
            "width": null,
            "min_width": null,
            "border": null,
            "align_items": null,
            "bottom": null,
            "_model_module": "@jupyter-widgets/base",
            "top": null,
            "grid_column": null,
            "overflow_y": null,
            "overflow_x": null,
            "grid_auto_flow": null,
            "grid_area": null,
            "grid_template_columns": null,
            "flex": null,
            "_model_name": "LayoutModel",
            "justify_items": null,
            "grid_row": null,
            "max_height": null,
            "align_content": null,
            "visibility": null,
            "align_self": null,
            "height": null,
            "min_height": null,
            "padding": null,
            "grid_auto_rows": null,
            "grid_gap": null,
            "max_width": null,
            "order": null,
            "_view_module_version": "1.2.0",
            "grid_template_areas": null,
            "object_position": null,
            "object_fit": null,
            "grid_auto_columns": null,
            "margin": null,
            "display": null,
            "left": null
          }
        },
        "d44dfae616f9493886a3b216feb6af86": {
          "model_module": "@jupyter-widgets/controls",
          "model_name": "DescriptionStyleModel",
          "state": {
            "_view_name": "StyleView",
            "_model_name": "DescriptionStyleModel",
            "description_width": "",
            "_view_module": "@jupyter-widgets/base",
            "_model_module_version": "1.5.0",
            "_view_count": null,
            "_view_module_version": "1.2.0",
            "_model_module": "@jupyter-widgets/controls"
          }
        },
        "ac47f72751ef4f59b446b6dd4d58e1c2": {
          "model_module": "@jupyter-widgets/base",
          "model_name": "LayoutModel",
          "state": {
            "_view_name": "LayoutView",
            "grid_template_rows": null,
            "right": null,
            "justify_content": null,
            "_view_module": "@jupyter-widgets/base",
            "overflow": null,
            "_model_module_version": "1.2.0",
            "_view_count": null,
            "flex_flow": null,
            "width": null,
            "min_width": null,
            "border": null,
            "align_items": null,
            "bottom": null,
            "_model_module": "@jupyter-widgets/base",
            "top": null,
            "grid_column": null,
            "overflow_y": null,
            "overflow_x": null,
            "grid_auto_flow": null,
            "grid_area": null,
            "grid_template_columns": null,
            "flex": null,
            "_model_name": "LayoutModel",
            "justify_items": null,
            "grid_row": null,
            "max_height": null,
            "align_content": null,
            "visibility": null,
            "align_self": null,
            "height": null,
            "min_height": null,
            "padding": null,
            "grid_auto_rows": null,
            "grid_gap": null,
            "max_width": null,
            "order": null,
            "_view_module_version": "1.2.0",
            "grid_template_areas": null,
            "object_position": null,
            "object_fit": null,
            "grid_auto_columns": null,
            "margin": null,
            "display": null,
            "left": null
          }
        }
      }
    }
  },
  "cells": [
    {
      "cell_type": "markdown",
      "metadata": {
        "id": "view-in-github",
        "colab_type": "text"
      },
      "source": [
        "<a href=\"https://colab.research.google.com/github/Vakhranev/Compling/blob/master/Vakhranyov_AY_HW_1.ipynb\" target=\"_parent\"><img src=\"https://colab.research.google.com/assets/colab-badge.svg\" alt=\"Open In Colab\"/></a>"
      ]
    },
    {
      "cell_type": "code",
      "metadata": {
        "id": "gf2FvyxHQ51H",
        "colab_type": "code",
        "colab": {}
      },
      "source": [
        "import numpy as np\n",
        "\n",
        "from sklearn.metrics import classification_report\n",
        "\n",
        "import torch\n",
        "from torch.utils.data import DataLoader\n",
        "from torchvision.datasets import MNIST\n",
        "from torchvision import transforms\n",
        "\n",
        "import matplotlib.pyplot as plt\n",
        "\n",
        "from tqdm import tqdm\n",
        "\n",
        "from sklearn.metrics import accuracy_score\n",
        "\n",
        "import time"
      ],
      "execution_count": null,
      "outputs": []
    },
    {
      "cell_type": "markdown",
      "metadata": {
        "id": "O9IWZgjdQ51j",
        "colab_type": "text"
      },
      "source": [
        "# Домашка №1"
      ]
    },
    {
      "cell_type": "markdown",
      "metadata": {
        "id": "gU_QeICjQ51m",
        "colab_type": "text"
      },
      "source": [
        "# Датасет\n",
        "Мы его просто загрузим и здесь пока будет какая-то торчовая магия, которую мы разберем на следующем занятии"
      ]
    },
    {
      "cell_type": "markdown",
      "metadata": {
        "id": "ttBN1V4KQ51o",
        "colab_type": "text"
      },
      "source": [
        "### Некоторые магические трансформации, о которых пока не стоит заморачиваться\n",
        "1. Перевод картинки в тензор\n",
        "1. Нормализация картинки"
      ]
    },
    {
      "cell_type": "code",
      "metadata": {
        "id": "VVN6-TfKQ51q",
        "colab_type": "code",
        "colab": {}
      },
      "source": [
        "transform = transforms.Compose([\n",
        "    transforms.ToTensor(),\n",
        "    transforms.Normalize((0.1307,), (0.3081,))\n",
        "])"
      ],
      "execution_count": null,
      "outputs": []
    },
    {
      "cell_type": "markdown",
      "metadata": {
        "id": "U-kgpqpLQ518",
        "colab_type": "text"
      },
      "source": [
        "## Загружаем датасет"
      ]
    },
    {
      "cell_type": "code",
      "metadata": {
        "id": "fhjxTiezQ51-",
        "colab_type": "code",
        "colab": {
          "base_uri": "https://localhost:8080/",
          "referenced_widgets": [
            "553c7415cabd45f39abbb7f5dbca186d",
            "b6c472d902ce48c295854e51ff8acdd9",
            "3aabca7eba57449cb38bafc8fe2dd7c2",
            "96ecee369a64410da3170af05f23008b",
            "9b94766b7f774170bc76c5899aca4f61",
            "d0b6f41649aa4360a642c175139e27e2",
            "e19349682e82450ba21a58d9f1354d99",
            "d4d306413be44d7fa14917827688066f",
            "be9b8309498c4d9894e8b27c24c95f0a",
            "b611b02509e94987b8eebc0c19652ac5",
            "8a6fdba8012a4a9cb42b1beaa71dac58",
            "c2058b22c258401e8aa4f923985f6962",
            "2b9672215d5b486b8a3d4379dd102c2a",
            "e8cdc603a1fb40a0a4a650bc53ce2998",
            "4236961bb9754e73a7559078aa68332b",
            "52676941f7b04e13a157d2d91c03c19d",
            "2f8830e78bb544ea90e1ded450c17be9",
            "ba5a4d6de34e438b8264e9c30612e75b",
            "937e140ca60d4fdc806d06c220500a43",
            "047e402cfa674387812e0b8689750bea",
            "278beb87e71a4f56934a1c811b926de1",
            "60009d3dafba42949963e1e2d0871641",
            "7cc062be89d94e8f9953ecadcf1d800a",
            "bd5f507838a2497895af944c425b4f25",
            "ad305ba38b5d4f8988a3ede25aec32fc",
            "332d1cb0e910406598b5f199d7c9a6e0",
            "5f508b7994f347c5bed197986fbdd3bb",
            "de966865faaf4a469c66c10acd30206e",
            "275d81a4737a4f18a68223434a042fb0",
            "61e4fd2d8bbe4c809f925ed4f99d3643",
            "d44dfae616f9493886a3b216feb6af86",
            "ac47f72751ef4f59b446b6dd4d58e1c2"
          ]
        },
        "outputId": "f2020c43-d28a-45bc-9659-70257a3676fb"
      },
      "source": [
        "train_dataset = MNIST('.', train=True, download=True, transform=transform)\n",
        "test_dataset = MNIST('.', train=False, transform=transform)"
      ],
      "execution_count": null,
      "outputs": [
        {
          "output_type": "stream",
          "text": [
            "Downloading http://yann.lecun.com/exdb/mnist/train-images-idx3-ubyte.gz to ./MNIST/raw/train-images-idx3-ubyte.gz\n"
          ],
          "name": "stdout"
        },
        {
          "output_type": "display_data",
          "data": {
            "application/vnd.jupyter.widget-view+json": {
              "model_id": "553c7415cabd45f39abbb7f5dbca186d",
              "version_minor": 0,
              "version_major": 2
            },
            "text/plain": [
              "HBox(children=(FloatProgress(value=1.0, bar_style='info', max=1.0), HTML(value='')))"
            ]
          },
          "metadata": {
            "tags": []
          }
        },
        {
          "output_type": "stream",
          "text": [
            "Extracting ./MNIST/raw/train-images-idx3-ubyte.gz to ./MNIST/raw\n",
            "Downloading http://yann.lecun.com/exdb/mnist/train-labels-idx1-ubyte.gz to ./MNIST/raw/train-labels-idx1-ubyte.gz\n"
          ],
          "name": "stdout"
        },
        {
          "output_type": "display_data",
          "data": {
            "application/vnd.jupyter.widget-view+json": {
              "model_id": "be9b8309498c4d9894e8b27c24c95f0a",
              "version_minor": 0,
              "version_major": 2
            },
            "text/plain": [
              "HBox(children=(FloatProgress(value=1.0, bar_style='info', max=1.0), HTML(value='')))"
            ]
          },
          "metadata": {
            "tags": []
          }
        },
        {
          "output_type": "stream",
          "text": [
            "Extracting ./MNIST/raw/train-labels-idx1-ubyte.gz to ./MNIST/raw\n",
            "Downloading http://yann.lecun.com/exdb/mnist/t10k-images-idx3-ubyte.gz to ./MNIST/raw/t10k-images-idx3-ubyte.gz\n"
          ],
          "name": "stdout"
        },
        {
          "output_type": "display_data",
          "data": {
            "application/vnd.jupyter.widget-view+json": {
              "model_id": "2f8830e78bb544ea90e1ded450c17be9",
              "version_minor": 0,
              "version_major": 2
            },
            "text/plain": [
              "HBox(children=(FloatProgress(value=1.0, bar_style='info', max=1.0), HTML(value='')))"
            ]
          },
          "metadata": {
            "tags": []
          }
        },
        {
          "output_type": "stream",
          "text": [
            "Extracting ./MNIST/raw/t10k-images-idx3-ubyte.gz to ./MNIST/raw\n",
            "Downloading http://yann.lecun.com/exdb/mnist/t10k-labels-idx1-ubyte.gz to ./MNIST/raw/t10k-labels-idx1-ubyte.gz\n"
          ],
          "name": "stdout"
        },
        {
          "output_type": "display_data",
          "data": {
            "application/vnd.jupyter.widget-view+json": {
              "model_id": "ad305ba38b5d4f8988a3ede25aec32fc",
              "version_minor": 0,
              "version_major": 2
            },
            "text/plain": [
              "HBox(children=(FloatProgress(value=1.0, bar_style='info', max=1.0), HTML(value='')))"
            ]
          },
          "metadata": {
            "tags": []
          }
        },
        {
          "output_type": "stream",
          "text": [
            "Extracting ./MNIST/raw/t10k-labels-idx1-ubyte.gz to ./MNIST/raw\n",
            "Processing...\n",
            "\n",
            "\n",
            "\n"
          ],
          "name": "stdout"
        },
        {
          "output_type": "stream",
          "text": [
            "/usr/local/lib/python3.6/dist-packages/torchvision/datasets/mnist.py:469: UserWarning: The given NumPy array is not writeable, and PyTorch does not support non-writeable tensors. This means you can write to the underlying (supposedly non-writeable) NumPy array using the tensor. You may want to copy the array to protect its data or make it writeable before converting it to a tensor. This type of warning will be suppressed for the rest of this program. (Triggered internally at  /pytorch/torch/csrc/utils/tensor_numpy.cpp:141.)\n",
            "  return torch.from_numpy(parsed.astype(m[2], copy=False)).view(*s)\n"
          ],
          "name": "stderr"
        },
        {
          "output_type": "stream",
          "text": [
            "Done!\n"
          ],
          "name": "stdout"
        }
      ]
    },
    {
      "cell_type": "markdown",
      "metadata": {
        "id": "ZJl410WdQ52L",
        "colab_type": "text"
      },
      "source": [
        "## Переводим его в два класса"
      ]
    },
    {
      "cell_type": "code",
      "metadata": {
        "id": "73-VDRHGQ52P",
        "colab_type": "code",
        "colab": {}
      },
      "source": [
        "train_dataset.data = train_dataset.data[(train_dataset.targets == 3) | (train_dataset.targets == 7)]\n",
        "train_dataset.targets = train_dataset.targets[(train_dataset.targets == 3) | (train_dataset.targets == 7)]\n",
        "\n",
        "test_dataset.data = test_dataset.data[(test_dataset.targets == 3) | (test_dataset.targets == 7)]\n",
        "test_dataset.targets = test_dataset.targets[(test_dataset.targets == 3) | (test_dataset.targets == 7)]\n",
        "\n",
        "train_dataset.targets = (train_dataset.targets == 7).long()\n",
        "test_dataset.targets = (test_dataset.targets == 7).long()"
      ],
      "execution_count": null,
      "outputs": []
    },
    {
      "cell_type": "markdown",
      "metadata": {
        "id": "y0nGyuSsQ52g",
        "colab_type": "text"
      },
      "source": [
        "## Оборачиваем в итератор данных"
      ]
    },
    {
      "cell_type": "code",
      "metadata": {
        "id": "DgqsRkMiQ52k",
        "colab_type": "code",
        "colab": {}
      },
      "source": [
        "train_loader = DataLoader(train_dataset, batch_size=128, shuffle=True)\n",
        "test_loader = DataLoader(test_dataset, batch_size=128, shuffle=False)"
      ],
      "execution_count": null,
      "outputs": []
    },
    {
      "cell_type": "markdown",
      "metadata": {
        "id": "RUtMUyNaQ522",
        "colab_type": "text"
      },
      "source": [
        "## Порисуем данные\n",
        "\n",
        "- классу 0 соответствует цифра 3\n",
        "- классу 1 соответствует цифра 7  \n",
        "\n",
        "Выбрал эти цифры, потому что на них хуже всего метрики"
      ]
    },
    {
      "cell_type": "code",
      "metadata": {
        "id": "WmJhhI5rQ527",
        "colab_type": "code",
        "colab": {
          "base_uri": "https://localhost:8080/"
        },
        "outputId": "91c65791-feee-4d4e-b049-d90a9013f8bb"
      },
      "source": [
        "X, y = next(iter(train_loader))\n",
        "X = X.numpy()\n",
        "y = y.numpy()\n",
        "\n",
        "plt.figure(figsize=(6, 7))\n",
        "for i in range(25):\n",
        "    plt.subplot(5, 5, i+1)\n",
        "    plt.imshow(X[i].reshape(28, 28), cmap=plt.cm.Greys_r)\n",
        "    plt.title(y[i])\n",
        "    plt.axis('off')"
      ],
      "execution_count": null,
      "outputs": [
        {
          "output_type": "stream",
          "text": [
            "\n"
          ],
          "name": "stdout"
        },
        {
          "output_type": "display_data",
          "data": {
            "image/png": "[encoded data removed]",
            "text/plain": [
              "<Figure size 432x504 with 25 Axes>"
            ]
          },
          "metadata": {
            "tags": [],
            "needs_background": "light"
          }
        }
      ]
    },
    {
      "cell_type": "markdown",
      "metadata": {
        "id": "XKWkDLw5Q53d",
        "colab_type": "text"
      },
      "source": [
        "# Итерация по датасету\n",
        "- x - батч с данными\n",
        "- y - батч с таргетами к этим данным"
      ]
    },
    {
      "cell_type": "code",
      "metadata": {
        "id": "ivMp41BIQ53f",
        "colab_type": "code",
        "colab": {}
      },
      "source": [
        "for x, y in train_loader:\n",
        "    break"
      ],
      "execution_count": null,
      "outputs": []
    },
    {
      "cell_type": "markdown",
      "metadata": {
        "id": "m74uzED2Q53w",
        "colab_type": "text"
      },
      "source": [
        "### train_loader это итератор, при проходе по которому будут выдаваться батчи данных"
      ]
    },
    {
      "cell_type": "markdown",
      "metadata": {
        "id": "bp9WzFoaQ53y",
        "colab_type": "text"
      },
      "source": [
        "## Размерность x\n",
        "- 128 - размер батча\n",
        "- 1 - количество каналов, у нас чернобелые картинки, поэтому канал 1\n",
        "- 28 - количество пикселей в длину\n",
        "- 28 - количество пикселей в ширину"
      ]
    },
    {
      "cell_type": "code",
      "metadata": {
        "id": "66Udtn7zQ530",
        "colab_type": "code",
        "colab": {
          "base_uri": "https://localhost:8080/",
          "height": 34
        },
        "outputId": "d8599892-7d5d-4a1a-9d27-6c5358424955"
      },
      "source": [
        "x.shape"
      ],
      "execution_count": null,
      "outputs": [
        {
          "output_type": "execute_result",
          "data": {
            "text/plain": [
              "torch.Size([128, 1, 28, 28])"
            ]
          },
          "metadata": {
            "tags": []
          },
          "execution_count": 8
        }
      ]
    },
    {
      "cell_type": "code",
      "metadata": {
        "id": "4BDIbD5tQ54A",
        "colab_type": "code",
        "colab": {
          "base_uri": "https://localhost:8080/",
          "height": 952
        },
        "outputId": "74436a95-7cf8-4216-8141-32e9145a1574"
      },
      "source": [
        "x"
      ],
      "execution_count": null,
      "outputs": [
        {
          "output_type": "execute_result",
          "data": {
            "text/plain": [
              "tensor([[[[-0.4242, -0.4242, -0.4242,  ..., -0.4242, -0.4242, -0.4242],\n",
              "          [-0.4242, -0.4242, -0.4242,  ..., -0.4242, -0.4242, -0.4242],\n",
              "          [-0.4242, -0.4242, -0.4242,  ..., -0.4242, -0.4242, -0.4242],\n",
              "          ...,\n",
              "          [-0.4242, -0.4242, -0.4242,  ..., -0.4242, -0.4242, -0.4242],\n",
              "          [-0.4242, -0.4242, -0.4242,  ..., -0.4242, -0.4242, -0.4242],\n",
              "          [-0.4242, -0.4242, -0.4242,  ..., -0.4242, -0.4242, -0.4242]]],\n",
              "\n",
              "\n",
              "        [[[-0.4242, -0.4242, -0.4242,  ..., -0.4242, -0.4242, -0.4242],\n",
              "          [-0.4242, -0.4242, -0.4242,  ..., -0.4242, -0.4242, -0.4242],\n",
              "          [-0.4242, -0.4242, -0.4242,  ..., -0.4242, -0.4242, -0.4242],\n",
              "          ...,\n",
              "          [-0.4242, -0.4242, -0.4242,  ..., -0.4242, -0.4242, -0.4242],\n",
              "          [-0.4242, -0.4242, -0.4242,  ..., -0.4242, -0.4242, -0.4242],\n",
              "          [-0.4242, -0.4242, -0.4242,  ..., -0.4242, -0.4242, -0.4242]]],\n",
              "\n",
              "\n",
              "        [[[-0.4242, -0.4242, -0.4242,  ..., -0.4242, -0.4242, -0.4242],\n",
              "          [-0.4242, -0.4242, -0.4242,  ..., -0.4242, -0.4242, -0.4242],\n",
              "          [-0.4242, -0.4242, -0.4242,  ..., -0.4242, -0.4242, -0.4242],\n",
              "          ...,\n",
              "          [-0.4242, -0.4242, -0.4242,  ..., -0.4242, -0.4242, -0.4242],\n",
              "          [-0.4242, -0.4242, -0.4242,  ..., -0.4242, -0.4242, -0.4242],\n",
              "          [-0.4242, -0.4242, -0.4242,  ..., -0.4242, -0.4242, -0.4242]]],\n",
              "\n",
              "\n",
              "        ...,\n",
              "\n",
              "\n",
              "        [[[-0.4242, -0.4242, -0.4242,  ..., -0.4242, -0.4242, -0.4242],\n",
              "          [-0.4242, -0.4242, -0.4242,  ..., -0.4242, -0.4242, -0.4242],\n",
              "          [-0.4242, -0.4242, -0.4242,  ..., -0.4242, -0.4242, -0.4242],\n",
              "          ...,\n",
              "          [-0.4242, -0.4242, -0.4242,  ..., -0.4242, -0.4242, -0.4242],\n",
              "          [-0.4242, -0.4242, -0.4242,  ..., -0.4242, -0.4242, -0.4242],\n",
              "          [-0.4242, -0.4242, -0.4242,  ..., -0.4242, -0.4242, -0.4242]]],\n",
              "\n",
              "\n",
              "        [[[-0.4242, -0.4242, -0.4242,  ..., -0.4242, -0.4242, -0.4242],\n",
              "          [-0.4242, -0.4242, -0.4242,  ..., -0.4242, -0.4242, -0.4242],\n",
              "          [-0.4242, -0.4242, -0.4242,  ..., -0.4242, -0.4242, -0.4242],\n",
              "          ...,\n",
              "          [-0.4242, -0.4242, -0.4242,  ..., -0.4242, -0.4242, -0.4242],\n",
              "          [-0.4242, -0.4242, -0.4242,  ..., -0.4242, -0.4242, -0.4242],\n",
              "          [-0.4242, -0.4242, -0.4242,  ..., -0.4242, -0.4242, -0.4242]]],\n",
              "\n",
              "\n",
              "        [[[-0.4242, -0.4242, -0.4242,  ..., -0.4242, -0.4242, -0.4242],\n",
              "          [-0.4242, -0.4242, -0.4242,  ..., -0.4242, -0.4242, -0.4242],\n",
              "          [-0.4242, -0.4242, -0.4242,  ..., -0.4242, -0.4242, -0.4242],\n",
              "          ...,\n",
              "          [-0.4242, -0.4242, -0.4242,  ..., -0.4242, -0.4242, -0.4242],\n",
              "          [-0.4242, -0.4242, -0.4242,  ..., -0.4242, -0.4242, -0.4242],\n",
              "          [-0.4242, -0.4242, -0.4242,  ..., -0.4242, -0.4242, -0.4242]]]])"
            ]
          },
          "metadata": {
            "tags": []
          },
          "execution_count": 9
        }
      ]
    },
    {
      "cell_type": "markdown",
      "metadata": {
        "id": "4e9KD7wGQ54T",
        "colab_type": "text"
      },
      "source": [
        "## Просто выпрямим нашу матрицу в один вектор\n",
        "### То есть каждая фича в векторе это значение пикселя\n",
        "### Для нашей игрушечной задачи этого будет достаточно"
      ]
    },
    {
      "cell_type": "code",
      "metadata": {
        "id": "tCuZsUakQ54V",
        "colab_type": "code",
        "colab": {
          "base_uri": "https://localhost:8080/",
          "height": 34
        },
        "outputId": "ac288783-d266-4f82-f2bf-25e06552719b"
      },
      "source": [
        "x.view(x.shape[0], -1).numpy().shape"
      ],
      "execution_count": null,
      "outputs": [
        {
          "output_type": "execute_result",
          "data": {
            "text/plain": [
              "(128, 784)"
            ]
          },
          "metadata": {
            "tags": []
          },
          "execution_count": 10
        }
      ]
    },
    {
      "cell_type": "markdown",
      "metadata": {
        "id": "FoGk9i8nQ54u",
        "colab_type": "text"
      },
      "source": [
        "### x.numpy()\n",
        "Это перевод торчового тензора (некоторая абстракция, о которой мы будем говорить позже на курсе) в numpy массив"
      ]
    },
    {
      "cell_type": "code",
      "metadata": {
        "id": "_wZi1hwSQ54y",
        "colab_type": "code",
        "colab": {}
      },
      "source": [
        "for x, y in train_loader:\n",
        "    x = x.view(x.shape[0], -1).numpy()\n",
        "    y = y.numpy()\n",
        "    break"
      ],
      "execution_count": null,
      "outputs": []
    },
    {
      "cell_type": "code",
      "metadata": {
        "id": "RtXjtiL6Q54_",
        "colab_type": "code",
        "colab": {
          "base_uri": "https://localhost:8080/",
          "height": 238
        },
        "outputId": "4b90504a-fdf1-4874-f6d1-94881b82042d"
      },
      "source": [
        "x"
      ],
      "execution_count": null,
      "outputs": [
        {
          "output_type": "execute_result",
          "data": {
            "text/plain": [
              "array([[-0.42421296, -0.42421296, -0.42421296, ..., -0.42421296,\n",
              "        -0.42421296, -0.42421296],\n",
              "       [-0.42421296, -0.42421296, -0.42421296, ..., -0.42421296,\n",
              "        -0.42421296, -0.42421296],\n",
              "       [-0.42421296, -0.42421296, -0.42421296, ..., -0.42421296,\n",
              "        -0.42421296, -0.42421296],\n",
              "       ...,\n",
              "       [-0.42421296, -0.42421296, -0.42421296, ..., -0.42421296,\n",
              "        -0.42421296, -0.42421296],\n",
              "       [-0.42421296, -0.42421296, -0.42421296, ..., -0.42421296,\n",
              "        -0.42421296, -0.42421296],\n",
              "       [-0.42421296, -0.42421296, -0.42421296, ..., -0.42421296,\n",
              "        -0.42421296, -0.42421296]], dtype=float32)"
            ]
          },
          "metadata": {
            "tags": []
          },
          "execution_count": 12
        }
      ]
    },
    {
      "cell_type": "markdown",
      "metadata": {
        "id": "AEki68GTQ55S",
        "colab_type": "text"
      },
      "source": [
        "### Размерность\n",
        "- количество примеров в батче\n",
        "- количество фичей"
      ]
    },
    {
      "cell_type": "code",
      "metadata": {
        "id": "Bibm105pQ55U",
        "colab_type": "code",
        "colab": {
          "base_uri": "https://localhost:8080/",
          "height": 34
        },
        "outputId": "e451f382-5676-448d-c489-9ed4feaab282"
      },
      "source": [
        "x.shape"
      ],
      "execution_count": null,
      "outputs": [
        {
          "output_type": "execute_result",
          "data": {
            "text/plain": [
              "(128, 784)"
            ]
          },
          "metadata": {
            "tags": []
          },
          "execution_count": 13
        }
      ]
    },
    {
      "cell_type": "markdown",
      "metadata": {
        "id": "o4gh52A2Q55g",
        "colab_type": "text"
      },
      "source": [
        "# Таргеты\n",
        "- классу 0 соответствует цифра 3\n",
        "- классу 1 соответствует цифра 7"
      ]
    },
    {
      "cell_type": "code",
      "metadata": {
        "id": "X-0h2dcXQ55i",
        "colab_type": "code",
        "colab": {
          "base_uri": "https://localhost:8080/",
          "height": 119
        },
        "outputId": "5b4a3fed-a983-458d-fbcf-654c4c63553e"
      },
      "source": [
        "y"
      ],
      "execution_count": null,
      "outputs": [
        {
          "output_type": "execute_result",
          "data": {
            "text/plain": [
              "array([0, 1, 1, 0, 1, 1, 0, 1, 1, 1, 1, 0, 1, 0, 0, 1, 0, 1, 0, 1, 1, 0,\n",
              "       1, 0, 1, 0, 0, 0, 0, 1, 1, 1, 1, 0, 1, 0, 1, 1, 1, 0, 1, 0, 1, 1,\n",
              "       1, 0, 1, 1, 1, 0, 1, 1, 1, 1, 1, 0, 0, 0, 0, 1, 1, 1, 1, 1, 1, 1,\n",
              "       0, 1, 1, 1, 0, 0, 0, 1, 1, 1, 0, 0, 0, 1, 1, 1, 1, 1, 0, 1, 0, 1,\n",
              "       1, 1, 1, 1, 1, 1, 1, 0, 0, 0, 1, 1, 0, 0, 0, 1, 1, 0, 0, 0, 1, 1,\n",
              "       0, 0, 0, 0, 0, 1, 0, 1, 1, 0, 1, 0, 0, 0, 0, 1, 0, 0])"
            ]
          },
          "metadata": {
            "tags": []
          },
          "execution_count": 14
        }
      ]
    },
    {
      "cell_type": "markdown",
      "metadata": {
        "id": "gMNaAO0vQ55y",
        "colab_type": "text"
      },
      "source": [
        "# Итерация по эпохам"
      ]
    },
    {
      "cell_type": "code",
      "metadata": {
        "id": "lbenCoHZQ552",
        "colab_type": "code",
        "colab": {
          "base_uri": "https://localhost:8080/",
          "height": 68
        },
        "outputId": "35a29c19-3546-4846-d66a-b6150a6124ea"
      },
      "source": [
        "# количество эпох - полных проходов по датасету\n",
        "epochs = 3\n",
        "\n",
        "for n_epoch in range(epochs):\n",
        "    \n",
        "    dataset_passed_samples = 0\n",
        "    \n",
        "    for x, y in train_loader:\n",
        "        \n",
        "        # вот здесь мы могли бы как-то манипулировать с данными\n",
        "        # например, учить, но пока этого делать не будет\n",
        "        # только демонстрация\n",
        "        \n",
        "        time.sleep(0.05)\n",
        "        \n",
        "        dataset_passed_samples += x.shape[0]\n",
        "        \n",
        "        dataset_passed_percent = dataset_passed_samples * 100 / train_loader.dataset.data.shape[0]\n",
        "        \n",
        "        print(f'Эпоха - {n_epoch + 1}, прошли - {dataset_passed_percent:.2f} % датасета', end='\\r')\n",
        "        \n",
        "    print('\\r')"
      ],
      "execution_count": null,
      "outputs": [
        {
          "output_type": "stream",
          "text": [
            "Эпоха - 1, прошли - 100.00 % датасета\n",
            "Эпоха - 2, прошли - 100.00 % датасета\n",
            "Эпоха - 3, прошли - 100.00 % датасета\n"
          ],
          "name": "stdout"
        }
      ]
    },
    {
      "cell_type": "markdown",
      "metadata": {
        "id": "8vDdIcR9Q56J",
        "colab_type": "text"
      },
      "source": [
        "# Небольшие пояснения по numpy"
      ]
    },
    {
      "cell_type": "code",
      "metadata": {
        "id": "XOkRc4UIQ56P",
        "colab_type": "code",
        "colab": {
          "base_uri": "https://localhost:8080/",
          "height": 238
        },
        "outputId": "87011ab2-f741-4134-a734-77e501167d5b"
      },
      "source": [
        "# таким образом мы создаем матрицу 64 на 512 с рандомными значениями\n",
        "x = np.random.rand(64, 512)\n",
        "x"
      ],
      "execution_count": null,
      "outputs": [
        {
          "output_type": "execute_result",
          "data": {
            "text/plain": [
              "array([[0.93584473, 0.52605789, 0.61111998, ..., 0.85242328, 0.18620223,\n",
              "        0.34555406],\n",
              "       [0.55933416, 0.17910235, 0.83093033, ..., 0.43863576, 0.20164778,\n",
              "        0.5397847 ],\n",
              "       [0.74935731, 0.8905861 , 0.98064348, ..., 0.53607096, 0.75011682,\n",
              "        0.7989981 ],\n",
              "       ...,\n",
              "       [0.38711909, 0.78607861, 0.51860872, ..., 0.04379715, 0.91998161,\n",
              "        0.82527917],\n",
              "       [0.58929466, 0.61861524, 0.40875936, ..., 0.16109264, 0.71563125,\n",
              "        0.22451992],\n",
              "       [0.45703835, 0.22253135, 0.58127392, ..., 0.5982959 , 0.29189433,\n",
              "        0.05396278]])"
            ]
          },
          "metadata": {
            "tags": []
          },
          "execution_count": 16
        }
      ]
    },
    {
      "cell_type": "code",
      "metadata": {
        "id": "sCNZ0owwQ56m",
        "colab_type": "code",
        "colab": {
          "base_uri": "https://localhost:8080/",
          "height": 238
        },
        "outputId": "a7425bce-2ac2-4c9c-9ee3-a2bdc87e1f0c"
      },
      "source": [
        "# большинство функций применяются к каждому элементу массива\n",
        "# здесь мы каждый элемент массива возвели в квадрат и прибавили к получившемуся значению логарифм элемента матрицы \n",
        "x ** 2 + np.log(x)"
      ],
      "execution_count": null,
      "outputs": [
        {
          "output_type": "execute_result",
          "data": {
            "text/plain": [
              "array([[ 0.80949966, -0.36560713, -0.11899434, ...,  0.56695338,\n",
              "        -1.64625069, -0.94319859],\n",
              "       [-0.26815351, -1.68772021,  0.50523588, ..., -0.63168458,\n",
              "        -1.56057093, -0.32521739],\n",
              "       [ 0.27299703,  0.6772681 ,  0.94211533, ..., -0.33611666,\n",
              "         0.27514892,  0.41400124],\n",
              "       ...,\n",
              "       [-0.79916171,  0.3772211 , -0.38765058, ..., -3.12626843,\n",
              "         0.76296458,  0.48905215],\n",
              "       [-0.18156076, -0.09758696, -0.72754445, ..., -1.79982485,\n",
              "         0.17753782, -1.44338165],\n",
              "       [-0.57410392, -1.45316709, -0.2046538 , ..., -0.15571185,\n",
              "        -1.14616111, -2.91654876]])"
            ]
          },
          "metadata": {
            "tags": []
          },
          "execution_count": 17
        }
      ]
    },
    {
      "cell_type": "code",
      "metadata": {
        "id": "caF1Ur8LQ566",
        "colab_type": "code",
        "colab": {}
      },
      "source": [
        "y = np.random.rand(512, 1024)\n",
        "# скалярное произведение\n",
        "res = np.dot(x, y)"
      ],
      "execution_count": null,
      "outputs": []
    },
    {
      "cell_type": "code",
      "metadata": {
        "id": "q2ogzAQgQ57L",
        "colab_type": "code",
        "colab": {
          "base_uri": "https://localhost:8080/",
          "height": 238
        },
        "outputId": "f5bd1412-5e26-42ac-c915-2e092000c60c"
      },
      "source": [
        "res"
      ],
      "execution_count": null,
      "outputs": [
        {
          "output_type": "execute_result",
          "data": {
            "text/plain": [
              "array([[125.63870352, 119.16887942, 124.19408035, ..., 121.53469573,\n",
              "        126.40376699, 120.01048891],\n",
              "       [134.40056151, 130.81230058, 133.22076072, ..., 121.53485853,\n",
              "        134.33747508, 128.69997829],\n",
              "       [133.3155222 , 127.66652661, 128.96972438, ..., 124.85797281,\n",
              "        129.29207437, 124.99914562],\n",
              "       ...,\n",
              "       [131.23991134, 124.75602283, 131.83736185, ..., 122.75147118,\n",
              "        133.31031566, 121.96072489],\n",
              "       [136.06789092, 133.54698898, 133.80903857, ..., 125.88020307,\n",
              "        132.6686864 , 126.01323422],\n",
              "       [136.36449263, 129.86533464, 134.08997048, ..., 123.60698406,\n",
              "        132.24031671, 124.8849341 ]])"
            ]
          },
          "metadata": {
            "tags": []
          },
          "execution_count": 19
        }
      ]
    },
    {
      "cell_type": "code",
      "metadata": {
        "id": "g0XhpSj7Q57b",
        "colab_type": "code",
        "colab": {
          "base_uri": "https://localhost:8080/",
          "height": 34
        },
        "outputId": "e6b48fb0-892c-4f89-ba90-9f0594779c88"
      },
      "source": [
        "res.shape == (x.shape[0], y.shape[1])"
      ],
      "execution_count": null,
      "outputs": [
        {
          "output_type": "execute_result",
          "data": {
            "text/plain": [
              "True"
            ]
          },
          "metadata": {
            "tags": []
          },
          "execution_count": 20
        }
      ]
    },
    {
      "cell_type": "markdown",
      "metadata": {
        "id": "fQtpRkaFQ57o",
        "colab_type": "text"
      },
      "source": [
        "### Производные линейного слоя\n",
        "Мы знаем, что нам нужно будет по градиентам весов обновить эти веса. То есть это просто смещение наших весов на какой-то шаг. Отсюда следует, что размерность весов и градиента к ним должна совпадать. Используйте для этого скалярное произведение, траснпонирование и предыдущий градиент.  \n",
        "То есть размерность какого-либо параметра должна совпадать с размерностью градиента к этому параметру. В случае с параметров b мы помним, что это смещение и по сути это добавление к нашим входным фичам фичи с единичным значением.\n",
        "\n",
        "```python\n",
        "grad_w = np.dot(x.T, grad_prev)\n",
        "grad_x = np.dot(grad_prev, w.T)\n",
        "grad_b = np.dot(np.ones((x.shape[0])), grad_prev)\n",
        "```\n",
        "\n",
        "Более подробный совет:  \n",
        "Tip: use dimension analysis! Note that you do not need to remember the expressions for dW and dX because they are easy to re-derive based on dimensions. For instance, we know that the gradient on the weights dW must be of the same size as W after it is computed, and that it must depend on matrix multiplication of X and dD (as is the case when both X,W are single numbers and not matrices). There is always exactly one way of achieving this so that the dimensions work out. For example, X is of size [10 x 3] and dD of size [5 x 3], so if we want dW and W has shape [5 x 10], then the only way of achieving this is with np.dot(dD, X.T), as shown above.  \n",
        "[Источник](https://cs231n.github.io/optimization-2/)\n",
        "\n",
        "Полезные видео:  \n",
        "- [Один](https://www.coursera.org/lecture/intro-to-deep-learning/multilayer-perceptron-mlp-yy1NV)\n",
        "- [Два](https://www.coursera.org/lecture/intro-to-deep-learning/chain-rule-rK0tw)\n",
        "- [Три](https://www.coursera.org/lecture/intro-to-deep-learning/backpropagation-CxUe5)\n",
        "- [Четыре](https://www.coursera.org/lecture/intro-to-deep-learning/efficient-mlp-implementation-P3VH6)\n",
        "- [Пять](https://www.coursera.org/lecture/intro-to-deep-learning/other-matrix-derivatives-YTunl)"
      ]
    },
    {
      "cell_type": "markdown",
      "metadata": {
        "id": "hdITb1zTQ57q",
        "colab_type": "text"
      },
      "source": [
        "# Задание"
      ]
    },
    {
      "cell_type": "markdown",
      "metadata": {
        "id": "LFlgjw6wQ57r",
        "colab_type": "text"
      },
      "source": [
        "### Шаги:\n",
        "1. Задайте обучаемые параметры (TIP: np.random.rand)\n",
        "1. Задайте скорость обучения (подойдет 0.01, но можете попробовать другие и посмотреть что меняется), количество эпох (полных проходов по датасету)\n",
        "1. Сделайте линейную трансформацию через первый слой (первый набор весов)\n",
        "1. Примените какую-нибудь нелийную функцию активации (tanh, relu)\n",
        "1. Сделайте линейную трансформацию через второй слой (второй набор весов)\n",
        "1. Примените сигмоиду\n",
        "1. Рассчитайте функцию потерь (бинарная кросс энтропия), не забудьте усреднить по батчу\n",
        "1. Сохраняйте значения функции потерь в массив losses\n",
        "1. Возьмите производные от функции потерь к каждому обучаемому параметру [видео про производные](https://youtu.be/tZ0yCzWfbZc)\n",
        "1. Обновите веса w1, b1, w2, b2 с помощью градиентного спуска\n",
        "1. Нарисуйте график функции потерь"
      ]
    },
    {
      "cell_type": "markdown",
      "metadata": {
        "id": "dEgoUmvcQ57t",
        "colab_type": "text"
      },
      "source": [
        "- TIP: количество входных фичей - 784 (28 пикселей * 28 пикселей)\n",
        "- TIP: в шаге 0 домножьте w1, w2 на 0.01, а b1, b2 инициализируйте нулями. Это не самая лучшая реализация, но пока лучше мы не знаем\n",
        "- TIP: в backward функции потерь по предсказаниям вашей модели нужно разделить еще на количество примеров в батче (не забудьте, что усредняете лосс)\n",
        "- TIP: каждый следующий градиент рассчитывайте умножая на предыдущий, то есть не нужно расчитывать по каждому слою и затем все мерджить. Нужно сразу для d_L/d_z2 считать градиент как d_L/d_y_hat умноженный на d_y_hat/d_z2, где y_hat это наши предсказания.\n",
        "\n",
        "## Если вам сложно, сделайте сначала для одного слоя"
      ]
    },
    {
      "cell_type": "code",
      "metadata": {
        "id": "7vqa31GKm6uf",
        "colab_type": "code",
        "colab": {
          "base_uri": "https://localhost:8080/",
          "height": 102
        },
        "outputId": "237ec7fb-8895-442c-91de-739417ac8c85"
      },
      "source": [
        "### КОД СЮДА ###\n",
        "\n",
        "learning_rate = 0.01\n",
        "epochs = 5\n",
        "\n",
        "w1 = np.random.rand(784, 4) * learning_rate\n",
        "b1 = 0\n",
        "w2 = np.random.rand(4, 1) * learning_rate\n",
        "b2 = 0\n",
        "\n",
        "losses = []\n",
        "\n",
        "for n_epoch in range(epochs):\n",
        "\n",
        "    print(f'Epoch: {n_epoch + 1}')\n",
        "    \n",
        "    for x, y in train_loader:\n",
        "\n",
        "        x = x.view(x.shape[0], -1).numpy()\n",
        "        y = np.expand_dims(y.numpy(), 1)\n",
        "        \n",
        "        # forward\n",
        "        z1 = np.dot(x, w1) + b1\n",
        "        a1 = (np.exp(z1) - np.exp(-(z1))) / (np.exp(z1) + np.exp(-(z1))) \n",
        "        z2 = np.dot(a1, w2) + b2\n",
        "        # рассчет bce\n",
        "        # не забудьте добавить это значение в массив losses\n",
        "        y_caret = 1/(1 + np.exp(-z2))\n",
        "        loss = -((y * np.log(y_caret) + (1 - y) * np.log(1 - y_caret))).mean()\n",
        "        losses.append(loss)\n",
        "        # backward\n",
        "        dl_dy_caret = ((1 - y) / (1 - y_caret) - (y / y_caret)) / x.shape[0]\n",
        "        dl_dz2 = dl_dy_caret * y_caret * (1 - y_caret)\n",
        "        dl_da1 = dl_dz2.dot(w2.T)\n",
        "        dl_dz1 = dl_da1 * (1 - a1**2)\n",
        "        dl_dw2 = np.dot(a1.T, dl_dz2)\n",
        "        dl_db2 = np.dot(np.ones((1, x.shape[0])), dl_dz2) \n",
        "        dl_dw1 = np.dot(x.T, dl_dz1) \n",
        "        dl_db1 = np.dot(np.ones((1, x.shape[0])), dl_dz1)\n",
        "        w1 = w1 - learning_rate * dl_dw1 \n",
        "        w2 = w2 - learning_rate * dl_dw2\n",
        "        b1 = b1 - learning_rate * dl_db1\n",
        "        b2 = b2 - learning_rate * dl_db2\n",
        "        # gradient descent"
      ],
      "execution_count": null,
      "outputs": [
        {
          "output_type": "stream",
          "text": [
            "Epoch: 1\n",
            "Epoch: 2\n",
            "Epoch: 3\n",
            "Epoch: 4\n",
            "Epoch: 5\n"
          ],
          "name": "stdout"
        }
      ]
    },
    {
      "cell_type": "markdown",
      "metadata": {
        "id": "oj-XyRKSQ58I",
        "colab_type": "text"
      },
      "source": [
        "## Подсказки по размерностям\n",
        "\n",
        "### Forward\n",
        "\n",
        "- z1 - первое линейное преобразование - (BATCH_SIZE, INNER_FEATURES)\n",
        "- a1 - Применение нелинейности - (BATCH_SIZE, INNER_FEATURES)\n",
        "- z2 - второе нелинейное преобразование - (BATCH_SIZE, 1)\n",
        "- pred - сигмоида - (BATCH_SIZE, 1)\n",
        "- loss - функция потерь - скаляр\n",
        "\n",
        "### Backward\n",
        "\n",
        "- d_loss/d_pred - градиент функции потерь по pred - (BATCH_SIZE, 1)\n",
        "- d_loss/dz2 - градиент сигмоиды по z2 - (BATCH_SIZE, 1)\n",
        "- d_loss/da1 - градиент линейного преобразования по a1 - (BATCH_SIZE, INNER_FEATURES)\n",
        "- d_loss/dw2 - градиент линейного преобразования по w2 - (INNER_FEATURES, 1)\n",
        "- d_loss/db2 - градиент линейного преобразования по b2 - (1,)\n",
        "- d_loss/dz1 - градиент нелинейной функции по z1 - (BATCH_SIZE, INNER_FEATURES)\n",
        "- d_loss/dw1 - градиент линейного преобразования по w1 - (IN_FEATURES, INNER_FEATURES)\n",
        "- d_loss/db1 - градиент линейного преобразования по b1 - (INNER_FEATURES,)"
      ]
    },
    {
      "cell_type": "code",
      "metadata": {
        "id": "p4wEyCq2Q58K",
        "colab_type": "code",
        "colab": {
          "base_uri": "https://localhost:8080/",
          "height": 730
        },
        "outputId": "803c7d51-bd11-4bf5-8245-626b0938b6ee"
      },
      "source": [
        "plt.figure(figsize=(14, 12))\n",
        "plt.plot(losses)\n",
        "plt.grid()\n",
        "plt.title('Training process')\n",
        "plt.xlabel('Iterations')\n",
        "plt.ylabel('Loss function');"
      ],
      "execution_count": null,
      "outputs": [
        {
          "output_type": "display_data",
          "data": {
            "image/png": "[encoded data removed]",
            "text/plain": [
              "<Figure size 1008x864 with 1 Axes>"
            ]
          },
          "metadata": {
            "tags": [],
            "needs_background": "light"
          }
        }
      ]
    },
    {
      "cell_type": "markdown",
      "metadata": {
        "id": "rbiLg2spQ58X",
        "colab_type": "text"
      },
      "source": [
        "# Нужно получить значение лосса ниже 0.1 (на графике)\n",
        "```np.mean(losses)``` примерно должно равняться 0.15  \n",
        "Это где-то 0.9+ accuracy"
      ]
    },
    {
      "cell_type": "markdown",
      "metadata": {
        "id": "g3nl8RzjQ58Y",
        "colab_type": "text"
      },
      "source": [
        "# На данном моменте домашка заканчивается\n",
        "### Если вы хотите сделать более продвинутую версию, то ниже есть все необходимое. В курсе оцениваться никак не будет. Только для большего понимания устройства deep learning фреймворков\n",
        "\n",
        "# В любом случае стоит посмотреть [введение в torch](#Введение-в-torch)\n",
        "Вам это понадобится дальше"
      ]
    },
    {
      "cell_type": "markdown",
      "metadata": {
        "id": "Q7GsRCvbQ58a",
        "colab_type": "text"
      },
      "source": [
        "# Импортируем нашу библиотеку\n",
        "\n",
        "## Реализуйте такие слои:\n",
        "- Linear - линейная трансформация (не забудьте, что у нас там как раз есть обучаемые параметры)\n",
        "- ReLU\n",
        "- BCELoss - Binary Cross Entropy\n",
        "\n",
        "\n",
        "## Вы можете реализовать как здесь, так и в файла layers\n",
        "\n",
        "- TIP: np.expand_dims(y, 1) для BCE, так как BCE на вход принимает просто вектор размерностью (батч сайз, )\n",
        "\n",
        "## Также внутри layers есть код для Negative Log-Likelihood (сразу с софтмаксом)"
      ]
    },
    {
      "cell_type": "code",
      "metadata": {
        "id": "6DfCl2KGQ58d",
        "colab_type": "code",
        "colab": {}
      },
      "source": [
        "from our_library import layers, wrapper, tools"
      ],
      "execution_count": null,
      "outputs": []
    },
    {
      "cell_type": "markdown",
      "metadata": {
        "id": "VgBFY5LDQ58s",
        "colab_type": "text"
      },
      "source": [
        "# Пример"
      ]
    },
    {
      "cell_type": "code",
      "metadata": {
        "id": "LYiMXH2AQ58t",
        "colab_type": "code",
        "colab": {}
      },
      "source": [
        "class Sigmoid:\n",
        "\n",
        "    def __init__(self):\n",
        "\n",
        "        self._sigmoid_result = None\n",
        "\n",
        "    def forward(self, x):\n",
        "\n",
        "        self._sigmoid_result = 1 / (1 + np.exp(-x))\n",
        "\n",
        "        return self._sigmoid_result\n",
        "\n",
        "    def backward(self, grad):\n",
        "        \"\"\"\n",
        "        :grad: градиент от предыдущего слоя\n",
        "        :return: градиент для следующего слоя\n",
        "        \"\"\"\n",
        "\n",
        "        new_grad = self._sigmoid_result * (1 - self._sigmoid_result) * grad\n",
        "\n",
        "        return new_grad\n",
        "\n",
        "    def step(self, learning_step):\n",
        "\n",
        "        pass"
      ],
      "execution_count": null,
      "outputs": []
    },
    {
      "cell_type": "markdown",
      "metadata": {
        "id": "agpbXQVMQ587",
        "colab_type": "text"
      },
      "source": [
        "# Пример работы тестов"
      ]
    },
    {
      "cell_type": "code",
      "metadata": {
        "id": "I2Rk3JTcQ589",
        "colab_type": "code",
        "colab": {}
      },
      "source": [
        "x = np.array([[0.91551091, 0.15073826, 0.77137556, 0.59352491],\n",
        "              [0.81126142, 0.1194849 , 0.29651178, 0.19066982]])"
      ],
      "execution_count": null,
      "outputs": []
    },
    {
      "cell_type": "code",
      "metadata": {
        "id": "gfQCdNRZQ59L",
        "colab_type": "code",
        "colab": {}
      },
      "source": [
        "sigmoid_layer = Sigmoid()"
      ],
      "execution_count": null,
      "outputs": []
    },
    {
      "cell_type": "code",
      "metadata": {
        "id": "lfUPA_RqQ59f",
        "colab_type": "code",
        "colab": {}
      },
      "source": [
        "forward_result = sigmoid_layer.forward(x)"
      ],
      "execution_count": null,
      "outputs": []
    },
    {
      "cell_type": "code",
      "metadata": {
        "id": "3LrMp8oIQ594",
        "colab_type": "code",
        "colab": {}
      },
      "source": [
        "correct_forward_result = np.array([[0.71412654, 0.53761337, 0.68381838, 0.64417351],\n",
        "                                   [0.69237824, 0.52983574, 0.57358957, 0.54752357]])"
      ],
      "execution_count": null,
      "outputs": []
    },
    {
      "cell_type": "code",
      "metadata": {
        "id": "wTPogqYsQ5-K",
        "colab_type": "code",
        "colab": {}
      },
      "source": [
        "# значения должны быть близкими\n",
        "assert np.allclose(correct_forward_result, forward_result)"
      ],
      "execution_count": null,
      "outputs": []
    },
    {
      "cell_type": "code",
      "metadata": {
        "id": "Vf62COoEQ5-T",
        "colab_type": "code",
        "colab": {}
      },
      "source": [
        "backward_result = sigmoid_layer.backward(np.ones_like(x))"
      ],
      "execution_count": null,
      "outputs": []
    },
    {
      "cell_type": "code",
      "metadata": {
        "id": "1V_U8CTnQ5-i",
        "colab_type": "code",
        "colab": {}
      },
      "source": [
        "correct_backward_result = np.array([[0.20414982, 0.24858523, 0.2162108 , 0.229214  ],\n",
        "                                    [0.21299061, 0.24910983, 0.24458457, 0.24774151]])"
      ],
      "execution_count": null,
      "outputs": []
    },
    {
      "cell_type": "code",
      "metadata": {
        "id": "hd0oigcCQ5-w",
        "colab_type": "code",
        "colab": {}
      },
      "source": [
        "# значения должны быть близкими\n",
        "assert np.allclose(correct_backward_result, backward_result)"
      ],
      "execution_count": null,
      "outputs": []
    },
    {
      "cell_type": "markdown",
      "metadata": {
        "id": "qPD87HIJQ5-8",
        "colab_type": "text"
      },
      "source": [
        "## Template"
      ]
    },
    {
      "cell_type": "code",
      "metadata": {
        "id": "RSBOxbFrQ5_B",
        "colab_type": "code",
        "colab": {}
      },
      "source": [
        "class ReLU:\n",
        "\n",
        "    def __init__(self):\n",
        "        \n",
        "        pass\n",
        "\n",
        "    def forward(self, x):\n",
        "\n",
        "        pass\n",
        "\n",
        "    def backward(self, grad):\n",
        "\n",
        "        pass\n",
        "\n",
        "    def step(self, learning_rate):\n",
        "\n",
        "        pass"
      ],
      "execution_count": null,
      "outputs": []
    },
    {
      "cell_type": "code",
      "metadata": {
        "id": "r1cKKnTOQ5_P",
        "colab_type": "code",
        "colab": {}
      },
      "source": [
        "from our_library_solved.layers import Linear, ReLU, BCELoss"
      ],
      "execution_count": null,
      "outputs": []
    },
    {
      "cell_type": "code",
      "metadata": {
        "id": "PEYyxGqkQ5_f",
        "colab_type": "code",
        "colab": {},
        "outputId": "71e95de6-60ee-4880-c7cd-8af571d3f1ac"
      },
      "source": [
        "class Linear:\n",
        "\n",
        "    def __init__(self, in_features, out_features):\n",
        "        \n",
        "        # инициализируем веса\n",
        "        self.weight = \n",
        "        self.bias = \n",
        "        \n",
        "        # сохраняем градиент для весов\n",
        "        self._grad_weight = None\n",
        "        self._grad_bias = None\n",
        "\n",
        "    def forward(self, x):\n",
        "\n",
        "        pass\n",
        "\n",
        "    def backward(self, grad):\n",
        "\n",
        "        pass\n",
        "\n",
        "    def step(self, learning_rate):\n",
        "\n",
        "        pass"
      ],
      "execution_count": null,
      "outputs": [
        {
          "output_type": "error",
          "ename": "SyntaxError",
          "evalue": "invalid syntax (<ipython-input-33-7b91485e7beb>, line 5)",
          "traceback": [
            "\u001b[0;36m  File \u001b[0;32m\"<ipython-input-33-7b91485e7beb>\"\u001b[0;36m, line \u001b[0;32m5\u001b[0m\n\u001b[0;31m    self.weight =\u001b[0m\n\u001b[0m                  ^\u001b[0m\n\u001b[0;31mSyntaxError\u001b[0m\u001b[0;31m:\u001b[0m invalid syntax\n"
          ]
        }
      ]
    },
    {
      "cell_type": "markdown",
      "metadata": {
        "id": "aq0D1KBbQ5_y",
        "colab_type": "text"
      },
      "source": [
        "# Linear test"
      ]
    },
    {
      "cell_type": "code",
      "metadata": {
        "id": "kezW_xfzQ5_0",
        "colab_type": "code",
        "colab": {}
      },
      "source": [
        "linear = Linear(in_features=4, out_features=3)"
      ],
      "execution_count": null,
      "outputs": []
    },
    {
      "cell_type": "code",
      "metadata": {
        "id": "P7zXO9beQ6AO",
        "colab_type": "code",
        "colab": {}
      },
      "source": [
        "# так как внутри слоя мы объвяляем наши веса рандомно (домножая на 0.01), то давайте присвоим им для теста конкретные значения\n",
        "\n",
        "linear.weight = np.array([[0.00879391, 0.0075844 , 0.00430709],\n",
        "                          [0.00884834, 0.00921104, 0.00044317],\n",
        "                          [0.00011441, 0.00822498, 0.00122346],\n",
        "                          [0.00338301, 0.0001627 , 0.00711473]])\n",
        "\n",
        "linear.bias = np.array([0., 0., 0.])"
      ],
      "execution_count": null,
      "outputs": []
    },
    {
      "cell_type": "code",
      "metadata": {
        "id": "CTnILqozQ6AX",
        "colab_type": "code",
        "colab": {}
      },
      "source": [
        "correct_forward_result = np.array([[0.01148086, 0.01477317, 0.00917651],\n",
        "                                   [0.00887036, 0.00972334, 0.00526646]])"
      ],
      "execution_count": null,
      "outputs": []
    },
    {
      "cell_type": "code",
      "metadata": {
        "id": "S0l-9Y30Q6Ax",
        "colab_type": "code",
        "colab": {}
      },
      "source": [
        "forward = linear.forward(x)"
      ],
      "execution_count": null,
      "outputs": []
    },
    {
      "cell_type": "code",
      "metadata": {
        "id": "2ttQoZE5Q6BE",
        "colab_type": "code",
        "colab": {},
        "outputId": "99fbf433-5492-449d-960f-0234cc26dd2a"
      },
      "source": [
        "# значения должны быть близкими\n",
        "assert np.allclose(correct_forward_result, forward)"
      ],
      "execution_count": null,
      "outputs": [
        {
          "output_type": "execute_result",
          "data": {
            "text/plain": [
              "-1.2008401972449234e-09"
            ]
          },
          "metadata": {
            "tags": []
          },
          "execution_count": 38
        }
      ]
    },
    {
      "cell_type": "code",
      "metadata": {
        "id": "0bBp8x10Q6BV",
        "colab_type": "code",
        "colab": {}
      },
      "source": [
        "previous_grad = np.array([[0.01595814, 0.85148336, 0.9980065 ],\n",
        "                          [0.73044998, 0.18287682, 0.41246361]])"
      ],
      "execution_count": null,
      "outputs": []
    },
    {
      "cell_type": "code",
      "metadata": {
        "id": "UhMbFr9-Q6Bj",
        "colab_type": "code",
        "colab": {}
      },
      "source": [
        "correct_backward_result = np.array([[0.01089683, 0.00842654, 0.00822628, 0.00729307],\n",
        "                                    [0.00958704, 0.00833055, 0.00209236, 0.00543544]])"
      ],
      "execution_count": null,
      "outputs": []
    },
    {
      "cell_type": "code",
      "metadata": {
        "id": "tHSKKvuRQ6Bz",
        "colab_type": "code",
        "colab": {}
      },
      "source": [
        "backward = linear.backward(previous_grad)"
      ],
      "execution_count": null,
      "outputs": []
    },
    {
      "cell_type": "code",
      "metadata": {
        "id": "tnnadtfAQ6B-",
        "colab_type": "code",
        "colab": {}
      },
      "source": [
        "# значения должны быть близкими\n",
        "assert np.allclose(correct_backward_result, backward)"
      ],
      "execution_count": null,
      "outputs": []
    },
    {
      "cell_type": "code",
      "metadata": {
        "id": "RIJWnJtRQ6CN",
        "colab_type": "code",
        "colab": {}
      },
      "source": [
        "correct_grad_weight = np.array([[0.60719574, 0.92790321, 1.24830165],\n",
        "                                [0.08968325, 0.15020214, 0.19972094],\n",
        "                                [0.22889674, 0.71103859, 0.89213814],\n",
        "                                [0.14874632, 0.54024567, 0.67098608]])"
      ],
      "execution_count": null,
      "outputs": []
    },
    {
      "cell_type": "code",
      "metadata": {
        "id": "Dp_ZtvnNQ6Cf",
        "colab_type": "code",
        "colab": {}
      },
      "source": [
        "# значения должны быть близкими\n",
        "assert np.allclose(linear._grad_weight, correct_grad_weight)"
      ],
      "execution_count": null,
      "outputs": []
    },
    {
      "cell_type": "code",
      "metadata": {
        "id": "fJPzcCVhQ6Co",
        "colab_type": "code",
        "colab": {}
      },
      "source": [
        "correct_grad_bias = np.array([0.74640812, 1.03436018, 1.41047011])"
      ],
      "execution_count": null,
      "outputs": []
    },
    {
      "cell_type": "code",
      "metadata": {
        "id": "WohxBg86Q6C7",
        "colab_type": "code",
        "colab": {}
      },
      "source": [
        "# значения должны быть близкими\n",
        "assert np.allclose(linear._grad_bias, correct_grad_bias)"
      ],
      "execution_count": null,
      "outputs": []
    },
    {
      "cell_type": "markdown",
      "metadata": {
        "id": "PgkgP6itQ6DN",
        "colab_type": "text"
      },
      "source": [
        "# ReLU test"
      ]
    },
    {
      "cell_type": "code",
      "metadata": {
        "id": "L5zIxUvyQ6DP",
        "colab_type": "code",
        "colab": {}
      },
      "source": [
        "relu = ReLU()"
      ],
      "execution_count": null,
      "outputs": []
    },
    {
      "cell_type": "code",
      "metadata": {
        "id": "vk08EOudQ6DZ",
        "colab_type": "code",
        "colab": {}
      },
      "source": [
        "x = np.array([[ 0.86811233, -0.23718669, -0.18401917, -0.37591633],\n",
        "              [-0.40626018,  0.37746975, -0.46929233,  0.79067681]])"
      ],
      "execution_count": null,
      "outputs": []
    },
    {
      "cell_type": "code",
      "metadata": {
        "id": "NaR2YL37Q6Dh",
        "colab_type": "code",
        "colab": {}
      },
      "source": [
        "forward = relu.forward(x)"
      ],
      "execution_count": null,
      "outputs": []
    },
    {
      "cell_type": "code",
      "metadata": {
        "id": "EP8zFAYbQ6D9",
        "colab_type": "code",
        "colab": {}
      },
      "source": [
        "correct_forward_result = np.array([[0.86811233, 0.        , 0.        , 0.        ],\n",
        "                                   [0.        , 0.37746975, 0.        , 0.79067681]])"
      ],
      "execution_count": null,
      "outputs": []
    },
    {
      "cell_type": "code",
      "metadata": {
        "id": "QdigQao2Q6EL",
        "colab_type": "code",
        "colab": {}
      },
      "source": [
        "# значения должны быть близкими\n",
        "assert np.allclose(correct_forward_result, forward)"
      ],
      "execution_count": null,
      "outputs": []
    },
    {
      "cell_type": "code",
      "metadata": {
        "id": "F6AA41AWQ6EY",
        "colab_type": "code",
        "colab": {}
      },
      "source": [
        "previous_grad = np.array([[0.22436157, 0.61897707, 0.67895832, 0.72428618],\n",
        "                          [0.71231319, 0.87345215, 0.91129578, 0.90625846]])"
      ],
      "execution_count": null,
      "outputs": []
    },
    {
      "cell_type": "code",
      "metadata": {
        "id": "RjJfHcsFQ6Eg",
        "colab_type": "code",
        "colab": {}
      },
      "source": [
        "correct_backward_result = np.array([[0.22436157, 0.        , 0.        , 0.        ],\n",
        "                                    [0.        , 0.87345215, 0.        , 0.90625846]])"
      ],
      "execution_count": null,
      "outputs": []
    },
    {
      "cell_type": "code",
      "metadata": {
        "id": "8QNQUXjCQ6Es",
        "colab_type": "code",
        "colab": {}
      },
      "source": [
        "backward = relu.backward(previous_grad)"
      ],
      "execution_count": null,
      "outputs": []
    },
    {
      "cell_type": "code",
      "metadata": {
        "id": "kshfTkrrQ6E1",
        "colab_type": "code",
        "colab": {}
      },
      "source": [
        "# значения должны быть близкими\n",
        "assert np.allclose(correct_backward_result, backward)"
      ],
      "execution_count": null,
      "outputs": []
    },
    {
      "cell_type": "markdown",
      "metadata": {
        "id": "3_nNNcQYQ6FI",
        "colab_type": "text"
      },
      "source": [
        "# BCE test"
      ]
    },
    {
      "cell_type": "markdown",
      "metadata": {
        "id": "nnLhoKADQ6FK",
        "colab_type": "text"
      },
      "source": [
        "### Не забудьте добавить np.expand_dims(y, 1) в forward\n",
        "```python\n",
        "class BCELoss:\n",
        "\n",
        "    def __init__(self):\n",
        "        \n",
        "        pass\n",
        "\n",
        "    def forward(self, x, y):\n",
        "\n",
        "        y = np.expand_dims(y, 1)\n",
        "\n",
        "    def backward(self):\n",
        "        pass\n",
        "\n",
        "    def step(self, learning_rate):\n",
        "        pass\n",
        "```"
      ]
    },
    {
      "cell_type": "code",
      "metadata": {
        "id": "IYAOiJorQ6FM",
        "colab_type": "code",
        "colab": {}
      },
      "source": [
        "loss = BCELoss()"
      ],
      "execution_count": null,
      "outputs": []
    },
    {
      "cell_type": "code",
      "metadata": {
        "id": "-Pct_tkyQ6Fe",
        "colab_type": "code",
        "colab": {}
      },
      "source": [
        "x = np.array([[0.76242307],\n",
        "              [0.0908412 ],\n",
        "              [0.60176646],\n",
        "              [0.09606798]])\n",
        "\n",
        "y = np.array([1, 0, 1, 0])"
      ],
      "execution_count": null,
      "outputs": []
    },
    {
      "cell_type": "code",
      "metadata": {
        "id": "b0xoGjgaQ6Fq",
        "colab_type": "code",
        "colab": {}
      },
      "source": [
        "forward = loss.forward(x, y)"
      ],
      "execution_count": null,
      "outputs": []
    },
    {
      "cell_type": "code",
      "metadata": {
        "id": "yjC5m04eQ6Fx",
        "colab_type": "code",
        "colab": {}
      },
      "source": [
        "correct_forward_result = 0.24384403491500606"
      ],
      "execution_count": null,
      "outputs": []
    },
    {
      "cell_type": "code",
      "metadata": {
        "id": "5fjqMCPjQ6F2",
        "colab_type": "code",
        "colab": {}
      },
      "source": [
        "# значения должны быть близкими\n",
        "assert np.allclose(correct_forward_result, forward)"
      ],
      "execution_count": null,
      "outputs": []
    },
    {
      "cell_type": "code",
      "metadata": {
        "id": "2JP2F0hbQ6GI",
        "colab_type": "code",
        "colab": {}
      },
      "source": [
        "backward = loss.backward()"
      ],
      "execution_count": null,
      "outputs": []
    },
    {
      "cell_type": "code",
      "metadata": {
        "id": "JL7BLyqqQ6GU",
        "colab_type": "code",
        "colab": {}
      },
      "source": [
        "correct_backward_result = np.array([[-0.32790194],\n",
        "                                    [ 0.27497946],\n",
        "                                    [-0.41544356],\n",
        "                                    [ 0.27656947]])"
      ],
      "execution_count": null,
      "outputs": []
    },
    {
      "cell_type": "code",
      "metadata": {
        "id": "rxasYpa1Q6Gh",
        "colab_type": "code",
        "colab": {}
      },
      "source": [
        "# значения должны быть близкими\n",
        "assert np.allclose(correct_backward_result, backward)"
      ],
      "execution_count": null,
      "outputs": []
    },
    {
      "cell_type": "markdown",
      "metadata": {
        "id": "S76sfMIiQ6Gx",
        "colab_type": "text"
      },
      "source": [
        "## Реализуйте обертку над слоями - нейронную сеть\n",
        "- TIP 1: modules - это список слоев, которые вы сделали выше. Порядок важен\n",
        "- TIP 2: циклы это круто\n",
        "- TIP 3: forward идет в одну сторону по слоям, а backward в другую\n",
        "- TIP 4: В backward функции потерь мы не передаем предыдущий градиент, потому что это начало backward\n",
        "- TIP 5: forward и backward ничего не должны отдавать\n",
        "- TIP 6: в step нужно пройтись по всем слоям и обновить веса"
      ]
    },
    {
      "cell_type": "code",
      "metadata": {
        "id": "7_wOZPmIQ6Gy",
        "colab_type": "code",
        "colab": {}
      },
      "source": [
        "class NeuralNetwork:\n",
        "\n",
        "    def __init__(self, modules):\n",
        "\n",
        "        # список слоев\n",
        "        self.modules = modules\n",
        "\n",
        "    def forward(self, x):\n",
        "\n",
        "        pass\n",
        "\n",
        "    def backward(self, grad):\n",
        "        \"\"\"\n",
        "        :grad: градиент от функции потерь\n",
        "        :return: возвращать ничего не потребуется\n",
        "        \"\"\"\n",
        "\n",
        "        pass\n",
        "\n",
        "    def step(self, learning_rate):\n",
        "\n",
        "        pass"
      ],
      "execution_count": null,
      "outputs": []
    },
    {
      "cell_type": "markdown",
      "metadata": {
        "id": "01Nnm9SXQ6G5",
        "colab_type": "text"
      },
      "source": [
        "## Реализуйте обертку над моделью"
      ]
    },
    {
      "cell_type": "code",
      "metadata": {
        "id": "hQwl595FQ6G6",
        "colab_type": "code",
        "colab": {}
      },
      "source": [
        "class MNISTWrapper(wrapper.Wrapper):\n",
        "\n",
        "    def __init__(self, model, loss, learning_rate=0.001, multi_class=False):\n",
        "\n",
        "        # передаем параметры, чтобы отработал __init__ от наследуемого класса\n",
        "        # можно было бы сделать через **kwargs, но сделал так для наглядности и чтобы были подсказки в юпитере\n",
        "\n",
        "        super().__init__(model=model, loss=loss, learning_rate=learning_rate, multi_class=multi_class)\n",
        "\n",
        "    def train_batch(self, x, y):\n",
        "        \"\"\"\n",
        "        Нужно реализовать одну итерацию обучения модели:\n",
        "        1. Рассчет forward\n",
        "        2. Рассчет функции потерь\n",
        "        3. Рассчет backward от функции потерь\n",
        "        4. Рассчет backward по модели, передавая туда значение градиента по функции потерь\n",
        "        5. Обновление весов с помощью step\n",
        "        :param x: входные данные np.array with shape (batch_size, n_features)\n",
        "        :param y: предсказания np.array with shape (batch_size, n_classes)\n",
        "        :return:\n",
        "        loss_batch - значение функции потерь, просто скаляр\n",
        "        prediction - матрица предсказаний вашей модели\n",
        "\n",
        "        напомню важные штуки, которые знает наш класс:\n",
        "        self.model\n",
        "        self.loss\n",
        "        self.learning_rate\n",
        "        \"\"\"\n",
        "\n",
        "    def predict_batch(self, x):\n",
        "        \"\"\"\n",
        "        Предсказание (aka inference) вашей модели:\n",
        "        1. Рассчет forward\n",
        "        :param x: входные данные np.array with shape (batch_size, n_features)\n",
        "        :return: prediction - матрица предсказаний вашей модели\n",
        "        \"\"\"\n",
        "        \n",
        "        # Больше ничего делать не нужно\n",
        "        # Все уже сделано\n",
        "        \n",
        "        return self.model.forward(x)"
      ],
      "execution_count": null,
      "outputs": []
    },
    {
      "cell_type": "code",
      "metadata": {
        "id": "H1FXm3ScQ6HH",
        "colab_type": "code",
        "colab": {}
      },
      "source": [
        "# задайте гиперпараметры\n",
        "learning_rate = ...\n",
        "epochs = ...\n",
        "\n",
        "# задайте слои в свою нейронную сеть, например, 3 слоя\n",
        "neural_network = layers.NeuralNetwork(...)\n",
        "\n",
        "loss = layers.BCELoss()"
      ],
      "execution_count": null,
      "outputs": []
    },
    {
      "cell_type": "code",
      "metadata": {
        "id": "RjmPxjfUQ6HT",
        "colab_type": "code",
        "colab": {}
      },
      "source": [
        "classifier = MNISTWrapper(model=neural_network,\n",
        "                          loss=loss,\n",
        "                          learning_rate=learning_rate)"
      ],
      "execution_count": null,
      "outputs": []
    },
    {
      "cell_type": "markdown",
      "metadata": {
        "id": "GgRVkB50Q6HZ",
        "colab_type": "text"
      },
      "source": [
        "## Раскомментируйте и запустите"
      ]
    },
    {
      "cell_type": "code",
      "metadata": {
        "id": "Bc9RqIvoQ6Hb",
        "colab_type": "code",
        "colab": {}
      },
      "source": [
        "classifier.train(train_loader, test_loader, epochs=epochs)"
      ],
      "execution_count": null,
      "outputs": []
    },
    {
      "cell_type": "code",
      "metadata": {
        "id": "7f0hIh9yQ6Hj",
        "colab_type": "code",
        "colab": {},
        "outputId": "c29281bb-5481-4f72-f02b-55f931241f90"
      },
      "source": [
        "classifier.plot()"
      ],
      "execution_count": null,
      "outputs": [
        {
          "output_type": "display_data",
          "data": {
            "image/png": "[encoded data removed]",
            "text/plain": [
              "<Figure size 1152x864 with 2 Axes>"
            ]
          },
          "metadata": {
            "tags": [],
            "needs_background": "light"
          }
        }
      ]
    },
    {
      "cell_type": "markdown",
      "metadata": {
        "id": "bwG6KNvFQ6H2",
        "colab_type": "text"
      },
      "source": [
        "# Введение в torch"
      ]
    },
    {
      "cell_type": "code",
      "metadata": {
        "id": "a3EPwtCNQ6H4",
        "colab_type": "code",
        "colab": {}
      },
      "source": [
        "import torch"
      ],
      "execution_count": null,
      "outputs": []
    },
    {
      "cell_type": "markdown",
      "metadata": {
        "id": "C_NG80WOQ6IR",
        "colab_type": "text"
      },
      "source": [
        "### Мы можем определить нашу модель как последовательность уже существующих слоев, как в керасе"
      ]
    },
    {
      "cell_type": "code",
      "metadata": {
        "id": "o0reejrIQ6IT",
        "colab_type": "code",
        "colab": {},
        "outputId": "dd50575b-3b31-4d2b-8e02-d8c5200a7cf3"
      },
      "source": [
        "model = torch.nn.Sequential()\n",
        "\n",
        "model.add_module(name='linear_1', module=torch.nn.Linear(in_features=784, out_features=256))\n",
        "model.add_module(name='relu', module=torch.nn.ReLU())\n",
        "model.add_module(name='linear_2', module=torch.nn.Linear(in_features=256, out_features=1))\n",
        "model.add_module(name='sigmoid', module=torch.nn.Sigmoid())\n",
        "\n",
        "model"
      ],
      "execution_count": null,
      "outputs": [
        {
          "output_type": "execute_result",
          "data": {
            "text/plain": [
              "Sequential(\n",
              "  (linear_1): Linear(in_features=784, out_features=256, bias=True)\n",
              "  (relu): ReLU()\n",
              "  (linear_2): Linear(in_features=256, out_features=1, bias=True)\n",
              "  (sigmoid): Sigmoid()\n",
              ")"
            ]
          },
          "metadata": {
            "tags": []
          },
          "execution_count": 69
        }
      ]
    },
    {
      "cell_type": "markdown",
      "metadata": {
        "id": "LSSdrtOeQ6IZ",
        "colab_type": "text"
      },
      "source": [
        "### Либо так"
      ]
    },
    {
      "cell_type": "code",
      "metadata": {
        "id": "QnOIqadeQ6Ia",
        "colab_type": "code",
        "colab": {},
        "outputId": "bef1dee2-ad71-4d86-9efe-44881726d255"
      },
      "source": [
        "model = torch.nn.Sequential(\n",
        "    torch.nn.Linear(in_features=784, out_features=256),\n",
        "    torch.nn.ReLU(),\n",
        "    torch.nn.Linear(in_features=256, out_features=1),\n",
        "    torch.nn.Sigmoid()\n",
        ")\n",
        "\n",
        "model"
      ],
      "execution_count": null,
      "outputs": [
        {
          "output_type": "execute_result",
          "data": {
            "text/plain": [
              "Sequential(\n",
              "  (0): Linear(in_features=784, out_features=256, bias=True)\n",
              "  (1): ReLU()\n",
              "  (2): Linear(in_features=256, out_features=1, bias=True)\n",
              "  (3): Sigmoid()\n",
              ")"
            ]
          },
          "metadata": {
            "tags": []
          },
          "execution_count": 70
        }
      ]
    },
    {
      "cell_type": "markdown",
      "metadata": {
        "id": "VK_p1OxmQ6Ii",
        "colab_type": "text"
      },
      "source": [
        "## А вот для чего нужно было писать в домашке классы\n",
        "## Для определения своих моделей/слоев/чего вам захочется нам нужно сделать такую структуру"
      ]
    },
    {
      "cell_type": "code",
      "metadata": {
        "id": "TGo9JuGnQ6Ij",
        "colab_type": "code",
        "colab": {}
      },
      "source": [
        "# наследуемся от класса torch.nn.Module\n",
        "class MLP(torch.nn.Module):\n",
        "    \n",
        "    # определяем метод __init__\n",
        "    # он нужен для того, чтобы мы могли определить нужные нам слои, веса, сохраняемые операции\n",
        "    # \n",
        "    # передаем ссылку на самого себя первым параметром\n",
        "    # \n",
        "    # определяем любые другие передаваемые аргументы\n",
        "    # могут быть чем угодно: числа, словари, другие слои, другие модели и вообще все что угодно\n",
        "    # \n",
        "    def __init__(self, in_features, inner_features, out_features):\n",
        "        \n",
        "        # Вызываем __init__ родителя - torch.nn.Module\n",
        "        super().__init__()\n",
        "        \n",
        "        # определяем слои и все что захотим сохранять/использовать\n",
        "        self.linear_1 = torch.nn.Linear(in_features=in_features, out_features=inner_features)\n",
        "        self.non_linear_function = torch.nn.ReLU()\n",
        "        self.linear_2 = torch.nn.Linear(in_features=inner_features, out_features=out_features)\n",
        "        self.sigmoid = torch.nn.Sigmoid()\n",
        "        \n",
        "    # нам нужно обязательно реализовать метод forward\n",
        "    # это то, что нашей модели нужно делать, как оперировать с входными данными, как рассчитывать\n",
        "    # метод backward нам не нужно реализовывать, потому что в торче есть автоматическое дифференцирование\n",
        "    # главное, чтобы наши операции были дифференцируемы\n",
        "    # некоторые подробности можете узнать здесь:\n",
        "    # https://pytorch.org/tutorials/beginner/blitz/autograd_tutorial.html#sphx-glr-beginner-blitz-autograd-tutorial-py\n",
        "    # также список доступных дифференцируемых операций можете посмотреть здесь:\n",
        "    # https://pytorch.org/docs/stable/tensors.html\n",
        "    def forward(self, x):\n",
        "        \n",
        "        # наша привычная схема\n",
        "        x = self.linear_1(x)\n",
        "        x = self.non_linear_function(x)\n",
        "        x = self.linear_2(x)\n",
        "        x = self.sigmoid(x)\n",
        "        \n",
        "        return x\n",
        "    \n",
        "    # мы также можем реализовать любые другие полезные нам методы внутри класса"
      ],
      "execution_count": null,
      "outputs": []
    },
    {
      "cell_type": "code",
      "metadata": {
        "id": "lf85g6YuQ6Iv",
        "colab_type": "code",
        "colab": {}
      },
      "source": [
        "# определяем нашу модель\n",
        "model = MLP(in_features=784, inner_features=256, out_features=1)"
      ],
      "execution_count": null,
      "outputs": []
    },
    {
      "cell_type": "code",
      "metadata": {
        "scrolled": true,
        "id": "j5AYYjnwQ6I-",
        "colab_type": "code",
        "colab": {},
        "outputId": "7bdab894-aa65-4b15-a02f-3700e7d4ffe9"
      },
      "source": [
        "model"
      ],
      "execution_count": null,
      "outputs": [
        {
          "output_type": "execute_result",
          "data": {
            "text/plain": [
              "MLP(\n",
              "  (linear_1): Linear(in_features=784, out_features=256, bias=True)\n",
              "  (non_linear_function): ReLU()\n",
              "  (linear_2): Linear(in_features=256, out_features=1, bias=True)\n",
              "  (sigmoid): Sigmoid()\n",
              ")"
            ]
          },
          "metadata": {
            "tags": []
          },
          "execution_count": 73
        }
      ]
    },
    {
      "cell_type": "code",
      "metadata": {
        "id": "SK9PGtkiQ6JH",
        "colab_type": "code",
        "colab": {},
        "outputId": "ab29a044-48d1-4b43-d0a9-a30368f5c458"
      },
      "source": [
        "# можем посмотреть веса\n",
        "model.linear_1.weight.shape"
      ],
      "execution_count": null,
      "outputs": [
        {
          "output_type": "execute_result",
          "data": {
            "text/plain": [
              "torch.Size([256, 784])"
            ]
          },
          "metadata": {
            "tags": []
          },
          "execution_count": 74
        }
      ]
    },
    {
      "cell_type": "code",
      "metadata": {
        "id": "N_XnIypEQ6JP",
        "colab_type": "code",
        "colab": {}
      },
      "source": [
        "# еще нам нужно задать функцию потерь \n",
        "criterion = torch.nn.BCELoss()"
      ],
      "execution_count": null,
      "outputs": []
    },
    {
      "cell_type": "code",
      "metadata": {
        "id": "X1qYHfnbQ6Ja",
        "colab_type": "code",
        "colab": {}
      },
      "source": [
        "# и оптимизатор, куда нужно передать параметры модели\n",
        "# параметры модели можно взять методом класса .parameters()\n",
        "optimizer = torch.optim.SGD(params=model.parameters(), lr=0.01)"
      ],
      "execution_count": null,
      "outputs": []
    },
    {
      "cell_type": "code",
      "metadata": {
        "id": "9WLT5k2oQ6Jg",
        "colab_type": "code",
        "colab": {},
        "outputId": "23096312-b464-4cc9-ef84-8bdd9a044195"
      },
      "source": [
        "# можем посмотреть на параметры нашей модели\n",
        "params = list(model.parameters())\n",
        "params"
      ],
      "execution_count": null,
      "outputs": [
        {
          "output_type": "execute_result",
          "data": {
            "text/plain": [
              "[Parameter containing:\n",
              " tensor([[-0.0196,  0.0255, -0.0334,  ..., -0.0350, -0.0306,  0.0006],\n",
              "         [-0.0236,  0.0042, -0.0211,  ..., -0.0340,  0.0262, -0.0064],\n",
              "         [ 0.0276,  0.0280, -0.0146,  ...,  0.0083, -0.0096, -0.0045],\n",
              "         ...,\n",
              "         [-0.0058,  0.0318,  0.0282,  ..., -0.0007, -0.0263, -0.0142],\n",
              "         [ 0.0124, -0.0174,  0.0310,  ..., -0.0072, -0.0107, -0.0096],\n",
              "         [ 0.0060, -0.0156, -0.0212,  ...,  0.0351,  0.0150,  0.0282]],\n",
              "        requires_grad=True), Parameter containing:\n",
              " tensor([ 0.0214,  0.0327,  0.0114,  0.0066, -0.0139, -0.0215, -0.0296,  0.0226,\n",
              "         -0.0350, -0.0324,  0.0119, -0.0205,  0.0338,  0.0199,  0.0342,  0.0143,\n",
              "         -0.0199,  0.0050,  0.0045,  0.0299,  0.0115, -0.0173, -0.0082,  0.0194,\n",
              "          0.0139, -0.0083, -0.0177,  0.0037,  0.0174,  0.0043,  0.0191, -0.0108,\n",
              "          0.0100, -0.0076, -0.0022,  0.0248, -0.0037, -0.0142,  0.0070,  0.0055,\n",
              "          0.0107,  0.0146,  0.0244, -0.0274,  0.0248, -0.0306, -0.0273, -0.0080,\n",
              "         -0.0199, -0.0137, -0.0068, -0.0277,  0.0221,  0.0033, -0.0347,  0.0278,\n",
              "          0.0053,  0.0174,  0.0101,  0.0138, -0.0334, -0.0263, -0.0089,  0.0251,\n",
              "         -0.0093,  0.0147, -0.0200, -0.0054,  0.0214,  0.0079,  0.0078,  0.0230,\n",
              "          0.0330,  0.0273, -0.0308,  0.0164,  0.0179, -0.0123,  0.0295,  0.0170,\n",
              "          0.0054, -0.0357, -0.0246, -0.0138,  0.0242,  0.0148,  0.0027, -0.0241,\n",
              "         -0.0266, -0.0201, -0.0226,  0.0281,  0.0308,  0.0296,  0.0196,  0.0331,\n",
              "         -0.0198, -0.0269, -0.0333, -0.0106,  0.0099,  0.0320, -0.0292, -0.0186,\n",
              "          0.0349,  0.0132,  0.0093, -0.0243, -0.0186, -0.0172, -0.0149,  0.0017,\n",
              "         -0.0029,  0.0042, -0.0315, -0.0164,  0.0084,  0.0072,  0.0279, -0.0271,\n",
              "         -0.0117, -0.0133, -0.0337, -0.0337,  0.0348, -0.0340,  0.0260, -0.0231,\n",
              "          0.0245,  0.0296, -0.0034,  0.0172, -0.0269,  0.0178, -0.0273, -0.0226,\n",
              "         -0.0236, -0.0267, -0.0263, -0.0208,  0.0047,  0.0015,  0.0088, -0.0254,\n",
              "          0.0118, -0.0100, -0.0263,  0.0337, -0.0255,  0.0098, -0.0197,  0.0298,\n",
              "          0.0271, -0.0144, -0.0055, -0.0237,  0.0205,  0.0007, -0.0254,  0.0333,\n",
              "          0.0308, -0.0165,  0.0143, -0.0234, -0.0026, -0.0033,  0.0230, -0.0147,\n",
              "          0.0212,  0.0192, -0.0054, -0.0061,  0.0197, -0.0297,  0.0076,  0.0128,\n",
              "          0.0177,  0.0050,  0.0308, -0.0042, -0.0326, -0.0231,  0.0332,  0.0303,\n",
              "         -0.0064, -0.0013,  0.0215,  0.0089,  0.0008, -0.0236, -0.0208,  0.0073,\n",
              "         -0.0140,  0.0291, -0.0171,  0.0083,  0.0353,  0.0073,  0.0331,  0.0091,\n",
              "          0.0308, -0.0143,  0.0315, -0.0248,  0.0052, -0.0245,  0.0036, -0.0115,\n",
              "         -0.0064,  0.0258, -0.0132,  0.0014,  0.0093, -0.0215, -0.0245, -0.0297,\n",
              "          0.0339, -0.0167, -0.0066,  0.0071,  0.0199,  0.0033,  0.0044,  0.0253,\n",
              "         -0.0293,  0.0107,  0.0292, -0.0043, -0.0049,  0.0273, -0.0156, -0.0225,\n",
              "         -0.0226,  0.0265, -0.0277,  0.0233,  0.0257,  0.0129, -0.0280, -0.0106,\n",
              "         -0.0220,  0.0207, -0.0319,  0.0036, -0.0076,  0.0210,  0.0290, -0.0156,\n",
              "         -0.0354,  0.0180,  0.0184, -0.0083,  0.0268,  0.0282,  0.0051,  0.0325],\n",
              "        requires_grad=True), Parameter containing:\n",
              " tensor([[ 2.0836e-02, -4.7018e-02,  7.6314e-04,  1.0770e-02, -3.2167e-02,\n",
              "          -2.3623e-02,  3.7287e-02,  1.8391e-02, -5.3973e-02,  3.8316e-02,\n",
              "           3.6435e-02, -1.3673e-02,  4.7799e-02, -3.8183e-02, -1.9218e-02,\n",
              "          -2.5648e-02, -5.7413e-02,  2.7012e-02, -5.7750e-02,  5.4756e-03,\n",
              "          -2.9468e-02,  3.1635e-02, -5.3390e-02, -5.9556e-03,  3.8742e-02,\n",
              "           5.9698e-02, -3.7980e-02,  8.5680e-03, -2.6443e-02,  2.2627e-02,\n",
              "           1.0212e-02,  1.6619e-02, -3.9730e-02,  1.3681e-02,  5.9552e-02,\n",
              "           5.0311e-02, -1.4964e-03,  4.7657e-02,  3.7062e-02, -1.9298e-02,\n",
              "          -2.3618e-02,  5.7902e-03, -3.9679e-02,  3.9369e-02,  4.9593e-02,\n",
              "          -2.0989e-02,  1.3969e-02,  4.8440e-02, -3.0265e-02, -3.9001e-02,\n",
              "          -5.8466e-02,  3.5306e-02, -6.5731e-03, -1.3581e-02,  1.4494e-02,\n",
              "           5.3262e-02, -6.0890e-02, -4.1574e-02, -1.2725e-02,  2.6089e-02,\n",
              "           5.0784e-03,  5.5316e-02, -3.5418e-02,  8.1399e-03, -5.0103e-02,\n",
              "          -3.9985e-02,  8.9647e-03, -5.7274e-02,  5.7295e-02, -5.9879e-02,\n",
              "          -4.2344e-02,  1.5991e-02, -1.8506e-03, -3.7437e-02,  2.8200e-02,\n",
              "          -4.2454e-02,  5.3270e-02, -5.2603e-02, -5.1538e-02,  5.7084e-02,\n",
              "          -5.1513e-02, -2.8858e-03,  2.7290e-02,  5.2010e-02, -4.3377e-04,\n",
              "          -4.3810e-02, -1.8646e-02,  4.3856e-02,  5.2133e-02,  5.4639e-02,\n",
              "          -5.6903e-02, -3.9184e-02, -4.0743e-02,  4.4071e-02,  4.9619e-02,\n",
              "          -3.8947e-02, -4.3565e-02, -5.5509e-03, -2.0276e-02,  5.7492e-02,\n",
              "          -7.7177e-03, -3.0367e-02, -3.3257e-02,  1.6091e-02, -4.7806e-02,\n",
              "           2.3250e-02,  8.4320e-03, -3.0683e-02, -4.4068e-02, -9.1095e-03,\n",
              "          -1.3908e-02,  9.7927e-03,  1.4550e-02,  3.3581e-02,  5.3592e-02,\n",
              "          -5.3501e-02,  6.2156e-02,  3.3053e-02,  5.9646e-02, -1.1280e-02,\n",
              "          -5.6005e-02,  3.4868e-02, -5.4085e-02,  3.9489e-02, -2.8302e-02,\n",
              "           2.4233e-02, -1.7458e-02,  4.9775e-02, -5.2305e-02,  3.6235e-02,\n",
              "          -8.2458e-03, -4.9408e-02,  3.5763e-02,  4.9834e-02,  2.6573e-02,\n",
              "           2.0548e-02, -7.0328e-03,  2.1526e-02,  5.1751e-02, -4.7370e-02,\n",
              "          -4.5173e-02, -5.8575e-02,  3.2617e-02, -3.4587e-02, -4.2671e-04,\n",
              "           3.4639e-02, -5.1119e-02, -9.3833e-03,  5.3996e-02,  4.9043e-02,\n",
              "          -9.7457e-03, -2.0359e-02,  2.6217e-02, -4.9229e-02,  5.4961e-02,\n",
              "          -3.5382e-02, -6.0385e-02, -5.4343e-02,  1.7557e-02,  4.3106e-02,\n",
              "           9.2927e-03, -4.9928e-02,  4.6241e-02,  2.7443e-02,  2.7760e-02,\n",
              "          -5.5426e-02,  1.8030e-02,  4.2533e-02, -3.8083e-02, -2.6865e-02,\n",
              "           3.9667e-02,  2.8305e-02, -1.1948e-02,  2.3607e-02, -1.9900e-02,\n",
              "           3.4817e-03,  2.8871e-02,  3.8233e-02,  4.5628e-02, -5.0860e-02,\n",
              "           4.4556e-02,  7.0900e-05, -9.3311e-03, -5.4670e-02, -5.9078e-02,\n",
              "          -6.2488e-02,  3.5375e-02, -5.9207e-03,  4.0562e-02, -1.0316e-02,\n",
              "           5.1489e-02, -1.4441e-02,  4.2442e-02,  5.7502e-02, -5.7284e-02,\n",
              "           2.9596e-02,  4.1222e-02, -2.3010e-02,  5.6756e-02, -3.6124e-02,\n",
              "           5.6563e-02, -1.6939e-02,  3.1525e-02, -1.8768e-02,  6.7403e-03,\n",
              "          -4.9040e-02,  3.9362e-02, -3.8781e-02, -3.5369e-02,  2.3675e-02,\n",
              "          -5.2788e-02,  1.2933e-02, -3.7625e-02,  4.5861e-02,  1.2029e-02,\n",
              "          -6.2205e-03,  3.8707e-02,  3.0319e-02,  2.4442e-02,  3.4974e-02,\n",
              "          -2.5634e-02,  8.5749e-03,  2.7661e-02,  5.7579e-02, -1.8257e-02,\n",
              "          -4.5737e-02,  2.5766e-02, -5.4705e-02,  4.8962e-02,  4.7396e-02,\n",
              "          -2.7910e-02,  4.8877e-02,  8.9342e-03, -7.6831e-03,  2.8181e-03,\n",
              "           2.0593e-03, -5.9281e-02,  2.3991e-02,  4.8346e-02, -3.0634e-02,\n",
              "          -2.3159e-02, -3.8989e-02, -4.6258e-02,  1.5976e-02,  5.0398e-02,\n",
              "           3.0287e-02, -4.6403e-02, -7.6079e-03,  6.1370e-02, -5.0598e-02,\n",
              "          -8.2907e-03,  5.3693e-02, -4.9071e-02,  3.2591e-02,  3.5290e-02,\n",
              "           5.8386e-02]], requires_grad=True), Parameter containing:\n",
              " tensor([-0.0206], requires_grad=True)]"
            ]
          },
          "metadata": {
            "tags": []
          },
          "execution_count": 77
        }
      ]
    },
    {
      "cell_type": "markdown",
      "metadata": {
        "id": "6rikyMv6Q6Jr",
        "colab_type": "text"
      },
      "source": [
        "# Обучим нашу модель"
      ]
    },
    {
      "cell_type": "code",
      "metadata": {
        "id": "p6WcKe1iQ6Jt",
        "colab_type": "code",
        "colab": {}
      },
      "source": [
        "# давайте сохранять значения нашей функции потерь каждую итерацию обучения\n",
        "losses = []\n",
        "\n",
        "# эта штука отдает нам батчи данных\n",
        "# мы поговорим больше про нее позже в курсе\n",
        "for x, y in train_loader:\n",
        "\n",
        "    x = x.view(x.shape[0], -1)\n",
        "    y = y.unsqueeze(1).float()\n",
        "    \n",
        "    # обновим наши градиенты\n",
        "    # будем делать это каждую итерацию обучения\n",
        "    # потому что торч сохраняет в себе все градиенты пока не удалите таким образом рассчитанные градиенты\n",
        "    # \n",
        "    # НЕОБЯЗАТЕЛЬНЫЕ ДЕТАЛИ\n",
        "    # функция сохранения градиентов нужна для аккамуляции градиентов\n",
        "    # например, когда нам не хватает памяти на большой батч\n",
        "    # мы можем несколько раз прогнать forward на разных батчах\n",
        "    # наши градиенты будут сохраняться\n",
        "    # и только потом обновить через несколько итераций forward обновить наши веса\n",
        "    # таким образом у нас получается больше батч\n",
        "    # \n",
        "    optimizer.zero_grad()\n",
        "    \n",
        "    # \n",
        "    # предсказание нашей модели\n",
        "    # здесь торч сам сохраняет необходимую информацию\n",
        "    # чтобы понять эту логику у нас как раз и была часть домашки про собственные классы\n",
        "    # \n",
        "    # торч строит граф вычислений\n",
        "    # то есть строит граф по тем операциям, которые вы определили в методе forward\n",
        "    # \n",
        "    # то есть торч понимает, что вы сначала применили линейное преобразование\n",
        "    # знает, где лежат веса для этого линейного преобразования\n",
        "    # знает, что вы затем применили relu\n",
        "    # затем опять линейное преобразование\n",
        "    # затем сигмоиду\n",
        "    # и вот таким образом торч выстроил граф\n",
        "    # который нужен будет для backpropogation\n",
        "    # \n",
        "    pred = model(x)\n",
        "    \n",
        "    # \n",
        "    # рассчитываем функцию потерь, добавляя в наш граф вычислений этот узел\n",
        "    # \n",
        "    loss = criterion(pred, y.float())\n",
        "    \n",
        "    # \n",
        "    # вызываем метод backward() от нашей функции потерь (это крайний узел нашего графа вычислений)\n",
        "    # этот метод проходит от конца графа в начало, вычисляя необходимые градиенты\n",
        "    # передаем градиенты на следующие узлы\n",
        "    # для весов сохраняет\n",
        "    # \n",
        "    # то есть это почти то же самое, что мы делали в домашке с классами\n",
        "    # \n",
        "    loss.backward()\n",
        "    \n",
        "    # \n",
        "    # теперь мы знаем необходимые градиенты и можем обновить веса с помощью градиентного спуска\n",
        "    # \n",
        "    optimizer.step()\n",
        "    \n",
        "    # \n",
        "    # сохраним текущее значение функции потерь, чтобы потом могли посмотреть на график\n",
        "    # очень важный момент: нам нужно отсоединить значение нашей фунции потерь от графа вычислений\n",
        "    # чтобы граф не строился дальше на каждой итерации обучения\n",
        "    # так мы рано или поздно переполним память\n",
        "    # поэтому вызываем этот метод\n",
        "    # работает для скаляров\n",
        "    # \n",
        "    # для тензоров работает метод .tolist()\n",
        "    # \n",
        "    current_loss_value = loss.item()\n",
        "    losses.append(loss.item())"
      ],
      "execution_count": null,
      "outputs": []
    },
    {
      "cell_type": "code",
      "metadata": {
        "id": "B6_KnQOHQ6J3",
        "colab_type": "code",
        "colab": {}
      },
      "source": [
        "# Одна эпоха прошла"
      ],
      "execution_count": null,
      "outputs": []
    },
    {
      "cell_type": "code",
      "metadata": {
        "id": "VBNC0_HjQ6KB",
        "colab_type": "code",
        "colab": {},
        "outputId": "3a41eef7-e044-47ea-d36f-db6124fd9761"
      },
      "source": [
        "plt.figure(figsize=(14, 12))\n",
        "plt.plot(losses)\n",
        "plt.grid()\n",
        "plt.title('Training process')\n",
        "plt.xlabel('Iterations')\n",
        "plt.ylabel('Loss function');"
      ],
      "execution_count": null,
      "outputs": [
        {
          "output_type": "display_data",
          "data": {
            "image/png": "[encoded data removed]",
            "text/plain": [
              "<Figure size 1008x864 with 1 Axes>"
            ]
          },
          "metadata": {
            "tags": [],
            "needs_background": "light"
          }
        }
      ]
    },
    {
      "cell_type": "markdown",
      "metadata": {
        "id": "AmeUsBFCQ6KP",
        "colab_type": "text"
      },
      "source": [
        "# Теперь мы можем что-то предсказать"
      ]
    },
    {
      "cell_type": "code",
      "metadata": {
        "id": "hnwrs4WHQ6KQ",
        "colab_type": "code",
        "colab": {}
      },
      "source": [
        "for x, y in test_loader:\n",
        "\n",
        "    x = x.view(x.shape[0], -1)\n",
        "    y = y.unsqueeze(1).float()\n",
        "    \n",
        "    # чтобы не ходить по всему тестовому датасету, прекратим ходить после первой итерации\n",
        "    break"
      ],
      "execution_count": null,
      "outputs": []
    },
    {
      "cell_type": "code",
      "metadata": {
        "id": "D-Lmd0LgQ6KX",
        "colab_type": "code",
        "colab": {},
        "outputId": "9b9b235e-0fea-40e6-965f-a26894097b21"
      },
      "source": [
        "x.shape"
      ],
      "execution_count": null,
      "outputs": [
        {
          "output_type": "execute_result",
          "data": {
            "text/plain": [
              "torch.Size([128, 784])"
            ]
          },
          "metadata": {
            "tags": []
          },
          "execution_count": 82
        }
      ]
    },
    {
      "cell_type": "code",
      "metadata": {
        "id": "C-Vq1CypQ6Kn",
        "colab_type": "code",
        "colab": {},
        "outputId": "87bfa67d-4d0f-499e-c05a-4d1fa6050f63"
      },
      "source": [
        "y.shape"
      ],
      "execution_count": null,
      "outputs": [
        {
          "output_type": "execute_result",
          "data": {
            "text/plain": [
              "torch.Size([128, 1])"
            ]
          },
          "metadata": {
            "tags": []
          },
          "execution_count": 83
        }
      ]
    },
    {
      "cell_type": "code",
      "metadata": {
        "id": "POXkppGWQ6Kw",
        "colab_type": "code",
        "colab": {},
        "outputId": "24a1ca9f-f5ad-48b0-f15f-68f86001a072"
      },
      "source": [
        "# переходим в режим предсказания\n",
        "# \n",
        "# позже в курсе мы разберем зачем конкретно это нужно\n",
        "# некоторые детали:\n",
        "# дропаут больше не зануляет часть значений, \n",
        "# батч норм больше не нормирует каждый батч, а использует накопленную статистику при обучении и тд\n",
        "# \n",
        "model.eval()"
      ],
      "execution_count": null,
      "outputs": [
        {
          "output_type": "execute_result",
          "data": {
            "text/plain": [
              "MLP(\n",
              "  (linear_1): Linear(in_features=784, out_features=256, bias=True)\n",
              "  (non_linear_function): ReLU()\n",
              "  (linear_2): Linear(in_features=256, out_features=1, bias=True)\n",
              "  (sigmoid): Sigmoid()\n",
              ")"
            ]
          },
          "metadata": {
            "tags": []
          },
          "execution_count": 84
        }
      ]
    },
    {
      "cell_type": "code",
      "metadata": {
        "id": "Hif_NyLTQ6K-",
        "colab_type": "code",
        "colab": {}
      },
      "source": [
        "# этот контект позволяет не сохранять необходимую информацию для рассчета градиентов\n",
        "# нам сейчас нужен только forward проход\n",
        "# мы не собираемся обновлять веса\n",
        "with torch.no_grad():\n",
        "\n",
        "    pred = model(x)"
      ],
      "execution_count": null,
      "outputs": []
    },
    {
      "cell_type": "code",
      "metadata": {
        "id": "16mpjInSQ6LQ",
        "colab_type": "code",
        "colab": {},
        "outputId": "9f2a6ece-af99-481c-ddc7-895bab6f7cc0"
      },
      "source": [
        "pred.shape"
      ],
      "execution_count": null,
      "outputs": [
        {
          "output_type": "execute_result",
          "data": {
            "text/plain": [
              "torch.Size([128, 1])"
            ]
          },
          "metadata": {
            "tags": []
          },
          "execution_count": 86
        }
      ]
    },
    {
      "cell_type": "code",
      "metadata": {
        "id": "FUzNdrqiQ6La",
        "colab_type": "code",
        "colab": {}
      },
      "source": [
        "# избавимся от единичной размерности\n",
        "pred = pred.squeeze()\n",
        "y = y.squeeze()"
      ],
      "execution_count": null,
      "outputs": []
    },
    {
      "cell_type": "code",
      "metadata": {
        "id": "dzwu3Xd-Q6Li",
        "colab_type": "code",
        "colab": {},
        "outputId": "4d6bd522-dbc9-4ec2-ad1c-6635505d086f"
      },
      "source": [
        "pred.shape"
      ],
      "execution_count": null,
      "outputs": [
        {
          "output_type": "execute_result",
          "data": {
            "text/plain": [
              "torch.Size([128])"
            ]
          },
          "metadata": {
            "tags": []
          },
          "execution_count": 88
        }
      ]
    },
    {
      "cell_type": "code",
      "metadata": {
        "id": "PsqdyKPhQ6Lw",
        "colab_type": "code",
        "colab": {}
      },
      "source": [
        "# таким образом из торчовых тензоров мы можем сделать нумпаевские массивы\n",
        "pred = pred.numpy()\n",
        "y = y.numpy()"
      ],
      "execution_count": null,
      "outputs": []
    },
    {
      "cell_type": "code",
      "metadata": {
        "id": "_9C753U7Q6L3",
        "colab_type": "code",
        "colab": {},
        "outputId": "6cc73711-f44e-40ae-c488-d2169c621444"
      },
      "source": [
        "y"
      ],
      "execution_count": null,
      "outputs": [
        {
          "output_type": "execute_result",
          "data": {
            "text/plain": [
              "array([1., 1., 0., 1., 0., 0., 1., 1., 1., 0., 0., 1., 0., 1., 0., 1., 1.,\n",
              "       0., 1., 1., 1., 1., 0., 0., 0., 1., 1., 0., 1., 1., 1., 1., 1., 0.,\n",
              "       1., 0., 1., 0., 1., 0., 0., 0., 0., 0., 1., 1., 1., 0., 0., 1., 1.,\n",
              "       0., 1., 1., 1., 1., 0., 1., 1., 1., 0., 0., 0., 0., 1., 0., 0., 1.,\n",
              "       0., 0., 1., 0., 1., 0., 0., 1., 0., 0., 1., 1., 1., 1., 0., 1., 0.,\n",
              "       0., 0., 0., 0., 0., 1., 1., 0., 1., 0., 0., 0., 1., 0., 1., 0., 0.,\n",
              "       0., 0., 0., 1., 1., 1., 1., 0., 0., 0., 0., 0., 0., 1., 1., 0., 0.,\n",
              "       1., 0., 1., 1., 0., 1., 0., 0., 1.], dtype=float32)"
            ]
          },
          "metadata": {
            "tags": []
          },
          "execution_count": 90
        }
      ]
    },
    {
      "cell_type": "code",
      "metadata": {
        "id": "jXy4nHRlQ6MB",
        "colab_type": "code",
        "colab": {},
        "outputId": "7457a463-8652-46c7-8e50-8fab464d5e71"
      },
      "source": [
        "type(y)"
      ],
      "execution_count": null,
      "outputs": [
        {
          "output_type": "execute_result",
          "data": {
            "text/plain": [
              "numpy.ndarray"
            ]
          },
          "metadata": {
            "tags": []
          },
          "execution_count": 91
        }
      ]
    },
    {
      "cell_type": "code",
      "metadata": {
        "id": "z0IBMJF-Q6MH",
        "colab_type": "code",
        "colab": {}
      },
      "source": [
        "# бинаризируем наши предсказания\n",
        "pred[pred > 0.5] = 1\n",
        "pred[pred <= 0.5] = 0"
      ],
      "execution_count": null,
      "outputs": []
    },
    {
      "cell_type": "code",
      "metadata": {
        "id": "Jur9fn-TQ6MQ",
        "colab_type": "code",
        "colab": {},
        "outputId": "614d9864-9e89-4375-b119-3002cbb3117d"
      },
      "source": [
        "# посчитаем метрику на батче\n",
        "accuracy_score(y, pred)"
      ],
      "execution_count": null,
      "outputs": [
        {
          "output_type": "execute_result",
          "data": {
            "text/plain": [
              "0.953125"
            ]
          },
          "metadata": {
            "tags": []
          },
          "execution_count": 93
        }
      ]
    },
    {
      "cell_type": "code",
      "metadata": {
        "id": "GkI-2KL1Q6MV",
        "colab_type": "code",
        "colab": {}
      },
      "source": [
        "# заново определим нашу модель и выучимся несколько эпох\n",
        "# будут уже новые параметры\n",
        "model = MLP(in_features=784, inner_features=256, out_features=1)\n",
        "\n",
        "criterion = torch.nn.BCELoss()\n",
        "# мы позже поговорим про этот оптимизационный алгоритм\n",
        "# но вообще это тот же SGD, но с некоторыми хаками\n",
        "optimizer = torch.optim.Adam(params=model.parameters())"
      ],
      "execution_count": null,
      "outputs": []
    },
    {
      "cell_type": "markdown",
      "metadata": {
        "id": "tRUfcOzuQ6Mc",
        "colab_type": "text"
      },
      "source": [
        "# Типичный цикл обучения с кучей сохранений лоссов"
      ]
    },
    {
      "cell_type": "code",
      "metadata": {
        "id": "Y_2RTepeQ6Md",
        "colab_type": "code",
        "colab": {},
        "outputId": "796c46bd-84c6-49cb-ffd0-7f94f881fa46"
      },
      "source": [
        "epochs = 10\n",
        "losses = []\n",
        "# нужно для early stopping, то есть трекать лучший лосс на валидации\n",
        "best_test_loss = 10.\n",
        "\n",
        "for n_epoch in range(epochs):\n",
        "    \n",
        "    train_losses = []\n",
        "    test_losses = []\n",
        "    test_preds = []\n",
        "    test_targets = []\n",
        "    \n",
        "    progress_bar = tqdm(total=len(train_loader.dataset), desc='Epoch {}'.format(n_epoch + 1))\n",
        "    \n",
        "    for x, y in train_loader:\n",
        "        \n",
        "        x = x.view(x.shape[0], -1)\n",
        "        y = y.unsqueeze(1).float()\n",
        "        \n",
        "        optimizer.zero_grad()\n",
        "        \n",
        "        pred = model(x)\n",
        "        \n",
        "        loss = criterion(pred, y.float())\n",
        "        \n",
        "        loss.backward()\n",
        "        \n",
        "        optimizer.step()\n",
        "        \n",
        "        train_losses.append(loss.item())\n",
        "        losses.append(loss.item())\n",
        "        \n",
        "        progress_bar.set_postfix(train_loss = np.mean(losses[-100:]))\n",
        "\n",
        "        progress_bar.update(x.shape[0])\n",
        "        \n",
        "    progress_bar.close()\n",
        "    \n",
        "    for x, y in test_loader:\n",
        "        \n",
        "        x = x.view(x.shape[0], -1)\n",
        "        y = y.unsqueeze(1).float()\n",
        "\n",
        "        with torch.no_grad():\n",
        "            \n",
        "            pred = model(x)\n",
        "            \n",
        "        test_preds.append(pred.numpy())\n",
        "        test_targets.append(y.numpy())\n",
        "\n",
        "        loss = criterion(pred, y)\n",
        "\n",
        "        test_losses.append(loss.item())\n",
        "        \n",
        "    mean_test_loss = np.mean(test_losses)\n",
        "        \n",
        "    print('Losses: train - {:.3f}, test = {:.3f}'.format(np.mean(train_losses), mean_test_loss))\n",
        "    \n",
        "    test_preds = np.concatenate(test_preds)\n",
        "    test_preds = test_preds.squeeze()\n",
        "    test_targets = np.concatenate(test_targets).squeeze()\n",
        "    \n",
        "    test_preds[test_preds > 0.5] = 1\n",
        "    test_preds[test_preds <= 0.5] = 0\n",
        "    \n",
        "    accurary = accuracy_score(test_targets, test_preds)\n",
        "\n",
        "    print('Test: accuracy - {:.3f}'.format(accurary))\n",
        "        \n",
        "    # early stopping\n",
        "    # то есть: если наша функция потерь на валидационном датасете стала расти, то прекращаем обучение\n",
        "    # рост фунции потерь на валидационном датасете говорит о переобучении\n",
        "    if mean_test_loss < best_test_loss:\n",
        "        best_test_loss = mean_test_loss\n",
        "    else:\n",
        "        print('Early stopping')\n",
        "        break    "
      ],
      "execution_count": null,
      "outputs": [
        {
          "output_type": "stream",
          "text": [
            "Epoch 1: 100%|██████████| 12396/12396 [00:02<00:00, 5310.30it/s, train_loss=0.0657]\n",
            "Epoch 2:   7%|▋         | 896/12396 [00:00<00:02, 5670.09it/s, train_loss=0.0484]"
          ],
          "name": "stderr"
        },
        {
          "output_type": "stream",
          "text": [
            "Losses: train - 0.066, test = 0.053\n",
            "Test: accuracy - 0.982\n"
          ],
          "name": "stdout"
        },
        {
          "output_type": "stream",
          "text": [
            "Epoch 2: 100%|██████████| 12396/12396 [00:02<00:00, 5621.27it/s, train_loss=0.0261]\n",
            "Epoch 3:   7%|▋         | 896/12396 [00:00<00:01, 5849.55it/s, train_loss=0.0251]"
          ],
          "name": "stderr"
        },
        {
          "output_type": "stream",
          "text": [
            "Losses: train - 0.026, test = 0.027\n",
            "Test: accuracy - 0.989\n"
          ],
          "name": "stdout"
        },
        {
          "output_type": "stream",
          "text": [
            "Epoch 3: 100%|██████████| 12396/12396 [00:02<00:00, 5689.22it/s, train_loss=0.0157]\n",
            "Epoch 4:   8%|▊         | 1024/12396 [00:00<00:01, 5858.12it/s, train_loss=0.0147]"
          ],
          "name": "stderr"
        },
        {
          "output_type": "stream",
          "text": [
            "Losses: train - 0.015, test = 0.024\n",
            "Test: accuracy - 0.992\n"
          ],
          "name": "stdout"
        },
        {
          "output_type": "stream",
          "text": [
            "Epoch 4: 100%|██████████| 12396/12396 [00:02<00:00, 5679.98it/s, train_loss=0.0107]\n",
            "Epoch 5:   7%|▋         | 896/12396 [00:00<00:01, 5810.79it/s, train_loss=0.011] "
          ],
          "name": "stderr"
        },
        {
          "output_type": "stream",
          "text": [
            "Losses: train - 0.011, test = 0.022\n",
            "Test: accuracy - 0.992\n"
          ],
          "name": "stdout"
        },
        {
          "output_type": "stream",
          "text": [
            "Epoch 5: 100%|██████████| 12396/12396 [00:02<00:00, 5580.47it/s, train_loss=0.00597]\n"
          ],
          "name": "stderr"
        },
        {
          "output_type": "stream",
          "text": [
            "Losses: train - 0.006, test = 0.022\n",
            "Test: accuracy - 0.992\n",
            "Early stopping\n"
          ],
          "name": "stdout"
        }
      ]
    },
    {
      "cell_type": "code",
      "metadata": {
        "id": "6Y8nk5lKQ6Mi",
        "colab_type": "code",
        "colab": {},
        "outputId": "cd0d3edb-d11e-4463-b766-14493633c86c"
      },
      "source": [
        "plt.figure(figsize=(14, 12))\n",
        "plt.plot(losses)\n",
        "plt.grid()\n",
        "plt.title('Training process')\n",
        "plt.xlabel('Iterations')\n",
        "plt.ylabel('Loss function');"
      ],
      "execution_count": null,
      "outputs": [
        {
          "output_type": "display_data",
          "data": {
            "image/png": "[encoded data removed]",
            "text/plain": [
              "<Figure size 1008x864 with 1 Axes>"
            ]
          },
          "metadata": {
            "tags": [],
            "needs_background": "light"
          }
        }
      ]
    },
    {
      "cell_type": "markdown",
      "metadata": {
        "id": "piBD_OO7Q6Mo",
        "colab_type": "text"
      },
      "source": [
        "# One more deeper\n",
        "## Пойдем глубже раскрывать суть лего в глубоком обучении\n",
        "Атомарной частью торча является ```torch.nn.Parameter``` - обучаемый вес.  \n",
        "По сути это такой же тензор, но только мы говорим торчу, что мы хотим, чтобы торч сохранял градиент для этого веса, \n",
        "чтобы обновить его при градиентном шаге оптимизатора\n",
        "\n",
        "```torch.nn.Parameter(data=None, requires_grad=True)```  \n",
        "В дефолтном варианте для тензора мы не требуем сохранять градиент, но можем потребовать и тогда наш тензор станет обучаемым весом  \n",
        "```tensor(data, dtype=None, device=None, requires_grad=False)```"
      ]
    },
    {
      "cell_type": "code",
      "metadata": {
        "id": "tSweSouUQ6Mp",
        "colab_type": "code",
        "colab": {},
        "outputId": "65f44d88-48cf-47c3-d497-183820308673"
      },
      "source": [
        "parampampam = torch.nn.Parameter(torch.rand(50))\n",
        "parampampam"
      ],
      "execution_count": null,
      "outputs": [
        {
          "output_type": "execute_result",
          "data": {
            "text/plain": [
              "Parameter containing:\n",
              "tensor([0.6765, 0.6291, 0.8897, 0.8332, 0.4532, 0.6474, 0.1170, 0.4848, 0.7145,\n",
              "        0.5726, 0.8602, 0.5012, 0.3940, 0.4693, 0.5787, 0.6087, 0.9681, 0.9121,\n",
              "        0.1678, 0.4643, 0.5722, 0.0650, 0.8282, 0.9466, 0.0076, 0.4634, 0.6401,\n",
              "        0.3052, 0.4491, 0.9428, 0.5724, 0.0652, 0.0134, 0.3274, 0.0229, 0.0876,\n",
              "        0.7551, 0.5834, 0.9055, 0.2912, 0.1975, 0.5561, 0.5369, 0.5984, 0.1102,\n",
              "        0.0741, 0.2823, 0.2999, 0.1386, 0.8499], requires_grad=True)"
            ]
          },
          "metadata": {
            "tags": []
          },
          "execution_count": 97
        }
      ]
    },
    {
      "cell_type": "code",
      "metadata": {
        "id": "fQf-0932Q6Mx",
        "colab_type": "code",
        "colab": {}
      },
      "source": [
        "x = torch.rand(32, 50)"
      ],
      "execution_count": null,
      "outputs": []
    },
    {
      "cell_type": "code",
      "metadata": {
        "id": "kn10e126Q6M2",
        "colab_type": "code",
        "colab": {}
      },
      "source": [
        "result = parampampam - x"
      ],
      "execution_count": null,
      "outputs": []
    },
    {
      "cell_type": "code",
      "metadata": {
        "id": "Dgk-R6sVQ6ND",
        "colab_type": "code",
        "colab": {},
        "outputId": "f52ecf73-5032-424d-a5d7-ee5ae3f6437e"
      },
      "source": [
        "result"
      ],
      "execution_count": null,
      "outputs": [
        {
          "output_type": "execute_result",
          "data": {
            "text/plain": [
              "tensor([[ 0.4822, -0.2324,  0.4969,  ..., -0.6747,  0.0034,  0.1174],\n",
              "        [ 0.5627,  0.4203,  0.6759,  ..., -0.6563,  0.0878,  0.0150],\n",
              "        [ 0.6324,  0.4176, -0.0564,  ..., -0.3579, -0.1785,  0.7980],\n",
              "        ...,\n",
              "        [ 0.2495,  0.2776,  0.5789,  ..., -0.6311, -0.4741,  0.4814],\n",
              "        [ 0.3657, -0.3540, -0.0314,  ..., -0.3992, -0.1963,  0.6425],\n",
              "        [ 0.6192,  0.3689,  0.4614,  ...,  0.0827,  0.0238, -0.0178]],\n",
              "       grad_fn=<SubBackward0>)"
            ]
          },
          "metadata": {
            "tags": []
          },
          "execution_count": 100
        }
      ]
    },
    {
      "cell_type": "markdown",
      "metadata": {
        "id": "N1Hy-6VTQ6NP",
        "colab_type": "text"
      },
      "source": [
        "### Можно заметить, что у тензора result теперь есть атрибут grad_fn\n",
        "Это функция, по которой нужно рассчитывать градиент  \n",
        "И это говорит о том, что теперь у нас есть граф вычислений"
      ]
    },
    {
      "cell_type": "code",
      "metadata": {
        "id": "b3ggr3w9Q6NQ",
        "colab_type": "code",
        "colab": {},
        "outputId": "bcff4d36-02d1-4201-b164-3e34a6c0f723"
      },
      "source": [
        "result.grad_fn"
      ],
      "execution_count": null,
      "outputs": [
        {
          "output_type": "execute_result",
          "data": {
            "text/plain": [
              "<SubBackward0 at 0x12f8db5f8>"
            ]
          },
          "metadata": {
            "tags": []
          },
          "execution_count": 101
        }
      ]
    },
    {
      "cell_type": "markdown",
      "metadata": {
        "id": "qrbY1WsyQ6Nd",
        "colab_type": "text"
      },
      "source": [
        "### И мы можем продолжать наш граф"
      ]
    },
    {
      "cell_type": "code",
      "metadata": {
        "id": "CDdiYQyLQ6Ne",
        "colab_type": "code",
        "colab": {}
      },
      "source": [
        "result_end = torch.sigmoid(result)"
      ],
      "execution_count": null,
      "outputs": []
    },
    {
      "cell_type": "code",
      "metadata": {
        "id": "hsKdwLhPQ6Nk",
        "colab_type": "code",
        "colab": {},
        "outputId": "4c8ceefb-84a9-4f77-f6c5-174795dc3077"
      },
      "source": [
        "result_end"
      ],
      "execution_count": null,
      "outputs": [
        {
          "output_type": "execute_result",
          "data": {
            "text/plain": [
              "tensor([[0.6183, 0.4421, 0.6217,  ..., 0.3374, 0.5009, 0.5293],\n",
              "        [0.6371, 0.6035, 0.6628,  ..., 0.3416, 0.5219, 0.5037],\n",
              "        [0.6530, 0.6029, 0.4859,  ..., 0.4115, 0.4555, 0.6896],\n",
              "        ...,\n",
              "        [0.5620, 0.5690, 0.6408,  ..., 0.3472, 0.3837, 0.6181],\n",
              "        [0.5904, 0.4124, 0.4921,  ..., 0.4015, 0.4511, 0.6553],\n",
              "        [0.6500, 0.5912, 0.6133,  ..., 0.5207, 0.5059, 0.4955]],\n",
              "       grad_fn=<SigmoidBackward>)"
            ]
          },
          "metadata": {
            "tags": []
          },
          "execution_count": 103
        }
      ]
    },
    {
      "cell_type": "markdown",
      "metadata": {
        "id": "976TZEzEQ6Nq",
        "colab_type": "text"
      },
      "source": [
        "### Для примера того, когда у нас граф не строится\n",
        "Когда нам нечего оптимизировать!"
      ]
    },
    {
      "cell_type": "code",
      "metadata": {
        "id": "P7bovdTFQ6Nr",
        "colab_type": "code",
        "colab": {}
      },
      "source": [
        "z = torch.rand(50)"
      ],
      "execution_count": null,
      "outputs": []
    },
    {
      "cell_type": "code",
      "metadata": {
        "id": "8dRlG5cIQ6N0",
        "colab_type": "code",
        "colab": {}
      },
      "source": [
        "result_2 = torch.sigmoid(z - x)"
      ],
      "execution_count": null,
      "outputs": []
    },
    {
      "cell_type": "code",
      "metadata": {
        "id": "scSa7uaMQ6N4",
        "colab_type": "code",
        "colab": {},
        "outputId": "525db963-4963-42a1-b165-a1a508bee542"
      },
      "source": [
        "result_2"
      ],
      "execution_count": null,
      "outputs": [
        {
          "output_type": "execute_result",
          "data": {
            "text/plain": [
              "tensor([[0.4837, 0.5115, 0.5762,  ..., 0.2829, 0.5518, 0.5105],\n",
              "        [0.5038, 0.6679, 0.6192,  ..., 0.2866, 0.5726, 0.4849],\n",
              "        [0.5212, 0.6673, 0.4387,  ..., 0.3513, 0.5065, 0.6732],\n",
              "        ...,\n",
              "        [0.4261, 0.6355, 0.5961,  ..., 0.2918, 0.4330, 0.6001],\n",
              "        [0.4547, 0.4811, 0.4449,  ..., 0.3419, 0.5021, 0.6381],\n",
              "        [0.5179, 0.6564, 0.5675,  ..., 0.4569, 0.5568, 0.4767]])"
            ]
          },
          "metadata": {
            "tags": []
          },
          "execution_count": 106
        }
      ]
    },
    {
      "cell_type": "code",
      "metadata": {
        "id": "95vqcN06Q6N9",
        "colab_type": "code",
        "colab": {},
        "outputId": "ece1ca47-095b-440a-e5a1-a6f7c7deb020"
      },
      "source": [
        "# нет ссылки на функцию, по которой можем рассчитать градиент\n",
        "print(result_2.grad_fn)"
      ],
      "execution_count": null,
      "outputs": [
        {
          "output_type": "stream",
          "text": [
            "None\n"
          ],
          "name": "stdout"
        }
      ]
    },
    {
      "cell_type": "markdown",
      "metadata": {
        "id": "Bq9qYct4Q6OE",
        "colab_type": "text"
      },
      "source": [
        "# Обучаемые веса\n",
        "## Теперь мы знаем, что можем сами задавать веса\n",
        "Так давайте сделаем свой класс для линейного преобразования"
      ]
    },
    {
      "cell_type": "code",
      "metadata": {
        "id": "GqdaZ7twQ6OF",
        "colab_type": "code",
        "colab": {}
      },
      "source": [
        "class MyLinear(torch.nn.Module):\n",
        "    \n",
        "    def __init__(self, in_features, out_features):\n",
        "        \n",
        "        super().__init__()\n",
        "        \n",
        "        # задаем матрицу весов и смещение\n",
        "        self.weight = torch.nn.Parameter(torch.rand(in_features, out_features) * 0.01)\n",
        "        self.bias = torch.nn.Parameter(torch.zeros(out_features))\n",
        "        \n",
        "    def forward(self, x):\n",
        "        \n",
        "        return torch.matmul(x, self.weight) + self.bias"
      ],
      "execution_count": null,
      "outputs": []
    },
    {
      "cell_type": "markdown",
      "metadata": {
        "id": "pRReTm3hQ6OL",
        "colab_type": "text"
      },
      "source": [
        "## Вот таким образом можно написать свои функции и то, как их дифференцировать\n",
        "На практике встречается супер редко"
      ]
    },
    {
      "cell_type": "code",
      "metadata": {
        "id": "4NBf0RkZQ6OM",
        "colab_type": "code",
        "colab": {}
      },
      "source": [
        "class MyReLU(torch.autograd.Function):\n",
        "\n",
        "    @staticmethod\n",
        "    def forward(ctx, x):\n",
        "\n",
        "        ctx.save_for_backward(x)\n",
        "        \n",
        "        return x.clamp(min=0)\n",
        "\n",
        "    @staticmethod\n",
        "    def backward(ctx, grad_output):\n",
        "\n",
        "        x, = ctx.saved_tensors\n",
        "        grad_input = grad_output.clone()\n",
        "        grad_input[x < 0] = 0\n",
        "        \n",
        "        return grad_input"
      ],
      "execution_count": null,
      "outputs": []
    },
    {
      "cell_type": "code",
      "metadata": {
        "id": "S5FrI5UbQ6OV",
        "colab_type": "code",
        "colab": {}
      },
      "source": [
        "class MLP(torch.nn.Module):\n",
        "    \n",
        "    def __init__(self, in_features, inner_features, out_features):\n",
        "        \n",
        "        super().__init__()\n",
        "        \n",
        "        # слои определяются также как обычно\n",
        "        self.linear_1 = MyLinear(in_features=in_features, out_features=inner_features)\n",
        "        # обратите внимание как определяется своя функция\n",
        "        self.non_linear = MyReLU.apply\n",
        "        self.linear_2 = MyLinear(in_features=inner_features, out_features=out_features)\n",
        "        # еще один момент:\n",
        "        # мы сознательно не определяем сигмоиду\n",
        "        # \n",
        "        # Почему?\n",
        "        # В торче для NLL и Binary Cross Entropy \n",
        "        # есть более оптимальные слои, которые используют некоторые оптимизационные трюки\n",
        "        # \n",
        "        \n",
        "    def forward(self, x):\n",
        "        \n",
        "        x = self.linear_1(x)\n",
        "        x = self.non_linear(x)\n",
        "        x = self.linear_2(x)\n",
        "        \n",
        "        return x"
      ],
      "execution_count": null,
      "outputs": []
    },
    {
      "cell_type": "code",
      "metadata": {
        "id": "12caKv-_Q6Oa",
        "colab_type": "code",
        "colab": {}
      },
      "source": [
        "model = MLP(784, 256, 1)"
      ],
      "execution_count": null,
      "outputs": []
    },
    {
      "cell_type": "code",
      "metadata": {
        "id": "ecibaK8RQ6Ol",
        "colab_type": "code",
        "colab": {},
        "outputId": "29e0d9cb-d69c-45b6-f742-be387363a289"
      },
      "source": [
        "model"
      ],
      "execution_count": null,
      "outputs": [
        {
          "output_type": "execute_result",
          "data": {
            "text/plain": [
              "MLP(\n",
              "  (linear_1): MyLinear()\n",
              "  (linear_2): MyLinear()\n",
              ")"
            ]
          },
          "metadata": {
            "tags": []
          },
          "execution_count": 112
        }
      ]
    },
    {
      "cell_type": "code",
      "metadata": {
        "id": "Phy1pQF3Q6Oq",
        "colab_type": "code",
        "colab": {}
      },
      "source": [
        "# вот оптимизация для BCE \n",
        "# эта функция потерь объединяет в себе сигмоиду и BCE\n",
        "# и решает задачу более эффективно\n",
        "\n",
        "# \n",
        "# Для NLLLoss есть это CrossEntropy: https://pytorch.org/docs/stable/nn.html#crossentropyloss\n",
        "# \n",
        "# \n",
        "criterion = torch.nn.BCEWithLogitsLoss()\n",
        "\n",
        "optimizer = torch.optim.Adam(params=model.parameters())"
      ],
      "execution_count": null,
      "outputs": []
    },
    {
      "cell_type": "code",
      "metadata": {
        "id": "soexB38NQ6Ov",
        "colab_type": "code",
        "colab": {}
      },
      "source": [
        "# определим функцию для сигмоиды, чтобы использовать при тестировании\n",
        "def sigmoid(x):\n",
        "    \n",
        "    return 1 / (1 + np.exp(-x))"
      ],
      "execution_count": null,
      "outputs": []
    },
    {
      "cell_type": "code",
      "metadata": {
        "id": "nJBFyJDFQ6O2",
        "colab_type": "code",
        "colab": {},
        "outputId": "64b9c7b9-e227-4071-a2d8-7b41972d8933"
      },
      "source": [
        "epochs = 10\n",
        "losses = []\n",
        "best_test_loss = 10.\n",
        "\n",
        "for n_epoch in range(epochs):\n",
        "    \n",
        "    train_losses = []\n",
        "    test_losses = []\n",
        "    test_preds = []\n",
        "    test_targets = []\n",
        "    \n",
        "    progress_bar = tqdm(total=len(train_loader.dataset), desc='Epoch {}'.format(n_epoch + 1))\n",
        "    \n",
        "    for x, y in train_loader:\n",
        "        \n",
        "        x = x.view(x.shape[0], -1)\n",
        "        y = y.unsqueeze(1).float()\n",
        "        \n",
        "        optimizer.zero_grad()\n",
        "        \n",
        "        pred = model(x)\n",
        "        \n",
        "        loss = criterion(pred, y.float())\n",
        "        \n",
        "        loss.backward()\n",
        "        \n",
        "        optimizer.step()\n",
        "        \n",
        "        train_losses.append(loss.item())\n",
        "        losses.append(loss.item())\n",
        "        \n",
        "        progress_bar.set_postfix(train_loss = np.mean(losses[-100:]))\n",
        "\n",
        "        progress_bar.update(x.shape[0])\n",
        "        \n",
        "    progress_bar.close()\n",
        "    \n",
        "    for x, y in test_loader:\n",
        "        \n",
        "        x = x.view(x.shape[0], -1)\n",
        "        y = y.unsqueeze(1).float()\n",
        "\n",
        "        with torch.no_grad():\n",
        "            \n",
        "            pred = model(x)\n",
        "            \n",
        "        test_preds.append(pred.numpy())\n",
        "        test_targets.append(y.numpy())\n",
        "\n",
        "        loss = criterion(pred, y)\n",
        "\n",
        "        test_losses.append(loss.item())\n",
        "        \n",
        "    print('Losses: train - {:.3f}, test = {:.3f}'.format(np.mean(train_losses), np.mean(test_losses)))\n",
        "    \n",
        "    test_preds = np.concatenate(test_preds)\n",
        "    # Применяем сигмоиду\n",
        "    test_preds = sigmoid(test_preds.squeeze())\n",
        "    test_targets = np.concatenate(test_targets).squeeze()\n",
        "    \n",
        "    test_preds[test_preds > 0.5] = 1\n",
        "    test_preds[test_preds <= 0.5] = 0\n",
        "    \n",
        "    accurary = accuracy_score(test_targets, test_preds)\n",
        "\n",
        "    print('Test: accuracy - {:.3f}'.format(accurary))\n",
        "        \n",
        "    if np.mean(test_losses) < best_test_loss:\n",
        "        best_test_loss = np.mean(test_losses)\n",
        "    else:\n",
        "        print('Early stopping')\n",
        "        break    "
      ],
      "execution_count": null,
      "outputs": [
        {
          "output_type": "stream",
          "text": [
            "Epoch 1: 100%|██████████| 12396/12396 [00:02<00:00, 4733.33it/s, train_loss=0.196]\n",
            "Epoch 2:   6%|▌         | 768/12396 [00:00<00:02, 5117.26it/s, train_loss=0.165]"
          ],
          "name": "stderr"
        },
        {
          "output_type": "stream",
          "text": [
            "Losses: train - 0.196, test = 0.076\n",
            "Test: accuracy - 0.976\n"
          ],
          "name": "stdout"
        },
        {
          "output_type": "stream",
          "text": [
            "Epoch 2: 100%|██████████| 12396/12396 [00:02<00:00, 4859.75it/s, train_loss=0.0423]\n",
            "Epoch 3:   6%|▌         | 768/12396 [00:00<00:02, 4903.50it/s, train_loss=0.0411]"
          ],
          "name": "stderr"
        },
        {
          "output_type": "stream",
          "text": [
            "Losses: train - 0.042, test = 0.051\n",
            "Test: accuracy - 0.984\n"
          ],
          "name": "stdout"
        },
        {
          "output_type": "stream",
          "text": [
            "Epoch 3: 100%|██████████| 12396/12396 [00:02<00:00, 4873.03it/s, train_loss=0.0352]\n",
            "Epoch 4:   6%|▌         | 768/12396 [00:00<00:02, 5105.40it/s, train_loss=0.0328]"
          ],
          "name": "stderr"
        },
        {
          "output_type": "stream",
          "text": [
            "Losses: train - 0.033, test = 0.039\n",
            "Test: accuracy - 0.988\n"
          ],
          "name": "stdout"
        },
        {
          "output_type": "stream",
          "text": [
            "Epoch 4: 100%|██████████| 12396/12396 [00:02<00:00, 4888.25it/s, train_loss=0.0241]\n",
            "Epoch 5:   6%|▌         | 768/12396 [00:00<00:02, 4928.67it/s, train_loss=0.0253]"
          ],
          "name": "stderr"
        },
        {
          "output_type": "stream",
          "text": [
            "Losses: train - 0.024, test = 0.035\n",
            "Test: accuracy - 0.990\n"
          ],
          "name": "stdout"
        },
        {
          "output_type": "stream",
          "text": [
            "Epoch 5: 100%|██████████| 12396/12396 [00:02<00:00, 4859.23it/s, train_loss=0.0182]\n",
            "Epoch 6:   6%|▌         | 768/12396 [00:00<00:02, 5039.42it/s, train_loss=0.017] "
          ],
          "name": "stderr"
        },
        {
          "output_type": "stream",
          "text": [
            "Losses: train - 0.018, test = 0.029\n",
            "Test: accuracy - 0.991\n"
          ],
          "name": "stdout"
        },
        {
          "output_type": "stream",
          "text": [
            "Epoch 6: 100%|██████████| 12396/12396 [00:02<00:00, 4911.62it/s, train_loss=0.0156]\n"
          ],
          "name": "stderr"
        },
        {
          "output_type": "stream",
          "text": [
            "Losses: train - 0.015, test = 0.034\n",
            "Test: accuracy - 0.990\n",
            "Early stopping\n"
          ],
          "name": "stdout"
        }
      ]
    },
    {
      "cell_type": "code",
      "metadata": {
        "id": "DLqDpM5vQ6O7",
        "colab_type": "code",
        "colab": {}
      },
      "source": [
        ""
      ],
      "execution_count": null,
      "outputs": []
    }
  ]
}